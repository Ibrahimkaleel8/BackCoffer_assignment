{
 "cells": [
  {
   "cell_type": "markdown",
   "id": "b9312f26",
   "metadata": {},
   "source": [
    "# Data scraping"
   ]
  },
  {
   "cell_type": "code",
   "execution_count": 1,
   "id": "ef4785ca",
   "metadata": {},
   "outputs": [],
   "source": [
    "import nltk\n",
    "import requests\n",
    "from bs4 import BeautifulSoup"
   ]
  },
  {
   "cell_type": "code",
   "execution_count": 2,
   "id": "ac2f2459",
   "metadata": {},
   "outputs": [],
   "source": [
    "req = requests.get(\"https://insights.blackcoffer.com/environmental-impact-of-the-covid-19-pandemic-lesson-for-the-future/\")"
   ]
  },
  {
   "cell_type": "code",
   "execution_count": 3,
   "id": "45f9fa09",
   "metadata": {},
   "outputs": [],
   "source": [
    "soup = BeautifulSoup(req.content, \"html.parser\")\n",
    "res = soup.title\n",
    "paras = soup.find_all('p')"
   ]
  },
  {
   "cell_type": "code",
   "execution_count": 4,
   "id": "dbb256b2",
   "metadata": {
    "scrolled": true
   },
   "outputs": [
    {
     "name": "stdout",
     "output_type": "stream",
     "text": [
      "The Covid- 19 pandemics forced factories to shut down, flights getting canceled and a massive decrease in the global economy, with a significant decrease in Green House Gases (GHG) in many developed and developing countries. The SARS- CoV2 came into the spotlight in December 2019 and has impacted most of the countries till then. Nearly 131 million peoples were infected worldwide and resulting in deaths of around 2.9 Million according to World Health Organisation (WHO). Most of the countries dealt with the new virus by imposing strict lockdowns and social distancing to control the spread of the virus. These policies caused adverse effects worldwide. One of the most important impacts of the Covid-19 Pandemic is on the environment. There have been few positive impacts on the environment due to lockdown like, air pollution has decreased dramatically, as people were asked to stay in their houses due to the lockdowns. There has also been a sharp decline in environmental noise. Environmental noise can be well defined as the unwanted or harmful outdoor sounds caused by human activities like noise emitted by road traffics, air traffics, rail traffics, and industrial activities. It is one of the most important challenges in the modern era as noise pollution can cause adverse effects on humans as well as harm many animals too. The imposition of lockdown and quarantine by various nation’s governments has caused people to remain back at their homes. Because of this, the movement of people from one place to a different place has reduced significantly and the use of personal and public transport has also decreased. Due to all these changes, the environmental noise generated in most of the cities has dropped substantially.  Water Pollution at beaches have reduced significantly and many animals were spotted back in the cities, but the covid-19 virus has also generated many negative and indirect effect on the environment. To begin with, some of the developed countries have halted their sustainability program during the pandemic. In the United States and in many other European nation-States, waste recycling plants have been suspended in many municipalities and cities due to the concern of the virus getting spread at the recycling centers. This has resulted in an increase in the use of single-use plastic bags instead of the re-usable bags by many leading restaurants, firms, and corporations. For instance, Starbucks, a leading coffee company during the month of March 2020, has announced a short-lived ban on the utilization of recyclable and reusable cups. Furthermore, with most of the people staying indoors because of the lockdown majority of the department stores, shops, restaurants, and food outlets are closed, making an online purchase and food delivery are quite high. This has created more consumption and demand for fossil fuels due to the transportation and mobility of these goods to each individual. There has been an enormous upsurge of medical waste- because most of the products employed by healthcare professionals are usually single-use items that can be used only once before they are disposed of. Some of these wastes include used masks, personal protection kits, and gloves. For instance, nearly 200 tons of medical waste were generated during the peak of the pandemic breakout in Wuhan, China. This is 50 tones more than the average waste generated before the outbreak in Wuhan.  These organic and inorganic wastes generated due to the policies crafted by the government takes a heavy toll on the environment and can cause environmental issues like water pollution, air pollution, soil erosion, and can harm the local flora and fauna. The demand for masks during the pandemic has become skyrocketing but the materials required for the production of these masks are highly dangerous for the environment as they are generally composed of non-woven fabrics. Polyester, Polystyrene, polyethylene, and polycarbonate, are some common materials used for the surgical mask with density lying between 20grams to 25 grams/sq. meter. These materials are mostly resistant to liquids and are plastic-based products with a really high afterlife after being discarded. If not treated properly without discarding, they end up filling the landfills and the oceans making it dangerous to aquatic lifeforms. For example, recently the environment in Hong Kong has started degrading drastically during the pandemic with the accumulation of these clinical wastes.  With recycling plants on hold, piles of small mountains of wastes and their depositions at open areas are formed due to the increasing number of unrecycled wastes generated every day. This makes the surrounding more vulnerable and also creating a high risk of air pollutions as the dumped open wastes decays into Methane (CH4), a greenhouse gas, hence increasing the risk of global warming too.  Not only the surroundings are getting affected by these careless methods, but the local people are also getting affected. If the excess methane gets accumulated in the Earth’s atmosphere due to piles of unrecycled wastes, this could result in increases in Earth’s average temperature and can be harmful to future generations. Many protected and endangered flora and fauna are facing much greater risks due to the imposition of the lockdown. Many countries under lockdown have made people stay inside their homes. The employees, NGOs, and volunteers working in these protected areas like National Parks, Marine Conservation Zones, and wildlife sanctuaries are made to stay at home making these protected and endangered flora and fauna unattended. This has also led to an increase in many illegal activities like wildlife hunting, illegal deforestation, and fishing activities due to the absence of these people. The prohibition of eco-tourism has also led to a significant financial drop in the economy of these protected areas. Some nations like China have asked the local authorities and native government bodies to increase the amount of disinfection routine, mainly to increase the dosage of chlorine in the wastewater treatment plant to prevent the spread of the COVID-19 virus. However, according to WHO (2020), no solid evidence has been found on the survival of the virus on the lifespan of the virus in wastewater as well as in drinking water. Despite the fact that excessive amounts of chlorine in water can cause harmful problems and issues associated with people’s health like bladder cancer and it also damages its cells. The COVID-19 is a reminder that the health of the planet is also linked to the health of humans. Evidence proves that the virus is zoonotic, meaning it can be transmitted between people and animals. They are accountable for seventy-five percent of all emerging infectious diseases in the World. With the Virus infecting millions of people every day across the globe, Various governments and agencies’ top priority is to regulate the spread of the virus by shifting the spotlight on the management and treatment of wastes (especially the clinical and medical waste).  Likewise, at the same time, we as responsible individuals need to step up and follow the necessary guideline and precautions for the disposal of the waste and medical gears.  In Spite of various data showing that the pollutions have reduced significantly during the pandemic, History has witnessed a rise in pollution during any “post-financial crisis”.  A similar case was observed during the 2008 financial crash – although there was a temporary decrease in emissions of 1.3% was observed, but as the economy recovered in 2010, emissions were at an all-time high. After all, only through sheer mutual empathy and goodwill that the world will emerge stronger after this global pandemic. To prevent future outbreaks, we must address regularly the threats to the ecosystems and wildlife, including habitat loss, illegal trade, pollution, and climate change as human life depends on Earth’s life. If you live near a spacious outdoor area, like the desert or an empty road lined with trees and you realize it’s the only safe, surface-less space to take a walk in, then you begin to realize the beauty of nature. The point is not to remain indoors, but to avoid being in close contact with others. When you do leave your home, whether it is for a walk in the desert or a run on your street, make sure to wipe down any surfaces you come into contact with, avoid touching your face, and frequently wash your hands. \n"
     ]
    }
   ],
   "source": [
    "texts = \" \".join([paragraph.text.strip() for paragraph in paras])\n",
    "print(texts)"
   ]
  },
  {
   "cell_type": "code",
   "execution_count": 5,
   "id": "e79f5f60",
   "metadata": {},
   "outputs": [
    {
     "data": {
      "text/plain": [
       "8496"
      ]
     },
     "execution_count": 5,
     "metadata": {},
     "output_type": "execute_result"
    }
   ],
   "source": [
    "len(texts)"
   ]
  },
  {
   "cell_type": "markdown",
   "id": "db8f1fcc",
   "metadata": {},
   "source": [
    "Removing Punctuation"
   ]
  },
  {
   "cell_type": "code",
   "execution_count": 6,
   "id": "5285c8a8",
   "metadata": {},
   "outputs": [
    {
     "data": {
      "text/plain": [
       "8496"
      ]
     },
     "execution_count": 6,
     "metadata": {},
     "output_type": "execute_result"
    }
   ],
   "source": [
    "import re\n",
    "import string\n",
    "texts = re.sub(r'[\\'\\“\\”\\()\\%\\,\\-\\'\\’\\?\\ ]', ' ', texts)\n",
    "texts[0:200]\n",
    "len(texts)"
   ]
  },
  {
   "cell_type": "markdown",
   "id": "4fafe7be",
   "metadata": {},
   "source": [
    "# Removing Stopwords"
   ]
  },
  {
   "cell_type": "code",
   "execution_count": 7,
   "id": "089b8663",
   "metadata": {},
   "outputs": [],
   "source": [
    "from nltk.tokenize import word_tokenize"
   ]
  },
  {
   "cell_type": "code",
   "execution_count": 8,
   "id": "280876b0",
   "metadata": {},
   "outputs": [
    {
     "data": {
      "text/plain": [
       "['The',\n",
       " 'Covid',\n",
       " '19',\n",
       " 'pandemics',\n",
       " 'forced',\n",
       " 'factories',\n",
       " 'to',\n",
       " 'shut',\n",
       " 'down',\n",
       " 'flights',\n",
       " 'getting',\n",
       " 'canceled',\n",
       " 'and',\n",
       " 'a',\n",
       " 'massive',\n",
       " 'decrease',\n",
       " 'in',\n",
       " 'the',\n",
       " 'global',\n",
       " 'economy',\n",
       " 'with',\n",
       " 'a',\n",
       " 'significant',\n",
       " 'decrease',\n",
       " 'in',\n",
       " 'Green',\n",
       " 'House',\n",
       " 'Gases',\n",
       " 'GHG',\n",
       " 'in',\n",
       " 'many',\n",
       " 'developed',\n",
       " 'and',\n",
       " 'developing',\n",
       " 'countries',\n",
       " '.',\n",
       " 'The',\n",
       " 'SARS',\n",
       " 'CoV2',\n",
       " 'came',\n",
       " 'into',\n",
       " 'the',\n",
       " 'spotlight',\n",
       " 'in',\n",
       " 'December',\n",
       " '2019',\n",
       " 'and',\n",
       " 'has',\n",
       " 'impacted',\n",
       " 'most',\n",
       " 'of',\n",
       " 'the',\n",
       " 'countries',\n",
       " 'till',\n",
       " 'then',\n",
       " '.',\n",
       " 'Nearly',\n",
       " '131',\n",
       " 'million',\n",
       " 'peoples',\n",
       " 'were',\n",
       " 'infected',\n",
       " 'worldwide',\n",
       " 'and',\n",
       " 'resulting',\n",
       " 'in',\n",
       " 'deaths',\n",
       " 'of',\n",
       " 'around',\n",
       " '2.9',\n",
       " 'Million',\n",
       " 'according',\n",
       " 'to',\n",
       " 'World',\n",
       " 'Health',\n",
       " 'Organisation',\n",
       " 'WHO',\n",
       " '.',\n",
       " 'Most',\n",
       " 'of',\n",
       " 'the',\n",
       " 'countries',\n",
       " 'dealt',\n",
       " 'with',\n",
       " 'the',\n",
       " 'new',\n",
       " 'virus',\n",
       " 'by',\n",
       " 'imposing',\n",
       " 'strict',\n",
       " 'lockdowns',\n",
       " 'and',\n",
       " 'social',\n",
       " 'distancing',\n",
       " 'to',\n",
       " 'control',\n",
       " 'the',\n",
       " 'spread',\n",
       " 'of',\n",
       " 'the',\n",
       " 'virus',\n",
       " '.',\n",
       " 'These',\n",
       " 'policies',\n",
       " 'caused',\n",
       " 'adverse',\n",
       " 'effects',\n",
       " 'worldwide',\n",
       " '.',\n",
       " 'One',\n",
       " 'of',\n",
       " 'the',\n",
       " 'most',\n",
       " 'important',\n",
       " 'impacts',\n",
       " 'of',\n",
       " 'the',\n",
       " 'Covid',\n",
       " '19',\n",
       " 'Pandemic',\n",
       " 'is',\n",
       " 'on',\n",
       " 'the',\n",
       " 'environment',\n",
       " '.',\n",
       " 'There',\n",
       " 'have',\n",
       " 'been',\n",
       " 'few',\n",
       " 'positive',\n",
       " 'impacts',\n",
       " 'on',\n",
       " 'the',\n",
       " 'environment',\n",
       " 'due',\n",
       " 'to',\n",
       " 'lockdown',\n",
       " 'like',\n",
       " 'air',\n",
       " 'pollution',\n",
       " 'has',\n",
       " 'decreased',\n",
       " 'dramatically',\n",
       " 'as',\n",
       " 'people',\n",
       " 'were',\n",
       " 'asked',\n",
       " 'to',\n",
       " 'stay',\n",
       " 'in',\n",
       " 'their',\n",
       " 'houses',\n",
       " 'due',\n",
       " 'to',\n",
       " 'the',\n",
       " 'lockdowns',\n",
       " '.',\n",
       " 'There',\n",
       " 'has',\n",
       " 'also',\n",
       " 'been',\n",
       " 'a',\n",
       " 'sharp',\n",
       " 'decline',\n",
       " 'in',\n",
       " 'environmental',\n",
       " 'noise',\n",
       " '.',\n",
       " 'Environmental',\n",
       " 'noise',\n",
       " 'can',\n",
       " 'be',\n",
       " 'well',\n",
       " 'defined',\n",
       " 'as',\n",
       " 'the',\n",
       " 'unwanted',\n",
       " 'or',\n",
       " 'harmful',\n",
       " 'outdoor',\n",
       " 'sounds',\n",
       " 'caused',\n",
       " 'by',\n",
       " 'human',\n",
       " 'activities',\n",
       " 'like',\n",
       " 'noise',\n",
       " 'emitted',\n",
       " 'by',\n",
       " 'road',\n",
       " 'traffics',\n",
       " 'air',\n",
       " 'traffics',\n",
       " 'rail',\n",
       " 'traffics',\n",
       " 'and',\n",
       " 'industrial',\n",
       " 'activities',\n",
       " '.',\n",
       " 'It',\n",
       " 'is',\n",
       " 'one',\n",
       " 'of',\n",
       " 'the',\n",
       " 'most',\n",
       " 'important',\n",
       " 'challenges',\n",
       " 'in',\n",
       " 'the',\n",
       " 'modern',\n",
       " 'era',\n",
       " 'as',\n",
       " 'noise',\n",
       " 'pollution',\n",
       " 'can',\n",
       " 'cause',\n",
       " 'adverse',\n",
       " 'effects',\n",
       " 'on',\n",
       " 'humans',\n",
       " 'as',\n",
       " 'well',\n",
       " 'as',\n",
       " 'harm',\n",
       " 'many',\n",
       " 'animals',\n",
       " 'too',\n",
       " '.',\n",
       " 'The',\n",
       " 'imposition',\n",
       " 'of',\n",
       " 'lockdown',\n",
       " 'and',\n",
       " 'quarantine',\n",
       " 'by',\n",
       " 'various',\n",
       " 'nation',\n",
       " 's',\n",
       " 'governments',\n",
       " 'has',\n",
       " 'caused',\n",
       " 'people',\n",
       " 'to',\n",
       " 'remain',\n",
       " 'back',\n",
       " 'at',\n",
       " 'their',\n",
       " 'homes',\n",
       " '.',\n",
       " 'Because',\n",
       " 'of',\n",
       " 'this',\n",
       " 'the',\n",
       " 'movement',\n",
       " 'of',\n",
       " 'people',\n",
       " 'from',\n",
       " 'one',\n",
       " 'place',\n",
       " 'to',\n",
       " 'a',\n",
       " 'different',\n",
       " 'place',\n",
       " 'has',\n",
       " 'reduced',\n",
       " 'significantly',\n",
       " 'and',\n",
       " 'the',\n",
       " 'use',\n",
       " 'of',\n",
       " 'personal',\n",
       " 'and',\n",
       " 'public',\n",
       " 'transport',\n",
       " 'has',\n",
       " 'also',\n",
       " 'decreased',\n",
       " '.',\n",
       " 'Due',\n",
       " 'to',\n",
       " 'all',\n",
       " 'these',\n",
       " 'changes',\n",
       " 'the',\n",
       " 'environmental',\n",
       " 'noise',\n",
       " 'generated',\n",
       " 'in',\n",
       " 'most',\n",
       " 'of',\n",
       " 'the',\n",
       " 'cities',\n",
       " 'has',\n",
       " 'dropped',\n",
       " 'substantially',\n",
       " '.',\n",
       " 'Water',\n",
       " 'Pollution',\n",
       " 'at',\n",
       " 'beaches',\n",
       " 'have',\n",
       " 'reduced',\n",
       " 'significantly',\n",
       " 'and',\n",
       " 'many',\n",
       " 'animals',\n",
       " 'were',\n",
       " 'spotted',\n",
       " 'back',\n",
       " 'in',\n",
       " 'the',\n",
       " 'cities',\n",
       " 'but',\n",
       " 'the',\n",
       " 'covid',\n",
       " '19',\n",
       " 'virus',\n",
       " 'has',\n",
       " 'also',\n",
       " 'generated',\n",
       " 'many',\n",
       " 'negative',\n",
       " 'and',\n",
       " 'indirect',\n",
       " 'effect',\n",
       " 'on',\n",
       " 'the',\n",
       " 'environment',\n",
       " '.',\n",
       " 'To',\n",
       " 'begin',\n",
       " 'with',\n",
       " 'some',\n",
       " 'of',\n",
       " 'the',\n",
       " 'developed',\n",
       " 'countries',\n",
       " 'have',\n",
       " 'halted',\n",
       " 'their',\n",
       " 'sustainability',\n",
       " 'program',\n",
       " 'during',\n",
       " 'the',\n",
       " 'pandemic',\n",
       " '.',\n",
       " 'In',\n",
       " 'the',\n",
       " 'United',\n",
       " 'States',\n",
       " 'and',\n",
       " 'in',\n",
       " 'many',\n",
       " 'other',\n",
       " 'European',\n",
       " 'nation',\n",
       " 'States',\n",
       " 'waste',\n",
       " 'recycling',\n",
       " 'plants',\n",
       " 'have',\n",
       " 'been',\n",
       " 'suspended',\n",
       " 'in',\n",
       " 'many',\n",
       " 'municipalities',\n",
       " 'and',\n",
       " 'cities',\n",
       " 'due',\n",
       " 'to',\n",
       " 'the',\n",
       " 'concern',\n",
       " 'of',\n",
       " 'the',\n",
       " 'virus',\n",
       " 'getting',\n",
       " 'spread',\n",
       " 'at',\n",
       " 'the',\n",
       " 'recycling',\n",
       " 'centers',\n",
       " '.',\n",
       " 'This',\n",
       " 'has',\n",
       " 'resulted',\n",
       " 'in',\n",
       " 'an',\n",
       " 'increase',\n",
       " 'in',\n",
       " 'the',\n",
       " 'use',\n",
       " 'of',\n",
       " 'single',\n",
       " 'use',\n",
       " 'plastic',\n",
       " 'bags',\n",
       " 'instead',\n",
       " 'of',\n",
       " 'the',\n",
       " 're',\n",
       " 'usable',\n",
       " 'bags',\n",
       " 'by',\n",
       " 'many',\n",
       " 'leading',\n",
       " 'restaurants',\n",
       " 'firms',\n",
       " 'and',\n",
       " 'corporations',\n",
       " '.',\n",
       " 'For',\n",
       " 'instance',\n",
       " 'Starbucks',\n",
       " 'a',\n",
       " 'leading',\n",
       " 'coffee',\n",
       " 'company',\n",
       " 'during',\n",
       " 'the',\n",
       " 'month',\n",
       " 'of',\n",
       " 'March',\n",
       " '2020',\n",
       " 'has',\n",
       " 'announced',\n",
       " 'a',\n",
       " 'short',\n",
       " 'lived',\n",
       " 'ban',\n",
       " 'on',\n",
       " 'the',\n",
       " 'utilization',\n",
       " 'of',\n",
       " 'recyclable',\n",
       " 'and',\n",
       " 'reusable',\n",
       " 'cups',\n",
       " '.',\n",
       " 'Furthermore',\n",
       " 'with',\n",
       " 'most',\n",
       " 'of',\n",
       " 'the',\n",
       " 'people',\n",
       " 'staying',\n",
       " 'indoors',\n",
       " 'because',\n",
       " 'of',\n",
       " 'the',\n",
       " 'lockdown',\n",
       " 'majority',\n",
       " 'of',\n",
       " 'the',\n",
       " 'department',\n",
       " 'stores',\n",
       " 'shops',\n",
       " 'restaurants',\n",
       " 'and',\n",
       " 'food',\n",
       " 'outlets',\n",
       " 'are',\n",
       " 'closed',\n",
       " 'making',\n",
       " 'an',\n",
       " 'online',\n",
       " 'purchase',\n",
       " 'and',\n",
       " 'food',\n",
       " 'delivery',\n",
       " 'are',\n",
       " 'quite',\n",
       " 'high',\n",
       " '.',\n",
       " 'This',\n",
       " 'has',\n",
       " 'created',\n",
       " 'more',\n",
       " 'consumption',\n",
       " 'and',\n",
       " 'demand',\n",
       " 'for',\n",
       " 'fossil',\n",
       " 'fuels',\n",
       " 'due',\n",
       " 'to',\n",
       " 'the',\n",
       " 'transportation',\n",
       " 'and',\n",
       " 'mobility',\n",
       " 'of',\n",
       " 'these',\n",
       " 'goods',\n",
       " 'to',\n",
       " 'each',\n",
       " 'individual',\n",
       " '.',\n",
       " 'There',\n",
       " 'has',\n",
       " 'been',\n",
       " 'an',\n",
       " 'enormous',\n",
       " 'upsurge',\n",
       " 'of',\n",
       " 'medical',\n",
       " 'waste',\n",
       " 'because',\n",
       " 'most',\n",
       " 'of',\n",
       " 'the',\n",
       " 'products',\n",
       " 'employed',\n",
       " 'by',\n",
       " 'healthcare',\n",
       " 'professionals',\n",
       " 'are',\n",
       " 'usually',\n",
       " 'single',\n",
       " 'use',\n",
       " 'items',\n",
       " 'that',\n",
       " 'can',\n",
       " 'be',\n",
       " 'used',\n",
       " 'only',\n",
       " 'once',\n",
       " 'before',\n",
       " 'they',\n",
       " 'are',\n",
       " 'disposed',\n",
       " 'of',\n",
       " '.',\n",
       " 'Some',\n",
       " 'of',\n",
       " 'these',\n",
       " 'wastes',\n",
       " 'include',\n",
       " 'used',\n",
       " 'masks',\n",
       " 'personal',\n",
       " 'protection',\n",
       " 'kits',\n",
       " 'and',\n",
       " 'gloves',\n",
       " '.',\n",
       " 'For',\n",
       " 'instance',\n",
       " 'nearly',\n",
       " '200',\n",
       " 'tons',\n",
       " 'of',\n",
       " 'medical',\n",
       " 'waste',\n",
       " 'were',\n",
       " 'generated',\n",
       " 'during',\n",
       " 'the',\n",
       " 'peak',\n",
       " 'of',\n",
       " 'the',\n",
       " 'pandemic',\n",
       " 'breakout',\n",
       " 'in',\n",
       " 'Wuhan',\n",
       " 'China',\n",
       " '.',\n",
       " 'This',\n",
       " 'is',\n",
       " '50',\n",
       " 'tones',\n",
       " 'more',\n",
       " 'than',\n",
       " 'the',\n",
       " 'average',\n",
       " 'waste',\n",
       " 'generated',\n",
       " 'before',\n",
       " 'the',\n",
       " 'outbreak',\n",
       " 'in',\n",
       " 'Wuhan',\n",
       " '.',\n",
       " 'These',\n",
       " 'organic',\n",
       " 'and',\n",
       " 'inorganic',\n",
       " 'wastes',\n",
       " 'generated',\n",
       " 'due',\n",
       " 'to',\n",
       " 'the',\n",
       " 'policies',\n",
       " 'crafted',\n",
       " 'by',\n",
       " 'the',\n",
       " 'government',\n",
       " 'takes',\n",
       " 'a',\n",
       " 'heavy',\n",
       " 'toll',\n",
       " 'on',\n",
       " 'the',\n",
       " 'environment',\n",
       " 'and',\n",
       " 'can',\n",
       " 'cause',\n",
       " 'environmental',\n",
       " 'issues',\n",
       " 'like',\n",
       " 'water',\n",
       " 'pollution',\n",
       " 'air',\n",
       " 'pollution',\n",
       " 'soil',\n",
       " 'erosion',\n",
       " 'and',\n",
       " 'can',\n",
       " 'harm',\n",
       " 'the',\n",
       " 'local',\n",
       " 'flora',\n",
       " 'and',\n",
       " 'fauna',\n",
       " '.',\n",
       " 'The',\n",
       " 'demand',\n",
       " 'for',\n",
       " 'masks',\n",
       " 'during',\n",
       " 'the',\n",
       " 'pandemic',\n",
       " 'has',\n",
       " 'become',\n",
       " 'skyrocketing',\n",
       " 'but',\n",
       " 'the',\n",
       " 'materials',\n",
       " 'required',\n",
       " 'for',\n",
       " 'the',\n",
       " 'production',\n",
       " 'of',\n",
       " 'these',\n",
       " 'masks',\n",
       " 'are',\n",
       " 'highly',\n",
       " 'dangerous',\n",
       " 'for',\n",
       " 'the',\n",
       " 'environment',\n",
       " 'as',\n",
       " 'they',\n",
       " 'are',\n",
       " 'generally',\n",
       " 'composed',\n",
       " 'of',\n",
       " 'non',\n",
       " 'woven',\n",
       " 'fabrics',\n",
       " '.',\n",
       " 'Polyester',\n",
       " 'Polystyrene',\n",
       " 'polyethylene',\n",
       " 'and',\n",
       " 'polycarbonate',\n",
       " 'are',\n",
       " 'some',\n",
       " 'common',\n",
       " 'materials',\n",
       " 'used',\n",
       " 'for',\n",
       " 'the',\n",
       " 'surgical',\n",
       " 'mask',\n",
       " 'with',\n",
       " 'density',\n",
       " 'lying',\n",
       " 'between',\n",
       " '20grams',\n",
       " 'to',\n",
       " '25',\n",
       " 'grams/sq',\n",
       " '.',\n",
       " 'meter',\n",
       " '.',\n",
       " 'These',\n",
       " 'materials',\n",
       " 'are',\n",
       " 'mostly',\n",
       " 'resistant',\n",
       " 'to',\n",
       " 'liquids',\n",
       " 'and',\n",
       " 'are',\n",
       " 'plastic',\n",
       " 'based',\n",
       " 'products',\n",
       " 'with',\n",
       " 'a',\n",
       " 'really',\n",
       " 'high',\n",
       " 'afterlife',\n",
       " 'after',\n",
       " 'being',\n",
       " 'discarded',\n",
       " '.',\n",
       " 'If',\n",
       " 'not',\n",
       " 'treated',\n",
       " 'properly',\n",
       " 'without',\n",
       " 'discarding',\n",
       " 'they',\n",
       " 'end',\n",
       " 'up',\n",
       " 'filling',\n",
       " 'the',\n",
       " 'landfills',\n",
       " 'and',\n",
       " 'the',\n",
       " 'oceans',\n",
       " 'making',\n",
       " 'it',\n",
       " 'dangerous',\n",
       " 'to',\n",
       " 'aquatic',\n",
       " 'lifeforms',\n",
       " '.',\n",
       " 'For',\n",
       " 'example',\n",
       " 'recently',\n",
       " 'the',\n",
       " 'environment',\n",
       " 'in',\n",
       " 'Hong',\n",
       " 'Kong',\n",
       " 'has',\n",
       " 'started',\n",
       " 'degrading',\n",
       " 'drastically',\n",
       " 'during',\n",
       " 'the',\n",
       " 'pandemic',\n",
       " 'with',\n",
       " 'the',\n",
       " 'accumulation',\n",
       " 'of',\n",
       " 'these',\n",
       " 'clinical',\n",
       " 'wastes',\n",
       " '.',\n",
       " 'With',\n",
       " 'recycling',\n",
       " 'plants',\n",
       " 'on',\n",
       " 'hold',\n",
       " 'piles',\n",
       " 'of',\n",
       " 'small',\n",
       " 'mountains',\n",
       " 'of',\n",
       " 'wastes',\n",
       " 'and',\n",
       " 'their',\n",
       " 'depositions',\n",
       " 'at',\n",
       " 'open',\n",
       " 'areas',\n",
       " 'are',\n",
       " 'formed',\n",
       " 'due',\n",
       " 'to',\n",
       " 'the',\n",
       " 'increasing',\n",
       " 'number',\n",
       " 'of',\n",
       " 'unrecycled',\n",
       " 'wastes',\n",
       " 'generated',\n",
       " 'every',\n",
       " 'day',\n",
       " '.',\n",
       " 'This',\n",
       " 'makes',\n",
       " 'the',\n",
       " 'surrounding',\n",
       " 'more',\n",
       " 'vulnerable',\n",
       " 'and',\n",
       " 'also',\n",
       " 'creating',\n",
       " 'a',\n",
       " 'high',\n",
       " 'risk',\n",
       " 'of',\n",
       " 'air',\n",
       " 'pollutions',\n",
       " 'as',\n",
       " 'the',\n",
       " 'dumped',\n",
       " 'open',\n",
       " 'wastes',\n",
       " 'decays',\n",
       " 'into',\n",
       " 'Methane',\n",
       " 'CH4',\n",
       " 'a',\n",
       " 'greenhouse',\n",
       " 'gas',\n",
       " 'hence',\n",
       " 'increasing',\n",
       " 'the',\n",
       " 'risk',\n",
       " 'of',\n",
       " 'global',\n",
       " 'warming',\n",
       " 'too',\n",
       " '.',\n",
       " 'Not',\n",
       " 'only',\n",
       " 'the',\n",
       " 'surroundings',\n",
       " 'are',\n",
       " 'getting',\n",
       " 'affected',\n",
       " 'by',\n",
       " 'these',\n",
       " 'careless',\n",
       " 'methods',\n",
       " 'but',\n",
       " 'the',\n",
       " 'local',\n",
       " 'people',\n",
       " 'are',\n",
       " 'also',\n",
       " 'getting',\n",
       " 'affected',\n",
       " '.',\n",
       " 'If',\n",
       " 'the',\n",
       " 'excess',\n",
       " 'methane',\n",
       " 'gets',\n",
       " 'accumulated',\n",
       " 'in',\n",
       " 'the',\n",
       " 'Earth',\n",
       " 's',\n",
       " 'atmosphere',\n",
       " 'due',\n",
       " 'to',\n",
       " 'piles',\n",
       " 'of',\n",
       " 'unrecycled',\n",
       " 'wastes',\n",
       " 'this',\n",
       " 'could',\n",
       " 'result',\n",
       " 'in',\n",
       " 'increases',\n",
       " 'in',\n",
       " 'Earth',\n",
       " 's',\n",
       " 'average',\n",
       " 'temperature',\n",
       " 'and',\n",
       " 'can',\n",
       " 'be',\n",
       " 'harmful',\n",
       " 'to',\n",
       " 'future',\n",
       " 'generations',\n",
       " '.',\n",
       " 'Many',\n",
       " 'protected',\n",
       " 'and',\n",
       " 'endangered',\n",
       " 'flora',\n",
       " 'and',\n",
       " 'fauna',\n",
       " 'are',\n",
       " 'facing',\n",
       " 'much',\n",
       " 'greater',\n",
       " 'risks',\n",
       " 'due',\n",
       " 'to',\n",
       " 'the',\n",
       " 'imposition',\n",
       " 'of',\n",
       " 'the',\n",
       " 'lockdown',\n",
       " '.',\n",
       " 'Many',\n",
       " 'countries',\n",
       " 'under',\n",
       " 'lockdown',\n",
       " 'have',\n",
       " 'made',\n",
       " 'people',\n",
       " 'stay',\n",
       " 'inside',\n",
       " 'their',\n",
       " 'homes',\n",
       " '.',\n",
       " 'The',\n",
       " 'employees',\n",
       " 'NGOs',\n",
       " 'and',\n",
       " 'volunteers',\n",
       " 'working',\n",
       " 'in',\n",
       " 'these',\n",
       " 'protected',\n",
       " 'areas',\n",
       " 'like',\n",
       " 'National',\n",
       " 'Parks',\n",
       " 'Marine',\n",
       " 'Conservation',\n",
       " 'Zones',\n",
       " 'and',\n",
       " 'wildlife',\n",
       " 'sanctuaries',\n",
       " 'are',\n",
       " 'made',\n",
       " 'to',\n",
       " 'stay',\n",
       " 'at',\n",
       " 'home',\n",
       " 'making',\n",
       " 'these',\n",
       " 'protected',\n",
       " 'and',\n",
       " 'endangered',\n",
       " 'flora',\n",
       " 'and',\n",
       " 'fauna',\n",
       " 'unattended',\n",
       " '.',\n",
       " 'This',\n",
       " 'has',\n",
       " 'also',\n",
       " 'led',\n",
       " 'to',\n",
       " 'an',\n",
       " 'increase',\n",
       " 'in',\n",
       " 'many',\n",
       " 'illegal',\n",
       " 'activities',\n",
       " 'like',\n",
       " 'wildlife',\n",
       " 'hunting',\n",
       " 'illegal',\n",
       " 'deforestation',\n",
       " 'and',\n",
       " 'fishing',\n",
       " 'activities',\n",
       " 'due',\n",
       " 'to',\n",
       " 'the',\n",
       " 'absence',\n",
       " 'of',\n",
       " 'these',\n",
       " 'people',\n",
       " '.',\n",
       " 'The',\n",
       " 'prohibition',\n",
       " 'of',\n",
       " 'eco',\n",
       " 'tourism',\n",
       " 'has',\n",
       " 'also',\n",
       " 'led',\n",
       " 'to',\n",
       " 'a',\n",
       " 'significant',\n",
       " 'financial',\n",
       " 'drop',\n",
       " 'in',\n",
       " 'the',\n",
       " 'economy',\n",
       " 'of',\n",
       " 'these',\n",
       " 'protected',\n",
       " 'areas',\n",
       " '.',\n",
       " 'Some',\n",
       " 'nations',\n",
       " 'like',\n",
       " 'China',\n",
       " 'have',\n",
       " 'asked',\n",
       " 'the',\n",
       " 'local',\n",
       " 'authorities',\n",
       " 'and',\n",
       " 'native',\n",
       " 'government',\n",
       " 'bodies',\n",
       " ...]"
      ]
     },
     "execution_count": 8,
     "metadata": {},
     "output_type": "execute_result"
    }
   ],
   "source": [
    "token = word_tokenize(texts)\n",
    "token"
   ]
  },
  {
   "cell_type": "code",
   "execution_count": 9,
   "id": "10016a09",
   "metadata": {},
   "outputs": [],
   "source": [
    "with open(\"D:\\lab\\Dataset\\Stopwords_Blackcoffer.txt\", 'r') as file:\n",
    "    data = file.read()"
   ]
  },
  {
   "cell_type": "code",
   "execution_count": 10,
   "id": "c567cbef",
   "metadata": {},
   "outputs": [
    {
     "data": {
      "text/plain": [
       "'ERNST\\nYOUNG\\nDELOITTE\\nTOUCHE\\nKPMG\\nPRICEWATERHOUSECOOPERS\\nPRICEWATERHOUSE\\nCOOPERS\\nAFGHANI\\nARIARY\\nBAHT\\n'"
      ]
     },
     "execution_count": 10,
     "metadata": {},
     "output_type": "execute_result"
    }
   ],
   "source": [
    "data[:100]"
   ]
  },
  {
   "cell_type": "code",
   "execution_count": 11,
   "id": "d65bfa92",
   "metadata": {},
   "outputs": [
    {
     "data": {
      "text/plain": [
       "'ERNST,YOUNG,DELOITTE,TOUCHE,KPMG,PRICEWATERHOUSECOOPERS,PRICEWATERHOUSE,COOPERS,AFGHANI,ARIARY,BAHT,'"
      ]
     },
     "execution_count": 11,
     "metadata": {},
     "output_type": "execute_result"
    }
   ],
   "source": [
    "data = data.replace('\\n', ',')\n",
    "data[:100]"
   ]
  },
  {
   "cell_type": "code",
   "execution_count": 12,
   "id": "0ef23874",
   "metadata": {},
   "outputs": [
    {
     "data": {
      "text/plain": [
       "'The Covid 19 pandemics forced factories shut flights canceled massive decrease global economy significant decrease Green House Gases GHG developed developing countries . The SARS CoV2 spotlight Decemb'"
      ]
     },
     "execution_count": 12,
     "metadata": {},
     "output_type": "execute_result"
    }
   ],
   "source": [
    "new_texts = \" \".join([i for i in token if i not in data])\n",
    "new_texts[:200]"
   ]
  },
  {
   "cell_type": "code",
   "execution_count": 13,
   "id": "ea392da4",
   "metadata": {},
   "outputs": [
    {
     "name": "stdout",
     "output_type": "stream",
     "text": [
      "length before cleaning:  8496\n",
      "length after cleaning:  5692\n"
     ]
    }
   ],
   "source": [
    "print(\"length before cleaning: \", len(texts))\n",
    "print(\"length after cleaning: \", len(new_texts))"
   ]
  },
  {
   "cell_type": "markdown",
   "id": "1f456147",
   "metadata": {},
   "source": [
    "# Negative words"
   ]
  },
  {
   "cell_type": "code",
   "execution_count": 14,
   "id": "dc3618a7",
   "metadata": {},
   "outputs": [],
   "source": [
    "with open(\"D:\\\\lab\\\\Dataset\\\\Negative_words.txt\", 'r') as file:\n",
    "    negative = file.read()"
   ]
  },
  {
   "cell_type": "code",
   "execution_count": 15,
   "id": "2123c4cb",
   "metadata": {},
   "outputs": [
    {
     "data": {
      "text/plain": [
       "'2-faced\\n2-faces\\nabnormal\\nabolish\\nabominable\\nabominably\\nabominate\\nabomination\\nabort\\naborted\\naborts\\nabrade\\nabrasive\\nabrupt\\nabruptly\\nabscond\\nabsence\\nabsent-minded\\nabsentee\\nabsurd\\nabsurdity\\nabsurdly\\nabsurdness\\n'"
      ]
     },
     "execution_count": 15,
     "metadata": {},
     "output_type": "execute_result"
    }
   ],
   "source": [
    "negative[:206]"
   ]
  },
  {
   "cell_type": "code",
   "execution_count": 16,
   "id": "28f44c97",
   "metadata": {},
   "outputs": [
    {
     "data": {
      "text/plain": [
       "'2-faced,2-faces,abnormal,abolish,abominable,abominably,abominate,abomination,abort,aborted,aborts,abrade,abrasive,abrupt,abruptly,abscond,absence,absent-minded,absentee,absurd,absurdity,absurdly,absurdness,'"
      ]
     },
     "execution_count": 16,
     "metadata": {},
     "output_type": "execute_result"
    }
   ],
   "source": [
    "negative = negative.replace('\\n', ',')\n",
    "negative[:206]"
   ]
  },
  {
   "cell_type": "code",
   "execution_count": 17,
   "id": "31a272c0",
   "metadata": {},
   "outputs": [
    {
     "name": "stdout",
     "output_type": "stream",
     "text": [
      "['significant', 'developed', 'infected', 'virus', 'imposing', 'strict', 'social', 'control', 'virus', 'adverse', 'important', 'due', 'air', 'dramatically', 'due', 'sharp', 'decline', 'noise', 'noise', 'defined', 'unwanted', 'harmful', 'human', 'noise', 'road', 'air', 'rail', 'important', 'noise', 'adverse', 'harm', 'imposition', 'nation', 'back', 'significantly', 'personal', 'noise', 'cities', 'substantially', 'significantly', 'back', 'cities', 'virus', 'negative', 'effect', 'developed', 'nation', 'waste', 'cities', 'due', 'virus', 'plastic', 'bags', 'usable', 'bags', 'leading', 'leading', 'short', 'lived', 'ban', 'high', 'due', 'waste', 'employed', 'personal', 'tons', 'waste', 'peak', 'waste', 'outbreak', 'due', 'takes', 'heavy', 'toll', 'issues', 'water', 'air', 'erosion', 'harm', 'dangerous', 'common', 'lying', 'plastic', 'high', 'treated', 'properly', 'dangerous', 'degrading', 'drastically', 'small', 'formed', 'due', 'day', 'vulnerable', 'high', 'risk', 'air', 'dumped', 'gas', 'risk', 'affected', 'careless', 'affected', 'excess', 'due', 'harmful', 'risks', 'due', 'imposition', 'led', 'illegal', 'illegal', 'due', 'absence', 'led', 'significant', 'drop', 'treatment', 'virus', 'found', 'virus', 'virus', 'water', 'fact', 'excessive', 'water', 'harmful', 'problems', 'issues', 'health', 'cancer', 'damages', 'health', 'health', 'proves', 'virus', 'meaning', 'day', 'top', 'virus', 'treatment', 'waste', 'responsible', 'waste', 'significantly', 'post', 'crisis', 'observed', 'crash', 'observed', 'high', 'emerge', 'threats', 'loss', 'illegal', 'human', 'life', 'life', 'live', 'desert', 'road', 'lined', 'safe', 'nature', 'point', 'avoid', 'desert', 'run', 'make', 'wipe', 'avoid', 'face', 'wash']\n"
     ]
    },
    {
     "data": {
      "text/plain": [
       "173"
      ]
     },
     "execution_count": 17,
     "metadata": {},
     "output_type": "execute_result"
    }
   ],
   "source": [
    "new_texts = word_tokenize(new_texts)\n",
    "negative_words = [i for i in new_texts if i in negative]\n",
    "print(negative_words)\n",
    "len(negative_words)"
   ]
  },
  {
   "cell_type": "markdown",
   "id": "0b24f011",
   "metadata": {},
   "source": [
    "# Positive words"
   ]
  },
  {
   "cell_type": "code",
   "execution_count": 18,
   "id": "4b003620",
   "metadata": {},
   "outputs": [
    {
     "data": {
      "text/plain": [
       "'a+\\nabound\\nabounds\\nabundance\\nabundant\\naccessable\\naccessible\\nacclaim\\nacclaimed\\nacclamation\\naccolade\\naccolades\\naccommodative\\naccomodative\\naccomplish\\naccomplished\\naccomplishment\\naccomplishments\\naccurate\\naccurately\\n'"
      ]
     },
     "execution_count": 18,
     "metadata": {},
     "output_type": "execute_result"
    }
   ],
   "source": [
    "with open(\"D:\\\\lab\\\\Dataset\\\\Positive_words.txt\", 'r') as file:\n",
    "    positive = file.read()\n",
    "positive[:210]    "
   ]
  },
  {
   "cell_type": "code",
   "execution_count": 19,
   "id": "66ed38c6",
   "metadata": {},
   "outputs": [
    {
     "data": {
      "text/plain": [
       "'a+,abound,abounds,abundance,abundant,accessable,accessible,acclaim,acclaimed,acclamation,accolade,accolades,accommodative,accomodative,accomplish,accomplished,accomplishment,accomplishments,accurate,accurately,'"
      ]
     },
     "execution_count": 19,
     "metadata": {},
     "output_type": "execute_result"
    }
   ],
   "source": [
    "positive = positive.replace('\\n',',')\n",
    "positive[:210]"
   ]
  },
  {
   "cell_type": "code",
   "execution_count": 20,
   "id": "fc1387e8",
   "metadata": {},
   "outputs": [
    {
     "name": "stdout",
     "output_type": "stream",
     "text": [
      "['significant', 'strict', 'important', 'positive', 'air', 'sharp', 'noise', 'noise', 'human', 'noise', 'air', 'important', 'modern', 'noise', 'harm', 'nation', 'back', 'personal', 'noise', 'back', 'effect', 'sustainability', 'nation', 'usable', 'leading', 'leading', 'high', 'individual', 'personal', 'protection', 'takes', 'toll', 'air', 'harm', 'high', 'properly', 'hold', 'open', 'formed', 'vulnerable', 'high', 'risk', 'air', 'open', 'risk', 'warming', 'affected', 'affected', 'future', 'made', 'working', 'made', 'led', 'led', 'significant', 'drop', 'native', 'amount', 'solid', 'found', 'survival', 'fact', 'health', 'health', 'health', 'proves', 'meaning', 'top', 'high', 'empathy', 'goodwill', 'world', 'stronger', 'future', 'loss', 'human', 'life', 'life', 'live', 'spacious', 'lined', 'safe', 'beauty', 'run', 'hands']\n"
     ]
    },
    {
     "data": {
      "text/plain": [
       "85"
      ]
     },
     "execution_count": 20,
     "metadata": {},
     "output_type": "execute_result"
    }
   ],
   "source": [
    "positive_words = [i for i in new_texts if i in positive]\n",
    "print(positive_words)\n",
    "len(positive_words)"
   ]
  },
  {
   "cell_type": "markdown",
   "id": "1b59646d",
   "metadata": {},
   "source": [
    "#### positive Score\n"
   ]
  },
  {
   "cell_type": "code",
   "execution_count": 21,
   "id": "7d0fbab1",
   "metadata": {},
   "outputs": [
    {
     "name": "stdout",
     "output_type": "stream",
     "text": [
      "85\n"
     ]
    }
   ],
   "source": [
    "pos_score = len(positive_words)\n",
    "print(pos_score)"
   ]
  },
  {
   "cell_type": "markdown",
   "id": "54a6cc12",
   "metadata": {},
   "source": [
    "#### Negative Score"
   ]
  },
  {
   "cell_type": "code",
   "execution_count": 22,
   "id": "df0766cd",
   "metadata": {},
   "outputs": [
    {
     "name": "stdout",
     "output_type": "stream",
     "text": [
      "173\n"
     ]
    }
   ],
   "source": [
    "neg_score=len(negative_words)\n",
    "print(neg_score)"
   ]
  },
  {
   "cell_type": "markdown",
   "id": "84da7ab7",
   "metadata": {},
   "source": [
    "#### Polarity Score"
   ]
  },
  {
   "cell_type": "code",
   "execution_count": 23,
   "id": "21e88c2b",
   "metadata": {},
   "outputs": [
    {
     "data": {
      "text/plain": [
       "-0.34"
      ]
     },
     "execution_count": 23,
     "metadata": {},
     "output_type": "execute_result"
    }
   ],
   "source": [
    "Polarity_Score = (pos_score - neg_score)/((pos_score + neg_score) + 0.000001)\n",
    "round(Polarity_Score,2)"
   ]
  },
  {
   "cell_type": "code",
   "execution_count": 24,
   "id": "08bcb4ab",
   "metadata": {},
   "outputs": [
    {
     "name": "stdout",
     "output_type": "stream",
     "text": [
      "number of words after cleaning : 778\n"
     ]
    }
   ],
   "source": [
    "word_count = len(new_texts)\n",
    "print(\"number of words after cleaning :\",word_count)"
   ]
  },
  {
   "cell_type": "markdown",
   "id": "16495ba1",
   "metadata": {},
   "source": [
    "#### Subjectivity Score"
   ]
  },
  {
   "cell_type": "code",
   "execution_count": 25,
   "id": "841713a3",
   "metadata": {},
   "outputs": [
    {
     "data": {
      "text/plain": [
       "0.33"
      ]
     },
     "execution_count": 25,
     "metadata": {},
     "output_type": "execute_result"
    }
   ],
   "source": [
    "Subjectivity_Score = (pos_score + neg_score)/ ((word_count) + 0.000001)\n",
    "round(Subjectivity_Score,2)"
   ]
  },
  {
   "cell_type": "markdown",
   "id": "0d7c370e",
   "metadata": {},
   "source": [
    "# Analysis of Readability"
   ]
  },
  {
   "cell_type": "code",
   "execution_count": 26,
   "id": "10209a7a",
   "metadata": {},
   "outputs": [
    {
     "data": {
      "text/plain": [
       "1443"
      ]
     },
     "execution_count": 26,
     "metadata": {},
     "output_type": "execute_result"
    }
   ],
   "source": [
    "import nltk\n",
    "from nltk.tokenize import word_tokenize\n",
    "word_tokens = nltk.word_tokenize(texts)\n",
    "No_of_words = len(word_tokens)\n",
    "No_of_words"
   ]
  },
  {
   "cell_type": "code",
   "execution_count": 27,
   "id": "bfac2ab7",
   "metadata": {},
   "outputs": [
    {
     "data": {
      "text/plain": [
       "55"
      ]
     },
     "execution_count": 27,
     "metadata": {},
     "output_type": "execute_result"
    }
   ],
   "source": [
    "sent_tokens = nltk.sent_tokenize(texts)\n",
    "No_of_sents = len(sent_tokens)\n",
    "No_of_sents "
   ]
  },
  {
   "cell_type": "markdown",
   "id": "1576acfe",
   "metadata": {},
   "source": [
    "### Average sentence Length\n"
   ]
  },
  {
   "cell_type": "code",
   "execution_count": 28,
   "id": "11d6a7ec",
   "metadata": {},
   "outputs": [
    {
     "data": {
      "text/plain": [
       "26.24"
      ]
     },
     "execution_count": 28,
     "metadata": {},
     "output_type": "execute_result"
    }
   ],
   "source": [
    "Avg_Sents_Length = No_of_words / No_of_sents\n",
    "round(Avg_Sents_Length,2)"
   ]
  },
  {
   "cell_type": "markdown",
   "id": "bc20ee3d",
   "metadata": {},
   "source": [
    "### Percentage of Complex words\n",
    "Complex words: words with more than 2 syllable are called complex words"
   ]
  },
  {
   "cell_type": "code",
   "execution_count": 29,
   "id": "eba6a8b1",
   "metadata": {},
   "outputs": [
    {
     "name": "stdout",
     "output_type": "stream",
     "text": [
      "Number of complex words: 218\n",
      "Total number of words: 8496\n"
     ]
    }
   ],
   "source": [
    "from nltk.corpus import cmudict\n",
    "cmud = cmudict.dict()\n",
    "\n",
    "# Defining a function to count syllables in a word\n",
    "def count_syllables(word):\n",
    "    phonemes = cmud[word.lower()][0] \n",
    "    return len([s for s in phonemes if s[-1].isdigit()])\n",
    "\n",
    "# Identifing complex words\n",
    "w_tokens = [i for i in word_tokens if i in cmud]\n",
    "complex_words = [word for word in w_tokens if count_syllables(word) > 2]\n",
    "\n",
    "# Calculatingnumber of complex words\n",
    "num_complex_words = len(complex_words)\n",
    "\n",
    "print(\"Number of complex words:\", num_complex_words)\n",
    "print(\"Total number of words:\", len(texts))"
   ]
  },
  {
   "cell_type": "code",
   "execution_count": 30,
   "id": "e982c0a1",
   "metadata": {},
   "outputs": [
    {
     "data": {
      "text/plain": [
       "38.97"
      ]
     },
     "execution_count": 30,
     "metadata": {},
     "output_type": "execute_result"
    }
   ],
   "source": [
    "Perc_of_Complex_words = len(texts) / num_complex_words\n",
    "round(Perc_of_Complex_words,2)"
   ]
  },
  {
   "cell_type": "markdown",
   "id": "77e948d1",
   "metadata": {},
   "source": [
    "### Fog Index"
   ]
  },
  {
   "cell_type": "code",
   "execution_count": 31,
   "id": "95fb10bb",
   "metadata": {},
   "outputs": [
    {
     "name": "stdout",
     "output_type": "stream",
     "text": [
      "Average sentence length: 55.0\n"
     ]
    }
   ],
   "source": [
    "# Tokenize each sentence into words\n",
    "words = [word_tokens for sentence in sent_tokens]\n",
    "\n",
    "# Calculate the average sentence length\n",
    "avg_sent_len = sum(No_of_sents for sentence in words) / No_of_sents\n",
    "\n",
    "print(\"Average sentence length:\", avg_sent_len)\n"
   ]
  },
  {
   "cell_type": "code",
   "execution_count": 32,
   "id": "38f5a93b",
   "metadata": {},
   "outputs": [
    {
     "data": {
      "text/plain": [
       "37.59"
      ]
     },
     "execution_count": 32,
     "metadata": {},
     "output_type": "execute_result"
    }
   ],
   "source": [
    "Fog_index = 0.4 * (avg_sent_len + Perc_of_Complex_words)\n",
    "round(Fog_index,2)"
   ]
  },
  {
   "cell_type": "markdown",
   "id": "5b4aacea",
   "metadata": {},
   "source": [
    "# Average Number of Words Per Sentence"
   ]
  },
  {
   "cell_type": "code",
   "execution_count": 33,
   "id": "45da1407",
   "metadata": {},
   "outputs": [
    {
     "data": {
      "text/plain": [
       "26.24"
      ]
     },
     "execution_count": 33,
     "metadata": {},
     "output_type": "execute_result"
    }
   ],
   "source": [
    "avg_no_of_words_per_sent = No_of_words / No_of_sents\n",
    "round(avg_no_of_words_per_sent,2)"
   ]
  },
  {
   "cell_type": "markdown",
   "id": "f2d9b493",
   "metadata": {},
   "source": [
    "# Complex Word Count"
   ]
  },
  {
   "cell_type": "code",
   "execution_count": 34,
   "id": "75304424",
   "metadata": {},
   "outputs": [
    {
     "name": "stdout",
     "output_type": "stream",
     "text": [
      "complex word count: 218\n"
     ]
    }
   ],
   "source": [
    "from nltk.corpus import cmudict\n",
    "cmud = cmudict.dict()\n",
    "\n",
    "# Defining a function to count syllables in a word\n",
    "def count_syllables(word):\n",
    "    phonemes = cmud[word.lower()][0] \n",
    "    return len([s for s in phonemes if s[-1].isdigit()])\n",
    "\n",
    "# Identifing complex words\n",
    "w_tokens = [i for i in word_tokens if i in cmud]\n",
    "complex_words = [word for word in w_tokens if count_syllables(word) > 2]\n",
    "\n",
    "# Calculatingnumber of complex words\n",
    "num_complex_words = len(complex_words)\n",
    "\n",
    "print(\"complex word count:\", num_complex_words)"
   ]
  },
  {
   "cell_type": "markdown",
   "id": "99ea5188",
   "metadata": {},
   "source": [
    "# Word Count\n",
    "number of words after cleaning"
   ]
  },
  {
   "cell_type": "code",
   "execution_count": 35,
   "id": "b4fb0c72",
   "metadata": {},
   "outputs": [
    {
     "data": {
      "text/plain": [
       "778"
      ]
     },
     "execution_count": 35,
     "metadata": {},
     "output_type": "execute_result"
    }
   ],
   "source": [
    "len(new_texts)"
   ]
  },
  {
   "cell_type": "markdown",
   "id": "ca8076ff",
   "metadata": {},
   "source": [
    "# Syllable Count Per Word"
   ]
  },
  {
   "cell_type": "code",
   "execution_count": 36,
   "id": "bc568045",
   "metadata": {},
   "outputs": [
    {
     "name": "stdout",
     "output_type": "stream",
     "text": [
      "Enter a word to get syllable: lockdown\n",
      "Number of syllable in a word : 2\n"
     ]
    }
   ],
   "source": [
    "word = input(\"Enter a word to get syllable: \")\n",
    "def count_syllables(word):\n",
    "    phonemes = cmud[word.lower()][0] \n",
    "    return len([s for s in phonemes if s[-1].isdigit()])\n",
    "\n",
    "print(\"Number of syllable in a word :\",count_syllables(word))"
   ]
  },
  {
   "cell_type": "markdown",
   "id": "1d3a18f6",
   "metadata": {},
   "source": [
    "# Personal Pronouns"
   ]
  },
  {
   "cell_type": "code",
   "execution_count": 37,
   "id": "0b8e0d2d",
   "metadata": {},
   "outputs": [
    {
     "name": "stdout",
     "output_type": "stream",
     "text": [
      "Personal pronoun frequency: {'it': 6, 'they': 4, 'we': 2, 'you': 5}\n",
      "total number of pronouns in a article : 17\n"
     ]
    }
   ],
   "source": [
    "import re\n",
    "\n",
    "# Define a regex pattern to match personal pronouns\n",
    "pattern = r'\\b(I|you|he|she|it|we|they|me|him|her|us|them)\\b'\n",
    "\n",
    "# Count the frequency of personal pronouns\n",
    "pronoun_freq = {}\n",
    "for pronoun in re.findall(pattern, texts, re.IGNORECASE):\n",
    "    pronoun = pronoun.lower()\n",
    "    if pronoun in pronoun_freq:\n",
    "        pronoun_freq[pronoun] += 1\n",
    "    else:\n",
    "        pronoun_freq[pronoun] = 1\n",
    "\n",
    "print(\"Personal pronoun frequency:\", pronoun_freq)\n",
    "def returnSum(dict):\n",
    " \n",
    "    sum = 0\n",
    "    for i in pronoun_freq.values():\n",
    "        sum = sum + i\n",
    " \n",
    "    return sum\n",
    "print(\"total number of pronouns in a article :\",returnSum(pronoun_freq))"
   ]
  },
  {
   "cell_type": "markdown",
   "id": "e3fc87f8",
   "metadata": {},
   "source": [
    "# Average Word Length"
   ]
  },
  {
   "cell_type": "code",
   "execution_count": 38,
   "id": "5bde37d9",
   "metadata": {},
   "outputs": [
    {
     "name": "stdout",
     "output_type": "stream",
     "text": [
      "Average word length: 4.86\n"
     ]
    }
   ],
   "source": [
    "# Calculate the total number of characters in all words\n",
    "total_chars = sum(len(word) for word in word_tokens)\n",
    "\n",
    "avg_word_length = total_chars / No_of_words\n",
    "\n",
    "print(\"Average word length:\", round(avg_word_length,2))\n"
   ]
  },
  {
   "cell_type": "code",
   "execution_count": null,
   "id": "63dc25ad",
   "metadata": {},
   "outputs": [],
   "source": []
  },
  {
   "cell_type": "code",
   "execution_count": null,
   "id": "819012c5",
   "metadata": {},
   "outputs": [],
   "source": []
  }
 ],
 "metadata": {
  "kernelspec": {
   "display_name": "Python 3",
   "language": "python",
   "name": "python3"
  },
  "language_info": {
   "codemirror_mode": {
    "name": "ipython",
    "version": 3
   },
   "file_extension": ".py",
   "mimetype": "text/x-python",
   "name": "python",
   "nbconvert_exporter": "python",
   "pygments_lexer": "ipython3",
   "version": "3.8.8"
  }
 },
 "nbformat": 4,
 "nbformat_minor": 5
}
