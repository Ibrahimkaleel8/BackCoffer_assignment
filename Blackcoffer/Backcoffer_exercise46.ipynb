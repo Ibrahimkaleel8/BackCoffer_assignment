{
 "cells": [
  {
   "cell_type": "markdown",
   "id": "b9312f26",
   "metadata": {},
   "source": [
    "# Data scraping"
   ]
  },
  {
   "cell_type": "code",
   "execution_count": 1,
   "id": "ef4785ca",
   "metadata": {},
   "outputs": [],
   "source": [
    "import nltk\n",
    "import requests\n",
    "from bs4 import BeautifulSoup"
   ]
  },
  {
   "cell_type": "code",
   "execution_count": 2,
   "id": "ac2f2459",
   "metadata": {},
   "outputs": [],
   "source": [
    "req = requests.get(\"https://insights.blackcoffer.com/gender-diversity-and-equality-in-the-tech-industry/\")"
   ]
  },
  {
   "cell_type": "code",
   "execution_count": 3,
   "id": "45f9fa09",
   "metadata": {},
   "outputs": [],
   "source": [
    "soup = BeautifulSoup(req.content, \"html.parser\")\n",
    "res = soup.title\n",
    "paras = soup.find_all('p')"
   ]
  },
  {
   "cell_type": "code",
   "execution_count": 4,
   "id": "dbb256b2",
   "metadata": {
    "scrolled": true
   },
   "outputs": [
    {
     "name": "stdout",
     "output_type": "stream",
     "text": [
      "Gender diversity is an equal representation of all genders in workplaces. One of the most important sectors where there is under-representation of gender diversity is the technological industry. Gender diversity means you have an equal opportunity which is not limited by gender. But, the true reality is gender diversity is a far outcry in the world. Gender diversity isn’t a new topic but an old and global phenomenon and technology industry is not a stranger to it.  Women are often underrepresented in the technology sector. To understand the gap, let’s look at some statistics. After looking at these staggering numbers, we see how biased gender diversity is even in the technological sector. With rapid industrialization and education about the importance of rights, gender diversity is very important in today’s world. Gender equality represents a society that has lesser violence and provides a safer world for everyone. It is also directly proportional to sustainable development and ensures human rights to everyone. As today’s markets are increasing along with customers’ preferences, to understand customer profiles and build products we need gender diversity in our organizations. Equal representation helps in a better decision-making process for a positive impact. Men and Women invest back into their families and having gender equality and diversity helps build values into families and households. Empowering individuals not only help themselves but also the economy of the nations. Gender equality and diversity should be built into organizations’ beliefs and values. Global Gender Gap Report (2017) Perception: If we see the word “gender”, it is a socially constructed definition. And this definition changes as per different cultural norms. In a much broader term, our society is also not aware of the concept of binary and non-binary gender, which includes queer, Trans, and Intersex individuals as well. The socially acceptable thing is to have gender expressions as per our gender identity. So, when it comes to choosing their career, people tend to choose a job role that gives them higher social belongingness. E.g. We see more women(as compared to men) in nursing careers as it requires more feminine qualities. There are different versions of this perception: which we can see either in the society(in terms of socially assigned gender roles) or in the workplace(in the form of gender discrimination, stereotypical thinking, sexism, etc.). E.g. As per their assigned roles in society, women are most likely to take care of their family and children, and this affects their income and career growth. The motherhood penalty is a term defined by sociologists which states about the inverse correlation between income level and the number of children, i.e. there is also an income difference between a mother and a non-mother employee. As per OECD data(2012), there is a 7% reduction in wages for women per child. Lack of economic opportunities: Even in the tech industry, women are paid less than men. As per ILO data(2019), on average women are paid 20% less than men worldwide. Even when it comes to promotion, men are preferred more. It is to be noted that the numbers are even worse when there is intersectionality involved. E.g., a transgender woman will be paid less than a white woman and so on. As per the National Centre for Transgender equality, one out of two transgender people faces adverse effects: including 23% were denied a promotion, 44% were passed over for a particular job position and 26% are fired from their workplace just because they are transgender. We can improve this scenario from the perspective of different stakeholders who are involved. For Society : Creating Tech awareness from School level: As per the HDR report( 2017), no. of boys pursuing STEM program is 97% higher than girls. One way to improve this is to introduce more strong role models to advocate for this issue. Minority gender communities should be aware of the multiple job opportunities and career growth available in this field. These job roles are not even gender-specific anymore. For developing countries like India, STEM scholarship programs can be introduced from the secondary education level. Address Bias/Stereotypes: It is to be noted that perceptions, stereotypes, and biases are not just something we learn in school but our upbringing also creates these, the things we watch, listen, and read daily. So, it also becomes the duty of the society to create a more inclusive environment. E.g. A more privileged person should fight for the fundamental right of the less empowered or less privileged person in society. There should be active encouragement from parents, teachers, and educators for students in STEM programs regardless of their gender identity. For Companies: To promote gender diversity in the workplace, companies need to focus on three things: Unbiased Recruitment policies: Generally, there is a lot of unconscious bias and prejudices when hiring women, trans, intersex, and queer individuals. There needs to be a diversity and inclusivity team in the HR itself that addresses these issues. A blind recruitment drive can be conducted where there is no need to mention gender in any of the documents. Having structured questions during the interview might help to remove any unconscious biases. Diversity sensitivity training: Workplace policies need to create a company image that hires everyone irrespective of their gender identity and can even keep it optional in all the job formalities and documents. Conducting proper sensitivity training to employees is essential as they need to use correct pronoun/gender-neutral language. Not just sensitivity training, strong workplace policies need to be in place which deal with any form of harassment or gender discrimination. To create accountability and transparency in their process, companies can also share diversity and inclusivity company data. Retention policies: Creating Mentorship models: Including proper maternity leaves, child care facilities, and flexibility of working hours/remote working arrangements can be helpful for minority gender in keeping their work-life balance. Develop support programs for these communities who are joining after maternity leave. It might be in terms of psychiatric or mentorship support. Increase Pay parities: It can be done in the following ways: Lastly, there needs to be proper government policies in place which provide a constitutional or legal framework starting from the basic education level. It may begin from increasing the gross enrollment rates of all students in schools (irrespective of their gender identity) for developing countries( like India) to have proper compensation policies in the workplace(as similar to what states like California, New York has adopted) to ensure pay parity. \n"
     ]
    }
   ],
   "source": [
    "texts = \" \".join([paragraph.text.strip() for paragraph in paras])\n",
    "print(texts)"
   ]
  },
  {
   "cell_type": "code",
   "execution_count": 5,
   "id": "e79f5f60",
   "metadata": {},
   "outputs": [
    {
     "data": {
      "text/plain": [
       "6851"
      ]
     },
     "execution_count": 5,
     "metadata": {},
     "output_type": "execute_result"
    }
   ],
   "source": [
    "len(texts)"
   ]
  },
  {
   "cell_type": "markdown",
   "id": "db8f1fcc",
   "metadata": {},
   "source": [
    "Removing Punctuation"
   ]
  },
  {
   "cell_type": "code",
   "execution_count": 6,
   "id": "5285c8a8",
   "metadata": {},
   "outputs": [
    {
     "data": {
      "text/plain": [
       "6851"
      ]
     },
     "execution_count": 6,
     "metadata": {},
     "output_type": "execute_result"
    }
   ],
   "source": [
    "import re\n",
    "import string\n",
    "texts = re.sub(r'[\\'\\“\\”\\()\\%\\,\\-\\'\\’\\?\\ ]', ' ', texts)\n",
    "texts[0:200]\n",
    "len(texts)"
   ]
  },
  {
   "cell_type": "markdown",
   "id": "4fafe7be",
   "metadata": {},
   "source": [
    "# Removing Stopwords"
   ]
  },
  {
   "cell_type": "code",
   "execution_count": 7,
   "id": "089b8663",
   "metadata": {},
   "outputs": [],
   "source": [
    "from nltk.tokenize import word_tokenize"
   ]
  },
  {
   "cell_type": "code",
   "execution_count": 8,
   "id": "280876b0",
   "metadata": {},
   "outputs": [
    {
     "data": {
      "text/plain": [
       "['Gender',\n",
       " 'diversity',\n",
       " 'is',\n",
       " 'an',\n",
       " 'equal',\n",
       " 'representation',\n",
       " 'of',\n",
       " 'all',\n",
       " 'genders',\n",
       " 'in',\n",
       " 'workplaces',\n",
       " '.',\n",
       " 'One',\n",
       " 'of',\n",
       " 'the',\n",
       " 'most',\n",
       " 'important',\n",
       " 'sectors',\n",
       " 'where',\n",
       " 'there',\n",
       " 'is',\n",
       " 'under',\n",
       " 'representation',\n",
       " 'of',\n",
       " 'gender',\n",
       " 'diversity',\n",
       " 'is',\n",
       " 'the',\n",
       " 'technological',\n",
       " 'industry',\n",
       " '.',\n",
       " 'Gender',\n",
       " 'diversity',\n",
       " 'means',\n",
       " 'you',\n",
       " 'have',\n",
       " 'an',\n",
       " 'equal',\n",
       " 'opportunity',\n",
       " 'which',\n",
       " 'is',\n",
       " 'not',\n",
       " 'limited',\n",
       " 'by',\n",
       " 'gender',\n",
       " '.',\n",
       " 'But',\n",
       " 'the',\n",
       " 'true',\n",
       " 'reality',\n",
       " 'is',\n",
       " 'gender',\n",
       " 'diversity',\n",
       " 'is',\n",
       " 'a',\n",
       " 'far',\n",
       " 'outcry',\n",
       " 'in',\n",
       " 'the',\n",
       " 'world',\n",
       " '.',\n",
       " 'Gender',\n",
       " 'diversity',\n",
       " 'isn',\n",
       " 't',\n",
       " 'a',\n",
       " 'new',\n",
       " 'topic',\n",
       " 'but',\n",
       " 'an',\n",
       " 'old',\n",
       " 'and',\n",
       " 'global',\n",
       " 'phenomenon',\n",
       " 'and',\n",
       " 'technology',\n",
       " 'industry',\n",
       " 'is',\n",
       " 'not',\n",
       " 'a',\n",
       " 'stranger',\n",
       " 'to',\n",
       " 'it',\n",
       " '.',\n",
       " 'Women',\n",
       " 'are',\n",
       " 'often',\n",
       " 'underrepresented',\n",
       " 'in',\n",
       " 'the',\n",
       " 'technology',\n",
       " 'sector',\n",
       " '.',\n",
       " 'To',\n",
       " 'understand',\n",
       " 'the',\n",
       " 'gap',\n",
       " 'let',\n",
       " 's',\n",
       " 'look',\n",
       " 'at',\n",
       " 'some',\n",
       " 'statistics',\n",
       " '.',\n",
       " 'After',\n",
       " 'looking',\n",
       " 'at',\n",
       " 'these',\n",
       " 'staggering',\n",
       " 'numbers',\n",
       " 'we',\n",
       " 'see',\n",
       " 'how',\n",
       " 'biased',\n",
       " 'gender',\n",
       " 'diversity',\n",
       " 'is',\n",
       " 'even',\n",
       " 'in',\n",
       " 'the',\n",
       " 'technological',\n",
       " 'sector',\n",
       " '.',\n",
       " 'With',\n",
       " 'rapid',\n",
       " 'industrialization',\n",
       " 'and',\n",
       " 'education',\n",
       " 'about',\n",
       " 'the',\n",
       " 'importance',\n",
       " 'of',\n",
       " 'rights',\n",
       " 'gender',\n",
       " 'diversity',\n",
       " 'is',\n",
       " 'very',\n",
       " 'important',\n",
       " 'in',\n",
       " 'today',\n",
       " 's',\n",
       " 'world',\n",
       " '.',\n",
       " 'Gender',\n",
       " 'equality',\n",
       " 'represents',\n",
       " 'a',\n",
       " 'society',\n",
       " 'that',\n",
       " 'has',\n",
       " 'lesser',\n",
       " 'violence',\n",
       " 'and',\n",
       " 'provides',\n",
       " 'a',\n",
       " 'safer',\n",
       " 'world',\n",
       " 'for',\n",
       " 'everyone',\n",
       " '.',\n",
       " 'It',\n",
       " 'is',\n",
       " 'also',\n",
       " 'directly',\n",
       " 'proportional',\n",
       " 'to',\n",
       " 'sustainable',\n",
       " 'development',\n",
       " 'and',\n",
       " 'ensures',\n",
       " 'human',\n",
       " 'rights',\n",
       " 'to',\n",
       " 'everyone',\n",
       " '.',\n",
       " 'As',\n",
       " 'today',\n",
       " 's',\n",
       " 'markets',\n",
       " 'are',\n",
       " 'increasing',\n",
       " 'along',\n",
       " 'with',\n",
       " 'customers',\n",
       " 'preferences',\n",
       " 'to',\n",
       " 'understand',\n",
       " 'customer',\n",
       " 'profiles',\n",
       " 'and',\n",
       " 'build',\n",
       " 'products',\n",
       " 'we',\n",
       " 'need',\n",
       " 'gender',\n",
       " 'diversity',\n",
       " 'in',\n",
       " 'our',\n",
       " 'organizations',\n",
       " '.',\n",
       " 'Equal',\n",
       " 'representation',\n",
       " 'helps',\n",
       " 'in',\n",
       " 'a',\n",
       " 'better',\n",
       " 'decision',\n",
       " 'making',\n",
       " 'process',\n",
       " 'for',\n",
       " 'a',\n",
       " 'positive',\n",
       " 'impact',\n",
       " '.',\n",
       " 'Men',\n",
       " 'and',\n",
       " 'Women',\n",
       " 'invest',\n",
       " 'back',\n",
       " 'into',\n",
       " 'their',\n",
       " 'families',\n",
       " 'and',\n",
       " 'having',\n",
       " 'gender',\n",
       " 'equality',\n",
       " 'and',\n",
       " 'diversity',\n",
       " 'helps',\n",
       " 'build',\n",
       " 'values',\n",
       " 'into',\n",
       " 'families',\n",
       " 'and',\n",
       " 'households',\n",
       " '.',\n",
       " 'Empowering',\n",
       " 'individuals',\n",
       " 'not',\n",
       " 'only',\n",
       " 'help',\n",
       " 'themselves',\n",
       " 'but',\n",
       " 'also',\n",
       " 'the',\n",
       " 'economy',\n",
       " 'of',\n",
       " 'the',\n",
       " 'nations',\n",
       " '.',\n",
       " 'Gender',\n",
       " 'equality',\n",
       " 'and',\n",
       " 'diversity',\n",
       " 'should',\n",
       " 'be',\n",
       " 'built',\n",
       " 'into',\n",
       " 'organizations',\n",
       " 'beliefs',\n",
       " 'and',\n",
       " 'values',\n",
       " '.',\n",
       " 'Global',\n",
       " 'Gender',\n",
       " 'Gap',\n",
       " 'Report',\n",
       " '2017',\n",
       " 'Perception',\n",
       " ':',\n",
       " 'If',\n",
       " 'we',\n",
       " 'see',\n",
       " 'the',\n",
       " 'word',\n",
       " 'gender',\n",
       " 'it',\n",
       " 'is',\n",
       " 'a',\n",
       " 'socially',\n",
       " 'constructed',\n",
       " 'definition',\n",
       " '.',\n",
       " 'And',\n",
       " 'this',\n",
       " 'definition',\n",
       " 'changes',\n",
       " 'as',\n",
       " 'per',\n",
       " 'different',\n",
       " 'cultural',\n",
       " 'norms',\n",
       " '.',\n",
       " 'In',\n",
       " 'a',\n",
       " 'much',\n",
       " 'broader',\n",
       " 'term',\n",
       " 'our',\n",
       " 'society',\n",
       " 'is',\n",
       " 'also',\n",
       " 'not',\n",
       " 'aware',\n",
       " 'of',\n",
       " 'the',\n",
       " 'concept',\n",
       " 'of',\n",
       " 'binary',\n",
       " 'and',\n",
       " 'non',\n",
       " 'binary',\n",
       " 'gender',\n",
       " 'which',\n",
       " 'includes',\n",
       " 'queer',\n",
       " 'Trans',\n",
       " 'and',\n",
       " 'Intersex',\n",
       " 'individuals',\n",
       " 'as',\n",
       " 'well',\n",
       " '.',\n",
       " 'The',\n",
       " 'socially',\n",
       " 'acceptable',\n",
       " 'thing',\n",
       " 'is',\n",
       " 'to',\n",
       " 'have',\n",
       " 'gender',\n",
       " 'expressions',\n",
       " 'as',\n",
       " 'per',\n",
       " 'our',\n",
       " 'gender',\n",
       " 'identity',\n",
       " '.',\n",
       " 'So',\n",
       " 'when',\n",
       " 'it',\n",
       " 'comes',\n",
       " 'to',\n",
       " 'choosing',\n",
       " 'their',\n",
       " 'career',\n",
       " 'people',\n",
       " 'tend',\n",
       " 'to',\n",
       " 'choose',\n",
       " 'a',\n",
       " 'job',\n",
       " 'role',\n",
       " 'that',\n",
       " 'gives',\n",
       " 'them',\n",
       " 'higher',\n",
       " 'social',\n",
       " 'belongingness',\n",
       " '.',\n",
       " 'E.g',\n",
       " '.',\n",
       " 'We',\n",
       " 'see',\n",
       " 'more',\n",
       " 'women',\n",
       " 'as',\n",
       " 'compared',\n",
       " 'to',\n",
       " 'men',\n",
       " 'in',\n",
       " 'nursing',\n",
       " 'careers',\n",
       " 'as',\n",
       " 'it',\n",
       " 'requires',\n",
       " 'more',\n",
       " 'feminine',\n",
       " 'qualities',\n",
       " '.',\n",
       " 'There',\n",
       " 'are',\n",
       " 'different',\n",
       " 'versions',\n",
       " 'of',\n",
       " 'this',\n",
       " 'perception',\n",
       " ':',\n",
       " 'which',\n",
       " 'we',\n",
       " 'can',\n",
       " 'see',\n",
       " 'either',\n",
       " 'in',\n",
       " 'the',\n",
       " 'society',\n",
       " 'in',\n",
       " 'terms',\n",
       " 'of',\n",
       " 'socially',\n",
       " 'assigned',\n",
       " 'gender',\n",
       " 'roles',\n",
       " 'or',\n",
       " 'in',\n",
       " 'the',\n",
       " 'workplace',\n",
       " 'in',\n",
       " 'the',\n",
       " 'form',\n",
       " 'of',\n",
       " 'gender',\n",
       " 'discrimination',\n",
       " 'stereotypical',\n",
       " 'thinking',\n",
       " 'sexism',\n",
       " 'etc',\n",
       " '.',\n",
       " '.',\n",
       " 'E.g',\n",
       " '.',\n",
       " 'As',\n",
       " 'per',\n",
       " 'their',\n",
       " 'assigned',\n",
       " 'roles',\n",
       " 'in',\n",
       " 'society',\n",
       " 'women',\n",
       " 'are',\n",
       " 'most',\n",
       " 'likely',\n",
       " 'to',\n",
       " 'take',\n",
       " 'care',\n",
       " 'of',\n",
       " 'their',\n",
       " 'family',\n",
       " 'and',\n",
       " 'children',\n",
       " 'and',\n",
       " 'this',\n",
       " 'affects',\n",
       " 'their',\n",
       " 'income',\n",
       " 'and',\n",
       " 'career',\n",
       " 'growth',\n",
       " '.',\n",
       " 'The',\n",
       " 'motherhood',\n",
       " 'penalty',\n",
       " 'is',\n",
       " 'a',\n",
       " 'term',\n",
       " 'defined',\n",
       " 'by',\n",
       " 'sociologists',\n",
       " 'which',\n",
       " 'states',\n",
       " 'about',\n",
       " 'the',\n",
       " 'inverse',\n",
       " 'correlation',\n",
       " 'between',\n",
       " 'income',\n",
       " 'level',\n",
       " 'and',\n",
       " 'the',\n",
       " 'number',\n",
       " 'of',\n",
       " 'children',\n",
       " 'i.e',\n",
       " '.',\n",
       " 'there',\n",
       " 'is',\n",
       " 'also',\n",
       " 'an',\n",
       " 'income',\n",
       " 'difference',\n",
       " 'between',\n",
       " 'a',\n",
       " 'mother',\n",
       " 'and',\n",
       " 'a',\n",
       " 'non',\n",
       " 'mother',\n",
       " 'employee',\n",
       " '.',\n",
       " 'As',\n",
       " 'per',\n",
       " 'OECD',\n",
       " 'data',\n",
       " '2012',\n",
       " 'there',\n",
       " 'is',\n",
       " 'a',\n",
       " '7',\n",
       " 'reduction',\n",
       " 'in',\n",
       " 'wages',\n",
       " 'for',\n",
       " 'women',\n",
       " 'per',\n",
       " 'child',\n",
       " '.',\n",
       " 'Lack',\n",
       " 'of',\n",
       " 'economic',\n",
       " 'opportunities',\n",
       " ':',\n",
       " 'Even',\n",
       " 'in',\n",
       " 'the',\n",
       " 'tech',\n",
       " 'industry',\n",
       " 'women',\n",
       " 'are',\n",
       " 'paid',\n",
       " 'less',\n",
       " 'than',\n",
       " 'men',\n",
       " '.',\n",
       " 'As',\n",
       " 'per',\n",
       " 'ILO',\n",
       " 'data',\n",
       " '2019',\n",
       " 'on',\n",
       " 'average',\n",
       " 'women',\n",
       " 'are',\n",
       " 'paid',\n",
       " '20',\n",
       " 'less',\n",
       " 'than',\n",
       " 'men',\n",
       " 'worldwide',\n",
       " '.',\n",
       " 'Even',\n",
       " 'when',\n",
       " 'it',\n",
       " 'comes',\n",
       " 'to',\n",
       " 'promotion',\n",
       " 'men',\n",
       " 'are',\n",
       " 'preferred',\n",
       " 'more',\n",
       " '.',\n",
       " 'It',\n",
       " 'is',\n",
       " 'to',\n",
       " 'be',\n",
       " 'noted',\n",
       " 'that',\n",
       " 'the',\n",
       " 'numbers',\n",
       " 'are',\n",
       " 'even',\n",
       " 'worse',\n",
       " 'when',\n",
       " 'there',\n",
       " 'is',\n",
       " 'intersectionality',\n",
       " 'involved',\n",
       " '.',\n",
       " 'E.g',\n",
       " '.',\n",
       " 'a',\n",
       " 'transgender',\n",
       " 'woman',\n",
       " 'will',\n",
       " 'be',\n",
       " 'paid',\n",
       " 'less',\n",
       " 'than',\n",
       " 'a',\n",
       " 'white',\n",
       " 'woman',\n",
       " 'and',\n",
       " 'so',\n",
       " 'on',\n",
       " '.',\n",
       " 'As',\n",
       " 'per',\n",
       " 'the',\n",
       " 'National',\n",
       " 'Centre',\n",
       " 'for',\n",
       " 'Transgender',\n",
       " 'equality',\n",
       " 'one',\n",
       " 'out',\n",
       " 'of',\n",
       " 'two',\n",
       " 'transgender',\n",
       " 'people',\n",
       " 'faces',\n",
       " 'adverse',\n",
       " 'effects',\n",
       " ':',\n",
       " 'including',\n",
       " '23',\n",
       " 'were',\n",
       " 'denied',\n",
       " 'a',\n",
       " 'promotion',\n",
       " '44',\n",
       " 'were',\n",
       " 'passed',\n",
       " 'over',\n",
       " 'for',\n",
       " 'a',\n",
       " 'particular',\n",
       " 'job',\n",
       " 'position',\n",
       " 'and',\n",
       " '26',\n",
       " 'are',\n",
       " 'fired',\n",
       " 'from',\n",
       " 'their',\n",
       " 'workplace',\n",
       " 'just',\n",
       " 'because',\n",
       " 'they',\n",
       " 'are',\n",
       " 'transgender',\n",
       " '.',\n",
       " 'We',\n",
       " 'can',\n",
       " 'improve',\n",
       " 'this',\n",
       " 'scenario',\n",
       " 'from',\n",
       " 'the',\n",
       " 'perspective',\n",
       " 'of',\n",
       " 'different',\n",
       " 'stakeholders',\n",
       " 'who',\n",
       " 'are',\n",
       " 'involved',\n",
       " '.',\n",
       " 'For',\n",
       " 'Society',\n",
       " ':',\n",
       " 'Creating',\n",
       " 'Tech',\n",
       " 'awareness',\n",
       " 'from',\n",
       " 'School',\n",
       " 'level',\n",
       " ':',\n",
       " 'As',\n",
       " 'per',\n",
       " 'the',\n",
       " 'HDR',\n",
       " 'report',\n",
       " '2017',\n",
       " 'no',\n",
       " '.',\n",
       " 'of',\n",
       " 'boys',\n",
       " 'pursuing',\n",
       " 'STEM',\n",
       " 'program',\n",
       " 'is',\n",
       " '97',\n",
       " 'higher',\n",
       " 'than',\n",
       " 'girls',\n",
       " '.',\n",
       " 'One',\n",
       " 'way',\n",
       " 'to',\n",
       " 'improve',\n",
       " 'this',\n",
       " 'is',\n",
       " 'to',\n",
       " 'introduce',\n",
       " 'more',\n",
       " 'strong',\n",
       " 'role',\n",
       " 'models',\n",
       " 'to',\n",
       " 'advocate',\n",
       " 'for',\n",
       " 'this',\n",
       " 'issue',\n",
       " '.',\n",
       " 'Minority',\n",
       " 'gender',\n",
       " 'communities',\n",
       " 'should',\n",
       " 'be',\n",
       " 'aware',\n",
       " 'of',\n",
       " 'the',\n",
       " 'multiple',\n",
       " 'job',\n",
       " 'opportunities',\n",
       " 'and',\n",
       " 'career',\n",
       " 'growth',\n",
       " 'available',\n",
       " 'in',\n",
       " 'this',\n",
       " 'field',\n",
       " '.',\n",
       " 'These',\n",
       " 'job',\n",
       " 'roles',\n",
       " 'are',\n",
       " 'not',\n",
       " 'even',\n",
       " 'gender',\n",
       " 'specific',\n",
       " 'anymore',\n",
       " '.',\n",
       " 'For',\n",
       " 'developing',\n",
       " 'countries',\n",
       " 'like',\n",
       " 'India',\n",
       " 'STEM',\n",
       " 'scholarship',\n",
       " 'programs',\n",
       " 'can',\n",
       " 'be',\n",
       " 'introduced',\n",
       " 'from',\n",
       " 'the',\n",
       " 'secondary',\n",
       " 'education',\n",
       " 'level',\n",
       " '.',\n",
       " 'Address',\n",
       " 'Bias/Stereotypes',\n",
       " ':',\n",
       " 'It',\n",
       " 'is',\n",
       " 'to',\n",
       " 'be',\n",
       " 'noted',\n",
       " 'that',\n",
       " 'perceptions',\n",
       " 'stereotypes',\n",
       " 'and',\n",
       " 'biases',\n",
       " 'are',\n",
       " 'not',\n",
       " 'just',\n",
       " 'something',\n",
       " 'we',\n",
       " 'learn',\n",
       " 'in',\n",
       " 'school',\n",
       " 'but',\n",
       " 'our',\n",
       " 'upbringing',\n",
       " 'also',\n",
       " 'creates',\n",
       " 'these',\n",
       " 'the',\n",
       " 'things',\n",
       " 'we',\n",
       " 'watch',\n",
       " 'listen',\n",
       " 'and',\n",
       " 'read',\n",
       " 'daily',\n",
       " '.',\n",
       " 'So',\n",
       " 'it',\n",
       " 'also',\n",
       " 'becomes',\n",
       " 'the',\n",
       " 'duty',\n",
       " 'of',\n",
       " 'the',\n",
       " 'society',\n",
       " 'to',\n",
       " 'create',\n",
       " 'a',\n",
       " 'more',\n",
       " 'inclusive',\n",
       " 'environment',\n",
       " '.',\n",
       " 'E.g',\n",
       " '.',\n",
       " 'A',\n",
       " 'more',\n",
       " 'privileged',\n",
       " 'person',\n",
       " 'should',\n",
       " 'fight',\n",
       " 'for',\n",
       " 'the',\n",
       " 'fundamental',\n",
       " 'right',\n",
       " 'of',\n",
       " 'the',\n",
       " 'less',\n",
       " 'empowered',\n",
       " 'or',\n",
       " 'less',\n",
       " 'privileged',\n",
       " 'person',\n",
       " 'in',\n",
       " 'society',\n",
       " '.',\n",
       " 'There',\n",
       " 'should',\n",
       " 'be',\n",
       " 'active',\n",
       " 'encouragement',\n",
       " 'from',\n",
       " 'parents',\n",
       " 'teachers',\n",
       " 'and',\n",
       " 'educators',\n",
       " 'for',\n",
       " 'students',\n",
       " 'in',\n",
       " 'STEM',\n",
       " 'programs',\n",
       " 'regardless',\n",
       " 'of',\n",
       " 'their',\n",
       " 'gender',\n",
       " 'identity',\n",
       " '.',\n",
       " 'For',\n",
       " 'Companies',\n",
       " ':',\n",
       " 'To',\n",
       " 'promote',\n",
       " 'gender',\n",
       " 'diversity',\n",
       " 'in',\n",
       " 'the',\n",
       " 'workplace',\n",
       " 'companies',\n",
       " 'need',\n",
       " 'to',\n",
       " 'focus',\n",
       " 'on',\n",
       " 'three',\n",
       " 'things',\n",
       " ':',\n",
       " 'Unbiased',\n",
       " 'Recruitment',\n",
       " 'policies',\n",
       " ':',\n",
       " 'Generally',\n",
       " 'there',\n",
       " 'is',\n",
       " 'a',\n",
       " 'lot',\n",
       " 'of',\n",
       " 'unconscious',\n",
       " 'bias',\n",
       " 'and',\n",
       " 'prejudices',\n",
       " 'when',\n",
       " 'hiring',\n",
       " 'women',\n",
       " 'trans',\n",
       " 'intersex',\n",
       " 'and',\n",
       " 'queer',\n",
       " 'individuals',\n",
       " '.',\n",
       " 'There',\n",
       " 'needs',\n",
       " 'to',\n",
       " 'be',\n",
       " 'a',\n",
       " 'diversity',\n",
       " 'and',\n",
       " 'inclusivity',\n",
       " 'team',\n",
       " 'in',\n",
       " 'the',\n",
       " 'HR',\n",
       " 'itself',\n",
       " 'that',\n",
       " 'addresses',\n",
       " 'these',\n",
       " 'issues',\n",
       " '.',\n",
       " 'A',\n",
       " 'blind',\n",
       " 'recruitment',\n",
       " 'drive',\n",
       " 'can',\n",
       " 'be',\n",
       " 'conducted',\n",
       " 'where',\n",
       " 'there',\n",
       " 'is',\n",
       " 'no',\n",
       " 'need',\n",
       " 'to',\n",
       " 'mention',\n",
       " 'gender',\n",
       " 'in',\n",
       " 'any',\n",
       " 'of',\n",
       " 'the',\n",
       " 'documents',\n",
       " '.',\n",
       " 'Having',\n",
       " 'structured',\n",
       " 'questions',\n",
       " 'during',\n",
       " 'the',\n",
       " 'interview',\n",
       " 'might',\n",
       " 'help',\n",
       " 'to',\n",
       " 'remove',\n",
       " 'any',\n",
       " 'unconscious',\n",
       " 'biases',\n",
       " '.',\n",
       " 'Diversity',\n",
       " 'sensitivity',\n",
       " 'training',\n",
       " ':',\n",
       " 'Workplace',\n",
       " 'policies',\n",
       " 'need',\n",
       " 'to',\n",
       " 'create',\n",
       " 'a',\n",
       " 'company',\n",
       " 'image',\n",
       " 'that',\n",
       " 'hires',\n",
       " 'everyone',\n",
       " 'irrespective',\n",
       " 'of',\n",
       " 'their',\n",
       " 'gender',\n",
       " 'identity',\n",
       " 'and',\n",
       " 'can',\n",
       " 'even',\n",
       " 'keep',\n",
       " 'it',\n",
       " 'optional',\n",
       " 'in',\n",
       " 'all',\n",
       " 'the',\n",
       " 'job',\n",
       " 'formalities',\n",
       " 'and',\n",
       " 'documents',\n",
       " '.',\n",
       " 'Conducting',\n",
       " 'proper',\n",
       " 'sensitivity',\n",
       " 'training',\n",
       " 'to',\n",
       " 'employees',\n",
       " 'is',\n",
       " 'essential',\n",
       " 'as',\n",
       " 'they',\n",
       " 'need',\n",
       " 'to',\n",
       " 'use',\n",
       " 'correct',\n",
       " 'pronoun/gender',\n",
       " 'neutral',\n",
       " 'language',\n",
       " '.',\n",
       " 'Not',\n",
       " 'just',\n",
       " 'sensitivity',\n",
       " 'training',\n",
       " 'strong',\n",
       " 'workplace',\n",
       " 'policies',\n",
       " 'need',\n",
       " 'to',\n",
       " 'be',\n",
       " 'in',\n",
       " 'place',\n",
       " 'which',\n",
       " 'deal',\n",
       " 'with',\n",
       " 'any',\n",
       " 'form',\n",
       " 'of',\n",
       " 'harassment',\n",
       " 'or',\n",
       " ...]"
      ]
     },
     "execution_count": 8,
     "metadata": {},
     "output_type": "execute_result"
    }
   ],
   "source": [
    "token = word_tokenize(texts)\n",
    "token"
   ]
  },
  {
   "cell_type": "code",
   "execution_count": 9,
   "id": "10016a09",
   "metadata": {},
   "outputs": [],
   "source": [
    "with open(\"D:\\lab\\Dataset\\Stopwords_Blackcoffer.txt\", 'r') as file:\n",
    "    data = file.read()"
   ]
  },
  {
   "cell_type": "code",
   "execution_count": 10,
   "id": "c567cbef",
   "metadata": {},
   "outputs": [
    {
     "data": {
      "text/plain": [
       "'ERNST\\nYOUNG\\nDELOITTE\\nTOUCHE\\nKPMG\\nPRICEWATERHOUSECOOPERS\\nPRICEWATERHOUSE\\nCOOPERS\\nAFGHANI\\nARIARY\\nBAHT\\n'"
      ]
     },
     "execution_count": 10,
     "metadata": {},
     "output_type": "execute_result"
    }
   ],
   "source": [
    "data[:100]"
   ]
  },
  {
   "cell_type": "code",
   "execution_count": 11,
   "id": "d65bfa92",
   "metadata": {},
   "outputs": [
    {
     "data": {
      "text/plain": [
       "'ERNST,YOUNG,DELOITTE,TOUCHE,KPMG,PRICEWATERHOUSECOOPERS,PRICEWATERHOUSE,COOPERS,AFGHANI,ARIARY,BAHT,'"
      ]
     },
     "execution_count": 11,
     "metadata": {},
     "output_type": "execute_result"
    }
   ],
   "source": [
    "data = data.replace('\\n', ',')\n",
    "data[:100]"
   ]
  },
  {
   "cell_type": "code",
   "execution_count": 12,
   "id": "0ef23874",
   "metadata": {},
   "outputs": [
    {
     "data": {
      "text/plain": [
       "'Gender diversity equal representation genders workplaces . One important sectors representation gender diversity technological industry . Gender diversity means equal opportunity limited gender . But '"
      ]
     },
     "execution_count": 12,
     "metadata": {},
     "output_type": "execute_result"
    }
   ],
   "source": [
    "new_texts = \" \".join([i for i in token if i not in data])\n",
    "new_texts[:200]"
   ]
  },
  {
   "cell_type": "code",
   "execution_count": 13,
   "id": "ea392da4",
   "metadata": {},
   "outputs": [
    {
     "name": "stdout",
     "output_type": "stream",
     "text": [
      "length before cleaning:  6851\n",
      "length after cleaning:  4659\n"
     ]
    }
   ],
   "source": [
    "print(\"length before cleaning: \", len(texts))\n",
    "print(\"length after cleaning: \", len(new_texts))"
   ]
  },
  {
   "cell_type": "markdown",
   "id": "1f456147",
   "metadata": {},
   "source": [
    "# Negative words"
   ]
  },
  {
   "cell_type": "code",
   "execution_count": 14,
   "id": "dc3618a7",
   "metadata": {},
   "outputs": [],
   "source": [
    "with open(\"D:\\\\lab\\\\Dataset\\\\Negative_words.txt\", 'r') as file:\n",
    "    negative = file.read()"
   ]
  },
  {
   "cell_type": "code",
   "execution_count": 15,
   "id": "2123c4cb",
   "metadata": {},
   "outputs": [
    {
     "data": {
      "text/plain": [
       "'2-faced\\n2-faces\\nabnormal\\nabolish\\nabominable\\nabominably\\nabominate\\nabomination\\nabort\\naborted\\naborts\\nabrade\\nabrasive\\nabrupt\\nabruptly\\nabscond\\nabsence\\nabsent-minded\\nabsentee\\nabsurd\\nabsurdity\\nabsurdly\\nabsurdness\\n'"
      ]
     },
     "execution_count": 15,
     "metadata": {},
     "output_type": "execute_result"
    }
   ],
   "source": [
    "negative[:206]"
   ]
  },
  {
   "cell_type": "code",
   "execution_count": 16,
   "id": "28f44c97",
   "metadata": {},
   "outputs": [
    {
     "data": {
      "text/plain": [
       "'2-faced,2-faces,abnormal,abolish,abominable,abominably,abominate,abomination,abort,aborted,aborts,abrade,abrasive,abrupt,abruptly,abscond,absence,absent-minded,absentee,absurd,absurdity,absurdly,absurdness,'"
      ]
     },
     "execution_count": 16,
     "metadata": {},
     "output_type": "execute_result"
    }
   ],
   "source": [
    "negative = negative.replace('\\n', ',')\n",
    "negative[:206]"
   ]
  },
  {
   "cell_type": "code",
   "execution_count": 17,
   "id": "31a272c0",
   "metadata": {},
   "outputs": [
    {
     "name": "stdout",
     "output_type": "stream",
     "text": [
      "['equal', 'representation', 'important', 'representation', 'equal', 'limited', 'true', 'outcry', 'stranger', 'understand', 'gap', 'biased', 'important', 'equality', 'lesser', 'sustainable', 'human', 'understand', 'representation', 'decision', 'back', 'equality', 'equality', 'term', 'concept', 'queer', 'acceptable', 'job', 'social', 'men', 'qualities', 'discrimination', 'stereotypical', 'care', 'penalty', 'term', 'defined', 'states', 'difference', 'mother', 'mother', 'child', 'economic', 'paid', 'men', 'paid', 'men', 'men', 'worse', 'woman', 'paid', 'white', 'woman', 'equality', 'faces', 'adverse', 'denied', 'job', 'position', 'issue', 'job', 'job', 'biases', 'watch', 'person', 'fundamental', 'person', 'active', 'lot', 'bias', 'prejudices', 'trans', 'queer', 'issues', 'blind', 'biases', 'sensitivity', 'training', 'job', 'proper', 'sensitivity', 'training', 'essential', 'correct', 'sensitivity', 'training', 'deal', 'harassment', 'discrimination', 'proper', 'child', 'care', 'helpful', 'work', 'life', 'balance', 'support', 'support', 'proper', 'constitutional', 'legal', 'gross', 'rates', 'proper', 'states', 'ensure', 'pay']\n"
     ]
    },
    {
     "data": {
      "text/plain": [
       "107"
      ]
     },
     "execution_count": 17,
     "metadata": {},
     "output_type": "execute_result"
    }
   ],
   "source": [
    "new_texts = word_tokenize(new_texts)\n",
    "negative_words = [i for i in new_texts if i in negative]\n",
    "print(negative_words)\n",
    "len(negative_words)"
   ]
  },
  {
   "cell_type": "markdown",
   "id": "0b24f011",
   "metadata": {},
   "source": [
    "# Positive words"
   ]
  },
  {
   "cell_type": "code",
   "execution_count": 18,
   "id": "4b003620",
   "metadata": {},
   "outputs": [
    {
     "data": {
      "text/plain": [
       "'a+\\nabound\\nabounds\\nabundance\\nabundant\\naccessable\\naccessible\\nacclaim\\nacclaimed\\nacclamation\\naccolade\\naccolades\\naccommodative\\naccomodative\\naccomplish\\naccomplished\\naccomplishment\\naccomplishments\\naccurate\\naccurately\\n'"
      ]
     },
     "execution_count": 18,
     "metadata": {},
     "output_type": "execute_result"
    }
   ],
   "source": [
    "with open(\"D:\\\\lab\\\\Dataset\\\\Positive_words.txt\", 'r') as file:\n",
    "    positive = file.read()\n",
    "positive[:210]    "
   ]
  },
  {
   "cell_type": "code",
   "execution_count": 19,
   "id": "66ed38c6",
   "metadata": {},
   "outputs": [
    {
     "data": {
      "text/plain": [
       "'a+,abound,abounds,abundance,abundant,accessable,accessible,acclaim,acclaimed,acclamation,accolade,accolades,accommodative,accomodative,accomplish,accomplished,accomplishment,accomplishments,accurate,accurately,'"
      ]
     },
     "execution_count": 19,
     "metadata": {},
     "output_type": "execute_result"
    }
   ],
   "source": [
    "positive = positive.replace('\\n',',')\n",
    "positive[:210]"
   ]
  },
  {
   "cell_type": "code",
   "execution_count": 20,
   "id": "fc1387e8",
   "metadata": {},
   "outputs": [
    {
     "name": "stdout",
     "output_type": "stream",
     "text": [
      "['important', 'limited', 'world', 'understand', 'biased', 'rapid', 'important', 'world', 'violence', 'world', 'sustainable', 'human', 'understand', 'positive', 'back', 'term', 'men', 'care', 'term', 'economic', 'men', 'men', 'men', 'position', 'improve', 'improve', 'strong', 'advocate', 'issue', 'listen', 'privileged', 'person', 'privileged', 'person', 'active', 'encouragement', 'promote', 'bias', 'trans', 'structured', 'proper', 'correct', 'strong', 'deal', 'proper', 'care', 'flexibility', 'working', 'working', 'helpful', 'work', 'life', 'balance', 'support', 'support', 'proper', 'gross', 'proper']\n"
     ]
    },
    {
     "data": {
      "text/plain": [
       "58"
      ]
     },
     "execution_count": 20,
     "metadata": {},
     "output_type": "execute_result"
    }
   ],
   "source": [
    "positive_words = [i for i in new_texts if i in positive]\n",
    "print(positive_words)\n",
    "len(positive_words)"
   ]
  },
  {
   "cell_type": "markdown",
   "id": "1b59646d",
   "metadata": {},
   "source": [
    "#### positive Score\n"
   ]
  },
  {
   "cell_type": "code",
   "execution_count": 21,
   "id": "7d0fbab1",
   "metadata": {},
   "outputs": [
    {
     "name": "stdout",
     "output_type": "stream",
     "text": [
      "58\n"
     ]
    }
   ],
   "source": [
    "pos_score = len(positive_words)\n",
    "print(pos_score)"
   ]
  },
  {
   "cell_type": "markdown",
   "id": "54a6cc12",
   "metadata": {},
   "source": [
    "#### Negative Score"
   ]
  },
  {
   "cell_type": "code",
   "execution_count": 22,
   "id": "df0766cd",
   "metadata": {},
   "outputs": [
    {
     "name": "stdout",
     "output_type": "stream",
     "text": [
      "107\n"
     ]
    }
   ],
   "source": [
    "neg_score=len(negative_words)\n",
    "print(neg_score)"
   ]
  },
  {
   "cell_type": "markdown",
   "id": "84da7ab7",
   "metadata": {},
   "source": [
    "#### Polarity Score"
   ]
  },
  {
   "cell_type": "code",
   "execution_count": 23,
   "id": "21e88c2b",
   "metadata": {},
   "outputs": [
    {
     "data": {
      "text/plain": [
       "-0.3"
      ]
     },
     "execution_count": 23,
     "metadata": {},
     "output_type": "execute_result"
    }
   ],
   "source": [
    "Polarity_Score = (pos_score - neg_score)/((pos_score + neg_score) + 0.000001)\n",
    "round(Polarity_Score,2)"
   ]
  },
  {
   "cell_type": "code",
   "execution_count": 24,
   "id": "08bcb4ab",
   "metadata": {},
   "outputs": [
    {
     "name": "stdout",
     "output_type": "stream",
     "text": [
      "number of words after cleaning : 641\n"
     ]
    }
   ],
   "source": [
    "word_count = len(new_texts)\n",
    "print(\"number of words after cleaning :\",word_count)"
   ]
  },
  {
   "cell_type": "markdown",
   "id": "16495ba1",
   "metadata": {},
   "source": [
    "#### Subjectivity Score"
   ]
  },
  {
   "cell_type": "code",
   "execution_count": 25,
   "id": "841713a3",
   "metadata": {},
   "outputs": [
    {
     "data": {
      "text/plain": [
       "0.26"
      ]
     },
     "execution_count": 25,
     "metadata": {},
     "output_type": "execute_result"
    }
   ],
   "source": [
    "Subjectivity_Score = (pos_score + neg_score)/ ((word_count) + 0.000001)\n",
    "round(Subjectivity_Score,2)"
   ]
  },
  {
   "cell_type": "markdown",
   "id": "0d7c370e",
   "metadata": {},
   "source": [
    "# Analysis of Readability"
   ]
  },
  {
   "cell_type": "code",
   "execution_count": 26,
   "id": "10209a7a",
   "metadata": {},
   "outputs": [
    {
     "data": {
      "text/plain": [
       "1164"
      ]
     },
     "execution_count": 26,
     "metadata": {},
     "output_type": "execute_result"
    }
   ],
   "source": [
    "import nltk\n",
    "from nltk.tokenize import word_tokenize\n",
    "word_tokens = nltk.word_tokenize(texts)\n",
    "No_of_words = len(word_tokens)\n",
    "No_of_words"
   ]
  },
  {
   "cell_type": "code",
   "execution_count": 27,
   "id": "bfac2ab7",
   "metadata": {},
   "outputs": [
    {
     "data": {
      "text/plain": [
       "62"
      ]
     },
     "execution_count": 27,
     "metadata": {},
     "output_type": "execute_result"
    }
   ],
   "source": [
    "sent_tokens = nltk.sent_tokenize(texts)\n",
    "No_of_sents = len(sent_tokens)\n",
    "No_of_sents "
   ]
  },
  {
   "cell_type": "markdown",
   "id": "1576acfe",
   "metadata": {},
   "source": [
    "### Average sentence Length\n"
   ]
  },
  {
   "cell_type": "code",
   "execution_count": 28,
   "id": "11d6a7ec",
   "metadata": {},
   "outputs": [
    {
     "data": {
      "text/plain": [
       "18.77"
      ]
     },
     "execution_count": 28,
     "metadata": {},
     "output_type": "execute_result"
    }
   ],
   "source": [
    "Avg_Sents_Length = No_of_words / No_of_sents\n",
    "round(Avg_Sents_Length,2)"
   ]
  },
  {
   "cell_type": "markdown",
   "id": "bc20ee3d",
   "metadata": {},
   "source": [
    "### Percentage of Complex words\n",
    "Complex words: words with more than 2 syllable are called complex words"
   ]
  },
  {
   "cell_type": "code",
   "execution_count": 29,
   "id": "eba6a8b1",
   "metadata": {},
   "outputs": [
    {
     "name": "stdout",
     "output_type": "stream",
     "text": [
      "Number of complex words: 198\n",
      "Total number of words: 6851\n"
     ]
    }
   ],
   "source": [
    "from nltk.corpus import cmudict\n",
    "cmud = cmudict.dict()\n",
    "\n",
    "# Defining a function to count syllables in a word\n",
    "def count_syllables(word):\n",
    "    phonemes = cmud[word.lower()][0] \n",
    "    return len([s for s in phonemes if s[-1].isdigit()])\n",
    "\n",
    "# Identifing complex words\n",
    "w_tokens = [i for i in word_tokens if i in cmud]\n",
    "complex_words = [word for word in w_tokens if count_syllables(word) > 2]\n",
    "\n",
    "# Calculatingnumber of complex words\n",
    "num_complex_words = len(complex_words)\n",
    "\n",
    "print(\"Number of complex words:\", num_complex_words)\n",
    "print(\"Total number of words:\", len(texts))"
   ]
  },
  {
   "cell_type": "code",
   "execution_count": 30,
   "id": "e982c0a1",
   "metadata": {},
   "outputs": [
    {
     "data": {
      "text/plain": [
       "34.6"
      ]
     },
     "execution_count": 30,
     "metadata": {},
     "output_type": "execute_result"
    }
   ],
   "source": [
    "Perc_of_Complex_words = len(texts) / num_complex_words\n",
    "round(Perc_of_Complex_words,2)"
   ]
  },
  {
   "cell_type": "markdown",
   "id": "77e948d1",
   "metadata": {},
   "source": [
    "### Fog Index"
   ]
  },
  {
   "cell_type": "code",
   "execution_count": 31,
   "id": "95fb10bb",
   "metadata": {},
   "outputs": [
    {
     "name": "stdout",
     "output_type": "stream",
     "text": [
      "Average sentence length: 62.0\n"
     ]
    }
   ],
   "source": [
    "# Tokenize each sentence into words\n",
    "words = [word_tokens for sentence in sent_tokens]\n",
    "\n",
    "# Calculate the average sentence length\n",
    "avg_sent_len = sum(No_of_sents for sentence in words) / No_of_sents\n",
    "\n",
    "print(\"Average sentence length:\", avg_sent_len)\n"
   ]
  },
  {
   "cell_type": "code",
   "execution_count": 32,
   "id": "38f5a93b",
   "metadata": {},
   "outputs": [
    {
     "data": {
      "text/plain": [
       "38.64"
      ]
     },
     "execution_count": 32,
     "metadata": {},
     "output_type": "execute_result"
    }
   ],
   "source": [
    "Fog_index = 0.4 * (avg_sent_len + Perc_of_Complex_words)\n",
    "round(Fog_index,2)"
   ]
  },
  {
   "cell_type": "markdown",
   "id": "5b4aacea",
   "metadata": {},
   "source": [
    "# Average Number of Words Per Sentence"
   ]
  },
  {
   "cell_type": "code",
   "execution_count": 33,
   "id": "45da1407",
   "metadata": {},
   "outputs": [
    {
     "data": {
      "text/plain": [
       "18.77"
      ]
     },
     "execution_count": 33,
     "metadata": {},
     "output_type": "execute_result"
    }
   ],
   "source": [
    "avg_no_of_words_per_sent = No_of_words / No_of_sents\n",
    "round(avg_no_of_words_per_sent,2)"
   ]
  },
  {
   "cell_type": "markdown",
   "id": "f2d9b493",
   "metadata": {},
   "source": [
    "# Complex Word Count"
   ]
  },
  {
   "cell_type": "code",
   "execution_count": 34,
   "id": "75304424",
   "metadata": {},
   "outputs": [
    {
     "name": "stdout",
     "output_type": "stream",
     "text": [
      "complex word count: 198\n"
     ]
    }
   ],
   "source": [
    "from nltk.corpus import cmudict\n",
    "cmud = cmudict.dict()\n",
    "\n",
    "# Defining a function to count syllables in a word\n",
    "def count_syllables(word):\n",
    "    phonemes = cmud[word.lower()][0] \n",
    "    return len([s for s in phonemes if s[-1].isdigit()])\n",
    "\n",
    "# Identifing complex words\n",
    "w_tokens = [i for i in word_tokens if i in cmud]\n",
    "complex_words = [word for word in w_tokens if count_syllables(word) > 2]\n",
    "\n",
    "# Calculatingnumber of complex words\n",
    "num_complex_words = len(complex_words)\n",
    "\n",
    "print(\"complex word count:\", num_complex_words)"
   ]
  },
  {
   "cell_type": "markdown",
   "id": "99ea5188",
   "metadata": {},
   "source": [
    "# Word Count\n",
    "number of words after cleaning"
   ]
  },
  {
   "cell_type": "code",
   "execution_count": 35,
   "id": "b4fb0c72",
   "metadata": {},
   "outputs": [
    {
     "data": {
      "text/plain": [
       "641"
      ]
     },
     "execution_count": 35,
     "metadata": {},
     "output_type": "execute_result"
    }
   ],
   "source": [
    "len(new_texts)"
   ]
  },
  {
   "cell_type": "markdown",
   "id": "ca8076ff",
   "metadata": {},
   "source": [
    "# Syllable Count Per Word"
   ]
  },
  {
   "cell_type": "code",
   "execution_count": 36,
   "id": "6f0b4e4f",
   "metadata": {},
   "outputs": [
    {
     "name": "stdout",
     "output_type": "stream",
     "text": [
      "Enter a word to get syllable: gender\n",
      "Number of syllable in a word : 2\n"
     ]
    }
   ],
   "source": [
    "word = input(\"Enter a word to get syllable: \")\n",
    "def count_syllables(word):\n",
    "    phonemes = cmud[word.lower()][0] \n",
    "    return len([s for s in phonemes if s[-1].isdigit()])\n",
    "\n",
    "print(\"Number of syllable in a word :\",count_syllables(word))"
   ]
  },
  {
   "cell_type": "markdown",
   "id": "1d3a18f6",
   "metadata": {},
   "source": [
    "# Personal Pronouns"
   ]
  },
  {
   "cell_type": "code",
   "execution_count": 37,
   "id": "0b8e0d2d",
   "metadata": {},
   "outputs": [
    {
     "name": "stdout",
     "output_type": "stream",
     "text": [
      "Personal pronoun frequency: {'you': 1, 'it': 13, 'we': 8, 'them': 1, 'i': 1, 'they': 2}\n",
      "total number of pronouns in a article : 26\n"
     ]
    }
   ],
   "source": [
    "import re\n",
    "\n",
    "# Define a regex pattern to match personal pronouns\n",
    "pattern = r'\\b(I|you|he|she|it|we|they|me|him|her|us|them)\\b'\n",
    "\n",
    "# Count the frequency of personal pronouns\n",
    "pronoun_freq = {}\n",
    "for pronoun in re.findall(pattern, texts, re.IGNORECASE):\n",
    "    pronoun = pronoun.lower()\n",
    "    if pronoun in pronoun_freq:\n",
    "        pronoun_freq[pronoun] += 1\n",
    "    else:\n",
    "        pronoun_freq[pronoun] = 1\n",
    "\n",
    "print(\"Personal pronoun frequency:\", pronoun_freq)\n",
    "def returnSum(dict):\n",
    " \n",
    "    sum = 0\n",
    "    for i in pronoun_freq.values():\n",
    "        sum = sum + i\n",
    " \n",
    "    return sum\n",
    "print(\"total number of pronouns in a article :\",returnSum(pronoun_freq))"
   ]
  },
  {
   "cell_type": "markdown",
   "id": "e3fc87f8",
   "metadata": {},
   "source": [
    "# Average Word Length"
   ]
  },
  {
   "cell_type": "code",
   "execution_count": 38,
   "id": "5bde37d9",
   "metadata": {},
   "outputs": [
    {
     "name": "stdout",
     "output_type": "stream",
     "text": [
      "Average word length: 4.89\n"
     ]
    }
   ],
   "source": [
    "# Calculate the total number of characters in all words\n",
    "total_chars = sum(len(word) for word in word_tokens)\n",
    "\n",
    "avg_word_length = total_chars / No_of_words\n",
    "\n",
    "print(\"Average word length:\", round(avg_word_length,2))\n"
   ]
  },
  {
   "cell_type": "code",
   "execution_count": null,
   "id": "63dc25ad",
   "metadata": {},
   "outputs": [],
   "source": []
  },
  {
   "cell_type": "code",
   "execution_count": null,
   "id": "819012c5",
   "metadata": {},
   "outputs": [],
   "source": []
  }
 ],
 "metadata": {
  "kernelspec": {
   "display_name": "Python 3",
   "language": "python",
   "name": "python3"
  },
  "language_info": {
   "codemirror_mode": {
    "name": "ipython",
    "version": 3
   },
   "file_extension": ".py",
   "mimetype": "text/x-python",
   "name": "python",
   "nbconvert_exporter": "python",
   "pygments_lexer": "ipython3",
   "version": "3.8.8"
  }
 },
 "nbformat": 4,
 "nbformat_minor": 5
}
