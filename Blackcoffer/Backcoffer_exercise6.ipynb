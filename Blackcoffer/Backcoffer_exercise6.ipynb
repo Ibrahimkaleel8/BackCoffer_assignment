{
 "cells": [
  {
   "cell_type": "markdown",
   "id": "b9312f26",
   "metadata": {},
   "source": [
    "# Data scraping"
   ]
  },
  {
   "cell_type": "code",
   "execution_count": 1,
   "id": "ef4785ca",
   "metadata": {},
   "outputs": [],
   "source": [
    "import nltk\n",
    "import requests\n",
    "from bs4 import BeautifulSoup"
   ]
  },
  {
   "cell_type": "code",
   "execution_count": 2,
   "id": "ac2f2459",
   "metadata": {},
   "outputs": [],
   "source": [
    "req = requests.get(\"https://insights.blackcoffer.com/man-and-machines-together-machines-are-more-diligent-than-humans-blackcoffe/\")"
   ]
  },
  {
   "cell_type": "code",
   "execution_count": 3,
   "id": "45f9fa09",
   "metadata": {},
   "outputs": [],
   "source": [
    "soup = BeautifulSoup(req.content, \"html.parser\")\n",
    "res = soup.title\n",
    "paras = soup.find_all('p')"
   ]
  },
  {
   "cell_type": "code",
   "execution_count": 4,
   "id": "dbb256b2",
   "metadata": {
    "scrolled": true
   },
   "outputs": [
    {
     "name": "stdout",
     "output_type": "stream",
     "text": [
      "Where is this disruptive technology taking us? Take it or leave it, disruptive technology always creates new jobs much more than depleted jobs. You might notice certain jobs disappearing but those jobs are the jobs that transform humans to robots, to machines, and the technology is creating machines to replace them.  Technology creates the data analysis tools to manipulate and create custom scenarios using artificial intelligence (AI), Big Data and Machine Learning (ML) algorithms to predict and drive consumer behavior. Data Analytics tools, such as Google Analytics , and others are available today for free, and, if used correctly, can help organizations save millions, maybe billions of dollars of sales and marketing. Before I go on, I think it’s best to level set on what constitutes machines. In the context of this article , machines describe computers and computerized equipment, like robots, that have been programmed to learn, sometimes like humans. Occasionally we call this Artificial Intelligence (AI), other times we call this machine learning, and still other times we call this robotics. And yes, these are technically different things. These bots are more efficient than humans in some specific domains and are growing smarter with each passing day. They can do some really tough tasks which are considered difficult for any human being.  But, within the broad discussion related to the future of work, these are totally interrelated. Factory floors deploy robots that are increasingly driven by machine learning algorithms such that they can adjust to people working alongside them. A machine can work efficiently only it has abundant data and information about the work which is being imparted daily to them. But with every forward step & advancement in technology, a threat is proliferating, a threat of being replaced on our work front. Every passing day is sealing some jobs for humans all over the globe. Similarly, AI is being used to turn hand-drawn sketches (done by humans) into digital source code. Companies are clearly developing their AI and robotics expertise with the idea that through these technological innovations they’ll be able to Of course, it’s not just machines and creatives working together either. In another example, Amazon has employed more than 100,000 robots in its warehouses to efficiently move things around while it has increased its warehouse workforce by more than 80,000. Humans, in Amazon’s case, do the picking and packing of goods while robots move orders around the giant warehouses, essentially cutting “down on the walking required of workers, making Amazon pickers more efficient and less tired.” Plus, the robots “allow Amazon to pack shelves together like cars in rush-hour traffic because they no longer need aisle space for humans. The greater density of shelf space means more inventory under one roof, which means better selection for customers.” During the next few decades (or maybe sooner), the notion of work and whether it is handled by a human or a virtual being will hinge on predictability. As they are starting to do today, machines will manage the routine while humans take on the unpredictable – tasks that require creativity, problem-solving, and flexibility. In this context, robotics should be seen not only as a means to improve operations efficiency but also to improve the quality of life for workers. Although it is obvious that human factors involved in a work activity impact job automation, it is also true that highly repetitive tasks—and even mechanical ones—are ideal for robots. Besides greater efficiency and speed, automation leads to a lower risk of accidents, greater control and autonomy, and above all, fewer costs for organizations. Although artificial intelligence and machine learning make us believe that robots are endowed with superior intelligence, in fact they don’t yet have the ability to learn from experience and to respond to unknowns. So as things stand, however much processing speed and automatic learning a robot has, it doesn’t beat factors innate to the human brain. Humans are still a very essential part of the process. Think about delivering services to a client. Most customer challenges are routine, but humans play a very important role in addressing new issues, solving them the first time they appear, and then consolidating the process into the system. While machines and humans are placed in proximity,  robots can be expensive, but this doesn’t apply to all types, especially those based on Robotic Process Automation (RPA), where the development process incorporates algorithms that significantly reduce costs. Moreover, think of how domestic robots—be it a vacuum cleaner, a lawn mower or a pool cleaner—are increasingly part of our daily lives. This level of consumption that robotics has attained makes it affordable to automate tasks in modern homes to obtain greater control, security and comfort. The division between humans and machines has been clear – I’m here, the machine is there – but that boundary is getting fuzzier. Smart prosthetics fuse seamlessly with our bodies, making up for lost limbs or providing additional strength, stability, or resilience, as seen in exoskeletons donned by assembly line workers. We use our smartphones symbiotically, but what if they were integrated directly into our bodies? Think a smartphone in the form of a contact lens capable of transparently delivering augmented reality images straight to the brain. Think it sounds like science fiction? Think again. The first prototypes have already been built. Soon, brain-computer interfaces could become seamless as well, creating a new synergistic relationship between the cloud and us. At that point, the question of who knows what would be moot; you ask me a question and I know the answer. Sometimes that answer will be stored in my own neural circuitry, but most of the time it would come from the connection of my neurons to the web. Our brain’s decision process is influenced by the way it has been “educated” by the cultural context. These external factors are influencing our decision processes to the point that in certain situations, we can legitimately claim that influence has been so strong that our brains can’t be held accountable for the choices made. The point I’m trying to make is that we humans are in symbiosis with our cultural environment and the tools – both physical and conceptual – that we have been taught to use. My guess is that the transformation will be subtle. Practically speaking, robots growing to the point that they take over the world and then start creating smarter, better robots are impractical and should not even be a concern. None of this is expected in the near future, not by a long shot. If you’ve been to an ATM, waited for a PC to boot up after a catastrophic failure, or had a game crash on your X box just when you were about to reach a checkpoint, you understand that we are not in a world where machines do everything perfectly right. Before they can take over all of our jobs, they need to be able to do theirs’ flawlessly; until then, we can depend on humans to mess up our lives. This isn’t a win-or-lose situation. We’re going to wind up as a partner to our smarter machines, and that partnership will be fostered by our augmentation through technology. Machines will play an essential role in this augmentation and, as with any successful technology, they will fall below our level of perception. In the end, the revolution will be silent and invisible. \n"
     ]
    }
   ],
   "source": [
    "texts = \" \".join([paragraph.text.strip() for paragraph in paras])\n",
    "print(texts)"
   ]
  },
  {
   "cell_type": "code",
   "execution_count": 5,
   "id": "e79f5f60",
   "metadata": {},
   "outputs": [
    {
     "data": {
      "text/plain": [
       "7544"
      ]
     },
     "execution_count": 5,
     "metadata": {},
     "output_type": "execute_result"
    }
   ],
   "source": [
    "len(texts)"
   ]
  },
  {
   "cell_type": "markdown",
   "id": "db8f1fcc",
   "metadata": {},
   "source": [
    "Removing Punctuation"
   ]
  },
  {
   "cell_type": "code",
   "execution_count": 6,
   "id": "5285c8a8",
   "metadata": {},
   "outputs": [
    {
     "data": {
      "text/plain": [
       "7544"
      ]
     },
     "execution_count": 6,
     "metadata": {},
     "output_type": "execute_result"
    }
   ],
   "source": [
    "import re\n",
    "import string\n",
    "texts = re.sub(r'[\\'\\“\\”\\()\\%\\,\\-\\'\\’\\?\\ ]', ' ', texts)\n",
    "texts[0:200]\n",
    "len(texts)"
   ]
  },
  {
   "cell_type": "markdown",
   "id": "4fafe7be",
   "metadata": {},
   "source": [
    "# Removing Stopwords"
   ]
  },
  {
   "cell_type": "code",
   "execution_count": 7,
   "id": "089b8663",
   "metadata": {},
   "outputs": [],
   "source": [
    "from nltk.tokenize import word_tokenize"
   ]
  },
  {
   "cell_type": "code",
   "execution_count": 8,
   "id": "280876b0",
   "metadata": {},
   "outputs": [
    {
     "data": {
      "text/plain": [
       "['Where',\n",
       " 'is',\n",
       " 'this',\n",
       " 'disruptive',\n",
       " 'technology',\n",
       " 'taking',\n",
       " 'us',\n",
       " 'Take',\n",
       " 'it',\n",
       " 'or',\n",
       " 'leave',\n",
       " 'it',\n",
       " 'disruptive',\n",
       " 'technology',\n",
       " 'always',\n",
       " 'creates',\n",
       " 'new',\n",
       " 'jobs',\n",
       " 'much',\n",
       " 'more',\n",
       " 'than',\n",
       " 'depleted',\n",
       " 'jobs',\n",
       " '.',\n",
       " 'You',\n",
       " 'might',\n",
       " 'notice',\n",
       " 'certain',\n",
       " 'jobs',\n",
       " 'disappearing',\n",
       " 'but',\n",
       " 'those',\n",
       " 'jobs',\n",
       " 'are',\n",
       " 'the',\n",
       " 'jobs',\n",
       " 'that',\n",
       " 'transform',\n",
       " 'humans',\n",
       " 'to',\n",
       " 'robots',\n",
       " 'to',\n",
       " 'machines',\n",
       " 'and',\n",
       " 'the',\n",
       " 'technology',\n",
       " 'is',\n",
       " 'creating',\n",
       " 'machines',\n",
       " 'to',\n",
       " 'replace',\n",
       " 'them',\n",
       " '.',\n",
       " 'Technology',\n",
       " 'creates',\n",
       " 'the',\n",
       " 'data',\n",
       " 'analysis',\n",
       " 'tools',\n",
       " 'to',\n",
       " 'manipulate',\n",
       " 'and',\n",
       " 'create',\n",
       " 'custom',\n",
       " 'scenarios',\n",
       " 'using',\n",
       " 'artificial',\n",
       " 'intelligence',\n",
       " 'AI',\n",
       " 'Big',\n",
       " 'Data',\n",
       " 'and',\n",
       " 'Machine',\n",
       " 'Learning',\n",
       " 'ML',\n",
       " 'algorithms',\n",
       " 'to',\n",
       " 'predict',\n",
       " 'and',\n",
       " 'drive',\n",
       " 'consumer',\n",
       " 'behavior',\n",
       " '.',\n",
       " 'Data',\n",
       " 'Analytics',\n",
       " 'tools',\n",
       " 'such',\n",
       " 'as',\n",
       " 'Google',\n",
       " 'Analytics',\n",
       " 'and',\n",
       " 'others',\n",
       " 'are',\n",
       " 'available',\n",
       " 'today',\n",
       " 'for',\n",
       " 'free',\n",
       " 'and',\n",
       " 'if',\n",
       " 'used',\n",
       " 'correctly',\n",
       " 'can',\n",
       " 'help',\n",
       " 'organizations',\n",
       " 'save',\n",
       " 'millions',\n",
       " 'maybe',\n",
       " 'billions',\n",
       " 'of',\n",
       " 'dollars',\n",
       " 'of',\n",
       " 'sales',\n",
       " 'and',\n",
       " 'marketing',\n",
       " '.',\n",
       " 'Before',\n",
       " 'I',\n",
       " 'go',\n",
       " 'on',\n",
       " 'I',\n",
       " 'think',\n",
       " 'it',\n",
       " 's',\n",
       " 'best',\n",
       " 'to',\n",
       " 'level',\n",
       " 'set',\n",
       " 'on',\n",
       " 'what',\n",
       " 'constitutes',\n",
       " 'machines',\n",
       " '.',\n",
       " 'In',\n",
       " 'the',\n",
       " 'context',\n",
       " 'of',\n",
       " 'this',\n",
       " 'article',\n",
       " 'machines',\n",
       " 'describe',\n",
       " 'computers',\n",
       " 'and',\n",
       " 'computerized',\n",
       " 'equipment',\n",
       " 'like',\n",
       " 'robots',\n",
       " 'that',\n",
       " 'have',\n",
       " 'been',\n",
       " 'programmed',\n",
       " 'to',\n",
       " 'learn',\n",
       " 'sometimes',\n",
       " 'like',\n",
       " 'humans',\n",
       " '.',\n",
       " 'Occasionally',\n",
       " 'we',\n",
       " 'call',\n",
       " 'this',\n",
       " 'Artificial',\n",
       " 'Intelligence',\n",
       " 'AI',\n",
       " 'other',\n",
       " 'times',\n",
       " 'we',\n",
       " 'call',\n",
       " 'this',\n",
       " 'machine',\n",
       " 'learning',\n",
       " 'and',\n",
       " 'still',\n",
       " 'other',\n",
       " 'times',\n",
       " 'we',\n",
       " 'call',\n",
       " 'this',\n",
       " 'robotics',\n",
       " '.',\n",
       " 'And',\n",
       " 'yes',\n",
       " 'these',\n",
       " 'are',\n",
       " 'technically',\n",
       " 'different',\n",
       " 'things',\n",
       " '.',\n",
       " 'These',\n",
       " 'bots',\n",
       " 'are',\n",
       " 'more',\n",
       " 'efficient',\n",
       " 'than',\n",
       " 'humans',\n",
       " 'in',\n",
       " 'some',\n",
       " 'specific',\n",
       " 'domains',\n",
       " 'and',\n",
       " 'are',\n",
       " 'growing',\n",
       " 'smarter',\n",
       " 'with',\n",
       " 'each',\n",
       " 'passing',\n",
       " 'day',\n",
       " '.',\n",
       " 'They',\n",
       " 'can',\n",
       " 'do',\n",
       " 'some',\n",
       " 'really',\n",
       " 'tough',\n",
       " 'tasks',\n",
       " 'which',\n",
       " 'are',\n",
       " 'considered',\n",
       " 'difficult',\n",
       " 'for',\n",
       " 'any',\n",
       " 'human',\n",
       " 'being',\n",
       " '.',\n",
       " 'But',\n",
       " 'within',\n",
       " 'the',\n",
       " 'broad',\n",
       " 'discussion',\n",
       " 'related',\n",
       " 'to',\n",
       " 'the',\n",
       " 'future',\n",
       " 'of',\n",
       " 'work',\n",
       " 'these',\n",
       " 'are',\n",
       " 'totally',\n",
       " 'interrelated',\n",
       " '.',\n",
       " 'Factory',\n",
       " 'floors',\n",
       " 'deploy',\n",
       " 'robots',\n",
       " 'that',\n",
       " 'are',\n",
       " 'increasingly',\n",
       " 'driven',\n",
       " 'by',\n",
       " 'machine',\n",
       " 'learning',\n",
       " 'algorithms',\n",
       " 'such',\n",
       " 'that',\n",
       " 'they',\n",
       " 'can',\n",
       " 'adjust',\n",
       " 'to',\n",
       " 'people',\n",
       " 'working',\n",
       " 'alongside',\n",
       " 'them',\n",
       " '.',\n",
       " 'A',\n",
       " 'machine',\n",
       " 'can',\n",
       " 'work',\n",
       " 'efficiently',\n",
       " 'only',\n",
       " 'it',\n",
       " 'has',\n",
       " 'abundant',\n",
       " 'data',\n",
       " 'and',\n",
       " 'information',\n",
       " 'about',\n",
       " 'the',\n",
       " 'work',\n",
       " 'which',\n",
       " 'is',\n",
       " 'being',\n",
       " 'imparted',\n",
       " 'daily',\n",
       " 'to',\n",
       " 'them',\n",
       " '.',\n",
       " 'But',\n",
       " 'with',\n",
       " 'every',\n",
       " 'forward',\n",
       " 'step',\n",
       " '&',\n",
       " 'advancement',\n",
       " 'in',\n",
       " 'technology',\n",
       " 'a',\n",
       " 'threat',\n",
       " 'is',\n",
       " 'proliferating',\n",
       " 'a',\n",
       " 'threat',\n",
       " 'of',\n",
       " 'being',\n",
       " 'replaced',\n",
       " 'on',\n",
       " 'our',\n",
       " 'work',\n",
       " 'front',\n",
       " '.',\n",
       " 'Every',\n",
       " 'passing',\n",
       " 'day',\n",
       " 'is',\n",
       " 'sealing',\n",
       " 'some',\n",
       " 'jobs',\n",
       " 'for',\n",
       " 'humans',\n",
       " 'all',\n",
       " 'over',\n",
       " 'the',\n",
       " 'globe',\n",
       " '.',\n",
       " 'Similarly',\n",
       " 'AI',\n",
       " 'is',\n",
       " 'being',\n",
       " 'used',\n",
       " 'to',\n",
       " 'turn',\n",
       " 'hand',\n",
       " 'drawn',\n",
       " 'sketches',\n",
       " 'done',\n",
       " 'by',\n",
       " 'humans',\n",
       " 'into',\n",
       " 'digital',\n",
       " 'source',\n",
       " 'code',\n",
       " '.',\n",
       " 'Companies',\n",
       " 'are',\n",
       " 'clearly',\n",
       " 'developing',\n",
       " 'their',\n",
       " 'AI',\n",
       " 'and',\n",
       " 'robotics',\n",
       " 'expertise',\n",
       " 'with',\n",
       " 'the',\n",
       " 'idea',\n",
       " 'that',\n",
       " 'through',\n",
       " 'these',\n",
       " 'technological',\n",
       " 'innovations',\n",
       " 'they',\n",
       " 'll',\n",
       " 'be',\n",
       " 'able',\n",
       " 'to',\n",
       " 'Of',\n",
       " 'course',\n",
       " 'it',\n",
       " 's',\n",
       " 'not',\n",
       " 'just',\n",
       " 'machines',\n",
       " 'and',\n",
       " 'creatives',\n",
       " 'working',\n",
       " 'together',\n",
       " 'either',\n",
       " '.',\n",
       " 'In',\n",
       " 'another',\n",
       " 'example',\n",
       " 'Amazon',\n",
       " 'has',\n",
       " 'employed',\n",
       " 'more',\n",
       " 'than',\n",
       " '100',\n",
       " '000',\n",
       " 'robots',\n",
       " 'in',\n",
       " 'its',\n",
       " 'warehouses',\n",
       " 'to',\n",
       " 'efficiently',\n",
       " 'move',\n",
       " 'things',\n",
       " 'around',\n",
       " 'while',\n",
       " 'it',\n",
       " 'has',\n",
       " 'increased',\n",
       " 'its',\n",
       " 'warehouse',\n",
       " 'workforce',\n",
       " 'by',\n",
       " 'more',\n",
       " 'than',\n",
       " '80',\n",
       " '000',\n",
       " '.',\n",
       " 'Humans',\n",
       " 'in',\n",
       " 'Amazon',\n",
       " 's',\n",
       " 'case',\n",
       " 'do',\n",
       " 'the',\n",
       " 'picking',\n",
       " 'and',\n",
       " 'packing',\n",
       " 'of',\n",
       " 'goods',\n",
       " 'while',\n",
       " 'robots',\n",
       " 'move',\n",
       " 'orders',\n",
       " 'around',\n",
       " 'the',\n",
       " 'giant',\n",
       " 'warehouses',\n",
       " 'essentially',\n",
       " 'cutting',\n",
       " 'down',\n",
       " 'on',\n",
       " 'the',\n",
       " 'walking',\n",
       " 'required',\n",
       " 'of',\n",
       " 'workers',\n",
       " 'making',\n",
       " 'Amazon',\n",
       " 'pickers',\n",
       " 'more',\n",
       " 'efficient',\n",
       " 'and',\n",
       " 'less',\n",
       " 'tired',\n",
       " '.',\n",
       " 'Plus',\n",
       " 'the',\n",
       " 'robots',\n",
       " 'allow',\n",
       " 'Amazon',\n",
       " 'to',\n",
       " 'pack',\n",
       " 'shelves',\n",
       " 'together',\n",
       " 'like',\n",
       " 'cars',\n",
       " 'in',\n",
       " 'rush',\n",
       " 'hour',\n",
       " 'traffic',\n",
       " 'because',\n",
       " 'they',\n",
       " 'no',\n",
       " 'longer',\n",
       " 'need',\n",
       " 'aisle',\n",
       " 'space',\n",
       " 'for',\n",
       " 'humans',\n",
       " '.',\n",
       " 'The',\n",
       " 'greater',\n",
       " 'density',\n",
       " 'of',\n",
       " 'shelf',\n",
       " 'space',\n",
       " 'means',\n",
       " 'more',\n",
       " 'inventory',\n",
       " 'under',\n",
       " 'one',\n",
       " 'roof',\n",
       " 'which',\n",
       " 'means',\n",
       " 'better',\n",
       " 'selection',\n",
       " 'for',\n",
       " 'customers',\n",
       " '.',\n",
       " 'During',\n",
       " 'the',\n",
       " 'next',\n",
       " 'few',\n",
       " 'decades',\n",
       " 'or',\n",
       " 'maybe',\n",
       " 'sooner',\n",
       " 'the',\n",
       " 'notion',\n",
       " 'of',\n",
       " 'work',\n",
       " 'and',\n",
       " 'whether',\n",
       " 'it',\n",
       " 'is',\n",
       " 'handled',\n",
       " 'by',\n",
       " 'a',\n",
       " 'human',\n",
       " 'or',\n",
       " 'a',\n",
       " 'virtual',\n",
       " 'being',\n",
       " 'will',\n",
       " 'hinge',\n",
       " 'on',\n",
       " 'predictability',\n",
       " '.',\n",
       " 'As',\n",
       " 'they',\n",
       " 'are',\n",
       " 'starting',\n",
       " 'to',\n",
       " 'do',\n",
       " 'today',\n",
       " 'machines',\n",
       " 'will',\n",
       " 'manage',\n",
       " 'the',\n",
       " 'routine',\n",
       " 'while',\n",
       " 'humans',\n",
       " 'take',\n",
       " 'on',\n",
       " 'the',\n",
       " 'unpredictable',\n",
       " '–',\n",
       " 'tasks',\n",
       " 'that',\n",
       " 'require',\n",
       " 'creativity',\n",
       " 'problem',\n",
       " 'solving',\n",
       " 'and',\n",
       " 'flexibility',\n",
       " '.',\n",
       " 'In',\n",
       " 'this',\n",
       " 'context',\n",
       " 'robotics',\n",
       " 'should',\n",
       " 'be',\n",
       " 'seen',\n",
       " 'not',\n",
       " 'only',\n",
       " 'as',\n",
       " 'a',\n",
       " 'means',\n",
       " 'to',\n",
       " 'improve',\n",
       " 'operations',\n",
       " 'efficiency',\n",
       " 'but',\n",
       " 'also',\n",
       " 'to',\n",
       " 'improve',\n",
       " 'the',\n",
       " 'quality',\n",
       " 'of',\n",
       " 'life',\n",
       " 'for',\n",
       " 'workers',\n",
       " '.',\n",
       " 'Although',\n",
       " 'it',\n",
       " 'is',\n",
       " 'obvious',\n",
       " 'that',\n",
       " 'human',\n",
       " 'factors',\n",
       " 'involved',\n",
       " 'in',\n",
       " 'a',\n",
       " 'work',\n",
       " 'activity',\n",
       " 'impact',\n",
       " 'job',\n",
       " 'automation',\n",
       " 'it',\n",
       " 'is',\n",
       " 'also',\n",
       " 'true',\n",
       " 'that',\n",
       " 'highly',\n",
       " 'repetitive',\n",
       " 'tasks—and',\n",
       " 'even',\n",
       " 'mechanical',\n",
       " 'ones—are',\n",
       " 'ideal',\n",
       " 'for',\n",
       " 'robots',\n",
       " '.',\n",
       " 'Besides',\n",
       " 'greater',\n",
       " 'efficiency',\n",
       " 'and',\n",
       " 'speed',\n",
       " 'automation',\n",
       " 'leads',\n",
       " 'to',\n",
       " 'a',\n",
       " 'lower',\n",
       " 'risk',\n",
       " 'of',\n",
       " 'accidents',\n",
       " 'greater',\n",
       " 'control',\n",
       " 'and',\n",
       " 'autonomy',\n",
       " 'and',\n",
       " 'above',\n",
       " 'all',\n",
       " 'fewer',\n",
       " 'costs',\n",
       " 'for',\n",
       " 'organizations',\n",
       " '.',\n",
       " 'Although',\n",
       " 'artificial',\n",
       " 'intelligence',\n",
       " 'and',\n",
       " 'machine',\n",
       " 'learning',\n",
       " 'make',\n",
       " 'us',\n",
       " 'believe',\n",
       " 'that',\n",
       " 'robots',\n",
       " 'are',\n",
       " 'endowed',\n",
       " 'with',\n",
       " 'superior',\n",
       " 'intelligence',\n",
       " 'in',\n",
       " 'fact',\n",
       " 'they',\n",
       " 'don',\n",
       " 't',\n",
       " 'yet',\n",
       " 'have',\n",
       " 'the',\n",
       " 'ability',\n",
       " 'to',\n",
       " 'learn',\n",
       " 'from',\n",
       " 'experience',\n",
       " 'and',\n",
       " 'to',\n",
       " 'respond',\n",
       " 'to',\n",
       " 'unknowns',\n",
       " '.',\n",
       " 'So',\n",
       " 'as',\n",
       " 'things',\n",
       " 'stand',\n",
       " 'however',\n",
       " 'much',\n",
       " 'processing',\n",
       " 'speed',\n",
       " 'and',\n",
       " 'automatic',\n",
       " 'learning',\n",
       " 'a',\n",
       " 'robot',\n",
       " 'has',\n",
       " 'it',\n",
       " 'doesn',\n",
       " 't',\n",
       " 'beat',\n",
       " 'factors',\n",
       " 'innate',\n",
       " 'to',\n",
       " 'the',\n",
       " 'human',\n",
       " 'brain',\n",
       " '.',\n",
       " 'Humans',\n",
       " 'are',\n",
       " 'still',\n",
       " 'a',\n",
       " 'very',\n",
       " 'essential',\n",
       " 'part',\n",
       " 'of',\n",
       " 'the',\n",
       " 'process',\n",
       " '.',\n",
       " 'Think',\n",
       " 'about',\n",
       " 'delivering',\n",
       " 'services',\n",
       " 'to',\n",
       " 'a',\n",
       " 'client',\n",
       " '.',\n",
       " 'Most',\n",
       " 'customer',\n",
       " 'challenges',\n",
       " 'are',\n",
       " 'routine',\n",
       " 'but',\n",
       " 'humans',\n",
       " 'play',\n",
       " 'a',\n",
       " 'very',\n",
       " 'important',\n",
       " 'role',\n",
       " 'in',\n",
       " 'addressing',\n",
       " 'new',\n",
       " 'issues',\n",
       " 'solving',\n",
       " 'them',\n",
       " 'the',\n",
       " 'first',\n",
       " 'time',\n",
       " 'they',\n",
       " 'appear',\n",
       " 'and',\n",
       " 'then',\n",
       " 'consolidating',\n",
       " 'the',\n",
       " 'process',\n",
       " 'into',\n",
       " 'the',\n",
       " 'system',\n",
       " '.',\n",
       " 'While',\n",
       " 'machines',\n",
       " 'and',\n",
       " 'humans',\n",
       " 'are',\n",
       " 'placed',\n",
       " 'in',\n",
       " 'proximity',\n",
       " 'robots',\n",
       " 'can',\n",
       " 'be',\n",
       " 'expensive',\n",
       " 'but',\n",
       " 'this',\n",
       " 'doesn',\n",
       " 't',\n",
       " 'apply',\n",
       " 'to',\n",
       " 'all',\n",
       " 'types',\n",
       " 'especially',\n",
       " 'those',\n",
       " 'based',\n",
       " 'on',\n",
       " 'Robotic',\n",
       " 'Process',\n",
       " 'Automation',\n",
       " 'RPA',\n",
       " 'where',\n",
       " 'the',\n",
       " 'development',\n",
       " 'process',\n",
       " 'incorporates',\n",
       " 'algorithms',\n",
       " 'that',\n",
       " 'significantly',\n",
       " 'reduce',\n",
       " 'costs',\n",
       " '.',\n",
       " 'Moreover',\n",
       " 'think',\n",
       " 'of',\n",
       " 'how',\n",
       " 'domestic',\n",
       " 'robots—be',\n",
       " 'it',\n",
       " 'a',\n",
       " 'vacuum',\n",
       " 'cleaner',\n",
       " 'a',\n",
       " 'lawn',\n",
       " 'mower',\n",
       " 'or',\n",
       " 'a',\n",
       " 'pool',\n",
       " 'cleaner—are',\n",
       " 'increasingly',\n",
       " 'part',\n",
       " 'of',\n",
       " 'our',\n",
       " 'daily',\n",
       " 'lives',\n",
       " '.',\n",
       " 'This',\n",
       " 'level',\n",
       " 'of',\n",
       " 'consumption',\n",
       " 'that',\n",
       " 'robotics',\n",
       " 'has',\n",
       " 'attained',\n",
       " 'makes',\n",
       " 'it',\n",
       " 'affordable',\n",
       " 'to',\n",
       " 'automate',\n",
       " 'tasks',\n",
       " 'in',\n",
       " 'modern',\n",
       " 'homes',\n",
       " 'to',\n",
       " 'obtain',\n",
       " 'greater',\n",
       " 'control',\n",
       " 'security',\n",
       " 'and',\n",
       " 'comfort',\n",
       " '.',\n",
       " 'The',\n",
       " 'division',\n",
       " 'between',\n",
       " 'humans',\n",
       " 'and',\n",
       " 'machines',\n",
       " 'has',\n",
       " 'been',\n",
       " 'clear',\n",
       " '–',\n",
       " 'I',\n",
       " 'm',\n",
       " 'here',\n",
       " 'the',\n",
       " 'machine',\n",
       " 'is',\n",
       " 'there',\n",
       " '–',\n",
       " 'but',\n",
       " 'that',\n",
       " 'boundary',\n",
       " 'is',\n",
       " 'getting',\n",
       " 'fuzzier',\n",
       " '.',\n",
       " 'Smart',\n",
       " 'prosthetics',\n",
       " 'fuse',\n",
       " 'seamlessly',\n",
       " 'with',\n",
       " 'our',\n",
       " 'bodies',\n",
       " 'making',\n",
       " 'up',\n",
       " 'for',\n",
       " 'lost',\n",
       " 'limbs',\n",
       " 'or',\n",
       " 'providing',\n",
       " 'additional',\n",
       " 'strength',\n",
       " 'stability',\n",
       " 'or',\n",
       " 'resilience',\n",
       " 'as',\n",
       " 'seen',\n",
       " 'in',\n",
       " 'exoskeletons',\n",
       " 'donned',\n",
       " 'by',\n",
       " 'assembly',\n",
       " 'line',\n",
       " 'workers',\n",
       " '.',\n",
       " 'We',\n",
       " 'use',\n",
       " 'our',\n",
       " 'smartphones',\n",
       " 'symbiotically',\n",
       " 'but',\n",
       " 'what',\n",
       " 'if',\n",
       " 'they',\n",
       " 'were',\n",
       " 'integrated',\n",
       " 'directly',\n",
       " 'into',\n",
       " 'our',\n",
       " 'bodies',\n",
       " 'Think',\n",
       " 'a',\n",
       " 'smartphone',\n",
       " 'in',\n",
       " 'the',\n",
       " 'form',\n",
       " 'of',\n",
       " 'a',\n",
       " 'contact',\n",
       " 'lens',\n",
       " 'capable',\n",
       " 'of',\n",
       " 'transparently',\n",
       " 'delivering',\n",
       " 'augmented',\n",
       " 'reality',\n",
       " 'images',\n",
       " 'straight',\n",
       " 'to',\n",
       " 'the',\n",
       " 'brain',\n",
       " '.',\n",
       " 'Think',\n",
       " 'it',\n",
       " 'sounds',\n",
       " 'like',\n",
       " 'science',\n",
       " 'fiction',\n",
       " 'Think',\n",
       " 'again',\n",
       " '.',\n",
       " 'The',\n",
       " 'first',\n",
       " 'prototypes',\n",
       " 'have',\n",
       " 'already',\n",
       " 'been',\n",
       " 'built',\n",
       " '.',\n",
       " 'Soon',\n",
       " 'brain',\n",
       " 'computer',\n",
       " 'interfaces',\n",
       " 'could',\n",
       " 'become',\n",
       " 'seamless',\n",
       " 'as',\n",
       " 'well',\n",
       " 'creating',\n",
       " 'a',\n",
       " 'new',\n",
       " 'synergistic',\n",
       " 'relationship',\n",
       " 'between',\n",
       " 'the',\n",
       " 'cloud',\n",
       " 'and',\n",
       " 'us',\n",
       " '.',\n",
       " 'At',\n",
       " 'that',\n",
       " 'point',\n",
       " 'the',\n",
       " 'question',\n",
       " 'of',\n",
       " 'who',\n",
       " 'knows',\n",
       " 'what',\n",
       " 'would',\n",
       " 'be',\n",
       " 'moot',\n",
       " ';',\n",
       " 'you',\n",
       " 'ask',\n",
       " 'me',\n",
       " 'a',\n",
       " 'question',\n",
       " 'and',\n",
       " 'I',\n",
       " 'know',\n",
       " 'the',\n",
       " 'answer',\n",
       " '.',\n",
       " 'Sometimes',\n",
       " 'that',\n",
       " 'answer',\n",
       " 'will',\n",
       " 'be',\n",
       " 'stored',\n",
       " 'in',\n",
       " 'my',\n",
       " 'own',\n",
       " 'neural',\n",
       " 'circuitry',\n",
       " 'but',\n",
       " 'most',\n",
       " 'of',\n",
       " 'the',\n",
       " 'time',\n",
       " 'it',\n",
       " 'would',\n",
       " 'come',\n",
       " 'from',\n",
       " 'the',\n",
       " ...]"
      ]
     },
     "execution_count": 8,
     "metadata": {},
     "output_type": "execute_result"
    }
   ],
   "source": [
    "token = word_tokenize(texts)\n",
    "token"
   ]
  },
  {
   "cell_type": "code",
   "execution_count": 9,
   "id": "10016a09",
   "metadata": {},
   "outputs": [],
   "source": [
    "with open(\"D:\\lab\\Dataset\\Stopwords_Blackcoffer.txt\", 'r') as file:\n",
    "    data = file.read()"
   ]
  },
  {
   "cell_type": "code",
   "execution_count": 10,
   "id": "c567cbef",
   "metadata": {},
   "outputs": [
    {
     "data": {
      "text/plain": [
       "'ERNST\\nYOUNG\\nDELOITTE\\nTOUCHE\\nKPMG\\nPRICEWATERHOUSECOOPERS\\nPRICEWATERHOUSE\\nCOOPERS\\nAFGHANI\\nARIARY\\nBAHT\\n'"
      ]
     },
     "execution_count": 10,
     "metadata": {},
     "output_type": "execute_result"
    }
   ],
   "source": [
    "data[:100]"
   ]
  },
  {
   "cell_type": "code",
   "execution_count": 11,
   "id": "d65bfa92",
   "metadata": {},
   "outputs": [
    {
     "data": {
      "text/plain": [
       "'ERNST,YOUNG,DELOITTE,TOUCHE,KPMG,PRICEWATERHOUSECOOPERS,PRICEWATERHOUSE,COOPERS,AFGHANI,ARIARY,BAHT,'"
      ]
     },
     "execution_count": 11,
     "metadata": {},
     "output_type": "execute_result"
    }
   ],
   "source": [
    "data = data.replace('\\n', ',')\n",
    "data[:100]"
   ]
  },
  {
   "cell_type": "code",
   "execution_count": 12,
   "id": "0ef23874",
   "metadata": {},
   "outputs": [
    {
     "data": {
      "text/plain": [
       "'Where disruptive technology taking Take leave disruptive technology creates jobs depleted jobs . You notice jobs disappearing jobs jobs transform humans robots machines technology creating machines re'"
      ]
     },
     "execution_count": 12,
     "metadata": {},
     "output_type": "execute_result"
    }
   ],
   "source": [
    "new_texts = \" \".join([i for i in token if i not in data])\n",
    "new_texts[:200]"
   ]
  },
  {
   "cell_type": "code",
   "execution_count": 13,
   "id": "ea392da4",
   "metadata": {},
   "outputs": [
    {
     "name": "stdout",
     "output_type": "stream",
     "text": [
      "length before cleaning:  7544\n",
      "length after cleaning:  4661\n"
     ]
    }
   ],
   "source": [
    "print(\"length before cleaning: \", len(texts))\n",
    "print(\"length after cleaning: \", len(new_texts))"
   ]
  },
  {
   "cell_type": "markdown",
   "id": "1f456147",
   "metadata": {},
   "source": [
    "# Negative words"
   ]
  },
  {
   "cell_type": "code",
   "execution_count": 14,
   "id": "dc3618a7",
   "metadata": {},
   "outputs": [],
   "source": [
    "with open(\"D:\\\\lab\\\\Dataset\\\\Negative_words.txt\", 'r') as file:\n",
    "    negative = file.read()"
   ]
  },
  {
   "cell_type": "code",
   "execution_count": 15,
   "id": "2123c4cb",
   "metadata": {},
   "outputs": [
    {
     "data": {
      "text/plain": [
       "'2-faced\\n2-faces\\nabnormal\\nabolish\\nabominable\\nabominably\\nabominate\\nabomination\\nabort\\naborted\\naborts\\nabrade\\nabrasive\\nabrupt\\nabruptly\\nabscond\\nabsence\\nabsent-minded\\nabsentee\\nabsurd\\nabsurdity\\nabsurdly\\nabsurdness\\n'"
      ]
     },
     "execution_count": 15,
     "metadata": {},
     "output_type": "execute_result"
    }
   ],
   "source": [
    "negative[:206]"
   ]
  },
  {
   "cell_type": "code",
   "execution_count": 16,
   "id": "28f44c97",
   "metadata": {},
   "outputs": [
    {
     "data": {
      "text/plain": [
       "'2-faced,2-faces,abnormal,abolish,abominable,abominably,abominate,abomination,abort,aborted,aborts,abrade,abrasive,abrupt,abruptly,abscond,absence,absent-minded,absentee,absurd,absurdity,absurdly,absurdness,'"
      ]
     },
     "execution_count": 16,
     "metadata": {},
     "output_type": "execute_result"
    }
   ],
   "source": [
    "negative = negative.replace('\\n', ',')\n",
    "negative[:206]"
   ]
  },
  {
   "cell_type": "code",
   "execution_count": 17,
   "id": "31a272c0",
   "metadata": {},
   "outputs": [
    {
     "name": "stdout",
     "output_type": "stream",
     "text": [
      "['disruptive', 'disruptive', 'notice', 'manipulate', 'custom', 'predict', 'behavior', 'free', 'correctly', 'set', 'call', 'call', 'call', 'efficient', 'day', 'tough', 'difficult', 'human', 'work', 'adjust', 'work', 'efficiently', 'work', 'threat', 'threat', 'work', 'front', 'day', 'turn', 'employed', 'efficiently', 'move', 'picking', 'move', 'cutting', 'efficient', 'tired', 'cars', 'rush', 'work', 'human', 'manage', 'unpredictable', 'problem', 'efficiency', 'quality', 'life', 'human', 'work', 'job', 'true', 'repetitive', 'efficiency', 'lower', 'risk', 'control', 'make', 'fact', 'ability', 'experience', 'stand', 'beat', 'human', 'brain', 'essential', 'play', 'important', 'issues', 'expensive', 'significantly', 'affordable', 'control', 'security', 'comfort', 'fuse', 'lost', 'stability', 'line', 'integrated', 'capable', 'brain', 'fiction', 'brain', 'cloud', 'point', 'question', 'moot', 'question', 'brain', 'decision', 'decision', 'point', 'claim', 'point', 'make', 'point', 'start', 'impractical', 'expected', 'catastrophic', 'failure', 'crash', 'box', 'reach', 'understand', 'perfectly', 'depend', 'mess', 'lose', 'wind', 'play', 'essential', 'successful', 'fall', 'invisible']\n"
     ]
    },
    {
     "data": {
      "text/plain": [
       "115"
      ]
     },
     "execution_count": 17,
     "metadata": {},
     "output_type": "execute_result"
    }
   ],
   "source": [
    "new_texts = word_tokenize(new_texts)\n",
    "negative_words = [i for i in new_texts if i in negative]\n",
    "print(negative_words)\n",
    "len(negative_words)"
   ]
  },
  {
   "cell_type": "markdown",
   "id": "0b24f011",
   "metadata": {},
   "source": [
    "# Positive words"
   ]
  },
  {
   "cell_type": "code",
   "execution_count": 18,
   "id": "4b003620",
   "metadata": {},
   "outputs": [
    {
     "data": {
      "text/plain": [
       "'a+\\nabound\\nabounds\\nabundance\\nabundant\\naccessable\\naccessible\\nacclaim\\nacclaimed\\nacclamation\\naccolade\\naccolades\\naccommodative\\naccomodative\\naccomplish\\naccomplished\\naccomplishment\\naccomplishments\\naccurate\\naccurately\\n'"
      ]
     },
     "execution_count": 18,
     "metadata": {},
     "output_type": "execute_result"
    }
   ],
   "source": [
    "with open(\"D:\\\\lab\\\\Dataset\\\\Positive_words.txt\", 'r') as file:\n",
    "    positive = file.read()\n",
    "positive[:210]    "
   ]
  },
  {
   "cell_type": "code",
   "execution_count": 19,
   "id": "66ed38c6",
   "metadata": {},
   "outputs": [
    {
     "data": {
      "text/plain": [
       "'a+,abound,abounds,abundance,abundant,accessable,accessible,acclaim,acclaimed,acclamation,accolade,accolades,accommodative,accomodative,accomplish,accomplished,accomplishment,accomplishments,accurate,accurately,'"
      ]
     },
     "execution_count": 19,
     "metadata": {},
     "output_type": "execute_result"
    }
   ],
   "source": [
    "positive = positive.replace('\\n',',')\n",
    "positive[:210]"
   ]
  },
  {
   "cell_type": "code",
   "execution_count": 20,
   "id": "fc1387e8",
   "metadata": {},
   "outputs": [
    {
     "name": "stdout",
     "output_type": "stream",
     "text": [
      "['taking', 'replace', 'intelligence', 'free', 'correctly', 'save', 'set', 'call', 'call', 'call', 'efficient', 'growing', 'smarter', 'tough', 'human', 'future', 'work', 'adjust', 'working', 'work', 'efficiently', 'abundant', 'work', 'forward', 'work', 'source', 'idea', 'working', 'efficiently', 'efficient', 'roof', 'work', 'human', 'manage', 'problem', 'flexibility', 'improve', 'improve', 'quality', 'life', 'human', 'work', 'ideal', 'speed', 'leads', 'lower', 'risk', 'intelligence', 'superior', 'intelligence', 'fact', 'ability', 'stand', 'speed', 'beat', 'human', 'brain', 'play', 'important', 'expensive', 'cleaner', 'affordable', 'modern', 'obtain', 'comfort', 'fuse', 'stability', 'line', 'integrated', 'capable', 'straight', 'brain', 'brain', 'seamless', 'question', 'moot', 'question', 'stored', 'brain', 'educated', 'claim', 'strong', 'held', 'made', 'growing', 'world', 'smarter', 'expected', 'future', 'reach', 'understand', 'world', 'perfectly', 'flawlessly', 'depend', 'wind', 'smarter', 'play', 'successful', 'fall', 'revolution', 'silent']\n"
     ]
    },
    {
     "data": {
      "text/plain": [
       "102"
      ]
     },
     "execution_count": 20,
     "metadata": {},
     "output_type": "execute_result"
    }
   ],
   "source": [
    "positive_words = [i for i in new_texts if i in positive]\n",
    "print(positive_words)\n",
    "len(positive_words)"
   ]
  },
  {
   "cell_type": "markdown",
   "id": "1b59646d",
   "metadata": {},
   "source": [
    "#### positive Score\n"
   ]
  },
  {
   "cell_type": "code",
   "execution_count": 21,
   "id": "7d0fbab1",
   "metadata": {},
   "outputs": [
    {
     "name": "stdout",
     "output_type": "stream",
     "text": [
      "102\n"
     ]
    }
   ],
   "source": [
    "pos_score = len(positive_words)\n",
    "print(pos_score)"
   ]
  },
  {
   "cell_type": "markdown",
   "id": "54a6cc12",
   "metadata": {},
   "source": [
    "#### Negative Score"
   ]
  },
  {
   "cell_type": "code",
   "execution_count": 22,
   "id": "df0766cd",
   "metadata": {},
   "outputs": [
    {
     "name": "stdout",
     "output_type": "stream",
     "text": [
      "115\n"
     ]
    }
   ],
   "source": [
    "neg_score=len(negative_words)\n",
    "print(neg_score)"
   ]
  },
  {
   "cell_type": "markdown",
   "id": "84da7ab7",
   "metadata": {},
   "source": [
    "#### Polarity Score"
   ]
  },
  {
   "cell_type": "code",
   "execution_count": 23,
   "id": "21e88c2b",
   "metadata": {},
   "outputs": [
    {
     "data": {
      "text/plain": [
       "-0.06"
      ]
     },
     "execution_count": 23,
     "metadata": {},
     "output_type": "execute_result"
    }
   ],
   "source": [
    "Polarity_Score = (pos_score - neg_score)/((pos_score + neg_score) + 0.000001)\n",
    "round(Polarity_Score,2)"
   ]
  },
  {
   "cell_type": "code",
   "execution_count": 24,
   "id": "3d314037",
   "metadata": {},
   "outputs": [
    {
     "name": "stdout",
     "output_type": "stream",
     "text": [
      "number of words after cleaning : 637\n"
     ]
    }
   ],
   "source": [
    "print(\"number of words after cleaning :\",len(new_texts))"
   ]
  },
  {
   "cell_type": "markdown",
   "id": "16495ba1",
   "metadata": {},
   "source": [
    "#### Subjectivity Score"
   ]
  },
  {
   "cell_type": "code",
   "execution_count": 39,
   "id": "841713a3",
   "metadata": {},
   "outputs": [
    {
     "data": {
      "text/plain": [
       "0.34"
      ]
     },
     "execution_count": 39,
     "metadata": {},
     "output_type": "execute_result"
    }
   ],
   "source": [
    "Subjectivity_Score = (pos_score + neg_score)/ ((637) + 0.000001)\n",
    "round(Subjectivity_Score,2)"
   ]
  },
  {
   "cell_type": "markdown",
   "id": "0d7c370e",
   "metadata": {},
   "source": [
    "# Analysis of Readability"
   ]
  },
  {
   "cell_type": "code",
   "execution_count": 26,
   "id": "10209a7a",
   "metadata": {},
   "outputs": [
    {
     "data": {
      "text/plain": [
       "1308"
      ]
     },
     "execution_count": 26,
     "metadata": {},
     "output_type": "execute_result"
    }
   ],
   "source": [
    "import nltk\n",
    "from nltk.tokenize import word_tokenize\n",
    "word_tokens = nltk.word_tokenize(texts)\n",
    "No_of_words = len(word_tokens)\n",
    "No_of_words"
   ]
  },
  {
   "cell_type": "code",
   "execution_count": 27,
   "id": "bfac2ab7",
   "metadata": {},
   "outputs": [
    {
     "data": {
      "text/plain": [
       "54"
      ]
     },
     "execution_count": 27,
     "metadata": {},
     "output_type": "execute_result"
    }
   ],
   "source": [
    "sent_tokens = nltk.sent_tokenize(texts)\n",
    "No_of_sents = len(sent_tokens)\n",
    "No_of_sents "
   ]
  },
  {
   "cell_type": "markdown",
   "id": "1576acfe",
   "metadata": {},
   "source": [
    "### Average sentence Length\n"
   ]
  },
  {
   "cell_type": "code",
   "execution_count": 28,
   "id": "11d6a7ec",
   "metadata": {},
   "outputs": [
    {
     "data": {
      "text/plain": [
       "24.22"
      ]
     },
     "execution_count": 28,
     "metadata": {},
     "output_type": "execute_result"
    }
   ],
   "source": [
    "Avg_Sents_Length = No_of_words / No_of_sents\n",
    "round(Avg_Sents_Length,2)"
   ]
  },
  {
   "cell_type": "markdown",
   "id": "bc20ee3d",
   "metadata": {},
   "source": [
    "### Percentage of Complex words\n",
    "Complex words: words with more than 2 syllable are called complex words"
   ]
  },
  {
   "cell_type": "code",
   "execution_count": 29,
   "id": "eba6a8b1",
   "metadata": {},
   "outputs": [
    {
     "name": "stdout",
     "output_type": "stream",
     "text": [
      "Number of complex words: 183\n",
      "Total number of words: 7544\n"
     ]
    }
   ],
   "source": [
    "from nltk.corpus import cmudict\n",
    "cmud = cmudict.dict()\n",
    "\n",
    "# Defining a function to count syllables in a word\n",
    "def count_syllables(word):\n",
    "    phonemes = cmud[word.lower()][0] \n",
    "    return len([s for s in phonemes if s[-1].isdigit()])\n",
    "\n",
    "# Identifing complex words\n",
    "w_tokens = [i for i in word_tokens if i in cmud]\n",
    "complex_words = [word for word in w_tokens if count_syllables(word) > 2]\n",
    "\n",
    "# Calculatingnumber of complex words\n",
    "num_complex_words = len(complex_words)\n",
    "\n",
    "print(\"Number of complex words:\", num_complex_words)\n",
    "print(\"Total number of words:\", len(texts))"
   ]
  },
  {
   "cell_type": "code",
   "execution_count": 30,
   "id": "1c81e3f0",
   "metadata": {},
   "outputs": [
    {
     "data": {
      "text/plain": [
       "41.22"
      ]
     },
     "execution_count": 30,
     "metadata": {},
     "output_type": "execute_result"
    }
   ],
   "source": [
    "Perc_of_Complex_words = len(texts) / num_complex_words\n",
    "round(Perc_of_Complex_words,2)"
   ]
  },
  {
   "cell_type": "markdown",
   "id": "77e948d1",
   "metadata": {},
   "source": [
    "### Fog Index"
   ]
  },
  {
   "cell_type": "code",
   "execution_count": 31,
   "id": "95fb10bb",
   "metadata": {},
   "outputs": [
    {
     "name": "stdout",
     "output_type": "stream",
     "text": [
      "Average sentence length: 54.0\n"
     ]
    }
   ],
   "source": [
    "# Tokenize each sentence into words\n",
    "words = [word_tokens for sentence in sent_tokens]\n",
    "\n",
    "# Calculate the average sentence length\n",
    "avg_sent_len = sum(No_of_sents for sentence in words) / No_of_sents\n",
    "\n",
    "print(\"Average sentence length:\", avg_sent_len)\n"
   ]
  },
  {
   "cell_type": "code",
   "execution_count": 32,
   "id": "38f5a93b",
   "metadata": {},
   "outputs": [
    {
     "data": {
      "text/plain": [
       "38.09"
      ]
     },
     "execution_count": 32,
     "metadata": {},
     "output_type": "execute_result"
    }
   ],
   "source": [
    "Fog_index = 0.4 * (avg_sent_len + Perc_of_Complex_words)\n",
    "round(Fog_index,2)"
   ]
  },
  {
   "cell_type": "markdown",
   "id": "5b4aacea",
   "metadata": {},
   "source": [
    "# Average Number of Words Per Sentence"
   ]
  },
  {
   "cell_type": "code",
   "execution_count": 33,
   "id": "45da1407",
   "metadata": {},
   "outputs": [
    {
     "data": {
      "text/plain": [
       "24.22"
      ]
     },
     "execution_count": 33,
     "metadata": {},
     "output_type": "execute_result"
    }
   ],
   "source": [
    "avg_no_of_words_per_sent = No_of_words / No_of_sents\n",
    "round(avg_no_of_words_per_sent,2)"
   ]
  },
  {
   "cell_type": "markdown",
   "id": "f2d9b493",
   "metadata": {},
   "source": [
    "# Complex Word Count"
   ]
  },
  {
   "cell_type": "code",
   "execution_count": 34,
   "id": "75304424",
   "metadata": {},
   "outputs": [
    {
     "name": "stdout",
     "output_type": "stream",
     "text": [
      "complex word count: 183\n"
     ]
    }
   ],
   "source": [
    "from nltk.corpus import cmudict\n",
    "cmud = cmudict.dict()\n",
    "\n",
    "# Defining a function to count syllables in a word\n",
    "def count_syllables(word):\n",
    "    phonemes = cmud[word.lower()][0] \n",
    "    return len([s for s in phonemes if s[-1].isdigit()])\n",
    "\n",
    "# Identifing complex words\n",
    "w_tokens = [i for i in word_tokens if i in cmud]\n",
    "complex_words = [word for word in w_tokens if count_syllables(word) > 2]\n",
    "\n",
    "# Calculatingnumber of complex words\n",
    "num_complex_words = len(complex_words)\n",
    "\n",
    "print(\"complex word count:\", num_complex_words)"
   ]
  },
  {
   "cell_type": "markdown",
   "id": "99ea5188",
   "metadata": {},
   "source": [
    "# Word Count\n",
    "number of words after cleaning"
   ]
  },
  {
   "cell_type": "code",
   "execution_count": 35,
   "id": "b4fb0c72",
   "metadata": {},
   "outputs": [
    {
     "data": {
      "text/plain": [
       "637"
      ]
     },
     "execution_count": 35,
     "metadata": {},
     "output_type": "execute_result"
    }
   ],
   "source": [
    "len(new_texts)"
   ]
  },
  {
   "cell_type": "markdown",
   "id": "ca8076ff",
   "metadata": {},
   "source": [
    "# Syllable Count Per Word"
   ]
  },
  {
   "cell_type": "code",
   "execution_count": 36,
   "id": "bc568045",
   "metadata": {},
   "outputs": [
    {
     "name": "stdout",
     "output_type": "stream",
     "text": [
      "Enter a word to get syllable: understand\n",
      "Number of syllable in a word : 3\n"
     ]
    }
   ],
   "source": [
    "word = input(\"Enter a word to get syllable: \")\n",
    "def count_syllables(word):\n",
    "    phonemes = cmud[word.lower()][0] \n",
    "    return len([s for s in phonemes if s[-1].isdigit()])\n",
    "\n",
    "print(\"Number of syllable in a word :\",count_syllables(word))"
   ]
  },
  {
   "cell_type": "markdown",
   "id": "1d3a18f6",
   "metadata": {},
   "source": [
    "# Personal Pronouns"
   ]
  },
  {
   "cell_type": "code",
   "execution_count": 37,
   "id": "0b8e0d2d",
   "metadata": {},
   "outputs": [
    {
     "name": "stdout",
     "output_type": "stream",
     "text": [
      "Personal pronoun frequency: {'us': 3, 'it': 15, 'you': 5, 'them': 4, 'i': 5, 'we': 10, 'they': 12, 'me': 1}\n",
      "total number of pronouns in a article : 55\n"
     ]
    }
   ],
   "source": [
    "import re\n",
    "\n",
    "# Define a regex pattern to match personal pronouns\n",
    "pattern = r'\\b(I|you|he|she|it|we|they|me|him|her|us|them)\\b'\n",
    "\n",
    "# Count the frequency of personal pronouns\n",
    "pronoun_freq = {}\n",
    "for pronoun in re.findall(pattern, texts, re.IGNORECASE):\n",
    "    pronoun = pronoun.lower()\n",
    "    if pronoun in pronoun_freq:\n",
    "        pronoun_freq[pronoun] += 1\n",
    "    else:\n",
    "        pronoun_freq[pronoun] = 1\n",
    "\n",
    "print(\"Personal pronoun frequency:\", pronoun_freq)\n",
    "def returnSum(dict):\n",
    " \n",
    "    sum = 0\n",
    "    for i in pronoun_freq.values():\n",
    "        sum = sum + i\n",
    " \n",
    "    return sum\n",
    "print(\"total number of pronouns in a article :\",returnSum(pronoun_freq))"
   ]
  },
  {
   "cell_type": "markdown",
   "id": "e3fc87f8",
   "metadata": {},
   "source": [
    "# Average Word Length"
   ]
  },
  {
   "cell_type": "code",
   "execution_count": 38,
   "id": "5bde37d9",
   "metadata": {},
   "outputs": [
    {
     "name": "stdout",
     "output_type": "stream",
     "text": [
      "Average word length: 4.73\n"
     ]
    }
   ],
   "source": [
    "# Calculate the total number of characters in all words\n",
    "total_chars = sum(len(word) for word in word_tokens)\n",
    "\n",
    "avg_word_length = total_chars / No_of_words\n",
    "\n",
    "print(\"Average word length:\", round(avg_word_length,2))\n"
   ]
  },
  {
   "cell_type": "code",
   "execution_count": null,
   "id": "45598361",
   "metadata": {},
   "outputs": [],
   "source": []
  },
  {
   "cell_type": "code",
   "execution_count": null,
   "id": "6b222869",
   "metadata": {},
   "outputs": [],
   "source": []
  }
 ],
 "metadata": {
  "kernelspec": {
   "display_name": "Python 3",
   "language": "python",
   "name": "python3"
  },
  "language_info": {
   "codemirror_mode": {
    "name": "ipython",
    "version": 3
   },
   "file_extension": ".py",
   "mimetype": "text/x-python",
   "name": "python",
   "nbconvert_exporter": "python",
   "pygments_lexer": "ipython3",
   "version": "3.8.8"
  }
 },
 "nbformat": 4,
 "nbformat_minor": 5
}
