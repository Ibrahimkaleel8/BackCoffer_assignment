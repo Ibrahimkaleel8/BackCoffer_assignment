{
 "cells": [
  {
   "cell_type": "markdown",
   "id": "b9312f26",
   "metadata": {},
   "source": [
    "# Data scraping"
   ]
  },
  {
   "cell_type": "code",
   "execution_count": 1,
   "id": "ef4785ca",
   "metadata": {},
   "outputs": [],
   "source": [
    "import nltk\n",
    "import requests\n",
    "from bs4 import BeautifulSoup"
   ]
  },
  {
   "cell_type": "code",
   "execution_count": 2,
   "id": "ac2f2459",
   "metadata": {},
   "outputs": [],
   "source": [
    "req = requests.get(\"https://insights.blackcoffer.com/deep-learning-impact-on-areas-of-e-learning/\")"
   ]
  },
  {
   "cell_type": "code",
   "execution_count": 3,
   "id": "45f9fa09",
   "metadata": {},
   "outputs": [],
   "source": [
    "soup = BeautifulSoup(req.content, \"html.parser\")\n",
    "res = soup.title\n",
    "paras = soup.find_all('p')"
   ]
  },
  {
   "cell_type": "code",
   "execution_count": 4,
   "id": "dbb256b2",
   "metadata": {
    "scrolled": true
   },
   "outputs": [
    {
     "name": "stdout",
     "output_type": "stream",
     "text": [
      "eLearning as technology becomes more affordable in higher education but having a big barrier in the cost of developing its resources. Deep learning using artificial intelligence continues to become more and more popular and having impacts on many areas of eLearning. It offers online learners of the future intuitive algorithms and automated delivery of eLearning content through modern LMS platforms. This paper aims to survey various applications of deep learning approaches for developing the resources of the eLearning platform, in which predictions, algorithms, and analytics come together to create more personalized future eLearning experiences. In addition, deep learning models for developing the contents of the eLearning platform, deep learning framework that enable deep learning systems into eLearning and its development, benefits & future trends of deep learning in eLearning, the relevant deep learning-based artificial intelligence tools, and a platform enabling the developer and learners to quickly reuse resources are clearly summarized. Thus, deep learning has evolved into developing ways to re-purpose existing resources that can mitigate the expense of content development of future eLearning. It is natural to wonder where you might get AI tools to avoid the time and expense of developing your own. Don’t worry about the advert of AIaaS or “AI as a Service” even small education or learning & development professionals can purchase the license of AI tools and components. However, such types of tools cannot be useful for every e-learning ecosystem but may offer some enticing benefits such as adding standard AI tasks (logic, decision making) to your toolbox. Here are some of the AIaaS tools and platforms offered by famous tech giants most of which are cloud-based. Microsoft Azure Cloud-based AI services that can be used to build and manage AI applications like image recognition or bot-based apps IBM’s Watson Cloud-based AI services that can be integrated into your applications; to store and manage your own data Google’s Tensor Flow An end-to-end open-source machine learning platform Amazon Web Services Offers a wide range of products and services on Amazon’s cloud There are other AIaaS platforms such as DataRobot, Petuum, and H2O which shows that the field is expanding.AI will probably not make human workers obsolete, at least not for a long time To put some of your fears to bed: the robots are probably not coming for your jobs, at least not yet. Given how artificial intelligence has been portrayed in the media, in particular in some of our favorite sci-fi movies, it’s clear that the advent of this technology has created fear that AI will one day make human beings obsolete in the workforce. After all, as technology has advanced, many tasks that were once executed by human hands have become automated. It’s only natural to fear that the leap toward creating intelligent computers could herald the beginning of the end of work as we know it. But, I don’t think there is any reason to be so fatalistic. A recent paper published by the MIT Task Force on the Work of the Future entitled “Artificial Intelligence And The Future of Work,” looked closely at developments in AI and their relation to the world of work. The paper paints a more optimistic picture. Rather than promoting the obsolescence of human labor, the paper predicts that AI will continue to drive massive innovation that will fuel many existing industries and could have the potential to create many new sectors for growth, ultimately leading to the creation of more jobs. While AI has made major strides toward replicating the efficacy of human intelligence in executing certain tasks, there are still major limitations. In particular, AI programs are typically only capable of “specialized” intelligence, meaning they can solve only one problem, and execute only one task at a time. Often, they can be rigid, and unable to respond to any changes in input, or perform any “thinking” outside of their prescribed programming. Humans, however, possess “generalized intelligence,” with the kind of problem-solving, abstract thinking, and critical judgment that will continue to be important in business. Human judgment will be relevant, if not in every task, then certainly throughout every level across all sectors. There are many other factors that could limit runaway advancement in AI. AI often requires “learning” which can involve massive amounts of data, calling into question the availability of the right kind of data, and highlighting the need for categorization and issues of privacy and security around such data. There is also the limitation of computation and processing power. The cost of electricity alone to power one supercharged language model AI was estimated at $4.6 million. Another important limitation of note is that data can itself carry bias, and be reflective of societal inequities or the implicit biases of the designers who create and input the data. If there is bias in the data that is inputted into an AI, this bias is likely to carry over to the results generated by the AI. There has even been a bill introduced into Congress entitled the Algorithmic Accountability Act with the goal of forcing the Federal Trade Commission to investigate the use of any new AI technology for the potential to perpetuate bias. Based on these factors and many others, the MIT CCI paper argues that we are a long way from reaching a point in which AI is comparable to human intelligence, and could theoretically replace human workers entirely.  Provided there is an investment at all levels, from education to the private sector and governmental organizations—anywhere that focuses on training and upskilling workers—AI has the potential to ultimately create more jobs, not less. The question should then become not “humans or computers” but “humans and computers” involved in complex systems that advance industry and prosperity. This paper is a fascinating read for anyone hoping to dive deeper into AI and the many potential directions in which it may lead.AI Is becoming standard in all businesses, not just in the world of tech A couple of times recently, AI has come up in conversation with a client or an associate, and I’m noticing a fallacy in how people are thinking about it. There seems to be a sense for many that it is a phenomenon that is only likely to have big impacts in the tech world. In case you hadn’t noticed, the tech world is the world these days. Don’t ever forget when economist Paul Krugman said in 1998 that “By 2005 or so, it will become clear that the Internet’s impact on the economy has been no greater than the fax machine’s.” You definitely don’t want to be behind the curve when it comes to AI.  In fact, 90% of leading businesses already have ongoing investments in AI technologies. More than half of businesses that have implemented some manner of AI-driven technology report experiencing greater productivity. AI is likely to have a strong impact on certain sectors in particular: Medical: The potential benefits of utilizing AI in the field of medicine are already being explored. The medical industry has a robust amount of data, which can be utilized to create predictive models related to healthcare. Additionally, AI has shown to be more effective than physicians in certain diagnostic contexts. Automotive: We’re already seeing how AI is impacting the world of transportation and automobiles with the advent of autonomous vehicles and autonomous navigation. AI will also have a major impact on manufacturing, including within the automotive sector. Cybersecurity: Cybersecurity is front of mind for many business leaders, especially considering the spike in cybersecurity breaches throughout 2020. Attacks rose 600% during the pandemic as hackers capitalized on people working from home, on less secure technological systems, and Wi-Fi networks. AI and machine learning will be critical tools in identifying and predicting threats in cybersecurity. AI will also be a crucial asset for security in the world of finance, given that it can process large amounts of data to predict and catch instances of fraud. E-Commerce: AI will play a pivotal role in e-commerce in the future, in every sector of the industry from user experience to marketing to fulfillment and distribution. We can expect that moving forward, AI will continue to drive e-commerce, including through the use of chat-bots, shopper personalization, image-based targeting advertising, and warehouse and inventory automation. AI can have a big impact on the job search If you are moving forward with the hope that a hiring manager may give you the benefit of the doubt on a small misstep within the application, you might be in for a rude awakening. AI already plays a major role in the hiring process, so much so that up to 75% of resumes are rejected by an automated applicant tracking system, or ATS before they even reach a human being.  In the past, recruiters have had to devote considerable time to poring over resumes to look for relevant candidates. Data from LinkedIn shows that recruiters can spend up to 23 hours looking over resumes for one successful hire. Increasingly, however, resume scanning is being done by AI-powered programs. In 2018, 67% of hiring managers stated that AI was making their jobs easier. Despite the increasing prevalence of automation and algorithms in the hiring process, many have been critical of the use of certain types of AI by hiring managers, based on the charge that it can perpetuate and ever create more bias in hiring. One particular example is illustrated by HireVue, a startup whose initial services included technology that aimed to use facial recognition software and psychology to determine the potential effectiveness of a candidate in a certain role. The Electronic Privacy Information Center filed a lawsuit with the Federal Trade Commission alleging that this software had the potential to perpetuate bias and prejudice. HireVue discontinued the use of facial recognition software in early 2021, and now uses audio analysis and natural language processing. It’s clear that the use of certain types of AI in the hiring process will likely be controversial as new technology develops. However, if potential employers are using AI to process your application, there is no reason that you cannot be utilizing similar technology to your advantage. Jobscan is an excellent resource that provides similar resume scanning to what would be used by a hiring manager. By comparing your resume to a job description, Jobscan will give you information on how to tweak your resume so that it is a good match for a certain position, with the goal of “beating” an applicant tracking system (ATS). Jobseer is a browser add-on, and another great AI-based tool for those on the job market. Based on a scan of your resume, as well as keywords and skills related to your desired jobs, Jobseer will help match you with the job listings that best fit your experience. For each listing, you get a rating based on how well you are aligned with the particular posting, as well as recommendations of skills to add to better position your resume and experience. Rezi: Now, as a disclaimer, I would never encourage you to turn your resume writing over to a bot. But Rezi is an awesome AI-based resume builder that includes templates to help you design a resume that is sure to check the boxes when it comes to applicant tracking systems. This is a great jumping-off point to kickstart a new resume.  Another great way to use this type of tool is to generate a new resume and compare it to your current resume to see how it stacks up, and identify some areas for improvement. AI is also a great place to focus your energy if you are looking to upskill in your career, or make your professional profile more competitive in the job market, especially when you consider that AI will have such far-reaching impacts across many industries.AI and machine learning are at the top of many lists of the most important skills in today’s job market. Jobs requesting AI or machine-learning skills are expected to increase by 71% in the next five years. If you’d like to expand your knowledge base in this arena, consider some of the great free online course offerings that focus on AI skills. If you are tech-savvy, it would be wise to dive deep and learn as much as you can about interacting in the AI space. If your skills lie elsewhere, it is important to recognize that AI will have a big impact, and to the extent of your abilities, you should try to understand the fundamentals of how it functions in different sectors. AI is definitely here to stay, whether we like it or not. Personally, I don’t think we have anything to be afraid of. The best way to move forward is to be aware of and adapt to the new technology around us, AI included. This article was updated on April 16, 2021, to reflect changes in HireVue’s assessment tools.\n"
     ]
    }
   ],
   "source": [
    "texts = \" \".join([paragraph.text.strip() for paragraph in paras])\n",
    "print(texts)"
   ]
  },
  {
   "cell_type": "code",
   "execution_count": 5,
   "id": "e79f5f60",
   "metadata": {},
   "outputs": [
    {
     "data": {
      "text/plain": [
       "12991"
      ]
     },
     "execution_count": 5,
     "metadata": {},
     "output_type": "execute_result"
    }
   ],
   "source": [
    "len(texts)"
   ]
  },
  {
   "cell_type": "markdown",
   "id": "db8f1fcc",
   "metadata": {},
   "source": [
    "Removing Punctuation"
   ]
  },
  {
   "cell_type": "code",
   "execution_count": 6,
   "id": "5285c8a8",
   "metadata": {},
   "outputs": [
    {
     "data": {
      "text/plain": [
       "12991"
      ]
     },
     "execution_count": 6,
     "metadata": {},
     "output_type": "execute_result"
    }
   ],
   "source": [
    "import re\n",
    "import string\n",
    "texts = re.sub(r'[\\'\\“\\”\\()\\%\\,\\-\\'\\’\\?\\ ]', ' ', texts)\n",
    "texts[0:200]\n",
    "len(texts)"
   ]
  },
  {
   "cell_type": "markdown",
   "id": "4fafe7be",
   "metadata": {},
   "source": [
    "# Removing Stopwords"
   ]
  },
  {
   "cell_type": "code",
   "execution_count": 7,
   "id": "089b8663",
   "metadata": {},
   "outputs": [],
   "source": [
    "from nltk.tokenize import word_tokenize"
   ]
  },
  {
   "cell_type": "code",
   "execution_count": 8,
   "id": "280876b0",
   "metadata": {},
   "outputs": [
    {
     "data": {
      "text/plain": [
       "['eLearning',\n",
       " 'as',\n",
       " 'technology',\n",
       " 'becomes',\n",
       " 'more',\n",
       " 'affordable',\n",
       " 'in',\n",
       " 'higher',\n",
       " 'education',\n",
       " 'but',\n",
       " 'having',\n",
       " 'a',\n",
       " 'big',\n",
       " 'barrier',\n",
       " 'in',\n",
       " 'the',\n",
       " 'cost',\n",
       " 'of',\n",
       " 'developing',\n",
       " 'its',\n",
       " 'resources',\n",
       " '.',\n",
       " 'Deep',\n",
       " 'learning',\n",
       " 'using',\n",
       " 'artificial',\n",
       " 'intelligence',\n",
       " 'continues',\n",
       " 'to',\n",
       " 'become',\n",
       " 'more',\n",
       " 'and',\n",
       " 'more',\n",
       " 'popular',\n",
       " 'and',\n",
       " 'having',\n",
       " 'impacts',\n",
       " 'on',\n",
       " 'many',\n",
       " 'areas',\n",
       " 'of',\n",
       " 'eLearning',\n",
       " '.',\n",
       " 'It',\n",
       " 'offers',\n",
       " 'online',\n",
       " 'learners',\n",
       " 'of',\n",
       " 'the',\n",
       " 'future',\n",
       " 'intuitive',\n",
       " 'algorithms',\n",
       " 'and',\n",
       " 'automated',\n",
       " 'delivery',\n",
       " 'of',\n",
       " 'eLearning',\n",
       " 'content',\n",
       " 'through',\n",
       " 'modern',\n",
       " 'LMS',\n",
       " 'platforms',\n",
       " '.',\n",
       " 'This',\n",
       " 'paper',\n",
       " 'aims',\n",
       " 'to',\n",
       " 'survey',\n",
       " 'various',\n",
       " 'applications',\n",
       " 'of',\n",
       " 'deep',\n",
       " 'learning',\n",
       " 'approaches',\n",
       " 'for',\n",
       " 'developing',\n",
       " 'the',\n",
       " 'resources',\n",
       " 'of',\n",
       " 'the',\n",
       " 'eLearning',\n",
       " 'platform',\n",
       " 'in',\n",
       " 'which',\n",
       " 'predictions',\n",
       " 'algorithms',\n",
       " 'and',\n",
       " 'analytics',\n",
       " 'come',\n",
       " 'together',\n",
       " 'to',\n",
       " 'create',\n",
       " 'more',\n",
       " 'personalized',\n",
       " 'future',\n",
       " 'eLearning',\n",
       " 'experiences',\n",
       " '.',\n",
       " 'In',\n",
       " 'addition',\n",
       " 'deep',\n",
       " 'learning',\n",
       " 'models',\n",
       " 'for',\n",
       " 'developing',\n",
       " 'the',\n",
       " 'contents',\n",
       " 'of',\n",
       " 'the',\n",
       " 'eLearning',\n",
       " 'platform',\n",
       " 'deep',\n",
       " 'learning',\n",
       " 'framework',\n",
       " 'that',\n",
       " 'enable',\n",
       " 'deep',\n",
       " 'learning',\n",
       " 'systems',\n",
       " 'into',\n",
       " 'eLearning',\n",
       " 'and',\n",
       " 'its',\n",
       " 'development',\n",
       " 'benefits',\n",
       " '&',\n",
       " 'future',\n",
       " 'trends',\n",
       " 'of',\n",
       " 'deep',\n",
       " 'learning',\n",
       " 'in',\n",
       " 'eLearning',\n",
       " 'the',\n",
       " 'relevant',\n",
       " 'deep',\n",
       " 'learning',\n",
       " 'based',\n",
       " 'artificial',\n",
       " 'intelligence',\n",
       " 'tools',\n",
       " 'and',\n",
       " 'a',\n",
       " 'platform',\n",
       " 'enabling',\n",
       " 'the',\n",
       " 'developer',\n",
       " 'and',\n",
       " 'learners',\n",
       " 'to',\n",
       " 'quickly',\n",
       " 'reuse',\n",
       " 'resources',\n",
       " 'are',\n",
       " 'clearly',\n",
       " 'summarized',\n",
       " '.',\n",
       " 'Thus',\n",
       " 'deep',\n",
       " 'learning',\n",
       " 'has',\n",
       " 'evolved',\n",
       " 'into',\n",
       " 'developing',\n",
       " 'ways',\n",
       " 'to',\n",
       " 're',\n",
       " 'purpose',\n",
       " 'existing',\n",
       " 'resources',\n",
       " 'that',\n",
       " 'can',\n",
       " 'mitigate',\n",
       " 'the',\n",
       " 'expense',\n",
       " 'of',\n",
       " 'content',\n",
       " 'development',\n",
       " 'of',\n",
       " 'future',\n",
       " 'eLearning',\n",
       " '.',\n",
       " 'It',\n",
       " 'is',\n",
       " 'natural',\n",
       " 'to',\n",
       " 'wonder',\n",
       " 'where',\n",
       " 'you',\n",
       " 'might',\n",
       " 'get',\n",
       " 'AI',\n",
       " 'tools',\n",
       " 'to',\n",
       " 'avoid',\n",
       " 'the',\n",
       " 'time',\n",
       " 'and',\n",
       " 'expense',\n",
       " 'of',\n",
       " 'developing',\n",
       " 'your',\n",
       " 'own',\n",
       " '.',\n",
       " 'Don',\n",
       " 't',\n",
       " 'worry',\n",
       " 'about',\n",
       " 'the',\n",
       " 'advert',\n",
       " 'of',\n",
       " 'AIaaS',\n",
       " 'or',\n",
       " 'AI',\n",
       " 'as',\n",
       " 'a',\n",
       " 'Service',\n",
       " 'even',\n",
       " 'small',\n",
       " 'education',\n",
       " 'or',\n",
       " 'learning',\n",
       " '&',\n",
       " 'development',\n",
       " 'professionals',\n",
       " 'can',\n",
       " 'purchase',\n",
       " 'the',\n",
       " 'license',\n",
       " 'of',\n",
       " 'AI',\n",
       " 'tools',\n",
       " 'and',\n",
       " 'components',\n",
       " '.',\n",
       " 'However',\n",
       " 'such',\n",
       " 'types',\n",
       " 'of',\n",
       " 'tools',\n",
       " 'can',\n",
       " 'not',\n",
       " 'be',\n",
       " 'useful',\n",
       " 'for',\n",
       " 'every',\n",
       " 'e',\n",
       " 'learning',\n",
       " 'ecosystem',\n",
       " 'but',\n",
       " 'may',\n",
       " 'offer',\n",
       " 'some',\n",
       " 'enticing',\n",
       " 'benefits',\n",
       " 'such',\n",
       " 'as',\n",
       " 'adding',\n",
       " 'standard',\n",
       " 'AI',\n",
       " 'tasks',\n",
       " 'logic',\n",
       " 'decision',\n",
       " 'making',\n",
       " 'to',\n",
       " 'your',\n",
       " 'toolbox',\n",
       " '.',\n",
       " 'Here',\n",
       " 'are',\n",
       " 'some',\n",
       " 'of',\n",
       " 'the',\n",
       " 'AIaaS',\n",
       " 'tools',\n",
       " 'and',\n",
       " 'platforms',\n",
       " 'offered',\n",
       " 'by',\n",
       " 'famous',\n",
       " 'tech',\n",
       " 'giants',\n",
       " 'most',\n",
       " 'of',\n",
       " 'which',\n",
       " 'are',\n",
       " 'cloud',\n",
       " 'based',\n",
       " '.',\n",
       " 'Microsoft',\n",
       " 'Azure',\n",
       " 'Cloud',\n",
       " 'based',\n",
       " 'AI',\n",
       " 'services',\n",
       " 'that',\n",
       " 'can',\n",
       " 'be',\n",
       " 'used',\n",
       " 'to',\n",
       " 'build',\n",
       " 'and',\n",
       " 'manage',\n",
       " 'AI',\n",
       " 'applications',\n",
       " 'like',\n",
       " 'image',\n",
       " 'recognition',\n",
       " 'or',\n",
       " 'bot',\n",
       " 'based',\n",
       " 'apps',\n",
       " 'IBM',\n",
       " 's',\n",
       " 'Watson',\n",
       " 'Cloud',\n",
       " 'based',\n",
       " 'AI',\n",
       " 'services',\n",
       " 'that',\n",
       " 'can',\n",
       " 'be',\n",
       " 'integrated',\n",
       " 'into',\n",
       " 'your',\n",
       " 'applications',\n",
       " ';',\n",
       " 'to',\n",
       " 'store',\n",
       " 'and',\n",
       " 'manage',\n",
       " 'your',\n",
       " 'own',\n",
       " 'data',\n",
       " 'Google',\n",
       " 's',\n",
       " 'Tensor',\n",
       " 'Flow',\n",
       " 'An',\n",
       " 'end',\n",
       " 'to',\n",
       " 'end',\n",
       " 'open',\n",
       " 'source',\n",
       " 'machine',\n",
       " 'learning',\n",
       " 'platform',\n",
       " 'Amazon',\n",
       " 'Web',\n",
       " 'Services',\n",
       " 'Offers',\n",
       " 'a',\n",
       " 'wide',\n",
       " 'range',\n",
       " 'of',\n",
       " 'products',\n",
       " 'and',\n",
       " 'services',\n",
       " 'on',\n",
       " 'Amazon',\n",
       " 's',\n",
       " 'cloud',\n",
       " 'There',\n",
       " 'are',\n",
       " 'other',\n",
       " 'AIaaS',\n",
       " 'platforms',\n",
       " 'such',\n",
       " 'as',\n",
       " 'DataRobot',\n",
       " 'Petuum',\n",
       " 'and',\n",
       " 'H2O',\n",
       " 'which',\n",
       " 'shows',\n",
       " 'that',\n",
       " 'the',\n",
       " 'field',\n",
       " 'is',\n",
       " 'expanding.AI',\n",
       " 'will',\n",
       " 'probably',\n",
       " 'not',\n",
       " 'make',\n",
       " 'human',\n",
       " 'workers',\n",
       " 'obsolete',\n",
       " 'at',\n",
       " 'least',\n",
       " 'not',\n",
       " 'for',\n",
       " 'a',\n",
       " 'long',\n",
       " 'time',\n",
       " 'To',\n",
       " 'put',\n",
       " 'some',\n",
       " 'of',\n",
       " 'your',\n",
       " 'fears',\n",
       " 'to',\n",
       " 'bed',\n",
       " ':',\n",
       " 'the',\n",
       " 'robots',\n",
       " 'are',\n",
       " 'probably',\n",
       " 'not',\n",
       " 'coming',\n",
       " 'for',\n",
       " 'your',\n",
       " 'jobs',\n",
       " 'at',\n",
       " 'least',\n",
       " 'not',\n",
       " 'yet',\n",
       " '.',\n",
       " 'Given',\n",
       " 'how',\n",
       " 'artificial',\n",
       " 'intelligence',\n",
       " 'has',\n",
       " 'been',\n",
       " 'portrayed',\n",
       " 'in',\n",
       " 'the',\n",
       " 'media',\n",
       " 'in',\n",
       " 'particular',\n",
       " 'in',\n",
       " 'some',\n",
       " 'of',\n",
       " 'our',\n",
       " 'favorite',\n",
       " 'sci',\n",
       " 'fi',\n",
       " 'movies',\n",
       " 'it',\n",
       " 's',\n",
       " 'clear',\n",
       " 'that',\n",
       " 'the',\n",
       " 'advent',\n",
       " 'of',\n",
       " 'this',\n",
       " 'technology',\n",
       " 'has',\n",
       " 'created',\n",
       " 'fear',\n",
       " 'that',\n",
       " 'AI',\n",
       " 'will',\n",
       " 'one',\n",
       " 'day',\n",
       " 'make',\n",
       " 'human',\n",
       " 'beings',\n",
       " 'obsolete',\n",
       " 'in',\n",
       " 'the',\n",
       " 'workforce',\n",
       " '.',\n",
       " 'After',\n",
       " 'all',\n",
       " 'as',\n",
       " 'technology',\n",
       " 'has',\n",
       " 'advanced',\n",
       " 'many',\n",
       " 'tasks',\n",
       " 'that',\n",
       " 'were',\n",
       " 'once',\n",
       " 'executed',\n",
       " 'by',\n",
       " 'human',\n",
       " 'hands',\n",
       " 'have',\n",
       " 'become',\n",
       " 'automated',\n",
       " '.',\n",
       " 'It',\n",
       " 's',\n",
       " 'only',\n",
       " 'natural',\n",
       " 'to',\n",
       " 'fear',\n",
       " 'that',\n",
       " 'the',\n",
       " 'leap',\n",
       " 'toward',\n",
       " 'creating',\n",
       " 'intelligent',\n",
       " 'computers',\n",
       " 'could',\n",
       " 'herald',\n",
       " 'the',\n",
       " 'beginning',\n",
       " 'of',\n",
       " 'the',\n",
       " 'end',\n",
       " 'of',\n",
       " 'work',\n",
       " 'as',\n",
       " 'we',\n",
       " 'know',\n",
       " 'it',\n",
       " '.',\n",
       " 'But',\n",
       " 'I',\n",
       " 'don',\n",
       " 't',\n",
       " 'think',\n",
       " 'there',\n",
       " 'is',\n",
       " 'any',\n",
       " 'reason',\n",
       " 'to',\n",
       " 'be',\n",
       " 'so',\n",
       " 'fatalistic',\n",
       " '.',\n",
       " 'A',\n",
       " 'recent',\n",
       " 'paper',\n",
       " 'published',\n",
       " 'by',\n",
       " 'the',\n",
       " 'MIT',\n",
       " 'Task',\n",
       " 'Force',\n",
       " 'on',\n",
       " 'the',\n",
       " 'Work',\n",
       " 'of',\n",
       " 'the',\n",
       " 'Future',\n",
       " 'entitled',\n",
       " 'Artificial',\n",
       " 'Intelligence',\n",
       " 'And',\n",
       " 'The',\n",
       " 'Future',\n",
       " 'of',\n",
       " 'Work',\n",
       " 'looked',\n",
       " 'closely',\n",
       " 'at',\n",
       " 'developments',\n",
       " 'in',\n",
       " 'AI',\n",
       " 'and',\n",
       " 'their',\n",
       " 'relation',\n",
       " 'to',\n",
       " 'the',\n",
       " 'world',\n",
       " 'of',\n",
       " 'work',\n",
       " '.',\n",
       " 'The',\n",
       " 'paper',\n",
       " 'paints',\n",
       " 'a',\n",
       " 'more',\n",
       " 'optimistic',\n",
       " 'picture',\n",
       " '.',\n",
       " 'Rather',\n",
       " 'than',\n",
       " 'promoting',\n",
       " 'the',\n",
       " 'obsolescence',\n",
       " 'of',\n",
       " 'human',\n",
       " 'labor',\n",
       " 'the',\n",
       " 'paper',\n",
       " 'predicts',\n",
       " 'that',\n",
       " 'AI',\n",
       " 'will',\n",
       " 'continue',\n",
       " 'to',\n",
       " 'drive',\n",
       " 'massive',\n",
       " 'innovation',\n",
       " 'that',\n",
       " 'will',\n",
       " 'fuel',\n",
       " 'many',\n",
       " 'existing',\n",
       " 'industries',\n",
       " 'and',\n",
       " 'could',\n",
       " 'have',\n",
       " 'the',\n",
       " 'potential',\n",
       " 'to',\n",
       " 'create',\n",
       " 'many',\n",
       " 'new',\n",
       " 'sectors',\n",
       " 'for',\n",
       " 'growth',\n",
       " 'ultimately',\n",
       " 'leading',\n",
       " 'to',\n",
       " 'the',\n",
       " 'creation',\n",
       " 'of',\n",
       " 'more',\n",
       " 'jobs',\n",
       " '.',\n",
       " 'While',\n",
       " 'AI',\n",
       " 'has',\n",
       " 'made',\n",
       " 'major',\n",
       " 'strides',\n",
       " 'toward',\n",
       " 'replicating',\n",
       " 'the',\n",
       " 'efficacy',\n",
       " 'of',\n",
       " 'human',\n",
       " 'intelligence',\n",
       " 'in',\n",
       " 'executing',\n",
       " 'certain',\n",
       " 'tasks',\n",
       " 'there',\n",
       " 'are',\n",
       " 'still',\n",
       " 'major',\n",
       " 'limitations',\n",
       " '.',\n",
       " 'In',\n",
       " 'particular',\n",
       " 'AI',\n",
       " 'programs',\n",
       " 'are',\n",
       " 'typically',\n",
       " 'only',\n",
       " 'capable',\n",
       " 'of',\n",
       " 'specialized',\n",
       " 'intelligence',\n",
       " 'meaning',\n",
       " 'they',\n",
       " 'can',\n",
       " 'solve',\n",
       " 'only',\n",
       " 'one',\n",
       " 'problem',\n",
       " 'and',\n",
       " 'execute',\n",
       " 'only',\n",
       " 'one',\n",
       " 'task',\n",
       " 'at',\n",
       " 'a',\n",
       " 'time',\n",
       " '.',\n",
       " 'Often',\n",
       " 'they',\n",
       " 'can',\n",
       " 'be',\n",
       " 'rigid',\n",
       " 'and',\n",
       " 'unable',\n",
       " 'to',\n",
       " 'respond',\n",
       " 'to',\n",
       " 'any',\n",
       " 'changes',\n",
       " 'in',\n",
       " 'input',\n",
       " 'or',\n",
       " 'perform',\n",
       " 'any',\n",
       " 'thinking',\n",
       " 'outside',\n",
       " 'of',\n",
       " 'their',\n",
       " 'prescribed',\n",
       " 'programming',\n",
       " '.',\n",
       " 'Humans',\n",
       " 'however',\n",
       " 'possess',\n",
       " 'generalized',\n",
       " 'intelligence',\n",
       " 'with',\n",
       " 'the',\n",
       " 'kind',\n",
       " 'of',\n",
       " 'problem',\n",
       " 'solving',\n",
       " 'abstract',\n",
       " 'thinking',\n",
       " 'and',\n",
       " 'critical',\n",
       " 'judgment',\n",
       " 'that',\n",
       " 'will',\n",
       " 'continue',\n",
       " 'to',\n",
       " 'be',\n",
       " 'important',\n",
       " 'in',\n",
       " 'business',\n",
       " '.',\n",
       " 'Human',\n",
       " 'judgment',\n",
       " 'will',\n",
       " 'be',\n",
       " 'relevant',\n",
       " 'if',\n",
       " 'not',\n",
       " 'in',\n",
       " 'every',\n",
       " 'task',\n",
       " 'then',\n",
       " 'certainly',\n",
       " 'throughout',\n",
       " 'every',\n",
       " 'level',\n",
       " 'across',\n",
       " 'all',\n",
       " 'sectors',\n",
       " '.',\n",
       " 'There',\n",
       " 'are',\n",
       " 'many',\n",
       " 'other',\n",
       " 'factors',\n",
       " 'that',\n",
       " 'could',\n",
       " 'limit',\n",
       " 'runaway',\n",
       " 'advancement',\n",
       " 'in',\n",
       " 'AI',\n",
       " '.',\n",
       " 'AI',\n",
       " 'often',\n",
       " 'requires',\n",
       " 'learning',\n",
       " 'which',\n",
       " 'can',\n",
       " 'involve',\n",
       " 'massive',\n",
       " 'amounts',\n",
       " 'of',\n",
       " 'data',\n",
       " 'calling',\n",
       " 'into',\n",
       " 'question',\n",
       " 'the',\n",
       " 'availability',\n",
       " 'of',\n",
       " 'the',\n",
       " 'right',\n",
       " 'kind',\n",
       " 'of',\n",
       " 'data',\n",
       " 'and',\n",
       " 'highlighting',\n",
       " 'the',\n",
       " 'need',\n",
       " 'for',\n",
       " 'categorization',\n",
       " 'and',\n",
       " 'issues',\n",
       " 'of',\n",
       " 'privacy',\n",
       " 'and',\n",
       " 'security',\n",
       " 'around',\n",
       " 'such',\n",
       " 'data',\n",
       " '.',\n",
       " 'There',\n",
       " 'is',\n",
       " 'also',\n",
       " 'the',\n",
       " 'limitation',\n",
       " 'of',\n",
       " 'computation',\n",
       " 'and',\n",
       " 'processing',\n",
       " 'power',\n",
       " '.',\n",
       " 'The',\n",
       " 'cost',\n",
       " 'of',\n",
       " 'electricity',\n",
       " 'alone',\n",
       " 'to',\n",
       " 'power',\n",
       " 'one',\n",
       " 'supercharged',\n",
       " 'language',\n",
       " 'model',\n",
       " 'AI',\n",
       " 'was',\n",
       " 'estimated',\n",
       " 'at',\n",
       " '$',\n",
       " '4.6',\n",
       " 'million',\n",
       " '.',\n",
       " 'Another',\n",
       " 'important',\n",
       " 'limitation',\n",
       " 'of',\n",
       " 'note',\n",
       " 'is',\n",
       " 'that',\n",
       " 'data',\n",
       " 'can',\n",
       " 'itself',\n",
       " 'carry',\n",
       " 'bias',\n",
       " 'and',\n",
       " 'be',\n",
       " 'reflective',\n",
       " 'of',\n",
       " 'societal',\n",
       " 'inequities',\n",
       " 'or',\n",
       " 'the',\n",
       " 'implicit',\n",
       " 'biases',\n",
       " 'of',\n",
       " 'the',\n",
       " 'designers',\n",
       " 'who',\n",
       " 'create',\n",
       " 'and',\n",
       " 'input',\n",
       " 'the',\n",
       " 'data',\n",
       " '.',\n",
       " 'If',\n",
       " 'there',\n",
       " 'is',\n",
       " 'bias',\n",
       " 'in',\n",
       " 'the',\n",
       " 'data',\n",
       " 'that',\n",
       " 'is',\n",
       " 'inputted',\n",
       " 'into',\n",
       " 'an',\n",
       " 'AI',\n",
       " 'this',\n",
       " 'bias',\n",
       " 'is',\n",
       " 'likely',\n",
       " 'to',\n",
       " 'carry',\n",
       " 'over',\n",
       " 'to',\n",
       " 'the',\n",
       " 'results',\n",
       " 'generated',\n",
       " 'by',\n",
       " 'the',\n",
       " 'AI',\n",
       " '.',\n",
       " 'There',\n",
       " 'has',\n",
       " 'even',\n",
       " 'been',\n",
       " 'a',\n",
       " 'bill',\n",
       " 'introduced',\n",
       " 'into',\n",
       " 'Congress',\n",
       " 'entitled',\n",
       " 'the',\n",
       " 'Algorithmic',\n",
       " 'Accountability',\n",
       " 'Act',\n",
       " 'with',\n",
       " 'the',\n",
       " 'goal',\n",
       " 'of',\n",
       " 'forcing',\n",
       " 'the',\n",
       " 'Federal',\n",
       " 'Trade',\n",
       " 'Commission',\n",
       " 'to',\n",
       " 'investigate',\n",
       " 'the',\n",
       " 'use',\n",
       " 'of',\n",
       " 'any',\n",
       " 'new',\n",
       " 'AI',\n",
       " 'technology',\n",
       " 'for',\n",
       " 'the',\n",
       " 'potential',\n",
       " 'to',\n",
       " 'perpetuate',\n",
       " 'bias',\n",
       " '.',\n",
       " 'Based',\n",
       " 'on',\n",
       " 'these',\n",
       " 'factors',\n",
       " 'and',\n",
       " 'many',\n",
       " 'others',\n",
       " 'the',\n",
       " 'MIT',\n",
       " 'CCI',\n",
       " 'paper',\n",
       " 'argues',\n",
       " 'that',\n",
       " 'we',\n",
       " 'are',\n",
       " 'a',\n",
       " 'long',\n",
       " 'way',\n",
       " 'from',\n",
       " 'reaching',\n",
       " 'a',\n",
       " 'point',\n",
       " 'in',\n",
       " 'which',\n",
       " 'AI',\n",
       " 'is',\n",
       " 'comparable',\n",
       " 'to',\n",
       " 'human',\n",
       " 'intelligence',\n",
       " 'and',\n",
       " 'could',\n",
       " 'theoretically',\n",
       " 'replace',\n",
       " 'human',\n",
       " 'workers',\n",
       " 'entirely',\n",
       " '.',\n",
       " 'Provided',\n",
       " 'there',\n",
       " 'is',\n",
       " 'an',\n",
       " 'investment',\n",
       " 'at',\n",
       " 'all',\n",
       " 'levels',\n",
       " 'from',\n",
       " 'education',\n",
       " 'to',\n",
       " 'the',\n",
       " 'private',\n",
       " 'sector',\n",
       " 'and',\n",
       " 'governmental',\n",
       " 'organizations—anywhere',\n",
       " 'that',\n",
       " 'focuses',\n",
       " 'on',\n",
       " 'training',\n",
       " 'and',\n",
       " 'upskilling',\n",
       " 'workers—AI',\n",
       " 'has',\n",
       " 'the',\n",
       " 'potential',\n",
       " 'to',\n",
       " 'ultimately',\n",
       " 'create',\n",
       " 'more',\n",
       " 'jobs',\n",
       " 'not',\n",
       " 'less',\n",
       " '.',\n",
       " 'The',\n",
       " 'question',\n",
       " 'should',\n",
       " 'then',\n",
       " 'become',\n",
       " 'not',\n",
       " 'humans',\n",
       " 'or',\n",
       " 'computers',\n",
       " 'but',\n",
       " 'humans',\n",
       " 'and',\n",
       " 'computers',\n",
       " 'involved',\n",
       " 'in',\n",
       " ...]"
      ]
     },
     "execution_count": 8,
     "metadata": {},
     "output_type": "execute_result"
    }
   ],
   "source": [
    "token = word_tokenize(texts)\n",
    "token"
   ]
  },
  {
   "cell_type": "code",
   "execution_count": 9,
   "id": "10016a09",
   "metadata": {},
   "outputs": [],
   "source": [
    "with open(\"D:\\lab\\Dataset\\Stopwords_Blackcoffer.txt\", 'r') as file:\n",
    "    data = file.read()"
   ]
  },
  {
   "cell_type": "code",
   "execution_count": 10,
   "id": "c567cbef",
   "metadata": {},
   "outputs": [
    {
     "data": {
      "text/plain": [
       "'ERNST\\nYOUNG\\nDELOITTE\\nTOUCHE\\nKPMG\\nPRICEWATERHOUSECOOPERS\\nPRICEWATERHOUSE\\nCOOPERS\\nAFGHANI\\nARIARY\\nBAHT\\n'"
      ]
     },
     "execution_count": 10,
     "metadata": {},
     "output_type": "execute_result"
    }
   ],
   "source": [
    "data[:100]"
   ]
  },
  {
   "cell_type": "code",
   "execution_count": 11,
   "id": "d65bfa92",
   "metadata": {},
   "outputs": [
    {
     "data": {
      "text/plain": [
       "'ERNST,YOUNG,DELOITTE,TOUCHE,KPMG,PRICEWATERHOUSECOOPERS,PRICEWATERHOUSE,COOPERS,AFGHANI,ARIARY,BAHT,'"
      ]
     },
     "execution_count": 11,
     "metadata": {},
     "output_type": "execute_result"
    }
   ],
   "source": [
    "data = data.replace('\\n', ',')\n",
    "data[:100]"
   ]
  },
  {
   "cell_type": "code",
   "execution_count": 12,
   "id": "0ef23874",
   "metadata": {},
   "outputs": [
    {
     "data": {
      "text/plain": [
       "'eLearning technology affordable higher education big barrier cost developing resources . Deep learning artificial intelligence continues popular impacts areas eLearning . It offers online learners fut'"
      ]
     },
     "execution_count": 12,
     "metadata": {},
     "output_type": "execute_result"
    }
   ],
   "source": [
    "new_texts = \" \".join([i for i in token if i not in data])\n",
    "new_texts[:200]"
   ]
  },
  {
   "cell_type": "code",
   "execution_count": 13,
   "id": "ea392da4",
   "metadata": {},
   "outputs": [
    {
     "name": "stdout",
     "output_type": "stream",
     "text": [
      "length before cleaning:  12991\n",
      "length after cleaning:  7958\n"
     ]
    }
   ],
   "source": [
    "print(\"length before cleaning: \", len(texts))\n",
    "print(\"length after cleaning: \", len(new_texts))"
   ]
  },
  {
   "cell_type": "markdown",
   "id": "1f456147",
   "metadata": {},
   "source": [
    "# Negative words"
   ]
  },
  {
   "cell_type": "code",
   "execution_count": 14,
   "id": "dc3618a7",
   "metadata": {},
   "outputs": [],
   "source": [
    "with open(\"D:\\\\lab\\\\Dataset\\\\Negative_words.txt\", 'r') as file:\n",
    "    negative = file.read()"
   ]
  },
  {
   "cell_type": "code",
   "execution_count": 15,
   "id": "2123c4cb",
   "metadata": {},
   "outputs": [
    {
     "data": {
      "text/plain": [
       "'2-faced\\n2-faces\\nabnormal\\nabolish\\nabominable\\nabominably\\nabominate\\nabomination\\nabort\\naborted\\naborts\\nabrade\\nabrasive\\nabrupt\\nabruptly\\nabscond\\nabsence\\nabsent-minded\\nabsentee\\nabsurd\\nabsurdity\\nabsurdly\\nabsurdness\\n'"
      ]
     },
     "execution_count": 15,
     "metadata": {},
     "output_type": "execute_result"
    }
   ],
   "source": [
    "negative[:206]"
   ]
  },
  {
   "cell_type": "code",
   "execution_count": 16,
   "id": "28f44c97",
   "metadata": {},
   "outputs": [
    {
     "data": {
      "text/plain": [
       "'2-faced,2-faces,abnormal,abolish,abominable,abominably,abominate,abomination,abort,aborted,aborts,abrade,abrasive,abrupt,abruptly,abscond,absence,absent-minded,absentee,absurd,absurdity,absurdly,absurdness,'"
      ]
     },
     "execution_count": 16,
     "metadata": {},
     "output_type": "execute_result"
    }
   ],
   "source": [
    "negative = negative.replace('\\n', ',')\n",
    "negative[:206]"
   ]
  },
  {
   "cell_type": "code",
   "execution_count": 17,
   "id": "31a272c0",
   "metadata": {},
   "outputs": [
    {
     "name": "stdout",
     "output_type": "stream",
     "text": [
      "['affordable', 'big', 'cost', 'popular', 'content', 'enable', 'relevant', 'content', 'natural', 'avoid', 'worry', 'small', 'license', 'standard', 'logic', 'decision', 'famous', 'cloud', 'manage', 'integrated', 'manage', 'range', 'cloud', 'make', 'human', 'obsolete', 'put', 'fears', 'sci', 'fear', 'day', 'make', 'human', 'obsolete', 'human', 'natural', 'fear', 'work', 'fatalistic', 'work', 'human', 'labor', 'continue', 'leading', 'efficacy', 'human', 'limitations', 'typically', 'capable', 'meaning', 'solve', 'problem', 'rigid', 'unable', 'kind', 'problem', 'critical', 'judgment', 'continue', 'important', 'judgment', 'relevant', 'limit', 'runaway', 'question', 'kind', 'issues', 'security', 'limitation', 'power', 'cost', 'power', 'important', 'limitation', 'bias', 'inequities', 'biases', 'bias', 'bias', 'bias', 'point', 'comparable', 'human', 'human', 'training', 'question', 'complex', 'dive', 'standard', 'fallacy', 'sense', 'big', 'noticed', 'forget', 'fact', 'leading', 'half', 'manner', 'effective', 'front', 'mind', 'rose', 'secure', 'critical', 'threats', 'security', 'predict', 'fraud', 'play', 'experience', 'expect', 'moving', 'continue', 'chat', 'big', 'job', 'moving', 'doubt', 'small', 'rude', 'rejected', 'reach', 'human', 'relevant', 'spend', 'successful', 'powered', 'stated', 'critical', 'bias', 'determine', 'effectiveness', 'bias', 'prejudice', 'discontinued', 'natural', 'controversial', 'advantage', 'job', 'position', 'add', 'job', 'scan', 'job', 'fit', 'experience', 'rating', 'aligned', 'add', 'position', 'experience', 'turn', 'design', 'check', 'point', 'type', 'generate', 'make', 'competitive', 'job', 'top', 'important', 'job', 'expected', 'base', 'free', 'dive', 'important', 'big', 'understand', 'afraid', 'move']\n"
     ]
    },
    {
     "data": {
      "text/plain": [
       "172"
      ]
     },
     "execution_count": 17,
     "metadata": {},
     "output_type": "execute_result"
    }
   ],
   "source": [
    "new_texts = word_tokenize(new_texts)\n",
    "negative_words = [i for i in new_texts if i in negative]\n",
    "print(negative_words)\n",
    "len(negative_words)"
   ]
  },
  {
   "cell_type": "markdown",
   "id": "0b24f011",
   "metadata": {},
   "source": [
    "# Positive words"
   ]
  },
  {
   "cell_type": "code",
   "execution_count": 18,
   "id": "4b003620",
   "metadata": {},
   "outputs": [
    {
     "data": {
      "text/plain": [
       "'a+\\nabound\\nabounds\\nabundance\\nabundant\\naccessable\\naccessible\\nacclaim\\nacclaimed\\nacclamation\\naccolade\\naccolades\\naccommodative\\naccomodative\\naccomplish\\naccomplished\\naccomplishment\\naccomplishments\\naccurate\\naccurately\\n'"
      ]
     },
     "execution_count": 18,
     "metadata": {},
     "output_type": "execute_result"
    }
   ],
   "source": [
    "with open(\"D:\\\\lab\\\\Dataset\\\\Positive_words.txt\", 'r') as file:\n",
    "    positive = file.read()\n",
    "positive[:210]    "
   ]
  },
  {
   "cell_type": "code",
   "execution_count": 19,
   "id": "66ed38c6",
   "metadata": {},
   "outputs": [
    {
     "data": {
      "text/plain": [
       "'a+,abound,abounds,abundance,abundant,accessable,accessible,acclaim,acclaimed,acclamation,accolade,accolades,accommodative,accomodative,accomplish,accomplished,accomplishment,accomplishments,accurate,accurately,'"
      ]
     },
     "execution_count": 19,
     "metadata": {},
     "output_type": "execute_result"
    }
   ],
   "source": [
    "positive = positive.replace('\\n',',')\n",
    "positive[:210]"
   ]
  },
  {
   "cell_type": "code",
   "execution_count": 20,
   "id": "fc1387e8",
   "metadata": {},
   "outputs": [
    {
     "name": "stdout",
     "output_type": "stream",
     "text": [
      "['affordable', 'cost', 'intelligence', 'popular', 'future', 'intuitive', 'content', 'modern', 'personalized', 'future', 'enable', 'benefits', 'future', 'intelligence', 'purpose', 'content', 'future', 'enticing', 'benefits', 'logic', 'famous', 'manage', 'integrated', 'store', 'manage', 'open', 'source', 'human', 'put', 'intelligence', 'favorite', 'sci', 'advent', 'fear', 'human', 'advanced', 'human', 'hands', 'fear', 'intelligent', 'work', 'world', 'work', 'optimistic', 'picture', 'human', 'innovation', 'leading', 'made', 'human', 'intelligence', 'capable', 'intelligence', 'meaning', 'solve', 'problem', 'perform', 'intelligence', 'kind', 'problem', 'important', 'limit', 'question', 'kind', 'power', 'cost', 'power', 'important', 'note', 'bias', 'bias', 'bias', 'bias', 'human', 'intelligence', 'replace', 'human', 'question', 'advance', 'prosperity', 'fascinating', 'dive', 'world', 'world', 'world', 'world', 'forget', 'fact', 'leading', 'manner', 'strong', 'benefits', 'robust', 'amount', 'effective', 'world', 'advent', 'autonomous', 'autonomous', 'mind', 'working', 'secure', 'world', 'large', 'catch', 'play', 'future', 'user', 'fulfillment', 'expect', 'forward', 'forward', 'benefit', 'doubt', 'rude', 'reach', 'human', 'successful', 'easier', 'bias', 'aimed', 'effectiveness', 'bias', 'advantage', 'excellent', 'resource', 'good', 'match', 'position', 'add', 'great', 'match', 'fit', 'rating', 'recommendations', 'add', 'position', 'encourage', 'awesome', 'great', 'great', 'improvement', 'great', 'energy', 'competitive', 'top', 'important', 'expected', 'knowledge', 'great', 'free', 'savvy', 'dive', 'important', 'understand', 'forward', 'adapt']\n"
     ]
    },
    {
     "data": {
      "text/plain": [
       "157"
      ]
     },
     "execution_count": 20,
     "metadata": {},
     "output_type": "execute_result"
    }
   ],
   "source": [
    "positive_words = [i for i in new_texts if i in positive]\n",
    "print(positive_words)\n",
    "len(positive_words)"
   ]
  },
  {
   "cell_type": "markdown",
   "id": "1b59646d",
   "metadata": {},
   "source": [
    "#### positive Score\n"
   ]
  },
  {
   "cell_type": "code",
   "execution_count": 21,
   "id": "7d0fbab1",
   "metadata": {},
   "outputs": [
    {
     "name": "stdout",
     "output_type": "stream",
     "text": [
      "157\n"
     ]
    }
   ],
   "source": [
    "pos_score = len(positive_words)\n",
    "print(pos_score)"
   ]
  },
  {
   "cell_type": "markdown",
   "id": "54a6cc12",
   "metadata": {},
   "source": [
    "#### Negative Score"
   ]
  },
  {
   "cell_type": "code",
   "execution_count": 22,
   "id": "df0766cd",
   "metadata": {},
   "outputs": [
    {
     "name": "stdout",
     "output_type": "stream",
     "text": [
      "172\n"
     ]
    }
   ],
   "source": [
    "neg_score=len(negative_words)\n",
    "print(neg_score)"
   ]
  },
  {
   "cell_type": "markdown",
   "id": "84da7ab7",
   "metadata": {},
   "source": [
    "#### Polarity Score"
   ]
  },
  {
   "cell_type": "code",
   "execution_count": 23,
   "id": "21e88c2b",
   "metadata": {},
   "outputs": [
    {
     "data": {
      "text/plain": [
       "-0.05"
      ]
     },
     "execution_count": 23,
     "metadata": {},
     "output_type": "execute_result"
    }
   ],
   "source": [
    "Polarity_Score = (pos_score - neg_score)/((pos_score + neg_score) + 0.000001)\n",
    "round(Polarity_Score,2)"
   ]
  },
  {
   "cell_type": "code",
   "execution_count": 39,
   "id": "08bcb4ab",
   "metadata": {},
   "outputs": [
    {
     "name": "stdout",
     "output_type": "stream",
     "text": [
      "number of words after cleaning : 1078\n"
     ]
    }
   ],
   "source": [
    "word_count = len(new_texts)\n",
    "print(\"number of words after cleaning :\",word_count)"
   ]
  },
  {
   "cell_type": "markdown",
   "id": "16495ba1",
   "metadata": {},
   "source": [
    "#### Subjectivity Score"
   ]
  },
  {
   "cell_type": "code",
   "execution_count": 41,
   "id": "841713a3",
   "metadata": {},
   "outputs": [
    {
     "data": {
      "text/plain": [
       "0.31"
      ]
     },
     "execution_count": 41,
     "metadata": {},
     "output_type": "execute_result"
    }
   ],
   "source": [
    "Subjectivity_Score = (pos_score + neg_score)/ ((word_count) + 0.000001)\n",
    "round(Subjectivity_Score,2)"
   ]
  },
  {
   "cell_type": "markdown",
   "id": "0d7c370e",
   "metadata": {},
   "source": [
    "# Analysis of Readability"
   ]
  },
  {
   "cell_type": "code",
   "execution_count": 26,
   "id": "10209a7a",
   "metadata": {},
   "outputs": [
    {
     "data": {
      "text/plain": [
       "2285"
      ]
     },
     "execution_count": 26,
     "metadata": {},
     "output_type": "execute_result"
    }
   ],
   "source": [
    "import nltk\n",
    "from nltk.tokenize import word_tokenize\n",
    "word_tokens = nltk.word_tokenize(texts)\n",
    "No_of_words = len(word_tokens)\n",
    "No_of_words"
   ]
  },
  {
   "cell_type": "code",
   "execution_count": 27,
   "id": "bfac2ab7",
   "metadata": {},
   "outputs": [
    {
     "data": {
      "text/plain": [
       "80"
      ]
     },
     "execution_count": 27,
     "metadata": {},
     "output_type": "execute_result"
    }
   ],
   "source": [
    "sent_tokens = nltk.sent_tokenize(texts)\n",
    "No_of_sents = len(sent_tokens)\n",
    "No_of_sents "
   ]
  },
  {
   "cell_type": "markdown",
   "id": "1576acfe",
   "metadata": {},
   "source": [
    "### Average sentence Length\n"
   ]
  },
  {
   "cell_type": "code",
   "execution_count": 28,
   "id": "11d6a7ec",
   "metadata": {},
   "outputs": [
    {
     "data": {
      "text/plain": [
       "28.56"
      ]
     },
     "execution_count": 28,
     "metadata": {},
     "output_type": "execute_result"
    }
   ],
   "source": [
    "Avg_Sents_Length = No_of_words / No_of_sents\n",
    "round(Avg_Sents_Length,2)"
   ]
  },
  {
   "cell_type": "markdown",
   "id": "bc20ee3d",
   "metadata": {},
   "source": [
    "### Percentage of Complex words\n",
    "Complex words: words with more than 2 syllable are called complex words"
   ]
  },
  {
   "cell_type": "code",
   "execution_count": 29,
   "id": "eba6a8b1",
   "metadata": {},
   "outputs": [
    {
     "name": "stdout",
     "output_type": "stream",
     "text": [
      "Number of complex words: 339\n",
      "Total number of words: 12991\n"
     ]
    }
   ],
   "source": [
    "from nltk.corpus import cmudict\n",
    "cmud = cmudict.dict()\n",
    "\n",
    "# Defining a function to count syllables in a word\n",
    "def count_syllables(word):\n",
    "    phonemes = cmud[word.lower()][0] \n",
    "    return len([s for s in phonemes if s[-1].isdigit()])\n",
    "\n",
    "# Identifing complex words\n",
    "w_tokens = [i for i in word_tokens if i in cmud]\n",
    "complex_words = [word for word in w_tokens if count_syllables(word) > 2]\n",
    "\n",
    "# Calculatingnumber of complex words\n",
    "num_complex_words = len(complex_words)\n",
    "\n",
    "print(\"Number of complex words:\", num_complex_words)\n",
    "print(\"Total number of words:\", len(texts))"
   ]
  },
  {
   "cell_type": "code",
   "execution_count": 30,
   "id": "e982c0a1",
   "metadata": {},
   "outputs": [
    {
     "data": {
      "text/plain": [
       "38.32"
      ]
     },
     "execution_count": 30,
     "metadata": {},
     "output_type": "execute_result"
    }
   ],
   "source": [
    "Perc_of_Complex_words = len(texts) / num_complex_words\n",
    "round(Perc_of_Complex_words,2)"
   ]
  },
  {
   "cell_type": "markdown",
   "id": "77e948d1",
   "metadata": {},
   "source": [
    "### Fog Index"
   ]
  },
  {
   "cell_type": "code",
   "execution_count": 31,
   "id": "95fb10bb",
   "metadata": {},
   "outputs": [
    {
     "name": "stdout",
     "output_type": "stream",
     "text": [
      "Average sentence length: 80.0\n"
     ]
    }
   ],
   "source": [
    "# Tokenize each sentence into words\n",
    "words = [word_tokens for sentence in sent_tokens]\n",
    "\n",
    "# Calculate the average sentence length\n",
    "avg_sent_len = sum(No_of_sents for sentence in words) / No_of_sents\n",
    "\n",
    "print(\"Average sentence length:\", avg_sent_len)\n"
   ]
  },
  {
   "cell_type": "code",
   "execution_count": 32,
   "id": "38f5a93b",
   "metadata": {},
   "outputs": [
    {
     "data": {
      "text/plain": [
       "47.33"
      ]
     },
     "execution_count": 32,
     "metadata": {},
     "output_type": "execute_result"
    }
   ],
   "source": [
    "Fog_index = 0.4 * (avg_sent_len + Perc_of_Complex_words)\n",
    "round(Fog_index,2)"
   ]
  },
  {
   "cell_type": "markdown",
   "id": "5b4aacea",
   "metadata": {},
   "source": [
    "# Average Number of Words Per Sentence"
   ]
  },
  {
   "cell_type": "code",
   "execution_count": 33,
   "id": "45da1407",
   "metadata": {},
   "outputs": [
    {
     "data": {
      "text/plain": [
       "28.56"
      ]
     },
     "execution_count": 33,
     "metadata": {},
     "output_type": "execute_result"
    }
   ],
   "source": [
    "avg_no_of_words_per_sent = No_of_words / No_of_sents\n",
    "round(avg_no_of_words_per_sent,2)"
   ]
  },
  {
   "cell_type": "markdown",
   "id": "f2d9b493",
   "metadata": {},
   "source": [
    "# Complex Word Count"
   ]
  },
  {
   "cell_type": "code",
   "execution_count": 34,
   "id": "75304424",
   "metadata": {},
   "outputs": [
    {
     "name": "stdout",
     "output_type": "stream",
     "text": [
      "complex word count: 339\n"
     ]
    }
   ],
   "source": [
    "from nltk.corpus import cmudict\n",
    "cmud = cmudict.dict()\n",
    "\n",
    "# Defining a function to count syllables in a word\n",
    "def count_syllables(word):\n",
    "    phonemes = cmud[word.lower()][0] \n",
    "    return len([s for s in phonemes if s[-1].isdigit()])\n",
    "\n",
    "# Identifing complex words\n",
    "w_tokens = [i for i in word_tokens if i in cmud]\n",
    "complex_words = [word for word in w_tokens if count_syllables(word) > 2]\n",
    "\n",
    "# Calculatingnumber of complex words\n",
    "num_complex_words = len(complex_words)\n",
    "\n",
    "print(\"complex word count:\", num_complex_words)"
   ]
  },
  {
   "cell_type": "markdown",
   "id": "99ea5188",
   "metadata": {},
   "source": [
    "# Word Count\n",
    "number of words after cleaning"
   ]
  },
  {
   "cell_type": "code",
   "execution_count": 35,
   "id": "b4fb0c72",
   "metadata": {},
   "outputs": [
    {
     "data": {
      "text/plain": [
       "1078"
      ]
     },
     "execution_count": 35,
     "metadata": {},
     "output_type": "execute_result"
    }
   ],
   "source": [
    "len(new_texts)"
   ]
  },
  {
   "cell_type": "markdown",
   "id": "ca8076ff",
   "metadata": {},
   "source": [
    "# Syllable Count Per Word"
   ]
  },
  {
   "cell_type": "code",
   "execution_count": 36,
   "id": "bc568045",
   "metadata": {},
   "outputs": [
    {
     "name": "stdout",
     "output_type": "stream",
     "text": [
      "Enter a word to get syllable: learning\n",
      "Number of syllable in a word : 2\n"
     ]
    }
   ],
   "source": [
    "word = input(\"Enter a word to get syllable: \")\n",
    "def count_syllables(word):\n",
    "    phonemes = cmud[word.lower()][0] \n",
    "    return len([s for s in phonemes if s[-1].isdigit()])\n",
    "\n",
    "print(\"Number of syllable in a word :\",count_syllables(word))"
   ]
  },
  {
   "cell_type": "markdown",
   "id": "1d3a18f6",
   "metadata": {},
   "source": [
    "# Personal Pronouns"
   ]
  },
  {
   "cell_type": "code",
   "execution_count": 37,
   "id": "0b8e0d2d",
   "metadata": {},
   "outputs": [
    {
     "name": "stdout",
     "output_type": "stream",
     "text": [
      "Personal pronoun frequency: {'it': 21, 'you': 19, 'we': 6, 'i': 4, 'they': 3, 'us': 1}\n",
      "total number of pronouns in a article : 54\n"
     ]
    }
   ],
   "source": [
    "import re\n",
    "\n",
    "# Define a regex pattern to match personal pronouns\n",
    "pattern = r'\\b(I|you|he|she|it|we|they|me|him|her|us|them)\\b'\n",
    "\n",
    "# Count the frequency of personal pronouns\n",
    "pronoun_freq = {}\n",
    "for pronoun in re.findall(pattern, texts, re.IGNORECASE):\n",
    "    pronoun = pronoun.lower()\n",
    "    if pronoun in pronoun_freq:\n",
    "        pronoun_freq[pronoun] += 1\n",
    "    else:\n",
    "        pronoun_freq[pronoun] = 1\n",
    "\n",
    "print(\"Personal pronoun frequency:\", pronoun_freq)\n",
    "def returnSum(dict):\n",
    " \n",
    "    sum = 0\n",
    "    for i in pronoun_freq.values():\n",
    "        sum = sum + i\n",
    " \n",
    "    return sum\n",
    "print(\"total number of pronouns in a article :\",returnSum(pronoun_freq))"
   ]
  },
  {
   "cell_type": "markdown",
   "id": "e3fc87f8",
   "metadata": {},
   "source": [
    "# Average Word Length"
   ]
  },
  {
   "cell_type": "code",
   "execution_count": 38,
   "id": "5bde37d9",
   "metadata": {},
   "outputs": [
    {
     "name": "stdout",
     "output_type": "stream",
     "text": [
      "Average word length: 4.67\n"
     ]
    }
   ],
   "source": [
    "# Calculate the total number of characters in all words\n",
    "total_chars = sum(len(word) for word in word_tokens)\n",
    "\n",
    "avg_word_length = total_chars / No_of_words\n",
    "\n",
    "print(\"Average word length:\", round(avg_word_length,2))\n"
   ]
  },
  {
   "cell_type": "code",
   "execution_count": null,
   "id": "63dc25ad",
   "metadata": {},
   "outputs": [],
   "source": []
  },
  {
   "cell_type": "code",
   "execution_count": null,
   "id": "819012c5",
   "metadata": {},
   "outputs": [],
   "source": []
  }
 ],
 "metadata": {
  "kernelspec": {
   "display_name": "Python 3",
   "language": "python",
   "name": "python3"
  },
  "language_info": {
   "codemirror_mode": {
    "name": "ipython",
    "version": 3
   },
   "file_extension": ".py",
   "mimetype": "text/x-python",
   "name": "python",
   "nbconvert_exporter": "python",
   "pygments_lexer": "ipython3",
   "version": "3.8.8"
  }
 },
 "nbformat": 4,
 "nbformat_minor": 5
}
