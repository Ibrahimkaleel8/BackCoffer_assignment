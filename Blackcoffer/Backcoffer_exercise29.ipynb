{
 "cells": [
  {
   "cell_type": "markdown",
   "id": "b9312f26",
   "metadata": {},
   "source": [
    "# Data scraping"
   ]
  },
  {
   "cell_type": "code",
   "execution_count": 1,
   "id": "ef4785ca",
   "metadata": {},
   "outputs": [],
   "source": [
    "import nltk\n",
    "import requests\n",
    "from bs4 import BeautifulSoup"
   ]
  },
  {
   "cell_type": "code",
   "execution_count": 2,
   "id": "ac2f2459",
   "metadata": {},
   "outputs": [],
   "source": [
    "req = requests.get(\"https://insights.blackcoffer.com/telemedicine-what-patients-like-and-dislike-about-it/\")"
   ]
  },
  {
   "cell_type": "code",
   "execution_count": 3,
   "id": "45f9fa09",
   "metadata": {},
   "outputs": [],
   "source": [
    "soup = BeautifulSoup(req.content, \"html.parser\")\n",
    "res = soup.title\n",
    "paras = soup.find_all('p')"
   ]
  },
  {
   "cell_type": "code",
   "execution_count": 4,
   "id": "dbb256b2",
   "metadata": {
    "scrolled": true
   },
   "outputs": [
    {
     "name": "stdout",
     "output_type": "stream",
     "text": [
      "In today’s world, telemedicine technology is one of those technologies which has brought about a change. Compared to the early days there have been remarkable differences in the methods of consultation with a doctor. In the years that have passed by, consultation for a disease with a doctor was quite hectic. It involved waiting, traveling, etc. But with the advent of telemedicine opportunities, this has completely changed. It is a rural area that has been completely blessed with the invention of telemedicine. Today a considerable amount of people are able to consult doctors remotely. Not just doctors, but specialists in various fields of medicine. This has been of great importance as far as rural people are concerned. There are a lot of telemedicine tools that have been found. There are a lot of areas like ophthalmology, oncology, dermatology, etc where the facility of telemedicine has been practiced. Most of the patients are truly benefitting from telemedicine. Patients are pretty satisfied with the consultation they are getting. They don’t have to travel now. They can consult doctors and other specialists from remote areas. The cost of consultation has become pretty much affordable. Moreover, they get exposed to highly efficient and qualified experts in the field of medicine. On the other hand, there can be patients who do not fully get satisfied through a virtual consultation. Rather they might feel that they need to have a direct talk with the doctor, which can boost up their confidence and also it helps to maintain a better relationship with the doctor and patient. The patients feel trust when they talk to doctors face to face. Moreover, doctors also might be able to console their patients when they have direct interaction with their patients. There could also be patients who doubt if these virtual methodologies are really trusted worthy or not. It is so because, while the patients have direct contact with their patients, the qualifications are visible to the patients. So there shall be no question of distrust. There are major challenges like better connectivity of the internet, without which the patients will not be able to have continuous interaction with the doctors. Technical glitches may hinder the consultation too. Moreover, emergency situations cannot be addressed beyond a limit through telemedicine.\n"
     ]
    }
   ],
   "source": [
    "texts = \" \".join([paragraph.text.strip() for paragraph in paras])\n",
    "print(texts)"
   ]
  },
  {
   "cell_type": "code",
   "execution_count": 5,
   "id": "e79f5f60",
   "metadata": {},
   "outputs": [
    {
     "data": {
      "text/plain": [
       "2353"
      ]
     },
     "execution_count": 5,
     "metadata": {},
     "output_type": "execute_result"
    }
   ],
   "source": [
    "len(texts)"
   ]
  },
  {
   "cell_type": "markdown",
   "id": "db8f1fcc",
   "metadata": {},
   "source": [
    "Removing Punctuation"
   ]
  },
  {
   "cell_type": "code",
   "execution_count": 6,
   "id": "5285c8a8",
   "metadata": {},
   "outputs": [
    {
     "data": {
      "text/plain": [
       "2353"
      ]
     },
     "execution_count": 6,
     "metadata": {},
     "output_type": "execute_result"
    }
   ],
   "source": [
    "import re\n",
    "import string\n",
    "texts = re.sub(r'[\\'\\“\\”\\()\\%\\,\\-\\'\\’\\?\\ ]', ' ', texts)\n",
    "texts[0:200]\n",
    "len(texts)"
   ]
  },
  {
   "cell_type": "markdown",
   "id": "4fafe7be",
   "metadata": {},
   "source": [
    "# Removing Stopwords"
   ]
  },
  {
   "cell_type": "code",
   "execution_count": 7,
   "id": "089b8663",
   "metadata": {},
   "outputs": [],
   "source": [
    "from nltk.tokenize import word_tokenize"
   ]
  },
  {
   "cell_type": "code",
   "execution_count": 8,
   "id": "280876b0",
   "metadata": {},
   "outputs": [
    {
     "data": {
      "text/plain": [
       "['In',\n",
       " 'today',\n",
       " 's',\n",
       " 'world',\n",
       " 'telemedicine',\n",
       " 'technology',\n",
       " 'is',\n",
       " 'one',\n",
       " 'of',\n",
       " 'those',\n",
       " 'technologies',\n",
       " 'which',\n",
       " 'has',\n",
       " 'brought',\n",
       " 'about',\n",
       " 'a',\n",
       " 'change',\n",
       " '.',\n",
       " 'Compared',\n",
       " 'to',\n",
       " 'the',\n",
       " 'early',\n",
       " 'days',\n",
       " 'there',\n",
       " 'have',\n",
       " 'been',\n",
       " 'remarkable',\n",
       " 'differences',\n",
       " 'in',\n",
       " 'the',\n",
       " 'methods',\n",
       " 'of',\n",
       " 'consultation',\n",
       " 'with',\n",
       " 'a',\n",
       " 'doctor',\n",
       " '.',\n",
       " 'In',\n",
       " 'the',\n",
       " 'years',\n",
       " 'that',\n",
       " 'have',\n",
       " 'passed',\n",
       " 'by',\n",
       " 'consultation',\n",
       " 'for',\n",
       " 'a',\n",
       " 'disease',\n",
       " 'with',\n",
       " 'a',\n",
       " 'doctor',\n",
       " 'was',\n",
       " 'quite',\n",
       " 'hectic',\n",
       " '.',\n",
       " 'It',\n",
       " 'involved',\n",
       " 'waiting',\n",
       " 'traveling',\n",
       " 'etc',\n",
       " '.',\n",
       " 'But',\n",
       " 'with',\n",
       " 'the',\n",
       " 'advent',\n",
       " 'of',\n",
       " 'telemedicine',\n",
       " 'opportunities',\n",
       " 'this',\n",
       " 'has',\n",
       " 'completely',\n",
       " 'changed',\n",
       " '.',\n",
       " 'It',\n",
       " 'is',\n",
       " 'a',\n",
       " 'rural',\n",
       " 'area',\n",
       " 'that',\n",
       " 'has',\n",
       " 'been',\n",
       " 'completely',\n",
       " 'blessed',\n",
       " 'with',\n",
       " 'the',\n",
       " 'invention',\n",
       " 'of',\n",
       " 'telemedicine',\n",
       " '.',\n",
       " 'Today',\n",
       " 'a',\n",
       " 'considerable',\n",
       " 'amount',\n",
       " 'of',\n",
       " 'people',\n",
       " 'are',\n",
       " 'able',\n",
       " 'to',\n",
       " 'consult',\n",
       " 'doctors',\n",
       " 'remotely',\n",
       " '.',\n",
       " 'Not',\n",
       " 'just',\n",
       " 'doctors',\n",
       " 'but',\n",
       " 'specialists',\n",
       " 'in',\n",
       " 'various',\n",
       " 'fields',\n",
       " 'of',\n",
       " 'medicine',\n",
       " '.',\n",
       " 'This',\n",
       " 'has',\n",
       " 'been',\n",
       " 'of',\n",
       " 'great',\n",
       " 'importance',\n",
       " 'as',\n",
       " 'far',\n",
       " 'as',\n",
       " 'rural',\n",
       " 'people',\n",
       " 'are',\n",
       " 'concerned',\n",
       " '.',\n",
       " 'There',\n",
       " 'are',\n",
       " 'a',\n",
       " 'lot',\n",
       " 'of',\n",
       " 'telemedicine',\n",
       " 'tools',\n",
       " 'that',\n",
       " 'have',\n",
       " 'been',\n",
       " 'found',\n",
       " '.',\n",
       " 'There',\n",
       " 'are',\n",
       " 'a',\n",
       " 'lot',\n",
       " 'of',\n",
       " 'areas',\n",
       " 'like',\n",
       " 'ophthalmology',\n",
       " 'oncology',\n",
       " 'dermatology',\n",
       " 'etc',\n",
       " 'where',\n",
       " 'the',\n",
       " 'facility',\n",
       " 'of',\n",
       " 'telemedicine',\n",
       " 'has',\n",
       " 'been',\n",
       " 'practiced',\n",
       " '.',\n",
       " 'Most',\n",
       " 'of',\n",
       " 'the',\n",
       " 'patients',\n",
       " 'are',\n",
       " 'truly',\n",
       " 'benefitting',\n",
       " 'from',\n",
       " 'telemedicine',\n",
       " '.',\n",
       " 'Patients',\n",
       " 'are',\n",
       " 'pretty',\n",
       " 'satisfied',\n",
       " 'with',\n",
       " 'the',\n",
       " 'consultation',\n",
       " 'they',\n",
       " 'are',\n",
       " 'getting',\n",
       " '.',\n",
       " 'They',\n",
       " 'don',\n",
       " 't',\n",
       " 'have',\n",
       " 'to',\n",
       " 'travel',\n",
       " 'now',\n",
       " '.',\n",
       " 'They',\n",
       " 'can',\n",
       " 'consult',\n",
       " 'doctors',\n",
       " 'and',\n",
       " 'other',\n",
       " 'specialists',\n",
       " 'from',\n",
       " 'remote',\n",
       " 'areas',\n",
       " '.',\n",
       " 'The',\n",
       " 'cost',\n",
       " 'of',\n",
       " 'consultation',\n",
       " 'has',\n",
       " 'become',\n",
       " 'pretty',\n",
       " 'much',\n",
       " 'affordable',\n",
       " '.',\n",
       " 'Moreover',\n",
       " 'they',\n",
       " 'get',\n",
       " 'exposed',\n",
       " 'to',\n",
       " 'highly',\n",
       " 'efficient',\n",
       " 'and',\n",
       " 'qualified',\n",
       " 'experts',\n",
       " 'in',\n",
       " 'the',\n",
       " 'field',\n",
       " 'of',\n",
       " 'medicine',\n",
       " '.',\n",
       " 'On',\n",
       " 'the',\n",
       " 'other',\n",
       " 'hand',\n",
       " 'there',\n",
       " 'can',\n",
       " 'be',\n",
       " 'patients',\n",
       " 'who',\n",
       " 'do',\n",
       " 'not',\n",
       " 'fully',\n",
       " 'get',\n",
       " 'satisfied',\n",
       " 'through',\n",
       " 'a',\n",
       " 'virtual',\n",
       " 'consultation',\n",
       " '.',\n",
       " 'Rather',\n",
       " 'they',\n",
       " 'might',\n",
       " 'feel',\n",
       " 'that',\n",
       " 'they',\n",
       " 'need',\n",
       " 'to',\n",
       " 'have',\n",
       " 'a',\n",
       " 'direct',\n",
       " 'talk',\n",
       " 'with',\n",
       " 'the',\n",
       " 'doctor',\n",
       " 'which',\n",
       " 'can',\n",
       " 'boost',\n",
       " 'up',\n",
       " 'their',\n",
       " 'confidence',\n",
       " 'and',\n",
       " 'also',\n",
       " 'it',\n",
       " 'helps',\n",
       " 'to',\n",
       " 'maintain',\n",
       " 'a',\n",
       " 'better',\n",
       " 'relationship',\n",
       " 'with',\n",
       " 'the',\n",
       " 'doctor',\n",
       " 'and',\n",
       " 'patient',\n",
       " '.',\n",
       " 'The',\n",
       " 'patients',\n",
       " 'feel',\n",
       " 'trust',\n",
       " 'when',\n",
       " 'they',\n",
       " 'talk',\n",
       " 'to',\n",
       " 'doctors',\n",
       " 'face',\n",
       " 'to',\n",
       " 'face',\n",
       " '.',\n",
       " 'Moreover',\n",
       " 'doctors',\n",
       " 'also',\n",
       " 'might',\n",
       " 'be',\n",
       " 'able',\n",
       " 'to',\n",
       " 'console',\n",
       " 'their',\n",
       " 'patients',\n",
       " 'when',\n",
       " 'they',\n",
       " 'have',\n",
       " 'direct',\n",
       " 'interaction',\n",
       " 'with',\n",
       " 'their',\n",
       " 'patients',\n",
       " '.',\n",
       " 'There',\n",
       " 'could',\n",
       " 'also',\n",
       " 'be',\n",
       " 'patients',\n",
       " 'who',\n",
       " 'doubt',\n",
       " 'if',\n",
       " 'these',\n",
       " 'virtual',\n",
       " 'methodologies',\n",
       " 'are',\n",
       " 'really',\n",
       " 'trusted',\n",
       " 'worthy',\n",
       " 'or',\n",
       " 'not',\n",
       " '.',\n",
       " 'It',\n",
       " 'is',\n",
       " 'so',\n",
       " 'because',\n",
       " 'while',\n",
       " 'the',\n",
       " 'patients',\n",
       " 'have',\n",
       " 'direct',\n",
       " 'contact',\n",
       " 'with',\n",
       " 'their',\n",
       " 'patients',\n",
       " 'the',\n",
       " 'qualifications',\n",
       " 'are',\n",
       " 'visible',\n",
       " 'to',\n",
       " 'the',\n",
       " 'patients',\n",
       " '.',\n",
       " 'So',\n",
       " 'there',\n",
       " 'shall',\n",
       " 'be',\n",
       " 'no',\n",
       " 'question',\n",
       " 'of',\n",
       " 'distrust',\n",
       " '.',\n",
       " 'There',\n",
       " 'are',\n",
       " 'major',\n",
       " 'challenges',\n",
       " 'like',\n",
       " 'better',\n",
       " 'connectivity',\n",
       " 'of',\n",
       " 'the',\n",
       " 'internet',\n",
       " 'without',\n",
       " 'which',\n",
       " 'the',\n",
       " 'patients',\n",
       " 'will',\n",
       " 'not',\n",
       " 'be',\n",
       " 'able',\n",
       " 'to',\n",
       " 'have',\n",
       " 'continuous',\n",
       " 'interaction',\n",
       " 'with',\n",
       " 'the',\n",
       " 'doctors',\n",
       " '.',\n",
       " 'Technical',\n",
       " 'glitches',\n",
       " 'may',\n",
       " 'hinder',\n",
       " 'the',\n",
       " 'consultation',\n",
       " 'too',\n",
       " '.',\n",
       " 'Moreover',\n",
       " 'emergency',\n",
       " 'situations',\n",
       " 'can',\n",
       " 'not',\n",
       " 'be',\n",
       " 'addressed',\n",
       " 'beyond',\n",
       " 'a',\n",
       " 'limit',\n",
       " 'through',\n",
       " 'telemedicine',\n",
       " '.']"
      ]
     },
     "execution_count": 8,
     "metadata": {},
     "output_type": "execute_result"
    }
   ],
   "source": [
    "token = word_tokenize(texts)\n",
    "token"
   ]
  },
  {
   "cell_type": "code",
   "execution_count": 9,
   "id": "10016a09",
   "metadata": {},
   "outputs": [],
   "source": [
    "with open(\"D:\\lab\\Dataset\\Stopwords_Blackcoffer.txt\", 'r') as file:\n",
    "    data = file.read()"
   ]
  },
  {
   "cell_type": "code",
   "execution_count": 10,
   "id": "c567cbef",
   "metadata": {},
   "outputs": [
    {
     "data": {
      "text/plain": [
       "'ERNST\\nYOUNG\\nDELOITTE\\nTOUCHE\\nKPMG\\nPRICEWATERHOUSECOOPERS\\nPRICEWATERHOUSE\\nCOOPERS\\nAFGHANI\\nARIARY\\nBAHT\\n'"
      ]
     },
     "execution_count": 10,
     "metadata": {},
     "output_type": "execute_result"
    }
   ],
   "source": [
    "data[:100]"
   ]
  },
  {
   "cell_type": "code",
   "execution_count": 11,
   "id": "d65bfa92",
   "metadata": {},
   "outputs": [
    {
     "data": {
      "text/plain": [
       "'ERNST,YOUNG,DELOITTE,TOUCHE,KPMG,PRICEWATERHOUSECOOPERS,PRICEWATERHOUSE,COOPERS,AFGHANI,ARIARY,BAHT,'"
      ]
     },
     "execution_count": 11,
     "metadata": {},
     "output_type": "execute_result"
    }
   ],
   "source": [
    "data = data.replace('\\n', ',')\n",
    "data[:100]"
   ]
  },
  {
   "cell_type": "code",
   "execution_count": 12,
   "id": "0ef23874",
   "metadata": {},
   "outputs": [
    {
     "data": {
      "text/plain": [
       "'In today world telemedicine technology technologies brought . Compared days remarkable differences methods consultation doctor . In years passed consultation disease doctor hectic . It involved waitin'"
      ]
     },
     "execution_count": 12,
     "metadata": {},
     "output_type": "execute_result"
    }
   ],
   "source": [
    "new_texts = \" \".join([i for i in token if i not in data])\n",
    "new_texts[:200]"
   ]
  },
  {
   "cell_type": "code",
   "execution_count": 13,
   "id": "ea392da4",
   "metadata": {},
   "outputs": [
    {
     "name": "stdout",
     "output_type": "stream",
     "text": [
      "length before cleaning:  2353\n",
      "length after cleaning:  1449\n"
     ]
    }
   ],
   "source": [
    "print(\"length before cleaning: \", len(texts))\n",
    "print(\"length after cleaning: \", len(new_texts))"
   ]
  },
  {
   "cell_type": "markdown",
   "id": "1f456147",
   "metadata": {},
   "source": [
    "# Negative words"
   ]
  },
  {
   "cell_type": "code",
   "execution_count": 14,
   "id": "dc3618a7",
   "metadata": {},
   "outputs": [],
   "source": [
    "with open(\"D:\\\\lab\\\\Dataset\\\\Negative_words.txt\", 'r') as file:\n",
    "    negative = file.read()"
   ]
  },
  {
   "cell_type": "code",
   "execution_count": 15,
   "id": "2123c4cb",
   "metadata": {},
   "outputs": [
    {
     "data": {
      "text/plain": [
       "'2-faced\\n2-faces\\nabnormal\\nabolish\\nabominable\\nabominably\\nabominate\\nabomination\\nabort\\naborted\\naborts\\nabrade\\nabrasive\\nabrupt\\nabruptly\\nabscond\\nabsence\\nabsent-minded\\nabsentee\\nabsurd\\nabsurdity\\nabsurdly\\nabsurdness\\n'"
      ]
     },
     "execution_count": 15,
     "metadata": {},
     "output_type": "execute_result"
    }
   ],
   "source": [
    "negative[:206]"
   ]
  },
  {
   "cell_type": "code",
   "execution_count": 16,
   "id": "28f44c97",
   "metadata": {},
   "outputs": [
    {
     "data": {
      "text/plain": [
       "'2-faced,2-faces,abnormal,abolish,abominable,abominably,abominate,abomination,abort,aborted,aborts,abrade,abrasive,abrupt,abruptly,abscond,absence,absent-minded,absentee,absurd,absurdity,absurdly,absurdness,'"
      ]
     },
     "execution_count": 16,
     "metadata": {},
     "output_type": "execute_result"
    }
   ],
   "source": [
    "negative = negative.replace('\\n', ',')\n",
    "negative[:206]"
   ]
  },
  {
   "cell_type": "code",
   "execution_count": 17,
   "id": "31a272c0",
   "metadata": {},
   "outputs": [
    {
     "name": "stdout",
     "output_type": "stream",
     "text": [
      "['hectic', 'concerned', 'lot', 'found', 'lot', 'satisfied', 'cost', 'affordable', 'efficient', 'qualified', 'satisfied', 'feel', 'direct', 'confidence', 'patient', 'feel', 'trust', 'face', 'face', 'direct', 'doubt', 'worthy', 'direct', 'visible', 'question', 'distrust', 'continuous', 'glitches', 'hinder', 'emergency', 'limit']\n"
     ]
    },
    {
     "data": {
      "text/plain": [
       "31"
      ]
     },
     "execution_count": 17,
     "metadata": {},
     "output_type": "execute_result"
    }
   ],
   "source": [
    "new_texts = word_tokenize(new_texts)\n",
    "negative_words = [i for i in new_texts if i in negative]\n",
    "print(negative_words)\n",
    "len(negative_words)"
   ]
  },
  {
   "cell_type": "markdown",
   "id": "0b24f011",
   "metadata": {},
   "source": [
    "# Positive words"
   ]
  },
  {
   "cell_type": "code",
   "execution_count": 18,
   "id": "4b003620",
   "metadata": {},
   "outputs": [
    {
     "data": {
      "text/plain": [
       "'a+\\nabound\\nabounds\\nabundance\\nabundant\\naccessable\\naccessible\\nacclaim\\nacclaimed\\nacclamation\\naccolade\\naccolades\\naccommodative\\naccomodative\\naccomplish\\naccomplished\\naccomplishment\\naccomplishments\\naccurate\\naccurately\\n'"
      ]
     },
     "execution_count": 18,
     "metadata": {},
     "output_type": "execute_result"
    }
   ],
   "source": [
    "with open(\"D:\\\\lab\\\\Dataset\\\\Positive_words.txt\", 'r') as file:\n",
    "    positive = file.read()\n",
    "positive[:210]    "
   ]
  },
  {
   "cell_type": "code",
   "execution_count": 19,
   "id": "66ed38c6",
   "metadata": {},
   "outputs": [
    {
     "data": {
      "text/plain": [
       "'a+,abound,abounds,abundance,abundant,accessable,accessible,acclaim,acclaimed,acclamation,accolade,accolades,accommodative,accomodative,accomplish,accomplished,accomplishment,accomplishments,accurate,accurately,'"
      ]
     },
     "execution_count": 19,
     "metadata": {},
     "output_type": "execute_result"
    }
   ],
   "source": [
    "positive = positive.replace('\\n',',')\n",
    "positive[:210]"
   ]
  },
  {
   "cell_type": "code",
   "execution_count": 20,
   "id": "fc1387e8",
   "metadata": {},
   "outputs": [
    {
     "name": "stdout",
     "output_type": "stream",
     "text": [
      "['world', 'remarkable', 'advent', 'amount', 'great', 'found', 'pretty', 'satisfied', 'cost', 'pretty', 'affordable', 'efficient', 'qualified', 'satisfied', 'boost', 'confidence', 'patient', 'trust', 'doubt', 'trusted', 'worthy', 'question', 'limit']\n"
     ]
    },
    {
     "data": {
      "text/plain": [
       "23"
      ]
     },
     "execution_count": 20,
     "metadata": {},
     "output_type": "execute_result"
    }
   ],
   "source": [
    "positive_words = [i for i in new_texts if i in positive]\n",
    "print(positive_words)\n",
    "len(positive_words)"
   ]
  },
  {
   "cell_type": "markdown",
   "id": "1b59646d",
   "metadata": {},
   "source": [
    "#### positive Score\n"
   ]
  },
  {
   "cell_type": "code",
   "execution_count": 21,
   "id": "7d0fbab1",
   "metadata": {},
   "outputs": [
    {
     "name": "stdout",
     "output_type": "stream",
     "text": [
      "23\n"
     ]
    }
   ],
   "source": [
    "pos_score = len(positive_words)\n",
    "print(pos_score)"
   ]
  },
  {
   "cell_type": "markdown",
   "id": "54a6cc12",
   "metadata": {},
   "source": [
    "#### Negative Score"
   ]
  },
  {
   "cell_type": "code",
   "execution_count": 22,
   "id": "df0766cd",
   "metadata": {},
   "outputs": [
    {
     "name": "stdout",
     "output_type": "stream",
     "text": [
      "31\n"
     ]
    }
   ],
   "source": [
    "neg_score=len(negative_words)\n",
    "print(neg_score)"
   ]
  },
  {
   "cell_type": "markdown",
   "id": "84da7ab7",
   "metadata": {},
   "source": [
    "#### Polarity Score"
   ]
  },
  {
   "cell_type": "code",
   "execution_count": 23,
   "id": "21e88c2b",
   "metadata": {},
   "outputs": [
    {
     "data": {
      "text/plain": [
       "-0.15"
      ]
     },
     "execution_count": 23,
     "metadata": {},
     "output_type": "execute_result"
    }
   ],
   "source": [
    "Polarity_Score = (pos_score - neg_score)/((pos_score + neg_score) + 0.000001)\n",
    "round(Polarity_Score,2)"
   ]
  },
  {
   "cell_type": "code",
   "execution_count": 24,
   "id": "08bcb4ab",
   "metadata": {},
   "outputs": [
    {
     "name": "stdout",
     "output_type": "stream",
     "text": [
      "number of words after cleaning : 195\n"
     ]
    }
   ],
   "source": [
    "word_count = len(new_texts)\n",
    "print(\"number of words after cleaning :\",word_count)"
   ]
  },
  {
   "cell_type": "markdown",
   "id": "16495ba1",
   "metadata": {},
   "source": [
    "#### Subjectivity Score"
   ]
  },
  {
   "cell_type": "code",
   "execution_count": 25,
   "id": "841713a3",
   "metadata": {},
   "outputs": [
    {
     "data": {
      "text/plain": [
       "0.28"
      ]
     },
     "execution_count": 25,
     "metadata": {},
     "output_type": "execute_result"
    }
   ],
   "source": [
    "Subjectivity_Score = (pos_score + neg_score)/ ((word_count) + 0.000001)\n",
    "round(Subjectivity_Score,2)"
   ]
  },
  {
   "cell_type": "markdown",
   "id": "0d7c370e",
   "metadata": {},
   "source": [
    "# Analysis of Readability"
   ]
  },
  {
   "cell_type": "code",
   "execution_count": 26,
   "id": "10209a7a",
   "metadata": {},
   "outputs": [
    {
     "data": {
      "text/plain": [
       "407"
      ]
     },
     "execution_count": 26,
     "metadata": {},
     "output_type": "execute_result"
    }
   ],
   "source": [
    "import nltk\n",
    "from nltk.tokenize import word_tokenize\n",
    "word_tokens = nltk.word_tokenize(texts)\n",
    "No_of_words = len(word_tokens)\n",
    "No_of_words"
   ]
  },
  {
   "cell_type": "code",
   "execution_count": 27,
   "id": "bfac2ab7",
   "metadata": {},
   "outputs": [
    {
     "data": {
      "text/plain": [
       "27"
      ]
     },
     "execution_count": 27,
     "metadata": {},
     "output_type": "execute_result"
    }
   ],
   "source": [
    "sent_tokens = nltk.sent_tokenize(texts)\n",
    "No_of_sents = len(sent_tokens)\n",
    "No_of_sents "
   ]
  },
  {
   "cell_type": "markdown",
   "id": "1576acfe",
   "metadata": {},
   "source": [
    "### Average sentence Length\n"
   ]
  },
  {
   "cell_type": "code",
   "execution_count": 28,
   "id": "11d6a7ec",
   "metadata": {},
   "outputs": [
    {
     "data": {
      "text/plain": [
       "15.07"
      ]
     },
     "execution_count": 28,
     "metadata": {},
     "output_type": "execute_result"
    }
   ],
   "source": [
    "Avg_Sents_Length = No_of_words / No_of_sents\n",
    "round(Avg_Sents_Length,2)"
   ]
  },
  {
   "cell_type": "markdown",
   "id": "bc20ee3d",
   "metadata": {},
   "source": [
    "### Percentage of Complex words\n",
    "Complex words: words with more than 2 syllable are called complex words"
   ]
  },
  {
   "cell_type": "code",
   "execution_count": 29,
   "id": "eba6a8b1",
   "metadata": {},
   "outputs": [
    {
     "name": "stdout",
     "output_type": "stream",
     "text": [
      "Number of complex words: 60\n",
      "Total number of words: 2353\n"
     ]
    }
   ],
   "source": [
    "from nltk.corpus import cmudict\n",
    "cmud = cmudict.dict()\n",
    "\n",
    "# Defining a function to count syllables in a word\n",
    "def count_syllables(word):\n",
    "    phonemes = cmud[word.lower()][0] \n",
    "    return len([s for s in phonemes if s[-1].isdigit()])\n",
    "\n",
    "# Identifing complex words\n",
    "w_tokens = [i for i in word_tokens if i in cmud]\n",
    "complex_words = [word for word in w_tokens if count_syllables(word) > 2]\n",
    "\n",
    "# Calculatingnumber of complex words\n",
    "num_complex_words = len(complex_words)\n",
    "\n",
    "print(\"Number of complex words:\", num_complex_words)\n",
    "print(\"Total number of words:\", len(texts))"
   ]
  },
  {
   "cell_type": "code",
   "execution_count": 30,
   "id": "e982c0a1",
   "metadata": {},
   "outputs": [
    {
     "data": {
      "text/plain": [
       "39.22"
      ]
     },
     "execution_count": 30,
     "metadata": {},
     "output_type": "execute_result"
    }
   ],
   "source": [
    "Perc_of_Complex_words = len(texts) / num_complex_words\n",
    "round(Perc_of_Complex_words,2)"
   ]
  },
  {
   "cell_type": "markdown",
   "id": "77e948d1",
   "metadata": {},
   "source": [
    "### Fog Index"
   ]
  },
  {
   "cell_type": "code",
   "execution_count": 31,
   "id": "95fb10bb",
   "metadata": {},
   "outputs": [
    {
     "name": "stdout",
     "output_type": "stream",
     "text": [
      "Average sentence length: 27.0\n"
     ]
    }
   ],
   "source": [
    "# Tokenize each sentence into words\n",
    "words = [word_tokens for sentence in sent_tokens]\n",
    "\n",
    "# Calculate the average sentence length\n",
    "avg_sent_len = sum(No_of_sents for sentence in words) / No_of_sents\n",
    "\n",
    "print(\"Average sentence length:\", avg_sent_len)\n"
   ]
  },
  {
   "cell_type": "code",
   "execution_count": 32,
   "id": "38f5a93b",
   "metadata": {},
   "outputs": [
    {
     "data": {
      "text/plain": [
       "26.49"
      ]
     },
     "execution_count": 32,
     "metadata": {},
     "output_type": "execute_result"
    }
   ],
   "source": [
    "Fog_index = 0.4 * (avg_sent_len + Perc_of_Complex_words)\n",
    "round(Fog_index,2)"
   ]
  },
  {
   "cell_type": "markdown",
   "id": "5b4aacea",
   "metadata": {},
   "source": [
    "# Average Number of Words Per Sentence"
   ]
  },
  {
   "cell_type": "code",
   "execution_count": 33,
   "id": "45da1407",
   "metadata": {},
   "outputs": [
    {
     "data": {
      "text/plain": [
       "15.07"
      ]
     },
     "execution_count": 33,
     "metadata": {},
     "output_type": "execute_result"
    }
   ],
   "source": [
    "avg_no_of_words_per_sent = No_of_words / No_of_sents\n",
    "round(avg_no_of_words_per_sent,2)"
   ]
  },
  {
   "cell_type": "markdown",
   "id": "f2d9b493",
   "metadata": {},
   "source": [
    "# Complex Word Count"
   ]
  },
  {
   "cell_type": "code",
   "execution_count": 34,
   "id": "75304424",
   "metadata": {},
   "outputs": [
    {
     "name": "stdout",
     "output_type": "stream",
     "text": [
      "complex word count: 60\n"
     ]
    }
   ],
   "source": [
    "from nltk.corpus import cmudict\n",
    "cmud = cmudict.dict()\n",
    "\n",
    "# Defining a function to count syllables in a word\n",
    "def count_syllables(word):\n",
    "    phonemes = cmud[word.lower()][0] \n",
    "    return len([s for s in phonemes if s[-1].isdigit()])\n",
    "\n",
    "# Identifing complex words\n",
    "w_tokens = [i for i in word_tokens if i in cmud]\n",
    "complex_words = [word for word in w_tokens if count_syllables(word) > 2]\n",
    "\n",
    "# Calculatingnumber of complex words\n",
    "num_complex_words = len(complex_words)\n",
    "\n",
    "print(\"complex word count:\", num_complex_words)"
   ]
  },
  {
   "cell_type": "markdown",
   "id": "99ea5188",
   "metadata": {},
   "source": [
    "# Word Count\n",
    "number of words after cleaning"
   ]
  },
  {
   "cell_type": "code",
   "execution_count": 35,
   "id": "b4fb0c72",
   "metadata": {},
   "outputs": [
    {
     "data": {
      "text/plain": [
       "195"
      ]
     },
     "execution_count": 35,
     "metadata": {},
     "output_type": "execute_result"
    }
   ],
   "source": [
    "len(new_texts)"
   ]
  },
  {
   "cell_type": "markdown",
   "id": "ca8076ff",
   "metadata": {},
   "source": [
    "# Syllable Count Per Word"
   ]
  },
  {
   "cell_type": "code",
   "execution_count": 36,
   "id": "bc568045",
   "metadata": {},
   "outputs": [
    {
     "name": "stdout",
     "output_type": "stream",
     "text": [
      "Enter a word to get syllable: better\n",
      "Number of syllable in a word : 2\n"
     ]
    }
   ],
   "source": [
    "word = input(\"Enter a word to get syllable: \")\n",
    "def count_syllables(word):\n",
    "    phonemes = cmud[word.lower()][0] \n",
    "    return len([s for s in phonemes if s[-1].isdigit()])\n",
    "\n",
    "print(\"Number of syllable in a word :\",count_syllables(word))"
   ]
  },
  {
   "cell_type": "markdown",
   "id": "1d3a18f6",
   "metadata": {},
   "source": [
    "# Personal Pronouns"
   ]
  },
  {
   "cell_type": "code",
   "execution_count": 37,
   "id": "0b8e0d2d",
   "metadata": {},
   "outputs": [
    {
     "name": "stdout",
     "output_type": "stream",
     "text": [
      "Personal pronoun frequency: {'it': 4, 'they': 8}\n",
      "total number of pronouns in a article : 12\n"
     ]
    }
   ],
   "source": [
    "import re\n",
    "\n",
    "# Define a regex pattern to match personal pronouns\n",
    "pattern = r'\\b(I|you|he|she|it|we|they|me|him|her|us|them)\\b'\n",
    "\n",
    "# Count the frequency of personal pronouns\n",
    "pronoun_freq = {}\n",
    "for pronoun in re.findall(pattern, texts, re.IGNORECASE):\n",
    "    pronoun = pronoun.lower()\n",
    "    if pronoun in pronoun_freq:\n",
    "        pronoun_freq[pronoun] += 1\n",
    "    else:\n",
    "        pronoun_freq[pronoun] = 1\n",
    "\n",
    "print(\"Personal pronoun frequency:\", pronoun_freq)\n",
    "def returnSum(dict):\n",
    " \n",
    "    sum = 0\n",
    "    for i in pronoun_freq.values():\n",
    "        sum = sum + i\n",
    " \n",
    "    return sum\n",
    "print(\"total number of pronouns in a article :\",returnSum(pronoun_freq))"
   ]
  },
  {
   "cell_type": "markdown",
   "id": "e3fc87f8",
   "metadata": {},
   "source": [
    "# Average Word Length"
   ]
  },
  {
   "cell_type": "code",
   "execution_count": 38,
   "id": "5bde37d9",
   "metadata": {},
   "outputs": [
    {
     "name": "stdout",
     "output_type": "stream",
     "text": [
      "Average word length: 4.81\n"
     ]
    }
   ],
   "source": [
    "# Calculate the total number of characters in all words\n",
    "total_chars = sum(len(word) for word in word_tokens)\n",
    "\n",
    "avg_word_length = total_chars / No_of_words\n",
    "\n",
    "print(\"Average word length:\", round(avg_word_length,2))\n"
   ]
  },
  {
   "cell_type": "code",
   "execution_count": null,
   "id": "63dc25ad",
   "metadata": {},
   "outputs": [],
   "source": []
  },
  {
   "cell_type": "code",
   "execution_count": null,
   "id": "819012c5",
   "metadata": {},
   "outputs": [],
   "source": []
  }
 ],
 "metadata": {
  "kernelspec": {
   "display_name": "Python 3",
   "language": "python",
   "name": "python3"
  },
  "language_info": {
   "codemirror_mode": {
    "name": "ipython",
    "version": 3
   },
   "file_extension": ".py",
   "mimetype": "text/x-python",
   "name": "python",
   "nbconvert_exporter": "python",
   "pygments_lexer": "ipython3",
   "version": "3.8.8"
  }
 },
 "nbformat": 4,
 "nbformat_minor": 5
}
