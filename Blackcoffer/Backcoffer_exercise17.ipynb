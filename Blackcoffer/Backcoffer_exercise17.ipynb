{
 "cells": [
  {
   "cell_type": "markdown",
   "id": "b9312f26",
   "metadata": {},
   "source": [
    "# Data scraping"
   ]
  },
  {
   "cell_type": "code",
   "execution_count": 1,
   "id": "ef4785ca",
   "metadata": {},
   "outputs": [],
   "source": [
    "import nltk\n",
    "import requests\n",
    "from bs4 import BeautifulSoup"
   ]
  },
  {
   "cell_type": "code",
   "execution_count": 2,
   "id": "ac2f2459",
   "metadata": {},
   "outputs": [],
   "source": [
    "req = requests.get(\"https://insights.blackcoffer.com/ai-healthcare-revolution-ml-technology-algorithm-google-analytics-industrialrevolution/\")"
   ]
  },
  {
   "cell_type": "code",
   "execution_count": 3,
   "id": "45f9fa09",
   "metadata": {},
   "outputs": [],
   "source": [
    "soup = BeautifulSoup(req.content, \"html.parser\")\n",
    "res = soup.title\n",
    "paras = soup.find_all('p')"
   ]
  },
  {
   "cell_type": "code",
   "execution_count": 4,
   "id": "dbb256b2",
   "metadata": {
    "scrolled": true
   },
   "outputs": [
    {
     "name": "stdout",
     "output_type": "stream",
     "text": [
      "AI experts believe it’s going to be one of the main drivers of the fourth Industrial Revolution and that it has the potential to not just transform the tech sectors and going to open a new chapter of the society of the world that people try to understand themselves better rather than the outside world with AI because people who are naysayer and kind of try to drum up these doomsday scenarios are pretty irresponsible. After all, In the next, five to ten years AI is going to deliver so many improvements and the quality of our lives it is a renaissance, a golden age of machine- learning and artificial intelligence that was the realm of science fiction for the last several decades. AI is probably the most important thing humanities that have ever worked which is more profound than any work with technology, as it is important to harness the benefits and while minimizing the downside is focusing on autonomous systems like self-driving cars seen as the mother of all AI projects and has made applications like self-driving technology viable for the first time, three things happen at the same time number one data collection and data processing became easier because of better technologies right um you need data to fuel AI training and that’s been one of the big drivers the second thing that has happened is that computer processing has become faster that’s like the engine so no matter how much fuel you have if you don’t have that engine and processing the data on a timeframe that’s reasonable was just not possible and the third thing that’s happened is that new algorithms have been developed which has made AI much more powerful so #technology has been changing and developing at a pace that’s much faster than ever before and we have not been used to this rapid pace of change which means that we have not been used to thinking about how it’s going to impact our immediate future. The most important factor responsible for the growth of AI is Google and its AI what Google’s done is given all of us the power to get the relevant information we want at our fingertips this has created a shift in how things are bought but it didn’t happen overnight this started in 2004 but the major change only happens to start 2012 onwards Google’s taken away about 65% of sales people’s jobs that were primarily order takers and the ones that are remaining are likely to be gone over the next decade. In present several AI projects are helping in diagnosing diseases better match up drugs with people depending on what they’re sick they can get treated better so it’s going to help a whole lot of people get treated and get better #healthcare than would have had access to it before if you look at self-driving cars they’re going to be safer than people driving cars and the value that machine learning is providing is actually happening beneath the surface and it is things like improved search results improved product recommendations for customers improve forecasting for inventory management and literally hundreds of other things including speech-recognition or image-recognition that the performance levels are phenomenal  or drug discovery as these biological systems are very complicated because vaccines for TB and HIV developing that’s notably enabled by this rich data advanced in biology and machine learning and recent invention in which is an application we just launched for anybody with visual impairment ass it uses the latest cutting-edge computer vision technology to give anyone the ability to see, so anyone who has dyslexia can now use AI to be able to read better and with the  latest release of Windows 10 has this capability called IJ’s which enable the eye muscle that the gaze can help to type. Like the two sides of the coin, there are negative impacts of AI as well  Bill Gates Ellen Musk also tech giants in a way their views are pessimistic, to say the least, they warned against the potential of AI to replace humans in the workplace and Ella masks even went as far as to claim that AI is the biggest existential threat to mankind. because of the loss of a job, when you think about a job or a career choice if a majority of the tasks that comprise that career choice is likely to be these vulnerable tasks then that is a career at risk in the future so what are the tasks that AI will find? hard to do anything unpredictable anything that requires skills like creative thinking or empathy or interpersonal skills but it’s important to understand tomorrow whether Google is there or not, artificial intelligence is going to progress you know technology has just nature it’s that it’s going to evolve as  technology and in particular AI can, in fact, bring more empowerment more inclusiveness and at the same time it is important to be clear-eyed about displacement and unintended consequences like any other technology and work both skills so that people can find the jobs of the future create new jobs also the policy decisions that help people as they go through this change people already unhappy because of machine learning artificial intelligence as they think  if they’re not innovative enough or not creative enough your job will be taking away by a lot of machines AI for business going to affect the future of work specifically there are jobs that are at more risk of being taken over by AI and automation there is very wide dissonance on this, there are different reports that have been shared by  Oxford study that says 47% of US jobs are at risk of automation over the next few years meanwhile the general population and workers think differently a recent study conducted by college actually identifies that 97% of workers believe that most jobs will be automated but not their own this suggests that the general public needs to be educated on which jobs are  susceptible to this risk which are not and businesses need to be aware of the forthcoming skills gap of course not all jobs are equal the Oxford study that highlights this they examined 700 participants and found the generalist occupations that require creative knowledge or innovation are at least risk the same is true for occupations in education healthcare media and arts jobs on the flip side jobs like telemarketers junior lawyers accountants are at most risk in short there is a simple rule of thumb if your job is in some way predictable or routine the risk of automation is much higher if a job doesn’t require innovation or creativity then the return on investment for companies is higher on machines than real-time employees machines are faster can’t be distracted and can work 24/7 this is actually good for creative marketers because AI and automation can serve to augment their jobs rather than substituting them as impact of emerging technologies on the creative economy they stated that artificial intelligence is changing  creative content from beginning to end by 2030 AI will be able to write high school essays code in Python composed top 40s chart songs and make creative videos but all of these advancements also come with risks and costs take a look at this report by the global Commission on the future of work in the absence of effective transition policies many people will have to accept lower skilled and lower paying jobs high-skilled workers are taking less cognitively demanding jobs displacing less educated workers and this is already happening also technological dividends are being unevenly distributed among firms a very limited amount of companies tend to dominate when it comes to big data just think about Google and Facebook today they alone are responsible for 70% of the referral marketing traffic and  receive more than 50% of total global advertising budget so the question is in businesses workers and social institutions go into the same direction if companies and public policy leaders can understand the evolving landscape they can help the workforce anticipate the upcoming challenges technology and the demographic changes are leading to a smaller workforce compared to the previous generation and a workforce that has to pursue many careers during their time of work we need to provide workers with an environment where they can continuously upskill and grow governments will have to re-evaluate the educational system we will have to continuously learn and grow and companies will have to redesign their structure and their culture around technology just like during the Industrial Revolution we are heading into a new age and the great transformation that we’re about to see by 2022 it is estimated that 20 to 25 percent of the labor force will be displaced within 10 to 20 years however this is also an opportunity for people to get ahead for which different ways have to be find to attract and retain highly skilled workers and allow them the time to up skill themselves even during work hours and it is a  good way  to develop a learning community to benefit from each other and also to use technology to supplement goal tracking and  efforts instead of as a distraction in short what we are doing is  to bridge the dissonance and it is imperative to build a  map of how AI and automation will affect  industry and  company if this is an economic imperative how do people feel about committing itself to a lifelong approach to knowledge as  these risks are important but it is important to do things like from being upfront to have ethical charters like AI safety and to be very transparent and open and how we perceive progress there and figure out global frameworks by which we can engage just like Paris agreement and climate change by using  such forums bring people together as they engage on the hard questions and it will emerge answers and on the question of whether AI is a threat or not, artificial intelligence is not  a threat because there is a rare case where people need to be proactive in regulation instead of reactive because I think by the time we are reactive in AI regulation it’s too late right now we have machine learning algorithms that can solve an incredibly complex problem beyond any human intelligence  as they are mere machines that can be given enormous data set and they come up with brilliant correlations and insights but they’re not going threaten the human population anytime soon because fish intelligent isn’t terrible but human being a smart enough to learn that skills at least to have a complete toolbox to be prepared volatility of the future adaptability. \n"
     ]
    }
   ],
   "source": [
    "texts = \" \".join([paragraph.text.strip() for paragraph in paras])\n",
    "print(texts)"
   ]
  },
  {
   "cell_type": "code",
   "execution_count": 5,
   "id": "e79f5f60",
   "metadata": {},
   "outputs": [
    {
     "data": {
      "text/plain": [
       "10462"
      ]
     },
     "execution_count": 5,
     "metadata": {},
     "output_type": "execute_result"
    }
   ],
   "source": [
    "len(texts)"
   ]
  },
  {
   "cell_type": "markdown",
   "id": "db8f1fcc",
   "metadata": {},
   "source": [
    "Removing Punctuation"
   ]
  },
  {
   "cell_type": "code",
   "execution_count": 6,
   "id": "5285c8a8",
   "metadata": {},
   "outputs": [
    {
     "data": {
      "text/plain": [
       "10462"
      ]
     },
     "execution_count": 6,
     "metadata": {},
     "output_type": "execute_result"
    }
   ],
   "source": [
    "import re\n",
    "import string\n",
    "texts = re.sub(r'[\\'\\“\\”\\()\\%\\,\\-\\'\\’\\?\\ ]', ' ', texts)\n",
    "texts[0:200]\n",
    "len(texts)"
   ]
  },
  {
   "cell_type": "markdown",
   "id": "4fafe7be",
   "metadata": {},
   "source": [
    "# Removing Stopwords"
   ]
  },
  {
   "cell_type": "code",
   "execution_count": 7,
   "id": "089b8663",
   "metadata": {},
   "outputs": [],
   "source": [
    "from nltk.tokenize import word_tokenize"
   ]
  },
  {
   "cell_type": "code",
   "execution_count": 8,
   "id": "280876b0",
   "metadata": {},
   "outputs": [
    {
     "data": {
      "text/plain": [
       "['AI',\n",
       " 'experts',\n",
       " 'believe',\n",
       " 'it',\n",
       " 's',\n",
       " 'going',\n",
       " 'to',\n",
       " 'be',\n",
       " 'one',\n",
       " 'of',\n",
       " 'the',\n",
       " 'main',\n",
       " 'drivers',\n",
       " 'of',\n",
       " 'the',\n",
       " 'fourth',\n",
       " 'Industrial',\n",
       " 'Revolution',\n",
       " 'and',\n",
       " 'that',\n",
       " 'it',\n",
       " 'has',\n",
       " 'the',\n",
       " 'potential',\n",
       " 'to',\n",
       " 'not',\n",
       " 'just',\n",
       " 'transform',\n",
       " 'the',\n",
       " 'tech',\n",
       " 'sectors',\n",
       " 'and',\n",
       " 'going',\n",
       " 'to',\n",
       " 'open',\n",
       " 'a',\n",
       " 'new',\n",
       " 'chapter',\n",
       " 'of',\n",
       " 'the',\n",
       " 'society',\n",
       " 'of',\n",
       " 'the',\n",
       " 'world',\n",
       " 'that',\n",
       " 'people',\n",
       " 'try',\n",
       " 'to',\n",
       " 'understand',\n",
       " 'themselves',\n",
       " 'better',\n",
       " 'rather',\n",
       " 'than',\n",
       " 'the',\n",
       " 'outside',\n",
       " 'world',\n",
       " 'with',\n",
       " 'AI',\n",
       " 'because',\n",
       " 'people',\n",
       " 'who',\n",
       " 'are',\n",
       " 'naysayer',\n",
       " 'and',\n",
       " 'kind',\n",
       " 'of',\n",
       " 'try',\n",
       " 'to',\n",
       " 'drum',\n",
       " 'up',\n",
       " 'these',\n",
       " 'doomsday',\n",
       " 'scenarios',\n",
       " 'are',\n",
       " 'pretty',\n",
       " 'irresponsible',\n",
       " '.',\n",
       " 'After',\n",
       " 'all',\n",
       " 'In',\n",
       " 'the',\n",
       " 'next',\n",
       " 'five',\n",
       " 'to',\n",
       " 'ten',\n",
       " 'years',\n",
       " 'AI',\n",
       " 'is',\n",
       " 'going',\n",
       " 'to',\n",
       " 'deliver',\n",
       " 'so',\n",
       " 'many',\n",
       " 'improvements',\n",
       " 'and',\n",
       " 'the',\n",
       " 'quality',\n",
       " 'of',\n",
       " 'our',\n",
       " 'lives',\n",
       " 'it',\n",
       " 'is',\n",
       " 'a',\n",
       " 'renaissance',\n",
       " 'a',\n",
       " 'golden',\n",
       " 'age',\n",
       " 'of',\n",
       " 'machine',\n",
       " 'learning',\n",
       " 'and',\n",
       " 'artificial',\n",
       " 'intelligence',\n",
       " 'that',\n",
       " 'was',\n",
       " 'the',\n",
       " 'realm',\n",
       " 'of',\n",
       " 'science',\n",
       " 'fiction',\n",
       " 'for',\n",
       " 'the',\n",
       " 'last',\n",
       " 'several',\n",
       " 'decades',\n",
       " '.',\n",
       " 'AI',\n",
       " 'is',\n",
       " 'probably',\n",
       " 'the',\n",
       " 'most',\n",
       " 'important',\n",
       " 'thing',\n",
       " 'humanities',\n",
       " 'that',\n",
       " 'have',\n",
       " 'ever',\n",
       " 'worked',\n",
       " 'which',\n",
       " 'is',\n",
       " 'more',\n",
       " 'profound',\n",
       " 'than',\n",
       " 'any',\n",
       " 'work',\n",
       " 'with',\n",
       " 'technology',\n",
       " 'as',\n",
       " 'it',\n",
       " 'is',\n",
       " 'important',\n",
       " 'to',\n",
       " 'harness',\n",
       " 'the',\n",
       " 'benefits',\n",
       " 'and',\n",
       " 'while',\n",
       " 'minimizing',\n",
       " 'the',\n",
       " 'downside',\n",
       " 'is',\n",
       " 'focusing',\n",
       " 'on',\n",
       " 'autonomous',\n",
       " 'systems',\n",
       " 'like',\n",
       " 'self',\n",
       " 'driving',\n",
       " 'cars',\n",
       " 'seen',\n",
       " 'as',\n",
       " 'the',\n",
       " 'mother',\n",
       " 'of',\n",
       " 'all',\n",
       " 'AI',\n",
       " 'projects',\n",
       " 'and',\n",
       " 'has',\n",
       " 'made',\n",
       " 'applications',\n",
       " 'like',\n",
       " 'self',\n",
       " 'driving',\n",
       " 'technology',\n",
       " 'viable',\n",
       " 'for',\n",
       " 'the',\n",
       " 'first',\n",
       " 'time',\n",
       " 'three',\n",
       " 'things',\n",
       " 'happen',\n",
       " 'at',\n",
       " 'the',\n",
       " 'same',\n",
       " 'time',\n",
       " 'number',\n",
       " 'one',\n",
       " 'data',\n",
       " 'collection',\n",
       " 'and',\n",
       " 'data',\n",
       " 'processing',\n",
       " 'became',\n",
       " 'easier',\n",
       " 'because',\n",
       " 'of',\n",
       " 'better',\n",
       " 'technologies',\n",
       " 'right',\n",
       " 'um',\n",
       " 'you',\n",
       " 'need',\n",
       " 'data',\n",
       " 'to',\n",
       " 'fuel',\n",
       " 'AI',\n",
       " 'training',\n",
       " 'and',\n",
       " 'that',\n",
       " 's',\n",
       " 'been',\n",
       " 'one',\n",
       " 'of',\n",
       " 'the',\n",
       " 'big',\n",
       " 'drivers',\n",
       " 'the',\n",
       " 'second',\n",
       " 'thing',\n",
       " 'that',\n",
       " 'has',\n",
       " 'happened',\n",
       " 'is',\n",
       " 'that',\n",
       " 'computer',\n",
       " 'processing',\n",
       " 'has',\n",
       " 'become',\n",
       " 'faster',\n",
       " 'that',\n",
       " 's',\n",
       " 'like',\n",
       " 'the',\n",
       " 'engine',\n",
       " 'so',\n",
       " 'no',\n",
       " 'matter',\n",
       " 'how',\n",
       " 'much',\n",
       " 'fuel',\n",
       " 'you',\n",
       " 'have',\n",
       " 'if',\n",
       " 'you',\n",
       " 'don',\n",
       " 't',\n",
       " 'have',\n",
       " 'that',\n",
       " 'engine',\n",
       " 'and',\n",
       " 'processing',\n",
       " 'the',\n",
       " 'data',\n",
       " 'on',\n",
       " 'a',\n",
       " 'timeframe',\n",
       " 'that',\n",
       " 's',\n",
       " 'reasonable',\n",
       " 'was',\n",
       " 'just',\n",
       " 'not',\n",
       " 'possible',\n",
       " 'and',\n",
       " 'the',\n",
       " 'third',\n",
       " 'thing',\n",
       " 'that',\n",
       " 's',\n",
       " 'happened',\n",
       " 'is',\n",
       " 'that',\n",
       " 'new',\n",
       " 'algorithms',\n",
       " 'have',\n",
       " 'been',\n",
       " 'developed',\n",
       " 'which',\n",
       " 'has',\n",
       " 'made',\n",
       " 'AI',\n",
       " 'much',\n",
       " 'more',\n",
       " 'powerful',\n",
       " 'so',\n",
       " '#',\n",
       " 'technology',\n",
       " 'has',\n",
       " 'been',\n",
       " 'changing',\n",
       " 'and',\n",
       " 'developing',\n",
       " 'at',\n",
       " 'a',\n",
       " 'pace',\n",
       " 'that',\n",
       " 's',\n",
       " 'much',\n",
       " 'faster',\n",
       " 'than',\n",
       " 'ever',\n",
       " 'before',\n",
       " 'and',\n",
       " 'we',\n",
       " 'have',\n",
       " 'not',\n",
       " 'been',\n",
       " 'used',\n",
       " 'to',\n",
       " 'this',\n",
       " 'rapid',\n",
       " 'pace',\n",
       " 'of',\n",
       " 'change',\n",
       " 'which',\n",
       " 'means',\n",
       " 'that',\n",
       " 'we',\n",
       " 'have',\n",
       " 'not',\n",
       " 'been',\n",
       " 'used',\n",
       " 'to',\n",
       " 'thinking',\n",
       " 'about',\n",
       " 'how',\n",
       " 'it',\n",
       " 's',\n",
       " 'going',\n",
       " 'to',\n",
       " 'impact',\n",
       " 'our',\n",
       " 'immediate',\n",
       " 'future',\n",
       " '.',\n",
       " 'The',\n",
       " 'most',\n",
       " 'important',\n",
       " 'factor',\n",
       " 'responsible',\n",
       " 'for',\n",
       " 'the',\n",
       " 'growth',\n",
       " 'of',\n",
       " 'AI',\n",
       " 'is',\n",
       " 'Google',\n",
       " 'and',\n",
       " 'its',\n",
       " 'AI',\n",
       " 'what',\n",
       " 'Google',\n",
       " 's',\n",
       " 'done',\n",
       " 'is',\n",
       " 'given',\n",
       " 'all',\n",
       " 'of',\n",
       " 'us',\n",
       " 'the',\n",
       " 'power',\n",
       " 'to',\n",
       " 'get',\n",
       " 'the',\n",
       " 'relevant',\n",
       " 'information',\n",
       " 'we',\n",
       " 'want',\n",
       " 'at',\n",
       " 'our',\n",
       " 'fingertips',\n",
       " 'this',\n",
       " 'has',\n",
       " 'created',\n",
       " 'a',\n",
       " 'shift',\n",
       " 'in',\n",
       " 'how',\n",
       " 'things',\n",
       " 'are',\n",
       " 'bought',\n",
       " 'but',\n",
       " 'it',\n",
       " 'didn',\n",
       " 't',\n",
       " 'happen',\n",
       " 'overnight',\n",
       " 'this',\n",
       " 'started',\n",
       " 'in',\n",
       " '2004',\n",
       " 'but',\n",
       " 'the',\n",
       " 'major',\n",
       " 'change',\n",
       " 'only',\n",
       " 'happens',\n",
       " 'to',\n",
       " 'start',\n",
       " '2012',\n",
       " 'onwards',\n",
       " 'Google',\n",
       " 's',\n",
       " 'taken',\n",
       " 'away',\n",
       " 'about',\n",
       " '65',\n",
       " 'of',\n",
       " 'sales',\n",
       " 'people',\n",
       " 's',\n",
       " 'jobs',\n",
       " 'that',\n",
       " 'were',\n",
       " 'primarily',\n",
       " 'order',\n",
       " 'takers',\n",
       " 'and',\n",
       " 'the',\n",
       " 'ones',\n",
       " 'that',\n",
       " 'are',\n",
       " 'remaining',\n",
       " 'are',\n",
       " 'likely',\n",
       " 'to',\n",
       " 'be',\n",
       " 'gone',\n",
       " 'over',\n",
       " 'the',\n",
       " 'next',\n",
       " 'decade',\n",
       " '.',\n",
       " 'In',\n",
       " 'present',\n",
       " 'several',\n",
       " 'AI',\n",
       " 'projects',\n",
       " 'are',\n",
       " 'helping',\n",
       " 'in',\n",
       " 'diagnosing',\n",
       " 'diseases',\n",
       " 'better',\n",
       " 'match',\n",
       " 'up',\n",
       " 'drugs',\n",
       " 'with',\n",
       " 'people',\n",
       " 'depending',\n",
       " 'on',\n",
       " 'what',\n",
       " 'they',\n",
       " 're',\n",
       " 'sick',\n",
       " 'they',\n",
       " 'can',\n",
       " 'get',\n",
       " 'treated',\n",
       " 'better',\n",
       " 'so',\n",
       " 'it',\n",
       " 's',\n",
       " 'going',\n",
       " 'to',\n",
       " 'help',\n",
       " 'a',\n",
       " 'whole',\n",
       " 'lot',\n",
       " 'of',\n",
       " 'people',\n",
       " 'get',\n",
       " 'treated',\n",
       " 'and',\n",
       " 'get',\n",
       " 'better',\n",
       " '#',\n",
       " 'healthcare',\n",
       " 'than',\n",
       " 'would',\n",
       " 'have',\n",
       " 'had',\n",
       " 'access',\n",
       " 'to',\n",
       " 'it',\n",
       " 'before',\n",
       " 'if',\n",
       " 'you',\n",
       " 'look',\n",
       " 'at',\n",
       " 'self',\n",
       " 'driving',\n",
       " 'cars',\n",
       " 'they',\n",
       " 're',\n",
       " 'going',\n",
       " 'to',\n",
       " 'be',\n",
       " 'safer',\n",
       " 'than',\n",
       " 'people',\n",
       " 'driving',\n",
       " 'cars',\n",
       " 'and',\n",
       " 'the',\n",
       " 'value',\n",
       " 'that',\n",
       " 'machine',\n",
       " 'learning',\n",
       " 'is',\n",
       " 'providing',\n",
       " 'is',\n",
       " 'actually',\n",
       " 'happening',\n",
       " 'beneath',\n",
       " 'the',\n",
       " 'surface',\n",
       " 'and',\n",
       " 'it',\n",
       " 'is',\n",
       " 'things',\n",
       " 'like',\n",
       " 'improved',\n",
       " 'search',\n",
       " 'results',\n",
       " 'improved',\n",
       " 'product',\n",
       " 'recommendations',\n",
       " 'for',\n",
       " 'customers',\n",
       " 'improve',\n",
       " 'forecasting',\n",
       " 'for',\n",
       " 'inventory',\n",
       " 'management',\n",
       " 'and',\n",
       " 'literally',\n",
       " 'hundreds',\n",
       " 'of',\n",
       " 'other',\n",
       " 'things',\n",
       " 'including',\n",
       " 'speech',\n",
       " 'recognition',\n",
       " 'or',\n",
       " 'image',\n",
       " 'recognition',\n",
       " 'that',\n",
       " 'the',\n",
       " 'performance',\n",
       " 'levels',\n",
       " 'are',\n",
       " 'phenomenal',\n",
       " 'or',\n",
       " 'drug',\n",
       " 'discovery',\n",
       " 'as',\n",
       " 'these',\n",
       " 'biological',\n",
       " 'systems',\n",
       " 'are',\n",
       " 'very',\n",
       " 'complicated',\n",
       " 'because',\n",
       " 'vaccines',\n",
       " 'for',\n",
       " 'TB',\n",
       " 'and',\n",
       " 'HIV',\n",
       " 'developing',\n",
       " 'that',\n",
       " 's',\n",
       " 'notably',\n",
       " 'enabled',\n",
       " 'by',\n",
       " 'this',\n",
       " 'rich',\n",
       " 'data',\n",
       " 'advanced',\n",
       " 'in',\n",
       " 'biology',\n",
       " 'and',\n",
       " 'machine',\n",
       " 'learning',\n",
       " 'and',\n",
       " 'recent',\n",
       " 'invention',\n",
       " 'in',\n",
       " 'which',\n",
       " 'is',\n",
       " 'an',\n",
       " 'application',\n",
       " 'we',\n",
       " 'just',\n",
       " 'launched',\n",
       " 'for',\n",
       " 'anybody',\n",
       " 'with',\n",
       " 'visual',\n",
       " 'impairment',\n",
       " 'ass',\n",
       " 'it',\n",
       " 'uses',\n",
       " 'the',\n",
       " 'latest',\n",
       " 'cutting',\n",
       " 'edge',\n",
       " 'computer',\n",
       " 'vision',\n",
       " 'technology',\n",
       " 'to',\n",
       " 'give',\n",
       " 'anyone',\n",
       " 'the',\n",
       " 'ability',\n",
       " 'to',\n",
       " 'see',\n",
       " 'so',\n",
       " 'anyone',\n",
       " 'who',\n",
       " 'has',\n",
       " 'dyslexia',\n",
       " 'can',\n",
       " 'now',\n",
       " 'use',\n",
       " 'AI',\n",
       " 'to',\n",
       " 'be',\n",
       " 'able',\n",
       " 'to',\n",
       " 'read',\n",
       " 'better',\n",
       " 'and',\n",
       " 'with',\n",
       " 'the',\n",
       " 'latest',\n",
       " 'release',\n",
       " 'of',\n",
       " 'Windows',\n",
       " '10',\n",
       " 'has',\n",
       " 'this',\n",
       " 'capability',\n",
       " 'called',\n",
       " 'IJ',\n",
       " 's',\n",
       " 'which',\n",
       " 'enable',\n",
       " 'the',\n",
       " 'eye',\n",
       " 'muscle',\n",
       " 'that',\n",
       " 'the',\n",
       " 'gaze',\n",
       " 'can',\n",
       " 'help',\n",
       " 'to',\n",
       " 'type',\n",
       " '.',\n",
       " 'Like',\n",
       " 'the',\n",
       " 'two',\n",
       " 'sides',\n",
       " 'of',\n",
       " 'the',\n",
       " 'coin',\n",
       " 'there',\n",
       " 'are',\n",
       " 'negative',\n",
       " 'impacts',\n",
       " 'of',\n",
       " 'AI',\n",
       " 'as',\n",
       " 'well',\n",
       " 'Bill',\n",
       " 'Gates',\n",
       " 'Ellen',\n",
       " 'Musk',\n",
       " 'also',\n",
       " 'tech',\n",
       " 'giants',\n",
       " 'in',\n",
       " 'a',\n",
       " 'way',\n",
       " 'their',\n",
       " 'views',\n",
       " 'are',\n",
       " 'pessimistic',\n",
       " 'to',\n",
       " 'say',\n",
       " 'the',\n",
       " 'least',\n",
       " 'they',\n",
       " 'warned',\n",
       " 'against',\n",
       " 'the',\n",
       " 'potential',\n",
       " 'of',\n",
       " 'AI',\n",
       " 'to',\n",
       " 'replace',\n",
       " 'humans',\n",
       " 'in',\n",
       " 'the',\n",
       " 'workplace',\n",
       " 'and',\n",
       " 'Ella',\n",
       " 'masks',\n",
       " 'even',\n",
       " 'went',\n",
       " 'as',\n",
       " 'far',\n",
       " 'as',\n",
       " 'to',\n",
       " 'claim',\n",
       " 'that',\n",
       " 'AI',\n",
       " 'is',\n",
       " 'the',\n",
       " 'biggest',\n",
       " 'existential',\n",
       " 'threat',\n",
       " 'to',\n",
       " 'mankind',\n",
       " '.',\n",
       " 'because',\n",
       " 'of',\n",
       " 'the',\n",
       " 'loss',\n",
       " 'of',\n",
       " 'a',\n",
       " 'job',\n",
       " 'when',\n",
       " 'you',\n",
       " 'think',\n",
       " 'about',\n",
       " 'a',\n",
       " 'job',\n",
       " 'or',\n",
       " 'a',\n",
       " 'career',\n",
       " 'choice',\n",
       " 'if',\n",
       " 'a',\n",
       " 'majority',\n",
       " 'of',\n",
       " 'the',\n",
       " 'tasks',\n",
       " 'that',\n",
       " 'comprise',\n",
       " 'that',\n",
       " 'career',\n",
       " 'choice',\n",
       " 'is',\n",
       " 'likely',\n",
       " 'to',\n",
       " 'be',\n",
       " 'these',\n",
       " 'vulnerable',\n",
       " 'tasks',\n",
       " 'then',\n",
       " 'that',\n",
       " 'is',\n",
       " 'a',\n",
       " 'career',\n",
       " 'at',\n",
       " 'risk',\n",
       " 'in',\n",
       " 'the',\n",
       " 'future',\n",
       " 'so',\n",
       " 'what',\n",
       " 'are',\n",
       " 'the',\n",
       " 'tasks',\n",
       " 'that',\n",
       " 'AI',\n",
       " 'will',\n",
       " 'find',\n",
       " 'hard',\n",
       " 'to',\n",
       " 'do',\n",
       " 'anything',\n",
       " 'unpredictable',\n",
       " 'anything',\n",
       " 'that',\n",
       " 'requires',\n",
       " 'skills',\n",
       " 'like',\n",
       " 'creative',\n",
       " 'thinking',\n",
       " 'or',\n",
       " 'empathy',\n",
       " 'or',\n",
       " 'interpersonal',\n",
       " 'skills',\n",
       " 'but',\n",
       " 'it',\n",
       " 's',\n",
       " 'important',\n",
       " 'to',\n",
       " 'understand',\n",
       " 'tomorrow',\n",
       " 'whether',\n",
       " 'Google',\n",
       " 'is',\n",
       " 'there',\n",
       " 'or',\n",
       " 'not',\n",
       " 'artificial',\n",
       " 'intelligence',\n",
       " 'is',\n",
       " 'going',\n",
       " 'to',\n",
       " 'progress',\n",
       " 'you',\n",
       " 'know',\n",
       " 'technology',\n",
       " 'has',\n",
       " 'just',\n",
       " 'nature',\n",
       " 'it',\n",
       " 's',\n",
       " 'that',\n",
       " 'it',\n",
       " 's',\n",
       " 'going',\n",
       " 'to',\n",
       " 'evolve',\n",
       " 'as',\n",
       " 'technology',\n",
       " 'and',\n",
       " 'in',\n",
       " 'particular',\n",
       " 'AI',\n",
       " 'can',\n",
       " 'in',\n",
       " 'fact',\n",
       " 'bring',\n",
       " 'more',\n",
       " 'empowerment',\n",
       " 'more',\n",
       " 'inclusiveness',\n",
       " 'and',\n",
       " 'at',\n",
       " 'the',\n",
       " 'same',\n",
       " 'time',\n",
       " 'it',\n",
       " 'is',\n",
       " 'important',\n",
       " 'to',\n",
       " 'be',\n",
       " 'clear',\n",
       " 'eyed',\n",
       " 'about',\n",
       " 'displacement',\n",
       " 'and',\n",
       " 'unintended',\n",
       " 'consequences',\n",
       " 'like',\n",
       " 'any',\n",
       " 'other',\n",
       " 'technology',\n",
       " 'and',\n",
       " 'work',\n",
       " 'both',\n",
       " 'skills',\n",
       " 'so',\n",
       " 'that',\n",
       " 'people',\n",
       " 'can',\n",
       " 'find',\n",
       " 'the',\n",
       " 'jobs',\n",
       " 'of',\n",
       " 'the',\n",
       " 'future',\n",
       " 'create',\n",
       " 'new',\n",
       " 'jobs',\n",
       " 'also',\n",
       " 'the',\n",
       " 'policy',\n",
       " 'decisions',\n",
       " 'that',\n",
       " 'help',\n",
       " 'people',\n",
       " 'as',\n",
       " 'they',\n",
       " 'go',\n",
       " 'through',\n",
       " 'this',\n",
       " 'change',\n",
       " 'people',\n",
       " 'already',\n",
       " 'unhappy',\n",
       " 'because',\n",
       " 'of',\n",
       " 'machine',\n",
       " 'learning',\n",
       " 'artificial',\n",
       " 'intelligence',\n",
       " 'as',\n",
       " 'they',\n",
       " 'think',\n",
       " 'if',\n",
       " 'they',\n",
       " 're',\n",
       " 'not',\n",
       " 'innovative',\n",
       " 'enough',\n",
       " 'or',\n",
       " 'not',\n",
       " 'creative',\n",
       " 'enough',\n",
       " 'your',\n",
       " 'job',\n",
       " 'will',\n",
       " 'be',\n",
       " 'taking',\n",
       " 'away',\n",
       " 'by',\n",
       " 'a',\n",
       " 'lot',\n",
       " 'of',\n",
       " 'machines',\n",
       " 'AI',\n",
       " 'for',\n",
       " 'business',\n",
       " 'going',\n",
       " 'to',\n",
       " 'affect',\n",
       " 'the',\n",
       " 'future',\n",
       " 'of',\n",
       " 'work',\n",
       " 'specifically',\n",
       " 'there',\n",
       " 'are',\n",
       " 'jobs',\n",
       " 'that',\n",
       " 'are',\n",
       " 'at',\n",
       " 'more',\n",
       " 'risk',\n",
       " 'of',\n",
       " 'being',\n",
       " 'taken',\n",
       " 'over',\n",
       " 'by',\n",
       " 'AI',\n",
       " 'and',\n",
       " 'automation',\n",
       " 'there',\n",
       " 'is',\n",
       " 'very',\n",
       " 'wide',\n",
       " 'dissonance',\n",
       " 'on',\n",
       " 'this',\n",
       " 'there',\n",
       " 'are',\n",
       " 'different',\n",
       " 'reports',\n",
       " 'that',\n",
       " 'have',\n",
       " 'been',\n",
       " 'shared',\n",
       " 'by',\n",
       " 'Oxford',\n",
       " 'study',\n",
       " 'that',\n",
       " 'says',\n",
       " '47',\n",
       " 'of',\n",
       " 'US',\n",
       " 'jobs',\n",
       " 'are',\n",
       " 'at',\n",
       " 'risk',\n",
       " 'of',\n",
       " 'automation',\n",
       " 'over',\n",
       " 'the',\n",
       " 'next',\n",
       " 'few',\n",
       " 'years',\n",
       " ...]"
      ]
     },
     "execution_count": 8,
     "metadata": {},
     "output_type": "execute_result"
    }
   ],
   "source": [
    "token = word_tokenize(texts)\n",
    "token"
   ]
  },
  {
   "cell_type": "code",
   "execution_count": 9,
   "id": "10016a09",
   "metadata": {},
   "outputs": [],
   "source": [
    "with open(\"D:\\lab\\Dataset\\Stopwords_Blackcoffer.txt\", 'r') as file:\n",
    "    data = file.read()"
   ]
  },
  {
   "cell_type": "code",
   "execution_count": 10,
   "id": "c567cbef",
   "metadata": {},
   "outputs": [
    {
     "data": {
      "text/plain": [
       "'ERNST\\nYOUNG\\nDELOITTE\\nTOUCHE\\nKPMG\\nPRICEWATERHOUSECOOPERS\\nPRICEWATERHOUSE\\nCOOPERS\\nAFGHANI\\nARIARY\\nBAHT\\n'"
      ]
     },
     "execution_count": 10,
     "metadata": {},
     "output_type": "execute_result"
    }
   ],
   "source": [
    "data[:100]"
   ]
  },
  {
   "cell_type": "code",
   "execution_count": 11,
   "id": "d65bfa92",
   "metadata": {},
   "outputs": [
    {
     "data": {
      "text/plain": [
       "'ERNST,YOUNG,DELOITTE,TOUCHE,KPMG,PRICEWATERHOUSECOOPERS,PRICEWATERHOUSE,COOPERS,AFGHANI,ARIARY,BAHT,'"
      ]
     },
     "execution_count": 11,
     "metadata": {},
     "output_type": "execute_result"
    }
   ],
   "source": [
    "data = data.replace('\\n', ',')\n",
    "data[:100]"
   ]
  },
  {
   "cell_type": "code",
   "execution_count": 12,
   "id": "0ef23874",
   "metadata": {},
   "outputs": [
    {
     "data": {
      "text/plain": [
       "'experts drivers fourth Industrial Revolution potential transform tech sectors open chapter society world people understand world people naysayer kind drum doomsday scenarios pretty irresponsible . Aft'"
      ]
     },
     "execution_count": 12,
     "metadata": {},
     "output_type": "execute_result"
    }
   ],
   "source": [
    "new_texts = \" \".join([i for i in token if i not in data])\n",
    "new_texts[:200]"
   ]
  },
  {
   "cell_type": "code",
   "execution_count": 13,
   "id": "ea392da4",
   "metadata": {},
   "outputs": [
    {
     "name": "stdout",
     "output_type": "stream",
     "text": [
      "length before cleaning:  10462\n",
      "length after cleaning:  5584\n"
     ]
    }
   ],
   "source": [
    "print(\"length before cleaning: \", len(texts))\n",
    "print(\"length after cleaning: \", len(new_texts))"
   ]
  },
  {
   "cell_type": "markdown",
   "id": "1f456147",
   "metadata": {},
   "source": [
    "# Negative words"
   ]
  },
  {
   "cell_type": "code",
   "execution_count": 14,
   "id": "dc3618a7",
   "metadata": {},
   "outputs": [],
   "source": [
    "with open(\"D:\\\\lab\\\\Dataset\\\\Negative_words.txt\", 'r') as file:\n",
    "    negative = file.read()"
   ]
  },
  {
   "cell_type": "code",
   "execution_count": 15,
   "id": "2123c4cb",
   "metadata": {},
   "outputs": [
    {
     "data": {
      "text/plain": [
       "'2-faced\\n2-faces\\nabnormal\\nabolish\\nabominable\\nabominably\\nabominate\\nabomination\\nabort\\naborted\\naborts\\nabrade\\nabrasive\\nabrupt\\nabruptly\\nabscond\\nabsence\\nabsent-minded\\nabsentee\\nabsurd\\nabsurdity\\nabsurdly\\nabsurdness\\n'"
      ]
     },
     "execution_count": 15,
     "metadata": {},
     "output_type": "execute_result"
    }
   ],
   "source": [
    "negative[:206]"
   ]
  },
  {
   "cell_type": "code",
   "execution_count": 16,
   "id": "28f44c97",
   "metadata": {},
   "outputs": [
    {
     "data": {
      "text/plain": [
       "'2-faced,2-faces,abnormal,abolish,abominable,abominably,abominate,abomination,abort,aborted,aborts,abrade,abrasive,abrupt,abruptly,abscond,absence,absent-minded,absentee,absurd,absurdity,absurdly,absurdness,'"
      ]
     },
     "execution_count": 16,
     "metadata": {},
     "output_type": "execute_result"
    }
   ],
   "source": [
    "negative = negative.replace('\\n', ',')\n",
    "negative[:206]"
   ]
  },
  {
   "cell_type": "code",
   "execution_count": 17,
   "id": "31a272c0",
   "metadata": {},
   "outputs": [
    {
     "name": "stdout",
     "output_type": "stream",
     "text": [
      "['understand', 'kind', 'drum', 'doomsday', 'irresponsible', 'quality', 'age', 'fiction', 'important', 'work', 'important', 'downside', 'cars', 'mother', 'training', 'big', 'reasonable', 'developed', 'important', 'factor', 'responsible', 'power', 'relevant', 'start', 'order', 'decade', 'present', 'sick', 'treated', 'lot', 'treated', 'access', 'cars', 'cars', 'product', 'complicated', 'rich', 'cutting', 'edge', 'ability', 'enable', 'eye', 'muscle', 'type', 'negative', 'pessimistic', 'warned', 'claim', 'threat', 'loss', 'job', 'job', 'vulnerable', 'risk', 'unpredictable', 'creative', 'important', 'understand', 'nature', 'fact', 'important', 'work', 'unhappy', 'creative', 'job', 'lot', 'affect', 'work', 'risk', 'dissonance', 'risk', 'susceptible', 'risk', 'gap', 'equal', 'found', 'creative', 'risk', 'true', 'risk', 'short', 'rule', 'thumb', 'job', 'predictable', 'risk', 'job', 'work', 'creative', 'serve', 'creative', 'stated', 'creative', 'content', 'high', 'top', 'make', 'creative', 'risks', 'work', 'absence', 'effective', 'accept', 'lower', 'skilled', 'lower', 'high', 'skilled', 'limited', 'big', 'responsible', 'total', 'question', 'social', 'direction', 'understand', 'leading', 'generation', 'work', 'grow', 'grow', 'age', 'labor', 'force', 'displaced', 'attract', 'skilled', 'skill', 'work', 'develop', 'distraction', 'short', 'dissonance', 'affect', 'economic', 'feel', 'risks', 'important', 'important', 'ethical', 'figure', 'agreement', 'emerge', 'question', 'threat', 'threat', 'solve', 'complex', 'problem', 'human', 'set', 'threaten', 'human', 'fish', 'terrible', 'human', 'complete', 'prepared', 'volatility']\n"
     ]
    },
    {
     "data": {
      "text/plain": [
       "159"
      ]
     },
     "execution_count": 17,
     "metadata": {},
     "output_type": "execute_result"
    }
   ],
   "source": [
    "new_texts = word_tokenize(new_texts)\n",
    "negative_words = [i for i in new_texts if i in negative]\n",
    "print(negative_words)\n",
    "len(negative_words)"
   ]
  },
  {
   "cell_type": "markdown",
   "id": "0b24f011",
   "metadata": {},
   "source": [
    "# Positive words"
   ]
  },
  {
   "cell_type": "code",
   "execution_count": 18,
   "id": "4b003620",
   "metadata": {},
   "outputs": [
    {
     "data": {
      "text/plain": [
       "'a+\\nabound\\nabounds\\nabundance\\nabundant\\naccessable\\naccessible\\nacclaim\\nacclaimed\\nacclamation\\naccolade\\naccolades\\naccommodative\\naccomodative\\naccomplish\\naccomplished\\naccomplishment\\naccomplishments\\naccurate\\naccurately\\n'"
      ]
     },
     "execution_count": 18,
     "metadata": {},
     "output_type": "execute_result"
    }
   ],
   "source": [
    "with open(\"D:\\\\lab\\\\Dataset\\\\Positive_words.txt\", 'r') as file:\n",
    "    positive = file.read()\n",
    "positive[:210]    "
   ]
  },
  {
   "cell_type": "code",
   "execution_count": 19,
   "id": "66ed38c6",
   "metadata": {},
   "outputs": [
    {
     "data": {
      "text/plain": [
       "'a+,abound,abounds,abundance,abundant,accessable,accessible,acclaim,acclaimed,acclamation,accolade,accolades,accommodative,accomodative,accomplish,accomplished,accomplishment,accomplishments,accurate,accurately,'"
      ]
     },
     "execution_count": 19,
     "metadata": {},
     "output_type": "execute_result"
    }
   ],
   "source": [
    "positive = positive.replace('\\n',',')\n",
    "positive[:210]"
   ]
  },
  {
   "cell_type": "code",
   "execution_count": 20,
   "id": "fc1387e8",
   "metadata": {},
   "outputs": [
    {
     "name": "stdout",
     "output_type": "stream",
     "text": [
      "['open', 'world', 'understand', 'world', 'kind', 'pretty', 'improvements', 'quality', 'renaissance', 'golden', 'age', 'intelligence', 'important', 'worked', 'profound', 'work', 'important', 'benefits', 'autonomous', 'made', 'viable', 'easier', 'faster', 'reasonable', 'made', 'powerful', 'pace', 'faster', 'rapid', 'pace', 'future', 'important', 'factor', 'power', 'order', 'helping', 'match', 'access', 'improved', 'improved', 'product', 'recommendations', 'improve', 'phenomenal', 'complicated', 'notably', 'rich', 'advanced', 'edge', 'vision', 'ability', 'capability', 'enable', 'eye', 'replace', 'claim', 'loss', 'vulnerable', 'risk', 'future', 'creative', 'empathy', 'important', 'understand', 'intelligence', 'progress', 'fact', 'empowerment', 'important', 'work', 'future', 'intelligence', 'innovative', 'creative', 'taking', 'affect', 'future', 'work', 'risk', 'risk', 'educated', 'risk', 'found', 'creative', 'knowledge', 'innovation', 'risk', 'risk', 'simple', 'thumb', 'risk', 'innovation', 'faster', 'work', 'good', 'creative', 'serve', 'creative', 'intelligence', 'creative', 'content', 'high', 'top', 'creative', 'future', 'work', 'effective', 'lower', 'skilled', 'lower', 'high', 'skilled', 'taking', 'educated', 'limited', 'amount', 'dominate', 'receive', 'question', 'understand', 'leading', 'work', 'grow', 'grow', 'structure', 'age', 'great', 'attract', 'skilled', 'skill', 'work', 'good', 'benefit', 'affect', 'economic', 'knowledge', 'important', 'important', 'ethical', 'transparent', 'open', 'progress', 'question', 'intelligence', 'proactive', 'solve', 'incredibly', 'problem', 'human', 'intelligence', 'set', 'brilliant', 'human', 'fish', 'intelligent', 'human', 'smart', 'future']\n"
     ]
    },
    {
     "data": {
      "text/plain": [
       "158"
      ]
     },
     "execution_count": 20,
     "metadata": {},
     "output_type": "execute_result"
    }
   ],
   "source": [
    "positive_words = [i for i in new_texts if i in positive]\n",
    "print(positive_words)\n",
    "len(positive_words)"
   ]
  },
  {
   "cell_type": "markdown",
   "id": "1b59646d",
   "metadata": {},
   "source": [
    "#### positive Score\n"
   ]
  },
  {
   "cell_type": "code",
   "execution_count": 21,
   "id": "7d0fbab1",
   "metadata": {},
   "outputs": [
    {
     "name": "stdout",
     "output_type": "stream",
     "text": [
      "158\n"
     ]
    }
   ],
   "source": [
    "pos_score = len(positive_words)\n",
    "print(pos_score)"
   ]
  },
  {
   "cell_type": "markdown",
   "id": "54a6cc12",
   "metadata": {},
   "source": [
    "#### Negative Score"
   ]
  },
  {
   "cell_type": "code",
   "execution_count": 22,
   "id": "df0766cd",
   "metadata": {},
   "outputs": [
    {
     "name": "stdout",
     "output_type": "stream",
     "text": [
      "159\n"
     ]
    }
   ],
   "source": [
    "neg_score=len(negative_words)\n",
    "print(neg_score)"
   ]
  },
  {
   "cell_type": "markdown",
   "id": "84da7ab7",
   "metadata": {},
   "source": [
    "#### Polarity Score"
   ]
  },
  {
   "cell_type": "code",
   "execution_count": 23,
   "id": "21e88c2b",
   "metadata": {},
   "outputs": [
    {
     "data": {
      "text/plain": [
       "-0.0"
      ]
     },
     "execution_count": 23,
     "metadata": {},
     "output_type": "execute_result"
    }
   ],
   "source": [
    "Polarity_Score = (pos_score - neg_score)/((pos_score + neg_score) + 0.000001)\n",
    "round(Polarity_Score,2)"
   ]
  },
  {
   "cell_type": "code",
   "execution_count": 24,
   "id": "08bcb4ab",
   "metadata": {},
   "outputs": [
    {
     "name": "stdout",
     "output_type": "stream",
     "text": [
      "number of words after cleaning : 699\n"
     ]
    }
   ],
   "source": [
    "word_count = len(new_texts)\n",
    "print(\"number of words after cleaning :\",word_count)"
   ]
  },
  {
   "cell_type": "markdown",
   "id": "16495ba1",
   "metadata": {},
   "source": [
    "#### Subjectivity Score"
   ]
  },
  {
   "cell_type": "code",
   "execution_count": 25,
   "id": "841713a3",
   "metadata": {},
   "outputs": [
    {
     "data": {
      "text/plain": [
       "0.45"
      ]
     },
     "execution_count": 25,
     "metadata": {},
     "output_type": "execute_result"
    }
   ],
   "source": [
    "Subjectivity_Score = (pos_score + neg_score)/ ((word_count) + 0.000001)\n",
    "round(Subjectivity_Score,2)"
   ]
  },
  {
   "cell_type": "markdown",
   "id": "0d7c370e",
   "metadata": {},
   "source": [
    "# Analysis of Readability"
   ]
  },
  {
   "cell_type": "code",
   "execution_count": 26,
   "id": "10209a7a",
   "metadata": {},
   "outputs": [
    {
     "data": {
      "text/plain": [
       "1843"
      ]
     },
     "execution_count": 26,
     "metadata": {},
     "output_type": "execute_result"
    }
   ],
   "source": [
    "import nltk\n",
    "from nltk.tokenize import word_tokenize\n",
    "word_tokens = nltk.word_tokenize(texts)\n",
    "No_of_words = len(word_tokens)\n",
    "No_of_words"
   ]
  },
  {
   "cell_type": "code",
   "execution_count": 27,
   "id": "bfac2ab7",
   "metadata": {},
   "outputs": [
    {
     "data": {
      "text/plain": [
       "7"
      ]
     },
     "execution_count": 27,
     "metadata": {},
     "output_type": "execute_result"
    }
   ],
   "source": [
    "sent_tokens = nltk.sent_tokenize(texts)\n",
    "No_of_sents = len(sent_tokens)\n",
    "No_of_sents "
   ]
  },
  {
   "cell_type": "markdown",
   "id": "1576acfe",
   "metadata": {},
   "source": [
    "### Average sentence Length\n"
   ]
  },
  {
   "cell_type": "code",
   "execution_count": 28,
   "id": "11d6a7ec",
   "metadata": {},
   "outputs": [
    {
     "data": {
      "text/plain": [
       "263.29"
      ]
     },
     "execution_count": 28,
     "metadata": {},
     "output_type": "execute_result"
    }
   ],
   "source": [
    "Avg_Sents_Length = No_of_words / No_of_sents\n",
    "round(Avg_Sents_Length,2)"
   ]
  },
  {
   "cell_type": "markdown",
   "id": "bc20ee3d",
   "metadata": {},
   "source": [
    "### Percentage of Complex words\n",
    "Complex words: words with more than 2 syllable are called complex words"
   ]
  },
  {
   "cell_type": "code",
   "execution_count": 29,
   "id": "eba6a8b1",
   "metadata": {},
   "outputs": [
    {
     "name": "stdout",
     "output_type": "stream",
     "text": [
      "Number of complex words: 260\n",
      "Total number of words: 10462\n"
     ]
    }
   ],
   "source": [
    "from nltk.corpus import cmudict\n",
    "cmud = cmudict.dict()\n",
    "\n",
    "# Defining a function to count syllables in a word\n",
    "def count_syllables(word):\n",
    "    phonemes = cmud[word.lower()][0] \n",
    "    return len([s for s in phonemes if s[-1].isdigit()])\n",
    "\n",
    "# Identifing complex words\n",
    "w_tokens = [i for i in word_tokens if i in cmud]\n",
    "complex_words = [word for word in w_tokens if count_syllables(word) > 2]\n",
    "\n",
    "# Calculatingnumber of complex words\n",
    "num_complex_words = len(complex_words)\n",
    "\n",
    "print(\"Number of complex words:\", num_complex_words)\n",
    "print(\"Total number of words:\", len(texts))"
   ]
  },
  {
   "cell_type": "code",
   "execution_count": 30,
   "id": "e982c0a1",
   "metadata": {},
   "outputs": [
    {
     "data": {
      "text/plain": [
       "40.24"
      ]
     },
     "execution_count": 30,
     "metadata": {},
     "output_type": "execute_result"
    }
   ],
   "source": [
    "Perc_of_Complex_words = len(texts) / num_complex_words\n",
    "round(Perc_of_Complex_words,2)"
   ]
  },
  {
   "cell_type": "markdown",
   "id": "77e948d1",
   "metadata": {},
   "source": [
    "### Fog Index"
   ]
  },
  {
   "cell_type": "code",
   "execution_count": 31,
   "id": "95fb10bb",
   "metadata": {},
   "outputs": [
    {
     "name": "stdout",
     "output_type": "stream",
     "text": [
      "Average sentence length: 7.0\n"
     ]
    }
   ],
   "source": [
    "# Tokenize each sentence into words\n",
    "words = [word_tokens for sentence in sent_tokens]\n",
    "\n",
    "# Calculate the average sentence length\n",
    "avg_sent_len = sum(No_of_sents for sentence in words) / No_of_sents\n",
    "\n",
    "print(\"Average sentence length:\", avg_sent_len)\n"
   ]
  },
  {
   "cell_type": "code",
   "execution_count": 32,
   "id": "38f5a93b",
   "metadata": {},
   "outputs": [
    {
     "data": {
      "text/plain": [
       "18.9"
      ]
     },
     "execution_count": 32,
     "metadata": {},
     "output_type": "execute_result"
    }
   ],
   "source": [
    "Fog_index = 0.4 * (avg_sent_len + Perc_of_Complex_words)\n",
    "round(Fog_index,2)"
   ]
  },
  {
   "cell_type": "markdown",
   "id": "5b4aacea",
   "metadata": {},
   "source": [
    "# Average Number of Words Per Sentence"
   ]
  },
  {
   "cell_type": "code",
   "execution_count": 33,
   "id": "45da1407",
   "metadata": {},
   "outputs": [
    {
     "data": {
      "text/plain": [
       "263.29"
      ]
     },
     "execution_count": 33,
     "metadata": {},
     "output_type": "execute_result"
    }
   ],
   "source": [
    "avg_no_of_words_per_sent = No_of_words / No_of_sents\n",
    "round(avg_no_of_words_per_sent,2)"
   ]
  },
  {
   "cell_type": "markdown",
   "id": "f2d9b493",
   "metadata": {},
   "source": [
    "# Complex Word Count"
   ]
  },
  {
   "cell_type": "code",
   "execution_count": 34,
   "id": "75304424",
   "metadata": {},
   "outputs": [
    {
     "name": "stdout",
     "output_type": "stream",
     "text": [
      "complex word count: 260\n"
     ]
    }
   ],
   "source": [
    "from nltk.corpus import cmudict\n",
    "cmud = cmudict.dict()\n",
    "\n",
    "# Defining a function to count syllables in a word\n",
    "def count_syllables(word):\n",
    "    phonemes = cmud[word.lower()][0] \n",
    "    return len([s for s in phonemes if s[-1].isdigit()])\n",
    "\n",
    "# Identifing complex words\n",
    "w_tokens = [i for i in word_tokens if i in cmud]\n",
    "complex_words = [word for word in w_tokens if count_syllables(word) > 2]\n",
    "\n",
    "# Calculatingnumber of complex words\n",
    "num_complex_words = len(complex_words)\n",
    "\n",
    "print(\"complex word count:\", num_complex_words)"
   ]
  },
  {
   "cell_type": "markdown",
   "id": "99ea5188",
   "metadata": {},
   "source": [
    "# Word Count\n",
    "number of words after cleaning"
   ]
  },
  {
   "cell_type": "code",
   "execution_count": 35,
   "id": "b4fb0c72",
   "metadata": {},
   "outputs": [
    {
     "data": {
      "text/plain": [
       "699"
      ]
     },
     "execution_count": 35,
     "metadata": {},
     "output_type": "execute_result"
    }
   ],
   "source": [
    "len(new_texts)"
   ]
  },
  {
   "cell_type": "markdown",
   "id": "ca8076ff",
   "metadata": {},
   "source": [
    "# Syllable Count Per Word"
   ]
  },
  {
   "cell_type": "code",
   "execution_count": 36,
   "id": "bc568045",
   "metadata": {},
   "outputs": [
    {
     "name": "stdout",
     "output_type": "stream",
     "text": [
      "Enter a word to get syllable: advanced\n",
      "Number of syllable in a word : 2\n"
     ]
    }
   ],
   "source": [
    "word = input(\"Enter a word to get syllable: \")\n",
    "def count_syllables(word):\n",
    "    phonemes = cmud[word.lower()][0] \n",
    "    return len([s for s in phonemes if s[-1].isdigit()])\n",
    "\n",
    "print(\"Number of syllable in a word :\",count_syllables(word))"
   ]
  },
  {
   "cell_type": "markdown",
   "id": "1d3a18f6",
   "metadata": {},
   "source": [
    "# Personal Pronouns"
   ]
  },
  {
   "cell_type": "code",
   "execution_count": 37,
   "id": "0b8e0d2d",
   "metadata": {},
   "outputs": [
    {
     "name": "stdout",
     "output_type": "stream",
     "text": [
      "Personal pronoun frequency: {'it': 21, 'you': 6, 'we': 13, 'us': 2, 'they': 16, 'them': 2, 'i': 1}\n",
      "total number of pronouns in a article : 61\n"
     ]
    }
   ],
   "source": [
    "import re\n",
    "\n",
    "# Define a regex pattern to match personal pronouns\n",
    "pattern = r'\\b(I|you|he|she|it|we|they|me|him|her|us|them)\\b'\n",
    "\n",
    "# Count the frequency of personal pronouns\n",
    "pronoun_freq = {}\n",
    "for pronoun in re.findall(pattern, texts, re.IGNORECASE):\n",
    "    pronoun = pronoun.lower()\n",
    "    if pronoun in pronoun_freq:\n",
    "        pronoun_freq[pronoun] += 1\n",
    "    else:\n",
    "        pronoun_freq[pronoun] = 1\n",
    "\n",
    "print(\"Personal pronoun frequency:\", pronoun_freq)\n",
    "def returnSum(dict):\n",
    " \n",
    "    sum = 0\n",
    "    for i in pronoun_freq.values():\n",
    "        sum = sum + i\n",
    " \n",
    "    return sum\n",
    "print(\"total number of pronouns in a article :\",returnSum(pronoun_freq))"
   ]
  },
  {
   "cell_type": "markdown",
   "id": "e3fc87f8",
   "metadata": {},
   "source": [
    "# Average Word Length"
   ]
  },
  {
   "cell_type": "code",
   "execution_count": 38,
   "id": "5bde37d9",
   "metadata": {},
   "outputs": [
    {
     "name": "stdout",
     "output_type": "stream",
     "text": [
      "Average word length: 4.66\n"
     ]
    }
   ],
   "source": [
    "# Calculate the total number of characters in all words\n",
    "total_chars = sum(len(word) for word in word_tokens)\n",
    "\n",
    "avg_word_length = total_chars / No_of_words\n",
    "\n",
    "print(\"Average word length:\", round(avg_word_length,2))\n"
   ]
  },
  {
   "cell_type": "code",
   "execution_count": null,
   "id": "63dc25ad",
   "metadata": {},
   "outputs": [],
   "source": []
  },
  {
   "cell_type": "code",
   "execution_count": null,
   "id": "819012c5",
   "metadata": {},
   "outputs": [],
   "source": []
  }
 ],
 "metadata": {
  "kernelspec": {
   "display_name": "Python 3",
   "language": "python",
   "name": "python3"
  },
  "language_info": {
   "codemirror_mode": {
    "name": "ipython",
    "version": 3
   },
   "file_extension": ".py",
   "mimetype": "text/x-python",
   "name": "python",
   "nbconvert_exporter": "python",
   "pygments_lexer": "ipython3",
   "version": "3.8.8"
  }
 },
 "nbformat": 4,
 "nbformat_minor": 5
}
