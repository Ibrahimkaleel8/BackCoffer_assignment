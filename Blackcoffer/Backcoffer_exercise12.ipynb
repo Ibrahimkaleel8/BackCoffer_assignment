{
 "cells": [
  {
   "cell_type": "markdown",
   "id": "b9312f26",
   "metadata": {},
   "source": [
    "# Data scraping"
   ]
  },
  {
   "cell_type": "code",
   "execution_count": 1,
   "id": "ef4785ca",
   "metadata": {},
   "outputs": [],
   "source": [
    "import nltk\n",
    "import requests\n",
    "from bs4 import BeautifulSoup"
   ]
  },
  {
   "cell_type": "code",
   "execution_count": 2,
   "id": "ac2f2459",
   "metadata": {},
   "outputs": [],
   "source": [
    "req = requests.get(\"https://insights.blackcoffer.com/how-machines-ai-automations-and-robo-human-are-effective-in-finance-and-banking/\")"
   ]
  },
  {
   "cell_type": "code",
   "execution_count": 3,
   "id": "45f9fa09",
   "metadata": {},
   "outputs": [],
   "source": [
    "soup = BeautifulSoup(req.content, \"html.parser\")\n",
    "res = soup.title\n",
    "paras = soup.find_all('p')"
   ]
  },
  {
   "cell_type": "code",
   "execution_count": 4,
   "id": "dbb256b2",
   "metadata": {
    "scrolled": true
   },
   "outputs": [
    {
     "name": "stdout",
     "output_type": "stream",
     "text": [
      "We all hear day in and day out that we amidst a technological revolution. But do we know what this really means? Before we understand how its going to impact us, let us first discuss what these terms really mean. A technological revolution simply means that we are in a period where better and newer technologies replace the others to get the job done faster and better. We are in an era with rapid innovations where machines are being compared to humans.  So, then what is Machine Learning? Machine Learning is basically the application of artificial intelligence into electronic systems to enable them to learn and enhance themselves without being programmed by humans. It is the evolution and development of computer programs that can access data and then use it to advance themselves. Whether you know it or not, you use machine learning-powered applications daily. Now, what is Artificial intelligence? At its simplest form, artificial intelligence is a field, which combines computer science and robust datasets, to enable problem-solving. In simple words, Artificial Intelligence is the technology that facilitates these machines to perform human like behaviour. Just like every other industry, machine learning is playing its role in the finance and banking industry too. In most cases where a human would perform the same task by performing the same calculations or following the same process can be taught to the machine which can now perform it by itself. Let us discuss a few examples of the applications that we might have come in our day to day running which are a result of machine learning in this industry: Portfolio Management In earlier days, an investor would need to consult a financial advisor to understand his/her risk appetite and advise accordingly. Today, using machine learning algorithms there exists the concept of a “Robo-Advisor” that requires any user to give certain inputs about their financial status and goals and calculates their risk tolerance and constructs and idle portfolio allocation for them. Young users today find this extremely useful rather than physically visiting an advisor and paying a fee for doing so. Risk Underwriting Underwriting is one of the core functions for most financial institutions especially banks and insurance companies where they are required to underwrite the risk of the customers before loaning out money or insurance policies. These underwriting activities are based on trends and thumb rules industrywide. The same has been introduced through machine learning which is able to underwrite risks today on a larger and more accurate scale. Algorithmic Trading Machine learning is a mathematical model that tracks market information, analyses massive data sources and study market conditions simultaneously to detect patterns which can be used for trading. This is humanly impossible to do in a fraction of time. Algorithmic systems can make millions of trades daily, often known as “high-frequency trading”. It is highly believed that deep learning is playing its role in calibrating real-time trading decisions. Fraud Detection With the increase in use and dependency on computers for financial transactions came the data security risk. There is an ample amount of valuable data stored online available to create potential risk. Machine learning thus helped in fraud detection by detecting anomalies in transactions and flagging them for scrutiny based on the risk factors defined by the institutions. Fraud identification in insurance claims, credit card payments, identity theft, account theft, are all areas in fraud detection that machine learning can help in. Process Automation Process automation is one of the most common applications of machine learning in finance. The technology has helped in replacing manual work, automate repetitive tasks to avoid redundancy, and as a result, increase productivity. Machine learning has benefitted these organizations to optimize costs, improve customer experiences, and scale up their services. Some examples of financial and banking firms using process automation are the use of chatbots, automated calls, paperwork automation, and gamified employee training. Customer onboarding In this highly competitive industry, customer acquisition and the customer onboarding process is highly relevant in building a good customer relationship. At any stage, during the onboarding, a slight inconvenience or delay can act as a barrier. Machine learning-enabled complete automation in this process for these financial and banking institutions. Today, from opening an account, filing for any application can be completed within a few minutes with utmost ease. With AI, customers’ behavioral patterns have been studied to improvise and make the whole process efficient and user-friendly. Customer churn With the multitude of offerings and availability of a plethora of options, customer stickiness is a big problem faced by financial firms. Customer churn forecasting is one of the best big data use cases. It helps in detecting customers who cancel their subscription and analyses the same to tailor products as per customer needs. Video streaming application, Netflix’s subscribers worldwide has continued to grow to reach 167 million through using machine learning analytics on their customer database. Decision Making Financial and banking institutions function on facilitating investments made by their customers. Organizations are constantly in search of customers from whom they can get more revenue. This is now possible through performing machine learning analysis on both structured and unstructured data which helps them make more informed decisions. It also analyses data from the website and mobile application to construct effective marketing campaigns for the targeted customers. Future of Machine Learning in Finance Financial monitoring, security analysis, prevention of money laundering, network security, investment predictions, personalization of customer service everything comes under the realm of the applications of machine learning in the financial and banking industry. Yet, this is just the tip of the iceberg, there is a lot more that is going to change in the future. It is now visibly imperative that while AI is beginning to create a wave of transformation across these industries and adapting to these changes s important for one’s survival. With smart technology applied everywhere, all financial firms are bound to turn into FinTech’s to stay relevant to the “silver tech generation” consisting of millennials and the GenZs. Final thoughts The financial services industry has entered the space of artificial intelligence and machine learning, and the pace is not surprising knowing the positive changes it has brought. Machine learning has the most use cases in finance than any other industry because of the available computer power and new machine learning tools. The greatest applications include simplifying customer engagement and accurate sales forecasting. It is only making this industry better and more efficient with each new adaptation. Machine learning algorithms have the capability to deal with a lot more than human capacity along with eliminating human error. As even the algorithms are constantly learning and innovating, they can serve as a bridge to a completely flawless automated financial system in the future. Nonetheless, the challenges of high cost and lack of resources that come along play a significant role in how early these firms can adopt these technologies. But even then, the future seems bright as the industry has enough adopters and prospects ready to explore. \n"
     ]
    }
   ],
   "source": [
    "texts = \" \".join([paragraph.text.strip() for paragraph in paras])\n",
    "print(texts)"
   ]
  },
  {
   "cell_type": "code",
   "execution_count": 5,
   "id": "e79f5f60",
   "metadata": {},
   "outputs": [
    {
     "data": {
      "text/plain": [
       "7642"
      ]
     },
     "execution_count": 5,
     "metadata": {},
     "output_type": "execute_result"
    }
   ],
   "source": [
    "len(texts)"
   ]
  },
  {
   "cell_type": "markdown",
   "id": "db8f1fcc",
   "metadata": {},
   "source": [
    "Removing Punctuation"
   ]
  },
  {
   "cell_type": "code",
   "execution_count": 6,
   "id": "5285c8a8",
   "metadata": {},
   "outputs": [
    {
     "data": {
      "text/plain": [
       "7642"
      ]
     },
     "execution_count": 6,
     "metadata": {},
     "output_type": "execute_result"
    }
   ],
   "source": [
    "import re\n",
    "import string\n",
    "texts = re.sub(r'[\\'\\“\\”\\()\\%\\,\\-\\'\\’\\?\\ ]', ' ', texts)\n",
    "texts[0:200]\n",
    "len(texts)"
   ]
  },
  {
   "cell_type": "markdown",
   "id": "4fafe7be",
   "metadata": {},
   "source": [
    "# Removing Stopwords"
   ]
  },
  {
   "cell_type": "code",
   "execution_count": 7,
   "id": "089b8663",
   "metadata": {},
   "outputs": [],
   "source": [
    "from nltk.tokenize import word_tokenize"
   ]
  },
  {
   "cell_type": "code",
   "execution_count": 8,
   "id": "280876b0",
   "metadata": {},
   "outputs": [
    {
     "data": {
      "text/plain": [
       "['We',\n",
       " 'all',\n",
       " 'hear',\n",
       " 'day',\n",
       " 'in',\n",
       " 'and',\n",
       " 'day',\n",
       " 'out',\n",
       " 'that',\n",
       " 'we',\n",
       " 'amidst',\n",
       " 'a',\n",
       " 'technological',\n",
       " 'revolution',\n",
       " '.',\n",
       " 'But',\n",
       " 'do',\n",
       " 'we',\n",
       " 'know',\n",
       " 'what',\n",
       " 'this',\n",
       " 'really',\n",
       " 'means',\n",
       " 'Before',\n",
       " 'we',\n",
       " 'understand',\n",
       " 'how',\n",
       " 'its',\n",
       " 'going',\n",
       " 'to',\n",
       " 'impact',\n",
       " 'us',\n",
       " 'let',\n",
       " 'us',\n",
       " 'first',\n",
       " 'discuss',\n",
       " 'what',\n",
       " 'these',\n",
       " 'terms',\n",
       " 'really',\n",
       " 'mean',\n",
       " '.',\n",
       " 'A',\n",
       " 'technological',\n",
       " 'revolution',\n",
       " 'simply',\n",
       " 'means',\n",
       " 'that',\n",
       " 'we',\n",
       " 'are',\n",
       " 'in',\n",
       " 'a',\n",
       " 'period',\n",
       " 'where',\n",
       " 'better',\n",
       " 'and',\n",
       " 'newer',\n",
       " 'technologies',\n",
       " 'replace',\n",
       " 'the',\n",
       " 'others',\n",
       " 'to',\n",
       " 'get',\n",
       " 'the',\n",
       " 'job',\n",
       " 'done',\n",
       " 'faster',\n",
       " 'and',\n",
       " 'better',\n",
       " '.',\n",
       " 'We',\n",
       " 'are',\n",
       " 'in',\n",
       " 'an',\n",
       " 'era',\n",
       " 'with',\n",
       " 'rapid',\n",
       " 'innovations',\n",
       " 'where',\n",
       " 'machines',\n",
       " 'are',\n",
       " 'being',\n",
       " 'compared',\n",
       " 'to',\n",
       " 'humans',\n",
       " '.',\n",
       " 'So',\n",
       " 'then',\n",
       " 'what',\n",
       " 'is',\n",
       " 'Machine',\n",
       " 'Learning',\n",
       " 'Machine',\n",
       " 'Learning',\n",
       " 'is',\n",
       " 'basically',\n",
       " 'the',\n",
       " 'application',\n",
       " 'of',\n",
       " 'artificial',\n",
       " 'intelligence',\n",
       " 'into',\n",
       " 'electronic',\n",
       " 'systems',\n",
       " 'to',\n",
       " 'enable',\n",
       " 'them',\n",
       " 'to',\n",
       " 'learn',\n",
       " 'and',\n",
       " 'enhance',\n",
       " 'themselves',\n",
       " 'without',\n",
       " 'being',\n",
       " 'programmed',\n",
       " 'by',\n",
       " 'humans',\n",
       " '.',\n",
       " 'It',\n",
       " 'is',\n",
       " 'the',\n",
       " 'evolution',\n",
       " 'and',\n",
       " 'development',\n",
       " 'of',\n",
       " 'computer',\n",
       " 'programs',\n",
       " 'that',\n",
       " 'can',\n",
       " 'access',\n",
       " 'data',\n",
       " 'and',\n",
       " 'then',\n",
       " 'use',\n",
       " 'it',\n",
       " 'to',\n",
       " 'advance',\n",
       " 'themselves',\n",
       " '.',\n",
       " 'Whether',\n",
       " 'you',\n",
       " 'know',\n",
       " 'it',\n",
       " 'or',\n",
       " 'not',\n",
       " 'you',\n",
       " 'use',\n",
       " 'machine',\n",
       " 'learning',\n",
       " 'powered',\n",
       " 'applications',\n",
       " 'daily',\n",
       " '.',\n",
       " 'Now',\n",
       " 'what',\n",
       " 'is',\n",
       " 'Artificial',\n",
       " 'intelligence',\n",
       " 'At',\n",
       " 'its',\n",
       " 'simplest',\n",
       " 'form',\n",
       " 'artificial',\n",
       " 'intelligence',\n",
       " 'is',\n",
       " 'a',\n",
       " 'field',\n",
       " 'which',\n",
       " 'combines',\n",
       " 'computer',\n",
       " 'science',\n",
       " 'and',\n",
       " 'robust',\n",
       " 'datasets',\n",
       " 'to',\n",
       " 'enable',\n",
       " 'problem',\n",
       " 'solving',\n",
       " '.',\n",
       " 'In',\n",
       " 'simple',\n",
       " 'words',\n",
       " 'Artificial',\n",
       " 'Intelligence',\n",
       " 'is',\n",
       " 'the',\n",
       " 'technology',\n",
       " 'that',\n",
       " 'facilitates',\n",
       " 'these',\n",
       " 'machines',\n",
       " 'to',\n",
       " 'perform',\n",
       " 'human',\n",
       " 'like',\n",
       " 'behaviour',\n",
       " '.',\n",
       " 'Just',\n",
       " 'like',\n",
       " 'every',\n",
       " 'other',\n",
       " 'industry',\n",
       " 'machine',\n",
       " 'learning',\n",
       " 'is',\n",
       " 'playing',\n",
       " 'its',\n",
       " 'role',\n",
       " 'in',\n",
       " 'the',\n",
       " 'finance',\n",
       " 'and',\n",
       " 'banking',\n",
       " 'industry',\n",
       " 'too',\n",
       " '.',\n",
       " 'In',\n",
       " 'most',\n",
       " 'cases',\n",
       " 'where',\n",
       " 'a',\n",
       " 'human',\n",
       " 'would',\n",
       " 'perform',\n",
       " 'the',\n",
       " 'same',\n",
       " 'task',\n",
       " 'by',\n",
       " 'performing',\n",
       " 'the',\n",
       " 'same',\n",
       " 'calculations',\n",
       " 'or',\n",
       " 'following',\n",
       " 'the',\n",
       " 'same',\n",
       " 'process',\n",
       " 'can',\n",
       " 'be',\n",
       " 'taught',\n",
       " 'to',\n",
       " 'the',\n",
       " 'machine',\n",
       " 'which',\n",
       " 'can',\n",
       " 'now',\n",
       " 'perform',\n",
       " 'it',\n",
       " 'by',\n",
       " 'itself',\n",
       " '.',\n",
       " 'Let',\n",
       " 'us',\n",
       " 'discuss',\n",
       " 'a',\n",
       " 'few',\n",
       " 'examples',\n",
       " 'of',\n",
       " 'the',\n",
       " 'applications',\n",
       " 'that',\n",
       " 'we',\n",
       " 'might',\n",
       " 'have',\n",
       " 'come',\n",
       " 'in',\n",
       " 'our',\n",
       " 'day',\n",
       " 'to',\n",
       " 'day',\n",
       " 'running',\n",
       " 'which',\n",
       " 'are',\n",
       " 'a',\n",
       " 'result',\n",
       " 'of',\n",
       " 'machine',\n",
       " 'learning',\n",
       " 'in',\n",
       " 'this',\n",
       " 'industry',\n",
       " ':',\n",
       " 'Portfolio',\n",
       " 'Management',\n",
       " 'In',\n",
       " 'earlier',\n",
       " 'days',\n",
       " 'an',\n",
       " 'investor',\n",
       " 'would',\n",
       " 'need',\n",
       " 'to',\n",
       " 'consult',\n",
       " 'a',\n",
       " 'financial',\n",
       " 'advisor',\n",
       " 'to',\n",
       " 'understand',\n",
       " 'his/her',\n",
       " 'risk',\n",
       " 'appetite',\n",
       " 'and',\n",
       " 'advise',\n",
       " 'accordingly',\n",
       " '.',\n",
       " 'Today',\n",
       " 'using',\n",
       " 'machine',\n",
       " 'learning',\n",
       " 'algorithms',\n",
       " 'there',\n",
       " 'exists',\n",
       " 'the',\n",
       " 'concept',\n",
       " 'of',\n",
       " 'a',\n",
       " 'Robo',\n",
       " 'Advisor',\n",
       " 'that',\n",
       " 'requires',\n",
       " 'any',\n",
       " 'user',\n",
       " 'to',\n",
       " 'give',\n",
       " 'certain',\n",
       " 'inputs',\n",
       " 'about',\n",
       " 'their',\n",
       " 'financial',\n",
       " 'status',\n",
       " 'and',\n",
       " 'goals',\n",
       " 'and',\n",
       " 'calculates',\n",
       " 'their',\n",
       " 'risk',\n",
       " 'tolerance',\n",
       " 'and',\n",
       " 'constructs',\n",
       " 'and',\n",
       " 'idle',\n",
       " 'portfolio',\n",
       " 'allocation',\n",
       " 'for',\n",
       " 'them',\n",
       " '.',\n",
       " 'Young',\n",
       " 'users',\n",
       " 'today',\n",
       " 'find',\n",
       " 'this',\n",
       " 'extremely',\n",
       " 'useful',\n",
       " 'rather',\n",
       " 'than',\n",
       " 'physically',\n",
       " 'visiting',\n",
       " 'an',\n",
       " 'advisor',\n",
       " 'and',\n",
       " 'paying',\n",
       " 'a',\n",
       " 'fee',\n",
       " 'for',\n",
       " 'doing',\n",
       " 'so',\n",
       " '.',\n",
       " 'Risk',\n",
       " 'Underwriting',\n",
       " 'Underwriting',\n",
       " 'is',\n",
       " 'one',\n",
       " 'of',\n",
       " 'the',\n",
       " 'core',\n",
       " 'functions',\n",
       " 'for',\n",
       " 'most',\n",
       " 'financial',\n",
       " 'institutions',\n",
       " 'especially',\n",
       " 'banks',\n",
       " 'and',\n",
       " 'insurance',\n",
       " 'companies',\n",
       " 'where',\n",
       " 'they',\n",
       " 'are',\n",
       " 'required',\n",
       " 'to',\n",
       " 'underwrite',\n",
       " 'the',\n",
       " 'risk',\n",
       " 'of',\n",
       " 'the',\n",
       " 'customers',\n",
       " 'before',\n",
       " 'loaning',\n",
       " 'out',\n",
       " 'money',\n",
       " 'or',\n",
       " 'insurance',\n",
       " 'policies',\n",
       " '.',\n",
       " 'These',\n",
       " 'underwriting',\n",
       " 'activities',\n",
       " 'are',\n",
       " 'based',\n",
       " 'on',\n",
       " 'trends',\n",
       " 'and',\n",
       " 'thumb',\n",
       " 'rules',\n",
       " 'industrywide',\n",
       " '.',\n",
       " 'The',\n",
       " 'same',\n",
       " 'has',\n",
       " 'been',\n",
       " 'introduced',\n",
       " 'through',\n",
       " 'machine',\n",
       " 'learning',\n",
       " 'which',\n",
       " 'is',\n",
       " 'able',\n",
       " 'to',\n",
       " 'underwrite',\n",
       " 'risks',\n",
       " 'today',\n",
       " 'on',\n",
       " 'a',\n",
       " 'larger',\n",
       " 'and',\n",
       " 'more',\n",
       " 'accurate',\n",
       " 'scale',\n",
       " '.',\n",
       " 'Algorithmic',\n",
       " 'Trading',\n",
       " 'Machine',\n",
       " 'learning',\n",
       " 'is',\n",
       " 'a',\n",
       " 'mathematical',\n",
       " 'model',\n",
       " 'that',\n",
       " 'tracks',\n",
       " 'market',\n",
       " 'information',\n",
       " 'analyses',\n",
       " 'massive',\n",
       " 'data',\n",
       " 'sources',\n",
       " 'and',\n",
       " 'study',\n",
       " 'market',\n",
       " 'conditions',\n",
       " 'simultaneously',\n",
       " 'to',\n",
       " 'detect',\n",
       " 'patterns',\n",
       " 'which',\n",
       " 'can',\n",
       " 'be',\n",
       " 'used',\n",
       " 'for',\n",
       " 'trading',\n",
       " '.',\n",
       " 'This',\n",
       " 'is',\n",
       " 'humanly',\n",
       " 'impossible',\n",
       " 'to',\n",
       " 'do',\n",
       " 'in',\n",
       " 'a',\n",
       " 'fraction',\n",
       " 'of',\n",
       " 'time',\n",
       " '.',\n",
       " 'Algorithmic',\n",
       " 'systems',\n",
       " 'can',\n",
       " 'make',\n",
       " 'millions',\n",
       " 'of',\n",
       " 'trades',\n",
       " 'daily',\n",
       " 'often',\n",
       " 'known',\n",
       " 'as',\n",
       " 'high',\n",
       " 'frequency',\n",
       " 'trading',\n",
       " '.',\n",
       " 'It',\n",
       " 'is',\n",
       " 'highly',\n",
       " 'believed',\n",
       " 'that',\n",
       " 'deep',\n",
       " 'learning',\n",
       " 'is',\n",
       " 'playing',\n",
       " 'its',\n",
       " 'role',\n",
       " 'in',\n",
       " 'calibrating',\n",
       " 'real',\n",
       " 'time',\n",
       " 'trading',\n",
       " 'decisions',\n",
       " '.',\n",
       " 'Fraud',\n",
       " 'Detection',\n",
       " 'With',\n",
       " 'the',\n",
       " 'increase',\n",
       " 'in',\n",
       " 'use',\n",
       " 'and',\n",
       " 'dependency',\n",
       " 'on',\n",
       " 'computers',\n",
       " 'for',\n",
       " 'financial',\n",
       " 'transactions',\n",
       " 'came',\n",
       " 'the',\n",
       " 'data',\n",
       " 'security',\n",
       " 'risk',\n",
       " '.',\n",
       " 'There',\n",
       " 'is',\n",
       " 'an',\n",
       " 'ample',\n",
       " 'amount',\n",
       " 'of',\n",
       " 'valuable',\n",
       " 'data',\n",
       " 'stored',\n",
       " 'online',\n",
       " 'available',\n",
       " 'to',\n",
       " 'create',\n",
       " 'potential',\n",
       " 'risk',\n",
       " '.',\n",
       " 'Machine',\n",
       " 'learning',\n",
       " 'thus',\n",
       " 'helped',\n",
       " 'in',\n",
       " 'fraud',\n",
       " 'detection',\n",
       " 'by',\n",
       " 'detecting',\n",
       " 'anomalies',\n",
       " 'in',\n",
       " 'transactions',\n",
       " 'and',\n",
       " 'flagging',\n",
       " 'them',\n",
       " 'for',\n",
       " 'scrutiny',\n",
       " 'based',\n",
       " 'on',\n",
       " 'the',\n",
       " 'risk',\n",
       " 'factors',\n",
       " 'defined',\n",
       " 'by',\n",
       " 'the',\n",
       " 'institutions',\n",
       " '.',\n",
       " 'Fraud',\n",
       " 'identification',\n",
       " 'in',\n",
       " 'insurance',\n",
       " 'claims',\n",
       " 'credit',\n",
       " 'card',\n",
       " 'payments',\n",
       " 'identity',\n",
       " 'theft',\n",
       " 'account',\n",
       " 'theft',\n",
       " 'are',\n",
       " 'all',\n",
       " 'areas',\n",
       " 'in',\n",
       " 'fraud',\n",
       " 'detection',\n",
       " 'that',\n",
       " 'machine',\n",
       " 'learning',\n",
       " 'can',\n",
       " 'help',\n",
       " 'in',\n",
       " '.',\n",
       " 'Process',\n",
       " 'Automation',\n",
       " 'Process',\n",
       " 'automation',\n",
       " 'is',\n",
       " 'one',\n",
       " 'of',\n",
       " 'the',\n",
       " 'most',\n",
       " 'common',\n",
       " 'applications',\n",
       " 'of',\n",
       " 'machine',\n",
       " 'learning',\n",
       " 'in',\n",
       " 'finance',\n",
       " '.',\n",
       " 'The',\n",
       " 'technology',\n",
       " 'has',\n",
       " 'helped',\n",
       " 'in',\n",
       " 'replacing',\n",
       " 'manual',\n",
       " 'work',\n",
       " 'automate',\n",
       " 'repetitive',\n",
       " 'tasks',\n",
       " 'to',\n",
       " 'avoid',\n",
       " 'redundancy',\n",
       " 'and',\n",
       " 'as',\n",
       " 'a',\n",
       " 'result',\n",
       " 'increase',\n",
       " 'productivity',\n",
       " '.',\n",
       " 'Machine',\n",
       " 'learning',\n",
       " 'has',\n",
       " 'benefitted',\n",
       " 'these',\n",
       " 'organizations',\n",
       " 'to',\n",
       " 'optimize',\n",
       " 'costs',\n",
       " 'improve',\n",
       " 'customer',\n",
       " 'experiences',\n",
       " 'and',\n",
       " 'scale',\n",
       " 'up',\n",
       " 'their',\n",
       " 'services',\n",
       " '.',\n",
       " 'Some',\n",
       " 'examples',\n",
       " 'of',\n",
       " 'financial',\n",
       " 'and',\n",
       " 'banking',\n",
       " 'firms',\n",
       " 'using',\n",
       " 'process',\n",
       " 'automation',\n",
       " 'are',\n",
       " 'the',\n",
       " 'use',\n",
       " 'of',\n",
       " 'chatbots',\n",
       " 'automated',\n",
       " 'calls',\n",
       " 'paperwork',\n",
       " 'automation',\n",
       " 'and',\n",
       " 'gamified',\n",
       " 'employee',\n",
       " 'training',\n",
       " '.',\n",
       " 'Customer',\n",
       " 'onboarding',\n",
       " 'In',\n",
       " 'this',\n",
       " 'highly',\n",
       " 'competitive',\n",
       " 'industry',\n",
       " 'customer',\n",
       " 'acquisition',\n",
       " 'and',\n",
       " 'the',\n",
       " 'customer',\n",
       " 'onboarding',\n",
       " 'process',\n",
       " 'is',\n",
       " 'highly',\n",
       " 'relevant',\n",
       " 'in',\n",
       " 'building',\n",
       " 'a',\n",
       " 'good',\n",
       " 'customer',\n",
       " 'relationship',\n",
       " '.',\n",
       " 'At',\n",
       " 'any',\n",
       " 'stage',\n",
       " 'during',\n",
       " 'the',\n",
       " 'onboarding',\n",
       " 'a',\n",
       " 'slight',\n",
       " 'inconvenience',\n",
       " 'or',\n",
       " 'delay',\n",
       " 'can',\n",
       " 'act',\n",
       " 'as',\n",
       " 'a',\n",
       " 'barrier',\n",
       " '.',\n",
       " 'Machine',\n",
       " 'learning',\n",
       " 'enabled',\n",
       " 'complete',\n",
       " 'automation',\n",
       " 'in',\n",
       " 'this',\n",
       " 'process',\n",
       " 'for',\n",
       " 'these',\n",
       " 'financial',\n",
       " 'and',\n",
       " 'banking',\n",
       " 'institutions',\n",
       " '.',\n",
       " 'Today',\n",
       " 'from',\n",
       " 'opening',\n",
       " 'an',\n",
       " 'account',\n",
       " 'filing',\n",
       " 'for',\n",
       " 'any',\n",
       " 'application',\n",
       " 'can',\n",
       " 'be',\n",
       " 'completed',\n",
       " 'within',\n",
       " 'a',\n",
       " 'few',\n",
       " 'minutes',\n",
       " 'with',\n",
       " 'utmost',\n",
       " 'ease',\n",
       " '.',\n",
       " 'With',\n",
       " 'AI',\n",
       " 'customers',\n",
       " 'behavioral',\n",
       " 'patterns',\n",
       " 'have',\n",
       " 'been',\n",
       " 'studied',\n",
       " 'to',\n",
       " 'improvise',\n",
       " 'and',\n",
       " 'make',\n",
       " 'the',\n",
       " 'whole',\n",
       " 'process',\n",
       " 'efficient',\n",
       " 'and',\n",
       " 'user',\n",
       " 'friendly',\n",
       " '.',\n",
       " 'Customer',\n",
       " 'churn',\n",
       " 'With',\n",
       " 'the',\n",
       " 'multitude',\n",
       " 'of',\n",
       " 'offerings',\n",
       " 'and',\n",
       " 'availability',\n",
       " 'of',\n",
       " 'a',\n",
       " 'plethora',\n",
       " 'of',\n",
       " 'options',\n",
       " 'customer',\n",
       " 'stickiness',\n",
       " 'is',\n",
       " 'a',\n",
       " 'big',\n",
       " 'problem',\n",
       " 'faced',\n",
       " 'by',\n",
       " 'financial',\n",
       " 'firms',\n",
       " '.',\n",
       " 'Customer',\n",
       " 'churn',\n",
       " 'forecasting',\n",
       " 'is',\n",
       " 'one',\n",
       " 'of',\n",
       " 'the',\n",
       " 'best',\n",
       " 'big',\n",
       " 'data',\n",
       " 'use',\n",
       " 'cases',\n",
       " '.',\n",
       " 'It',\n",
       " 'helps',\n",
       " 'in',\n",
       " 'detecting',\n",
       " 'customers',\n",
       " 'who',\n",
       " 'cancel',\n",
       " 'their',\n",
       " 'subscription',\n",
       " 'and',\n",
       " 'analyses',\n",
       " 'the',\n",
       " 'same',\n",
       " 'to',\n",
       " 'tailor',\n",
       " 'products',\n",
       " 'as',\n",
       " 'per',\n",
       " 'customer',\n",
       " 'needs',\n",
       " '.',\n",
       " 'Video',\n",
       " 'streaming',\n",
       " 'application',\n",
       " 'Netflix',\n",
       " 's',\n",
       " 'subscribers',\n",
       " 'worldwide',\n",
       " 'has',\n",
       " 'continued',\n",
       " 'to',\n",
       " 'grow',\n",
       " 'to',\n",
       " 'reach',\n",
       " '167',\n",
       " 'million',\n",
       " 'through',\n",
       " 'using',\n",
       " 'machine',\n",
       " 'learning',\n",
       " 'analytics',\n",
       " 'on',\n",
       " 'their',\n",
       " 'customer',\n",
       " 'database',\n",
       " '.',\n",
       " 'Decision',\n",
       " 'Making',\n",
       " 'Financial',\n",
       " 'and',\n",
       " 'banking',\n",
       " 'institutions',\n",
       " 'function',\n",
       " 'on',\n",
       " 'facilitating',\n",
       " 'investments',\n",
       " 'made',\n",
       " 'by',\n",
       " 'their',\n",
       " 'customers',\n",
       " '.',\n",
       " 'Organizations',\n",
       " 'are',\n",
       " 'constantly',\n",
       " 'in',\n",
       " 'search',\n",
       " 'of',\n",
       " 'customers',\n",
       " 'from',\n",
       " 'whom',\n",
       " 'they',\n",
       " 'can',\n",
       " 'get',\n",
       " 'more',\n",
       " 'revenue',\n",
       " '.',\n",
       " 'This',\n",
       " 'is',\n",
       " 'now',\n",
       " 'possible',\n",
       " 'through',\n",
       " 'performing',\n",
       " 'machine',\n",
       " 'learning',\n",
       " 'analysis',\n",
       " 'on',\n",
       " 'both',\n",
       " 'structured',\n",
       " 'and',\n",
       " 'unstructured',\n",
       " 'data',\n",
       " 'which',\n",
       " 'helps',\n",
       " 'them',\n",
       " 'make',\n",
       " 'more',\n",
       " 'informed',\n",
       " 'decisions',\n",
       " '.',\n",
       " 'It',\n",
       " 'also',\n",
       " 'analyses',\n",
       " 'data',\n",
       " 'from',\n",
       " 'the',\n",
       " 'website',\n",
       " 'and',\n",
       " 'mobile',\n",
       " 'application',\n",
       " 'to',\n",
       " 'construct',\n",
       " 'effective',\n",
       " 'marketing',\n",
       " 'campaigns',\n",
       " 'for',\n",
       " 'the',\n",
       " 'targeted',\n",
       " 'customers',\n",
       " '.',\n",
       " 'Future',\n",
       " 'of',\n",
       " 'Machine',\n",
       " 'Learning',\n",
       " 'in',\n",
       " 'Finance',\n",
       " 'Financial',\n",
       " 'monitoring',\n",
       " 'security',\n",
       " 'analysis',\n",
       " 'prevention',\n",
       " 'of',\n",
       " 'money',\n",
       " 'laundering',\n",
       " 'network',\n",
       " 'security',\n",
       " 'investment',\n",
       " 'predictions',\n",
       " 'personalization',\n",
       " 'of',\n",
       " 'customer',\n",
       " 'service',\n",
       " 'everything',\n",
       " 'comes',\n",
       " 'under',\n",
       " 'the',\n",
       " 'realm',\n",
       " 'of',\n",
       " 'the',\n",
       " 'applications',\n",
       " 'of',\n",
       " 'machine',\n",
       " 'learning',\n",
       " 'in',\n",
       " 'the',\n",
       " 'financial',\n",
       " 'and',\n",
       " 'banking',\n",
       " 'industry',\n",
       " '.',\n",
       " 'Yet',\n",
       " 'this',\n",
       " 'is',\n",
       " 'just',\n",
       " 'the',\n",
       " 'tip',\n",
       " 'of',\n",
       " 'the',\n",
       " 'iceberg',\n",
       " 'there',\n",
       " 'is',\n",
       " 'a',\n",
       " 'lot',\n",
       " 'more',\n",
       " 'that',\n",
       " 'is',\n",
       " 'going',\n",
       " 'to',\n",
       " 'change',\n",
       " 'in',\n",
       " 'the',\n",
       " 'future',\n",
       " '.',\n",
       " 'It',\n",
       " ...]"
      ]
     },
     "execution_count": 8,
     "metadata": {},
     "output_type": "execute_result"
    }
   ],
   "source": [
    "token = word_tokenize(texts)\n",
    "token"
   ]
  },
  {
   "cell_type": "code",
   "execution_count": 9,
   "id": "10016a09",
   "metadata": {},
   "outputs": [],
   "source": [
    "with open(\"D:\\lab\\Dataset\\Stopwords_Blackcoffer.txt\", 'r') as file:\n",
    "    data = file.read()"
   ]
  },
  {
   "cell_type": "code",
   "execution_count": 10,
   "id": "c567cbef",
   "metadata": {},
   "outputs": [
    {
     "data": {
      "text/plain": [
       "'ERNST\\nYOUNG\\nDELOITTE\\nTOUCHE\\nKPMG\\nPRICEWATERHOUSECOOPERS\\nPRICEWATERHOUSE\\nCOOPERS\\nAFGHANI\\nARIARY\\nBAHT\\n'"
      ]
     },
     "execution_count": 10,
     "metadata": {},
     "output_type": "execute_result"
    }
   ],
   "source": [
    "data[:100]"
   ]
  },
  {
   "cell_type": "code",
   "execution_count": 11,
   "id": "d65bfa92",
   "metadata": {},
   "outputs": [
    {
     "data": {
      "text/plain": [
       "'ERNST,YOUNG,DELOITTE,TOUCHE,KPMG,PRICEWATERHOUSECOOPERS,PRICEWATERHOUSE,COOPERS,AFGHANI,ARIARY,BAHT,'"
      ]
     },
     "execution_count": 11,
     "metadata": {},
     "output_type": "execute_result"
    }
   ],
   "source": [
    "data = data.replace('\\n', ',')\n",
    "data[:100]"
   ]
  },
  {
   "cell_type": "code",
   "execution_count": 12,
   "id": "0ef23874",
   "metadata": {},
   "outputs": [
    {
     "data": {
      "text/plain": [
       "'We hear day day amidst technological revolution . But means Before understand impact discuss terms . technological revolution simply means period newer technologies replace job faster . We rapid innov'"
      ]
     },
     "execution_count": 12,
     "metadata": {},
     "output_type": "execute_result"
    }
   ],
   "source": [
    "new_texts = \" \".join([i for i in token if i not in data])\n",
    "new_texts[:200]"
   ]
  },
  {
   "cell_type": "code",
   "execution_count": 13,
   "id": "ea392da4",
   "metadata": {},
   "outputs": [
    {
     "name": "stdout",
     "output_type": "stream",
     "text": [
      "length before cleaning:  7642\n",
      "length after cleaning:  5291\n"
     ]
    }
   ],
   "source": [
    "print(\"length before cleaning: \", len(texts))\n",
    "print(\"length after cleaning: \", len(new_texts))"
   ]
  },
  {
   "cell_type": "markdown",
   "id": "1f456147",
   "metadata": {},
   "source": [
    "# Negative words"
   ]
  },
  {
   "cell_type": "code",
   "execution_count": 14,
   "id": "dc3618a7",
   "metadata": {},
   "outputs": [],
   "source": [
    "with open(\"D:\\\\lab\\\\Dataset\\\\Negative_words.txt\", 'r') as file:\n",
    "    negative = file.read()"
   ]
  },
  {
   "cell_type": "code",
   "execution_count": 15,
   "id": "2123c4cb",
   "metadata": {},
   "outputs": [
    {
     "data": {
      "text/plain": [
       "'2-faced\\n2-faces\\nabnormal\\nabolish\\nabominable\\nabominably\\nabominate\\nabomination\\nabort\\naborted\\naborts\\nabrade\\nabrasive\\nabrupt\\nabruptly\\nabscond\\nabsence\\nabsent-minded\\nabsentee\\nabsurd\\nabsurdity\\nabsurdly\\nabsurdness\\n'"
      ]
     },
     "execution_count": 15,
     "metadata": {},
     "output_type": "execute_result"
    }
   ],
   "source": [
    "negative[:206]"
   ]
  },
  {
   "cell_type": "code",
   "execution_count": 16,
   "id": "28f44c97",
   "metadata": {},
   "outputs": [
    {
     "data": {
      "text/plain": [
       "'2-faced,2-faces,abnormal,abolish,abominable,abominably,abominate,abomination,abort,aborted,aborts,abrade,abrasive,abrupt,abruptly,abscond,absence,absent-minded,absentee,absurd,absurdity,absurdly,absurdness,'"
      ]
     },
     "execution_count": 16,
     "metadata": {},
     "output_type": "execute_result"
    }
   ],
   "source": [
    "negative = negative.replace('\\n', ',')\n",
    "negative[:206]"
   ]
  },
  {
   "cell_type": "code",
   "execution_count": 17,
   "id": "31a272c0",
   "metadata": {},
   "outputs": [
    {
     "name": "stdout",
     "output_type": "stream",
     "text": [
      "['hear', 'day', 'day', 'understand', 'job', 'enable', 'access', 'powered', 'enable', 'problem', 'human', 'human', 'day', 'day', 'understand', 'risk', 'advise', 'concept', 'risk', 'tolerance', 'idle', 'fee', 'risk', 'thumb', 'risks', 'accurate', 'impossible', 'fraction', 'make', 'high', 'security', 'risk', 'risk', 'fraud', 'flagging', 'risk', 'defined', 'credit', 'fraud', 'common', 'work', 'repetitive', 'avoid', 'redundancy', 'training', 'competitive', 'relevant', 'stage', 'inconvenience', 'delay', 'complete', 'make', 'efficient', 'friendly', 'big', 'problem', 'faced', 'big', 'continued', 'grow', 'reach', 'make', 'informed', 'effective', 'security', 'security', 'service', 'tip', 'lot', 'important', 'turn', 'relevant', 'generation', 'power', 'accurate', 'efficient', 'deal', 'lot', 'human', 'human', 'error', 'serve', 'high', 'cost', 'lack', 'play', 'significant']\n"
     ]
    },
    {
     "data": {
      "text/plain": [
       "87"
      ]
     },
     "execution_count": 17,
     "metadata": {},
     "output_type": "execute_result"
    }
   ],
   "source": [
    "new_texts = word_tokenize(new_texts)\n",
    "negative_words = [i for i in new_texts if i in negative]\n",
    "print(negative_words)\n",
    "len(negative_words)"
   ]
  },
  {
   "cell_type": "markdown",
   "id": "0b24f011",
   "metadata": {},
   "source": [
    "# Positive words"
   ]
  },
  {
   "cell_type": "code",
   "execution_count": 18,
   "id": "4b003620",
   "metadata": {},
   "outputs": [
    {
     "data": {
      "text/plain": [
       "'a+\\nabound\\nabounds\\nabundance\\nabundant\\naccessable\\naccessible\\nacclaim\\nacclaimed\\nacclamation\\naccolade\\naccolades\\naccommodative\\naccomodative\\naccomplish\\naccomplished\\naccomplishment\\naccomplishments\\naccurate\\naccurately\\n'"
      ]
     },
     "execution_count": 18,
     "metadata": {},
     "output_type": "execute_result"
    }
   ],
   "source": [
    "with open(\"D:\\\\lab\\\\Dataset\\\\Positive_words.txt\", 'r') as file:\n",
    "    positive = file.read()\n",
    "positive[:210]    "
   ]
  },
  {
   "cell_type": "code",
   "execution_count": 19,
   "id": "66ed38c6",
   "metadata": {},
   "outputs": [
    {
     "data": {
      "text/plain": [
       "'a+,abound,abounds,abundance,abundant,accessable,accessible,acclaim,acclaimed,acclamation,accolade,accolades,accommodative,accomodative,accomplish,accomplished,accomplishment,accomplishments,accurate,accurately,'"
      ]
     },
     "execution_count": 19,
     "metadata": {},
     "output_type": "execute_result"
    }
   ],
   "source": [
    "positive = positive.replace('\\n',',')\n",
    "positive[:210]"
   ]
  },
  {
   "cell_type": "code",
   "execution_count": 20,
   "id": "fc1387e8",
   "metadata": {},
   "outputs": [
    {
     "name": "stdout",
     "output_type": "stream",
     "text": [
      "['hear', 'revolution', 'understand', 'revolution', 'replace', 'faster', 'rapid', 'intelligence', 'enable', 'enhance', 'evolution', 'access', 'advance', 'intelligence', 'simplest', 'intelligence', 'robust', 'enable', 'problem', 'simple', 'perform', 'human', 'human', 'perform', 'performing', 'perform', 'understand', 'risk', 'user', 'risk', 'risk', 'thumb', 'accurate', 'scale', 'high', 'risk', 'amount', 'valuable', 'stored', 'risk', 'helped', 'risk', 'helped', 'work', 'improve', 'scale', 'competitive', 'good', 'efficient', 'user', 'friendly', 'problem', 'grow', 'reach', 'made', 'performing', 'structured', 'informed', 'construct', 'effective', 'future', 'wave', 'important', 'survival', 'smart', 'bound', 'intelligence', 'pace', 'positive', 'power', 'greatest', 'simplifying', 'accurate', 'efficient', 'capability', 'deal', 'human', 'capacity', 'human', 'serve', 'flawless', 'future', 'high', 'cost', 'play', 'significant', 'future', 'bright']\n"
     ]
    },
    {
     "data": {
      "text/plain": [
       "88"
      ]
     },
     "execution_count": 20,
     "metadata": {},
     "output_type": "execute_result"
    }
   ],
   "source": [
    "positive_words = [i for i in new_texts if i in positive]\n",
    "print(positive_words)\n",
    "len(positive_words)"
   ]
  },
  {
   "cell_type": "markdown",
   "id": "1b59646d",
   "metadata": {},
   "source": [
    "#### positive Score\n"
   ]
  },
  {
   "cell_type": "code",
   "execution_count": 21,
   "id": "7d0fbab1",
   "metadata": {},
   "outputs": [
    {
     "name": "stdout",
     "output_type": "stream",
     "text": [
      "88\n"
     ]
    }
   ],
   "source": [
    "pos_score = len(positive_words)\n",
    "print(pos_score)"
   ]
  },
  {
   "cell_type": "markdown",
   "id": "54a6cc12",
   "metadata": {},
   "source": [
    "#### Negative Score"
   ]
  },
  {
   "cell_type": "code",
   "execution_count": 22,
   "id": "df0766cd",
   "metadata": {},
   "outputs": [
    {
     "name": "stdout",
     "output_type": "stream",
     "text": [
      "87\n"
     ]
    }
   ],
   "source": [
    "neg_score=len(negative_words)\n",
    "print(neg_score)"
   ]
  },
  {
   "cell_type": "markdown",
   "id": "84da7ab7",
   "metadata": {},
   "source": [
    "#### Polarity Score"
   ]
  },
  {
   "cell_type": "code",
   "execution_count": 23,
   "id": "21e88c2b",
   "metadata": {},
   "outputs": [
    {
     "data": {
      "text/plain": [
       "0.01"
      ]
     },
     "execution_count": 23,
     "metadata": {},
     "output_type": "execute_result"
    }
   ],
   "source": [
    "Polarity_Score = (pos_score - neg_score)/((pos_score + neg_score) + 0.000001)\n",
    "round(Polarity_Score,2)"
   ]
  },
  {
   "cell_type": "code",
   "execution_count": 24,
   "id": "08bcb4ab",
   "metadata": {},
   "outputs": [
    {
     "name": "stdout",
     "output_type": "stream",
     "text": [
      "number of words after cleaning : 678\n"
     ]
    }
   ],
   "source": [
    "word_count = len(new_texts)\n",
    "print(\"number of words after cleaning :\",word_count)"
   ]
  },
  {
   "cell_type": "markdown",
   "id": "16495ba1",
   "metadata": {},
   "source": [
    "#### Subjectivity Score"
   ]
  },
  {
   "cell_type": "code",
   "execution_count": 25,
   "id": "841713a3",
   "metadata": {},
   "outputs": [
    {
     "data": {
      "text/plain": [
       "0.26"
      ]
     },
     "execution_count": 25,
     "metadata": {},
     "output_type": "execute_result"
    }
   ],
   "source": [
    "Subjectivity_Score = (pos_score + neg_score)/ ((word_count) + 0.000001)\n",
    "round(Subjectivity_Score,2)"
   ]
  },
  {
   "cell_type": "markdown",
   "id": "0d7c370e",
   "metadata": {},
   "source": [
    "# Analysis of Readability"
   ]
  },
  {
   "cell_type": "code",
   "execution_count": 26,
   "id": "10209a7a",
   "metadata": {},
   "outputs": [
    {
     "data": {
      "text/plain": [
       "1235"
      ]
     },
     "execution_count": 26,
     "metadata": {},
     "output_type": "execute_result"
    }
   ],
   "source": [
    "import nltk\n",
    "from nltk.tokenize import word_tokenize\n",
    "word_tokens = nltk.word_tokenize(texts)\n",
    "No_of_words = len(word_tokens)\n",
    "No_of_words"
   ]
  },
  {
   "cell_type": "code",
   "execution_count": 27,
   "id": "bfac2ab7",
   "metadata": {},
   "outputs": [
    {
     "data": {
      "text/plain": [
       "54"
      ]
     },
     "execution_count": 27,
     "metadata": {},
     "output_type": "execute_result"
    }
   ],
   "source": [
    "sent_tokens = nltk.sent_tokenize(texts)\n",
    "No_of_sents = len(sent_tokens)\n",
    "No_of_sents "
   ]
  },
  {
   "cell_type": "markdown",
   "id": "1576acfe",
   "metadata": {},
   "source": [
    "### Average sentence Length\n"
   ]
  },
  {
   "cell_type": "code",
   "execution_count": 28,
   "id": "11d6a7ec",
   "metadata": {},
   "outputs": [
    {
     "data": {
      "text/plain": [
       "22.87"
      ]
     },
     "execution_count": 28,
     "metadata": {},
     "output_type": "execute_result"
    }
   ],
   "source": [
    "Avg_Sents_Length = No_of_words / No_of_sents\n",
    "round(Avg_Sents_Length,2)"
   ]
  },
  {
   "cell_type": "markdown",
   "id": "bc20ee3d",
   "metadata": {},
   "source": [
    "### Percentage of Complex words\n",
    "Complex words: words with more than 2 syllable are called complex words"
   ]
  },
  {
   "cell_type": "code",
   "execution_count": 29,
   "id": "eba6a8b1",
   "metadata": {},
   "outputs": [
    {
     "name": "stdout",
     "output_type": "stream",
     "text": [
      "Number of complex words: 238\n",
      "Total number of words: 7642\n"
     ]
    }
   ],
   "source": [
    "from nltk.corpus import cmudict\n",
    "cmud = cmudict.dict()\n",
    "\n",
    "# Defining a function to count syllables in a word\n",
    "def count_syllables(word):\n",
    "    phonemes = cmud[word.lower()][0] \n",
    "    return len([s for s in phonemes if s[-1].isdigit()])\n",
    "\n",
    "# Identifing complex words\n",
    "w_tokens = [i for i in word_tokens if i in cmud]\n",
    "complex_words = [word for word in w_tokens if count_syllables(word) > 2]\n",
    "\n",
    "# Calculatingnumber of complex words\n",
    "num_complex_words = len(complex_words)\n",
    "\n",
    "print(\"Number of complex words:\", num_complex_words)\n",
    "print(\"Total number of words:\", len(texts))"
   ]
  },
  {
   "cell_type": "code",
   "execution_count": 30,
   "id": "e982c0a1",
   "metadata": {},
   "outputs": [
    {
     "data": {
      "text/plain": [
       "32.11"
      ]
     },
     "execution_count": 30,
     "metadata": {},
     "output_type": "execute_result"
    }
   ],
   "source": [
    "Perc_of_Complex_words = len(texts) / num_complex_words\n",
    "round(Perc_of_Complex_words,2)"
   ]
  },
  {
   "cell_type": "markdown",
   "id": "77e948d1",
   "metadata": {},
   "source": [
    "### Fog Index"
   ]
  },
  {
   "cell_type": "code",
   "execution_count": 31,
   "id": "95fb10bb",
   "metadata": {},
   "outputs": [
    {
     "name": "stdout",
     "output_type": "stream",
     "text": [
      "Average sentence length: 54.0\n"
     ]
    }
   ],
   "source": [
    "# Tokenize each sentence into words\n",
    "words = [word_tokens for sentence in sent_tokens]\n",
    "\n",
    "# Calculate the average sentence length\n",
    "avg_sent_len = sum(No_of_sents for sentence in words) / No_of_sents\n",
    "\n",
    "print(\"Average sentence length:\", avg_sent_len)\n"
   ]
  },
  {
   "cell_type": "code",
   "execution_count": 32,
   "id": "38f5a93b",
   "metadata": {},
   "outputs": [
    {
     "data": {
      "text/plain": [
       "34.44"
      ]
     },
     "execution_count": 32,
     "metadata": {},
     "output_type": "execute_result"
    }
   ],
   "source": [
    "Fog_index = 0.4 * (avg_sent_len + Perc_of_Complex_words)\n",
    "round(Fog_index,2)"
   ]
  },
  {
   "cell_type": "markdown",
   "id": "5b4aacea",
   "metadata": {},
   "source": [
    "# Average Number of Words Per Sentence"
   ]
  },
  {
   "cell_type": "code",
   "execution_count": 33,
   "id": "45da1407",
   "metadata": {},
   "outputs": [
    {
     "data": {
      "text/plain": [
       "22.87"
      ]
     },
     "execution_count": 33,
     "metadata": {},
     "output_type": "execute_result"
    }
   ],
   "source": [
    "avg_no_of_words_per_sent = No_of_words / No_of_sents\n",
    "round(avg_no_of_words_per_sent,2)"
   ]
  },
  {
   "cell_type": "markdown",
   "id": "f2d9b493",
   "metadata": {},
   "source": [
    "# Complex Word Count"
   ]
  },
  {
   "cell_type": "code",
   "execution_count": 34,
   "id": "75304424",
   "metadata": {},
   "outputs": [
    {
     "name": "stdout",
     "output_type": "stream",
     "text": [
      "complex word count: 238\n"
     ]
    }
   ],
   "source": [
    "from nltk.corpus import cmudict\n",
    "cmud = cmudict.dict()\n",
    "\n",
    "# Defining a function to count syllables in a word\n",
    "def count_syllables(word):\n",
    "    phonemes = cmud[word.lower()][0] \n",
    "    return len([s for s in phonemes if s[-1].isdigit()])\n",
    "\n",
    "# Identifing complex words\n",
    "w_tokens = [i for i in word_tokens if i in cmud]\n",
    "complex_words = [word for word in w_tokens if count_syllables(word) > 2]\n",
    "\n",
    "# Calculatingnumber of complex words\n",
    "num_complex_words = len(complex_words)\n",
    "\n",
    "print(\"complex word count:\", num_complex_words)"
   ]
  },
  {
   "cell_type": "markdown",
   "id": "99ea5188",
   "metadata": {},
   "source": [
    "# Word Count\n",
    "number of words after cleaning"
   ]
  },
  {
   "cell_type": "code",
   "execution_count": 35,
   "id": "b4fb0c72",
   "metadata": {},
   "outputs": [
    {
     "data": {
      "text/plain": [
       "678"
      ]
     },
     "execution_count": 35,
     "metadata": {},
     "output_type": "execute_result"
    }
   ],
   "source": [
    "len(new_texts)"
   ]
  },
  {
   "cell_type": "markdown",
   "id": "ca8076ff",
   "metadata": {},
   "source": [
    "# Syllable Count Per Word"
   ]
  },
  {
   "cell_type": "code",
   "execution_count": 36,
   "id": "bc568045",
   "metadata": {},
   "outputs": [
    {
     "name": "stdout",
     "output_type": "stream",
     "text": [
      "Enter a word to get syllable: calculation\n",
      "Number of syllable in a word : 4\n"
     ]
    }
   ],
   "source": [
    "word = input(\"Enter a word to get syllable: \")\n",
    "def count_syllables(word):\n",
    "    phonemes = cmud[word.lower()][0] \n",
    "    return len([s for s in phonemes if s[-1].isdigit()])\n",
    "\n",
    "print(\"Number of syllable in a word :\",count_syllables(word))"
   ]
  },
  {
   "cell_type": "markdown",
   "id": "1d3a18f6",
   "metadata": {},
   "source": [
    "# Personal Pronouns"
   ]
  },
  {
   "cell_type": "code",
   "execution_count": 37,
   "id": "0b8e0d2d",
   "metadata": {},
   "outputs": [
    {
     "name": "stdout",
     "output_type": "stream",
     "text": [
      "Personal pronoun frequency: {'we': 7, 'us': 3, 'them': 4, 'it': 10, 'you': 2, 'her': 1, 'they': 3}\n",
      "total number of pronouns in a article : 30\n"
     ]
    }
   ],
   "source": [
    "import re\n",
    "\n",
    "# Define a regex pattern to match personal pronouns\n",
    "pattern = r'\\b(I|you|he|she|it|we|they|me|him|her|us|them)\\b'\n",
    "\n",
    "# Count the frequency of personal pronouns\n",
    "pronoun_freq = {}\n",
    "for pronoun in re.findall(pattern, texts, re.IGNORECASE):\n",
    "    pronoun = pronoun.lower()\n",
    "    if pronoun in pronoun_freq:\n",
    "        pronoun_freq[pronoun] += 1\n",
    "    else:\n",
    "        pronoun_freq[pronoun] = 1\n",
    "\n",
    "print(\"Personal pronoun frequency:\", pronoun_freq)\n",
    "def returnSum(dict):\n",
    " \n",
    "    sum = 0\n",
    "    for i in pronoun_freq.values():\n",
    "        sum = sum + i\n",
    " \n",
    "    return sum\n",
    "print(\"total number of pronouns in a article :\",returnSum(pronoun_freq))"
   ]
  },
  {
   "cell_type": "markdown",
   "id": "e3fc87f8",
   "metadata": {},
   "source": [
    "# Average Word Length"
   ]
  },
  {
   "cell_type": "code",
   "execution_count": 38,
   "id": "5bde37d9",
   "metadata": {},
   "outputs": [
    {
     "name": "stdout",
     "output_type": "stream",
     "text": [
      "Average word length: 5.19\n"
     ]
    }
   ],
   "source": [
    "# Calculate the total number of characters in all words\n",
    "total_chars = sum(len(word) for word in word_tokens)\n",
    "\n",
    "avg_word_length = total_chars / No_of_words\n",
    "\n",
    "print(\"Average word length:\", round(avg_word_length,2))\n"
   ]
  },
  {
   "cell_type": "code",
   "execution_count": null,
   "id": "63dc25ad",
   "metadata": {},
   "outputs": [],
   "source": []
  },
  {
   "cell_type": "code",
   "execution_count": null,
   "id": "819012c5",
   "metadata": {},
   "outputs": [],
   "source": []
  }
 ],
 "metadata": {
  "kernelspec": {
   "display_name": "Python 3",
   "language": "python",
   "name": "python3"
  },
  "language_info": {
   "codemirror_mode": {
    "name": "ipython",
    "version": 3
   },
   "file_extension": ".py",
   "mimetype": "text/x-python",
   "name": "python",
   "nbconvert_exporter": "python",
   "pygments_lexer": "ipython3",
   "version": "3.8.8"
  }
 },
 "nbformat": 4,
 "nbformat_minor": 5
}
