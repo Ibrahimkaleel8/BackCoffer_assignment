{
 "cells": [
  {
   "cell_type": "markdown",
   "id": "b9312f26",
   "metadata": {},
   "source": [
    "# Data scraping"
   ]
  },
  {
   "cell_type": "code",
   "execution_count": 1,
   "id": "ef4785ca",
   "metadata": {},
   "outputs": [],
   "source": [
    "import nltk\n",
    "import requests\n",
    "from bs4 import BeautifulSoup"
   ]
  },
  {
   "cell_type": "code",
   "execution_count": 2,
   "id": "ac2f2459",
   "metadata": {},
   "outputs": [],
   "source": [
    "req = requests.get(\"https://insights.blackcoffer.com/why-does-your-business-need-a-chatbot/\")"
   ]
  },
  {
   "cell_type": "code",
   "execution_count": 3,
   "id": "45f9fa09",
   "metadata": {},
   "outputs": [],
   "source": [
    "soup = BeautifulSoup(req.content, \"html.parser\")\n",
    "res = soup.title\n",
    "paras = soup.find_all('p')"
   ]
  },
  {
   "cell_type": "code",
   "execution_count": 4,
   "id": "dbb256b2",
   "metadata": {
    "scrolled": true
   },
   "outputs": [
    {
     "name": "stdout",
     "output_type": "stream",
     "text": [
      "Mr. Sakamoto is a bonsai artist, lives downtown Kyoto, Japan. Bonsai is a Japanese art form that is the cultivation of small trees in a small or medium container. He is in this field of business for the last ten years and he loves what he does on a daily basis. People from different cities in Japan, come to buy his artwork. But, in the early stage of his business, he was just another regular Bosai artist. His popularity has increased because of the stories he tells for every art he is selling. His customer immediately loved him for this while buying A Bonsai art. He loved to sell his customer with his artwork and a story related to that product which resurrects his presence through his art in customers. Soon enough his business thrived and nowadays he is always busy. After the digital revolution, although his sales increased, he was not happy. He was not satisfied. Something is eating up his mind day by day. He could not understand what’s the reason behind his remorse. A chatbot is an awesome invention of the digital revolution. It is the real-life embodiment of Customer Engagement. Every business needs this feature- will be an understatement. Because Customer engagement is the base of any business. The chatbot does the exact thing digitally. It helps customers to answer the queries and tell about the product that the business has to offer is a fully automated way with vibrant customizations. Mr. Sakamoto is running his business for the last fifteen years now. And now he is happy that he was not for the past couple of years. The rationale behind his happiness is the chatbot. Though he has a website and app to sell his Bonsai art, he could not engage with the customers in the way he wanted to. He has trained his employees and apprentices, but they are not providing the same service in the way he does. He was unsatisfied and the chatbot relives him from his sadness. He has done all that at affordable prices in no time. Let’s understand the Mr. Sakamoto’s “Mondai Nai”- perspective about why chatbot is the answer of his problems. This is the fundamental and root cause for which Mr. Sakamoto has to implement the chatbot in the first place. His stories are embedded with each art. The product which he sells needs this story to be with it. His stories which were not been told to all the customers before are now sharing with this chatbot and building the trust between them. We all can agree on this one statement that trust is the most impactful aspect, maybe the best of aspects, in the relation between any customer and business-owner, whether the business is small, medium, or large. Millennials, a word that was not introduced before 1990. The generation which is stuck in between Gen-x and Gen-y. A generation of people accustomed to both digitization and old culture. They are the most targeted audience in this era. What else would be more approachable to this generation than a chatbot? It’s easy, less time consuming to use. Mr. Sakamoto is now one of the few Gen-x persons who can do business with the millennial so easily. Mr. Sakamoto has some employees and apprentices. He has trained them as per his needs. But there is a limit. They can’t deliver the exact things that he can or the way he does. Neither chatbot can do that exactly, it will accurately follow the instructions. Not only the chatbot solve the queries of the customer in his way, but also give a recommendation to the product in the way he wants too. Is there any more attribute he would care about that? Absolutely no! The most expensive thing for any businessman is the return of their customer with an empty hand because of his unavailability. A chatbot is a perfect way to solve it. For Mr. Sakamoto’s customized chatbot is not only present for customers in their availability, but also It was giving the response to the customer in all the time zone, all over the world. Mr. Sakamoto wouldn’t be happier for this feature. In the era of globalization, what is more, helpful than a chatbot? It can be customized in any language. It can be accessed by any human being residing in any part of the world. And at the end of the day, when that foreigner is happy with the buy and the felicitation and says “Arigato” but in his own language, at that moment he feels so warm and happy. Handling a lot of customers is really hard. He assigned employees, but the rate is growing fast. So, in the competition of the market, Mr. Sakamoto took the help of a chatbot. Now this automated customized application is handling a greater number of customers than his employees can do. His business is growing exponentially. Now, when you found out why Mr. Sakamoto is happy and his business is growing in this competitive industry then, do you still have a question in mind that why does your business need a chatbot?\n"
     ]
    }
   ],
   "source": [
    "texts = \" \".join([paragraph.text.strip() for paragraph in paras])\n",
    "print(texts)"
   ]
  },
  {
   "cell_type": "code",
   "execution_count": 5,
   "id": "e79f5f60",
   "metadata": {},
   "outputs": [
    {
     "data": {
      "text/plain": [
       "4814"
      ]
     },
     "execution_count": 5,
     "metadata": {},
     "output_type": "execute_result"
    }
   ],
   "source": [
    "len(texts)"
   ]
  },
  {
   "cell_type": "markdown",
   "id": "db8f1fcc",
   "metadata": {},
   "source": [
    "Removing Punctuation"
   ]
  },
  {
   "cell_type": "code",
   "execution_count": 6,
   "id": "5285c8a8",
   "metadata": {},
   "outputs": [
    {
     "data": {
      "text/plain": [
       "4814"
      ]
     },
     "execution_count": 6,
     "metadata": {},
     "output_type": "execute_result"
    }
   ],
   "source": [
    "import re\n",
    "import string\n",
    "texts = re.sub(r'[\\'\\“\\”\\()\\%\\,\\-\\'\\’\\?\\ ]', ' ', texts)\n",
    "texts[0:200]\n",
    "len(texts)"
   ]
  },
  {
   "cell_type": "markdown",
   "id": "4fafe7be",
   "metadata": {},
   "source": [
    "# Removing Stopwords"
   ]
  },
  {
   "cell_type": "code",
   "execution_count": 7,
   "id": "089b8663",
   "metadata": {},
   "outputs": [],
   "source": [
    "from nltk.tokenize import word_tokenize"
   ]
  },
  {
   "cell_type": "code",
   "execution_count": 8,
   "id": "280876b0",
   "metadata": {},
   "outputs": [
    {
     "data": {
      "text/plain": [
       "['Mr.',\n",
       " 'Sakamoto',\n",
       " 'is',\n",
       " 'a',\n",
       " 'bonsai',\n",
       " 'artist',\n",
       " 'lives',\n",
       " 'downtown',\n",
       " 'Kyoto',\n",
       " 'Japan',\n",
       " '.',\n",
       " 'Bonsai',\n",
       " 'is',\n",
       " 'a',\n",
       " 'Japanese',\n",
       " 'art',\n",
       " 'form',\n",
       " 'that',\n",
       " 'is',\n",
       " 'the',\n",
       " 'cultivation',\n",
       " 'of',\n",
       " 'small',\n",
       " 'trees',\n",
       " 'in',\n",
       " 'a',\n",
       " 'small',\n",
       " 'or',\n",
       " 'medium',\n",
       " 'container',\n",
       " '.',\n",
       " 'He',\n",
       " 'is',\n",
       " 'in',\n",
       " 'this',\n",
       " 'field',\n",
       " 'of',\n",
       " 'business',\n",
       " 'for',\n",
       " 'the',\n",
       " 'last',\n",
       " 'ten',\n",
       " 'years',\n",
       " 'and',\n",
       " 'he',\n",
       " 'loves',\n",
       " 'what',\n",
       " 'he',\n",
       " 'does',\n",
       " 'on',\n",
       " 'a',\n",
       " 'daily',\n",
       " 'basis',\n",
       " '.',\n",
       " 'People',\n",
       " 'from',\n",
       " 'different',\n",
       " 'cities',\n",
       " 'in',\n",
       " 'Japan',\n",
       " 'come',\n",
       " 'to',\n",
       " 'buy',\n",
       " 'his',\n",
       " 'artwork',\n",
       " '.',\n",
       " 'But',\n",
       " 'in',\n",
       " 'the',\n",
       " 'early',\n",
       " 'stage',\n",
       " 'of',\n",
       " 'his',\n",
       " 'business',\n",
       " 'he',\n",
       " 'was',\n",
       " 'just',\n",
       " 'another',\n",
       " 'regular',\n",
       " 'Bosai',\n",
       " 'artist',\n",
       " '.',\n",
       " 'His',\n",
       " 'popularity',\n",
       " 'has',\n",
       " 'increased',\n",
       " 'because',\n",
       " 'of',\n",
       " 'the',\n",
       " 'stories',\n",
       " 'he',\n",
       " 'tells',\n",
       " 'for',\n",
       " 'every',\n",
       " 'art',\n",
       " 'he',\n",
       " 'is',\n",
       " 'selling',\n",
       " '.',\n",
       " 'His',\n",
       " 'customer',\n",
       " 'immediately',\n",
       " 'loved',\n",
       " 'him',\n",
       " 'for',\n",
       " 'this',\n",
       " 'while',\n",
       " 'buying',\n",
       " 'A',\n",
       " 'Bonsai',\n",
       " 'art',\n",
       " '.',\n",
       " 'He',\n",
       " 'loved',\n",
       " 'to',\n",
       " 'sell',\n",
       " 'his',\n",
       " 'customer',\n",
       " 'with',\n",
       " 'his',\n",
       " 'artwork',\n",
       " 'and',\n",
       " 'a',\n",
       " 'story',\n",
       " 'related',\n",
       " 'to',\n",
       " 'that',\n",
       " 'product',\n",
       " 'which',\n",
       " 'resurrects',\n",
       " 'his',\n",
       " 'presence',\n",
       " 'through',\n",
       " 'his',\n",
       " 'art',\n",
       " 'in',\n",
       " 'customers',\n",
       " '.',\n",
       " 'Soon',\n",
       " 'enough',\n",
       " 'his',\n",
       " 'business',\n",
       " 'thrived',\n",
       " 'and',\n",
       " 'nowadays',\n",
       " 'he',\n",
       " 'is',\n",
       " 'always',\n",
       " 'busy',\n",
       " '.',\n",
       " 'After',\n",
       " 'the',\n",
       " 'digital',\n",
       " 'revolution',\n",
       " 'although',\n",
       " 'his',\n",
       " 'sales',\n",
       " 'increased',\n",
       " 'he',\n",
       " 'was',\n",
       " 'not',\n",
       " 'happy',\n",
       " '.',\n",
       " 'He',\n",
       " 'was',\n",
       " 'not',\n",
       " 'satisfied',\n",
       " '.',\n",
       " 'Something',\n",
       " 'is',\n",
       " 'eating',\n",
       " 'up',\n",
       " 'his',\n",
       " 'mind',\n",
       " 'day',\n",
       " 'by',\n",
       " 'day',\n",
       " '.',\n",
       " 'He',\n",
       " 'could',\n",
       " 'not',\n",
       " 'understand',\n",
       " 'what',\n",
       " 's',\n",
       " 'the',\n",
       " 'reason',\n",
       " 'behind',\n",
       " 'his',\n",
       " 'remorse',\n",
       " '.',\n",
       " 'A',\n",
       " 'chatbot',\n",
       " 'is',\n",
       " 'an',\n",
       " 'awesome',\n",
       " 'invention',\n",
       " 'of',\n",
       " 'the',\n",
       " 'digital',\n",
       " 'revolution',\n",
       " '.',\n",
       " 'It',\n",
       " 'is',\n",
       " 'the',\n",
       " 'real',\n",
       " 'life',\n",
       " 'embodiment',\n",
       " 'of',\n",
       " 'Customer',\n",
       " 'Engagement',\n",
       " '.',\n",
       " 'Every',\n",
       " 'business',\n",
       " 'needs',\n",
       " 'this',\n",
       " 'feature',\n",
       " 'will',\n",
       " 'be',\n",
       " 'an',\n",
       " 'understatement',\n",
       " '.',\n",
       " 'Because',\n",
       " 'Customer',\n",
       " 'engagement',\n",
       " 'is',\n",
       " 'the',\n",
       " 'base',\n",
       " 'of',\n",
       " 'any',\n",
       " 'business',\n",
       " '.',\n",
       " 'The',\n",
       " 'chatbot',\n",
       " 'does',\n",
       " 'the',\n",
       " 'exact',\n",
       " 'thing',\n",
       " 'digitally',\n",
       " '.',\n",
       " 'It',\n",
       " 'helps',\n",
       " 'customers',\n",
       " 'to',\n",
       " 'answer',\n",
       " 'the',\n",
       " 'queries',\n",
       " 'and',\n",
       " 'tell',\n",
       " 'about',\n",
       " 'the',\n",
       " 'product',\n",
       " 'that',\n",
       " 'the',\n",
       " 'business',\n",
       " 'has',\n",
       " 'to',\n",
       " 'offer',\n",
       " 'is',\n",
       " 'a',\n",
       " 'fully',\n",
       " 'automated',\n",
       " 'way',\n",
       " 'with',\n",
       " 'vibrant',\n",
       " 'customizations',\n",
       " '.',\n",
       " 'Mr.',\n",
       " 'Sakamoto',\n",
       " 'is',\n",
       " 'running',\n",
       " 'his',\n",
       " 'business',\n",
       " 'for',\n",
       " 'the',\n",
       " 'last',\n",
       " 'fifteen',\n",
       " 'years',\n",
       " 'now',\n",
       " '.',\n",
       " 'And',\n",
       " 'now',\n",
       " 'he',\n",
       " 'is',\n",
       " 'happy',\n",
       " 'that',\n",
       " 'he',\n",
       " 'was',\n",
       " 'not',\n",
       " 'for',\n",
       " 'the',\n",
       " 'past',\n",
       " 'couple',\n",
       " 'of',\n",
       " 'years',\n",
       " '.',\n",
       " 'The',\n",
       " 'rationale',\n",
       " 'behind',\n",
       " 'his',\n",
       " 'happiness',\n",
       " 'is',\n",
       " 'the',\n",
       " 'chatbot',\n",
       " '.',\n",
       " 'Though',\n",
       " 'he',\n",
       " 'has',\n",
       " 'a',\n",
       " 'website',\n",
       " 'and',\n",
       " 'app',\n",
       " 'to',\n",
       " 'sell',\n",
       " 'his',\n",
       " 'Bonsai',\n",
       " 'art',\n",
       " 'he',\n",
       " 'could',\n",
       " 'not',\n",
       " 'engage',\n",
       " 'with',\n",
       " 'the',\n",
       " 'customers',\n",
       " 'in',\n",
       " 'the',\n",
       " 'way',\n",
       " 'he',\n",
       " 'wanted',\n",
       " 'to',\n",
       " '.',\n",
       " 'He',\n",
       " 'has',\n",
       " 'trained',\n",
       " 'his',\n",
       " 'employees',\n",
       " 'and',\n",
       " 'apprentices',\n",
       " 'but',\n",
       " 'they',\n",
       " 'are',\n",
       " 'not',\n",
       " 'providing',\n",
       " 'the',\n",
       " 'same',\n",
       " 'service',\n",
       " 'in',\n",
       " 'the',\n",
       " 'way',\n",
       " 'he',\n",
       " 'does',\n",
       " '.',\n",
       " 'He',\n",
       " 'was',\n",
       " 'unsatisfied',\n",
       " 'and',\n",
       " 'the',\n",
       " 'chatbot',\n",
       " 'relives',\n",
       " 'him',\n",
       " 'from',\n",
       " 'his',\n",
       " 'sadness',\n",
       " '.',\n",
       " 'He',\n",
       " 'has',\n",
       " 'done',\n",
       " 'all',\n",
       " 'that',\n",
       " 'at',\n",
       " 'affordable',\n",
       " 'prices',\n",
       " 'in',\n",
       " 'no',\n",
       " 'time',\n",
       " '.',\n",
       " 'Let',\n",
       " 's',\n",
       " 'understand',\n",
       " 'the',\n",
       " 'Mr.',\n",
       " 'Sakamoto',\n",
       " 's',\n",
       " 'Mondai',\n",
       " 'Nai',\n",
       " 'perspective',\n",
       " 'about',\n",
       " 'why',\n",
       " 'chatbot',\n",
       " 'is',\n",
       " 'the',\n",
       " 'answer',\n",
       " 'of',\n",
       " 'his',\n",
       " 'problems',\n",
       " '.',\n",
       " 'This',\n",
       " 'is',\n",
       " 'the',\n",
       " 'fundamental',\n",
       " 'and',\n",
       " 'root',\n",
       " 'cause',\n",
       " 'for',\n",
       " 'which',\n",
       " 'Mr.',\n",
       " 'Sakamoto',\n",
       " 'has',\n",
       " 'to',\n",
       " 'implement',\n",
       " 'the',\n",
       " 'chatbot',\n",
       " 'in',\n",
       " 'the',\n",
       " 'first',\n",
       " 'place',\n",
       " '.',\n",
       " 'His',\n",
       " 'stories',\n",
       " 'are',\n",
       " 'embedded',\n",
       " 'with',\n",
       " 'each',\n",
       " 'art',\n",
       " '.',\n",
       " 'The',\n",
       " 'product',\n",
       " 'which',\n",
       " 'he',\n",
       " 'sells',\n",
       " 'needs',\n",
       " 'this',\n",
       " 'story',\n",
       " 'to',\n",
       " 'be',\n",
       " 'with',\n",
       " 'it',\n",
       " '.',\n",
       " 'His',\n",
       " 'stories',\n",
       " 'which',\n",
       " 'were',\n",
       " 'not',\n",
       " 'been',\n",
       " 'told',\n",
       " 'to',\n",
       " 'all',\n",
       " 'the',\n",
       " 'customers',\n",
       " 'before',\n",
       " 'are',\n",
       " 'now',\n",
       " 'sharing',\n",
       " 'with',\n",
       " 'this',\n",
       " 'chatbot',\n",
       " 'and',\n",
       " 'building',\n",
       " 'the',\n",
       " 'trust',\n",
       " 'between',\n",
       " 'them',\n",
       " '.',\n",
       " 'We',\n",
       " 'all',\n",
       " 'can',\n",
       " 'agree',\n",
       " 'on',\n",
       " 'this',\n",
       " 'one',\n",
       " 'statement',\n",
       " 'that',\n",
       " 'trust',\n",
       " 'is',\n",
       " 'the',\n",
       " 'most',\n",
       " 'impactful',\n",
       " 'aspect',\n",
       " 'maybe',\n",
       " 'the',\n",
       " 'best',\n",
       " 'of',\n",
       " 'aspects',\n",
       " 'in',\n",
       " 'the',\n",
       " 'relation',\n",
       " 'between',\n",
       " 'any',\n",
       " 'customer',\n",
       " 'and',\n",
       " 'business',\n",
       " 'owner',\n",
       " 'whether',\n",
       " 'the',\n",
       " 'business',\n",
       " 'is',\n",
       " 'small',\n",
       " 'medium',\n",
       " 'or',\n",
       " 'large',\n",
       " '.',\n",
       " 'Millennials',\n",
       " 'a',\n",
       " 'word',\n",
       " 'that',\n",
       " 'was',\n",
       " 'not',\n",
       " 'introduced',\n",
       " 'before',\n",
       " '1990',\n",
       " '.',\n",
       " 'The',\n",
       " 'generation',\n",
       " 'which',\n",
       " 'is',\n",
       " 'stuck',\n",
       " 'in',\n",
       " 'between',\n",
       " 'Gen',\n",
       " 'x',\n",
       " 'and',\n",
       " 'Gen',\n",
       " 'y',\n",
       " '.',\n",
       " 'A',\n",
       " 'generation',\n",
       " 'of',\n",
       " 'people',\n",
       " 'accustomed',\n",
       " 'to',\n",
       " 'both',\n",
       " 'digitization',\n",
       " 'and',\n",
       " 'old',\n",
       " 'culture',\n",
       " '.',\n",
       " 'They',\n",
       " 'are',\n",
       " 'the',\n",
       " 'most',\n",
       " 'targeted',\n",
       " 'audience',\n",
       " 'in',\n",
       " 'this',\n",
       " 'era',\n",
       " '.',\n",
       " 'What',\n",
       " 'else',\n",
       " 'would',\n",
       " 'be',\n",
       " 'more',\n",
       " 'approachable',\n",
       " 'to',\n",
       " 'this',\n",
       " 'generation',\n",
       " 'than',\n",
       " 'a',\n",
       " 'chatbot',\n",
       " 'It',\n",
       " 's',\n",
       " 'easy',\n",
       " 'less',\n",
       " 'time',\n",
       " 'consuming',\n",
       " 'to',\n",
       " 'use',\n",
       " '.',\n",
       " 'Mr.',\n",
       " 'Sakamoto',\n",
       " 'is',\n",
       " 'now',\n",
       " 'one',\n",
       " 'of',\n",
       " 'the',\n",
       " 'few',\n",
       " 'Gen',\n",
       " 'x',\n",
       " 'persons',\n",
       " 'who',\n",
       " 'can',\n",
       " 'do',\n",
       " 'business',\n",
       " 'with',\n",
       " 'the',\n",
       " 'millennial',\n",
       " 'so',\n",
       " 'easily',\n",
       " '.',\n",
       " 'Mr.',\n",
       " 'Sakamoto',\n",
       " 'has',\n",
       " 'some',\n",
       " 'employees',\n",
       " 'and',\n",
       " 'apprentices',\n",
       " '.',\n",
       " 'He',\n",
       " 'has',\n",
       " 'trained',\n",
       " 'them',\n",
       " 'as',\n",
       " 'per',\n",
       " 'his',\n",
       " 'needs',\n",
       " '.',\n",
       " 'But',\n",
       " 'there',\n",
       " 'is',\n",
       " 'a',\n",
       " 'limit',\n",
       " '.',\n",
       " 'They',\n",
       " 'can',\n",
       " 't',\n",
       " 'deliver',\n",
       " 'the',\n",
       " 'exact',\n",
       " 'things',\n",
       " 'that',\n",
       " 'he',\n",
       " 'can',\n",
       " 'or',\n",
       " 'the',\n",
       " 'way',\n",
       " 'he',\n",
       " 'does',\n",
       " '.',\n",
       " 'Neither',\n",
       " 'chatbot',\n",
       " 'can',\n",
       " 'do',\n",
       " 'that',\n",
       " 'exactly',\n",
       " 'it',\n",
       " 'will',\n",
       " 'accurately',\n",
       " 'follow',\n",
       " 'the',\n",
       " 'instructions',\n",
       " '.',\n",
       " 'Not',\n",
       " 'only',\n",
       " 'the',\n",
       " 'chatbot',\n",
       " 'solve',\n",
       " 'the',\n",
       " 'queries',\n",
       " 'of',\n",
       " 'the',\n",
       " 'customer',\n",
       " 'in',\n",
       " 'his',\n",
       " 'way',\n",
       " 'but',\n",
       " 'also',\n",
       " 'give',\n",
       " 'a',\n",
       " 'recommendation',\n",
       " 'to',\n",
       " 'the',\n",
       " 'product',\n",
       " 'in',\n",
       " 'the',\n",
       " 'way',\n",
       " 'he',\n",
       " 'wants',\n",
       " 'too',\n",
       " '.',\n",
       " 'Is',\n",
       " 'there',\n",
       " 'any',\n",
       " 'more',\n",
       " 'attribute',\n",
       " 'he',\n",
       " 'would',\n",
       " 'care',\n",
       " 'about',\n",
       " 'that',\n",
       " 'Absolutely',\n",
       " 'no',\n",
       " '!',\n",
       " 'The',\n",
       " 'most',\n",
       " 'expensive',\n",
       " 'thing',\n",
       " 'for',\n",
       " 'any',\n",
       " 'businessman',\n",
       " 'is',\n",
       " 'the',\n",
       " 'return',\n",
       " 'of',\n",
       " 'their',\n",
       " 'customer',\n",
       " 'with',\n",
       " 'an',\n",
       " 'empty',\n",
       " 'hand',\n",
       " 'because',\n",
       " 'of',\n",
       " 'his',\n",
       " 'unavailability',\n",
       " '.',\n",
       " 'A',\n",
       " 'chatbot',\n",
       " 'is',\n",
       " 'a',\n",
       " 'perfect',\n",
       " 'way',\n",
       " 'to',\n",
       " 'solve',\n",
       " 'it',\n",
       " '.',\n",
       " 'For',\n",
       " 'Mr.',\n",
       " 'Sakamoto',\n",
       " 's',\n",
       " 'customized',\n",
       " 'chatbot',\n",
       " 'is',\n",
       " 'not',\n",
       " 'only',\n",
       " 'present',\n",
       " 'for',\n",
       " 'customers',\n",
       " 'in',\n",
       " 'their',\n",
       " 'availability',\n",
       " 'but',\n",
       " 'also',\n",
       " 'It',\n",
       " 'was',\n",
       " 'giving',\n",
       " 'the',\n",
       " 'response',\n",
       " 'to',\n",
       " 'the',\n",
       " 'customer',\n",
       " 'in',\n",
       " 'all',\n",
       " 'the',\n",
       " 'time',\n",
       " 'zone',\n",
       " 'all',\n",
       " 'over',\n",
       " 'the',\n",
       " 'world',\n",
       " '.',\n",
       " 'Mr.',\n",
       " 'Sakamoto',\n",
       " 'wouldn',\n",
       " 't',\n",
       " 'be',\n",
       " 'happier',\n",
       " 'for',\n",
       " 'this',\n",
       " 'feature',\n",
       " '.',\n",
       " 'In',\n",
       " 'the',\n",
       " 'era',\n",
       " 'of',\n",
       " 'globalization',\n",
       " 'what',\n",
       " 'is',\n",
       " 'more',\n",
       " 'helpful',\n",
       " 'than',\n",
       " 'a',\n",
       " 'chatbot',\n",
       " 'It',\n",
       " 'can',\n",
       " 'be',\n",
       " 'customized',\n",
       " 'in',\n",
       " 'any',\n",
       " 'language',\n",
       " '.',\n",
       " 'It',\n",
       " 'can',\n",
       " 'be',\n",
       " 'accessed',\n",
       " 'by',\n",
       " 'any',\n",
       " 'human',\n",
       " 'being',\n",
       " 'residing',\n",
       " 'in',\n",
       " 'any',\n",
       " 'part',\n",
       " 'of',\n",
       " 'the',\n",
       " 'world',\n",
       " '.',\n",
       " 'And',\n",
       " 'at',\n",
       " 'the',\n",
       " 'end',\n",
       " 'of',\n",
       " 'the',\n",
       " 'day',\n",
       " 'when',\n",
       " 'that',\n",
       " 'foreigner',\n",
       " 'is',\n",
       " 'happy',\n",
       " 'with',\n",
       " 'the',\n",
       " 'buy',\n",
       " 'and',\n",
       " 'the',\n",
       " 'felicitation',\n",
       " 'and',\n",
       " 'says',\n",
       " 'Arigato',\n",
       " 'but',\n",
       " 'in',\n",
       " 'his',\n",
       " 'own',\n",
       " 'language',\n",
       " 'at',\n",
       " 'that',\n",
       " 'moment',\n",
       " 'he',\n",
       " 'feels',\n",
       " 'so',\n",
       " 'warm',\n",
       " 'and',\n",
       " 'happy',\n",
       " '.',\n",
       " 'Handling',\n",
       " 'a',\n",
       " 'lot',\n",
       " 'of',\n",
       " 'customers',\n",
       " 'is',\n",
       " 'really',\n",
       " 'hard',\n",
       " '.',\n",
       " 'He',\n",
       " 'assigned',\n",
       " 'employees',\n",
       " 'but',\n",
       " 'the',\n",
       " 'rate',\n",
       " 'is',\n",
       " 'growing',\n",
       " 'fast',\n",
       " '.',\n",
       " 'So',\n",
       " 'in',\n",
       " 'the',\n",
       " 'competition',\n",
       " 'of',\n",
       " 'the',\n",
       " 'market',\n",
       " 'Mr.',\n",
       " 'Sakamoto',\n",
       " 'took',\n",
       " 'the',\n",
       " 'help',\n",
       " 'of',\n",
       " 'a',\n",
       " 'chatbot',\n",
       " '.',\n",
       " 'Now',\n",
       " 'this',\n",
       " 'automated',\n",
       " 'customized',\n",
       " 'application',\n",
       " 'is',\n",
       " 'handling',\n",
       " 'a',\n",
       " 'greater',\n",
       " 'number',\n",
       " 'of',\n",
       " 'customers',\n",
       " 'than',\n",
       " 'his',\n",
       " 'employees',\n",
       " 'can',\n",
       " 'do',\n",
       " '.',\n",
       " 'His',\n",
       " 'business',\n",
       " 'is',\n",
       " 'growing',\n",
       " 'exponentially',\n",
       " '.',\n",
       " 'Now',\n",
       " 'when',\n",
       " 'you',\n",
       " 'found',\n",
       " 'out',\n",
       " 'why',\n",
       " 'Mr.',\n",
       " 'Sakamoto',\n",
       " 'is',\n",
       " 'happy',\n",
       " 'and',\n",
       " 'his',\n",
       " 'business',\n",
       " 'is',\n",
       " 'growing',\n",
       " 'in',\n",
       " 'this',\n",
       " 'competitive',\n",
       " 'industry',\n",
       " 'then',\n",
       " 'do',\n",
       " 'you',\n",
       " 'still',\n",
       " 'have',\n",
       " 'a',\n",
       " 'question',\n",
       " 'in',\n",
       " 'mind',\n",
       " 'that',\n",
       " 'why',\n",
       " 'does',\n",
       " 'your',\n",
       " 'business',\n",
       " 'need',\n",
       " 'a',\n",
       " 'chatbot']"
      ]
     },
     "execution_count": 8,
     "metadata": {},
     "output_type": "execute_result"
    }
   ],
   "source": [
    "token = word_tokenize(texts)\n",
    "token"
   ]
  },
  {
   "cell_type": "code",
   "execution_count": 9,
   "id": "10016a09",
   "metadata": {},
   "outputs": [],
   "source": [
    "with open(\"D:\\lab\\Dataset\\Stopwords_Blackcoffer.txt\", 'r') as file:\n",
    "    data = file.read()"
   ]
  },
  {
   "cell_type": "code",
   "execution_count": 10,
   "id": "c567cbef",
   "metadata": {},
   "outputs": [
    {
     "data": {
      "text/plain": [
       "'ERNST\\nYOUNG\\nDELOITTE\\nTOUCHE\\nKPMG\\nPRICEWATERHOUSECOOPERS\\nPRICEWATERHOUSE\\nCOOPERS\\nAFGHANI\\nARIARY\\nBAHT\\n'"
      ]
     },
     "execution_count": 10,
     "metadata": {},
     "output_type": "execute_result"
    }
   ],
   "source": [
    "data[:100]"
   ]
  },
  {
   "cell_type": "code",
   "execution_count": 11,
   "id": "d65bfa92",
   "metadata": {},
   "outputs": [
    {
     "data": {
      "text/plain": [
       "'ERNST,YOUNG,DELOITTE,TOUCHE,KPMG,PRICEWATERHOUSECOOPERS,PRICEWATERHOUSE,COOPERS,AFGHANI,ARIARY,BAHT,'"
      ]
     },
     "execution_count": 11,
     "metadata": {},
     "output_type": "execute_result"
    }
   ],
   "source": [
    "data = data.replace('\\n', ',')\n",
    "data[:100]"
   ]
  },
  {
   "cell_type": "code",
   "execution_count": 12,
   "id": "0ef23874",
   "metadata": {},
   "outputs": [
    {
     "data": {
      "text/plain": [
       "'Mr. Sakamoto bonsai artist lives downtown Kyoto Japan . Bonsai Japanese cultivation small trees small medium container . He field business years loves daily basis . People cities Japan buy artwork . B'"
      ]
     },
     "execution_count": 12,
     "metadata": {},
     "output_type": "execute_result"
    }
   ],
   "source": [
    "new_texts = \" \".join([i for i in token if i not in data])\n",
    "new_texts[:200]"
   ]
  },
  {
   "cell_type": "code",
   "execution_count": 13,
   "id": "ea392da4",
   "metadata": {},
   "outputs": [
    {
     "name": "stdout",
     "output_type": "stream",
     "text": [
      "length before cleaning:  4814\n",
      "length after cleaning:  2707\n"
     ]
    }
   ],
   "source": [
    "print(\"length before cleaning: \", len(texts))\n",
    "print(\"length after cleaning: \", len(new_texts))"
   ]
  },
  {
   "cell_type": "markdown",
   "id": "1f456147",
   "metadata": {},
   "source": [
    "# Negative words"
   ]
  },
  {
   "cell_type": "code",
   "execution_count": 14,
   "id": "dc3618a7",
   "metadata": {},
   "outputs": [],
   "source": [
    "with open(\"D:\\\\lab\\\\Dataset\\\\Negative_words.txt\", 'r') as file:\n",
    "    negative = file.read()"
   ]
  },
  {
   "cell_type": "code",
   "execution_count": 15,
   "id": "2123c4cb",
   "metadata": {},
   "outputs": [
    {
     "data": {
      "text/plain": [
       "'2-faced\\n2-faces\\nabnormal\\nabolish\\nabominable\\nabominably\\nabominate\\nabomination\\nabort\\naborted\\naborts\\nabrade\\nabrasive\\nabrupt\\nabruptly\\nabscond\\nabsence\\nabsent-minded\\nabsentee\\nabsurd\\nabsurdity\\nabsurdly\\nabsurdness\\n'"
      ]
     },
     "execution_count": 15,
     "metadata": {},
     "output_type": "execute_result"
    }
   ],
   "source": [
    "negative[:206]"
   ]
  },
  {
   "cell_type": "code",
   "execution_count": 16,
   "id": "28f44c97",
   "metadata": {},
   "outputs": [
    {
     "data": {
      "text/plain": [
       "'2-faced,2-faces,abnormal,abolish,abominable,abominably,abominate,abomination,abort,aborted,aborts,abrade,abrasive,abrupt,abruptly,abscond,absence,absent-minded,absentee,absurd,absurdity,absurdly,absurdness,'"
      ]
     },
     "execution_count": 16,
     "metadata": {},
     "output_type": "execute_result"
    }
   ],
   "source": [
    "negative = negative.replace('\\n', ',')\n",
    "negative[:206]"
   ]
  },
  {
   "cell_type": "code",
   "execution_count": 17,
   "id": "31a272c0",
   "metadata": {},
   "outputs": [
    {
     "name": "stdout",
     "output_type": "stream",
     "text": [
      "['small', 'small', 'cities', 'stage', 'regular', 'product', 'busy', 'happy', 'satisfied', 'eating', 'mind', 'day', 'day', 'understand', 'remorse', 'life', 'base', 'product', 'happy', 'happiness', 'wanted', 'trained', 'service', 'sadness', 'affordable', 'understand', 'problems', 'fundamental', 'root', 'product', 'trust', 'agree', 'statement', 'trust', 'owner', 'small', 'generation', 'stuck', 'generation', 'accustomed', 'generation', 'easy', 'consuming', 'easily', 'trained', 'limit', 'accurately', 'solve', 'product', 'care', 'expensive', 'perfect', 'solve', 'present', 'giving', 'helpful', 'human', 'day', 'happy', 'warm', 'happy', 'lot', 'rate', 'fast', 'found', 'happy', 'competitive', 'question', 'mind']\n"
     ]
    },
    {
     "data": {
      "text/plain": [
       "69"
      ]
     },
     "execution_count": 17,
     "metadata": {},
     "output_type": "execute_result"
    }
   ],
   "source": [
    "new_texts = word_tokenize(new_texts)\n",
    "negative_words = [i for i in new_texts if i in negative]\n",
    "print(negative_words)\n",
    "len(negative_words)"
   ]
  },
  {
   "cell_type": "markdown",
   "id": "0b24f011",
   "metadata": {},
   "source": [
    "# Positive words"
   ]
  },
  {
   "cell_type": "code",
   "execution_count": 18,
   "id": "4b003620",
   "metadata": {},
   "outputs": [
    {
     "data": {
      "text/plain": [
       "'a+\\nabound\\nabounds\\nabundance\\nabundant\\naccessable\\naccessible\\nacclaim\\nacclaimed\\nacclamation\\naccolade\\naccolades\\naccommodative\\naccomodative\\naccomplish\\naccomplished\\naccomplishment\\naccomplishments\\naccurate\\naccurately\\n'"
      ]
     },
     "execution_count": 18,
     "metadata": {},
     "output_type": "execute_result"
    }
   ],
   "source": [
    "with open(\"D:\\\\lab\\\\Dataset\\\\Positive_words.txt\", 'r') as file:\n",
    "    positive = file.read()\n",
    "positive[:210]    "
   ]
  },
  {
   "cell_type": "code",
   "execution_count": 19,
   "id": "66ed38c6",
   "metadata": {},
   "outputs": [
    {
     "data": {
      "text/plain": [
       "'a+,abound,abounds,abundance,abundant,accessable,accessible,acclaim,acclaimed,acclamation,accolade,accolades,accommodative,accomodative,accomplish,accomplished,accomplishment,accomplishments,accurate,accurately,'"
      ]
     },
     "execution_count": 19,
     "metadata": {},
     "output_type": "execute_result"
    }
   ],
   "source": [
    "positive = positive.replace('\\n',',')\n",
    "positive[:210]"
   ]
  },
  {
   "cell_type": "code",
   "execution_count": 20,
   "id": "fc1387e8",
   "metadata": {},
   "outputs": [
    {
     "name": "stdout",
     "output_type": "stream",
     "text": [
      "['loves', 'selling', 'loved', 'loved', 'sell', 'product', 'revolution', 'happy', 'satisfied', 'eating', 'mind', 'understand', 'awesome', 'revolution', 'life', 'feature', 'product', 'vibrant', 'happy', 'happiness', 'sell', 'affordable', 'understand', 'product', 'trust', 'agree', 'trust', 'large', 'easy', 'limit', 'accurately', 'solve', 'recommendation', 'product', 'care', 'expensive', 'perfect', 'solve', 'world', 'happier', 'feature', 'helpful', 'human', 'world', 'happy', 'moment', 'warm', 'happy', 'rate', 'growing', 'fast', 'growing', 'found', 'happy', 'growing', 'competitive', 'question', 'mind']\n"
     ]
    },
    {
     "data": {
      "text/plain": [
       "58"
      ]
     },
     "execution_count": 20,
     "metadata": {},
     "output_type": "execute_result"
    }
   ],
   "source": [
    "positive_words = [i for i in new_texts if i in positive]\n",
    "print(positive_words)\n",
    "len(positive_words)"
   ]
  },
  {
   "cell_type": "markdown",
   "id": "1b59646d",
   "metadata": {},
   "source": [
    "#### positive Score\n"
   ]
  },
  {
   "cell_type": "code",
   "execution_count": 21,
   "id": "7d0fbab1",
   "metadata": {},
   "outputs": [
    {
     "name": "stdout",
     "output_type": "stream",
     "text": [
      "58\n"
     ]
    }
   ],
   "source": [
    "pos_score = len(positive_words)\n",
    "print(pos_score)"
   ]
  },
  {
   "cell_type": "markdown",
   "id": "54a6cc12",
   "metadata": {},
   "source": [
    "#### Negative Score"
   ]
  },
  {
   "cell_type": "code",
   "execution_count": 22,
   "id": "df0766cd",
   "metadata": {},
   "outputs": [
    {
     "name": "stdout",
     "output_type": "stream",
     "text": [
      "69\n"
     ]
    }
   ],
   "source": [
    "neg_score=len(negative_words)\n",
    "print(neg_score)"
   ]
  },
  {
   "cell_type": "markdown",
   "id": "84da7ab7",
   "metadata": {},
   "source": [
    "#### Polarity Score"
   ]
  },
  {
   "cell_type": "code",
   "execution_count": 23,
   "id": "21e88c2b",
   "metadata": {},
   "outputs": [
    {
     "data": {
      "text/plain": [
       "-0.09"
      ]
     },
     "execution_count": 23,
     "metadata": {},
     "output_type": "execute_result"
    }
   ],
   "source": [
    "Polarity_Score = (pos_score - neg_score)/((pos_score + neg_score) + 0.000001)\n",
    "round(Polarity_Score,2)"
   ]
  },
  {
   "cell_type": "code",
   "execution_count": 24,
   "id": "08bcb4ab",
   "metadata": {},
   "outputs": [
    {
     "name": "stdout",
     "output_type": "stream",
     "text": [
      "number of words after cleaning : 401\n"
     ]
    }
   ],
   "source": [
    "word_count = len(new_texts)\n",
    "print(\"number of words after cleaning :\",word_count)"
   ]
  },
  {
   "cell_type": "markdown",
   "id": "16495ba1",
   "metadata": {},
   "source": [
    "#### Subjectivity Score"
   ]
  },
  {
   "cell_type": "code",
   "execution_count": 25,
   "id": "841713a3",
   "metadata": {},
   "outputs": [
    {
     "data": {
      "text/plain": [
       "0.32"
      ]
     },
     "execution_count": 25,
     "metadata": {},
     "output_type": "execute_result"
    }
   ],
   "source": [
    "Subjectivity_Score = (pos_score + neg_score)/ ((word_count) + 0.000001)\n",
    "round(Subjectivity_Score,2)"
   ]
  },
  {
   "cell_type": "markdown",
   "id": "0d7c370e",
   "metadata": {},
   "source": [
    "# Analysis of Readability"
   ]
  },
  {
   "cell_type": "code",
   "execution_count": 26,
   "id": "10209a7a",
   "metadata": {},
   "outputs": [
    {
     "data": {
      "text/plain": [
       "924"
      ]
     },
     "execution_count": 26,
     "metadata": {},
     "output_type": "execute_result"
    }
   ],
   "source": [
    "import nltk\n",
    "from nltk.tokenize import word_tokenize\n",
    "word_tokens = nltk.word_tokenize(texts)\n",
    "No_of_words = len(word_tokens)\n",
    "No_of_words"
   ]
  },
  {
   "cell_type": "code",
   "execution_count": 27,
   "id": "bfac2ab7",
   "metadata": {},
   "outputs": [
    {
     "data": {
      "text/plain": [
       "58"
      ]
     },
     "execution_count": 27,
     "metadata": {},
     "output_type": "execute_result"
    }
   ],
   "source": [
    "sent_tokens = nltk.sent_tokenize(texts)\n",
    "No_of_sents = len(sent_tokens)\n",
    "No_of_sents "
   ]
  },
  {
   "cell_type": "markdown",
   "id": "1576acfe",
   "metadata": {},
   "source": [
    "### Average sentence Length\n"
   ]
  },
  {
   "cell_type": "code",
   "execution_count": 28,
   "id": "11d6a7ec",
   "metadata": {},
   "outputs": [
    {
     "data": {
      "text/plain": [
       "15.93"
      ]
     },
     "execution_count": 28,
     "metadata": {},
     "output_type": "execute_result"
    }
   ],
   "source": [
    "Avg_Sents_Length = No_of_words / No_of_sents\n",
    "round(Avg_Sents_Length,2)"
   ]
  },
  {
   "cell_type": "markdown",
   "id": "bc20ee3d",
   "metadata": {},
   "source": [
    "### Percentage of Complex words\n",
    "Complex words: words with more than 2 syllable are called complex words"
   ]
  },
  {
   "cell_type": "code",
   "execution_count": 29,
   "id": "eba6a8b1",
   "metadata": {},
   "outputs": [
    {
     "name": "stdout",
     "output_type": "stream",
     "text": [
      "Number of complex words: 88\n",
      "Total number of words: 4814\n"
     ]
    }
   ],
   "source": [
    "from nltk.corpus import cmudict\n",
    "cmud = cmudict.dict()\n",
    "\n",
    "# Defining a function to count syllables in a word\n",
    "def count_syllables(word):\n",
    "    phonemes = cmud[word.lower()][0] \n",
    "    return len([s for s in phonemes if s[-1].isdigit()])\n",
    "\n",
    "# Identifing complex words\n",
    "w_tokens = [i for i in word_tokens if i in cmud]\n",
    "complex_words = [word for word in w_tokens if count_syllables(word) > 2]\n",
    "\n",
    "# Calculatingnumber of complex words\n",
    "num_complex_words = len(complex_words)\n",
    "\n",
    "print(\"Number of complex words:\", num_complex_words)\n",
    "print(\"Total number of words:\", len(texts))"
   ]
  },
  {
   "cell_type": "code",
   "execution_count": 30,
   "id": "e982c0a1",
   "metadata": {},
   "outputs": [
    {
     "data": {
      "text/plain": [
       "54.7"
      ]
     },
     "execution_count": 30,
     "metadata": {},
     "output_type": "execute_result"
    }
   ],
   "source": [
    "Perc_of_Complex_words = len(texts) / num_complex_words\n",
    "round(Perc_of_Complex_words,2)"
   ]
  },
  {
   "cell_type": "markdown",
   "id": "77e948d1",
   "metadata": {},
   "source": [
    "### Fog Index"
   ]
  },
  {
   "cell_type": "code",
   "execution_count": 31,
   "id": "95fb10bb",
   "metadata": {},
   "outputs": [
    {
     "name": "stdout",
     "output_type": "stream",
     "text": [
      "Average sentence length: 58.0\n"
     ]
    }
   ],
   "source": [
    "# Tokenize each sentence into words\n",
    "words = [word_tokens for sentence in sent_tokens]\n",
    "\n",
    "# Calculate the average sentence length\n",
    "avg_sent_len = sum(No_of_sents for sentence in words) / No_of_sents\n",
    "\n",
    "print(\"Average sentence length:\", avg_sent_len)\n"
   ]
  },
  {
   "cell_type": "code",
   "execution_count": 32,
   "id": "38f5a93b",
   "metadata": {},
   "outputs": [
    {
     "data": {
      "text/plain": [
       "45.08"
      ]
     },
     "execution_count": 32,
     "metadata": {},
     "output_type": "execute_result"
    }
   ],
   "source": [
    "Fog_index = 0.4 * (avg_sent_len + Perc_of_Complex_words)\n",
    "round(Fog_index,2)"
   ]
  },
  {
   "cell_type": "markdown",
   "id": "5b4aacea",
   "metadata": {},
   "source": [
    "# Average Number of Words Per Sentence"
   ]
  },
  {
   "cell_type": "code",
   "execution_count": 33,
   "id": "45da1407",
   "metadata": {},
   "outputs": [
    {
     "data": {
      "text/plain": [
       "15.93"
      ]
     },
     "execution_count": 33,
     "metadata": {},
     "output_type": "execute_result"
    }
   ],
   "source": [
    "avg_no_of_words_per_sent = No_of_words / No_of_sents\n",
    "round(avg_no_of_words_per_sent,2)"
   ]
  },
  {
   "cell_type": "markdown",
   "id": "f2d9b493",
   "metadata": {},
   "source": [
    "# Complex Word Count"
   ]
  },
  {
   "cell_type": "code",
   "execution_count": 34,
   "id": "75304424",
   "metadata": {},
   "outputs": [
    {
     "name": "stdout",
     "output_type": "stream",
     "text": [
      "complex word count: 88\n"
     ]
    }
   ],
   "source": [
    "from nltk.corpus import cmudict\n",
    "cmud = cmudict.dict()\n",
    "\n",
    "# Defining a function to count syllables in a word\n",
    "def count_syllables(word):\n",
    "    phonemes = cmud[word.lower()][0] \n",
    "    return len([s for s in phonemes if s[-1].isdigit()])\n",
    "\n",
    "# Identifing complex words\n",
    "w_tokens = [i for i in word_tokens if i in cmud]\n",
    "complex_words = [word for word in w_tokens if count_syllables(word) > 2]\n",
    "\n",
    "# Calculatingnumber of complex words\n",
    "num_complex_words = len(complex_words)\n",
    "\n",
    "print(\"complex word count:\", num_complex_words)"
   ]
  },
  {
   "cell_type": "markdown",
   "id": "99ea5188",
   "metadata": {},
   "source": [
    "# Word Count\n",
    "number of words after cleaning"
   ]
  },
  {
   "cell_type": "code",
   "execution_count": 35,
   "id": "b4fb0c72",
   "metadata": {},
   "outputs": [
    {
     "data": {
      "text/plain": [
       "401"
      ]
     },
     "execution_count": 35,
     "metadata": {},
     "output_type": "execute_result"
    }
   ],
   "source": [
    "len(new_texts)"
   ]
  },
  {
   "cell_type": "markdown",
   "id": "ca8076ff",
   "metadata": {},
   "source": [
    "# Syllable Count Per Word"
   ]
  },
  {
   "cell_type": "code",
   "execution_count": 36,
   "id": "6f0b4e4f",
   "metadata": {},
   "outputs": [
    {
     "name": "stdout",
     "output_type": "stream",
     "text": [
      "Enter a word to get syllable: artist\n",
      "Number of syllable in a word : 2\n"
     ]
    }
   ],
   "source": [
    "word = input(\"Enter a word to get syllable: \")\n",
    "def count_syllables(word):\n",
    "    phonemes = cmud[word.lower()][0] \n",
    "    return len([s for s in phonemes if s[-1].isdigit()])\n",
    "\n",
    "print(\"Number of syllable in a word :\",count_syllables(word))"
   ]
  },
  {
   "cell_type": "markdown",
   "id": "1d3a18f6",
   "metadata": {},
   "source": [
    "# Personal Pronouns"
   ]
  },
  {
   "cell_type": "code",
   "execution_count": 37,
   "id": "0b8e0d2d",
   "metadata": {},
   "outputs": [
    {
     "name": "stdout",
     "output_type": "stream",
     "text": [
      "Personal pronoun frequency: {'he': 28, 'him': 2, 'it': 9, 'they': 3, 'them': 2, 'we': 1, 'you': 2}\n",
      "total number of pronouns in a article : 47\n"
     ]
    }
   ],
   "source": [
    "import re\n",
    "\n",
    "# Define a regex pattern to match personal pronouns\n",
    "pattern = r'\\b(I|you|he|she|it|we|they|me|him|her|us|them)\\b'\n",
    "\n",
    "# Count the frequency of personal pronouns\n",
    "pronoun_freq = {}\n",
    "for pronoun in re.findall(pattern, texts, re.IGNORECASE):\n",
    "    pronoun = pronoun.lower()\n",
    "    if pronoun in pronoun_freq:\n",
    "        pronoun_freq[pronoun] += 1\n",
    "    else:\n",
    "        pronoun_freq[pronoun] = 1\n",
    "\n",
    "print(\"Personal pronoun frequency:\", pronoun_freq)\n",
    "def returnSum(dict):\n",
    " \n",
    "    sum = 0\n",
    "    for i in pronoun_freq.values():\n",
    "        sum = sum + i\n",
    " \n",
    "    return sum\n",
    "print(\"total number of pronouns in a article :\",returnSum(pronoun_freq))"
   ]
  },
  {
   "cell_type": "markdown",
   "id": "e3fc87f8",
   "metadata": {},
   "source": [
    "# Average Word Length"
   ]
  },
  {
   "cell_type": "code",
   "execution_count": 38,
   "id": "5bde37d9",
   "metadata": {},
   "outputs": [
    {
     "name": "stdout",
     "output_type": "stream",
     "text": [
      "Average word length: 4.23\n"
     ]
    }
   ],
   "source": [
    "# Calculate the total number of characters in all words\n",
    "total_chars = sum(len(word) for word in word_tokens)\n",
    "\n",
    "avg_word_length = total_chars / No_of_words\n",
    "\n",
    "print(\"Average word length:\", round(avg_word_length,2))\n"
   ]
  },
  {
   "cell_type": "code",
   "execution_count": null,
   "id": "63dc25ad",
   "metadata": {},
   "outputs": [],
   "source": []
  },
  {
   "cell_type": "code",
   "execution_count": null,
   "id": "819012c5",
   "metadata": {},
   "outputs": [],
   "source": []
  }
 ],
 "metadata": {
  "kernelspec": {
   "display_name": "Python 3",
   "language": "python",
   "name": "python3"
  },
  "language_info": {
   "codemirror_mode": {
    "name": "ipython",
    "version": 3
   },
   "file_extension": ".py",
   "mimetype": "text/x-python",
   "name": "python",
   "nbconvert_exporter": "python",
   "pygments_lexer": "ipython3",
   "version": "3.8.8"
  }
 },
 "nbformat": 4,
 "nbformat_minor": 5
}
