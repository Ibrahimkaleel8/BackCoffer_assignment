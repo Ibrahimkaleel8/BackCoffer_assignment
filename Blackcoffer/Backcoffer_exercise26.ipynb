{
 "cells": [
  {
   "cell_type": "markdown",
   "id": "b9312f26",
   "metadata": {},
   "source": [
    "# Data scraping"
   ]
  },
  {
   "cell_type": "code",
   "execution_count": 1,
   "id": "ef4785ca",
   "metadata": {},
   "outputs": [],
   "source": [
    "import nltk\n",
    "import requests\n",
    "from bs4 import BeautifulSoup"
   ]
  },
  {
   "cell_type": "code",
   "execution_count": 2,
   "id": "ac2f2459",
   "metadata": {},
   "outputs": [],
   "source": [
    "req = requests.get(\"https://insights.blackcoffer.com/how-google-fit-measure-heart-and-respiratory-rates-using-a-phone/\")"
   ]
  },
  {
   "cell_type": "code",
   "execution_count": 3,
   "id": "45f9fa09",
   "metadata": {},
   "outputs": [],
   "source": [
    "soup = BeautifulSoup(req.content, \"html.parser\")\n",
    "res = soup.title\n",
    "paras = soup.find_all('p')"
   ]
  },
  {
   "cell_type": "code",
   "execution_count": 4,
   "id": "dbb256b2",
   "metadata": {
    "scrolled": true
   },
   "outputs": [
    {
     "name": "stdout",
     "output_type": "stream",
     "text": [
      "It was in March that Tech giant Google came up with a ground-breaking announcement of Google Fit able to measure one’s heart and respiratory rates using their smartphones. This news spread like wildfire. Instantly became the talk of the town. This feature was said to be available to the Google Fit app exclusively to its Pixel phone users. Google also plans to expand to its other Android devices in the future. This was after Google’s newest endeavor of acquiring the Fitbit for a whopping $2.1 billion. This acquisition not only does steps up a stage for a potential Google Smartwatch but also gives Google the ownerships to Fitbit’s health business and wealth of data assets. Users just need to place their head and upper torso in view of the front-facing phone camera for those who wish to measure their respiratory rate. For measuring Heart rate the user just has to place their finger on the rear-facing camera lens. Mind-blowing right! Once the measurements have been taken the users simply have to store and save them in the Google Fit app to monitor and track their day-to-day wellness. On asked how it’s measuring these heart rate and respiratory rate, Google Health director of health technologies Shwethak Patel explained that these features rely on the sensors that have been built into the smartphone, such as its camera, microphone, and accelerometer. Thanks to increasingly power sensors even in affordable smartphones and advancements in computer vision, these features let use one smartphone’s camera to track even tiny physical signals like your chest movement to measure your respiratory rate and subtle changes in the color of your finger for your heart rate. Pixel underwent and completed initial clinical trials to validate the algorithm cloud work in a variety of different world conditions and that too with many people while developing the features. Since our heart rate relies on approximating blood flow from color changes in someone’s fingertip, it has to account for factors such as lighting, skin tone, age. Adding to be able to measure heart and respiratory rate soon Google Fit also displays user daily stats such as daily goals, weekly goals, heart points, workout, and also sleep monitor.\n"
     ]
    }
   ],
   "source": [
    "texts = \" \".join([paragraph.text.strip() for paragraph in paras])\n",
    "print(texts)"
   ]
  },
  {
   "cell_type": "code",
   "execution_count": 5,
   "id": "e79f5f60",
   "metadata": {},
   "outputs": [
    {
     "data": {
      "text/plain": [
       "2224"
      ]
     },
     "execution_count": 5,
     "metadata": {},
     "output_type": "execute_result"
    }
   ],
   "source": [
    "len(texts)"
   ]
  },
  {
   "cell_type": "markdown",
   "id": "db8f1fcc",
   "metadata": {},
   "source": [
    "Removing Punctuation"
   ]
  },
  {
   "cell_type": "code",
   "execution_count": 6,
   "id": "5285c8a8",
   "metadata": {},
   "outputs": [
    {
     "data": {
      "text/plain": [
       "2224"
      ]
     },
     "execution_count": 6,
     "metadata": {},
     "output_type": "execute_result"
    }
   ],
   "source": [
    "import re\n",
    "import string\n",
    "texts = re.sub(r'[\\'\\“\\”\\()\\%\\,\\-\\'\\’\\?\\ ]', ' ', texts)\n",
    "texts[0:200]\n",
    "len(texts)"
   ]
  },
  {
   "cell_type": "markdown",
   "id": "4fafe7be",
   "metadata": {},
   "source": [
    "# Removing Stopwords"
   ]
  },
  {
   "cell_type": "code",
   "execution_count": 7,
   "id": "089b8663",
   "metadata": {},
   "outputs": [],
   "source": [
    "from nltk.tokenize import word_tokenize"
   ]
  },
  {
   "cell_type": "code",
   "execution_count": 8,
   "id": "280876b0",
   "metadata": {},
   "outputs": [
    {
     "data": {
      "text/plain": [
       "['It',\n",
       " 'was',\n",
       " 'in',\n",
       " 'March',\n",
       " 'that',\n",
       " 'Tech',\n",
       " 'giant',\n",
       " 'Google',\n",
       " 'came',\n",
       " 'up',\n",
       " 'with',\n",
       " 'a',\n",
       " 'ground',\n",
       " 'breaking',\n",
       " 'announcement',\n",
       " 'of',\n",
       " 'Google',\n",
       " 'Fit',\n",
       " 'able',\n",
       " 'to',\n",
       " 'measure',\n",
       " 'one',\n",
       " 's',\n",
       " 'heart',\n",
       " 'and',\n",
       " 'respiratory',\n",
       " 'rates',\n",
       " 'using',\n",
       " 'their',\n",
       " 'smartphones',\n",
       " '.',\n",
       " 'This',\n",
       " 'news',\n",
       " 'spread',\n",
       " 'like',\n",
       " 'wildfire',\n",
       " '.',\n",
       " 'Instantly',\n",
       " 'became',\n",
       " 'the',\n",
       " 'talk',\n",
       " 'of',\n",
       " 'the',\n",
       " 'town',\n",
       " '.',\n",
       " 'This',\n",
       " 'feature',\n",
       " 'was',\n",
       " 'said',\n",
       " 'to',\n",
       " 'be',\n",
       " 'available',\n",
       " 'to',\n",
       " 'the',\n",
       " 'Google',\n",
       " 'Fit',\n",
       " 'app',\n",
       " 'exclusively',\n",
       " 'to',\n",
       " 'its',\n",
       " 'Pixel',\n",
       " 'phone',\n",
       " 'users',\n",
       " '.',\n",
       " 'Google',\n",
       " 'also',\n",
       " 'plans',\n",
       " 'to',\n",
       " 'expand',\n",
       " 'to',\n",
       " 'its',\n",
       " 'other',\n",
       " 'Android',\n",
       " 'devices',\n",
       " 'in',\n",
       " 'the',\n",
       " 'future',\n",
       " '.',\n",
       " 'This',\n",
       " 'was',\n",
       " 'after',\n",
       " 'Google',\n",
       " 's',\n",
       " 'newest',\n",
       " 'endeavor',\n",
       " 'of',\n",
       " 'acquiring',\n",
       " 'the',\n",
       " 'Fitbit',\n",
       " 'for',\n",
       " 'a',\n",
       " 'whopping',\n",
       " '$',\n",
       " '2.1',\n",
       " 'billion',\n",
       " '.',\n",
       " 'This',\n",
       " 'acquisition',\n",
       " 'not',\n",
       " 'only',\n",
       " 'does',\n",
       " 'steps',\n",
       " 'up',\n",
       " 'a',\n",
       " 'stage',\n",
       " 'for',\n",
       " 'a',\n",
       " 'potential',\n",
       " 'Google',\n",
       " 'Smartwatch',\n",
       " 'but',\n",
       " 'also',\n",
       " 'gives',\n",
       " 'Google',\n",
       " 'the',\n",
       " 'ownerships',\n",
       " 'to',\n",
       " 'Fitbit',\n",
       " 's',\n",
       " 'health',\n",
       " 'business',\n",
       " 'and',\n",
       " 'wealth',\n",
       " 'of',\n",
       " 'data',\n",
       " 'assets',\n",
       " '.',\n",
       " 'Users',\n",
       " 'just',\n",
       " 'need',\n",
       " 'to',\n",
       " 'place',\n",
       " 'their',\n",
       " 'head',\n",
       " 'and',\n",
       " 'upper',\n",
       " 'torso',\n",
       " 'in',\n",
       " 'view',\n",
       " 'of',\n",
       " 'the',\n",
       " 'front',\n",
       " 'facing',\n",
       " 'phone',\n",
       " 'camera',\n",
       " 'for',\n",
       " 'those',\n",
       " 'who',\n",
       " 'wish',\n",
       " 'to',\n",
       " 'measure',\n",
       " 'their',\n",
       " 'respiratory',\n",
       " 'rate',\n",
       " '.',\n",
       " 'For',\n",
       " 'measuring',\n",
       " 'Heart',\n",
       " 'rate',\n",
       " 'the',\n",
       " 'user',\n",
       " 'just',\n",
       " 'has',\n",
       " 'to',\n",
       " 'place',\n",
       " 'their',\n",
       " 'finger',\n",
       " 'on',\n",
       " 'the',\n",
       " 'rear',\n",
       " 'facing',\n",
       " 'camera',\n",
       " 'lens',\n",
       " '.',\n",
       " 'Mind',\n",
       " 'blowing',\n",
       " 'right',\n",
       " '!',\n",
       " 'Once',\n",
       " 'the',\n",
       " 'measurements',\n",
       " 'have',\n",
       " 'been',\n",
       " 'taken',\n",
       " 'the',\n",
       " 'users',\n",
       " 'simply',\n",
       " 'have',\n",
       " 'to',\n",
       " 'store',\n",
       " 'and',\n",
       " 'save',\n",
       " 'them',\n",
       " 'in',\n",
       " 'the',\n",
       " 'Google',\n",
       " 'Fit',\n",
       " 'app',\n",
       " 'to',\n",
       " 'monitor',\n",
       " 'and',\n",
       " 'track',\n",
       " 'their',\n",
       " 'day',\n",
       " 'to',\n",
       " 'day',\n",
       " 'wellness',\n",
       " '.',\n",
       " 'On',\n",
       " 'asked',\n",
       " 'how',\n",
       " 'it',\n",
       " 's',\n",
       " 'measuring',\n",
       " 'these',\n",
       " 'heart',\n",
       " 'rate',\n",
       " 'and',\n",
       " 'respiratory',\n",
       " 'rate',\n",
       " 'Google',\n",
       " 'Health',\n",
       " 'director',\n",
       " 'of',\n",
       " 'health',\n",
       " 'technologies',\n",
       " 'Shwethak',\n",
       " 'Patel',\n",
       " 'explained',\n",
       " 'that',\n",
       " 'these',\n",
       " 'features',\n",
       " 'rely',\n",
       " 'on',\n",
       " 'the',\n",
       " 'sensors',\n",
       " 'that',\n",
       " 'have',\n",
       " 'been',\n",
       " 'built',\n",
       " 'into',\n",
       " 'the',\n",
       " 'smartphone',\n",
       " 'such',\n",
       " 'as',\n",
       " 'its',\n",
       " 'camera',\n",
       " 'microphone',\n",
       " 'and',\n",
       " 'accelerometer',\n",
       " '.',\n",
       " 'Thanks',\n",
       " 'to',\n",
       " 'increasingly',\n",
       " 'power',\n",
       " 'sensors',\n",
       " 'even',\n",
       " 'in',\n",
       " 'affordable',\n",
       " 'smartphones',\n",
       " 'and',\n",
       " 'advancements',\n",
       " 'in',\n",
       " 'computer',\n",
       " 'vision',\n",
       " 'these',\n",
       " 'features',\n",
       " 'let',\n",
       " 'use',\n",
       " 'one',\n",
       " 'smartphone',\n",
       " 's',\n",
       " 'camera',\n",
       " 'to',\n",
       " 'track',\n",
       " 'even',\n",
       " 'tiny',\n",
       " 'physical',\n",
       " 'signals',\n",
       " 'like',\n",
       " 'your',\n",
       " 'chest',\n",
       " 'movement',\n",
       " 'to',\n",
       " 'measure',\n",
       " 'your',\n",
       " 'respiratory',\n",
       " 'rate',\n",
       " 'and',\n",
       " 'subtle',\n",
       " 'changes',\n",
       " 'in',\n",
       " 'the',\n",
       " 'color',\n",
       " 'of',\n",
       " 'your',\n",
       " 'finger',\n",
       " 'for',\n",
       " 'your',\n",
       " 'heart',\n",
       " 'rate',\n",
       " '.',\n",
       " 'Pixel',\n",
       " 'underwent',\n",
       " 'and',\n",
       " 'completed',\n",
       " 'initial',\n",
       " 'clinical',\n",
       " 'trials',\n",
       " 'to',\n",
       " 'validate',\n",
       " 'the',\n",
       " 'algorithm',\n",
       " 'cloud',\n",
       " 'work',\n",
       " 'in',\n",
       " 'a',\n",
       " 'variety',\n",
       " 'of',\n",
       " 'different',\n",
       " 'world',\n",
       " 'conditions',\n",
       " 'and',\n",
       " 'that',\n",
       " 'too',\n",
       " 'with',\n",
       " 'many',\n",
       " 'people',\n",
       " 'while',\n",
       " 'developing',\n",
       " 'the',\n",
       " 'features',\n",
       " '.',\n",
       " 'Since',\n",
       " 'our',\n",
       " 'heart',\n",
       " 'rate',\n",
       " 'relies',\n",
       " 'on',\n",
       " 'approximating',\n",
       " 'blood',\n",
       " 'flow',\n",
       " 'from',\n",
       " 'color',\n",
       " 'changes',\n",
       " 'in',\n",
       " 'someone',\n",
       " 's',\n",
       " 'fingertip',\n",
       " 'it',\n",
       " 'has',\n",
       " 'to',\n",
       " 'account',\n",
       " 'for',\n",
       " 'factors',\n",
       " 'such',\n",
       " 'as',\n",
       " 'lighting',\n",
       " 'skin',\n",
       " 'tone',\n",
       " 'age',\n",
       " '.',\n",
       " 'Adding',\n",
       " 'to',\n",
       " 'be',\n",
       " 'able',\n",
       " 'to',\n",
       " 'measure',\n",
       " 'heart',\n",
       " 'and',\n",
       " 'respiratory',\n",
       " 'rate',\n",
       " 'soon',\n",
       " 'Google',\n",
       " 'Fit',\n",
       " 'also',\n",
       " 'displays',\n",
       " 'user',\n",
       " 'daily',\n",
       " 'stats',\n",
       " 'such',\n",
       " 'as',\n",
       " 'daily',\n",
       " 'goals',\n",
       " 'weekly',\n",
       " 'goals',\n",
       " 'heart',\n",
       " 'points',\n",
       " 'workout',\n",
       " 'and',\n",
       " 'also',\n",
       " 'sleep',\n",
       " 'monitor',\n",
       " '.']"
      ]
     },
     "execution_count": 8,
     "metadata": {},
     "output_type": "execute_result"
    }
   ],
   "source": [
    "token = word_tokenize(texts)\n",
    "token"
   ]
  },
  {
   "cell_type": "code",
   "execution_count": 9,
   "id": "10016a09",
   "metadata": {},
   "outputs": [],
   "source": [
    "with open(\"D:\\lab\\Dataset\\Stopwords_Blackcoffer.txt\", 'r') as file:\n",
    "    data = file.read()"
   ]
  },
  {
   "cell_type": "code",
   "execution_count": 10,
   "id": "c567cbef",
   "metadata": {},
   "outputs": [
    {
     "data": {
      "text/plain": [
       "'ERNST\\nYOUNG\\nDELOITTE\\nTOUCHE\\nKPMG\\nPRICEWATERHOUSECOOPERS\\nPRICEWATERHOUSE\\nCOOPERS\\nAFGHANI\\nARIARY\\nBAHT\\n'"
      ]
     },
     "execution_count": 10,
     "metadata": {},
     "output_type": "execute_result"
    }
   ],
   "source": [
    "data[:100]"
   ]
  },
  {
   "cell_type": "code",
   "execution_count": 11,
   "id": "d65bfa92",
   "metadata": {},
   "outputs": [
    {
     "data": {
      "text/plain": [
       "'ERNST,YOUNG,DELOITTE,TOUCHE,KPMG,PRICEWATERHOUSECOOPERS,PRICEWATERHOUSE,COOPERS,AFGHANI,ARIARY,BAHT,'"
      ]
     },
     "execution_count": 11,
     "metadata": {},
     "output_type": "execute_result"
    }
   ],
   "source": [
    "data = data.replace('\\n', ',')\n",
    "data[:100]"
   ]
  },
  {
   "cell_type": "code",
   "execution_count": 12,
   "id": "0ef23874",
   "metadata": {},
   "outputs": [
    {
     "data": {
      "text/plain": [
       "'It March Tech giant Google ground breaking announcement Google Fit measure heart respiratory rates smartphones . This news spread wildfire . Instantly talk town . This feature Google Fit exclusively P'"
      ]
     },
     "execution_count": 12,
     "metadata": {},
     "output_type": "execute_result"
    }
   ],
   "source": [
    "new_texts = \" \".join([i for i in token if i not in data])\n",
    "new_texts[:200]"
   ]
  },
  {
   "cell_type": "code",
   "execution_count": 13,
   "id": "ea392da4",
   "metadata": {},
   "outputs": [
    {
     "name": "stdout",
     "output_type": "stream",
     "text": [
      "length before cleaning:  2224\n",
      "length after cleaning:  1466\n"
     ]
    }
   ],
   "source": [
    "print(\"length before cleaning: \", len(texts))\n",
    "print(\"length after cleaning: \", len(new_texts))"
   ]
  },
  {
   "cell_type": "markdown",
   "id": "1f456147",
   "metadata": {},
   "source": [
    "# Negative words"
   ]
  },
  {
   "cell_type": "code",
   "execution_count": 14,
   "id": "dc3618a7",
   "metadata": {},
   "outputs": [],
   "source": [
    "with open(\"D:\\\\lab\\\\Dataset\\\\Negative_words.txt\", 'r') as file:\n",
    "    negative = file.read()"
   ]
  },
  {
   "cell_type": "code",
   "execution_count": 15,
   "id": "2123c4cb",
   "metadata": {},
   "outputs": [
    {
     "data": {
      "text/plain": [
       "'2-faced\\n2-faces\\nabnormal\\nabolish\\nabominable\\nabominably\\nabominate\\nabomination\\nabort\\naborted\\naborts\\nabrade\\nabrasive\\nabrupt\\nabruptly\\nabscond\\nabsence\\nabsent-minded\\nabsentee\\nabsurd\\nabsurdity\\nabsurdly\\nabsurdness\\n'"
      ]
     },
     "execution_count": 15,
     "metadata": {},
     "output_type": "execute_result"
    }
   ],
   "source": [
    "negative[:206]"
   ]
  },
  {
   "cell_type": "code",
   "execution_count": 16,
   "id": "28f44c97",
   "metadata": {},
   "outputs": [
    {
     "data": {
      "text/plain": [
       "'2-faced,2-faces,abnormal,abolish,abominable,abominably,abominate,abomination,abort,aborted,aborts,abrade,abrasive,abrupt,abruptly,abscond,absence,absent-minded,absentee,absurd,absurdity,absurdly,absurdness,'"
      ]
     },
     "execution_count": 16,
     "metadata": {},
     "output_type": "execute_result"
    }
   ],
   "source": [
    "negative = negative.replace('\\n', ',')\n",
    "negative[:206]"
   ]
  },
  {
   "cell_type": "code",
   "execution_count": 17,
   "id": "31a272c0",
   "metadata": {},
   "outputs": [
    {
     "name": "stdout",
     "output_type": "stream",
     "text": [
      "['ground', 'breaking', 'heart', 'rates', 'stage', 'health', 'head', 'view', 'front', 'rate', 'rate', 'rear', 'track', 'day', 'day', 'heart', 'rate', 'rate', 'health', 'explained', 'power', 'affordable', 'track', 'rate', 'heart', 'rate', 'validate', 'cloud', 'work', 'heart', 'rate', 'blood', 'tone', 'age', 'heart', 'rate', 'heart', 'points']\n"
     ]
    },
    {
     "data": {
      "text/plain": [
       "38"
      ]
     },
     "execution_count": 17,
     "metadata": {},
     "output_type": "execute_result"
    }
   ],
   "source": [
    "new_texts = word_tokenize(new_texts)\n",
    "negative_words = [i for i in new_texts if i in negative]\n",
    "print(negative_words)\n",
    "len(negative_words)"
   ]
  },
  {
   "cell_type": "markdown",
   "id": "0b24f011",
   "metadata": {},
   "source": [
    "# Positive words"
   ]
  },
  {
   "cell_type": "code",
   "execution_count": 18,
   "id": "4b003620",
   "metadata": {},
   "outputs": [
    {
     "data": {
      "text/plain": [
       "'a+\\nabound\\nabounds\\nabundance\\nabundant\\naccessable\\naccessible\\nacclaim\\nacclaimed\\nacclamation\\naccolade\\naccolades\\naccommodative\\naccomodative\\naccomplish\\naccomplished\\naccomplishment\\naccomplishments\\naccurate\\naccurately\\n'"
      ]
     },
     "execution_count": 18,
     "metadata": {},
     "output_type": "execute_result"
    }
   ],
   "source": [
    "with open(\"D:\\\\lab\\\\Dataset\\\\Positive_words.txt\", 'r') as file:\n",
    "    positive = file.read()\n",
    "positive[:210]    "
   ]
  },
  {
   "cell_type": "code",
   "execution_count": 19,
   "id": "66ed38c6",
   "metadata": {},
   "outputs": [
    {
     "data": {
      "text/plain": [
       "'a+,abound,abounds,abundance,abundant,accessable,accessible,acclaim,acclaimed,acclamation,accolade,accolades,accommodative,accomodative,accomplish,accomplished,accomplishment,accomplishments,accurate,accurately,'"
      ]
     },
     "execution_count": 19,
     "metadata": {},
     "output_type": "execute_result"
    }
   ],
   "source": [
    "positive = positive.replace('\\n',',')\n",
    "positive[:210]"
   ]
  },
  {
   "cell_type": "code",
   "execution_count": 20,
   "id": "fc1387e8",
   "metadata": {},
   "outputs": [
    {
     "name": "stdout",
     "output_type": "stream",
     "text": [
      "['ground', 'breaking', 'heart', 'feature', 'future', 'health', 'wealth', 'head', 'view', 'rate', 'rate', 'user', 'blowing', 'store', 'save', 'heart', 'rate', 'rate', 'health', 'power', 'affordable', 'vision', 'tiny', 'rate', 'color', 'heart', 'rate', 'work', 'variety', 'world', 'heart', 'rate', 'color', 'tone', 'age', 'heart', 'rate', 'user', 'heart']\n"
     ]
    },
    {
     "data": {
      "text/plain": [
       "39"
      ]
     },
     "execution_count": 20,
     "metadata": {},
     "output_type": "execute_result"
    }
   ],
   "source": [
    "positive_words = [i for i in new_texts if i in positive]\n",
    "print(positive_words)\n",
    "len(positive_words)"
   ]
  },
  {
   "cell_type": "markdown",
   "id": "1b59646d",
   "metadata": {},
   "source": [
    "#### positive Score\n"
   ]
  },
  {
   "cell_type": "code",
   "execution_count": 21,
   "id": "7d0fbab1",
   "metadata": {},
   "outputs": [
    {
     "name": "stdout",
     "output_type": "stream",
     "text": [
      "39\n"
     ]
    }
   ],
   "source": [
    "pos_score = len(positive_words)\n",
    "print(pos_score)"
   ]
  },
  {
   "cell_type": "markdown",
   "id": "54a6cc12",
   "metadata": {},
   "source": [
    "#### Negative Score"
   ]
  },
  {
   "cell_type": "code",
   "execution_count": 22,
   "id": "df0766cd",
   "metadata": {},
   "outputs": [
    {
     "name": "stdout",
     "output_type": "stream",
     "text": [
      "38\n"
     ]
    }
   ],
   "source": [
    "neg_score=len(negative_words)\n",
    "print(neg_score)"
   ]
  },
  {
   "cell_type": "markdown",
   "id": "84da7ab7",
   "metadata": {},
   "source": [
    "#### Polarity Score"
   ]
  },
  {
   "cell_type": "code",
   "execution_count": 23,
   "id": "21e88c2b",
   "metadata": {},
   "outputs": [
    {
     "data": {
      "text/plain": [
       "0.01"
      ]
     },
     "execution_count": 23,
     "metadata": {},
     "output_type": "execute_result"
    }
   ],
   "source": [
    "Polarity_Score = (pos_score - neg_score)/((pos_score + neg_score) + 0.000001)\n",
    "round(Polarity_Score,2)"
   ]
  },
  {
   "cell_type": "code",
   "execution_count": 24,
   "id": "08bcb4ab",
   "metadata": {},
   "outputs": [
    {
     "name": "stdout",
     "output_type": "stream",
     "text": [
      "number of words after cleaning : 212\n"
     ]
    }
   ],
   "source": [
    "word_count = len(new_texts)\n",
    "print(\"number of words after cleaning :\",word_count)"
   ]
  },
  {
   "cell_type": "markdown",
   "id": "16495ba1",
   "metadata": {},
   "source": [
    "#### Subjectivity Score"
   ]
  },
  {
   "cell_type": "code",
   "execution_count": 25,
   "id": "841713a3",
   "metadata": {},
   "outputs": [
    {
     "data": {
      "text/plain": [
       "0.36"
      ]
     },
     "execution_count": 25,
     "metadata": {},
     "output_type": "execute_result"
    }
   ],
   "source": [
    "Subjectivity_Score = (pos_score + neg_score)/ ((word_count) + 0.000001)\n",
    "round(Subjectivity_Score,2)"
   ]
  },
  {
   "cell_type": "markdown",
   "id": "0d7c370e",
   "metadata": {},
   "source": [
    "# Analysis of Readability"
   ]
  },
  {
   "cell_type": "code",
   "execution_count": 26,
   "id": "10209a7a",
   "metadata": {},
   "outputs": [
    {
     "data": {
      "text/plain": [
       "394"
      ]
     },
     "execution_count": 26,
     "metadata": {},
     "output_type": "execute_result"
    }
   ],
   "source": [
    "import nltk\n",
    "from nltk.tokenize import word_tokenize\n",
    "word_tokens = nltk.word_tokenize(texts)\n",
    "No_of_words = len(word_tokens)\n",
    "No_of_words"
   ]
  },
  {
   "cell_type": "code",
   "execution_count": 27,
   "id": "bfac2ab7",
   "metadata": {},
   "outputs": [
    {
     "data": {
      "text/plain": [
       "16"
      ]
     },
     "execution_count": 27,
     "metadata": {},
     "output_type": "execute_result"
    }
   ],
   "source": [
    "sent_tokens = nltk.sent_tokenize(texts)\n",
    "No_of_sents = len(sent_tokens)\n",
    "No_of_sents "
   ]
  },
  {
   "cell_type": "markdown",
   "id": "1576acfe",
   "metadata": {},
   "source": [
    "### Average sentence Length\n"
   ]
  },
  {
   "cell_type": "code",
   "execution_count": 28,
   "id": "11d6a7ec",
   "metadata": {},
   "outputs": [
    {
     "data": {
      "text/plain": [
       "24.62"
      ]
     },
     "execution_count": 28,
     "metadata": {},
     "output_type": "execute_result"
    }
   ],
   "source": [
    "Avg_Sents_Length = No_of_words / No_of_sents\n",
    "round(Avg_Sents_Length,2)"
   ]
  },
  {
   "cell_type": "markdown",
   "id": "bc20ee3d",
   "metadata": {},
   "source": [
    "### Percentage of Complex words\n",
    "Complex words: words with more than 2 syllable are called complex words"
   ]
  },
  {
   "cell_type": "code",
   "execution_count": 29,
   "id": "eba6a8b1",
   "metadata": {},
   "outputs": [
    {
     "name": "stdout",
     "output_type": "stream",
     "text": [
      "Number of complex words: 44\n",
      "Total number of words: 2224\n"
     ]
    }
   ],
   "source": [
    "from nltk.corpus import cmudict\n",
    "cmud = cmudict.dict()\n",
    "\n",
    "# Defining a function to count syllables in a word\n",
    "def count_syllables(word):\n",
    "    phonemes = cmud[word.lower()][0] \n",
    "    return len([s for s in phonemes if s[-1].isdigit()])\n",
    "\n",
    "# Identifing complex words\n",
    "w_tokens = [i for i in word_tokens if i in cmud]\n",
    "complex_words = [word for word in w_tokens if count_syllables(word) > 2]\n",
    "\n",
    "# Calculatingnumber of complex words\n",
    "num_complex_words = len(complex_words)\n",
    "\n",
    "print(\"Number of complex words:\", num_complex_words)\n",
    "print(\"Total number of words:\", len(texts))"
   ]
  },
  {
   "cell_type": "code",
   "execution_count": 30,
   "id": "e982c0a1",
   "metadata": {},
   "outputs": [
    {
     "data": {
      "text/plain": [
       "50.55"
      ]
     },
     "execution_count": 30,
     "metadata": {},
     "output_type": "execute_result"
    }
   ],
   "source": [
    "Perc_of_Complex_words = len(texts) / num_complex_words\n",
    "round(Perc_of_Complex_words,2)"
   ]
  },
  {
   "cell_type": "markdown",
   "id": "77e948d1",
   "metadata": {},
   "source": [
    "### Fog Index"
   ]
  },
  {
   "cell_type": "code",
   "execution_count": 31,
   "id": "95fb10bb",
   "metadata": {},
   "outputs": [
    {
     "name": "stdout",
     "output_type": "stream",
     "text": [
      "Average sentence length: 16.0\n"
     ]
    }
   ],
   "source": [
    "# Tokenize each sentence into words\n",
    "words = [word_tokens for sentence in sent_tokens]\n",
    "\n",
    "# Calculate the average sentence length\n",
    "avg_sent_len = sum(No_of_sents for sentence in words) / No_of_sents\n",
    "\n",
    "print(\"Average sentence length:\", avg_sent_len)\n"
   ]
  },
  {
   "cell_type": "code",
   "execution_count": 32,
   "id": "38f5a93b",
   "metadata": {},
   "outputs": [
    {
     "data": {
      "text/plain": [
       "26.62"
      ]
     },
     "execution_count": 32,
     "metadata": {},
     "output_type": "execute_result"
    }
   ],
   "source": [
    "Fog_index = 0.4 * (avg_sent_len + Perc_of_Complex_words)\n",
    "round(Fog_index,2)"
   ]
  },
  {
   "cell_type": "markdown",
   "id": "5b4aacea",
   "metadata": {},
   "source": [
    "# Average Number of Words Per Sentence"
   ]
  },
  {
   "cell_type": "code",
   "execution_count": 33,
   "id": "45da1407",
   "metadata": {},
   "outputs": [
    {
     "data": {
      "text/plain": [
       "24.62"
      ]
     },
     "execution_count": 33,
     "metadata": {},
     "output_type": "execute_result"
    }
   ],
   "source": [
    "avg_no_of_words_per_sent = No_of_words / No_of_sents\n",
    "round(avg_no_of_words_per_sent,2)"
   ]
  },
  {
   "cell_type": "markdown",
   "id": "f2d9b493",
   "metadata": {},
   "source": [
    "# Complex Word Count"
   ]
  },
  {
   "cell_type": "code",
   "execution_count": 34,
   "id": "75304424",
   "metadata": {},
   "outputs": [
    {
     "name": "stdout",
     "output_type": "stream",
     "text": [
      "complex word count: 44\n"
     ]
    }
   ],
   "source": [
    "from nltk.corpus import cmudict\n",
    "cmud = cmudict.dict()\n",
    "\n",
    "# Defining a function to count syllables in a word\n",
    "def count_syllables(word):\n",
    "    phonemes = cmud[word.lower()][0] \n",
    "    return len([s for s in phonemes if s[-1].isdigit()])\n",
    "\n",
    "# Identifing complex words\n",
    "w_tokens = [i for i in word_tokens if i in cmud]\n",
    "complex_words = [word for word in w_tokens if count_syllables(word) > 2]\n",
    "\n",
    "# Calculatingnumber of complex words\n",
    "num_complex_words = len(complex_words)\n",
    "\n",
    "print(\"complex word count:\", num_complex_words)"
   ]
  },
  {
   "cell_type": "markdown",
   "id": "99ea5188",
   "metadata": {},
   "source": [
    "# Word Count\n",
    "number of words after cleaning"
   ]
  },
  {
   "cell_type": "code",
   "execution_count": 35,
   "id": "b4fb0c72",
   "metadata": {},
   "outputs": [
    {
     "data": {
      "text/plain": [
       "212"
      ]
     },
     "execution_count": 35,
     "metadata": {},
     "output_type": "execute_result"
    }
   ],
   "source": [
    "len(new_texts)"
   ]
  },
  {
   "cell_type": "markdown",
   "id": "ca8076ff",
   "metadata": {},
   "source": [
    "# Syllable Count Per Word"
   ]
  },
  {
   "cell_type": "code",
   "execution_count": 36,
   "id": "bc568045",
   "metadata": {},
   "outputs": [
    {
     "name": "stdout",
     "output_type": "stream",
     "text": [
      "Enter a word to get syllable: different\n",
      "Number of syllable in a word : 3\n"
     ]
    }
   ],
   "source": [
    "word = input(\"Enter a word to get syllable: \")\n",
    "def count_syllables(word):\n",
    "    phonemes = cmud[word.lower()][0] \n",
    "    return len([s for s in phonemes if s[-1].isdigit()])\n",
    "\n",
    "print(\"Number of syllable in a word :\",count_syllables(word))"
   ]
  },
  {
   "cell_type": "markdown",
   "id": "1d3a18f6",
   "metadata": {},
   "source": [
    "# Personal Pronouns"
   ]
  },
  {
   "cell_type": "code",
   "execution_count": 37,
   "id": "0b8e0d2d",
   "metadata": {},
   "outputs": [
    {
     "name": "stdout",
     "output_type": "stream",
     "text": [
      "Personal pronoun frequency: {'it': 3, 'them': 1}\n",
      "total number of pronouns in a article : 4\n"
     ]
    }
   ],
   "source": [
    "import re\n",
    "\n",
    "# Define a regex pattern to match personal pronouns\n",
    "pattern = r'\\b(I|you|he|she|it|we|they|me|him|her|us|them)\\b'\n",
    "\n",
    "# Count the frequency of personal pronouns\n",
    "pronoun_freq = {}\n",
    "for pronoun in re.findall(pattern, texts, re.IGNORECASE):\n",
    "    pronoun = pronoun.lower()\n",
    "    if pronoun in pronoun_freq:\n",
    "        pronoun_freq[pronoun] += 1\n",
    "    else:\n",
    "        pronoun_freq[pronoun] = 1\n",
    "\n",
    "print(\"Personal pronoun frequency:\", pronoun_freq)\n",
    "def returnSum(dict):\n",
    " \n",
    "    sum = 0\n",
    "    for i in pronoun_freq.values():\n",
    "        sum = sum + i\n",
    " \n",
    "    return sum\n",
    "print(\"total number of pronouns in a article :\",returnSum(pronoun_freq))"
   ]
  },
  {
   "cell_type": "markdown",
   "id": "e3fc87f8",
   "metadata": {},
   "source": [
    "# Average Word Length"
   ]
  },
  {
   "cell_type": "code",
   "execution_count": 38,
   "id": "5bde37d9",
   "metadata": {},
   "outputs": [
    {
     "name": "stdout",
     "output_type": "stream",
     "text": [
      "Average word length: 4.66\n"
     ]
    }
   ],
   "source": [
    "# Calculate the total number of characters in all words\n",
    "total_chars = sum(len(word) for word in word_tokens)\n",
    "\n",
    "avg_word_length = total_chars / No_of_words\n",
    "\n",
    "print(\"Average word length:\", round(avg_word_length,2))\n"
   ]
  },
  {
   "cell_type": "code",
   "execution_count": null,
   "id": "63dc25ad",
   "metadata": {},
   "outputs": [],
   "source": []
  },
  {
   "cell_type": "code",
   "execution_count": null,
   "id": "819012c5",
   "metadata": {},
   "outputs": [],
   "source": []
  }
 ],
 "metadata": {
  "kernelspec": {
   "display_name": "Python 3",
   "language": "python",
   "name": "python3"
  },
  "language_info": {
   "codemirror_mode": {
    "name": "ipython",
    "version": 3
   },
   "file_extension": ".py",
   "mimetype": "text/x-python",
   "name": "python",
   "nbconvert_exporter": "python",
   "pygments_lexer": "ipython3",
   "version": "3.8.8"
  }
 },
 "nbformat": 4,
 "nbformat_minor": 5
}
