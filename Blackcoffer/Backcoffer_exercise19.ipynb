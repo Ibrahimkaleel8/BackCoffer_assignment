{
 "cells": [
  {
   "cell_type": "markdown",
   "id": "b9312f26",
   "metadata": {},
   "source": [
    "# Data scraping"
   ]
  },
  {
   "cell_type": "code",
   "execution_count": 1,
   "id": "ef4785ca",
   "metadata": {},
   "outputs": [],
   "source": [
    "import nltk\n",
    "import requests\n",
    "from bs4 import BeautifulSoup"
   ]
  },
  {
   "cell_type": "code",
   "execution_count": 2,
   "id": "ac2f2459",
   "metadata": {},
   "outputs": [],
   "source": [
    "req = requests.get(\"https://insights.blackcoffer.com/evolution-of-advertising-industry/\")"
   ]
  },
  {
   "cell_type": "code",
   "execution_count": 3,
   "id": "45f9fa09",
   "metadata": {},
   "outputs": [],
   "source": [
    "soup = BeautifulSoup(req.content, \"html.parser\")\n",
    "res = soup.title\n",
    "paras = soup.find_all('p')"
   ]
  },
  {
   "cell_type": "code",
   "execution_count": 4,
   "id": "dbb256b2",
   "metadata": {
    "scrolled": true
   },
   "outputs": [
    {
     "name": "stdout",
     "output_type": "stream",
     "text": [
      "Advertising can be described as a type of specific content broadcasting to a larger audience; the form can take several different forms, and the intended message can differ from genre to genre. The target for each medium could be different. Advertised content could be in print, radio, TV, or digital formats. We’ll look at how the advertising market has changed over the last ten decade. Advertising is a form of communication that aims to persuade a target audience. Typical advertising messages endorse programs, goods, concepts, people, and companies. First, conventional types of advertising were used to carry out advertising. Let’s take a look at the traditional forms of advertising. Advertising can include in-flight advertising, street furniture, passenger displays, billboards, skywriting, posters, wall paintings, banners, taxi cabs, passenger screens, television, and newspaper advertisements. Other types of advertising include press advertisements in magazines and newspapers. Advertising in the classified section of a newspaper is an example of press advertising. A billboard or digital screen placed on a moving vehicle is often referred to as a mobile billboard. When a brand or product is used in a large entertainment venue, it is known as convert ads or guerrilla advertising. When a soft drink, a watch, or a pair of sneakers is seen or mentioned in a common film, this is an example of this. Ad in supermarket videos, aisles, and on the inside of shopping carts is referred to as in-store advertising. Consumers are influenced by celebrity advertisements because of the power of wealth, fame, and popularity. However, if a celebrity falls out of favor, the use of that celebrity may be detrimental to a company. Religious organizations, political parties, political candidates, and special interest groups are examples of noncommercial ads. These were the conventional forms of advertisement, but as the internet and technology progressed, the advertising industry began to play a role in helping brands establish a digital presence and advertising their products in a new way. The advertising industry is a multibillion-dollar global company that connects producers with customers. According to the research firm eMarkerter, global media advertising spending totaled nearly $629 billion in 2018, with digital advertising accounting for nearly 44% of that amount. For more than a decade, consumers’ perspectives have been shifted in favor of commercials. Advertisements are created based on the preferences of the target audience, and as the population has become more tech-savvy, advertising agencies have shifted their focus from conventional to digital advertising. The internet, as well as the devices, used to access it. Internet advertising has evolved from a risky gamble to the main marketing medium for most businesses. Digital advertising continues to expand by double digits on an annual revenue basis in the United States, with overall spending exceeding $129 billion in 2019. Mobile advertising is a form of advertising that uses wireless devices such as smartphones, tablets, and personal digital assistants to view advertisements. In the consumer goods and retail industries, it is extremely necessary. Mobile advertising contents tailored to particular age groups present an opportunity for the mobile advertising industry. The challenges that the mobile advertising industry faces pose a significant risk of new entrants. Content marketing is an old trend that has resurfaced. Many marketers have struggled to determine how powerful banners and display advertising on other people’s content are. Companies are embedding their marketing pitch within the content itself, rather than serving an ad. This can take the form of publisher-tailored content that the advertiser can support or content that the advertiser publishes directly. There are different kinds of businesses and websites that have used content marketing to grow and flourish in the industry. Content marketing is a trend that has contributed a large amount of income to the advertisement industry. To summarise, the advertising industry has evolved through time and will continue to do so as technology advances, allowing advertisers to reach a wider audience and gain a greater understanding of the people to whom they are delivering material. The advertising industry will continue to develop in tandem with innovation. People are also becoming more jaded when it comes to advertisements, pushing businesses to come up with new ways to convey their messages. However, advertisement has a promising future. \n"
     ]
    }
   ],
   "source": [
    "texts = \" \".join([paragraph.text.strip() for paragraph in paras])\n",
    "print(texts)"
   ]
  },
  {
   "cell_type": "code",
   "execution_count": 5,
   "id": "e79f5f60",
   "metadata": {},
   "outputs": [
    {
     "data": {
      "text/plain": [
       "4613"
      ]
     },
     "execution_count": 5,
     "metadata": {},
     "output_type": "execute_result"
    }
   ],
   "source": [
    "len(texts)"
   ]
  },
  {
   "cell_type": "markdown",
   "id": "db8f1fcc",
   "metadata": {},
   "source": [
    "Removing Punctuation"
   ]
  },
  {
   "cell_type": "code",
   "execution_count": 6,
   "id": "5285c8a8",
   "metadata": {},
   "outputs": [
    {
     "data": {
      "text/plain": [
       "4613"
      ]
     },
     "execution_count": 6,
     "metadata": {},
     "output_type": "execute_result"
    }
   ],
   "source": [
    "import re\n",
    "import string\n",
    "texts = re.sub(r'[\\'\\“\\”\\()\\%\\,\\-\\'\\’\\?\\ ]', ' ', texts)\n",
    "texts[0:200]\n",
    "len(texts)"
   ]
  },
  {
   "cell_type": "markdown",
   "id": "4fafe7be",
   "metadata": {},
   "source": [
    "# Removing Stopwords"
   ]
  },
  {
   "cell_type": "code",
   "execution_count": 7,
   "id": "089b8663",
   "metadata": {},
   "outputs": [],
   "source": [
    "from nltk.tokenize import word_tokenize"
   ]
  },
  {
   "cell_type": "code",
   "execution_count": 8,
   "id": "280876b0",
   "metadata": {},
   "outputs": [
    {
     "data": {
      "text/plain": [
       "['Advertising',\n",
       " 'can',\n",
       " 'be',\n",
       " 'described',\n",
       " 'as',\n",
       " 'a',\n",
       " 'type',\n",
       " 'of',\n",
       " 'specific',\n",
       " 'content',\n",
       " 'broadcasting',\n",
       " 'to',\n",
       " 'a',\n",
       " 'larger',\n",
       " 'audience',\n",
       " ';',\n",
       " 'the',\n",
       " 'form',\n",
       " 'can',\n",
       " 'take',\n",
       " 'several',\n",
       " 'different',\n",
       " 'forms',\n",
       " 'and',\n",
       " 'the',\n",
       " 'intended',\n",
       " 'message',\n",
       " 'can',\n",
       " 'differ',\n",
       " 'from',\n",
       " 'genre',\n",
       " 'to',\n",
       " 'genre',\n",
       " '.',\n",
       " 'The',\n",
       " 'target',\n",
       " 'for',\n",
       " 'each',\n",
       " 'medium',\n",
       " 'could',\n",
       " 'be',\n",
       " 'different',\n",
       " '.',\n",
       " 'Advertised',\n",
       " 'content',\n",
       " 'could',\n",
       " 'be',\n",
       " 'in',\n",
       " 'print',\n",
       " 'radio',\n",
       " 'TV',\n",
       " 'or',\n",
       " 'digital',\n",
       " 'formats',\n",
       " '.',\n",
       " 'We',\n",
       " 'll',\n",
       " 'look',\n",
       " 'at',\n",
       " 'how',\n",
       " 'the',\n",
       " 'advertising',\n",
       " 'market',\n",
       " 'has',\n",
       " 'changed',\n",
       " 'over',\n",
       " 'the',\n",
       " 'last',\n",
       " 'ten',\n",
       " 'decade',\n",
       " '.',\n",
       " 'Advertising',\n",
       " 'is',\n",
       " 'a',\n",
       " 'form',\n",
       " 'of',\n",
       " 'communication',\n",
       " 'that',\n",
       " 'aims',\n",
       " 'to',\n",
       " 'persuade',\n",
       " 'a',\n",
       " 'target',\n",
       " 'audience',\n",
       " '.',\n",
       " 'Typical',\n",
       " 'advertising',\n",
       " 'messages',\n",
       " 'endorse',\n",
       " 'programs',\n",
       " 'goods',\n",
       " 'concepts',\n",
       " 'people',\n",
       " 'and',\n",
       " 'companies',\n",
       " '.',\n",
       " 'First',\n",
       " 'conventional',\n",
       " 'types',\n",
       " 'of',\n",
       " 'advertising',\n",
       " 'were',\n",
       " 'used',\n",
       " 'to',\n",
       " 'carry',\n",
       " 'out',\n",
       " 'advertising',\n",
       " '.',\n",
       " 'Let',\n",
       " 's',\n",
       " 'take',\n",
       " 'a',\n",
       " 'look',\n",
       " 'at',\n",
       " 'the',\n",
       " 'traditional',\n",
       " 'forms',\n",
       " 'of',\n",
       " 'advertising',\n",
       " '.',\n",
       " 'Advertising',\n",
       " 'can',\n",
       " 'include',\n",
       " 'in',\n",
       " 'flight',\n",
       " 'advertising',\n",
       " 'street',\n",
       " 'furniture',\n",
       " 'passenger',\n",
       " 'displays',\n",
       " 'billboards',\n",
       " 'skywriting',\n",
       " 'posters',\n",
       " 'wall',\n",
       " 'paintings',\n",
       " 'banners',\n",
       " 'taxi',\n",
       " 'cabs',\n",
       " 'passenger',\n",
       " 'screens',\n",
       " 'television',\n",
       " 'and',\n",
       " 'newspaper',\n",
       " 'advertisements',\n",
       " '.',\n",
       " 'Other',\n",
       " 'types',\n",
       " 'of',\n",
       " 'advertising',\n",
       " 'include',\n",
       " 'press',\n",
       " 'advertisements',\n",
       " 'in',\n",
       " 'magazines',\n",
       " 'and',\n",
       " 'newspapers',\n",
       " '.',\n",
       " 'Advertising',\n",
       " 'in',\n",
       " 'the',\n",
       " 'classified',\n",
       " 'section',\n",
       " 'of',\n",
       " 'a',\n",
       " 'newspaper',\n",
       " 'is',\n",
       " 'an',\n",
       " 'example',\n",
       " 'of',\n",
       " 'press',\n",
       " 'advertising',\n",
       " '.',\n",
       " 'A',\n",
       " 'billboard',\n",
       " 'or',\n",
       " 'digital',\n",
       " 'screen',\n",
       " 'placed',\n",
       " 'on',\n",
       " 'a',\n",
       " 'moving',\n",
       " 'vehicle',\n",
       " 'is',\n",
       " 'often',\n",
       " 'referred',\n",
       " 'to',\n",
       " 'as',\n",
       " 'a',\n",
       " 'mobile',\n",
       " 'billboard',\n",
       " '.',\n",
       " 'When',\n",
       " 'a',\n",
       " 'brand',\n",
       " 'or',\n",
       " 'product',\n",
       " 'is',\n",
       " 'used',\n",
       " 'in',\n",
       " 'a',\n",
       " 'large',\n",
       " 'entertainment',\n",
       " 'venue',\n",
       " 'it',\n",
       " 'is',\n",
       " 'known',\n",
       " 'as',\n",
       " 'convert',\n",
       " 'ads',\n",
       " 'or',\n",
       " 'guerrilla',\n",
       " 'advertising',\n",
       " '.',\n",
       " 'When',\n",
       " 'a',\n",
       " 'soft',\n",
       " 'drink',\n",
       " 'a',\n",
       " 'watch',\n",
       " 'or',\n",
       " 'a',\n",
       " 'pair',\n",
       " 'of',\n",
       " 'sneakers',\n",
       " 'is',\n",
       " 'seen',\n",
       " 'or',\n",
       " 'mentioned',\n",
       " 'in',\n",
       " 'a',\n",
       " 'common',\n",
       " 'film',\n",
       " 'this',\n",
       " 'is',\n",
       " 'an',\n",
       " 'example',\n",
       " 'of',\n",
       " 'this',\n",
       " '.',\n",
       " 'Ad',\n",
       " 'in',\n",
       " 'supermarket',\n",
       " 'videos',\n",
       " 'aisles',\n",
       " 'and',\n",
       " 'on',\n",
       " 'the',\n",
       " 'inside',\n",
       " 'of',\n",
       " 'shopping',\n",
       " 'carts',\n",
       " 'is',\n",
       " 'referred',\n",
       " 'to',\n",
       " 'as',\n",
       " 'in',\n",
       " 'store',\n",
       " 'advertising',\n",
       " '.',\n",
       " 'Consumers',\n",
       " 'are',\n",
       " 'influenced',\n",
       " 'by',\n",
       " 'celebrity',\n",
       " 'advertisements',\n",
       " 'because',\n",
       " 'of',\n",
       " 'the',\n",
       " 'power',\n",
       " 'of',\n",
       " 'wealth',\n",
       " 'fame',\n",
       " 'and',\n",
       " 'popularity',\n",
       " '.',\n",
       " 'However',\n",
       " 'if',\n",
       " 'a',\n",
       " 'celebrity',\n",
       " 'falls',\n",
       " 'out',\n",
       " 'of',\n",
       " 'favor',\n",
       " 'the',\n",
       " 'use',\n",
       " 'of',\n",
       " 'that',\n",
       " 'celebrity',\n",
       " 'may',\n",
       " 'be',\n",
       " 'detrimental',\n",
       " 'to',\n",
       " 'a',\n",
       " 'company',\n",
       " '.',\n",
       " 'Religious',\n",
       " 'organizations',\n",
       " 'political',\n",
       " 'parties',\n",
       " 'political',\n",
       " 'candidates',\n",
       " 'and',\n",
       " 'special',\n",
       " 'interest',\n",
       " 'groups',\n",
       " 'are',\n",
       " 'examples',\n",
       " 'of',\n",
       " 'noncommercial',\n",
       " 'ads',\n",
       " '.',\n",
       " 'These',\n",
       " 'were',\n",
       " 'the',\n",
       " 'conventional',\n",
       " 'forms',\n",
       " 'of',\n",
       " 'advertisement',\n",
       " 'but',\n",
       " 'as',\n",
       " 'the',\n",
       " 'internet',\n",
       " 'and',\n",
       " 'technology',\n",
       " 'progressed',\n",
       " 'the',\n",
       " 'advertising',\n",
       " 'industry',\n",
       " 'began',\n",
       " 'to',\n",
       " 'play',\n",
       " 'a',\n",
       " 'role',\n",
       " 'in',\n",
       " 'helping',\n",
       " 'brands',\n",
       " 'establish',\n",
       " 'a',\n",
       " 'digital',\n",
       " 'presence',\n",
       " 'and',\n",
       " 'advertising',\n",
       " 'their',\n",
       " 'products',\n",
       " 'in',\n",
       " 'a',\n",
       " 'new',\n",
       " 'way',\n",
       " '.',\n",
       " 'The',\n",
       " 'advertising',\n",
       " 'industry',\n",
       " 'is',\n",
       " 'a',\n",
       " 'multibillion',\n",
       " 'dollar',\n",
       " 'global',\n",
       " 'company',\n",
       " 'that',\n",
       " 'connects',\n",
       " 'producers',\n",
       " 'with',\n",
       " 'customers',\n",
       " '.',\n",
       " 'According',\n",
       " 'to',\n",
       " 'the',\n",
       " 'research',\n",
       " 'firm',\n",
       " 'eMarkerter',\n",
       " 'global',\n",
       " 'media',\n",
       " 'advertising',\n",
       " 'spending',\n",
       " 'totaled',\n",
       " 'nearly',\n",
       " '$',\n",
       " '629',\n",
       " 'billion',\n",
       " 'in',\n",
       " '2018',\n",
       " 'with',\n",
       " 'digital',\n",
       " 'advertising',\n",
       " 'accounting',\n",
       " 'for',\n",
       " 'nearly',\n",
       " '44',\n",
       " 'of',\n",
       " 'that',\n",
       " 'amount',\n",
       " '.',\n",
       " 'For',\n",
       " 'more',\n",
       " 'than',\n",
       " 'a',\n",
       " 'decade',\n",
       " 'consumers',\n",
       " 'perspectives',\n",
       " 'have',\n",
       " 'been',\n",
       " 'shifted',\n",
       " 'in',\n",
       " 'favor',\n",
       " 'of',\n",
       " 'commercials',\n",
       " '.',\n",
       " 'Advertisements',\n",
       " 'are',\n",
       " 'created',\n",
       " 'based',\n",
       " 'on',\n",
       " 'the',\n",
       " 'preferences',\n",
       " 'of',\n",
       " 'the',\n",
       " 'target',\n",
       " 'audience',\n",
       " 'and',\n",
       " 'as',\n",
       " 'the',\n",
       " 'population',\n",
       " 'has',\n",
       " 'become',\n",
       " 'more',\n",
       " 'tech',\n",
       " 'savvy',\n",
       " 'advertising',\n",
       " 'agencies',\n",
       " 'have',\n",
       " 'shifted',\n",
       " 'their',\n",
       " 'focus',\n",
       " 'from',\n",
       " 'conventional',\n",
       " 'to',\n",
       " 'digital',\n",
       " 'advertising',\n",
       " '.',\n",
       " 'The',\n",
       " 'internet',\n",
       " 'as',\n",
       " 'well',\n",
       " 'as',\n",
       " 'the',\n",
       " 'devices',\n",
       " 'used',\n",
       " 'to',\n",
       " 'access',\n",
       " 'it',\n",
       " '.',\n",
       " 'Internet',\n",
       " 'advertising',\n",
       " 'has',\n",
       " 'evolved',\n",
       " 'from',\n",
       " 'a',\n",
       " 'risky',\n",
       " 'gamble',\n",
       " 'to',\n",
       " 'the',\n",
       " 'main',\n",
       " 'marketing',\n",
       " 'medium',\n",
       " 'for',\n",
       " 'most',\n",
       " 'businesses',\n",
       " '.',\n",
       " 'Digital',\n",
       " 'advertising',\n",
       " 'continues',\n",
       " 'to',\n",
       " 'expand',\n",
       " 'by',\n",
       " 'double',\n",
       " 'digits',\n",
       " 'on',\n",
       " 'an',\n",
       " 'annual',\n",
       " 'revenue',\n",
       " 'basis',\n",
       " 'in',\n",
       " 'the',\n",
       " 'United',\n",
       " 'States',\n",
       " 'with',\n",
       " 'overall',\n",
       " 'spending',\n",
       " 'exceeding',\n",
       " '$',\n",
       " '129',\n",
       " 'billion',\n",
       " 'in',\n",
       " '2019',\n",
       " '.',\n",
       " 'Mobile',\n",
       " 'advertising',\n",
       " 'is',\n",
       " 'a',\n",
       " 'form',\n",
       " 'of',\n",
       " 'advertising',\n",
       " 'that',\n",
       " 'uses',\n",
       " 'wireless',\n",
       " 'devices',\n",
       " 'such',\n",
       " 'as',\n",
       " 'smartphones',\n",
       " 'tablets',\n",
       " 'and',\n",
       " 'personal',\n",
       " 'digital',\n",
       " 'assistants',\n",
       " 'to',\n",
       " 'view',\n",
       " 'advertisements',\n",
       " '.',\n",
       " 'In',\n",
       " 'the',\n",
       " 'consumer',\n",
       " 'goods',\n",
       " 'and',\n",
       " 'retail',\n",
       " 'industries',\n",
       " 'it',\n",
       " 'is',\n",
       " 'extremely',\n",
       " 'necessary',\n",
       " '.',\n",
       " 'Mobile',\n",
       " 'advertising',\n",
       " 'contents',\n",
       " 'tailored',\n",
       " 'to',\n",
       " 'particular',\n",
       " 'age',\n",
       " 'groups',\n",
       " 'present',\n",
       " 'an',\n",
       " 'opportunity',\n",
       " 'for',\n",
       " 'the',\n",
       " 'mobile',\n",
       " 'advertising',\n",
       " 'industry',\n",
       " '.',\n",
       " 'The',\n",
       " 'challenges',\n",
       " 'that',\n",
       " 'the',\n",
       " 'mobile',\n",
       " 'advertising',\n",
       " 'industry',\n",
       " 'faces',\n",
       " 'pose',\n",
       " 'a',\n",
       " 'significant',\n",
       " 'risk',\n",
       " 'of',\n",
       " 'new',\n",
       " 'entrants',\n",
       " '.',\n",
       " 'Content',\n",
       " 'marketing',\n",
       " 'is',\n",
       " 'an',\n",
       " 'old',\n",
       " 'trend',\n",
       " 'that',\n",
       " 'has',\n",
       " 'resurfaced',\n",
       " '.',\n",
       " 'Many',\n",
       " 'marketers',\n",
       " 'have',\n",
       " 'struggled',\n",
       " 'to',\n",
       " 'determine',\n",
       " 'how',\n",
       " 'powerful',\n",
       " 'banners',\n",
       " 'and',\n",
       " 'display',\n",
       " 'advertising',\n",
       " 'on',\n",
       " 'other',\n",
       " 'people',\n",
       " 's',\n",
       " 'content',\n",
       " 'are',\n",
       " '.',\n",
       " 'Companies',\n",
       " 'are',\n",
       " 'embedding',\n",
       " 'their',\n",
       " 'marketing',\n",
       " 'pitch',\n",
       " 'within',\n",
       " 'the',\n",
       " 'content',\n",
       " 'itself',\n",
       " 'rather',\n",
       " 'than',\n",
       " 'serving',\n",
       " 'an',\n",
       " 'ad',\n",
       " '.',\n",
       " 'This',\n",
       " 'can',\n",
       " 'take',\n",
       " 'the',\n",
       " 'form',\n",
       " 'of',\n",
       " 'publisher',\n",
       " 'tailored',\n",
       " 'content',\n",
       " 'that',\n",
       " 'the',\n",
       " 'advertiser',\n",
       " 'can',\n",
       " 'support',\n",
       " 'or',\n",
       " 'content',\n",
       " 'that',\n",
       " 'the',\n",
       " 'advertiser',\n",
       " 'publishes',\n",
       " 'directly',\n",
       " '.',\n",
       " 'There',\n",
       " 'are',\n",
       " 'different',\n",
       " 'kinds',\n",
       " 'of',\n",
       " 'businesses',\n",
       " 'and',\n",
       " 'websites',\n",
       " 'that',\n",
       " 'have',\n",
       " 'used',\n",
       " 'content',\n",
       " 'marketing',\n",
       " 'to',\n",
       " 'grow',\n",
       " 'and',\n",
       " 'flourish',\n",
       " 'in',\n",
       " 'the',\n",
       " 'industry',\n",
       " '.',\n",
       " 'Content',\n",
       " 'marketing',\n",
       " 'is',\n",
       " 'a',\n",
       " 'trend',\n",
       " 'that',\n",
       " 'has',\n",
       " 'contributed',\n",
       " 'a',\n",
       " 'large',\n",
       " 'amount',\n",
       " 'of',\n",
       " 'income',\n",
       " 'to',\n",
       " 'the',\n",
       " 'advertisement',\n",
       " 'industry',\n",
       " '.',\n",
       " 'To',\n",
       " 'summarise',\n",
       " 'the',\n",
       " 'advertising',\n",
       " 'industry',\n",
       " 'has',\n",
       " 'evolved',\n",
       " 'through',\n",
       " 'time',\n",
       " 'and',\n",
       " 'will',\n",
       " 'continue',\n",
       " 'to',\n",
       " 'do',\n",
       " 'so',\n",
       " 'as',\n",
       " 'technology',\n",
       " 'advances',\n",
       " 'allowing',\n",
       " 'advertisers',\n",
       " 'to',\n",
       " 'reach',\n",
       " 'a',\n",
       " 'wider',\n",
       " 'audience',\n",
       " 'and',\n",
       " 'gain',\n",
       " 'a',\n",
       " 'greater',\n",
       " 'understanding',\n",
       " 'of',\n",
       " 'the',\n",
       " 'people',\n",
       " 'to',\n",
       " 'whom',\n",
       " 'they',\n",
       " 'are',\n",
       " 'delivering',\n",
       " 'material',\n",
       " '.',\n",
       " 'The',\n",
       " 'advertising',\n",
       " 'industry',\n",
       " 'will',\n",
       " 'continue',\n",
       " 'to',\n",
       " 'develop',\n",
       " 'in',\n",
       " 'tandem',\n",
       " 'with',\n",
       " 'innovation',\n",
       " '.',\n",
       " 'People',\n",
       " 'are',\n",
       " 'also',\n",
       " 'becoming',\n",
       " 'more',\n",
       " 'jaded',\n",
       " 'when',\n",
       " 'it',\n",
       " 'comes',\n",
       " 'to',\n",
       " 'advertisements',\n",
       " 'pushing',\n",
       " 'businesses',\n",
       " 'to',\n",
       " 'come',\n",
       " 'up',\n",
       " 'with',\n",
       " 'new',\n",
       " 'ways',\n",
       " 'to',\n",
       " 'convey',\n",
       " 'their',\n",
       " 'messages',\n",
       " '.',\n",
       " 'However',\n",
       " 'advertisement',\n",
       " 'has',\n",
       " 'a',\n",
       " 'promising',\n",
       " 'future',\n",
       " '.']"
      ]
     },
     "execution_count": 8,
     "metadata": {},
     "output_type": "execute_result"
    }
   ],
   "source": [
    "token = word_tokenize(texts)\n",
    "token"
   ]
  },
  {
   "cell_type": "code",
   "execution_count": 9,
   "id": "10016a09",
   "metadata": {},
   "outputs": [],
   "source": [
    "with open(\"D:\\lab\\Dataset\\Stopwords_Blackcoffer.txt\", 'r') as file:\n",
    "    data = file.read()"
   ]
  },
  {
   "cell_type": "code",
   "execution_count": 10,
   "id": "c567cbef",
   "metadata": {},
   "outputs": [
    {
     "data": {
      "text/plain": [
       "'ERNST\\nYOUNG\\nDELOITTE\\nTOUCHE\\nKPMG\\nPRICEWATERHOUSECOOPERS\\nPRICEWATERHOUSE\\nCOOPERS\\nAFGHANI\\nARIARY\\nBAHT\\n'"
      ]
     },
     "execution_count": 10,
     "metadata": {},
     "output_type": "execute_result"
    }
   ],
   "source": [
    "data[:100]"
   ]
  },
  {
   "cell_type": "code",
   "execution_count": 11,
   "id": "d65bfa92",
   "metadata": {},
   "outputs": [
    {
     "data": {
      "text/plain": [
       "'ERNST,YOUNG,DELOITTE,TOUCHE,KPMG,PRICEWATERHOUSECOOPERS,PRICEWATERHOUSE,COOPERS,AFGHANI,ARIARY,BAHT,'"
      ]
     },
     "execution_count": 11,
     "metadata": {},
     "output_type": "execute_result"
    }
   ],
   "source": [
    "data = data.replace('\\n', ',')\n",
    "data[:100]"
   ]
  },
  {
   "cell_type": "code",
   "execution_count": 12,
   "id": "0ef23874",
   "metadata": {},
   "outputs": [
    {
     "data": {
      "text/plain": [
       "'Advertising type specific content broadcasting larger audience ; forms intended message genre genre . The target medium . Advertised content print radio TV digital formats . We advertising market chan'"
      ]
     },
     "execution_count": 12,
     "metadata": {},
     "output_type": "execute_result"
    }
   ],
   "source": [
    "new_texts = \" \".join([i for i in token if i not in data])\n",
    "new_texts[:200]"
   ]
  },
  {
   "cell_type": "code",
   "execution_count": 13,
   "id": "ea392da4",
   "metadata": {},
   "outputs": [
    {
     "name": "stdout",
     "output_type": "stream",
     "text": [
      "length before cleaning:  4613\n",
      "length after cleaning:  3250\n"
     ]
    }
   ],
   "source": [
    "print(\"length before cleaning: \", len(texts))\n",
    "print(\"length after cleaning: \", len(new_texts))"
   ]
  },
  {
   "cell_type": "markdown",
   "id": "1f456147",
   "metadata": {},
   "source": [
    "# Negative words"
   ]
  },
  {
   "cell_type": "code",
   "execution_count": 14,
   "id": "dc3618a7",
   "metadata": {},
   "outputs": [],
   "source": [
    "with open(\"D:\\\\lab\\\\Dataset\\\\Negative_words.txt\", 'r') as file:\n",
    "    negative = file.read()"
   ]
  },
  {
   "cell_type": "code",
   "execution_count": 15,
   "id": "2123c4cb",
   "metadata": {},
   "outputs": [
    {
     "data": {
      "text/plain": [
       "'2-faced\\n2-faces\\nabnormal\\nabolish\\nabominable\\nabominably\\nabominate\\nabomination\\nabort\\naborted\\naborts\\nabrade\\nabrasive\\nabrupt\\nabruptly\\nabscond\\nabsence\\nabsent-minded\\nabsentee\\nabsurd\\nabsurdity\\nabsurdly\\nabsurdness\\n'"
      ]
     },
     "execution_count": 15,
     "metadata": {},
     "output_type": "execute_result"
    }
   ],
   "source": [
    "negative[:206]"
   ]
  },
  {
   "cell_type": "code",
   "execution_count": 16,
   "id": "28f44c97",
   "metadata": {},
   "outputs": [
    {
     "data": {
      "text/plain": [
       "'2-faced,2-faces,abnormal,abolish,abominable,abominably,abominate,abomination,abort,aborted,aborts,abrade,abrasive,abrupt,abruptly,abscond,absence,absent-minded,absentee,absurd,absurdity,absurdly,absurdness,'"
      ]
     },
     "execution_count": 16,
     "metadata": {},
     "output_type": "execute_result"
    }
   ],
   "source": [
    "negative = negative.replace('\\n', ',')\n",
    "negative[:206]"
   ]
  },
  {
   "cell_type": "code",
   "execution_count": 17,
   "id": "31a272c0",
   "metadata": {},
   "outputs": [
    {
     "name": "stdout",
     "output_type": "stream",
     "text": [
      "['type', 'content', 'content', 'decade', 'flight', 'wall', 'taxi', 'press', 'press', 'screen', 'moving', 'product', 'watch', 'pair', 'common', 'power', 'fame', 'falls', 'favor', 'detrimental', 'interest', 'play', 'firm', 'decade', 'favor', 'access', 'risky', 'personal', 'view', 'age', 'present', 'faces', 'pose', 'significant', 'risk', 'struggled', 'determine', 'content', 'content', 'serving', 'content', 'support', 'content', 'content', 'grow', 'continue', 'reach', 'understanding', 'material', 'continue', 'develop', 'jaded', 'promising']\n"
     ]
    },
    {
     "data": {
      "text/plain": [
       "53"
      ]
     },
     "execution_count": 17,
     "metadata": {},
     "output_type": "execute_result"
    }
   ],
   "source": [
    "new_texts = word_tokenize(new_texts)\n",
    "negative_words = [i for i in new_texts if i in negative]\n",
    "print(negative_words)\n",
    "len(negative_words)"
   ]
  },
  {
   "cell_type": "markdown",
   "id": "0b24f011",
   "metadata": {},
   "source": [
    "# Positive words"
   ]
  },
  {
   "cell_type": "code",
   "execution_count": 18,
   "id": "4b003620",
   "metadata": {},
   "outputs": [
    {
     "data": {
      "text/plain": [
       "'a+\\nabound\\nabounds\\nabundance\\nabundant\\naccessable\\naccessible\\nacclaim\\nacclaimed\\nacclamation\\naccolade\\naccolades\\naccommodative\\naccomodative\\naccomplish\\naccomplished\\naccomplishment\\naccomplishments\\naccurate\\naccurately\\n'"
      ]
     },
     "execution_count": 18,
     "metadata": {},
     "output_type": "execute_result"
    }
   ],
   "source": [
    "with open(\"D:\\\\lab\\\\Dataset\\\\Positive_words.txt\", 'r') as file:\n",
    "    positive = file.read()\n",
    "positive[:210]    "
   ]
  },
  {
   "cell_type": "code",
   "execution_count": 19,
   "id": "66ed38c6",
   "metadata": {},
   "outputs": [
    {
     "data": {
      "text/plain": [
       "'a+,abound,abounds,abundance,abundant,accessable,accessible,acclaim,acclaimed,acclamation,accolade,accolades,accommodative,accomodative,accomplish,accomplished,accomplishment,accomplishments,accurate,accurately,'"
      ]
     },
     "execution_count": 19,
     "metadata": {},
     "output_type": "execute_result"
    }
   ],
   "source": [
    "positive = positive.replace('\\n',',')\n",
    "positive[:210]"
   ]
  },
  {
   "cell_type": "code",
   "execution_count": 20,
   "id": "fc1387e8",
   "metadata": {},
   "outputs": [
    {
     "name": "stdout",
     "output_type": "stream",
     "text": [
      "['content', 'forms', 'content', 'endorse', 'forms', 'press', 'press', 'brand', 'product', 'large', 'ads', 'soft', 'store', 'power', 'wealth', 'fame', 'favor', 'interest', 'ads', 'forms', 'play', 'helping', 'establish', 'firm', 'amount', 'favor', 'savvy', 'access', 'exceeding', 'personal', 'view', 'age', 'pose', 'significant', 'risk', 'trend', 'powerful', 'content', 'content', 'serving', 'content', 'support', 'content', 'content', 'grow', 'flourish', 'trend', 'large', 'amount', 'reach', 'innovation', 'promising', 'future']\n"
     ]
    },
    {
     "data": {
      "text/plain": [
       "53"
      ]
     },
     "execution_count": 20,
     "metadata": {},
     "output_type": "execute_result"
    }
   ],
   "source": [
    "positive_words = [i for i in new_texts if i in positive]\n",
    "print(positive_words)\n",
    "len(positive_words)"
   ]
  },
  {
   "cell_type": "markdown",
   "id": "1b59646d",
   "metadata": {},
   "source": [
    "#### positive Score\n"
   ]
  },
  {
   "cell_type": "code",
   "execution_count": 21,
   "id": "7d0fbab1",
   "metadata": {},
   "outputs": [
    {
     "name": "stdout",
     "output_type": "stream",
     "text": [
      "53\n"
     ]
    }
   ],
   "source": [
    "pos_score = len(positive_words)\n",
    "print(pos_score)"
   ]
  },
  {
   "cell_type": "markdown",
   "id": "54a6cc12",
   "metadata": {},
   "source": [
    "#### Negative Score"
   ]
  },
  {
   "cell_type": "code",
   "execution_count": 22,
   "id": "df0766cd",
   "metadata": {},
   "outputs": [
    {
     "name": "stdout",
     "output_type": "stream",
     "text": [
      "53\n"
     ]
    }
   ],
   "source": [
    "neg_score=len(negative_words)\n",
    "print(neg_score)"
   ]
  },
  {
   "cell_type": "markdown",
   "id": "84da7ab7",
   "metadata": {},
   "source": [
    "#### Polarity Score"
   ]
  },
  {
   "cell_type": "code",
   "execution_count": 23,
   "id": "21e88c2b",
   "metadata": {},
   "outputs": [
    {
     "data": {
      "text/plain": [
       "0.0"
      ]
     },
     "execution_count": 23,
     "metadata": {},
     "output_type": "execute_result"
    }
   ],
   "source": [
    "Polarity_Score = (pos_score - neg_score)/((pos_score + neg_score) + 0.000001)\n",
    "round(Polarity_Score,2)"
   ]
  },
  {
   "cell_type": "code",
   "execution_count": 24,
   "id": "08bcb4ab",
   "metadata": {},
   "outputs": [
    {
     "name": "stdout",
     "output_type": "stream",
     "text": [
      "number of words after cleaning : 412\n"
     ]
    }
   ],
   "source": [
    "word_count = len(new_texts)\n",
    "print(\"number of words after cleaning :\",word_count)"
   ]
  },
  {
   "cell_type": "markdown",
   "id": "16495ba1",
   "metadata": {},
   "source": [
    "#### Subjectivity Score"
   ]
  },
  {
   "cell_type": "code",
   "execution_count": 25,
   "id": "841713a3",
   "metadata": {},
   "outputs": [
    {
     "data": {
      "text/plain": [
       "0.26"
      ]
     },
     "execution_count": 25,
     "metadata": {},
     "output_type": "execute_result"
    }
   ],
   "source": [
    "Subjectivity_Score = (pos_score + neg_score)/ ((word_count) + 0.000001)\n",
    "round(Subjectivity_Score,2)"
   ]
  },
  {
   "cell_type": "markdown",
   "id": "0d7c370e",
   "metadata": {},
   "source": [
    "# Analysis of Readability"
   ]
  },
  {
   "cell_type": "code",
   "execution_count": 26,
   "id": "10209a7a",
   "metadata": {},
   "outputs": [
    {
     "data": {
      "text/plain": [
       "752"
      ]
     },
     "execution_count": 26,
     "metadata": {},
     "output_type": "execute_result"
    }
   ],
   "source": [
    "import nltk\n",
    "from nltk.tokenize import word_tokenize\n",
    "word_tokens = nltk.word_tokenize(texts)\n",
    "No_of_words = len(word_tokens)\n",
    "No_of_words"
   ]
  },
  {
   "cell_type": "code",
   "execution_count": 27,
   "id": "bfac2ab7",
   "metadata": {},
   "outputs": [
    {
     "data": {
      "text/plain": [
       "40"
      ]
     },
     "execution_count": 27,
     "metadata": {},
     "output_type": "execute_result"
    }
   ],
   "source": [
    "sent_tokens = nltk.sent_tokenize(texts)\n",
    "No_of_sents = len(sent_tokens)\n",
    "No_of_sents "
   ]
  },
  {
   "cell_type": "markdown",
   "id": "1576acfe",
   "metadata": {},
   "source": [
    "### Average sentence Length\n"
   ]
  },
  {
   "cell_type": "code",
   "execution_count": 28,
   "id": "11d6a7ec",
   "metadata": {},
   "outputs": [
    {
     "data": {
      "text/plain": [
       "18.8"
      ]
     },
     "execution_count": 28,
     "metadata": {},
     "output_type": "execute_result"
    }
   ],
   "source": [
    "Avg_Sents_Length = No_of_words / No_of_sents\n",
    "round(Avg_Sents_Length,2)"
   ]
  },
  {
   "cell_type": "markdown",
   "id": "bc20ee3d",
   "metadata": {},
   "source": [
    "### Percentage of Complex words\n",
    "Complex words: words with more than 2 syllable are called complex words"
   ]
  },
  {
   "cell_type": "code",
   "execution_count": 29,
   "id": "eba6a8b1",
   "metadata": {},
   "outputs": [
    {
     "name": "stdout",
     "output_type": "stream",
     "text": [
      "Number of complex words: 165\n",
      "Total number of words: 4613\n"
     ]
    }
   ],
   "source": [
    "from nltk.corpus import cmudict\n",
    "cmud = cmudict.dict()\n",
    "\n",
    "# Defining a function to count syllables in a word\n",
    "def count_syllables(word):\n",
    "    phonemes = cmud[word.lower()][0] \n",
    "    return len([s for s in phonemes if s[-1].isdigit()])\n",
    "\n",
    "# Identifing complex words\n",
    "w_tokens = [i for i in word_tokens if i in cmud]\n",
    "complex_words = [word for word in w_tokens if count_syllables(word) > 2]\n",
    "\n",
    "# Calculatingnumber of complex words\n",
    "num_complex_words = len(complex_words)\n",
    "\n",
    "print(\"Number of complex words:\", num_complex_words)\n",
    "print(\"Total number of words:\", len(texts))"
   ]
  },
  {
   "cell_type": "code",
   "execution_count": 30,
   "id": "e982c0a1",
   "metadata": {},
   "outputs": [
    {
     "data": {
      "text/plain": [
       "27.96"
      ]
     },
     "execution_count": 30,
     "metadata": {},
     "output_type": "execute_result"
    }
   ],
   "source": [
    "Perc_of_Complex_words = len(texts) / num_complex_words\n",
    "round(Perc_of_Complex_words,2)"
   ]
  },
  {
   "cell_type": "markdown",
   "id": "77e948d1",
   "metadata": {},
   "source": [
    "### Fog Index"
   ]
  },
  {
   "cell_type": "code",
   "execution_count": 31,
   "id": "95fb10bb",
   "metadata": {},
   "outputs": [
    {
     "name": "stdout",
     "output_type": "stream",
     "text": [
      "Average sentence length: 40.0\n"
     ]
    }
   ],
   "source": [
    "# Tokenize each sentence into words\n",
    "words = [word_tokens for sentence in sent_tokens]\n",
    "\n",
    "# Calculate the average sentence length\n",
    "avg_sent_len = sum(No_of_sents for sentence in words) / No_of_sents\n",
    "\n",
    "print(\"Average sentence length:\", avg_sent_len)\n"
   ]
  },
  {
   "cell_type": "code",
   "execution_count": 32,
   "id": "38f5a93b",
   "metadata": {},
   "outputs": [
    {
     "data": {
      "text/plain": [
       "27.18"
      ]
     },
     "execution_count": 32,
     "metadata": {},
     "output_type": "execute_result"
    }
   ],
   "source": [
    "Fog_index = 0.4 * (avg_sent_len + Perc_of_Complex_words)\n",
    "round(Fog_index,2)"
   ]
  },
  {
   "cell_type": "markdown",
   "id": "5b4aacea",
   "metadata": {},
   "source": [
    "# Average Number of Words Per Sentence"
   ]
  },
  {
   "cell_type": "code",
   "execution_count": 33,
   "id": "45da1407",
   "metadata": {},
   "outputs": [
    {
     "data": {
      "text/plain": [
       "18.8"
      ]
     },
     "execution_count": 33,
     "metadata": {},
     "output_type": "execute_result"
    }
   ],
   "source": [
    "avg_no_of_words_per_sent = No_of_words / No_of_sents\n",
    "round(avg_no_of_words_per_sent,2)"
   ]
  },
  {
   "cell_type": "markdown",
   "id": "f2d9b493",
   "metadata": {},
   "source": [
    "# Complex Word Count"
   ]
  },
  {
   "cell_type": "code",
   "execution_count": 34,
   "id": "75304424",
   "metadata": {},
   "outputs": [
    {
     "name": "stdout",
     "output_type": "stream",
     "text": [
      "complex word count: 165\n"
     ]
    }
   ],
   "source": [
    "from nltk.corpus import cmudict\n",
    "cmud = cmudict.dict()\n",
    "\n",
    "# Defining a function to count syllables in a word\n",
    "def count_syllables(word):\n",
    "    phonemes = cmud[word.lower()][0] \n",
    "    return len([s for s in phonemes if s[-1].isdigit()])\n",
    "\n",
    "# Identifing complex words\n",
    "w_tokens = [i for i in word_tokens if i in cmud]\n",
    "complex_words = [word for word in w_tokens if count_syllables(word) > 2]\n",
    "\n",
    "# Calculatingnumber of complex words\n",
    "num_complex_words = len(complex_words)\n",
    "\n",
    "print(\"complex word count:\", num_complex_words)"
   ]
  },
  {
   "cell_type": "markdown",
   "id": "99ea5188",
   "metadata": {},
   "source": [
    "# Word Count\n",
    "number of words after cleaning"
   ]
  },
  {
   "cell_type": "code",
   "execution_count": 35,
   "id": "b4fb0c72",
   "metadata": {},
   "outputs": [
    {
     "data": {
      "text/plain": [
       "412"
      ]
     },
     "execution_count": 35,
     "metadata": {},
     "output_type": "execute_result"
    }
   ],
   "source": [
    "len(new_texts)"
   ]
  },
  {
   "cell_type": "markdown",
   "id": "ca8076ff",
   "metadata": {},
   "source": [
    "# Syllable Count Per Word"
   ]
  },
  {
   "cell_type": "code",
   "execution_count": 36,
   "id": "bc568045",
   "metadata": {},
   "outputs": [
    {
     "name": "stdout",
     "output_type": "stream",
     "text": [
      "Enter a word to get syllable: content\n",
      "Number of syllable in a word : 2\n"
     ]
    }
   ],
   "source": [
    "word = input(\"Enter a word to get syllable: \")\n",
    "def count_syllables(word):\n",
    "    phonemes = cmud[word.lower()][0] \n",
    "    return len([s for s in phonemes if s[-1].isdigit()])\n",
    "\n",
    "print(\"Number of syllable in a word :\",count_syllables(word))"
   ]
  },
  {
   "cell_type": "markdown",
   "id": "1d3a18f6",
   "metadata": {},
   "source": [
    "# Personal Pronouns"
   ]
  },
  {
   "cell_type": "code",
   "execution_count": 37,
   "id": "0b8e0d2d",
   "metadata": {},
   "outputs": [
    {
     "name": "stdout",
     "output_type": "stream",
     "text": [
      "Personal pronoun frequency: {'we': 1, 'it': 4, 'they': 1}\n",
      "total number of pronouns in a article : 6\n"
     ]
    }
   ],
   "source": [
    "import re\n",
    "\n",
    "# Define a regex pattern to match personal pronouns\n",
    "pattern = r'\\b(I|you|he|she|it|we|they|me|him|her|us|them)\\b'\n",
    "\n",
    "# Count the frequency of personal pronouns\n",
    "pronoun_freq = {}\n",
    "for pronoun in re.findall(pattern, texts, re.IGNORECASE):\n",
    "    pronoun = pronoun.lower()\n",
    "    if pronoun in pronoun_freq:\n",
    "        pronoun_freq[pronoun] += 1\n",
    "    else:\n",
    "        pronoun_freq[pronoun] = 1\n",
    "\n",
    "print(\"Personal pronoun frequency:\", pronoun_freq)\n",
    "def returnSum(dict):\n",
    " \n",
    "    sum = 0\n",
    "    for i in pronoun_freq.values():\n",
    "        sum = sum + i\n",
    " \n",
    "    return sum\n",
    "print(\"total number of pronouns in a article :\",returnSum(pronoun_freq))"
   ]
  },
  {
   "cell_type": "markdown",
   "id": "e3fc87f8",
   "metadata": {},
   "source": [
    "# Average Word Length"
   ]
  },
  {
   "cell_type": "code",
   "execution_count": 38,
   "id": "5bde37d9",
   "metadata": {},
   "outputs": [
    {
     "name": "stdout",
     "output_type": "stream",
     "text": [
      "Average word length: 5.12\n"
     ]
    }
   ],
   "source": [
    "# Calculate the total number of characters in all words\n",
    "total_chars = sum(len(word) for word in word_tokens)\n",
    "\n",
    "avg_word_length = total_chars / No_of_words\n",
    "\n",
    "print(\"Average word length:\", round(avg_word_length,2))\n"
   ]
  },
  {
   "cell_type": "code",
   "execution_count": null,
   "id": "63dc25ad",
   "metadata": {},
   "outputs": [],
   "source": []
  },
  {
   "cell_type": "code",
   "execution_count": null,
   "id": "819012c5",
   "metadata": {},
   "outputs": [],
   "source": []
  }
 ],
 "metadata": {
  "kernelspec": {
   "display_name": "Python 3",
   "language": "python",
   "name": "python3"
  },
  "language_info": {
   "codemirror_mode": {
    "name": "ipython",
    "version": 3
   },
   "file_extension": ".py",
   "mimetype": "text/x-python",
   "name": "python",
   "nbconvert_exporter": "python",
   "pygments_lexer": "ipython3",
   "version": "3.8.8"
  }
 },
 "nbformat": 4,
 "nbformat_minor": 5
}
