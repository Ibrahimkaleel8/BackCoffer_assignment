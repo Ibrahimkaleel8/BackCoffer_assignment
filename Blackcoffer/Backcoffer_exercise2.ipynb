{
 "cells": [
  {
   "cell_type": "markdown",
   "id": "b9312f26",
   "metadata": {},
   "source": [
    "# Data scraping"
   ]
  },
  {
   "cell_type": "code",
   "execution_count": 1,
   "id": "ef4785ca",
   "metadata": {},
   "outputs": [],
   "source": [
    "import nltk\n",
    "import requests\n",
    "from bs4 import BeautifulSoup"
   ]
  },
  {
   "cell_type": "code",
   "execution_count": 2,
   "id": "ac2f2459",
   "metadata": {},
   "outputs": [],
   "source": [
    "req = requests.get(\"https://insights.blackcoffer.com/what-if-the-creation-is-taking-over-the-creator/\")"
   ]
  },
  {
   "cell_type": "code",
   "execution_count": 3,
   "id": "45f9fa09",
   "metadata": {},
   "outputs": [],
   "source": [
    "soup = BeautifulSoup(req.content, \"html.parser\")\n",
    "res = soup.title\n",
    "paras = soup.find_all('p')"
   ]
  },
  {
   "cell_type": "code",
   "execution_count": 4,
   "id": "dbb256b2",
   "metadata": {
    "scrolled": true
   },
   "outputs": [
    {
     "name": "stdout",
     "output_type": "stream",
     "text": [
      "Human minds, a fascination in itself carrying the potential of tinkering nature with the pixie dust intelligence, creating and solving the mysteries and wonders with anything but admiration. However, no matter how captivating a human mind can be, it could sometimes be appalled. It could be the hunger or maybe the desire to want more, to go beyond and unravel the limitations, or maybe something like pure greed. Humans have never stopped and always keep evolving when it comes to intelligence and this is what makes them the supreme. Intelligence calls out for supremacy and so, what if there was to evolve something that opposed a challenge to the very human minds, to their capabilities while making them question their own importance among themselves? Artificial Intelligence came as a revolution, havoc when it first came to the light. The concept of making machines does work on their own, like granting machines –The Intelligence. The idea of making machines work like humans came back in the 19s. Back then people didn’t believe in such a thing as making a non-living thing work, think, and carry tasks on its own, not to mention, to actually surpass humans themselves in those skills. The facts are it did. By 1997. The greatest chess player, Garry Kasparov was defeated in a chess game by a machine and this is where exactly, a top skilled human lost to a mere machine created by another who by himself could’ve never defeated him. It was a rule of power, of betterment, of skills, and the granted supremacy. Were AI and Machines just tools? Equipment?  Something that helped an unskilled person with his mind and intelligence creates something that could do the skilled work for him with perfection and precision? Well initially it was, however, as time passed as humans got drawn to the puzzle of AI, a lot changed. Human research went deeper and deeper and as a result, the machines evolved with it. At present, AI & Machines is a growing field. As it develops and improves, it has become a part of the industrial revolution. In industries, most of the laborious work that was once taken care of by humans was now replaced by machines. Naturally, with the evolution in machines, its precision, mass productivity, quality control, time efficiencies, and all the other factors made it a better choice. A choice over humans. This led to fear, a fear of a not-so-distant future, a future where maybe machines will be so evolved that they’ll take over the need of a human employee leading to unemployment. With the population increase around the world, it became the new tech threat for the labor market. Then again… how true is it? Does AI really oppose a threat? Will adapting to technology make millions of people lose their jobs? Will it lead to mass unemployment? Will the machines really surpass humans? Will, the creation take over the creator? No matter how fearful the future with AI may seem, in reality, it is not that scary. Truth is AI is the present reality, it is the key that holds the power to unlock a whole next level of human evolution. Technology is growing. There was a time where technology was just an idea, but today that idea has been implemented, it’s working and is carried out. Nobody could stop the advancement and growth of Artificial Intelligence, it’s a wave that is already flowing and we as the present generation and the generations to come to have to learn, to learn to swim in this flow and avoid drowning. Many jobs will be replaced by machines, as AI evolves it’ll keep challenging human minds and their skills. With the present COVID 19 situation, contactless cashiers to robots delivering packages have already taken over the usual routine tasks. The jobs of Secretaries, Schedulers, and book-keeper are at risk too. Manufacturing units, agriculture, food services, retail, transportation & logistic, and hospitality are all a part of the AI-affected automation. At an estimation, it is said that around 20 million jobs, especially including manufacturing will be lost to robots. As AI, robotics, 3D printing, and genetics make their way in, even the architects, medical docs, and music composers feel threatened by technology. Making us question that will AI even edge us out of our brain jobs too? Now that can be terrifying. However, as much as machines will be replacing few jobs, they’ll also be creating new jobs.  With the economic growth, innovation, and investment around 133 million jobs are said to be generated. These newly enhanced jobs are to create benefits and amplify one’s creativity, strategy, and entrepreneurial skills. So what is the catch? Well, it’s the skills. Even though AI is creating 3 times more jobs than it is destroying, it’s the skills that count. AI surged in new job opportunities, opportunities like Senior Data Scientist, Mobile Application Developer, and SEO specialist. These jobs were once never heard of but now with AI it’s born, however, to do these jobs or for its qualification, one needs high-level skills and to acquire those skills can be an expensive and time-consuming task. The future generation might be able to cope up with it but the real struggle is to be faced by the present two generations. It’s the vulnerability between the skill gap and unemployment and the youths are the ones to be crushed the most. Therefore, as the advancement of AI becomes inevitable there remains no choice but to adapt, learn, equip ourselves and grow with it. The companies have to work together to build an AI-ready workplace. They should collaborate with the government, educators, and non-profit organizations and work together to bring out policies that could help understand the technologies’ impacts faster while also providing the employees some security. The economic and business planning should be made considerable for minimizing the impact on local jobs and properly maximizing the opportunities. The employees should be provided with proper tools to carry along with the new opportunities while acquiring AI-based skills for their day-to-day work. New skills should be identified and implemented for the upskilling and continual learning initiatives. Employees will have to maximize their Robotic Quotient and learn core skills. They’ll have to adapt to new working models and understand their roles in the coming future. Howsoever, it’s not like AI will totally take over control, even though AI proves to be a better choice, it still has its limitations at present. First, it’s expensive, secondly, manufacturing machines in bulk is not good for the environment. Machines are also very high maintenance, therefore human labor will often come cheaper and so will be considered over machines. Underdeveloped countries will find it hard to equip their people with the upskilling and reskilling required for AI workplace and so for AI to play a role in those countries, might take years. AI can also be risky and unethical, as it’s hard to figure out who to be held responsible for in cases where an AI went wrong. No matter, how advanced AI gets, there are some skills where humans will always have an upper hand i.e., soft skills. Skills like teamwork, communication, creativity, and critical thinking are something that AI hasn’t been able to beat us up to yet and so the value of creativity, leadership, and emotional intelligence has increased. Although, with machines coming in between humans causing the lack of human-to-human interaction, the humans seem to fade away a little. With this era, comes the need for good leaders. Leaders who are capable of handling both machines and humans together, the ones who are organized enough to manage the skilled and the unskilled employees while providing the unskilled trainees with proper training. Leaders who hold profound soft skills and encourage teamwork while working along with machines. The ones who are patient, calm, and optimized. In conclusion, yes AI and machines are going to be very challenging but there’s nothing humans haven’t overcome. Adaptation and up-gradation are going to be the primary factor for survival. As we witness the onset of the 4th industrial revolution, let’s buckle up our seats and race along the highway with the essential fuels (skills) so as to not let ourselves eliminated. After all, this is an unending race with infinity as the end, all we could do is try not to run out of fuel. Try not to be outdated. \n"
     ]
    }
   ],
   "source": [
    "texts = \" \".join([paragraph.text.strip() for paragraph in paras])\n",
    "print(texts)"
   ]
  },
  {
   "cell_type": "code",
   "execution_count": 5,
   "id": "e79f5f60",
   "metadata": {},
   "outputs": [
    {
     "data": {
      "text/plain": [
       "8400"
      ]
     },
     "execution_count": 5,
     "metadata": {},
     "output_type": "execute_result"
    }
   ],
   "source": [
    "len(texts)"
   ]
  },
  {
   "cell_type": "markdown",
   "id": "db8f1fcc",
   "metadata": {},
   "source": [
    "Removing Punctuation"
   ]
  },
  {
   "cell_type": "code",
   "execution_count": 6,
   "id": "5285c8a8",
   "metadata": {},
   "outputs": [
    {
     "data": {
      "text/plain": [
       "8400"
      ]
     },
     "execution_count": 6,
     "metadata": {},
     "output_type": "execute_result"
    }
   ],
   "source": [
    "import re\n",
    "import string\n",
    "texts = re.sub(r'[\\'\\“\\”\\()\\%\\,\\-\\'\\’\\?\\ ]', ' ', texts)\n",
    "texts[0:200]\n",
    "len(texts)"
   ]
  },
  {
   "cell_type": "markdown",
   "id": "4fafe7be",
   "metadata": {},
   "source": [
    "# Removing Stopwords"
   ]
  },
  {
   "cell_type": "code",
   "execution_count": 7,
   "id": "089b8663",
   "metadata": {},
   "outputs": [],
   "source": [
    "from nltk.tokenize import word_tokenize"
   ]
  },
  {
   "cell_type": "code",
   "execution_count": 8,
   "id": "280876b0",
   "metadata": {},
   "outputs": [
    {
     "data": {
      "text/plain": [
       "['Human',\n",
       " 'minds',\n",
       " 'a',\n",
       " 'fascination',\n",
       " 'in',\n",
       " 'itself',\n",
       " 'carrying',\n",
       " 'the',\n",
       " 'potential',\n",
       " 'of',\n",
       " 'tinkering',\n",
       " 'nature',\n",
       " 'with',\n",
       " 'the',\n",
       " 'pixie',\n",
       " 'dust',\n",
       " 'intelligence',\n",
       " 'creating',\n",
       " 'and',\n",
       " 'solving',\n",
       " 'the',\n",
       " 'mysteries',\n",
       " 'and',\n",
       " 'wonders',\n",
       " 'with',\n",
       " 'anything',\n",
       " 'but',\n",
       " 'admiration',\n",
       " '.',\n",
       " 'However',\n",
       " 'no',\n",
       " 'matter',\n",
       " 'how',\n",
       " 'captivating',\n",
       " 'a',\n",
       " 'human',\n",
       " 'mind',\n",
       " 'can',\n",
       " 'be',\n",
       " 'it',\n",
       " 'could',\n",
       " 'sometimes',\n",
       " 'be',\n",
       " 'appalled',\n",
       " '.',\n",
       " 'It',\n",
       " 'could',\n",
       " 'be',\n",
       " 'the',\n",
       " 'hunger',\n",
       " 'or',\n",
       " 'maybe',\n",
       " 'the',\n",
       " 'desire',\n",
       " 'to',\n",
       " 'want',\n",
       " 'more',\n",
       " 'to',\n",
       " 'go',\n",
       " 'beyond',\n",
       " 'and',\n",
       " 'unravel',\n",
       " 'the',\n",
       " 'limitations',\n",
       " 'or',\n",
       " 'maybe',\n",
       " 'something',\n",
       " 'like',\n",
       " 'pure',\n",
       " 'greed',\n",
       " '.',\n",
       " 'Humans',\n",
       " 'have',\n",
       " 'never',\n",
       " 'stopped',\n",
       " 'and',\n",
       " 'always',\n",
       " 'keep',\n",
       " 'evolving',\n",
       " 'when',\n",
       " 'it',\n",
       " 'comes',\n",
       " 'to',\n",
       " 'intelligence',\n",
       " 'and',\n",
       " 'this',\n",
       " 'is',\n",
       " 'what',\n",
       " 'makes',\n",
       " 'them',\n",
       " 'the',\n",
       " 'supreme',\n",
       " '.',\n",
       " 'Intelligence',\n",
       " 'calls',\n",
       " 'out',\n",
       " 'for',\n",
       " 'supremacy',\n",
       " 'and',\n",
       " 'so',\n",
       " 'what',\n",
       " 'if',\n",
       " 'there',\n",
       " 'was',\n",
       " 'to',\n",
       " 'evolve',\n",
       " 'something',\n",
       " 'that',\n",
       " 'opposed',\n",
       " 'a',\n",
       " 'challenge',\n",
       " 'to',\n",
       " 'the',\n",
       " 'very',\n",
       " 'human',\n",
       " 'minds',\n",
       " 'to',\n",
       " 'their',\n",
       " 'capabilities',\n",
       " 'while',\n",
       " 'making',\n",
       " 'them',\n",
       " 'question',\n",
       " 'their',\n",
       " 'own',\n",
       " 'importance',\n",
       " 'among',\n",
       " 'themselves',\n",
       " 'Artificial',\n",
       " 'Intelligence',\n",
       " 'came',\n",
       " 'as',\n",
       " 'a',\n",
       " 'revolution',\n",
       " 'havoc',\n",
       " 'when',\n",
       " 'it',\n",
       " 'first',\n",
       " 'came',\n",
       " 'to',\n",
       " 'the',\n",
       " 'light',\n",
       " '.',\n",
       " 'The',\n",
       " 'concept',\n",
       " 'of',\n",
       " 'making',\n",
       " 'machines',\n",
       " 'does',\n",
       " 'work',\n",
       " 'on',\n",
       " 'their',\n",
       " 'own',\n",
       " 'like',\n",
       " 'granting',\n",
       " 'machines',\n",
       " '–The',\n",
       " 'Intelligence',\n",
       " '.',\n",
       " 'The',\n",
       " 'idea',\n",
       " 'of',\n",
       " 'making',\n",
       " 'machines',\n",
       " 'work',\n",
       " 'like',\n",
       " 'humans',\n",
       " 'came',\n",
       " 'back',\n",
       " 'in',\n",
       " 'the',\n",
       " '19s',\n",
       " '.',\n",
       " 'Back',\n",
       " 'then',\n",
       " 'people',\n",
       " 'didn',\n",
       " 't',\n",
       " 'believe',\n",
       " 'in',\n",
       " 'such',\n",
       " 'a',\n",
       " 'thing',\n",
       " 'as',\n",
       " 'making',\n",
       " 'a',\n",
       " 'non',\n",
       " 'living',\n",
       " 'thing',\n",
       " 'work',\n",
       " 'think',\n",
       " 'and',\n",
       " 'carry',\n",
       " 'tasks',\n",
       " 'on',\n",
       " 'its',\n",
       " 'own',\n",
       " 'not',\n",
       " 'to',\n",
       " 'mention',\n",
       " 'to',\n",
       " 'actually',\n",
       " 'surpass',\n",
       " 'humans',\n",
       " 'themselves',\n",
       " 'in',\n",
       " 'those',\n",
       " 'skills',\n",
       " '.',\n",
       " 'The',\n",
       " 'facts',\n",
       " 'are',\n",
       " 'it',\n",
       " 'did',\n",
       " '.',\n",
       " 'By',\n",
       " '1997',\n",
       " '.',\n",
       " 'The',\n",
       " 'greatest',\n",
       " 'chess',\n",
       " 'player',\n",
       " 'Garry',\n",
       " 'Kasparov',\n",
       " 'was',\n",
       " 'defeated',\n",
       " 'in',\n",
       " 'a',\n",
       " 'chess',\n",
       " 'game',\n",
       " 'by',\n",
       " 'a',\n",
       " 'machine',\n",
       " 'and',\n",
       " 'this',\n",
       " 'is',\n",
       " 'where',\n",
       " 'exactly',\n",
       " 'a',\n",
       " 'top',\n",
       " 'skilled',\n",
       " 'human',\n",
       " 'lost',\n",
       " 'to',\n",
       " 'a',\n",
       " 'mere',\n",
       " 'machine',\n",
       " 'created',\n",
       " 'by',\n",
       " 'another',\n",
       " 'who',\n",
       " 'by',\n",
       " 'himself',\n",
       " 'could',\n",
       " 've',\n",
       " 'never',\n",
       " 'defeated',\n",
       " 'him',\n",
       " '.',\n",
       " 'It',\n",
       " 'was',\n",
       " 'a',\n",
       " 'rule',\n",
       " 'of',\n",
       " 'power',\n",
       " 'of',\n",
       " 'betterment',\n",
       " 'of',\n",
       " 'skills',\n",
       " 'and',\n",
       " 'the',\n",
       " 'granted',\n",
       " 'supremacy',\n",
       " '.',\n",
       " 'Were',\n",
       " 'AI',\n",
       " 'and',\n",
       " 'Machines',\n",
       " 'just',\n",
       " 'tools',\n",
       " 'Equipment',\n",
       " 'Something',\n",
       " 'that',\n",
       " 'helped',\n",
       " 'an',\n",
       " 'unskilled',\n",
       " 'person',\n",
       " 'with',\n",
       " 'his',\n",
       " 'mind',\n",
       " 'and',\n",
       " 'intelligence',\n",
       " 'creates',\n",
       " 'something',\n",
       " 'that',\n",
       " 'could',\n",
       " 'do',\n",
       " 'the',\n",
       " 'skilled',\n",
       " 'work',\n",
       " 'for',\n",
       " 'him',\n",
       " 'with',\n",
       " 'perfection',\n",
       " 'and',\n",
       " 'precision',\n",
       " 'Well',\n",
       " 'initially',\n",
       " 'it',\n",
       " 'was',\n",
       " 'however',\n",
       " 'as',\n",
       " 'time',\n",
       " 'passed',\n",
       " 'as',\n",
       " 'humans',\n",
       " 'got',\n",
       " 'drawn',\n",
       " 'to',\n",
       " 'the',\n",
       " 'puzzle',\n",
       " 'of',\n",
       " 'AI',\n",
       " 'a',\n",
       " 'lot',\n",
       " 'changed',\n",
       " '.',\n",
       " 'Human',\n",
       " 'research',\n",
       " 'went',\n",
       " 'deeper',\n",
       " 'and',\n",
       " 'deeper',\n",
       " 'and',\n",
       " 'as',\n",
       " 'a',\n",
       " 'result',\n",
       " 'the',\n",
       " 'machines',\n",
       " 'evolved',\n",
       " 'with',\n",
       " 'it',\n",
       " '.',\n",
       " 'At',\n",
       " 'present',\n",
       " 'AI',\n",
       " '&',\n",
       " 'Machines',\n",
       " 'is',\n",
       " 'a',\n",
       " 'growing',\n",
       " 'field',\n",
       " '.',\n",
       " 'As',\n",
       " 'it',\n",
       " 'develops',\n",
       " 'and',\n",
       " 'improves',\n",
       " 'it',\n",
       " 'has',\n",
       " 'become',\n",
       " 'a',\n",
       " 'part',\n",
       " 'of',\n",
       " 'the',\n",
       " 'industrial',\n",
       " 'revolution',\n",
       " '.',\n",
       " 'In',\n",
       " 'industries',\n",
       " 'most',\n",
       " 'of',\n",
       " 'the',\n",
       " 'laborious',\n",
       " 'work',\n",
       " 'that',\n",
       " 'was',\n",
       " 'once',\n",
       " 'taken',\n",
       " 'care',\n",
       " 'of',\n",
       " 'by',\n",
       " 'humans',\n",
       " 'was',\n",
       " 'now',\n",
       " 'replaced',\n",
       " 'by',\n",
       " 'machines',\n",
       " '.',\n",
       " 'Naturally',\n",
       " 'with',\n",
       " 'the',\n",
       " 'evolution',\n",
       " 'in',\n",
       " 'machines',\n",
       " 'its',\n",
       " 'precision',\n",
       " 'mass',\n",
       " 'productivity',\n",
       " 'quality',\n",
       " 'control',\n",
       " 'time',\n",
       " 'efficiencies',\n",
       " 'and',\n",
       " 'all',\n",
       " 'the',\n",
       " 'other',\n",
       " 'factors',\n",
       " 'made',\n",
       " 'it',\n",
       " 'a',\n",
       " 'better',\n",
       " 'choice',\n",
       " '.',\n",
       " 'A',\n",
       " 'choice',\n",
       " 'over',\n",
       " 'humans',\n",
       " '.',\n",
       " 'This',\n",
       " 'led',\n",
       " 'to',\n",
       " 'fear',\n",
       " 'a',\n",
       " 'fear',\n",
       " 'of',\n",
       " 'a',\n",
       " 'not',\n",
       " 'so',\n",
       " 'distant',\n",
       " 'future',\n",
       " 'a',\n",
       " 'future',\n",
       " 'where',\n",
       " 'maybe',\n",
       " 'machines',\n",
       " 'will',\n",
       " 'be',\n",
       " 'so',\n",
       " 'evolved',\n",
       " 'that',\n",
       " 'they',\n",
       " 'll',\n",
       " 'take',\n",
       " 'over',\n",
       " 'the',\n",
       " 'need',\n",
       " 'of',\n",
       " 'a',\n",
       " 'human',\n",
       " 'employee',\n",
       " 'leading',\n",
       " 'to',\n",
       " 'unemployment',\n",
       " '.',\n",
       " 'With',\n",
       " 'the',\n",
       " 'population',\n",
       " 'increase',\n",
       " 'around',\n",
       " 'the',\n",
       " 'world',\n",
       " 'it',\n",
       " 'became',\n",
       " 'the',\n",
       " 'new',\n",
       " 'tech',\n",
       " 'threat',\n",
       " 'for',\n",
       " 'the',\n",
       " 'labor',\n",
       " 'market',\n",
       " '.',\n",
       " 'Then',\n",
       " 'again…',\n",
       " 'how',\n",
       " 'true',\n",
       " 'is',\n",
       " 'it',\n",
       " 'Does',\n",
       " 'AI',\n",
       " 'really',\n",
       " 'oppose',\n",
       " 'a',\n",
       " 'threat',\n",
       " 'Will',\n",
       " 'adapting',\n",
       " 'to',\n",
       " 'technology',\n",
       " 'make',\n",
       " 'millions',\n",
       " 'of',\n",
       " 'people',\n",
       " 'lose',\n",
       " 'their',\n",
       " 'jobs',\n",
       " 'Will',\n",
       " 'it',\n",
       " 'lead',\n",
       " 'to',\n",
       " 'mass',\n",
       " 'unemployment',\n",
       " 'Will',\n",
       " 'the',\n",
       " 'machines',\n",
       " 'really',\n",
       " 'surpass',\n",
       " 'humans',\n",
       " 'Will',\n",
       " 'the',\n",
       " 'creation',\n",
       " 'take',\n",
       " 'over',\n",
       " 'the',\n",
       " 'creator',\n",
       " 'No',\n",
       " 'matter',\n",
       " 'how',\n",
       " 'fearful',\n",
       " 'the',\n",
       " 'future',\n",
       " 'with',\n",
       " 'AI',\n",
       " 'may',\n",
       " 'seem',\n",
       " 'in',\n",
       " 'reality',\n",
       " 'it',\n",
       " 'is',\n",
       " 'not',\n",
       " 'that',\n",
       " 'scary',\n",
       " '.',\n",
       " 'Truth',\n",
       " 'is',\n",
       " 'AI',\n",
       " 'is',\n",
       " 'the',\n",
       " 'present',\n",
       " 'reality',\n",
       " 'it',\n",
       " 'is',\n",
       " 'the',\n",
       " 'key',\n",
       " 'that',\n",
       " 'holds',\n",
       " 'the',\n",
       " 'power',\n",
       " 'to',\n",
       " 'unlock',\n",
       " 'a',\n",
       " 'whole',\n",
       " 'next',\n",
       " 'level',\n",
       " 'of',\n",
       " 'human',\n",
       " 'evolution',\n",
       " '.',\n",
       " 'Technology',\n",
       " 'is',\n",
       " 'growing',\n",
       " '.',\n",
       " 'There',\n",
       " 'was',\n",
       " 'a',\n",
       " 'time',\n",
       " 'where',\n",
       " 'technology',\n",
       " 'was',\n",
       " 'just',\n",
       " 'an',\n",
       " 'idea',\n",
       " 'but',\n",
       " 'today',\n",
       " 'that',\n",
       " 'idea',\n",
       " 'has',\n",
       " 'been',\n",
       " 'implemented',\n",
       " 'it',\n",
       " 's',\n",
       " 'working',\n",
       " 'and',\n",
       " 'is',\n",
       " 'carried',\n",
       " 'out',\n",
       " '.',\n",
       " 'Nobody',\n",
       " 'could',\n",
       " 'stop',\n",
       " 'the',\n",
       " 'advancement',\n",
       " 'and',\n",
       " 'growth',\n",
       " 'of',\n",
       " 'Artificial',\n",
       " 'Intelligence',\n",
       " 'it',\n",
       " 's',\n",
       " 'a',\n",
       " 'wave',\n",
       " 'that',\n",
       " 'is',\n",
       " 'already',\n",
       " 'flowing',\n",
       " 'and',\n",
       " 'we',\n",
       " 'as',\n",
       " 'the',\n",
       " 'present',\n",
       " 'generation',\n",
       " 'and',\n",
       " 'the',\n",
       " 'generations',\n",
       " 'to',\n",
       " 'come',\n",
       " 'to',\n",
       " 'have',\n",
       " 'to',\n",
       " 'learn',\n",
       " 'to',\n",
       " 'learn',\n",
       " 'to',\n",
       " 'swim',\n",
       " 'in',\n",
       " 'this',\n",
       " 'flow',\n",
       " 'and',\n",
       " 'avoid',\n",
       " 'drowning',\n",
       " '.',\n",
       " 'Many',\n",
       " 'jobs',\n",
       " 'will',\n",
       " 'be',\n",
       " 'replaced',\n",
       " 'by',\n",
       " 'machines',\n",
       " 'as',\n",
       " 'AI',\n",
       " 'evolves',\n",
       " 'it',\n",
       " 'll',\n",
       " 'keep',\n",
       " 'challenging',\n",
       " 'human',\n",
       " 'minds',\n",
       " 'and',\n",
       " 'their',\n",
       " 'skills',\n",
       " '.',\n",
       " 'With',\n",
       " 'the',\n",
       " 'present',\n",
       " 'COVID',\n",
       " '19',\n",
       " 'situation',\n",
       " 'contactless',\n",
       " 'cashiers',\n",
       " 'to',\n",
       " 'robots',\n",
       " 'delivering',\n",
       " 'packages',\n",
       " 'have',\n",
       " 'already',\n",
       " 'taken',\n",
       " 'over',\n",
       " 'the',\n",
       " 'usual',\n",
       " 'routine',\n",
       " 'tasks',\n",
       " '.',\n",
       " 'The',\n",
       " 'jobs',\n",
       " 'of',\n",
       " 'Secretaries',\n",
       " 'Schedulers',\n",
       " 'and',\n",
       " 'book',\n",
       " 'keeper',\n",
       " 'are',\n",
       " 'at',\n",
       " 'risk',\n",
       " 'too',\n",
       " '.',\n",
       " 'Manufacturing',\n",
       " 'units',\n",
       " 'agriculture',\n",
       " 'food',\n",
       " 'services',\n",
       " 'retail',\n",
       " 'transportation',\n",
       " '&',\n",
       " 'logistic',\n",
       " 'and',\n",
       " 'hospitality',\n",
       " 'are',\n",
       " 'all',\n",
       " 'a',\n",
       " 'part',\n",
       " 'of',\n",
       " 'the',\n",
       " 'AI',\n",
       " 'affected',\n",
       " 'automation',\n",
       " '.',\n",
       " 'At',\n",
       " 'an',\n",
       " 'estimation',\n",
       " 'it',\n",
       " 'is',\n",
       " 'said',\n",
       " 'that',\n",
       " 'around',\n",
       " '20',\n",
       " 'million',\n",
       " 'jobs',\n",
       " 'especially',\n",
       " 'including',\n",
       " 'manufacturing',\n",
       " 'will',\n",
       " 'be',\n",
       " 'lost',\n",
       " 'to',\n",
       " 'robots',\n",
       " '.',\n",
       " 'As',\n",
       " 'AI',\n",
       " 'robotics',\n",
       " '3D',\n",
       " 'printing',\n",
       " 'and',\n",
       " 'genetics',\n",
       " 'make',\n",
       " 'their',\n",
       " 'way',\n",
       " 'in',\n",
       " 'even',\n",
       " 'the',\n",
       " 'architects',\n",
       " 'medical',\n",
       " 'docs',\n",
       " 'and',\n",
       " 'music',\n",
       " 'composers',\n",
       " 'feel',\n",
       " 'threatened',\n",
       " 'by',\n",
       " 'technology',\n",
       " '.',\n",
       " 'Making',\n",
       " 'us',\n",
       " 'question',\n",
       " 'that',\n",
       " 'will',\n",
       " 'AI',\n",
       " 'even',\n",
       " 'edge',\n",
       " 'us',\n",
       " 'out',\n",
       " 'of',\n",
       " 'our',\n",
       " 'brain',\n",
       " 'jobs',\n",
       " 'too',\n",
       " 'Now',\n",
       " 'that',\n",
       " 'can',\n",
       " 'be',\n",
       " 'terrifying',\n",
       " '.',\n",
       " 'However',\n",
       " 'as',\n",
       " 'much',\n",
       " 'as',\n",
       " 'machines',\n",
       " 'will',\n",
       " 'be',\n",
       " 'replacing',\n",
       " 'few',\n",
       " 'jobs',\n",
       " 'they',\n",
       " 'll',\n",
       " 'also',\n",
       " 'be',\n",
       " 'creating',\n",
       " 'new',\n",
       " 'jobs',\n",
       " '.',\n",
       " 'With',\n",
       " 'the',\n",
       " 'economic',\n",
       " 'growth',\n",
       " 'innovation',\n",
       " 'and',\n",
       " 'investment',\n",
       " 'around',\n",
       " '133',\n",
       " 'million',\n",
       " 'jobs',\n",
       " 'are',\n",
       " 'said',\n",
       " 'to',\n",
       " 'be',\n",
       " 'generated',\n",
       " '.',\n",
       " 'These',\n",
       " 'newly',\n",
       " 'enhanced',\n",
       " 'jobs',\n",
       " 'are',\n",
       " 'to',\n",
       " 'create',\n",
       " 'benefits',\n",
       " 'and',\n",
       " 'amplify',\n",
       " 'one',\n",
       " 's',\n",
       " 'creativity',\n",
       " 'strategy',\n",
       " 'and',\n",
       " 'entrepreneurial',\n",
       " 'skills',\n",
       " '.',\n",
       " 'So',\n",
       " 'what',\n",
       " 'is',\n",
       " 'the',\n",
       " 'catch',\n",
       " 'Well',\n",
       " 'it',\n",
       " 's',\n",
       " 'the',\n",
       " 'skills',\n",
       " '.',\n",
       " 'Even',\n",
       " 'though',\n",
       " 'AI',\n",
       " 'is',\n",
       " 'creating',\n",
       " '3',\n",
       " 'times',\n",
       " 'more',\n",
       " 'jobs',\n",
       " 'than',\n",
       " 'it',\n",
       " 'is',\n",
       " 'destroying',\n",
       " 'it',\n",
       " 's',\n",
       " 'the',\n",
       " 'skills',\n",
       " 'that',\n",
       " 'count',\n",
       " '.',\n",
       " 'AI',\n",
       " 'surged',\n",
       " 'in',\n",
       " 'new',\n",
       " 'job',\n",
       " 'opportunities',\n",
       " 'opportunities',\n",
       " 'like',\n",
       " 'Senior',\n",
       " 'Data',\n",
       " 'Scientist',\n",
       " 'Mobile',\n",
       " 'Application',\n",
       " 'Developer',\n",
       " 'and',\n",
       " 'SEO',\n",
       " 'specialist',\n",
       " '.',\n",
       " 'These',\n",
       " 'jobs',\n",
       " 'were',\n",
       " 'once',\n",
       " 'never',\n",
       " 'heard',\n",
       " 'of',\n",
       " 'but',\n",
       " 'now',\n",
       " 'with',\n",
       " 'AI',\n",
       " 'it',\n",
       " 's',\n",
       " 'born',\n",
       " 'however',\n",
       " 'to',\n",
       " 'do',\n",
       " 'these',\n",
       " 'jobs',\n",
       " 'or',\n",
       " 'for',\n",
       " 'its',\n",
       " 'qualification',\n",
       " 'one',\n",
       " 'needs',\n",
       " 'high',\n",
       " 'level',\n",
       " 'skills',\n",
       " 'and',\n",
       " 'to',\n",
       " 'acquire',\n",
       " 'those',\n",
       " 'skills',\n",
       " 'can',\n",
       " 'be',\n",
       " 'an',\n",
       " 'expensive',\n",
       " 'and',\n",
       " 'time',\n",
       " 'consuming',\n",
       " 'task',\n",
       " '.',\n",
       " 'The',\n",
       " 'future',\n",
       " 'generation',\n",
       " 'might',\n",
       " 'be',\n",
       " 'able',\n",
       " 'to',\n",
       " 'cope',\n",
       " 'up',\n",
       " 'with',\n",
       " 'it',\n",
       " 'but',\n",
       " 'the',\n",
       " 'real',\n",
       " 'struggle',\n",
       " 'is',\n",
       " 'to',\n",
       " 'be',\n",
       " 'faced',\n",
       " 'by',\n",
       " 'the',\n",
       " 'present',\n",
       " 'two',\n",
       " 'generations',\n",
       " '.',\n",
       " 'It',\n",
       " 's',\n",
       " 'the',\n",
       " 'vulnerability',\n",
       " 'between',\n",
       " 'the',\n",
       " 'skill',\n",
       " 'gap',\n",
       " 'and',\n",
       " 'unemployment',\n",
       " 'and',\n",
       " 'the',\n",
       " 'youths',\n",
       " 'are',\n",
       " 'the',\n",
       " 'ones',\n",
       " 'to',\n",
       " 'be',\n",
       " 'crushed',\n",
       " 'the',\n",
       " 'most',\n",
       " '.',\n",
       " 'Therefore',\n",
       " 'as',\n",
       " 'the',\n",
       " 'advancement',\n",
       " 'of',\n",
       " 'AI',\n",
       " 'becomes',\n",
       " 'inevitable',\n",
       " 'there',\n",
       " 'remains',\n",
       " 'no',\n",
       " 'choice',\n",
       " 'but',\n",
       " 'to',\n",
       " 'adapt',\n",
       " 'learn',\n",
       " 'equip',\n",
       " 'ourselves',\n",
       " 'and',\n",
       " 'grow',\n",
       " 'with',\n",
       " 'it',\n",
       " '.',\n",
       " 'The',\n",
       " 'companies',\n",
       " 'have',\n",
       " 'to',\n",
       " 'work',\n",
       " 'together',\n",
       " 'to',\n",
       " 'build',\n",
       " 'an',\n",
       " 'AI',\n",
       " 'ready',\n",
       " 'workplace',\n",
       " '.',\n",
       " 'They',\n",
       " 'should',\n",
       " ...]"
      ]
     },
     "execution_count": 8,
     "metadata": {},
     "output_type": "execute_result"
    }
   ],
   "source": [
    "token = word_tokenize(texts)\n",
    "token"
   ]
  },
  {
   "cell_type": "code",
   "execution_count": 9,
   "id": "10016a09",
   "metadata": {},
   "outputs": [],
   "source": [
    "with open(\"D:\\lab\\Dataset\\Stopwords_Blackcoffer.txt\", 'r') as file:\n",
    "    data = file.read()"
   ]
  },
  {
   "cell_type": "code",
   "execution_count": 10,
   "id": "c567cbef",
   "metadata": {},
   "outputs": [
    {
     "data": {
      "text/plain": [
       "'ERNST\\nYOUNG\\nDELOITTE\\nTOUCHE\\nKPMG\\nPRICEWATERHOUSECOOPERS\\nPRICEWATERHOUSE\\nCOOPERS\\nAFGHANI\\nARIARY\\nBAHT\\n'"
      ]
     },
     "execution_count": 10,
     "metadata": {},
     "output_type": "execute_result"
    }
   ],
   "source": [
    "data[:100]"
   ]
  },
  {
   "cell_type": "code",
   "execution_count": 11,
   "id": "d65bfa92",
   "metadata": {},
   "outputs": [
    {
     "data": {
      "text/plain": [
       "'ERNST,YOUNG,DELOITTE,TOUCHE,KPMG,PRICEWATERHOUSECOOPERS,PRICEWATERHOUSE,COOPERS,AFGHANI,ARIARY,BAHT,'"
      ]
     },
     "execution_count": 11,
     "metadata": {},
     "output_type": "execute_result"
    }
   ],
   "source": [
    "data = data.replace('\\n', ',')\n",
    "data[:100]"
   ]
  },
  {
   "cell_type": "code",
   "execution_count": 12,
   "id": "0ef23874",
   "metadata": {},
   "outputs": [
    {
     "data": {
      "text/plain": [
       "'Human minds fascination carrying potential tinkering nature pixie dust intelligence creating solving mysteries wonders admiration . However matter captivating human mind appalled . It hunger desire un'"
      ]
     },
     "execution_count": 12,
     "metadata": {},
     "output_type": "execute_result"
    }
   ],
   "source": [
    "new_texts = \" \".join([i for i in token if i not in data])\n",
    "new_texts[:200]"
   ]
  },
  {
   "cell_type": "code",
   "execution_count": 13,
   "id": "ea392da4",
   "metadata": {},
   "outputs": [
    {
     "name": "stdout",
     "output_type": "stream",
     "text": [
      "length before cleaning:  8400\n",
      "length after cleaning:  4934\n"
     ]
    }
   ],
   "source": [
    "print(\"length before cleaning: \", len(texts))\n",
    "print(\"length after cleaning: \", len(new_texts))"
   ]
  },
  {
   "cell_type": "markdown",
   "id": "1f456147",
   "metadata": {},
   "source": [
    "# Negative words"
   ]
  },
  {
   "cell_type": "code",
   "execution_count": 14,
   "id": "dc3618a7",
   "metadata": {},
   "outputs": [],
   "source": [
    "with open(\"D:\\\\lab\\\\Dataset\\\\Negative_words.txt\", 'r') as file:\n",
    "    negative = file.read()"
   ]
  },
  {
   "cell_type": "code",
   "execution_count": 15,
   "id": "2123c4cb",
   "metadata": {},
   "outputs": [
    {
     "data": {
      "text/plain": [
       "'2-faced\\n2-faces\\nabnormal\\nabolish\\nabominable\\nabominably\\nabominate\\nabomination\\nabort\\naborted\\naborts\\nabrade\\nabrasive\\nabrupt\\nabruptly\\nabscond\\nabsence\\nabsent-minded\\nabsentee\\nabsurd\\nabsurdity\\nabsurdly\\nabsurdness\\n'"
      ]
     },
     "execution_count": 15,
     "metadata": {},
     "output_type": "execute_result"
    }
   ],
   "source": [
    "negative[:206]"
   ]
  },
  {
   "cell_type": "code",
   "execution_count": 16,
   "id": "28f44c97",
   "metadata": {},
   "outputs": [
    {
     "data": {
      "text/plain": [
       "'2-faced,2-faces,abnormal,abolish,abominable,abominably,abominate,abomination,abort,aborted,aborts,abrade,abrasive,abrupt,abruptly,abscond,absence,absent-minded,absentee,absurd,absurdity,absurdly,absurdness,'"
      ]
     },
     "execution_count": 16,
     "metadata": {},
     "output_type": "execute_result"
    }
   ],
   "source": [
    "negative = negative.replace('\\n', ',')\n",
    "negative[:206]"
   ]
  },
  {
   "cell_type": "code",
   "execution_count": 17,
   "id": "31a272c0",
   "metadata": {},
   "outputs": [
    {
     "name": "stdout",
     "output_type": "stream",
     "text": [
      "['nature', 'dust', 'human', 'mind', 'appalled', 'unravel', 'limitations', 'pure', 'greed', 'human', 'question', 'havoc', 'light', 'concept', 'work', 'work', 'back', 'work', 'top', 'skilled', 'human', 'lost', 'rule', 'power', 'unskilled', 'person', 'mind', 'skilled', 'work', 'perfection', 'precision', 'puzzle', 'lot', 'present', 'work', 'care', 'precision', 'mass', 'quality', 'control', 'led', 'fear', 'fear', 'human', 'leading', 'threat', 'labor', 'true', 'oppose', 'threat', 'make', 'lose', 'lead', 'mass', 'fearful', 'scary', 'present', 'key', 'power', 'human', 'present', 'generation', 'avoid', 'drowning', 'challenging', 'human', 'present', 'risk', 'hospitality', 'affected', 'lost', 'make', 'feel', 'question', 'edge', 'brain', 'economic', 'count', 'job', 'born', 'high', 'expensive', 'consuming', 'generation', 'struggle', 'faced', 'present', 'skill', 'gap', 'crushed', 'inevitable', 'grow', 'work', 'profit', 'work', 'understand', 'security', 'economic', 'properly', 'proper', 'day', 'day', 'work', 'understand', 'control', 'proves', 'limitations', 'present', 'expensive', 'bulk', 'high', 'human', 'labor', 'play', 'risky', 'unethical', 'figure', 'responsible', 'wrong', 'critical', 'beat', 'lack', 'human', 'human', 'capable', 'organized', 'manage', 'skilled', 'unskilled', 'unskilled', 'proper', 'training', 'patient', 'challenging', 'gradation', 'factor', 'buckle', 'race', 'essential', 'race', 'run']\n"
     ]
    },
    {
     "data": {
      "text/plain": [
       "141"
      ]
     },
     "execution_count": 17,
     "metadata": {},
     "output_type": "execute_result"
    }
   ],
   "source": [
    "new_texts = word_tokenize(new_texts)\n",
    "negative_words = [i for i in new_texts if i in negative]\n",
    "print(negative_words)\n",
    "len(negative_words)"
   ]
  },
  {
   "cell_type": "markdown",
   "id": "0b24f011",
   "metadata": {},
   "source": [
    "# Positive words"
   ]
  },
  {
   "cell_type": "code",
   "execution_count": 18,
   "id": "4b003620",
   "metadata": {},
   "outputs": [
    {
     "data": {
      "text/plain": [
       "'a+\\nabound\\nabounds\\nabundance\\nabundant\\naccessable\\naccessible\\nacclaim\\nacclaimed\\nacclamation\\naccolade\\naccolades\\naccommodative\\naccomodative\\naccomplish\\naccomplished\\naccomplishment\\naccomplishments\\naccurate\\naccurately\\n'"
      ]
     },
     "execution_count": 18,
     "metadata": {},
     "output_type": "execute_result"
    }
   ],
   "source": [
    "with open(\"D:\\\\lab\\\\Dataset\\\\Positive_words.txt\", 'r') as file:\n",
    "    positive = file.read()\n",
    "positive[:210]    "
   ]
  },
  {
   "cell_type": "code",
   "execution_count": 19,
   "id": "66ed38c6",
   "metadata": {},
   "outputs": [
    {
     "data": {
      "text/plain": [
       "'a+,abound,abounds,abundance,abundant,accessable,accessible,acclaim,acclaimed,acclamation,accolade,accolades,accommodative,accomodative,accomplish,accomplished,accomplishment,accomplishments,accurate,accurately,'"
      ]
     },
     "execution_count": 19,
     "metadata": {},
     "output_type": "execute_result"
    }
   ],
   "source": [
    "positive = positive.replace('\\n',',')\n",
    "positive[:210]"
   ]
  },
  {
   "cell_type": "code",
   "execution_count": 20,
   "id": "fc1387e8",
   "metadata": {},
   "outputs": [
    {
     "name": "stdout",
     "output_type": "stream",
     "text": [
      "['fascination', 'dust', 'intelligence', 'wonders', 'admiration', 'captivating', 'human', 'mind', 'pure', 'intelligence', 'supreme', 'supremacy', 'human', 'question', 'revolution', 'light', 'work', 'idea', 'work', 'back', 'work', 'surpass', 'greatest', 'defeated', 'top', 'skilled', 'human', 'defeated', 'power', 'supremacy', 'helped', 'person', 'mind', 'intelligence', 'skilled', 'work', 'perfection', 'growing', 'improves', 'revolution', 'work', 'care', 'evolution', 'quality', 'made', 'led', 'fear', 'fear', 'future', 'future', 'human', 'leading', 'world', 'lead', 'surpass', 'future', 'power', 'human', 'evolution', 'growing', 'idea', 'idea', 'working', 'wave', 'human', 'keeper', 'risk', 'affected', 'question', 'edge', 'brain', 'economic', 'innovation', 'enhanced', 'benefits', 'catch', 'count', 'high', 'expensive', 'future', 'skill', 'adapt', 'grow', 'work', 'work', 'understand', 'faster', 'economic', 'made', 'properly', 'proper', 'work', 'adapt', 'working', 'understand', 'future', 'proves', 'expensive', 'good', 'high', 'human', 'cheaper', 'play', 'held', 'advanced', 'soft', 'beat', 'intelligence', 'human', 'human', 'good', 'capable', 'manage', 'skilled', 'proper', 'hold', 'profound', 'soft', 'encourage', 'working', 'patient', 'calm', 'factor', 'survival', 'revolution', 'race', 'race', 'run']\n"
     ]
    },
    {
     "data": {
      "text/plain": [
       "128"
      ]
     },
     "execution_count": 20,
     "metadata": {},
     "output_type": "execute_result"
    }
   ],
   "source": [
    "positive_words = [i for i in new_texts if i in positive]\n",
    "print(positive_words)\n",
    "len(positive_words)"
   ]
  },
  {
   "cell_type": "markdown",
   "id": "1b59646d",
   "metadata": {},
   "source": [
    "positive Score\n"
   ]
  },
  {
   "cell_type": "code",
   "execution_count": 21,
   "id": "7d0fbab1",
   "metadata": {},
   "outputs": [
    {
     "name": "stdout",
     "output_type": "stream",
     "text": [
      "128\n"
     ]
    }
   ],
   "source": [
    "pos_score = len(positive_words)\n",
    "print(pos_score)"
   ]
  },
  {
   "cell_type": "markdown",
   "id": "54a6cc12",
   "metadata": {},
   "source": [
    "Negative Score"
   ]
  },
  {
   "cell_type": "code",
   "execution_count": 22,
   "id": "df0766cd",
   "metadata": {},
   "outputs": [
    {
     "name": "stdout",
     "output_type": "stream",
     "text": [
      "141\n"
     ]
    }
   ],
   "source": [
    "neg_score=len(negative_words)\n",
    "print(neg_score)"
   ]
  },
  {
   "cell_type": "markdown",
   "id": "84da7ab7",
   "metadata": {},
   "source": [
    "Polarity Score"
   ]
  },
  {
   "cell_type": "code",
   "execution_count": 23,
   "id": "21e88c2b",
   "metadata": {},
   "outputs": [
    {
     "data": {
      "text/plain": [
       "-0.05"
      ]
     },
     "execution_count": 23,
     "metadata": {},
     "output_type": "execute_result"
    }
   ],
   "source": [
    "Polarity_Score = (pos_score - neg_score)/((pos_score + neg_score) + 0.000001)\n",
    "round(Polarity_Score,2)"
   ]
  },
  {
   "cell_type": "markdown",
   "id": "16495ba1",
   "metadata": {},
   "source": [
    "Subjectivity Score"
   ]
  },
  {
   "cell_type": "code",
   "execution_count": 24,
   "id": "841713a3",
   "metadata": {},
   "outputs": [
    {
     "data": {
      "text/plain": [
       "0.03"
      ]
     },
     "execution_count": 24,
     "metadata": {},
     "output_type": "execute_result"
    }
   ],
   "source": [
    "Subjectivity_Score = (pos_score + neg_score)/ ((8860) + 0.000001)\n",
    "round(Subjectivity_Score,2)"
   ]
  },
  {
   "cell_type": "markdown",
   "id": "0d7c370e",
   "metadata": {},
   "source": [
    "# Analysis of Readability"
   ]
  },
  {
   "cell_type": "code",
   "execution_count": 25,
   "id": "10209a7a",
   "metadata": {},
   "outputs": [
    {
     "data": {
      "text/plain": [
       "1504"
      ]
     },
     "execution_count": 25,
     "metadata": {},
     "output_type": "execute_result"
    }
   ],
   "source": [
    "import nltk\n",
    "from nltk.tokenize import word_tokenize\n",
    "word_tokens = nltk.word_tokenize(texts)\n",
    "No_of_words = len(word_tokens)\n",
    "No_of_words"
   ]
  },
  {
   "cell_type": "code",
   "execution_count": 26,
   "id": "bfac2ab7",
   "metadata": {},
   "outputs": [
    {
     "data": {
      "text/plain": [
       "68"
      ]
     },
     "execution_count": 26,
     "metadata": {},
     "output_type": "execute_result"
    }
   ],
   "source": [
    "sent_tokens = nltk.sent_tokenize(texts)\n",
    "No_of_sents = len(sent_tokens)\n",
    "No_of_sents "
   ]
  },
  {
   "cell_type": "markdown",
   "id": "1576acfe",
   "metadata": {},
   "source": [
    "### Average sentence Length\n"
   ]
  },
  {
   "cell_type": "code",
   "execution_count": 27,
   "id": "11d6a7ec",
   "metadata": {},
   "outputs": [
    {
     "data": {
      "text/plain": [
       "22.12"
      ]
     },
     "execution_count": 27,
     "metadata": {},
     "output_type": "execute_result"
    }
   ],
   "source": [
    "Avg_Sents_Length = No_of_words / No_of_sents\n",
    "round(Avg_Sents_Length,2)"
   ]
  },
  {
   "cell_type": "markdown",
   "id": "bc20ee3d",
   "metadata": {},
   "source": [
    "### Percentage of Complex words\n",
    "Complex words: words with more than 2 syllable are called complex words"
   ]
  },
  {
   "cell_type": "code",
   "execution_count": 28,
   "id": "eba6a8b1",
   "metadata": {},
   "outputs": [
    {
     "name": "stdout",
     "output_type": "stream",
     "text": [
      "Number of complex words: 182\n",
      "Total number of words: 8400\n"
     ]
    }
   ],
   "source": [
    "from nltk.corpus import cmudict\n",
    "cmud = cmudict.dict()\n",
    "\n",
    "# Defining a function to count syllables in a word\n",
    "def count_syllables(word):\n",
    "    phonemes = cmud[word.lower()][0] \n",
    "    return len([s for s in phonemes if s[-1].isdigit()])\n",
    "\n",
    "# Identifing complex words\n",
    "w_tokens = [i for i in word_tokens if i in cmud]\n",
    "complex_words = [word for word in w_tokens if count_syllables(word) > 2]\n",
    "\n",
    "# Calculatingnumber of complex words\n",
    "num_complex_words = len(complex_words)\n",
    "\n",
    "print(\"Number of complex words:\", num_complex_words)\n",
    "print(\"Total number of words:\", len(texts))"
   ]
  },
  {
   "cell_type": "code",
   "execution_count": 29,
   "id": "eca0ffb9",
   "metadata": {},
   "outputs": [
    {
     "data": {
      "text/plain": [
       "46.15"
      ]
     },
     "execution_count": 29,
     "metadata": {},
     "output_type": "execute_result"
    }
   ],
   "source": [
    "Perc_of_Complex_words = len(texts) / num_complex_words\n",
    "round(Perc_of_Complex_words,2)"
   ]
  },
  {
   "cell_type": "markdown",
   "id": "77e948d1",
   "metadata": {},
   "source": [
    "### Fog Index"
   ]
  },
  {
   "cell_type": "code",
   "execution_count": 30,
   "id": "95fb10bb",
   "metadata": {},
   "outputs": [
    {
     "name": "stdout",
     "output_type": "stream",
     "text": [
      "Average sentence length: 68.0\n"
     ]
    }
   ],
   "source": [
    "# Tokenize each sentence into words\n",
    "words = [word_tokens for sentence in sent_tokens]\n",
    "\n",
    "# Calculate the average sentence length\n",
    "avg_sent_len = sum(No_of_sents for sentence in words) / No_of_sents\n",
    "\n",
    "print(\"Average sentence length:\", avg_sent_len)\n"
   ]
  },
  {
   "cell_type": "code",
   "execution_count": 31,
   "id": "38f5a93b",
   "metadata": {},
   "outputs": [
    {
     "data": {
      "text/plain": [
       "45.66"
      ]
     },
     "execution_count": 31,
     "metadata": {},
     "output_type": "execute_result"
    }
   ],
   "source": [
    "Fog_index = 0.4 * (avg_sent_len + Perc_of_Complex_words)\n",
    "round(Fog_index,2)"
   ]
  },
  {
   "cell_type": "markdown",
   "id": "5b4aacea",
   "metadata": {},
   "source": [
    "# Average Number of Words Per Sentence"
   ]
  },
  {
   "cell_type": "code",
   "execution_count": 32,
   "id": "45da1407",
   "metadata": {},
   "outputs": [
    {
     "data": {
      "text/plain": [
       "22.12"
      ]
     },
     "execution_count": 32,
     "metadata": {},
     "output_type": "execute_result"
    }
   ],
   "source": [
    "avg_no_of_words_per_sent = No_of_words / No_of_sents\n",
    "round(avg_no_of_words_per_sent,2)"
   ]
  },
  {
   "cell_type": "markdown",
   "id": "f2d9b493",
   "metadata": {},
   "source": [
    "# Complex Word Count"
   ]
  },
  {
   "cell_type": "code",
   "execution_count": 33,
   "id": "75304424",
   "metadata": {},
   "outputs": [
    {
     "name": "stdout",
     "output_type": "stream",
     "text": [
      "complex word count: 182\n"
     ]
    }
   ],
   "source": [
    "from nltk.corpus import cmudict\n",
    "cmud = cmudict.dict()\n",
    "\n",
    "# Defining a function to count syllables in a word\n",
    "def count_syllables(word):\n",
    "    phonemes = cmud[word.lower()][0] \n",
    "    return len([s for s in phonemes if s[-1].isdigit()])\n",
    "\n",
    "# Identifing complex words\n",
    "w_tokens = [i for i in word_tokens if i in cmud]\n",
    "complex_words = [word for word in w_tokens if count_syllables(word) > 2]\n",
    "\n",
    "# Calculatingnumber of complex words\n",
    "num_complex_words = len(complex_words)\n",
    "\n",
    "print(\"complex word count:\", num_complex_words)"
   ]
  },
  {
   "cell_type": "markdown",
   "id": "99ea5188",
   "metadata": {},
   "source": [
    "# Word Count\n",
    "number of words after cleaning"
   ]
  },
  {
   "cell_type": "code",
   "execution_count": 34,
   "id": "b4fb0c72",
   "metadata": {},
   "outputs": [
    {
     "data": {
      "text/plain": [
       "690"
      ]
     },
     "execution_count": 34,
     "metadata": {},
     "output_type": "execute_result"
    }
   ],
   "source": [
    "len(new_texts)"
   ]
  },
  {
   "cell_type": "markdown",
   "id": "ca8076ff",
   "metadata": {},
   "source": [
    "# Syllable Count Per Word"
   ]
  },
  {
   "cell_type": "code",
   "execution_count": 35,
   "id": "bc568045",
   "metadata": {},
   "outputs": [
    {
     "name": "stdout",
     "output_type": "stream",
     "text": [
      "Enter a word to get syllable: nature\n",
      "Number of syllable in a word : 2\n"
     ]
    }
   ],
   "source": [
    "word = input(\"Enter a word to get syllable: \")\n",
    "def count_syllables(word):\n",
    "    phonemes = cmud[word.lower()][0] \n",
    "    return len([s for s in phonemes if s[-1].isdigit()])\n",
    "\n",
    "print(\"Number of syllable in a word :\",count_syllables(word))"
   ]
  },
  {
   "cell_type": "markdown",
   "id": "1d3a18f6",
   "metadata": {},
   "source": [
    "# Personal Pronouns"
   ]
  },
  {
   "cell_type": "code",
   "execution_count": 38,
   "id": "0b8e0d2d",
   "metadata": {},
   "outputs": [
    {
     "name": "stdout",
     "output_type": "stream",
     "text": [
      "Personal pronoun frequency: {'it': 32, 'them': 2, 'him': 2, 'they': 4, 'we': 3, 'us': 3, 'i': 1}\n",
      "total number of pronouns in a article : 47\n"
     ]
    }
   ],
   "source": [
    "import re\n",
    "\n",
    "# Define a regex pattern to match personal pronouns\n",
    "pattern = r'\\b(I|you|he|she|it|we|they|me|him|her|us|them)\\b'\n",
    "\n",
    "# Count the frequency of personal pronouns\n",
    "pronoun_freq = {}\n",
    "for pronoun in re.findall(pattern, texts, re.IGNORECASE):\n",
    "    pronoun = pronoun.lower()\n",
    "    if pronoun in pronoun_freq:\n",
    "        pronoun_freq[pronoun] += 1\n",
    "    else:\n",
    "        pronoun_freq[pronoun] = 1\n",
    "\n",
    "print(\"Personal pronoun frequency:\", pronoun_freq)\n",
    "def returnSum(dict):\n",
    " \n",
    "    sum = 0\n",
    "    for i in pronoun_freq.values():\n",
    "        sum = sum + i\n",
    " \n",
    "    return sum\n",
    "print(\"total number of pronouns in a article :\",returnSum(pronoun_freq))"
   ]
  },
  {
   "cell_type": "markdown",
   "id": "e3fc87f8",
   "metadata": {},
   "source": [
    "# Average Word Length"
   ]
  },
  {
   "cell_type": "code",
   "execution_count": 39,
   "id": "5bde37d9",
   "metadata": {},
   "outputs": [
    {
     "name": "stdout",
     "output_type": "stream",
     "text": [
      "Average word length: 4.55\n"
     ]
    }
   ],
   "source": [
    "# Calculate the total number of characters in all words\n",
    "total_chars = sum(len(word) for word in word_tokens)\n",
    "\n",
    "avg_word_length = total_chars / No_of_words\n",
    "\n",
    "print(\"Average word length:\", round(avg_word_length,2))\n"
   ]
  },
  {
   "cell_type": "code",
   "execution_count": null,
   "id": "b01fcd55",
   "metadata": {},
   "outputs": [],
   "source": []
  },
  {
   "cell_type": "code",
   "execution_count": null,
   "id": "a2f0f893",
   "metadata": {},
   "outputs": [],
   "source": []
  }
 ],
 "metadata": {
  "kernelspec": {
   "display_name": "Python 3",
   "language": "python",
   "name": "python3"
  },
  "language_info": {
   "codemirror_mode": {
    "name": "ipython",
    "version": 3
   },
   "file_extension": ".py",
   "mimetype": "text/x-python",
   "name": "python",
   "nbconvert_exporter": "python",
   "pygments_lexer": "ipython3",
   "version": "3.8.8"
  }
 },
 "nbformat": 4,
 "nbformat_minor": 5
}
