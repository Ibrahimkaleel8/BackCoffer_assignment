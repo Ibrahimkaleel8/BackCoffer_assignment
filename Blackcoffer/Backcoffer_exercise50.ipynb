{
 "cells": [
  {
   "cell_type": "markdown",
   "id": "b9312f26",
   "metadata": {},
   "source": [
    "# Data scraping"
   ]
  },
  {
   "cell_type": "code",
   "execution_count": 1,
   "id": "ef4785ca",
   "metadata": {},
   "outputs": [],
   "source": [
    "import nltk\n",
    "import requests\n",
    "from bs4 import BeautifulSoup"
   ]
  },
  {
   "cell_type": "code",
   "execution_count": 2,
   "id": "ac2f2459",
   "metadata": {},
   "outputs": [],
   "source": [
    "req = requests.get(\"https://insights.blackcoffer.com/online-gaming-adolescent-online-gaming-effects-demotivated-depression-musculoskeletal-and-psychosomatic-symptoms/\")"
   ]
  },
  {
   "cell_type": "code",
   "execution_count": 3,
   "id": "45f9fa09",
   "metadata": {},
   "outputs": [],
   "source": [
    "soup = BeautifulSoup(req.content, \"html.parser\")\n",
    "res = soup.title\n",
    "paras = soup.find_all('p')"
   ]
  },
  {
   "cell_type": "code",
   "execution_count": 4,
   "id": "dbb256b2",
   "metadata": {
    "scrolled": true
   },
   "outputs": [
    {
     "name": "stdout",
     "output_type": "stream",
     "text": [
      "A video game is any software program that can be played on a computing device, such as a personal computer, gaming console, or mobile device. Video games have been in existence since the early 1970s and have become increasingly popular, spanning different mobile (smartphones, tablets) and stationary (computer or console) platforms. Advances, particularly in mobile devices, have given birth to social networks and group gaming Although the nature of gaming does not require physical stamina and therefore is not limited by factors such as age, gender, or fitness, it is most popular with adolescents. In 2018, the World Health Organization (WHO) classified gaming disorder in their International Classification of Diseases (ICD-11). The ICD-11 is a list of diseases and medical conditions that aids health professionals in making diagnoses and treatment plans for patients having various disorders. It should be noted that, the inclusion of gaming disorder in the ICD-11 by WHO has generated vigorous and sometimes contentious debate and discussion within the medical and mental health community. Although recognized as an area of clinical interest, the Diagnostic and Statistical Manual of Mental Disorders (DSM-5) published by the American Psychiatric Association suggests that more clinical research is required before Gaming Disorder is formally considered as a psychiatric disorder. Similarly, the WHO notes the inclusion of gaming disorder in ICD-11, to encourage more research into excessive gaming behavior, including its prevention and treatment. What is Online gaming disorder? 2018 WHO draft 11th Revision of the ICD-11 denotes the disorder as a pattern of “digital-gaming” or “video-gaming” behavior characterized by impaired control over gaming activity, increasing priority given to gaming over other activities to the extent that gaming takes precedence over other interests and daily activities, and the continuation or escalation of gaming despite the occurrence of negative consequences. Online Gaming disorder has the same similarities with Internet gaming disorder (IGD), which is a condition that the American Psychiatric Association (APA) noted in DSM-5 as an area in need of additional study. The APA does not currently recognize IGD as an official condition. For gaming disorder to be diagnosed, the WHO criteria require that the behavioral pattern of the gamer must be of sufficient severity that major and noticeable impairment and deterioration in personal, family, social, educational, occupational or other important areas of functioning is present for a minimum of 12 months. According to the WHO definition, a person with online gaming disorder will demonstrate the following characteristics for at least 12 months; problems controlling control their gaming habits, seeing gaming as more important over other necessities and daily activities or work, continuing to engage in gaming even after its negative health and social problems has been identified or are evident. Further research shows that gaming disorders can also be linked to anxiety, depression, obesity, sleeping disorders, and stress. People who remain physically inactive for long periods because of gaming may also be at higher risk of obesity, sleep disorders, and other health-related issues, according to WHO [1]. Video game-related health problems can cause continuous strain injuries, skin disorders, and other health issues. Other problems according to Shoja et al. (2007), include a condition that could be termed video game-provoked seizures in patients with pre-existing epilepsy. The following health consequences of video gaming have been reported. Video game playing is associated with eye problems. Extensive and fixed staring at a video game screen causes eyestrain because the cornea, pupil, and iris are not biologically equipped for chronic heavy viewing of digital images from electronic devices. The visual system strain from frequent video game use over extended periods may result in headaches, dizziness, and in some cases, nausea and vomiting. Interestingly, there is some research that shows that gamers have an enhancement of spatial distribution of attention, compared with non-gamers. This somewhat predictable practice effect occurs with both peripheral and central visual attention. For sufferers of amblyopia (dimness or blurring of the eyesight due to a fault in transmission from the eye to the brain) video games may be helpful. Persistent gamers may also suffer from musculoskeletal problems. A survey of children indicated increased physical complaints associated with video game playing. Such complaints range from pain in the hands and wrists to back and neck. Furthermore, a case report involving a nine-year-old teenager referenced Playstation thumb. Playstation thumb is, characterized by numbness and a blister is caused by friction between the thumb and the controller from rapid and persistent gameplay. Using dermoscopy, dermatologists discovered hemorrhages and onycholysis (the loosening or separation of a fingernail) in a patient who presented with hyperkeratosis. Also, tendon injuries (tendinosis) of the hands and wrists from tendon overuse, is another health problem associated with video game playing. Furthermore, another case report in the New England Journal of Medicine reported a fracture of the base of the fifth metatarsal from people who play Wii video games. This condition has been termed (perhaps sarcastically), a Wii fracture. There are also postural problems associated with the persistent playing of video games, although, ergonomic measures (including chair to monitor position) could potentially improve postural problems associated with video game playing. Playing video games consistently has been associated with obesity. This is maybe related to the lack of physical activity in players. Alternatively, it could be that those who are less physically fit because of obesity gravitate towards less physically demanding activities, such as gaming. In either case, several studies have linked television and video games and increased Body Mass Index (BMI). It has been estimated that children in the United States spend 25% of their waking hours watching either television or playing video games. Furthermore, children who watch the most hours of television or play video games have the highest incidence of obesity. If video games are replacing physical activities and young people do not participate in physical recreation or see playing of video games as a form of recreation, this may be part of the link between times spent while playing video games and a rise in BMI in teenagers. Evidence for this potential link gains some support from a German study reporting that boys who spend no more than 1.5 hours per day engaged in television watching or playing video games, were 75.4% less likely to be overweight than those who spend more than 1.5 hours engaged in the same activity. In a 2011 study, an association between video game activity and an increase of (mostly junk) food intake was reported. Specifically, single video game sessions caused an increase in food intake, regardless of appetite. It has also been suggested that active video game play using two popular gaming platforms has the opposite effect. Other researchers found no evidence that more active video games would result in a beneficial outcome although the study did demonstrate an increase in the amount of physical activity within the children receiving the active video games. Health concerns that video games may cause epileptic seizures started in the early 1980s. The first medically documented case of a video game-induced seizure was reported in 1981. In 1993, a story in the popular press (Sun newspaper) reported that a boy choked to death on his own vomit during a seizure triggered by playing a video game. Similar but less serious incidents were subsequently reported by news media around the world, ultimately motivating video game console manufacturers to include that epilepsy warnings in the instruction manuals for their gaming products. In 1994 it was reported that video games only cause seizures in people already predisposed to epilepsy and advised that people with a predisposition to epilepsy can greatly reduce the risk of a seizure by staying 10 feet or more away from the TV set and wearing sunglasses while playing video games. This is clearly an area in need of additional research. The cost: benefit value of prevention versus treatment of addiction disorders has been known for many years. It is important and beneficial to make use of several types of strategies in combating gaming addictiveness or disorder. Effective strategies include: educating gamers about gaming behaviors and consequences on their mental health; treatment geared towards helping the gamer to control his/her urge for video games, recognizing and dealing with disturbing thoughts and learning how to cope without video games; intrapersonal and interpersonal counseling to help gamers to explore their identity, build self-esteem, and enhance their emotional intelligence outside the fictional world of gaming and learning communication and assertiveness skills needed in social interactions; family involvement, including counseling and discussion family and other relationships; and developing new lifestyles. The latter is particularly important and to paraphrase the well-known mantra of Alcoholics Anonymous, it’s all about, people, places, and things. To prevent the persistent playing of video games, people need to explore new activities, set new goals and metrics of achievements beyond video game scores.\n"
     ]
    }
   ],
   "source": [
    "texts = \" \".join([paragraph.text.strip() for paragraph in paras])\n",
    "print(texts)"
   ]
  },
  {
   "cell_type": "code",
   "execution_count": 5,
   "id": "e79f5f60",
   "metadata": {},
   "outputs": [
    {
     "data": {
      "text/plain": [
       "9665"
      ]
     },
     "execution_count": 5,
     "metadata": {},
     "output_type": "execute_result"
    }
   ],
   "source": [
    "len(texts)"
   ]
  },
  {
   "cell_type": "markdown",
   "id": "db8f1fcc",
   "metadata": {},
   "source": [
    "Removing Punctuation"
   ]
  },
  {
   "cell_type": "code",
   "execution_count": 6,
   "id": "5285c8a8",
   "metadata": {},
   "outputs": [
    {
     "data": {
      "text/plain": [
       "9665"
      ]
     },
     "execution_count": 6,
     "metadata": {},
     "output_type": "execute_result"
    }
   ],
   "source": [
    "import re\n",
    "import string\n",
    "texts = re.sub(r'[\\'\\“\\”\\()\\%\\,\\-\\'\\’\\?\\ ]', ' ', texts)\n",
    "texts[0:200]\n",
    "len(texts)"
   ]
  },
  {
   "cell_type": "markdown",
   "id": "4fafe7be",
   "metadata": {},
   "source": [
    "# Removing Stopwords"
   ]
  },
  {
   "cell_type": "code",
   "execution_count": 7,
   "id": "089b8663",
   "metadata": {},
   "outputs": [],
   "source": [
    "from nltk.tokenize import word_tokenize"
   ]
  },
  {
   "cell_type": "code",
   "execution_count": 8,
   "id": "280876b0",
   "metadata": {},
   "outputs": [
    {
     "data": {
      "text/plain": [
       "['A',\n",
       " 'video',\n",
       " 'game',\n",
       " 'is',\n",
       " 'any',\n",
       " 'software',\n",
       " 'program',\n",
       " 'that',\n",
       " 'can',\n",
       " 'be',\n",
       " 'played',\n",
       " 'on',\n",
       " 'a',\n",
       " 'computing',\n",
       " 'device',\n",
       " 'such',\n",
       " 'as',\n",
       " 'a',\n",
       " 'personal',\n",
       " 'computer',\n",
       " 'gaming',\n",
       " 'console',\n",
       " 'or',\n",
       " 'mobile',\n",
       " 'device',\n",
       " '.',\n",
       " 'Video',\n",
       " 'games',\n",
       " 'have',\n",
       " 'been',\n",
       " 'in',\n",
       " 'existence',\n",
       " 'since',\n",
       " 'the',\n",
       " 'early',\n",
       " '1970s',\n",
       " 'and',\n",
       " 'have',\n",
       " 'become',\n",
       " 'increasingly',\n",
       " 'popular',\n",
       " 'spanning',\n",
       " 'different',\n",
       " 'mobile',\n",
       " 'smartphones',\n",
       " 'tablets',\n",
       " 'and',\n",
       " 'stationary',\n",
       " 'computer',\n",
       " 'or',\n",
       " 'console',\n",
       " 'platforms',\n",
       " '.',\n",
       " 'Advances',\n",
       " 'particularly',\n",
       " 'in',\n",
       " 'mobile',\n",
       " 'devices',\n",
       " 'have',\n",
       " 'given',\n",
       " 'birth',\n",
       " 'to',\n",
       " 'social',\n",
       " 'networks',\n",
       " 'and',\n",
       " 'group',\n",
       " 'gaming',\n",
       " 'Although',\n",
       " 'the',\n",
       " 'nature',\n",
       " 'of',\n",
       " 'gaming',\n",
       " 'does',\n",
       " 'not',\n",
       " 'require',\n",
       " 'physical',\n",
       " 'stamina',\n",
       " 'and',\n",
       " 'therefore',\n",
       " 'is',\n",
       " 'not',\n",
       " 'limited',\n",
       " 'by',\n",
       " 'factors',\n",
       " 'such',\n",
       " 'as',\n",
       " 'age',\n",
       " 'gender',\n",
       " 'or',\n",
       " 'fitness',\n",
       " 'it',\n",
       " 'is',\n",
       " 'most',\n",
       " 'popular',\n",
       " 'with',\n",
       " 'adolescents',\n",
       " '.',\n",
       " 'In',\n",
       " '2018',\n",
       " 'the',\n",
       " 'World',\n",
       " 'Health',\n",
       " 'Organization',\n",
       " 'WHO',\n",
       " 'classified',\n",
       " 'gaming',\n",
       " 'disorder',\n",
       " 'in',\n",
       " 'their',\n",
       " 'International',\n",
       " 'Classification',\n",
       " 'of',\n",
       " 'Diseases',\n",
       " 'ICD',\n",
       " '11',\n",
       " '.',\n",
       " 'The',\n",
       " 'ICD',\n",
       " '11',\n",
       " 'is',\n",
       " 'a',\n",
       " 'list',\n",
       " 'of',\n",
       " 'diseases',\n",
       " 'and',\n",
       " 'medical',\n",
       " 'conditions',\n",
       " 'that',\n",
       " 'aids',\n",
       " 'health',\n",
       " 'professionals',\n",
       " 'in',\n",
       " 'making',\n",
       " 'diagnoses',\n",
       " 'and',\n",
       " 'treatment',\n",
       " 'plans',\n",
       " 'for',\n",
       " 'patients',\n",
       " 'having',\n",
       " 'various',\n",
       " 'disorders',\n",
       " '.',\n",
       " 'It',\n",
       " 'should',\n",
       " 'be',\n",
       " 'noted',\n",
       " 'that',\n",
       " 'the',\n",
       " 'inclusion',\n",
       " 'of',\n",
       " 'gaming',\n",
       " 'disorder',\n",
       " 'in',\n",
       " 'the',\n",
       " 'ICD',\n",
       " '11',\n",
       " 'by',\n",
       " 'WHO',\n",
       " 'has',\n",
       " 'generated',\n",
       " 'vigorous',\n",
       " 'and',\n",
       " 'sometimes',\n",
       " 'contentious',\n",
       " 'debate',\n",
       " 'and',\n",
       " 'discussion',\n",
       " 'within',\n",
       " 'the',\n",
       " 'medical',\n",
       " 'and',\n",
       " 'mental',\n",
       " 'health',\n",
       " 'community',\n",
       " '.',\n",
       " 'Although',\n",
       " 'recognized',\n",
       " 'as',\n",
       " 'an',\n",
       " 'area',\n",
       " 'of',\n",
       " 'clinical',\n",
       " 'interest',\n",
       " 'the',\n",
       " 'Diagnostic',\n",
       " 'and',\n",
       " 'Statistical',\n",
       " 'Manual',\n",
       " 'of',\n",
       " 'Mental',\n",
       " 'Disorders',\n",
       " 'DSM',\n",
       " '5',\n",
       " 'published',\n",
       " 'by',\n",
       " 'the',\n",
       " 'American',\n",
       " 'Psychiatric',\n",
       " 'Association',\n",
       " 'suggests',\n",
       " 'that',\n",
       " 'more',\n",
       " 'clinical',\n",
       " 'research',\n",
       " 'is',\n",
       " 'required',\n",
       " 'before',\n",
       " 'Gaming',\n",
       " 'Disorder',\n",
       " 'is',\n",
       " 'formally',\n",
       " 'considered',\n",
       " 'as',\n",
       " 'a',\n",
       " 'psychiatric',\n",
       " 'disorder',\n",
       " '.',\n",
       " 'Similarly',\n",
       " 'the',\n",
       " 'WHO',\n",
       " 'notes',\n",
       " 'the',\n",
       " 'inclusion',\n",
       " 'of',\n",
       " 'gaming',\n",
       " 'disorder',\n",
       " 'in',\n",
       " 'ICD',\n",
       " '11',\n",
       " 'to',\n",
       " 'encourage',\n",
       " 'more',\n",
       " 'research',\n",
       " 'into',\n",
       " 'excessive',\n",
       " 'gaming',\n",
       " 'behavior',\n",
       " 'including',\n",
       " 'its',\n",
       " 'prevention',\n",
       " 'and',\n",
       " 'treatment',\n",
       " '.',\n",
       " 'What',\n",
       " 'is',\n",
       " 'Online',\n",
       " 'gaming',\n",
       " 'disorder',\n",
       " '2018',\n",
       " 'WHO',\n",
       " 'draft',\n",
       " '11th',\n",
       " 'Revision',\n",
       " 'of',\n",
       " 'the',\n",
       " 'ICD',\n",
       " '11',\n",
       " 'denotes',\n",
       " 'the',\n",
       " 'disorder',\n",
       " 'as',\n",
       " 'a',\n",
       " 'pattern',\n",
       " 'of',\n",
       " 'digital',\n",
       " 'gaming',\n",
       " 'or',\n",
       " 'video',\n",
       " 'gaming',\n",
       " 'behavior',\n",
       " 'characterized',\n",
       " 'by',\n",
       " 'impaired',\n",
       " 'control',\n",
       " 'over',\n",
       " 'gaming',\n",
       " 'activity',\n",
       " 'increasing',\n",
       " 'priority',\n",
       " 'given',\n",
       " 'to',\n",
       " 'gaming',\n",
       " 'over',\n",
       " 'other',\n",
       " 'activities',\n",
       " 'to',\n",
       " 'the',\n",
       " 'extent',\n",
       " 'that',\n",
       " 'gaming',\n",
       " 'takes',\n",
       " 'precedence',\n",
       " 'over',\n",
       " 'other',\n",
       " 'interests',\n",
       " 'and',\n",
       " 'daily',\n",
       " 'activities',\n",
       " 'and',\n",
       " 'the',\n",
       " 'continuation',\n",
       " 'or',\n",
       " 'escalation',\n",
       " 'of',\n",
       " 'gaming',\n",
       " 'despite',\n",
       " 'the',\n",
       " 'occurrence',\n",
       " 'of',\n",
       " 'negative',\n",
       " 'consequences',\n",
       " '.',\n",
       " 'Online',\n",
       " 'Gaming',\n",
       " 'disorder',\n",
       " 'has',\n",
       " 'the',\n",
       " 'same',\n",
       " 'similarities',\n",
       " 'with',\n",
       " 'Internet',\n",
       " 'gaming',\n",
       " 'disorder',\n",
       " 'IGD',\n",
       " 'which',\n",
       " 'is',\n",
       " 'a',\n",
       " 'condition',\n",
       " 'that',\n",
       " 'the',\n",
       " 'American',\n",
       " 'Psychiatric',\n",
       " 'Association',\n",
       " 'APA',\n",
       " 'noted',\n",
       " 'in',\n",
       " 'DSM',\n",
       " '5',\n",
       " 'as',\n",
       " 'an',\n",
       " 'area',\n",
       " 'in',\n",
       " 'need',\n",
       " 'of',\n",
       " 'additional',\n",
       " 'study',\n",
       " '.',\n",
       " 'The',\n",
       " 'APA',\n",
       " 'does',\n",
       " 'not',\n",
       " 'currently',\n",
       " 'recognize',\n",
       " 'IGD',\n",
       " 'as',\n",
       " 'an',\n",
       " 'official',\n",
       " 'condition',\n",
       " '.',\n",
       " 'For',\n",
       " 'gaming',\n",
       " 'disorder',\n",
       " 'to',\n",
       " 'be',\n",
       " 'diagnosed',\n",
       " 'the',\n",
       " 'WHO',\n",
       " 'criteria',\n",
       " 'require',\n",
       " 'that',\n",
       " 'the',\n",
       " 'behavioral',\n",
       " 'pattern',\n",
       " 'of',\n",
       " 'the',\n",
       " 'gamer',\n",
       " 'must',\n",
       " 'be',\n",
       " 'of',\n",
       " 'sufficient',\n",
       " 'severity',\n",
       " 'that',\n",
       " 'major',\n",
       " 'and',\n",
       " 'noticeable',\n",
       " 'impairment',\n",
       " 'and',\n",
       " 'deterioration',\n",
       " 'in',\n",
       " 'personal',\n",
       " 'family',\n",
       " 'social',\n",
       " 'educational',\n",
       " 'occupational',\n",
       " 'or',\n",
       " 'other',\n",
       " 'important',\n",
       " 'areas',\n",
       " 'of',\n",
       " 'functioning',\n",
       " 'is',\n",
       " 'present',\n",
       " 'for',\n",
       " 'a',\n",
       " 'minimum',\n",
       " 'of',\n",
       " '12',\n",
       " 'months',\n",
       " '.',\n",
       " 'According',\n",
       " 'to',\n",
       " 'the',\n",
       " 'WHO',\n",
       " 'definition',\n",
       " 'a',\n",
       " 'person',\n",
       " 'with',\n",
       " 'online',\n",
       " 'gaming',\n",
       " 'disorder',\n",
       " 'will',\n",
       " 'demonstrate',\n",
       " 'the',\n",
       " 'following',\n",
       " 'characteristics',\n",
       " 'for',\n",
       " 'at',\n",
       " 'least',\n",
       " '12',\n",
       " 'months',\n",
       " ';',\n",
       " 'problems',\n",
       " 'controlling',\n",
       " 'control',\n",
       " 'their',\n",
       " 'gaming',\n",
       " 'habits',\n",
       " 'seeing',\n",
       " 'gaming',\n",
       " 'as',\n",
       " 'more',\n",
       " 'important',\n",
       " 'over',\n",
       " 'other',\n",
       " 'necessities',\n",
       " 'and',\n",
       " 'daily',\n",
       " 'activities',\n",
       " 'or',\n",
       " 'work',\n",
       " 'continuing',\n",
       " 'to',\n",
       " 'engage',\n",
       " 'in',\n",
       " 'gaming',\n",
       " 'even',\n",
       " 'after',\n",
       " 'its',\n",
       " 'negative',\n",
       " 'health',\n",
       " 'and',\n",
       " 'social',\n",
       " 'problems',\n",
       " 'has',\n",
       " 'been',\n",
       " 'identified',\n",
       " 'or',\n",
       " 'are',\n",
       " 'evident',\n",
       " '.',\n",
       " 'Further',\n",
       " 'research',\n",
       " 'shows',\n",
       " 'that',\n",
       " 'gaming',\n",
       " 'disorders',\n",
       " 'can',\n",
       " 'also',\n",
       " 'be',\n",
       " 'linked',\n",
       " 'to',\n",
       " 'anxiety',\n",
       " 'depression',\n",
       " 'obesity',\n",
       " 'sleeping',\n",
       " 'disorders',\n",
       " 'and',\n",
       " 'stress',\n",
       " '.',\n",
       " 'People',\n",
       " 'who',\n",
       " 'remain',\n",
       " 'physically',\n",
       " 'inactive',\n",
       " 'for',\n",
       " 'long',\n",
       " 'periods',\n",
       " 'because',\n",
       " 'of',\n",
       " 'gaming',\n",
       " 'may',\n",
       " 'also',\n",
       " 'be',\n",
       " 'at',\n",
       " 'higher',\n",
       " 'risk',\n",
       " 'of',\n",
       " 'obesity',\n",
       " 'sleep',\n",
       " 'disorders',\n",
       " 'and',\n",
       " 'other',\n",
       " 'health',\n",
       " 'related',\n",
       " 'issues',\n",
       " 'according',\n",
       " 'to',\n",
       " 'WHO',\n",
       " '[',\n",
       " '1',\n",
       " ']',\n",
       " '.',\n",
       " 'Video',\n",
       " 'game',\n",
       " 'related',\n",
       " 'health',\n",
       " 'problems',\n",
       " 'can',\n",
       " 'cause',\n",
       " 'continuous',\n",
       " 'strain',\n",
       " 'injuries',\n",
       " 'skin',\n",
       " 'disorders',\n",
       " 'and',\n",
       " 'other',\n",
       " 'health',\n",
       " 'issues',\n",
       " '.',\n",
       " 'Other',\n",
       " 'problems',\n",
       " 'according',\n",
       " 'to',\n",
       " 'Shoja',\n",
       " 'et',\n",
       " 'al',\n",
       " '.',\n",
       " '2007',\n",
       " 'include',\n",
       " 'a',\n",
       " 'condition',\n",
       " 'that',\n",
       " 'could',\n",
       " 'be',\n",
       " 'termed',\n",
       " 'video',\n",
       " 'game',\n",
       " 'provoked',\n",
       " 'seizures',\n",
       " 'in',\n",
       " 'patients',\n",
       " 'with',\n",
       " 'pre',\n",
       " 'existing',\n",
       " 'epilepsy',\n",
       " '.',\n",
       " 'The',\n",
       " 'following',\n",
       " 'health',\n",
       " 'consequences',\n",
       " 'of',\n",
       " 'video',\n",
       " 'gaming',\n",
       " 'have',\n",
       " 'been',\n",
       " 'reported',\n",
       " '.',\n",
       " 'Video',\n",
       " 'game',\n",
       " 'playing',\n",
       " 'is',\n",
       " 'associated',\n",
       " 'with',\n",
       " 'eye',\n",
       " 'problems',\n",
       " '.',\n",
       " 'Extensive',\n",
       " 'and',\n",
       " 'fixed',\n",
       " 'staring',\n",
       " 'at',\n",
       " 'a',\n",
       " 'video',\n",
       " 'game',\n",
       " 'screen',\n",
       " 'causes',\n",
       " 'eyestrain',\n",
       " 'because',\n",
       " 'the',\n",
       " 'cornea',\n",
       " 'pupil',\n",
       " 'and',\n",
       " 'iris',\n",
       " 'are',\n",
       " 'not',\n",
       " 'biologically',\n",
       " 'equipped',\n",
       " 'for',\n",
       " 'chronic',\n",
       " 'heavy',\n",
       " 'viewing',\n",
       " 'of',\n",
       " 'digital',\n",
       " 'images',\n",
       " 'from',\n",
       " 'electronic',\n",
       " 'devices',\n",
       " '.',\n",
       " 'The',\n",
       " 'visual',\n",
       " 'system',\n",
       " 'strain',\n",
       " 'from',\n",
       " 'frequent',\n",
       " 'video',\n",
       " 'game',\n",
       " 'use',\n",
       " 'over',\n",
       " 'extended',\n",
       " 'periods',\n",
       " 'may',\n",
       " 'result',\n",
       " 'in',\n",
       " 'headaches',\n",
       " 'dizziness',\n",
       " 'and',\n",
       " 'in',\n",
       " 'some',\n",
       " 'cases',\n",
       " 'nausea',\n",
       " 'and',\n",
       " 'vomiting',\n",
       " '.',\n",
       " 'Interestingly',\n",
       " 'there',\n",
       " 'is',\n",
       " 'some',\n",
       " 'research',\n",
       " 'that',\n",
       " 'shows',\n",
       " 'that',\n",
       " 'gamers',\n",
       " 'have',\n",
       " 'an',\n",
       " 'enhancement',\n",
       " 'of',\n",
       " 'spatial',\n",
       " 'distribution',\n",
       " 'of',\n",
       " 'attention',\n",
       " 'compared',\n",
       " 'with',\n",
       " 'non',\n",
       " 'gamers',\n",
       " '.',\n",
       " 'This',\n",
       " 'somewhat',\n",
       " 'predictable',\n",
       " 'practice',\n",
       " 'effect',\n",
       " 'occurs',\n",
       " 'with',\n",
       " 'both',\n",
       " 'peripheral',\n",
       " 'and',\n",
       " 'central',\n",
       " 'visual',\n",
       " 'attention',\n",
       " '.',\n",
       " 'For',\n",
       " 'sufferers',\n",
       " 'of',\n",
       " 'amblyopia',\n",
       " 'dimness',\n",
       " 'or',\n",
       " 'blurring',\n",
       " 'of',\n",
       " 'the',\n",
       " 'eyesight',\n",
       " 'due',\n",
       " 'to',\n",
       " 'a',\n",
       " 'fault',\n",
       " 'in',\n",
       " 'transmission',\n",
       " 'from',\n",
       " 'the',\n",
       " 'eye',\n",
       " 'to',\n",
       " 'the',\n",
       " 'brain',\n",
       " 'video',\n",
       " 'games',\n",
       " 'may',\n",
       " 'be',\n",
       " 'helpful',\n",
       " '.',\n",
       " 'Persistent',\n",
       " 'gamers',\n",
       " 'may',\n",
       " 'also',\n",
       " 'suffer',\n",
       " 'from',\n",
       " 'musculoskeletal',\n",
       " 'problems',\n",
       " '.',\n",
       " 'A',\n",
       " 'survey',\n",
       " 'of',\n",
       " 'children',\n",
       " 'indicated',\n",
       " 'increased',\n",
       " 'physical',\n",
       " 'complaints',\n",
       " 'associated',\n",
       " 'with',\n",
       " 'video',\n",
       " 'game',\n",
       " 'playing',\n",
       " '.',\n",
       " 'Such',\n",
       " 'complaints',\n",
       " 'range',\n",
       " 'from',\n",
       " 'pain',\n",
       " 'in',\n",
       " 'the',\n",
       " 'hands',\n",
       " 'and',\n",
       " 'wrists',\n",
       " 'to',\n",
       " 'back',\n",
       " 'and',\n",
       " 'neck',\n",
       " '.',\n",
       " 'Furthermore',\n",
       " 'a',\n",
       " 'case',\n",
       " 'report',\n",
       " 'involving',\n",
       " 'a',\n",
       " 'nine',\n",
       " 'year',\n",
       " 'old',\n",
       " 'teenager',\n",
       " 'referenced',\n",
       " 'Playstation',\n",
       " 'thumb',\n",
       " '.',\n",
       " 'Playstation',\n",
       " 'thumb',\n",
       " 'is',\n",
       " 'characterized',\n",
       " 'by',\n",
       " 'numbness',\n",
       " 'and',\n",
       " 'a',\n",
       " 'blister',\n",
       " 'is',\n",
       " 'caused',\n",
       " 'by',\n",
       " 'friction',\n",
       " 'between',\n",
       " 'the',\n",
       " 'thumb',\n",
       " 'and',\n",
       " 'the',\n",
       " 'controller',\n",
       " 'from',\n",
       " 'rapid',\n",
       " 'and',\n",
       " 'persistent',\n",
       " 'gameplay',\n",
       " '.',\n",
       " 'Using',\n",
       " 'dermoscopy',\n",
       " 'dermatologists',\n",
       " 'discovered',\n",
       " 'hemorrhages',\n",
       " 'and',\n",
       " 'onycholysis',\n",
       " 'the',\n",
       " 'loosening',\n",
       " 'or',\n",
       " 'separation',\n",
       " 'of',\n",
       " 'a',\n",
       " 'fingernail',\n",
       " 'in',\n",
       " 'a',\n",
       " 'patient',\n",
       " 'who',\n",
       " 'presented',\n",
       " 'with',\n",
       " 'hyperkeratosis',\n",
       " '.',\n",
       " 'Also',\n",
       " 'tendon',\n",
       " 'injuries',\n",
       " 'tendinosis',\n",
       " 'of',\n",
       " 'the',\n",
       " 'hands',\n",
       " 'and',\n",
       " 'wrists',\n",
       " 'from',\n",
       " 'tendon',\n",
       " 'overuse',\n",
       " 'is',\n",
       " 'another',\n",
       " 'health',\n",
       " 'problem',\n",
       " 'associated',\n",
       " 'with',\n",
       " 'video',\n",
       " 'game',\n",
       " 'playing',\n",
       " '.',\n",
       " 'Furthermore',\n",
       " 'another',\n",
       " 'case',\n",
       " 'report',\n",
       " 'in',\n",
       " 'the',\n",
       " 'New',\n",
       " 'England',\n",
       " 'Journal',\n",
       " 'of',\n",
       " 'Medicine',\n",
       " 'reported',\n",
       " 'a',\n",
       " 'fracture',\n",
       " 'of',\n",
       " 'the',\n",
       " 'base',\n",
       " 'of',\n",
       " 'the',\n",
       " 'fifth',\n",
       " 'metatarsal',\n",
       " 'from',\n",
       " 'people',\n",
       " 'who',\n",
       " 'play',\n",
       " 'Wii',\n",
       " 'video',\n",
       " 'games',\n",
       " '.',\n",
       " 'This',\n",
       " 'condition',\n",
       " 'has',\n",
       " 'been',\n",
       " 'termed',\n",
       " 'perhaps',\n",
       " 'sarcastically',\n",
       " 'a',\n",
       " 'Wii',\n",
       " 'fracture',\n",
       " '.',\n",
       " 'There',\n",
       " 'are',\n",
       " 'also',\n",
       " 'postural',\n",
       " 'problems',\n",
       " 'associated',\n",
       " 'with',\n",
       " 'the',\n",
       " 'persistent',\n",
       " 'playing',\n",
       " 'of',\n",
       " 'video',\n",
       " 'games',\n",
       " 'although',\n",
       " 'ergonomic',\n",
       " 'measures',\n",
       " 'including',\n",
       " 'chair',\n",
       " 'to',\n",
       " 'monitor',\n",
       " 'position',\n",
       " 'could',\n",
       " 'potentially',\n",
       " 'improve',\n",
       " 'postural',\n",
       " 'problems',\n",
       " 'associated',\n",
       " 'with',\n",
       " 'video',\n",
       " 'game',\n",
       " 'playing',\n",
       " '.',\n",
       " 'Playing',\n",
       " 'video',\n",
       " 'games',\n",
       " 'consistently',\n",
       " 'has',\n",
       " 'been',\n",
       " 'associated',\n",
       " 'with',\n",
       " 'obesity',\n",
       " '.',\n",
       " 'This',\n",
       " 'is',\n",
       " 'maybe',\n",
       " 'related',\n",
       " 'to',\n",
       " 'the',\n",
       " 'lack',\n",
       " 'of',\n",
       " 'physical',\n",
       " 'activity',\n",
       " 'in',\n",
       " 'players',\n",
       " '.',\n",
       " 'Alternatively',\n",
       " 'it',\n",
       " 'could',\n",
       " 'be',\n",
       " 'that',\n",
       " 'those',\n",
       " 'who',\n",
       " 'are',\n",
       " 'less',\n",
       " 'physically',\n",
       " 'fit',\n",
       " 'because',\n",
       " 'of',\n",
       " 'obesity',\n",
       " 'gravitate',\n",
       " 'towards',\n",
       " 'less',\n",
       " 'physically',\n",
       " 'demanding',\n",
       " 'activities',\n",
       " 'such',\n",
       " 'as',\n",
       " 'gaming',\n",
       " '.',\n",
       " 'In',\n",
       " 'either',\n",
       " 'case',\n",
       " 'several',\n",
       " 'studies',\n",
       " 'have',\n",
       " 'linked',\n",
       " 'television',\n",
       " 'and',\n",
       " 'video',\n",
       " 'games',\n",
       " 'and',\n",
       " 'increased',\n",
       " 'Body',\n",
       " 'Mass',\n",
       " 'Index',\n",
       " 'BMI',\n",
       " '.',\n",
       " 'It',\n",
       " 'has',\n",
       " 'been',\n",
       " 'estimated',\n",
       " 'that',\n",
       " 'children',\n",
       " 'in',\n",
       " 'the',\n",
       " 'United',\n",
       " 'States',\n",
       " 'spend',\n",
       " '25',\n",
       " 'of',\n",
       " 'their',\n",
       " 'waking',\n",
       " 'hours',\n",
       " 'watching',\n",
       " 'either',\n",
       " 'television',\n",
       " 'or',\n",
       " 'playing',\n",
       " 'video',\n",
       " 'games',\n",
       " '.',\n",
       " 'Furthermore',\n",
       " 'children',\n",
       " 'who',\n",
       " 'watch',\n",
       " 'the',\n",
       " 'most',\n",
       " 'hours',\n",
       " 'of',\n",
       " 'television',\n",
       " 'or',\n",
       " ...]"
      ]
     },
     "execution_count": 8,
     "metadata": {},
     "output_type": "execute_result"
    }
   ],
   "source": [
    "token = word_tokenize(texts)\n",
    "token"
   ]
  },
  {
   "cell_type": "code",
   "execution_count": 9,
   "id": "10016a09",
   "metadata": {},
   "outputs": [],
   "source": [
    "with open(\"D:\\lab\\Dataset\\Stopwords_Blackcoffer.txt\", 'r') as file:\n",
    "    data = file.read()"
   ]
  },
  {
   "cell_type": "code",
   "execution_count": 10,
   "id": "c567cbef",
   "metadata": {},
   "outputs": [
    {
     "data": {
      "text/plain": [
       "'ERNST\\nYOUNG\\nDELOITTE\\nTOUCHE\\nKPMG\\nPRICEWATERHOUSECOOPERS\\nPRICEWATERHOUSE\\nCOOPERS\\nAFGHANI\\nARIARY\\nBAHT\\n'"
      ]
     },
     "execution_count": 10,
     "metadata": {},
     "output_type": "execute_result"
    }
   ],
   "source": [
    "data[:100]"
   ]
  },
  {
   "cell_type": "code",
   "execution_count": 11,
   "id": "d65bfa92",
   "metadata": {},
   "outputs": [
    {
     "data": {
      "text/plain": [
       "'ERNST,YOUNG,DELOITTE,TOUCHE,KPMG,PRICEWATERHOUSECOOPERS,PRICEWATERHOUSE,COOPERS,AFGHANI,ARIARY,BAHT,'"
      ]
     },
     "execution_count": 11,
     "metadata": {},
     "output_type": "execute_result"
    }
   ],
   "source": [
    "data = data.replace('\\n', ',')\n",
    "data[:100]"
   ]
  },
  {
   "cell_type": "code",
   "execution_count": 12,
   "id": "0ef23874",
   "metadata": {},
   "outputs": [
    {
     "data": {
      "text/plain": [
       "'video game software program played computing device personal computer gaming console mobile device . Video games existence 1970s increasingly popular spanning mobile smartphones tablets stationary com'"
      ]
     },
     "execution_count": 12,
     "metadata": {},
     "output_type": "execute_result"
    }
   ],
   "source": [
    "new_texts = \" \".join([i for i in token if i not in data])\n",
    "new_texts[:200]"
   ]
  },
  {
   "cell_type": "code",
   "execution_count": 13,
   "id": "ea392da4",
   "metadata": {},
   "outputs": [
    {
     "name": "stdout",
     "output_type": "stream",
     "text": [
      "length before cleaning:  9665\n",
      "length after cleaning:  6835\n"
     ]
    }
   ],
   "source": [
    "print(\"length before cleaning: \", len(texts))\n",
    "print(\"length after cleaning: \", len(new_texts))"
   ]
  },
  {
   "cell_type": "markdown",
   "id": "1f456147",
   "metadata": {},
   "source": [
    "# Negative words"
   ]
  },
  {
   "cell_type": "code",
   "execution_count": 14,
   "id": "dc3618a7",
   "metadata": {},
   "outputs": [],
   "source": [
    "with open(\"D:\\\\lab\\\\Dataset\\\\Negative_words.txt\", 'r') as file:\n",
    "    negative = file.read()"
   ]
  },
  {
   "cell_type": "code",
   "execution_count": 15,
   "id": "2123c4cb",
   "metadata": {},
   "outputs": [
    {
     "data": {
      "text/plain": [
       "'2-faced\\n2-faces\\nabnormal\\nabolish\\nabominable\\nabominably\\nabominate\\nabomination\\nabort\\naborted\\naborts\\nabrade\\nabrasive\\nabrupt\\nabruptly\\nabscond\\nabsence\\nabsent-minded\\nabsentee\\nabsurd\\nabsurdity\\nabsurdly\\nabsurdness\\n'"
      ]
     },
     "execution_count": 15,
     "metadata": {},
     "output_type": "execute_result"
    }
   ],
   "source": [
    "negative[:206]"
   ]
  },
  {
   "cell_type": "code",
   "execution_count": 16,
   "id": "28f44c97",
   "metadata": {},
   "outputs": [
    {
     "data": {
      "text/plain": [
       "'2-faced,2-faces,abnormal,abolish,abominable,abominably,abominate,abomination,abort,aborted,aborts,abrade,abrasive,abrupt,abruptly,abscond,absence,absent-minded,absentee,absurd,absurdity,absurdly,absurdness,'"
      ]
     },
     "execution_count": 16,
     "metadata": {},
     "output_type": "execute_result"
    }
   ],
   "source": [
    "negative = negative.replace('\\n', ',')\n",
    "negative[:206]"
   ]
  },
  {
   "cell_type": "code",
   "execution_count": 17,
   "id": "31a272c0",
   "metadata": {},
   "outputs": [
    {
     "name": "stdout",
     "output_type": "stream",
     "text": [
      "['personal', 'popular', 'social', 'nature', 'limited', 'age', 'popular', 'disorder', 'list', 'health', 'treatment', 'disorder', 'contentious', 'mental', 'health', 'interest', 'disorder', 'disorder', 'excessive', 'behavior', 'treatment', 'disorder', 'disorder', 'behavior', 'impaired', 'control', 'takes', 'negative', 'disorder', 'disorder', 'disorder', 'sufficient', 'severity', 'deterioration', 'personal', 'social', 'important', 'present', 'person', 'disorder', 'problems', 'control', 'important', 'work', 'negative', 'health', 'social', 'problems', 'anxiety', 'depression', 'stress', 'inactive', 'risk', 'health', 'issues', 'health', 'problems', 'continuous', 'strain', 'health', 'issues', 'problems', 'health', 'eye', 'problems', 'screen', 'chronic', 'heavy', 'strain', 'headaches', 'nausea', 'vomiting', 'predictable', 'effect', 'sufferers', 'blurring', 'due', 'fault', 'eye', 'brain', 'helpful', 'suffer', 'problems', 'complaints', 'complaints', 'range', 'pain', 'back', 'thumb', 'thumb', 'blister', 'friction', 'thumb', 'patient', 'health', 'problem', 'fracture', 'base', 'play', 'sarcastically', 'fracture', 'problems', 'position', 'problems', 'lack', 'fit', 'spend', 'watch', 'play', 'support', 'spend', 'day', 'overweight', 'spend', 'junk', 'active', 'play', 'popular', 'effect', 'found', 'active', 'active', 'concerns', 'documented', 'popular', 'press', 'boy', 'death', 'vomit', 'advised', 'risk', 'set', 'cost', 'treatment', 'important', 'make', 'disorder', 'mental', 'health', 'treatment', 'control', 'urge', 'disturbing', 'fictional', 'needed', 'social', 'important', 'set']\n"
     ]
    },
    {
     "data": {
      "text/plain": [
       "148"
      ]
     },
     "execution_count": 17,
     "metadata": {},
     "output_type": "execute_result"
    }
   ],
   "source": [
    "new_texts = word_tokenize(new_texts)\n",
    "negative_words = [i for i in new_texts if i in negative]\n",
    "print(negative_words)\n",
    "len(negative_words)"
   ]
  },
  {
   "cell_type": "markdown",
   "id": "0b24f011",
   "metadata": {},
   "source": [
    "# Positive words"
   ]
  },
  {
   "cell_type": "code",
   "execution_count": 18,
   "id": "4b003620",
   "metadata": {},
   "outputs": [
    {
     "data": {
      "text/plain": [
       "'a+\\nabound\\nabounds\\nabundance\\nabundant\\naccessable\\naccessible\\nacclaim\\nacclaimed\\nacclamation\\naccolade\\naccolades\\naccommodative\\naccomodative\\naccomplish\\naccomplished\\naccomplishment\\naccomplishments\\naccurate\\naccurately\\n'"
      ]
     },
     "execution_count": 18,
     "metadata": {},
     "output_type": "execute_result"
    }
   ],
   "source": [
    "with open(\"D:\\\\lab\\\\Dataset\\\\Positive_words.txt\", 'r') as file:\n",
    "    positive = file.read()\n",
    "positive[:210]    "
   ]
  },
  {
   "cell_type": "code",
   "execution_count": 19,
   "id": "66ed38c6",
   "metadata": {},
   "outputs": [
    {
     "data": {
      "text/plain": [
       "'a+,abound,abounds,abundance,abundant,accessable,accessible,acclaim,acclaimed,acclamation,accolade,accolades,accommodative,accomodative,accomplish,accomplished,accomplishment,accomplishments,accurate,accurately,'"
      ]
     },
     "execution_count": 19,
     "metadata": {},
     "output_type": "execute_result"
    }
   ],
   "source": [
    "positive = positive.replace('\\n',',')\n",
    "positive[:210]"
   ]
  },
  {
   "cell_type": "code",
   "execution_count": 20,
   "id": "fc1387e8",
   "metadata": {},
   "outputs": [
    {
     "name": "stdout",
     "output_type": "stream",
     "text": [
      "['personal', 'popular', 'limited', 'age', 'popular', 'list', 'health', 'mental', 'health', 'interest', 'encourage', 'takes', 'interests', 'condition', 'condition', 'sufficient', 'personal', 'important', 'person', 'important', 'work', 'health', 'risk', 'health', 'health', 'health', 'condition', 'health', 'eye', 'enhancement', 'effect', 'fault', 'eye', 'brain', 'helpful', 'pain', 'hands', 'back', 'thumb', 'thumb', 'thumb', 'rapid', 'patient', 'hands', 'health', 'problem', 'play', 'condition', 'ergonomic', 'position', 'improve', 'consistently', 'fit', 'play', 'support', 'sessions', 'active', 'play', 'popular', 'effect', 'found', 'active', 'beneficial', 'amount', 'active', 'popular', 'press', 'world', 'risk', 'set', 'cost', 'benefit', 'important', 'beneficial', 'mental', 'health', 'helping', 'enhance', 'intelligence', 'world', 'important', 'set', 'achievements']\n"
     ]
    },
    {
     "data": {
      "text/plain": [
       "83"
      ]
     },
     "execution_count": 20,
     "metadata": {},
     "output_type": "execute_result"
    }
   ],
   "source": [
    "positive_words = [i for i in new_texts if i in positive]\n",
    "print(positive_words)\n",
    "len(positive_words)"
   ]
  },
  {
   "cell_type": "markdown",
   "id": "1b59646d",
   "metadata": {},
   "source": [
    "#### positive Score\n"
   ]
  },
  {
   "cell_type": "code",
   "execution_count": 21,
   "id": "7d0fbab1",
   "metadata": {},
   "outputs": [
    {
     "name": "stdout",
     "output_type": "stream",
     "text": [
      "83\n"
     ]
    }
   ],
   "source": [
    "pos_score = len(positive_words)\n",
    "print(pos_score)"
   ]
  },
  {
   "cell_type": "markdown",
   "id": "54a6cc12",
   "metadata": {},
   "source": [
    "#### Negative Score"
   ]
  },
  {
   "cell_type": "code",
   "execution_count": 22,
   "id": "df0766cd",
   "metadata": {},
   "outputs": [
    {
     "name": "stdout",
     "output_type": "stream",
     "text": [
      "148\n"
     ]
    }
   ],
   "source": [
    "neg_score=len(negative_words)\n",
    "print(neg_score)"
   ]
  },
  {
   "cell_type": "markdown",
   "id": "84da7ab7",
   "metadata": {},
   "source": [
    "#### Polarity Score"
   ]
  },
  {
   "cell_type": "code",
   "execution_count": 23,
   "id": "21e88c2b",
   "metadata": {},
   "outputs": [
    {
     "data": {
      "text/plain": [
       "-0.28"
      ]
     },
     "execution_count": 23,
     "metadata": {},
     "output_type": "execute_result"
    }
   ],
   "source": [
    "Polarity_Score = (pos_score - neg_score)/((pos_score + neg_score) + 0.000001)\n",
    "round(Polarity_Score,2)"
   ]
  },
  {
   "cell_type": "code",
   "execution_count": 24,
   "id": "08bcb4ab",
   "metadata": {},
   "outputs": [
    {
     "name": "stdout",
     "output_type": "stream",
     "text": [
      "number of words after cleaning : 907\n"
     ]
    }
   ],
   "source": [
    "word_count = len(new_texts)\n",
    "print(\"number of words after cleaning :\",word_count)"
   ]
  },
  {
   "cell_type": "markdown",
   "id": "16495ba1",
   "metadata": {},
   "source": [
    "#### Subjectivity Score"
   ]
  },
  {
   "cell_type": "code",
   "execution_count": 25,
   "id": "841713a3",
   "metadata": {},
   "outputs": [
    {
     "data": {
      "text/plain": [
       "0.25"
      ]
     },
     "execution_count": 25,
     "metadata": {},
     "output_type": "execute_result"
    }
   ],
   "source": [
    "Subjectivity_Score = (pos_score + neg_score)/ ((word_count) + 0.000001)\n",
    "round(Subjectivity_Score,2)"
   ]
  },
  {
   "cell_type": "markdown",
   "id": "0d7c370e",
   "metadata": {},
   "source": [
    "# Analysis of Readability"
   ]
  },
  {
   "cell_type": "code",
   "execution_count": 26,
   "id": "10209a7a",
   "metadata": {},
   "outputs": [
    {
     "data": {
      "text/plain": [
       "1551"
      ]
     },
     "execution_count": 26,
     "metadata": {},
     "output_type": "execute_result"
    }
   ],
   "source": [
    "import nltk\n",
    "from nltk.tokenize import word_tokenize\n",
    "word_tokens = nltk.word_tokenize(texts)\n",
    "No_of_words = len(word_tokens)\n",
    "No_of_words"
   ]
  },
  {
   "cell_type": "code",
   "execution_count": 27,
   "id": "bfac2ab7",
   "metadata": {},
   "outputs": [
    {
     "data": {
      "text/plain": [
       "58"
      ]
     },
     "execution_count": 27,
     "metadata": {},
     "output_type": "execute_result"
    }
   ],
   "source": [
    "sent_tokens = nltk.sent_tokenize(texts)\n",
    "No_of_sents = len(sent_tokens)\n",
    "No_of_sents "
   ]
  },
  {
   "cell_type": "markdown",
   "id": "1576acfe",
   "metadata": {},
   "source": [
    "### Average sentence Length\n"
   ]
  },
  {
   "cell_type": "code",
   "execution_count": 28,
   "id": "11d6a7ec",
   "metadata": {},
   "outputs": [
    {
     "data": {
      "text/plain": [
       "26.74"
      ]
     },
     "execution_count": 28,
     "metadata": {},
     "output_type": "execute_result"
    }
   ],
   "source": [
    "Avg_Sents_Length = No_of_words / No_of_sents\n",
    "round(Avg_Sents_Length,2)"
   ]
  },
  {
   "cell_type": "markdown",
   "id": "bc20ee3d",
   "metadata": {},
   "source": [
    "### Percentage of Complex words\n",
    "Complex words: words with more than 2 syllable are called complex words"
   ]
  },
  {
   "cell_type": "code",
   "execution_count": 29,
   "id": "eba6a8b1",
   "metadata": {},
   "outputs": [
    {
     "name": "stdout",
     "output_type": "stream",
     "text": [
      "Number of complex words: 329\n",
      "Total number of words: 9665\n"
     ]
    }
   ],
   "source": [
    "from nltk.corpus import cmudict\n",
    "cmud = cmudict.dict()\n",
    "\n",
    "# Defining a function to count syllables in a word\n",
    "def count_syllables(word):\n",
    "    phonemes = cmud[word.lower()][0] \n",
    "    return len([s for s in phonemes if s[-1].isdigit()])\n",
    "\n",
    "# Identifing complex words\n",
    "w_tokens = [i for i in word_tokens if i in cmud]\n",
    "complex_words = [word for word in w_tokens if count_syllables(word) > 2]\n",
    "\n",
    "# Calculatingnumber of complex words\n",
    "num_complex_words = len(complex_words)\n",
    "\n",
    "print(\"Number of complex words:\", num_complex_words)\n",
    "print(\"Total number of words:\", len(texts))"
   ]
  },
  {
   "cell_type": "code",
   "execution_count": 30,
   "id": "e982c0a1",
   "metadata": {},
   "outputs": [
    {
     "data": {
      "text/plain": [
       "29.38"
      ]
     },
     "execution_count": 30,
     "metadata": {},
     "output_type": "execute_result"
    }
   ],
   "source": [
    "Perc_of_Complex_words = len(texts) / num_complex_words\n",
    "round(Perc_of_Complex_words,2)"
   ]
  },
  {
   "cell_type": "markdown",
   "id": "77e948d1",
   "metadata": {},
   "source": [
    "### Fog Index"
   ]
  },
  {
   "cell_type": "code",
   "execution_count": 31,
   "id": "95fb10bb",
   "metadata": {},
   "outputs": [
    {
     "name": "stdout",
     "output_type": "stream",
     "text": [
      "Average sentence length: 58.0\n"
     ]
    }
   ],
   "source": [
    "# Tokenize each sentence into words\n",
    "words = [word_tokens for sentence in sent_tokens]\n",
    "\n",
    "# Calculate the average sentence length\n",
    "avg_sent_len = sum(No_of_sents for sentence in words) / No_of_sents\n",
    "\n",
    "print(\"Average sentence length:\", avg_sent_len)\n"
   ]
  },
  {
   "cell_type": "code",
   "execution_count": 32,
   "id": "38f5a93b",
   "metadata": {},
   "outputs": [
    {
     "data": {
      "text/plain": [
       "34.95"
      ]
     },
     "execution_count": 32,
     "metadata": {},
     "output_type": "execute_result"
    }
   ],
   "source": [
    "Fog_index = 0.4 * (avg_sent_len + Perc_of_Complex_words)\n",
    "round(Fog_index,2)"
   ]
  },
  {
   "cell_type": "markdown",
   "id": "5b4aacea",
   "metadata": {},
   "source": [
    "# Average Number of Words Per Sentence"
   ]
  },
  {
   "cell_type": "code",
   "execution_count": 33,
   "id": "45da1407",
   "metadata": {},
   "outputs": [
    {
     "data": {
      "text/plain": [
       "26.74"
      ]
     },
     "execution_count": 33,
     "metadata": {},
     "output_type": "execute_result"
    }
   ],
   "source": [
    "avg_no_of_words_per_sent = No_of_words / No_of_sents\n",
    "round(avg_no_of_words_per_sent,2)"
   ]
  },
  {
   "cell_type": "markdown",
   "id": "f2d9b493",
   "metadata": {},
   "source": [
    "# Complex Word Count"
   ]
  },
  {
   "cell_type": "code",
   "execution_count": 34,
   "id": "75304424",
   "metadata": {},
   "outputs": [
    {
     "name": "stdout",
     "output_type": "stream",
     "text": [
      "complex word count: 329\n"
     ]
    }
   ],
   "source": [
    "from nltk.corpus import cmudict\n",
    "cmud = cmudict.dict()\n",
    "\n",
    "# Defining a function to count syllables in a word\n",
    "def count_syllables(word):\n",
    "    phonemes = cmud[word.lower()][0] \n",
    "    return len([s for s in phonemes if s[-1].isdigit()])\n",
    "\n",
    "# Identifing complex words\n",
    "w_tokens = [i for i in word_tokens if i in cmud]\n",
    "complex_words = [word for word in w_tokens if count_syllables(word) > 2]\n",
    "\n",
    "# Calculatingnumber of complex words\n",
    "num_complex_words = len(complex_words)\n",
    "\n",
    "print(\"complex word count:\", num_complex_words)"
   ]
  },
  {
   "cell_type": "markdown",
   "id": "99ea5188",
   "metadata": {},
   "source": [
    "# Word Count\n",
    "number of words after cleaning"
   ]
  },
  {
   "cell_type": "code",
   "execution_count": 35,
   "id": "b4fb0c72",
   "metadata": {},
   "outputs": [
    {
     "data": {
      "text/plain": [
       "907"
      ]
     },
     "execution_count": 35,
     "metadata": {},
     "output_type": "execute_result"
    }
   ],
   "source": [
    "len(new_texts)"
   ]
  },
  {
   "cell_type": "markdown",
   "id": "ca8076ff",
   "metadata": {},
   "source": [
    "# Syllable Count Per Word"
   ]
  },
  {
   "cell_type": "code",
   "execution_count": 36,
   "id": "6f0b4e4f",
   "metadata": {},
   "outputs": [
    {
     "name": "stdout",
     "output_type": "stream",
     "text": [
      "Enter a word to get syllable: gaming\n",
      "Number of syllable in a word : 2\n"
     ]
    }
   ],
   "source": [
    "word = input(\"Enter a word to get syllable: \")\n",
    "def count_syllables(word):\n",
    "    phonemes = cmud[word.lower()][0] \n",
    "    return len([s for s in phonemes if s[-1].isdigit()])\n",
    "\n",
    "print(\"Number of syllable in a word :\",count_syllables(word))"
   ]
  },
  {
   "cell_type": "markdown",
   "id": "1d3a18f6",
   "metadata": {},
   "source": [
    "# Personal Pronouns"
   ]
  },
  {
   "cell_type": "code",
   "execution_count": 37,
   "id": "0b8e0d2d",
   "metadata": {},
   "outputs": [
    {
     "name": "stdout",
     "output_type": "stream",
     "text": [
      "Personal pronoun frequency: {'it': 8, 'her': 1}\n",
      "total number of pronouns in a article : 9\n"
     ]
    }
   ],
   "source": [
    "import re\n",
    "\n",
    "# Define a regex pattern to match personal pronouns\n",
    "pattern = r'\\b(I|you|he|she|it|we|they|me|him|her|us|them)\\b'\n",
    "\n",
    "# Count the frequency of personal pronouns\n",
    "pronoun_freq = {}\n",
    "for pronoun in re.findall(pattern, texts, re.IGNORECASE):\n",
    "    pronoun = pronoun.lower()\n",
    "    if pronoun in pronoun_freq:\n",
    "        pronoun_freq[pronoun] += 1\n",
    "    else:\n",
    "        pronoun_freq[pronoun] = 1\n",
    "\n",
    "print(\"Personal pronoun frequency:\", pronoun_freq)\n",
    "def returnSum(dict):\n",
    " \n",
    "    sum = 0\n",
    "    for i in pronoun_freq.values():\n",
    "        sum = sum + i\n",
    " \n",
    "    return sum\n",
    "print(\"total number of pronouns in a article :\",returnSum(pronoun_freq))"
   ]
  },
  {
   "cell_type": "markdown",
   "id": "e3fc87f8",
   "metadata": {},
   "source": [
    "# Average Word Length"
   ]
  },
  {
   "cell_type": "code",
   "execution_count": 38,
   "id": "5bde37d9",
   "metadata": {},
   "outputs": [
    {
     "name": "stdout",
     "output_type": "stream",
     "text": [
      "Average word length: 5.2\n"
     ]
    }
   ],
   "source": [
    "# Calculate the total number of characters in all words\n",
    "total_chars = sum(len(word) for word in word_tokens)\n",
    "\n",
    "avg_word_length = total_chars / No_of_words\n",
    "\n",
    "print(\"Average word length:\", round(avg_word_length,2))\n"
   ]
  },
  {
   "cell_type": "code",
   "execution_count": null,
   "id": "63dc25ad",
   "metadata": {},
   "outputs": [],
   "source": []
  },
  {
   "cell_type": "code",
   "execution_count": null,
   "id": "819012c5",
   "metadata": {},
   "outputs": [],
   "source": []
  }
 ],
 "metadata": {
  "kernelspec": {
   "display_name": "Python 3",
   "language": "python",
   "name": "python3"
  },
  "language_info": {
   "codemirror_mode": {
    "name": "ipython",
    "version": 3
   },
   "file_extension": ".py",
   "mimetype": "text/x-python",
   "name": "python",
   "nbconvert_exporter": "python",
   "pygments_lexer": "ipython3",
   "version": "3.8.8"
  }
 },
 "nbformat": 4,
 "nbformat_minor": 5
}
