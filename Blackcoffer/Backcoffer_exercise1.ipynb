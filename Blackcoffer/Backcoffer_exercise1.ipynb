{
 "cells": [
  {
   "cell_type": "markdown",
   "id": "b9312f26",
   "metadata": {},
   "source": [
    "# Data scraping"
   ]
  },
  {
   "cell_type": "code",
   "execution_count": 1,
   "id": "ef4785ca",
   "metadata": {},
   "outputs": [],
   "source": [
    "import nltk\n",
    "import requests\n",
    "from bs4 import BeautifulSoup"
   ]
  },
  {
   "cell_type": "code",
   "execution_count": 2,
   "id": "ac2f2459",
   "metadata": {},
   "outputs": [],
   "source": [
    "req = requests.get(\"https://insights.blackcoffer.com/ai-in-healthcare-to-improve-patient-outcomes/\")"
   ]
  },
  {
   "cell_type": "code",
   "execution_count": 3,
   "id": "45f9fa09",
   "metadata": {},
   "outputs": [],
   "source": [
    "soup = BeautifulSoup(req.content, \"html.parser\")\n",
    "res = soup.title\n",
    "paras = soup.find_all('p')"
   ]
  },
  {
   "cell_type": "code",
   "execution_count": 4,
   "id": "dbb256b2",
   "metadata": {
    "scrolled": true
   },
   "outputs": [
    {
     "name": "stdout",
     "output_type": "stream",
     "text": [
      "Introduction “If anything kills over 10 million people in the next few decades, it will be a highly infectious virus rather than a war. Not missiles but microbes.” Bill Gates’s remarks at a TED conference in 2014, right after the world had avoided the Ebola outbreak. When the new, unprecedented, invisible virus hit us, it met an overwhelmed and unprepared healthcare system and oblivious population. This public health emergency demonstrated our lack of scientific consideration and underlined the alarming need for robust innovations in our health and medical facilities. For the past few years, artificial intelligence has proven to be of tangible potential in the healthcare sectors, clinical practices, translational medical and biomedical research. After the first case was detected in China on December 31st 2019, it was an AI program developed by BlueDot that alerted the world about the pandemic. It was quick to realise AI’s ability to analyse large chunks of data could help in detecting patterns and identifying and tracking the possible carriers of the virus. Many tracing apps use AI to keep tabs on the people who have been infected and prevent the risk of cross-infection by using AI algorithms that can track patterns and extract some features to classify or categorise them. So how does AI do that? IBM Watson, a sophisticated AI that works on cloud computing and natural language processing, has prominently contributed to the healthcare sector on a global level. Being a conversational AI, since 2013, Watson has helped in recommending treatments to patients suffering from cancer to ensure that they get the best treatment at optimum costs. Researchers at Google Inc. showed that an AI system can be trained on thousands of images to achieve physician-level sensitivity. By identifying the molecular patterns associated with disease status and its subtypes, gene expression, and protein abundance levels, machine learning methods can detect fatal diseases like cancer at an early stage. Machine Learning (ML) techniques focus mainly on analyzing structured data, which can further help in clustering patients’ traits and infer the probability of disease outcomes. Since patient traits mainly include masses of data relating to age, gender, disease history, disease-specific data like diagnostic imaging and gene expressions, etc, ML can extract features from these data inputs by constructing data analytical algorithms. ML algorithms are either supervised or unsupervised. Unsupervised learning helps in extracting features and clustering similar features together that further leads to early detection of diseases. Clustering and principal component analysis enable grouping or clustering of similar traits together that are further used to maximize or minimize the similarity between the patients within or between the clusters. Since patient traits are recorded in multiple dimensions, such as genes, principal component analysis(PCA) creates the apparatus to reduce these dimensions which humans could have not done alone. Supervised learning considers the outcomes of the subjects together with the traits, and further correlates the inputs with the outputs to predict the probability of getting a particular clinical event, expected value of a disease level or expected survival time, or risk of Down’s syndrome. Biomarker panels that are mostly used to detect ovarian cancer, have outperformed the conventional statistical methods due to machine learning. In addition to this, the use of EHRs and Bayesian networks, which are a part of supervised machine learning algorithms, can predict clinical outcomes and mortality respectively. Unstructured data such as clinical notes and texts are converted into machine-readable structured data with the help of natural language processing(NLP). NLP works with two components: text processing and classification. Text processing helps in identifying a series of disease-relevant keywords in clinical notes and then through classification are further categorized into normal and abnormal cases. Chest screening through ML and NLP has helped find abnormalities in the lungs and provide treatment to covid patients. Healthcare organizations use NLP-based chatbots to increase interactions with patients, keeping their mental health and wellness in check. Deep learning is a modern extension of the classical neural network techniques which helps explore more complex non-linear patterns in data, using algorithms like convolution neural network, recurrent neural network, deep belief network, and deep neural network which enables more accurate clinical prediction. When it comes to genome interpretation, deep neural networks surpass the conventional methods of logistics regression and support vector machines. Sepsis Watch is an AI system trained in deep learning algorithms that holds the capability to analyze over 32 million data points to create a patient’s risk score and identify the early stages of sepsis. Another method known as the Learning-based Optimization of the Under Sampling Pattern( LOUPE) is based on integrating full resolution MRI scans with the convolutional neural network algorithm, which helps in creating more accurate reconstructions. Robotic surgery is widely considered in most delicate surgeries like gynaecology and prostate surgery. Even after striking the right balance between human decisions and AI precision, robotic surgery reduces surgeon efficiency as they have to be manually operated through a console. Thus, autonomous robotic surgery is on the rise with inventions such as robotic silicon fingers that mimic the sense of touch that surgeons need to identify organs, cut tissues, etc., or robotic catheters that can navigate whether it is touching blood, tissue, or valve. Researchers at Children’s National Hospital, Washington have already developed an AI called Smart Tissue Autonomous Robot (STAR), which performs a colon anastomosis on its own with the help of an ML-powered suturing tool, that automatically detects the patient’s breathing pattern to apply suture at the correct point. Cloud computing in healthcare has helped in retrieving and sharing medical records safely with a reduction in maintenance costs. Through this technology doctors and various healthcare workers have access to detailed patient data that helps in speeding up analysis ultimately leading to better care in the form of more accurate information, medications, and therapies. How can It help in Biomedical research? Since AI can analyze literature beyond readability, it can be used to concise biomedical research. With the help of ML algorithms and NLP, AI can accelerate screening and indexing of biomedical research, by ranking the literature of interest which allows researchers to formulate and test scientific hypotheses far more precisely and quickly. Taking it to the next level, AI systems like the computational modelling assistant (CMA) helps researchers to construct simulation models from the concepts they have in mind. Such innovations have majorly contributed to topics such as tumour suppressor mechanisms and protein-protein interaction information extraction. AI as precision medicine Since precision medicine focuses on healthcare interventions to individuals or groups of patients based on their profile, the various AI devices pave the way to practice it more efficiently. With the help of ML, complex algorithms like large datasets can be used to predict and create an optimal treatment strategy. Deep learning and neural networks can be used to process data in healthcare apps and keep a close watch on the patient’s emotional state, food intake, or health monitoring. “Omics” refers to the collective technologies that help in exploring the roles, relationships of various branches ending with the suffix “omics” such as genomics, proteomics, etc. Omics-based tests based on machine learning algorithms help find correlations and predict treatment responses, ultimately creating personalized treatments for individual patients. How it helps in psychology and neuro patients For psychologists studying creativity,  AI is promising new classes of experiments that are developing data structures and programs and exploring novel theories on a new horizon. Studies show that  AI can conduct therapy sessions, e-therapy sessions, and assessments autonomously, also assisting human practitioners before, during, or after sessions. The Detection and Computational Analysis of Psychological Signal project uses ML, computer vision, and NLP to analyze language, physical gestures, and social signals to identify cues for human distress. This ground-breaking technology assesses soldiers returning from combat and recognizes those who require further mental health support. In the future, it will combine data captured during face-to-face interviews with information on sleeping, eating, and online behaviours for a complete patient view. Stroke identification Stroke is another frequently occurring disease that affects more than 500 million people worldwide. Thrombus,  in the vessel cerebral infarction is the major (about 85%) cause of stroke occurrence. In recent years, AI techniques have been used in numerous stroke-related studies as early detection and timely treatment along with efficient outcome prediction can help solve the problem. With AI at our disposal, large amounts of data with rich information, more complications and real-life clinical questions can be addressed in this arena. Currently, two ML algorithms- genetic fuzzy finite state machine and PCA were implemented to build a model building solution. These include a human activity recognition stage and a stroke onset detection stage. An alert stroke message is activated as soon as a movement significantly different from the normal pattern is recorded. ML methods have been applied to neuroimaging data to assist disease evaluation and predicting stroke treatment for the diagnosis. Patient Monitoring Today, the market for AI-based patient monitoring is impressive and monetarily enticing. It is evolving with artificial sensors, smart technologies and explores everything from brain-computer interfaces to nanorobotics. Companies with their smart-watches have engaged people to perform remote monitoring even when they are not “patients”. An obvious place to start is with wearable and embedded sensors, glucose monitors, pulse monitors, oximeters, and ECG monitors. With patient monitoring becoming crucial, AI finds numerous applications in chronic conditions, intensive care units, operating rooms, emergency rooms, and cardiac wards where timeless clinical decision-making can be measured in seconds. More advances have started to gain traction like smart prosthetics and implants. These play an impeccable role in patient management post-surgery or rehabilitation. Demographics, laboratory results and vital signs can also be used to predict cardiac arrest, transfer into the intensive care unit, or even death. In addition, an interpretable machine-learning model can assist anesthesiologists in predicting hypoxaemia events during surgery. This suggests that with deep-learning algorithms, raw patient-monitoring data could be better used to avoid information overload and alert overload while enabling more accurate clinical prediction and timely decision-making. Conclusion Considering the vast range of tasks that an AI can do, it is evident that it holds deep potential in improving patient outcomes to skyrocketing levels. Using sophisticated algorithms AI can bring a revolution in the healthcare sector. Even after facing challenges like whether the technology will be able to deliver the promises, ethical measures, training physicians to use it, standard regulations etc, the role of AI in transforming the clinical practices cannot be ignored. The biggest challenge is the integration of AI in daily practice. All of these can be overcome and within that period the technologies will mature making the system far more enhanced and effective.\n"
     ]
    }
   ],
   "source": [
    "texts = \" \".join([paragraph.text.strip() for paragraph in paras])\n",
    "print(texts)"
   ]
  },
  {
   "cell_type": "code",
   "execution_count": 5,
   "id": "e79f5f60",
   "metadata": {},
   "outputs": [
    {
     "data": {
      "text/plain": [
       "12053"
      ]
     },
     "execution_count": 5,
     "metadata": {},
     "output_type": "execute_result"
    }
   ],
   "source": [
    "len(texts)"
   ]
  },
  {
   "cell_type": "markdown",
   "id": "db8f1fcc",
   "metadata": {},
   "source": [
    "Removing Punctuation"
   ]
  },
  {
   "cell_type": "code",
   "execution_count": 6,
   "id": "5285c8a8",
   "metadata": {},
   "outputs": [
    {
     "data": {
      "text/plain": [
       "12053"
      ]
     },
     "execution_count": 6,
     "metadata": {},
     "output_type": "execute_result"
    }
   ],
   "source": [
    "import re\n",
    "import string\n",
    "texts = re.sub(r'[\\'\\“\\”\\()\\%\\,\\-\\'\\’\\?\\ ]', ' ', texts)\n",
    "texts[0:200]\n",
    "len(texts)"
   ]
  },
  {
   "cell_type": "markdown",
   "id": "4fafe7be",
   "metadata": {},
   "source": [
    "# Removing Stopwords"
   ]
  },
  {
   "cell_type": "code",
   "execution_count": 7,
   "id": "089b8663",
   "metadata": {},
   "outputs": [],
   "source": [
    "from nltk.tokenize import word_tokenize"
   ]
  },
  {
   "cell_type": "code",
   "execution_count": 8,
   "id": "280876b0",
   "metadata": {},
   "outputs": [
    {
     "data": {
      "text/plain": [
       "['Introduction',\n",
       " 'If',\n",
       " 'anything',\n",
       " 'kills',\n",
       " 'over',\n",
       " '10',\n",
       " 'million',\n",
       " 'people',\n",
       " 'in',\n",
       " 'the',\n",
       " 'next',\n",
       " 'few',\n",
       " 'decades',\n",
       " 'it',\n",
       " 'will',\n",
       " 'be',\n",
       " 'a',\n",
       " 'highly',\n",
       " 'infectious',\n",
       " 'virus',\n",
       " 'rather',\n",
       " 'than',\n",
       " 'a',\n",
       " 'war',\n",
       " '.',\n",
       " 'Not',\n",
       " 'missiles',\n",
       " 'but',\n",
       " 'microbes',\n",
       " '.',\n",
       " 'Bill',\n",
       " 'Gates',\n",
       " 's',\n",
       " 'remarks',\n",
       " 'at',\n",
       " 'a',\n",
       " 'TED',\n",
       " 'conference',\n",
       " 'in',\n",
       " '2014',\n",
       " 'right',\n",
       " 'after',\n",
       " 'the',\n",
       " 'world',\n",
       " 'had',\n",
       " 'avoided',\n",
       " 'the',\n",
       " 'Ebola',\n",
       " 'outbreak',\n",
       " '.',\n",
       " 'When',\n",
       " 'the',\n",
       " 'new',\n",
       " 'unprecedented',\n",
       " 'invisible',\n",
       " 'virus',\n",
       " 'hit',\n",
       " 'us',\n",
       " 'it',\n",
       " 'met',\n",
       " 'an',\n",
       " 'overwhelmed',\n",
       " 'and',\n",
       " 'unprepared',\n",
       " 'healthcare',\n",
       " 'system',\n",
       " 'and',\n",
       " 'oblivious',\n",
       " 'population',\n",
       " '.',\n",
       " 'This',\n",
       " 'public',\n",
       " 'health',\n",
       " 'emergency',\n",
       " 'demonstrated',\n",
       " 'our',\n",
       " 'lack',\n",
       " 'of',\n",
       " 'scientific',\n",
       " 'consideration',\n",
       " 'and',\n",
       " 'underlined',\n",
       " 'the',\n",
       " 'alarming',\n",
       " 'need',\n",
       " 'for',\n",
       " 'robust',\n",
       " 'innovations',\n",
       " 'in',\n",
       " 'our',\n",
       " 'health',\n",
       " 'and',\n",
       " 'medical',\n",
       " 'facilities',\n",
       " '.',\n",
       " 'For',\n",
       " 'the',\n",
       " 'past',\n",
       " 'few',\n",
       " 'years',\n",
       " 'artificial',\n",
       " 'intelligence',\n",
       " 'has',\n",
       " 'proven',\n",
       " 'to',\n",
       " 'be',\n",
       " 'of',\n",
       " 'tangible',\n",
       " 'potential',\n",
       " 'in',\n",
       " 'the',\n",
       " 'healthcare',\n",
       " 'sectors',\n",
       " 'clinical',\n",
       " 'practices',\n",
       " 'translational',\n",
       " 'medical',\n",
       " 'and',\n",
       " 'biomedical',\n",
       " 'research',\n",
       " '.',\n",
       " 'After',\n",
       " 'the',\n",
       " 'first',\n",
       " 'case',\n",
       " 'was',\n",
       " 'detected',\n",
       " 'in',\n",
       " 'China',\n",
       " 'on',\n",
       " 'December',\n",
       " '31st',\n",
       " '2019',\n",
       " 'it',\n",
       " 'was',\n",
       " 'an',\n",
       " 'AI',\n",
       " 'program',\n",
       " 'developed',\n",
       " 'by',\n",
       " 'BlueDot',\n",
       " 'that',\n",
       " 'alerted',\n",
       " 'the',\n",
       " 'world',\n",
       " 'about',\n",
       " 'the',\n",
       " 'pandemic',\n",
       " '.',\n",
       " 'It',\n",
       " 'was',\n",
       " 'quick',\n",
       " 'to',\n",
       " 'realise',\n",
       " 'AI',\n",
       " 's',\n",
       " 'ability',\n",
       " 'to',\n",
       " 'analyse',\n",
       " 'large',\n",
       " 'chunks',\n",
       " 'of',\n",
       " 'data',\n",
       " 'could',\n",
       " 'help',\n",
       " 'in',\n",
       " 'detecting',\n",
       " 'patterns',\n",
       " 'and',\n",
       " 'identifying',\n",
       " 'and',\n",
       " 'tracking',\n",
       " 'the',\n",
       " 'possible',\n",
       " 'carriers',\n",
       " 'of',\n",
       " 'the',\n",
       " 'virus',\n",
       " '.',\n",
       " 'Many',\n",
       " 'tracing',\n",
       " 'apps',\n",
       " 'use',\n",
       " 'AI',\n",
       " 'to',\n",
       " 'keep',\n",
       " 'tabs',\n",
       " 'on',\n",
       " 'the',\n",
       " 'people',\n",
       " 'who',\n",
       " 'have',\n",
       " 'been',\n",
       " 'infected',\n",
       " 'and',\n",
       " 'prevent',\n",
       " 'the',\n",
       " 'risk',\n",
       " 'of',\n",
       " 'cross',\n",
       " 'infection',\n",
       " 'by',\n",
       " 'using',\n",
       " 'AI',\n",
       " 'algorithms',\n",
       " 'that',\n",
       " 'can',\n",
       " 'track',\n",
       " 'patterns',\n",
       " 'and',\n",
       " 'extract',\n",
       " 'some',\n",
       " 'features',\n",
       " 'to',\n",
       " 'classify',\n",
       " 'or',\n",
       " 'categorise',\n",
       " 'them',\n",
       " '.',\n",
       " 'So',\n",
       " 'how',\n",
       " 'does',\n",
       " 'AI',\n",
       " 'do',\n",
       " 'that',\n",
       " 'IBM',\n",
       " 'Watson',\n",
       " 'a',\n",
       " 'sophisticated',\n",
       " 'AI',\n",
       " 'that',\n",
       " 'works',\n",
       " 'on',\n",
       " 'cloud',\n",
       " 'computing',\n",
       " 'and',\n",
       " 'natural',\n",
       " 'language',\n",
       " 'processing',\n",
       " 'has',\n",
       " 'prominently',\n",
       " 'contributed',\n",
       " 'to',\n",
       " 'the',\n",
       " 'healthcare',\n",
       " 'sector',\n",
       " 'on',\n",
       " 'a',\n",
       " 'global',\n",
       " 'level',\n",
       " '.',\n",
       " 'Being',\n",
       " 'a',\n",
       " 'conversational',\n",
       " 'AI',\n",
       " 'since',\n",
       " '2013',\n",
       " 'Watson',\n",
       " 'has',\n",
       " 'helped',\n",
       " 'in',\n",
       " 'recommending',\n",
       " 'treatments',\n",
       " 'to',\n",
       " 'patients',\n",
       " 'suffering',\n",
       " 'from',\n",
       " 'cancer',\n",
       " 'to',\n",
       " 'ensure',\n",
       " 'that',\n",
       " 'they',\n",
       " 'get',\n",
       " 'the',\n",
       " 'best',\n",
       " 'treatment',\n",
       " 'at',\n",
       " 'optimum',\n",
       " 'costs',\n",
       " '.',\n",
       " 'Researchers',\n",
       " 'at',\n",
       " 'Google',\n",
       " 'Inc.',\n",
       " 'showed',\n",
       " 'that',\n",
       " 'an',\n",
       " 'AI',\n",
       " 'system',\n",
       " 'can',\n",
       " 'be',\n",
       " 'trained',\n",
       " 'on',\n",
       " 'thousands',\n",
       " 'of',\n",
       " 'images',\n",
       " 'to',\n",
       " 'achieve',\n",
       " 'physician',\n",
       " 'level',\n",
       " 'sensitivity',\n",
       " '.',\n",
       " 'By',\n",
       " 'identifying',\n",
       " 'the',\n",
       " 'molecular',\n",
       " 'patterns',\n",
       " 'associated',\n",
       " 'with',\n",
       " 'disease',\n",
       " 'status',\n",
       " 'and',\n",
       " 'its',\n",
       " 'subtypes',\n",
       " 'gene',\n",
       " 'expression',\n",
       " 'and',\n",
       " 'protein',\n",
       " 'abundance',\n",
       " 'levels',\n",
       " 'machine',\n",
       " 'learning',\n",
       " 'methods',\n",
       " 'can',\n",
       " 'detect',\n",
       " 'fatal',\n",
       " 'diseases',\n",
       " 'like',\n",
       " 'cancer',\n",
       " 'at',\n",
       " 'an',\n",
       " 'early',\n",
       " 'stage',\n",
       " '.',\n",
       " 'Machine',\n",
       " 'Learning',\n",
       " 'ML',\n",
       " 'techniques',\n",
       " 'focus',\n",
       " 'mainly',\n",
       " 'on',\n",
       " 'analyzing',\n",
       " 'structured',\n",
       " 'data',\n",
       " 'which',\n",
       " 'can',\n",
       " 'further',\n",
       " 'help',\n",
       " 'in',\n",
       " 'clustering',\n",
       " 'patients',\n",
       " 'traits',\n",
       " 'and',\n",
       " 'infer',\n",
       " 'the',\n",
       " 'probability',\n",
       " 'of',\n",
       " 'disease',\n",
       " 'outcomes',\n",
       " '.',\n",
       " 'Since',\n",
       " 'patient',\n",
       " 'traits',\n",
       " 'mainly',\n",
       " 'include',\n",
       " 'masses',\n",
       " 'of',\n",
       " 'data',\n",
       " 'relating',\n",
       " 'to',\n",
       " 'age',\n",
       " 'gender',\n",
       " 'disease',\n",
       " 'history',\n",
       " 'disease',\n",
       " 'specific',\n",
       " 'data',\n",
       " 'like',\n",
       " 'diagnostic',\n",
       " 'imaging',\n",
       " 'and',\n",
       " 'gene',\n",
       " 'expressions',\n",
       " 'etc',\n",
       " 'ML',\n",
       " 'can',\n",
       " 'extract',\n",
       " 'features',\n",
       " 'from',\n",
       " 'these',\n",
       " 'data',\n",
       " 'inputs',\n",
       " 'by',\n",
       " 'constructing',\n",
       " 'data',\n",
       " 'analytical',\n",
       " 'algorithms',\n",
       " '.',\n",
       " 'ML',\n",
       " 'algorithms',\n",
       " 'are',\n",
       " 'either',\n",
       " 'supervised',\n",
       " 'or',\n",
       " 'unsupervised',\n",
       " '.',\n",
       " 'Unsupervised',\n",
       " 'learning',\n",
       " 'helps',\n",
       " 'in',\n",
       " 'extracting',\n",
       " 'features',\n",
       " 'and',\n",
       " 'clustering',\n",
       " 'similar',\n",
       " 'features',\n",
       " 'together',\n",
       " 'that',\n",
       " 'further',\n",
       " 'leads',\n",
       " 'to',\n",
       " 'early',\n",
       " 'detection',\n",
       " 'of',\n",
       " 'diseases',\n",
       " '.',\n",
       " 'Clustering',\n",
       " 'and',\n",
       " 'principal',\n",
       " 'component',\n",
       " 'analysis',\n",
       " 'enable',\n",
       " 'grouping',\n",
       " 'or',\n",
       " 'clustering',\n",
       " 'of',\n",
       " 'similar',\n",
       " 'traits',\n",
       " 'together',\n",
       " 'that',\n",
       " 'are',\n",
       " 'further',\n",
       " 'used',\n",
       " 'to',\n",
       " 'maximize',\n",
       " 'or',\n",
       " 'minimize',\n",
       " 'the',\n",
       " 'similarity',\n",
       " 'between',\n",
       " 'the',\n",
       " 'patients',\n",
       " 'within',\n",
       " 'or',\n",
       " 'between',\n",
       " 'the',\n",
       " 'clusters',\n",
       " '.',\n",
       " 'Since',\n",
       " 'patient',\n",
       " 'traits',\n",
       " 'are',\n",
       " 'recorded',\n",
       " 'in',\n",
       " 'multiple',\n",
       " 'dimensions',\n",
       " 'such',\n",
       " 'as',\n",
       " 'genes',\n",
       " 'principal',\n",
       " 'component',\n",
       " 'analysis',\n",
       " 'PCA',\n",
       " 'creates',\n",
       " 'the',\n",
       " 'apparatus',\n",
       " 'to',\n",
       " 'reduce',\n",
       " 'these',\n",
       " 'dimensions',\n",
       " 'which',\n",
       " 'humans',\n",
       " 'could',\n",
       " 'have',\n",
       " 'not',\n",
       " 'done',\n",
       " 'alone',\n",
       " '.',\n",
       " 'Supervised',\n",
       " 'learning',\n",
       " 'considers',\n",
       " 'the',\n",
       " 'outcomes',\n",
       " 'of',\n",
       " 'the',\n",
       " 'subjects',\n",
       " 'together',\n",
       " 'with',\n",
       " 'the',\n",
       " 'traits',\n",
       " 'and',\n",
       " 'further',\n",
       " 'correlates',\n",
       " 'the',\n",
       " 'inputs',\n",
       " 'with',\n",
       " 'the',\n",
       " 'outputs',\n",
       " 'to',\n",
       " 'predict',\n",
       " 'the',\n",
       " 'probability',\n",
       " 'of',\n",
       " 'getting',\n",
       " 'a',\n",
       " 'particular',\n",
       " 'clinical',\n",
       " 'event',\n",
       " 'expected',\n",
       " 'value',\n",
       " 'of',\n",
       " 'a',\n",
       " 'disease',\n",
       " 'level',\n",
       " 'or',\n",
       " 'expected',\n",
       " 'survival',\n",
       " 'time',\n",
       " 'or',\n",
       " 'risk',\n",
       " 'of',\n",
       " 'Down',\n",
       " 's',\n",
       " 'syndrome',\n",
       " '.',\n",
       " 'Biomarker',\n",
       " 'panels',\n",
       " 'that',\n",
       " 'are',\n",
       " 'mostly',\n",
       " 'used',\n",
       " 'to',\n",
       " 'detect',\n",
       " 'ovarian',\n",
       " 'cancer',\n",
       " 'have',\n",
       " 'outperformed',\n",
       " 'the',\n",
       " 'conventional',\n",
       " 'statistical',\n",
       " 'methods',\n",
       " 'due',\n",
       " 'to',\n",
       " 'machine',\n",
       " 'learning',\n",
       " '.',\n",
       " 'In',\n",
       " 'addition',\n",
       " 'to',\n",
       " 'this',\n",
       " 'the',\n",
       " 'use',\n",
       " 'of',\n",
       " 'EHRs',\n",
       " 'and',\n",
       " 'Bayesian',\n",
       " 'networks',\n",
       " 'which',\n",
       " 'are',\n",
       " 'a',\n",
       " 'part',\n",
       " 'of',\n",
       " 'supervised',\n",
       " 'machine',\n",
       " 'learning',\n",
       " 'algorithms',\n",
       " 'can',\n",
       " 'predict',\n",
       " 'clinical',\n",
       " 'outcomes',\n",
       " 'and',\n",
       " 'mortality',\n",
       " 'respectively',\n",
       " '.',\n",
       " 'Unstructured',\n",
       " 'data',\n",
       " 'such',\n",
       " 'as',\n",
       " 'clinical',\n",
       " 'notes',\n",
       " 'and',\n",
       " 'texts',\n",
       " 'are',\n",
       " 'converted',\n",
       " 'into',\n",
       " 'machine',\n",
       " 'readable',\n",
       " 'structured',\n",
       " 'data',\n",
       " 'with',\n",
       " 'the',\n",
       " 'help',\n",
       " 'of',\n",
       " 'natural',\n",
       " 'language',\n",
       " 'processing',\n",
       " 'NLP',\n",
       " '.',\n",
       " 'NLP',\n",
       " 'works',\n",
       " 'with',\n",
       " 'two',\n",
       " 'components',\n",
       " ':',\n",
       " 'text',\n",
       " 'processing',\n",
       " 'and',\n",
       " 'classification',\n",
       " '.',\n",
       " 'Text',\n",
       " 'processing',\n",
       " 'helps',\n",
       " 'in',\n",
       " 'identifying',\n",
       " 'a',\n",
       " 'series',\n",
       " 'of',\n",
       " 'disease',\n",
       " 'relevant',\n",
       " 'keywords',\n",
       " 'in',\n",
       " 'clinical',\n",
       " 'notes',\n",
       " 'and',\n",
       " 'then',\n",
       " 'through',\n",
       " 'classification',\n",
       " 'are',\n",
       " 'further',\n",
       " 'categorized',\n",
       " 'into',\n",
       " 'normal',\n",
       " 'and',\n",
       " 'abnormal',\n",
       " 'cases',\n",
       " '.',\n",
       " 'Chest',\n",
       " 'screening',\n",
       " 'through',\n",
       " 'ML',\n",
       " 'and',\n",
       " 'NLP',\n",
       " 'has',\n",
       " 'helped',\n",
       " 'find',\n",
       " 'abnormalities',\n",
       " 'in',\n",
       " 'the',\n",
       " 'lungs',\n",
       " 'and',\n",
       " 'provide',\n",
       " 'treatment',\n",
       " 'to',\n",
       " 'covid',\n",
       " 'patients',\n",
       " '.',\n",
       " 'Healthcare',\n",
       " 'organizations',\n",
       " 'use',\n",
       " 'NLP',\n",
       " 'based',\n",
       " 'chatbots',\n",
       " 'to',\n",
       " 'increase',\n",
       " 'interactions',\n",
       " 'with',\n",
       " 'patients',\n",
       " 'keeping',\n",
       " 'their',\n",
       " 'mental',\n",
       " 'health',\n",
       " 'and',\n",
       " 'wellness',\n",
       " 'in',\n",
       " 'check',\n",
       " '.',\n",
       " 'Deep',\n",
       " 'learning',\n",
       " 'is',\n",
       " 'a',\n",
       " 'modern',\n",
       " 'extension',\n",
       " 'of',\n",
       " 'the',\n",
       " 'classical',\n",
       " 'neural',\n",
       " 'network',\n",
       " 'techniques',\n",
       " 'which',\n",
       " 'helps',\n",
       " 'explore',\n",
       " 'more',\n",
       " 'complex',\n",
       " 'non',\n",
       " 'linear',\n",
       " 'patterns',\n",
       " 'in',\n",
       " 'data',\n",
       " 'using',\n",
       " 'algorithms',\n",
       " 'like',\n",
       " 'convolution',\n",
       " 'neural',\n",
       " 'network',\n",
       " 'recurrent',\n",
       " 'neural',\n",
       " 'network',\n",
       " 'deep',\n",
       " 'belief',\n",
       " 'network',\n",
       " 'and',\n",
       " 'deep',\n",
       " 'neural',\n",
       " 'network',\n",
       " 'which',\n",
       " 'enables',\n",
       " 'more',\n",
       " 'accurate',\n",
       " 'clinical',\n",
       " 'prediction',\n",
       " '.',\n",
       " 'When',\n",
       " 'it',\n",
       " 'comes',\n",
       " 'to',\n",
       " 'genome',\n",
       " 'interpretation',\n",
       " 'deep',\n",
       " 'neural',\n",
       " 'networks',\n",
       " 'surpass',\n",
       " 'the',\n",
       " 'conventional',\n",
       " 'methods',\n",
       " 'of',\n",
       " 'logistics',\n",
       " 'regression',\n",
       " 'and',\n",
       " 'support',\n",
       " 'vector',\n",
       " 'machines',\n",
       " '.',\n",
       " 'Sepsis',\n",
       " 'Watch',\n",
       " 'is',\n",
       " 'an',\n",
       " 'AI',\n",
       " 'system',\n",
       " 'trained',\n",
       " 'in',\n",
       " 'deep',\n",
       " 'learning',\n",
       " 'algorithms',\n",
       " 'that',\n",
       " 'holds',\n",
       " 'the',\n",
       " 'capability',\n",
       " 'to',\n",
       " 'analyze',\n",
       " 'over',\n",
       " '32',\n",
       " 'million',\n",
       " 'data',\n",
       " 'points',\n",
       " 'to',\n",
       " 'create',\n",
       " 'a',\n",
       " 'patient',\n",
       " 's',\n",
       " 'risk',\n",
       " 'score',\n",
       " 'and',\n",
       " 'identify',\n",
       " 'the',\n",
       " 'early',\n",
       " 'stages',\n",
       " 'of',\n",
       " 'sepsis',\n",
       " '.',\n",
       " 'Another',\n",
       " 'method',\n",
       " 'known',\n",
       " 'as',\n",
       " 'the',\n",
       " 'Learning',\n",
       " 'based',\n",
       " 'Optimization',\n",
       " 'of',\n",
       " 'the',\n",
       " 'Under',\n",
       " 'Sampling',\n",
       " 'Pattern',\n",
       " 'LOUPE',\n",
       " 'is',\n",
       " 'based',\n",
       " 'on',\n",
       " 'integrating',\n",
       " 'full',\n",
       " 'resolution',\n",
       " 'MRI',\n",
       " 'scans',\n",
       " 'with',\n",
       " 'the',\n",
       " 'convolutional',\n",
       " 'neural',\n",
       " 'network',\n",
       " 'algorithm',\n",
       " 'which',\n",
       " 'helps',\n",
       " 'in',\n",
       " 'creating',\n",
       " 'more',\n",
       " 'accurate',\n",
       " 'reconstructions',\n",
       " '.',\n",
       " 'Robotic',\n",
       " 'surgery',\n",
       " 'is',\n",
       " 'widely',\n",
       " 'considered',\n",
       " 'in',\n",
       " 'most',\n",
       " 'delicate',\n",
       " 'surgeries',\n",
       " 'like',\n",
       " 'gynaecology',\n",
       " 'and',\n",
       " 'prostate',\n",
       " 'surgery',\n",
       " '.',\n",
       " 'Even',\n",
       " 'after',\n",
       " 'striking',\n",
       " 'the',\n",
       " 'right',\n",
       " 'balance',\n",
       " 'between',\n",
       " 'human',\n",
       " 'decisions',\n",
       " 'and',\n",
       " 'AI',\n",
       " 'precision',\n",
       " 'robotic',\n",
       " 'surgery',\n",
       " 'reduces',\n",
       " 'surgeon',\n",
       " 'efficiency',\n",
       " 'as',\n",
       " 'they',\n",
       " 'have',\n",
       " 'to',\n",
       " 'be',\n",
       " 'manually',\n",
       " 'operated',\n",
       " 'through',\n",
       " 'a',\n",
       " 'console',\n",
       " '.',\n",
       " 'Thus',\n",
       " 'autonomous',\n",
       " 'robotic',\n",
       " 'surgery',\n",
       " 'is',\n",
       " 'on',\n",
       " 'the',\n",
       " 'rise',\n",
       " 'with',\n",
       " 'inventions',\n",
       " 'such',\n",
       " 'as',\n",
       " 'robotic',\n",
       " 'silicon',\n",
       " 'fingers',\n",
       " 'that',\n",
       " 'mimic',\n",
       " 'the',\n",
       " 'sense',\n",
       " 'of',\n",
       " 'touch',\n",
       " 'that',\n",
       " 'surgeons',\n",
       " 'need',\n",
       " 'to',\n",
       " 'identify',\n",
       " 'organs',\n",
       " 'cut',\n",
       " 'tissues',\n",
       " 'etc',\n",
       " '.',\n",
       " 'or',\n",
       " 'robotic',\n",
       " 'catheters',\n",
       " 'that',\n",
       " 'can',\n",
       " 'navigate',\n",
       " 'whether',\n",
       " 'it',\n",
       " 'is',\n",
       " 'touching',\n",
       " 'blood',\n",
       " 'tissue',\n",
       " 'or',\n",
       " 'valve',\n",
       " '.',\n",
       " 'Researchers',\n",
       " 'at',\n",
       " 'Children',\n",
       " 's',\n",
       " 'National',\n",
       " 'Hospital',\n",
       " 'Washington',\n",
       " 'have',\n",
       " 'already',\n",
       " 'developed',\n",
       " 'an',\n",
       " 'AI',\n",
       " 'called',\n",
       " 'Smart',\n",
       " 'Tissue',\n",
       " 'Autonomous',\n",
       " 'Robot',\n",
       " 'STAR',\n",
       " 'which',\n",
       " 'performs',\n",
       " 'a',\n",
       " 'colon',\n",
       " 'anastomosis',\n",
       " 'on',\n",
       " 'its',\n",
       " 'own',\n",
       " 'with',\n",
       " 'the',\n",
       " 'help',\n",
       " 'of',\n",
       " 'an',\n",
       " 'ML',\n",
       " 'powered',\n",
       " 'suturing',\n",
       " 'tool',\n",
       " 'that',\n",
       " 'automatically',\n",
       " 'detects',\n",
       " 'the',\n",
       " 'patient',\n",
       " 's',\n",
       " 'breathing',\n",
       " 'pattern',\n",
       " 'to',\n",
       " 'apply',\n",
       " 'suture',\n",
       " 'at',\n",
       " 'the',\n",
       " 'correct',\n",
       " 'point',\n",
       " '.',\n",
       " 'Cloud',\n",
       " 'computing',\n",
       " 'in',\n",
       " 'healthcare',\n",
       " 'has',\n",
       " 'helped',\n",
       " 'in',\n",
       " 'retrieving',\n",
       " 'and',\n",
       " 'sharing',\n",
       " 'medical',\n",
       " 'records',\n",
       " 'safely',\n",
       " 'with',\n",
       " 'a',\n",
       " 'reduction',\n",
       " 'in',\n",
       " 'maintenance',\n",
       " 'costs',\n",
       " '.',\n",
       " 'Through',\n",
       " 'this',\n",
       " 'technology',\n",
       " 'doctors',\n",
       " 'and',\n",
       " 'various',\n",
       " 'healthcare',\n",
       " 'workers',\n",
       " 'have',\n",
       " 'access',\n",
       " 'to',\n",
       " 'detailed',\n",
       " 'patient',\n",
       " 'data',\n",
       " 'that',\n",
       " ...]"
      ]
     },
     "execution_count": 8,
     "metadata": {},
     "output_type": "execute_result"
    }
   ],
   "source": [
    "token = word_tokenize(texts)\n",
    "token"
   ]
  },
  {
   "cell_type": "code",
   "execution_count": 9,
   "id": "10016a09",
   "metadata": {},
   "outputs": [],
   "source": [
    "with open(\"D:\\lab\\Dataset\\Stopwords_Blackcoffer.txt\", 'r') as file:\n",
    "    data = file.read()"
   ]
  },
  {
   "cell_type": "code",
   "execution_count": 10,
   "id": "c567cbef",
   "metadata": {},
   "outputs": [
    {
     "data": {
      "text/plain": [
       "'ERNST\\nYOUNG\\nDELOITTE\\nTOUCHE\\nKPMG\\nPRICEWATERHOUSECOOPERS\\nPRICEWATERHOUSE\\nCOOPERS\\nAFGHANI\\nARIARY\\nBAHT\\n'"
      ]
     },
     "execution_count": 10,
     "metadata": {},
     "output_type": "execute_result"
    }
   ],
   "source": [
    "data[:100]"
   ]
  },
  {
   "cell_type": "code",
   "execution_count": 11,
   "id": "d65bfa92",
   "metadata": {},
   "outputs": [
    {
     "data": {
      "text/plain": [
       "'ERNST,YOUNG,DELOITTE,TOUCHE,KPMG,PRICEWATERHOUSECOOPERS,PRICEWATERHOUSE,COOPERS,AFGHANI,ARIARY,BAHT,'"
      ]
     },
     "execution_count": 11,
     "metadata": {},
     "output_type": "execute_result"
    }
   ],
   "source": [
    "data = data.replace('\\n', ',')\n",
    "data[:100]"
   ]
  },
  {
   "cell_type": "code",
   "execution_count": 12,
   "id": "0ef23874",
   "metadata": {},
   "outputs": [
    {
     "data": {
      "text/plain": [
       "'Introduction If kills 10 million people decades highly infectious virus . Not missiles microbes . Bill Gates remarks TED conference 2014 world avoided Ebola outbreak . When unprecedented invisible vir'"
      ]
     },
     "execution_count": 12,
     "metadata": {},
     "output_type": "execute_result"
    }
   ],
   "source": [
    "new_texts = \" \".join([i for i in token if i not in data])\n",
    "new_texts[:200]"
   ]
  },
  {
   "cell_type": "code",
   "execution_count": 13,
   "id": "ea392da4",
   "metadata": {},
   "outputs": [
    {
     "name": "stdout",
     "output_type": "stream",
     "text": [
      "length before cleaning:  12053\n",
      "length after cleaning:  8799\n"
     ]
    }
   ],
   "source": [
    "print(\"length before cleaning: \", len(texts))\n",
    "print(\"length after cleaning: \", len(new_texts))"
   ]
  },
  {
   "cell_type": "markdown",
   "id": "1f456147",
   "metadata": {},
   "source": [
    "# Negative words"
   ]
  },
  {
   "cell_type": "code",
   "execution_count": 14,
   "id": "dc3618a7",
   "metadata": {},
   "outputs": [],
   "source": [
    "with open(\"D:\\\\lab\\\\Dataset\\\\Negative_words.txt\", 'r') as file:\n",
    "    negative = file.read()"
   ]
  },
  {
   "cell_type": "code",
   "execution_count": 15,
   "id": "2123c4cb",
   "metadata": {},
   "outputs": [
    {
     "data": {
      "text/plain": [
       "'2-faced\\n2-faces\\nabnormal\\nabolish\\nabominable\\nabominably\\nabominate\\nabomination\\nabort\\naborted\\naborts\\nabrade\\nabrasive\\nabrupt\\nabruptly\\nabscond\\nabsence\\nabsent-minded\\nabsentee\\nabsurd\\nabsurdity\\nabsurdly\\nabsurdness\\n'"
      ]
     },
     "execution_count": 15,
     "metadata": {},
     "output_type": "execute_result"
    }
   ],
   "source": [
    "negative[:206]"
   ]
  },
  {
   "cell_type": "code",
   "execution_count": 16,
   "id": "28f44c97",
   "metadata": {},
   "outputs": [
    {
     "data": {
      "text/plain": [
       "'2-faced,2-faces,abnormal,abolish,abominable,abominably,abominate,abomination,abort,aborted,aborts,abrade,abrasive,abrupt,abruptly,abscond,absence,absent-minded,absentee,absurd,absurdity,absurdly,absurdness,'"
      ]
     },
     "execution_count": 16,
     "metadata": {},
     "output_type": "execute_result"
    }
   ],
   "source": [
    "negative = negative.replace('\\n', ',')\n",
    "negative[:206]"
   ]
  },
  {
   "cell_type": "code",
   "execution_count": 17,
   "id": "31a272c0",
   "metadata": {},
   "outputs": [
    {
     "name": "stdout",
     "output_type": "stream",
     "text": [
      "['kills', 'virus', 'outbreak', 'invisible', 'virus', 'overwhelmed', 'unprepared', 'oblivious', 'health', 'emergency', 'lack', 'alarming', 'health', 'proven', 'developed', 'ability', 'virus', 'infected', 'risk', 'infection', 'track', 'sophisticated', 'cloud', 'natural', 'suffering', 'cancer', 'ensure', 'treatment', 'trained', 'sensitivity', 'gene', 'fatal', 'cancer', 'stage', 'infer', 'probability', 'patient', 'age', 'gene', 'enable', 'patient', 'predict', 'probability', 'event', 'expected', 'expected', 'risk', 'syndrome', 'cancer', 'due', 'predict', 'readable', 'natural', 'series', 'relevant', 'abnormal', 'treatment', 'mental', 'health', 'check', 'complex', 'belief', 'accurate', 'regression', 'support', 'trained', 'points', 'patient', 'risk', 'accurate', 'delicate', 'balance', 'human', 'precision', 'efficiency', 'sense', 'touch', 'cut', 'blood', 'developed', 'powered', 'patient', 'correct', 'point', 'access', 'patient', 'leading', 'care', 'accurate', 'interest', 'test', 'precisely', 'mind', 'precision', 'precision', 'efficiently', 'complex', 'predict', 'treatment', 'watch', 'patient', 'state', 'health', 'ending', 'tests', 'predict', 'treatment', 'neuro', 'promising', 'show', 'human', 'social', 'human', 'distress', 'ground', 'breaking', 'combat', 'mental', 'health', 'support', 'face', 'face', 'eating', 'complete', 'patient', 'view', 'timely', 'treatment', 'efficient', 'solve', 'problem', 'rich', 'life', 'fuzzy', 'state', 'solution', 'human', 'stage', 'stage', 'significantly', 'treatment', 'patient', 'brain', 'start', 'pulse', 'patient', 'chronic', 'care', 'emergency', 'decision', 'traction', 'play', 'patient', 'post', 'predict', 'care', 'unit', 'death', 'raw', 'patient', 'avoid', 'overload', 'overload', 'accurate', 'timely', 'decision', 'vast', 'range', 'patient', 'sophisticated', 'ethical', 'training', 'standard', 'integration', 'mature', 'effective']\n"
     ]
    },
    {
     "data": {
      "text/plain": [
       "176"
      ]
     },
     "execution_count": 17,
     "metadata": {},
     "output_type": "execute_result"
    }
   ],
   "source": [
    "new_texts = word_tokenize(new_texts)\n",
    "negative_words = [i for i in new_texts if i in negative]\n",
    "print(negative_words)\n",
    "len(negative_words)"
   ]
  },
  {
   "cell_type": "markdown",
   "id": "0b24f011",
   "metadata": {},
   "source": [
    "# Positive words"
   ]
  },
  {
   "cell_type": "code",
   "execution_count": 18,
   "id": "4b003620",
   "metadata": {},
   "outputs": [
    {
     "data": {
      "text/plain": [
       "'a+\\nabound\\nabounds\\nabundance\\nabundant\\naccessable\\naccessible\\nacclaim\\nacclaimed\\nacclamation\\naccolade\\naccolades\\naccommodative\\naccomodative\\naccomplish\\naccomplished\\naccomplishment\\naccomplishments\\naccurate\\naccurately\\n'"
      ]
     },
     "execution_count": 18,
     "metadata": {},
     "output_type": "execute_result"
    }
   ],
   "source": [
    "with open(\"D:\\\\lab\\\\Dataset\\\\Positive_words.txt\", 'r') as file:\n",
    "    positive = file.read()\n",
    "positive[:210]    "
   ]
  },
  {
   "cell_type": "code",
   "execution_count": 19,
   "id": "66ed38c6",
   "metadata": {},
   "outputs": [
    {
     "data": {
      "text/plain": [
       "'a+,abound,abounds,abundance,abundant,accessable,accessible,acclaim,acclaimed,acclamation,accolade,accolades,accommodative,accomodative,accomplish,accomplished,accomplishment,accomplishments,accurate,accurately,'"
      ]
     },
     "execution_count": 19,
     "metadata": {},
     "output_type": "execute_result"
    }
   ],
   "source": [
    "positive = positive.replace('\\n',',')\n",
    "positive[:210]"
   ]
  },
  {
   "cell_type": "code",
   "execution_count": 20,
   "id": "fc1387e8",
   "metadata": {},
   "outputs": [
    {
     "name": "stdout",
     "output_type": "stream",
     "text": [
      "['world', 'health', 'robust', 'health', 'intelligence', 'proven', 'world', 'quick', 'ability', 'large', 'risk', 'sophisticated', 'works', 'helped', 'achieve', 'gene', 'abundance', 'structured', 'patient', 'age', 'gene', 'leads', 'enable', 'patient', 'event', 'expected', 'expected', 'survival', 'risk', 'outperformed', 'readable', 'structured', 'works', 'helped', 'mental', 'health', 'modern', 'accurate', 'surpass', 'support', 'capability', 'patient', 'risk', 'accurate', 'delicate', 'striking', 'balance', 'human', 'autonomous', 'cut', 'performs', 'patient', 'correct', 'helped', 'safely', 'access', 'patient', 'leading', 'care', 'accurate', 'concise', 'interest', 'test', 'precisely', 'construct', 'mind', 'efficiently', 'large', 'optimal', 'patient', 'state', 'health', 'refers', 'personalized', 'individual', 'promising', 'sessions', 'sessions', 'human', 'sessions', 'vision', 'human', 'ground', 'breaking', 'mental', 'health', 'support', 'future', 'eating', 'patient', 'view', 'timely', 'efficient', 'solve', 'problem', 'large', 'rich', 'life', 'state', 'human', 'patient', 'impressive', 'enticing', 'smart', 'brain', 'smart', 'perform', 'patient', 'care', 'traction', 'smart', 'play', 'impeccable', 'patient', 'vital', 'care', 'unit', 'patient', 'accurate', 'timely', 'improving', 'patient', 'sophisticated', 'revolution', 'promises', 'ethical', 'mature', 'enhanced', 'effective']\n"
     ]
    },
    {
     "data": {
      "text/plain": [
       "129"
      ]
     },
     "execution_count": 20,
     "metadata": {},
     "output_type": "execute_result"
    }
   ],
   "source": [
    "positive_words = [i for i in new_texts if i in positive]\n",
    "print(positive_words)\n",
    "len(positive_words)"
   ]
  },
  {
   "cell_type": "markdown",
   "id": "1b59646d",
   "metadata": {},
   "source": [
    "positive Score\n"
   ]
  },
  {
   "cell_type": "code",
   "execution_count": 21,
   "id": "7d0fbab1",
   "metadata": {},
   "outputs": [
    {
     "name": "stdout",
     "output_type": "stream",
     "text": [
      "129\n"
     ]
    }
   ],
   "source": [
    "pos_score = len(positive_words)\n",
    "print(pos_score)"
   ]
  },
  {
   "cell_type": "markdown",
   "id": "54a6cc12",
   "metadata": {},
   "source": [
    "Negative Score"
   ]
  },
  {
   "cell_type": "code",
   "execution_count": 22,
   "id": "df0766cd",
   "metadata": {},
   "outputs": [
    {
     "name": "stdout",
     "output_type": "stream",
     "text": [
      "176\n"
     ]
    }
   ],
   "source": [
    "neg_score=len(negative_words)\n",
    "print(neg_score)"
   ]
  },
  {
   "cell_type": "markdown",
   "id": "84da7ab7",
   "metadata": {},
   "source": [
    "Polarity Score"
   ]
  },
  {
   "cell_type": "code",
   "execution_count": 23,
   "id": "21e88c2b",
   "metadata": {},
   "outputs": [
    {
     "data": {
      "text/plain": [
       "-0.15"
      ]
     },
     "execution_count": 23,
     "metadata": {},
     "output_type": "execute_result"
    }
   ],
   "source": [
    "Polarity_Score = (pos_score - neg_score)/((pos_score + neg_score) + 0.000001)\n",
    "round(Polarity_Score,2)"
   ]
  },
  {
   "cell_type": "markdown",
   "id": "16495ba1",
   "metadata": {},
   "source": [
    "Subjectivity Score"
   ]
  },
  {
   "cell_type": "code",
   "execution_count": 24,
   "id": "841713a3",
   "metadata": {},
   "outputs": [
    {
     "data": {
      "text/plain": [
       "0.03"
      ]
     },
     "execution_count": 24,
     "metadata": {},
     "output_type": "execute_result"
    }
   ],
   "source": [
    "Subjectivity_Score = (pos_score + neg_score)/ ((8860) + 0.000001)\n",
    "round(Subjectivity_Score,2)"
   ]
  },
  {
   "cell_type": "markdown",
   "id": "0d7c370e",
   "metadata": {},
   "source": [
    "# Analysis of Readability"
   ]
  },
  {
   "cell_type": "code",
   "execution_count": 25,
   "id": "10209a7a",
   "metadata": {},
   "outputs": [
    {
     "data": {
      "text/plain": [
       "1885"
      ]
     },
     "execution_count": 25,
     "metadata": {},
     "output_type": "execute_result"
    }
   ],
   "source": [
    "import nltk\n",
    "from nltk.tokenize import word_tokenize\n",
    "word_tokens = nltk.word_tokenize(texts)\n",
    "No_of_words = len(word_tokens)\n",
    "No_of_words"
   ]
  },
  {
   "cell_type": "code",
   "execution_count": 26,
   "id": "bfac2ab7",
   "metadata": {},
   "outputs": [
    {
     "data": {
      "text/plain": [
       "75"
      ]
     },
     "execution_count": 26,
     "metadata": {},
     "output_type": "execute_result"
    }
   ],
   "source": [
    "sent_tokens = nltk.sent_tokenize(texts)\n",
    "No_of_sents = len(sent_tokens)\n",
    "No_of_sents "
   ]
  },
  {
   "cell_type": "markdown",
   "id": "1576acfe",
   "metadata": {},
   "source": [
    "### Average sentence Length\n"
   ]
  },
  {
   "cell_type": "code",
   "execution_count": 27,
   "id": "11d6a7ec",
   "metadata": {},
   "outputs": [
    {
     "data": {
      "text/plain": [
       "25.13"
      ]
     },
     "execution_count": 27,
     "metadata": {},
     "output_type": "execute_result"
    }
   ],
   "source": [
    "Avg_Sents_Length = No_of_words / No_of_sents\n",
    "round(Avg_Sents_Length,2)"
   ]
  },
  {
   "cell_type": "markdown",
   "id": "bc20ee3d",
   "metadata": {},
   "source": [
    "### Percentage of Complex words\n",
    "Complex words: words with more than 2 syllable are called complex words"
   ]
  },
  {
   "cell_type": "code",
   "execution_count": 28,
   "id": "eba6a8b1",
   "metadata": {},
   "outputs": [
    {
     "name": "stdout",
     "output_type": "stream",
     "text": [
      "Number of complex words: 385\n",
      "Total number of words: 12053\n"
     ]
    }
   ],
   "source": [
    "from nltk.corpus import cmudict\n",
    "cmud = cmudict.dict()\n",
    "\n",
    "# Defining a function to count syllables in a word\n",
    "def count_syllables(word):\n",
    "    phonemes = cmud[word.lower()][0] \n",
    "    return len([s for s in phonemes if s[-1].isdigit()])\n",
    "\n",
    "# Identifing complex words\n",
    "w_tokens = [i for i in word_tokens if i in cmud]\n",
    "complex_words = [word for word in w_tokens if count_syllables(word) > 2]\n",
    "\n",
    "# Calculatingnumber of complex words\n",
    "num_complex_words = len(complex_words)\n",
    "\n",
    "print(\"Number of complex words:\", num_complex_words)\n",
    "print(\"Total number of words:\", len(texts))"
   ]
  },
  {
   "cell_type": "code",
   "execution_count": 29,
   "id": "e9ac5fb4",
   "metadata": {},
   "outputs": [
    {
     "data": {
      "text/plain": [
       "31.31"
      ]
     },
     "execution_count": 29,
     "metadata": {},
     "output_type": "execute_result"
    }
   ],
   "source": [
    "Perc_of_Complex_words = len(texts) / num_complex_words\n",
    "round(Perc_of_Complex_words,2)"
   ]
  },
  {
   "cell_type": "markdown",
   "id": "77e948d1",
   "metadata": {},
   "source": [
    "### Fog Index"
   ]
  },
  {
   "cell_type": "code",
   "execution_count": 30,
   "id": "95fb10bb",
   "metadata": {},
   "outputs": [
    {
     "name": "stdout",
     "output_type": "stream",
     "text": [
      "Average sentence length: 75.0\n"
     ]
    }
   ],
   "source": [
    "# Tokenize each sentence into words\n",
    "words = [word_tokens for sentence in sent_tokens]\n",
    "\n",
    "# Calculate the average sentence length\n",
    "avg_sent_len = sum(No_of_sents for sentence in words) / No_of_sents\n",
    "\n",
    "print(\"Average sentence length:\", avg_sent_len)\n"
   ]
  },
  {
   "cell_type": "code",
   "execution_count": 31,
   "id": "38f5a93b",
   "metadata": {},
   "outputs": [
    {
     "data": {
      "text/plain": [
       "42.52"
      ]
     },
     "execution_count": 31,
     "metadata": {},
     "output_type": "execute_result"
    }
   ],
   "source": [
    "Fog_index = 0.4 * (avg_sent_len + Perc_of_Complex_words)\n",
    "round(Fog_index,2)"
   ]
  },
  {
   "cell_type": "markdown",
   "id": "5b4aacea",
   "metadata": {},
   "source": [
    "# Average Number of Words Per Sentence"
   ]
  },
  {
   "cell_type": "code",
   "execution_count": 32,
   "id": "45da1407",
   "metadata": {},
   "outputs": [
    {
     "data": {
      "text/plain": [
       "25.13"
      ]
     },
     "execution_count": 32,
     "metadata": {},
     "output_type": "execute_result"
    }
   ],
   "source": [
    "avg_no_of_words_per_sent = No_of_words / No_of_sents\n",
    "round(avg_no_of_words_per_sent,2)"
   ]
  },
  {
   "cell_type": "markdown",
   "id": "f2d9b493",
   "metadata": {},
   "source": [
    "# Complex Word Count"
   ]
  },
  {
   "cell_type": "code",
   "execution_count": 33,
   "id": "75304424",
   "metadata": {},
   "outputs": [
    {
     "name": "stdout",
     "output_type": "stream",
     "text": [
      "complex word count: 385\n"
     ]
    }
   ],
   "source": [
    "from nltk.corpus import cmudict\n",
    "cmud = cmudict.dict()\n",
    "\n",
    "# Defining a function to count syllables in a word\n",
    "def count_syllables(word):\n",
    "    phonemes = cmud[word.lower()][0] \n",
    "    return len([s for s in phonemes if s[-1].isdigit()])\n",
    "\n",
    "# Identifing complex words\n",
    "w_tokens = [i for i in word_tokens if i in cmud]\n",
    "complex_words = [word for word in w_tokens if count_syllables(word) > 2]\n",
    "\n",
    "# Calculatingnumber of complex words\n",
    "num_complex_words = len(complex_words)\n",
    "\n",
    "print(\"complex word count:\", num_complex_words)"
   ]
  },
  {
   "cell_type": "markdown",
   "id": "99ea5188",
   "metadata": {},
   "source": [
    "# Word Count\n",
    "number of words after cleaning"
   ]
  },
  {
   "cell_type": "code",
   "execution_count": 34,
   "id": "b4fb0c72",
   "metadata": {},
   "outputs": [
    {
     "data": {
      "text/plain": [
       "1116"
      ]
     },
     "execution_count": 34,
     "metadata": {},
     "output_type": "execute_result"
    }
   ],
   "source": [
    "len(new_texts)"
   ]
  },
  {
   "cell_type": "markdown",
   "id": "ca8076ff",
   "metadata": {},
   "source": [
    "# Syllable Count Per Word"
   ]
  },
  {
   "cell_type": "code",
   "execution_count": 39,
   "id": "bc568045",
   "metadata": {},
   "outputs": [
    {
     "name": "stdout",
     "output_type": "stream",
     "text": [
      "Enter a word to get syllable: effective\n",
      "Number of syllable in a word : 3\n"
     ]
    }
   ],
   "source": [
    "word = input(\"Enter a word to get syllable: \")\n",
    "def count_syllables(word):\n",
    "    phonemes = cmud[word.lower()][0] \n",
    "    return len([s for s in phonemes if s[-1].isdigit()])\n",
    "\n",
    "print(\"Number of syllable in a word :\",count_syllables(word))"
   ]
  },
  {
   "cell_type": "markdown",
   "id": "1d3a18f6",
   "metadata": {},
   "source": [
    "# Personal Pronouns"
   ]
  },
  {
   "cell_type": "code",
   "execution_count": 40,
   "id": "0b8e0d2d",
   "metadata": {},
   "outputs": [
    {
     "name": "stdout",
     "output_type": "stream",
     "text": [
      "Personal pronoun frequency: {'it': 16, 'us': 1, 'them': 1, 'they': 4}\n",
      "total number of pronouns in a article : 22\n"
     ]
    }
   ],
   "source": [
    "import re\n",
    "\n",
    "# Define a regex pattern to match personal pronouns\n",
    "pattern = r'\\b(I|you|he|she|it|we|they|me|him|her|us|them)\\b'\n",
    "\n",
    "# Count the frequency of personal pronouns\n",
    "pronoun_freq = {}\n",
    "for pronoun in re.findall(pattern, texts, re.IGNORECASE):\n",
    "    pronoun = pronoun.lower()\n",
    "    if pronoun in pronoun_freq:\n",
    "        pronoun_freq[pronoun] += 1\n",
    "    else:\n",
    "        pronoun_freq[pronoun] = 1\n",
    "\n",
    "print(\"Personal pronoun frequency:\", pronoun_freq)\n",
    "def returnSum(dict):\n",
    " \n",
    "    sum = 0\n",
    "    for i in pronoun_freq.values():\n",
    "        sum = sum + i\n",
    " \n",
    "    return sum\n",
    "print(\"total number of pronouns in a article :\",returnSum(pronoun_freq))"
   ]
  },
  {
   "cell_type": "markdown",
   "id": "e3fc87f8",
   "metadata": {},
   "source": [
    "# Average Word Length"
   ]
  },
  {
   "cell_type": "code",
   "execution_count": 41,
   "id": "5bde37d9",
   "metadata": {},
   "outputs": [
    {
     "name": "stdout",
     "output_type": "stream",
     "text": [
      "Average word length: 5.37\n"
     ]
    }
   ],
   "source": [
    "# Calculate the total number of characters in all words\n",
    "total_chars = sum(len(word) for word in word_tokens)\n",
    "\n",
    "avg_word_length = total_chars / No_of_words\n",
    "\n",
    "print(\"Average word length:\", round(avg_word_length,2))\n"
   ]
  },
  {
   "cell_type": "code",
   "execution_count": null,
   "id": "9e2469d6",
   "metadata": {},
   "outputs": [],
   "source": []
  },
  {
   "cell_type": "code",
   "execution_count": null,
   "id": "7d32b860",
   "metadata": {},
   "outputs": [],
   "source": []
  }
 ],
 "metadata": {
  "kernelspec": {
   "display_name": "Python 3",
   "language": "python",
   "name": "python3"
  },
  "language_info": {
   "codemirror_mode": {
    "name": "ipython",
    "version": 3
   },
   "file_extension": ".py",
   "mimetype": "text/x-python",
   "name": "python",
   "nbconvert_exporter": "python",
   "pygments_lexer": "ipython3",
   "version": "3.8.8"
  }
 },
 "nbformat": 4,
 "nbformat_minor": 5
}
