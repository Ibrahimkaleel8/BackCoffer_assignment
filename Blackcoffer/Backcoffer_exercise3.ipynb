{
 "cells": [
  {
   "cell_type": "markdown",
   "id": "b9312f26",
   "metadata": {},
   "source": [
    "# Data scraping"
   ]
  },
  {
   "cell_type": "code",
   "execution_count": 1,
   "id": "ef4785ca",
   "metadata": {},
   "outputs": [],
   "source": [
    "import nltk\n",
    "import requests\n",
    "from bs4 import BeautifulSoup"
   ]
  },
  {
   "cell_type": "code",
   "execution_count": 2,
   "id": "ac2f2459",
   "metadata": {},
   "outputs": [],
   "source": [
    "req = requests.get(\"https://insights.blackcoffer.com/what-jobs-will-robots-take-from-humans-in-the-future/\")"
   ]
  },
  {
   "cell_type": "code",
   "execution_count": 3,
   "id": "45f9fa09",
   "metadata": {},
   "outputs": [],
   "source": [
    "soup = BeautifulSoup(req.content, \"html.parser\")\n",
    "res = soup.title\n",
    "paras = soup.find_all('p')"
   ]
  },
  {
   "cell_type": "code",
   "execution_count": 4,
   "id": "dbb256b2",
   "metadata": {
    "scrolled": true
   },
   "outputs": [
    {
     "name": "stdout",
     "output_type": "stream",
     "text": [
      "Introduction AI is rapidly evolving in the employment sector, particularly in matters involving business and finance. Finance, management, economics, and accounting are now among the most popular university courses globally; particularly at the graduate level, due to their high employability. However, the evolution of machinery in industries is changing that. According to research, 230,000 jobs in these sectors may be replaced by AI agents in the next 5 years. This is due to the nature of the work, as employees are responsible for tasks such as data analysis and keeping track of numerical information; which machines excel at. Large, complicated data sets can be analyzed faster and more efficiently by AI-powered computers than by people. Algorithmic trading procedures that produce automated deals are less likely to be produced without minute errors when undertaken by humans. In such matters involving industrial work, a subsection of artificial intelligence is used; namely, machine learning. Machine learning is a term used for the application of artificial intelligence (AI) in systems, which involves them assimilating and processing information by gaining experience. It is mainly concerned with the development of technology and computer programs. Its improvement process is mainly divided into seven steps; which start with the collection of data. This data can be collected from an internal database or perhaps an IoT structure. The second and most time-consuming step is cleaning, preparing, and rearranging the data; which involves the recognition of outliers, trends, and missing information so that the outcome is as accurate as possible. The third step consists of formatting data; which is useful if you source your information from a variety of sources. Step four is where AI comes into place. Self-service data processing tools may be useful if they provide intelligent services for matching data attributes from distinct databases and intelligently integrating them. The data is then arranged to better represent a specific pattern. Lastly, the data is divided into two sets: one for training the algorithm and one for analysis. There are three types of machine learning; supervised, unsupervised, and reinforcement learning. The most common of the bunch is supervised machine learning; which is based on accurately labeled data. The machine is given a collection of information, including the outcome of the operation. The rest of the information is referred to as ‘input features’, which ‘supervises’ the machine by guiding it to establish the connections between the variants. In the case of unsupervised learning, the machine isn’t given labeled sets of data to be divided into, allowing it to recognize and create its own patterns within the information provided. Since computers have the capabilities of identifying distinguished similarities, this method helps with the classifying of such data. Reinforcement learning comprises experience-based learning. Similar to people, they learn due to a reward and punishment system based on their actions. These variations of system learning have recently been integrated into business and finance, which is elaborated on in the following passages. Machine learning in finance and banking There are many ways in which machine learning is used in finance and banking. The most common place it is used is to detect any frauds. Fraud is the most common problem in financial service companies and it accounts for billions of dollars in misfortune each year. The most common frauds are credit or debit card usage by a stranger, document forgery, and mortgage fraud. Usually, finance companies keep an enormous amount of their data stored online, and it increases the risk of information being accessed without authorization. With expanding innovative headway, misrepresentation in the monetary business is currently viewed as a high danger to significant information. Fraud recognition frameworks in the past were planned dependent on a bunch of rules, which could be effortlessly be bypassed by current fraudsters. Therefore, most companies today leverage machine learning to combat fraudulent financial transactions. Machine learning works by looking over enormous informational indexes to distinguish unique or suspicious activities for additional examination by security groups. It works by looking at an exchange against other information focuses – like the client’s record history, IP address, area, and so forth.  Depending on the type of exchange taking place, the program can automatically refuse a withdrawal or purchase until the person makes a decision. Examples of fraud detection software used by banks include Feedzai, Data visor, and Teradata Machine learning is also used in algorithmic trading, portfolio management, loan underwriting, chatbots, and improving customer service. Algorithmic trading is an interaction for executing orders using computerized and pre-modified exchanging guidelines to represent factors like value, timing, and volume. An algorithm is a set of directions for solving a problem. Computer calculations send little parts of the full request to the market over the long run. In contrast to human dealers, algorithmic exchanging can investigate enormous volumes of information every day and therefore make thousands of trades every day. Machine learning settles on quick exchanging choices, which gives human traders a benefit over the market normal. Likewise, algorithmic exchanging doesn’t settle on exchanging choices dependent on feelings, which is a typical constraint among human dealers whose judgment might be influenced by feelings or individual desires. The exchanging technique is generally utilized by multifaceted investment administrators and monetary foundations to automate trading activities. In the banking industry, organizations access a large number of shopper information, with which machine learning can be prepared to work in order to simplify the underwriting process. Machine learning calculations can settle on speedy choices on endorsing and credit scoring, and save organizations both time and monetary assets that are utilized by people. Data scientists can train algorithms on how to analyze millions of consumer data to coordinate with information records, search for interesting special cases, and settle on a choice on whether a shopper meets all requirements for an advance or protection. For instance, the calculation can be prepared on the most proficient method to examine shopper information, like age, pay, occupation, and the buyer’s credit conduct. The benefits of machine learning As with any form of revolutionary technology, the usage of machine learning has been debated over as its beneficial properties have been weighed against the possible disadvantages. It’s been observed that upon correct usage, it may be used to solve a wide range of business challenges and anticipate complicated customer behavior. We’ve also seen several of the largest IT conglomerates, such as Google, Amazon, and Microsoft, introduce Cloud Machine Learning platforms. In terms of business, ML can aid businesses by identifying consumer’s demands and formulate a pattern based on them; allowing companies to reach out to such consumers and maximize their sales. It eliminates the need for expenses on some maintenance by reducing the risks associated with unexpected breakdowns and minimizes wasteful costs to the firms.  Historical data, a process visualization tool, a flexible analytical environment, and a feedback loop may all be used to build an ML architecture. The input of data is another agitating chore for businesses in the present, which is where machine learning can step in for manual labor. This eradicates the possibility of errors caused by manual labor causing disruptions and provides employees with extra time to handle other tasks. In the financial sector, machine learning is already utilized for portfolio management, algorithmic trading, loan underwriting, and fraud detection. Chatbots and other conversational interfaces for security, customer support, and sentiment analysis will be among the future uses of ML in banking. Another aspect of business involving artificial intelligence includes image recognition, which entails a system or program that recognizes objects, people, places, and movements in photos. It identifies photographs using an imaging system and machine recognition tech with artificial intelligence and programmed algorithms. The downfalls of machine learning With all the benefits of its advancement, machine learning isn’t the most perfect thing. There are several disadvantages which are information acquisition, time and resources and high errors, and wrong interpretations. One of the major hurdles is the amount of finance needed to invest in machine learning for it to be a successful project. More issues have to do with the fact that AI requires gigantic informational indexes to train on, and these ought to be unbiased, and of good quality. There can likewise be times where they have to wait for that new information to be produced. Machine learning needs sufficient opportunity to do the calculations to learn and adequately to satisfy their accuracy and relevancy. It also needs huge resources to work. This can mean extra requirements for the computer to work. Another significant problem is the capacity to precisely decipher the results produced by the calculations. You should likewise cautiously pick the algorithms to get the wanted results. Conclusion There have been various reports in the past and current years which claim that a significant piece of the human labor force will be replaced via robots and machines in the years to come. With excessive innovative work being led in the field of computerized reasoning, many dread that a significant job crisis will unfurl since numerous positions are all the more precisely and productively performed with the use of machines. In countries like Japan, mainly computer programs and AI is used in the secondary and tertiary sectors. From cleaning the house to depositing money in banks, everything is done by AI. However, AI cannot replace humans in the future. Humans have several capabilities which, even after several technological advancements a machine would not be able to have. These capabilities include creative thinking and creative problem solving, and human connection. For example, when a child goes to a doctor to get an injection, a nurse always relaxes the child to not be afraid of the needle. A machine’s touch would not be able to soothe a child. Another example could be how humans tend to share things with each other and be open about it, a machine will not be able to do so since it is only programmed to things it has been told to do. Like computers, AI will not replace us but would however complement us to make daily work easier and less time-consuming. Without humans themselves, there is no future for AI.\n"
     ]
    }
   ],
   "source": [
    "texts = \" \".join([paragraph.text.strip() for paragraph in paras])\n",
    "print(texts)"
   ]
  },
  {
   "cell_type": "code",
   "execution_count": 5,
   "id": "e79f5f60",
   "metadata": {},
   "outputs": [
    {
     "data": {
      "text/plain": [
       "10993"
      ]
     },
     "execution_count": 5,
     "metadata": {},
     "output_type": "execute_result"
    }
   ],
   "source": [
    "len(texts)"
   ]
  },
  {
   "cell_type": "markdown",
   "id": "db8f1fcc",
   "metadata": {},
   "source": [
    "Removing Punctuation"
   ]
  },
  {
   "cell_type": "code",
   "execution_count": 6,
   "id": "5285c8a8",
   "metadata": {},
   "outputs": [
    {
     "data": {
      "text/plain": [
       "10993"
      ]
     },
     "execution_count": 6,
     "metadata": {},
     "output_type": "execute_result"
    }
   ],
   "source": [
    "import re\n",
    "import string\n",
    "texts = re.sub(r'[\\'\\“\\”\\()\\%\\,\\-\\'\\’\\?\\ ]', ' ', texts)\n",
    "texts[0:200]\n",
    "len(texts)"
   ]
  },
  {
   "cell_type": "markdown",
   "id": "4fafe7be",
   "metadata": {},
   "source": [
    "# Removing Stopwords"
   ]
  },
  {
   "cell_type": "code",
   "execution_count": 7,
   "id": "089b8663",
   "metadata": {},
   "outputs": [],
   "source": [
    "from nltk.tokenize import word_tokenize"
   ]
  },
  {
   "cell_type": "code",
   "execution_count": 8,
   "id": "280876b0",
   "metadata": {},
   "outputs": [
    {
     "data": {
      "text/plain": [
       "['Introduction',\n",
       " 'AI',\n",
       " 'is',\n",
       " 'rapidly',\n",
       " 'evolving',\n",
       " 'in',\n",
       " 'the',\n",
       " 'employment',\n",
       " 'sector',\n",
       " 'particularly',\n",
       " 'in',\n",
       " 'matters',\n",
       " 'involving',\n",
       " 'business',\n",
       " 'and',\n",
       " 'finance',\n",
       " '.',\n",
       " 'Finance',\n",
       " 'management',\n",
       " 'economics',\n",
       " 'and',\n",
       " 'accounting',\n",
       " 'are',\n",
       " 'now',\n",
       " 'among',\n",
       " 'the',\n",
       " 'most',\n",
       " 'popular',\n",
       " 'university',\n",
       " 'courses',\n",
       " 'globally',\n",
       " ';',\n",
       " 'particularly',\n",
       " 'at',\n",
       " 'the',\n",
       " 'graduate',\n",
       " 'level',\n",
       " 'due',\n",
       " 'to',\n",
       " 'their',\n",
       " 'high',\n",
       " 'employability',\n",
       " '.',\n",
       " 'However',\n",
       " 'the',\n",
       " 'evolution',\n",
       " 'of',\n",
       " 'machinery',\n",
       " 'in',\n",
       " 'industries',\n",
       " 'is',\n",
       " 'changing',\n",
       " 'that',\n",
       " '.',\n",
       " 'According',\n",
       " 'to',\n",
       " 'research',\n",
       " '230',\n",
       " '000',\n",
       " 'jobs',\n",
       " 'in',\n",
       " 'these',\n",
       " 'sectors',\n",
       " 'may',\n",
       " 'be',\n",
       " 'replaced',\n",
       " 'by',\n",
       " 'AI',\n",
       " 'agents',\n",
       " 'in',\n",
       " 'the',\n",
       " 'next',\n",
       " '5',\n",
       " 'years',\n",
       " '.',\n",
       " 'This',\n",
       " 'is',\n",
       " 'due',\n",
       " 'to',\n",
       " 'the',\n",
       " 'nature',\n",
       " 'of',\n",
       " 'the',\n",
       " 'work',\n",
       " 'as',\n",
       " 'employees',\n",
       " 'are',\n",
       " 'responsible',\n",
       " 'for',\n",
       " 'tasks',\n",
       " 'such',\n",
       " 'as',\n",
       " 'data',\n",
       " 'analysis',\n",
       " 'and',\n",
       " 'keeping',\n",
       " 'track',\n",
       " 'of',\n",
       " 'numerical',\n",
       " 'information',\n",
       " ';',\n",
       " 'which',\n",
       " 'machines',\n",
       " 'excel',\n",
       " 'at',\n",
       " '.',\n",
       " 'Large',\n",
       " 'complicated',\n",
       " 'data',\n",
       " 'sets',\n",
       " 'can',\n",
       " 'be',\n",
       " 'analyzed',\n",
       " 'faster',\n",
       " 'and',\n",
       " 'more',\n",
       " 'efficiently',\n",
       " 'by',\n",
       " 'AI',\n",
       " 'powered',\n",
       " 'computers',\n",
       " 'than',\n",
       " 'by',\n",
       " 'people',\n",
       " '.',\n",
       " 'Algorithmic',\n",
       " 'trading',\n",
       " 'procedures',\n",
       " 'that',\n",
       " 'produce',\n",
       " 'automated',\n",
       " 'deals',\n",
       " 'are',\n",
       " 'less',\n",
       " 'likely',\n",
       " 'to',\n",
       " 'be',\n",
       " 'produced',\n",
       " 'without',\n",
       " 'minute',\n",
       " 'errors',\n",
       " 'when',\n",
       " 'undertaken',\n",
       " 'by',\n",
       " 'humans',\n",
       " '.',\n",
       " 'In',\n",
       " 'such',\n",
       " 'matters',\n",
       " 'involving',\n",
       " 'industrial',\n",
       " 'work',\n",
       " 'a',\n",
       " 'subsection',\n",
       " 'of',\n",
       " 'artificial',\n",
       " 'intelligence',\n",
       " 'is',\n",
       " 'used',\n",
       " ';',\n",
       " 'namely',\n",
       " 'machine',\n",
       " 'learning',\n",
       " '.',\n",
       " 'Machine',\n",
       " 'learning',\n",
       " 'is',\n",
       " 'a',\n",
       " 'term',\n",
       " 'used',\n",
       " 'for',\n",
       " 'the',\n",
       " 'application',\n",
       " 'of',\n",
       " 'artificial',\n",
       " 'intelligence',\n",
       " 'AI',\n",
       " 'in',\n",
       " 'systems',\n",
       " 'which',\n",
       " 'involves',\n",
       " 'them',\n",
       " 'assimilating',\n",
       " 'and',\n",
       " 'processing',\n",
       " 'information',\n",
       " 'by',\n",
       " 'gaining',\n",
       " 'experience',\n",
       " '.',\n",
       " 'It',\n",
       " 'is',\n",
       " 'mainly',\n",
       " 'concerned',\n",
       " 'with',\n",
       " 'the',\n",
       " 'development',\n",
       " 'of',\n",
       " 'technology',\n",
       " 'and',\n",
       " 'computer',\n",
       " 'programs',\n",
       " '.',\n",
       " 'Its',\n",
       " 'improvement',\n",
       " 'process',\n",
       " 'is',\n",
       " 'mainly',\n",
       " 'divided',\n",
       " 'into',\n",
       " 'seven',\n",
       " 'steps',\n",
       " ';',\n",
       " 'which',\n",
       " 'start',\n",
       " 'with',\n",
       " 'the',\n",
       " 'collection',\n",
       " 'of',\n",
       " 'data',\n",
       " '.',\n",
       " 'This',\n",
       " 'data',\n",
       " 'can',\n",
       " 'be',\n",
       " 'collected',\n",
       " 'from',\n",
       " 'an',\n",
       " 'internal',\n",
       " 'database',\n",
       " 'or',\n",
       " 'perhaps',\n",
       " 'an',\n",
       " 'IoT',\n",
       " 'structure',\n",
       " '.',\n",
       " 'The',\n",
       " 'second',\n",
       " 'and',\n",
       " 'most',\n",
       " 'time',\n",
       " 'consuming',\n",
       " 'step',\n",
       " 'is',\n",
       " 'cleaning',\n",
       " 'preparing',\n",
       " 'and',\n",
       " 'rearranging',\n",
       " 'the',\n",
       " 'data',\n",
       " ';',\n",
       " 'which',\n",
       " 'involves',\n",
       " 'the',\n",
       " 'recognition',\n",
       " 'of',\n",
       " 'outliers',\n",
       " 'trends',\n",
       " 'and',\n",
       " 'missing',\n",
       " 'information',\n",
       " 'so',\n",
       " 'that',\n",
       " 'the',\n",
       " 'outcome',\n",
       " 'is',\n",
       " 'as',\n",
       " 'accurate',\n",
       " 'as',\n",
       " 'possible',\n",
       " '.',\n",
       " 'The',\n",
       " 'third',\n",
       " 'step',\n",
       " 'consists',\n",
       " 'of',\n",
       " 'formatting',\n",
       " 'data',\n",
       " ';',\n",
       " 'which',\n",
       " 'is',\n",
       " 'useful',\n",
       " 'if',\n",
       " 'you',\n",
       " 'source',\n",
       " 'your',\n",
       " 'information',\n",
       " 'from',\n",
       " 'a',\n",
       " 'variety',\n",
       " 'of',\n",
       " 'sources',\n",
       " '.',\n",
       " 'Step',\n",
       " 'four',\n",
       " 'is',\n",
       " 'where',\n",
       " 'AI',\n",
       " 'comes',\n",
       " 'into',\n",
       " 'place',\n",
       " '.',\n",
       " 'Self',\n",
       " 'service',\n",
       " 'data',\n",
       " 'processing',\n",
       " 'tools',\n",
       " 'may',\n",
       " 'be',\n",
       " 'useful',\n",
       " 'if',\n",
       " 'they',\n",
       " 'provide',\n",
       " 'intelligent',\n",
       " 'services',\n",
       " 'for',\n",
       " 'matching',\n",
       " 'data',\n",
       " 'attributes',\n",
       " 'from',\n",
       " 'distinct',\n",
       " 'databases',\n",
       " 'and',\n",
       " 'intelligently',\n",
       " 'integrating',\n",
       " 'them',\n",
       " '.',\n",
       " 'The',\n",
       " 'data',\n",
       " 'is',\n",
       " 'then',\n",
       " 'arranged',\n",
       " 'to',\n",
       " 'better',\n",
       " 'represent',\n",
       " 'a',\n",
       " 'specific',\n",
       " 'pattern',\n",
       " '.',\n",
       " 'Lastly',\n",
       " 'the',\n",
       " 'data',\n",
       " 'is',\n",
       " 'divided',\n",
       " 'into',\n",
       " 'two',\n",
       " 'sets',\n",
       " ':',\n",
       " 'one',\n",
       " 'for',\n",
       " 'training',\n",
       " 'the',\n",
       " 'algorithm',\n",
       " 'and',\n",
       " 'one',\n",
       " 'for',\n",
       " 'analysis',\n",
       " '.',\n",
       " 'There',\n",
       " 'are',\n",
       " 'three',\n",
       " 'types',\n",
       " 'of',\n",
       " 'machine',\n",
       " 'learning',\n",
       " ';',\n",
       " 'supervised',\n",
       " 'unsupervised',\n",
       " 'and',\n",
       " 'reinforcement',\n",
       " 'learning',\n",
       " '.',\n",
       " 'The',\n",
       " 'most',\n",
       " 'common',\n",
       " 'of',\n",
       " 'the',\n",
       " 'bunch',\n",
       " 'is',\n",
       " 'supervised',\n",
       " 'machine',\n",
       " 'learning',\n",
       " ';',\n",
       " 'which',\n",
       " 'is',\n",
       " 'based',\n",
       " 'on',\n",
       " 'accurately',\n",
       " 'labeled',\n",
       " 'data',\n",
       " '.',\n",
       " 'The',\n",
       " 'machine',\n",
       " 'is',\n",
       " 'given',\n",
       " 'a',\n",
       " 'collection',\n",
       " 'of',\n",
       " 'information',\n",
       " 'including',\n",
       " 'the',\n",
       " 'outcome',\n",
       " 'of',\n",
       " 'the',\n",
       " 'operation',\n",
       " '.',\n",
       " 'The',\n",
       " 'rest',\n",
       " 'of',\n",
       " 'the',\n",
       " 'information',\n",
       " 'is',\n",
       " 'referred',\n",
       " 'to',\n",
       " 'as',\n",
       " '‘',\n",
       " 'input',\n",
       " 'features',\n",
       " 'which',\n",
       " '‘',\n",
       " 'supervises',\n",
       " 'the',\n",
       " 'machine',\n",
       " 'by',\n",
       " 'guiding',\n",
       " 'it',\n",
       " 'to',\n",
       " 'establish',\n",
       " 'the',\n",
       " 'connections',\n",
       " 'between',\n",
       " 'the',\n",
       " 'variants',\n",
       " '.',\n",
       " 'In',\n",
       " 'the',\n",
       " 'case',\n",
       " 'of',\n",
       " 'unsupervised',\n",
       " 'learning',\n",
       " 'the',\n",
       " 'machine',\n",
       " 'isn',\n",
       " 't',\n",
       " 'given',\n",
       " 'labeled',\n",
       " 'sets',\n",
       " 'of',\n",
       " 'data',\n",
       " 'to',\n",
       " 'be',\n",
       " 'divided',\n",
       " 'into',\n",
       " 'allowing',\n",
       " 'it',\n",
       " 'to',\n",
       " 'recognize',\n",
       " 'and',\n",
       " 'create',\n",
       " 'its',\n",
       " 'own',\n",
       " 'patterns',\n",
       " 'within',\n",
       " 'the',\n",
       " 'information',\n",
       " 'provided',\n",
       " '.',\n",
       " 'Since',\n",
       " 'computers',\n",
       " 'have',\n",
       " 'the',\n",
       " 'capabilities',\n",
       " 'of',\n",
       " 'identifying',\n",
       " 'distinguished',\n",
       " 'similarities',\n",
       " 'this',\n",
       " 'method',\n",
       " 'helps',\n",
       " 'with',\n",
       " 'the',\n",
       " 'classifying',\n",
       " 'of',\n",
       " 'such',\n",
       " 'data',\n",
       " '.',\n",
       " 'Reinforcement',\n",
       " 'learning',\n",
       " 'comprises',\n",
       " 'experience',\n",
       " 'based',\n",
       " 'learning',\n",
       " '.',\n",
       " 'Similar',\n",
       " 'to',\n",
       " 'people',\n",
       " 'they',\n",
       " 'learn',\n",
       " 'due',\n",
       " 'to',\n",
       " 'a',\n",
       " 'reward',\n",
       " 'and',\n",
       " 'punishment',\n",
       " 'system',\n",
       " 'based',\n",
       " 'on',\n",
       " 'their',\n",
       " 'actions',\n",
       " '.',\n",
       " 'These',\n",
       " 'variations',\n",
       " 'of',\n",
       " 'system',\n",
       " 'learning',\n",
       " 'have',\n",
       " 'recently',\n",
       " 'been',\n",
       " 'integrated',\n",
       " 'into',\n",
       " 'business',\n",
       " 'and',\n",
       " 'finance',\n",
       " 'which',\n",
       " 'is',\n",
       " 'elaborated',\n",
       " 'on',\n",
       " 'in',\n",
       " 'the',\n",
       " 'following',\n",
       " 'passages',\n",
       " '.',\n",
       " 'Machine',\n",
       " 'learning',\n",
       " 'in',\n",
       " 'finance',\n",
       " 'and',\n",
       " 'banking',\n",
       " 'There',\n",
       " 'are',\n",
       " 'many',\n",
       " 'ways',\n",
       " 'in',\n",
       " 'which',\n",
       " 'machine',\n",
       " 'learning',\n",
       " 'is',\n",
       " 'used',\n",
       " 'in',\n",
       " 'finance',\n",
       " 'and',\n",
       " 'banking',\n",
       " '.',\n",
       " 'The',\n",
       " 'most',\n",
       " 'common',\n",
       " 'place',\n",
       " 'it',\n",
       " 'is',\n",
       " 'used',\n",
       " 'is',\n",
       " 'to',\n",
       " 'detect',\n",
       " 'any',\n",
       " 'frauds',\n",
       " '.',\n",
       " 'Fraud',\n",
       " 'is',\n",
       " 'the',\n",
       " 'most',\n",
       " 'common',\n",
       " 'problem',\n",
       " 'in',\n",
       " 'financial',\n",
       " 'service',\n",
       " 'companies',\n",
       " 'and',\n",
       " 'it',\n",
       " 'accounts',\n",
       " 'for',\n",
       " 'billions',\n",
       " 'of',\n",
       " 'dollars',\n",
       " 'in',\n",
       " 'misfortune',\n",
       " 'each',\n",
       " 'year',\n",
       " '.',\n",
       " 'The',\n",
       " 'most',\n",
       " 'common',\n",
       " 'frauds',\n",
       " 'are',\n",
       " 'credit',\n",
       " 'or',\n",
       " 'debit',\n",
       " 'card',\n",
       " 'usage',\n",
       " 'by',\n",
       " 'a',\n",
       " 'stranger',\n",
       " 'document',\n",
       " 'forgery',\n",
       " 'and',\n",
       " 'mortgage',\n",
       " 'fraud',\n",
       " '.',\n",
       " 'Usually',\n",
       " 'finance',\n",
       " 'companies',\n",
       " 'keep',\n",
       " 'an',\n",
       " 'enormous',\n",
       " 'amount',\n",
       " 'of',\n",
       " 'their',\n",
       " 'data',\n",
       " 'stored',\n",
       " 'online',\n",
       " 'and',\n",
       " 'it',\n",
       " 'increases',\n",
       " 'the',\n",
       " 'risk',\n",
       " 'of',\n",
       " 'information',\n",
       " 'being',\n",
       " 'accessed',\n",
       " 'without',\n",
       " 'authorization',\n",
       " '.',\n",
       " 'With',\n",
       " 'expanding',\n",
       " 'innovative',\n",
       " 'headway',\n",
       " 'misrepresentation',\n",
       " 'in',\n",
       " 'the',\n",
       " 'monetary',\n",
       " 'business',\n",
       " 'is',\n",
       " 'currently',\n",
       " 'viewed',\n",
       " 'as',\n",
       " 'a',\n",
       " 'high',\n",
       " 'danger',\n",
       " 'to',\n",
       " 'significant',\n",
       " 'information',\n",
       " '.',\n",
       " 'Fraud',\n",
       " 'recognition',\n",
       " 'frameworks',\n",
       " 'in',\n",
       " 'the',\n",
       " 'past',\n",
       " 'were',\n",
       " 'planned',\n",
       " 'dependent',\n",
       " 'on',\n",
       " 'a',\n",
       " 'bunch',\n",
       " 'of',\n",
       " 'rules',\n",
       " 'which',\n",
       " 'could',\n",
       " 'be',\n",
       " 'effortlessly',\n",
       " 'be',\n",
       " 'bypassed',\n",
       " 'by',\n",
       " 'current',\n",
       " 'fraudsters',\n",
       " '.',\n",
       " 'Therefore',\n",
       " 'most',\n",
       " 'companies',\n",
       " 'today',\n",
       " 'leverage',\n",
       " 'machine',\n",
       " 'learning',\n",
       " 'to',\n",
       " 'combat',\n",
       " 'fraudulent',\n",
       " 'financial',\n",
       " 'transactions',\n",
       " '.',\n",
       " 'Machine',\n",
       " 'learning',\n",
       " 'works',\n",
       " 'by',\n",
       " 'looking',\n",
       " 'over',\n",
       " 'enormous',\n",
       " 'informational',\n",
       " 'indexes',\n",
       " 'to',\n",
       " 'distinguish',\n",
       " 'unique',\n",
       " 'or',\n",
       " 'suspicious',\n",
       " 'activities',\n",
       " 'for',\n",
       " 'additional',\n",
       " 'examination',\n",
       " 'by',\n",
       " 'security',\n",
       " 'groups',\n",
       " '.',\n",
       " 'It',\n",
       " 'works',\n",
       " 'by',\n",
       " 'looking',\n",
       " 'at',\n",
       " 'an',\n",
       " 'exchange',\n",
       " 'against',\n",
       " 'other',\n",
       " 'information',\n",
       " 'focuses',\n",
       " '–',\n",
       " 'like',\n",
       " 'the',\n",
       " 'client',\n",
       " 's',\n",
       " 'record',\n",
       " 'history',\n",
       " 'IP',\n",
       " 'address',\n",
       " 'area',\n",
       " 'and',\n",
       " 'so',\n",
       " 'forth',\n",
       " '.',\n",
       " 'Depending',\n",
       " 'on',\n",
       " 'the',\n",
       " 'type',\n",
       " 'of',\n",
       " 'exchange',\n",
       " 'taking',\n",
       " 'place',\n",
       " 'the',\n",
       " 'program',\n",
       " 'can',\n",
       " 'automatically',\n",
       " 'refuse',\n",
       " 'a',\n",
       " 'withdrawal',\n",
       " 'or',\n",
       " 'purchase',\n",
       " 'until',\n",
       " 'the',\n",
       " 'person',\n",
       " 'makes',\n",
       " 'a',\n",
       " 'decision',\n",
       " '.',\n",
       " 'Examples',\n",
       " 'of',\n",
       " 'fraud',\n",
       " 'detection',\n",
       " 'software',\n",
       " 'used',\n",
       " 'by',\n",
       " 'banks',\n",
       " 'include',\n",
       " 'Feedzai',\n",
       " 'Data',\n",
       " 'visor',\n",
       " 'and',\n",
       " 'Teradata',\n",
       " 'Machine',\n",
       " 'learning',\n",
       " 'is',\n",
       " 'also',\n",
       " 'used',\n",
       " 'in',\n",
       " 'algorithmic',\n",
       " 'trading',\n",
       " 'portfolio',\n",
       " 'management',\n",
       " 'loan',\n",
       " 'underwriting',\n",
       " 'chatbots',\n",
       " 'and',\n",
       " 'improving',\n",
       " 'customer',\n",
       " 'service',\n",
       " '.',\n",
       " 'Algorithmic',\n",
       " 'trading',\n",
       " 'is',\n",
       " 'an',\n",
       " 'interaction',\n",
       " 'for',\n",
       " 'executing',\n",
       " 'orders',\n",
       " 'using',\n",
       " 'computerized',\n",
       " 'and',\n",
       " 'pre',\n",
       " 'modified',\n",
       " 'exchanging',\n",
       " 'guidelines',\n",
       " 'to',\n",
       " 'represent',\n",
       " 'factors',\n",
       " 'like',\n",
       " 'value',\n",
       " 'timing',\n",
       " 'and',\n",
       " 'volume',\n",
       " '.',\n",
       " 'An',\n",
       " 'algorithm',\n",
       " 'is',\n",
       " 'a',\n",
       " 'set',\n",
       " 'of',\n",
       " 'directions',\n",
       " 'for',\n",
       " 'solving',\n",
       " 'a',\n",
       " 'problem',\n",
       " '.',\n",
       " 'Computer',\n",
       " 'calculations',\n",
       " 'send',\n",
       " 'little',\n",
       " 'parts',\n",
       " 'of',\n",
       " 'the',\n",
       " 'full',\n",
       " 'request',\n",
       " 'to',\n",
       " 'the',\n",
       " 'market',\n",
       " 'over',\n",
       " 'the',\n",
       " 'long',\n",
       " 'run',\n",
       " '.',\n",
       " 'In',\n",
       " 'contrast',\n",
       " 'to',\n",
       " 'human',\n",
       " 'dealers',\n",
       " 'algorithmic',\n",
       " 'exchanging',\n",
       " 'can',\n",
       " 'investigate',\n",
       " 'enormous',\n",
       " 'volumes',\n",
       " 'of',\n",
       " 'information',\n",
       " 'every',\n",
       " 'day',\n",
       " 'and',\n",
       " 'therefore',\n",
       " 'make',\n",
       " 'thousands',\n",
       " 'of',\n",
       " 'trades',\n",
       " 'every',\n",
       " 'day',\n",
       " '.',\n",
       " 'Machine',\n",
       " 'learning',\n",
       " 'settles',\n",
       " 'on',\n",
       " 'quick',\n",
       " 'exchanging',\n",
       " 'choices',\n",
       " 'which',\n",
       " 'gives',\n",
       " 'human',\n",
       " 'traders',\n",
       " 'a',\n",
       " 'benefit',\n",
       " 'over',\n",
       " 'the',\n",
       " 'market',\n",
       " 'normal',\n",
       " '.',\n",
       " 'Likewise',\n",
       " 'algorithmic',\n",
       " 'exchanging',\n",
       " 'doesn',\n",
       " 't',\n",
       " 'settle',\n",
       " 'on',\n",
       " 'exchanging',\n",
       " 'choices',\n",
       " 'dependent',\n",
       " 'on',\n",
       " 'feelings',\n",
       " 'which',\n",
       " 'is',\n",
       " 'a',\n",
       " 'typical',\n",
       " 'constraint',\n",
       " 'among',\n",
       " 'human',\n",
       " 'dealers',\n",
       " 'whose',\n",
       " 'judgment',\n",
       " 'might',\n",
       " 'be',\n",
       " 'influenced',\n",
       " 'by',\n",
       " 'feelings',\n",
       " 'or',\n",
       " 'individual',\n",
       " 'desires',\n",
       " '.',\n",
       " 'The',\n",
       " 'exchanging',\n",
       " 'technique',\n",
       " 'is',\n",
       " 'generally',\n",
       " 'utilized',\n",
       " 'by',\n",
       " 'multifaceted',\n",
       " 'investment',\n",
       " 'administrators',\n",
       " 'and',\n",
       " 'monetary',\n",
       " 'foundations',\n",
       " 'to',\n",
       " 'automate',\n",
       " 'trading',\n",
       " 'activities',\n",
       " '.',\n",
       " 'In',\n",
       " 'the',\n",
       " 'banking',\n",
       " 'industry',\n",
       " 'organizations',\n",
       " 'access',\n",
       " 'a',\n",
       " 'large',\n",
       " 'number',\n",
       " 'of',\n",
       " 'shopper',\n",
       " 'information',\n",
       " 'with',\n",
       " 'which',\n",
       " 'machine',\n",
       " 'learning',\n",
       " 'can',\n",
       " 'be',\n",
       " 'prepared',\n",
       " 'to',\n",
       " 'work',\n",
       " 'in',\n",
       " 'order',\n",
       " 'to',\n",
       " 'simplify',\n",
       " 'the',\n",
       " 'underwriting',\n",
       " 'process',\n",
       " '.',\n",
       " 'Machine',\n",
       " 'learning',\n",
       " 'calculations',\n",
       " 'can',\n",
       " 'settle',\n",
       " 'on',\n",
       " 'speedy',\n",
       " 'choices',\n",
       " 'on',\n",
       " 'endorsing',\n",
       " 'and',\n",
       " 'credit',\n",
       " 'scoring',\n",
       " 'and',\n",
       " 'save',\n",
       " 'organizations',\n",
       " 'both',\n",
       " 'time',\n",
       " 'and',\n",
       " 'monetary',\n",
       " 'assets',\n",
       " 'that',\n",
       " 'are',\n",
       " 'utilized',\n",
       " 'by',\n",
       " 'people',\n",
       " '.',\n",
       " 'Data',\n",
       " 'scientists',\n",
       " 'can',\n",
       " 'train',\n",
       " 'algorithms',\n",
       " 'on',\n",
       " 'how',\n",
       " 'to',\n",
       " 'analyze',\n",
       " ...]"
      ]
     },
     "execution_count": 8,
     "metadata": {},
     "output_type": "execute_result"
    }
   ],
   "source": [
    "token = word_tokenize(texts)\n",
    "token"
   ]
  },
  {
   "cell_type": "code",
   "execution_count": 9,
   "id": "10016a09",
   "metadata": {},
   "outputs": [],
   "source": [
    "with open(\"D:\\lab\\Dataset\\Stopwords_Blackcoffer.txt\", 'r') as file:\n",
    "    data = file.read()"
   ]
  },
  {
   "cell_type": "code",
   "execution_count": 10,
   "id": "c567cbef",
   "metadata": {},
   "outputs": [
    {
     "data": {
      "text/plain": [
       "'ERNST\\nYOUNG\\nDELOITTE\\nTOUCHE\\nKPMG\\nPRICEWATERHOUSECOOPERS\\nPRICEWATERHOUSE\\nCOOPERS\\nAFGHANI\\nARIARY\\nBAHT\\n'"
      ]
     },
     "execution_count": 10,
     "metadata": {},
     "output_type": "execute_result"
    }
   ],
   "source": [
    "data[:100]"
   ]
  },
  {
   "cell_type": "code",
   "execution_count": 11,
   "id": "d65bfa92",
   "metadata": {},
   "outputs": [
    {
     "data": {
      "text/plain": [
       "'ERNST,YOUNG,DELOITTE,TOUCHE,KPMG,PRICEWATERHOUSECOOPERS,PRICEWATERHOUSE,COOPERS,AFGHANI,ARIARY,BAHT,'"
      ]
     },
     "execution_count": 11,
     "metadata": {},
     "output_type": "execute_result"
    }
   ],
   "source": [
    "data = data.replace('\\n', ',')\n",
    "data[:100]"
   ]
  },
  {
   "cell_type": "code",
   "execution_count": 12,
   "id": "0ef23874",
   "metadata": {},
   "outputs": [
    {
     "data": {
      "text/plain": [
       "'Introduction rapidly evolving employment sector matters involving business finance . Finance management economics accounting popular university courses globally ; graduate level due high employability'"
      ]
     },
     "execution_count": 12,
     "metadata": {},
     "output_type": "execute_result"
    }
   ],
   "source": [
    "new_texts = \" \".join([i for i in token if i not in data])\n",
    "new_texts[:200]"
   ]
  },
  {
   "cell_type": "code",
   "execution_count": 13,
   "id": "ea392da4",
   "metadata": {},
   "outputs": [
    {
     "name": "stdout",
     "output_type": "stream",
     "text": [
      "length before cleaning:  10993\n",
      "length after cleaning:  7638\n"
     ]
    }
   ],
   "source": [
    "print(\"length before cleaning: \", len(texts))\n",
    "print(\"length after cleaning: \", len(new_texts))"
   ]
  },
  {
   "cell_type": "markdown",
   "id": "1f456147",
   "metadata": {},
   "source": [
    "# Negative words"
   ]
  },
  {
   "cell_type": "code",
   "execution_count": 14,
   "id": "dc3618a7",
   "metadata": {},
   "outputs": [],
   "source": [
    "with open(\"D:\\\\lab\\\\Dataset\\\\Negative_words.txt\", 'r') as file:\n",
    "    negative = file.read()"
   ]
  },
  {
   "cell_type": "code",
   "execution_count": 15,
   "id": "2123c4cb",
   "metadata": {},
   "outputs": [
    {
     "data": {
      "text/plain": [
       "'2-faced\\n2-faces\\nabnormal\\nabolish\\nabominable\\nabominably\\nabominate\\nabomination\\nabort\\naborted\\naborts\\nabrade\\nabrasive\\nabrupt\\nabruptly\\nabscond\\nabsence\\nabsent-minded\\nabsentee\\nabsurd\\nabsurdity\\nabsurdly\\nabsurdness\\n'"
      ]
     },
     "execution_count": 15,
     "metadata": {},
     "output_type": "execute_result"
    }
   ],
   "source": [
    "negative[:206]"
   ]
  },
  {
   "cell_type": "code",
   "execution_count": 16,
   "id": "28f44c97",
   "metadata": {},
   "outputs": [
    {
     "data": {
      "text/plain": [
       "'2-faced,2-faces,abnormal,abolish,abominable,abominably,abominate,abomination,abort,aborted,aborts,abrade,abrasive,abrupt,abruptly,abscond,absence,absent-minded,absentee,absurd,absurdity,absurdly,absurdness,'"
      ]
     },
     "execution_count": 16,
     "metadata": {},
     "output_type": "execute_result"
    }
   ],
   "source": [
    "negative = negative.replace('\\n', ',')\n",
    "negative[:206]"
   ]
  },
  {
   "cell_type": "code",
   "execution_count": 17,
   "id": "31a272c0",
   "metadata": {},
   "outputs": [
    {
     "name": "stdout",
     "output_type": "stream",
     "text": [
      "['popular', 'courses', 'due', 'high', 'due', 'nature', 'work', 'responsible', 'track', 'complicated', 'sets', 'efficiently', 'powered', 'errors', 'work', 'term', 'experience', 'concerned', 'start', 'consuming', 'accurate', 'service', 'represent', 'sets', 'training', 'common', 'accurately', 'rest', 'sets', 'experience', 'due', 'integrated', 'common', 'common', 'problem', 'service', 'misfortune', 'common', 'credit', 'usage', 'stranger', 'document', 'fraud', 'risk', 'misrepresentation', 'high', 'danger', 'significant', 'combat', 'fraudulent', 'distinguish', 'suspicious', 'security', 'type', 'refuse', 'person', 'decision', 'fraud', 'service', 'represent', 'set', 'problem', 'run', 'human', 'day', 'make', 'day', 'human', 'settle', 'typical', 'human', 'judgment', 'access', 'prepared', 'work', 'order', 'simplify', 'settle', 'credit', 'train', 'settle', 'calculation', 'prepared', 'age', 'pay', 'occupation', 'credit', 'usage', 'disadvantages', 'observed', 'correct', 'usage', 'solve', 'range', 'complicated', 'behavior', 'reach', 'risks', 'unexpected', 'wasteful', 'flexible', 'loop', 'chore', 'present', 'labor', 'errors', 'labor', 'extra', 'handle', 'fraud', 'security', 'support', 'perfect', 'disadvantages', 'high', 'errors', 'wrong', 'needed', 'successful', 'issues', 'fact', 'train', 'quality', 'sufficient', 'adequately', 'satisfy', 'accuracy', 'work', 'extra', 'work', 'significant', 'problem', 'precisely', 'pick', 'wanted', 'claim', 'significant', 'human', 'labor', 'force', 'excessive', 'work', 'led', 'dread', 'significant', 'job', 'crisis', 'positions', 'precisely', 'house', 'creative', 'creative', 'problem', 'human', 'child', 'child', 'afraid', 'needle', 'touch', 'child', 'make', 'work', 'consuming']\n"
     ]
    },
    {
     "data": {
      "text/plain": [
       "163"
      ]
     },
     "execution_count": 17,
     "metadata": {},
     "output_type": "execute_result"
    }
   ],
   "source": [
    "new_texts = word_tokenize(new_texts)\n",
    "negative_words = [i for i in new_texts if i in negative]\n",
    "print(negative_words)\n",
    "len(negative_words)"
   ]
  },
  {
   "cell_type": "markdown",
   "id": "0b24f011",
   "metadata": {},
   "source": [
    "# Positive words"
   ]
  },
  {
   "cell_type": "code",
   "execution_count": 18,
   "id": "4b003620",
   "metadata": {},
   "outputs": [
    {
     "data": {
      "text/plain": [
       "'a+\\nabound\\nabounds\\nabundance\\nabundant\\naccessable\\naccessible\\nacclaim\\nacclaimed\\nacclamation\\naccolade\\naccolades\\naccommodative\\naccomodative\\naccomplish\\naccomplished\\naccomplishment\\naccomplishments\\naccurate\\naccurately\\n'"
      ]
     },
     "execution_count": 18,
     "metadata": {},
     "output_type": "execute_result"
    }
   ],
   "source": [
    "with open(\"D:\\\\lab\\\\Dataset\\\\Positive_words.txt\", 'r') as file:\n",
    "    positive = file.read()\n",
    "positive[:210]    "
   ]
  },
  {
   "cell_type": "code",
   "execution_count": 19,
   "id": "66ed38c6",
   "metadata": {},
   "outputs": [
    {
     "data": {
      "text/plain": [
       "'a+,abound,abounds,abundance,abundant,accessable,accessible,acclaim,acclaimed,acclamation,accolade,accolades,accommodative,accomodative,accomplish,accomplished,accomplishment,accomplishments,accurate,accurately,'"
      ]
     },
     "execution_count": 19,
     "metadata": {},
     "output_type": "execute_result"
    }
   ],
   "source": [
    "positive = positive.replace('\\n',',')\n",
    "positive[:210]"
   ]
  },
  {
   "cell_type": "code",
   "execution_count": 20,
   "id": "fc1387e8",
   "metadata": {},
   "outputs": [
    {
     "name": "stdout",
     "output_type": "stream",
     "text": [
      "['popular', 'high', 'evolution', 'work', 'excel', 'complicated', 'faster', 'efficiently', 'work', 'intelligence', 'term', 'intelligence', 'gaining', 'improvement', 'structure', 'accurate', 'source', 'variety', 'intelligent', 'distinct', 'accurately', 'rest', 'establish', 'distinguished', 'reward', 'integrated', 'problem', 'amount', 'stored', 'risk', 'innovative', 'headway', 'high', 'significant', 'effortlessly', 'leverage', 'works', 'distinguish', 'works', 'record', 'taking', 'person', 'improving', 'set', 'problem', 'send', 'run', 'contrast', 'human', 'quick', 'human', 'benefit', 'human', 'individual', 'access', 'large', 'work', 'order', 'simplify', 'speedy', 'endorsing', 'save', 'interesting', 'advance', 'protection', 'proficient', 'age', 'benefits', 'revolutionary', 'beneficial', 'correct', 'solve', 'complicated', 'reach', 'flexible', 'extra', 'support', 'future', 'intelligence', 'intelligence', 'benefits', 'perfect', 'high', 'amount', 'successful', 'fact', 'unbiased', 'good', 'quality', 'sufficient', 'satisfy', 'work', 'extra', 'work', 'significant', 'problem', 'capacity', 'precisely', 'claim', 'significant', 'piece', 'human', 'innovative', 'work', 'led', 'significant', 'precisely', 'productively', 'performed', 'replace', 'future', 'creative', 'creative', 'problem', 'human', 'soothe', 'open', 'replace', 'complement', 'work', 'easier', 'future']\n"
     ]
    },
    {
     "data": {
      "text/plain": [
       "122"
      ]
     },
     "execution_count": 20,
     "metadata": {},
     "output_type": "execute_result"
    }
   ],
   "source": [
    "positive_words = [i for i in new_texts if i in positive]\n",
    "print(positive_words)\n",
    "len(positive_words)"
   ]
  },
  {
   "cell_type": "markdown",
   "id": "1b59646d",
   "metadata": {},
   "source": [
    "#### positive Score\n"
   ]
  },
  {
   "cell_type": "code",
   "execution_count": 21,
   "id": "7d0fbab1",
   "metadata": {},
   "outputs": [
    {
     "name": "stdout",
     "output_type": "stream",
     "text": [
      "122\n"
     ]
    }
   ],
   "source": [
    "pos_score = len(positive_words)\n",
    "print(pos_score)"
   ]
  },
  {
   "cell_type": "markdown",
   "id": "54a6cc12",
   "metadata": {},
   "source": [
    "#### Negative Score"
   ]
  },
  {
   "cell_type": "code",
   "execution_count": 22,
   "id": "df0766cd",
   "metadata": {},
   "outputs": [
    {
     "name": "stdout",
     "output_type": "stream",
     "text": [
      "163\n"
     ]
    }
   ],
   "source": [
    "neg_score=len(negative_words)\n",
    "print(neg_score)"
   ]
  },
  {
   "cell_type": "markdown",
   "id": "84da7ab7",
   "metadata": {},
   "source": [
    "#### Polarity Score"
   ]
  },
  {
   "cell_type": "code",
   "execution_count": 23,
   "id": "21e88c2b",
   "metadata": {},
   "outputs": [
    {
     "data": {
      "text/plain": [
       "-0.14"
      ]
     },
     "execution_count": 23,
     "metadata": {},
     "output_type": "execute_result"
    }
   ],
   "source": [
    "Polarity_Score = (pos_score - neg_score)/((pos_score + neg_score) + 0.000001)\n",
    "round(Polarity_Score,2)"
   ]
  },
  {
   "cell_type": "markdown",
   "id": "16495ba1",
   "metadata": {},
   "source": [
    "#### Subjectivity Score"
   ]
  },
  {
   "cell_type": "code",
   "execution_count": 24,
   "id": "841713a3",
   "metadata": {},
   "outputs": [
    {
     "data": {
      "text/plain": [
       "0.03"
      ]
     },
     "execution_count": 24,
     "metadata": {},
     "output_type": "execute_result"
    }
   ],
   "source": [
    "Subjectivity_Score = (pos_score + neg_score)/ ((8860) + 0.000001)\n",
    "round(Subjectivity_Score,2)"
   ]
  },
  {
   "cell_type": "markdown",
   "id": "0d7c370e",
   "metadata": {},
   "source": [
    "# Analysis of Readability"
   ]
  },
  {
   "cell_type": "code",
   "execution_count": 25,
   "id": "10209a7a",
   "metadata": {},
   "outputs": [
    {
     "data": {
      "text/plain": [
       "1797"
      ]
     },
     "execution_count": 25,
     "metadata": {},
     "output_type": "execute_result"
    }
   ],
   "source": [
    "import nltk\n",
    "from nltk.tokenize import word_tokenize\n",
    "word_tokens = nltk.word_tokenize(texts)\n",
    "No_of_words = len(word_tokens)\n",
    "No_of_words"
   ]
  },
  {
   "cell_type": "code",
   "execution_count": 26,
   "id": "bfac2ab7",
   "metadata": {},
   "outputs": [
    {
     "data": {
      "text/plain": [
       "84"
      ]
     },
     "execution_count": 26,
     "metadata": {},
     "output_type": "execute_result"
    }
   ],
   "source": [
    "sent_tokens = nltk.sent_tokenize(texts)\n",
    "No_of_sents = len(sent_tokens)\n",
    "No_of_sents "
   ]
  },
  {
   "cell_type": "markdown",
   "id": "1576acfe",
   "metadata": {},
   "source": [
    "### Average sentence Length\n"
   ]
  },
  {
   "cell_type": "code",
   "execution_count": 27,
   "id": "11d6a7ec",
   "metadata": {},
   "outputs": [
    {
     "data": {
      "text/plain": [
       "21.39"
      ]
     },
     "execution_count": 27,
     "metadata": {},
     "output_type": "execute_result"
    }
   ],
   "source": [
    "Avg_Sents_Length = No_of_words / No_of_sents\n",
    "round(Avg_Sents_Length,2)"
   ]
  },
  {
   "cell_type": "markdown",
   "id": "bc20ee3d",
   "metadata": {},
   "source": [
    "### Percentage of Complex words\n",
    "Complex words: words with more than 2 syllable are called complex words"
   ]
  },
  {
   "cell_type": "code",
   "execution_count": 28,
   "id": "eba6a8b1",
   "metadata": {},
   "outputs": [
    {
     "name": "stdout",
     "output_type": "stream",
     "text": [
      "Number of complex words: 343\n",
      "Total number of words: 10993\n"
     ]
    }
   ],
   "source": [
    "from nltk.corpus import cmudict\n",
    "cmud = cmudict.dict()\n",
    "\n",
    "# Defining a function to count syllables in a word\n",
    "def count_syllables(word):\n",
    "    phonemes = cmud[word.lower()][0] \n",
    "    return len([s for s in phonemes if s[-1].isdigit()])\n",
    "\n",
    "# Identifing complex words\n",
    "w_tokens = [i for i in word_tokens if i in cmud]\n",
    "complex_words = [word for word in w_tokens if count_syllables(word) > 2]\n",
    "\n",
    "# Calculatingnumber of complex words\n",
    "num_complex_words = len(complex_words)\n",
    "\n",
    "print(\"Number of complex words:\", num_complex_words)\n",
    "print(\"Total number of words:\", len(texts))"
   ]
  },
  {
   "cell_type": "code",
   "execution_count": 29,
   "id": "8cc6b673",
   "metadata": {},
   "outputs": [
    {
     "data": {
      "text/plain": [
       "32.05"
      ]
     },
     "execution_count": 29,
     "metadata": {},
     "output_type": "execute_result"
    }
   ],
   "source": [
    "Perc_of_Complex_words = len(texts) / num_complex_words\n",
    "round(Perc_of_Complex_words,2)"
   ]
  },
  {
   "cell_type": "markdown",
   "id": "77e948d1",
   "metadata": {},
   "source": [
    "### Fog Index"
   ]
  },
  {
   "cell_type": "code",
   "execution_count": 30,
   "id": "95fb10bb",
   "metadata": {},
   "outputs": [
    {
     "name": "stdout",
     "output_type": "stream",
     "text": [
      "Average sentence length: 84.0\n"
     ]
    }
   ],
   "source": [
    "# Tokenize each sentence into words\n",
    "words = [word_tokens for sentence in sent_tokens]\n",
    "\n",
    "# Calculate the average sentence length\n",
    "avg_sent_len = sum(No_of_sents for sentence in words) / No_of_sents\n",
    "\n",
    "print(\"Average sentence length:\", avg_sent_len)\n"
   ]
  },
  {
   "cell_type": "code",
   "execution_count": 31,
   "id": "38f5a93b",
   "metadata": {},
   "outputs": [
    {
     "data": {
      "text/plain": [
       "46.42"
      ]
     },
     "execution_count": 31,
     "metadata": {},
     "output_type": "execute_result"
    }
   ],
   "source": [
    "Fog_index = 0.4 * (avg_sent_len + Perc_of_Complex_words)\n",
    "round(Fog_index,2)"
   ]
  },
  {
   "cell_type": "markdown",
   "id": "5b4aacea",
   "metadata": {},
   "source": [
    "# Average Number of Words Per Sentence"
   ]
  },
  {
   "cell_type": "code",
   "execution_count": 32,
   "id": "45da1407",
   "metadata": {},
   "outputs": [
    {
     "data": {
      "text/plain": [
       "21.39"
      ]
     },
     "execution_count": 32,
     "metadata": {},
     "output_type": "execute_result"
    }
   ],
   "source": [
    "avg_no_of_words_per_sent = No_of_words / No_of_sents\n",
    "round(avg_no_of_words_per_sent,2)"
   ]
  },
  {
   "cell_type": "markdown",
   "id": "f2d9b493",
   "metadata": {},
   "source": [
    "# Complex Word Count"
   ]
  },
  {
   "cell_type": "code",
   "execution_count": 33,
   "id": "75304424",
   "metadata": {},
   "outputs": [
    {
     "name": "stdout",
     "output_type": "stream",
     "text": [
      "complex word count: 343\n"
     ]
    }
   ],
   "source": [
    "from nltk.corpus import cmudict\n",
    "cmud = cmudict.dict()\n",
    "\n",
    "# Defining a function to count syllables in a word\n",
    "def count_syllables(word):\n",
    "    phonemes = cmud[word.lower()][0] \n",
    "    return len([s for s in phonemes if s[-1].isdigit()])\n",
    "\n",
    "# Identifing complex words\n",
    "w_tokens = [i for i in word_tokens if i in cmud]\n",
    "complex_words = [word for word in w_tokens if count_syllables(word) > 2]\n",
    "\n",
    "# Calculatingnumber of complex words\n",
    "num_complex_words = len(complex_words)\n",
    "\n",
    "print(\"complex word count:\", num_complex_words)"
   ]
  },
  {
   "cell_type": "markdown",
   "id": "99ea5188",
   "metadata": {},
   "source": [
    "# Word Count\n",
    "number of words after cleaning"
   ]
  },
  {
   "cell_type": "code",
   "execution_count": 34,
   "id": "b4fb0c72",
   "metadata": {},
   "outputs": [
    {
     "data": {
      "text/plain": [
       "985"
      ]
     },
     "execution_count": 34,
     "metadata": {},
     "output_type": "execute_result"
    }
   ],
   "source": [
    "len(new_texts)"
   ]
  },
  {
   "cell_type": "markdown",
   "id": "ca8076ff",
   "metadata": {},
   "source": [
    "# Syllable Count Per Word"
   ]
  },
  {
   "cell_type": "code",
   "execution_count": 35,
   "id": "bc568045",
   "metadata": {},
   "outputs": [
    {
     "name": "stdout",
     "output_type": "stream",
     "text": [
      "Enter a word to get syllable: several\n",
      "Number of syllable in a word : 2\n"
     ]
    }
   ],
   "source": [
    "word = input(\"Enter a word to get syllable: \")\n",
    "def count_syllables(word):\n",
    "    phonemes = cmud[word.lower()][0] \n",
    "    return len([s for s in phonemes if s[-1].isdigit()])\n",
    "\n",
    "print(\"Number of syllable in a word :\",count_syllables(word))"
   ]
  },
  {
   "cell_type": "markdown",
   "id": "1d3a18f6",
   "metadata": {},
   "source": [
    "# Personal Pronouns"
   ]
  },
  {
   "cell_type": "code",
   "execution_count": 36,
   "id": "0b8e0d2d",
   "metadata": {},
   "outputs": [
    {
     "name": "stdout",
     "output_type": "stream",
     "text": [
      "Personal pronoun frequency: {'them': 3, 'it': 17, 'you': 2, 'they': 3, 'we': 1, 'us': 2}\n",
      "total number of pronouns in a article : 28\n"
     ]
    }
   ],
   "source": [
    "import re\n",
    "\n",
    "# Define a regex pattern to match personal pronouns\n",
    "pattern = r'\\b(I|you|he|she|it|we|they|me|him|her|us|them)\\b'\n",
    "\n",
    "# Count the frequency of personal pronouns\n",
    "pronoun_freq = {}\n",
    "for pronoun in re.findall(pattern, texts, re.IGNORECASE):\n",
    "    pronoun = pronoun.lower()\n",
    "    if pronoun in pronoun_freq:\n",
    "        pronoun_freq[pronoun] += 1\n",
    "    else:\n",
    "        pronoun_freq[pronoun] = 1\n",
    "\n",
    "print(\"Personal pronoun frequency:\", pronoun_freq)\n",
    "def returnSum(dict):\n",
    " \n",
    "    sum = 0\n",
    "    for i in pronoun_freq.values():\n",
    "        sum = sum + i\n",
    " \n",
    "    return sum\n",
    "print(\"total number of pronouns in a article :\",returnSum(pronoun_freq))"
   ]
  },
  {
   "cell_type": "markdown",
   "id": "e3fc87f8",
   "metadata": {},
   "source": [
    "# Average Word Length"
   ]
  },
  {
   "cell_type": "code",
   "execution_count": 37,
   "id": "5bde37d9",
   "metadata": {},
   "outputs": [
    {
     "name": "stdout",
     "output_type": "stream",
     "text": [
      "Average word length: 5.12\n"
     ]
    }
   ],
   "source": [
    "# Calculate the total number of characters in all words\n",
    "total_chars = sum(len(word) for word in word_tokens)\n",
    "\n",
    "avg_word_length = total_chars / No_of_words\n",
    "\n",
    "print(\"Average word length:\", round(avg_word_length,2))\n"
   ]
  },
  {
   "cell_type": "code",
   "execution_count": null,
   "id": "2eb41c92",
   "metadata": {},
   "outputs": [],
   "source": []
  },
  {
   "cell_type": "code",
   "execution_count": null,
   "id": "9b42e45b",
   "metadata": {},
   "outputs": [],
   "source": []
  }
 ],
 "metadata": {
  "kernelspec": {
   "display_name": "Python 3",
   "language": "python",
   "name": "python3"
  },
  "language_info": {
   "codemirror_mode": {
    "name": "ipython",
    "version": 3
   },
   "file_extension": ".py",
   "mimetype": "text/x-python",
   "name": "python",
   "nbconvert_exporter": "python",
   "pygments_lexer": "ipython3",
   "version": "3.8.8"
  }
 },
 "nbformat": 4,
 "nbformat_minor": 5
}
