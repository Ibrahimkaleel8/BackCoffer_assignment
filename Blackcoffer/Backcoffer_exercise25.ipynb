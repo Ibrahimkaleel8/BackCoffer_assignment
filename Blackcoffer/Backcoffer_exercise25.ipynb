{
 "cells": [
  {
   "cell_type": "markdown",
   "id": "b9312f26",
   "metadata": {},
   "source": [
    "# Data scraping"
   ]
  },
  {
   "cell_type": "code",
   "execution_count": 1,
   "id": "ef4785ca",
   "metadata": {},
   "outputs": [],
   "source": [
    "import nltk\n",
    "import requests\n",
    "from bs4 import BeautifulSoup"
   ]
  },
  {
   "cell_type": "code",
   "execution_count": 2,
   "id": "ac2f2459",
   "metadata": {},
   "outputs": [],
   "source": [
    "req = requests.get(\"https://insights.blackcoffer.com/how-python-became-the-first-choice-for-data-science/\")"
   ]
  },
  {
   "cell_type": "code",
   "execution_count": 3,
   "id": "45f9fa09",
   "metadata": {},
   "outputs": [],
   "source": [
    "soup = BeautifulSoup(req.content, \"html.parser\")\n",
    "res = soup.title\n",
    "paras = soup.find_all('p')"
   ]
  },
  {
   "cell_type": "code",
   "execution_count": 4,
   "id": "dbb256b2",
   "metadata": {
    "scrolled": true
   },
   "outputs": [
    {
     "name": "stdout",
     "output_type": "stream",
     "text": [
      "Data Science is gaining popularity exponentially over the past decade, and thanks to that we are now enjoying better products, recommendations, and smoother life. Data science is an interdisciplinary subject that includes statistics, math, IT, etc. Now there is so much to do in Data Science,  so we need an arrangement where all this can be accessible in one place. It will be very hectic to go to hundreds of different resources while doing analysis or building models. But don’t worry, PYTHON is there for you. Yes, you read it right, Python is a general programming language that can provide everything you need for Data Science. Several features that have made Python become the choice of data science in past times are: 1. Python is a progressively typed language, so the variables are defined automatically. 2. Python is more readable and uses lesser code to play out a similar task when contrasted with other programming languages. 3. Python is specifically typed. In this way, developers need to cast types manually. 4. Python is an interpreted language. This implies the program need not have complied. 5. Python is flexible, convenient, and can run on any platform effectively. It is adaptable and can be integrated with other third-party software effectively. This library available in python makes it very easier to analyze the data, you can read a variety of data sets like CSV, XML, XLSX, JSON, etc. You can perform several operations like Groupby, sorting with the help of easily accessible objects from pandas. This package helps you with any numerical operation that is needed to be performed in Data science, for example calculating Euclidean distance, finding ranks of the matrix, etc. These are excellent data visualization libraries available in python that produce some excellent visualization like shown here, It provides you state of the art machine learning algorithms for your accurate predictive analysis. Scikit–Learn is characterized by a clean, uniform, and streamlined API, as well as by very useful and complete online documentation. It provides a selection of efficient tools for machine learning and statistical modeling including classification, regression, clustering, and dimensionality reduction via a consistent interface in Python. Keras is an open-source software library that provides a Python interface for artificial neural networks. Keras acts as an interface for the TensorFlow library. Keras is an industry-strength framework that can scale to large clusters of GPUs or an entire TPU pod. See, Now that you have a variety of resources available here in python, then why go anywhere else. Python I also becoming the world’s most loved and most wanted programming language and it will surely help to get you the job. Data science consulting organizations are empowering their group of developers and data scientists to utilize Python as a programming language. Python has gotten well-known and the most significant programming language in an extremely brief timeframe. Data Scientists need to manage a large amount of data known as big data. With simple utilization and a huge arrangement of python libraries, Python has become a popular choice to deal with big data. Seeing the stats we can clearly see that Python has taken over other Languages needed for data science. It has also surpassed R which is exclusively built for Data science. Isn’t this exciting. Python in Data science has empowered data scientists to accomplish more in less time. Python is an adaptable programming language that can be effectively understood and is exceptionally amazing as well. Python is highly adaptable and can work in any environment effectively. Additionally, with negligible changes, it can run on any operating system and can be integrated with other programming languages. These qualities have settled on Python as the top choice for developers & data scientists. So next time you do analysis or work on any Data Science project, feel proud cause you are working with the most loved language of the world.\n"
     ]
    }
   ],
   "source": [
    "texts = \" \".join([paragraph.text.strip() for paragraph in paras])\n",
    "print(texts)"
   ]
  },
  {
   "cell_type": "code",
   "execution_count": 5,
   "id": "e79f5f60",
   "metadata": {},
   "outputs": [
    {
     "data": {
      "text/plain": [
       "4045"
      ]
     },
     "execution_count": 5,
     "metadata": {},
     "output_type": "execute_result"
    }
   ],
   "source": [
    "len(texts)"
   ]
  },
  {
   "cell_type": "markdown",
   "id": "db8f1fcc",
   "metadata": {},
   "source": [
    "Removing Punctuation"
   ]
  },
  {
   "cell_type": "code",
   "execution_count": 6,
   "id": "5285c8a8",
   "metadata": {},
   "outputs": [
    {
     "data": {
      "text/plain": [
       "4045"
      ]
     },
     "execution_count": 6,
     "metadata": {},
     "output_type": "execute_result"
    }
   ],
   "source": [
    "import re\n",
    "import string\n",
    "texts = re.sub(r'[\\'\\“\\”\\()\\%\\,\\-\\'\\’\\?\\ ]', ' ', texts)\n",
    "texts[0:200]\n",
    "len(texts)"
   ]
  },
  {
   "cell_type": "markdown",
   "id": "4fafe7be",
   "metadata": {},
   "source": [
    "# Removing Stopwords"
   ]
  },
  {
   "cell_type": "code",
   "execution_count": 7,
   "id": "089b8663",
   "metadata": {},
   "outputs": [],
   "source": [
    "from nltk.tokenize import word_tokenize"
   ]
  },
  {
   "cell_type": "code",
   "execution_count": 8,
   "id": "280876b0",
   "metadata": {},
   "outputs": [
    {
     "data": {
      "text/plain": [
       "['Data',\n",
       " 'Science',\n",
       " 'is',\n",
       " 'gaining',\n",
       " 'popularity',\n",
       " 'exponentially',\n",
       " 'over',\n",
       " 'the',\n",
       " 'past',\n",
       " 'decade',\n",
       " 'and',\n",
       " 'thanks',\n",
       " 'to',\n",
       " 'that',\n",
       " 'we',\n",
       " 'are',\n",
       " 'now',\n",
       " 'enjoying',\n",
       " 'better',\n",
       " 'products',\n",
       " 'recommendations',\n",
       " 'and',\n",
       " 'smoother',\n",
       " 'life',\n",
       " '.',\n",
       " 'Data',\n",
       " 'science',\n",
       " 'is',\n",
       " 'an',\n",
       " 'interdisciplinary',\n",
       " 'subject',\n",
       " 'that',\n",
       " 'includes',\n",
       " 'statistics',\n",
       " 'math',\n",
       " 'IT',\n",
       " 'etc',\n",
       " '.',\n",
       " 'Now',\n",
       " 'there',\n",
       " 'is',\n",
       " 'so',\n",
       " 'much',\n",
       " 'to',\n",
       " 'do',\n",
       " 'in',\n",
       " 'Data',\n",
       " 'Science',\n",
       " 'so',\n",
       " 'we',\n",
       " 'need',\n",
       " 'an',\n",
       " 'arrangement',\n",
       " 'where',\n",
       " 'all',\n",
       " 'this',\n",
       " 'can',\n",
       " 'be',\n",
       " 'accessible',\n",
       " 'in',\n",
       " 'one',\n",
       " 'place',\n",
       " '.',\n",
       " 'It',\n",
       " 'will',\n",
       " 'be',\n",
       " 'very',\n",
       " 'hectic',\n",
       " 'to',\n",
       " 'go',\n",
       " 'to',\n",
       " 'hundreds',\n",
       " 'of',\n",
       " 'different',\n",
       " 'resources',\n",
       " 'while',\n",
       " 'doing',\n",
       " 'analysis',\n",
       " 'or',\n",
       " 'building',\n",
       " 'models',\n",
       " '.',\n",
       " 'But',\n",
       " 'don',\n",
       " 't',\n",
       " 'worry',\n",
       " 'PYTHON',\n",
       " 'is',\n",
       " 'there',\n",
       " 'for',\n",
       " 'you',\n",
       " '.',\n",
       " 'Yes',\n",
       " 'you',\n",
       " 'read',\n",
       " 'it',\n",
       " 'right',\n",
       " 'Python',\n",
       " 'is',\n",
       " 'a',\n",
       " 'general',\n",
       " 'programming',\n",
       " 'language',\n",
       " 'that',\n",
       " 'can',\n",
       " 'provide',\n",
       " 'everything',\n",
       " 'you',\n",
       " 'need',\n",
       " 'for',\n",
       " 'Data',\n",
       " 'Science',\n",
       " '.',\n",
       " 'Several',\n",
       " 'features',\n",
       " 'that',\n",
       " 'have',\n",
       " 'made',\n",
       " 'Python',\n",
       " 'become',\n",
       " 'the',\n",
       " 'choice',\n",
       " 'of',\n",
       " 'data',\n",
       " 'science',\n",
       " 'in',\n",
       " 'past',\n",
       " 'times',\n",
       " 'are',\n",
       " ':',\n",
       " '1',\n",
       " '.',\n",
       " 'Python',\n",
       " 'is',\n",
       " 'a',\n",
       " 'progressively',\n",
       " 'typed',\n",
       " 'language',\n",
       " 'so',\n",
       " 'the',\n",
       " 'variables',\n",
       " 'are',\n",
       " 'defined',\n",
       " 'automatically',\n",
       " '.',\n",
       " '2',\n",
       " '.',\n",
       " 'Python',\n",
       " 'is',\n",
       " 'more',\n",
       " 'readable',\n",
       " 'and',\n",
       " 'uses',\n",
       " 'lesser',\n",
       " 'code',\n",
       " 'to',\n",
       " 'play',\n",
       " 'out',\n",
       " 'a',\n",
       " 'similar',\n",
       " 'task',\n",
       " 'when',\n",
       " 'contrasted',\n",
       " 'with',\n",
       " 'other',\n",
       " 'programming',\n",
       " 'languages',\n",
       " '.',\n",
       " '3',\n",
       " '.',\n",
       " 'Python',\n",
       " 'is',\n",
       " 'specifically',\n",
       " 'typed',\n",
       " '.',\n",
       " 'In',\n",
       " 'this',\n",
       " 'way',\n",
       " 'developers',\n",
       " 'need',\n",
       " 'to',\n",
       " 'cast',\n",
       " 'types',\n",
       " 'manually',\n",
       " '.',\n",
       " '4',\n",
       " '.',\n",
       " 'Python',\n",
       " 'is',\n",
       " 'an',\n",
       " 'interpreted',\n",
       " 'language',\n",
       " '.',\n",
       " 'This',\n",
       " 'implies',\n",
       " 'the',\n",
       " 'program',\n",
       " 'need',\n",
       " 'not',\n",
       " 'have',\n",
       " 'complied',\n",
       " '.',\n",
       " '5',\n",
       " '.',\n",
       " 'Python',\n",
       " 'is',\n",
       " 'flexible',\n",
       " 'convenient',\n",
       " 'and',\n",
       " 'can',\n",
       " 'run',\n",
       " 'on',\n",
       " 'any',\n",
       " 'platform',\n",
       " 'effectively',\n",
       " '.',\n",
       " 'It',\n",
       " 'is',\n",
       " 'adaptable',\n",
       " 'and',\n",
       " 'can',\n",
       " 'be',\n",
       " 'integrated',\n",
       " 'with',\n",
       " 'other',\n",
       " 'third',\n",
       " 'party',\n",
       " 'software',\n",
       " 'effectively',\n",
       " '.',\n",
       " 'This',\n",
       " 'library',\n",
       " 'available',\n",
       " 'in',\n",
       " 'python',\n",
       " 'makes',\n",
       " 'it',\n",
       " 'very',\n",
       " 'easier',\n",
       " 'to',\n",
       " 'analyze',\n",
       " 'the',\n",
       " 'data',\n",
       " 'you',\n",
       " 'can',\n",
       " 'read',\n",
       " 'a',\n",
       " 'variety',\n",
       " 'of',\n",
       " 'data',\n",
       " 'sets',\n",
       " 'like',\n",
       " 'CSV',\n",
       " 'XML',\n",
       " 'XLSX',\n",
       " 'JSON',\n",
       " 'etc',\n",
       " '.',\n",
       " 'You',\n",
       " 'can',\n",
       " 'perform',\n",
       " 'several',\n",
       " 'operations',\n",
       " 'like',\n",
       " 'Groupby',\n",
       " 'sorting',\n",
       " 'with',\n",
       " 'the',\n",
       " 'help',\n",
       " 'of',\n",
       " 'easily',\n",
       " 'accessible',\n",
       " 'objects',\n",
       " 'from',\n",
       " 'pandas',\n",
       " '.',\n",
       " 'This',\n",
       " 'package',\n",
       " 'helps',\n",
       " 'you',\n",
       " 'with',\n",
       " 'any',\n",
       " 'numerical',\n",
       " 'operation',\n",
       " 'that',\n",
       " 'is',\n",
       " 'needed',\n",
       " 'to',\n",
       " 'be',\n",
       " 'performed',\n",
       " 'in',\n",
       " 'Data',\n",
       " 'science',\n",
       " 'for',\n",
       " 'example',\n",
       " 'calculating',\n",
       " 'Euclidean',\n",
       " 'distance',\n",
       " 'finding',\n",
       " 'ranks',\n",
       " 'of',\n",
       " 'the',\n",
       " 'matrix',\n",
       " 'etc',\n",
       " '.',\n",
       " 'These',\n",
       " 'are',\n",
       " 'excellent',\n",
       " 'data',\n",
       " 'visualization',\n",
       " 'libraries',\n",
       " 'available',\n",
       " 'in',\n",
       " 'python',\n",
       " 'that',\n",
       " 'produce',\n",
       " 'some',\n",
       " 'excellent',\n",
       " 'visualization',\n",
       " 'like',\n",
       " 'shown',\n",
       " 'here',\n",
       " 'It',\n",
       " 'provides',\n",
       " 'you',\n",
       " 'state',\n",
       " 'of',\n",
       " 'the',\n",
       " 'art',\n",
       " 'machine',\n",
       " 'learning',\n",
       " 'algorithms',\n",
       " 'for',\n",
       " 'your',\n",
       " 'accurate',\n",
       " 'predictive',\n",
       " 'analysis',\n",
       " '.',\n",
       " 'Scikit–Learn',\n",
       " 'is',\n",
       " 'characterized',\n",
       " 'by',\n",
       " 'a',\n",
       " 'clean',\n",
       " 'uniform',\n",
       " 'and',\n",
       " 'streamlined',\n",
       " 'API',\n",
       " 'as',\n",
       " 'well',\n",
       " 'as',\n",
       " 'by',\n",
       " 'very',\n",
       " 'useful',\n",
       " 'and',\n",
       " 'complete',\n",
       " 'online',\n",
       " 'documentation',\n",
       " '.',\n",
       " 'It',\n",
       " 'provides',\n",
       " 'a',\n",
       " 'selection',\n",
       " 'of',\n",
       " 'efficient',\n",
       " 'tools',\n",
       " 'for',\n",
       " 'machine',\n",
       " 'learning',\n",
       " 'and',\n",
       " 'statistical',\n",
       " 'modeling',\n",
       " 'including',\n",
       " 'classification',\n",
       " 'regression',\n",
       " 'clustering',\n",
       " 'and',\n",
       " 'dimensionality',\n",
       " 'reduction',\n",
       " 'via',\n",
       " 'a',\n",
       " 'consistent',\n",
       " 'interface',\n",
       " 'in',\n",
       " 'Python',\n",
       " '.',\n",
       " 'Keras',\n",
       " 'is',\n",
       " 'an',\n",
       " 'open',\n",
       " 'source',\n",
       " 'software',\n",
       " 'library',\n",
       " 'that',\n",
       " 'provides',\n",
       " 'a',\n",
       " 'Python',\n",
       " 'interface',\n",
       " 'for',\n",
       " 'artificial',\n",
       " 'neural',\n",
       " 'networks',\n",
       " '.',\n",
       " 'Keras',\n",
       " 'acts',\n",
       " 'as',\n",
       " 'an',\n",
       " 'interface',\n",
       " 'for',\n",
       " 'the',\n",
       " 'TensorFlow',\n",
       " 'library',\n",
       " '.',\n",
       " 'Keras',\n",
       " 'is',\n",
       " 'an',\n",
       " 'industry',\n",
       " 'strength',\n",
       " 'framework',\n",
       " 'that',\n",
       " 'can',\n",
       " 'scale',\n",
       " 'to',\n",
       " 'large',\n",
       " 'clusters',\n",
       " 'of',\n",
       " 'GPUs',\n",
       " 'or',\n",
       " 'an',\n",
       " 'entire',\n",
       " 'TPU',\n",
       " 'pod',\n",
       " '.',\n",
       " 'See',\n",
       " 'Now',\n",
       " 'that',\n",
       " 'you',\n",
       " 'have',\n",
       " 'a',\n",
       " 'variety',\n",
       " 'of',\n",
       " 'resources',\n",
       " 'available',\n",
       " 'here',\n",
       " 'in',\n",
       " 'python',\n",
       " 'then',\n",
       " 'why',\n",
       " 'go',\n",
       " 'anywhere',\n",
       " 'else',\n",
       " '.',\n",
       " 'Python',\n",
       " 'I',\n",
       " 'also',\n",
       " 'becoming',\n",
       " 'the',\n",
       " 'world',\n",
       " 's',\n",
       " 'most',\n",
       " 'loved',\n",
       " 'and',\n",
       " 'most',\n",
       " 'wanted',\n",
       " 'programming',\n",
       " 'language',\n",
       " 'and',\n",
       " 'it',\n",
       " 'will',\n",
       " 'surely',\n",
       " 'help',\n",
       " 'to',\n",
       " 'get',\n",
       " 'you',\n",
       " 'the',\n",
       " 'job',\n",
       " '.',\n",
       " 'Data',\n",
       " 'science',\n",
       " 'consulting',\n",
       " 'organizations',\n",
       " 'are',\n",
       " 'empowering',\n",
       " 'their',\n",
       " 'group',\n",
       " 'of',\n",
       " 'developers',\n",
       " 'and',\n",
       " 'data',\n",
       " 'scientists',\n",
       " 'to',\n",
       " 'utilize',\n",
       " 'Python',\n",
       " 'as',\n",
       " 'a',\n",
       " 'programming',\n",
       " 'language',\n",
       " '.',\n",
       " 'Python',\n",
       " 'has',\n",
       " 'gotten',\n",
       " 'well',\n",
       " 'known',\n",
       " 'and',\n",
       " 'the',\n",
       " 'most',\n",
       " 'significant',\n",
       " 'programming',\n",
       " 'language',\n",
       " 'in',\n",
       " 'an',\n",
       " 'extremely',\n",
       " 'brief',\n",
       " 'timeframe',\n",
       " '.',\n",
       " 'Data',\n",
       " 'Scientists',\n",
       " 'need',\n",
       " 'to',\n",
       " 'manage',\n",
       " 'a',\n",
       " 'large',\n",
       " 'amount',\n",
       " 'of',\n",
       " 'data',\n",
       " 'known',\n",
       " 'as',\n",
       " 'big',\n",
       " 'data',\n",
       " '.',\n",
       " 'With',\n",
       " 'simple',\n",
       " 'utilization',\n",
       " 'and',\n",
       " 'a',\n",
       " 'huge',\n",
       " 'arrangement',\n",
       " 'of',\n",
       " 'python',\n",
       " 'libraries',\n",
       " 'Python',\n",
       " 'has',\n",
       " 'become',\n",
       " 'a',\n",
       " 'popular',\n",
       " 'choice',\n",
       " 'to',\n",
       " 'deal',\n",
       " 'with',\n",
       " 'big',\n",
       " 'data',\n",
       " '.',\n",
       " 'Seeing',\n",
       " 'the',\n",
       " 'stats',\n",
       " 'we',\n",
       " 'can',\n",
       " 'clearly',\n",
       " 'see',\n",
       " 'that',\n",
       " 'Python',\n",
       " 'has',\n",
       " 'taken',\n",
       " 'over',\n",
       " 'other',\n",
       " 'Languages',\n",
       " 'needed',\n",
       " 'for',\n",
       " 'data',\n",
       " 'science',\n",
       " '.',\n",
       " 'It',\n",
       " 'has',\n",
       " 'also',\n",
       " 'surpassed',\n",
       " 'R',\n",
       " 'which',\n",
       " 'is',\n",
       " 'exclusively',\n",
       " 'built',\n",
       " 'for',\n",
       " 'Data',\n",
       " 'science',\n",
       " '.',\n",
       " 'Isn',\n",
       " 't',\n",
       " 'this',\n",
       " 'exciting',\n",
       " '.',\n",
       " 'Python',\n",
       " 'in',\n",
       " 'Data',\n",
       " 'science',\n",
       " 'has',\n",
       " 'empowered',\n",
       " 'data',\n",
       " 'scientists',\n",
       " 'to',\n",
       " 'accomplish',\n",
       " 'more',\n",
       " 'in',\n",
       " 'less',\n",
       " 'time',\n",
       " '.',\n",
       " 'Python',\n",
       " 'is',\n",
       " 'an',\n",
       " 'adaptable',\n",
       " 'programming',\n",
       " 'language',\n",
       " 'that',\n",
       " 'can',\n",
       " 'be',\n",
       " 'effectively',\n",
       " 'understood',\n",
       " 'and',\n",
       " 'is',\n",
       " 'exceptionally',\n",
       " 'amazing',\n",
       " 'as',\n",
       " 'well',\n",
       " '.',\n",
       " 'Python',\n",
       " 'is',\n",
       " 'highly',\n",
       " 'adaptable',\n",
       " 'and',\n",
       " 'can',\n",
       " 'work',\n",
       " 'in',\n",
       " 'any',\n",
       " 'environment',\n",
       " 'effectively',\n",
       " '.',\n",
       " 'Additionally',\n",
       " 'with',\n",
       " 'negligible',\n",
       " 'changes',\n",
       " 'it',\n",
       " 'can',\n",
       " 'run',\n",
       " 'on',\n",
       " 'any',\n",
       " 'operating',\n",
       " 'system',\n",
       " 'and',\n",
       " 'can',\n",
       " 'be',\n",
       " 'integrated',\n",
       " 'with',\n",
       " 'other',\n",
       " 'programming',\n",
       " 'languages',\n",
       " '.',\n",
       " 'These',\n",
       " 'qualities',\n",
       " 'have',\n",
       " 'settled',\n",
       " 'on',\n",
       " 'Python',\n",
       " 'as',\n",
       " 'the',\n",
       " 'top',\n",
       " 'choice',\n",
       " 'for',\n",
       " 'developers',\n",
       " '&',\n",
       " 'data',\n",
       " 'scientists',\n",
       " '.',\n",
       " 'So',\n",
       " 'next',\n",
       " 'time',\n",
       " 'you',\n",
       " 'do',\n",
       " 'analysis',\n",
       " 'or',\n",
       " 'work',\n",
       " 'on',\n",
       " 'any',\n",
       " 'Data',\n",
       " 'Science',\n",
       " 'project',\n",
       " 'feel',\n",
       " 'proud',\n",
       " 'cause',\n",
       " 'you',\n",
       " 'are',\n",
       " 'working',\n",
       " 'with',\n",
       " 'the',\n",
       " 'most',\n",
       " 'loved',\n",
       " 'language',\n",
       " 'of',\n",
       " 'the',\n",
       " 'world',\n",
       " '.']"
      ]
     },
     "execution_count": 8,
     "metadata": {},
     "output_type": "execute_result"
    }
   ],
   "source": [
    "token = word_tokenize(texts)\n",
    "token"
   ]
  },
  {
   "cell_type": "code",
   "execution_count": 9,
   "id": "10016a09",
   "metadata": {},
   "outputs": [],
   "source": [
    "with open(\"D:\\lab\\Dataset\\Stopwords_Blackcoffer.txt\", 'r') as file:\n",
    "    data = file.read()"
   ]
  },
  {
   "cell_type": "code",
   "execution_count": 10,
   "id": "c567cbef",
   "metadata": {},
   "outputs": [
    {
     "data": {
      "text/plain": [
       "'ERNST\\nYOUNG\\nDELOITTE\\nTOUCHE\\nKPMG\\nPRICEWATERHOUSECOOPERS\\nPRICEWATERHOUSE\\nCOOPERS\\nAFGHANI\\nARIARY\\nBAHT\\n'"
      ]
     },
     "execution_count": 10,
     "metadata": {},
     "output_type": "execute_result"
    }
   ],
   "source": [
    "data[:100]"
   ]
  },
  {
   "cell_type": "code",
   "execution_count": 11,
   "id": "d65bfa92",
   "metadata": {},
   "outputs": [
    {
     "data": {
      "text/plain": [
       "'ERNST,YOUNG,DELOITTE,TOUCHE,KPMG,PRICEWATERHOUSECOOPERS,PRICEWATERHOUSE,COOPERS,AFGHANI,ARIARY,BAHT,'"
      ]
     },
     "execution_count": 11,
     "metadata": {},
     "output_type": "execute_result"
    }
   ],
   "source": [
    "data = data.replace('\\n', ',')\n",
    "data[:100]"
   ]
  },
  {
   "cell_type": "code",
   "execution_count": 12,
   "id": "0ef23874",
   "metadata": {},
   "outputs": [
    {
     "data": {
      "text/plain": [
       "'Data Science gaining popularity exponentially past decade enjoying products recommendations smoother life . Data science interdisciplinary subject includes statistics math . Now Data Science arrangeme'"
      ]
     },
     "execution_count": 12,
     "metadata": {},
     "output_type": "execute_result"
    }
   ],
   "source": [
    "new_texts = \" \".join([i for i in token if i not in data])\n",
    "new_texts[:200]"
   ]
  },
  {
   "cell_type": "code",
   "execution_count": 13,
   "id": "ea392da4",
   "metadata": {},
   "outputs": [
    {
     "name": "stdout",
     "output_type": "stream",
     "text": [
      "length before cleaning:  4045\n",
      "length after cleaning:  2665\n"
     ]
    }
   ],
   "source": [
    "print(\"length before cleaning: \", len(texts))\n",
    "print(\"length after cleaning: \", len(new_texts))"
   ]
  },
  {
   "cell_type": "markdown",
   "id": "1f456147",
   "metadata": {},
   "source": [
    "# Negative words"
   ]
  },
  {
   "cell_type": "code",
   "execution_count": 14,
   "id": "dc3618a7",
   "metadata": {},
   "outputs": [],
   "source": [
    "with open(\"D:\\\\lab\\\\Dataset\\\\Negative_words.txt\", 'r') as file:\n",
    "    negative = file.read()"
   ]
  },
  {
   "cell_type": "code",
   "execution_count": 15,
   "id": "2123c4cb",
   "metadata": {},
   "outputs": [
    {
     "data": {
      "text/plain": [
       "'2-faced\\n2-faces\\nabnormal\\nabolish\\nabominable\\nabominably\\nabominate\\nabomination\\nabort\\naborted\\naborts\\nabrade\\nabrasive\\nabrupt\\nabruptly\\nabscond\\nabsence\\nabsent-minded\\nabsentee\\nabsurd\\nabsurdity\\nabsurdly\\nabsurdness\\n'"
      ]
     },
     "execution_count": 15,
     "metadata": {},
     "output_type": "execute_result"
    }
   ],
   "source": [
    "negative[:206]"
   ]
  },
  {
   "cell_type": "code",
   "execution_count": 16,
   "id": "28f44c97",
   "metadata": {},
   "outputs": [
    {
     "data": {
      "text/plain": [
       "'2-faced,2-faces,abnormal,abolish,abominable,abominably,abominate,abomination,abort,aborted,aborts,abrade,abrasive,abrupt,abruptly,abscond,absence,absent-minded,absentee,absurd,absurdity,absurdly,absurdness,'"
      ]
     },
     "execution_count": 16,
     "metadata": {},
     "output_type": "execute_result"
    }
   ],
   "source": [
    "negative = negative.replace('\\n', ',')\n",
    "negative[:206]"
   ]
  },
  {
   "cell_type": "code",
   "execution_count": 17,
   "id": "31a272c0",
   "metadata": {},
   "outputs": [
    {
     "name": "stdout",
     "output_type": "stream",
     "text": [
      "['decade', 'life', 'subject', 'accessible', 'hectic', 'worry', 'defined', '2', 'readable', 'lesser', 'play', 'cast', 'flexible', 'convenient', 'run', 'effectively', 'integrated', 'effectively', 'sets', 'easily', 'accessible', 'needed', 'state', 'accurate', 'clean', 'complete', 'efficient', 'regression', 'consistent', 'acts', 'wanted', 'job', 'significant', 'manage', 'big', 'popular', 'deal', 'big', 'needed', 'effectively', 'understood', 'work', 'effectively', 'run', 'integrated', 'qualities', 'settled', 'top', 'work', 'feel']\n"
     ]
    },
    {
     "data": {
      "text/plain": [
       "50"
      ]
     },
     "execution_count": 17,
     "metadata": {},
     "output_type": "execute_result"
    }
   ],
   "source": [
    "new_texts = word_tokenize(new_texts)\n",
    "negative_words = [i for i in new_texts if i in negative]\n",
    "print(negative_words)\n",
    "len(negative_words)"
   ]
  },
  {
   "cell_type": "markdown",
   "id": "0b24f011",
   "metadata": {},
   "source": [
    "# Positive words"
   ]
  },
  {
   "cell_type": "code",
   "execution_count": 18,
   "id": "4b003620",
   "metadata": {},
   "outputs": [
    {
     "data": {
      "text/plain": [
       "'a+\\nabound\\nabounds\\nabundance\\nabundant\\naccessable\\naccessible\\nacclaim\\nacclaimed\\nacclamation\\naccolade\\naccolades\\naccommodative\\naccomodative\\naccomplish\\naccomplished\\naccomplishment\\naccomplishments\\naccurate\\naccurately\\n'"
      ]
     },
     "execution_count": 18,
     "metadata": {},
     "output_type": "execute_result"
    }
   ],
   "source": [
    "with open(\"D:\\\\lab\\\\Dataset\\\\Positive_words.txt\", 'r') as file:\n",
    "    positive = file.read()\n",
    "positive[:210]    "
   ]
  },
  {
   "cell_type": "code",
   "execution_count": 19,
   "id": "66ed38c6",
   "metadata": {},
   "outputs": [
    {
     "data": {
      "text/plain": [
       "'a+,abound,abounds,abundance,abundant,accessable,accessible,acclaim,acclaimed,acclamation,accolade,accolades,accommodative,accomodative,accomplish,accomplished,accomplishment,accomplishments,accurate,accurately,'"
      ]
     },
     "execution_count": 19,
     "metadata": {},
     "output_type": "execute_result"
    }
   ],
   "source": [
    "positive = positive.replace('\\n',',')\n",
    "positive[:210]"
   ]
  },
  {
   "cell_type": "code",
   "execution_count": 20,
   "id": "fc1387e8",
   "metadata": {},
   "outputs": [
    {
     "name": "stdout",
     "output_type": "stream",
     "text": [
      "['gaining', 'enjoying', 'recommendations', 'smoother', 'life', 'accessible', 'made', 'readable', 'play', 'flexible', 'convenient', 'run', 'effectively', 'adaptable', 'integrated', 'effectively', 'easier', 'variety', 'perform', 'accessible', 'performed', 'excellent', 'excellent', 'state', 'accurate', 'clean', 'streamlined', 'efficient', 'consistent', 'open', 'source', 'scale', 'large', 'variety', 'world', 'loved', 'significant', 'manage', 'large', 'amount', 'simple', 'popular', 'deal', 'exciting', 'accomplish', 'adaptable', 'effectively', 'exceptionally', 'amazing', 'adaptable', 'work', 'effectively', 'run', 'integrated', 'top', 'work', 'proud', 'working', 'loved', 'world']\n"
     ]
    },
    {
     "data": {
      "text/plain": [
       "60"
      ]
     },
     "execution_count": 20,
     "metadata": {},
     "output_type": "execute_result"
    }
   ],
   "source": [
    "positive_words = [i for i in new_texts if i in positive]\n",
    "print(positive_words)\n",
    "len(positive_words)"
   ]
  },
  {
   "cell_type": "markdown",
   "id": "1b59646d",
   "metadata": {},
   "source": [
    "#### positive Score\n"
   ]
  },
  {
   "cell_type": "code",
   "execution_count": 21,
   "id": "7d0fbab1",
   "metadata": {},
   "outputs": [
    {
     "name": "stdout",
     "output_type": "stream",
     "text": [
      "60\n"
     ]
    }
   ],
   "source": [
    "pos_score = len(positive_words)\n",
    "print(pos_score)"
   ]
  },
  {
   "cell_type": "markdown",
   "id": "54a6cc12",
   "metadata": {},
   "source": [
    "#### Negative Score"
   ]
  },
  {
   "cell_type": "code",
   "execution_count": 22,
   "id": "df0766cd",
   "metadata": {},
   "outputs": [
    {
     "name": "stdout",
     "output_type": "stream",
     "text": [
      "50\n"
     ]
    }
   ],
   "source": [
    "neg_score=len(negative_words)\n",
    "print(neg_score)"
   ]
  },
  {
   "cell_type": "markdown",
   "id": "84da7ab7",
   "metadata": {},
   "source": [
    "#### Polarity Score"
   ]
  },
  {
   "cell_type": "code",
   "execution_count": 23,
   "id": "21e88c2b",
   "metadata": {},
   "outputs": [
    {
     "data": {
      "text/plain": [
       "0.09"
      ]
     },
     "execution_count": 23,
     "metadata": {},
     "output_type": "execute_result"
    }
   ],
   "source": [
    "Polarity_Score = (pos_score - neg_score)/((pos_score + neg_score) + 0.000001)\n",
    "round(Polarity_Score,2)"
   ]
  },
  {
   "cell_type": "code",
   "execution_count": 24,
   "id": "08bcb4ab",
   "metadata": {},
   "outputs": [
    {
     "name": "stdout",
     "output_type": "stream",
     "text": [
      "number of words after cleaning : 368\n"
     ]
    }
   ],
   "source": [
    "word_count = len(new_texts)\n",
    "print(\"number of words after cleaning :\",word_count)"
   ]
  },
  {
   "cell_type": "markdown",
   "id": "16495ba1",
   "metadata": {},
   "source": [
    "#### Subjectivity Score"
   ]
  },
  {
   "cell_type": "code",
   "execution_count": 25,
   "id": "841713a3",
   "metadata": {},
   "outputs": [
    {
     "data": {
      "text/plain": [
       "0.3"
      ]
     },
     "execution_count": 25,
     "metadata": {},
     "output_type": "execute_result"
    }
   ],
   "source": [
    "Subjectivity_Score = (pos_score + neg_score)/ ((word_count) + 0.000001)\n",
    "round(Subjectivity_Score,2)"
   ]
  },
  {
   "cell_type": "markdown",
   "id": "0d7c370e",
   "metadata": {},
   "source": [
    "# Analysis of Readability"
   ]
  },
  {
   "cell_type": "code",
   "execution_count": 26,
   "id": "10209a7a",
   "metadata": {},
   "outputs": [
    {
     "data": {
      "text/plain": [
       "698"
      ]
     },
     "execution_count": 26,
     "metadata": {},
     "output_type": "execute_result"
    }
   ],
   "source": [
    "import nltk\n",
    "from nltk.tokenize import word_tokenize\n",
    "word_tokens = nltk.word_tokenize(texts)\n",
    "No_of_words = len(word_tokens)\n",
    "No_of_words"
   ]
  },
  {
   "cell_type": "code",
   "execution_count": 27,
   "id": "bfac2ab7",
   "metadata": {},
   "outputs": [
    {
     "data": {
      "text/plain": [
       "43"
      ]
     },
     "execution_count": 27,
     "metadata": {},
     "output_type": "execute_result"
    }
   ],
   "source": [
    "sent_tokens = nltk.sent_tokenize(texts)\n",
    "No_of_sents = len(sent_tokens)\n",
    "No_of_sents "
   ]
  },
  {
   "cell_type": "markdown",
   "id": "1576acfe",
   "metadata": {},
   "source": [
    "### Average sentence Length\n"
   ]
  },
  {
   "cell_type": "code",
   "execution_count": 28,
   "id": "11d6a7ec",
   "metadata": {},
   "outputs": [
    {
     "data": {
      "text/plain": [
       "16.23"
      ]
     },
     "execution_count": 28,
     "metadata": {},
     "output_type": "execute_result"
    }
   ],
   "source": [
    "Avg_Sents_Length = No_of_words / No_of_sents\n",
    "round(Avg_Sents_Length,2)"
   ]
  },
  {
   "cell_type": "markdown",
   "id": "bc20ee3d",
   "metadata": {},
   "source": [
    "### Percentage of Complex words\n",
    "Complex words: words with more than 2 syllable are called complex words"
   ]
  },
  {
   "cell_type": "code",
   "execution_count": 29,
   "id": "eba6a8b1",
   "metadata": {},
   "outputs": [
    {
     "name": "stdout",
     "output_type": "stream",
     "text": [
      "Number of complex words: 122\n",
      "Total number of words: 4045\n"
     ]
    }
   ],
   "source": [
    "from nltk.corpus import cmudict\n",
    "cmud = cmudict.dict()\n",
    "\n",
    "# Defining a function to count syllables in a word\n",
    "def count_syllables(word):\n",
    "    phonemes = cmud[word.lower()][0] \n",
    "    return len([s for s in phonemes if s[-1].isdigit()])\n",
    "\n",
    "# Identifing complex words\n",
    "w_tokens = [i for i in word_tokens if i in cmud]\n",
    "complex_words = [word for word in w_tokens if count_syllables(word) > 2]\n",
    "\n",
    "# Calculatingnumber of complex words\n",
    "num_complex_words = len(complex_words)\n",
    "\n",
    "print(\"Number of complex words:\", num_complex_words)\n",
    "print(\"Total number of words:\", len(texts))"
   ]
  },
  {
   "cell_type": "code",
   "execution_count": 30,
   "id": "e982c0a1",
   "metadata": {},
   "outputs": [
    {
     "data": {
      "text/plain": [
       "33.16"
      ]
     },
     "execution_count": 30,
     "metadata": {},
     "output_type": "execute_result"
    }
   ],
   "source": [
    "Perc_of_Complex_words = len(texts) / num_complex_words\n",
    "round(Perc_of_Complex_words,2)"
   ]
  },
  {
   "cell_type": "markdown",
   "id": "77e948d1",
   "metadata": {},
   "source": [
    "### Fog Index"
   ]
  },
  {
   "cell_type": "code",
   "execution_count": 31,
   "id": "95fb10bb",
   "metadata": {},
   "outputs": [
    {
     "name": "stdout",
     "output_type": "stream",
     "text": [
      "Average sentence length: 43.0\n"
     ]
    }
   ],
   "source": [
    "# Tokenize each sentence into words\n",
    "words = [word_tokens for sentence in sent_tokens]\n",
    "\n",
    "# Calculate the average sentence length\n",
    "avg_sent_len = sum(No_of_sents for sentence in words) / No_of_sents\n",
    "\n",
    "print(\"Average sentence length:\", avg_sent_len)\n"
   ]
  },
  {
   "cell_type": "code",
   "execution_count": 32,
   "id": "38f5a93b",
   "metadata": {},
   "outputs": [
    {
     "data": {
      "text/plain": [
       "30.46"
      ]
     },
     "execution_count": 32,
     "metadata": {},
     "output_type": "execute_result"
    }
   ],
   "source": [
    "Fog_index = 0.4 * (avg_sent_len + Perc_of_Complex_words)\n",
    "round(Fog_index,2)"
   ]
  },
  {
   "cell_type": "markdown",
   "id": "5b4aacea",
   "metadata": {},
   "source": [
    "# Average Number of Words Per Sentence"
   ]
  },
  {
   "cell_type": "code",
   "execution_count": 33,
   "id": "45da1407",
   "metadata": {},
   "outputs": [
    {
     "data": {
      "text/plain": [
       "16.23"
      ]
     },
     "execution_count": 33,
     "metadata": {},
     "output_type": "execute_result"
    }
   ],
   "source": [
    "avg_no_of_words_per_sent = No_of_words / No_of_sents\n",
    "round(avg_no_of_words_per_sent,2)"
   ]
  },
  {
   "cell_type": "markdown",
   "id": "f2d9b493",
   "metadata": {},
   "source": [
    "# Complex Word Count"
   ]
  },
  {
   "cell_type": "code",
   "execution_count": 34,
   "id": "75304424",
   "metadata": {},
   "outputs": [
    {
     "name": "stdout",
     "output_type": "stream",
     "text": [
      "complex word count: 122\n"
     ]
    }
   ],
   "source": [
    "from nltk.corpus import cmudict\n",
    "cmud = cmudict.dict()\n",
    "\n",
    "# Defining a function to count syllables in a word\n",
    "def count_syllables(word):\n",
    "    phonemes = cmud[word.lower()][0] \n",
    "    return len([s for s in phonemes if s[-1].isdigit()])\n",
    "\n",
    "# Identifing complex words\n",
    "w_tokens = [i for i in word_tokens if i in cmud]\n",
    "complex_words = [word for word in w_tokens if count_syllables(word) > 2]\n",
    "\n",
    "# Calculatingnumber of complex words\n",
    "num_complex_words = len(complex_words)\n",
    "\n",
    "print(\"complex word count:\", num_complex_words)"
   ]
  },
  {
   "cell_type": "markdown",
   "id": "99ea5188",
   "metadata": {},
   "source": [
    "# Word Count\n",
    "number of words after cleaning"
   ]
  },
  {
   "cell_type": "code",
   "execution_count": 35,
   "id": "b4fb0c72",
   "metadata": {},
   "outputs": [
    {
     "data": {
      "text/plain": [
       "368"
      ]
     },
     "execution_count": 35,
     "metadata": {},
     "output_type": "execute_result"
    }
   ],
   "source": [
    "len(new_texts)"
   ]
  },
  {
   "cell_type": "markdown",
   "id": "ca8076ff",
   "metadata": {},
   "source": [
    "# Syllable Count Per Word"
   ]
  },
  {
   "cell_type": "code",
   "execution_count": 36,
   "id": "bc568045",
   "metadata": {},
   "outputs": [
    {
     "name": "stdout",
     "output_type": "stream",
     "text": [
      "Enter a word to get syllable: programming\n",
      "Number of syllable in a word : 3\n"
     ]
    }
   ],
   "source": [
    "word = input(\"Enter a word to get syllable: \")\n",
    "def count_syllables(word):\n",
    "    phonemes = cmud[word.lower()][0] \n",
    "    return len([s for s in phonemes if s[-1].isdigit()])\n",
    "\n",
    "print(\"Number of syllable in a word :\",count_syllables(word))"
   ]
  },
  {
   "cell_type": "markdown",
   "id": "1d3a18f6",
   "metadata": {},
   "source": [
    "# Personal Pronouns"
   ]
  },
  {
   "cell_type": "code",
   "execution_count": 37,
   "id": "0b8e0d2d",
   "metadata": {},
   "outputs": [
    {
     "name": "stdout",
     "output_type": "stream",
     "text": [
      "Personal pronoun frequency: {'we': 3, 'it': 10, 'you': 11, 'i': 1}\n",
      "total number of pronouns in a article : 25\n"
     ]
    }
   ],
   "source": [
    "import re\n",
    "\n",
    "# Define a regex pattern to match personal pronouns\n",
    "pattern = r'\\b(I|you|he|she|it|we|they|me|him|her|us|them)\\b'\n",
    "\n",
    "# Count the frequency of personal pronouns\n",
    "pronoun_freq = {}\n",
    "for pronoun in re.findall(pattern, texts, re.IGNORECASE):\n",
    "    pronoun = pronoun.lower()\n",
    "    if pronoun in pronoun_freq:\n",
    "        pronoun_freq[pronoun] += 1\n",
    "    else:\n",
    "        pronoun_freq[pronoun] = 1\n",
    "\n",
    "print(\"Personal pronoun frequency:\", pronoun_freq)\n",
    "def returnSum(dict):\n",
    " \n",
    "    sum = 0\n",
    "    for i in pronoun_freq.values():\n",
    "        sum = sum + i\n",
    " \n",
    "    return sum\n",
    "print(\"total number of pronouns in a article :\",returnSum(pronoun_freq))"
   ]
  },
  {
   "cell_type": "markdown",
   "id": "e3fc87f8",
   "metadata": {},
   "source": [
    "# Average Word Length"
   ]
  },
  {
   "cell_type": "code",
   "execution_count": 38,
   "id": "5bde37d9",
   "metadata": {},
   "outputs": [
    {
     "name": "stdout",
     "output_type": "stream",
     "text": [
      "Average word length: 4.81\n"
     ]
    }
   ],
   "source": [
    "# Calculate the total number of characters in all words\n",
    "total_chars = sum(len(word) for word in word_tokens)\n",
    "\n",
    "avg_word_length = total_chars / No_of_words\n",
    "\n",
    "print(\"Average word length:\", round(avg_word_length,2))\n"
   ]
  },
  {
   "cell_type": "code",
   "execution_count": null,
   "id": "63dc25ad",
   "metadata": {},
   "outputs": [],
   "source": []
  },
  {
   "cell_type": "code",
   "execution_count": null,
   "id": "819012c5",
   "metadata": {},
   "outputs": [],
   "source": []
  }
 ],
 "metadata": {
  "kernelspec": {
   "display_name": "Python 3",
   "language": "python",
   "name": "python3"
  },
  "language_info": {
   "codemirror_mode": {
    "name": "ipython",
    "version": 3
   },
   "file_extension": ".py",
   "mimetype": "text/x-python",
   "name": "python",
   "nbconvert_exporter": "python",
   "pygments_lexer": "ipython3",
   "version": "3.8.8"
  }
 },
 "nbformat": 4,
 "nbformat_minor": 5
}
