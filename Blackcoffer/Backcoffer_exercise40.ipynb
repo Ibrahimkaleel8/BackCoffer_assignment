{
 "cells": [
  {
   "cell_type": "markdown",
   "id": "b9312f26",
   "metadata": {},
   "source": [
    "# Data scraping"
   ]
  },
  {
   "cell_type": "code",
   "execution_count": 1,
   "id": "ef4785ca",
   "metadata": {},
   "outputs": [],
   "source": [
    "import nltk\n",
    "import requests\n",
    "from bs4 import BeautifulSoup"
   ]
  },
  {
   "cell_type": "code",
   "execution_count": 2,
   "id": "ac2f2459",
   "metadata": {},
   "outputs": [],
   "source": [
    "req = requests.get(\"https://insights.blackcoffer.com/how-you-lead-a-project-or-a-team-without-any-technical-expertise/\")"
   ]
  },
  {
   "cell_type": "code",
   "execution_count": 3,
   "id": "45f9fa09",
   "metadata": {},
   "outputs": [],
   "source": [
    "soup = BeautifulSoup(req.content, \"html.parser\")\n",
    "res = soup.title\n",
    "paras = soup.find_all('p')"
   ]
  },
  {
   "cell_type": "code",
   "execution_count": 4,
   "id": "dbb256b2",
   "metadata": {
    "scrolled": true
   },
   "outputs": [
    {
     "name": "stdout",
     "output_type": "stream",
     "text": [
      "The word “leadership” can bring to mind a variety of images. For example, A political leader, pursuing a passionate, personal cause or An executive, developing his/her company’s strategy to beat the competition. Leaders help themselves and others to do the right things. They set direction, build an inspiring vision, and create something new. Leadership is about mapping out where you need to go to “win” as a team or an organization; and it is dynamic, exciting, and inspiring. In my point of view we cannot become a good leader without technical expertise because every task in the organization it’s required a lot of skills, knowledge, consistent, enthusiastic, patience, motivating, inspiring, industrious, and critical thinking on the basis of the field we are doing. A leader should have the ability to motivate self and others, effective oral and written communication, critical thinking skills at the working team and delegating a task. Good leaders do have these abilities and if we wanted to create a future leader. They need to take in a large volume of information and to take the essential elements that define the core problem to solve. They need to organize a team to solve these problems and to communicate to a group, they need to established trust with a group and use the trust to allow the team to accomplish the work more than it could be done alone. Though all these skills we have but it’s would not sufficient to make us a great leader because to excel and utilize these abilities in practice we need a lot of technical expertise in a particular domain. For example, Like in a hospital if the head of the hospital is lead by other people rather than Doctor then the hospital would become worse at a point because the person from other fields he could not lead and understand the real scenario and mechanism that the hospital is functioning and he would not understand the staff and the patient as well. Hence, to lead the hospital Doctor is deserved who knows his own field how to lead and understand the real scenario of it. That’s why being a leader requires technical expertise to have great knowledge and understanding about his own organization. Every person if they want to become a leader they should have technical expertise on their own organization so that their organization would run smoothly, hence nobody could run other organization if we do not have the technical expertise on that field. So, be a leader, not a boss which makes your life much better, as they’re a saying that “ A good objective of leadership is to help those who are doing poorly to do well and to help those who are doing well to do even better.”\n"
     ]
    }
   ],
   "source": [
    "texts = \" \".join([paragraph.text.strip() for paragraph in paras])\n",
    "print(texts)"
   ]
  },
  {
   "cell_type": "code",
   "execution_count": 5,
   "id": "e79f5f60",
   "metadata": {},
   "outputs": [
    {
     "data": {
      "text/plain": [
       "2656"
      ]
     },
     "execution_count": 5,
     "metadata": {},
     "output_type": "execute_result"
    }
   ],
   "source": [
    "len(texts)"
   ]
  },
  {
   "cell_type": "markdown",
   "id": "db8f1fcc",
   "metadata": {},
   "source": [
    "Removing Punctuation"
   ]
  },
  {
   "cell_type": "code",
   "execution_count": 6,
   "id": "5285c8a8",
   "metadata": {},
   "outputs": [
    {
     "data": {
      "text/plain": [
       "2656"
      ]
     },
     "execution_count": 6,
     "metadata": {},
     "output_type": "execute_result"
    }
   ],
   "source": [
    "import re\n",
    "import string\n",
    "texts = re.sub(r'[\\'\\“\\”\\()\\%\\,\\-\\'\\’\\?\\ ]', ' ', texts)\n",
    "texts[0:200]\n",
    "len(texts)"
   ]
  },
  {
   "cell_type": "markdown",
   "id": "4fafe7be",
   "metadata": {},
   "source": [
    "# Removing Stopwords"
   ]
  },
  {
   "cell_type": "code",
   "execution_count": 7,
   "id": "089b8663",
   "metadata": {},
   "outputs": [],
   "source": [
    "from nltk.tokenize import word_tokenize"
   ]
  },
  {
   "cell_type": "code",
   "execution_count": 8,
   "id": "280876b0",
   "metadata": {},
   "outputs": [
    {
     "data": {
      "text/plain": [
       "['The',\n",
       " 'word',\n",
       " 'leadership',\n",
       " 'can',\n",
       " 'bring',\n",
       " 'to',\n",
       " 'mind',\n",
       " 'a',\n",
       " 'variety',\n",
       " 'of',\n",
       " 'images',\n",
       " '.',\n",
       " 'For',\n",
       " 'example',\n",
       " 'A',\n",
       " 'political',\n",
       " 'leader',\n",
       " 'pursuing',\n",
       " 'a',\n",
       " 'passionate',\n",
       " 'personal',\n",
       " 'cause',\n",
       " 'or',\n",
       " 'An',\n",
       " 'executive',\n",
       " 'developing',\n",
       " 'his/her',\n",
       " 'company',\n",
       " 's',\n",
       " 'strategy',\n",
       " 'to',\n",
       " 'beat',\n",
       " 'the',\n",
       " 'competition',\n",
       " '.',\n",
       " 'Leaders',\n",
       " 'help',\n",
       " 'themselves',\n",
       " 'and',\n",
       " 'others',\n",
       " 'to',\n",
       " 'do',\n",
       " 'the',\n",
       " 'right',\n",
       " 'things',\n",
       " '.',\n",
       " 'They',\n",
       " 'set',\n",
       " 'direction',\n",
       " 'build',\n",
       " 'an',\n",
       " 'inspiring',\n",
       " 'vision',\n",
       " 'and',\n",
       " 'create',\n",
       " 'something',\n",
       " 'new',\n",
       " '.',\n",
       " 'Leadership',\n",
       " 'is',\n",
       " 'about',\n",
       " 'mapping',\n",
       " 'out',\n",
       " 'where',\n",
       " 'you',\n",
       " 'need',\n",
       " 'to',\n",
       " 'go',\n",
       " 'to',\n",
       " 'win',\n",
       " 'as',\n",
       " 'a',\n",
       " 'team',\n",
       " 'or',\n",
       " 'an',\n",
       " 'organization',\n",
       " ';',\n",
       " 'and',\n",
       " 'it',\n",
       " 'is',\n",
       " 'dynamic',\n",
       " 'exciting',\n",
       " 'and',\n",
       " 'inspiring',\n",
       " '.',\n",
       " 'In',\n",
       " 'my',\n",
       " 'point',\n",
       " 'of',\n",
       " 'view',\n",
       " 'we',\n",
       " 'can',\n",
       " 'not',\n",
       " 'become',\n",
       " 'a',\n",
       " 'good',\n",
       " 'leader',\n",
       " 'without',\n",
       " 'technical',\n",
       " 'expertise',\n",
       " 'because',\n",
       " 'every',\n",
       " 'task',\n",
       " 'in',\n",
       " 'the',\n",
       " 'organization',\n",
       " 'it',\n",
       " 's',\n",
       " 'required',\n",
       " 'a',\n",
       " 'lot',\n",
       " 'of',\n",
       " 'skills',\n",
       " 'knowledge',\n",
       " 'consistent',\n",
       " 'enthusiastic',\n",
       " 'patience',\n",
       " 'motivating',\n",
       " 'inspiring',\n",
       " 'industrious',\n",
       " 'and',\n",
       " 'critical',\n",
       " 'thinking',\n",
       " 'on',\n",
       " 'the',\n",
       " 'basis',\n",
       " 'of',\n",
       " 'the',\n",
       " 'field',\n",
       " 'we',\n",
       " 'are',\n",
       " 'doing',\n",
       " '.',\n",
       " 'A',\n",
       " 'leader',\n",
       " 'should',\n",
       " 'have',\n",
       " 'the',\n",
       " 'ability',\n",
       " 'to',\n",
       " 'motivate',\n",
       " 'self',\n",
       " 'and',\n",
       " 'others',\n",
       " 'effective',\n",
       " 'oral',\n",
       " 'and',\n",
       " 'written',\n",
       " 'communication',\n",
       " 'critical',\n",
       " 'thinking',\n",
       " 'skills',\n",
       " 'at',\n",
       " 'the',\n",
       " 'working',\n",
       " 'team',\n",
       " 'and',\n",
       " 'delegating',\n",
       " 'a',\n",
       " 'task',\n",
       " '.',\n",
       " 'Good',\n",
       " 'leaders',\n",
       " 'do',\n",
       " 'have',\n",
       " 'these',\n",
       " 'abilities',\n",
       " 'and',\n",
       " 'if',\n",
       " 'we',\n",
       " 'wanted',\n",
       " 'to',\n",
       " 'create',\n",
       " 'a',\n",
       " 'future',\n",
       " 'leader',\n",
       " '.',\n",
       " 'They',\n",
       " 'need',\n",
       " 'to',\n",
       " 'take',\n",
       " 'in',\n",
       " 'a',\n",
       " 'large',\n",
       " 'volume',\n",
       " 'of',\n",
       " 'information',\n",
       " 'and',\n",
       " 'to',\n",
       " 'take',\n",
       " 'the',\n",
       " 'essential',\n",
       " 'elements',\n",
       " 'that',\n",
       " 'define',\n",
       " 'the',\n",
       " 'core',\n",
       " 'problem',\n",
       " 'to',\n",
       " 'solve',\n",
       " '.',\n",
       " 'They',\n",
       " 'need',\n",
       " 'to',\n",
       " 'organize',\n",
       " 'a',\n",
       " 'team',\n",
       " 'to',\n",
       " 'solve',\n",
       " 'these',\n",
       " 'problems',\n",
       " 'and',\n",
       " 'to',\n",
       " 'communicate',\n",
       " 'to',\n",
       " 'a',\n",
       " 'group',\n",
       " 'they',\n",
       " 'need',\n",
       " 'to',\n",
       " 'established',\n",
       " 'trust',\n",
       " 'with',\n",
       " 'a',\n",
       " 'group',\n",
       " 'and',\n",
       " 'use',\n",
       " 'the',\n",
       " 'trust',\n",
       " 'to',\n",
       " 'allow',\n",
       " 'the',\n",
       " 'team',\n",
       " 'to',\n",
       " 'accomplish',\n",
       " 'the',\n",
       " 'work',\n",
       " 'more',\n",
       " 'than',\n",
       " 'it',\n",
       " 'could',\n",
       " 'be',\n",
       " 'done',\n",
       " 'alone',\n",
       " '.',\n",
       " 'Though',\n",
       " 'all',\n",
       " 'these',\n",
       " 'skills',\n",
       " 'we',\n",
       " 'have',\n",
       " 'but',\n",
       " 'it',\n",
       " 's',\n",
       " 'would',\n",
       " 'not',\n",
       " 'sufficient',\n",
       " 'to',\n",
       " 'make',\n",
       " 'us',\n",
       " 'a',\n",
       " 'great',\n",
       " 'leader',\n",
       " 'because',\n",
       " 'to',\n",
       " 'excel',\n",
       " 'and',\n",
       " 'utilize',\n",
       " 'these',\n",
       " 'abilities',\n",
       " 'in',\n",
       " 'practice',\n",
       " 'we',\n",
       " 'need',\n",
       " 'a',\n",
       " 'lot',\n",
       " 'of',\n",
       " 'technical',\n",
       " 'expertise',\n",
       " 'in',\n",
       " 'a',\n",
       " 'particular',\n",
       " 'domain',\n",
       " '.',\n",
       " 'For',\n",
       " 'example',\n",
       " 'Like',\n",
       " 'in',\n",
       " 'a',\n",
       " 'hospital',\n",
       " 'if',\n",
       " 'the',\n",
       " 'head',\n",
       " 'of',\n",
       " 'the',\n",
       " 'hospital',\n",
       " 'is',\n",
       " 'lead',\n",
       " 'by',\n",
       " 'other',\n",
       " 'people',\n",
       " 'rather',\n",
       " 'than',\n",
       " 'Doctor',\n",
       " 'then',\n",
       " 'the',\n",
       " 'hospital',\n",
       " 'would',\n",
       " 'become',\n",
       " 'worse',\n",
       " 'at',\n",
       " 'a',\n",
       " 'point',\n",
       " 'because',\n",
       " 'the',\n",
       " 'person',\n",
       " 'from',\n",
       " 'other',\n",
       " 'fields',\n",
       " 'he',\n",
       " 'could',\n",
       " 'not',\n",
       " 'lead',\n",
       " 'and',\n",
       " 'understand',\n",
       " 'the',\n",
       " 'real',\n",
       " 'scenario',\n",
       " 'and',\n",
       " 'mechanism',\n",
       " 'that',\n",
       " 'the',\n",
       " 'hospital',\n",
       " 'is',\n",
       " 'functioning',\n",
       " 'and',\n",
       " 'he',\n",
       " 'would',\n",
       " 'not',\n",
       " 'understand',\n",
       " 'the',\n",
       " 'staff',\n",
       " 'and',\n",
       " 'the',\n",
       " 'patient',\n",
       " 'as',\n",
       " 'well',\n",
       " '.',\n",
       " 'Hence',\n",
       " 'to',\n",
       " 'lead',\n",
       " 'the',\n",
       " 'hospital',\n",
       " 'Doctor',\n",
       " 'is',\n",
       " 'deserved',\n",
       " 'who',\n",
       " 'knows',\n",
       " 'his',\n",
       " 'own',\n",
       " 'field',\n",
       " 'how',\n",
       " 'to',\n",
       " 'lead',\n",
       " 'and',\n",
       " 'understand',\n",
       " 'the',\n",
       " 'real',\n",
       " 'scenario',\n",
       " 'of',\n",
       " 'it',\n",
       " '.',\n",
       " 'That',\n",
       " 's',\n",
       " 'why',\n",
       " 'being',\n",
       " 'a',\n",
       " 'leader',\n",
       " 'requires',\n",
       " 'technical',\n",
       " 'expertise',\n",
       " 'to',\n",
       " 'have',\n",
       " 'great',\n",
       " 'knowledge',\n",
       " 'and',\n",
       " 'understanding',\n",
       " 'about',\n",
       " 'his',\n",
       " 'own',\n",
       " 'organization',\n",
       " '.',\n",
       " 'Every',\n",
       " 'person',\n",
       " 'if',\n",
       " 'they',\n",
       " 'want',\n",
       " 'to',\n",
       " 'become',\n",
       " 'a',\n",
       " 'leader',\n",
       " 'they',\n",
       " 'should',\n",
       " 'have',\n",
       " 'technical',\n",
       " 'expertise',\n",
       " 'on',\n",
       " 'their',\n",
       " 'own',\n",
       " 'organization',\n",
       " 'so',\n",
       " 'that',\n",
       " 'their',\n",
       " 'organization',\n",
       " 'would',\n",
       " 'run',\n",
       " 'smoothly',\n",
       " 'hence',\n",
       " 'nobody',\n",
       " 'could',\n",
       " 'run',\n",
       " 'other',\n",
       " 'organization',\n",
       " 'if',\n",
       " 'we',\n",
       " 'do',\n",
       " 'not',\n",
       " 'have',\n",
       " 'the',\n",
       " 'technical',\n",
       " 'expertise',\n",
       " 'on',\n",
       " 'that',\n",
       " 'field',\n",
       " '.',\n",
       " 'So',\n",
       " 'be',\n",
       " 'a',\n",
       " 'leader',\n",
       " 'not',\n",
       " 'a',\n",
       " 'boss',\n",
       " 'which',\n",
       " 'makes',\n",
       " 'your',\n",
       " 'life',\n",
       " 'much',\n",
       " 'better',\n",
       " 'as',\n",
       " 'they',\n",
       " 're',\n",
       " 'a',\n",
       " 'saying',\n",
       " 'that',\n",
       " 'A',\n",
       " 'good',\n",
       " 'objective',\n",
       " 'of',\n",
       " 'leadership',\n",
       " 'is',\n",
       " 'to',\n",
       " 'help',\n",
       " 'those',\n",
       " 'who',\n",
       " 'are',\n",
       " 'doing',\n",
       " 'poorly',\n",
       " 'to',\n",
       " 'do',\n",
       " 'well',\n",
       " 'and',\n",
       " 'to',\n",
       " 'help',\n",
       " 'those',\n",
       " 'who',\n",
       " 'are',\n",
       " 'doing',\n",
       " 'well',\n",
       " 'to',\n",
       " 'do',\n",
       " 'even',\n",
       " 'better',\n",
       " '.']"
      ]
     },
     "execution_count": 8,
     "metadata": {},
     "output_type": "execute_result"
    }
   ],
   "source": [
    "token = word_tokenize(texts)\n",
    "token"
   ]
  },
  {
   "cell_type": "code",
   "execution_count": 9,
   "id": "10016a09",
   "metadata": {},
   "outputs": [],
   "source": [
    "with open(\"D:\\lab\\Dataset\\Stopwords_Blackcoffer.txt\", 'r') as file:\n",
    "    data = file.read()"
   ]
  },
  {
   "cell_type": "code",
   "execution_count": 10,
   "id": "c567cbef",
   "metadata": {},
   "outputs": [
    {
     "data": {
      "text/plain": [
       "'ERNST\\nYOUNG\\nDELOITTE\\nTOUCHE\\nKPMG\\nPRICEWATERHOUSECOOPERS\\nPRICEWATERHOUSE\\nCOOPERS\\nAFGHANI\\nARIARY\\nBAHT\\n'"
      ]
     },
     "execution_count": 10,
     "metadata": {},
     "output_type": "execute_result"
    }
   ],
   "source": [
    "data[:100]"
   ]
  },
  {
   "cell_type": "code",
   "execution_count": 11,
   "id": "d65bfa92",
   "metadata": {},
   "outputs": [
    {
     "data": {
      "text/plain": [
       "'ERNST,YOUNG,DELOITTE,TOUCHE,KPMG,PRICEWATERHOUSECOOPERS,PRICEWATERHOUSE,COOPERS,AFGHANI,ARIARY,BAHT,'"
      ]
     },
     "execution_count": 11,
     "metadata": {},
     "output_type": "execute_result"
    }
   ],
   "source": [
    "data = data.replace('\\n', ',')\n",
    "data[:100]"
   ]
  },
  {
   "cell_type": "code",
   "execution_count": 12,
   "id": "0ef23874",
   "metadata": {},
   "outputs": [
    {
     "data": {
      "text/plain": [
       "'The word leadership bring mind variety images . For political leader pursuing passionate personal An executive developing his/her company strategy beat competition . Leaders things . They set directio'"
      ]
     },
     "execution_count": 12,
     "metadata": {},
     "output_type": "execute_result"
    }
   ],
   "source": [
    "new_texts = \" \".join([i for i in token if i not in data])\n",
    "new_texts[:200]"
   ]
  },
  {
   "cell_type": "code",
   "execution_count": 13,
   "id": "ea392da4",
   "metadata": {},
   "outputs": [
    {
     "name": "stdout",
     "output_type": "stream",
     "text": [
      "length before cleaning:  2656\n",
      "length after cleaning:  1463\n"
     ]
    }
   ],
   "source": [
    "print(\"length before cleaning: \", len(texts))\n",
    "print(\"length after cleaning: \", len(new_texts))"
   ]
  },
  {
   "cell_type": "markdown",
   "id": "1f456147",
   "metadata": {},
   "source": [
    "# Negative words"
   ]
  },
  {
   "cell_type": "code",
   "execution_count": 14,
   "id": "dc3618a7",
   "metadata": {},
   "outputs": [],
   "source": [
    "with open(\"D:\\\\lab\\\\Dataset\\\\Negative_words.txt\", 'r') as file:\n",
    "    negative = file.read()"
   ]
  },
  {
   "cell_type": "code",
   "execution_count": 15,
   "id": "2123c4cb",
   "metadata": {},
   "outputs": [
    {
     "data": {
      "text/plain": [
       "'2-faced\\n2-faces\\nabnormal\\nabolish\\nabominable\\nabominably\\nabominate\\nabomination\\nabort\\naborted\\naborts\\nabrade\\nabrasive\\nabrupt\\nabruptly\\nabscond\\nabsence\\nabsent-minded\\nabsentee\\nabsurd\\nabsurdity\\nabsurdly\\nabsurdness\\n'"
      ]
     },
     "execution_count": 15,
     "metadata": {},
     "output_type": "execute_result"
    }
   ],
   "source": [
    "negative[:206]"
   ]
  },
  {
   "cell_type": "code",
   "execution_count": 16,
   "id": "28f44c97",
   "metadata": {},
   "outputs": [
    {
     "data": {
      "text/plain": [
       "'2-faced,2-faces,abnormal,abolish,abominable,abominably,abominate,abomination,abort,aborted,aborts,abrade,abrasive,abrupt,abruptly,abscond,absence,absent-minded,absentee,absurd,absurdity,absurdly,absurdness,'"
      ]
     },
     "execution_count": 16,
     "metadata": {},
     "output_type": "execute_result"
    }
   ],
   "source": [
    "negative = negative.replace('\\n', ',')\n",
    "negative[:206]"
   ]
  },
  {
   "cell_type": "code",
   "execution_count": 17,
   "id": "31a272c0",
   "metadata": {},
   "outputs": [
    {
     "name": "stdout",
     "output_type": "stream",
     "text": [
      "['mind', 'personal', 'beat', 'set', 'direction', 'point', 'view', 'lot', 'consistent', 'patience', 'critical', 'ability', 'effective', 'oral', 'critical', 'wanted', 'essential', 'define', 'problem', 'solve', 'organize', 'solve', 'problems', 'trust', 'trust', 'work', 'sufficient', 'make', 'lot', 'hospital', 'head', 'hospital', 'lead', 'hospital', 'worse', 'point', 'person', 'lead', 'understand', 'hospital', 'understand', 'patient', 'lead', 'hospital', 'lead', 'understand', 'understanding', 'person', 'run', 'run', 'life', 'poorly']\n"
     ]
    },
    {
     "data": {
      "text/plain": [
       "52"
      ]
     },
     "execution_count": 17,
     "metadata": {},
     "output_type": "execute_result"
    }
   ],
   "source": [
    "new_texts = word_tokenize(new_texts)\n",
    "negative_words = [i for i in new_texts if i in negative]\n",
    "print(negative_words)\n",
    "len(negative_words)"
   ]
  },
  {
   "cell_type": "markdown",
   "id": "0b24f011",
   "metadata": {},
   "source": [
    "# Positive words"
   ]
  },
  {
   "cell_type": "code",
   "execution_count": 18,
   "id": "4b003620",
   "metadata": {},
   "outputs": [
    {
     "data": {
      "text/plain": [
       "'a+\\nabound\\nabounds\\nabundance\\nabundant\\naccessable\\naccessible\\nacclaim\\nacclaimed\\nacclamation\\naccolade\\naccolades\\naccommodative\\naccomodative\\naccomplish\\naccomplished\\naccomplishment\\naccomplishments\\naccurate\\naccurately\\n'"
      ]
     },
     "execution_count": 18,
     "metadata": {},
     "output_type": "execute_result"
    }
   ],
   "source": [
    "with open(\"D:\\\\lab\\\\Dataset\\\\Positive_words.txt\", 'r') as file:\n",
    "    positive = file.read()\n",
    "positive[:210]    "
   ]
  },
  {
   "cell_type": "code",
   "execution_count": 19,
   "id": "66ed38c6",
   "metadata": {},
   "outputs": [
    {
     "data": {
      "text/plain": [
       "'a+,abound,abounds,abundance,abundant,accessable,accessible,acclaim,acclaimed,acclamation,accolade,accolades,accommodative,accomodative,accomplish,accomplished,accomplishment,accomplishments,accurate,accurately,'"
      ]
     },
     "execution_count": 19,
     "metadata": {},
     "output_type": "execute_result"
    }
   ],
   "source": [
    "positive = positive.replace('\\n',',')\n",
    "positive[:210]"
   ]
  },
  {
   "cell_type": "code",
   "execution_count": 20,
   "id": "fc1387e8",
   "metadata": {},
   "outputs": [
    {
     "name": "stdout",
     "output_type": "stream",
     "text": [
      "['mind', 'variety', 'passionate', 'personal', 'beat', 'set', 'inspiring', 'vision', 'dynamic', 'exciting', 'inspiring', 'view', 'good', 'knowledge', 'consistent', 'enthusiastic', 'patience', 'inspiring', 'industrious', 'ability', 'motivate', 'effective', 'oral', 'working', 'future', 'large', 'problem', 'solve', 'solve', 'established', 'trust', 'trust', 'accomplish', 'work', 'sufficient', 'great', 'excel', 'head', 'lead', 'person', 'lead', 'understand', 'understand', 'patient', 'lead', 'deserved', 'lead', 'understand', 'great', 'knowledge', 'person', 'run', 'smoothly', 'run', 'life', 'good']\n"
     ]
    },
    {
     "data": {
      "text/plain": [
       "56"
      ]
     },
     "execution_count": 20,
     "metadata": {},
     "output_type": "execute_result"
    }
   ],
   "source": [
    "positive_words = [i for i in new_texts if i in positive]\n",
    "print(positive_words)\n",
    "len(positive_words)"
   ]
  },
  {
   "cell_type": "markdown",
   "id": "1b59646d",
   "metadata": {},
   "source": [
    "#### positive Score\n"
   ]
  },
  {
   "cell_type": "code",
   "execution_count": 21,
   "id": "7d0fbab1",
   "metadata": {},
   "outputs": [
    {
     "name": "stdout",
     "output_type": "stream",
     "text": [
      "56\n"
     ]
    }
   ],
   "source": [
    "pos_score = len(positive_words)\n",
    "print(pos_score)"
   ]
  },
  {
   "cell_type": "markdown",
   "id": "54a6cc12",
   "metadata": {},
   "source": [
    "#### Negative Score"
   ]
  },
  {
   "cell_type": "code",
   "execution_count": 22,
   "id": "df0766cd",
   "metadata": {},
   "outputs": [
    {
     "name": "stdout",
     "output_type": "stream",
     "text": [
      "52\n"
     ]
    }
   ],
   "source": [
    "neg_score=len(negative_words)\n",
    "print(neg_score)"
   ]
  },
  {
   "cell_type": "markdown",
   "id": "84da7ab7",
   "metadata": {},
   "source": [
    "#### Polarity Score"
   ]
  },
  {
   "cell_type": "code",
   "execution_count": 23,
   "id": "21e88c2b",
   "metadata": {},
   "outputs": [
    {
     "data": {
      "text/plain": [
       "0.04"
      ]
     },
     "execution_count": 23,
     "metadata": {},
     "output_type": "execute_result"
    }
   ],
   "source": [
    "Polarity_Score = (pos_score - neg_score)/((pos_score + neg_score) + 0.000001)\n",
    "round(Polarity_Score,2)"
   ]
  },
  {
   "cell_type": "code",
   "execution_count": 24,
   "id": "08bcb4ab",
   "metadata": {},
   "outputs": [
    {
     "name": "stdout",
     "output_type": "stream",
     "text": [
      "number of words after cleaning : 199\n"
     ]
    }
   ],
   "source": [
    "word_count = len(new_texts)\n",
    "print(\"number of words after cleaning :\",word_count)"
   ]
  },
  {
   "cell_type": "markdown",
   "id": "16495ba1",
   "metadata": {},
   "source": [
    "#### Subjectivity Score"
   ]
  },
  {
   "cell_type": "code",
   "execution_count": 25,
   "id": "841713a3",
   "metadata": {},
   "outputs": [
    {
     "data": {
      "text/plain": [
       "0.54"
      ]
     },
     "execution_count": 25,
     "metadata": {},
     "output_type": "execute_result"
    }
   ],
   "source": [
    "Subjectivity_Score = (pos_score + neg_score)/ ((word_count) + 0.000001)\n",
    "round(Subjectivity_Score,2)"
   ]
  },
  {
   "cell_type": "markdown",
   "id": "0d7c370e",
   "metadata": {},
   "source": [
    "# Analysis of Readability"
   ]
  },
  {
   "cell_type": "code",
   "execution_count": 26,
   "id": "10209a7a",
   "metadata": {},
   "outputs": [
    {
     "data": {
      "text/plain": [
       "483"
      ]
     },
     "execution_count": 26,
     "metadata": {},
     "output_type": "execute_result"
    }
   ],
   "source": [
    "import nltk\n",
    "from nltk.tokenize import word_tokenize\n",
    "word_tokens = nltk.word_tokenize(texts)\n",
    "No_of_words = len(word_tokens)\n",
    "No_of_words"
   ]
  },
  {
   "cell_type": "code",
   "execution_count": 27,
   "id": "bfac2ab7",
   "metadata": {},
   "outputs": [
    {
     "data": {
      "text/plain": [
       "16"
      ]
     },
     "execution_count": 27,
     "metadata": {},
     "output_type": "execute_result"
    }
   ],
   "source": [
    "sent_tokens = nltk.sent_tokenize(texts)\n",
    "No_of_sents = len(sent_tokens)\n",
    "No_of_sents "
   ]
  },
  {
   "cell_type": "markdown",
   "id": "1576acfe",
   "metadata": {},
   "source": [
    "### Average sentence Length\n"
   ]
  },
  {
   "cell_type": "code",
   "execution_count": 28,
   "id": "11d6a7ec",
   "metadata": {},
   "outputs": [
    {
     "data": {
      "text/plain": [
       "30.19"
      ]
     },
     "execution_count": 28,
     "metadata": {},
     "output_type": "execute_result"
    }
   ],
   "source": [
    "Avg_Sents_Length = No_of_words / No_of_sents\n",
    "round(Avg_Sents_Length,2)"
   ]
  },
  {
   "cell_type": "markdown",
   "id": "bc20ee3d",
   "metadata": {},
   "source": [
    "### Percentage of Complex words\n",
    "Complex words: words with more than 2 syllable are called complex words"
   ]
  },
  {
   "cell_type": "code",
   "execution_count": 29,
   "id": "eba6a8b1",
   "metadata": {},
   "outputs": [
    {
     "name": "stdout",
     "output_type": "stream",
     "text": [
      "Number of complex words: 78\n",
      "Total number of words: 2656\n"
     ]
    }
   ],
   "source": [
    "from nltk.corpus import cmudict\n",
    "cmud = cmudict.dict()\n",
    "\n",
    "# Defining a function to count syllables in a word\n",
    "def count_syllables(word):\n",
    "    phonemes = cmud[word.lower()][0] \n",
    "    return len([s for s in phonemes if s[-1].isdigit()])\n",
    "\n",
    "# Identifing complex words\n",
    "w_tokens = [i for i in word_tokens if i in cmud]\n",
    "complex_words = [word for word in w_tokens if count_syllables(word) > 2]\n",
    "\n",
    "# Calculatingnumber of complex words\n",
    "num_complex_words = len(complex_words)\n",
    "\n",
    "print(\"Number of complex words:\", num_complex_words)\n",
    "print(\"Total number of words:\", len(texts))"
   ]
  },
  {
   "cell_type": "code",
   "execution_count": 30,
   "id": "e982c0a1",
   "metadata": {},
   "outputs": [
    {
     "data": {
      "text/plain": [
       "34.05"
      ]
     },
     "execution_count": 30,
     "metadata": {},
     "output_type": "execute_result"
    }
   ],
   "source": [
    "Perc_of_Complex_words = len(texts) / num_complex_words\n",
    "round(Perc_of_Complex_words,2)"
   ]
  },
  {
   "cell_type": "markdown",
   "id": "77e948d1",
   "metadata": {},
   "source": [
    "### Fog Index"
   ]
  },
  {
   "cell_type": "code",
   "execution_count": 31,
   "id": "95fb10bb",
   "metadata": {},
   "outputs": [
    {
     "name": "stdout",
     "output_type": "stream",
     "text": [
      "Average sentence length: 16.0\n"
     ]
    }
   ],
   "source": [
    "# Tokenize each sentence into words\n",
    "words = [word_tokens for sentence in sent_tokens]\n",
    "\n",
    "# Calculate the average sentence length\n",
    "avg_sent_len = sum(No_of_sents for sentence in words) / No_of_sents\n",
    "\n",
    "print(\"Average sentence length:\", avg_sent_len)\n"
   ]
  },
  {
   "cell_type": "code",
   "execution_count": 32,
   "id": "38f5a93b",
   "metadata": {},
   "outputs": [
    {
     "data": {
      "text/plain": [
       "20.02"
      ]
     },
     "execution_count": 32,
     "metadata": {},
     "output_type": "execute_result"
    }
   ],
   "source": [
    "Fog_index = 0.4 * (avg_sent_len + Perc_of_Complex_words)\n",
    "round(Fog_index,2)"
   ]
  },
  {
   "cell_type": "markdown",
   "id": "5b4aacea",
   "metadata": {},
   "source": [
    "# Average Number of Words Per Sentence"
   ]
  },
  {
   "cell_type": "code",
   "execution_count": 33,
   "id": "45da1407",
   "metadata": {},
   "outputs": [
    {
     "data": {
      "text/plain": [
       "30.19"
      ]
     },
     "execution_count": 33,
     "metadata": {},
     "output_type": "execute_result"
    }
   ],
   "source": [
    "avg_no_of_words_per_sent = No_of_words / No_of_sents\n",
    "round(avg_no_of_words_per_sent,2)"
   ]
  },
  {
   "cell_type": "markdown",
   "id": "f2d9b493",
   "metadata": {},
   "source": [
    "# Complex Word Count"
   ]
  },
  {
   "cell_type": "code",
   "execution_count": 34,
   "id": "75304424",
   "metadata": {},
   "outputs": [
    {
     "name": "stdout",
     "output_type": "stream",
     "text": [
      "complex word count: 78\n"
     ]
    }
   ],
   "source": [
    "from nltk.corpus import cmudict\n",
    "cmud = cmudict.dict()\n",
    "\n",
    "# Defining a function to count syllables in a word\n",
    "def count_syllables(word):\n",
    "    phonemes = cmud[word.lower()][0] \n",
    "    return len([s for s in phonemes if s[-1].isdigit()])\n",
    "\n",
    "# Identifing complex words\n",
    "w_tokens = [i for i in word_tokens if i in cmud]\n",
    "complex_words = [word for word in w_tokens if count_syllables(word) > 2]\n",
    "\n",
    "# Calculatingnumber of complex words\n",
    "num_complex_words = len(complex_words)\n",
    "\n",
    "print(\"complex word count:\", num_complex_words)"
   ]
  },
  {
   "cell_type": "markdown",
   "id": "99ea5188",
   "metadata": {},
   "source": [
    "# Word Count\n",
    "number of words after cleaning"
   ]
  },
  {
   "cell_type": "code",
   "execution_count": 35,
   "id": "b4fb0c72",
   "metadata": {},
   "outputs": [
    {
     "data": {
      "text/plain": [
       "199"
      ]
     },
     "execution_count": 35,
     "metadata": {},
     "output_type": "execute_result"
    }
   ],
   "source": [
    "len(new_texts)"
   ]
  },
  {
   "cell_type": "markdown",
   "id": "ca8076ff",
   "metadata": {},
   "source": [
    "# Syllable Count Per Word"
   ]
  },
  {
   "cell_type": "code",
   "execution_count": 36,
   "id": "6f0b4e4f",
   "metadata": {},
   "outputs": [
    {
     "name": "stdout",
     "output_type": "stream",
     "text": [
      "Enter a word to get syllable: leader\n",
      "Number of syllable in a word : 2\n"
     ]
    }
   ],
   "source": [
    "word = input(\"Enter a word to get syllable: \")\n",
    "def count_syllables(word):\n",
    "    phonemes = cmud[word.lower()][0] \n",
    "    return len([s for s in phonemes if s[-1].isdigit()])\n",
    "\n",
    "print(\"Number of syllable in a word :\",count_syllables(word))"
   ]
  },
  {
   "cell_type": "markdown",
   "id": "1d3a18f6",
   "metadata": {},
   "source": [
    "# Personal Pronouns"
   ]
  },
  {
   "cell_type": "code",
   "execution_count": 37,
   "id": "0b8e0d2d",
   "metadata": {},
   "outputs": [
    {
     "name": "stdout",
     "output_type": "stream",
     "text": [
      "Personal pronoun frequency: {'her': 1, 'they': 7, 'you': 1, 'it': 5, 'we': 6, 'us': 1, 'he': 2}\n",
      "total number of pronouns in a article : 23\n"
     ]
    }
   ],
   "source": [
    "import re\n",
    "\n",
    "# Define a regex pattern to match personal pronouns\n",
    "pattern = r'\\b(I|you|he|she|it|we|they|me|him|her|us|them)\\b'\n",
    "\n",
    "# Count the frequency of personal pronouns\n",
    "pronoun_freq = {}\n",
    "for pronoun in re.findall(pattern, texts, re.IGNORECASE):\n",
    "    pronoun = pronoun.lower()\n",
    "    if pronoun in pronoun_freq:\n",
    "        pronoun_freq[pronoun] += 1\n",
    "    else:\n",
    "        pronoun_freq[pronoun] = 1\n",
    "\n",
    "print(\"Personal pronoun frequency:\", pronoun_freq)\n",
    "def returnSum(dict):\n",
    " \n",
    "    sum = 0\n",
    "    for i in pronoun_freq.values():\n",
    "        sum = sum + i\n",
    " \n",
    "    return sum\n",
    "print(\"total number of pronouns in a article :\",returnSum(pronoun_freq))"
   ]
  },
  {
   "cell_type": "markdown",
   "id": "e3fc87f8",
   "metadata": {},
   "source": [
    "# Average Word Length"
   ]
  },
  {
   "cell_type": "code",
   "execution_count": 38,
   "id": "5bde37d9",
   "metadata": {},
   "outputs": [
    {
     "name": "stdout",
     "output_type": "stream",
     "text": [
      "Average word length: 4.47\n"
     ]
    }
   ],
   "source": [
    "# Calculate the total number of characters in all words\n",
    "total_chars = sum(len(word) for word in word_tokens)\n",
    "\n",
    "avg_word_length = total_chars / No_of_words\n",
    "\n",
    "print(\"Average word length:\", round(avg_word_length,2))\n"
   ]
  },
  {
   "cell_type": "code",
   "execution_count": null,
   "id": "63dc25ad",
   "metadata": {},
   "outputs": [],
   "source": []
  },
  {
   "cell_type": "code",
   "execution_count": null,
   "id": "819012c5",
   "metadata": {},
   "outputs": [],
   "source": []
  }
 ],
 "metadata": {
  "kernelspec": {
   "display_name": "Python 3",
   "language": "python",
   "name": "python3"
  },
  "language_info": {
   "codemirror_mode": {
    "name": "ipython",
    "version": 3
   },
   "file_extension": ".py",
   "mimetype": "text/x-python",
   "name": "python",
   "nbconvert_exporter": "python",
   "pygments_lexer": "ipython3",
   "version": "3.8.8"
  }
 },
 "nbformat": 4,
 "nbformat_minor": 5
}
