{
 "cells": [
  {
   "cell_type": "markdown",
   "id": "b9312f26",
   "metadata": {},
   "source": [
    "# Data scraping"
   ]
  },
  {
   "cell_type": "code",
   "execution_count": 1,
   "id": "ef4785ca",
   "metadata": {},
   "outputs": [],
   "source": [
    "import nltk\n",
    "import requests\n",
    "from bs4 import BeautifulSoup"
   ]
  },
  {
   "cell_type": "code",
   "execution_count": 2,
   "id": "ac2f2459",
   "metadata": {},
   "outputs": [],
   "source": [
    "req = requests.get(\"https://insights.blackcoffer.com/difference-between-artificial-intelligence-machine-learning-statistics-and-data-mining/\")"
   ]
  },
  {
   "cell_type": "code",
   "execution_count": 3,
   "id": "45f9fa09",
   "metadata": {},
   "outputs": [],
   "source": [
    "soup = BeautifulSoup(req.content, \"html.parser\")\n",
    "res = soup.title\n",
    "paras = soup.find_all('p')"
   ]
  },
  {
   "cell_type": "code",
   "execution_count": 4,
   "id": "dbb256b2",
   "metadata": {
    "scrolled": true
   },
   "outputs": [
    {
     "name": "stdout",
     "output_type": "stream",
     "text": [
      "“Data is the new oil” has become the most important trendline of the 21st century. The reason for this is the advancements in the fields related to data analysis. The field of AI Machine Learning Statistics and Data Mining all deal with data and are developing at such a staggering pace, that these fields have become the most popular buzzwords these days. Buzzwords are originated through technical terms but often the underlying essence is ignored through fashionable use and mainly used to impress. This is the main reason for the misconception amongst people. AI, ML, Stats, Data Mining, and many other fields related to the analysis of data are most often mistook for one and the same thing, thus all these words are often used interchangeably to convey one and the same thing. But this is not true at all! The only similarity between these disciplines is that all of these disciplines are related to the analysis of the data and converting this data into “information”. In academics, while learning AI Machine Learning Statistics and Data Mining, the academic approach only wander in the technical definitions and concepts but the underlying essence and the aim of the discipline remain unexplored, same is the case with most of the articles out there which try to explain the difference. Thus, becoming the primary cause of confusion between learners. Hence, this article explains the difference by explaining the philosophy and the aims of each of the disciplines rather than wandering in the technical definitions. The essential difference between these disciplines lies in their “aims” and the approach taken to achieve those aims. The aim of Artificial intelligence is to understand intelligent entities. Then to satisfy this aim, we must first understand what is intelligence and what makes an agent intelligent agent? The answer to all these questions can be found by studying intelligent agents and the best example of an intelligent agent can be found by just standing in front of a mirror! Yes! Humans are the best examples of intelligent entities. Thus, in the 1900s, researchers began exploring the thought process, the reasoning process of humans as human beings were considered as an ideal intelligent agent. Mimicking human behavior became the aim of AI in the initial years of the research. After setting this goal, studies and experiments began and the most famous experiment conducted in the initial years to achieve this aim was the Turing Test! Turing defined intelligent behavior as the ability to achieve human-level performance in all cognitive tasks, sufficient to fool an interrogator. But this test received criticism as only mimicking human behavior is not exactly intelligence. Because intelligence should be related to the working of the human brain as without the human brain, intelligence has no meaning! Thus, mimicking human thought processes and reasoning became the transformed aim. The field of Psychology and philosophy also resonate with this aim that is to understand the human thought process. The difference is that AI not only tries to understand the thought process but to mimic it, build it. The collaboration of these fields resulted in models such as Neural Networks which try to mimic the function of neurons present in the human brain. So, basically, this initial aim was human-centered and humans were considered as the ideal intelligent agent. Concurrently, the field of computer science was developing at a greater pace. With the advances in computer science, the experiments and theories could be easily tested and validated. As programs were being applied to solve real-life problems, it was found that computers performed better than humans at some tasks that are really complex for humans. One of the best examples of this could be the chess-playing program. An AI program defeated the world’s best chess player Garry Kasparov. This incident indicated that human intelligence is not the ultimate intelligence or else a human would have been able to defeat the AI program. This leads to a question, is human intelligence the ideal intelligence? As computers became more advanced, they proved to be better than humans at certain complex tasks. That is why the new definition of intelligence was being related to the ability to solve cognitive tasks or problems. So, rather than considering the nature of agents, researchers began to study the nature of intelligence itself. Then the question comes how to test or validate intelligence? The best way to test intelligence is to solve cognitive problems. An agent can be said intelligent only if it can solve a complex problem. The problem-solving approach can be easily tested and validated on computers. Thus, some researchers began studying the ideal intelligence, and the selected agent to validate the experiments was the computer. So, a computer and problem-solving approach were adopted. So, the human-centered approach and computer, problem-solving approach are the two main aims of AI. Both of these fields have contributed to the field by giving valuable insights. Both the aims are important and both of these collaboratively form the main aim of AI! In the problem-solving approach, there is a big challenge that AI has to overcome in order to achieve its aim. Consider the example of solving a math problem. There are two cases by which intelligence can be tested in this problem-solving approach. Let us say two math problems are given for you to solve. The first problem is familiar to you and the second problem is not. Consider the first problem. The first problem is familiar to you, that means you know how to solve such kind of problems as you have already solved some similar problems in the past. So, there comes a question, how our mind is able to solve that problem? The answer is, that you have solved similar problems in the past, thus you have learned from the past data, how to solve such problems, thus even if you haven’t seen that problem in the past, you will still be able to solve similar problems. This is one form of intelligence. Consider another case where you are given a second problem where you have not solved such kind of problems in the past. Then to solve this problem, you will try to consciously gather and manipulate the given information so that you reach a certain conclusion. This kind of approach does not necessarily rely on the past data but completely on the reasoning process. This is the second kind of intelligence. For AI to build intelligent agents, both of these kinds of intelligence must be developed in the agent. But, the reality is that AI has reached the point where it is able to build agents which can only learn from past data and find some useful information. AI today has not reached a point where it can build agents who can think on their own. That is the second type of intelligence. So, the way AI is able to implement the first type of intelligence is through Machine Learning! So, the domain of AI which focuses solely on implementing the first kind of intelligence is in fact Machine Learning. That is the reason why ML is called the subset of AI! So, this is the main difference between AI and ML. Technically speaking, “It is the field of study that gives computers the ability to learn from past data and find some meaningful conclusions, patterns without being explicitly programmed”. This statement needs some elaboration. The essence of ML is related to the process of “Generalization” and learning from past data. Generalization is an abstraction by which common properties of specific instances are formulated as general concepts or claims. Consider how we humans recognize daily life objects. If we see an animal, then we can easily recognize if it is a “dog” or a “cat”. It is a very trivial task for us but have you ever wondered how our mind is able to do it? The answer is Generalization! If you were given a picture of a dog, you can easily recognize that it is a picture of a dog, because, our minds have abstracted the description of a dog and formulated it into a “concept” of what a dog is and these concepts became better and better as we learned from the past experiences of a dog. So, the way we think is dependent on the fact that things are represented as generalized concepts in our minds. With generalization only, can come real “information”. So, we try to give computers the ability to generalize the “raw data” and convert it into “information” which can be patterns and trends in the data on their own. This is the discipline that concerns the collection, organization, analysis, interpretation, and presentation of data. Statistics tries to deal with data with the only aim that is to explain it. So, it is the study of explaining the data itself! Statistics has two main domains which are Descriptive statistics and Inferential statistics. Descriptive statistics deals with the explanation or description of data thus the name “Descriptive” statistics. It tries to explain as much information as possible, easily about the whole large data which would be a very complex task otherwise. Inferential statistics try to make accurate inferences from the available small data. We use inference in many tasks in our daily lives. Consider a simple case of cooking a soup. After completing the recipe, you will taste a small sample, that is, a spoonful of the soup to check if the soup tastes good or bad. Depending upon the result of the sample, you make an inference about the whole soup that if the soup as a whole, good or bad. Similarly, in statistics, there are cases where you have to apply inference to have meaningful information. For example, consider a case where you cannot gather the whole data because it is very time-consuming and costly. In these cases, applying inference based on the available sample introduces uncertainty. That is where inferential statistics come for help. So, the use of data in the context of uncertainty and decision-making in the face of uncertainty is what statistics deals with. So, however, and whatever the data, statistics tries to explain that data. This aim does not resonate with that of AI and ML, but statistics help these fields to correctly interpret the data! “Data”, is not useful at all in its raw form. Consider examples of sensors used in industrial applications. These sensors might be used in a manufacturing plant to sense different properties like temperature, pressure, etc. The raw data generated by these sensors are not useful until and unless it is converted to a suitable form, then processed, analyzed to gather valuable insights, which can be used to solve a problem! Due to its unique aim of capturing the essence of very large datasets, to gather insights, Data Mining is also referred to as “Knowledge Discovery”. That is why, Carly Fiorina, former CEO of Hewlett-Packard once said, “The goal is to turn data into information and information into Insight”. This statement completely explains the aim of Data Mining! So, the difference between AI Machine Learning Statistics and Data Mining lies in their aims. But the approaches taken in all of these fields, help in one way or the other in fulfilling the aims of the other fields. This is the beauty of these fields!\n"
     ]
    }
   ],
   "source": [
    "texts = \" \".join([paragraph.text.strip() for paragraph in paras])\n",
    "print(texts)"
   ]
  },
  {
   "cell_type": "code",
   "execution_count": 5,
   "id": "e79f5f60",
   "metadata": {},
   "outputs": [
    {
     "data": {
      "text/plain": [
       "11249"
      ]
     },
     "execution_count": 5,
     "metadata": {},
     "output_type": "execute_result"
    }
   ],
   "source": [
    "len(texts)"
   ]
  },
  {
   "cell_type": "markdown",
   "id": "db8f1fcc",
   "metadata": {},
   "source": [
    "Removing Punctuation"
   ]
  },
  {
   "cell_type": "code",
   "execution_count": 6,
   "id": "5285c8a8",
   "metadata": {},
   "outputs": [
    {
     "data": {
      "text/plain": [
       "11249"
      ]
     },
     "execution_count": 6,
     "metadata": {},
     "output_type": "execute_result"
    }
   ],
   "source": [
    "import re\n",
    "import string\n",
    "texts = re.sub(r'[\\'\\“\\”\\()\\%\\,\\-\\'\\’\\?\\ ]', ' ', texts)\n",
    "texts[0:200]\n",
    "len(texts)"
   ]
  },
  {
   "cell_type": "markdown",
   "id": "4fafe7be",
   "metadata": {},
   "source": [
    "# Removing Stopwords"
   ]
  },
  {
   "cell_type": "code",
   "execution_count": 7,
   "id": "089b8663",
   "metadata": {},
   "outputs": [],
   "source": [
    "from nltk.tokenize import word_tokenize"
   ]
  },
  {
   "cell_type": "code",
   "execution_count": 8,
   "id": "280876b0",
   "metadata": {},
   "outputs": [
    {
     "data": {
      "text/plain": [
       "['Data',\n",
       " 'is',\n",
       " 'the',\n",
       " 'new',\n",
       " 'oil',\n",
       " 'has',\n",
       " 'become',\n",
       " 'the',\n",
       " 'most',\n",
       " 'important',\n",
       " 'trendline',\n",
       " 'of',\n",
       " 'the',\n",
       " '21st',\n",
       " 'century',\n",
       " '.',\n",
       " 'The',\n",
       " 'reason',\n",
       " 'for',\n",
       " 'this',\n",
       " 'is',\n",
       " 'the',\n",
       " 'advancements',\n",
       " 'in',\n",
       " 'the',\n",
       " 'fields',\n",
       " 'related',\n",
       " 'to',\n",
       " 'data',\n",
       " 'analysis',\n",
       " '.',\n",
       " 'The',\n",
       " 'field',\n",
       " 'of',\n",
       " 'AI',\n",
       " 'Machine',\n",
       " 'Learning',\n",
       " 'Statistics',\n",
       " 'and',\n",
       " 'Data',\n",
       " 'Mining',\n",
       " 'all',\n",
       " 'deal',\n",
       " 'with',\n",
       " 'data',\n",
       " 'and',\n",
       " 'are',\n",
       " 'developing',\n",
       " 'at',\n",
       " 'such',\n",
       " 'a',\n",
       " 'staggering',\n",
       " 'pace',\n",
       " 'that',\n",
       " 'these',\n",
       " 'fields',\n",
       " 'have',\n",
       " 'become',\n",
       " 'the',\n",
       " 'most',\n",
       " 'popular',\n",
       " 'buzzwords',\n",
       " 'these',\n",
       " 'days',\n",
       " '.',\n",
       " 'Buzzwords',\n",
       " 'are',\n",
       " 'originated',\n",
       " 'through',\n",
       " 'technical',\n",
       " 'terms',\n",
       " 'but',\n",
       " 'often',\n",
       " 'the',\n",
       " 'underlying',\n",
       " 'essence',\n",
       " 'is',\n",
       " 'ignored',\n",
       " 'through',\n",
       " 'fashionable',\n",
       " 'use',\n",
       " 'and',\n",
       " 'mainly',\n",
       " 'used',\n",
       " 'to',\n",
       " 'impress',\n",
       " '.',\n",
       " 'This',\n",
       " 'is',\n",
       " 'the',\n",
       " 'main',\n",
       " 'reason',\n",
       " 'for',\n",
       " 'the',\n",
       " 'misconception',\n",
       " 'amongst',\n",
       " 'people',\n",
       " '.',\n",
       " 'AI',\n",
       " 'ML',\n",
       " 'Stats',\n",
       " 'Data',\n",
       " 'Mining',\n",
       " 'and',\n",
       " 'many',\n",
       " 'other',\n",
       " 'fields',\n",
       " 'related',\n",
       " 'to',\n",
       " 'the',\n",
       " 'analysis',\n",
       " 'of',\n",
       " 'data',\n",
       " 'are',\n",
       " 'most',\n",
       " 'often',\n",
       " 'mistook',\n",
       " 'for',\n",
       " 'one',\n",
       " 'and',\n",
       " 'the',\n",
       " 'same',\n",
       " 'thing',\n",
       " 'thus',\n",
       " 'all',\n",
       " 'these',\n",
       " 'words',\n",
       " 'are',\n",
       " 'often',\n",
       " 'used',\n",
       " 'interchangeably',\n",
       " 'to',\n",
       " 'convey',\n",
       " 'one',\n",
       " 'and',\n",
       " 'the',\n",
       " 'same',\n",
       " 'thing',\n",
       " '.',\n",
       " 'But',\n",
       " 'this',\n",
       " 'is',\n",
       " 'not',\n",
       " 'true',\n",
       " 'at',\n",
       " 'all',\n",
       " '!',\n",
       " 'The',\n",
       " 'only',\n",
       " 'similarity',\n",
       " 'between',\n",
       " 'these',\n",
       " 'disciplines',\n",
       " 'is',\n",
       " 'that',\n",
       " 'all',\n",
       " 'of',\n",
       " 'these',\n",
       " 'disciplines',\n",
       " 'are',\n",
       " 'related',\n",
       " 'to',\n",
       " 'the',\n",
       " 'analysis',\n",
       " 'of',\n",
       " 'the',\n",
       " 'data',\n",
       " 'and',\n",
       " 'converting',\n",
       " 'this',\n",
       " 'data',\n",
       " 'into',\n",
       " 'information',\n",
       " '.',\n",
       " 'In',\n",
       " 'academics',\n",
       " 'while',\n",
       " 'learning',\n",
       " 'AI',\n",
       " 'Machine',\n",
       " 'Learning',\n",
       " 'Statistics',\n",
       " 'and',\n",
       " 'Data',\n",
       " 'Mining',\n",
       " 'the',\n",
       " 'academic',\n",
       " 'approach',\n",
       " 'only',\n",
       " 'wander',\n",
       " 'in',\n",
       " 'the',\n",
       " 'technical',\n",
       " 'definitions',\n",
       " 'and',\n",
       " 'concepts',\n",
       " 'but',\n",
       " 'the',\n",
       " 'underlying',\n",
       " 'essence',\n",
       " 'and',\n",
       " 'the',\n",
       " 'aim',\n",
       " 'of',\n",
       " 'the',\n",
       " 'discipline',\n",
       " 'remain',\n",
       " 'unexplored',\n",
       " 'same',\n",
       " 'is',\n",
       " 'the',\n",
       " 'case',\n",
       " 'with',\n",
       " 'most',\n",
       " 'of',\n",
       " 'the',\n",
       " 'articles',\n",
       " 'out',\n",
       " 'there',\n",
       " 'which',\n",
       " 'try',\n",
       " 'to',\n",
       " 'explain',\n",
       " 'the',\n",
       " 'difference',\n",
       " '.',\n",
       " 'Thus',\n",
       " 'becoming',\n",
       " 'the',\n",
       " 'primary',\n",
       " 'cause',\n",
       " 'of',\n",
       " 'confusion',\n",
       " 'between',\n",
       " 'learners',\n",
       " '.',\n",
       " 'Hence',\n",
       " 'this',\n",
       " 'article',\n",
       " 'explains',\n",
       " 'the',\n",
       " 'difference',\n",
       " 'by',\n",
       " 'explaining',\n",
       " 'the',\n",
       " 'philosophy',\n",
       " 'and',\n",
       " 'the',\n",
       " 'aims',\n",
       " 'of',\n",
       " 'each',\n",
       " 'of',\n",
       " 'the',\n",
       " 'disciplines',\n",
       " 'rather',\n",
       " 'than',\n",
       " 'wandering',\n",
       " 'in',\n",
       " 'the',\n",
       " 'technical',\n",
       " 'definitions',\n",
       " '.',\n",
       " 'The',\n",
       " 'essential',\n",
       " 'difference',\n",
       " 'between',\n",
       " 'these',\n",
       " 'disciplines',\n",
       " 'lies',\n",
       " 'in',\n",
       " 'their',\n",
       " 'aims',\n",
       " 'and',\n",
       " 'the',\n",
       " 'approach',\n",
       " 'taken',\n",
       " 'to',\n",
       " 'achieve',\n",
       " 'those',\n",
       " 'aims',\n",
       " '.',\n",
       " 'The',\n",
       " 'aim',\n",
       " 'of',\n",
       " 'Artificial',\n",
       " 'intelligence',\n",
       " 'is',\n",
       " 'to',\n",
       " 'understand',\n",
       " 'intelligent',\n",
       " 'entities',\n",
       " '.',\n",
       " 'Then',\n",
       " 'to',\n",
       " 'satisfy',\n",
       " 'this',\n",
       " 'aim',\n",
       " 'we',\n",
       " 'must',\n",
       " 'first',\n",
       " 'understand',\n",
       " 'what',\n",
       " 'is',\n",
       " 'intelligence',\n",
       " 'and',\n",
       " 'what',\n",
       " 'makes',\n",
       " 'an',\n",
       " 'agent',\n",
       " 'intelligent',\n",
       " 'agent',\n",
       " 'The',\n",
       " 'answer',\n",
       " 'to',\n",
       " 'all',\n",
       " 'these',\n",
       " 'questions',\n",
       " 'can',\n",
       " 'be',\n",
       " 'found',\n",
       " 'by',\n",
       " 'studying',\n",
       " 'intelligent',\n",
       " 'agents',\n",
       " 'and',\n",
       " 'the',\n",
       " 'best',\n",
       " 'example',\n",
       " 'of',\n",
       " 'an',\n",
       " 'intelligent',\n",
       " 'agent',\n",
       " 'can',\n",
       " 'be',\n",
       " 'found',\n",
       " 'by',\n",
       " 'just',\n",
       " 'standing',\n",
       " 'in',\n",
       " 'front',\n",
       " 'of',\n",
       " 'a',\n",
       " 'mirror',\n",
       " '!',\n",
       " 'Yes',\n",
       " '!',\n",
       " 'Humans',\n",
       " 'are',\n",
       " 'the',\n",
       " 'best',\n",
       " 'examples',\n",
       " 'of',\n",
       " 'intelligent',\n",
       " 'entities',\n",
       " '.',\n",
       " 'Thus',\n",
       " 'in',\n",
       " 'the',\n",
       " '1900s',\n",
       " 'researchers',\n",
       " 'began',\n",
       " 'exploring',\n",
       " 'the',\n",
       " 'thought',\n",
       " 'process',\n",
       " 'the',\n",
       " 'reasoning',\n",
       " 'process',\n",
       " 'of',\n",
       " 'humans',\n",
       " 'as',\n",
       " 'human',\n",
       " 'beings',\n",
       " 'were',\n",
       " 'considered',\n",
       " 'as',\n",
       " 'an',\n",
       " 'ideal',\n",
       " 'intelligent',\n",
       " 'agent',\n",
       " '.',\n",
       " 'Mimicking',\n",
       " 'human',\n",
       " 'behavior',\n",
       " 'became',\n",
       " 'the',\n",
       " 'aim',\n",
       " 'of',\n",
       " 'AI',\n",
       " 'in',\n",
       " 'the',\n",
       " 'initial',\n",
       " 'years',\n",
       " 'of',\n",
       " 'the',\n",
       " 'research',\n",
       " '.',\n",
       " 'After',\n",
       " 'setting',\n",
       " 'this',\n",
       " 'goal',\n",
       " 'studies',\n",
       " 'and',\n",
       " 'experiments',\n",
       " 'began',\n",
       " 'and',\n",
       " 'the',\n",
       " 'most',\n",
       " 'famous',\n",
       " 'experiment',\n",
       " 'conducted',\n",
       " 'in',\n",
       " 'the',\n",
       " 'initial',\n",
       " 'years',\n",
       " 'to',\n",
       " 'achieve',\n",
       " 'this',\n",
       " 'aim',\n",
       " 'was',\n",
       " 'the',\n",
       " 'Turing',\n",
       " 'Test',\n",
       " '!',\n",
       " 'Turing',\n",
       " 'defined',\n",
       " 'intelligent',\n",
       " 'behavior',\n",
       " 'as',\n",
       " 'the',\n",
       " 'ability',\n",
       " 'to',\n",
       " 'achieve',\n",
       " 'human',\n",
       " 'level',\n",
       " 'performance',\n",
       " 'in',\n",
       " 'all',\n",
       " 'cognitive',\n",
       " 'tasks',\n",
       " 'sufficient',\n",
       " 'to',\n",
       " 'fool',\n",
       " 'an',\n",
       " 'interrogator',\n",
       " '.',\n",
       " 'But',\n",
       " 'this',\n",
       " 'test',\n",
       " 'received',\n",
       " 'criticism',\n",
       " 'as',\n",
       " 'only',\n",
       " 'mimicking',\n",
       " 'human',\n",
       " 'behavior',\n",
       " 'is',\n",
       " 'not',\n",
       " 'exactly',\n",
       " 'intelligence',\n",
       " '.',\n",
       " 'Because',\n",
       " 'intelligence',\n",
       " 'should',\n",
       " 'be',\n",
       " 'related',\n",
       " 'to',\n",
       " 'the',\n",
       " 'working',\n",
       " 'of',\n",
       " 'the',\n",
       " 'human',\n",
       " 'brain',\n",
       " 'as',\n",
       " 'without',\n",
       " 'the',\n",
       " 'human',\n",
       " 'brain',\n",
       " 'intelligence',\n",
       " 'has',\n",
       " 'no',\n",
       " 'meaning',\n",
       " '!',\n",
       " 'Thus',\n",
       " 'mimicking',\n",
       " 'human',\n",
       " 'thought',\n",
       " 'processes',\n",
       " 'and',\n",
       " 'reasoning',\n",
       " 'became',\n",
       " 'the',\n",
       " 'transformed',\n",
       " 'aim',\n",
       " '.',\n",
       " 'The',\n",
       " 'field',\n",
       " 'of',\n",
       " 'Psychology',\n",
       " 'and',\n",
       " 'philosophy',\n",
       " 'also',\n",
       " 'resonate',\n",
       " 'with',\n",
       " 'this',\n",
       " 'aim',\n",
       " 'that',\n",
       " 'is',\n",
       " 'to',\n",
       " 'understand',\n",
       " 'the',\n",
       " 'human',\n",
       " 'thought',\n",
       " 'process',\n",
       " '.',\n",
       " 'The',\n",
       " 'difference',\n",
       " 'is',\n",
       " 'that',\n",
       " 'AI',\n",
       " 'not',\n",
       " 'only',\n",
       " 'tries',\n",
       " 'to',\n",
       " 'understand',\n",
       " 'the',\n",
       " 'thought',\n",
       " 'process',\n",
       " 'but',\n",
       " 'to',\n",
       " 'mimic',\n",
       " 'it',\n",
       " 'build',\n",
       " 'it',\n",
       " '.',\n",
       " 'The',\n",
       " 'collaboration',\n",
       " 'of',\n",
       " 'these',\n",
       " 'fields',\n",
       " 'resulted',\n",
       " 'in',\n",
       " 'models',\n",
       " 'such',\n",
       " 'as',\n",
       " 'Neural',\n",
       " 'Networks',\n",
       " 'which',\n",
       " 'try',\n",
       " 'to',\n",
       " 'mimic',\n",
       " 'the',\n",
       " 'function',\n",
       " 'of',\n",
       " 'neurons',\n",
       " 'present',\n",
       " 'in',\n",
       " 'the',\n",
       " 'human',\n",
       " 'brain',\n",
       " '.',\n",
       " 'So',\n",
       " 'basically',\n",
       " 'this',\n",
       " 'initial',\n",
       " 'aim',\n",
       " 'was',\n",
       " 'human',\n",
       " 'centered',\n",
       " 'and',\n",
       " 'humans',\n",
       " 'were',\n",
       " 'considered',\n",
       " 'as',\n",
       " 'the',\n",
       " 'ideal',\n",
       " 'intelligent',\n",
       " 'agent',\n",
       " '.',\n",
       " 'Concurrently',\n",
       " 'the',\n",
       " 'field',\n",
       " 'of',\n",
       " 'computer',\n",
       " 'science',\n",
       " 'was',\n",
       " 'developing',\n",
       " 'at',\n",
       " 'a',\n",
       " 'greater',\n",
       " 'pace',\n",
       " '.',\n",
       " 'With',\n",
       " 'the',\n",
       " 'advances',\n",
       " 'in',\n",
       " 'computer',\n",
       " 'science',\n",
       " 'the',\n",
       " 'experiments',\n",
       " 'and',\n",
       " 'theories',\n",
       " 'could',\n",
       " 'be',\n",
       " 'easily',\n",
       " 'tested',\n",
       " 'and',\n",
       " 'validated',\n",
       " '.',\n",
       " 'As',\n",
       " 'programs',\n",
       " 'were',\n",
       " 'being',\n",
       " 'applied',\n",
       " 'to',\n",
       " 'solve',\n",
       " 'real',\n",
       " 'life',\n",
       " 'problems',\n",
       " 'it',\n",
       " 'was',\n",
       " 'found',\n",
       " 'that',\n",
       " 'computers',\n",
       " 'performed',\n",
       " 'better',\n",
       " 'than',\n",
       " 'humans',\n",
       " 'at',\n",
       " 'some',\n",
       " 'tasks',\n",
       " 'that',\n",
       " 'are',\n",
       " 'really',\n",
       " 'complex',\n",
       " 'for',\n",
       " 'humans',\n",
       " '.',\n",
       " 'One',\n",
       " 'of',\n",
       " 'the',\n",
       " 'best',\n",
       " 'examples',\n",
       " 'of',\n",
       " 'this',\n",
       " 'could',\n",
       " 'be',\n",
       " 'the',\n",
       " 'chess',\n",
       " 'playing',\n",
       " 'program',\n",
       " '.',\n",
       " 'An',\n",
       " 'AI',\n",
       " 'program',\n",
       " 'defeated',\n",
       " 'the',\n",
       " 'world',\n",
       " 's',\n",
       " 'best',\n",
       " 'chess',\n",
       " 'player',\n",
       " 'Garry',\n",
       " 'Kasparov',\n",
       " '.',\n",
       " 'This',\n",
       " 'incident',\n",
       " 'indicated',\n",
       " 'that',\n",
       " 'human',\n",
       " 'intelligence',\n",
       " 'is',\n",
       " 'not',\n",
       " 'the',\n",
       " 'ultimate',\n",
       " 'intelligence',\n",
       " 'or',\n",
       " 'else',\n",
       " 'a',\n",
       " 'human',\n",
       " 'would',\n",
       " 'have',\n",
       " 'been',\n",
       " 'able',\n",
       " 'to',\n",
       " 'defeat',\n",
       " 'the',\n",
       " 'AI',\n",
       " 'program',\n",
       " '.',\n",
       " 'This',\n",
       " 'leads',\n",
       " 'to',\n",
       " 'a',\n",
       " 'question',\n",
       " 'is',\n",
       " 'human',\n",
       " 'intelligence',\n",
       " 'the',\n",
       " 'ideal',\n",
       " 'intelligence',\n",
       " 'As',\n",
       " 'computers',\n",
       " 'became',\n",
       " 'more',\n",
       " 'advanced',\n",
       " 'they',\n",
       " 'proved',\n",
       " 'to',\n",
       " 'be',\n",
       " 'better',\n",
       " 'than',\n",
       " 'humans',\n",
       " 'at',\n",
       " 'certain',\n",
       " 'complex',\n",
       " 'tasks',\n",
       " '.',\n",
       " 'That',\n",
       " 'is',\n",
       " 'why',\n",
       " 'the',\n",
       " 'new',\n",
       " 'definition',\n",
       " 'of',\n",
       " 'intelligence',\n",
       " 'was',\n",
       " 'being',\n",
       " 'related',\n",
       " 'to',\n",
       " 'the',\n",
       " 'ability',\n",
       " 'to',\n",
       " 'solve',\n",
       " 'cognitive',\n",
       " 'tasks',\n",
       " 'or',\n",
       " 'problems',\n",
       " '.',\n",
       " 'So',\n",
       " 'rather',\n",
       " 'than',\n",
       " 'considering',\n",
       " 'the',\n",
       " 'nature',\n",
       " 'of',\n",
       " 'agents',\n",
       " 'researchers',\n",
       " 'began',\n",
       " 'to',\n",
       " 'study',\n",
       " 'the',\n",
       " 'nature',\n",
       " 'of',\n",
       " 'intelligence',\n",
       " 'itself',\n",
       " '.',\n",
       " 'Then',\n",
       " 'the',\n",
       " 'question',\n",
       " 'comes',\n",
       " 'how',\n",
       " 'to',\n",
       " 'test',\n",
       " 'or',\n",
       " 'validate',\n",
       " 'intelligence',\n",
       " 'The',\n",
       " 'best',\n",
       " 'way',\n",
       " 'to',\n",
       " 'test',\n",
       " 'intelligence',\n",
       " 'is',\n",
       " 'to',\n",
       " 'solve',\n",
       " 'cognitive',\n",
       " 'problems',\n",
       " '.',\n",
       " 'An',\n",
       " 'agent',\n",
       " 'can',\n",
       " 'be',\n",
       " 'said',\n",
       " 'intelligent',\n",
       " 'only',\n",
       " 'if',\n",
       " 'it',\n",
       " 'can',\n",
       " 'solve',\n",
       " 'a',\n",
       " 'complex',\n",
       " 'problem',\n",
       " '.',\n",
       " 'The',\n",
       " 'problem',\n",
       " 'solving',\n",
       " 'approach',\n",
       " 'can',\n",
       " 'be',\n",
       " 'easily',\n",
       " 'tested',\n",
       " 'and',\n",
       " 'validated',\n",
       " 'on',\n",
       " 'computers',\n",
       " '.',\n",
       " 'Thus',\n",
       " 'some',\n",
       " 'researchers',\n",
       " 'began',\n",
       " 'studying',\n",
       " 'the',\n",
       " 'ideal',\n",
       " 'intelligence',\n",
       " 'and',\n",
       " 'the',\n",
       " 'selected',\n",
       " 'agent',\n",
       " 'to',\n",
       " 'validate',\n",
       " 'the',\n",
       " 'experiments',\n",
       " 'was',\n",
       " 'the',\n",
       " 'computer',\n",
       " '.',\n",
       " 'So',\n",
       " 'a',\n",
       " 'computer',\n",
       " 'and',\n",
       " 'problem',\n",
       " 'solving',\n",
       " 'approach',\n",
       " 'were',\n",
       " 'adopted',\n",
       " '.',\n",
       " 'So',\n",
       " 'the',\n",
       " 'human',\n",
       " 'centered',\n",
       " 'approach',\n",
       " 'and',\n",
       " 'computer',\n",
       " 'problem',\n",
       " 'solving',\n",
       " 'approach',\n",
       " 'are',\n",
       " 'the',\n",
       " 'two',\n",
       " 'main',\n",
       " 'aims',\n",
       " 'of',\n",
       " 'AI',\n",
       " '.',\n",
       " 'Both',\n",
       " 'of',\n",
       " 'these',\n",
       " 'fields',\n",
       " 'have',\n",
       " 'contributed',\n",
       " 'to',\n",
       " 'the',\n",
       " 'field',\n",
       " 'by',\n",
       " 'giving',\n",
       " 'valuable',\n",
       " 'insights',\n",
       " '.',\n",
       " 'Both',\n",
       " 'the',\n",
       " 'aims',\n",
       " 'are',\n",
       " 'important',\n",
       " 'and',\n",
       " 'both',\n",
       " 'of',\n",
       " 'these',\n",
       " 'collaboratively',\n",
       " 'form',\n",
       " 'the',\n",
       " 'main',\n",
       " 'aim',\n",
       " 'of',\n",
       " 'AI',\n",
       " '!',\n",
       " 'In',\n",
       " 'the',\n",
       " 'problem',\n",
       " 'solving',\n",
       " 'approach',\n",
       " 'there',\n",
       " 'is',\n",
       " 'a',\n",
       " 'big',\n",
       " 'challenge',\n",
       " 'that',\n",
       " 'AI',\n",
       " 'has',\n",
       " 'to',\n",
       " 'overcome',\n",
       " 'in',\n",
       " 'order',\n",
       " 'to',\n",
       " 'achieve',\n",
       " 'its',\n",
       " 'aim',\n",
       " '.',\n",
       " 'Consider',\n",
       " 'the',\n",
       " 'example',\n",
       " 'of',\n",
       " 'solving',\n",
       " 'a',\n",
       " 'math',\n",
       " 'problem',\n",
       " '.',\n",
       " 'There',\n",
       " 'are',\n",
       " 'two',\n",
       " 'cases',\n",
       " 'by',\n",
       " 'which',\n",
       " 'intelligence',\n",
       " 'can',\n",
       " 'be',\n",
       " 'tested',\n",
       " 'in',\n",
       " 'this',\n",
       " 'problem',\n",
       " 'solving',\n",
       " 'approach',\n",
       " '.',\n",
       " 'Let',\n",
       " 'us',\n",
       " 'say',\n",
       " 'two',\n",
       " 'math',\n",
       " 'problems',\n",
       " 'are',\n",
       " 'given',\n",
       " 'for',\n",
       " 'you',\n",
       " 'to',\n",
       " 'solve',\n",
       " '.',\n",
       " 'The',\n",
       " 'first',\n",
       " 'problem',\n",
       " 'is',\n",
       " 'familiar',\n",
       " 'to',\n",
       " 'you',\n",
       " 'and',\n",
       " 'the',\n",
       " 'second',\n",
       " 'problem',\n",
       " 'is',\n",
       " 'not',\n",
       " '.',\n",
       " 'Consider',\n",
       " 'the',\n",
       " 'first',\n",
       " 'problem',\n",
       " '.',\n",
       " 'The',\n",
       " 'first',\n",
       " 'problem',\n",
       " 'is',\n",
       " 'familiar',\n",
       " 'to',\n",
       " 'you',\n",
       " 'that',\n",
       " 'means',\n",
       " 'you',\n",
       " 'know',\n",
       " 'how',\n",
       " 'to',\n",
       " 'solve',\n",
       " 'such',\n",
       " 'kind',\n",
       " 'of',\n",
       " 'problems',\n",
       " 'as',\n",
       " 'you',\n",
       " 'have',\n",
       " 'already',\n",
       " 'solved',\n",
       " 'some',\n",
       " 'similar',\n",
       " 'problems',\n",
       " 'in',\n",
       " 'the',\n",
       " 'past',\n",
       " '.',\n",
       " 'So',\n",
       " 'there',\n",
       " 'comes',\n",
       " 'a',\n",
       " 'question',\n",
       " ...]"
      ]
     },
     "execution_count": 8,
     "metadata": {},
     "output_type": "execute_result"
    }
   ],
   "source": [
    "token = word_tokenize(texts)\n",
    "token"
   ]
  },
  {
   "cell_type": "code",
   "execution_count": 9,
   "id": "10016a09",
   "metadata": {},
   "outputs": [],
   "source": [
    "with open(\"D:\\lab\\Dataset\\Stopwords_Blackcoffer.txt\", 'r') as file:\n",
    "    data = file.read()"
   ]
  },
  {
   "cell_type": "code",
   "execution_count": 10,
   "id": "c567cbef",
   "metadata": {},
   "outputs": [
    {
     "data": {
      "text/plain": [
       "'ERNST\\nYOUNG\\nDELOITTE\\nTOUCHE\\nKPMG\\nPRICEWATERHOUSECOOPERS\\nPRICEWATERHOUSE\\nCOOPERS\\nAFGHANI\\nARIARY\\nBAHT\\n'"
      ]
     },
     "execution_count": 10,
     "metadata": {},
     "output_type": "execute_result"
    }
   ],
   "source": [
    "data[:100]"
   ]
  },
  {
   "cell_type": "code",
   "execution_count": 11,
   "id": "d65bfa92",
   "metadata": {},
   "outputs": [
    {
     "data": {
      "text/plain": [
       "'ERNST,YOUNG,DELOITTE,TOUCHE,KPMG,PRICEWATERHOUSECOOPERS,PRICEWATERHOUSE,COOPERS,AFGHANI,ARIARY,BAHT,'"
      ]
     },
     "execution_count": 11,
     "metadata": {},
     "output_type": "execute_result"
    }
   ],
   "source": [
    "data = data.replace('\\n', ',')\n",
    "data[:100]"
   ]
  },
  {
   "cell_type": "code",
   "execution_count": 12,
   "id": "0ef23874",
   "metadata": {},
   "outputs": [
    {
     "data": {
      "text/plain": [
       "'Data oil important trendline 21st century . The advancements fields related data analysis . The field Machine Learning Statistics Data Mining deal data developing staggering pace fields popular buzzwo'"
      ]
     },
     "execution_count": 12,
     "metadata": {},
     "output_type": "execute_result"
    }
   ],
   "source": [
    "new_texts = \" \".join([i for i in token if i not in data])\n",
    "new_texts[:200]"
   ]
  },
  {
   "cell_type": "code",
   "execution_count": 13,
   "id": "ea392da4",
   "metadata": {},
   "outputs": [
    {
     "name": "stdout",
     "output_type": "stream",
     "text": [
      "length before cleaning:  11249\n",
      "length after cleaning:  6862\n"
     ]
    }
   ],
   "source": [
    "print(\"length before cleaning: \", len(texts))\n",
    "print(\"length after cleaning: \", len(new_texts))"
   ]
  },
  {
   "cell_type": "markdown",
   "id": "1f456147",
   "metadata": {},
   "source": [
    "# Negative words"
   ]
  },
  {
   "cell_type": "code",
   "execution_count": 14,
   "id": "dc3618a7",
   "metadata": {},
   "outputs": [],
   "source": [
    "with open(\"D:\\\\lab\\\\Dataset\\\\Negative_words.txt\", 'r') as file:\n",
    "    negative = file.read()"
   ]
  },
  {
   "cell_type": "code",
   "execution_count": 15,
   "id": "2123c4cb",
   "metadata": {},
   "outputs": [
    {
     "data": {
      "text/plain": [
       "'2-faced\\n2-faces\\nabnormal\\nabolish\\nabominable\\nabominably\\nabominate\\nabomination\\nabort\\naborted\\naborts\\nabrade\\nabrasive\\nabrupt\\nabruptly\\nabscond\\nabsence\\nabsent-minded\\nabsentee\\nabsurd\\nabsurdity\\nabsurdly\\nabsurdness\\n'"
      ]
     },
     "execution_count": 15,
     "metadata": {},
     "output_type": "execute_result"
    }
   ],
   "source": [
    "negative[:206]"
   ]
  },
  {
   "cell_type": "code",
   "execution_count": 16,
   "id": "28f44c97",
   "metadata": {},
   "outputs": [
    {
     "data": {
      "text/plain": [
       "'2-faced,2-faces,abnormal,abolish,abominable,abominably,abominate,abomination,abort,aborted,aborts,abrade,abrasive,abrupt,abruptly,abscond,absence,absent-minded,absentee,absurd,absurdity,absurdly,absurdness,'"
      ]
     },
     "execution_count": 16,
     "metadata": {},
     "output_type": "execute_result"
    }
   ],
   "source": [
    "negative = negative.replace('\\n', ',')\n",
    "negative[:206]"
   ]
  },
  {
   "cell_type": "code",
   "execution_count": 17,
   "id": "31a272c0",
   "metadata": {},
   "outputs": [
    {
     "name": "stdout",
     "output_type": "stream",
     "text": [
      "['oil', 'important', 'deal', 'popular', 'misconception', 'true', 'aim', 'explain', 'difference', 'confusion', 'difference', 'essential', 'difference', 'lies', 'aim', 'understand', 'satisfy', 'aim', 'understand', 'found', 'found', 'standing', 'front', 'thought', 'human', 'human', 'behavior', 'aim', 'setting', 'famous', 'aim', 'defined', 'behavior', 'ability', 'human', 'sufficient', 'fool', 'test', 'criticism', 'human', 'behavior', 'human', 'brain', 'human', 'brain', 'meaning', 'human', 'thought', 'aim', 'aim', 'understand', 'human', 'thought', 'difference', 'understand', 'thought', 'present', 'human', 'brain', 'aim', 'human', 'easily', 'tested', 'solve', 'life', 'problems', 'found', 'complex', 'human', 'human', 'defeat', 'question', 'human', 'proved', 'complex', 'ability', 'solve', 'problems', 'nature', 'nature', 'question', 'test', 'validate', 'test', 'solve', 'problems', 'solve', 'complex', 'problem', 'problem', 'easily', 'tested', 'validate', 'problem', 'human', 'problem', 'giving', 'important', 'aim', 'problem', 'big', 'order', 'aim', 'problem', 'tested', 'problem', 'problems', 'solve', 'problem', 'familiar', 'problem', 'problem', 'problem', 'familiar', 'solve', 'kind', 'problems', 'solved', 'problems', 'question', 'mind', 'solve', 'problem', 'solved', 'problems', 'solve', 'problems', 'problem', 'solve', 'problems', 'problem', 'solved', 'kind', 'problems', 'solve', 'problem', 'manipulate', 'reach', 'kind', 'kind', 'developed', 'point', 'point', 'type', 'type', 'kind', 'fact', 'difference', 'ability', 'statement', 'common', 'life', 'easily', 'dog', 'trivial', 'mind', 'dog', 'easily', 'dog', 'dog', 'concept', 'dog', 'dog', 'fact', 'ability', 'raw', 'concerns', 'presentation', 'deal', 'aim', 'explain', 'explain', 'easily', 'complex', 'make', 'accurate', 'small', 'taste', 'small', 'check', 'bad', 'make', 'bad', 'consuming', 'costly', 'decision', 'face', 'explain', 'aim', 'correctly', 'interpret', 'raw', 'sense', 'raw', 'solve', 'problem', 'aim', 'turn', 'statement', 'aim', 'difference', 'lies']\n"
     ]
    },
    {
     "data": {
      "text/plain": [
       "202"
      ]
     },
     "execution_count": 17,
     "metadata": {},
     "output_type": "execute_result"
    }
   ],
   "source": [
    "new_texts = word_tokenize(new_texts)\n",
    "negative_words = [i for i in new_texts if i in negative]\n",
    "print(negative_words)\n",
    "len(negative_words)"
   ]
  },
  {
   "cell_type": "markdown",
   "id": "0b24f011",
   "metadata": {},
   "source": [
    "# Positive words"
   ]
  },
  {
   "cell_type": "code",
   "execution_count": 18,
   "id": "4b003620",
   "metadata": {},
   "outputs": [
    {
     "data": {
      "text/plain": [
       "'a+\\nabound\\nabounds\\nabundance\\nabundant\\naccessable\\naccessible\\nacclaim\\nacclaimed\\nacclamation\\naccolade\\naccolades\\naccommodative\\naccomodative\\naccomplish\\naccomplished\\naccomplishment\\naccomplishments\\naccurate\\naccurately\\n'"
      ]
     },
     "execution_count": 18,
     "metadata": {},
     "output_type": "execute_result"
    }
   ],
   "source": [
    "with open(\"D:\\\\lab\\\\Dataset\\\\Positive_words.txt\", 'r') as file:\n",
    "    positive = file.read()\n",
    "positive[:210]    "
   ]
  },
  {
   "cell_type": "code",
   "execution_count": 19,
   "id": "66ed38c6",
   "metadata": {},
   "outputs": [
    {
     "data": {
      "text/plain": [
       "'a+,abound,abounds,abundance,abundant,accessable,accessible,acclaim,acclaimed,acclamation,accolade,accolades,accommodative,accomodative,accomplish,accomplished,accomplishment,accomplishments,accurate,accurately,'"
      ]
     },
     "execution_count": 19,
     "metadata": {},
     "output_type": "execute_result"
    }
   ],
   "source": [
    "positive = positive.replace('\\n',',')\n",
    "positive[:210]"
   ]
  },
  {
   "cell_type": "code",
   "execution_count": 20,
   "id": "fc1387e8",
   "metadata": {},
   "outputs": [
    {
     "name": "stdout",
     "output_type": "stream",
     "text": [
      "['important', 'deal', 'pace', 'popular', 'fashionable', 'impress', 'aim', 'achieve', 'aim', 'intelligence', 'understand', 'intelligent', 'satisfy', 'aim', 'understand', 'intelligence', 'intelligent', 'found', 'intelligent', 'intelligent', 'found', 'standing', 'intelligent', 'thought', 'human', 'ideal', 'intelligent', 'human', 'aim', 'setting', 'famous', 'achieve', 'aim', 'intelligent', 'ability', 'achieve', 'human', 'sufficient', 'fool', 'test', 'received', 'human', 'intelligence', 'intelligence', 'working', 'human', 'brain', 'human', 'brain', 'intelligence', 'meaning', 'human', 'thought', 'aim', 'aim', 'understand', 'human', 'thought', 'understand', 'thought', 'human', 'brain', 'aim', 'human', 'ideal', 'intelligent', 'pace', 'solve', 'life', 'found', 'performed', 'defeated', 'world', 'human', 'intelligence', 'intelligence', 'human', 'defeat', 'leads', 'question', 'human', 'intelligence', 'ideal', 'intelligence', 'advanced', 'proved', 'intelligence', 'ability', 'solve', 'intelligence', 'question', 'test', 'intelligence', 'test', 'intelligence', 'solve', 'intelligent', 'solve', 'problem', 'problem', 'ideal', 'intelligence', 'problem', 'human', 'problem', 'valuable', 'important', 'aim', 'problem', 'order', 'achieve', 'aim', 'problem', 'intelligence', 'problem', 'solve', 'problem', 'problem', 'problem', 'problem', 'solve', 'kind', 'question', 'mind', 'solve', 'problem', 'solve', 'problem', 'solve', 'intelligence', 'problem', 'kind', 'solve', 'problem', 'reach', 'kind', 'kind', 'intelligence', 'intelligent', 'intelligence', 'intelligence', 'intelligence', 'kind', 'intelligence', 'fact', 'ability', 'meaningful', 'life', 'trivial', 'mind', 'picture', 'picture', 'fact', 'ability', 'deal', 'aim', 'large', 'accurate', 'simple', 'good', 'good', 'meaningful', 'aim', 'correctly', 'suitable', 'valuable', 'solve', 'problem', 'aim', 'large', 'aim', 'beauty']\n"
     ]
    },
    {
     "data": {
      "text/plain": [
       "172"
      ]
     },
     "execution_count": 20,
     "metadata": {},
     "output_type": "execute_result"
    }
   ],
   "source": [
    "positive_words = [i for i in new_texts if i in positive]\n",
    "print(positive_words)\n",
    "len(positive_words)"
   ]
  },
  {
   "cell_type": "markdown",
   "id": "1b59646d",
   "metadata": {},
   "source": [
    "#### positive Score\n"
   ]
  },
  {
   "cell_type": "code",
   "execution_count": 21,
   "id": "7d0fbab1",
   "metadata": {},
   "outputs": [
    {
     "name": "stdout",
     "output_type": "stream",
     "text": [
      "172\n"
     ]
    }
   ],
   "source": [
    "pos_score = len(positive_words)\n",
    "print(pos_score)"
   ]
  },
  {
   "cell_type": "markdown",
   "id": "54a6cc12",
   "metadata": {},
   "source": [
    "#### Negative Score"
   ]
  },
  {
   "cell_type": "code",
   "execution_count": 22,
   "id": "df0766cd",
   "metadata": {},
   "outputs": [
    {
     "name": "stdout",
     "output_type": "stream",
     "text": [
      "202\n"
     ]
    }
   ],
   "source": [
    "neg_score=len(negative_words)\n",
    "print(neg_score)"
   ]
  },
  {
   "cell_type": "markdown",
   "id": "84da7ab7",
   "metadata": {},
   "source": [
    "#### Polarity Score"
   ]
  },
  {
   "cell_type": "code",
   "execution_count": 23,
   "id": "21e88c2b",
   "metadata": {},
   "outputs": [
    {
     "data": {
      "text/plain": [
       "-0.08"
      ]
     },
     "execution_count": 23,
     "metadata": {},
     "output_type": "execute_result"
    }
   ],
   "source": [
    "Polarity_Score = (pos_score - neg_score)/((pos_score + neg_score) + 0.000001)\n",
    "round(Polarity_Score,2)"
   ]
  },
  {
   "cell_type": "code",
   "execution_count": 24,
   "id": "08bcb4ab",
   "metadata": {},
   "outputs": [
    {
     "name": "stdout",
     "output_type": "stream",
     "text": [
      "number of words after cleaning : 962\n"
     ]
    }
   ],
   "source": [
    "word_count = len(new_texts)\n",
    "print(\"number of words after cleaning :\",word_count)"
   ]
  },
  {
   "cell_type": "markdown",
   "id": "16495ba1",
   "metadata": {},
   "source": [
    "#### Subjectivity Score"
   ]
  },
  {
   "cell_type": "code",
   "execution_count": 25,
   "id": "841713a3",
   "metadata": {},
   "outputs": [
    {
     "data": {
      "text/plain": [
       "0.39"
      ]
     },
     "execution_count": 25,
     "metadata": {},
     "output_type": "execute_result"
    }
   ],
   "source": [
    "Subjectivity_Score = (pos_score + neg_score)/ ((word_count) + 0.000001)\n",
    "round(Subjectivity_Score,2)"
   ]
  },
  {
   "cell_type": "markdown",
   "id": "0d7c370e",
   "metadata": {},
   "source": [
    "# Analysis of Readability"
   ]
  },
  {
   "cell_type": "code",
   "execution_count": 26,
   "id": "10209a7a",
   "metadata": {},
   "outputs": [
    {
     "data": {
      "text/plain": [
       "2007"
      ]
     },
     "execution_count": 26,
     "metadata": {},
     "output_type": "execute_result"
    }
   ],
   "source": [
    "import nltk\n",
    "from nltk.tokenize import word_tokenize\n",
    "word_tokens = nltk.word_tokenize(texts)\n",
    "No_of_words = len(word_tokens)\n",
    "No_of_words"
   ]
  },
  {
   "cell_type": "code",
   "execution_count": 27,
   "id": "bfac2ab7",
   "metadata": {},
   "outputs": [
    {
     "data": {
      "text/plain": [
       "104"
      ]
     },
     "execution_count": 27,
     "metadata": {},
     "output_type": "execute_result"
    }
   ],
   "source": [
    "sent_tokens = nltk.sent_tokenize(texts)\n",
    "No_of_sents = len(sent_tokens)\n",
    "No_of_sents "
   ]
  },
  {
   "cell_type": "markdown",
   "id": "1576acfe",
   "metadata": {},
   "source": [
    "### Average sentence Length\n"
   ]
  },
  {
   "cell_type": "code",
   "execution_count": 28,
   "id": "11d6a7ec",
   "metadata": {},
   "outputs": [
    {
     "data": {
      "text/plain": [
       "19.3"
      ]
     },
     "execution_count": 28,
     "metadata": {},
     "output_type": "execute_result"
    }
   ],
   "source": [
    "Avg_Sents_Length = No_of_words / No_of_sents\n",
    "round(Avg_Sents_Length,2)"
   ]
  },
  {
   "cell_type": "markdown",
   "id": "bc20ee3d",
   "metadata": {},
   "source": [
    "### Percentage of Complex words\n",
    "Complex words: words with more than 2 syllable are called complex words"
   ]
  },
  {
   "cell_type": "code",
   "execution_count": 29,
   "id": "eba6a8b1",
   "metadata": {},
   "outputs": [
    {
     "name": "stdout",
     "output_type": "stream",
     "text": [
      "Number of complex words: 282\n",
      "Total number of words: 11249\n"
     ]
    }
   ],
   "source": [
    "from nltk.corpus import cmudict\n",
    "cmud = cmudict.dict()\n",
    "\n",
    "# Defining a function to count syllables in a word\n",
    "def count_syllables(word):\n",
    "    phonemes = cmud[word.lower()][0] \n",
    "    return len([s for s in phonemes if s[-1].isdigit()])\n",
    "\n",
    "# Identifing complex words\n",
    "w_tokens = [i for i in word_tokens if i in cmud]\n",
    "complex_words = [word for word in w_tokens if count_syllables(word) > 2]\n",
    "\n",
    "# Calculatingnumber of complex words\n",
    "num_complex_words = len(complex_words)\n",
    "\n",
    "print(\"Number of complex words:\", num_complex_words)\n",
    "print(\"Total number of words:\", len(texts))"
   ]
  },
  {
   "cell_type": "code",
   "execution_count": 30,
   "id": "e982c0a1",
   "metadata": {},
   "outputs": [
    {
     "data": {
      "text/plain": [
       "39.89"
      ]
     },
     "execution_count": 30,
     "metadata": {},
     "output_type": "execute_result"
    }
   ],
   "source": [
    "Perc_of_Complex_words = len(texts) / num_complex_words\n",
    "round(Perc_of_Complex_words,2)"
   ]
  },
  {
   "cell_type": "markdown",
   "id": "77e948d1",
   "metadata": {},
   "source": [
    "### Fog Index"
   ]
  },
  {
   "cell_type": "code",
   "execution_count": 31,
   "id": "95fb10bb",
   "metadata": {},
   "outputs": [
    {
     "name": "stdout",
     "output_type": "stream",
     "text": [
      "Average sentence length: 104.0\n"
     ]
    }
   ],
   "source": [
    "# Tokenize each sentence into words\n",
    "words = [word_tokens for sentence in sent_tokens]\n",
    "\n",
    "# Calculate the average sentence length\n",
    "avg_sent_len = sum(No_of_sents for sentence in words) / No_of_sents\n",
    "\n",
    "print(\"Average sentence length:\", avg_sent_len)\n"
   ]
  },
  {
   "cell_type": "code",
   "execution_count": 32,
   "id": "38f5a93b",
   "metadata": {},
   "outputs": [
    {
     "data": {
      "text/plain": [
       "57.56"
      ]
     },
     "execution_count": 32,
     "metadata": {},
     "output_type": "execute_result"
    }
   ],
   "source": [
    "Fog_index = 0.4 * (avg_sent_len + Perc_of_Complex_words)\n",
    "round(Fog_index,2)"
   ]
  },
  {
   "cell_type": "markdown",
   "id": "5b4aacea",
   "metadata": {},
   "source": [
    "# Average Number of Words Per Sentence"
   ]
  },
  {
   "cell_type": "code",
   "execution_count": 33,
   "id": "45da1407",
   "metadata": {},
   "outputs": [
    {
     "data": {
      "text/plain": [
       "19.3"
      ]
     },
     "execution_count": 33,
     "metadata": {},
     "output_type": "execute_result"
    }
   ],
   "source": [
    "avg_no_of_words_per_sent = No_of_words / No_of_sents\n",
    "round(avg_no_of_words_per_sent,2)"
   ]
  },
  {
   "cell_type": "markdown",
   "id": "f2d9b493",
   "metadata": {},
   "source": [
    "# Complex Word Count"
   ]
  },
  {
   "cell_type": "code",
   "execution_count": 34,
   "id": "75304424",
   "metadata": {},
   "outputs": [
    {
     "name": "stdout",
     "output_type": "stream",
     "text": [
      "complex word count: 282\n"
     ]
    }
   ],
   "source": [
    "from nltk.corpus import cmudict\n",
    "cmud = cmudict.dict()\n",
    "\n",
    "# Defining a function to count syllables in a word\n",
    "def count_syllables(word):\n",
    "    phonemes = cmud[word.lower()][0] \n",
    "    return len([s for s in phonemes if s[-1].isdigit()])\n",
    "\n",
    "# Identifing complex words\n",
    "w_tokens = [i for i in word_tokens if i in cmud]\n",
    "complex_words = [word for word in w_tokens if count_syllables(word) > 2]\n",
    "\n",
    "# Calculatingnumber of complex words\n",
    "num_complex_words = len(complex_words)\n",
    "\n",
    "print(\"complex word count:\", num_complex_words)"
   ]
  },
  {
   "cell_type": "markdown",
   "id": "99ea5188",
   "metadata": {},
   "source": [
    "# Word Count\n",
    "number of words after cleaning"
   ]
  },
  {
   "cell_type": "code",
   "execution_count": 35,
   "id": "b4fb0c72",
   "metadata": {},
   "outputs": [
    {
     "data": {
      "text/plain": [
       "962"
      ]
     },
     "execution_count": 35,
     "metadata": {},
     "output_type": "execute_result"
    }
   ],
   "source": [
    "len(new_texts)"
   ]
  },
  {
   "cell_type": "markdown",
   "id": "ca8076ff",
   "metadata": {},
   "source": [
    "# Syllable Count Per Word"
   ]
  },
  {
   "cell_type": "code",
   "execution_count": 36,
   "id": "bc568045",
   "metadata": {},
   "outputs": [
    {
     "name": "stdout",
     "output_type": "stream",
     "text": [
      "Enter a word to get syllable: wandering\n",
      "Number of syllable in a word : 3\n"
     ]
    }
   ],
   "source": [
    "word = input(\"Enter a word to get syllable: \")\n",
    "def count_syllables(word):\n",
    "    phonemes = cmud[word.lower()][0] \n",
    "    return len([s for s in phonemes if s[-1].isdigit()])\n",
    "\n",
    "print(\"Number of syllable in a word :\",count_syllables(word))"
   ]
  },
  {
   "cell_type": "markdown",
   "id": "1d3a18f6",
   "metadata": {},
   "source": [
    "# Personal Pronouns"
   ]
  },
  {
   "cell_type": "code",
   "execution_count": 37,
   "id": "0b8e0d2d",
   "metadata": {},
   "outputs": [
    {
     "name": "stdout",
     "output_type": "stream",
     "text": [
      "Personal pronoun frequency: {'we': 8, 'it': 18, 'they': 1, 'us': 2, 'you': 20}\n",
      "total number of pronouns in a article : 49\n"
     ]
    }
   ],
   "source": [
    "import re\n",
    "\n",
    "# Define a regex pattern to match personal pronouns\n",
    "pattern = r'\\b(I|you|he|she|it|we|they|me|him|her|us|them)\\b'\n",
    "\n",
    "# Count the frequency of personal pronouns\n",
    "pronoun_freq = {}\n",
    "for pronoun in re.findall(pattern, texts, re.IGNORECASE):\n",
    "    pronoun = pronoun.lower()\n",
    "    if pronoun in pronoun_freq:\n",
    "        pronoun_freq[pronoun] += 1\n",
    "    else:\n",
    "        pronoun_freq[pronoun] = 1\n",
    "\n",
    "print(\"Personal pronoun frequency:\", pronoun_freq)\n",
    "def returnSum(dict):\n",
    " \n",
    "    sum = 0\n",
    "    for i in pronoun_freq.values():\n",
    "        sum = sum + i\n",
    " \n",
    "    return sum\n",
    "print(\"total number of pronouns in a article :\",returnSum(pronoun_freq))"
   ]
  },
  {
   "cell_type": "markdown",
   "id": "e3fc87f8",
   "metadata": {},
   "source": [
    "# Average Word Length"
   ]
  },
  {
   "cell_type": "code",
   "execution_count": 38,
   "id": "5bde37d9",
   "metadata": {},
   "outputs": [
    {
     "name": "stdout",
     "output_type": "stream",
     "text": [
      "Average word length: 4.59\n"
     ]
    }
   ],
   "source": [
    "# Calculate the total number of characters in all words\n",
    "total_chars = sum(len(word) for word in word_tokens)\n",
    "\n",
    "avg_word_length = total_chars / No_of_words\n",
    "\n",
    "print(\"Average word length:\", round(avg_word_length,2))\n"
   ]
  },
  {
   "cell_type": "code",
   "execution_count": null,
   "id": "63dc25ad",
   "metadata": {},
   "outputs": [],
   "source": []
  },
  {
   "cell_type": "code",
   "execution_count": null,
   "id": "819012c5",
   "metadata": {},
   "outputs": [],
   "source": []
  }
 ],
 "metadata": {
  "kernelspec": {
   "display_name": "Python 3",
   "language": "python",
   "name": "python3"
  },
  "language_info": {
   "codemirror_mode": {
    "name": "ipython",
    "version": 3
   },
   "file_extension": ".py",
   "mimetype": "text/x-python",
   "name": "python",
   "nbconvert_exporter": "python",
   "pygments_lexer": "ipython3",
   "version": "3.8.8"
  }
 },
 "nbformat": 4,
 "nbformat_minor": 5
}
