{
 "cells": [
  {
   "cell_type": "markdown",
   "id": "b9312f26",
   "metadata": {},
   "source": [
    "# Data scraping"
   ]
  },
  {
   "cell_type": "code",
   "execution_count": 1,
   "id": "ef4785ca",
   "metadata": {},
   "outputs": [],
   "source": [
    "import nltk\n",
    "import requests\n",
    "from bs4 import BeautifulSoup"
   ]
  },
  {
   "cell_type": "code",
   "execution_count": 2,
   "id": "ac2f2459",
   "metadata": {},
   "outputs": [],
   "source": [
    "req = requests.get(\"https://insights.blackcoffer.com/future-of-work-how-ai-has-entered-the-workplace/\")"
   ]
  },
  {
   "cell_type": "code",
   "execution_count": 3,
   "id": "45f9fa09",
   "metadata": {},
   "outputs": [],
   "source": [
    "soup = BeautifulSoup(req.content, \"html.parser\")\n",
    "res = soup.title\n",
    "paras = soup.find_all('p')"
   ]
  },
  {
   "cell_type": "code",
   "execution_count": 4,
   "id": "dbb256b2",
   "metadata": {
    "scrolled": true
   },
   "outputs": [
    {
     "name": "stdout",
     "output_type": "stream",
     "text": [
      "Artificial intelligence and employment are the burning issues nowadays workers need clarity on as we head into the longer term. This article focuses on the various impact of AI on our jobs and explains the benefits of AI in our workplace. That right there must have hit a nerve. However, everything is about to change because this article highlights some of the reasons we should not fear AI. AI is the abbreviation of Artificial Intelligence. Artificial intelligence is often defined as a set of various technologies which will be brought together to permit machines to act with what appears to be human-like levels of intelligence. This includes learning rules required to make certain decisions and reasoning to arrive at certain conclusions, learning from past experiences, and self-correction. AI is of two types. 1940 Expectations that machines could match humans in terms of general intelligence. By that, we mean machines could have the capability to find out, Reason, and React. 1950 Alan Turing develops the Turing Test; a test to determine whether a machine is intelligent.However, it wasn’t for another 60 years or so that any program was deemed to have passed. 1955 The first time a computer virus defeats a person’s World Champion during a parlor game. 1956 John McCarthy invents the new term ‘Artificial Intelligence’ when he held the primary Academic Conference on the subject of AI. 1962 Arthur Samuel‘s machine learning checkers (draughts) program, beat a checkers master. 1980 Reinforcement Learning is introduced. This is a kind of programming that uses rewards and punishments to coach a machine to interact with its environment. 2012 A research group led by Geoffrey Hinton wins the Image Net competition – this competition requires AI to categorize about 1.2 million images into any of 10,000 different categories. The level of accuracy was adequate to that of the typical human completing an equivalent task manually. 2014 Eugene Goostman’s chatbot, a bot pretending to be a 13-year-old boy, supposedly passes the Turing Test, a test which nobody has passed before! But controversy arose with this claim as: 1. Experts claim it only lasted five minutes. 2. It had been deemed biased as Eugene’s mother tongue (Ukrainian) wasn’t equivalent to the judge’s (English), which is a plus as language is one among the few ways we will tell the difference between a person’s and machine. 2018 Alibaba’s AI Model performs better than humans during a reading and comprehension test at Stanford University, scoring 82.44 against the 82.304 scored by humans! Artificial Intelligence (AI) is here to remain, and lots of people aren’t happy. After all, it’s hard to embrace something that would displace about 40 percent of human jobs within the next 15 years. In an interview for CBS’s hour, Kai-Fu Lee (a Chinese AI expert) also mentioned truck drivers, chauffeurs, waiters, and chefs as a number of the professions that will be disrupted. But if you were to ask the experts, they might unwaveringly confirm that no matter all the noise, AI is here to profit us all. Case in point, an executive briefing by the McKinsey Global Institute revealed that AI and automation are creating opportunities for the economy, society, and business. That said, it’s time to repress the widespread idea of artificial intelligence taking jobs. So, let’s highlight a number of the useful developments you’ll expect from this technological phenomenon. While the relationship between artificial intelligence and jobs is a matter of hot debate, it is still safe to say that AI will indeed offer new opportunities. According to the planet Economic Forum report, robots and AI will create as many AI jobs as they displace. This conclusion is entirely viable as it is easy to identify some of the many careers in artificial intelligence, for example, data scientists, who evaluate the decisions made by AI algorithms to eliminate any biases. Apart from that, some other AI occupations include: Transparency analysts: people tasked with classifying the varied sorts of opacity for algorithms. Smart-system interaction modelers: experts who develop machine behavior based on employee behavior. Machine-relations managers: people that champion the greater use of algorithms that perform well. As far because the competition for jobs between humans and robots goes, worth noting is that there are jobs that AI can’t replace. Roles that need leadership, empathy, and delegation are samples of the various jobs that are safe from automation. Automation will stir positive change in the workplace. When AI is employed during recruitment or maybe performance management, all workers are going to be evaluated in an unbiased, fact-based manner. In turn, Human Resources managers can get to consider other essential strategic undertakings that ensure balance within the workplace. AI can help HR departments to use machine learning (ML) in discovering where issues like bias stem from and assist them to act accordingly faster. ML shines in identifying instances of bias. In turn, this may promote fairness and variety within the work setting. The impact of AI in business is already felt, and this is often expected to continue through to the longer term. A few years from now, AI-oriented architecture is forecasted to require the lead in assisting businesses to hold out operations in additional comprehensive ways, thus shifting them from traditional data science and machine learning models. It will be necessary to maneuver to business outcomes because AI will play an important role in multiple aspects of the business. While there is no way of telling the future of artificial intelligence in business for sure, it makes sense for owners to keep up with the evolution to avoid being left behind. The workforce of the longer term will lean more towards innovation and creativity. Businesses have spent higher a part of the previous couple of years studying AI automation and the way they will leverage it to realize results fast. With statistics showing that workers spend up to 40 percent of their hours at work performing repetitive tasks, every business should consider automating any functions which will be automated. Automation is not new; machines have been replacing human labor in different areas for decades. However, within the coming years, mundane daily tasks will become fully automated. Already, 39 percent of organizations were completely reliant on automation in 2018. With repetitive tasks taken care of, employees can focus their energies on high-value customer-oriented tasks and collaboration. The designs of workplaces and workflows will also change with the implementation of AI technology. More people will begin to figure more closely with machines as companies will strive to become more agile. Companies that implement AI in their business strategy will experience dramatic improvements in their customer experiences, and their employees are going to be more motivated. Encouraging creativity rather than the performance of repetitive tasks gives workers more fulfillment in their jobs as well. With the web of things and AI working hand in hand, identifying trends and solving problems within the business world will become more convenient and also sustainable. AI, alongside other technologies, is predicted to vary the planet by impacting the way businesses run. With time, we’ll be ready to combine both human and artificial brains to seek out solutions to major global problems. It will even be easier to foresee problems with more accuracy and nip them at the bud with the help of AI. But these positive impacts can only be felt if stakeholders are transparent and mindful in their use of the technology for the greater good of everyone else. According to a report by PWC, 54 percent of companies confirm that the implementation of AI-driven solutions in their companies has already improved productivity. AI and automation, even once they are implemented partially, have unlimited potential for any business. Workers’ skills, attitude, training, command chain, and workflows protocols are a number of the leading productivity challenges that companies face. Apart from increasing productivity, AI systems will help businesses to chop down on costs, improve the standard of their products or services, and make better customer profiles. As a result, companies also will get higher profits, which may be shared among stakeholders as dividends, or reinvest it back within the business. Improved productivity also means firms are going to be ready to sell their products at lower prices, thereby creating more demand among customers and more job opportunities for workers. Businesses can, therefore, use human labor to take up those jobs that have been created by AI and cannot be automated. Artificial Intelligence isn’t showing any signs of slowing down. Soon, it’ll become another necessity of life, a bit like the web. But for now, more and more businesses are beginning to realize how invaluable AI automation and data interpretation are. Though machines will take some jobs initially, the roles created by automation will also keep soaring within the next few years. Will, we’ve reached the purpose of accelerating human intelligence by artificial means? Who knows? What we all know, however, is that those that are going to be sought-after in AI and employment are individuals who have the relevant skills. There’s work that not even the machines can do; so, we should make ourselves as valuable as we can be in our field and we will be irreplaceable. \n"
     ]
    }
   ],
   "source": [
    "texts = \" \".join([paragraph.text.strip() for paragraph in paras])\n",
    "print(texts)"
   ]
  },
  {
   "cell_type": "code",
   "execution_count": 5,
   "id": "e79f5f60",
   "metadata": {},
   "outputs": [
    {
     "data": {
      "text/plain": [
       "9574"
      ]
     },
     "execution_count": 5,
     "metadata": {},
     "output_type": "execute_result"
    }
   ],
   "source": [
    "len(texts)"
   ]
  },
  {
   "cell_type": "markdown",
   "id": "db8f1fcc",
   "metadata": {},
   "source": [
    "Removing Punctuation"
   ]
  },
  {
   "cell_type": "code",
   "execution_count": 6,
   "id": "5285c8a8",
   "metadata": {},
   "outputs": [
    {
     "data": {
      "text/plain": [
       "9574"
      ]
     },
     "execution_count": 6,
     "metadata": {},
     "output_type": "execute_result"
    }
   ],
   "source": [
    "import re\n",
    "import string\n",
    "texts = re.sub(r'[\\'\\“\\”\\()\\%\\,\\-\\'\\’\\?\\ ]', ' ', texts)\n",
    "texts[0:200]\n",
    "len(texts)"
   ]
  },
  {
   "cell_type": "markdown",
   "id": "4fafe7be",
   "metadata": {},
   "source": [
    "# Removing Stopwords"
   ]
  },
  {
   "cell_type": "code",
   "execution_count": 7,
   "id": "089b8663",
   "metadata": {},
   "outputs": [],
   "source": [
    "from nltk.tokenize import word_tokenize"
   ]
  },
  {
   "cell_type": "code",
   "execution_count": 8,
   "id": "280876b0",
   "metadata": {},
   "outputs": [
    {
     "data": {
      "text/plain": [
       "['Artificial',\n",
       " 'intelligence',\n",
       " 'and',\n",
       " 'employment',\n",
       " 'are',\n",
       " 'the',\n",
       " 'burning',\n",
       " 'issues',\n",
       " 'nowadays',\n",
       " 'workers',\n",
       " 'need',\n",
       " 'clarity',\n",
       " 'on',\n",
       " 'as',\n",
       " 'we',\n",
       " 'head',\n",
       " 'into',\n",
       " 'the',\n",
       " 'longer',\n",
       " 'term',\n",
       " '.',\n",
       " 'This',\n",
       " 'article',\n",
       " 'focuses',\n",
       " 'on',\n",
       " 'the',\n",
       " 'various',\n",
       " 'impact',\n",
       " 'of',\n",
       " 'AI',\n",
       " 'on',\n",
       " 'our',\n",
       " 'jobs',\n",
       " 'and',\n",
       " 'explains',\n",
       " 'the',\n",
       " 'benefits',\n",
       " 'of',\n",
       " 'AI',\n",
       " 'in',\n",
       " 'our',\n",
       " 'workplace',\n",
       " '.',\n",
       " 'That',\n",
       " 'right',\n",
       " 'there',\n",
       " 'must',\n",
       " 'have',\n",
       " 'hit',\n",
       " 'a',\n",
       " 'nerve',\n",
       " '.',\n",
       " 'However',\n",
       " 'everything',\n",
       " 'is',\n",
       " 'about',\n",
       " 'to',\n",
       " 'change',\n",
       " 'because',\n",
       " 'this',\n",
       " 'article',\n",
       " 'highlights',\n",
       " 'some',\n",
       " 'of',\n",
       " 'the',\n",
       " 'reasons',\n",
       " 'we',\n",
       " 'should',\n",
       " 'not',\n",
       " 'fear',\n",
       " 'AI',\n",
       " '.',\n",
       " 'AI',\n",
       " 'is',\n",
       " 'the',\n",
       " 'abbreviation',\n",
       " 'of',\n",
       " 'Artificial',\n",
       " 'Intelligence',\n",
       " '.',\n",
       " 'Artificial',\n",
       " 'intelligence',\n",
       " 'is',\n",
       " 'often',\n",
       " 'defined',\n",
       " 'as',\n",
       " 'a',\n",
       " 'set',\n",
       " 'of',\n",
       " 'various',\n",
       " 'technologies',\n",
       " 'which',\n",
       " 'will',\n",
       " 'be',\n",
       " 'brought',\n",
       " 'together',\n",
       " 'to',\n",
       " 'permit',\n",
       " 'machines',\n",
       " 'to',\n",
       " 'act',\n",
       " 'with',\n",
       " 'what',\n",
       " 'appears',\n",
       " 'to',\n",
       " 'be',\n",
       " 'human',\n",
       " 'like',\n",
       " 'levels',\n",
       " 'of',\n",
       " 'intelligence',\n",
       " '.',\n",
       " 'This',\n",
       " 'includes',\n",
       " 'learning',\n",
       " 'rules',\n",
       " 'required',\n",
       " 'to',\n",
       " 'make',\n",
       " 'certain',\n",
       " 'decisions',\n",
       " 'and',\n",
       " 'reasoning',\n",
       " 'to',\n",
       " 'arrive',\n",
       " 'at',\n",
       " 'certain',\n",
       " 'conclusions',\n",
       " 'learning',\n",
       " 'from',\n",
       " 'past',\n",
       " 'experiences',\n",
       " 'and',\n",
       " 'self',\n",
       " 'correction',\n",
       " '.',\n",
       " 'AI',\n",
       " 'is',\n",
       " 'of',\n",
       " 'two',\n",
       " 'types',\n",
       " '.',\n",
       " '1940',\n",
       " 'Expectations',\n",
       " 'that',\n",
       " 'machines',\n",
       " 'could',\n",
       " 'match',\n",
       " 'humans',\n",
       " 'in',\n",
       " 'terms',\n",
       " 'of',\n",
       " 'general',\n",
       " 'intelligence',\n",
       " '.',\n",
       " 'By',\n",
       " 'that',\n",
       " 'we',\n",
       " 'mean',\n",
       " 'machines',\n",
       " 'could',\n",
       " 'have',\n",
       " 'the',\n",
       " 'capability',\n",
       " 'to',\n",
       " 'find',\n",
       " 'out',\n",
       " 'Reason',\n",
       " 'and',\n",
       " 'React',\n",
       " '.',\n",
       " '1950',\n",
       " 'Alan',\n",
       " 'Turing',\n",
       " 'develops',\n",
       " 'the',\n",
       " 'Turing',\n",
       " 'Test',\n",
       " ';',\n",
       " 'a',\n",
       " 'test',\n",
       " 'to',\n",
       " 'determine',\n",
       " 'whether',\n",
       " 'a',\n",
       " 'machine',\n",
       " 'is',\n",
       " 'intelligent.However',\n",
       " 'it',\n",
       " 'wasn',\n",
       " 't',\n",
       " 'for',\n",
       " 'another',\n",
       " '60',\n",
       " 'years',\n",
       " 'or',\n",
       " 'so',\n",
       " 'that',\n",
       " 'any',\n",
       " 'program',\n",
       " 'was',\n",
       " 'deemed',\n",
       " 'to',\n",
       " 'have',\n",
       " 'passed',\n",
       " '.',\n",
       " '1955',\n",
       " 'The',\n",
       " 'first',\n",
       " 'time',\n",
       " 'a',\n",
       " 'computer',\n",
       " 'virus',\n",
       " 'defeats',\n",
       " 'a',\n",
       " 'person',\n",
       " 's',\n",
       " 'World',\n",
       " 'Champion',\n",
       " 'during',\n",
       " 'a',\n",
       " 'parlor',\n",
       " 'game',\n",
       " '.',\n",
       " '1956',\n",
       " 'John',\n",
       " 'McCarthy',\n",
       " 'invents',\n",
       " 'the',\n",
       " 'new',\n",
       " 'term',\n",
       " '‘',\n",
       " 'Artificial',\n",
       " 'Intelligence',\n",
       " 'when',\n",
       " 'he',\n",
       " 'held',\n",
       " 'the',\n",
       " 'primary',\n",
       " 'Academic',\n",
       " 'Conference',\n",
       " 'on',\n",
       " 'the',\n",
       " 'subject',\n",
       " 'of',\n",
       " 'AI',\n",
       " '.',\n",
       " '1962',\n",
       " 'Arthur',\n",
       " 'Samuel',\n",
       " '‘',\n",
       " 's',\n",
       " 'machine',\n",
       " 'learning',\n",
       " 'checkers',\n",
       " 'draughts',\n",
       " 'program',\n",
       " 'beat',\n",
       " 'a',\n",
       " 'checkers',\n",
       " 'master',\n",
       " '.',\n",
       " '1980',\n",
       " 'Reinforcement',\n",
       " 'Learning',\n",
       " 'is',\n",
       " 'introduced',\n",
       " '.',\n",
       " 'This',\n",
       " 'is',\n",
       " 'a',\n",
       " 'kind',\n",
       " 'of',\n",
       " 'programming',\n",
       " 'that',\n",
       " 'uses',\n",
       " 'rewards',\n",
       " 'and',\n",
       " 'punishments',\n",
       " 'to',\n",
       " 'coach',\n",
       " 'a',\n",
       " 'machine',\n",
       " 'to',\n",
       " 'interact',\n",
       " 'with',\n",
       " 'its',\n",
       " 'environment',\n",
       " '.',\n",
       " '2012',\n",
       " 'A',\n",
       " 'research',\n",
       " 'group',\n",
       " 'led',\n",
       " 'by',\n",
       " 'Geoffrey',\n",
       " 'Hinton',\n",
       " 'wins',\n",
       " 'the',\n",
       " 'Image',\n",
       " 'Net',\n",
       " 'competition',\n",
       " '–',\n",
       " 'this',\n",
       " 'competition',\n",
       " 'requires',\n",
       " 'AI',\n",
       " 'to',\n",
       " 'categorize',\n",
       " 'about',\n",
       " '1.2',\n",
       " 'million',\n",
       " 'images',\n",
       " 'into',\n",
       " 'any',\n",
       " 'of',\n",
       " '10',\n",
       " '000',\n",
       " 'different',\n",
       " 'categories',\n",
       " '.',\n",
       " 'The',\n",
       " 'level',\n",
       " 'of',\n",
       " 'accuracy',\n",
       " 'was',\n",
       " 'adequate',\n",
       " 'to',\n",
       " 'that',\n",
       " 'of',\n",
       " 'the',\n",
       " 'typical',\n",
       " 'human',\n",
       " 'completing',\n",
       " 'an',\n",
       " 'equivalent',\n",
       " 'task',\n",
       " 'manually',\n",
       " '.',\n",
       " '2014',\n",
       " 'Eugene',\n",
       " 'Goostman',\n",
       " 's',\n",
       " 'chatbot',\n",
       " 'a',\n",
       " 'bot',\n",
       " 'pretending',\n",
       " 'to',\n",
       " 'be',\n",
       " 'a',\n",
       " '13',\n",
       " 'year',\n",
       " 'old',\n",
       " 'boy',\n",
       " 'supposedly',\n",
       " 'passes',\n",
       " 'the',\n",
       " 'Turing',\n",
       " 'Test',\n",
       " 'a',\n",
       " 'test',\n",
       " 'which',\n",
       " 'nobody',\n",
       " 'has',\n",
       " 'passed',\n",
       " 'before',\n",
       " '!',\n",
       " 'But',\n",
       " 'controversy',\n",
       " 'arose',\n",
       " 'with',\n",
       " 'this',\n",
       " 'claim',\n",
       " 'as',\n",
       " ':',\n",
       " '1',\n",
       " '.',\n",
       " 'Experts',\n",
       " 'claim',\n",
       " 'it',\n",
       " 'only',\n",
       " 'lasted',\n",
       " 'five',\n",
       " 'minutes',\n",
       " '.',\n",
       " '2',\n",
       " '.',\n",
       " 'It',\n",
       " 'had',\n",
       " 'been',\n",
       " 'deemed',\n",
       " 'biased',\n",
       " 'as',\n",
       " 'Eugene',\n",
       " 's',\n",
       " 'mother',\n",
       " 'tongue',\n",
       " 'Ukrainian',\n",
       " 'wasn',\n",
       " 't',\n",
       " 'equivalent',\n",
       " 'to',\n",
       " 'the',\n",
       " 'judge',\n",
       " 's',\n",
       " 'English',\n",
       " 'which',\n",
       " 'is',\n",
       " 'a',\n",
       " 'plus',\n",
       " 'as',\n",
       " 'language',\n",
       " 'is',\n",
       " 'one',\n",
       " 'among',\n",
       " 'the',\n",
       " 'few',\n",
       " 'ways',\n",
       " 'we',\n",
       " 'will',\n",
       " 'tell',\n",
       " 'the',\n",
       " 'difference',\n",
       " 'between',\n",
       " 'a',\n",
       " 'person',\n",
       " 's',\n",
       " 'and',\n",
       " 'machine',\n",
       " '.',\n",
       " '2018',\n",
       " 'Alibaba',\n",
       " 's',\n",
       " 'AI',\n",
       " 'Model',\n",
       " 'performs',\n",
       " 'better',\n",
       " 'than',\n",
       " 'humans',\n",
       " 'during',\n",
       " 'a',\n",
       " 'reading',\n",
       " 'and',\n",
       " 'comprehension',\n",
       " 'test',\n",
       " 'at',\n",
       " 'Stanford',\n",
       " 'University',\n",
       " 'scoring',\n",
       " '82.44',\n",
       " 'against',\n",
       " 'the',\n",
       " '82.304',\n",
       " 'scored',\n",
       " 'by',\n",
       " 'humans',\n",
       " '!',\n",
       " 'Artificial',\n",
       " 'Intelligence',\n",
       " 'AI',\n",
       " 'is',\n",
       " 'here',\n",
       " 'to',\n",
       " 'remain',\n",
       " 'and',\n",
       " 'lots',\n",
       " 'of',\n",
       " 'people',\n",
       " 'aren',\n",
       " 't',\n",
       " 'happy',\n",
       " '.',\n",
       " 'After',\n",
       " 'all',\n",
       " 'it',\n",
       " 's',\n",
       " 'hard',\n",
       " 'to',\n",
       " 'embrace',\n",
       " 'something',\n",
       " 'that',\n",
       " 'would',\n",
       " 'displace',\n",
       " 'about',\n",
       " '40',\n",
       " 'percent',\n",
       " 'of',\n",
       " 'human',\n",
       " 'jobs',\n",
       " 'within',\n",
       " 'the',\n",
       " 'next',\n",
       " '15',\n",
       " 'years',\n",
       " '.',\n",
       " 'In',\n",
       " 'an',\n",
       " 'interview',\n",
       " 'for',\n",
       " 'CBS',\n",
       " 's',\n",
       " 'hour',\n",
       " 'Kai',\n",
       " 'Fu',\n",
       " 'Lee',\n",
       " 'a',\n",
       " 'Chinese',\n",
       " 'AI',\n",
       " 'expert',\n",
       " 'also',\n",
       " 'mentioned',\n",
       " 'truck',\n",
       " 'drivers',\n",
       " 'chauffeurs',\n",
       " 'waiters',\n",
       " 'and',\n",
       " 'chefs',\n",
       " 'as',\n",
       " 'a',\n",
       " 'number',\n",
       " 'of',\n",
       " 'the',\n",
       " 'professions',\n",
       " 'that',\n",
       " 'will',\n",
       " 'be',\n",
       " 'disrupted',\n",
       " '.',\n",
       " 'But',\n",
       " 'if',\n",
       " 'you',\n",
       " 'were',\n",
       " 'to',\n",
       " 'ask',\n",
       " 'the',\n",
       " 'experts',\n",
       " 'they',\n",
       " 'might',\n",
       " 'unwaveringly',\n",
       " 'confirm',\n",
       " 'that',\n",
       " 'no',\n",
       " 'matter',\n",
       " 'all',\n",
       " 'the',\n",
       " 'noise',\n",
       " 'AI',\n",
       " 'is',\n",
       " 'here',\n",
       " 'to',\n",
       " 'profit',\n",
       " 'us',\n",
       " 'all',\n",
       " '.',\n",
       " 'Case',\n",
       " 'in',\n",
       " 'point',\n",
       " 'an',\n",
       " 'executive',\n",
       " 'briefing',\n",
       " 'by',\n",
       " 'the',\n",
       " 'McKinsey',\n",
       " 'Global',\n",
       " 'Institute',\n",
       " 'revealed',\n",
       " 'that',\n",
       " 'AI',\n",
       " 'and',\n",
       " 'automation',\n",
       " 'are',\n",
       " 'creating',\n",
       " 'opportunities',\n",
       " 'for',\n",
       " 'the',\n",
       " 'economy',\n",
       " 'society',\n",
       " 'and',\n",
       " 'business',\n",
       " '.',\n",
       " 'That',\n",
       " 'said',\n",
       " 'it',\n",
       " 's',\n",
       " 'time',\n",
       " 'to',\n",
       " 'repress',\n",
       " 'the',\n",
       " 'widespread',\n",
       " 'idea',\n",
       " 'of',\n",
       " 'artificial',\n",
       " 'intelligence',\n",
       " 'taking',\n",
       " 'jobs',\n",
       " '.',\n",
       " 'So',\n",
       " 'let',\n",
       " 's',\n",
       " 'highlight',\n",
       " 'a',\n",
       " 'number',\n",
       " 'of',\n",
       " 'the',\n",
       " 'useful',\n",
       " 'developments',\n",
       " 'you',\n",
       " 'll',\n",
       " 'expect',\n",
       " 'from',\n",
       " 'this',\n",
       " 'technological',\n",
       " 'phenomenon',\n",
       " '.',\n",
       " 'While',\n",
       " 'the',\n",
       " 'relationship',\n",
       " 'between',\n",
       " 'artificial',\n",
       " 'intelligence',\n",
       " 'and',\n",
       " 'jobs',\n",
       " 'is',\n",
       " 'a',\n",
       " 'matter',\n",
       " 'of',\n",
       " 'hot',\n",
       " 'debate',\n",
       " 'it',\n",
       " 'is',\n",
       " 'still',\n",
       " 'safe',\n",
       " 'to',\n",
       " 'say',\n",
       " 'that',\n",
       " 'AI',\n",
       " 'will',\n",
       " 'indeed',\n",
       " 'offer',\n",
       " 'new',\n",
       " 'opportunities',\n",
       " '.',\n",
       " 'According',\n",
       " 'to',\n",
       " 'the',\n",
       " 'planet',\n",
       " 'Economic',\n",
       " 'Forum',\n",
       " 'report',\n",
       " 'robots',\n",
       " 'and',\n",
       " 'AI',\n",
       " 'will',\n",
       " 'create',\n",
       " 'as',\n",
       " 'many',\n",
       " 'AI',\n",
       " 'jobs',\n",
       " 'as',\n",
       " 'they',\n",
       " 'displace',\n",
       " '.',\n",
       " 'This',\n",
       " 'conclusion',\n",
       " 'is',\n",
       " 'entirely',\n",
       " 'viable',\n",
       " 'as',\n",
       " 'it',\n",
       " 'is',\n",
       " 'easy',\n",
       " 'to',\n",
       " 'identify',\n",
       " 'some',\n",
       " 'of',\n",
       " 'the',\n",
       " 'many',\n",
       " 'careers',\n",
       " 'in',\n",
       " 'artificial',\n",
       " 'intelligence',\n",
       " 'for',\n",
       " 'example',\n",
       " 'data',\n",
       " 'scientists',\n",
       " 'who',\n",
       " 'evaluate',\n",
       " 'the',\n",
       " 'decisions',\n",
       " 'made',\n",
       " 'by',\n",
       " 'AI',\n",
       " 'algorithms',\n",
       " 'to',\n",
       " 'eliminate',\n",
       " 'any',\n",
       " 'biases',\n",
       " '.',\n",
       " 'Apart',\n",
       " 'from',\n",
       " 'that',\n",
       " 'some',\n",
       " 'other',\n",
       " 'AI',\n",
       " 'occupations',\n",
       " 'include',\n",
       " ':',\n",
       " 'Transparency',\n",
       " 'analysts',\n",
       " ':',\n",
       " 'people',\n",
       " 'tasked',\n",
       " 'with',\n",
       " 'classifying',\n",
       " 'the',\n",
       " 'varied',\n",
       " 'sorts',\n",
       " 'of',\n",
       " 'opacity',\n",
       " 'for',\n",
       " 'algorithms',\n",
       " '.',\n",
       " 'Smart',\n",
       " 'system',\n",
       " 'interaction',\n",
       " 'modelers',\n",
       " ':',\n",
       " 'experts',\n",
       " 'who',\n",
       " 'develop',\n",
       " 'machine',\n",
       " 'behavior',\n",
       " 'based',\n",
       " 'on',\n",
       " 'employee',\n",
       " 'behavior',\n",
       " '.',\n",
       " 'Machine',\n",
       " 'relations',\n",
       " 'managers',\n",
       " ':',\n",
       " 'people',\n",
       " 'that',\n",
       " 'champion',\n",
       " 'the',\n",
       " 'greater',\n",
       " 'use',\n",
       " 'of',\n",
       " 'algorithms',\n",
       " 'that',\n",
       " 'perform',\n",
       " 'well',\n",
       " '.',\n",
       " 'As',\n",
       " 'far',\n",
       " 'because',\n",
       " 'the',\n",
       " 'competition',\n",
       " 'for',\n",
       " 'jobs',\n",
       " 'between',\n",
       " 'humans',\n",
       " 'and',\n",
       " 'robots',\n",
       " 'goes',\n",
       " 'worth',\n",
       " 'noting',\n",
       " 'is',\n",
       " 'that',\n",
       " 'there',\n",
       " 'are',\n",
       " 'jobs',\n",
       " 'that',\n",
       " 'AI',\n",
       " 'can',\n",
       " 't',\n",
       " 'replace',\n",
       " '.',\n",
       " 'Roles',\n",
       " 'that',\n",
       " 'need',\n",
       " 'leadership',\n",
       " 'empathy',\n",
       " 'and',\n",
       " 'delegation',\n",
       " 'are',\n",
       " 'samples',\n",
       " 'of',\n",
       " 'the',\n",
       " 'various',\n",
       " 'jobs',\n",
       " 'that',\n",
       " 'are',\n",
       " 'safe',\n",
       " 'from',\n",
       " 'automation',\n",
       " '.',\n",
       " 'Automation',\n",
       " 'will',\n",
       " 'stir',\n",
       " 'positive',\n",
       " 'change',\n",
       " 'in',\n",
       " 'the',\n",
       " 'workplace',\n",
       " '.',\n",
       " 'When',\n",
       " 'AI',\n",
       " 'is',\n",
       " 'employed',\n",
       " 'during',\n",
       " 'recruitment',\n",
       " 'or',\n",
       " 'maybe',\n",
       " 'performance',\n",
       " 'management',\n",
       " 'all',\n",
       " 'workers',\n",
       " 'are',\n",
       " 'going',\n",
       " 'to',\n",
       " 'be',\n",
       " 'evaluated',\n",
       " 'in',\n",
       " 'an',\n",
       " 'unbiased',\n",
       " 'fact',\n",
       " 'based',\n",
       " 'manner',\n",
       " '.',\n",
       " 'In',\n",
       " 'turn',\n",
       " 'Human',\n",
       " 'Resources',\n",
       " 'managers',\n",
       " 'can',\n",
       " 'get',\n",
       " 'to',\n",
       " 'consider',\n",
       " 'other',\n",
       " 'essential',\n",
       " 'strategic',\n",
       " 'undertakings',\n",
       " 'that',\n",
       " 'ensure',\n",
       " 'balance',\n",
       " 'within',\n",
       " 'the',\n",
       " 'workplace',\n",
       " '.',\n",
       " 'AI',\n",
       " 'can',\n",
       " 'help',\n",
       " 'HR',\n",
       " 'departments',\n",
       " 'to',\n",
       " 'use',\n",
       " 'machine',\n",
       " 'learning',\n",
       " 'ML',\n",
       " 'in',\n",
       " 'discovering',\n",
       " 'where',\n",
       " 'issues',\n",
       " 'like',\n",
       " 'bias',\n",
       " 'stem',\n",
       " 'from',\n",
       " 'and',\n",
       " 'assist',\n",
       " 'them',\n",
       " 'to',\n",
       " 'act',\n",
       " 'accordingly',\n",
       " 'faster',\n",
       " '.',\n",
       " 'ML',\n",
       " 'shines',\n",
       " 'in',\n",
       " 'identifying',\n",
       " 'instances',\n",
       " 'of',\n",
       " 'bias',\n",
       " '.',\n",
       " 'In',\n",
       " 'turn',\n",
       " 'this',\n",
       " 'may',\n",
       " 'promote',\n",
       " 'fairness',\n",
       " 'and',\n",
       " 'variety',\n",
       " 'within',\n",
       " 'the',\n",
       " 'work',\n",
       " 'setting',\n",
       " '.',\n",
       " 'The',\n",
       " 'impact',\n",
       " 'of',\n",
       " 'AI',\n",
       " 'in',\n",
       " 'business',\n",
       " 'is',\n",
       " 'already',\n",
       " 'felt',\n",
       " 'and',\n",
       " 'this',\n",
       " 'is',\n",
       " 'often',\n",
       " 'expected',\n",
       " 'to',\n",
       " 'continue',\n",
       " 'through',\n",
       " 'to',\n",
       " 'the',\n",
       " 'longer',\n",
       " 'term',\n",
       " '.',\n",
       " 'A',\n",
       " 'few',\n",
       " 'years',\n",
       " 'from',\n",
       " 'now',\n",
       " 'AI',\n",
       " 'oriented',\n",
       " 'architecture',\n",
       " 'is',\n",
       " 'forecasted',\n",
       " 'to',\n",
       " 'require',\n",
       " 'the',\n",
       " 'lead',\n",
       " 'in',\n",
       " 'assisting',\n",
       " 'businesses',\n",
       " 'to',\n",
       " 'hold',\n",
       " 'out',\n",
       " 'operations',\n",
       " 'in',\n",
       " 'additional',\n",
       " 'comprehensive',\n",
       " 'ways',\n",
       " 'thus',\n",
       " 'shifting',\n",
       " 'them',\n",
       " 'from',\n",
       " 'traditional',\n",
       " 'data',\n",
       " 'science',\n",
       " 'and',\n",
       " 'machine',\n",
       " 'learning',\n",
       " 'models',\n",
       " '.',\n",
       " 'It',\n",
       " 'will',\n",
       " 'be',\n",
       " 'necessary',\n",
       " 'to',\n",
       " 'maneuver',\n",
       " 'to',\n",
       " 'business',\n",
       " 'outcomes',\n",
       " 'because',\n",
       " 'AI',\n",
       " 'will',\n",
       " 'play',\n",
       " 'an',\n",
       " 'important',\n",
       " 'role',\n",
       " 'in',\n",
       " 'multiple',\n",
       " 'aspects',\n",
       " 'of',\n",
       " 'the',\n",
       " 'business',\n",
       " '.',\n",
       " 'While',\n",
       " 'there',\n",
       " 'is',\n",
       " 'no',\n",
       " 'way',\n",
       " 'of',\n",
       " 'telling',\n",
       " 'the',\n",
       " 'future',\n",
       " 'of',\n",
       " 'artificial',\n",
       " 'intelligence',\n",
       " 'in',\n",
       " 'business',\n",
       " 'for',\n",
       " 'sure',\n",
       " 'it',\n",
       " 'makes',\n",
       " 'sense',\n",
       " 'for',\n",
       " 'owners',\n",
       " ...]"
      ]
     },
     "execution_count": 8,
     "metadata": {},
     "output_type": "execute_result"
    }
   ],
   "source": [
    "token = word_tokenize(texts)\n",
    "token"
   ]
  },
  {
   "cell_type": "code",
   "execution_count": 9,
   "id": "10016a09",
   "metadata": {},
   "outputs": [],
   "source": [
    "with open(\"D:\\lab\\Dataset\\Stopwords_Blackcoffer.txt\", 'r') as file:\n",
    "    data = file.read()"
   ]
  },
  {
   "cell_type": "code",
   "execution_count": 10,
   "id": "c567cbef",
   "metadata": {},
   "outputs": [
    {
     "data": {
      "text/plain": [
       "'ERNST\\nYOUNG\\nDELOITTE\\nTOUCHE\\nKPMG\\nPRICEWATERHOUSECOOPERS\\nPRICEWATERHOUSE\\nCOOPERS\\nAFGHANI\\nARIARY\\nBAHT\\n'"
      ]
     },
     "execution_count": 10,
     "metadata": {},
     "output_type": "execute_result"
    }
   ],
   "source": [
    "data[:100]"
   ]
  },
  {
   "cell_type": "code",
   "execution_count": 11,
   "id": "d65bfa92",
   "metadata": {},
   "outputs": [
    {
     "data": {
      "text/plain": [
       "'ERNST,YOUNG,DELOITTE,TOUCHE,KPMG,PRICEWATERHOUSECOOPERS,PRICEWATERHOUSE,COOPERS,AFGHANI,ARIARY,BAHT,'"
      ]
     },
     "execution_count": 11,
     "metadata": {},
     "output_type": "execute_result"
    }
   ],
   "source": [
    "data = data.replace('\\n', ',')\n",
    "data[:100]"
   ]
  },
  {
   "cell_type": "code",
   "execution_count": 12,
   "id": "0ef23874",
   "metadata": {},
   "outputs": [
    {
     "data": {
      "text/plain": [
       "'Artificial intelligence employment burning issues nowadays workers clarity head longer term . This article focuses impact jobs explains benefits workplace . That nerve . However article highlights rea'"
      ]
     },
     "execution_count": 12,
     "metadata": {},
     "output_type": "execute_result"
    }
   ],
   "source": [
    "new_texts = \" \".join([i for i in token if i not in data])\n",
    "new_texts[:200]"
   ]
  },
  {
   "cell_type": "code",
   "execution_count": 13,
   "id": "ea392da4",
   "metadata": {},
   "outputs": [
    {
     "name": "stdout",
     "output_type": "stream",
     "text": [
      "length before cleaning:  9574\n",
      "length after cleaning:  6106\n"
     ]
    }
   ],
   "source": [
    "print(\"length before cleaning: \", len(texts))\n",
    "print(\"length after cleaning: \", len(new_texts))"
   ]
  },
  {
   "cell_type": "markdown",
   "id": "1f456147",
   "metadata": {},
   "source": [
    "# Negative words"
   ]
  },
  {
   "cell_type": "code",
   "execution_count": 14,
   "id": "dc3618a7",
   "metadata": {},
   "outputs": [],
   "source": [
    "with open(\"D:\\\\lab\\\\Dataset\\\\Negative_words.txt\", 'r') as file:\n",
    "    negative = file.read()"
   ]
  },
  {
   "cell_type": "code",
   "execution_count": 15,
   "id": "2123c4cb",
   "metadata": {},
   "outputs": [
    {
     "data": {
      "text/plain": [
       "'2-faced\\n2-faces\\nabnormal\\nabolish\\nabominable\\nabominably\\nabominate\\nabomination\\nabort\\naborted\\naborts\\nabrade\\nabrasive\\nabrupt\\nabruptly\\nabscond\\nabsence\\nabsent-minded\\nabsentee\\nabsurd\\nabsurdity\\nabsurdly\\nabsurdness\\n'"
      ]
     },
     "execution_count": 15,
     "metadata": {},
     "output_type": "execute_result"
    }
   ],
   "source": [
    "negative[:206]"
   ]
  },
  {
   "cell_type": "code",
   "execution_count": 16,
   "id": "28f44c97",
   "metadata": {},
   "outputs": [
    {
     "data": {
      "text/plain": [
       "'2-faced,2-faces,abnormal,abolish,abominable,abominably,abominate,abomination,abort,aborted,aborts,abrade,abrasive,abrupt,abruptly,abscond,absence,absent-minded,absentee,absurd,absurdity,absurdly,absurdness,'"
      ]
     },
     "execution_count": 16,
     "metadata": {},
     "output_type": "execute_result"
    }
   ],
   "source": [
    "negative = negative.replace('\\n', ',')\n",
    "negative[:206]"
   ]
  },
  {
   "cell_type": "code",
   "execution_count": 17,
   "id": "31a272c0",
   "metadata": {},
   "outputs": [
    {
     "name": "stdout",
     "output_type": "stream",
     "text": [
      "['burning', 'issues', 'head', 'term', 'nerve', 'fear', 'defined', 'set', 'human', 'make', 'test', 'determine', 'virus', 'person', 'term', 'subject', 'beat', 'kind', 'led', 'accuracy', 'adequate', 'typical', 'human', 'boy', 'test', 'controversy', 'claim', 'claim', 'lasted', '2', 'biased', 'mother', 'judge', 'difference', 'person', 'reading', 'comprehension', 'test', 'happy', 'displace', 'human', 'expert', 'truck', 'confirm', 'noise', 'profit', 'point', 'repress', 'expect', 'hot', 'safe', 'displace', 'easy', 'biases', 'develop', 'behavior', 'behavior', 'worth', 'safe', 'employed', 'fact', 'manner', 'turn', 'essential', 'ensure', 'balance', 'issues', 'bias', 'bias', 'turn', 'work', 'setting', 'expected', 'continue', 'term', 'oriented', 'lead', 'play', 'important', 'sense', 'avoid', 'left', 'term', 'lean', 'fast', 'spend', 'work', 'repetitive', 'human', 'labor', 'mundane', 'repetitive', 'care', 'high', 'oriented', 'figure', 'agile', 'experience', 'dramatic', 'repetitive', 'problems', 'convenient', 'sustainable', 'run', 'human', 'seek', 'problems', 'foresee', 'problems', 'accuracy', 'nip', 'confirm', 'training', 'leading', 'face', 'chop', 'standard', 'make', 'back', 'lower', 'job', 'human', 'labor', 'life', 'bit', 'human', 'relevant', 'work', 'make']\n"
     ]
    },
    {
     "data": {
      "text/plain": [
       "129"
      ]
     },
     "execution_count": 17,
     "metadata": {},
     "output_type": "execute_result"
    }
   ],
   "source": [
    "new_texts = word_tokenize(new_texts)\n",
    "negative_words = [i for i in new_texts if i in negative]\n",
    "print(negative_words)\n",
    "len(negative_words)"
   ]
  },
  {
   "cell_type": "markdown",
   "id": "0b24f011",
   "metadata": {},
   "source": [
    "# Positive words"
   ]
  },
  {
   "cell_type": "code",
   "execution_count": 18,
   "id": "4b003620",
   "metadata": {},
   "outputs": [
    {
     "data": {
      "text/plain": [
       "'a+\\nabound\\nabounds\\nabundance\\nabundant\\naccessable\\naccessible\\nacclaim\\nacclaimed\\nacclamation\\naccolade\\naccolades\\naccommodative\\naccomodative\\naccomplish\\naccomplished\\naccomplishment\\naccomplishments\\naccurate\\naccurately\\n'"
      ]
     },
     "execution_count": 18,
     "metadata": {},
     "output_type": "execute_result"
    }
   ],
   "source": [
    "with open(\"D:\\\\lab\\\\Dataset\\\\Positive_words.txt\", 'r') as file:\n",
    "    positive = file.read()\n",
    "positive[:210]    "
   ]
  },
  {
   "cell_type": "code",
   "execution_count": 19,
   "id": "66ed38c6",
   "metadata": {},
   "outputs": [
    {
     "data": {
      "text/plain": [
       "'a+,abound,abounds,abundance,abundant,accessable,accessible,acclaim,acclaimed,acclamation,accolade,accolades,accommodative,accomodative,accomplish,accomplished,accomplishment,accomplishments,accurate,accurately,'"
      ]
     },
     "execution_count": 19,
     "metadata": {},
     "output_type": "execute_result"
    }
   ],
   "source": [
    "positive = positive.replace('\\n',',')\n",
    "positive[:210]"
   ]
  },
  {
   "cell_type": "code",
   "execution_count": 20,
   "id": "fc1387e8",
   "metadata": {},
   "outputs": [
    {
     "name": "stdout",
     "output_type": "stream",
     "text": [
      "['intelligence', 'clarity', 'head', 'term', 'benefits', 'fear', 'intelligence', 'set', 'human', 'intelligence', 'match', 'intelligence', 'capability', 'test', 'defeats', 'person', 'term', 'held', 'beat', 'master', 'kind', 'led', 'wins', 'adequate', 'human', 'test', 'claim', 'claim', 'biased', 'person', 'performs', 'test', 'happy', 'human', 'expert', 'truck', 'noise', 'idea', 'intelligence', 'taking', 'expect', 'intelligence', 'hot', 'safe', 'viable', 'easy', 'intelligence', 'made', 'champion', 'perform', 'worth', 'replace', 'empathy', 'safe', 'stir', 'positive', 'unbiased', 'fact', 'manner', 'balance', 'bias', 'faster', 'bias', 'promote', 'fairness', 'variety', 'work', 'setting', 'felt', 'expected', 'term', 'lead', 'hold', 'comprehensive', 'maneuver', 'play', 'important', 'future', 'intelligence', 'evolution', 'term', 'lean', 'innovation', 'leverage', 'fast', 'work', 'performing', 'human', 'care', 'high', 'agile', 'improvements', 'motivated', 'fulfillment', 'working', 'world', 'convenient', 'sustainable', 'run', 'human', 'easier', 'positive', 'felt', 'transparent', 'good', 'improved', 'partially', 'unlimited', 'leading', 'improve', 'back', 'sell', 'lower', 'human', 'life', 'bit', 'invaluable', 'purpose', 'human', 'intelligence', 'work', 'valuable', 'irreplaceable']\n"
     ]
    },
    {
     "data": {
      "text/plain": [
       "123"
      ]
     },
     "execution_count": 20,
     "metadata": {},
     "output_type": "execute_result"
    }
   ],
   "source": [
    "positive_words = [i for i in new_texts if i in positive]\n",
    "print(positive_words)\n",
    "len(positive_words)"
   ]
  },
  {
   "cell_type": "markdown",
   "id": "1b59646d",
   "metadata": {},
   "source": [
    "#### positive Score\n"
   ]
  },
  {
   "cell_type": "code",
   "execution_count": 21,
   "id": "7d0fbab1",
   "metadata": {},
   "outputs": [
    {
     "name": "stdout",
     "output_type": "stream",
     "text": [
      "123\n"
     ]
    }
   ],
   "source": [
    "pos_score = len(positive_words)\n",
    "print(pos_score)"
   ]
  },
  {
   "cell_type": "markdown",
   "id": "54a6cc12",
   "metadata": {},
   "source": [
    "#### Negative Score"
   ]
  },
  {
   "cell_type": "code",
   "execution_count": 22,
   "id": "df0766cd",
   "metadata": {},
   "outputs": [
    {
     "name": "stdout",
     "output_type": "stream",
     "text": [
      "129\n"
     ]
    }
   ],
   "source": [
    "neg_score=len(negative_words)\n",
    "print(neg_score)"
   ]
  },
  {
   "cell_type": "markdown",
   "id": "84da7ab7",
   "metadata": {},
   "source": [
    "#### Polarity Score"
   ]
  },
  {
   "cell_type": "code",
   "execution_count": 23,
   "id": "21e88c2b",
   "metadata": {},
   "outputs": [
    {
     "data": {
      "text/plain": [
       "-0.02"
      ]
     },
     "execution_count": 23,
     "metadata": {},
     "output_type": "execute_result"
    }
   ],
   "source": [
    "Polarity_Score = (pos_score - neg_score)/((pos_score + neg_score) + 0.000001)\n",
    "round(Polarity_Score,2)"
   ]
  },
  {
   "cell_type": "code",
   "execution_count": 24,
   "id": "08bcb4ab",
   "metadata": {},
   "outputs": [
    {
     "name": "stdout",
     "output_type": "stream",
     "text": [
      "number of words after cleaning : 828\n"
     ]
    }
   ],
   "source": [
    "word_count = len(new_texts)\n",
    "print(\"number of words after cleaning :\",word_count)"
   ]
  },
  {
   "cell_type": "markdown",
   "id": "16495ba1",
   "metadata": {},
   "source": [
    "#### Subjectivity Score"
   ]
  },
  {
   "cell_type": "code",
   "execution_count": 25,
   "id": "841713a3",
   "metadata": {},
   "outputs": [
    {
     "data": {
      "text/plain": [
       "0.3"
      ]
     },
     "execution_count": 25,
     "metadata": {},
     "output_type": "execute_result"
    }
   ],
   "source": [
    "Subjectivity_Score = (pos_score + neg_score)/ ((word_count) + 0.000001)\n",
    "round(Subjectivity_Score,2)"
   ]
  },
  {
   "cell_type": "markdown",
   "id": "0d7c370e",
   "metadata": {},
   "source": [
    "# Analysis of Readability"
   ]
  },
  {
   "cell_type": "code",
   "execution_count": 26,
   "id": "10209a7a",
   "metadata": {},
   "outputs": [
    {
     "data": {
      "text/plain": [
       "1653"
      ]
     },
     "execution_count": 26,
     "metadata": {},
     "output_type": "execute_result"
    }
   ],
   "source": [
    "import nltk\n",
    "from nltk.tokenize import word_tokenize\n",
    "word_tokens = nltk.word_tokenize(texts)\n",
    "No_of_words = len(word_tokens)\n",
    "No_of_words"
   ]
  },
  {
   "cell_type": "code",
   "execution_count": 27,
   "id": "bfac2ab7",
   "metadata": {},
   "outputs": [
    {
     "data": {
      "text/plain": [
       "78"
      ]
     },
     "execution_count": 27,
     "metadata": {},
     "output_type": "execute_result"
    }
   ],
   "source": [
    "sent_tokens = nltk.sent_tokenize(texts)\n",
    "No_of_sents = len(sent_tokens)\n",
    "No_of_sents "
   ]
  },
  {
   "cell_type": "markdown",
   "id": "1576acfe",
   "metadata": {},
   "source": [
    "### Average sentence Length\n"
   ]
  },
  {
   "cell_type": "code",
   "execution_count": 28,
   "id": "11d6a7ec",
   "metadata": {},
   "outputs": [
    {
     "data": {
      "text/plain": [
       "21.19"
      ]
     },
     "execution_count": 28,
     "metadata": {},
     "output_type": "execute_result"
    }
   ],
   "source": [
    "Avg_Sents_Length = No_of_words / No_of_sents\n",
    "round(Avg_Sents_Length,2)"
   ]
  },
  {
   "cell_type": "markdown",
   "id": "bc20ee3d",
   "metadata": {},
   "source": [
    "### Percentage of Complex words\n",
    "Complex words: words with more than 2 syllable are called complex words"
   ]
  },
  {
   "cell_type": "code",
   "execution_count": 29,
   "id": "eba6a8b1",
   "metadata": {},
   "outputs": [
    {
     "name": "stdout",
     "output_type": "stream",
     "text": [
      "Number of complex words: 256\n",
      "Total number of words: 9574\n"
     ]
    }
   ],
   "source": [
    "from nltk.corpus import cmudict\n",
    "cmud = cmudict.dict()\n",
    "\n",
    "# Defining a function to count syllables in a word\n",
    "def count_syllables(word):\n",
    "    phonemes = cmud[word.lower()][0] \n",
    "    return len([s for s in phonemes if s[-1].isdigit()])\n",
    "\n",
    "# Identifing complex words\n",
    "w_tokens = [i for i in word_tokens if i in cmud]\n",
    "complex_words = [word for word in w_tokens if count_syllables(word) > 2]\n",
    "\n",
    "# Calculatingnumber of complex words\n",
    "num_complex_words = len(complex_words)\n",
    "\n",
    "print(\"Number of complex words:\", num_complex_words)\n",
    "print(\"Total number of words:\", len(texts))"
   ]
  },
  {
   "cell_type": "code",
   "execution_count": 30,
   "id": "e982c0a1",
   "metadata": {},
   "outputs": [
    {
     "data": {
      "text/plain": [
       "37.4"
      ]
     },
     "execution_count": 30,
     "metadata": {},
     "output_type": "execute_result"
    }
   ],
   "source": [
    "Perc_of_Complex_words = len(texts) / num_complex_words\n",
    "round(Perc_of_Complex_words,2)"
   ]
  },
  {
   "cell_type": "markdown",
   "id": "77e948d1",
   "metadata": {},
   "source": [
    "### Fog Index"
   ]
  },
  {
   "cell_type": "code",
   "execution_count": 31,
   "id": "95fb10bb",
   "metadata": {},
   "outputs": [
    {
     "name": "stdout",
     "output_type": "stream",
     "text": [
      "Average sentence length: 78.0\n"
     ]
    }
   ],
   "source": [
    "# Tokenize each sentence into words\n",
    "words = [word_tokens for sentence in sent_tokens]\n",
    "\n",
    "# Calculate the average sentence length\n",
    "avg_sent_len = sum(No_of_sents for sentence in words) / No_of_sents\n",
    "\n",
    "print(\"Average sentence length:\", avg_sent_len)\n"
   ]
  },
  {
   "cell_type": "code",
   "execution_count": 32,
   "id": "38f5a93b",
   "metadata": {},
   "outputs": [
    {
     "data": {
      "text/plain": [
       "46.16"
      ]
     },
     "execution_count": 32,
     "metadata": {},
     "output_type": "execute_result"
    }
   ],
   "source": [
    "Fog_index = 0.4 * (avg_sent_len + Perc_of_Complex_words)\n",
    "round(Fog_index,2)"
   ]
  },
  {
   "cell_type": "markdown",
   "id": "5b4aacea",
   "metadata": {},
   "source": [
    "# Average Number of Words Per Sentence"
   ]
  },
  {
   "cell_type": "code",
   "execution_count": 33,
   "id": "45da1407",
   "metadata": {},
   "outputs": [
    {
     "data": {
      "text/plain": [
       "21.19"
      ]
     },
     "execution_count": 33,
     "metadata": {},
     "output_type": "execute_result"
    }
   ],
   "source": [
    "avg_no_of_words_per_sent = No_of_words / No_of_sents\n",
    "round(avg_no_of_words_per_sent,2)"
   ]
  },
  {
   "cell_type": "markdown",
   "id": "f2d9b493",
   "metadata": {},
   "source": [
    "# Complex Word Count"
   ]
  },
  {
   "cell_type": "code",
   "execution_count": 34,
   "id": "75304424",
   "metadata": {},
   "outputs": [
    {
     "name": "stdout",
     "output_type": "stream",
     "text": [
      "complex word count: 256\n"
     ]
    }
   ],
   "source": [
    "from nltk.corpus import cmudict\n",
    "cmud = cmudict.dict()\n",
    "\n",
    "# Defining a function to count syllables in a word\n",
    "def count_syllables(word):\n",
    "    phonemes = cmud[word.lower()][0] \n",
    "    return len([s for s in phonemes if s[-1].isdigit()])\n",
    "\n",
    "# Identifing complex words\n",
    "w_tokens = [i for i in word_tokens if i in cmud]\n",
    "complex_words = [word for word in w_tokens if count_syllables(word) > 2]\n",
    "\n",
    "# Calculatingnumber of complex words\n",
    "num_complex_words = len(complex_words)\n",
    "\n",
    "print(\"complex word count:\", num_complex_words)"
   ]
  },
  {
   "cell_type": "markdown",
   "id": "99ea5188",
   "metadata": {},
   "source": [
    "# Word Count\n",
    "number of words after cleaning"
   ]
  },
  {
   "cell_type": "code",
   "execution_count": 35,
   "id": "b4fb0c72",
   "metadata": {},
   "outputs": [
    {
     "data": {
      "text/plain": [
       "828"
      ]
     },
     "execution_count": 35,
     "metadata": {},
     "output_type": "execute_result"
    }
   ],
   "source": [
    "len(new_texts)"
   ]
  },
  {
   "cell_type": "markdown",
   "id": "ca8076ff",
   "metadata": {},
   "source": [
    "# Syllable Count Per Word"
   ]
  },
  {
   "cell_type": "code",
   "execution_count": 36,
   "id": "bc568045",
   "metadata": {},
   "outputs": [
    {
     "name": "stdout",
     "output_type": "stream",
     "text": [
      "Enter a word to get syllable: something\n",
      "Number of syllable in a word : 2\n"
     ]
    }
   ],
   "source": [
    "word = input(\"Enter a word to get syllable: \")\n",
    "def count_syllables(word):\n",
    "    phonemes = cmud[word.lower()][0] \n",
    "    return len([s for s in phonemes if s[-1].isdigit()])\n",
    "\n",
    "print(\"Number of syllable in a word :\",count_syllables(word))"
   ]
  },
  {
   "cell_type": "markdown",
   "id": "1d3a18f6",
   "metadata": {},
   "source": [
    "# Personal Pronouns"
   ]
  },
  {
   "cell_type": "code",
   "execution_count": 37,
   "id": "0b8e0d2d",
   "metadata": {},
   "outputs": [
    {
     "name": "stdout",
     "output_type": "stream",
     "text": [
      "Personal pronoun frequency: {'we': 10, 'it': 13, 'he': 1, 'you': 2, 'they': 4, 'us': 1, 'them': 3}\n",
      "total number of pronouns in a article : 34\n"
     ]
    }
   ],
   "source": [
    "import re\n",
    "\n",
    "# Define a regex pattern to match personal pronouns\n",
    "pattern = r'\\b(I|you|he|she|it|we|they|me|him|her|us|them)\\b'\n",
    "\n",
    "# Count the frequency of personal pronouns\n",
    "pronoun_freq = {}\n",
    "for pronoun in re.findall(pattern, texts, re.IGNORECASE):\n",
    "    pronoun = pronoun.lower()\n",
    "    if pronoun in pronoun_freq:\n",
    "        pronoun_freq[pronoun] += 1\n",
    "    else:\n",
    "        pronoun_freq[pronoun] = 1\n",
    "\n",
    "print(\"Personal pronoun frequency:\", pronoun_freq)\n",
    "def returnSum(dict):\n",
    " \n",
    "    sum = 0\n",
    "    for i in pronoun_freq.values():\n",
    "        sum = sum + i\n",
    " \n",
    "    return sum\n",
    "print(\"total number of pronouns in a article :\",returnSum(pronoun_freq))"
   ]
  },
  {
   "cell_type": "markdown",
   "id": "e3fc87f8",
   "metadata": {},
   "source": [
    "# Average Word Length"
   ]
  },
  {
   "cell_type": "code",
   "execution_count": 38,
   "id": "5bde37d9",
   "metadata": {},
   "outputs": [
    {
     "name": "stdout",
     "output_type": "stream",
     "text": [
      "Average word length: 4.79\n"
     ]
    }
   ],
   "source": [
    "# Calculate the total number of characters in all words\n",
    "total_chars = sum(len(word) for word in word_tokens)\n",
    "\n",
    "avg_word_length = total_chars / No_of_words\n",
    "\n",
    "print(\"Average word length:\", round(avg_word_length,2))\n"
   ]
  },
  {
   "cell_type": "code",
   "execution_count": null,
   "id": "63dc25ad",
   "metadata": {},
   "outputs": [],
   "source": []
  },
  {
   "cell_type": "code",
   "execution_count": null,
   "id": "819012c5",
   "metadata": {},
   "outputs": [],
   "source": []
  }
 ],
 "metadata": {
  "kernelspec": {
   "display_name": "Python 3",
   "language": "python",
   "name": "python3"
  },
  "language_info": {
   "codemirror_mode": {
    "name": "ipython",
    "version": 3
   },
   "file_extension": ".py",
   "mimetype": "text/x-python",
   "name": "python",
   "nbconvert_exporter": "python",
   "pygments_lexer": "ipython3",
   "version": "3.8.8"
  }
 },
 "nbformat": 4,
 "nbformat_minor": 5
}
