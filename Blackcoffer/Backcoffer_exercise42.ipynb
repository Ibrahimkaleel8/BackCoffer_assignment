{
 "cells": [
  {
   "cell_type": "markdown",
   "id": "b9312f26",
   "metadata": {},
   "source": [
    "# Data scraping"
   ]
  },
  {
   "cell_type": "code",
   "execution_count": 1,
   "id": "ef4785ca",
   "metadata": {},
   "outputs": [],
   "source": [
    "import nltk\n",
    "import requests\n",
    "from bs4 import BeautifulSoup"
   ]
  },
  {
   "cell_type": "code",
   "execution_count": 2,
   "id": "ac2f2459",
   "metadata": {},
   "outputs": [],
   "source": [
    "req = requests.get(\"https://insights.blackcoffer.com/how-does-artificial-intelligence-affect-the-environment/\")"
   ]
  },
  {
   "cell_type": "code",
   "execution_count": 3,
   "id": "45f9fa09",
   "metadata": {},
   "outputs": [],
   "source": [
    "soup = BeautifulSoup(req.content, \"html.parser\")\n",
    "res = soup.title\n",
    "paras = soup.find_all('p')"
   ]
  },
  {
   "cell_type": "code",
   "execution_count": 4,
   "id": "dbb256b2",
   "metadata": {
    "scrolled": true
   },
   "outputs": [
    {
     "name": "stdout",
     "output_type": "stream",
     "text": [
      "When we talk about AI, different people have different perspectives about it. There is one group of people, having good knowledge about the real potential of AI, who believe that AI can be a novel solution to many problems that the world is facing today. There is another group of people who are merely threatened by the thought of AI taking over the world. The field of AI took birth when Alan Turing in 1950 had this thought “Can machines think?”. Later in the 1980s, with the adoption of “expert systems” by the companies around the world, the booming of the field of AI was initiated. Initially, it was a matter of awe for everyone to see the results of what AI can achieve. AI’s growth in the past few decades has been exponential and it has transformed the way we live, work and solve challenges. AI has made its impact in a wide variety of areas including healthcare, education, business and many more. But, one of the areas of highest impact that AI has made recently is in the environment and climate change. Is AI Revolutionizing the way we deal with Environment and Climate Change? AI can strengthen climate predictions, enable smarter decision-making for decarbonising industries from building to transport, and work out how to allocate renewable energy. In recent years, AI has been a game-changer in how many people, as well as organizations, deal with climate change. Microsoft believes that artificial intelligence, often encompassing machine learning and deep learning, is a “game-changer” for climate change and environmental issues. The company’s ‘AI for Earth’ program has committed $50 million over five years to create and test new applications for AI. AI is increasingly used to manage the intermittency of renewable energy so that more can be incorporated into the grid; it can handle power fluctuations and improve energy storage as well. Wind companies are using AI to get each turbine’s propeller to produce more electricity per rotation by incorporating real-time weather and operational data. AI can also improve energy efficiency on the city scale by incorporating data from smart meters and the Internet of Things (the internet of computing devices that are embedded in everyday objects, enabling them to send and receive data) to forecast energy demand. Besides, artificial intelligence systems can simulate potential zoning laws, building ordinances, and flood plains to help with urban planning and disaster preparedness. One vision for a sustainable city is to create an “urban dashboard” consisting of real-time data on energy and water use and availability, traffic and weather to make cities more energy-efficient and livable. Hotter temperatures will have significant impacts on agriculture as well. Data from sensors in the field that monitor crop moisture, soil composition and temperature help AI improve production and know when crops need watering. Incorporating this information with that from drones, which are also used to monitor conditions, can help increasingly automatic AI systems know the best times to plant, spray and harvest crops, and when to head off diseases and other problems. This will result in increased efficiency, enhanced yields, and lower use of water, fertilizer and pesticides. But, is AI as good as it looks or does it have a downside? When we talk about the effect of AI in the environment and climate, both sides of the coin must be elucidated. So, apart from all the positives discussed above, the usage of AI also has a downside. Last year’s World Economic Forum report showed that while AI can address some of Earth’s environmental challenges, it is important to manage it properly. According to the forum and experts in the field, AI has the potential to accelerate environmental degradation. The use of power-intensive GPUs to run machine learning training has already been cited as contributing to increased C02 emissions. Although AI has been around for about half a century, the question of environmental impact – and other ethical issues – is only arising now because the techniques developed over decades can now be used in combination with an explosion in data and strong computational power. For all the advances enabled by artificial intelligence, from speech recognition to self-driving cars, AI systems consume a lot of power and can generate high volumes of climate-changing carbon emissions. A study last year found that training an off-the-shelf AI language-processing system produced 1,400 pounds of emissions – about the amount produced by flying one person roundtrip between New York and San Francisco. But there are ways to make machine learning cleaner and greener, a movement that has been called “Green AI.” Some algorithms are less power-hungry than others, for example, and many training sessions can be moved to remote locations that get most of their power from renewable sources. The key, however, is for AI developers and companies to know how much their machine learning experiments are spewing and how much those volumes could be reduced. What can be done? To prevent this, the proposition by the World Economic Forum report is that advancements in “safe” AI should be pursued, to ensure that humanity is not developing AI that is harmful to the environment. Specifically, the World Economic Forum said in its report that AI developers “must incorporate the health of the natural environment as a fundamental dimension.” This means safeguarding against models that will demand the consumption of energy or natural resources beyond what is sustainable, among other factors. In a sense, all programs need to be designed with the dimension of environmental protection and improvement in mind. In the future development of AI programs, it will also be important to note the environmental impact of creating these systems in the first place. According to an academic study on energy usage for deep learning processes, the creation of an effective AI might be costly to the environment. Nearly 300,000 kilograms of carbon dioxide equivalent emissions are created during the process of training a single model. This is basically equal to the emissions of five average cars in the United States. Considering the negative environmental impact in addition to the positive implications of AI and climate change will be crucial, moving forward. There is always room for improvement, some pioneers of machine learning recently published a paper called Tackling Climate Change with Machine Learning was discussed at a major AI conference. David Rolnick, a postdoctoral fellow of the University of Pennsylvania said “call to arms” which means to bring researchers together. This paper covers thirteen areas of research where machine learning can be used, including energy production, CO2 removal, education, solar geoengineering, finance and many more. The main idea is to build more energy-efficient buildings, creating new low-carbon materials, high tech monitoring of deforestation and greener transportation sources. Artificial intelligence and machine learning can be a medium but the real work is to be done by us as a caretaker of mother earth. How about better forecasting of climate change? The kick start was already done by climate informatics in 2011 which regulates the collaboration of data science and climate science. It covers a wide range of topics like improving prediction of extreme events such as hurricanes, paleoclimatology, collecting data from ice cores, climate up-down scaling and its impact on us. “There’s a lot of uncertainty,” Monteleoni Claire Monteleoni, a computer science professor at the University of Colorado concludes that AI/ ML models generally forecast for the short-term. There is a significant difference when it comes to long-term forecasting. The first system was developed at Princeton in the 1960s. All the AI/ ML models developed till now revolve around atmosphere, oceans, land, cryosphere or ice. AI can help to achieve new heights with the amount of data collected at this point of time, and compute more complex climate conditions using climate modeling algorithms. What about showing the effects of extreme weather? We all know that climate change is real and the rise in atmospheric temperature the proof, but to make it more realistic, Montreal Institute of Learning Algorithms (MILA), Microsoft and ConscientAI Labs uses Generative Adversarial Networks popularly know as GANs to simulate what mother earth will look like with the rising sea levels, atmospheric temperature, air pollution and intensive storms. “Our goal is not to convince people climate change is real, it’s to get people who do believe it is real to do more about that,” said Victor Schmidt, a co-author of the paper and Ph.D. candidate at MILA The project is deployed for the people to look at what their places will look like in the future when there will be a significant climate change. Can we track carbon emissions? Short answer, yes. Tracking of carbon emission is one of the agendas of the UN. For this year 2020, the UN’s goal is to prevent new coal plants from being built. Satellite images come into picture using deep learning techniques, data science researchers can analyze these high quality satellite images and track the emission. Google is expanding its horizon of nonprofit’s satellite imagery, including gas-powered plants emissions which can be used by researchers to track the pollution. There are countries organizations which govern CO2 emission on the ground level but these data are unreachable by global monitoring associations. AI can automate the analysis of images of power plants to get regular updates on emissions. It also introduces new ways to measure a plant’s impact, by crunching numbers of nearby infrastructure and electricity use. That’s beneficial for gas-powered plants that don’t have the easy-to-measure plumes that coal-powered plants have.\n"
     ]
    }
   ],
   "source": [
    "texts = \" \".join([paragraph.text.strip() for paragraph in paras])\n",
    "print(texts)"
   ]
  },
  {
   "cell_type": "code",
   "execution_count": 5,
   "id": "e79f5f60",
   "metadata": {},
   "outputs": [
    {
     "data": {
      "text/plain": [
       "9903"
      ]
     },
     "execution_count": 5,
     "metadata": {},
     "output_type": "execute_result"
    }
   ],
   "source": [
    "len(texts)"
   ]
  },
  {
   "cell_type": "markdown",
   "id": "db8f1fcc",
   "metadata": {},
   "source": [
    "Removing Punctuation"
   ]
  },
  {
   "cell_type": "code",
   "execution_count": 6,
   "id": "5285c8a8",
   "metadata": {},
   "outputs": [
    {
     "data": {
      "text/plain": [
       "9903"
      ]
     },
     "execution_count": 6,
     "metadata": {},
     "output_type": "execute_result"
    }
   ],
   "source": [
    "import re\n",
    "import string\n",
    "texts = re.sub(r'[\\'\\“\\”\\()\\%\\,\\-\\'\\’\\?\\ ]', ' ', texts)\n",
    "texts[0:200]\n",
    "len(texts)"
   ]
  },
  {
   "cell_type": "markdown",
   "id": "4fafe7be",
   "metadata": {},
   "source": [
    "# Removing Stopwords"
   ]
  },
  {
   "cell_type": "code",
   "execution_count": 7,
   "id": "089b8663",
   "metadata": {},
   "outputs": [],
   "source": [
    "from nltk.tokenize import word_tokenize"
   ]
  },
  {
   "cell_type": "code",
   "execution_count": 8,
   "id": "280876b0",
   "metadata": {},
   "outputs": [
    {
     "data": {
      "text/plain": [
       "['When',\n",
       " 'we',\n",
       " 'talk',\n",
       " 'about',\n",
       " 'AI',\n",
       " 'different',\n",
       " 'people',\n",
       " 'have',\n",
       " 'different',\n",
       " 'perspectives',\n",
       " 'about',\n",
       " 'it',\n",
       " '.',\n",
       " 'There',\n",
       " 'is',\n",
       " 'one',\n",
       " 'group',\n",
       " 'of',\n",
       " 'people',\n",
       " 'having',\n",
       " 'good',\n",
       " 'knowledge',\n",
       " 'about',\n",
       " 'the',\n",
       " 'real',\n",
       " 'potential',\n",
       " 'of',\n",
       " 'AI',\n",
       " 'who',\n",
       " 'believe',\n",
       " 'that',\n",
       " 'AI',\n",
       " 'can',\n",
       " 'be',\n",
       " 'a',\n",
       " 'novel',\n",
       " 'solution',\n",
       " 'to',\n",
       " 'many',\n",
       " 'problems',\n",
       " 'that',\n",
       " 'the',\n",
       " 'world',\n",
       " 'is',\n",
       " 'facing',\n",
       " 'today',\n",
       " '.',\n",
       " 'There',\n",
       " 'is',\n",
       " 'another',\n",
       " 'group',\n",
       " 'of',\n",
       " 'people',\n",
       " 'who',\n",
       " 'are',\n",
       " 'merely',\n",
       " 'threatened',\n",
       " 'by',\n",
       " 'the',\n",
       " 'thought',\n",
       " 'of',\n",
       " 'AI',\n",
       " 'taking',\n",
       " 'over',\n",
       " 'the',\n",
       " 'world',\n",
       " '.',\n",
       " 'The',\n",
       " 'field',\n",
       " 'of',\n",
       " 'AI',\n",
       " 'took',\n",
       " 'birth',\n",
       " 'when',\n",
       " 'Alan',\n",
       " 'Turing',\n",
       " 'in',\n",
       " '1950',\n",
       " 'had',\n",
       " 'this',\n",
       " 'thought',\n",
       " 'Can',\n",
       " 'machines',\n",
       " 'think',\n",
       " '.',\n",
       " 'Later',\n",
       " 'in',\n",
       " 'the',\n",
       " '1980s',\n",
       " 'with',\n",
       " 'the',\n",
       " 'adoption',\n",
       " 'of',\n",
       " 'expert',\n",
       " 'systems',\n",
       " 'by',\n",
       " 'the',\n",
       " 'companies',\n",
       " 'around',\n",
       " 'the',\n",
       " 'world',\n",
       " 'the',\n",
       " 'booming',\n",
       " 'of',\n",
       " 'the',\n",
       " 'field',\n",
       " 'of',\n",
       " 'AI',\n",
       " 'was',\n",
       " 'initiated',\n",
       " '.',\n",
       " 'Initially',\n",
       " 'it',\n",
       " 'was',\n",
       " 'a',\n",
       " 'matter',\n",
       " 'of',\n",
       " 'awe',\n",
       " 'for',\n",
       " 'everyone',\n",
       " 'to',\n",
       " 'see',\n",
       " 'the',\n",
       " 'results',\n",
       " 'of',\n",
       " 'what',\n",
       " 'AI',\n",
       " 'can',\n",
       " 'achieve',\n",
       " '.',\n",
       " 'AI',\n",
       " 's',\n",
       " 'growth',\n",
       " 'in',\n",
       " 'the',\n",
       " 'past',\n",
       " 'few',\n",
       " 'decades',\n",
       " 'has',\n",
       " 'been',\n",
       " 'exponential',\n",
       " 'and',\n",
       " 'it',\n",
       " 'has',\n",
       " 'transformed',\n",
       " 'the',\n",
       " 'way',\n",
       " 'we',\n",
       " 'live',\n",
       " 'work',\n",
       " 'and',\n",
       " 'solve',\n",
       " 'challenges',\n",
       " '.',\n",
       " 'AI',\n",
       " 'has',\n",
       " 'made',\n",
       " 'its',\n",
       " 'impact',\n",
       " 'in',\n",
       " 'a',\n",
       " 'wide',\n",
       " 'variety',\n",
       " 'of',\n",
       " 'areas',\n",
       " 'including',\n",
       " 'healthcare',\n",
       " 'education',\n",
       " 'business',\n",
       " 'and',\n",
       " 'many',\n",
       " 'more',\n",
       " '.',\n",
       " 'But',\n",
       " 'one',\n",
       " 'of',\n",
       " 'the',\n",
       " 'areas',\n",
       " 'of',\n",
       " 'highest',\n",
       " 'impact',\n",
       " 'that',\n",
       " 'AI',\n",
       " 'has',\n",
       " 'made',\n",
       " 'recently',\n",
       " 'is',\n",
       " 'in',\n",
       " 'the',\n",
       " 'environment',\n",
       " 'and',\n",
       " 'climate',\n",
       " 'change',\n",
       " '.',\n",
       " 'Is',\n",
       " 'AI',\n",
       " 'Revolutionizing',\n",
       " 'the',\n",
       " 'way',\n",
       " 'we',\n",
       " 'deal',\n",
       " 'with',\n",
       " 'Environment',\n",
       " 'and',\n",
       " 'Climate',\n",
       " 'Change',\n",
       " 'AI',\n",
       " 'can',\n",
       " 'strengthen',\n",
       " 'climate',\n",
       " 'predictions',\n",
       " 'enable',\n",
       " 'smarter',\n",
       " 'decision',\n",
       " 'making',\n",
       " 'for',\n",
       " 'decarbonising',\n",
       " 'industries',\n",
       " 'from',\n",
       " 'building',\n",
       " 'to',\n",
       " 'transport',\n",
       " 'and',\n",
       " 'work',\n",
       " 'out',\n",
       " 'how',\n",
       " 'to',\n",
       " 'allocate',\n",
       " 'renewable',\n",
       " 'energy',\n",
       " '.',\n",
       " 'In',\n",
       " 'recent',\n",
       " 'years',\n",
       " 'AI',\n",
       " 'has',\n",
       " 'been',\n",
       " 'a',\n",
       " 'game',\n",
       " 'changer',\n",
       " 'in',\n",
       " 'how',\n",
       " 'many',\n",
       " 'people',\n",
       " 'as',\n",
       " 'well',\n",
       " 'as',\n",
       " 'organizations',\n",
       " 'deal',\n",
       " 'with',\n",
       " 'climate',\n",
       " 'change',\n",
       " '.',\n",
       " 'Microsoft',\n",
       " 'believes',\n",
       " 'that',\n",
       " 'artificial',\n",
       " 'intelligence',\n",
       " 'often',\n",
       " 'encompassing',\n",
       " 'machine',\n",
       " 'learning',\n",
       " 'and',\n",
       " 'deep',\n",
       " 'learning',\n",
       " 'is',\n",
       " 'a',\n",
       " 'game',\n",
       " 'changer',\n",
       " 'for',\n",
       " 'climate',\n",
       " 'change',\n",
       " 'and',\n",
       " 'environmental',\n",
       " 'issues',\n",
       " '.',\n",
       " 'The',\n",
       " 'company',\n",
       " 's',\n",
       " '‘',\n",
       " 'AI',\n",
       " 'for',\n",
       " 'Earth',\n",
       " 'program',\n",
       " 'has',\n",
       " 'committed',\n",
       " '$',\n",
       " '50',\n",
       " 'million',\n",
       " 'over',\n",
       " 'five',\n",
       " 'years',\n",
       " 'to',\n",
       " 'create',\n",
       " 'and',\n",
       " 'test',\n",
       " 'new',\n",
       " 'applications',\n",
       " 'for',\n",
       " 'AI',\n",
       " '.',\n",
       " 'AI',\n",
       " 'is',\n",
       " 'increasingly',\n",
       " 'used',\n",
       " 'to',\n",
       " 'manage',\n",
       " 'the',\n",
       " 'intermittency',\n",
       " 'of',\n",
       " 'renewable',\n",
       " 'energy',\n",
       " 'so',\n",
       " 'that',\n",
       " 'more',\n",
       " 'can',\n",
       " 'be',\n",
       " 'incorporated',\n",
       " 'into',\n",
       " 'the',\n",
       " 'grid',\n",
       " ';',\n",
       " 'it',\n",
       " 'can',\n",
       " 'handle',\n",
       " 'power',\n",
       " 'fluctuations',\n",
       " 'and',\n",
       " 'improve',\n",
       " 'energy',\n",
       " 'storage',\n",
       " 'as',\n",
       " 'well',\n",
       " '.',\n",
       " 'Wind',\n",
       " 'companies',\n",
       " 'are',\n",
       " 'using',\n",
       " 'AI',\n",
       " 'to',\n",
       " 'get',\n",
       " 'each',\n",
       " 'turbine',\n",
       " 's',\n",
       " 'propeller',\n",
       " 'to',\n",
       " 'produce',\n",
       " 'more',\n",
       " 'electricity',\n",
       " 'per',\n",
       " 'rotation',\n",
       " 'by',\n",
       " 'incorporating',\n",
       " 'real',\n",
       " 'time',\n",
       " 'weather',\n",
       " 'and',\n",
       " 'operational',\n",
       " 'data',\n",
       " '.',\n",
       " 'AI',\n",
       " 'can',\n",
       " 'also',\n",
       " 'improve',\n",
       " 'energy',\n",
       " 'efficiency',\n",
       " 'on',\n",
       " 'the',\n",
       " 'city',\n",
       " 'scale',\n",
       " 'by',\n",
       " 'incorporating',\n",
       " 'data',\n",
       " 'from',\n",
       " 'smart',\n",
       " 'meters',\n",
       " 'and',\n",
       " 'the',\n",
       " 'Internet',\n",
       " 'of',\n",
       " 'Things',\n",
       " 'the',\n",
       " 'internet',\n",
       " 'of',\n",
       " 'computing',\n",
       " 'devices',\n",
       " 'that',\n",
       " 'are',\n",
       " 'embedded',\n",
       " 'in',\n",
       " 'everyday',\n",
       " 'objects',\n",
       " 'enabling',\n",
       " 'them',\n",
       " 'to',\n",
       " 'send',\n",
       " 'and',\n",
       " 'receive',\n",
       " 'data',\n",
       " 'to',\n",
       " 'forecast',\n",
       " 'energy',\n",
       " 'demand',\n",
       " '.',\n",
       " 'Besides',\n",
       " 'artificial',\n",
       " 'intelligence',\n",
       " 'systems',\n",
       " 'can',\n",
       " 'simulate',\n",
       " 'potential',\n",
       " 'zoning',\n",
       " 'laws',\n",
       " 'building',\n",
       " 'ordinances',\n",
       " 'and',\n",
       " 'flood',\n",
       " 'plains',\n",
       " 'to',\n",
       " 'help',\n",
       " 'with',\n",
       " 'urban',\n",
       " 'planning',\n",
       " 'and',\n",
       " 'disaster',\n",
       " 'preparedness',\n",
       " '.',\n",
       " 'One',\n",
       " 'vision',\n",
       " 'for',\n",
       " 'a',\n",
       " 'sustainable',\n",
       " 'city',\n",
       " 'is',\n",
       " 'to',\n",
       " 'create',\n",
       " 'an',\n",
       " 'urban',\n",
       " 'dashboard',\n",
       " 'consisting',\n",
       " 'of',\n",
       " 'real',\n",
       " 'time',\n",
       " 'data',\n",
       " 'on',\n",
       " 'energy',\n",
       " 'and',\n",
       " 'water',\n",
       " 'use',\n",
       " 'and',\n",
       " 'availability',\n",
       " 'traffic',\n",
       " 'and',\n",
       " 'weather',\n",
       " 'to',\n",
       " 'make',\n",
       " 'cities',\n",
       " 'more',\n",
       " 'energy',\n",
       " 'efficient',\n",
       " 'and',\n",
       " 'livable',\n",
       " '.',\n",
       " 'Hotter',\n",
       " 'temperatures',\n",
       " 'will',\n",
       " 'have',\n",
       " 'significant',\n",
       " 'impacts',\n",
       " 'on',\n",
       " 'agriculture',\n",
       " 'as',\n",
       " 'well',\n",
       " '.',\n",
       " 'Data',\n",
       " 'from',\n",
       " 'sensors',\n",
       " 'in',\n",
       " 'the',\n",
       " 'field',\n",
       " 'that',\n",
       " 'monitor',\n",
       " 'crop',\n",
       " 'moisture',\n",
       " 'soil',\n",
       " 'composition',\n",
       " 'and',\n",
       " 'temperature',\n",
       " 'help',\n",
       " 'AI',\n",
       " 'improve',\n",
       " 'production',\n",
       " 'and',\n",
       " 'know',\n",
       " 'when',\n",
       " 'crops',\n",
       " 'need',\n",
       " 'watering',\n",
       " '.',\n",
       " 'Incorporating',\n",
       " 'this',\n",
       " 'information',\n",
       " 'with',\n",
       " 'that',\n",
       " 'from',\n",
       " 'drones',\n",
       " 'which',\n",
       " 'are',\n",
       " 'also',\n",
       " 'used',\n",
       " 'to',\n",
       " 'monitor',\n",
       " 'conditions',\n",
       " 'can',\n",
       " 'help',\n",
       " 'increasingly',\n",
       " 'automatic',\n",
       " 'AI',\n",
       " 'systems',\n",
       " 'know',\n",
       " 'the',\n",
       " 'best',\n",
       " 'times',\n",
       " 'to',\n",
       " 'plant',\n",
       " 'spray',\n",
       " 'and',\n",
       " 'harvest',\n",
       " 'crops',\n",
       " 'and',\n",
       " 'when',\n",
       " 'to',\n",
       " 'head',\n",
       " 'off',\n",
       " 'diseases',\n",
       " 'and',\n",
       " 'other',\n",
       " 'problems',\n",
       " '.',\n",
       " 'This',\n",
       " 'will',\n",
       " 'result',\n",
       " 'in',\n",
       " 'increased',\n",
       " 'efficiency',\n",
       " 'enhanced',\n",
       " 'yields',\n",
       " 'and',\n",
       " 'lower',\n",
       " 'use',\n",
       " 'of',\n",
       " 'water',\n",
       " 'fertilizer',\n",
       " 'and',\n",
       " 'pesticides',\n",
       " '.',\n",
       " 'But',\n",
       " 'is',\n",
       " 'AI',\n",
       " 'as',\n",
       " 'good',\n",
       " 'as',\n",
       " 'it',\n",
       " 'looks',\n",
       " 'or',\n",
       " 'does',\n",
       " 'it',\n",
       " 'have',\n",
       " 'a',\n",
       " 'downside',\n",
       " 'When',\n",
       " 'we',\n",
       " 'talk',\n",
       " 'about',\n",
       " 'the',\n",
       " 'effect',\n",
       " 'of',\n",
       " 'AI',\n",
       " 'in',\n",
       " 'the',\n",
       " 'environment',\n",
       " 'and',\n",
       " 'climate',\n",
       " 'both',\n",
       " 'sides',\n",
       " 'of',\n",
       " 'the',\n",
       " 'coin',\n",
       " 'must',\n",
       " 'be',\n",
       " 'elucidated',\n",
       " '.',\n",
       " 'So',\n",
       " 'apart',\n",
       " 'from',\n",
       " 'all',\n",
       " 'the',\n",
       " 'positives',\n",
       " 'discussed',\n",
       " 'above',\n",
       " 'the',\n",
       " 'usage',\n",
       " 'of',\n",
       " 'AI',\n",
       " 'also',\n",
       " 'has',\n",
       " 'a',\n",
       " 'downside',\n",
       " '.',\n",
       " 'Last',\n",
       " 'year',\n",
       " 's',\n",
       " 'World',\n",
       " 'Economic',\n",
       " 'Forum',\n",
       " 'report',\n",
       " 'showed',\n",
       " 'that',\n",
       " 'while',\n",
       " 'AI',\n",
       " 'can',\n",
       " 'address',\n",
       " 'some',\n",
       " 'of',\n",
       " 'Earth',\n",
       " 's',\n",
       " 'environmental',\n",
       " 'challenges',\n",
       " 'it',\n",
       " 'is',\n",
       " 'important',\n",
       " 'to',\n",
       " 'manage',\n",
       " 'it',\n",
       " 'properly',\n",
       " '.',\n",
       " 'According',\n",
       " 'to',\n",
       " 'the',\n",
       " 'forum',\n",
       " 'and',\n",
       " 'experts',\n",
       " 'in',\n",
       " 'the',\n",
       " 'field',\n",
       " 'AI',\n",
       " 'has',\n",
       " 'the',\n",
       " 'potential',\n",
       " 'to',\n",
       " 'accelerate',\n",
       " 'environmental',\n",
       " 'degradation',\n",
       " '.',\n",
       " 'The',\n",
       " 'use',\n",
       " 'of',\n",
       " 'power',\n",
       " 'intensive',\n",
       " 'GPUs',\n",
       " 'to',\n",
       " 'run',\n",
       " 'machine',\n",
       " 'learning',\n",
       " 'training',\n",
       " 'has',\n",
       " 'already',\n",
       " 'been',\n",
       " 'cited',\n",
       " 'as',\n",
       " 'contributing',\n",
       " 'to',\n",
       " 'increased',\n",
       " 'C02',\n",
       " 'emissions',\n",
       " '.',\n",
       " 'Although',\n",
       " 'AI',\n",
       " 'has',\n",
       " 'been',\n",
       " 'around',\n",
       " 'for',\n",
       " 'about',\n",
       " 'half',\n",
       " 'a',\n",
       " 'century',\n",
       " 'the',\n",
       " 'question',\n",
       " 'of',\n",
       " 'environmental',\n",
       " 'impact',\n",
       " '–',\n",
       " 'and',\n",
       " 'other',\n",
       " 'ethical',\n",
       " 'issues',\n",
       " '–',\n",
       " 'is',\n",
       " 'only',\n",
       " 'arising',\n",
       " 'now',\n",
       " 'because',\n",
       " 'the',\n",
       " 'techniques',\n",
       " 'developed',\n",
       " 'over',\n",
       " 'decades',\n",
       " 'can',\n",
       " 'now',\n",
       " 'be',\n",
       " 'used',\n",
       " 'in',\n",
       " 'combination',\n",
       " 'with',\n",
       " 'an',\n",
       " 'explosion',\n",
       " 'in',\n",
       " 'data',\n",
       " 'and',\n",
       " 'strong',\n",
       " 'computational',\n",
       " 'power',\n",
       " '.',\n",
       " 'For',\n",
       " 'all',\n",
       " 'the',\n",
       " 'advances',\n",
       " 'enabled',\n",
       " 'by',\n",
       " 'artificial',\n",
       " 'intelligence',\n",
       " 'from',\n",
       " 'speech',\n",
       " 'recognition',\n",
       " 'to',\n",
       " 'self',\n",
       " 'driving',\n",
       " 'cars',\n",
       " 'AI',\n",
       " 'systems',\n",
       " 'consume',\n",
       " 'a',\n",
       " 'lot',\n",
       " 'of',\n",
       " 'power',\n",
       " 'and',\n",
       " 'can',\n",
       " 'generate',\n",
       " 'high',\n",
       " 'volumes',\n",
       " 'of',\n",
       " 'climate',\n",
       " 'changing',\n",
       " 'carbon',\n",
       " 'emissions',\n",
       " '.',\n",
       " 'A',\n",
       " 'study',\n",
       " 'last',\n",
       " 'year',\n",
       " 'found',\n",
       " 'that',\n",
       " 'training',\n",
       " 'an',\n",
       " 'off',\n",
       " 'the',\n",
       " 'shelf',\n",
       " 'AI',\n",
       " 'language',\n",
       " 'processing',\n",
       " 'system',\n",
       " 'produced',\n",
       " '1',\n",
       " '400',\n",
       " 'pounds',\n",
       " 'of',\n",
       " 'emissions',\n",
       " '–',\n",
       " 'about',\n",
       " 'the',\n",
       " 'amount',\n",
       " 'produced',\n",
       " 'by',\n",
       " 'flying',\n",
       " 'one',\n",
       " 'person',\n",
       " 'roundtrip',\n",
       " 'between',\n",
       " 'New',\n",
       " 'York',\n",
       " 'and',\n",
       " 'San',\n",
       " 'Francisco',\n",
       " '.',\n",
       " 'But',\n",
       " 'there',\n",
       " 'are',\n",
       " 'ways',\n",
       " 'to',\n",
       " 'make',\n",
       " 'machine',\n",
       " 'learning',\n",
       " 'cleaner',\n",
       " 'and',\n",
       " 'greener',\n",
       " 'a',\n",
       " 'movement',\n",
       " 'that',\n",
       " 'has',\n",
       " 'been',\n",
       " 'called',\n",
       " 'Green',\n",
       " 'AI',\n",
       " '.',\n",
       " 'Some',\n",
       " 'algorithms',\n",
       " 'are',\n",
       " 'less',\n",
       " 'power',\n",
       " 'hungry',\n",
       " 'than',\n",
       " 'others',\n",
       " 'for',\n",
       " 'example',\n",
       " 'and',\n",
       " 'many',\n",
       " 'training',\n",
       " 'sessions',\n",
       " 'can',\n",
       " 'be',\n",
       " 'moved',\n",
       " 'to',\n",
       " 'remote',\n",
       " 'locations',\n",
       " 'that',\n",
       " 'get',\n",
       " 'most',\n",
       " 'of',\n",
       " 'their',\n",
       " 'power',\n",
       " 'from',\n",
       " 'renewable',\n",
       " 'sources',\n",
       " '.',\n",
       " 'The',\n",
       " 'key',\n",
       " 'however',\n",
       " 'is',\n",
       " 'for',\n",
       " 'AI',\n",
       " 'developers',\n",
       " 'and',\n",
       " 'companies',\n",
       " 'to',\n",
       " 'know',\n",
       " 'how',\n",
       " 'much',\n",
       " 'their',\n",
       " 'machine',\n",
       " 'learning',\n",
       " 'experiments',\n",
       " 'are',\n",
       " 'spewing',\n",
       " 'and',\n",
       " 'how',\n",
       " 'much',\n",
       " 'those',\n",
       " 'volumes',\n",
       " 'could',\n",
       " 'be',\n",
       " 'reduced',\n",
       " '.',\n",
       " 'What',\n",
       " 'can',\n",
       " 'be',\n",
       " 'done',\n",
       " 'To',\n",
       " 'prevent',\n",
       " 'this',\n",
       " 'the',\n",
       " 'proposition',\n",
       " 'by',\n",
       " 'the',\n",
       " 'World',\n",
       " 'Economic',\n",
       " 'Forum',\n",
       " 'report',\n",
       " 'is',\n",
       " 'that',\n",
       " 'advancements',\n",
       " 'in',\n",
       " 'safe',\n",
       " 'AI',\n",
       " 'should',\n",
       " 'be',\n",
       " 'pursued',\n",
       " 'to',\n",
       " 'ensure',\n",
       " 'that',\n",
       " 'humanity',\n",
       " 'is',\n",
       " 'not',\n",
       " 'developing',\n",
       " 'AI',\n",
       " 'that',\n",
       " 'is',\n",
       " 'harmful',\n",
       " 'to',\n",
       " 'the',\n",
       " 'environment',\n",
       " '.',\n",
       " 'Specifically',\n",
       " 'the',\n",
       " 'World',\n",
       " 'Economic',\n",
       " 'Forum',\n",
       " 'said',\n",
       " 'in',\n",
       " 'its',\n",
       " 'report',\n",
       " 'that',\n",
       " 'AI',\n",
       " 'developers',\n",
       " 'must',\n",
       " 'incorporate',\n",
       " 'the',\n",
       " 'health',\n",
       " 'of',\n",
       " 'the',\n",
       " 'natural',\n",
       " 'environment',\n",
       " 'as',\n",
       " 'a',\n",
       " 'fundamental',\n",
       " 'dimension',\n",
       " '.',\n",
       " 'This',\n",
       " 'means',\n",
       " 'safeguarding',\n",
       " 'against',\n",
       " 'models',\n",
       " 'that',\n",
       " 'will',\n",
       " 'demand',\n",
       " 'the',\n",
       " 'consumption',\n",
       " 'of',\n",
       " 'energy',\n",
       " 'or',\n",
       " 'natural',\n",
       " 'resources',\n",
       " 'beyond',\n",
       " 'what',\n",
       " 'is',\n",
       " 'sustainable',\n",
       " 'among',\n",
       " 'other',\n",
       " 'factors',\n",
       " '.',\n",
       " 'In',\n",
       " 'a',\n",
       " 'sense',\n",
       " 'all',\n",
       " 'programs',\n",
       " 'need',\n",
       " 'to',\n",
       " 'be',\n",
       " 'designed',\n",
       " 'with',\n",
       " 'the',\n",
       " 'dimension',\n",
       " 'of',\n",
       " 'environmental',\n",
       " 'protection',\n",
       " 'and',\n",
       " 'improvement',\n",
       " 'in',\n",
       " 'mind',\n",
       " '.',\n",
       " 'In',\n",
       " 'the',\n",
       " 'future',\n",
       " 'development',\n",
       " 'of',\n",
       " 'AI',\n",
       " 'programs',\n",
       " 'it',\n",
       " 'will',\n",
       " 'also',\n",
       " 'be',\n",
       " 'important',\n",
       " 'to',\n",
       " 'note',\n",
       " 'the',\n",
       " 'environmental',\n",
       " 'impact',\n",
       " 'of',\n",
       " 'creating',\n",
       " 'these',\n",
       " 'systems',\n",
       " ...]"
      ]
     },
     "execution_count": 8,
     "metadata": {},
     "output_type": "execute_result"
    }
   ],
   "source": [
    "token = word_tokenize(texts)\n",
    "token"
   ]
  },
  {
   "cell_type": "code",
   "execution_count": 9,
   "id": "10016a09",
   "metadata": {},
   "outputs": [],
   "source": [
    "with open(\"D:\\lab\\Dataset\\Stopwords_Blackcoffer.txt\", 'r') as file:\n",
    "    data = file.read()"
   ]
  },
  {
   "cell_type": "code",
   "execution_count": 10,
   "id": "c567cbef",
   "metadata": {},
   "outputs": [
    {
     "data": {
      "text/plain": [
       "'ERNST\\nYOUNG\\nDELOITTE\\nTOUCHE\\nKPMG\\nPRICEWATERHOUSECOOPERS\\nPRICEWATERHOUSE\\nCOOPERS\\nAFGHANI\\nARIARY\\nBAHT\\n'"
      ]
     },
     "execution_count": 10,
     "metadata": {},
     "output_type": "execute_result"
    }
   ],
   "source": [
    "data[:100]"
   ]
  },
  {
   "cell_type": "code",
   "execution_count": 11,
   "id": "d65bfa92",
   "metadata": {},
   "outputs": [
    {
     "data": {
      "text/plain": [
       "'ERNST,YOUNG,DELOITTE,TOUCHE,KPMG,PRICEWATERHOUSECOOPERS,PRICEWATERHOUSE,COOPERS,AFGHANI,ARIARY,BAHT,'"
      ]
     },
     "execution_count": 11,
     "metadata": {},
     "output_type": "execute_result"
    }
   ],
   "source": [
    "data = data.replace('\\n', ',')\n",
    "data[:100]"
   ]
  },
  {
   "cell_type": "code",
   "execution_count": 12,
   "id": "0ef23874",
   "metadata": {},
   "outputs": [
    {
     "data": {
      "text/plain": [
       "'When talk people perspectives . There group people good knowledge potential solution problems world facing today . There group people threatened thought taking world . The field birth Alan Turing 1950'"
      ]
     },
     "execution_count": 12,
     "metadata": {},
     "output_type": "execute_result"
    }
   ],
   "source": [
    "new_texts = \" \".join([i for i in token if i not in data])\n",
    "new_texts[:200]"
   ]
  },
  {
   "cell_type": "code",
   "execution_count": 13,
   "id": "ea392da4",
   "metadata": {},
   "outputs": [
    {
     "name": "stdout",
     "output_type": "stream",
     "text": [
      "length before cleaning:  9903\n",
      "length after cleaning:  6580\n"
     ]
    }
   ],
   "source": [
    "print(\"length before cleaning: \", len(texts))\n",
    "print(\"length after cleaning: \", len(new_texts))"
   ]
  },
  {
   "cell_type": "markdown",
   "id": "1f456147",
   "metadata": {},
   "source": [
    "# Negative words"
   ]
  },
  {
   "cell_type": "code",
   "execution_count": 14,
   "id": "dc3618a7",
   "metadata": {},
   "outputs": [],
   "source": [
    "with open(\"D:\\\\lab\\\\Dataset\\\\Negative_words.txt\", 'r') as file:\n",
    "    negative = file.read()"
   ]
  },
  {
   "cell_type": "code",
   "execution_count": 15,
   "id": "2123c4cb",
   "metadata": {},
   "outputs": [
    {
     "data": {
      "text/plain": [
       "'2-faced\\n2-faces\\nabnormal\\nabolish\\nabominable\\nabominably\\nabominate\\nabomination\\nabort\\naborted\\naborts\\nabrade\\nabrasive\\nabrupt\\nabruptly\\nabscond\\nabsence\\nabsent-minded\\nabsentee\\nabsurd\\nabsurdity\\nabsurdly\\nabsurdness\\n'"
      ]
     },
     "execution_count": 15,
     "metadata": {},
     "output_type": "execute_result"
    }
   ],
   "source": [
    "negative[:206]"
   ]
  },
  {
   "cell_type": "code",
   "execution_count": 16,
   "id": "28f44c97",
   "metadata": {},
   "outputs": [
    {
     "data": {
      "text/plain": [
       "'2-faced,2-faces,abnormal,abolish,abominable,abominably,abominate,abomination,abort,aborted,aborts,abrade,abrasive,abrupt,abruptly,abscond,absence,absent-minded,absentee,absurd,absurdity,absurdly,absurdness,'"
      ]
     },
     "execution_count": 16,
     "metadata": {},
     "output_type": "execute_result"
    }
   ],
   "source": [
    "negative = negative.replace('\\n', ',')\n",
    "negative[:206]"
   ]
  },
  {
   "cell_type": "code",
   "execution_count": 17,
   "id": "31a272c0",
   "metadata": {},
   "outputs": [
    {
     "name": "stdout",
     "output_type": "stream",
     "text": [
      "['solution', 'problems', 'thought', 'thought', 'expert', 'awe', 'live', 'work', 'solve', 'deal', 'enable', 'decision', 'work', 'deal', 'issues', 'test', 'manage', 'handle', 'power', 'efficiency', 'city', 'laws', 'plains', 'urban', 'disaster', 'sustainable', 'city', 'urban', 'water', 'make', 'cities', 'efficient', 'significant', 'drones', 'head', 'problems', 'efficiency', 'lower', 'water', 'downside', 'effect', 'usage', 'downside', 'important', 'manage', 'properly', 'degradation', 'power', 'run', 'training', 'half', 'question', 'ethical', 'issues', 'developed', 'power', 'cars', 'lot', 'power', 'generate', 'high', 'found', 'training', 'person', 'make', 'power', 'training', 'moved', 'power', 'key', 'spewing', 'safe', 'ensure', 'humanity', 'harmful', 'health', 'natural', 'fundamental', 'natural', 'sustainable', 'sense', 'designed', 'mind', 'important', 'usage', 'effective', 'costly', 'training', 'equal', 'cars', 'negative', 'moving', 'call', 'arms', 'efficient', 'high', 'work', 'mother', 'earth', 'start', 'range', 'lot', 'short', 'term', 'significant', 'difference', 'term', 'developed', 'developed', 'land', 'point', 'complex', 'make', 'realistic', 'mother', 'earth', 'rising', 'sea', 'air', 'author', 'significant', 'track', 'high', 'quality', 'track', 'gas', 'powered', 'track', 'govern', 'ground', 'unreachable', 'power', 'regular', 'gas', 'powered', 'easy', 'powered']\n"
     ]
    },
    {
     "data": {
      "text/plain": [
       "137"
      ]
     },
     "execution_count": 17,
     "metadata": {},
     "output_type": "execute_result"
    }
   ],
   "source": [
    "new_texts = word_tokenize(new_texts)\n",
    "negative_words = [i for i in new_texts if i in negative]\n",
    "print(negative_words)\n",
    "len(negative_words)"
   ]
  },
  {
   "cell_type": "markdown",
   "id": "0b24f011",
   "metadata": {},
   "source": [
    "# Positive words"
   ]
  },
  {
   "cell_type": "code",
   "execution_count": 18,
   "id": "4b003620",
   "metadata": {},
   "outputs": [
    {
     "data": {
      "text/plain": [
       "'a+\\nabound\\nabounds\\nabundance\\nabundant\\naccessable\\naccessible\\nacclaim\\nacclaimed\\nacclamation\\naccolade\\naccolades\\naccommodative\\naccomodative\\naccomplish\\naccomplished\\naccomplishment\\naccomplishments\\naccurate\\naccurately\\n'"
      ]
     },
     "execution_count": 18,
     "metadata": {},
     "output_type": "execute_result"
    }
   ],
   "source": [
    "with open(\"D:\\\\lab\\\\Dataset\\\\Positive_words.txt\", 'r') as file:\n",
    "    positive = file.read()\n",
    "positive[:210]    "
   ]
  },
  {
   "cell_type": "code",
   "execution_count": 19,
   "id": "66ed38c6",
   "metadata": {},
   "outputs": [
    {
     "data": {
      "text/plain": [
       "'a+,abound,abounds,abundance,abundant,accessable,accessible,acclaim,acclaimed,acclamation,accolade,accolades,accommodative,accomodative,accomplish,accomplished,accomplishment,accomplishments,accurate,accurately,'"
      ]
     },
     "execution_count": 19,
     "metadata": {},
     "output_type": "execute_result"
    }
   ],
   "source": [
    "positive = positive.replace('\\n',',')\n",
    "positive[:210]"
   ]
  },
  {
   "cell_type": "code",
   "execution_count": 20,
   "id": "fc1387e8",
   "metadata": {},
   "outputs": [
    {
     "name": "stdout",
     "output_type": "stream",
     "text": [
      "['good', 'knowledge', 'world', 'thought', 'taking', 'world', 'thought', 'expert', 'world', 'booming', 'awe', 'achieve', 'live', 'work', 'solve', 'made', 'variety', 'made', 'deal', 'enable', 'smarter', 'work', 'energy', 'deal', 'intelligence', 'test', 'manage', 'energy', 'power', 'improve', 'energy', 'improve', 'energy', 'city', 'scale', 'smart', 'send', 'receive', 'energy', 'intelligence', 'vision', 'sustainable', 'city', 'energy', 'energy', 'efficient', 'significant', 'improve', 'head', 'enhanced', 'lower', 'good', 'effect', 'positives', 'important', 'manage', 'properly', 'power', 'run', 'cited', 'question', 'ethical', 'strong', 'power', 'intelligence', 'power', 'high', 'found', 'amount', 'person', 'cleaner', 'power', 'sessions', 'power', 'safe', 'health', 'energy', 'sustainable', 'protection', 'improvement', 'mind', 'future', 'important', 'note', 'energy', 'effective', 'positive', 'forward', 'room', 'improvement', 'call', 'energy', 'idea', 'energy', 'efficient', 'high', 'intelligence', 'work', 'improving', 'term', 'significant', 'term', 'land', 'achieve', 'amount', 'proof', 'realistic', 'rising', 'sea', 'air', 'author', 'future', 'significant', 'emission', 'picture', 'high', 'quality', 'emission', 'emission', 'ground', 'power', 'beneficial', 'easy']\n"
     ]
    },
    {
     "data": {
      "text/plain": [
       "123"
      ]
     },
     "execution_count": 20,
     "metadata": {},
     "output_type": "execute_result"
    }
   ],
   "source": [
    "positive_words = [i for i in new_texts if i in positive]\n",
    "print(positive_words)\n",
    "len(positive_words)"
   ]
  },
  {
   "cell_type": "markdown",
   "id": "1b59646d",
   "metadata": {},
   "source": [
    "#### positive Score\n"
   ]
  },
  {
   "cell_type": "code",
   "execution_count": 21,
   "id": "7d0fbab1",
   "metadata": {},
   "outputs": [
    {
     "name": "stdout",
     "output_type": "stream",
     "text": [
      "123\n"
     ]
    }
   ],
   "source": [
    "pos_score = len(positive_words)\n",
    "print(pos_score)"
   ]
  },
  {
   "cell_type": "markdown",
   "id": "54a6cc12",
   "metadata": {},
   "source": [
    "#### Negative Score"
   ]
  },
  {
   "cell_type": "code",
   "execution_count": 22,
   "id": "df0766cd",
   "metadata": {},
   "outputs": [
    {
     "name": "stdout",
     "output_type": "stream",
     "text": [
      "137\n"
     ]
    }
   ],
   "source": [
    "neg_score=len(negative_words)\n",
    "print(neg_score)"
   ]
  },
  {
   "cell_type": "markdown",
   "id": "84da7ab7",
   "metadata": {},
   "source": [
    "#### Polarity Score"
   ]
  },
  {
   "cell_type": "code",
   "execution_count": 23,
   "id": "21e88c2b",
   "metadata": {},
   "outputs": [
    {
     "data": {
      "text/plain": [
       "-0.05"
      ]
     },
     "execution_count": 23,
     "metadata": {},
     "output_type": "execute_result"
    }
   ],
   "source": [
    "Polarity_Score = (pos_score - neg_score)/((pos_score + neg_score) + 0.000001)\n",
    "round(Polarity_Score,2)"
   ]
  },
  {
   "cell_type": "code",
   "execution_count": 24,
   "id": "08bcb4ab",
   "metadata": {},
   "outputs": [
    {
     "name": "stdout",
     "output_type": "stream",
     "text": [
      "number of words after cleaning : 871\n"
     ]
    }
   ],
   "source": [
    "word_count = len(new_texts)\n",
    "print(\"number of words after cleaning :\",word_count)"
   ]
  },
  {
   "cell_type": "markdown",
   "id": "16495ba1",
   "metadata": {},
   "source": [
    "#### Subjectivity Score"
   ]
  },
  {
   "cell_type": "code",
   "execution_count": 25,
   "id": "841713a3",
   "metadata": {},
   "outputs": [
    {
     "data": {
      "text/plain": [
       "0.3"
      ]
     },
     "execution_count": 25,
     "metadata": {},
     "output_type": "execute_result"
    }
   ],
   "source": [
    "Subjectivity_Score = (pos_score + neg_score)/ ((word_count) + 0.000001)\n",
    "round(Subjectivity_Score,2)"
   ]
  },
  {
   "cell_type": "markdown",
   "id": "0d7c370e",
   "metadata": {},
   "source": [
    "# Analysis of Readability"
   ]
  },
  {
   "cell_type": "code",
   "execution_count": 26,
   "id": "10209a7a",
   "metadata": {},
   "outputs": [
    {
     "data": {
      "text/plain": [
       "1687"
      ]
     },
     "execution_count": 26,
     "metadata": {},
     "output_type": "execute_result"
    }
   ],
   "source": [
    "import nltk\n",
    "from nltk.tokenize import word_tokenize\n",
    "word_tokens = nltk.word_tokenize(texts)\n",
    "No_of_words = len(word_tokens)\n",
    "No_of_words"
   ]
  },
  {
   "cell_type": "code",
   "execution_count": 27,
   "id": "bfac2ab7",
   "metadata": {},
   "outputs": [
    {
     "data": {
      "text/plain": [
       "65"
      ]
     },
     "execution_count": 27,
     "metadata": {},
     "output_type": "execute_result"
    }
   ],
   "source": [
    "sent_tokens = nltk.sent_tokenize(texts)\n",
    "No_of_sents = len(sent_tokens)\n",
    "No_of_sents "
   ]
  },
  {
   "cell_type": "markdown",
   "id": "1576acfe",
   "metadata": {},
   "source": [
    "### Average sentence Length\n"
   ]
  },
  {
   "cell_type": "code",
   "execution_count": 28,
   "id": "11d6a7ec",
   "metadata": {},
   "outputs": [
    {
     "data": {
      "text/plain": [
       "25.95"
      ]
     },
     "execution_count": 28,
     "metadata": {},
     "output_type": "execute_result"
    }
   ],
   "source": [
    "Avg_Sents_Length = No_of_words / No_of_sents\n",
    "round(Avg_Sents_Length,2)"
   ]
  },
  {
   "cell_type": "markdown",
   "id": "bc20ee3d",
   "metadata": {},
   "source": [
    "### Percentage of Complex words\n",
    "Complex words: words with more than 2 syllable are called complex words"
   ]
  },
  {
   "cell_type": "code",
   "execution_count": 29,
   "id": "eba6a8b1",
   "metadata": {},
   "outputs": [
    {
     "name": "stdout",
     "output_type": "stream",
     "text": [
      "Number of complex words: 262\n",
      "Total number of words: 9903\n"
     ]
    }
   ],
   "source": [
    "from nltk.corpus import cmudict\n",
    "cmud = cmudict.dict()\n",
    "\n",
    "# Defining a function to count syllables in a word\n",
    "def count_syllables(word):\n",
    "    phonemes = cmud[word.lower()][0] \n",
    "    return len([s for s in phonemes if s[-1].isdigit()])\n",
    "\n",
    "# Identifing complex words\n",
    "w_tokens = [i for i in word_tokens if i in cmud]\n",
    "complex_words = [word for word in w_tokens if count_syllables(word) > 2]\n",
    "\n",
    "# Calculatingnumber of complex words\n",
    "num_complex_words = len(complex_words)\n",
    "\n",
    "print(\"Number of complex words:\", num_complex_words)\n",
    "print(\"Total number of words:\", len(texts))"
   ]
  },
  {
   "cell_type": "code",
   "execution_count": 30,
   "id": "e982c0a1",
   "metadata": {},
   "outputs": [
    {
     "data": {
      "text/plain": [
       "37.8"
      ]
     },
     "execution_count": 30,
     "metadata": {},
     "output_type": "execute_result"
    }
   ],
   "source": [
    "Perc_of_Complex_words = len(texts) / num_complex_words\n",
    "round(Perc_of_Complex_words,2)"
   ]
  },
  {
   "cell_type": "markdown",
   "id": "77e948d1",
   "metadata": {},
   "source": [
    "### Fog Index"
   ]
  },
  {
   "cell_type": "code",
   "execution_count": 31,
   "id": "95fb10bb",
   "metadata": {},
   "outputs": [
    {
     "name": "stdout",
     "output_type": "stream",
     "text": [
      "Average sentence length: 65.0\n"
     ]
    }
   ],
   "source": [
    "# Tokenize each sentence into words\n",
    "words = [word_tokens for sentence in sent_tokens]\n",
    "\n",
    "# Calculate the average sentence length\n",
    "avg_sent_len = sum(No_of_sents for sentence in words) / No_of_sents\n",
    "\n",
    "print(\"Average sentence length:\", avg_sent_len)\n"
   ]
  },
  {
   "cell_type": "code",
   "execution_count": 32,
   "id": "38f5a93b",
   "metadata": {},
   "outputs": [
    {
     "data": {
      "text/plain": [
       "41.12"
      ]
     },
     "execution_count": 32,
     "metadata": {},
     "output_type": "execute_result"
    }
   ],
   "source": [
    "Fog_index = 0.4 * (avg_sent_len + Perc_of_Complex_words)\n",
    "round(Fog_index,2)"
   ]
  },
  {
   "cell_type": "markdown",
   "id": "5b4aacea",
   "metadata": {},
   "source": [
    "# Average Number of Words Per Sentence"
   ]
  },
  {
   "cell_type": "code",
   "execution_count": 33,
   "id": "45da1407",
   "metadata": {},
   "outputs": [
    {
     "data": {
      "text/plain": [
       "25.95"
      ]
     },
     "execution_count": 33,
     "metadata": {},
     "output_type": "execute_result"
    }
   ],
   "source": [
    "avg_no_of_words_per_sent = No_of_words / No_of_sents\n",
    "round(avg_no_of_words_per_sent,2)"
   ]
  },
  {
   "cell_type": "markdown",
   "id": "f2d9b493",
   "metadata": {},
   "source": [
    "# Complex Word Count"
   ]
  },
  {
   "cell_type": "code",
   "execution_count": 34,
   "id": "75304424",
   "metadata": {},
   "outputs": [
    {
     "name": "stdout",
     "output_type": "stream",
     "text": [
      "complex word count: 262\n"
     ]
    }
   ],
   "source": [
    "from nltk.corpus import cmudict\n",
    "cmud = cmudict.dict()\n",
    "\n",
    "# Defining a function to count syllables in a word\n",
    "def count_syllables(word):\n",
    "    phonemes = cmud[word.lower()][0] \n",
    "    return len([s for s in phonemes if s[-1].isdigit()])\n",
    "\n",
    "# Identifing complex words\n",
    "w_tokens = [i for i in word_tokens if i in cmud]\n",
    "complex_words = [word for word in w_tokens if count_syllables(word) > 2]\n",
    "\n",
    "# Calculatingnumber of complex words\n",
    "num_complex_words = len(complex_words)\n",
    "\n",
    "print(\"complex word count:\", num_complex_words)"
   ]
  },
  {
   "cell_type": "markdown",
   "id": "99ea5188",
   "metadata": {},
   "source": [
    "# Word Count\n",
    "number of words after cleaning"
   ]
  },
  {
   "cell_type": "code",
   "execution_count": 35,
   "id": "b4fb0c72",
   "metadata": {},
   "outputs": [
    {
     "data": {
      "text/plain": [
       "871"
      ]
     },
     "execution_count": 35,
     "metadata": {},
     "output_type": "execute_result"
    }
   ],
   "source": [
    "len(new_texts)"
   ]
  },
  {
   "cell_type": "markdown",
   "id": "ca8076ff",
   "metadata": {},
   "source": [
    "# Syllable Count Per Word"
   ]
  },
  {
   "cell_type": "code",
   "execution_count": 36,
   "id": "6f0b4e4f",
   "metadata": {},
   "outputs": [
    {
     "name": "stdout",
     "output_type": "stream",
     "text": [
      "Enter a word to get syllable: team\n",
      "Number of syllable in a word : 1\n"
     ]
    }
   ],
   "source": [
    "word = input(\"Enter a word to get syllable: \")\n",
    "def count_syllables(word):\n",
    "    phonemes = cmud[word.lower()][0] \n",
    "    return len([s for s in phonemes if s[-1].isdigit()])\n",
    "\n",
    "print(\"Number of syllable in a word :\",count_syllables(word))"
   ]
  },
  {
   "cell_type": "markdown",
   "id": "1d3a18f6",
   "metadata": {},
   "source": [
    "# Personal Pronouns"
   ]
  },
  {
   "cell_type": "code",
   "execution_count": 37,
   "id": "0b8e0d2d",
   "metadata": {},
   "outputs": [
    {
     "name": "stdout",
     "output_type": "stream",
     "text": [
      "Personal pronoun frequency: {'we': 6, 'it': 15, 'them': 1, 'us': 2}\n",
      "total number of pronouns in a article : 24\n"
     ]
    }
   ],
   "source": [
    "import re\n",
    "\n",
    "# Define a regex pattern to match personal pronouns\n",
    "pattern = r'\\b(I|you|he|she|it|we|they|me|him|her|us|them)\\b'\n",
    "\n",
    "# Count the frequency of personal pronouns\n",
    "pronoun_freq = {}\n",
    "for pronoun in re.findall(pattern, texts, re.IGNORECASE):\n",
    "    pronoun = pronoun.lower()\n",
    "    if pronoun in pronoun_freq:\n",
    "        pronoun_freq[pronoun] += 1\n",
    "    else:\n",
    "        pronoun_freq[pronoun] = 1\n",
    "\n",
    "print(\"Personal pronoun frequency:\", pronoun_freq)\n",
    "def returnSum(dict):\n",
    " \n",
    "    sum = 0\n",
    "    for i in pronoun_freq.values():\n",
    "        sum = sum + i\n",
    " \n",
    "    return sum\n",
    "print(\"total number of pronouns in a article :\",returnSum(pronoun_freq))"
   ]
  },
  {
   "cell_type": "markdown",
   "id": "e3fc87f8",
   "metadata": {},
   "source": [
    "# Average Word Length"
   ]
  },
  {
   "cell_type": "code",
   "execution_count": 38,
   "id": "5bde37d9",
   "metadata": {},
   "outputs": [
    {
     "name": "stdout",
     "output_type": "stream",
     "text": [
      "Average word length: 4.84\n"
     ]
    }
   ],
   "source": [
    "# Calculate the total number of characters in all words\n",
    "total_chars = sum(len(word) for word in word_tokens)\n",
    "\n",
    "avg_word_length = total_chars / No_of_words\n",
    "\n",
    "print(\"Average word length:\", round(avg_word_length,2))\n"
   ]
  },
  {
   "cell_type": "code",
   "execution_count": null,
   "id": "63dc25ad",
   "metadata": {},
   "outputs": [],
   "source": []
  },
  {
   "cell_type": "code",
   "execution_count": null,
   "id": "819012c5",
   "metadata": {},
   "outputs": [],
   "source": []
  }
 ],
 "metadata": {
  "kernelspec": {
   "display_name": "Python 3",
   "language": "python",
   "name": "python3"
  },
  "language_info": {
   "codemirror_mode": {
    "name": "ipython",
    "version": 3
   },
   "file_extension": ".py",
   "mimetype": "text/x-python",
   "name": "python",
   "nbconvert_exporter": "python",
   "pygments_lexer": "ipython3",
   "version": "3.8.8"
  }
 },
 "nbformat": 4,
 "nbformat_minor": 5
}
