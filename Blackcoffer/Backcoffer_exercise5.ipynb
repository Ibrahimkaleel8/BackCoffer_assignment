{
 "cells": [
  {
   "cell_type": "markdown",
   "id": "b9312f26",
   "metadata": {},
   "source": [
    "# Data scraping"
   ]
  },
  {
   "cell_type": "code",
   "execution_count": 1,
   "id": "ef4785ca",
   "metadata": {},
   "outputs": [],
   "source": [
    "import nltk\n",
    "import requests\n",
    "from bs4 import BeautifulSoup"
   ]
  },
  {
   "cell_type": "code",
   "execution_count": 2,
   "id": "ac2f2459",
   "metadata": {},
   "outputs": [],
   "source": [
    "req = requests.get(\"https://insights.blackcoffer.com/will-ai-replace-us-or-work-with-us/\")"
   ]
  },
  {
   "cell_type": "code",
   "execution_count": 3,
   "id": "45f9fa09",
   "metadata": {},
   "outputs": [],
   "source": [
    "soup = BeautifulSoup(req.content, \"html.parser\")\n",
    "res = soup.title\n",
    "paras = soup.find_all('p')"
   ]
  },
  {
   "cell_type": "code",
   "execution_count": 4,
   "id": "dbb256b2",
   "metadata": {
    "scrolled": true
   },
   "outputs": [
    {
     "name": "stdout",
     "output_type": "stream",
     "text": [
      "“Machine intelligence is the last invention that humanity will ever need to make” Nick Bostrom To put it frankly, Artificial Intelligence will eventually replace jobs. Workers in a variety of industries, from healthcare to agriculture and manufacturing, should expect to witness hiring disruptions as a result of Artificial Intelligence. If history has taught us anything, it is that disruptive paradigm-shifting business ideas not only make a fortune for the innovators, but they also build the groundwork for new business models, market entrants, and job opportunities which will inevitably follow. It is true that robots today or in future will eventually replace humans for many jobs, but so did innovative farming equipment for humans and horses during the industrial revolution. But that does not mean that our jobs as humans will end here. We, on the other hand, will be required to generate and provide value in whole new ways for entirely new business models as a result of these changes. According to 71% of the businesses worldwide, Artificial Intelligence can help people overcome critical and challenging problems and live better lives. Artificial Intelligence consultants at work will be more or equally fair, according to a whopping 83% of corporate leaders. These results demonstrate that Artificial Intelligence is steadily extending its measures, yielding societal benefits and allowing citizens to live more fulfilling lives. Since the advent of Industry 4.0, businesses are moving at a fast pace towards automation, be it any type of industry. In 2013, researchers at oxford university did a study on the future of work. They concluded that almost one in every two jobs have a high risk of being automated by machines. Machine learning is responsible for this disruption. It is the most powerful branch of artificial intelligence. It allows machines to learn from data and mimic some of the things that humans can do. A research was conducted by the employees of Kaggle wherein an algorithm was to be created to take images of a human eye and diagnose an eye disease known as diabetic retinopathy. Here, the winning algorithm could match the diagnosis given by human ophthalmologists. Another study was conducted wherein an algorithm should be created to grade high school essays. Here too, the winning algorithm could match the grade given by human teachers. Thus, we can safely conclude that given the right data, machines can easily outperform human beings in tasks like these. A teacher might read 10,000 essays over a 40-year career; an ophthalmologist might see 50,000 eyes but a machine can read a million essays and see a million eyes within minutes. Thus, it is convenient to conclude that we have no chance of competing with machines on frequent, high volume tasks. Tasks where machines don’t work But there are tasks where human beings have an upper hand, and that is, in novel tasks. Machines can’t handle things they haven’t seen many times before. The fundamental rule of machine learning is that it learns from large volumes of past data. But humans don’t; we have the ability of seemingly connecting disparate threads to solve problems we haven’t seen before. Percy Spencer was a physicist working on radar during world war 2 where he noticed that the magnetron was melting his chocolate bar. Here, he was able to connect his understanding of electromagnetic radiation with his knowledge of cooking in order to invent the microwave oven. Now this sort of cross pollination happens to each one of us several times in a day. Thus, machines cannot compete with us when it comes to tackling novel situations. Now as we all know that around 92% of talented professionals believe that soft skills such as human interactions and fostering relationships matter much more than hard skills in being successful in managing a workplace. Perhaps, these are the kind of tasks that machines can never compete with humans at. Also, creative tasks: the copy behind a marketing campaign needs to grab customers’ attention and will have to stand out of the crowd. Business strategy means finding gaps in the market and accordingly working on them. Since machines cannot outperform humans in novel tasks, it will be humans who would be creating these campaigns and strategies. Human contact would be essential in care-giving and educational-related work responsibilities, and technology would take a backseat. Health screenings and customer service face-to-face communication would advocate for human contact, with Artificial Intelligence playing a supporting role. So, what does this mean for the future of work? The future state of any single job lies in the answer to one single question: to what extent is the job reducible to tackling frequent high-volume tasks and to what extent does it involve tackling novel situations? Today machines diagnose diseases and grade exam papers, over the coming years they’re going to conduct audits, they’re going to read boilerplate from legal contracts. But does that mean we’re not going to be needing accountants and lawyers? Wrong. We’re still going to need them for complex tax structuring, for path breaking litigation. It will only get tougher to get these jobs as machine learning will shrink their ranks. Amazon has recruited more than 100,000 robots in its warehouses to help move goods and products around more effectively, and its warehouse workforce has expanded by more than 80,000 people. Humans pick and pack goods (Amazon has over 480,000,000 products on its “shelves”), while robots move orders throughout the enormous warehouses, therefore reducing “the amount of walking required of workers, making Amazon pickers more efficient and less exhausted.” Furthermore, because Amazon no longer requires aisle space for humans, the robots enable Amazon to pack shelves together like cars in rush-hour traffic.” More inventory under one roof offers better selection for customers, and a higher density of shelf space equals more inventory under one roof. Kodak, once an undisputed giant of the photography industry, had a 90% share in the USA market in 1976, and by 1984, they were employing 1,45,000 people. But in the year 2012, they had a net worth of negative $1 billion and they had to declare bankruptcy. Why? Because they failed to predict the importance of exponential trends when it comes to technology. On the other hand, Instagram, a digital photography company started in 2012 with 13 employees and later they were sold to Facebook for $1 billion. This is so ironic because Kodak pioneered digital photography and actually invented the first digital camera but unfortunately thought of it as a mere product and didn’t pay attention towards it and this created the problem. We live in an era of artificial intelligence (AI), which has given us tremendous computing power, storage space, and information access. We were given the spinning wheel in the first, electricity in the second, and computers in the third industrial revolution by the exponential growth of technology. Airbnb, which is a giant start-up and is known for enabling homeowners to rent out their homes and couches to travellers, for example, “is now creating a new Artificial Intelligence system that will empower its designers and product engineers to literally take ideas from the drawing board and convert them into actual products almost instantly.” This might be a significant breakthrough whether you’re a designer, engineer, or other type of technologist. Differences that Automation brings onto the table: There are three key changes that automation can bring about at the macro level: Artificial Intelligence isn’t just a fad. Tractica, a market research firm, published a report in 2016 that predicted “annual global revenue for artificial intelligence products and services will expand from 643.7 million in 2016 to $36.8 billion by 2025, a 57-fold increase over that time span.” As a result, it is the IT industry’s fastest-growing segment of any size.” The reduction in need for people as a result of Artificial Intelligence and related technologies, which resulted in job layoffs, was a cause of fear. In India alone, job losses in the IT sector have reportedly reached 1,000 in the last year, owing to the integration of new and advanced technologies like artificial intelligence and machine learning. Most of the IT companies such as Infosys, Wipro, TCS, and Cognizant have reduced their employee base in India and are recruiting less, while engaging more personnel in the United States and investing heavily in “centres of innovation.” Artificial Intelligence and data science, which are currently the trending aspects that require fewer people and are primarily located abroad, aren’t helping the prospects of local employees. Another factor is that the computer industry is continuously growing and would develop to a size of two million workers. Unfortunately, it’s a drop in the bucket compared to what robots are doing to Information Technology’s less-skilled brothers. Large e-commerce sites that used to be operated by armies of people are now manned by 200 robots produced by GreyOrange, which is an Indian company based out in Gurgaon. These indefatigable robots lift and stack boxes 24 hours a day, with only a 30-minute break for recharging, and have cut employees by up to 80%. For efficiency, this is a victory but a disaster for job prospects. Internal re-skilling and redeployment of staff is a critical requirement of the hour. Artificial intelligence has presented Indian policymakers with epistemological, scientific, and ethical issues. This requires us to abandon regular, linear, and non-disruptive mental patterns. The tale of artificial intelligence’s influence on individuals and their occupations will only be told over time. It is up to us to upskill ourselves and look for ways to stay current with the industry’s current trends and demands. So, will machines be able to take over many of our jobs? The answer is a resounding yes. However, for every job that is taken over by robots, there will be an equal number of positions available for people to do. Some of these human vocations will be artistic in nature. Others will necessitate humans honing superhuman cognitive abilities. Humans and machines can form symbiotic relationships, assisting each other in doing what they do best. In the future, people and machines may be able to collaborate and work together towards a common goal for any business they work for.\n"
     ]
    }
   ],
   "source": [
    "texts = \" \".join([paragraph.text.strip() for paragraph in paras])\n",
    "print(texts)"
   ]
  },
  {
   "cell_type": "code",
   "execution_count": 5,
   "id": "e79f5f60",
   "metadata": {},
   "outputs": [
    {
     "data": {
      "text/plain": [
       "10511"
      ]
     },
     "execution_count": 5,
     "metadata": {},
     "output_type": "execute_result"
    }
   ],
   "source": [
    "len(texts)"
   ]
  },
  {
   "cell_type": "markdown",
   "id": "db8f1fcc",
   "metadata": {},
   "source": [
    "Removing Punctuation"
   ]
  },
  {
   "cell_type": "code",
   "execution_count": 6,
   "id": "5285c8a8",
   "metadata": {},
   "outputs": [
    {
     "data": {
      "text/plain": [
       "10511"
      ]
     },
     "execution_count": 6,
     "metadata": {},
     "output_type": "execute_result"
    }
   ],
   "source": [
    "import re\n",
    "import string\n",
    "texts = re.sub(r'[\\'\\“\\”\\()\\%\\,\\-\\'\\’\\?\\ ]', ' ', texts)\n",
    "texts[0:200]\n",
    "len(texts)"
   ]
  },
  {
   "cell_type": "markdown",
   "id": "4fafe7be",
   "metadata": {},
   "source": [
    "# Removing Stopwords"
   ]
  },
  {
   "cell_type": "code",
   "execution_count": 7,
   "id": "089b8663",
   "metadata": {},
   "outputs": [],
   "source": [
    "from nltk.tokenize import word_tokenize"
   ]
  },
  {
   "cell_type": "code",
   "execution_count": 8,
   "id": "280876b0",
   "metadata": {},
   "outputs": [
    {
     "data": {
      "text/plain": [
       "['Machine',\n",
       " 'intelligence',\n",
       " 'is',\n",
       " 'the',\n",
       " 'last',\n",
       " 'invention',\n",
       " 'that',\n",
       " 'humanity',\n",
       " 'will',\n",
       " 'ever',\n",
       " 'need',\n",
       " 'to',\n",
       " 'make',\n",
       " 'Nick',\n",
       " 'Bostrom',\n",
       " 'To',\n",
       " 'put',\n",
       " 'it',\n",
       " 'frankly',\n",
       " 'Artificial',\n",
       " 'Intelligence',\n",
       " 'will',\n",
       " 'eventually',\n",
       " 'replace',\n",
       " 'jobs',\n",
       " '.',\n",
       " 'Workers',\n",
       " 'in',\n",
       " 'a',\n",
       " 'variety',\n",
       " 'of',\n",
       " 'industries',\n",
       " 'from',\n",
       " 'healthcare',\n",
       " 'to',\n",
       " 'agriculture',\n",
       " 'and',\n",
       " 'manufacturing',\n",
       " 'should',\n",
       " 'expect',\n",
       " 'to',\n",
       " 'witness',\n",
       " 'hiring',\n",
       " 'disruptions',\n",
       " 'as',\n",
       " 'a',\n",
       " 'result',\n",
       " 'of',\n",
       " 'Artificial',\n",
       " 'Intelligence',\n",
       " '.',\n",
       " 'If',\n",
       " 'history',\n",
       " 'has',\n",
       " 'taught',\n",
       " 'us',\n",
       " 'anything',\n",
       " 'it',\n",
       " 'is',\n",
       " 'that',\n",
       " 'disruptive',\n",
       " 'paradigm',\n",
       " 'shifting',\n",
       " 'business',\n",
       " 'ideas',\n",
       " 'not',\n",
       " 'only',\n",
       " 'make',\n",
       " 'a',\n",
       " 'fortune',\n",
       " 'for',\n",
       " 'the',\n",
       " 'innovators',\n",
       " 'but',\n",
       " 'they',\n",
       " 'also',\n",
       " 'build',\n",
       " 'the',\n",
       " 'groundwork',\n",
       " 'for',\n",
       " 'new',\n",
       " 'business',\n",
       " 'models',\n",
       " 'market',\n",
       " 'entrants',\n",
       " 'and',\n",
       " 'job',\n",
       " 'opportunities',\n",
       " 'which',\n",
       " 'will',\n",
       " 'inevitably',\n",
       " 'follow',\n",
       " '.',\n",
       " 'It',\n",
       " 'is',\n",
       " 'true',\n",
       " 'that',\n",
       " 'robots',\n",
       " 'today',\n",
       " 'or',\n",
       " 'in',\n",
       " 'future',\n",
       " 'will',\n",
       " 'eventually',\n",
       " 'replace',\n",
       " 'humans',\n",
       " 'for',\n",
       " 'many',\n",
       " 'jobs',\n",
       " 'but',\n",
       " 'so',\n",
       " 'did',\n",
       " 'innovative',\n",
       " 'farming',\n",
       " 'equipment',\n",
       " 'for',\n",
       " 'humans',\n",
       " 'and',\n",
       " 'horses',\n",
       " 'during',\n",
       " 'the',\n",
       " 'industrial',\n",
       " 'revolution',\n",
       " '.',\n",
       " 'But',\n",
       " 'that',\n",
       " 'does',\n",
       " 'not',\n",
       " 'mean',\n",
       " 'that',\n",
       " 'our',\n",
       " 'jobs',\n",
       " 'as',\n",
       " 'humans',\n",
       " 'will',\n",
       " 'end',\n",
       " 'here',\n",
       " '.',\n",
       " 'We',\n",
       " 'on',\n",
       " 'the',\n",
       " 'other',\n",
       " 'hand',\n",
       " 'will',\n",
       " 'be',\n",
       " 'required',\n",
       " 'to',\n",
       " 'generate',\n",
       " 'and',\n",
       " 'provide',\n",
       " 'value',\n",
       " 'in',\n",
       " 'whole',\n",
       " 'new',\n",
       " 'ways',\n",
       " 'for',\n",
       " 'entirely',\n",
       " 'new',\n",
       " 'business',\n",
       " 'models',\n",
       " 'as',\n",
       " 'a',\n",
       " 'result',\n",
       " 'of',\n",
       " 'these',\n",
       " 'changes',\n",
       " '.',\n",
       " 'According',\n",
       " 'to',\n",
       " '71',\n",
       " 'of',\n",
       " 'the',\n",
       " 'businesses',\n",
       " 'worldwide',\n",
       " 'Artificial',\n",
       " 'Intelligence',\n",
       " 'can',\n",
       " 'help',\n",
       " 'people',\n",
       " 'overcome',\n",
       " 'critical',\n",
       " 'and',\n",
       " 'challenging',\n",
       " 'problems',\n",
       " 'and',\n",
       " 'live',\n",
       " 'better',\n",
       " 'lives',\n",
       " '.',\n",
       " 'Artificial',\n",
       " 'Intelligence',\n",
       " 'consultants',\n",
       " 'at',\n",
       " 'work',\n",
       " 'will',\n",
       " 'be',\n",
       " 'more',\n",
       " 'or',\n",
       " 'equally',\n",
       " 'fair',\n",
       " 'according',\n",
       " 'to',\n",
       " 'a',\n",
       " 'whopping',\n",
       " '83',\n",
       " 'of',\n",
       " 'corporate',\n",
       " 'leaders',\n",
       " '.',\n",
       " 'These',\n",
       " 'results',\n",
       " 'demonstrate',\n",
       " 'that',\n",
       " 'Artificial',\n",
       " 'Intelligence',\n",
       " 'is',\n",
       " 'steadily',\n",
       " 'extending',\n",
       " 'its',\n",
       " 'measures',\n",
       " 'yielding',\n",
       " 'societal',\n",
       " 'benefits',\n",
       " 'and',\n",
       " 'allowing',\n",
       " 'citizens',\n",
       " 'to',\n",
       " 'live',\n",
       " 'more',\n",
       " 'fulfilling',\n",
       " 'lives',\n",
       " '.',\n",
       " 'Since',\n",
       " 'the',\n",
       " 'advent',\n",
       " 'of',\n",
       " 'Industry',\n",
       " '4.0',\n",
       " 'businesses',\n",
       " 'are',\n",
       " 'moving',\n",
       " 'at',\n",
       " 'a',\n",
       " 'fast',\n",
       " 'pace',\n",
       " 'towards',\n",
       " 'automation',\n",
       " 'be',\n",
       " 'it',\n",
       " 'any',\n",
       " 'type',\n",
       " 'of',\n",
       " 'industry',\n",
       " '.',\n",
       " 'In',\n",
       " '2013',\n",
       " 'researchers',\n",
       " 'at',\n",
       " 'oxford',\n",
       " 'university',\n",
       " 'did',\n",
       " 'a',\n",
       " 'study',\n",
       " 'on',\n",
       " 'the',\n",
       " 'future',\n",
       " 'of',\n",
       " 'work',\n",
       " '.',\n",
       " 'They',\n",
       " 'concluded',\n",
       " 'that',\n",
       " 'almost',\n",
       " 'one',\n",
       " 'in',\n",
       " 'every',\n",
       " 'two',\n",
       " 'jobs',\n",
       " 'have',\n",
       " 'a',\n",
       " 'high',\n",
       " 'risk',\n",
       " 'of',\n",
       " 'being',\n",
       " 'automated',\n",
       " 'by',\n",
       " 'machines',\n",
       " '.',\n",
       " 'Machine',\n",
       " 'learning',\n",
       " 'is',\n",
       " 'responsible',\n",
       " 'for',\n",
       " 'this',\n",
       " 'disruption',\n",
       " '.',\n",
       " 'It',\n",
       " 'is',\n",
       " 'the',\n",
       " 'most',\n",
       " 'powerful',\n",
       " 'branch',\n",
       " 'of',\n",
       " 'artificial',\n",
       " 'intelligence',\n",
       " '.',\n",
       " 'It',\n",
       " 'allows',\n",
       " 'machines',\n",
       " 'to',\n",
       " 'learn',\n",
       " 'from',\n",
       " 'data',\n",
       " 'and',\n",
       " 'mimic',\n",
       " 'some',\n",
       " 'of',\n",
       " 'the',\n",
       " 'things',\n",
       " 'that',\n",
       " 'humans',\n",
       " 'can',\n",
       " 'do',\n",
       " '.',\n",
       " 'A',\n",
       " 'research',\n",
       " 'was',\n",
       " 'conducted',\n",
       " 'by',\n",
       " 'the',\n",
       " 'employees',\n",
       " 'of',\n",
       " 'Kaggle',\n",
       " 'wherein',\n",
       " 'an',\n",
       " 'algorithm',\n",
       " 'was',\n",
       " 'to',\n",
       " 'be',\n",
       " 'created',\n",
       " 'to',\n",
       " 'take',\n",
       " 'images',\n",
       " 'of',\n",
       " 'a',\n",
       " 'human',\n",
       " 'eye',\n",
       " 'and',\n",
       " 'diagnose',\n",
       " 'an',\n",
       " 'eye',\n",
       " 'disease',\n",
       " 'known',\n",
       " 'as',\n",
       " 'diabetic',\n",
       " 'retinopathy',\n",
       " '.',\n",
       " 'Here',\n",
       " 'the',\n",
       " 'winning',\n",
       " 'algorithm',\n",
       " 'could',\n",
       " 'match',\n",
       " 'the',\n",
       " 'diagnosis',\n",
       " 'given',\n",
       " 'by',\n",
       " 'human',\n",
       " 'ophthalmologists',\n",
       " '.',\n",
       " 'Another',\n",
       " 'study',\n",
       " 'was',\n",
       " 'conducted',\n",
       " 'wherein',\n",
       " 'an',\n",
       " 'algorithm',\n",
       " 'should',\n",
       " 'be',\n",
       " 'created',\n",
       " 'to',\n",
       " 'grade',\n",
       " 'high',\n",
       " 'school',\n",
       " 'essays',\n",
       " '.',\n",
       " 'Here',\n",
       " 'too',\n",
       " 'the',\n",
       " 'winning',\n",
       " 'algorithm',\n",
       " 'could',\n",
       " 'match',\n",
       " 'the',\n",
       " 'grade',\n",
       " 'given',\n",
       " 'by',\n",
       " 'human',\n",
       " 'teachers',\n",
       " '.',\n",
       " 'Thus',\n",
       " 'we',\n",
       " 'can',\n",
       " 'safely',\n",
       " 'conclude',\n",
       " 'that',\n",
       " 'given',\n",
       " 'the',\n",
       " 'right',\n",
       " 'data',\n",
       " 'machines',\n",
       " 'can',\n",
       " 'easily',\n",
       " 'outperform',\n",
       " 'human',\n",
       " 'beings',\n",
       " 'in',\n",
       " 'tasks',\n",
       " 'like',\n",
       " 'these',\n",
       " '.',\n",
       " 'A',\n",
       " 'teacher',\n",
       " 'might',\n",
       " 'read',\n",
       " '10',\n",
       " '000',\n",
       " 'essays',\n",
       " 'over',\n",
       " 'a',\n",
       " '40',\n",
       " 'year',\n",
       " 'career',\n",
       " ';',\n",
       " 'an',\n",
       " 'ophthalmologist',\n",
       " 'might',\n",
       " 'see',\n",
       " '50',\n",
       " '000',\n",
       " 'eyes',\n",
       " 'but',\n",
       " 'a',\n",
       " 'machine',\n",
       " 'can',\n",
       " 'read',\n",
       " 'a',\n",
       " 'million',\n",
       " 'essays',\n",
       " 'and',\n",
       " 'see',\n",
       " 'a',\n",
       " 'million',\n",
       " 'eyes',\n",
       " 'within',\n",
       " 'minutes',\n",
       " '.',\n",
       " 'Thus',\n",
       " 'it',\n",
       " 'is',\n",
       " 'convenient',\n",
       " 'to',\n",
       " 'conclude',\n",
       " 'that',\n",
       " 'we',\n",
       " 'have',\n",
       " 'no',\n",
       " 'chance',\n",
       " 'of',\n",
       " 'competing',\n",
       " 'with',\n",
       " 'machines',\n",
       " 'on',\n",
       " 'frequent',\n",
       " 'high',\n",
       " 'volume',\n",
       " 'tasks',\n",
       " '.',\n",
       " 'Tasks',\n",
       " 'where',\n",
       " 'machines',\n",
       " 'don',\n",
       " 't',\n",
       " 'work',\n",
       " 'But',\n",
       " 'there',\n",
       " 'are',\n",
       " 'tasks',\n",
       " 'where',\n",
       " 'human',\n",
       " 'beings',\n",
       " 'have',\n",
       " 'an',\n",
       " 'upper',\n",
       " 'hand',\n",
       " 'and',\n",
       " 'that',\n",
       " 'is',\n",
       " 'in',\n",
       " 'novel',\n",
       " 'tasks',\n",
       " '.',\n",
       " 'Machines',\n",
       " 'can',\n",
       " 't',\n",
       " 'handle',\n",
       " 'things',\n",
       " 'they',\n",
       " 'haven',\n",
       " 't',\n",
       " 'seen',\n",
       " 'many',\n",
       " 'times',\n",
       " 'before',\n",
       " '.',\n",
       " 'The',\n",
       " 'fundamental',\n",
       " 'rule',\n",
       " 'of',\n",
       " 'machine',\n",
       " 'learning',\n",
       " 'is',\n",
       " 'that',\n",
       " 'it',\n",
       " 'learns',\n",
       " 'from',\n",
       " 'large',\n",
       " 'volumes',\n",
       " 'of',\n",
       " 'past',\n",
       " 'data',\n",
       " '.',\n",
       " 'But',\n",
       " 'humans',\n",
       " 'don',\n",
       " 't',\n",
       " ';',\n",
       " 'we',\n",
       " 'have',\n",
       " 'the',\n",
       " 'ability',\n",
       " 'of',\n",
       " 'seemingly',\n",
       " 'connecting',\n",
       " 'disparate',\n",
       " 'threads',\n",
       " 'to',\n",
       " 'solve',\n",
       " 'problems',\n",
       " 'we',\n",
       " 'haven',\n",
       " 't',\n",
       " 'seen',\n",
       " 'before',\n",
       " '.',\n",
       " 'Percy',\n",
       " 'Spencer',\n",
       " 'was',\n",
       " 'a',\n",
       " 'physicist',\n",
       " 'working',\n",
       " 'on',\n",
       " 'radar',\n",
       " 'during',\n",
       " 'world',\n",
       " 'war',\n",
       " '2',\n",
       " 'where',\n",
       " 'he',\n",
       " 'noticed',\n",
       " 'that',\n",
       " 'the',\n",
       " 'magnetron',\n",
       " 'was',\n",
       " 'melting',\n",
       " 'his',\n",
       " 'chocolate',\n",
       " 'bar',\n",
       " '.',\n",
       " 'Here',\n",
       " 'he',\n",
       " 'was',\n",
       " 'able',\n",
       " 'to',\n",
       " 'connect',\n",
       " 'his',\n",
       " 'understanding',\n",
       " 'of',\n",
       " 'electromagnetic',\n",
       " 'radiation',\n",
       " 'with',\n",
       " 'his',\n",
       " 'knowledge',\n",
       " 'of',\n",
       " 'cooking',\n",
       " 'in',\n",
       " 'order',\n",
       " 'to',\n",
       " 'invent',\n",
       " 'the',\n",
       " 'microwave',\n",
       " 'oven',\n",
       " '.',\n",
       " 'Now',\n",
       " 'this',\n",
       " 'sort',\n",
       " 'of',\n",
       " 'cross',\n",
       " 'pollination',\n",
       " 'happens',\n",
       " 'to',\n",
       " 'each',\n",
       " 'one',\n",
       " 'of',\n",
       " 'us',\n",
       " 'several',\n",
       " 'times',\n",
       " 'in',\n",
       " 'a',\n",
       " 'day',\n",
       " '.',\n",
       " 'Thus',\n",
       " 'machines',\n",
       " 'can',\n",
       " 'not',\n",
       " 'compete',\n",
       " 'with',\n",
       " 'us',\n",
       " 'when',\n",
       " 'it',\n",
       " 'comes',\n",
       " 'to',\n",
       " 'tackling',\n",
       " 'novel',\n",
       " 'situations',\n",
       " '.',\n",
       " 'Now',\n",
       " 'as',\n",
       " 'we',\n",
       " 'all',\n",
       " 'know',\n",
       " 'that',\n",
       " 'around',\n",
       " '92',\n",
       " 'of',\n",
       " 'talented',\n",
       " 'professionals',\n",
       " 'believe',\n",
       " 'that',\n",
       " 'soft',\n",
       " 'skills',\n",
       " 'such',\n",
       " 'as',\n",
       " 'human',\n",
       " 'interactions',\n",
       " 'and',\n",
       " 'fostering',\n",
       " 'relationships',\n",
       " 'matter',\n",
       " 'much',\n",
       " 'more',\n",
       " 'than',\n",
       " 'hard',\n",
       " 'skills',\n",
       " 'in',\n",
       " 'being',\n",
       " 'successful',\n",
       " 'in',\n",
       " 'managing',\n",
       " 'a',\n",
       " 'workplace',\n",
       " '.',\n",
       " 'Perhaps',\n",
       " 'these',\n",
       " 'are',\n",
       " 'the',\n",
       " 'kind',\n",
       " 'of',\n",
       " 'tasks',\n",
       " 'that',\n",
       " 'machines',\n",
       " 'can',\n",
       " 'never',\n",
       " 'compete',\n",
       " 'with',\n",
       " 'humans',\n",
       " 'at',\n",
       " '.',\n",
       " 'Also',\n",
       " 'creative',\n",
       " 'tasks',\n",
       " ':',\n",
       " 'the',\n",
       " 'copy',\n",
       " 'behind',\n",
       " 'a',\n",
       " 'marketing',\n",
       " 'campaign',\n",
       " 'needs',\n",
       " 'to',\n",
       " 'grab',\n",
       " 'customers',\n",
       " 'attention',\n",
       " 'and',\n",
       " 'will',\n",
       " 'have',\n",
       " 'to',\n",
       " 'stand',\n",
       " 'out',\n",
       " 'of',\n",
       " 'the',\n",
       " 'crowd',\n",
       " '.',\n",
       " 'Business',\n",
       " 'strategy',\n",
       " 'means',\n",
       " 'finding',\n",
       " 'gaps',\n",
       " 'in',\n",
       " 'the',\n",
       " 'market',\n",
       " 'and',\n",
       " 'accordingly',\n",
       " 'working',\n",
       " 'on',\n",
       " 'them',\n",
       " '.',\n",
       " 'Since',\n",
       " 'machines',\n",
       " 'can',\n",
       " 'not',\n",
       " 'outperform',\n",
       " 'humans',\n",
       " 'in',\n",
       " 'novel',\n",
       " 'tasks',\n",
       " 'it',\n",
       " 'will',\n",
       " 'be',\n",
       " 'humans',\n",
       " 'who',\n",
       " 'would',\n",
       " 'be',\n",
       " 'creating',\n",
       " 'these',\n",
       " 'campaigns',\n",
       " 'and',\n",
       " 'strategies',\n",
       " '.',\n",
       " 'Human',\n",
       " 'contact',\n",
       " 'would',\n",
       " 'be',\n",
       " 'essential',\n",
       " 'in',\n",
       " 'care',\n",
       " 'giving',\n",
       " 'and',\n",
       " 'educational',\n",
       " 'related',\n",
       " 'work',\n",
       " 'responsibilities',\n",
       " 'and',\n",
       " 'technology',\n",
       " 'would',\n",
       " 'take',\n",
       " 'a',\n",
       " 'backseat',\n",
       " '.',\n",
       " 'Health',\n",
       " 'screenings',\n",
       " 'and',\n",
       " 'customer',\n",
       " 'service',\n",
       " 'face',\n",
       " 'to',\n",
       " 'face',\n",
       " 'communication',\n",
       " 'would',\n",
       " 'advocate',\n",
       " 'for',\n",
       " 'human',\n",
       " 'contact',\n",
       " 'with',\n",
       " 'Artificial',\n",
       " 'Intelligence',\n",
       " 'playing',\n",
       " 'a',\n",
       " 'supporting',\n",
       " 'role',\n",
       " '.',\n",
       " 'So',\n",
       " 'what',\n",
       " 'does',\n",
       " 'this',\n",
       " 'mean',\n",
       " 'for',\n",
       " 'the',\n",
       " 'future',\n",
       " 'of',\n",
       " 'work',\n",
       " 'The',\n",
       " 'future',\n",
       " 'state',\n",
       " 'of',\n",
       " 'any',\n",
       " 'single',\n",
       " 'job',\n",
       " 'lies',\n",
       " 'in',\n",
       " 'the',\n",
       " 'answer',\n",
       " 'to',\n",
       " 'one',\n",
       " 'single',\n",
       " 'question',\n",
       " ':',\n",
       " 'to',\n",
       " 'what',\n",
       " 'extent',\n",
       " 'is',\n",
       " 'the',\n",
       " 'job',\n",
       " 'reducible',\n",
       " 'to',\n",
       " 'tackling',\n",
       " 'frequent',\n",
       " 'high',\n",
       " 'volume',\n",
       " 'tasks',\n",
       " 'and',\n",
       " 'to',\n",
       " 'what',\n",
       " 'extent',\n",
       " 'does',\n",
       " 'it',\n",
       " 'involve',\n",
       " 'tackling',\n",
       " 'novel',\n",
       " 'situations',\n",
       " 'Today',\n",
       " 'machines',\n",
       " 'diagnose',\n",
       " 'diseases',\n",
       " 'and',\n",
       " 'grade',\n",
       " 'exam',\n",
       " 'papers',\n",
       " 'over',\n",
       " 'the',\n",
       " 'coming',\n",
       " 'years',\n",
       " 'they',\n",
       " 're',\n",
       " 'going',\n",
       " 'to',\n",
       " 'conduct',\n",
       " 'audits',\n",
       " 'they',\n",
       " 're',\n",
       " 'going',\n",
       " 'to',\n",
       " 'read',\n",
       " 'boilerplate',\n",
       " 'from',\n",
       " 'legal',\n",
       " 'contracts',\n",
       " '.',\n",
       " 'But',\n",
       " 'does',\n",
       " 'that',\n",
       " 'mean',\n",
       " 'we',\n",
       " 're',\n",
       " 'not',\n",
       " 'going',\n",
       " 'to',\n",
       " 'be',\n",
       " 'needing',\n",
       " 'accountants',\n",
       " 'and',\n",
       " 'lawyers',\n",
       " 'Wrong',\n",
       " '.',\n",
       " 'We',\n",
       " 're',\n",
       " 'still',\n",
       " 'going',\n",
       " 'to',\n",
       " 'need',\n",
       " 'them',\n",
       " 'for',\n",
       " 'complex',\n",
       " 'tax',\n",
       " 'structuring',\n",
       " 'for',\n",
       " 'path',\n",
       " 'breaking',\n",
       " 'litigation',\n",
       " '.',\n",
       " 'It',\n",
       " 'will',\n",
       " 'only',\n",
       " 'get',\n",
       " 'tougher',\n",
       " 'to',\n",
       " 'get',\n",
       " 'these',\n",
       " 'jobs',\n",
       " 'as',\n",
       " 'machine',\n",
       " 'learning',\n",
       " 'will',\n",
       " 'shrink',\n",
       " 'their',\n",
       " 'ranks',\n",
       " '.',\n",
       " 'Amazon',\n",
       " 'has',\n",
       " 'recruited',\n",
       " 'more',\n",
       " 'than',\n",
       " '100',\n",
       " '000',\n",
       " 'robots',\n",
       " 'in',\n",
       " 'its',\n",
       " 'warehouses',\n",
       " 'to',\n",
       " 'help',\n",
       " 'move',\n",
       " 'goods',\n",
       " 'and',\n",
       " 'products',\n",
       " 'around',\n",
       " 'more',\n",
       " 'effectively',\n",
       " 'and',\n",
       " 'its',\n",
       " 'warehouse',\n",
       " 'workforce',\n",
       " 'has',\n",
       " 'expanded',\n",
       " 'by',\n",
       " 'more',\n",
       " 'than',\n",
       " '80',\n",
       " '000',\n",
       " 'people',\n",
       " '.',\n",
       " 'Humans',\n",
       " 'pick',\n",
       " 'and',\n",
       " 'pack',\n",
       " 'goods',\n",
       " 'Amazon',\n",
       " 'has',\n",
       " 'over',\n",
       " '480',\n",
       " '000',\n",
       " '000',\n",
       " 'products',\n",
       " 'on',\n",
       " 'its',\n",
       " 'shelves',\n",
       " 'while',\n",
       " 'robots',\n",
       " 'move',\n",
       " 'orders',\n",
       " 'throughout',\n",
       " 'the',\n",
       " 'enormous',\n",
       " 'warehouses',\n",
       " 'therefore',\n",
       " 'reducing',\n",
       " 'the',\n",
       " 'amount',\n",
       " 'of',\n",
       " 'walking',\n",
       " 'required',\n",
       " 'of',\n",
       " 'workers',\n",
       " 'making',\n",
       " 'Amazon',\n",
       " 'pickers',\n",
       " 'more',\n",
       " 'efficient',\n",
       " 'and',\n",
       " 'less',\n",
       " 'exhausted',\n",
       " '.',\n",
       " 'Furthermore',\n",
       " 'because',\n",
       " 'Amazon',\n",
       " 'no',\n",
       " 'longer',\n",
       " 'requires',\n",
       " 'aisle',\n",
       " 'space',\n",
       " 'for',\n",
       " ...]"
      ]
     },
     "execution_count": 8,
     "metadata": {},
     "output_type": "execute_result"
    }
   ],
   "source": [
    "token = word_tokenize(texts)\n",
    "token"
   ]
  },
  {
   "cell_type": "code",
   "execution_count": 9,
   "id": "10016a09",
   "metadata": {},
   "outputs": [],
   "source": [
    "with open(\"D:\\lab\\Dataset\\Stopwords_Blackcoffer.txt\", 'r') as file:\n",
    "    data = file.read()"
   ]
  },
  {
   "cell_type": "code",
   "execution_count": 10,
   "id": "c567cbef",
   "metadata": {},
   "outputs": [
    {
     "data": {
      "text/plain": [
       "'ERNST\\nYOUNG\\nDELOITTE\\nTOUCHE\\nKPMG\\nPRICEWATERHOUSECOOPERS\\nPRICEWATERHOUSE\\nCOOPERS\\nAFGHANI\\nARIARY\\nBAHT\\n'"
      ]
     },
     "execution_count": 10,
     "metadata": {},
     "output_type": "execute_result"
    }
   ],
   "source": [
    "data[:100]"
   ]
  },
  {
   "cell_type": "code",
   "execution_count": 11,
   "id": "d65bfa92",
   "metadata": {},
   "outputs": [
    {
     "data": {
      "text/plain": [
       "'ERNST,YOUNG,DELOITTE,TOUCHE,KPMG,PRICEWATERHOUSECOOPERS,PRICEWATERHOUSE,COOPERS,AFGHANI,ARIARY,BAHT,'"
      ]
     },
     "execution_count": 11,
     "metadata": {},
     "output_type": "execute_result"
    }
   ],
   "source": [
    "data = data.replace('\\n', ',')\n",
    "data[:100]"
   ]
  },
  {
   "cell_type": "code",
   "execution_count": 12,
   "id": "0ef23874",
   "metadata": {},
   "outputs": [
    {
     "data": {
      "text/plain": [
       "'Machine intelligence invention humanity make Nick Bostrom To put frankly Artificial Intelligence eventually replace jobs . Workers variety industries healthcare agriculture manufacturing expect witnes'"
      ]
     },
     "execution_count": 12,
     "metadata": {},
     "output_type": "execute_result"
    }
   ],
   "source": [
    "new_texts = \" \".join([i for i in token if i not in data])\n",
    "new_texts[:200]"
   ]
  },
  {
   "cell_type": "code",
   "execution_count": 13,
   "id": "ea392da4",
   "metadata": {},
   "outputs": [
    {
     "name": "stdout",
     "output_type": "stream",
     "text": [
      "length before cleaning:  10511\n",
      "length after cleaning:  6763\n"
     ]
    }
   ],
   "source": [
    "print(\"length before cleaning: \", len(texts))\n",
    "print(\"length after cleaning: \", len(new_texts))"
   ]
  },
  {
   "cell_type": "markdown",
   "id": "1f456147",
   "metadata": {},
   "source": [
    "# Negative words"
   ]
  },
  {
   "cell_type": "code",
   "execution_count": 14,
   "id": "dc3618a7",
   "metadata": {},
   "outputs": [],
   "source": [
    "with open(\"D:\\\\lab\\\\Dataset\\\\Negative_words.txt\", 'r') as file:\n",
    "    negative = file.read()"
   ]
  },
  {
   "cell_type": "code",
   "execution_count": 15,
   "id": "2123c4cb",
   "metadata": {},
   "outputs": [
    {
     "data": {
      "text/plain": [
       "'2-faced\\n2-faces\\nabnormal\\nabolish\\nabominable\\nabominably\\nabominate\\nabomination\\nabort\\naborted\\naborts\\nabrade\\nabrasive\\nabrupt\\nabruptly\\nabscond\\nabsence\\nabsent-minded\\nabsentee\\nabsurd\\nabsurdity\\nabsurdly\\nabsurdness\\n'"
      ]
     },
     "execution_count": 15,
     "metadata": {},
     "output_type": "execute_result"
    }
   ],
   "source": [
    "negative[:206]"
   ]
  },
  {
   "cell_type": "code",
   "execution_count": 16,
   "id": "28f44c97",
   "metadata": {},
   "outputs": [
    {
     "data": {
      "text/plain": [
       "'2-faced,2-faces,abnormal,abolish,abominable,abominably,abominate,abomination,abort,aborted,aborts,abrade,abrasive,abrupt,abruptly,abscond,absence,absent-minded,absentee,absurd,absurdity,absurdly,absurdness,'"
      ]
     },
     "execution_count": 16,
     "metadata": {},
     "output_type": "execute_result"
    }
   ],
   "source": [
    "negative = negative.replace('\\n', ',')\n",
    "negative[:206]"
   ]
  },
  {
   "cell_type": "code",
   "execution_count": 17,
   "id": "31a272c0",
   "metadata": {},
   "outputs": [
    {
     "name": "stdout",
     "output_type": "stream",
     "text": [
      "['humanity', 'make', 'put', 'expect', 'disruptive', 'make', 'fortune', 'job', 'inevitably', 'true', 'generate', 'critical', 'challenging', 'problems', 'live', 'work', 'fair', 'steadily', 'yielding', 'live', 'moving', 'fast', 'type', 'work', 'high', 'risk', 'responsible', 'disruption', 'human', 'eye', 'eye', 'human', 'grade', 'high', 'grade', 'human', 'easily', 'human', 'eyes', 'eyes', 'convenient', 'high', 'work', 'human', 'handle', 'fundamental', 'rule', 'ability', 'solve', 'problems', '2', 'noticed', 'bar', 'understanding', 'order', 'oven', 'sort', 'day', 'compete', 'human', 'successful', 'kind', 'compete', 'creative', 'stand', 'crowd', 'essential', 'care', 'giving', 'work', 'service', 'face', 'face', 'human', 'work', 'state', 'job', 'lies', 'question', 'job', 'high', 'grade', 'legal', 'complex', 'tax', 'path', 'breaking', 'move', 'effectively', 'pick', 'move', 'efficient', 'exhausted', 'enable', 'cars', 'rush', 'net', 'worth', 'negative', 'failed', 'predict', 'ironic', 'thought', 'product', 'pay', 'problem', 'live', 'power', 'access', 'start', 'product', 'significant', 'type', 'table', 'key', 'firm', 'span', 'size', 'job', 'fear', 'job', 'losses', 'integration', 'base', 'located', 'factor', 'develop', 'size', 'drop', 'skilled', 'day', 'break', 'cut', 'efficiency', 'disaster', 'job', 'critical', 'ethical', 'issues', 'regular', 'disruptive', 'mental', 'tale', 'job', 'equal', 'positions', 'human', 'nature', 'work', 'common', 'work']\n"
     ]
    },
    {
     "data": {
      "text/plain": [
       "151"
      ]
     },
     "execution_count": 17,
     "metadata": {},
     "output_type": "execute_result"
    }
   ],
   "source": [
    "new_texts = word_tokenize(new_texts)\n",
    "negative_words = [i for i in new_texts if i in negative]\n",
    "print(negative_words)\n",
    "len(negative_words)"
   ]
  },
  {
   "cell_type": "markdown",
   "id": "0b24f011",
   "metadata": {},
   "source": [
    "# Positive words"
   ]
  },
  {
   "cell_type": "code",
   "execution_count": 18,
   "id": "4b003620",
   "metadata": {},
   "outputs": [
    {
     "data": {
      "text/plain": [
       "'a+\\nabound\\nabounds\\nabundance\\nabundant\\naccessable\\naccessible\\nacclaim\\nacclaimed\\nacclamation\\naccolade\\naccolades\\naccommodative\\naccomodative\\naccomplish\\naccomplished\\naccomplishment\\naccomplishments\\naccurate\\naccurately\\n'"
      ]
     },
     "execution_count": 18,
     "metadata": {},
     "output_type": "execute_result"
    }
   ],
   "source": [
    "with open(\"D:\\\\lab\\\\Dataset\\\\Positive_words.txt\", 'r') as file:\n",
    "    positive = file.read()\n",
    "positive[:210]    "
   ]
  },
  {
   "cell_type": "code",
   "execution_count": 19,
   "id": "66ed38c6",
   "metadata": {},
   "outputs": [
    {
     "data": {
      "text/plain": [
       "'a+,abound,abounds,abundance,abundant,accessable,accessible,acclaim,acclaimed,acclamation,accolade,accolades,accommodative,accomodative,accomplish,accomplished,accomplishment,accomplishments,accurate,accurately,'"
      ]
     },
     "execution_count": 19,
     "metadata": {},
     "output_type": "execute_result"
    }
   ],
   "source": [
    "positive = positive.replace('\\n',',')\n",
    "positive[:210]"
   ]
  },
  {
   "cell_type": "code",
   "execution_count": 20,
   "id": "fc1387e8",
   "metadata": {},
   "outputs": [
    {
     "name": "stdout",
     "output_type": "stream",
     "text": [
      "['intelligence', 'put', 'replace', 'variety', 'expect', 'fortune', 'future', 'replace', 'innovative', 'revolution', 'live', 'work', 'fair', 'benefits', 'live', 'advent', 'fast', 'pace', 'future', 'work', 'high', 'risk', 'powerful', 'intelligence', 'human', 'eye', 'eye', 'winning', 'match', 'human', 'grade', 'high', 'winning', 'match', 'grade', 'human', 'safely', 'outperform', 'human', 'convenient', 'high', 'work', 'human', 'large', 'ability', 'solve', 'working', 'world', 'bar', 'connect', 'knowledge', 'order', 'invent', 'oven', 'talented', 'soft', 'human', 'successful', 'kind', 'creative', 'stand', 'working', 'outperform', 'care', 'work', 'advocate', 'human', 'supporting', 'future', 'work', 'future', 'state', 'question', 'high', 'grade', 'structuring', 'path', 'breaking', 'tougher', 'effectively', 'amount', 'efficient', 'enable', 'roof', 'roof', 'undisputed', 'worth', 'thought', 'product', 'problem', 'live', 'intelligence', 'tremendous', 'power', 'access', 'revolution', 'empower', 'product', 'instantly', 'significant', 'breakthrough', 'table', 'firm', 'intelligence', 'fastest', 'growing', 'fear', 'advanced', 'intelligence', 'engaging', 'innovation', 'helping', 'factor', 'growing', 'drop', 'skilled', 'lift', 'break', 'cut', 'victory', 'intelligence', 'ethical', 'mental', 'tale', 'intelligence', 'resounding', 'human', 'future', 'work', 'work']\n"
     ]
    },
    {
     "data": {
      "text/plain": [
       "130"
      ]
     },
     "execution_count": 20,
     "metadata": {},
     "output_type": "execute_result"
    }
   ],
   "source": [
    "positive_words = [i for i in new_texts if i in positive]\n",
    "print(positive_words)\n",
    "len(positive_words)"
   ]
  },
  {
   "cell_type": "markdown",
   "id": "1b59646d",
   "metadata": {},
   "source": [
    "#### positive Score\n"
   ]
  },
  {
   "cell_type": "code",
   "execution_count": 21,
   "id": "7d0fbab1",
   "metadata": {},
   "outputs": [
    {
     "name": "stdout",
     "output_type": "stream",
     "text": [
      "130\n"
     ]
    }
   ],
   "source": [
    "pos_score = len(positive_words)\n",
    "print(pos_score)"
   ]
  },
  {
   "cell_type": "markdown",
   "id": "54a6cc12",
   "metadata": {},
   "source": [
    "#### Negative Score"
   ]
  },
  {
   "cell_type": "code",
   "execution_count": 22,
   "id": "df0766cd",
   "metadata": {},
   "outputs": [
    {
     "name": "stdout",
     "output_type": "stream",
     "text": [
      "151\n"
     ]
    }
   ],
   "source": [
    "neg_score=len(negative_words)\n",
    "print(neg_score)"
   ]
  },
  {
   "cell_type": "markdown",
   "id": "84da7ab7",
   "metadata": {},
   "source": [
    "#### Polarity Score"
   ]
  },
  {
   "cell_type": "code",
   "execution_count": 23,
   "id": "21e88c2b",
   "metadata": {},
   "outputs": [
    {
     "data": {
      "text/plain": [
       "-0.07"
      ]
     },
     "execution_count": 23,
     "metadata": {},
     "output_type": "execute_result"
    }
   ],
   "source": [
    "Polarity_Score = (pos_score - neg_score)/((pos_score + neg_score) + 0.000001)\n",
    "round(Polarity_Score,2)"
   ]
  },
  {
   "cell_type": "markdown",
   "id": "16495ba1",
   "metadata": {},
   "source": [
    "#### Subjectivity Score"
   ]
  },
  {
   "cell_type": "code",
   "execution_count": 24,
   "id": "841713a3",
   "metadata": {},
   "outputs": [
    {
     "data": {
      "text/plain": [
       "0.03"
      ]
     },
     "execution_count": 24,
     "metadata": {},
     "output_type": "execute_result"
    }
   ],
   "source": [
    "Subjectivity_Score = (pos_score + neg_score)/ ((8860) + 0.000001)\n",
    "round(Subjectivity_Score,2)"
   ]
  },
  {
   "cell_type": "markdown",
   "id": "0d7c370e",
   "metadata": {},
   "source": [
    "# Analysis of Readability"
   ]
  },
  {
   "cell_type": "code",
   "execution_count": 25,
   "id": "10209a7a",
   "metadata": {},
   "outputs": [
    {
     "data": {
      "text/plain": [
       "1821"
      ]
     },
     "execution_count": 25,
     "metadata": {},
     "output_type": "execute_result"
    }
   ],
   "source": [
    "import nltk\n",
    "from nltk.tokenize import word_tokenize\n",
    "word_tokens = nltk.word_tokenize(texts)\n",
    "No_of_words = len(word_tokens)\n",
    "No_of_words"
   ]
  },
  {
   "cell_type": "code",
   "execution_count": 26,
   "id": "bfac2ab7",
   "metadata": {},
   "outputs": [
    {
     "data": {
      "text/plain": [
       "77"
      ]
     },
     "execution_count": 26,
     "metadata": {},
     "output_type": "execute_result"
    }
   ],
   "source": [
    "sent_tokens = nltk.sent_tokenize(texts)\n",
    "No_of_sents = len(sent_tokens)\n",
    "No_of_sents "
   ]
  },
  {
   "cell_type": "markdown",
   "id": "1576acfe",
   "metadata": {},
   "source": [
    "### Average sentence Length\n"
   ]
  },
  {
   "cell_type": "code",
   "execution_count": 27,
   "id": "11d6a7ec",
   "metadata": {},
   "outputs": [
    {
     "data": {
      "text/plain": [
       "23.65"
      ]
     },
     "execution_count": 27,
     "metadata": {},
     "output_type": "execute_result"
    }
   ],
   "source": [
    "Avg_Sents_Length = No_of_words / No_of_sents\n",
    "round(Avg_Sents_Length,2)"
   ]
  },
  {
   "cell_type": "markdown",
   "id": "bc20ee3d",
   "metadata": {},
   "source": [
    "### Percentage of Complex words\n",
    "Complex words: words with more than 2 syllable are called complex words"
   ]
  },
  {
   "cell_type": "code",
   "execution_count": 28,
   "id": "eba6a8b1",
   "metadata": {},
   "outputs": [
    {
     "name": "stdout",
     "output_type": "stream",
     "text": [
      "Number of complex words: 265\n",
      "Total number of words: 10511\n"
     ]
    }
   ],
   "source": [
    "from nltk.corpus import cmudict\n",
    "cmud = cmudict.dict()\n",
    "\n",
    "# Defining a function to count syllables in a word\n",
    "def count_syllables(word):\n",
    "    phonemes = cmud[word.lower()][0] \n",
    "    return len([s for s in phonemes if s[-1].isdigit()])\n",
    "\n",
    "# Identifing complex words\n",
    "w_tokens = [i for i in word_tokens if i in cmud]\n",
    "complex_words = [word for word in w_tokens if count_syllables(word) > 2]\n",
    "\n",
    "# Calculatingnumber of complex words\n",
    "num_complex_words = len(complex_words)\n",
    "\n",
    "print(\"Number of complex words:\", num_complex_words)\n",
    "print(\"Total number of words:\", len(texts))"
   ]
  },
  {
   "cell_type": "code",
   "execution_count": 29,
   "id": "9b3b17ba",
   "metadata": {},
   "outputs": [
    {
     "data": {
      "text/plain": [
       "39.66"
      ]
     },
     "execution_count": 29,
     "metadata": {},
     "output_type": "execute_result"
    }
   ],
   "source": [
    "Perc_of_Complex_words = len(texts) / num_complex_words\n",
    "round(Perc_of_Complex_words,2)"
   ]
  },
  {
   "cell_type": "markdown",
   "id": "77e948d1",
   "metadata": {},
   "source": [
    "### Fog Index"
   ]
  },
  {
   "cell_type": "code",
   "execution_count": 30,
   "id": "95fb10bb",
   "metadata": {},
   "outputs": [
    {
     "name": "stdout",
     "output_type": "stream",
     "text": [
      "Average sentence length: 77.0\n"
     ]
    }
   ],
   "source": [
    "# Tokenize each sentence into words\n",
    "words = [word_tokens for sentence in sent_tokens]\n",
    "\n",
    "# Calculate the average sentence length\n",
    "avg_sent_len = sum(No_of_sents for sentence in words) / No_of_sents\n",
    "\n",
    "print(\"Average sentence length:\", avg_sent_len)\n"
   ]
  },
  {
   "cell_type": "code",
   "execution_count": 31,
   "id": "38f5a93b",
   "metadata": {},
   "outputs": [
    {
     "data": {
      "text/plain": [
       "46.67"
      ]
     },
     "execution_count": 31,
     "metadata": {},
     "output_type": "execute_result"
    }
   ],
   "source": [
    "Fog_index = 0.4 * (avg_sent_len + Perc_of_Complex_words)\n",
    "round(Fog_index,2)"
   ]
  },
  {
   "cell_type": "markdown",
   "id": "5b4aacea",
   "metadata": {},
   "source": [
    "# Average Number of Words Per Sentence"
   ]
  },
  {
   "cell_type": "code",
   "execution_count": 32,
   "id": "45da1407",
   "metadata": {},
   "outputs": [
    {
     "data": {
      "text/plain": [
       "23.65"
      ]
     },
     "execution_count": 32,
     "metadata": {},
     "output_type": "execute_result"
    }
   ],
   "source": [
    "avg_no_of_words_per_sent = No_of_words / No_of_sents\n",
    "round(avg_no_of_words_per_sent,2)"
   ]
  },
  {
   "cell_type": "markdown",
   "id": "f2d9b493",
   "metadata": {},
   "source": [
    "# Complex Word Count"
   ]
  },
  {
   "cell_type": "code",
   "execution_count": 33,
   "id": "75304424",
   "metadata": {},
   "outputs": [
    {
     "name": "stdout",
     "output_type": "stream",
     "text": [
      "complex word count: 265\n"
     ]
    }
   ],
   "source": [
    "from nltk.corpus import cmudict\n",
    "cmud = cmudict.dict()\n",
    "\n",
    "# Defining a function to count syllables in a word\n",
    "def count_syllables(word):\n",
    "    phonemes = cmud[word.lower()][0] \n",
    "    return len([s for s in phonemes if s[-1].isdigit()])\n",
    "\n",
    "# Identifing complex words\n",
    "w_tokens = [i for i in word_tokens if i in cmud]\n",
    "complex_words = [word for word in w_tokens if count_syllables(word) > 2]\n",
    "\n",
    "# Calculatingnumber of complex words\n",
    "num_complex_words = len(complex_words)\n",
    "\n",
    "print(\"complex word count:\", num_complex_words)"
   ]
  },
  {
   "cell_type": "markdown",
   "id": "99ea5188",
   "metadata": {},
   "source": [
    "# Word Count\n",
    "number of words after cleaning"
   ]
  },
  {
   "cell_type": "code",
   "execution_count": 34,
   "id": "b4fb0c72",
   "metadata": {},
   "outputs": [
    {
     "data": {
      "text/plain": [
       "932"
      ]
     },
     "execution_count": 34,
     "metadata": {},
     "output_type": "execute_result"
    }
   ],
   "source": [
    "len(new_texts)"
   ]
  },
  {
   "cell_type": "markdown",
   "id": "ca8076ff",
   "metadata": {},
   "source": [
    "# Syllable Count Per Word"
   ]
  },
  {
   "cell_type": "code",
   "execution_count": 35,
   "id": "bc568045",
   "metadata": {},
   "outputs": [
    {
     "name": "stdout",
     "output_type": "stream",
     "text": [
      "Enter a word to get syllable: intelligence\n",
      "Number of syllable in a word : 4\n"
     ]
    }
   ],
   "source": [
    "word = input(\"Enter a word to get syllable: \")\n",
    "def count_syllables(word):\n",
    "    phonemes = cmud[word.lower()][0] \n",
    "    return len([s for s in phonemes if s[-1].isdigit()])\n",
    "\n",
    "print(\"Number of syllable in a word :\",count_syllables(word))"
   ]
  },
  {
   "cell_type": "markdown",
   "id": "1d3a18f6",
   "metadata": {},
   "source": [
    "# Personal Pronouns"
   ]
  },
  {
   "cell_type": "code",
   "execution_count": 36,
   "id": "0b8e0d2d",
   "metadata": {},
   "outputs": [
    {
     "name": "stdout",
     "output_type": "stream",
     "text": [
      "Personal pronoun frequency: {'it': 21, 'us': 6, 'they': 12, 'we': 10, 'he': 2, 'them': 3, 'you': 1}\n",
      "total number of pronouns in a article : 55\n"
     ]
    }
   ],
   "source": [
    "import re\n",
    "\n",
    "# Define a regex pattern to match personal pronouns\n",
    "pattern = r'\\b(I|you|he|she|it|we|they|me|him|her|us|them)\\b'\n",
    "\n",
    "# Count the frequency of personal pronouns\n",
    "pronoun_freq = {}\n",
    "for pronoun in re.findall(pattern, texts, re.IGNORECASE):\n",
    "    pronoun = pronoun.lower()\n",
    "    if pronoun in pronoun_freq:\n",
    "        pronoun_freq[pronoun] += 1\n",
    "    else:\n",
    "        pronoun_freq[pronoun] = 1\n",
    "\n",
    "print(\"Personal pronoun frequency:\", pronoun_freq)\n",
    "def returnSum(dict):\n",
    " \n",
    "    sum = 0\n",
    "    for i in pronoun_freq.values():\n",
    "        sum = sum + i\n",
    " \n",
    "    return sum\n",
    "print(\"total number of pronouns in a article :\",returnSum(pronoun_freq))"
   ]
  },
  {
   "cell_type": "markdown",
   "id": "e3fc87f8",
   "metadata": {},
   "source": [
    "# Average Word Length"
   ]
  },
  {
   "cell_type": "code",
   "execution_count": 37,
   "id": "5bde37d9",
   "metadata": {},
   "outputs": [
    {
     "name": "stdout",
     "output_type": "stream",
     "text": [
      "Average word length: 4.76\n"
     ]
    }
   ],
   "source": [
    "# Calculate the total number of characters in all words\n",
    "total_chars = sum(len(word) for word in word_tokens)\n",
    "\n",
    "avg_word_length = total_chars / No_of_words\n",
    "\n",
    "print(\"Average word length:\", round(avg_word_length,2))\n"
   ]
  },
  {
   "cell_type": "code",
   "execution_count": null,
   "id": "b792411d",
   "metadata": {},
   "outputs": [],
   "source": []
  },
  {
   "cell_type": "code",
   "execution_count": null,
   "id": "565bf927",
   "metadata": {},
   "outputs": [],
   "source": []
  }
 ],
 "metadata": {
  "kernelspec": {
   "display_name": "Python 3",
   "language": "python",
   "name": "python3"
  },
  "language_info": {
   "codemirror_mode": {
    "name": "ipython",
    "version": 3
   },
   "file_extension": ".py",
   "mimetype": "text/x-python",
   "name": "python",
   "nbconvert_exporter": "python",
   "pygments_lexer": "ipython3",
   "version": "3.8.8"
  }
 },
 "nbformat": 4,
 "nbformat_minor": 5
}
