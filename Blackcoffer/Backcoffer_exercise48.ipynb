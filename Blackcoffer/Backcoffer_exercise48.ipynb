{
 "cells": [
  {
   "cell_type": "markdown",
   "id": "b9312f26",
   "metadata": {},
   "source": [
    "# Data scraping"
   ]
  },
  {
   "cell_type": "code",
   "execution_count": 1,
   "id": "ef4785ca",
   "metadata": {},
   "outputs": [],
   "source": [
    "import nltk\n",
    "import requests\n",
    "from bs4 import BeautifulSoup"
   ]
  },
  {
   "cell_type": "code",
   "execution_count": 2,
   "id": "ac2f2459",
   "metadata": {},
   "outputs": [],
   "source": [
    "req = requests.get(\"https://insights.blackcoffer.com/how-small-business-can-survive-the-coronavirus-crisis/\")"
   ]
  },
  {
   "cell_type": "code",
   "execution_count": 3,
   "id": "45f9fa09",
   "metadata": {},
   "outputs": [],
   "source": [
    "soup = BeautifulSoup(req.content, \"html.parser\")\n",
    "res = soup.title\n",
    "paras = soup.find_all('p')"
   ]
  },
  {
   "cell_type": "code",
   "execution_count": 4,
   "id": "dbb256b2",
   "metadata": {
    "scrolled": true
   },
   "outputs": [
    {
     "name": "stdout",
     "output_type": "stream",
     "text": [
      "The word pandemic may be the most used word for the last decade, and we know why. The year 2020 comes with a lot of unprecedented threats to humans as well as to nature. While no business was left insulated from its effect, small businesses were one of the most affected, as they rely on day to day sales and keep the inventory minimum, based on the demand of customers and have a low margin to maneuver. In an article by HSBC’s Navigator, which described the preparedness and contingency plan for the future, Indian business rated high among its peers. The businesses in India have shown resilience to face adversity which can be attributed to varying degrees of adjustment and adaptability. The businesses, while able to adhere to government guidelines have managed to facilitate their customers efficiently and effectively. However, the impact on micro, small, and medium enterprises cannot be left unattended. The Indian subcontinent has an estimated ₹ 633.88 lakh of MSME, out of which 51.2% are in rural areas which employ 44.84% of the total employment provided by this Sector. The MSME sector with 1170 lakh people constitutes 40% of the total workforce. As per the ministry of commerce MSME contribution in Gross Domestic Product (GDP) and export are 37% and 43% respectively. With the huge contribution toward GDP as well as export, the impact on the national economy due to the shock in the MSME sector from the pandemic will be equally devastating. While different businesses face different types of obstacles, we have pointed out 8 of the most common issues faced by them. For any business, cash in hand is oxygen. The small business which usually has at most 1-month cash to run the business if the revenue stream dries up, which in this tough time has to improve gradually. To manage the optimal cash balance is the key to success in this tough time. The optimal cash balance here, defined as “the less of the amount of cash outflow in form rent, employee salaries, and raw material without postponing the payable as they are doing what banks have to do, to the inflow from sale”. In any given situation, business is like juggling between multiple tasks to optimize the performance while maximizing the revenue. The current situation has added another layer of challenge. This challenge will test management skills in various aspects of our business owner. With this article, we have pointed out the major challenges and possible ways to alleviate the impact. As Anthony Robbins quotes, “Every problem is a gift—without problems we would not grow”, the current market has wiped out their share in the market which gives an opportunity to other businesses to grow and lower the expense. While there may be many facets that need to be handled precisely, communication is one of the major tools that will create a positive environment among workers or teams which will influence the customer behavior and result in terms of revenue. The communication will also help to increase productivity and create trust in a supply chain which will improve the cash conversion cycles and working capital ratio. Marketing through word of mouth has no added cost but the benefit can be scaled too much-required revenue. The choice of an effective marketing tool can also influence our target customer and will influence their will to buy the product or service(s) strategically. Cash from operating activity improves if we were able to lower our expenses. To lower these expenses, small business owners have to create a different plan (good, average, and worst) keeping the 6-month frame in mind. Breaking down them in monthly targets would further help them to identify the actual scenario and update the strategy accordingly. As Warren Buffet quotes, “You only have to do a few things right in your life so long as you don’t do too many things wrong.” this is the right time to do the right thing and over time businesses will ripe its benefits.\n"
     ]
    }
   ],
   "source": [
    "texts = \" \".join([paragraph.text.strip() for paragraph in paras])\n",
    "print(texts)"
   ]
  },
  {
   "cell_type": "code",
   "execution_count": 5,
   "id": "e79f5f60",
   "metadata": {},
   "outputs": [
    {
     "data": {
      "text/plain": [
       "3945"
      ]
     },
     "execution_count": 5,
     "metadata": {},
     "output_type": "execute_result"
    }
   ],
   "source": [
    "len(texts)"
   ]
  },
  {
   "cell_type": "markdown",
   "id": "db8f1fcc",
   "metadata": {},
   "source": [
    "Removing Punctuation"
   ]
  },
  {
   "cell_type": "code",
   "execution_count": 6,
   "id": "5285c8a8",
   "metadata": {},
   "outputs": [
    {
     "data": {
      "text/plain": [
       "3945"
      ]
     },
     "execution_count": 6,
     "metadata": {},
     "output_type": "execute_result"
    }
   ],
   "source": [
    "import re\n",
    "import string\n",
    "texts = re.sub(r'[\\'\\“\\”\\()\\%\\,\\-\\'\\’\\?\\ ]', ' ', texts)\n",
    "texts[0:200]\n",
    "len(texts)"
   ]
  },
  {
   "cell_type": "markdown",
   "id": "4fafe7be",
   "metadata": {},
   "source": [
    "# Removing Stopwords"
   ]
  },
  {
   "cell_type": "code",
   "execution_count": 7,
   "id": "089b8663",
   "metadata": {},
   "outputs": [],
   "source": [
    "from nltk.tokenize import word_tokenize"
   ]
  },
  {
   "cell_type": "code",
   "execution_count": 8,
   "id": "280876b0",
   "metadata": {},
   "outputs": [
    {
     "data": {
      "text/plain": [
       "['The',\n",
       " 'word',\n",
       " 'pandemic',\n",
       " 'may',\n",
       " 'be',\n",
       " 'the',\n",
       " 'most',\n",
       " 'used',\n",
       " 'word',\n",
       " 'for',\n",
       " 'the',\n",
       " 'last',\n",
       " 'decade',\n",
       " 'and',\n",
       " 'we',\n",
       " 'know',\n",
       " 'why',\n",
       " '.',\n",
       " 'The',\n",
       " 'year',\n",
       " '2020',\n",
       " 'comes',\n",
       " 'with',\n",
       " 'a',\n",
       " 'lot',\n",
       " 'of',\n",
       " 'unprecedented',\n",
       " 'threats',\n",
       " 'to',\n",
       " 'humans',\n",
       " 'as',\n",
       " 'well',\n",
       " 'as',\n",
       " 'to',\n",
       " 'nature',\n",
       " '.',\n",
       " 'While',\n",
       " 'no',\n",
       " 'business',\n",
       " 'was',\n",
       " 'left',\n",
       " 'insulated',\n",
       " 'from',\n",
       " 'its',\n",
       " 'effect',\n",
       " 'small',\n",
       " 'businesses',\n",
       " 'were',\n",
       " 'one',\n",
       " 'of',\n",
       " 'the',\n",
       " 'most',\n",
       " 'affected',\n",
       " 'as',\n",
       " 'they',\n",
       " 'rely',\n",
       " 'on',\n",
       " 'day',\n",
       " 'to',\n",
       " 'day',\n",
       " 'sales',\n",
       " 'and',\n",
       " 'keep',\n",
       " 'the',\n",
       " 'inventory',\n",
       " 'minimum',\n",
       " 'based',\n",
       " 'on',\n",
       " 'the',\n",
       " 'demand',\n",
       " 'of',\n",
       " 'customers',\n",
       " 'and',\n",
       " 'have',\n",
       " 'a',\n",
       " 'low',\n",
       " 'margin',\n",
       " 'to',\n",
       " 'maneuver',\n",
       " '.',\n",
       " 'In',\n",
       " 'an',\n",
       " 'article',\n",
       " 'by',\n",
       " 'HSBC',\n",
       " 's',\n",
       " 'Navigator',\n",
       " 'which',\n",
       " 'described',\n",
       " 'the',\n",
       " 'preparedness',\n",
       " 'and',\n",
       " 'contingency',\n",
       " 'plan',\n",
       " 'for',\n",
       " 'the',\n",
       " 'future',\n",
       " 'Indian',\n",
       " 'business',\n",
       " 'rated',\n",
       " 'high',\n",
       " 'among',\n",
       " 'its',\n",
       " 'peers',\n",
       " '.',\n",
       " 'The',\n",
       " 'businesses',\n",
       " 'in',\n",
       " 'India',\n",
       " 'have',\n",
       " 'shown',\n",
       " 'resilience',\n",
       " 'to',\n",
       " 'face',\n",
       " 'adversity',\n",
       " 'which',\n",
       " 'can',\n",
       " 'be',\n",
       " 'attributed',\n",
       " 'to',\n",
       " 'varying',\n",
       " 'degrees',\n",
       " 'of',\n",
       " 'adjustment',\n",
       " 'and',\n",
       " 'adaptability',\n",
       " '.',\n",
       " 'The',\n",
       " 'businesses',\n",
       " 'while',\n",
       " 'able',\n",
       " 'to',\n",
       " 'adhere',\n",
       " 'to',\n",
       " 'government',\n",
       " 'guidelines',\n",
       " 'have',\n",
       " 'managed',\n",
       " 'to',\n",
       " 'facilitate',\n",
       " 'their',\n",
       " 'customers',\n",
       " 'efficiently',\n",
       " 'and',\n",
       " 'effectively',\n",
       " '.',\n",
       " 'However',\n",
       " 'the',\n",
       " 'impact',\n",
       " 'on',\n",
       " 'micro',\n",
       " 'small',\n",
       " 'and',\n",
       " 'medium',\n",
       " 'enterprises',\n",
       " 'can',\n",
       " 'not',\n",
       " 'be',\n",
       " 'left',\n",
       " 'unattended',\n",
       " '.',\n",
       " 'The',\n",
       " 'Indian',\n",
       " 'subcontinent',\n",
       " 'has',\n",
       " 'an',\n",
       " 'estimated',\n",
       " '₹',\n",
       " '633.88',\n",
       " 'lakh',\n",
       " 'of',\n",
       " 'MSME',\n",
       " 'out',\n",
       " 'of',\n",
       " 'which',\n",
       " '51.2',\n",
       " 'are',\n",
       " 'in',\n",
       " 'rural',\n",
       " 'areas',\n",
       " 'which',\n",
       " 'employ',\n",
       " '44.84',\n",
       " 'of',\n",
       " 'the',\n",
       " 'total',\n",
       " 'employment',\n",
       " 'provided',\n",
       " 'by',\n",
       " 'this',\n",
       " 'Sector',\n",
       " '.',\n",
       " 'The',\n",
       " 'MSME',\n",
       " 'sector',\n",
       " 'with',\n",
       " '1170',\n",
       " 'lakh',\n",
       " 'people',\n",
       " 'constitutes',\n",
       " '40',\n",
       " 'of',\n",
       " 'the',\n",
       " 'total',\n",
       " 'workforce',\n",
       " '.',\n",
       " 'As',\n",
       " 'per',\n",
       " 'the',\n",
       " 'ministry',\n",
       " 'of',\n",
       " 'commerce',\n",
       " 'MSME',\n",
       " 'contribution',\n",
       " 'in',\n",
       " 'Gross',\n",
       " 'Domestic',\n",
       " 'Product',\n",
       " 'GDP',\n",
       " 'and',\n",
       " 'export',\n",
       " 'are',\n",
       " '37',\n",
       " 'and',\n",
       " '43',\n",
       " 'respectively',\n",
       " '.',\n",
       " 'With',\n",
       " 'the',\n",
       " 'huge',\n",
       " 'contribution',\n",
       " 'toward',\n",
       " 'GDP',\n",
       " 'as',\n",
       " 'well',\n",
       " 'as',\n",
       " 'export',\n",
       " 'the',\n",
       " 'impact',\n",
       " 'on',\n",
       " 'the',\n",
       " 'national',\n",
       " 'economy',\n",
       " 'due',\n",
       " 'to',\n",
       " 'the',\n",
       " 'shock',\n",
       " 'in',\n",
       " 'the',\n",
       " 'MSME',\n",
       " 'sector',\n",
       " 'from',\n",
       " 'the',\n",
       " 'pandemic',\n",
       " 'will',\n",
       " 'be',\n",
       " 'equally',\n",
       " 'devastating',\n",
       " '.',\n",
       " 'While',\n",
       " 'different',\n",
       " 'businesses',\n",
       " 'face',\n",
       " 'different',\n",
       " 'types',\n",
       " 'of',\n",
       " 'obstacles',\n",
       " 'we',\n",
       " 'have',\n",
       " 'pointed',\n",
       " 'out',\n",
       " '8',\n",
       " 'of',\n",
       " 'the',\n",
       " 'most',\n",
       " 'common',\n",
       " 'issues',\n",
       " 'faced',\n",
       " 'by',\n",
       " 'them',\n",
       " '.',\n",
       " 'For',\n",
       " 'any',\n",
       " 'business',\n",
       " 'cash',\n",
       " 'in',\n",
       " 'hand',\n",
       " 'is',\n",
       " 'oxygen',\n",
       " '.',\n",
       " 'The',\n",
       " 'small',\n",
       " 'business',\n",
       " 'which',\n",
       " 'usually',\n",
       " 'has',\n",
       " 'at',\n",
       " 'most',\n",
       " '1',\n",
       " 'month',\n",
       " 'cash',\n",
       " 'to',\n",
       " 'run',\n",
       " 'the',\n",
       " 'business',\n",
       " 'if',\n",
       " 'the',\n",
       " 'revenue',\n",
       " 'stream',\n",
       " 'dries',\n",
       " 'up',\n",
       " 'which',\n",
       " 'in',\n",
       " 'this',\n",
       " 'tough',\n",
       " 'time',\n",
       " 'has',\n",
       " 'to',\n",
       " 'improve',\n",
       " 'gradually',\n",
       " '.',\n",
       " 'To',\n",
       " 'manage',\n",
       " 'the',\n",
       " 'optimal',\n",
       " 'cash',\n",
       " 'balance',\n",
       " 'is',\n",
       " 'the',\n",
       " 'key',\n",
       " 'to',\n",
       " 'success',\n",
       " 'in',\n",
       " 'this',\n",
       " 'tough',\n",
       " 'time',\n",
       " '.',\n",
       " 'The',\n",
       " 'optimal',\n",
       " 'cash',\n",
       " 'balance',\n",
       " 'here',\n",
       " 'defined',\n",
       " 'as',\n",
       " 'the',\n",
       " 'less',\n",
       " 'of',\n",
       " 'the',\n",
       " 'amount',\n",
       " 'of',\n",
       " 'cash',\n",
       " 'outflow',\n",
       " 'in',\n",
       " 'form',\n",
       " 'rent',\n",
       " 'employee',\n",
       " 'salaries',\n",
       " 'and',\n",
       " 'raw',\n",
       " 'material',\n",
       " 'without',\n",
       " 'postponing',\n",
       " 'the',\n",
       " 'payable',\n",
       " 'as',\n",
       " 'they',\n",
       " 'are',\n",
       " 'doing',\n",
       " 'what',\n",
       " 'banks',\n",
       " 'have',\n",
       " 'to',\n",
       " 'do',\n",
       " 'to',\n",
       " 'the',\n",
       " 'inflow',\n",
       " 'from',\n",
       " 'sale',\n",
       " '.',\n",
       " 'In',\n",
       " 'any',\n",
       " 'given',\n",
       " 'situation',\n",
       " 'business',\n",
       " 'is',\n",
       " 'like',\n",
       " 'juggling',\n",
       " 'between',\n",
       " 'multiple',\n",
       " 'tasks',\n",
       " 'to',\n",
       " 'optimize',\n",
       " 'the',\n",
       " 'performance',\n",
       " 'while',\n",
       " 'maximizing',\n",
       " 'the',\n",
       " 'revenue',\n",
       " '.',\n",
       " 'The',\n",
       " 'current',\n",
       " 'situation',\n",
       " 'has',\n",
       " 'added',\n",
       " 'another',\n",
       " 'layer',\n",
       " 'of',\n",
       " 'challenge',\n",
       " '.',\n",
       " 'This',\n",
       " 'challenge',\n",
       " 'will',\n",
       " 'test',\n",
       " 'management',\n",
       " 'skills',\n",
       " 'in',\n",
       " 'various',\n",
       " 'aspects',\n",
       " 'of',\n",
       " 'our',\n",
       " 'business',\n",
       " 'owner',\n",
       " '.',\n",
       " 'With',\n",
       " 'this',\n",
       " 'article',\n",
       " 'we',\n",
       " 'have',\n",
       " 'pointed',\n",
       " 'out',\n",
       " 'the',\n",
       " 'major',\n",
       " 'challenges',\n",
       " 'and',\n",
       " 'possible',\n",
       " 'ways',\n",
       " 'to',\n",
       " 'alleviate',\n",
       " 'the',\n",
       " 'impact',\n",
       " '.',\n",
       " 'As',\n",
       " 'Anthony',\n",
       " 'Robbins',\n",
       " 'quotes',\n",
       " 'Every',\n",
       " 'problem',\n",
       " 'is',\n",
       " 'a',\n",
       " 'gift—without',\n",
       " 'problems',\n",
       " 'we',\n",
       " 'would',\n",
       " 'not',\n",
       " 'grow',\n",
       " 'the',\n",
       " 'current',\n",
       " 'market',\n",
       " 'has',\n",
       " 'wiped',\n",
       " 'out',\n",
       " 'their',\n",
       " 'share',\n",
       " 'in',\n",
       " 'the',\n",
       " 'market',\n",
       " 'which',\n",
       " 'gives',\n",
       " 'an',\n",
       " 'opportunity',\n",
       " 'to',\n",
       " 'other',\n",
       " 'businesses',\n",
       " 'to',\n",
       " 'grow',\n",
       " 'and',\n",
       " 'lower',\n",
       " 'the',\n",
       " 'expense',\n",
       " '.',\n",
       " 'While',\n",
       " 'there',\n",
       " 'may',\n",
       " 'be',\n",
       " 'many',\n",
       " 'facets',\n",
       " 'that',\n",
       " 'need',\n",
       " 'to',\n",
       " 'be',\n",
       " 'handled',\n",
       " 'precisely',\n",
       " 'communication',\n",
       " 'is',\n",
       " 'one',\n",
       " 'of',\n",
       " 'the',\n",
       " 'major',\n",
       " 'tools',\n",
       " 'that',\n",
       " 'will',\n",
       " 'create',\n",
       " 'a',\n",
       " 'positive',\n",
       " 'environment',\n",
       " 'among',\n",
       " 'workers',\n",
       " 'or',\n",
       " 'teams',\n",
       " 'which',\n",
       " 'will',\n",
       " 'influence',\n",
       " 'the',\n",
       " 'customer',\n",
       " 'behavior',\n",
       " 'and',\n",
       " 'result',\n",
       " 'in',\n",
       " 'terms',\n",
       " 'of',\n",
       " 'revenue',\n",
       " '.',\n",
       " 'The',\n",
       " 'communication',\n",
       " 'will',\n",
       " 'also',\n",
       " 'help',\n",
       " 'to',\n",
       " 'increase',\n",
       " 'productivity',\n",
       " 'and',\n",
       " 'create',\n",
       " 'trust',\n",
       " 'in',\n",
       " 'a',\n",
       " 'supply',\n",
       " 'chain',\n",
       " 'which',\n",
       " 'will',\n",
       " 'improve',\n",
       " 'the',\n",
       " 'cash',\n",
       " 'conversion',\n",
       " 'cycles',\n",
       " 'and',\n",
       " 'working',\n",
       " 'capital',\n",
       " 'ratio',\n",
       " '.',\n",
       " 'Marketing',\n",
       " 'through',\n",
       " 'word',\n",
       " 'of',\n",
       " 'mouth',\n",
       " 'has',\n",
       " 'no',\n",
       " 'added',\n",
       " 'cost',\n",
       " 'but',\n",
       " 'the',\n",
       " 'benefit',\n",
       " 'can',\n",
       " 'be',\n",
       " 'scaled',\n",
       " 'too',\n",
       " 'much',\n",
       " 'required',\n",
       " 'revenue',\n",
       " '.',\n",
       " 'The',\n",
       " 'choice',\n",
       " 'of',\n",
       " 'an',\n",
       " 'effective',\n",
       " 'marketing',\n",
       " 'tool',\n",
       " 'can',\n",
       " 'also',\n",
       " 'influence',\n",
       " 'our',\n",
       " 'target',\n",
       " 'customer',\n",
       " 'and',\n",
       " 'will',\n",
       " 'influence',\n",
       " 'their',\n",
       " 'will',\n",
       " 'to',\n",
       " 'buy',\n",
       " 'the',\n",
       " 'product',\n",
       " 'or',\n",
       " 'service',\n",
       " 's',\n",
       " 'strategically',\n",
       " '.',\n",
       " 'Cash',\n",
       " 'from',\n",
       " 'operating',\n",
       " 'activity',\n",
       " 'improves',\n",
       " 'if',\n",
       " 'we',\n",
       " 'were',\n",
       " 'able',\n",
       " 'to',\n",
       " 'lower',\n",
       " 'our',\n",
       " 'expenses',\n",
       " '.',\n",
       " 'To',\n",
       " 'lower',\n",
       " 'these',\n",
       " 'expenses',\n",
       " 'small',\n",
       " 'business',\n",
       " 'owners',\n",
       " 'have',\n",
       " 'to',\n",
       " 'create',\n",
       " 'a',\n",
       " 'different',\n",
       " 'plan',\n",
       " 'good',\n",
       " 'average',\n",
       " 'and',\n",
       " 'worst',\n",
       " 'keeping',\n",
       " 'the',\n",
       " '6',\n",
       " 'month',\n",
       " 'frame',\n",
       " 'in',\n",
       " 'mind',\n",
       " '.',\n",
       " 'Breaking',\n",
       " 'down',\n",
       " 'them',\n",
       " 'in',\n",
       " 'monthly',\n",
       " 'targets',\n",
       " 'would',\n",
       " 'further',\n",
       " 'help',\n",
       " 'them',\n",
       " 'to',\n",
       " 'identify',\n",
       " 'the',\n",
       " 'actual',\n",
       " 'scenario',\n",
       " 'and',\n",
       " 'update',\n",
       " 'the',\n",
       " 'strategy',\n",
       " 'accordingly',\n",
       " '.',\n",
       " 'As',\n",
       " 'Warren',\n",
       " 'Buffet',\n",
       " 'quotes',\n",
       " 'You',\n",
       " 'only',\n",
       " 'have',\n",
       " 'to',\n",
       " 'do',\n",
       " 'a',\n",
       " 'few',\n",
       " 'things',\n",
       " 'right',\n",
       " 'in',\n",
       " 'your',\n",
       " 'life',\n",
       " 'so',\n",
       " 'long',\n",
       " 'as',\n",
       " 'you',\n",
       " 'don',\n",
       " 't',\n",
       " 'do',\n",
       " 'too',\n",
       " 'many',\n",
       " 'things',\n",
       " 'wrong',\n",
       " '.',\n",
       " 'this',\n",
       " 'is',\n",
       " 'the',\n",
       " 'right',\n",
       " 'time',\n",
       " 'to',\n",
       " 'do',\n",
       " 'the',\n",
       " 'right',\n",
       " 'thing',\n",
       " 'and',\n",
       " 'over',\n",
       " 'time',\n",
       " 'businesses',\n",
       " 'will',\n",
       " 'ripe',\n",
       " 'its',\n",
       " 'benefits',\n",
       " '.']"
      ]
     },
     "execution_count": 8,
     "metadata": {},
     "output_type": "execute_result"
    }
   ],
   "source": [
    "token = word_tokenize(texts)\n",
    "token"
   ]
  },
  {
   "cell_type": "code",
   "execution_count": 9,
   "id": "10016a09",
   "metadata": {},
   "outputs": [],
   "source": [
    "with open(\"D:\\lab\\Dataset\\Stopwords_Blackcoffer.txt\", 'r') as file:\n",
    "    data = file.read()"
   ]
  },
  {
   "cell_type": "code",
   "execution_count": 10,
   "id": "c567cbef",
   "metadata": {},
   "outputs": [
    {
     "data": {
      "text/plain": [
       "'ERNST\\nYOUNG\\nDELOITTE\\nTOUCHE\\nKPMG\\nPRICEWATERHOUSECOOPERS\\nPRICEWATERHOUSE\\nCOOPERS\\nAFGHANI\\nARIARY\\nBAHT\\n'"
      ]
     },
     "execution_count": 10,
     "metadata": {},
     "output_type": "execute_result"
    }
   ],
   "source": [
    "data[:100]"
   ]
  },
  {
   "cell_type": "code",
   "execution_count": 11,
   "id": "d65bfa92",
   "metadata": {},
   "outputs": [
    {
     "data": {
      "text/plain": [
       "'ERNST,YOUNG,DELOITTE,TOUCHE,KPMG,PRICEWATERHOUSECOOPERS,PRICEWATERHOUSE,COOPERS,AFGHANI,ARIARY,BAHT,'"
      ]
     },
     "execution_count": 11,
     "metadata": {},
     "output_type": "execute_result"
    }
   ],
   "source": [
    "data = data.replace('\\n', ',')\n",
    "data[:100]"
   ]
  },
  {
   "cell_type": "code",
   "execution_count": 12,
   "id": "0ef23874",
   "metadata": {},
   "outputs": [
    {
     "data": {
      "text/plain": [
       "'The word pandemic word decade . The year 2020 lot unprecedented threats humans nature . While business left insulated effect small businesses affected day day sales inventory minimum based demand cust'"
      ]
     },
     "execution_count": 12,
     "metadata": {},
     "output_type": "execute_result"
    }
   ],
   "source": [
    "new_texts = \" \".join([i for i in token if i not in data])\n",
    "new_texts[:200]"
   ]
  },
  {
   "cell_type": "code",
   "execution_count": 13,
   "id": "ea392da4",
   "metadata": {},
   "outputs": [
    {
     "name": "stdout",
     "output_type": "stream",
     "text": [
      "length before cleaning:  3945\n",
      "length after cleaning:  2450\n"
     ]
    }
   ],
   "source": [
    "print(\"length before cleaning: \", len(texts))\n",
    "print(\"length after cleaning: \", len(new_texts))"
   ]
  },
  {
   "cell_type": "markdown",
   "id": "1f456147",
   "metadata": {},
   "source": [
    "# Negative words"
   ]
  },
  {
   "cell_type": "code",
   "execution_count": 14,
   "id": "dc3618a7",
   "metadata": {},
   "outputs": [],
   "source": [
    "with open(\"D:\\\\lab\\\\Dataset\\\\Negative_words.txt\", 'r') as file:\n",
    "    negative = file.read()"
   ]
  },
  {
   "cell_type": "code",
   "execution_count": 15,
   "id": "2123c4cb",
   "metadata": {},
   "outputs": [
    {
     "data": {
      "text/plain": [
       "'2-faced\\n2-faces\\nabnormal\\nabolish\\nabominable\\nabominably\\nabominate\\nabomination\\nabort\\naborted\\naborts\\nabrade\\nabrasive\\nabrupt\\nabruptly\\nabscond\\nabsence\\nabsent-minded\\nabsentee\\nabsurd\\nabsurdity\\nabsurdly\\nabsurdness\\n'"
      ]
     },
     "execution_count": 15,
     "metadata": {},
     "output_type": "execute_result"
    }
   ],
   "source": [
    "negative[:206]"
   ]
  },
  {
   "cell_type": "code",
   "execution_count": 16,
   "id": "28f44c97",
   "metadata": {},
   "outputs": [
    {
     "data": {
      "text/plain": [
       "'2-faced,2-faces,abnormal,abolish,abominable,abominably,abominate,abomination,abort,aborted,aborts,abrade,abrasive,abrupt,abruptly,abscond,absence,absent-minded,absentee,absurd,absurdity,absurdly,absurdness,'"
      ]
     },
     "execution_count": 16,
     "metadata": {},
     "output_type": "execute_result"
    }
   ],
   "source": [
    "negative = negative.replace('\\n', ',')\n",
    "negative[:206]"
   ]
  },
  {
   "cell_type": "code",
   "execution_count": 17,
   "id": "31a272c0",
   "metadata": {},
   "outputs": [
    {
     "name": "stdout",
     "output_type": "stream",
     "text": [
      "['decade', 'lot', 'threats', 'nature', 'left', 'effect', 'small', 'affected', 'day', 'day', 'margin', 'rated', 'high', 'face', 'adversity', 'adjustment', 'efficiently', 'effectively', 'small', 'left', 'employ', 'total', 'total', 'due', 'shock', 'devastating', 'face', 'pointed', 'common', 'issues', 'faced', 'cash', 'small', 'cash', 'run', 'tough', 'manage', 'cash', 'balance', 'key', 'success', 'tough', 'cash', 'balance', 'defined', 'cash', 'raw', 'material', 'test', 'owner', 'pointed', 'problem', 'problems', 'grow', 'grow', 'lower', 'precisely', 'behavior', 'trust', 'cash', 'ratio', 'cost', 'effective', 'product', 'service', 'lower', 'lower', 'small', 'worst', 'mind', 'life', 'wrong', 'ripe']\n"
     ]
    },
    {
     "data": {
      "text/plain": [
       "73"
      ]
     },
     "execution_count": 17,
     "metadata": {},
     "output_type": "execute_result"
    }
   ],
   "source": [
    "new_texts = word_tokenize(new_texts)\n",
    "negative_words = [i for i in new_texts if i in negative]\n",
    "print(negative_words)\n",
    "len(negative_words)"
   ]
  },
  {
   "cell_type": "markdown",
   "id": "0b24f011",
   "metadata": {},
   "source": [
    "# Positive words"
   ]
  },
  {
   "cell_type": "code",
   "execution_count": 18,
   "id": "4b003620",
   "metadata": {},
   "outputs": [
    {
     "data": {
      "text/plain": [
       "'a+\\nabound\\nabounds\\nabundance\\nabundant\\naccessable\\naccessible\\nacclaim\\nacclaimed\\nacclamation\\naccolade\\naccolades\\naccommodative\\naccomodative\\naccomplish\\naccomplished\\naccomplishment\\naccomplishments\\naccurate\\naccurately\\n'"
      ]
     },
     "execution_count": 18,
     "metadata": {},
     "output_type": "execute_result"
    }
   ],
   "source": [
    "with open(\"D:\\\\lab\\\\Dataset\\\\Positive_words.txt\", 'r') as file:\n",
    "    positive = file.read()\n",
    "positive[:210]    "
   ]
  },
  {
   "cell_type": "code",
   "execution_count": 19,
   "id": "66ed38c6",
   "metadata": {},
   "outputs": [
    {
     "data": {
      "text/plain": [
       "'a+,abound,abounds,abundance,abundant,accessable,accessible,acclaim,acclaimed,acclamation,accolade,accolades,accommodative,accomodative,accomplish,accomplished,accomplishment,accomplishments,accurate,accurately,'"
      ]
     },
     "execution_count": 19,
     "metadata": {},
     "output_type": "execute_result"
    }
   ],
   "source": [
    "positive = positive.replace('\\n',',')\n",
    "positive[:210]"
   ]
  },
  {
   "cell_type": "code",
   "execution_count": 20,
   "id": "fc1387e8",
   "metadata": {},
   "outputs": [
    {
     "name": "stdout",
     "output_type": "stream",
     "text": [
      "['effect', 'affected', 'maneuver', 'future', 'rated', 'high', 'managed', 'facilitate', 'efficiently', 'effectively', 'contribution', 'contribution', 'cash', 'cash', 'run', 'stream', 'tough', 'improve', 'manage', 'optimal', 'cash', 'balance', 'success', 'tough', 'optimal', 'cash', 'balance', 'amount', 'cash', 'test', 'problem', 'grow', 'grow', 'lower', 'precisely', 'positive', 'trust', 'improve', 'cash', 'working', 'ratio', 'cost', 'benefit', 'effective', 'product', 'improves', 'lower', 'lower', 'good', 'mind', 'life', 'benefits']\n"
     ]
    },
    {
     "data": {
      "text/plain": [
       "52"
      ]
     },
     "execution_count": 20,
     "metadata": {},
     "output_type": "execute_result"
    }
   ],
   "source": [
    "positive_words = [i for i in new_texts if i in positive]\n",
    "print(positive_words)\n",
    "len(positive_words)"
   ]
  },
  {
   "cell_type": "markdown",
   "id": "1b59646d",
   "metadata": {},
   "source": [
    "#### positive Score\n"
   ]
  },
  {
   "cell_type": "code",
   "execution_count": 21,
   "id": "7d0fbab1",
   "metadata": {},
   "outputs": [
    {
     "name": "stdout",
     "output_type": "stream",
     "text": [
      "52\n"
     ]
    }
   ],
   "source": [
    "pos_score = len(positive_words)\n",
    "print(pos_score)"
   ]
  },
  {
   "cell_type": "markdown",
   "id": "54a6cc12",
   "metadata": {},
   "source": [
    "#### Negative Score"
   ]
  },
  {
   "cell_type": "code",
   "execution_count": 22,
   "id": "df0766cd",
   "metadata": {},
   "outputs": [
    {
     "name": "stdout",
     "output_type": "stream",
     "text": [
      "73\n"
     ]
    }
   ],
   "source": [
    "neg_score=len(negative_words)\n",
    "print(neg_score)"
   ]
  },
  {
   "cell_type": "markdown",
   "id": "84da7ab7",
   "metadata": {},
   "source": [
    "#### Polarity Score"
   ]
  },
  {
   "cell_type": "code",
   "execution_count": 23,
   "id": "21e88c2b",
   "metadata": {},
   "outputs": [
    {
     "data": {
      "text/plain": [
       "-0.17"
      ]
     },
     "execution_count": 23,
     "metadata": {},
     "output_type": "execute_result"
    }
   ],
   "source": [
    "Polarity_Score = (pos_score - neg_score)/((pos_score + neg_score) + 0.000001)\n",
    "round(Polarity_Score,2)"
   ]
  },
  {
   "cell_type": "code",
   "execution_count": 24,
   "id": "08bcb4ab",
   "metadata": {},
   "outputs": [
    {
     "name": "stdout",
     "output_type": "stream",
     "text": [
      "number of words after cleaning : 355\n"
     ]
    }
   ],
   "source": [
    "word_count = len(new_texts)\n",
    "print(\"number of words after cleaning :\",word_count)"
   ]
  },
  {
   "cell_type": "markdown",
   "id": "16495ba1",
   "metadata": {},
   "source": [
    "#### Subjectivity Score"
   ]
  },
  {
   "cell_type": "code",
   "execution_count": 25,
   "id": "841713a3",
   "metadata": {},
   "outputs": [
    {
     "data": {
      "text/plain": [
       "0.35"
      ]
     },
     "execution_count": 25,
     "metadata": {},
     "output_type": "execute_result"
    }
   ],
   "source": [
    "Subjectivity_Score = (pos_score + neg_score)/ ((word_count) + 0.000001)\n",
    "round(Subjectivity_Score,2)"
   ]
  },
  {
   "cell_type": "markdown",
   "id": "0d7c370e",
   "metadata": {},
   "source": [
    "# Analysis of Readability"
   ]
  },
  {
   "cell_type": "code",
   "execution_count": 26,
   "id": "10209a7a",
   "metadata": {},
   "outputs": [
    {
     "data": {
      "text/plain": [
       "703"
      ]
     },
     "execution_count": 26,
     "metadata": {},
     "output_type": "execute_result"
    }
   ],
   "source": [
    "import nltk\n",
    "from nltk.tokenize import word_tokenize\n",
    "word_tokens = nltk.word_tokenize(texts)\n",
    "No_of_words = len(word_tokens)\n",
    "No_of_words"
   ]
  },
  {
   "cell_type": "code",
   "execution_count": 27,
   "id": "bfac2ab7",
   "metadata": {},
   "outputs": [
    {
     "data": {
      "text/plain": [
       "30"
      ]
     },
     "execution_count": 27,
     "metadata": {},
     "output_type": "execute_result"
    }
   ],
   "source": [
    "sent_tokens = nltk.sent_tokenize(texts)\n",
    "No_of_sents = len(sent_tokens)\n",
    "No_of_sents "
   ]
  },
  {
   "cell_type": "markdown",
   "id": "1576acfe",
   "metadata": {},
   "source": [
    "### Average sentence Length\n"
   ]
  },
  {
   "cell_type": "code",
   "execution_count": 28,
   "id": "11d6a7ec",
   "metadata": {},
   "outputs": [
    {
     "data": {
      "text/plain": [
       "23.43"
      ]
     },
     "execution_count": 28,
     "metadata": {},
     "output_type": "execute_result"
    }
   ],
   "source": [
    "Avg_Sents_Length = No_of_words / No_of_sents\n",
    "round(Avg_Sents_Length,2)"
   ]
  },
  {
   "cell_type": "markdown",
   "id": "bc20ee3d",
   "metadata": {},
   "source": [
    "### Percentage of Complex words\n",
    "Complex words: words with more than 2 syllable are called complex words"
   ]
  },
  {
   "cell_type": "code",
   "execution_count": 29,
   "id": "eba6a8b1",
   "metadata": {},
   "outputs": [
    {
     "name": "stdout",
     "output_type": "stream",
     "text": [
      "Number of complex words: 110\n",
      "Total number of words: 3945\n"
     ]
    }
   ],
   "source": [
    "from nltk.corpus import cmudict\n",
    "cmud = cmudict.dict()\n",
    "\n",
    "# Defining a function to count syllables in a word\n",
    "def count_syllables(word):\n",
    "    phonemes = cmud[word.lower()][0] \n",
    "    return len([s for s in phonemes if s[-1].isdigit()])\n",
    "\n",
    "# Identifing complex words\n",
    "w_tokens = [i for i in word_tokens if i in cmud]\n",
    "complex_words = [word for word in w_tokens if count_syllables(word) > 2]\n",
    "\n",
    "# Calculatingnumber of complex words\n",
    "num_complex_words = len(complex_words)\n",
    "\n",
    "print(\"Number of complex words:\", num_complex_words)\n",
    "print(\"Total number of words:\", len(texts))"
   ]
  },
  {
   "cell_type": "code",
   "execution_count": 30,
   "id": "e982c0a1",
   "metadata": {},
   "outputs": [
    {
     "data": {
      "text/plain": [
       "35.86"
      ]
     },
     "execution_count": 30,
     "metadata": {},
     "output_type": "execute_result"
    }
   ],
   "source": [
    "Perc_of_Complex_words = len(texts) / num_complex_words\n",
    "round(Perc_of_Complex_words,2)"
   ]
  },
  {
   "cell_type": "markdown",
   "id": "77e948d1",
   "metadata": {},
   "source": [
    "### Fog Index"
   ]
  },
  {
   "cell_type": "code",
   "execution_count": 31,
   "id": "95fb10bb",
   "metadata": {},
   "outputs": [
    {
     "name": "stdout",
     "output_type": "stream",
     "text": [
      "Average sentence length: 30.0\n"
     ]
    }
   ],
   "source": [
    "# Tokenize each sentence into words\n",
    "words = [word_tokens for sentence in sent_tokens]\n",
    "\n",
    "# Calculate the average sentence length\n",
    "avg_sent_len = sum(No_of_sents for sentence in words) / No_of_sents\n",
    "\n",
    "print(\"Average sentence length:\", avg_sent_len)\n"
   ]
  },
  {
   "cell_type": "code",
   "execution_count": 32,
   "id": "38f5a93b",
   "metadata": {},
   "outputs": [
    {
     "data": {
      "text/plain": [
       "26.35"
      ]
     },
     "execution_count": 32,
     "metadata": {},
     "output_type": "execute_result"
    }
   ],
   "source": [
    "Fog_index = 0.4 * (avg_sent_len + Perc_of_Complex_words)\n",
    "round(Fog_index,2)"
   ]
  },
  {
   "cell_type": "markdown",
   "id": "5b4aacea",
   "metadata": {},
   "source": [
    "# Average Number of Words Per Sentence"
   ]
  },
  {
   "cell_type": "code",
   "execution_count": 33,
   "id": "45da1407",
   "metadata": {},
   "outputs": [
    {
     "data": {
      "text/plain": [
       "23.43"
      ]
     },
     "execution_count": 33,
     "metadata": {},
     "output_type": "execute_result"
    }
   ],
   "source": [
    "avg_no_of_words_per_sent = No_of_words / No_of_sents\n",
    "round(avg_no_of_words_per_sent,2)"
   ]
  },
  {
   "cell_type": "markdown",
   "id": "f2d9b493",
   "metadata": {},
   "source": [
    "# Complex Word Count"
   ]
  },
  {
   "cell_type": "code",
   "execution_count": 34,
   "id": "75304424",
   "metadata": {},
   "outputs": [
    {
     "name": "stdout",
     "output_type": "stream",
     "text": [
      "complex word count: 110\n"
     ]
    }
   ],
   "source": [
    "from nltk.corpus import cmudict\n",
    "cmud = cmudict.dict()\n",
    "\n",
    "# Defining a function to count syllables in a word\n",
    "def count_syllables(word):\n",
    "    phonemes = cmud[word.lower()][0] \n",
    "    return len([s for s in phonemes if s[-1].isdigit()])\n",
    "\n",
    "# Identifing complex words\n",
    "w_tokens = [i for i in word_tokens if i in cmud]\n",
    "complex_words = [word for word in w_tokens if count_syllables(word) > 2]\n",
    "\n",
    "# Calculatingnumber of complex words\n",
    "num_complex_words = len(complex_words)\n",
    "\n",
    "print(\"complex word count:\", num_complex_words)"
   ]
  },
  {
   "cell_type": "markdown",
   "id": "99ea5188",
   "metadata": {},
   "source": [
    "# Word Count\n",
    "number of words after cleaning"
   ]
  },
  {
   "cell_type": "code",
   "execution_count": 35,
   "id": "b4fb0c72",
   "metadata": {},
   "outputs": [
    {
     "data": {
      "text/plain": [
       "355"
      ]
     },
     "execution_count": 35,
     "metadata": {},
     "output_type": "execute_result"
    }
   ],
   "source": [
    "len(new_texts)"
   ]
  },
  {
   "cell_type": "markdown",
   "id": "ca8076ff",
   "metadata": {},
   "source": [
    "# Syllable Count Per Word"
   ]
  },
  {
   "cell_type": "code",
   "execution_count": 36,
   "id": "6f0b4e4f",
   "metadata": {},
   "outputs": [
    {
     "name": "stdout",
     "output_type": "stream",
     "text": [
      "Enter a word to get syllable: business\n",
      "Number of syllable in a word : 2\n"
     ]
    }
   ],
   "source": [
    "word = input(\"Enter a word to get syllable: \")\n",
    "def count_syllables(word):\n",
    "    phonemes = cmud[word.lower()][0] \n",
    "    return len([s for s in phonemes if s[-1].isdigit()])\n",
    "\n",
    "print(\"Number of syllable in a word :\",count_syllables(word))"
   ]
  },
  {
   "cell_type": "markdown",
   "id": "1d3a18f6",
   "metadata": {},
   "source": [
    "# Personal Pronouns"
   ]
  },
  {
   "cell_type": "code",
   "execution_count": 37,
   "id": "0b8e0d2d",
   "metadata": {},
   "outputs": [
    {
     "name": "stdout",
     "output_type": "stream",
     "text": [
      "Personal pronoun frequency: {'we': 5, 'they': 2, 'them': 3, 'you': 2}\n",
      "total number of pronouns in a article : 12\n"
     ]
    }
   ],
   "source": [
    "import re\n",
    "\n",
    "# Define a regex pattern to match personal pronouns\n",
    "pattern = r'\\b(I|you|he|she|it|we|they|me|him|her|us|them)\\b'\n",
    "\n",
    "# Count the frequency of personal pronouns\n",
    "pronoun_freq = {}\n",
    "for pronoun in re.findall(pattern, texts, re.IGNORECASE):\n",
    "    pronoun = pronoun.lower()\n",
    "    if pronoun in pronoun_freq:\n",
    "        pronoun_freq[pronoun] += 1\n",
    "    else:\n",
    "        pronoun_freq[pronoun] = 1\n",
    "\n",
    "print(\"Personal pronoun frequency:\", pronoun_freq)\n",
    "def returnSum(dict):\n",
    " \n",
    "    sum = 0\n",
    "    for i in pronoun_freq.values():\n",
    "        sum = sum + i\n",
    " \n",
    "    return sum\n",
    "print(\"total number of pronouns in a article :\",returnSum(pronoun_freq))"
   ]
  },
  {
   "cell_type": "markdown",
   "id": "e3fc87f8",
   "metadata": {},
   "source": [
    "# Average Word Length"
   ]
  },
  {
   "cell_type": "code",
   "execution_count": 38,
   "id": "5bde37d9",
   "metadata": {},
   "outputs": [
    {
     "name": "stdout",
     "output_type": "stream",
     "text": [
      "Average word length: 4.59\n"
     ]
    }
   ],
   "source": [
    "# Calculate the total number of characters in all words\n",
    "total_chars = sum(len(word) for word in word_tokens)\n",
    "\n",
    "avg_word_length = total_chars / No_of_words\n",
    "\n",
    "print(\"Average word length:\", round(avg_word_length,2))\n"
   ]
  },
  {
   "cell_type": "code",
   "execution_count": null,
   "id": "63dc25ad",
   "metadata": {},
   "outputs": [],
   "source": []
  },
  {
   "cell_type": "code",
   "execution_count": null,
   "id": "819012c5",
   "metadata": {},
   "outputs": [],
   "source": []
  }
 ],
 "metadata": {
  "kernelspec": {
   "display_name": "Python 3",
   "language": "python",
   "name": "python3"
  },
  "language_info": {
   "codemirror_mode": {
    "name": "ipython",
    "version": 3
   },
   "file_extension": ".py",
   "mimetype": "text/x-python",
   "name": "python",
   "nbconvert_exporter": "python",
   "pygments_lexer": "ipython3",
   "version": "3.8.8"
  }
 },
 "nbformat": 4,
 "nbformat_minor": 5
}
