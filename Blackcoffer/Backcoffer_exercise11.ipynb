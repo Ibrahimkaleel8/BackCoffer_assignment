{
 "cells": [
  {
   "cell_type": "markdown",
   "id": "b9312f26",
   "metadata": {},
   "source": [
    "# Data scraping"
   ]
  },
  {
   "cell_type": "code",
   "execution_count": 1,
   "id": "ef4785ca",
   "metadata": {},
   "outputs": [],
   "source": [
    "import nltk\n",
    "import requests\n",
    "from bs4 import BeautifulSoup"
   ]
  },
  {
   "cell_type": "code",
   "execution_count": 2,
   "id": "ac2f2459",
   "metadata": {},
   "outputs": [],
   "source": [
    "req = requests.get(\"https://insights.blackcoffer.com/how-to-protect-future-data-and-its-privacy-blackcoffer/\")"
   ]
  },
  {
   "cell_type": "code",
   "execution_count": 3,
   "id": "45f9fa09",
   "metadata": {},
   "outputs": [],
   "source": [
    "soup = BeautifulSoup(req.content, \"html.parser\")\n",
    "res = soup.title\n",
    "paras = soup.find_all('p')"
   ]
  },
  {
   "cell_type": "code",
   "execution_count": 4,
   "id": "dbb256b2",
   "metadata": {
    "scrolled": true
   },
   "outputs": [
    {
     "name": "stdout",
     "output_type": "stream",
     "text": [
      "Before the internet, information was in some ways restricted and more centralized. The only mediums of information were books, newspapers, and word of mouth, etc. But now with the advent of the internet and improvements to computer technology (Moore’s Law), information and data skyrocketed, and it has become this open-system, where information can be distributed to people without any kind of limits. Various publicly available tools have taken the rocket science out of encrypting (and decrypting) email and files. Data encryption isn’t just for technology geeks; modern tools make it possible for anyone to encrypt emails and other information. “Encryption used to be the sole province of geeks and mathematicians, but a lot has changed in recent years. In particular, various publicly available tools have taken the rocket science out of encrypting (and decrypting) email and files. GPG for Mail, for example, is an open-source plug-in for the Apple Mail program that makes it easy to encrypt, decrypt, sign and verify emails using the OpenPGP standard. And for protecting files, newer versions of Apple’s OS X operating system come with FileVault, a program that encrypts the hard drive of a computer. Those running Microsoft Windows have a similar program. This software will scramble your data, but won’t protect you from government authorities demanding your encryption key under the Regulation of Investigatory Powers Act (2000), which is why some aficionados recommend TrueCrypt, a program with some very interesting facilities, which might have been useful to David Miranda,” explains John Naughton in an article for The Guardian. One of the most basic, yet often overlooked, data protection tips is backing up your data. Basically, this creates a duplicate copy of your data so that if a device is lost, stolen, or compromised, you don’t also lose your important information. As the U.S. Chamber of Commerce and insurance company Nationwide points out, “According to Nationwide, 68% of small businesses don’t have a disaster recovery plan. The problem with this is the longer it takes you to restore your data, the more money you’ll lose. Gartner found that this downtime can cost companies as much as $300,000 an hour.” While you should use sound security practices when you’re making use of the cloud, it can provide an ideal solution for backing up your data. Since data is not stored on a local device, it’s easily accessible even when your hardware becomes compromised. “Cloud storage, where data is kept offsite by a provider, is a guarantee of adequate disaster recovery,” according to this post on TechRadar. Twitter: @techradar Scammers are sneaky: sometimes malware is cleverly disguised as an email from a friend or a useful website. Malware is a serious issue plaguing many computer users, and it’s known for cropping up in inconspicuous places, unbeknownst to users. Anti-malware protection is essential for laying a foundation of security for your devices. “Malware (short for malicious software) is software designed to infiltrate or damage a computer without your consent. Malware includes computer viruses, worms, trojan horses, spyware, scareware, and more. It can be present on websites and emails or hidden in downloadable files, photos, videos, freeware, or shareware. (However, it should be noted that most websites, shareware, or freeware applications do not come with malware.) The best way to avoid getting infected is to run a good anti-virus protection program, do periodic scans for spyware, avoid clicking on suspicious email links or websites. But scammers are sneaky: sometimes malware is cleverly disguised as an email from a friend or a useful website. Even the most cautious of web-surfers will likely pick up an infection at some point.,” explains Clark Howard. Twitter: @ClarkHoward Much information can be gleaned through old computing devices, but you can protect your personal data by making hard drives unreadable before disposing of them. “Make old computers’ hard drives unreadable. After you back up your data and transfer the files elsewhere, you should sanitize by disk shredding, magnetically cleaning the disk, or using software to wipe the disk clean. Destroy old computer disks and backup tapes,” according to the Florida Office of the Attorney General. Twitter: @AGPamBondi Operating system updates are a gigantic pain for users; it’s the honest truth. But they’re a necessary evil, as these updates contain critical security patches that will protect your computer from recently discovered threats. Failing to install these updates means your computer is at risk. “No matter which operating system you use, it’s important that you update it regularly. Windows operating systems are typically updated at least monthly, typically on so-called ‘Patch Tuesday.’ Other operating systems may not be updated quite as frequently or on a regular schedule. It’s best to set your operating system to update automatically. The method for doing so will vary depending upon your particular operating system,” says PrivacyRights.org. Twitter: @PrivacyToday Many software programs will automatically connect and update to defend against known risks. In order to ensure that you’re downloading the latest security updates from operating systems and other software, enable automatic updates. “Many software programs will automatically connect and update to defend against known risks. Turn on automatic updates if that’s an available option,” suggests StaySafeOnline.org. Twitter: @StaySafeOnline A valuable tip for both small business owners and individuals or families, it’s always recommended to secure your wireless network with a password. This prevents unauthorized individuals within proximity to hijack your wireless network. Even if they’re merely attempting to get free Wi-Fi access, you don’t want to inadvertently share private information with other people who are using your network without permission. “If you have a Wi-Fi network for your workplace, make sure it is secure, encrypted, and hidden. To hide your Wi-Fi network, set up your wireless access point or router so it does not broadcast the network name, known as the Service Set Identifier (SSID). Password protect access to the router,” says FCC.gov in an article offering data protection tips for small businesses. Twitter: @FCC When you’re finished using your computer or laptop, power it off. Leaving computing devices on, and most often, connected to the Internet, opens the door for rogue attacks. “Leaving your computer connected to the Internet when it’s not in use gives scammers 24/7 access to install malware and commit cybercrimes. To be safe, turn off your computer when it’s not in use,” suggests CSID, a division of Experian. Twitter: @ExperianPS_NA  Firewalls assist in blocking dangerous programs, viruses, or spyware before they infiltrate your system.”Firewalls assist in blocking dangerous programs, viruses, or spyware before they infiltrate your system. Various software companies offer firewall protection, but hardware-based firewalls, like those frequently built into network routers, provide a better level of security,” says Geek Squad. Twitter: @GeekSquad Indiana University Information Technology recommends following the Principle of Least Privilege (PoLP): “Do not log into a computer with administrator rights unless you must do so to perform specific tasks. Running your computer as an administrator (or as a Power User in Windows) leaves your computer vulnerable to security risks and exploits. Simply visiting an unfamiliar Internet site with these high-privilege accounts can cause extreme damage to your computer, such as reformatting your hard drive, deleting all your files, and creating a new user account with administrative access. When you do need to perform tasks as an administrator, always follow security procedures.” Twitter: @IndianaUniv What’s the difference? “…we recommend you use passphrases–a series of random words or a sentence. The more characters your passphrase has, the stronger it is.  The advantage is these are much easier to remember and type, but still hard for cyber attackers to hack.” explains SANS. Twitter: @SANSAwareness Encrypt your SIM card in case your phone is ever stolen, or take it out if you are selling your old cell phone. Encrypting your data on your removable storage devices can make it more difficult (albeit not impossible) for criminals to interpret your personal data should your device become lost or stolen. USB drives and SIM cards are excellent examples of removable storage devices that can simply be plugged into another device, enabling the user to access all the data stored on it. Unless, of course, it’s encrypted. “Your USB drive could easily be stolen and put into another computer, where they can steal all of your files and even install malware or viruses onto your flash drive that will infect any computer it is plugged in to. Encrypt your SIM card in case your phone is ever stolen, or take it out if you are selling your old cell phone,” according to Mike Juba in an article on Business2Community. Twitter: @EZSolutionCorp A Post-It note stuck to the outside of your laptop or tablet is “akin to leaving your keys in your car,” says The Ohio State University’s Office of the Chief Information Officer. Likewise, you shouldn’t leave your laptop in your car. It’s a magnet for identity thieves. Twitter: @OhioState  If you don’t really need your files to be visible to other machines, disable file and media sharing completely. If you have a home wireless network with multiple devices connected, you might find it convenient to share files between machines. However, there’s no reason to make files publicly available if it’s not necessary. “Make sure that you share some of your folders only on the home network. If you don’t really need your files to be visible to other machines, disable file and media sharing completely,” says Kaspersky. Twitter: @kaspersky HowToGeek offers a series of articles with tips, tricks, and tools for encrypting files or sets of files using various programs and tools. This article covers a method for creating an encrypted volume to easily transport private, sensitive data for access on multiple computers. Twitter: @howtogeeksite Deleting your information on a computing device rarely means it’s truly deleted permanently. Often, this data still exists on disk and can be recovered by someone who knows what they’re doing (such as, say, a savvy criminal determined to find your personal information). The only way to really ensure that your old data is gone forever is to overwrite it. Luckily, there are tools to streamline this process. PCWorld covers a tool and process for overwriting old data on Windows operating systems. Twitter: @pcworld If you back up your files to the cloud, remember that even though you delete them on your computer or mobile device, they’re still stored in your cloud account. If you’re diligent about backing up your data and use a secure cloud storage service to do so, you’re headed in the right direction. That said, cloud backups, and any data backups really, create an added step when it comes to deleting old information. Don’t forget to delete files from your backup services in addition to those you remove (or overwrite) on your local devices. “If you back up your files to the cloud, remember that even though you delete them on your computer or mobile device, they’re still stored in your cloud account. To completely delete the file, you’ll also need to remove it from your backup cloud account,” says re/code. Twitter: @Recode\n"
     ]
    }
   ],
   "source": [
    "texts = \" \".join([paragraph.text.strip() for paragraph in paras])\n",
    "print(texts)"
   ]
  },
  {
   "cell_type": "code",
   "execution_count": 5,
   "id": "e79f5f60",
   "metadata": {},
   "outputs": [
    {
     "data": {
      "text/plain": [
       "11631"
      ]
     },
     "execution_count": 5,
     "metadata": {},
     "output_type": "execute_result"
    }
   ],
   "source": [
    "len(texts)"
   ]
  },
  {
   "cell_type": "markdown",
   "id": "db8f1fcc",
   "metadata": {},
   "source": [
    "Removing Punctuation"
   ]
  },
  {
   "cell_type": "code",
   "execution_count": 6,
   "id": "5285c8a8",
   "metadata": {},
   "outputs": [
    {
     "data": {
      "text/plain": [
       "11631"
      ]
     },
     "execution_count": 6,
     "metadata": {},
     "output_type": "execute_result"
    }
   ],
   "source": [
    "import re\n",
    "import string\n",
    "texts = re.sub(r'[\\'\\“\\”\\()\\%\\,\\-\\'\\’\\?\\ ]', ' ', texts)\n",
    "texts[0:200]\n",
    "len(texts)"
   ]
  },
  {
   "cell_type": "markdown",
   "id": "4fafe7be",
   "metadata": {},
   "source": [
    "# Removing Stopwords"
   ]
  },
  {
   "cell_type": "code",
   "execution_count": 7,
   "id": "089b8663",
   "metadata": {},
   "outputs": [],
   "source": [
    "from nltk.tokenize import word_tokenize"
   ]
  },
  {
   "cell_type": "code",
   "execution_count": 8,
   "id": "280876b0",
   "metadata": {},
   "outputs": [
    {
     "data": {
      "text/plain": [
       "['Before',\n",
       " 'the',\n",
       " 'internet',\n",
       " 'information',\n",
       " 'was',\n",
       " 'in',\n",
       " 'some',\n",
       " 'ways',\n",
       " 'restricted',\n",
       " 'and',\n",
       " 'more',\n",
       " 'centralized',\n",
       " '.',\n",
       " 'The',\n",
       " 'only',\n",
       " 'mediums',\n",
       " 'of',\n",
       " 'information',\n",
       " 'were',\n",
       " 'books',\n",
       " 'newspapers',\n",
       " 'and',\n",
       " 'word',\n",
       " 'of',\n",
       " 'mouth',\n",
       " 'etc',\n",
       " '.',\n",
       " 'But',\n",
       " 'now',\n",
       " 'with',\n",
       " 'the',\n",
       " 'advent',\n",
       " 'of',\n",
       " 'the',\n",
       " 'internet',\n",
       " 'and',\n",
       " 'improvements',\n",
       " 'to',\n",
       " 'computer',\n",
       " 'technology',\n",
       " 'Moore',\n",
       " 's',\n",
       " 'Law',\n",
       " 'information',\n",
       " 'and',\n",
       " 'data',\n",
       " 'skyrocketed',\n",
       " 'and',\n",
       " 'it',\n",
       " 'has',\n",
       " 'become',\n",
       " 'this',\n",
       " 'open',\n",
       " 'system',\n",
       " 'where',\n",
       " 'information',\n",
       " 'can',\n",
       " 'be',\n",
       " 'distributed',\n",
       " 'to',\n",
       " 'people',\n",
       " 'without',\n",
       " 'any',\n",
       " 'kind',\n",
       " 'of',\n",
       " 'limits',\n",
       " '.',\n",
       " 'Various',\n",
       " 'publicly',\n",
       " 'available',\n",
       " 'tools',\n",
       " 'have',\n",
       " 'taken',\n",
       " 'the',\n",
       " 'rocket',\n",
       " 'science',\n",
       " 'out',\n",
       " 'of',\n",
       " 'encrypting',\n",
       " 'and',\n",
       " 'decrypting',\n",
       " 'email',\n",
       " 'and',\n",
       " 'files',\n",
       " '.',\n",
       " 'Data',\n",
       " 'encryption',\n",
       " 'isn',\n",
       " 't',\n",
       " 'just',\n",
       " 'for',\n",
       " 'technology',\n",
       " 'geeks',\n",
       " ';',\n",
       " 'modern',\n",
       " 'tools',\n",
       " 'make',\n",
       " 'it',\n",
       " 'possible',\n",
       " 'for',\n",
       " 'anyone',\n",
       " 'to',\n",
       " 'encrypt',\n",
       " 'emails',\n",
       " 'and',\n",
       " 'other',\n",
       " 'information',\n",
       " '.',\n",
       " 'Encryption',\n",
       " 'used',\n",
       " 'to',\n",
       " 'be',\n",
       " 'the',\n",
       " 'sole',\n",
       " 'province',\n",
       " 'of',\n",
       " 'geeks',\n",
       " 'and',\n",
       " 'mathematicians',\n",
       " 'but',\n",
       " 'a',\n",
       " 'lot',\n",
       " 'has',\n",
       " 'changed',\n",
       " 'in',\n",
       " 'recent',\n",
       " 'years',\n",
       " '.',\n",
       " 'In',\n",
       " 'particular',\n",
       " 'various',\n",
       " 'publicly',\n",
       " 'available',\n",
       " 'tools',\n",
       " 'have',\n",
       " 'taken',\n",
       " 'the',\n",
       " 'rocket',\n",
       " 'science',\n",
       " 'out',\n",
       " 'of',\n",
       " 'encrypting',\n",
       " 'and',\n",
       " 'decrypting',\n",
       " 'email',\n",
       " 'and',\n",
       " 'files',\n",
       " '.',\n",
       " 'GPG',\n",
       " 'for',\n",
       " 'Mail',\n",
       " 'for',\n",
       " 'example',\n",
       " 'is',\n",
       " 'an',\n",
       " 'open',\n",
       " 'source',\n",
       " 'plug',\n",
       " 'in',\n",
       " 'for',\n",
       " 'the',\n",
       " 'Apple',\n",
       " 'Mail',\n",
       " 'program',\n",
       " 'that',\n",
       " 'makes',\n",
       " 'it',\n",
       " 'easy',\n",
       " 'to',\n",
       " 'encrypt',\n",
       " 'decrypt',\n",
       " 'sign',\n",
       " 'and',\n",
       " 'verify',\n",
       " 'emails',\n",
       " 'using',\n",
       " 'the',\n",
       " 'OpenPGP',\n",
       " 'standard',\n",
       " '.',\n",
       " 'And',\n",
       " 'for',\n",
       " 'protecting',\n",
       " 'files',\n",
       " 'newer',\n",
       " 'versions',\n",
       " 'of',\n",
       " 'Apple',\n",
       " 's',\n",
       " 'OS',\n",
       " 'X',\n",
       " 'operating',\n",
       " 'system',\n",
       " 'come',\n",
       " 'with',\n",
       " 'FileVault',\n",
       " 'a',\n",
       " 'program',\n",
       " 'that',\n",
       " 'encrypts',\n",
       " 'the',\n",
       " 'hard',\n",
       " 'drive',\n",
       " 'of',\n",
       " 'a',\n",
       " 'computer',\n",
       " '.',\n",
       " 'Those',\n",
       " 'running',\n",
       " 'Microsoft',\n",
       " 'Windows',\n",
       " 'have',\n",
       " 'a',\n",
       " 'similar',\n",
       " 'program',\n",
       " '.',\n",
       " 'This',\n",
       " 'software',\n",
       " 'will',\n",
       " 'scramble',\n",
       " 'your',\n",
       " 'data',\n",
       " 'but',\n",
       " 'won',\n",
       " 't',\n",
       " 'protect',\n",
       " 'you',\n",
       " 'from',\n",
       " 'government',\n",
       " 'authorities',\n",
       " 'demanding',\n",
       " 'your',\n",
       " 'encryption',\n",
       " 'key',\n",
       " 'under',\n",
       " 'the',\n",
       " 'Regulation',\n",
       " 'of',\n",
       " 'Investigatory',\n",
       " 'Powers',\n",
       " 'Act',\n",
       " '2000',\n",
       " 'which',\n",
       " 'is',\n",
       " 'why',\n",
       " 'some',\n",
       " 'aficionados',\n",
       " 'recommend',\n",
       " 'TrueCrypt',\n",
       " 'a',\n",
       " 'program',\n",
       " 'with',\n",
       " 'some',\n",
       " 'very',\n",
       " 'interesting',\n",
       " 'facilities',\n",
       " 'which',\n",
       " 'might',\n",
       " 'have',\n",
       " 'been',\n",
       " 'useful',\n",
       " 'to',\n",
       " 'David',\n",
       " 'Miranda',\n",
       " 'explains',\n",
       " 'John',\n",
       " 'Naughton',\n",
       " 'in',\n",
       " 'an',\n",
       " 'article',\n",
       " 'for',\n",
       " 'The',\n",
       " 'Guardian',\n",
       " '.',\n",
       " 'One',\n",
       " 'of',\n",
       " 'the',\n",
       " 'most',\n",
       " 'basic',\n",
       " 'yet',\n",
       " 'often',\n",
       " 'overlooked',\n",
       " 'data',\n",
       " 'protection',\n",
       " 'tips',\n",
       " 'is',\n",
       " 'backing',\n",
       " 'up',\n",
       " 'your',\n",
       " 'data',\n",
       " '.',\n",
       " 'Basically',\n",
       " 'this',\n",
       " 'creates',\n",
       " 'a',\n",
       " 'duplicate',\n",
       " 'copy',\n",
       " 'of',\n",
       " 'your',\n",
       " 'data',\n",
       " 'so',\n",
       " 'that',\n",
       " 'if',\n",
       " 'a',\n",
       " 'device',\n",
       " 'is',\n",
       " 'lost',\n",
       " 'stolen',\n",
       " 'or',\n",
       " 'compromised',\n",
       " 'you',\n",
       " 'don',\n",
       " 't',\n",
       " 'also',\n",
       " 'lose',\n",
       " 'your',\n",
       " 'important',\n",
       " 'information',\n",
       " '.',\n",
       " 'As',\n",
       " 'the',\n",
       " 'U.S.',\n",
       " 'Chamber',\n",
       " 'of',\n",
       " 'Commerce',\n",
       " 'and',\n",
       " 'insurance',\n",
       " 'company',\n",
       " 'Nationwide',\n",
       " 'points',\n",
       " 'out',\n",
       " 'According',\n",
       " 'to',\n",
       " 'Nationwide',\n",
       " '68',\n",
       " 'of',\n",
       " 'small',\n",
       " 'businesses',\n",
       " 'don',\n",
       " 't',\n",
       " 'have',\n",
       " 'a',\n",
       " 'disaster',\n",
       " 'recovery',\n",
       " 'plan',\n",
       " '.',\n",
       " 'The',\n",
       " 'problem',\n",
       " 'with',\n",
       " 'this',\n",
       " 'is',\n",
       " 'the',\n",
       " 'longer',\n",
       " 'it',\n",
       " 'takes',\n",
       " 'you',\n",
       " 'to',\n",
       " 'restore',\n",
       " 'your',\n",
       " 'data',\n",
       " 'the',\n",
       " 'more',\n",
       " 'money',\n",
       " 'you',\n",
       " 'll',\n",
       " 'lose',\n",
       " '.',\n",
       " 'Gartner',\n",
       " 'found',\n",
       " 'that',\n",
       " 'this',\n",
       " 'downtime',\n",
       " 'can',\n",
       " 'cost',\n",
       " 'companies',\n",
       " 'as',\n",
       " 'much',\n",
       " 'as',\n",
       " '$',\n",
       " '300',\n",
       " '000',\n",
       " 'an',\n",
       " 'hour',\n",
       " '.',\n",
       " 'While',\n",
       " 'you',\n",
       " 'should',\n",
       " 'use',\n",
       " 'sound',\n",
       " 'security',\n",
       " 'practices',\n",
       " 'when',\n",
       " 'you',\n",
       " 're',\n",
       " 'making',\n",
       " 'use',\n",
       " 'of',\n",
       " 'the',\n",
       " 'cloud',\n",
       " 'it',\n",
       " 'can',\n",
       " 'provide',\n",
       " 'an',\n",
       " 'ideal',\n",
       " 'solution',\n",
       " 'for',\n",
       " 'backing',\n",
       " 'up',\n",
       " 'your',\n",
       " 'data',\n",
       " '.',\n",
       " 'Since',\n",
       " 'data',\n",
       " 'is',\n",
       " 'not',\n",
       " 'stored',\n",
       " 'on',\n",
       " 'a',\n",
       " 'local',\n",
       " 'device',\n",
       " 'it',\n",
       " 's',\n",
       " 'easily',\n",
       " 'accessible',\n",
       " 'even',\n",
       " 'when',\n",
       " 'your',\n",
       " 'hardware',\n",
       " 'becomes',\n",
       " 'compromised',\n",
       " '.',\n",
       " 'Cloud',\n",
       " 'storage',\n",
       " 'where',\n",
       " 'data',\n",
       " 'is',\n",
       " 'kept',\n",
       " 'offsite',\n",
       " 'by',\n",
       " 'a',\n",
       " 'provider',\n",
       " 'is',\n",
       " 'a',\n",
       " 'guarantee',\n",
       " 'of',\n",
       " 'adequate',\n",
       " 'disaster',\n",
       " 'recovery',\n",
       " 'according',\n",
       " 'to',\n",
       " 'this',\n",
       " 'post',\n",
       " 'on',\n",
       " 'TechRadar',\n",
       " '.',\n",
       " 'Twitter',\n",
       " ':',\n",
       " '@',\n",
       " 'techradar',\n",
       " 'Scammers',\n",
       " 'are',\n",
       " 'sneaky',\n",
       " ':',\n",
       " 'sometimes',\n",
       " 'malware',\n",
       " 'is',\n",
       " 'cleverly',\n",
       " 'disguised',\n",
       " 'as',\n",
       " 'an',\n",
       " 'email',\n",
       " 'from',\n",
       " 'a',\n",
       " 'friend',\n",
       " 'or',\n",
       " 'a',\n",
       " 'useful',\n",
       " 'website',\n",
       " '.',\n",
       " 'Malware',\n",
       " 'is',\n",
       " 'a',\n",
       " 'serious',\n",
       " 'issue',\n",
       " 'plaguing',\n",
       " 'many',\n",
       " 'computer',\n",
       " 'users',\n",
       " 'and',\n",
       " 'it',\n",
       " 's',\n",
       " 'known',\n",
       " 'for',\n",
       " 'cropping',\n",
       " 'up',\n",
       " 'in',\n",
       " 'inconspicuous',\n",
       " 'places',\n",
       " 'unbeknownst',\n",
       " 'to',\n",
       " 'users',\n",
       " '.',\n",
       " 'Anti',\n",
       " 'malware',\n",
       " 'protection',\n",
       " 'is',\n",
       " 'essential',\n",
       " 'for',\n",
       " 'laying',\n",
       " 'a',\n",
       " 'foundation',\n",
       " 'of',\n",
       " 'security',\n",
       " 'for',\n",
       " 'your',\n",
       " 'devices',\n",
       " '.',\n",
       " 'Malware',\n",
       " 'short',\n",
       " 'for',\n",
       " 'malicious',\n",
       " 'software',\n",
       " 'is',\n",
       " 'software',\n",
       " 'designed',\n",
       " 'to',\n",
       " 'infiltrate',\n",
       " 'or',\n",
       " 'damage',\n",
       " 'a',\n",
       " 'computer',\n",
       " 'without',\n",
       " 'your',\n",
       " 'consent',\n",
       " '.',\n",
       " 'Malware',\n",
       " 'includes',\n",
       " 'computer',\n",
       " 'viruses',\n",
       " 'worms',\n",
       " 'trojan',\n",
       " 'horses',\n",
       " 'spyware',\n",
       " 'scareware',\n",
       " 'and',\n",
       " 'more',\n",
       " '.',\n",
       " 'It',\n",
       " 'can',\n",
       " 'be',\n",
       " 'present',\n",
       " 'on',\n",
       " 'websites',\n",
       " 'and',\n",
       " 'emails',\n",
       " 'or',\n",
       " 'hidden',\n",
       " 'in',\n",
       " 'downloadable',\n",
       " 'files',\n",
       " 'photos',\n",
       " 'videos',\n",
       " 'freeware',\n",
       " 'or',\n",
       " 'shareware',\n",
       " '.',\n",
       " 'However',\n",
       " 'it',\n",
       " 'should',\n",
       " 'be',\n",
       " 'noted',\n",
       " 'that',\n",
       " 'most',\n",
       " 'websites',\n",
       " 'shareware',\n",
       " 'or',\n",
       " 'freeware',\n",
       " 'applications',\n",
       " 'do',\n",
       " 'not',\n",
       " 'come',\n",
       " 'with',\n",
       " 'malware',\n",
       " '.',\n",
       " 'The',\n",
       " 'best',\n",
       " 'way',\n",
       " 'to',\n",
       " 'avoid',\n",
       " 'getting',\n",
       " 'infected',\n",
       " 'is',\n",
       " 'to',\n",
       " 'run',\n",
       " 'a',\n",
       " 'good',\n",
       " 'anti',\n",
       " 'virus',\n",
       " 'protection',\n",
       " 'program',\n",
       " 'do',\n",
       " 'periodic',\n",
       " 'scans',\n",
       " 'for',\n",
       " 'spyware',\n",
       " 'avoid',\n",
       " 'clicking',\n",
       " 'on',\n",
       " 'suspicious',\n",
       " 'email',\n",
       " 'links',\n",
       " 'or',\n",
       " 'websites',\n",
       " '.',\n",
       " 'But',\n",
       " 'scammers',\n",
       " 'are',\n",
       " 'sneaky',\n",
       " ':',\n",
       " 'sometimes',\n",
       " 'malware',\n",
       " 'is',\n",
       " 'cleverly',\n",
       " 'disguised',\n",
       " 'as',\n",
       " 'an',\n",
       " 'email',\n",
       " 'from',\n",
       " 'a',\n",
       " 'friend',\n",
       " 'or',\n",
       " 'a',\n",
       " 'useful',\n",
       " 'website',\n",
       " '.',\n",
       " 'Even',\n",
       " 'the',\n",
       " 'most',\n",
       " 'cautious',\n",
       " 'of',\n",
       " 'web',\n",
       " 'surfers',\n",
       " 'will',\n",
       " 'likely',\n",
       " 'pick',\n",
       " 'up',\n",
       " 'an',\n",
       " 'infection',\n",
       " 'at',\n",
       " 'some',\n",
       " 'point',\n",
       " '.',\n",
       " 'explains',\n",
       " 'Clark',\n",
       " 'Howard',\n",
       " '.',\n",
       " 'Twitter',\n",
       " ':',\n",
       " '@',\n",
       " 'ClarkHoward',\n",
       " 'Much',\n",
       " 'information',\n",
       " 'can',\n",
       " 'be',\n",
       " 'gleaned',\n",
       " 'through',\n",
       " 'old',\n",
       " 'computing',\n",
       " 'devices',\n",
       " 'but',\n",
       " 'you',\n",
       " 'can',\n",
       " 'protect',\n",
       " 'your',\n",
       " 'personal',\n",
       " 'data',\n",
       " 'by',\n",
       " 'making',\n",
       " 'hard',\n",
       " 'drives',\n",
       " 'unreadable',\n",
       " 'before',\n",
       " 'disposing',\n",
       " 'of',\n",
       " 'them',\n",
       " '.',\n",
       " 'Make',\n",
       " 'old',\n",
       " 'computers',\n",
       " 'hard',\n",
       " 'drives',\n",
       " 'unreadable',\n",
       " '.',\n",
       " 'After',\n",
       " 'you',\n",
       " 'back',\n",
       " 'up',\n",
       " 'your',\n",
       " 'data',\n",
       " 'and',\n",
       " 'transfer',\n",
       " 'the',\n",
       " 'files',\n",
       " 'elsewhere',\n",
       " 'you',\n",
       " 'should',\n",
       " 'sanitize',\n",
       " 'by',\n",
       " 'disk',\n",
       " 'shredding',\n",
       " 'magnetically',\n",
       " 'cleaning',\n",
       " 'the',\n",
       " 'disk',\n",
       " 'or',\n",
       " 'using',\n",
       " 'software',\n",
       " 'to',\n",
       " 'wipe',\n",
       " 'the',\n",
       " 'disk',\n",
       " 'clean',\n",
       " '.',\n",
       " 'Destroy',\n",
       " 'old',\n",
       " 'computer',\n",
       " 'disks',\n",
       " 'and',\n",
       " 'backup',\n",
       " 'tapes',\n",
       " 'according',\n",
       " 'to',\n",
       " 'the',\n",
       " 'Florida',\n",
       " 'Office',\n",
       " 'of',\n",
       " 'the',\n",
       " 'Attorney',\n",
       " 'General',\n",
       " '.',\n",
       " 'Twitter',\n",
       " ':',\n",
       " '@',\n",
       " 'AGPamBondi',\n",
       " 'Operating',\n",
       " 'system',\n",
       " 'updates',\n",
       " 'are',\n",
       " 'a',\n",
       " 'gigantic',\n",
       " 'pain',\n",
       " 'for',\n",
       " 'users',\n",
       " ';',\n",
       " 'it',\n",
       " 's',\n",
       " 'the',\n",
       " 'honest',\n",
       " 'truth',\n",
       " '.',\n",
       " 'But',\n",
       " 'they',\n",
       " 're',\n",
       " 'a',\n",
       " 'necessary',\n",
       " 'evil',\n",
       " 'as',\n",
       " 'these',\n",
       " 'updates',\n",
       " 'contain',\n",
       " 'critical',\n",
       " 'security',\n",
       " 'patches',\n",
       " 'that',\n",
       " 'will',\n",
       " 'protect',\n",
       " 'your',\n",
       " 'computer',\n",
       " 'from',\n",
       " 'recently',\n",
       " 'discovered',\n",
       " 'threats',\n",
       " '.',\n",
       " 'Failing',\n",
       " 'to',\n",
       " 'install',\n",
       " 'these',\n",
       " 'updates',\n",
       " 'means',\n",
       " 'your',\n",
       " 'computer',\n",
       " 'is',\n",
       " 'at',\n",
       " 'risk',\n",
       " '.',\n",
       " 'No',\n",
       " 'matter',\n",
       " 'which',\n",
       " 'operating',\n",
       " 'system',\n",
       " 'you',\n",
       " 'use',\n",
       " 'it',\n",
       " 's',\n",
       " 'important',\n",
       " 'that',\n",
       " 'you',\n",
       " 'update',\n",
       " 'it',\n",
       " 'regularly',\n",
       " '.',\n",
       " 'Windows',\n",
       " 'operating',\n",
       " 'systems',\n",
       " 'are',\n",
       " 'typically',\n",
       " 'updated',\n",
       " 'at',\n",
       " 'least',\n",
       " 'monthly',\n",
       " 'typically',\n",
       " 'on',\n",
       " 'so',\n",
       " 'called',\n",
       " '‘',\n",
       " 'Patch',\n",
       " 'Tuesday',\n",
       " '.',\n",
       " 'Other',\n",
       " 'operating',\n",
       " 'systems',\n",
       " 'may',\n",
       " 'not',\n",
       " 'be',\n",
       " 'updated',\n",
       " 'quite',\n",
       " 'as',\n",
       " 'frequently',\n",
       " 'or',\n",
       " 'on',\n",
       " 'a',\n",
       " 'regular',\n",
       " 'schedule',\n",
       " '.',\n",
       " 'It',\n",
       " 's',\n",
       " 'best',\n",
       " 'to',\n",
       " 'set',\n",
       " 'your',\n",
       " 'operating',\n",
       " 'system',\n",
       " 'to',\n",
       " 'update',\n",
       " 'automatically',\n",
       " '.',\n",
       " 'The',\n",
       " 'method',\n",
       " 'for',\n",
       " 'doing',\n",
       " 'so',\n",
       " 'will',\n",
       " 'vary',\n",
       " 'depending',\n",
       " 'upon',\n",
       " 'your',\n",
       " 'particular',\n",
       " 'operating',\n",
       " 'system',\n",
       " 'says',\n",
       " 'PrivacyRights.org',\n",
       " '.',\n",
       " 'Twitter',\n",
       " ':',\n",
       " '@',\n",
       " 'PrivacyToday',\n",
       " 'Many',\n",
       " 'software',\n",
       " 'programs',\n",
       " 'will',\n",
       " 'automatically',\n",
       " 'connect',\n",
       " 'and',\n",
       " 'update',\n",
       " 'to',\n",
       " 'defend',\n",
       " 'against',\n",
       " 'known',\n",
       " 'risks',\n",
       " '.',\n",
       " 'In',\n",
       " 'order',\n",
       " 'to',\n",
       " 'ensure',\n",
       " 'that',\n",
       " 'you',\n",
       " 're',\n",
       " 'downloading',\n",
       " 'the',\n",
       " 'latest',\n",
       " 'security',\n",
       " 'updates',\n",
       " 'from',\n",
       " 'operating',\n",
       " 'systems',\n",
       " 'and',\n",
       " 'other',\n",
       " 'software',\n",
       " 'enable',\n",
       " 'automatic',\n",
       " 'updates',\n",
       " '.',\n",
       " 'Many',\n",
       " 'software',\n",
       " 'programs',\n",
       " 'will',\n",
       " 'automatically',\n",
       " 'connect',\n",
       " 'and',\n",
       " 'update',\n",
       " 'to',\n",
       " 'defend',\n",
       " 'against',\n",
       " 'known',\n",
       " 'risks',\n",
       " '.',\n",
       " 'Turn',\n",
       " 'on',\n",
       " 'automatic',\n",
       " 'updates',\n",
       " 'if',\n",
       " 'that',\n",
       " 's',\n",
       " 'an',\n",
       " 'available',\n",
       " 'option',\n",
       " 'suggests',\n",
       " 'StaySafeOnline.org',\n",
       " '.',\n",
       " 'Twitter',\n",
       " ':',\n",
       " '@',\n",
       " 'StaySafeOnline',\n",
       " 'A',\n",
       " 'valuable',\n",
       " 'tip',\n",
       " 'for',\n",
       " 'both',\n",
       " 'small',\n",
       " 'business',\n",
       " 'owners',\n",
       " 'and',\n",
       " 'individuals',\n",
       " 'or',\n",
       " 'families',\n",
       " 'it',\n",
       " 's',\n",
       " 'always',\n",
       " 'recommended',\n",
       " 'to',\n",
       " 'secure',\n",
       " 'your',\n",
       " 'wireless',\n",
       " 'network',\n",
       " 'with',\n",
       " 'a',\n",
       " 'password',\n",
       " '.',\n",
       " 'This',\n",
       " 'prevents',\n",
       " 'unauthorized',\n",
       " 'individuals',\n",
       " 'within',\n",
       " 'proximity',\n",
       " 'to',\n",
       " 'hijack',\n",
       " 'your',\n",
       " 'wireless',\n",
       " 'network',\n",
       " '.',\n",
       " 'Even',\n",
       " 'if',\n",
       " 'they',\n",
       " 're',\n",
       " 'merely',\n",
       " 'attempting',\n",
       " 'to',\n",
       " 'get',\n",
       " 'free',\n",
       " 'Wi',\n",
       " 'Fi',\n",
       " 'access',\n",
       " 'you',\n",
       " 'don',\n",
       " 't',\n",
       " 'want',\n",
       " 'to',\n",
       " 'inadvertently',\n",
       " 'share',\n",
       " 'private',\n",
       " ...]"
      ]
     },
     "execution_count": 8,
     "metadata": {},
     "output_type": "execute_result"
    }
   ],
   "source": [
    "token = word_tokenize(texts)\n",
    "token"
   ]
  },
  {
   "cell_type": "code",
   "execution_count": 9,
   "id": "10016a09",
   "metadata": {},
   "outputs": [],
   "source": [
    "with open(\"D:\\lab\\Dataset\\Stopwords_Blackcoffer.txt\", 'r') as file:\n",
    "    data = file.read()"
   ]
  },
  {
   "cell_type": "code",
   "execution_count": 10,
   "id": "c567cbef",
   "metadata": {},
   "outputs": [
    {
     "data": {
      "text/plain": [
       "'ERNST\\nYOUNG\\nDELOITTE\\nTOUCHE\\nKPMG\\nPRICEWATERHOUSECOOPERS\\nPRICEWATERHOUSE\\nCOOPERS\\nAFGHANI\\nARIARY\\nBAHT\\n'"
      ]
     },
     "execution_count": 10,
     "metadata": {},
     "output_type": "execute_result"
    }
   ],
   "source": [
    "data[:100]"
   ]
  },
  {
   "cell_type": "code",
   "execution_count": 11,
   "id": "d65bfa92",
   "metadata": {},
   "outputs": [
    {
     "data": {
      "text/plain": [
       "'ERNST,YOUNG,DELOITTE,TOUCHE,KPMG,PRICEWATERHOUSECOOPERS,PRICEWATERHOUSE,COOPERS,AFGHANI,ARIARY,BAHT,'"
      ]
     },
     "execution_count": 11,
     "metadata": {},
     "output_type": "execute_result"
    }
   ],
   "source": [
    "data = data.replace('\\n', ',')\n",
    "data[:100]"
   ]
  },
  {
   "cell_type": "code",
   "execution_count": 12,
   "id": "0ef23874",
   "metadata": {},
   "outputs": [
    {
     "data": {
      "text/plain": [
       "'Before internet information restricted centralized . The mediums information books newspapers word mouth . But advent internet improvements computer technology Moore Law information data skyrocketed o'"
      ]
     },
     "execution_count": 12,
     "metadata": {},
     "output_type": "execute_result"
    }
   ],
   "source": [
    "new_texts = \" \".join([i for i in token if i not in data])\n",
    "new_texts[:200]"
   ]
  },
  {
   "cell_type": "code",
   "execution_count": 13,
   "id": "ea392da4",
   "metadata": {},
   "outputs": [
    {
     "name": "stdout",
     "output_type": "stream",
     "text": [
      "length before cleaning:  11631\n",
      "length after cleaning:  7736\n"
     ]
    }
   ],
   "source": [
    "print(\"length before cleaning: \", len(texts))\n",
    "print(\"length after cleaning: \", len(new_texts))"
   ]
  },
  {
   "cell_type": "markdown",
   "id": "1f456147",
   "metadata": {},
   "source": [
    "# Negative words"
   ]
  },
  {
   "cell_type": "code",
   "execution_count": 14,
   "id": "dc3618a7",
   "metadata": {},
   "outputs": [],
   "source": [
    "with open(\"D:\\\\lab\\\\Dataset\\\\Negative_words.txt\", 'r') as file:\n",
    "    negative = file.read()"
   ]
  },
  {
   "cell_type": "code",
   "execution_count": 15,
   "id": "2123c4cb",
   "metadata": {},
   "outputs": [
    {
     "data": {
      "text/plain": [
       "'2-faced\\n2-faces\\nabnormal\\nabolish\\nabominable\\nabominably\\nabominate\\nabomination\\nabort\\naborted\\naborts\\nabrade\\nabrasive\\nabrupt\\nabruptly\\nabscond\\nabsence\\nabsent-minded\\nabsentee\\nabsurd\\nabsurdity\\nabsurdly\\nabsurdness\\n'"
      ]
     },
     "execution_count": 15,
     "metadata": {},
     "output_type": "execute_result"
    }
   ],
   "source": [
    "negative[:206]"
   ]
  },
  {
   "cell_type": "code",
   "execution_count": 16,
   "id": "28f44c97",
   "metadata": {},
   "outputs": [
    {
     "data": {
      "text/plain": [
       "'2-faced,2-faces,abnormal,abolish,abominable,abominably,abominate,abomination,abort,aborted,aborts,abrade,abrasive,abrupt,abruptly,abscond,absence,absent-minded,absentee,absurd,absurdity,absurdly,absurdness,'"
      ]
     },
     "execution_count": 16,
     "metadata": {},
     "output_type": "execute_result"
    }
   ],
   "source": [
    "negative = negative.replace('\\n', ',')\n",
    "negative[:206]"
   ]
  },
  {
   "cell_type": "code",
   "execution_count": 17,
   "id": "31a272c0",
   "metadata": {},
   "outputs": [
    {
     "name": "stdout",
     "output_type": "stream",
     "text": [
      "['restricted', 'kind', 'limits', 'make', 'sole', 'lot', 'easy', 'sign', 'standard', 'scramble', 'key', 'lost', 'stolen', 'lose', 'important', 'points', 'small', 'disaster', 'problem', 'takes', 'lose', 'found', 'cost', 'sound', 'security', 'cloud', 'solution', 'easily', 'accessible', 'adequate', 'disaster', 'post', 'sneaky', 'friend', 'issue', 'essential', 'laying', 'security', 'short', 'malicious', 'designed', 'damage', 'present', 'avoid', 'infected', 'run', 'anti', 'virus', 'avoid', 'suspicious', 'sneaky', 'friend', 'cautious', 'pick', 'infection', 'point', 'personal', 'unreadable', 'unreadable', 'back', 'wipe', 'clean', 'pain', 'honest', 'truth', 'evil', 'critical', 'security', 'threats', 'risk', 'important', 'typically', 'typically', 'regular', 'set', 'risks', 'order', 'ensure', 'security', 'enable', 'risks', 'tip', 'small', 'secure', 'free', 'access', 'make', 'secure', 'hide', 'set', 'access', 'point', 'access', 'small', 'finished', 'power', 'rogue', 'attacks', 'access', 'safe', 'turn', 'dangerous', 'dangerous', 'security', 'log', 'vulnerable', 'security', 'risks', 'unfamiliar', 'site', 'high', 'damage', 'access', 'security', 'difference', 'series', 'random', 'advantage', 'type', 'hack', 'stolen', 'cell', 'make', 'difficult', 'impossible', 'interpret', 'personal', 'lost', 'stolen', 'access', 'easily', 'stolen', 'put', 'steal', 'infect', 'stolen', 'cell', 'stuck', 'akin', 'keys', 'car', 'car', 'visible', 'disable', 'file', 'convenient', 'make', 'visible', 'disable', 'file', 'series', 'sets', 'easily', 'sensitive', 'access', 'criminal', 'determined', 'personal', 'ensure', 'back', 'cloud', 'cloud', 'secure', 'cloud', 'service', 'headed', 'direction', 'cloud', 'forget', 'back', 'cloud', 'cloud', 'file', 'cloud']\n"
     ]
    },
    {
     "data": {
      "text/plain": [
       "174"
      ]
     },
     "execution_count": 17,
     "metadata": {},
     "output_type": "execute_result"
    }
   ],
   "source": [
    "new_texts = word_tokenize(new_texts)\n",
    "negative_words = [i for i in new_texts if i in negative]\n",
    "print(negative_words)\n",
    "len(negative_words)"
   ]
  },
  {
   "cell_type": "markdown",
   "id": "0b24f011",
   "metadata": {},
   "source": [
    "# Positive words"
   ]
  },
  {
   "cell_type": "code",
   "execution_count": 18,
   "id": "4b003620",
   "metadata": {},
   "outputs": [
    {
     "data": {
      "text/plain": [
       "'a+\\nabound\\nabounds\\nabundance\\nabundant\\naccessable\\naccessible\\nacclaim\\nacclaimed\\nacclamation\\naccolade\\naccolades\\naccommodative\\naccomodative\\naccomplish\\naccomplished\\naccomplishment\\naccomplishments\\naccurate\\naccurately\\n'"
      ]
     },
     "execution_count": 18,
     "metadata": {},
     "output_type": "execute_result"
    }
   ],
   "source": [
    "with open(\"D:\\\\lab\\\\Dataset\\\\Positive_words.txt\", 'r') as file:\n",
    "    positive = file.read()\n",
    "positive[:210]    "
   ]
  },
  {
   "cell_type": "code",
   "execution_count": 19,
   "id": "66ed38c6",
   "metadata": {},
   "outputs": [
    {
     "data": {
      "text/plain": [
       "'a+,abound,abounds,abundance,abundant,accessable,accessible,acclaim,acclaimed,acclamation,accolade,accolades,accommodative,accomodative,accomplish,accomplished,accomplishment,accomplishments,accurate,accurately,'"
      ]
     },
     "execution_count": 19,
     "metadata": {},
     "output_type": "execute_result"
    }
   ],
   "source": [
    "positive = positive.replace('\\n',',')\n",
    "positive[:210]"
   ]
  },
  {
   "cell_type": "code",
   "execution_count": 20,
   "id": "fc1387e8",
   "metadata": {},
   "outputs": [
    {
     "name": "stdout",
     "output_type": "stream",
     "text": [
      "['restricted', 'advent', 'improvements', 'open', 'kind', 'modern', 'open', 'source', 'easy', 'sign', 'protect', 'recommend', 'interesting', 'protection', 'important', 'recovery', 'problem', 'takes', 'restore', 'found', 'cost', 'sound', 'ideal', 'stored', 'accessible', 'guarantee', 'adequate', 'recovery', 'cleverly', 'friend', 'issue', 'protection', 'damage', 'run', 'good', 'anti', 'protection', 'cleverly', 'friend', 'protect', 'personal', 'back', 'clean', 'pain', 'honest', 'truth', 'protect', 'risk', 'important', 'set', 'connect', 'defend', 'order', 'enable', 'connect', 'defend', 'valuable', 'recommended', 'secure', 'free', 'access', 'secure', 'set', 'access', 'protect', 'access', 'protection', 'power', 'connected', 'attacks', 'connected', 'access', 'commit', 'safe', 'protection', 'log', 'perform', 'vulnerable', 'site', 'high', 'privilege', 'damage', 'user', 'access', 'perform', 'recommend', 'stronger', 'advantage', 'easier', 'selling', 'cell', 'personal', 'excellent', 'user', 'access', 'stored', 'put', 'flash', 'selling', 'cell', 'note', 'akin', 'car', 'car', 'connected', 'convenient', 'sensitive', 'access', 'savvy', 'personal', 'streamline', 'back', 'stored', 'diligent', 'secure', 'forget', 'back', 'stored']\n"
     ]
    },
    {
     "data": {
      "text/plain": [
       "118"
      ]
     },
     "execution_count": 20,
     "metadata": {},
     "output_type": "execute_result"
    }
   ],
   "source": [
    "positive_words = [i for i in new_texts if i in positive]\n",
    "print(positive_words)\n",
    "len(positive_words)"
   ]
  },
  {
   "cell_type": "markdown",
   "id": "1b59646d",
   "metadata": {},
   "source": [
    "#### positive Score\n"
   ]
  },
  {
   "cell_type": "code",
   "execution_count": 21,
   "id": "7d0fbab1",
   "metadata": {},
   "outputs": [
    {
     "name": "stdout",
     "output_type": "stream",
     "text": [
      "118\n"
     ]
    }
   ],
   "source": [
    "pos_score = len(positive_words)\n",
    "print(pos_score)"
   ]
  },
  {
   "cell_type": "markdown",
   "id": "54a6cc12",
   "metadata": {},
   "source": [
    "#### Negative Score"
   ]
  },
  {
   "cell_type": "code",
   "execution_count": 22,
   "id": "df0766cd",
   "metadata": {},
   "outputs": [
    {
     "name": "stdout",
     "output_type": "stream",
     "text": [
      "174\n"
     ]
    }
   ],
   "source": [
    "neg_score=len(negative_words)\n",
    "print(neg_score)"
   ]
  },
  {
   "cell_type": "markdown",
   "id": "84da7ab7",
   "metadata": {},
   "source": [
    "#### Polarity Score"
   ]
  },
  {
   "cell_type": "code",
   "execution_count": 23,
   "id": "21e88c2b",
   "metadata": {},
   "outputs": [
    {
     "data": {
      "text/plain": [
       "-0.19"
      ]
     },
     "execution_count": 23,
     "metadata": {},
     "output_type": "execute_result"
    }
   ],
   "source": [
    "Polarity_Score = (pos_score - neg_score)/((pos_score + neg_score) + 0.000001)\n",
    "round(Polarity_Score,2)"
   ]
  },
  {
   "cell_type": "code",
   "execution_count": 24,
   "id": "08bcb4ab",
   "metadata": {},
   "outputs": [
    {
     "name": "stdout",
     "output_type": "stream",
     "text": [
      "number of words after cleaning : 1099\n"
     ]
    }
   ],
   "source": [
    "word_count = len(new_texts)\n",
    "print(\"number of words after cleaning :\",word_count)"
   ]
  },
  {
   "cell_type": "markdown",
   "id": "16495ba1",
   "metadata": {},
   "source": [
    "#### Subjectivity Score"
   ]
  },
  {
   "cell_type": "code",
   "execution_count": 25,
   "id": "841713a3",
   "metadata": {},
   "outputs": [
    {
     "data": {
      "text/plain": [
       "0.27"
      ]
     },
     "execution_count": 25,
     "metadata": {},
     "output_type": "execute_result"
    }
   ],
   "source": [
    "Subjectivity_Score = (pos_score + neg_score)/ ((word_count) + 0.000001)\n",
    "round(Subjectivity_Score,2)"
   ]
  },
  {
   "cell_type": "markdown",
   "id": "0d7c370e",
   "metadata": {},
   "source": [
    "# Analysis of Readability"
   ]
  },
  {
   "cell_type": "code",
   "execution_count": 26,
   "id": "10209a7a",
   "metadata": {},
   "outputs": [
    {
     "data": {
      "text/plain": [
       "2022"
      ]
     },
     "execution_count": 26,
     "metadata": {},
     "output_type": "execute_result"
    }
   ],
   "source": [
    "import nltk\n",
    "from nltk.tokenize import word_tokenize\n",
    "word_tokens = nltk.word_tokenize(texts)\n",
    "No_of_words = len(word_tokens)\n",
    "No_of_words"
   ]
  },
  {
   "cell_type": "code",
   "execution_count": 27,
   "id": "bfac2ab7",
   "metadata": {},
   "outputs": [
    {
     "data": {
      "text/plain": [
       "95"
      ]
     },
     "execution_count": 27,
     "metadata": {},
     "output_type": "execute_result"
    }
   ],
   "source": [
    "sent_tokens = nltk.sent_tokenize(texts)\n",
    "No_of_sents = len(sent_tokens)\n",
    "No_of_sents "
   ]
  },
  {
   "cell_type": "markdown",
   "id": "1576acfe",
   "metadata": {},
   "source": [
    "### Average sentence Length\n"
   ]
  },
  {
   "cell_type": "code",
   "execution_count": 28,
   "id": "11d6a7ec",
   "metadata": {},
   "outputs": [
    {
     "data": {
      "text/plain": [
       "21.28"
      ]
     },
     "execution_count": 28,
     "metadata": {},
     "output_type": "execute_result"
    }
   ],
   "source": [
    "Avg_Sents_Length = No_of_words / No_of_sents\n",
    "round(Avg_Sents_Length,2)"
   ]
  },
  {
   "cell_type": "markdown",
   "id": "bc20ee3d",
   "metadata": {},
   "source": [
    "### Percentage of Complex words\n",
    "Complex words: words with more than 2 syllable are called complex words"
   ]
  },
  {
   "cell_type": "code",
   "execution_count": 29,
   "id": "eba6a8b1",
   "metadata": {},
   "outputs": [
    {
     "name": "stdout",
     "output_type": "stream",
     "text": [
      "Number of complex words: 268\n",
      "Total number of words: 11631\n"
     ]
    }
   ],
   "source": [
    "from nltk.corpus import cmudict\n",
    "cmud = cmudict.dict()\n",
    "\n",
    "# Defining a function to count syllables in a word\n",
    "def count_syllables(word):\n",
    "    phonemes = cmud[word.lower()][0] \n",
    "    return len([s for s in phonemes if s[-1].isdigit()])\n",
    "\n",
    "# Identifing complex words\n",
    "w_tokens = [i for i in word_tokens if i in cmud]\n",
    "complex_words = [word for word in w_tokens if count_syllables(word) > 2]\n",
    "\n",
    "# Calculatingnumber of complex words\n",
    "num_complex_words = len(complex_words)\n",
    "\n",
    "print(\"Number of complex words:\", num_complex_words)\n",
    "print(\"Total number of words:\", len(texts))"
   ]
  },
  {
   "cell_type": "code",
   "execution_count": 30,
   "id": "e982c0a1",
   "metadata": {},
   "outputs": [
    {
     "data": {
      "text/plain": [
       "43.4"
      ]
     },
     "execution_count": 30,
     "metadata": {},
     "output_type": "execute_result"
    }
   ],
   "source": [
    "Perc_of_Complex_words = len(texts) / num_complex_words\n",
    "round(Perc_of_Complex_words,2)"
   ]
  },
  {
   "cell_type": "markdown",
   "id": "77e948d1",
   "metadata": {},
   "source": [
    "### Fog Index"
   ]
  },
  {
   "cell_type": "code",
   "execution_count": 31,
   "id": "95fb10bb",
   "metadata": {},
   "outputs": [
    {
     "name": "stdout",
     "output_type": "stream",
     "text": [
      "Average sentence length: 95.0\n"
     ]
    }
   ],
   "source": [
    "# Tokenize each sentence into words\n",
    "words = [word_tokens for sentence in sent_tokens]\n",
    "\n",
    "# Calculate the average sentence length\n",
    "avg_sent_len = sum(No_of_sents for sentence in words) / No_of_sents\n",
    "\n",
    "print(\"Average sentence length:\", avg_sent_len)\n"
   ]
  },
  {
   "cell_type": "code",
   "execution_count": 32,
   "id": "38f5a93b",
   "metadata": {},
   "outputs": [
    {
     "data": {
      "text/plain": [
       "55.36"
      ]
     },
     "execution_count": 32,
     "metadata": {},
     "output_type": "execute_result"
    }
   ],
   "source": [
    "Fog_index = 0.4 * (avg_sent_len + Perc_of_Complex_words)\n",
    "round(Fog_index,2)"
   ]
  },
  {
   "cell_type": "markdown",
   "id": "5b4aacea",
   "metadata": {},
   "source": [
    "# Average Number of Words Per Sentence"
   ]
  },
  {
   "cell_type": "code",
   "execution_count": 33,
   "id": "45da1407",
   "metadata": {},
   "outputs": [
    {
     "data": {
      "text/plain": [
       "21.28"
      ]
     },
     "execution_count": 33,
     "metadata": {},
     "output_type": "execute_result"
    }
   ],
   "source": [
    "avg_no_of_words_per_sent = No_of_words / No_of_sents\n",
    "round(avg_no_of_words_per_sent,2)"
   ]
  },
  {
   "cell_type": "markdown",
   "id": "f2d9b493",
   "metadata": {},
   "source": [
    "# Complex Word Count"
   ]
  },
  {
   "cell_type": "code",
   "execution_count": 34,
   "id": "75304424",
   "metadata": {},
   "outputs": [
    {
     "name": "stdout",
     "output_type": "stream",
     "text": [
      "complex word count: 268\n"
     ]
    }
   ],
   "source": [
    "from nltk.corpus import cmudict\n",
    "cmud = cmudict.dict()\n",
    "\n",
    "# Defining a function to count syllables in a word\n",
    "def count_syllables(word):\n",
    "    phonemes = cmud[word.lower()][0] \n",
    "    return len([s for s in phonemes if s[-1].isdigit()])\n",
    "\n",
    "# Identifing complex words\n",
    "w_tokens = [i for i in word_tokens if i in cmud]\n",
    "complex_words = [word for word in w_tokens if count_syllables(word) > 2]\n",
    "\n",
    "# Calculatingnumber of complex words\n",
    "num_complex_words = len(complex_words)\n",
    "\n",
    "print(\"complex word count:\", num_complex_words)"
   ]
  },
  {
   "cell_type": "markdown",
   "id": "99ea5188",
   "metadata": {},
   "source": [
    "# Word Count\n",
    "number of words after cleaning"
   ]
  },
  {
   "cell_type": "code",
   "execution_count": 35,
   "id": "b4fb0c72",
   "metadata": {},
   "outputs": [
    {
     "data": {
      "text/plain": [
       "1099"
      ]
     },
     "execution_count": 35,
     "metadata": {},
     "output_type": "execute_result"
    }
   ],
   "source": [
    "len(new_texts)"
   ]
  },
  {
   "cell_type": "markdown",
   "id": "ca8076ff",
   "metadata": {},
   "source": [
    "# Syllable Count Per Word"
   ]
  },
  {
   "cell_type": "code",
   "execution_count": 36,
   "id": "bc568045",
   "metadata": {},
   "outputs": [
    {
     "name": "stdout",
     "output_type": "stream",
     "text": [
      "Enter a word to get syllable: important\n",
      "Number of syllable in a word : 3\n"
     ]
    }
   ],
   "source": [
    "word = input(\"Enter a word to get syllable: \")\n",
    "def count_syllables(word):\n",
    "    phonemes = cmud[word.lower()][0] \n",
    "    return len([s for s in phonemes if s[-1].isdigit()])\n",
    "\n",
    "print(\"Number of syllable in a word :\",count_syllables(word))"
   ]
  },
  {
   "cell_type": "markdown",
   "id": "1d3a18f6",
   "metadata": {},
   "source": [
    "# Personal Pronouns"
   ]
  },
  {
   "cell_type": "code",
   "execution_count": 37,
   "id": "0b8e0d2d",
   "metadata": {},
   "outputs": [
    {
     "name": "stdout",
     "output_type": "stream",
     "text": [
      "Personal pronoun frequency: {'it': 34, 'you': 34, 'them': 3, 'they': 8, 'we': 1}\n",
      "total number of pronouns in a article : 80\n"
     ]
    }
   ],
   "source": [
    "import re\n",
    "\n",
    "# Define a regex pattern to match personal pronouns\n",
    "pattern = r'\\b(I|you|he|she|it|we|they|me|him|her|us|them)\\b'\n",
    "\n",
    "# Count the frequency of personal pronouns\n",
    "pronoun_freq = {}\n",
    "for pronoun in re.findall(pattern, texts, re.IGNORECASE):\n",
    "    pronoun = pronoun.lower()\n",
    "    if pronoun in pronoun_freq:\n",
    "        pronoun_freq[pronoun] += 1\n",
    "    else:\n",
    "        pronoun_freq[pronoun] = 1\n",
    "\n",
    "print(\"Personal pronoun frequency:\", pronoun_freq)\n",
    "def returnSum(dict):\n",
    " \n",
    "    sum = 0\n",
    "    for i in pronoun_freq.values():\n",
    "        sum = sum + i\n",
    " \n",
    "    return sum\n",
    "print(\"total number of pronouns in a article :\",returnSum(pronoun_freq))"
   ]
  },
  {
   "cell_type": "markdown",
   "id": "e3fc87f8",
   "metadata": {},
   "source": [
    "# Average Word Length"
   ]
  },
  {
   "cell_type": "code",
   "execution_count": 38,
   "id": "5bde37d9",
   "metadata": {},
   "outputs": [
    {
     "name": "stdout",
     "output_type": "stream",
     "text": [
      "Average word length: 4.73\n"
     ]
    }
   ],
   "source": [
    "# Calculate the total number of characters in all words\n",
    "total_chars = sum(len(word) for word in word_tokens)\n",
    "\n",
    "avg_word_length = total_chars / No_of_words\n",
    "\n",
    "print(\"Average word length:\", round(avg_word_length,2))\n"
   ]
  },
  {
   "cell_type": "code",
   "execution_count": null,
   "id": "63dc25ad",
   "metadata": {},
   "outputs": [],
   "source": []
  },
  {
   "cell_type": "code",
   "execution_count": null,
   "id": "819012c5",
   "metadata": {},
   "outputs": [],
   "source": []
  }
 ],
 "metadata": {
  "kernelspec": {
   "display_name": "Python 3",
   "language": "python",
   "name": "python3"
  },
  "language_info": {
   "codemirror_mode": {
    "name": "ipython",
    "version": 3
   },
   "file_extension": ".py",
   "mimetype": "text/x-python",
   "name": "python",
   "nbconvert_exporter": "python",
   "pygments_lexer": "ipython3",
   "version": "3.8.8"
  }
 },
 "nbformat": 4,
 "nbformat_minor": 5
}
