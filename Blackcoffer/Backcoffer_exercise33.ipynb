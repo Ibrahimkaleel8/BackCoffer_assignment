{
 "cells": [
  {
   "cell_type": "markdown",
   "id": "b9312f26",
   "metadata": {},
   "source": [
    "# Data scraping"
   ]
  },
  {
   "cell_type": "code",
   "execution_count": 1,
   "id": "ef4785ca",
   "metadata": {},
   "outputs": [],
   "source": [
    "import nltk\n",
    "import requests\n",
    "from bs4 import BeautifulSoup"
   ]
  },
  {
   "cell_type": "code",
   "execution_count": 2,
   "id": "ac2f2459",
   "metadata": {},
   "outputs": [],
   "source": [
    "req = requests.get(\"https://insights.blackcoffer.com/management-challenges-for-future-digitalization-of-healthcare-services/\")"
   ]
  },
  {
   "cell_type": "code",
   "execution_count": 3,
   "id": "45f9fa09",
   "metadata": {},
   "outputs": [],
   "source": [
    "soup = BeautifulSoup(req.content, \"html.parser\")\n",
    "res = soup.title\n",
    "paras = soup.find_all('p')"
   ]
  },
  {
   "cell_type": "code",
   "execution_count": 4,
   "id": "dbb256b2",
   "metadata": {
    "scrolled": true
   },
   "outputs": [
    {
     "name": "stdout",
     "output_type": "stream",
     "text": [
      "Management acts as a guide to a group of people working in the organization and coordinating their efforts, towards the attainment of the common objective.Management challenges for future digitalization of healthcare services In the current day and age, a wave of digitization has taken over the world. All the emerging technologies like Artificial Intelligence and others are helping people live better and easier life. The service sector has also benefited a lot from digitization. It got further boost when Prime Minister Narendra Modi, in the year 2015, launched a campaign known as ‘Digital India.’ Among the various industries in the service sector, digitization has had a massive impact on the operation of the healthcare and diagnostic industry. It has helped in the development of this industry and enhances life for millions of people. The condition of India in terms of healthcare has been quite grim. Patients who need attention are neglected and are unable to avail proper treatment or diagnosis. However, with the coming up of digitization, there has been hoped for this industry also. According to Dr. Keshab Panda, CEO & MD, L&T Technology Services, This is a model of healthcare where doctors and hospitals are paid based on patient health outcomes. The coming up of digital tools in this segment of healthcare can be considered as the starting tool. Dr. Panda further says that the implementation of advanced digital technologies in patient-care domains like- mobile health apps, telehealth, wearables, and remote monitoring can help in enhancing accessibility, boost efficiency and augment the effectiveness of treatment and preventive care. The healthcare industry over the past few decades has changed drastically. With the coming of emerging technologies, new surgical procedures and medical devices have been made available. While talking about connectivity in healthcare, Dr. Panda said that with digitization taking over the industry, it is only a matter of time when with the help of the internet and smartphones, digital healthcare will be everywhere. The internet for once has helped doctors connect to their patients and also with one another. This has helped in enhancing the doctor-patient engagement by increasing their interaction time. Big data aggregates information about a business through formats such as social media, eCommerce, online transactions, and financial transactions, and identifies patterns and trends for future use. Although ransomware, data breaches, and other cybersecurity concerns are nothing new to the healthcare industry, the 2020 Covid-19 pandemic revealed just how vulnerable sensitive patient health information really is. The recent growth of digital health initiatives- like telehealth doctor visits — is a major contributor to the severe increase in breached patient records. As more healthcare functions continue to move online over the next year, it’s extremely important to ensure these processes are protected from outside threats. Medical practices are citing patient collections as their top revenue cycle management struggle as patients are becoming responsible for a larger portion of their medical bills. In order to help encourage patients to submit payments in a timely manner, providers must adhere to patient payment preferences. To meet patient expectations and improve the user experience, ensure billing statements are patient-friendly. You should offer paperless statements and a variety of payment options (e.g. credit card, etc.) via an online patient portal and utilize the latest payment technologies, such as mobile and text-to-pay. New features like text or email reminders help effectively communicate with patients and encourage them to pay their financial obligations. The medical insurance landscape has experienced some significant changes in recent years. As more patients are responsible for a larger portion of their healthcare bill, they naturally demand better services from their providers. Healthcare organizations will face tougher competition in attracting and retaining patients who demand an experience that matches the level of customer service they expect from other consumer brands. They demand a streamlined patient experience so they can “self-service” to resolve most questions, issues, or concerns (e.g., downloading an immunization record, booking an appointment, paying their bills, or checking their account/insurance status) whenever, wherever, and however is most convenient for them.\n"
     ]
    }
   ],
   "source": [
    "texts = \" \".join([paragraph.text.strip() for paragraph in paras])\n",
    "print(texts)"
   ]
  },
  {
   "cell_type": "code",
   "execution_count": 5,
   "id": "e79f5f60",
   "metadata": {},
   "outputs": [
    {
     "data": {
      "text/plain": [
       "4500"
      ]
     },
     "execution_count": 5,
     "metadata": {},
     "output_type": "execute_result"
    }
   ],
   "source": [
    "len(texts)"
   ]
  },
  {
   "cell_type": "markdown",
   "id": "db8f1fcc",
   "metadata": {},
   "source": [
    "Removing Punctuation"
   ]
  },
  {
   "cell_type": "code",
   "execution_count": 6,
   "id": "5285c8a8",
   "metadata": {},
   "outputs": [
    {
     "data": {
      "text/plain": [
       "4500"
      ]
     },
     "execution_count": 6,
     "metadata": {},
     "output_type": "execute_result"
    }
   ],
   "source": [
    "import re\n",
    "import string\n",
    "texts = re.sub(r'[\\'\\“\\”\\()\\%\\,\\-\\'\\’\\?\\ ]', ' ', texts)\n",
    "texts[0:200]\n",
    "len(texts)"
   ]
  },
  {
   "cell_type": "markdown",
   "id": "4fafe7be",
   "metadata": {},
   "source": [
    "# Removing Stopwords"
   ]
  },
  {
   "cell_type": "code",
   "execution_count": 7,
   "id": "089b8663",
   "metadata": {},
   "outputs": [],
   "source": [
    "from nltk.tokenize import word_tokenize"
   ]
  },
  {
   "cell_type": "code",
   "execution_count": 8,
   "id": "280876b0",
   "metadata": {},
   "outputs": [
    {
     "data": {
      "text/plain": [
       "['Management',\n",
       " 'acts',\n",
       " 'as',\n",
       " 'a',\n",
       " 'guide',\n",
       " 'to',\n",
       " 'a',\n",
       " 'group',\n",
       " 'of',\n",
       " 'people',\n",
       " 'working',\n",
       " 'in',\n",
       " 'the',\n",
       " 'organization',\n",
       " 'and',\n",
       " 'coordinating',\n",
       " 'their',\n",
       " 'efforts',\n",
       " 'towards',\n",
       " 'the',\n",
       " 'attainment',\n",
       " 'of',\n",
       " 'the',\n",
       " 'common',\n",
       " 'objective.Management',\n",
       " 'challenges',\n",
       " 'for',\n",
       " 'future',\n",
       " 'digitalization',\n",
       " 'of',\n",
       " 'healthcare',\n",
       " 'services',\n",
       " 'In',\n",
       " 'the',\n",
       " 'current',\n",
       " 'day',\n",
       " 'and',\n",
       " 'age',\n",
       " 'a',\n",
       " 'wave',\n",
       " 'of',\n",
       " 'digitization',\n",
       " 'has',\n",
       " 'taken',\n",
       " 'over',\n",
       " 'the',\n",
       " 'world',\n",
       " '.',\n",
       " 'All',\n",
       " 'the',\n",
       " 'emerging',\n",
       " 'technologies',\n",
       " 'like',\n",
       " 'Artificial',\n",
       " 'Intelligence',\n",
       " 'and',\n",
       " 'others',\n",
       " 'are',\n",
       " 'helping',\n",
       " 'people',\n",
       " 'live',\n",
       " 'better',\n",
       " 'and',\n",
       " 'easier',\n",
       " 'life',\n",
       " '.',\n",
       " 'The',\n",
       " 'service',\n",
       " 'sector',\n",
       " 'has',\n",
       " 'also',\n",
       " 'benefited',\n",
       " 'a',\n",
       " 'lot',\n",
       " 'from',\n",
       " 'digitization',\n",
       " '.',\n",
       " 'It',\n",
       " 'got',\n",
       " 'further',\n",
       " 'boost',\n",
       " 'when',\n",
       " 'Prime',\n",
       " 'Minister',\n",
       " 'Narendra',\n",
       " 'Modi',\n",
       " 'in',\n",
       " 'the',\n",
       " 'year',\n",
       " '2015',\n",
       " 'launched',\n",
       " 'a',\n",
       " 'campaign',\n",
       " 'known',\n",
       " 'as',\n",
       " '‘',\n",
       " 'Digital',\n",
       " 'India',\n",
       " '.',\n",
       " 'Among',\n",
       " 'the',\n",
       " 'various',\n",
       " 'industries',\n",
       " 'in',\n",
       " 'the',\n",
       " 'service',\n",
       " 'sector',\n",
       " 'digitization',\n",
       " 'has',\n",
       " 'had',\n",
       " 'a',\n",
       " 'massive',\n",
       " 'impact',\n",
       " 'on',\n",
       " 'the',\n",
       " 'operation',\n",
       " 'of',\n",
       " 'the',\n",
       " 'healthcare',\n",
       " 'and',\n",
       " 'diagnostic',\n",
       " 'industry',\n",
       " '.',\n",
       " 'It',\n",
       " 'has',\n",
       " 'helped',\n",
       " 'in',\n",
       " 'the',\n",
       " 'development',\n",
       " 'of',\n",
       " 'this',\n",
       " 'industry',\n",
       " 'and',\n",
       " 'enhances',\n",
       " 'life',\n",
       " 'for',\n",
       " 'millions',\n",
       " 'of',\n",
       " 'people',\n",
       " '.',\n",
       " 'The',\n",
       " 'condition',\n",
       " 'of',\n",
       " 'India',\n",
       " 'in',\n",
       " 'terms',\n",
       " 'of',\n",
       " 'healthcare',\n",
       " 'has',\n",
       " 'been',\n",
       " 'quite',\n",
       " 'grim',\n",
       " '.',\n",
       " 'Patients',\n",
       " 'who',\n",
       " 'need',\n",
       " 'attention',\n",
       " 'are',\n",
       " 'neglected',\n",
       " 'and',\n",
       " 'are',\n",
       " 'unable',\n",
       " 'to',\n",
       " 'avail',\n",
       " 'proper',\n",
       " 'treatment',\n",
       " 'or',\n",
       " 'diagnosis',\n",
       " '.',\n",
       " 'However',\n",
       " 'with',\n",
       " 'the',\n",
       " 'coming',\n",
       " 'up',\n",
       " 'of',\n",
       " 'digitization',\n",
       " 'there',\n",
       " 'has',\n",
       " 'been',\n",
       " 'hoped',\n",
       " 'for',\n",
       " 'this',\n",
       " 'industry',\n",
       " 'also',\n",
       " '.',\n",
       " 'According',\n",
       " 'to',\n",
       " 'Dr.',\n",
       " 'Keshab',\n",
       " 'Panda',\n",
       " 'CEO',\n",
       " '&',\n",
       " 'MD',\n",
       " 'L',\n",
       " '&',\n",
       " 'T',\n",
       " 'Technology',\n",
       " 'Services',\n",
       " 'This',\n",
       " 'is',\n",
       " 'a',\n",
       " 'model',\n",
       " 'of',\n",
       " 'healthcare',\n",
       " 'where',\n",
       " 'doctors',\n",
       " 'and',\n",
       " 'hospitals',\n",
       " 'are',\n",
       " 'paid',\n",
       " 'based',\n",
       " 'on',\n",
       " 'patient',\n",
       " 'health',\n",
       " 'outcomes',\n",
       " '.',\n",
       " 'The',\n",
       " 'coming',\n",
       " 'up',\n",
       " 'of',\n",
       " 'digital',\n",
       " 'tools',\n",
       " 'in',\n",
       " 'this',\n",
       " 'segment',\n",
       " 'of',\n",
       " 'healthcare',\n",
       " 'can',\n",
       " 'be',\n",
       " 'considered',\n",
       " 'as',\n",
       " 'the',\n",
       " 'starting',\n",
       " 'tool',\n",
       " '.',\n",
       " 'Dr.',\n",
       " 'Panda',\n",
       " 'further',\n",
       " 'says',\n",
       " 'that',\n",
       " 'the',\n",
       " 'implementation',\n",
       " 'of',\n",
       " 'advanced',\n",
       " 'digital',\n",
       " 'technologies',\n",
       " 'in',\n",
       " 'patient',\n",
       " 'care',\n",
       " 'domains',\n",
       " 'like',\n",
       " 'mobile',\n",
       " 'health',\n",
       " 'apps',\n",
       " 'telehealth',\n",
       " 'wearables',\n",
       " 'and',\n",
       " 'remote',\n",
       " 'monitoring',\n",
       " 'can',\n",
       " 'help',\n",
       " 'in',\n",
       " 'enhancing',\n",
       " 'accessibility',\n",
       " 'boost',\n",
       " 'efficiency',\n",
       " 'and',\n",
       " 'augment',\n",
       " 'the',\n",
       " 'effectiveness',\n",
       " 'of',\n",
       " 'treatment',\n",
       " 'and',\n",
       " 'preventive',\n",
       " 'care',\n",
       " '.',\n",
       " 'The',\n",
       " 'healthcare',\n",
       " 'industry',\n",
       " 'over',\n",
       " 'the',\n",
       " 'past',\n",
       " 'few',\n",
       " 'decades',\n",
       " 'has',\n",
       " 'changed',\n",
       " 'drastically',\n",
       " '.',\n",
       " 'With',\n",
       " 'the',\n",
       " 'coming',\n",
       " 'of',\n",
       " 'emerging',\n",
       " 'technologies',\n",
       " 'new',\n",
       " 'surgical',\n",
       " 'procedures',\n",
       " 'and',\n",
       " 'medical',\n",
       " 'devices',\n",
       " 'have',\n",
       " 'been',\n",
       " 'made',\n",
       " 'available',\n",
       " '.',\n",
       " 'While',\n",
       " 'talking',\n",
       " 'about',\n",
       " 'connectivity',\n",
       " 'in',\n",
       " 'healthcare',\n",
       " 'Dr.',\n",
       " 'Panda',\n",
       " 'said',\n",
       " 'that',\n",
       " 'with',\n",
       " 'digitization',\n",
       " 'taking',\n",
       " 'over',\n",
       " 'the',\n",
       " 'industry',\n",
       " 'it',\n",
       " 'is',\n",
       " 'only',\n",
       " 'a',\n",
       " 'matter',\n",
       " 'of',\n",
       " 'time',\n",
       " 'when',\n",
       " 'with',\n",
       " 'the',\n",
       " 'help',\n",
       " 'of',\n",
       " 'the',\n",
       " 'internet',\n",
       " 'and',\n",
       " 'smartphones',\n",
       " 'digital',\n",
       " 'healthcare',\n",
       " 'will',\n",
       " 'be',\n",
       " 'everywhere',\n",
       " '.',\n",
       " 'The',\n",
       " 'internet',\n",
       " 'for',\n",
       " 'once',\n",
       " 'has',\n",
       " 'helped',\n",
       " 'doctors',\n",
       " 'connect',\n",
       " 'to',\n",
       " 'their',\n",
       " 'patients',\n",
       " 'and',\n",
       " 'also',\n",
       " 'with',\n",
       " 'one',\n",
       " 'another',\n",
       " '.',\n",
       " 'This',\n",
       " 'has',\n",
       " 'helped',\n",
       " 'in',\n",
       " 'enhancing',\n",
       " 'the',\n",
       " 'doctor',\n",
       " 'patient',\n",
       " 'engagement',\n",
       " 'by',\n",
       " 'increasing',\n",
       " 'their',\n",
       " 'interaction',\n",
       " 'time',\n",
       " '.',\n",
       " 'Big',\n",
       " 'data',\n",
       " 'aggregates',\n",
       " 'information',\n",
       " 'about',\n",
       " 'a',\n",
       " 'business',\n",
       " 'through',\n",
       " 'formats',\n",
       " 'such',\n",
       " 'as',\n",
       " 'social',\n",
       " 'media',\n",
       " 'eCommerce',\n",
       " 'online',\n",
       " 'transactions',\n",
       " 'and',\n",
       " 'financial',\n",
       " 'transactions',\n",
       " 'and',\n",
       " 'identifies',\n",
       " 'patterns',\n",
       " 'and',\n",
       " 'trends',\n",
       " 'for',\n",
       " 'future',\n",
       " 'use',\n",
       " '.',\n",
       " 'Although',\n",
       " 'ransomware',\n",
       " 'data',\n",
       " 'breaches',\n",
       " 'and',\n",
       " 'other',\n",
       " 'cybersecurity',\n",
       " 'concerns',\n",
       " 'are',\n",
       " 'nothing',\n",
       " 'new',\n",
       " 'to',\n",
       " 'the',\n",
       " 'healthcare',\n",
       " 'industry',\n",
       " 'the',\n",
       " '2020',\n",
       " 'Covid',\n",
       " '19',\n",
       " 'pandemic',\n",
       " 'revealed',\n",
       " 'just',\n",
       " 'how',\n",
       " 'vulnerable',\n",
       " 'sensitive',\n",
       " 'patient',\n",
       " 'health',\n",
       " 'information',\n",
       " 'really',\n",
       " 'is',\n",
       " '.',\n",
       " 'The',\n",
       " 'recent',\n",
       " 'growth',\n",
       " 'of',\n",
       " 'digital',\n",
       " 'health',\n",
       " 'initiatives',\n",
       " 'like',\n",
       " 'telehealth',\n",
       " 'doctor',\n",
       " 'visits',\n",
       " '—',\n",
       " 'is',\n",
       " 'a',\n",
       " 'major',\n",
       " 'contributor',\n",
       " 'to',\n",
       " 'the',\n",
       " 'severe',\n",
       " 'increase',\n",
       " 'in',\n",
       " 'breached',\n",
       " 'patient',\n",
       " 'records',\n",
       " '.',\n",
       " 'As',\n",
       " 'more',\n",
       " 'healthcare',\n",
       " 'functions',\n",
       " 'continue',\n",
       " 'to',\n",
       " 'move',\n",
       " 'online',\n",
       " 'over',\n",
       " 'the',\n",
       " 'next',\n",
       " 'year',\n",
       " 'it',\n",
       " 's',\n",
       " 'extremely',\n",
       " 'important',\n",
       " 'to',\n",
       " 'ensure',\n",
       " 'these',\n",
       " 'processes',\n",
       " 'are',\n",
       " 'protected',\n",
       " 'from',\n",
       " 'outside',\n",
       " 'threats',\n",
       " '.',\n",
       " 'Medical',\n",
       " 'practices',\n",
       " 'are',\n",
       " 'citing',\n",
       " 'patient',\n",
       " 'collections',\n",
       " 'as',\n",
       " 'their',\n",
       " 'top',\n",
       " 'revenue',\n",
       " 'cycle',\n",
       " 'management',\n",
       " 'struggle',\n",
       " 'as',\n",
       " 'patients',\n",
       " 'are',\n",
       " 'becoming',\n",
       " 'responsible',\n",
       " 'for',\n",
       " 'a',\n",
       " 'larger',\n",
       " 'portion',\n",
       " 'of',\n",
       " 'their',\n",
       " 'medical',\n",
       " 'bills',\n",
       " '.',\n",
       " 'In',\n",
       " 'order',\n",
       " 'to',\n",
       " 'help',\n",
       " 'encourage',\n",
       " 'patients',\n",
       " 'to',\n",
       " 'submit',\n",
       " 'payments',\n",
       " 'in',\n",
       " 'a',\n",
       " 'timely',\n",
       " 'manner',\n",
       " 'providers',\n",
       " 'must',\n",
       " 'adhere',\n",
       " 'to',\n",
       " 'patient',\n",
       " 'payment',\n",
       " 'preferences',\n",
       " '.',\n",
       " 'To',\n",
       " 'meet',\n",
       " 'patient',\n",
       " 'expectations',\n",
       " 'and',\n",
       " 'improve',\n",
       " 'the',\n",
       " 'user',\n",
       " 'experience',\n",
       " 'ensure',\n",
       " 'billing',\n",
       " 'statements',\n",
       " 'are',\n",
       " 'patient',\n",
       " 'friendly',\n",
       " '.',\n",
       " 'You',\n",
       " 'should',\n",
       " 'offer',\n",
       " 'paperless',\n",
       " 'statements',\n",
       " 'and',\n",
       " 'a',\n",
       " 'variety',\n",
       " 'of',\n",
       " 'payment',\n",
       " 'options',\n",
       " 'e.g',\n",
       " '.',\n",
       " 'credit',\n",
       " 'card',\n",
       " 'etc',\n",
       " '.',\n",
       " 'via',\n",
       " 'an',\n",
       " 'online',\n",
       " 'patient',\n",
       " 'portal',\n",
       " 'and',\n",
       " 'utilize',\n",
       " 'the',\n",
       " 'latest',\n",
       " 'payment',\n",
       " 'technologies',\n",
       " 'such',\n",
       " 'as',\n",
       " 'mobile',\n",
       " 'and',\n",
       " 'text',\n",
       " 'to',\n",
       " 'pay',\n",
       " '.',\n",
       " 'New',\n",
       " 'features',\n",
       " 'like',\n",
       " 'text',\n",
       " 'or',\n",
       " 'email',\n",
       " 'reminders',\n",
       " 'help',\n",
       " 'effectively',\n",
       " 'communicate',\n",
       " 'with',\n",
       " 'patients',\n",
       " 'and',\n",
       " 'encourage',\n",
       " 'them',\n",
       " 'to',\n",
       " 'pay',\n",
       " 'their',\n",
       " 'financial',\n",
       " 'obligations',\n",
       " '.',\n",
       " 'The',\n",
       " 'medical',\n",
       " 'insurance',\n",
       " 'landscape',\n",
       " 'has',\n",
       " 'experienced',\n",
       " 'some',\n",
       " 'significant',\n",
       " 'changes',\n",
       " 'in',\n",
       " 'recent',\n",
       " 'years',\n",
       " '.',\n",
       " 'As',\n",
       " 'more',\n",
       " 'patients',\n",
       " 'are',\n",
       " 'responsible',\n",
       " 'for',\n",
       " 'a',\n",
       " 'larger',\n",
       " 'portion',\n",
       " 'of',\n",
       " 'their',\n",
       " 'healthcare',\n",
       " 'bill',\n",
       " 'they',\n",
       " 'naturally',\n",
       " 'demand',\n",
       " 'better',\n",
       " 'services',\n",
       " 'from',\n",
       " 'their',\n",
       " 'providers',\n",
       " '.',\n",
       " 'Healthcare',\n",
       " 'organizations',\n",
       " 'will',\n",
       " 'face',\n",
       " 'tougher',\n",
       " 'competition',\n",
       " 'in',\n",
       " 'attracting',\n",
       " 'and',\n",
       " 'retaining',\n",
       " 'patients',\n",
       " 'who',\n",
       " 'demand',\n",
       " 'an',\n",
       " 'experience',\n",
       " 'that',\n",
       " 'matches',\n",
       " 'the',\n",
       " 'level',\n",
       " 'of',\n",
       " 'customer',\n",
       " 'service',\n",
       " 'they',\n",
       " 'expect',\n",
       " 'from',\n",
       " 'other',\n",
       " 'consumer',\n",
       " 'brands',\n",
       " '.',\n",
       " 'They',\n",
       " 'demand',\n",
       " 'a',\n",
       " 'streamlined',\n",
       " 'patient',\n",
       " 'experience',\n",
       " 'so',\n",
       " 'they',\n",
       " 'can',\n",
       " 'self',\n",
       " 'service',\n",
       " 'to',\n",
       " 'resolve',\n",
       " 'most',\n",
       " 'questions',\n",
       " 'issues',\n",
       " 'or',\n",
       " 'concerns',\n",
       " 'e.g',\n",
       " '.',\n",
       " 'downloading',\n",
       " 'an',\n",
       " 'immunization',\n",
       " 'record',\n",
       " 'booking',\n",
       " 'an',\n",
       " 'appointment',\n",
       " 'paying',\n",
       " 'their',\n",
       " 'bills',\n",
       " 'or',\n",
       " 'checking',\n",
       " 'their',\n",
       " 'account/insurance',\n",
       " 'status',\n",
       " 'whenever',\n",
       " 'wherever',\n",
       " 'and',\n",
       " 'however',\n",
       " 'is',\n",
       " 'most',\n",
       " 'convenient',\n",
       " 'for',\n",
       " 'them',\n",
       " '.']"
      ]
     },
     "execution_count": 8,
     "metadata": {},
     "output_type": "execute_result"
    }
   ],
   "source": [
    "token = word_tokenize(texts)\n",
    "token"
   ]
  },
  {
   "cell_type": "code",
   "execution_count": 9,
   "id": "10016a09",
   "metadata": {},
   "outputs": [],
   "source": [
    "with open(\"D:\\lab\\Dataset\\Stopwords_Blackcoffer.txt\", 'r') as file:\n",
    "    data = file.read()"
   ]
  },
  {
   "cell_type": "code",
   "execution_count": 10,
   "id": "c567cbef",
   "metadata": {},
   "outputs": [
    {
     "data": {
      "text/plain": [
       "'ERNST\\nYOUNG\\nDELOITTE\\nTOUCHE\\nKPMG\\nPRICEWATERHOUSECOOPERS\\nPRICEWATERHOUSE\\nCOOPERS\\nAFGHANI\\nARIARY\\nBAHT\\n'"
      ]
     },
     "execution_count": 10,
     "metadata": {},
     "output_type": "execute_result"
    }
   ],
   "source": [
    "data[:100]"
   ]
  },
  {
   "cell_type": "code",
   "execution_count": 11,
   "id": "d65bfa92",
   "metadata": {},
   "outputs": [
    {
     "data": {
      "text/plain": [
       "'ERNST,YOUNG,DELOITTE,TOUCHE,KPMG,PRICEWATERHOUSECOOPERS,PRICEWATERHOUSE,COOPERS,AFGHANI,ARIARY,BAHT,'"
      ]
     },
     "execution_count": 11,
     "metadata": {},
     "output_type": "execute_result"
    }
   ],
   "source": [
    "data = data.replace('\\n', ',')\n",
    "data[:100]"
   ]
  },
  {
   "cell_type": "code",
   "execution_count": 12,
   "id": "0ef23874",
   "metadata": {},
   "outputs": [
    {
     "data": {
      "text/plain": [
       "'Management acts guide group people working organization coordinating efforts attainment common objective.Management challenges future digitalization healthcare services In day age wave digitization wo'"
      ]
     },
     "execution_count": 12,
     "metadata": {},
     "output_type": "execute_result"
    }
   ],
   "source": [
    "new_texts = \" \".join([i for i in token if i not in data])\n",
    "new_texts[:200]"
   ]
  },
  {
   "cell_type": "code",
   "execution_count": 13,
   "id": "ea392da4",
   "metadata": {},
   "outputs": [
    {
     "name": "stdout",
     "output_type": "stream",
     "text": [
      "length before cleaning:  4500\n",
      "length after cleaning:  3192\n"
     ]
    }
   ],
   "source": [
    "print(\"length before cleaning: \", len(texts))\n",
    "print(\"length after cleaning: \", len(new_texts))"
   ]
  },
  {
   "cell_type": "markdown",
   "id": "1f456147",
   "metadata": {},
   "source": [
    "# Negative words"
   ]
  },
  {
   "cell_type": "code",
   "execution_count": 14,
   "id": "dc3618a7",
   "metadata": {},
   "outputs": [],
   "source": [
    "with open(\"D:\\\\lab\\\\Dataset\\\\Negative_words.txt\", 'r') as file:\n",
    "    negative = file.read()"
   ]
  },
  {
   "cell_type": "code",
   "execution_count": 15,
   "id": "2123c4cb",
   "metadata": {},
   "outputs": [
    {
     "data": {
      "text/plain": [
       "'2-faced\\n2-faces\\nabnormal\\nabolish\\nabominable\\nabominably\\nabominate\\nabomination\\nabort\\naborted\\naborts\\nabrade\\nabrasive\\nabrupt\\nabruptly\\nabscond\\nabsence\\nabsent-minded\\nabsentee\\nabsurd\\nabsurdity\\nabsurdly\\nabsurdness\\n'"
      ]
     },
     "execution_count": 15,
     "metadata": {},
     "output_type": "execute_result"
    }
   ],
   "source": [
    "negative[:206]"
   ]
  },
  {
   "cell_type": "code",
   "execution_count": 16,
   "id": "28f44c97",
   "metadata": {},
   "outputs": [
    {
     "data": {
      "text/plain": [
       "'2-faced,2-faces,abnormal,abolish,abominable,abominably,abominate,abomination,abort,aborted,aborts,abrade,abrasive,abrupt,abruptly,abscond,absence,absent-minded,absentee,absurd,absurdity,absurdly,absurdness,'"
      ]
     },
     "execution_count": 16,
     "metadata": {},
     "output_type": "execute_result"
    }
   ],
   "source": [
    "negative = negative.replace('\\n', ',')\n",
    "negative[:206]"
   ]
  },
  {
   "cell_type": "code",
   "execution_count": 17,
   "id": "31a272c0",
   "metadata": {},
   "outputs": [
    {
     "name": "stdout",
     "output_type": "stream",
     "text": [
      "['acts', 'guide', 'common', 'day', 'age', 'live', 'life', 'service', 'lot', 'service', 'life', 'grim', 'neglected', 'unable', 'proper', 'treatment', 'paid', 'patient', 'health', 'patient', 'care', 'health', 'efficiency', 'effectiveness', 'treatment', 'care', 'drastically', 'patient', 'social', 'concerns', 'vulnerable', 'sensitive', 'patient', 'health', 'health', 'severe', 'patient', 'continue', 'move', 'important', 'ensure', 'threats', 'patient', 'top', 'struggle', 'responsible', 'portion', 'order', 'timely', 'manner', 'patient', 'patient', 'experience', 'ensure', 'statements', 'patient', 'friendly', 'statements', 'credit', 'patient', 'pay', 'effectively', 'pay', 'experienced', 'significant', 'responsible', 'portion', 'naturally', 'face', 'experience', 'service', 'expect', 'patient', 'experience', 'service', 'resolve', 'issues', 'concerns', 'appointment', 'convenient']\n"
     ]
    },
    {
     "data": {
      "text/plain": [
       "80"
      ]
     },
     "execution_count": 17,
     "metadata": {},
     "output_type": "execute_result"
    }
   ],
   "source": [
    "new_texts = word_tokenize(new_texts)\n",
    "negative_words = [i for i in new_texts if i in negative]\n",
    "print(negative_words)\n",
    "len(negative_words)"
   ]
  },
  {
   "cell_type": "markdown",
   "id": "0b24f011",
   "metadata": {},
   "source": [
    "# Positive words"
   ]
  },
  {
   "cell_type": "code",
   "execution_count": 18,
   "id": "4b003620",
   "metadata": {},
   "outputs": [
    {
     "data": {
      "text/plain": [
       "'a+\\nabound\\nabounds\\nabundance\\nabundant\\naccessable\\naccessible\\nacclaim\\nacclaimed\\nacclamation\\naccolade\\naccolades\\naccommodative\\naccomodative\\naccomplish\\naccomplished\\naccomplishment\\naccomplishments\\naccurate\\naccurately\\n'"
      ]
     },
     "execution_count": 18,
     "metadata": {},
     "output_type": "execute_result"
    }
   ],
   "source": [
    "with open(\"D:\\\\lab\\\\Dataset\\\\Positive_words.txt\", 'r') as file:\n",
    "    positive = file.read()\n",
    "positive[:210]    "
   ]
  },
  {
   "cell_type": "code",
   "execution_count": 19,
   "id": "66ed38c6",
   "metadata": {},
   "outputs": [
    {
     "data": {
      "text/plain": [
       "'a+,abound,abounds,abundance,abundant,accessable,accessible,acclaim,acclaimed,acclamation,accolade,accolades,accommodative,accomodative,accomplish,accomplished,accomplishment,accomplishments,accurate,accurately,'"
      ]
     },
     "execution_count": 19,
     "metadata": {},
     "output_type": "execute_result"
    }
   ],
   "source": [
    "positive = positive.replace('\\n',',')\n",
    "positive[:210]"
   ]
  },
  {
   "cell_type": "code",
   "execution_count": 20,
   "id": "fc1387e8",
   "metadata": {},
   "outputs": [
    {
     "name": "stdout",
     "output_type": "stream",
     "text": [
      "['working', 'future', 'age', 'wave', 'world', 'helping', 'live', 'easier', 'life', 'boost', 'helped', 'enhances', 'life', 'condition', 'proper', 'patient', 'health', 'advanced', 'patient', 'care', 'health', 'boost', 'effectiveness', 'care', 'made', 'taking', 'helped', 'connect', 'helped', 'patient', 'future', 'vulnerable', 'sensitive', 'patient', 'health', 'health', 'severe', 'patient', 'important', 'citing', 'patient', 'top', 'order', 'encourage', 'timely', 'manner', 'patient', 'patient', 'improve', 'user', 'patient', 'friendly', 'variety', 'patient', 'effectively', 'encourage', 'significant', 'tougher', 'expect', 'streamlined', 'patient', 'record', 'convenient']\n"
     ]
    },
    {
     "data": {
      "text/plain": [
       "63"
      ]
     },
     "execution_count": 20,
     "metadata": {},
     "output_type": "execute_result"
    }
   ],
   "source": [
    "positive_words = [i for i in new_texts if i in positive]\n",
    "print(positive_words)\n",
    "len(positive_words)"
   ]
  },
  {
   "cell_type": "markdown",
   "id": "1b59646d",
   "metadata": {},
   "source": [
    "#### positive Score\n"
   ]
  },
  {
   "cell_type": "code",
   "execution_count": 21,
   "id": "7d0fbab1",
   "metadata": {},
   "outputs": [
    {
     "name": "stdout",
     "output_type": "stream",
     "text": [
      "63\n"
     ]
    }
   ],
   "source": [
    "pos_score = len(positive_words)\n",
    "print(pos_score)"
   ]
  },
  {
   "cell_type": "markdown",
   "id": "54a6cc12",
   "metadata": {},
   "source": [
    "#### Negative Score"
   ]
  },
  {
   "cell_type": "code",
   "execution_count": 22,
   "id": "df0766cd",
   "metadata": {},
   "outputs": [
    {
     "name": "stdout",
     "output_type": "stream",
     "text": [
      "80\n"
     ]
    }
   ],
   "source": [
    "neg_score=len(negative_words)\n",
    "print(neg_score)"
   ]
  },
  {
   "cell_type": "markdown",
   "id": "84da7ab7",
   "metadata": {},
   "source": [
    "#### Polarity Score"
   ]
  },
  {
   "cell_type": "code",
   "execution_count": 23,
   "id": "21e88c2b",
   "metadata": {},
   "outputs": [
    {
     "data": {
      "text/plain": [
       "-0.12"
      ]
     },
     "execution_count": 23,
     "metadata": {},
     "output_type": "execute_result"
    }
   ],
   "source": [
    "Polarity_Score = (pos_score - neg_score)/((pos_score + neg_score) + 0.000001)\n",
    "round(Polarity_Score,2)"
   ]
  },
  {
   "cell_type": "code",
   "execution_count": 24,
   "id": "08bcb4ab",
   "metadata": {},
   "outputs": [
    {
     "name": "stdout",
     "output_type": "stream",
     "text": [
      "number of words after cleaning : 412\n"
     ]
    }
   ],
   "source": [
    "word_count = len(new_texts)\n",
    "print(\"number of words after cleaning :\",word_count)"
   ]
  },
  {
   "cell_type": "markdown",
   "id": "16495ba1",
   "metadata": {},
   "source": [
    "#### Subjectivity Score"
   ]
  },
  {
   "cell_type": "code",
   "execution_count": 25,
   "id": "841713a3",
   "metadata": {},
   "outputs": [
    {
     "data": {
      "text/plain": [
       "0.35"
      ]
     },
     "execution_count": 25,
     "metadata": {},
     "output_type": "execute_result"
    }
   ],
   "source": [
    "Subjectivity_Score = (pos_score + neg_score)/ ((word_count) + 0.000001)\n",
    "round(Subjectivity_Score,2)"
   ]
  },
  {
   "cell_type": "markdown",
   "id": "0d7c370e",
   "metadata": {},
   "source": [
    "# Analysis of Readability"
   ]
  },
  {
   "cell_type": "code",
   "execution_count": 26,
   "id": "10209a7a",
   "metadata": {},
   "outputs": [
    {
     "data": {
      "text/plain": [
       "715"
      ]
     },
     "execution_count": 26,
     "metadata": {},
     "output_type": "execute_result"
    }
   ],
   "source": [
    "import nltk\n",
    "from nltk.tokenize import word_tokenize\n",
    "word_tokens = nltk.word_tokenize(texts)\n",
    "No_of_words = len(word_tokens)\n",
    "No_of_words"
   ]
  },
  {
   "cell_type": "code",
   "execution_count": 27,
   "id": "bfac2ab7",
   "metadata": {},
   "outputs": [
    {
     "data": {
      "text/plain": [
       "33"
      ]
     },
     "execution_count": 27,
     "metadata": {},
     "output_type": "execute_result"
    }
   ],
   "source": [
    "sent_tokens = nltk.sent_tokenize(texts)\n",
    "No_of_sents = len(sent_tokens)\n",
    "No_of_sents "
   ]
  },
  {
   "cell_type": "markdown",
   "id": "1576acfe",
   "metadata": {},
   "source": [
    "### Average sentence Length\n"
   ]
  },
  {
   "cell_type": "code",
   "execution_count": 28,
   "id": "11d6a7ec",
   "metadata": {},
   "outputs": [
    {
     "data": {
      "text/plain": [
       "21.67"
      ]
     },
     "execution_count": 28,
     "metadata": {},
     "output_type": "execute_result"
    }
   ],
   "source": [
    "Avg_Sents_Length = No_of_words / No_of_sents\n",
    "round(Avg_Sents_Length,2)"
   ]
  },
  {
   "cell_type": "markdown",
   "id": "bc20ee3d",
   "metadata": {},
   "source": [
    "### Percentage of Complex words\n",
    "Complex words: words with more than 2 syllable are called complex words"
   ]
  },
  {
   "cell_type": "code",
   "execution_count": 29,
   "id": "eba6a8b1",
   "metadata": {},
   "outputs": [
    {
     "name": "stdout",
     "output_type": "stream",
     "text": [
      "Number of complex words: 121\n",
      "Total number of words: 4500\n"
     ]
    }
   ],
   "source": [
    "from nltk.corpus import cmudict\n",
    "cmud = cmudict.dict()\n",
    "\n",
    "# Defining a function to count syllables in a word\n",
    "def count_syllables(word):\n",
    "    phonemes = cmud[word.lower()][0] \n",
    "    return len([s for s in phonemes if s[-1].isdigit()])\n",
    "\n",
    "# Identifing complex words\n",
    "w_tokens = [i for i in word_tokens if i in cmud]\n",
    "complex_words = [word for word in w_tokens if count_syllables(word) > 2]\n",
    "\n",
    "# Calculatingnumber of complex words\n",
    "num_complex_words = len(complex_words)\n",
    "\n",
    "print(\"Number of complex words:\", num_complex_words)\n",
    "print(\"Total number of words:\", len(texts))"
   ]
  },
  {
   "cell_type": "code",
   "execution_count": 30,
   "id": "e982c0a1",
   "metadata": {},
   "outputs": [
    {
     "data": {
      "text/plain": [
       "37.19"
      ]
     },
     "execution_count": 30,
     "metadata": {},
     "output_type": "execute_result"
    }
   ],
   "source": [
    "Perc_of_Complex_words = len(texts) / num_complex_words\n",
    "round(Perc_of_Complex_words,2)"
   ]
  },
  {
   "cell_type": "markdown",
   "id": "77e948d1",
   "metadata": {},
   "source": [
    "### Fog Index"
   ]
  },
  {
   "cell_type": "code",
   "execution_count": 31,
   "id": "95fb10bb",
   "metadata": {},
   "outputs": [
    {
     "name": "stdout",
     "output_type": "stream",
     "text": [
      "Average sentence length: 33.0\n"
     ]
    }
   ],
   "source": [
    "# Tokenize each sentence into words\n",
    "words = [word_tokens for sentence in sent_tokens]\n",
    "\n",
    "# Calculate the average sentence length\n",
    "avg_sent_len = sum(No_of_sents for sentence in words) / No_of_sents\n",
    "\n",
    "print(\"Average sentence length:\", avg_sent_len)\n"
   ]
  },
  {
   "cell_type": "code",
   "execution_count": 32,
   "id": "38f5a93b",
   "metadata": {},
   "outputs": [
    {
     "data": {
      "text/plain": [
       "28.08"
      ]
     },
     "execution_count": 32,
     "metadata": {},
     "output_type": "execute_result"
    }
   ],
   "source": [
    "Fog_index = 0.4 * (avg_sent_len + Perc_of_Complex_words)\n",
    "round(Fog_index,2)"
   ]
  },
  {
   "cell_type": "markdown",
   "id": "5b4aacea",
   "metadata": {},
   "source": [
    "# Average Number of Words Per Sentence"
   ]
  },
  {
   "cell_type": "code",
   "execution_count": 33,
   "id": "45da1407",
   "metadata": {},
   "outputs": [
    {
     "data": {
      "text/plain": [
       "21.67"
      ]
     },
     "execution_count": 33,
     "metadata": {},
     "output_type": "execute_result"
    }
   ],
   "source": [
    "avg_no_of_words_per_sent = No_of_words / No_of_sents\n",
    "round(avg_no_of_words_per_sent,2)"
   ]
  },
  {
   "cell_type": "markdown",
   "id": "f2d9b493",
   "metadata": {},
   "source": [
    "# Complex Word Count"
   ]
  },
  {
   "cell_type": "code",
   "execution_count": 34,
   "id": "75304424",
   "metadata": {},
   "outputs": [
    {
     "name": "stdout",
     "output_type": "stream",
     "text": [
      "complex word count: 121\n"
     ]
    }
   ],
   "source": [
    "from nltk.corpus import cmudict\n",
    "cmud = cmudict.dict()\n",
    "\n",
    "# Defining a function to count syllables in a word\n",
    "def count_syllables(word):\n",
    "    phonemes = cmud[word.lower()][0] \n",
    "    return len([s for s in phonemes if s[-1].isdigit()])\n",
    "\n",
    "# Identifing complex words\n",
    "w_tokens = [i for i in word_tokens if i in cmud]\n",
    "complex_words = [word for word in w_tokens if count_syllables(word) > 2]\n",
    "\n",
    "# Calculatingnumber of complex words\n",
    "num_complex_words = len(complex_words)\n",
    "\n",
    "print(\"complex word count:\", num_complex_words)"
   ]
  },
  {
   "cell_type": "markdown",
   "id": "99ea5188",
   "metadata": {},
   "source": [
    "# Word Count\n",
    "number of words after cleaning"
   ]
  },
  {
   "cell_type": "code",
   "execution_count": 35,
   "id": "b4fb0c72",
   "metadata": {},
   "outputs": [
    {
     "data": {
      "text/plain": [
       "412"
      ]
     },
     "execution_count": 35,
     "metadata": {},
     "output_type": "execute_result"
    }
   ],
   "source": [
    "len(new_texts)"
   ]
  },
  {
   "cell_type": "markdown",
   "id": "ca8076ff",
   "metadata": {},
   "source": [
    "# Syllable Count Per Word"
   ]
  },
  {
   "cell_type": "code",
   "execution_count": 36,
   "id": "6f0b4e4f",
   "metadata": {},
   "outputs": [
    {
     "name": "stdout",
     "output_type": "stream",
     "text": [
      "Enter a word to get syllable: goal\n",
      "Number of syllable in a word : 1\n"
     ]
    }
   ],
   "source": [
    "word = input(\"Enter a word to get syllable: \")\n",
    "def count_syllables(word):\n",
    "    phonemes = cmud[word.lower()][0] \n",
    "    return len([s for s in phonemes if s[-1].isdigit()])\n",
    "\n",
    "print(\"Number of syllable in a word :\",count_syllables(word))"
   ]
  },
  {
   "cell_type": "markdown",
   "id": "1d3a18f6",
   "metadata": {},
   "source": [
    "# Personal Pronouns"
   ]
  },
  {
   "cell_type": "code",
   "execution_count": 37,
   "id": "0b8e0d2d",
   "metadata": {},
   "outputs": [
    {
     "name": "stdout",
     "output_type": "stream",
     "text": [
      "Personal pronoun frequency: {'it': 4, 'you': 1, 'them': 2, 'they': 4}\n",
      "total number of pronouns in a article : 11\n"
     ]
    }
   ],
   "source": [
    "import re\n",
    "\n",
    "# Define a regex pattern to match personal pronouns\n",
    "pattern = r'\\b(I|you|he|she|it|we|they|me|him|her|us|them)\\b'\n",
    "\n",
    "# Count the frequency of personal pronouns\n",
    "pronoun_freq = {}\n",
    "for pronoun in re.findall(pattern, texts, re.IGNORECASE):\n",
    "    pronoun = pronoun.lower()\n",
    "    if pronoun in pronoun_freq:\n",
    "        pronoun_freq[pronoun] += 1\n",
    "    else:\n",
    "        pronoun_freq[pronoun] = 1\n",
    "\n",
    "print(\"Personal pronoun frequency:\", pronoun_freq)\n",
    "def returnSum(dict):\n",
    " \n",
    "    sum = 0\n",
    "    for i in pronoun_freq.values():\n",
    "        sum = sum + i\n",
    " \n",
    "    return sum\n",
    "print(\"total number of pronouns in a article :\",returnSum(pronoun_freq))"
   ]
  },
  {
   "cell_type": "markdown",
   "id": "e3fc87f8",
   "metadata": {},
   "source": [
    "# Average Word Length"
   ]
  },
  {
   "cell_type": "code",
   "execution_count": 38,
   "id": "5bde37d9",
   "metadata": {},
   "outputs": [
    {
     "name": "stdout",
     "output_type": "stream",
     "text": [
      "Average word length: 5.28\n"
     ]
    }
   ],
   "source": [
    "# Calculate the total number of characters in all words\n",
    "total_chars = sum(len(word) for word in word_tokens)\n",
    "\n",
    "avg_word_length = total_chars / No_of_words\n",
    "\n",
    "print(\"Average word length:\", round(avg_word_length,2))\n"
   ]
  },
  {
   "cell_type": "code",
   "execution_count": null,
   "id": "63dc25ad",
   "metadata": {},
   "outputs": [],
   "source": []
  },
  {
   "cell_type": "code",
   "execution_count": null,
   "id": "819012c5",
   "metadata": {},
   "outputs": [],
   "source": []
  }
 ],
 "metadata": {
  "kernelspec": {
   "display_name": "Python 3",
   "language": "python",
   "name": "python3"
  },
  "language_info": {
   "codemirror_mode": {
    "name": "ipython",
    "version": 3
   },
   "file_extension": ".py",
   "mimetype": "text/x-python",
   "name": "python",
   "nbconvert_exporter": "python",
   "pygments_lexer": "ipython3",
   "version": "3.8.8"
  }
 },
 "nbformat": 4,
 "nbformat_minor": 5
}
