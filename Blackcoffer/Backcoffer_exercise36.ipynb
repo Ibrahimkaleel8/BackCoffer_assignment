{
 "cells": [
  {
   "cell_type": "markdown",
   "id": "b9312f26",
   "metadata": {},
   "source": [
    "# Data scraping"
   ]
  },
  {
   "cell_type": "code",
   "execution_count": 1,
   "id": "ef4785ca",
   "metadata": {},
   "outputs": [],
   "source": [
    "import nltk\n",
    "import requests\n",
    "from bs4 import BeautifulSoup"
   ]
  },
  {
   "cell_type": "code",
   "execution_count": 2,
   "id": "ac2f2459",
   "metadata": {},
   "outputs": [],
   "source": [
    "req = requests.get(\"https://insights.blackcoffer.com/will-we-ever-understand-the-nature-of-consciousness/\")"
   ]
  },
  {
   "cell_type": "code",
   "execution_count": 3,
   "id": "45f9fa09",
   "metadata": {},
   "outputs": [],
   "source": [
    "soup = BeautifulSoup(req.content, \"html.parser\")\n",
    "res = soup.title\n",
    "paras = soup.find_all('p')"
   ]
  },
  {
   "cell_type": "code",
   "execution_count": 4,
   "id": "dbb256b2",
   "metadata": {
    "scrolled": true
   },
   "outputs": [
    {
     "name": "stdout",
     "output_type": "stream",
     "text": [
      "Introduction The definition of consciousness has been controversial for centuries, hence it is given the title of the ‘most familiar and yet mysterious aspects of our lives’. An idea of this concept would be an awareness in beings of their surroundings, themselves, and their own perception. The reason this part of our mind remains unascertained is that consciousness isn’t observable, unlike brain matter that is studied scientifically. the physical clarification of awareness is in a general sense incomplete: it doesn’t include what it feels to be the subject, for the subject. There likewise is by all accounts an unbridgeable illustrative gap between the physical world and our consciousness. As suggested by an incident of Eastern and Shamir traditions, consciousness is both universal and primal. Whilst we have made tremendous progress in understanding brain activity over the years, this research hasn’t been able to answer all the questions relating to the nature of emotions and experiences. History Beginning within the late nineteenth century, this was a time that once had psychological queries driven by a philosophical understanding of the mind, which was typically equated with consciousness. As a result, the analysis of brain and behavior naturally thought of the role of consciousness in behavioral management by the brain. The Ancient Mayans were among the first to propose a sorted out feeling of each degree of consciousness, its purpose, and its worldly association with mankind. Since consciousness incorporates stimuli from nature as well as interior stimuli, the Mayans trusted it to be the most essential type of existence, equipped for evolution. The Incas, however, thought about consciousness as a movement of mindfulness as well as of worry for others too. John Locke, an early philosopher, said that consciousness, and so individuality, are freelanced of all substances. He also detected that there is no reason to believe that consciousness is stuck to any specific body or mind, or that consciousness cannot be transferred from one body or mind to a different one. Karl Marx, another early thinker, denies the mind-body classification and holds that consciousness is jeopardized by the material eventualities of one’s settings. William James, an American psychologist, differentiated consciousness to a stream – unbroken and continuous despite several changes and shifts. While the main center of a lot of the analysis moved to strictly note cable behaviors throughout the primary half of the twentieth century, analysis of human consciousness has grown staggeringly after the 1950s. In Sigmund Freud’s psychoanalytic theory, we can see that he believed that all three levels of awareness- preconscious, conscious, and unconscious were responsible for one’s behavior and thinking. He believed that the mid itself was divided into three parts- the id, the ego, and the superego. The Id is present at birth, instinctual, and operates according to the pleasure principle. The ego underseals reality and logic and develops out of the id in infancy. Finally, the superego is an internalization of society’s moral standards and responsible for guilt. Now, the Id is regarded as unconscious, whereas the ego and superego are also conscious and preconscious. Freud constantly revised his own clinical qualities researches, however, and didn’t conduct scientific experiments and hence his work is heavily scrutinized, leaving the questions unanswered. Sigmund Freud’s theory differed from the other psychologists since his theories were more understandable and very easily conveyed to the people. Sigmund Freud’s work and hypotheses helped people shape their perspectives on youth, character, memory, sexuality, and therapy. However, his theories were subject to considerable criticism both now and during his own life. Whilst John Locke and William James took a more practical approach to the mystery by conducting experiments, Sigmund Freud didn’t provide any evidence to support his claims. Brain Today, the essential focal point of consciousness research is on understanding what consciousness implies both biologically and mentally. Issues of interest include phenomena such as perception, blindsight, brainwaves during sleep, and altered states of consciousness produced by psychoactive drugs. A greater part of the test assesses consciousness by approaching human subjects for a verbal report of their encounters. However, to confirm the criticalness of these verbal reports, researchers must contrast them with the action that all the while happens in the brain —that is, they should search for the neural connections of consciousness. Hope is to locate that noticeable action in a specific aspect of the brain, or a particular pattern of global brain activity, will be greatly predictive of consciousness mindfulness. A few brain imaging strategies, for example, EEG and MRI scans, have been utilized for physical proportions of brain activities in these examinations. A few investigations have shown that movement in essential primary sensory areas of the brain isn’t adequate to create consciousness: it is workable for subjects to report an absence of awareness in any event, when areas, for example, the primary visual cortex show clear electrical reactions to a stimulus. Higher brain areas are viewed as all the more encouraging, particularly the prefrontal cortex, which is involved in a range of high order functions. One mainstream theory implicates various examples of brain waves in creating various conditions of consciousness. Analysts can record mind waves, or drawings of electrical movement inside the cerebrum, using an electroencephalograph (EEG) and placing electrodes on the scalp. The four types of brain waves (alpha, beta, theta, and delta) each correspond with one mental state (relaxed, alert, lightly asleep, and deeply asleep) Memory Episodic memory can be regarded as the only form of conscious memory. This is because it is the capacity to consciously remember personally experienced events and situations in the past. The hippocampus located in the brain’s temporal lobe is responsible for this type of memory. Consciousness also plays a part in important memory distinctions. One such distinction is the implicit and explicit characteristics; in which explicit memory is what you consciously know and implicit memory includes events you may not be conscious of. Furthermore, several empirical findings suggest that declarative memory is related to consciousness as well; meaning that the retrieval and formation of this memory are connected to awareness. Working memory operates/maintains consciously perceived information as well since it temporarily stores and tampers with information whilst working on tasks. The current ways of testing this information are lacking in several essential aspects, including spatial resolution, temporal resolution, or scope. Examples of such methods are PET, fMRI, EEG, implanted electrodes, etc. PET and fMRI have temporal resolution problems, EEG is well-known to have localizability difficulties, and implanted electrodes whilst great in temporal and spatial resolution can only test a set number of neurons; that is, they are restricted in scope. Hence, huge numbers of our speculations, while testable on a fundamental level, appear to be difficult to test as of now. Mental illness Consciousness has an influence on the way we see objects around us, which encourages us to settle on choices about how to communicate with them. Experiencing difficulty perceiving objects is connected to a few problems, for example, agnosia (a failure to decipher visual data), Alzheimer’s disease, and autism. However, we actually don’t comprehend what visual data is basic for the mind to intentionally perceive an object. Several different disorders of consciousness include locked-in syndrome, minimally conscious state, persistent vegetative state, chronic coma, and brain death. Locked-in syndrome, otherwise called pseudo coma, is a condition wherein a patient is aware however can’t move or impart verbally because of complete loss of motion of essentially all voluntary muscles in the body aside from vertical eye developments and squinting. The individual is conscious and is able to speak with eye movements. In a minimally conscious state, the patient has intermittent periods of awareness and wakefulness. Patients need to give restricted, however reproducible indications of consciousness of themself or their current circumstance. This could be following straightforward orders, comprehensible speech, or purposeful conduct. In a persistent vegetative state, the patient has sleep-wake cycles, but lacks awareness, is not able to communicate, and only displays reflexive and non-purposeful behavior. The term refers to an organic body that is able to grow and develop devoid of intellectual activity or social intercourse Like coma, chronic coma results generally from cortical or white-matter harm after neuronal or axonal injury, or from central brainstem sores. Usually, the metabolism in the grey matter decreases to 50-70% of the normal range. The patient lies with eyes shut and doesn’t know about self or environmental factors. Brain death is the irreversible end of all brain activity, and function (including involuntary activity necessary to sustain life). The main cause is total necrosis of the cerebral neurons following loss of brain oxygenation. After brain death the patient lacks any sense of awareness; sleep-wake cycles or behavior, and typically look as if they are dead or are in a deep sleep state. Future predictions and conclusion As we can see from the history of scholar’s endeavors to study consciousness empirically, its nature is not one that can be defined using scientific methods. In the past, psychologists such as Descartes came up with dualistic theories that did not line up with the fundamental laws of physics. In the battle between realists and illusionists, taking sides is fundamentally impossible as the topic doesn’t allow for concrete evidence. As we can observe from neural examinations of the brain to detect the causes of consciousness, there is no sensory sector of the brain that is the cause for one to be aware during a certain event even if there are clear signs of a reaction to a stimulus. Similarly, even though consciousness plays a major role in memory, we currently lack the facilities to research it fully. In the future, there is a possibility that we will be able to access such facilities, however, which could allow us to find the neural connections and its ties to mental illness as well. Not only would this help several people by making us aware of the causes of our perspective on certain things, but it would also give us a better chance of recognizing signs of possible mental illness or other issues beforehand. As it seems, researchers continue to study this unknown part of our mind and once we are able to fund and recover from the global pandemic, we will be able to answer one of psychology’s most difficult questions.\n"
     ]
    }
   ],
   "source": [
    "texts = \" \".join([paragraph.text.strip() for paragraph in paras])\n",
    "print(texts)"
   ]
  },
  {
   "cell_type": "code",
   "execution_count": 5,
   "id": "e79f5f60",
   "metadata": {},
   "outputs": [
    {
     "data": {
      "text/plain": [
       "11099"
      ]
     },
     "execution_count": 5,
     "metadata": {},
     "output_type": "execute_result"
    }
   ],
   "source": [
    "len(texts)"
   ]
  },
  {
   "cell_type": "markdown",
   "id": "db8f1fcc",
   "metadata": {},
   "source": [
    "Removing Punctuation"
   ]
  },
  {
   "cell_type": "code",
   "execution_count": 6,
   "id": "5285c8a8",
   "metadata": {},
   "outputs": [
    {
     "data": {
      "text/plain": [
       "11099"
      ]
     },
     "execution_count": 6,
     "metadata": {},
     "output_type": "execute_result"
    }
   ],
   "source": [
    "import re\n",
    "import string\n",
    "texts = re.sub(r'[\\'\\“\\”\\()\\%\\,\\-\\'\\’\\?\\ ]', ' ', texts)\n",
    "texts[0:200]\n",
    "len(texts)"
   ]
  },
  {
   "cell_type": "markdown",
   "id": "4fafe7be",
   "metadata": {},
   "source": [
    "# Removing Stopwords"
   ]
  },
  {
   "cell_type": "code",
   "execution_count": 7,
   "id": "089b8663",
   "metadata": {},
   "outputs": [],
   "source": [
    "from nltk.tokenize import word_tokenize"
   ]
  },
  {
   "cell_type": "code",
   "execution_count": 8,
   "id": "280876b0",
   "metadata": {},
   "outputs": [
    {
     "data": {
      "text/plain": [
       "['Introduction',\n",
       " 'The',\n",
       " 'definition',\n",
       " 'of',\n",
       " 'consciousness',\n",
       " 'has',\n",
       " 'been',\n",
       " 'controversial',\n",
       " 'for',\n",
       " 'centuries',\n",
       " 'hence',\n",
       " 'it',\n",
       " 'is',\n",
       " 'given',\n",
       " 'the',\n",
       " 'title',\n",
       " 'of',\n",
       " 'the',\n",
       " '‘',\n",
       " 'most',\n",
       " 'familiar',\n",
       " 'and',\n",
       " 'yet',\n",
       " 'mysterious',\n",
       " 'aspects',\n",
       " 'of',\n",
       " 'our',\n",
       " 'lives',\n",
       " '.',\n",
       " 'An',\n",
       " 'idea',\n",
       " 'of',\n",
       " 'this',\n",
       " 'concept',\n",
       " 'would',\n",
       " 'be',\n",
       " 'an',\n",
       " 'awareness',\n",
       " 'in',\n",
       " 'beings',\n",
       " 'of',\n",
       " 'their',\n",
       " 'surroundings',\n",
       " 'themselves',\n",
       " 'and',\n",
       " 'their',\n",
       " 'own',\n",
       " 'perception',\n",
       " '.',\n",
       " 'The',\n",
       " 'reason',\n",
       " 'this',\n",
       " 'part',\n",
       " 'of',\n",
       " 'our',\n",
       " 'mind',\n",
       " 'remains',\n",
       " 'unascertained',\n",
       " 'is',\n",
       " 'that',\n",
       " 'consciousness',\n",
       " 'isn',\n",
       " 't',\n",
       " 'observable',\n",
       " 'unlike',\n",
       " 'brain',\n",
       " 'matter',\n",
       " 'that',\n",
       " 'is',\n",
       " 'studied',\n",
       " 'scientifically',\n",
       " '.',\n",
       " 'the',\n",
       " 'physical',\n",
       " 'clarification',\n",
       " 'of',\n",
       " 'awareness',\n",
       " 'is',\n",
       " 'in',\n",
       " 'a',\n",
       " 'general',\n",
       " 'sense',\n",
       " 'incomplete',\n",
       " ':',\n",
       " 'it',\n",
       " 'doesn',\n",
       " 't',\n",
       " 'include',\n",
       " 'what',\n",
       " 'it',\n",
       " 'feels',\n",
       " 'to',\n",
       " 'be',\n",
       " 'the',\n",
       " 'subject',\n",
       " 'for',\n",
       " 'the',\n",
       " 'subject',\n",
       " '.',\n",
       " 'There',\n",
       " 'likewise',\n",
       " 'is',\n",
       " 'by',\n",
       " 'all',\n",
       " 'accounts',\n",
       " 'an',\n",
       " 'unbridgeable',\n",
       " 'illustrative',\n",
       " 'gap',\n",
       " 'between',\n",
       " 'the',\n",
       " 'physical',\n",
       " 'world',\n",
       " 'and',\n",
       " 'our',\n",
       " 'consciousness',\n",
       " '.',\n",
       " 'As',\n",
       " 'suggested',\n",
       " 'by',\n",
       " 'an',\n",
       " 'incident',\n",
       " 'of',\n",
       " 'Eastern',\n",
       " 'and',\n",
       " 'Shamir',\n",
       " 'traditions',\n",
       " 'consciousness',\n",
       " 'is',\n",
       " 'both',\n",
       " 'universal',\n",
       " 'and',\n",
       " 'primal',\n",
       " '.',\n",
       " 'Whilst',\n",
       " 'we',\n",
       " 'have',\n",
       " 'made',\n",
       " 'tremendous',\n",
       " 'progress',\n",
       " 'in',\n",
       " 'understanding',\n",
       " 'brain',\n",
       " 'activity',\n",
       " 'over',\n",
       " 'the',\n",
       " 'years',\n",
       " 'this',\n",
       " 'research',\n",
       " 'hasn',\n",
       " 't',\n",
       " 'been',\n",
       " 'able',\n",
       " 'to',\n",
       " 'answer',\n",
       " 'all',\n",
       " 'the',\n",
       " 'questions',\n",
       " 'relating',\n",
       " 'to',\n",
       " 'the',\n",
       " 'nature',\n",
       " 'of',\n",
       " 'emotions',\n",
       " 'and',\n",
       " 'experiences',\n",
       " '.',\n",
       " 'History',\n",
       " 'Beginning',\n",
       " 'within',\n",
       " 'the',\n",
       " 'late',\n",
       " 'nineteenth',\n",
       " 'century',\n",
       " 'this',\n",
       " 'was',\n",
       " 'a',\n",
       " 'time',\n",
       " 'that',\n",
       " 'once',\n",
       " 'had',\n",
       " 'psychological',\n",
       " 'queries',\n",
       " 'driven',\n",
       " 'by',\n",
       " 'a',\n",
       " 'philosophical',\n",
       " 'understanding',\n",
       " 'of',\n",
       " 'the',\n",
       " 'mind',\n",
       " 'which',\n",
       " 'was',\n",
       " 'typically',\n",
       " 'equated',\n",
       " 'with',\n",
       " 'consciousness',\n",
       " '.',\n",
       " 'As',\n",
       " 'a',\n",
       " 'result',\n",
       " 'the',\n",
       " 'analysis',\n",
       " 'of',\n",
       " 'brain',\n",
       " 'and',\n",
       " 'behavior',\n",
       " 'naturally',\n",
       " 'thought',\n",
       " 'of',\n",
       " 'the',\n",
       " 'role',\n",
       " 'of',\n",
       " 'consciousness',\n",
       " 'in',\n",
       " 'behavioral',\n",
       " 'management',\n",
       " 'by',\n",
       " 'the',\n",
       " 'brain',\n",
       " '.',\n",
       " 'The',\n",
       " 'Ancient',\n",
       " 'Mayans',\n",
       " 'were',\n",
       " 'among',\n",
       " 'the',\n",
       " 'first',\n",
       " 'to',\n",
       " 'propose',\n",
       " 'a',\n",
       " 'sorted',\n",
       " 'out',\n",
       " 'feeling',\n",
       " 'of',\n",
       " 'each',\n",
       " 'degree',\n",
       " 'of',\n",
       " 'consciousness',\n",
       " 'its',\n",
       " 'purpose',\n",
       " 'and',\n",
       " 'its',\n",
       " 'worldly',\n",
       " 'association',\n",
       " 'with',\n",
       " 'mankind',\n",
       " '.',\n",
       " 'Since',\n",
       " 'consciousness',\n",
       " 'incorporates',\n",
       " 'stimuli',\n",
       " 'from',\n",
       " 'nature',\n",
       " 'as',\n",
       " 'well',\n",
       " 'as',\n",
       " 'interior',\n",
       " 'stimuli',\n",
       " 'the',\n",
       " 'Mayans',\n",
       " 'trusted',\n",
       " 'it',\n",
       " 'to',\n",
       " 'be',\n",
       " 'the',\n",
       " 'most',\n",
       " 'essential',\n",
       " 'type',\n",
       " 'of',\n",
       " 'existence',\n",
       " 'equipped',\n",
       " 'for',\n",
       " 'evolution',\n",
       " '.',\n",
       " 'The',\n",
       " 'Incas',\n",
       " 'however',\n",
       " 'thought',\n",
       " 'about',\n",
       " 'consciousness',\n",
       " 'as',\n",
       " 'a',\n",
       " 'movement',\n",
       " 'of',\n",
       " 'mindfulness',\n",
       " 'as',\n",
       " 'well',\n",
       " 'as',\n",
       " 'of',\n",
       " 'worry',\n",
       " 'for',\n",
       " 'others',\n",
       " 'too',\n",
       " '.',\n",
       " 'John',\n",
       " 'Locke',\n",
       " 'an',\n",
       " 'early',\n",
       " 'philosopher',\n",
       " 'said',\n",
       " 'that',\n",
       " 'consciousness',\n",
       " 'and',\n",
       " 'so',\n",
       " 'individuality',\n",
       " 'are',\n",
       " 'freelanced',\n",
       " 'of',\n",
       " 'all',\n",
       " 'substances',\n",
       " '.',\n",
       " 'He',\n",
       " 'also',\n",
       " 'detected',\n",
       " 'that',\n",
       " 'there',\n",
       " 'is',\n",
       " 'no',\n",
       " 'reason',\n",
       " 'to',\n",
       " 'believe',\n",
       " 'that',\n",
       " 'consciousness',\n",
       " 'is',\n",
       " 'stuck',\n",
       " 'to',\n",
       " 'any',\n",
       " 'specific',\n",
       " 'body',\n",
       " 'or',\n",
       " 'mind',\n",
       " 'or',\n",
       " 'that',\n",
       " 'consciousness',\n",
       " 'can',\n",
       " 'not',\n",
       " 'be',\n",
       " 'transferred',\n",
       " 'from',\n",
       " 'one',\n",
       " 'body',\n",
       " 'or',\n",
       " 'mind',\n",
       " 'to',\n",
       " 'a',\n",
       " 'different',\n",
       " 'one',\n",
       " '.',\n",
       " 'Karl',\n",
       " 'Marx',\n",
       " 'another',\n",
       " 'early',\n",
       " 'thinker',\n",
       " 'denies',\n",
       " 'the',\n",
       " 'mind',\n",
       " 'body',\n",
       " 'classification',\n",
       " 'and',\n",
       " 'holds',\n",
       " 'that',\n",
       " 'consciousness',\n",
       " 'is',\n",
       " 'jeopardized',\n",
       " 'by',\n",
       " 'the',\n",
       " 'material',\n",
       " 'eventualities',\n",
       " 'of',\n",
       " 'one',\n",
       " 's',\n",
       " 'settings',\n",
       " '.',\n",
       " 'William',\n",
       " 'James',\n",
       " 'an',\n",
       " 'American',\n",
       " 'psychologist',\n",
       " 'differentiated',\n",
       " 'consciousness',\n",
       " 'to',\n",
       " 'a',\n",
       " 'stream',\n",
       " '–',\n",
       " 'unbroken',\n",
       " 'and',\n",
       " 'continuous',\n",
       " 'despite',\n",
       " 'several',\n",
       " 'changes',\n",
       " 'and',\n",
       " 'shifts',\n",
       " '.',\n",
       " 'While',\n",
       " 'the',\n",
       " 'main',\n",
       " 'center',\n",
       " 'of',\n",
       " 'a',\n",
       " 'lot',\n",
       " 'of',\n",
       " 'the',\n",
       " 'analysis',\n",
       " 'moved',\n",
       " 'to',\n",
       " 'strictly',\n",
       " 'note',\n",
       " 'cable',\n",
       " 'behaviors',\n",
       " 'throughout',\n",
       " 'the',\n",
       " 'primary',\n",
       " 'half',\n",
       " 'of',\n",
       " 'the',\n",
       " 'twentieth',\n",
       " 'century',\n",
       " 'analysis',\n",
       " 'of',\n",
       " 'human',\n",
       " 'consciousness',\n",
       " 'has',\n",
       " 'grown',\n",
       " 'staggeringly',\n",
       " 'after',\n",
       " 'the',\n",
       " '1950s',\n",
       " '.',\n",
       " 'In',\n",
       " 'Sigmund',\n",
       " 'Freud',\n",
       " 's',\n",
       " 'psychoanalytic',\n",
       " 'theory',\n",
       " 'we',\n",
       " 'can',\n",
       " 'see',\n",
       " 'that',\n",
       " 'he',\n",
       " 'believed',\n",
       " 'that',\n",
       " 'all',\n",
       " 'three',\n",
       " 'levels',\n",
       " 'of',\n",
       " 'awareness',\n",
       " 'preconscious',\n",
       " 'conscious',\n",
       " 'and',\n",
       " 'unconscious',\n",
       " 'were',\n",
       " 'responsible',\n",
       " 'for',\n",
       " 'one',\n",
       " 's',\n",
       " 'behavior',\n",
       " 'and',\n",
       " 'thinking',\n",
       " '.',\n",
       " 'He',\n",
       " 'believed',\n",
       " 'that',\n",
       " 'the',\n",
       " 'mid',\n",
       " 'itself',\n",
       " 'was',\n",
       " 'divided',\n",
       " 'into',\n",
       " 'three',\n",
       " 'parts',\n",
       " 'the',\n",
       " 'id',\n",
       " 'the',\n",
       " 'ego',\n",
       " 'and',\n",
       " 'the',\n",
       " 'superego',\n",
       " '.',\n",
       " 'The',\n",
       " 'Id',\n",
       " 'is',\n",
       " 'present',\n",
       " 'at',\n",
       " 'birth',\n",
       " 'instinctual',\n",
       " 'and',\n",
       " 'operates',\n",
       " 'according',\n",
       " 'to',\n",
       " 'the',\n",
       " 'pleasure',\n",
       " 'principle',\n",
       " '.',\n",
       " 'The',\n",
       " 'ego',\n",
       " 'underseals',\n",
       " 'reality',\n",
       " 'and',\n",
       " 'logic',\n",
       " 'and',\n",
       " 'develops',\n",
       " 'out',\n",
       " 'of',\n",
       " 'the',\n",
       " 'id',\n",
       " 'in',\n",
       " 'infancy',\n",
       " '.',\n",
       " 'Finally',\n",
       " 'the',\n",
       " 'superego',\n",
       " 'is',\n",
       " 'an',\n",
       " 'internalization',\n",
       " 'of',\n",
       " 'society',\n",
       " 's',\n",
       " 'moral',\n",
       " 'standards',\n",
       " 'and',\n",
       " 'responsible',\n",
       " 'for',\n",
       " 'guilt',\n",
       " '.',\n",
       " 'Now',\n",
       " 'the',\n",
       " 'Id',\n",
       " 'is',\n",
       " 'regarded',\n",
       " 'as',\n",
       " 'unconscious',\n",
       " 'whereas',\n",
       " 'the',\n",
       " 'ego',\n",
       " 'and',\n",
       " 'superego',\n",
       " 'are',\n",
       " 'also',\n",
       " 'conscious',\n",
       " 'and',\n",
       " 'preconscious',\n",
       " '.',\n",
       " 'Freud',\n",
       " 'constantly',\n",
       " 'revised',\n",
       " 'his',\n",
       " 'own',\n",
       " 'clinical',\n",
       " 'qualities',\n",
       " 'researches',\n",
       " 'however',\n",
       " 'and',\n",
       " 'didn',\n",
       " 't',\n",
       " 'conduct',\n",
       " 'scientific',\n",
       " 'experiments',\n",
       " 'and',\n",
       " 'hence',\n",
       " 'his',\n",
       " 'work',\n",
       " 'is',\n",
       " 'heavily',\n",
       " 'scrutinized',\n",
       " 'leaving',\n",
       " 'the',\n",
       " 'questions',\n",
       " 'unanswered',\n",
       " '.',\n",
       " 'Sigmund',\n",
       " 'Freud',\n",
       " 's',\n",
       " 'theory',\n",
       " 'differed',\n",
       " 'from',\n",
       " 'the',\n",
       " 'other',\n",
       " 'psychologists',\n",
       " 'since',\n",
       " 'his',\n",
       " 'theories',\n",
       " 'were',\n",
       " 'more',\n",
       " 'understandable',\n",
       " 'and',\n",
       " 'very',\n",
       " 'easily',\n",
       " 'conveyed',\n",
       " 'to',\n",
       " 'the',\n",
       " 'people',\n",
       " '.',\n",
       " 'Sigmund',\n",
       " 'Freud',\n",
       " 's',\n",
       " 'work',\n",
       " 'and',\n",
       " 'hypotheses',\n",
       " 'helped',\n",
       " 'people',\n",
       " 'shape',\n",
       " 'their',\n",
       " 'perspectives',\n",
       " 'on',\n",
       " 'youth',\n",
       " 'character',\n",
       " 'memory',\n",
       " 'sexuality',\n",
       " 'and',\n",
       " 'therapy',\n",
       " '.',\n",
       " 'However',\n",
       " 'his',\n",
       " 'theories',\n",
       " 'were',\n",
       " 'subject',\n",
       " 'to',\n",
       " 'considerable',\n",
       " 'criticism',\n",
       " 'both',\n",
       " 'now',\n",
       " 'and',\n",
       " 'during',\n",
       " 'his',\n",
       " 'own',\n",
       " 'life',\n",
       " '.',\n",
       " 'Whilst',\n",
       " 'John',\n",
       " 'Locke',\n",
       " 'and',\n",
       " 'William',\n",
       " 'James',\n",
       " 'took',\n",
       " 'a',\n",
       " 'more',\n",
       " 'practical',\n",
       " 'approach',\n",
       " 'to',\n",
       " 'the',\n",
       " 'mystery',\n",
       " 'by',\n",
       " 'conducting',\n",
       " 'experiments',\n",
       " 'Sigmund',\n",
       " 'Freud',\n",
       " 'didn',\n",
       " 't',\n",
       " 'provide',\n",
       " 'any',\n",
       " 'evidence',\n",
       " 'to',\n",
       " 'support',\n",
       " 'his',\n",
       " 'claims',\n",
       " '.',\n",
       " 'Brain',\n",
       " 'Today',\n",
       " 'the',\n",
       " 'essential',\n",
       " 'focal',\n",
       " 'point',\n",
       " 'of',\n",
       " 'consciousness',\n",
       " 'research',\n",
       " 'is',\n",
       " 'on',\n",
       " 'understanding',\n",
       " 'what',\n",
       " 'consciousness',\n",
       " 'implies',\n",
       " 'both',\n",
       " 'biologically',\n",
       " 'and',\n",
       " 'mentally',\n",
       " '.',\n",
       " 'Issues',\n",
       " 'of',\n",
       " 'interest',\n",
       " 'include',\n",
       " 'phenomena',\n",
       " 'such',\n",
       " 'as',\n",
       " 'perception',\n",
       " 'blindsight',\n",
       " 'brainwaves',\n",
       " 'during',\n",
       " 'sleep',\n",
       " 'and',\n",
       " 'altered',\n",
       " 'states',\n",
       " 'of',\n",
       " 'consciousness',\n",
       " 'produced',\n",
       " 'by',\n",
       " 'psychoactive',\n",
       " 'drugs',\n",
       " '.',\n",
       " 'A',\n",
       " 'greater',\n",
       " 'part',\n",
       " 'of',\n",
       " 'the',\n",
       " 'test',\n",
       " 'assesses',\n",
       " 'consciousness',\n",
       " 'by',\n",
       " 'approaching',\n",
       " 'human',\n",
       " 'subjects',\n",
       " 'for',\n",
       " 'a',\n",
       " 'verbal',\n",
       " 'report',\n",
       " 'of',\n",
       " 'their',\n",
       " 'encounters',\n",
       " '.',\n",
       " 'However',\n",
       " 'to',\n",
       " 'confirm',\n",
       " 'the',\n",
       " 'criticalness',\n",
       " 'of',\n",
       " 'these',\n",
       " 'verbal',\n",
       " 'reports',\n",
       " 'researchers',\n",
       " 'must',\n",
       " 'contrast',\n",
       " 'them',\n",
       " 'with',\n",
       " 'the',\n",
       " 'action',\n",
       " 'that',\n",
       " 'all',\n",
       " 'the',\n",
       " 'while',\n",
       " 'happens',\n",
       " 'in',\n",
       " 'the',\n",
       " 'brain',\n",
       " '—that',\n",
       " 'is',\n",
       " 'they',\n",
       " 'should',\n",
       " 'search',\n",
       " 'for',\n",
       " 'the',\n",
       " 'neural',\n",
       " 'connections',\n",
       " 'of',\n",
       " 'consciousness',\n",
       " '.',\n",
       " 'Hope',\n",
       " 'is',\n",
       " 'to',\n",
       " 'locate',\n",
       " 'that',\n",
       " 'noticeable',\n",
       " 'action',\n",
       " 'in',\n",
       " 'a',\n",
       " 'specific',\n",
       " 'aspect',\n",
       " 'of',\n",
       " 'the',\n",
       " 'brain',\n",
       " 'or',\n",
       " 'a',\n",
       " 'particular',\n",
       " 'pattern',\n",
       " 'of',\n",
       " 'global',\n",
       " 'brain',\n",
       " 'activity',\n",
       " 'will',\n",
       " 'be',\n",
       " 'greatly',\n",
       " 'predictive',\n",
       " 'of',\n",
       " 'consciousness',\n",
       " 'mindfulness',\n",
       " '.',\n",
       " 'A',\n",
       " 'few',\n",
       " 'brain',\n",
       " 'imaging',\n",
       " 'strategies',\n",
       " 'for',\n",
       " 'example',\n",
       " 'EEG',\n",
       " 'and',\n",
       " 'MRI',\n",
       " 'scans',\n",
       " 'have',\n",
       " 'been',\n",
       " 'utilized',\n",
       " 'for',\n",
       " 'physical',\n",
       " 'proportions',\n",
       " 'of',\n",
       " 'brain',\n",
       " 'activities',\n",
       " 'in',\n",
       " 'these',\n",
       " 'examinations',\n",
       " '.',\n",
       " 'A',\n",
       " 'few',\n",
       " 'investigations',\n",
       " 'have',\n",
       " 'shown',\n",
       " 'that',\n",
       " 'movement',\n",
       " 'in',\n",
       " 'essential',\n",
       " 'primary',\n",
       " 'sensory',\n",
       " 'areas',\n",
       " 'of',\n",
       " 'the',\n",
       " 'brain',\n",
       " 'isn',\n",
       " 't',\n",
       " 'adequate',\n",
       " 'to',\n",
       " 'create',\n",
       " 'consciousness',\n",
       " ':',\n",
       " 'it',\n",
       " 'is',\n",
       " 'workable',\n",
       " 'for',\n",
       " 'subjects',\n",
       " 'to',\n",
       " 'report',\n",
       " 'an',\n",
       " 'absence',\n",
       " 'of',\n",
       " 'awareness',\n",
       " 'in',\n",
       " 'any',\n",
       " 'event',\n",
       " 'when',\n",
       " 'areas',\n",
       " 'for',\n",
       " 'example',\n",
       " 'the',\n",
       " 'primary',\n",
       " 'visual',\n",
       " 'cortex',\n",
       " 'show',\n",
       " 'clear',\n",
       " 'electrical',\n",
       " 'reactions',\n",
       " 'to',\n",
       " 'a',\n",
       " 'stimulus',\n",
       " '.',\n",
       " 'Higher',\n",
       " 'brain',\n",
       " 'areas',\n",
       " 'are',\n",
       " 'viewed',\n",
       " 'as',\n",
       " 'all',\n",
       " 'the',\n",
       " 'more',\n",
       " 'encouraging',\n",
       " 'particularly',\n",
       " 'the',\n",
       " 'prefrontal',\n",
       " 'cortex',\n",
       " 'which',\n",
       " 'is',\n",
       " 'involved',\n",
       " 'in',\n",
       " 'a',\n",
       " 'range',\n",
       " 'of',\n",
       " 'high',\n",
       " 'order',\n",
       " 'functions',\n",
       " '.',\n",
       " 'One',\n",
       " 'mainstream',\n",
       " 'theory',\n",
       " 'implicates',\n",
       " 'various',\n",
       " 'examples',\n",
       " 'of',\n",
       " 'brain',\n",
       " 'waves',\n",
       " 'in',\n",
       " 'creating',\n",
       " 'various',\n",
       " 'conditions',\n",
       " 'of',\n",
       " 'consciousness',\n",
       " '.',\n",
       " 'Analysts',\n",
       " 'can',\n",
       " 'record',\n",
       " 'mind',\n",
       " 'waves',\n",
       " 'or',\n",
       " 'drawings',\n",
       " 'of',\n",
       " 'electrical',\n",
       " 'movement',\n",
       " 'inside',\n",
       " 'the',\n",
       " 'cerebrum',\n",
       " 'using',\n",
       " 'an',\n",
       " 'electroencephalograph',\n",
       " 'EEG',\n",
       " 'and',\n",
       " 'placing',\n",
       " 'electrodes',\n",
       " 'on',\n",
       " 'the',\n",
       " 'scalp',\n",
       " '.',\n",
       " 'The',\n",
       " 'four',\n",
       " 'types',\n",
       " 'of',\n",
       " 'brain',\n",
       " 'waves',\n",
       " 'alpha',\n",
       " 'beta',\n",
       " 'theta',\n",
       " 'and',\n",
       " 'delta',\n",
       " 'each',\n",
       " 'correspond',\n",
       " 'with',\n",
       " 'one',\n",
       " 'mental',\n",
       " 'state',\n",
       " 'relaxed',\n",
       " 'alert',\n",
       " 'lightly',\n",
       " 'asleep',\n",
       " 'and',\n",
       " 'deeply',\n",
       " 'asleep',\n",
       " 'Memory',\n",
       " 'Episodic',\n",
       " 'memory',\n",
       " 'can',\n",
       " 'be',\n",
       " 'regarded',\n",
       " 'as',\n",
       " 'the',\n",
       " 'only',\n",
       " 'form',\n",
       " 'of',\n",
       " 'conscious',\n",
       " 'memory',\n",
       " '.',\n",
       " 'This',\n",
       " 'is',\n",
       " 'because',\n",
       " 'it',\n",
       " 'is',\n",
       " 'the',\n",
       " 'capacity',\n",
       " 'to',\n",
       " 'consciously',\n",
       " 'remember',\n",
       " 'personally',\n",
       " 'experienced',\n",
       " 'events',\n",
       " 'and',\n",
       " 'situations',\n",
       " 'in',\n",
       " 'the',\n",
       " 'past',\n",
       " '.',\n",
       " 'The',\n",
       " 'hippocampus',\n",
       " 'located',\n",
       " 'in',\n",
       " 'the',\n",
       " 'brain',\n",
       " 's',\n",
       " 'temporal',\n",
       " 'lobe',\n",
       " 'is',\n",
       " 'responsible',\n",
       " 'for',\n",
       " 'this',\n",
       " 'type',\n",
       " 'of',\n",
       " 'memory',\n",
       " '.',\n",
       " ...]"
      ]
     },
     "execution_count": 8,
     "metadata": {},
     "output_type": "execute_result"
    }
   ],
   "source": [
    "token = word_tokenize(texts)\n",
    "token"
   ]
  },
  {
   "cell_type": "code",
   "execution_count": 9,
   "id": "10016a09",
   "metadata": {},
   "outputs": [],
   "source": [
    "with open(\"D:\\lab\\Dataset\\Stopwords_Blackcoffer.txt\", 'r') as file:\n",
    "    data = file.read()"
   ]
  },
  {
   "cell_type": "code",
   "execution_count": 10,
   "id": "c567cbef",
   "metadata": {},
   "outputs": [
    {
     "data": {
      "text/plain": [
       "'ERNST\\nYOUNG\\nDELOITTE\\nTOUCHE\\nKPMG\\nPRICEWATERHOUSECOOPERS\\nPRICEWATERHOUSE\\nCOOPERS\\nAFGHANI\\nARIARY\\nBAHT\\n'"
      ]
     },
     "execution_count": 10,
     "metadata": {},
     "output_type": "execute_result"
    }
   ],
   "source": [
    "data[:100]"
   ]
  },
  {
   "cell_type": "code",
   "execution_count": 11,
   "id": "d65bfa92",
   "metadata": {},
   "outputs": [
    {
     "data": {
      "text/plain": [
       "'ERNST,YOUNG,DELOITTE,TOUCHE,KPMG,PRICEWATERHOUSECOOPERS,PRICEWATERHOUSE,COOPERS,AFGHANI,ARIARY,BAHT,'"
      ]
     },
     "execution_count": 11,
     "metadata": {},
     "output_type": "execute_result"
    }
   ],
   "source": [
    "data = data.replace('\\n', ',')\n",
    "data[:100]"
   ]
  },
  {
   "cell_type": "code",
   "execution_count": 12,
   "id": "0ef23874",
   "metadata": {},
   "outputs": [
    {
     "data": {
      "text/plain": [
       "'Introduction The definition consciousness controversial centuries title ‘ familiar mysterious aspects lives . An idea concept awareness beings surroundings perception . The mind remains unascertained '"
      ]
     },
     "execution_count": 12,
     "metadata": {},
     "output_type": "execute_result"
    }
   ],
   "source": [
    "new_texts = \" \".join([i for i in token if i not in data])\n",
    "new_texts[:200]"
   ]
  },
  {
   "cell_type": "code",
   "execution_count": 13,
   "id": "ea392da4",
   "metadata": {},
   "outputs": [
    {
     "name": "stdout",
     "output_type": "stream",
     "text": [
      "length before cleaning:  11099\n",
      "length after cleaning:  7384\n"
     ]
    }
   ],
   "source": [
    "print(\"length before cleaning: \", len(texts))\n",
    "print(\"length after cleaning: \", len(new_texts))"
   ]
  },
  {
   "cell_type": "markdown",
   "id": "1f456147",
   "metadata": {},
   "source": [
    "# Negative words"
   ]
  },
  {
   "cell_type": "code",
   "execution_count": 14,
   "id": "dc3618a7",
   "metadata": {},
   "outputs": [],
   "source": [
    "with open(\"D:\\\\lab\\\\Dataset\\\\Negative_words.txt\", 'r') as file:\n",
    "    negative = file.read()"
   ]
  },
  {
   "cell_type": "code",
   "execution_count": 15,
   "id": "2123c4cb",
   "metadata": {},
   "outputs": [
    {
     "data": {
      "text/plain": [
       "'2-faced\\n2-faces\\nabnormal\\nabolish\\nabominable\\nabominably\\nabominate\\nabomination\\nabort\\naborted\\naborts\\nabrade\\nabrasive\\nabrupt\\nabruptly\\nabscond\\nabsence\\nabsent-minded\\nabsentee\\nabsurd\\nabsurdity\\nabsurdly\\nabsurdness\\n'"
      ]
     },
     "execution_count": 15,
     "metadata": {},
     "output_type": "execute_result"
    }
   ],
   "source": [
    "negative[:206]"
   ]
  },
  {
   "cell_type": "code",
   "execution_count": 16,
   "id": "28f44c97",
   "metadata": {},
   "outputs": [
    {
     "data": {
      "text/plain": [
       "'2-faced,2-faces,abnormal,abolish,abominable,abominably,abominate,abomination,abort,aborted,aborts,abrade,abrasive,abrupt,abruptly,abscond,absence,absent-minded,absentee,absurd,absurdity,absurdly,absurdness,'"
      ]
     },
     "execution_count": 16,
     "metadata": {},
     "output_type": "execute_result"
    }
   ],
   "source": [
    "negative = negative.replace('\\n', ',')\n",
    "negative[:206]"
   ]
  },
  {
   "cell_type": "code",
   "execution_count": 17,
   "id": "31a272c0",
   "metadata": {},
   "outputs": [
    {
     "name": "stdout",
     "output_type": "stream",
     "text": [
      "['controversial', 'familiar', 'mysterious', 'concept', 'mind', 'brain', 'sense', 'incomplete', 'subject', 'subject', 'gap', 'understanding', 'brain', 'nature', 'understanding', 'mind', 'typically', 'brain', 'behavior', 'naturally', 'thought', 'brain', 'sorted', 'feeling', 'nature', 'essential', 'type', 'thought', 'worry', 'stuck', 'mind', 'mind', 'denies', 'mind', 'material', 'continuous', 'lot', 'moved', 'strictly', 'cable', 'half', 'human', 'responsible', 'behavior', 'mid', 'ego', 'present', 'pleasure', 'ego', 'logic', 'moral', 'responsible', 'guilt', 'ego', 'qualities', 'work', 'easily', 'work', 'subject', 'criticism', 'life', 'practical', 'mystery', 'support', 'essential', 'point', 'understanding', 'interest', 'altered', 'states', 'test', 'human', 'verbal', 'confirm', 'verbal', 'action', 'brain', 'locate', 'action', 'brain', 'brain', 'brain', 'brain', 'essential', 'brain', 'adequate', 'workable', 'absence', 'event', 'show', 'brain', 'range', 'high', 'order', 'brain', 'mind', 'brain', 'mental', 'state', 'experienced', 'located', 'brain', 'responsible', 'type', 'important', 'meaning', 'testing', 'lacking', 'essential', 'problems', 'difficulties', 'test', 'set', 'restricted', 'testable', 'fundamental', 'difficult', 'test', 'illness', 'settle', 'difficulty', 'problems', 'failure', 'mind', 'object', 'syndrome', 'state', 'state', 'chronic', 'brain', 'death', 'syndrome', 'patient', 'move', 'complete', 'loss', 'motion', 'voluntary', 'eye', 'speak', 'eye', 'state', 'patient', 'intermittent', 'restricted', 'comprehensible', 'state', 'patient', 'lacks', 'behavior', 'term', 'grow', 'develop', 'devoid', 'social', 'chronic', 'white', 'harm', 'injury', 'range', 'patient', 'lies', 'eyes', 'death', 'irreversible', 'brain', 'involuntary', 'sustain', 'life', 'total', 'loss', 'brain', 'brain', 'death', 'patient', 'lacks', 'sense', 'behavior', 'typically', 'dead', 'state', 'nature', 'defined', 'line', 'fundamental', 'laws', 'battle', 'impossible', 'observe', 'brain', 'brain', 'event', 'reaction', 'lack', 'access', 'ties', 'mental', 'illness', 'mental', 'illness', 'issues', 'continue', 'unknown', 'mind', 'fund', 'recover', 'difficult']\n"
     ]
    },
    {
     "data": {
      "text/plain": [
       "207"
      ]
     },
     "execution_count": 17,
     "metadata": {},
     "output_type": "execute_result"
    }
   ],
   "source": [
    "new_texts = word_tokenize(new_texts)\n",
    "negative_words = [i for i in new_texts if i in negative]\n",
    "print(negative_words)\n",
    "len(negative_words)"
   ]
  },
  {
   "cell_type": "markdown",
   "id": "0b24f011",
   "metadata": {},
   "source": [
    "# Positive words"
   ]
  },
  {
   "cell_type": "code",
   "execution_count": 18,
   "id": "4b003620",
   "metadata": {},
   "outputs": [
    {
     "data": {
      "text/plain": [
       "'a+\\nabound\\nabounds\\nabundance\\nabundant\\naccessable\\naccessible\\nacclaim\\nacclaimed\\nacclamation\\naccolade\\naccolades\\naccommodative\\naccomodative\\naccomplish\\naccomplished\\naccomplishment\\naccomplishments\\naccurate\\naccurately\\n'"
      ]
     },
     "execution_count": 18,
     "metadata": {},
     "output_type": "execute_result"
    }
   ],
   "source": [
    "with open(\"D:\\\\lab\\\\Dataset\\\\Positive_words.txt\", 'r') as file:\n",
    "    positive = file.read()\n",
    "positive[:210]    "
   ]
  },
  {
   "cell_type": "code",
   "execution_count": 19,
   "id": "66ed38c6",
   "metadata": {},
   "outputs": [
    {
     "data": {
      "text/plain": [
       "'a+,abound,abounds,abundance,abundant,accessable,accessible,acclaim,acclaimed,acclamation,accolade,accolades,accommodative,accomodative,accomplish,accomplished,accomplishment,accomplishments,accurate,accurately,'"
      ]
     },
     "execution_count": 19,
     "metadata": {},
     "output_type": "execute_result"
    }
   ],
   "source": [
    "positive = positive.replace('\\n',',')\n",
    "positive[:210]"
   ]
  },
  {
   "cell_type": "code",
   "execution_count": 20,
   "id": "fc1387e8",
   "metadata": {},
   "outputs": [
    {
     "name": "stdout",
     "output_type": "stream",
     "text": [
      "['idea', 'mind', 'brain', 'world', 'made', 'tremendous', 'progress', 'brain', 'mind', 'brain', 'thought', 'brain', 'purpose', 'trusted', 'evolution', 'thought', 'mind', 'mind', 'mind', 'stream', 'note', 'cable', 'human', 'mid', 'pleasure', 'principle', 'logic', 'moral', 'guilt', 'regarded', 'work', 'understandable', 'work', 'helped', 'youth', 'life', 'support', 'mentally', 'interest', 'phenomena', 'test', 'human', 'contrast', 'action', 'brain', 'action', 'brain', 'brain', 'brain', 'brain', 'brain', 'adequate', 'workable', 'event', 'brain', 'encouraging', 'high', 'order', 'brain', 'record', 'mind', 'brain', 'mental', 'state', 'relaxed', 'regarded', 'capacity', 'brain', 'important', 'distinction', 'meaning', 'connected', 'working', 'great', 'test', 'set', 'restricted', 'test', 'connected', 'mind', 'state', 'state', 'brain', 'condition', 'patient', 'impart', 'loss', 'eye', 'individual', 'eye', 'state', 'patient', 'restricted', 'straightforward', 'purposeful', 'state', 'patient', 'purposeful', 'term', 'refers', 'grow', 'harm', 'patient', 'brain', 'sustain', 'life', 'loss', 'brain', 'brain', 'patient', 'dead', 'state', 'line', 'taking', 'brain', 'brain', 'event', 'future', 'access', 'mental', 'mental', 'mind', 'fund', 'recover']\n"
     ]
    },
    {
     "data": {
      "text/plain": [
       "124"
      ]
     },
     "execution_count": 20,
     "metadata": {},
     "output_type": "execute_result"
    }
   ],
   "source": [
    "positive_words = [i for i in new_texts if i in positive]\n",
    "print(positive_words)\n",
    "len(positive_words)"
   ]
  },
  {
   "cell_type": "markdown",
   "id": "1b59646d",
   "metadata": {},
   "source": [
    "#### positive Score\n"
   ]
  },
  {
   "cell_type": "code",
   "execution_count": 21,
   "id": "7d0fbab1",
   "metadata": {},
   "outputs": [
    {
     "name": "stdout",
     "output_type": "stream",
     "text": [
      "124\n"
     ]
    }
   ],
   "source": [
    "pos_score = len(positive_words)\n",
    "print(pos_score)"
   ]
  },
  {
   "cell_type": "markdown",
   "id": "54a6cc12",
   "metadata": {},
   "source": [
    "#### Negative Score"
   ]
  },
  {
   "cell_type": "code",
   "execution_count": 22,
   "id": "df0766cd",
   "metadata": {},
   "outputs": [
    {
     "name": "stdout",
     "output_type": "stream",
     "text": [
      "207\n"
     ]
    }
   ],
   "source": [
    "neg_score=len(negative_words)\n",
    "print(neg_score)"
   ]
  },
  {
   "cell_type": "markdown",
   "id": "84da7ab7",
   "metadata": {},
   "source": [
    "#### Polarity Score"
   ]
  },
  {
   "cell_type": "code",
   "execution_count": 23,
   "id": "21e88c2b",
   "metadata": {},
   "outputs": [
    {
     "data": {
      "text/plain": [
       "-0.25"
      ]
     },
     "execution_count": 23,
     "metadata": {},
     "output_type": "execute_result"
    }
   ],
   "source": [
    "Polarity_Score = (pos_score - neg_score)/((pos_score + neg_score) + 0.000001)\n",
    "round(Polarity_Score,2)"
   ]
  },
  {
   "cell_type": "code",
   "execution_count": 24,
   "id": "08bcb4ab",
   "metadata": {},
   "outputs": [
    {
     "name": "stdout",
     "output_type": "stream",
     "text": [
      "number of words after cleaning : 935\n"
     ]
    }
   ],
   "source": [
    "word_count = len(new_texts)\n",
    "print(\"number of words after cleaning :\",word_count)"
   ]
  },
  {
   "cell_type": "markdown",
   "id": "16495ba1",
   "metadata": {},
   "source": [
    "#### Subjectivity Score"
   ]
  },
  {
   "cell_type": "code",
   "execution_count": 25,
   "id": "841713a3",
   "metadata": {},
   "outputs": [
    {
     "data": {
      "text/plain": [
       "0.35"
      ]
     },
     "execution_count": 25,
     "metadata": {},
     "output_type": "execute_result"
    }
   ],
   "source": [
    "Subjectivity_Score = (pos_score + neg_score)/ ((word_count) + 0.000001)\n",
    "round(Subjectivity_Score,2)"
   ]
  },
  {
   "cell_type": "markdown",
   "id": "0d7c370e",
   "metadata": {},
   "source": [
    "# Analysis of Readability"
   ]
  },
  {
   "cell_type": "code",
   "execution_count": 26,
   "id": "10209a7a",
   "metadata": {},
   "outputs": [
    {
     "data": {
      "text/plain": [
       "1819"
      ]
     },
     "execution_count": 26,
     "metadata": {},
     "output_type": "execute_result"
    }
   ],
   "source": [
    "import nltk\n",
    "from nltk.tokenize import word_tokenize\n",
    "word_tokens = nltk.word_tokenize(texts)\n",
    "No_of_words = len(word_tokens)\n",
    "No_of_words"
   ]
  },
  {
   "cell_type": "code",
   "execution_count": 27,
   "id": "bfac2ab7",
   "metadata": {},
   "outputs": [
    {
     "data": {
      "text/plain": [
       "73"
      ]
     },
     "execution_count": 27,
     "metadata": {},
     "output_type": "execute_result"
    }
   ],
   "source": [
    "sent_tokens = nltk.sent_tokenize(texts)\n",
    "No_of_sents = len(sent_tokens)\n",
    "No_of_sents "
   ]
  },
  {
   "cell_type": "markdown",
   "id": "1576acfe",
   "metadata": {},
   "source": [
    "### Average sentence Length\n"
   ]
  },
  {
   "cell_type": "code",
   "execution_count": 28,
   "id": "11d6a7ec",
   "metadata": {},
   "outputs": [
    {
     "data": {
      "text/plain": [
       "24.92"
      ]
     },
     "execution_count": 28,
     "metadata": {},
     "output_type": "execute_result"
    }
   ],
   "source": [
    "Avg_Sents_Length = No_of_words / No_of_sents\n",
    "round(Avg_Sents_Length,2)"
   ]
  },
  {
   "cell_type": "markdown",
   "id": "bc20ee3d",
   "metadata": {},
   "source": [
    "### Percentage of Complex words\n",
    "Complex words: words with more than 2 syllable are called complex words"
   ]
  },
  {
   "cell_type": "code",
   "execution_count": 29,
   "id": "eba6a8b1",
   "metadata": {},
   "outputs": [
    {
     "name": "stdout",
     "output_type": "stream",
     "text": [
      "Number of complex words: 354\n",
      "Total number of words: 11099\n"
     ]
    }
   ],
   "source": [
    "from nltk.corpus import cmudict\n",
    "cmud = cmudict.dict()\n",
    "\n",
    "# Defining a function to count syllables in a word\n",
    "def count_syllables(word):\n",
    "    phonemes = cmud[word.lower()][0] \n",
    "    return len([s for s in phonemes if s[-1].isdigit()])\n",
    "\n",
    "# Identifing complex words\n",
    "w_tokens = [i for i in word_tokens if i in cmud]\n",
    "complex_words = [word for word in w_tokens if count_syllables(word) > 2]\n",
    "\n",
    "# Calculatingnumber of complex words\n",
    "num_complex_words = len(complex_words)\n",
    "\n",
    "print(\"Number of complex words:\", num_complex_words)\n",
    "print(\"Total number of words:\", len(texts))"
   ]
  },
  {
   "cell_type": "code",
   "execution_count": 30,
   "id": "e982c0a1",
   "metadata": {},
   "outputs": [
    {
     "data": {
      "text/plain": [
       "31.35"
      ]
     },
     "execution_count": 30,
     "metadata": {},
     "output_type": "execute_result"
    }
   ],
   "source": [
    "Perc_of_Complex_words = len(texts) / num_complex_words\n",
    "round(Perc_of_Complex_words,2)"
   ]
  },
  {
   "cell_type": "markdown",
   "id": "77e948d1",
   "metadata": {},
   "source": [
    "### Fog Index"
   ]
  },
  {
   "cell_type": "code",
   "execution_count": 31,
   "id": "95fb10bb",
   "metadata": {},
   "outputs": [
    {
     "name": "stdout",
     "output_type": "stream",
     "text": [
      "Average sentence length: 73.0\n"
     ]
    }
   ],
   "source": [
    "# Tokenize each sentence into words\n",
    "words = [word_tokens for sentence in sent_tokens]\n",
    "\n",
    "# Calculate the average sentence length\n",
    "avg_sent_len = sum(No_of_sents for sentence in words) / No_of_sents\n",
    "\n",
    "print(\"Average sentence length:\", avg_sent_len)\n"
   ]
  },
  {
   "cell_type": "code",
   "execution_count": 32,
   "id": "38f5a93b",
   "metadata": {},
   "outputs": [
    {
     "data": {
      "text/plain": [
       "41.74"
      ]
     },
     "execution_count": 32,
     "metadata": {},
     "output_type": "execute_result"
    }
   ],
   "source": [
    "Fog_index = 0.4 * (avg_sent_len + Perc_of_Complex_words)\n",
    "round(Fog_index,2)"
   ]
  },
  {
   "cell_type": "markdown",
   "id": "5b4aacea",
   "metadata": {},
   "source": [
    "# Average Number of Words Per Sentence"
   ]
  },
  {
   "cell_type": "code",
   "execution_count": 33,
   "id": "45da1407",
   "metadata": {},
   "outputs": [
    {
     "data": {
      "text/plain": [
       "24.92"
      ]
     },
     "execution_count": 33,
     "metadata": {},
     "output_type": "execute_result"
    }
   ],
   "source": [
    "avg_no_of_words_per_sent = No_of_words / No_of_sents\n",
    "round(avg_no_of_words_per_sent,2)"
   ]
  },
  {
   "cell_type": "markdown",
   "id": "f2d9b493",
   "metadata": {},
   "source": [
    "# Complex Word Count"
   ]
  },
  {
   "cell_type": "code",
   "execution_count": 34,
   "id": "75304424",
   "metadata": {},
   "outputs": [
    {
     "name": "stdout",
     "output_type": "stream",
     "text": [
      "complex word count: 354\n"
     ]
    }
   ],
   "source": [
    "from nltk.corpus import cmudict\n",
    "cmud = cmudict.dict()\n",
    "\n",
    "# Defining a function to count syllables in a word\n",
    "def count_syllables(word):\n",
    "    phonemes = cmud[word.lower()][0] \n",
    "    return len([s for s in phonemes if s[-1].isdigit()])\n",
    "\n",
    "# Identifing complex words\n",
    "w_tokens = [i for i in word_tokens if i in cmud]\n",
    "complex_words = [word for word in w_tokens if count_syllables(word) > 2]\n",
    "\n",
    "# Calculatingnumber of complex words\n",
    "num_complex_words = len(complex_words)\n",
    "\n",
    "print(\"complex word count:\", num_complex_words)"
   ]
  },
  {
   "cell_type": "markdown",
   "id": "99ea5188",
   "metadata": {},
   "source": [
    "# Word Count\n",
    "number of words after cleaning"
   ]
  },
  {
   "cell_type": "code",
   "execution_count": 35,
   "id": "b4fb0c72",
   "metadata": {},
   "outputs": [
    {
     "data": {
      "text/plain": [
       "935"
      ]
     },
     "execution_count": 35,
     "metadata": {},
     "output_type": "execute_result"
    }
   ],
   "source": [
    "len(new_texts)"
   ]
  },
  {
   "cell_type": "markdown",
   "id": "ca8076ff",
   "metadata": {},
   "source": [
    "# Syllable Count Per Word"
   ]
  },
  {
   "cell_type": "code",
   "execution_count": 36,
   "id": "6f0b4e4f",
   "metadata": {},
   "outputs": [
    {
     "name": "stdout",
     "output_type": "stream",
     "text": [
      "Enter a word to get syllable: result\n",
      "Number of syllable in a word : 2\n"
     ]
    }
   ],
   "source": [
    "word = input(\"Enter a word to get syllable: \")\n",
    "def count_syllables(word):\n",
    "    phonemes = cmud[word.lower()][0] \n",
    "    return len([s for s in phonemes if s[-1].isdigit()])\n",
    "\n",
    "print(\"Number of syllable in a word :\",count_syllables(word))"
   ]
  },
  {
   "cell_type": "markdown",
   "id": "1d3a18f6",
   "metadata": {},
   "source": [
    "# Personal Pronouns"
   ]
  },
  {
   "cell_type": "code",
   "execution_count": 37,
   "id": "0b8e0d2d",
   "metadata": {},
   "outputs": [
    {
     "name": "stdout",
     "output_type": "stream",
     "text": [
      "Personal pronoun frequency: {'it': 10, 'we': 10, 'he': 3, 'them': 2, 'they': 3, 'you': 2, 'us': 5}\n",
      "total number of pronouns in a article : 35\n"
     ]
    }
   ],
   "source": [
    "import re\n",
    "\n",
    "# Define a regex pattern to match personal pronouns\n",
    "pattern = r'\\b(I|you|he|she|it|we|they|me|him|her|us|them)\\b'\n",
    "\n",
    "# Count the frequency of personal pronouns\n",
    "pronoun_freq = {}\n",
    "for pronoun in re.findall(pattern, texts, re.IGNORECASE):\n",
    "    pronoun = pronoun.lower()\n",
    "    if pronoun in pronoun_freq:\n",
    "        pronoun_freq[pronoun] += 1\n",
    "    else:\n",
    "        pronoun_freq[pronoun] = 1\n",
    "\n",
    "print(\"Personal pronoun frequency:\", pronoun_freq)\n",
    "def returnSum(dict):\n",
    " \n",
    "    sum = 0\n",
    "    for i in pronoun_freq.values():\n",
    "        sum = sum + i\n",
    " \n",
    "    return sum\n",
    "print(\"total number of pronouns in a article :\",returnSum(pronoun_freq))"
   ]
  },
  {
   "cell_type": "markdown",
   "id": "e3fc87f8",
   "metadata": {},
   "source": [
    "# Average Word Length"
   ]
  },
  {
   "cell_type": "code",
   "execution_count": 38,
   "id": "5bde37d9",
   "metadata": {},
   "outputs": [
    {
     "name": "stdout",
     "output_type": "stream",
     "text": [
      "Average word length: 5.07\n"
     ]
    }
   ],
   "source": [
    "# Calculate the total number of characters in all words\n",
    "total_chars = sum(len(word) for word in word_tokens)\n",
    "\n",
    "avg_word_length = total_chars / No_of_words\n",
    "\n",
    "print(\"Average word length:\", round(avg_word_length,2))\n"
   ]
  },
  {
   "cell_type": "code",
   "execution_count": null,
   "id": "63dc25ad",
   "metadata": {},
   "outputs": [],
   "source": []
  },
  {
   "cell_type": "code",
   "execution_count": null,
   "id": "819012c5",
   "metadata": {},
   "outputs": [],
   "source": []
  }
 ],
 "metadata": {
  "kernelspec": {
   "display_name": "Python 3",
   "language": "python",
   "name": "python3"
  },
  "language_info": {
   "codemirror_mode": {
    "name": "ipython",
    "version": 3
   },
   "file_extension": ".py",
   "mimetype": "text/x-python",
   "name": "python",
   "nbconvert_exporter": "python",
   "pygments_lexer": "ipython3",
   "version": "3.8.8"
  }
 },
 "nbformat": 4,
 "nbformat_minor": 5
}
