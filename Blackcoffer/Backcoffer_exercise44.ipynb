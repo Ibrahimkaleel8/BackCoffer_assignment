{
 "cells": [
  {
   "cell_type": "markdown",
   "id": "b9312f26",
   "metadata": {},
   "source": [
    "# Data scraping"
   ]
  },
  {
   "cell_type": "code",
   "execution_count": 1,
   "id": "ef4785ca",
   "metadata": {},
   "outputs": [],
   "source": [
    "import nltk\n",
    "import requests\n",
    "from bs4 import BeautifulSoup"
   ]
  },
  {
   "cell_type": "code",
   "execution_count": 2,
   "id": "ac2f2459",
   "metadata": {},
   "outputs": [],
   "source": [
    "req = requests.get(\"https://insights.blackcoffer.com/is-perfection-the-greatest-enemy-of-productivity/\")"
   ]
  },
  {
   "cell_type": "code",
   "execution_count": 3,
   "id": "45f9fa09",
   "metadata": {},
   "outputs": [],
   "source": [
    "soup = BeautifulSoup(req.content, \"html.parser\")\n",
    "res = soup.title\n",
    "paras = soup.find_all('p')"
   ]
  },
  {
   "cell_type": "code",
   "execution_count": 4,
   "id": "dbb256b2",
   "metadata": {
    "scrolled": true
   },
   "outputs": [
    {
     "name": "stdout",
     "output_type": "stream",
     "text": [
      "What’s perfection really? Does every person expect perfection from oneself or someone else? Or is it in certain amounts? Many times the certain question comes to the mind when we think about what we deem perfect. But how do we verify it? Let us understand this through the work of three individuals who know are to be put on a task in carpentry on a budget. All are given Rs. 5000 (Assumed) to complete this task. They can’t go beyond this budget. Manish, Vinay, and Sameer need to make a stool for themselves each. Manish has no understanding of carpentry; he learns from YouTube. Vinay took his carpentry lessons during engineering, so he has a practical idea of how to make a stool. But Sameer is a Carpenter, so he has a total understanding of the material, process, and final product. Let us start with Manish. Understand that the task is to get their jobs done. Manish has two options here. He can either order parts and assemble it himself or order the material required such as wood, glue, nails, etc and then work on it before the assembly of the final product. The only difference is his lack of expertise in this field. Vinay has the same options but has practical experience from his carpentry classes during the workshop in Engineering. Sameer has an advantage since he has both skill and experience perfected over a course of time. All three are given three days for the task. Since Manish finds it easy to assemble the stool using parts procured from another carpenter; he talks to a carpenter he knows and orders 3 leg parts, 6 horizontal support bars, and one circular base which will sit on the top. Vinay thinks he will be able to shape the parts because of his experience as a student and orders several cylindrical wooden leg parts, cuboidal bars, and a thick sheet. Sameer has all the required material in his shop and he begins to work on the stool on the first day. Manish and Vinay wait for a day for the parts to come. They begin to work on the second day. Manish uses the tricks learned from YouTube videos; uses a hammer to place the nails purchased from a nearby shop in the pre-made hole, applies glue in certain areas as directed in the video, and places weight on the assembled stool. He waits for the glue to cure. Vinay uses borrowed drill bits, drill machines, cutters, sandpapers purchased from a shop, etc, and starts working on the wooden parts as soon as the parts arrive in the morning. He is able to recall his carpentry instructions and attempts to shape the parts based on drawing of his product he made last night. Sameer meanwhile has completed his assembly and has put the assembly to rest for the glue to cure. On the third day, each of them has the stool ready. They evaluate their own work and notice certain facts. Manish notices that he did complete the task but, his stool was wobbly and not glued well. It could fall the moment he sits on it. Also, he forgets to polish the wooden parts and give it a professional finish since he forgot to watch that bit of video over YouTube. Vinay completes the task his stool is sturdy and cured well overnight. But there are minor issues with it. One of the three legs is cut short by a few mm and the stool, a tad unstable. Sameer on the other hand completes the task with a good product. The stool is well-balanced, and polished, as he expected from him. Sameer is satisfied with his work and finds it to stool Perfect. Manish thinks he did his best considering he had no experience of the task to be done. He is satisfied with his work. But Vinay is unhappy, he could have done better and made the product better. He doesn’t find his efforts well put and thinks he wasn’t productive enough and hence his stool is nowhere perfect. Understand that all of them had a set of skills and experience, but only Sameer had the right skills and experience to produce a perfect product. Manish and Sameer were satisfied and happy with their work. Manish made a wobbly stool which could break the moment someone sat on it but happy he gave the task a go. He thinks put the efforts and he did a good job. It was only Vinay who could not overcome the fact that his work was not perfect. In Vinay’s case, it can be observed that he could not deliver what he learned from carpentry classes. The reason is simple, he put effort but didn’t have the experience. Experience mattered. Since Vinay thinks otherwise, he believes he has the perfect skills to complete the task but he could not deliver the results. He is not satisfied with his results and wishes to spend another day working on the stool on his own to get to his idea of the perfect result. In this case, the idea of perfection itself is misplaced. You see, the end product made by Vinay and Manish would not match Sameer’s but the task could have been completed had they understood where their shortcomings lied. For both, it was their skill. Sameer had the perfect skill to get the expected result which resulted in better productivity, others didn’t. And in this story, every individual put effort regardless of the result. But some were satisfied and some dissatisfied. Their satisfaction made their creations perfect in their eyes and dissatisfaction made one believe he wasn’t productive enough. “Perfection is subjective and productivity is utility extracted given a certain amount of effort”. You can try to be as productive to achieve something but ultimately, it’s the satisfaction you get that defines the boundary of perfection. If you aren’t satisfied, you won’t find anything perfect. You would just waste both your time and effort over something that doesn’t suit you in the first place, as explained in the story before. “It isn’t productivity that will be the greatest enemy but your satisfaction”. Satisfaction will determine how you perceive perfection and defines where your threshold for perfection lies. The real enemy is dissatisfaction. You get demotivated and restless. You lose sight and discontinue only because you are unable to pass your own expectation. So, it’s the only obstacle that comes in between productivity, from time to time. Productivity is far from being your enemy. The greatest enemy will be your expectations which lead to dissatisfaction. It will play a major role in crafting your idea of Perfection in every day.\n"
     ]
    }
   ],
   "source": [
    "texts = \" \".join([paragraph.text.strip() for paragraph in paras])\n",
    "print(texts)"
   ]
  },
  {
   "cell_type": "code",
   "execution_count": 5,
   "id": "e79f5f60",
   "metadata": {},
   "outputs": [
    {
     "data": {
      "text/plain": [
       "6297"
      ]
     },
     "execution_count": 5,
     "metadata": {},
     "output_type": "execute_result"
    }
   ],
   "source": [
    "len(texts)"
   ]
  },
  {
   "cell_type": "markdown",
   "id": "db8f1fcc",
   "metadata": {},
   "source": [
    "Removing Punctuation"
   ]
  },
  {
   "cell_type": "code",
   "execution_count": 6,
   "id": "5285c8a8",
   "metadata": {},
   "outputs": [
    {
     "data": {
      "text/plain": [
       "6297"
      ]
     },
     "execution_count": 6,
     "metadata": {},
     "output_type": "execute_result"
    }
   ],
   "source": [
    "import re\n",
    "import string\n",
    "texts = re.sub(r'[\\'\\“\\”\\()\\%\\,\\-\\'\\’\\?\\ ]', ' ', texts)\n",
    "texts[0:200]\n",
    "len(texts)"
   ]
  },
  {
   "cell_type": "markdown",
   "id": "4fafe7be",
   "metadata": {},
   "source": [
    "# Removing Stopwords"
   ]
  },
  {
   "cell_type": "code",
   "execution_count": 7,
   "id": "089b8663",
   "metadata": {},
   "outputs": [],
   "source": [
    "from nltk.tokenize import word_tokenize"
   ]
  },
  {
   "cell_type": "code",
   "execution_count": 8,
   "id": "280876b0",
   "metadata": {},
   "outputs": [
    {
     "data": {
      "text/plain": [
       "['What',\n",
       " 's',\n",
       " 'perfection',\n",
       " 'really',\n",
       " 'Does',\n",
       " 'every',\n",
       " 'person',\n",
       " 'expect',\n",
       " 'perfection',\n",
       " 'from',\n",
       " 'oneself',\n",
       " 'or',\n",
       " 'someone',\n",
       " 'else',\n",
       " 'Or',\n",
       " 'is',\n",
       " 'it',\n",
       " 'in',\n",
       " 'certain',\n",
       " 'amounts',\n",
       " 'Many',\n",
       " 'times',\n",
       " 'the',\n",
       " 'certain',\n",
       " 'question',\n",
       " 'comes',\n",
       " 'to',\n",
       " 'the',\n",
       " 'mind',\n",
       " 'when',\n",
       " 'we',\n",
       " 'think',\n",
       " 'about',\n",
       " 'what',\n",
       " 'we',\n",
       " 'deem',\n",
       " 'perfect',\n",
       " '.',\n",
       " 'But',\n",
       " 'how',\n",
       " 'do',\n",
       " 'we',\n",
       " 'verify',\n",
       " 'it',\n",
       " 'Let',\n",
       " 'us',\n",
       " 'understand',\n",
       " 'this',\n",
       " 'through',\n",
       " 'the',\n",
       " 'work',\n",
       " 'of',\n",
       " 'three',\n",
       " 'individuals',\n",
       " 'who',\n",
       " 'know',\n",
       " 'are',\n",
       " 'to',\n",
       " 'be',\n",
       " 'put',\n",
       " 'on',\n",
       " 'a',\n",
       " 'task',\n",
       " 'in',\n",
       " 'carpentry',\n",
       " 'on',\n",
       " 'a',\n",
       " 'budget',\n",
       " '.',\n",
       " 'All',\n",
       " 'are',\n",
       " 'given',\n",
       " 'Rs',\n",
       " '.',\n",
       " '5000',\n",
       " 'Assumed',\n",
       " 'to',\n",
       " 'complete',\n",
       " 'this',\n",
       " 'task',\n",
       " '.',\n",
       " 'They',\n",
       " 'can',\n",
       " 't',\n",
       " 'go',\n",
       " 'beyond',\n",
       " 'this',\n",
       " 'budget',\n",
       " '.',\n",
       " 'Manish',\n",
       " 'Vinay',\n",
       " 'and',\n",
       " 'Sameer',\n",
       " 'need',\n",
       " 'to',\n",
       " 'make',\n",
       " 'a',\n",
       " 'stool',\n",
       " 'for',\n",
       " 'themselves',\n",
       " 'each',\n",
       " '.',\n",
       " 'Manish',\n",
       " 'has',\n",
       " 'no',\n",
       " 'understanding',\n",
       " 'of',\n",
       " 'carpentry',\n",
       " ';',\n",
       " 'he',\n",
       " 'learns',\n",
       " 'from',\n",
       " 'YouTube',\n",
       " '.',\n",
       " 'Vinay',\n",
       " 'took',\n",
       " 'his',\n",
       " 'carpentry',\n",
       " 'lessons',\n",
       " 'during',\n",
       " 'engineering',\n",
       " 'so',\n",
       " 'he',\n",
       " 'has',\n",
       " 'a',\n",
       " 'practical',\n",
       " 'idea',\n",
       " 'of',\n",
       " 'how',\n",
       " 'to',\n",
       " 'make',\n",
       " 'a',\n",
       " 'stool',\n",
       " '.',\n",
       " 'But',\n",
       " 'Sameer',\n",
       " 'is',\n",
       " 'a',\n",
       " 'Carpenter',\n",
       " 'so',\n",
       " 'he',\n",
       " 'has',\n",
       " 'a',\n",
       " 'total',\n",
       " 'understanding',\n",
       " 'of',\n",
       " 'the',\n",
       " 'material',\n",
       " 'process',\n",
       " 'and',\n",
       " 'final',\n",
       " 'product',\n",
       " '.',\n",
       " 'Let',\n",
       " 'us',\n",
       " 'start',\n",
       " 'with',\n",
       " 'Manish',\n",
       " '.',\n",
       " 'Understand',\n",
       " 'that',\n",
       " 'the',\n",
       " 'task',\n",
       " 'is',\n",
       " 'to',\n",
       " 'get',\n",
       " 'their',\n",
       " 'jobs',\n",
       " 'done',\n",
       " '.',\n",
       " 'Manish',\n",
       " 'has',\n",
       " 'two',\n",
       " 'options',\n",
       " 'here',\n",
       " '.',\n",
       " 'He',\n",
       " 'can',\n",
       " 'either',\n",
       " 'order',\n",
       " 'parts',\n",
       " 'and',\n",
       " 'assemble',\n",
       " 'it',\n",
       " 'himself',\n",
       " 'or',\n",
       " 'order',\n",
       " 'the',\n",
       " 'material',\n",
       " 'required',\n",
       " 'such',\n",
       " 'as',\n",
       " 'wood',\n",
       " 'glue',\n",
       " 'nails',\n",
       " 'etc',\n",
       " 'and',\n",
       " 'then',\n",
       " 'work',\n",
       " 'on',\n",
       " 'it',\n",
       " 'before',\n",
       " 'the',\n",
       " 'assembly',\n",
       " 'of',\n",
       " 'the',\n",
       " 'final',\n",
       " 'product',\n",
       " '.',\n",
       " 'The',\n",
       " 'only',\n",
       " 'difference',\n",
       " 'is',\n",
       " 'his',\n",
       " 'lack',\n",
       " 'of',\n",
       " 'expertise',\n",
       " 'in',\n",
       " 'this',\n",
       " 'field',\n",
       " '.',\n",
       " 'Vinay',\n",
       " 'has',\n",
       " 'the',\n",
       " 'same',\n",
       " 'options',\n",
       " 'but',\n",
       " 'has',\n",
       " 'practical',\n",
       " 'experience',\n",
       " 'from',\n",
       " 'his',\n",
       " 'carpentry',\n",
       " 'classes',\n",
       " 'during',\n",
       " 'the',\n",
       " 'workshop',\n",
       " 'in',\n",
       " 'Engineering',\n",
       " '.',\n",
       " 'Sameer',\n",
       " 'has',\n",
       " 'an',\n",
       " 'advantage',\n",
       " 'since',\n",
       " 'he',\n",
       " 'has',\n",
       " 'both',\n",
       " 'skill',\n",
       " 'and',\n",
       " 'experience',\n",
       " 'perfected',\n",
       " 'over',\n",
       " 'a',\n",
       " 'course',\n",
       " 'of',\n",
       " 'time',\n",
       " '.',\n",
       " 'All',\n",
       " 'three',\n",
       " 'are',\n",
       " 'given',\n",
       " 'three',\n",
       " 'days',\n",
       " 'for',\n",
       " 'the',\n",
       " 'task',\n",
       " '.',\n",
       " 'Since',\n",
       " 'Manish',\n",
       " 'finds',\n",
       " 'it',\n",
       " 'easy',\n",
       " 'to',\n",
       " 'assemble',\n",
       " 'the',\n",
       " 'stool',\n",
       " 'using',\n",
       " 'parts',\n",
       " 'procured',\n",
       " 'from',\n",
       " 'another',\n",
       " 'carpenter',\n",
       " ';',\n",
       " 'he',\n",
       " 'talks',\n",
       " 'to',\n",
       " 'a',\n",
       " 'carpenter',\n",
       " 'he',\n",
       " 'knows',\n",
       " 'and',\n",
       " 'orders',\n",
       " '3',\n",
       " 'leg',\n",
       " 'parts',\n",
       " '6',\n",
       " 'horizontal',\n",
       " 'support',\n",
       " 'bars',\n",
       " 'and',\n",
       " 'one',\n",
       " 'circular',\n",
       " 'base',\n",
       " 'which',\n",
       " 'will',\n",
       " 'sit',\n",
       " 'on',\n",
       " 'the',\n",
       " 'top',\n",
       " '.',\n",
       " 'Vinay',\n",
       " 'thinks',\n",
       " 'he',\n",
       " 'will',\n",
       " 'be',\n",
       " 'able',\n",
       " 'to',\n",
       " 'shape',\n",
       " 'the',\n",
       " 'parts',\n",
       " 'because',\n",
       " 'of',\n",
       " 'his',\n",
       " 'experience',\n",
       " 'as',\n",
       " 'a',\n",
       " 'student',\n",
       " 'and',\n",
       " 'orders',\n",
       " 'several',\n",
       " 'cylindrical',\n",
       " 'wooden',\n",
       " 'leg',\n",
       " 'parts',\n",
       " 'cuboidal',\n",
       " 'bars',\n",
       " 'and',\n",
       " 'a',\n",
       " 'thick',\n",
       " 'sheet',\n",
       " '.',\n",
       " 'Sameer',\n",
       " 'has',\n",
       " 'all',\n",
       " 'the',\n",
       " 'required',\n",
       " 'material',\n",
       " 'in',\n",
       " 'his',\n",
       " 'shop',\n",
       " 'and',\n",
       " 'he',\n",
       " 'begins',\n",
       " 'to',\n",
       " 'work',\n",
       " 'on',\n",
       " 'the',\n",
       " 'stool',\n",
       " 'on',\n",
       " 'the',\n",
       " 'first',\n",
       " 'day',\n",
       " '.',\n",
       " 'Manish',\n",
       " 'and',\n",
       " 'Vinay',\n",
       " 'wait',\n",
       " 'for',\n",
       " 'a',\n",
       " 'day',\n",
       " 'for',\n",
       " 'the',\n",
       " 'parts',\n",
       " 'to',\n",
       " 'come',\n",
       " '.',\n",
       " 'They',\n",
       " 'begin',\n",
       " 'to',\n",
       " 'work',\n",
       " 'on',\n",
       " 'the',\n",
       " 'second',\n",
       " 'day',\n",
       " '.',\n",
       " 'Manish',\n",
       " 'uses',\n",
       " 'the',\n",
       " 'tricks',\n",
       " 'learned',\n",
       " 'from',\n",
       " 'YouTube',\n",
       " 'videos',\n",
       " ';',\n",
       " 'uses',\n",
       " 'a',\n",
       " 'hammer',\n",
       " 'to',\n",
       " 'place',\n",
       " 'the',\n",
       " 'nails',\n",
       " 'purchased',\n",
       " 'from',\n",
       " 'a',\n",
       " 'nearby',\n",
       " 'shop',\n",
       " 'in',\n",
       " 'the',\n",
       " 'pre',\n",
       " 'made',\n",
       " 'hole',\n",
       " 'applies',\n",
       " 'glue',\n",
       " 'in',\n",
       " 'certain',\n",
       " 'areas',\n",
       " 'as',\n",
       " 'directed',\n",
       " 'in',\n",
       " 'the',\n",
       " 'video',\n",
       " 'and',\n",
       " 'places',\n",
       " 'weight',\n",
       " 'on',\n",
       " 'the',\n",
       " 'assembled',\n",
       " 'stool',\n",
       " '.',\n",
       " 'He',\n",
       " 'waits',\n",
       " 'for',\n",
       " 'the',\n",
       " 'glue',\n",
       " 'to',\n",
       " 'cure',\n",
       " '.',\n",
       " 'Vinay',\n",
       " 'uses',\n",
       " 'borrowed',\n",
       " 'drill',\n",
       " 'bits',\n",
       " 'drill',\n",
       " 'machines',\n",
       " 'cutters',\n",
       " 'sandpapers',\n",
       " 'purchased',\n",
       " 'from',\n",
       " 'a',\n",
       " 'shop',\n",
       " 'etc',\n",
       " 'and',\n",
       " 'starts',\n",
       " 'working',\n",
       " 'on',\n",
       " 'the',\n",
       " 'wooden',\n",
       " 'parts',\n",
       " 'as',\n",
       " 'soon',\n",
       " 'as',\n",
       " 'the',\n",
       " 'parts',\n",
       " 'arrive',\n",
       " 'in',\n",
       " 'the',\n",
       " 'morning',\n",
       " '.',\n",
       " 'He',\n",
       " 'is',\n",
       " 'able',\n",
       " 'to',\n",
       " 'recall',\n",
       " 'his',\n",
       " 'carpentry',\n",
       " 'instructions',\n",
       " 'and',\n",
       " 'attempts',\n",
       " 'to',\n",
       " 'shape',\n",
       " 'the',\n",
       " 'parts',\n",
       " 'based',\n",
       " 'on',\n",
       " 'drawing',\n",
       " 'of',\n",
       " 'his',\n",
       " 'product',\n",
       " 'he',\n",
       " 'made',\n",
       " 'last',\n",
       " 'night',\n",
       " '.',\n",
       " 'Sameer',\n",
       " 'meanwhile',\n",
       " 'has',\n",
       " 'completed',\n",
       " 'his',\n",
       " 'assembly',\n",
       " 'and',\n",
       " 'has',\n",
       " 'put',\n",
       " 'the',\n",
       " 'assembly',\n",
       " 'to',\n",
       " 'rest',\n",
       " 'for',\n",
       " 'the',\n",
       " 'glue',\n",
       " 'to',\n",
       " 'cure',\n",
       " '.',\n",
       " 'On',\n",
       " 'the',\n",
       " 'third',\n",
       " 'day',\n",
       " 'each',\n",
       " 'of',\n",
       " 'them',\n",
       " 'has',\n",
       " 'the',\n",
       " 'stool',\n",
       " 'ready',\n",
       " '.',\n",
       " 'They',\n",
       " 'evaluate',\n",
       " 'their',\n",
       " 'own',\n",
       " 'work',\n",
       " 'and',\n",
       " 'notice',\n",
       " 'certain',\n",
       " 'facts',\n",
       " '.',\n",
       " 'Manish',\n",
       " 'notices',\n",
       " 'that',\n",
       " 'he',\n",
       " 'did',\n",
       " 'complete',\n",
       " 'the',\n",
       " 'task',\n",
       " 'but',\n",
       " 'his',\n",
       " 'stool',\n",
       " 'was',\n",
       " 'wobbly',\n",
       " 'and',\n",
       " 'not',\n",
       " 'glued',\n",
       " 'well',\n",
       " '.',\n",
       " 'It',\n",
       " 'could',\n",
       " 'fall',\n",
       " 'the',\n",
       " 'moment',\n",
       " 'he',\n",
       " 'sits',\n",
       " 'on',\n",
       " 'it',\n",
       " '.',\n",
       " 'Also',\n",
       " 'he',\n",
       " 'forgets',\n",
       " 'to',\n",
       " 'polish',\n",
       " 'the',\n",
       " 'wooden',\n",
       " 'parts',\n",
       " 'and',\n",
       " 'give',\n",
       " 'it',\n",
       " 'a',\n",
       " 'professional',\n",
       " 'finish',\n",
       " 'since',\n",
       " 'he',\n",
       " 'forgot',\n",
       " 'to',\n",
       " 'watch',\n",
       " 'that',\n",
       " 'bit',\n",
       " 'of',\n",
       " 'video',\n",
       " 'over',\n",
       " 'YouTube',\n",
       " '.',\n",
       " 'Vinay',\n",
       " 'completes',\n",
       " 'the',\n",
       " 'task',\n",
       " 'his',\n",
       " 'stool',\n",
       " 'is',\n",
       " 'sturdy',\n",
       " 'and',\n",
       " 'cured',\n",
       " 'well',\n",
       " 'overnight',\n",
       " '.',\n",
       " 'But',\n",
       " 'there',\n",
       " 'are',\n",
       " 'minor',\n",
       " 'issues',\n",
       " 'with',\n",
       " 'it',\n",
       " '.',\n",
       " 'One',\n",
       " 'of',\n",
       " 'the',\n",
       " 'three',\n",
       " 'legs',\n",
       " 'is',\n",
       " 'cut',\n",
       " 'short',\n",
       " 'by',\n",
       " 'a',\n",
       " 'few',\n",
       " 'mm',\n",
       " 'and',\n",
       " 'the',\n",
       " 'stool',\n",
       " 'a',\n",
       " 'tad',\n",
       " 'unstable',\n",
       " '.',\n",
       " 'Sameer',\n",
       " 'on',\n",
       " 'the',\n",
       " 'other',\n",
       " 'hand',\n",
       " 'completes',\n",
       " 'the',\n",
       " 'task',\n",
       " 'with',\n",
       " 'a',\n",
       " 'good',\n",
       " 'product',\n",
       " '.',\n",
       " 'The',\n",
       " 'stool',\n",
       " 'is',\n",
       " 'well',\n",
       " 'balanced',\n",
       " 'and',\n",
       " 'polished',\n",
       " 'as',\n",
       " 'he',\n",
       " 'expected',\n",
       " 'from',\n",
       " 'him',\n",
       " '.',\n",
       " 'Sameer',\n",
       " 'is',\n",
       " 'satisfied',\n",
       " 'with',\n",
       " 'his',\n",
       " 'work',\n",
       " 'and',\n",
       " 'finds',\n",
       " 'it',\n",
       " 'to',\n",
       " 'stool',\n",
       " 'Perfect',\n",
       " '.',\n",
       " 'Manish',\n",
       " 'thinks',\n",
       " 'he',\n",
       " 'did',\n",
       " 'his',\n",
       " 'best',\n",
       " 'considering',\n",
       " 'he',\n",
       " 'had',\n",
       " 'no',\n",
       " 'experience',\n",
       " 'of',\n",
       " 'the',\n",
       " 'task',\n",
       " 'to',\n",
       " 'be',\n",
       " 'done',\n",
       " '.',\n",
       " 'He',\n",
       " 'is',\n",
       " 'satisfied',\n",
       " 'with',\n",
       " 'his',\n",
       " 'work',\n",
       " '.',\n",
       " 'But',\n",
       " 'Vinay',\n",
       " 'is',\n",
       " 'unhappy',\n",
       " 'he',\n",
       " 'could',\n",
       " 'have',\n",
       " 'done',\n",
       " 'better',\n",
       " 'and',\n",
       " 'made',\n",
       " 'the',\n",
       " 'product',\n",
       " 'better',\n",
       " '.',\n",
       " 'He',\n",
       " 'doesn',\n",
       " 't',\n",
       " 'find',\n",
       " 'his',\n",
       " 'efforts',\n",
       " 'well',\n",
       " 'put',\n",
       " 'and',\n",
       " 'thinks',\n",
       " 'he',\n",
       " 'wasn',\n",
       " 't',\n",
       " 'productive',\n",
       " 'enough',\n",
       " 'and',\n",
       " 'hence',\n",
       " 'his',\n",
       " 'stool',\n",
       " 'is',\n",
       " 'nowhere',\n",
       " 'perfect',\n",
       " '.',\n",
       " 'Understand',\n",
       " 'that',\n",
       " 'all',\n",
       " 'of',\n",
       " 'them',\n",
       " 'had',\n",
       " 'a',\n",
       " 'set',\n",
       " 'of',\n",
       " 'skills',\n",
       " 'and',\n",
       " 'experience',\n",
       " 'but',\n",
       " 'only',\n",
       " 'Sameer',\n",
       " 'had',\n",
       " 'the',\n",
       " 'right',\n",
       " 'skills',\n",
       " 'and',\n",
       " 'experience',\n",
       " 'to',\n",
       " 'produce',\n",
       " 'a',\n",
       " 'perfect',\n",
       " 'product',\n",
       " '.',\n",
       " 'Manish',\n",
       " 'and',\n",
       " 'Sameer',\n",
       " 'were',\n",
       " 'satisfied',\n",
       " 'and',\n",
       " 'happy',\n",
       " 'with',\n",
       " 'their',\n",
       " 'work',\n",
       " '.',\n",
       " 'Manish',\n",
       " 'made',\n",
       " 'a',\n",
       " 'wobbly',\n",
       " 'stool',\n",
       " 'which',\n",
       " 'could',\n",
       " 'break',\n",
       " 'the',\n",
       " 'moment',\n",
       " 'someone',\n",
       " 'sat',\n",
       " 'on',\n",
       " 'it',\n",
       " 'but',\n",
       " 'happy',\n",
       " 'he',\n",
       " 'gave',\n",
       " 'the',\n",
       " 'task',\n",
       " 'a',\n",
       " 'go',\n",
       " '.',\n",
       " 'He',\n",
       " 'thinks',\n",
       " 'put',\n",
       " 'the',\n",
       " 'efforts',\n",
       " 'and',\n",
       " 'he',\n",
       " 'did',\n",
       " 'a',\n",
       " 'good',\n",
       " 'job',\n",
       " '.',\n",
       " 'It',\n",
       " 'was',\n",
       " 'only',\n",
       " 'Vinay',\n",
       " 'who',\n",
       " 'could',\n",
       " 'not',\n",
       " 'overcome',\n",
       " 'the',\n",
       " 'fact',\n",
       " 'that',\n",
       " 'his',\n",
       " 'work',\n",
       " 'was',\n",
       " 'not',\n",
       " 'perfect',\n",
       " '.',\n",
       " 'In',\n",
       " 'Vinay',\n",
       " 's',\n",
       " 'case',\n",
       " 'it',\n",
       " 'can',\n",
       " 'be',\n",
       " 'observed',\n",
       " 'that',\n",
       " 'he',\n",
       " 'could',\n",
       " 'not',\n",
       " 'deliver',\n",
       " 'what',\n",
       " 'he',\n",
       " 'learned',\n",
       " 'from',\n",
       " 'carpentry',\n",
       " 'classes',\n",
       " '.',\n",
       " 'The',\n",
       " 'reason',\n",
       " 'is',\n",
       " 'simple',\n",
       " 'he',\n",
       " 'put',\n",
       " 'effort',\n",
       " 'but',\n",
       " 'didn',\n",
       " 't',\n",
       " 'have',\n",
       " 'the',\n",
       " 'experience',\n",
       " '.',\n",
       " 'Experience',\n",
       " 'mattered',\n",
       " '.',\n",
       " 'Since',\n",
       " 'Vinay',\n",
       " 'thinks',\n",
       " 'otherwise',\n",
       " 'he',\n",
       " 'believes',\n",
       " 'he',\n",
       " 'has',\n",
       " 'the',\n",
       " 'perfect',\n",
       " 'skills',\n",
       " 'to',\n",
       " 'complete',\n",
       " 'the',\n",
       " 'task',\n",
       " 'but',\n",
       " 'he',\n",
       " 'could',\n",
       " 'not',\n",
       " 'deliver',\n",
       " 'the',\n",
       " 'results',\n",
       " '.',\n",
       " 'He',\n",
       " 'is',\n",
       " 'not',\n",
       " 'satisfied',\n",
       " 'with',\n",
       " 'his',\n",
       " 'results',\n",
       " 'and',\n",
       " 'wishes',\n",
       " 'to',\n",
       " 'spend',\n",
       " 'another',\n",
       " 'day',\n",
       " 'working',\n",
       " 'on',\n",
       " 'the',\n",
       " 'stool',\n",
       " 'on',\n",
       " 'his',\n",
       " 'own',\n",
       " 'to',\n",
       " 'get',\n",
       " 'to',\n",
       " 'his',\n",
       " 'idea',\n",
       " 'of',\n",
       " 'the',\n",
       " 'perfect',\n",
       " 'result',\n",
       " '.',\n",
       " 'In',\n",
       " 'this',\n",
       " 'case',\n",
       " 'the',\n",
       " 'idea',\n",
       " 'of',\n",
       " 'perfection',\n",
       " 'itself',\n",
       " 'is',\n",
       " 'misplaced',\n",
       " '.',\n",
       " 'You',\n",
       " 'see',\n",
       " 'the',\n",
       " 'end',\n",
       " 'product',\n",
       " 'made',\n",
       " 'by',\n",
       " 'Vinay',\n",
       " 'and',\n",
       " 'Manish',\n",
       " 'would',\n",
       " 'not',\n",
       " 'match',\n",
       " 'Sameer',\n",
       " 's',\n",
       " 'but',\n",
       " 'the',\n",
       " 'task',\n",
       " 'could',\n",
       " 'have',\n",
       " 'been',\n",
       " 'completed',\n",
       " 'had',\n",
       " 'they',\n",
       " 'understood',\n",
       " 'where',\n",
       " 'their',\n",
       " 'shortcomings',\n",
       " 'lied',\n",
       " '.',\n",
       " 'For',\n",
       " 'both',\n",
       " 'it',\n",
       " 'was',\n",
       " 'their',\n",
       " 'skill',\n",
       " '.',\n",
       " 'Sameer',\n",
       " 'had',\n",
       " 'the',\n",
       " 'perfect',\n",
       " 'skill',\n",
       " 'to',\n",
       " 'get',\n",
       " 'the',\n",
       " 'expected',\n",
       " 'result',\n",
       " 'which',\n",
       " 'resulted',\n",
       " 'in',\n",
       " 'better',\n",
       " 'productivity',\n",
       " 'others',\n",
       " 'didn',\n",
       " 't.',\n",
       " 'And',\n",
       " 'in',\n",
       " 'this',\n",
       " 'story',\n",
       " 'every',\n",
       " 'individual',\n",
       " 'put',\n",
       " 'effort',\n",
       " 'regardless',\n",
       " 'of',\n",
       " 'the',\n",
       " 'result',\n",
       " '.',\n",
       " 'But',\n",
       " 'some',\n",
       " 'were',\n",
       " 'satisfied',\n",
       " 'and',\n",
       " 'some',\n",
       " 'dissatisfied',\n",
       " '.',\n",
       " 'Their',\n",
       " 'satisfaction',\n",
       " ...]"
      ]
     },
     "execution_count": 8,
     "metadata": {},
     "output_type": "execute_result"
    }
   ],
   "source": [
    "token = word_tokenize(texts)\n",
    "token"
   ]
  },
  {
   "cell_type": "code",
   "execution_count": 9,
   "id": "10016a09",
   "metadata": {},
   "outputs": [],
   "source": [
    "with open(\"D:\\lab\\Dataset\\Stopwords_Blackcoffer.txt\", 'r') as file:\n",
    "    data = file.read()"
   ]
  },
  {
   "cell_type": "code",
   "execution_count": 10,
   "id": "c567cbef",
   "metadata": {},
   "outputs": [
    {
     "data": {
      "text/plain": [
       "'ERNST\\nYOUNG\\nDELOITTE\\nTOUCHE\\nKPMG\\nPRICEWATERHOUSECOOPERS\\nPRICEWATERHOUSE\\nCOOPERS\\nAFGHANI\\nARIARY\\nBAHT\\n'"
      ]
     },
     "execution_count": 10,
     "metadata": {},
     "output_type": "execute_result"
    }
   ],
   "source": [
    "data[:100]"
   ]
  },
  {
   "cell_type": "code",
   "execution_count": 11,
   "id": "d65bfa92",
   "metadata": {},
   "outputs": [
    {
     "data": {
      "text/plain": [
       "'ERNST,YOUNG,DELOITTE,TOUCHE,KPMG,PRICEWATERHOUSECOOPERS,PRICEWATERHOUSE,COOPERS,AFGHANI,ARIARY,BAHT,'"
      ]
     },
     "execution_count": 11,
     "metadata": {},
     "output_type": "execute_result"
    }
   ],
   "source": [
    "data = data.replace('\\n', ',')\n",
    "data[:100]"
   ]
  },
  {
   "cell_type": "code",
   "execution_count": 12,
   "id": "0ef23874",
   "metadata": {},
   "outputs": [
    {
     "data": {
      "text/plain": [
       "'What perfection Does person expect perfection oneself Or amounts Many question mind deem perfect . But verify Let understand work individuals put task carpentry budget . All Rs . 5000 Assumed complete'"
      ]
     },
     "execution_count": 12,
     "metadata": {},
     "output_type": "execute_result"
    }
   ],
   "source": [
    "new_texts = \" \".join([i for i in token if i not in data])\n",
    "new_texts[:200]"
   ]
  },
  {
   "cell_type": "code",
   "execution_count": 13,
   "id": "ea392da4",
   "metadata": {},
   "outputs": [
    {
     "name": "stdout",
     "output_type": "stream",
     "text": [
      "length before cleaning:  6297\n",
      "length after cleaning:  3617\n"
     ]
    }
   ],
   "source": [
    "print(\"length before cleaning: \", len(texts))\n",
    "print(\"length after cleaning: \", len(new_texts))"
   ]
  },
  {
   "cell_type": "markdown",
   "id": "1f456147",
   "metadata": {},
   "source": [
    "# Negative words"
   ]
  },
  {
   "cell_type": "code",
   "execution_count": 14,
   "id": "dc3618a7",
   "metadata": {},
   "outputs": [],
   "source": [
    "with open(\"D:\\\\lab\\\\Dataset\\\\Negative_words.txt\", 'r') as file:\n",
    "    negative = file.read()"
   ]
  },
  {
   "cell_type": "code",
   "execution_count": 15,
   "id": "2123c4cb",
   "metadata": {},
   "outputs": [
    {
     "data": {
      "text/plain": [
       "'2-faced\\n2-faces\\nabnormal\\nabolish\\nabominable\\nabominably\\nabominate\\nabomination\\nabort\\naborted\\naborts\\nabrade\\nabrasive\\nabrupt\\nabruptly\\nabscond\\nabsence\\nabsent-minded\\nabsentee\\nabsurd\\nabsurdity\\nabsurdly\\nabsurdness\\n'"
      ]
     },
     "execution_count": 15,
     "metadata": {},
     "output_type": "execute_result"
    }
   ],
   "source": [
    "negative[:206]"
   ]
  },
  {
   "cell_type": "code",
   "execution_count": 16,
   "id": "28f44c97",
   "metadata": {},
   "outputs": [
    {
     "data": {
      "text/plain": [
       "'2-faced,2-faces,abnormal,abolish,abominable,abominably,abominate,abomination,abort,aborted,aborts,abrade,abrasive,abrupt,abruptly,abscond,absence,absent-minded,absentee,absurd,absurdity,absurdly,absurdness,'"
      ]
     },
     "execution_count": 16,
     "metadata": {},
     "output_type": "execute_result"
    }
   ],
   "source": [
    "negative = negative.replace('\\n', ',')\n",
    "negative[:206]"
   ]
  },
  {
   "cell_type": "code",
   "execution_count": 17,
   "id": "31a272c0",
   "metadata": {},
   "outputs": [
    {
     "name": "stdout",
     "output_type": "stream",
     "text": [
      "['perfection', 'person', 'expect', 'perfection', 'question', 'mind', 'deem', 'perfect', 'understand', 'work', 'put', 'complete', 'make', 'understanding', 'practical', 'make', 'total', 'understanding', 'material', 'product', 'start', 'order', 'order', 'material', 'wood', 'work', 'product', 'difference', 'lack', 'practical', 'experience', 'advantage', 'skill', 'experience', 'easy', 'leg', 'support', 'base', 'sit', 'top', 'experience', 'leg', 'thick', 'material', 'work', 'day', 'day', 'work', 'day', 'weight', 'cure', 'product', 'night', 'put', 'rest', 'cure', 'day', 'work', 'notice', 'complete', 'fall', 'finish', 'watch', 'bit', 'cured', 'issues', 'cut', 'short', 'unstable', 'product', 'balanced', 'expected', 'satisfied', 'work', 'experience', 'satisfied', 'work', 'unhappy', 'product', 'put', 'productive', 'perfect', 'set', 'experience', 'experience', 'perfect', 'product', 'satisfied', 'happy', 'work', 'break', 'sat', 'happy', 'put', 'job', 'fact', 'work', 'perfect', 'observed', 'put', 'experience', 'perfect', 'complete', 'satisfied', 'spend', 'day', 'perfect', 'perfection', 'product', 'understood', 'shortcomings', 'lied', 'skill', 'perfect', 'skill', 'expected', 'put', 'satisfied', 'dissatisfied', 'satisfaction', 'perfect', 'eyes', 'dissatisfaction', 'productive', 'utility', 'productive', 'satisfaction', 'perfection', 'satisfied', 'perfect', 'waste', 'explained', 'enemy', 'satisfaction', 'determine', 'perfection', 'perfection', 'lies', 'enemy', 'dissatisfaction', 'restless', 'lose', 'sight', 'discontinue', 'unable', 'pass', 'obstacle', 'enemy', 'enemy', 'lead', 'dissatisfaction', 'play', 'day']\n"
     ]
    },
    {
     "data": {
      "text/plain": [
       "153"
      ]
     },
     "execution_count": 17,
     "metadata": {},
     "output_type": "execute_result"
    }
   ],
   "source": [
    "new_texts = word_tokenize(new_texts)\n",
    "negative_words = [i for i in new_texts if i in negative]\n",
    "print(negative_words)\n",
    "len(negative_words)"
   ]
  },
  {
   "cell_type": "markdown",
   "id": "0b24f011",
   "metadata": {},
   "source": [
    "# Positive words"
   ]
  },
  {
   "cell_type": "code",
   "execution_count": 18,
   "id": "4b003620",
   "metadata": {},
   "outputs": [
    {
     "data": {
      "text/plain": [
       "'a+\\nabound\\nabounds\\nabundance\\nabundant\\naccessable\\naccessible\\nacclaim\\nacclaimed\\nacclamation\\naccolade\\naccolades\\naccommodative\\naccomodative\\naccomplish\\naccomplished\\naccomplishment\\naccomplishments\\naccurate\\naccurately\\n'"
      ]
     },
     "execution_count": 18,
     "metadata": {},
     "output_type": "execute_result"
    }
   ],
   "source": [
    "with open(\"D:\\\\lab\\\\Dataset\\\\Positive_words.txt\", 'r') as file:\n",
    "    positive = file.read()\n",
    "positive[:210]    "
   ]
  },
  {
   "cell_type": "code",
   "execution_count": 19,
   "id": "66ed38c6",
   "metadata": {},
   "outputs": [
    {
     "data": {
      "text/plain": [
       "'a+,abound,abounds,abundance,abundant,accessable,accessible,acclaim,acclaimed,acclamation,accolade,accolades,accommodative,accomodative,accomplish,accomplished,accomplishment,accomplishments,accurate,accurately,'"
      ]
     },
     "execution_count": 19,
     "metadata": {},
     "output_type": "execute_result"
    }
   ],
   "source": [
    "positive = positive.replace('\\n',',')\n",
    "positive[:210]"
   ]
  },
  {
   "cell_type": "code",
   "execution_count": 20,
   "id": "fc1387e8",
   "metadata": {},
   "outputs": [
    {
     "name": "stdout",
     "output_type": "stream",
     "text": [
      "['perfection', 'person', 'expect', 'perfection', 'question', 'mind', 'deem', 'perfect', 'understand', 'work', 'put', 'idea', 'product', 'order', 'order', 'work', 'product', 'advantage', 'skill', 'easy', 'leg', 'support', 'sit', 'top', 'leg', 'work', 'work', 'made', 'cure', 'working', 'product', 'made', 'put', 'rest', 'cure', 'work', 'fall', 'moment', 'polish', 'bit', 'sturdy', 'cut', 'good', 'product', 'balanced', 'polished', 'expected', 'satisfied', 'work', 'satisfied', 'work', 'made', 'product', 'put', 'productive', 'perfect', 'set', 'perfect', 'product', 'satisfied', 'happy', 'work', 'made', 'break', 'moment', 'sat', 'happy', 'put', 'good', 'fact', 'work', 'perfect', 'simple', 'put', 'effort', 'perfect', 'satisfied', 'working', 'idea', 'perfect', 'idea', 'perfection', 'product', 'made', 'match', 'skill', 'perfect', 'skill', 'expected', 'individual', 'put', 'effort', 'satisfied', 'satisfaction', 'made', 'perfect', 'made', 'productive', 'amount', 'effort', 'productive', 'achieve', 'satisfaction', 'perfection', 'satisfied', 'perfect', 'effort', 'suit', 'greatest', 'satisfaction', 'perfection', 'perfection', 'sight', 'pass', 'greatest', 'lead', 'play', 'idea']\n"
     ]
    },
    {
     "data": {
      "text/plain": [
       "118"
      ]
     },
     "execution_count": 20,
     "metadata": {},
     "output_type": "execute_result"
    }
   ],
   "source": [
    "positive_words = [i for i in new_texts if i in positive]\n",
    "print(positive_words)\n",
    "len(positive_words)"
   ]
  },
  {
   "cell_type": "markdown",
   "id": "1b59646d",
   "metadata": {},
   "source": [
    "#### positive Score\n"
   ]
  },
  {
   "cell_type": "code",
   "execution_count": 21,
   "id": "7d0fbab1",
   "metadata": {},
   "outputs": [
    {
     "name": "stdout",
     "output_type": "stream",
     "text": [
      "118\n"
     ]
    }
   ],
   "source": [
    "pos_score = len(positive_words)\n",
    "print(pos_score)"
   ]
  },
  {
   "cell_type": "markdown",
   "id": "54a6cc12",
   "metadata": {},
   "source": [
    "#### Negative Score"
   ]
  },
  {
   "cell_type": "code",
   "execution_count": 22,
   "id": "df0766cd",
   "metadata": {},
   "outputs": [
    {
     "name": "stdout",
     "output_type": "stream",
     "text": [
      "153\n"
     ]
    }
   ],
   "source": [
    "neg_score=len(negative_words)\n",
    "print(neg_score)"
   ]
  },
  {
   "cell_type": "markdown",
   "id": "84da7ab7",
   "metadata": {},
   "source": [
    "#### Polarity Score"
   ]
  },
  {
   "cell_type": "code",
   "execution_count": 23,
   "id": "21e88c2b",
   "metadata": {},
   "outputs": [
    {
     "data": {
      "text/plain": [
       "-0.13"
      ]
     },
     "execution_count": 23,
     "metadata": {},
     "output_type": "execute_result"
    }
   ],
   "source": [
    "Polarity_Score = (pos_score - neg_score)/((pos_score + neg_score) + 0.000001)\n",
    "round(Polarity_Score,2)"
   ]
  },
  {
   "cell_type": "code",
   "execution_count": 24,
   "id": "08bcb4ab",
   "metadata": {},
   "outputs": [
    {
     "name": "stdout",
     "output_type": "stream",
     "text": [
      "number of words after cleaning : 564\n"
     ]
    }
   ],
   "source": [
    "word_count = len(new_texts)\n",
    "print(\"number of words after cleaning :\",word_count)"
   ]
  },
  {
   "cell_type": "markdown",
   "id": "16495ba1",
   "metadata": {},
   "source": [
    "#### Subjectivity Score"
   ]
  },
  {
   "cell_type": "code",
   "execution_count": 25,
   "id": "841713a3",
   "metadata": {},
   "outputs": [
    {
     "data": {
      "text/plain": [
       "0.48"
      ]
     },
     "execution_count": 25,
     "metadata": {},
     "output_type": "execute_result"
    }
   ],
   "source": [
    "Subjectivity_Score = (pos_score + neg_score)/ ((word_count) + 0.000001)\n",
    "round(Subjectivity_Score,2)"
   ]
  },
  {
   "cell_type": "markdown",
   "id": "0d7c370e",
   "metadata": {},
   "source": [
    "# Analysis of Readability"
   ]
  },
  {
   "cell_type": "code",
   "execution_count": 26,
   "id": "10209a7a",
   "metadata": {},
   "outputs": [
    {
     "data": {
      "text/plain": [
       "1207"
      ]
     },
     "execution_count": 26,
     "metadata": {},
     "output_type": "execute_result"
    }
   ],
   "source": [
    "import nltk\n",
    "from nltk.tokenize import word_tokenize\n",
    "word_tokens = nltk.word_tokenize(texts)\n",
    "No_of_words = len(word_tokens)\n",
    "No_of_words"
   ]
  },
  {
   "cell_type": "code",
   "execution_count": 27,
   "id": "bfac2ab7",
   "metadata": {},
   "outputs": [
    {
     "data": {
      "text/plain": [
       "71"
      ]
     },
     "execution_count": 27,
     "metadata": {},
     "output_type": "execute_result"
    }
   ],
   "source": [
    "sent_tokens = nltk.sent_tokenize(texts)\n",
    "No_of_sents = len(sent_tokens)\n",
    "No_of_sents "
   ]
  },
  {
   "cell_type": "markdown",
   "id": "1576acfe",
   "metadata": {},
   "source": [
    "### Average sentence Length\n"
   ]
  },
  {
   "cell_type": "code",
   "execution_count": 28,
   "id": "11d6a7ec",
   "metadata": {},
   "outputs": [
    {
     "data": {
      "text/plain": [
       "17.0"
      ]
     },
     "execution_count": 28,
     "metadata": {},
     "output_type": "execute_result"
    }
   ],
   "source": [
    "Avg_Sents_Length = No_of_words / No_of_sents\n",
    "round(Avg_Sents_Length,2)"
   ]
  },
  {
   "cell_type": "markdown",
   "id": "bc20ee3d",
   "metadata": {},
   "source": [
    "### Percentage of Complex words\n",
    "Complex words: words with more than 2 syllable are called complex words"
   ]
  },
  {
   "cell_type": "code",
   "execution_count": 29,
   "id": "eba6a8b1",
   "metadata": {},
   "outputs": [
    {
     "name": "stdout",
     "output_type": "stream",
     "text": [
      "Number of complex words: 123\n",
      "Total number of words: 6297\n"
     ]
    }
   ],
   "source": [
    "from nltk.corpus import cmudict\n",
    "cmud = cmudict.dict()\n",
    "\n",
    "# Defining a function to count syllables in a word\n",
    "def count_syllables(word):\n",
    "    phonemes = cmud[word.lower()][0] \n",
    "    return len([s for s in phonemes if s[-1].isdigit()])\n",
    "\n",
    "# Identifing complex words\n",
    "w_tokens = [i for i in word_tokens if i in cmud]\n",
    "complex_words = [word for word in w_tokens if count_syllables(word) > 2]\n",
    "\n",
    "# Calculatingnumber of complex words\n",
    "num_complex_words = len(complex_words)\n",
    "\n",
    "print(\"Number of complex words:\", num_complex_words)\n",
    "print(\"Total number of words:\", len(texts))"
   ]
  },
  {
   "cell_type": "code",
   "execution_count": 30,
   "id": "e982c0a1",
   "metadata": {},
   "outputs": [
    {
     "data": {
      "text/plain": [
       "51.2"
      ]
     },
     "execution_count": 30,
     "metadata": {},
     "output_type": "execute_result"
    }
   ],
   "source": [
    "Perc_of_Complex_words = len(texts) / num_complex_words\n",
    "round(Perc_of_Complex_words,2)"
   ]
  },
  {
   "cell_type": "markdown",
   "id": "77e948d1",
   "metadata": {},
   "source": [
    "### Fog Index"
   ]
  },
  {
   "cell_type": "code",
   "execution_count": 31,
   "id": "95fb10bb",
   "metadata": {},
   "outputs": [
    {
     "name": "stdout",
     "output_type": "stream",
     "text": [
      "Average sentence length: 71.0\n"
     ]
    }
   ],
   "source": [
    "# Tokenize each sentence into words\n",
    "words = [word_tokens for sentence in sent_tokens]\n",
    "\n",
    "# Calculate the average sentence length\n",
    "avg_sent_len = sum(No_of_sents for sentence in words) / No_of_sents\n",
    "\n",
    "print(\"Average sentence length:\", avg_sent_len)\n"
   ]
  },
  {
   "cell_type": "code",
   "execution_count": 32,
   "id": "38f5a93b",
   "metadata": {},
   "outputs": [
    {
     "data": {
      "text/plain": [
       "48.88"
      ]
     },
     "execution_count": 32,
     "metadata": {},
     "output_type": "execute_result"
    }
   ],
   "source": [
    "Fog_index = 0.4 * (avg_sent_len + Perc_of_Complex_words)\n",
    "round(Fog_index,2)"
   ]
  },
  {
   "cell_type": "markdown",
   "id": "5b4aacea",
   "metadata": {},
   "source": [
    "# Average Number of Words Per Sentence"
   ]
  },
  {
   "cell_type": "code",
   "execution_count": 33,
   "id": "45da1407",
   "metadata": {},
   "outputs": [
    {
     "data": {
      "text/plain": [
       "17.0"
      ]
     },
     "execution_count": 33,
     "metadata": {},
     "output_type": "execute_result"
    }
   ],
   "source": [
    "avg_no_of_words_per_sent = No_of_words / No_of_sents\n",
    "round(avg_no_of_words_per_sent,2)"
   ]
  },
  {
   "cell_type": "markdown",
   "id": "f2d9b493",
   "metadata": {},
   "source": [
    "# Complex Word Count"
   ]
  },
  {
   "cell_type": "code",
   "execution_count": 34,
   "id": "75304424",
   "metadata": {},
   "outputs": [
    {
     "name": "stdout",
     "output_type": "stream",
     "text": [
      "complex word count: 123\n"
     ]
    }
   ],
   "source": [
    "from nltk.corpus import cmudict\n",
    "cmud = cmudict.dict()\n",
    "\n",
    "# Defining a function to count syllables in a word\n",
    "def count_syllables(word):\n",
    "    phonemes = cmud[word.lower()][0] \n",
    "    return len([s for s in phonemes if s[-1].isdigit()])\n",
    "\n",
    "# Identifing complex words\n",
    "w_tokens = [i for i in word_tokens if i in cmud]\n",
    "complex_words = [word for word in w_tokens if count_syllables(word) > 2]\n",
    "\n",
    "# Calculatingnumber of complex words\n",
    "num_complex_words = len(complex_words)\n",
    "\n",
    "print(\"complex word count:\", num_complex_words)"
   ]
  },
  {
   "cell_type": "markdown",
   "id": "99ea5188",
   "metadata": {},
   "source": [
    "# Word Count\n",
    "number of words after cleaning"
   ]
  },
  {
   "cell_type": "code",
   "execution_count": 35,
   "id": "b4fb0c72",
   "metadata": {},
   "outputs": [
    {
     "data": {
      "text/plain": [
       "564"
      ]
     },
     "execution_count": 35,
     "metadata": {},
     "output_type": "execute_result"
    }
   ],
   "source": [
    "len(new_texts)"
   ]
  },
  {
   "cell_type": "markdown",
   "id": "ca8076ff",
   "metadata": {},
   "source": [
    "# Syllable Count Per Word"
   ]
  },
  {
   "cell_type": "code",
   "execution_count": 36,
   "id": "6f0b4e4f",
   "metadata": {},
   "outputs": [
    {
     "name": "stdout",
     "output_type": "stream",
     "text": [
      "Enter a word to get syllable: machine\n",
      "Number of syllable in a word : 2\n"
     ]
    }
   ],
   "source": [
    "word = input(\"Enter a word to get syllable: \")\n",
    "def count_syllables(word):\n",
    "    phonemes = cmud[word.lower()][0] \n",
    "    return len([s for s in phonemes if s[-1].isdigit()])\n",
    "\n",
    "print(\"Number of syllable in a word :\",count_syllables(word))"
   ]
  },
  {
   "cell_type": "markdown",
   "id": "1d3a18f6",
   "metadata": {},
   "source": [
    "# Personal Pronouns"
   ]
  },
  {
   "cell_type": "code",
   "execution_count": 37,
   "id": "0b8e0d2d",
   "metadata": {},
   "outputs": [
    {
     "name": "stdout",
     "output_type": "stream",
     "text": [
      "Personal pronoun frequency: {'it': 18, 'we': 3, 'us': 2, 'they': 4, 'he': 34, 'them': 2, 'him': 1, 'you': 11}\n",
      "total number of pronouns in a article : 75\n"
     ]
    }
   ],
   "source": [
    "import re\n",
    "\n",
    "# Define a regex pattern to match personal pronouns\n",
    "pattern = r'\\b(I|you|he|she|it|we|they|me|him|her|us|them)\\b'\n",
    "\n",
    "# Count the frequency of personal pronouns\n",
    "pronoun_freq = {}\n",
    "for pronoun in re.findall(pattern, texts, re.IGNORECASE):\n",
    "    pronoun = pronoun.lower()\n",
    "    if pronoun in pronoun_freq:\n",
    "        pronoun_freq[pronoun] += 1\n",
    "    else:\n",
    "        pronoun_freq[pronoun] = 1\n",
    "\n",
    "print(\"Personal pronoun frequency:\", pronoun_freq)\n",
    "def returnSum(dict):\n",
    " \n",
    "    sum = 0\n",
    "    for i in pronoun_freq.values():\n",
    "        sum = sum + i\n",
    " \n",
    "    return sum\n",
    "print(\"total number of pronouns in a article :\",returnSum(pronoun_freq))"
   ]
  },
  {
   "cell_type": "markdown",
   "id": "e3fc87f8",
   "metadata": {},
   "source": [
    "# Average Word Length"
   ]
  },
  {
   "cell_type": "code",
   "execution_count": 38,
   "id": "5bde37d9",
   "metadata": {},
   "outputs": [
    {
     "name": "stdout",
     "output_type": "stream",
     "text": [
      "Average word length: 4.24\n"
     ]
    }
   ],
   "source": [
    "# Calculate the total number of characters in all words\n",
    "total_chars = sum(len(word) for word in word_tokens)\n",
    "\n",
    "avg_word_length = total_chars / No_of_words\n",
    "\n",
    "print(\"Average word length:\", round(avg_word_length,2))\n"
   ]
  },
  {
   "cell_type": "code",
   "execution_count": null,
   "id": "63dc25ad",
   "metadata": {},
   "outputs": [],
   "source": []
  },
  {
   "cell_type": "code",
   "execution_count": null,
   "id": "819012c5",
   "metadata": {},
   "outputs": [],
   "source": []
  }
 ],
 "metadata": {
  "kernelspec": {
   "display_name": "Python 3",
   "language": "python",
   "name": "python3"
  },
  "language_info": {
   "codemirror_mode": {
    "name": "ipython",
    "version": 3
   },
   "file_extension": ".py",
   "mimetype": "text/x-python",
   "name": "python",
   "nbconvert_exporter": "python",
   "pygments_lexer": "ipython3",
   "version": "3.8.8"
  }
 },
 "nbformat": 4,
 "nbformat_minor": 5
}
