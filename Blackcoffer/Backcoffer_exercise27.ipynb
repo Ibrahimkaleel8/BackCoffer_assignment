{
 "cells": [
  {
   "cell_type": "markdown",
   "id": "b9312f26",
   "metadata": {},
   "source": [
    "# Data scraping"
   ]
  },
  {
   "cell_type": "code",
   "execution_count": 1,
   "id": "ef4785ca",
   "metadata": {},
   "outputs": [],
   "source": [
    "import nltk\n",
    "import requests\n",
    "from bs4 import BeautifulSoup"
   ]
  },
  {
   "cell_type": "code",
   "execution_count": 2,
   "id": "ac2f2459",
   "metadata": {},
   "outputs": [],
   "source": [
    "req = requests.get(\"https://insights.blackcoffer.com/what-is-the-future-of-mobile-apps/\")"
   ]
  },
  {
   "cell_type": "code",
   "execution_count": 3,
   "id": "45f9fa09",
   "metadata": {},
   "outputs": [],
   "source": [
    "soup = BeautifulSoup(req.content, \"html.parser\")\n",
    "res = soup.title\n",
    "paras = soup.find_all('p')"
   ]
  },
  {
   "cell_type": "code",
   "execution_count": 4,
   "id": "dbb256b2",
   "metadata": {
    "scrolled": true
   },
   "outputs": [
    {
     "name": "stdout",
     "output_type": "stream",
     "text": [
      "From what I have learned on the mobile apps development market recently, it is becoming harder for an Android or iOS developer to find a suitable and well-paying job in the market. Some major reasons include the increasing supply of mobile engineers, people generally stop downloading apps, and many more. In this article, I will go through a more detailed explanation of the recent trend mentioned above and my two cents on what mobile engineers could do to prepare themself for the upcoming challenge! and the future of mobile apps. Although the demand for mobile developers has not fallen sharply compared with previous years, the growth rate has slowed. On the other hand, owing to a great number of coding boot camps that target to bring up mobile and frontend engineers, a great number of developers are flooding into the developer job market. The supply side for mobile engineers has increased rapidly in recent years, raising the standards for qualified mobile engineers. The days of a mobile engineer easily getting over 10 job offers are over. Recode ran an article in mid-2016, that begins: “The mobile app boom kicked off in July 2008, when Apple introduced the App Store. Now it is over.” According to data gathered and analyzed by the CakeResume team, JavaScript and Python are now the most in-demand programming languages for companies who post product development jobs on CakeResume, both together taking up almost half of the job opportunities, while mobile engineers taking up merely 10% of the job opportunities. While App usage continues to grow and revenue also ascends, the majority of consumers actually download zero apps per month let’s face the truth, born and raised up in the era of the information explosion, individuals don’t have the leisure to check on what’s new on the app store every day. When it comes to choosing an App to download, many people feel overwhelmed by the sheer number of options available. Take the productivity category of the App Store as an example, there are over thousands of Apps in this category, and new Apps popping up almost every week. It is almost impossible for users to dig through and learn all the apps. They just choose what is on top then click Install. And not to mention that if you could build an awesome productivity app, Google and Apple could do it 10 times better and faster than you. In the end, there’s not as much need for individual apps to accomplish similar convenience factors. Although the bull run for mobile development has ended, there are still over 2 billion smartphone users, 27.5 billion mobile apps downloaded, and time spent per day on mobile devices has increased rapidly in recent years. Moreover, apps offer a user experience that even ‘Responsive Websites’ are unable to provide. In order to stay on top of the game, you will have to differentiate yourself from the pack — other mobile engineers. If you are a mobile engineer who only knows how to code and tweak your App’s UI, you aren’t that different from others after all. Below I listed a few ways that you could implement so that you could stay competitive in the job market. If you are an Android developer, you could start choosing a job involving Kotlin or Flutter, which are backed by Google. If you are an iOS developer, try to look for a job to get involved with using Swift. Although older mobile coding languages, such as Java and Objective-C, still have their upsides, the main reason why Kotlin and Swift are created at first is to address the older languages issue. It means that Kotlin and swift provide many safety mechanisms available out-of-the-box while being more concise and expressive than Java and Objective-C at the same time.  This point is especially crucial. Each industry has its specific skills to learn and refine. For example, if you are building a stock, foreign exchange, future, or options market app, you will have to understand the WebSocket protocol, which lets you transfer as much data as you like without incurring the overhead associated with traditional HTTP requests. For the streaming media industry, possessing experience with live streaming protocols such as HLS, RTMP, WebRTC will be a must to deal with streaming-related apps. These industry skills can really make you stand out, and adds another layer of expertise to your already pretty impressive mobile engineer title, making you more valuable in the job market. The future of mobile app development will be shaped by how businesses harness mobile technology to solve people’s everyday problems. Don’t try to fight the irresistible trend, see how you can surf the trend! Exposing yourself or trying to get a job in the field mentioned below will absolutely give you more opportunities as a mobile developer.\n"
     ]
    }
   ],
   "source": [
    "texts = \" \".join([paragraph.text.strip() for paragraph in paras])\n",
    "print(texts)"
   ]
  },
  {
   "cell_type": "code",
   "execution_count": 5,
   "id": "e79f5f60",
   "metadata": {},
   "outputs": [
    {
     "data": {
      "text/plain": [
       "4759"
      ]
     },
     "execution_count": 5,
     "metadata": {},
     "output_type": "execute_result"
    }
   ],
   "source": [
    "len(texts)"
   ]
  },
  {
   "cell_type": "markdown",
   "id": "db8f1fcc",
   "metadata": {},
   "source": [
    "Removing Punctuation"
   ]
  },
  {
   "cell_type": "code",
   "execution_count": 6,
   "id": "5285c8a8",
   "metadata": {},
   "outputs": [
    {
     "data": {
      "text/plain": [
       "4759"
      ]
     },
     "execution_count": 6,
     "metadata": {},
     "output_type": "execute_result"
    }
   ],
   "source": [
    "import re\n",
    "import string\n",
    "texts = re.sub(r'[\\'\\“\\”\\()\\%\\,\\-\\'\\’\\?\\ ]', ' ', texts)\n",
    "texts[0:200]\n",
    "len(texts)"
   ]
  },
  {
   "cell_type": "markdown",
   "id": "4fafe7be",
   "metadata": {},
   "source": [
    "# Removing Stopwords"
   ]
  },
  {
   "cell_type": "code",
   "execution_count": 7,
   "id": "089b8663",
   "metadata": {},
   "outputs": [],
   "source": [
    "from nltk.tokenize import word_tokenize"
   ]
  },
  {
   "cell_type": "code",
   "execution_count": 8,
   "id": "280876b0",
   "metadata": {},
   "outputs": [
    {
     "data": {
      "text/plain": [
       "['From',\n",
       " 'what',\n",
       " 'I',\n",
       " 'have',\n",
       " 'learned',\n",
       " 'on',\n",
       " 'the',\n",
       " 'mobile',\n",
       " 'apps',\n",
       " 'development',\n",
       " 'market',\n",
       " 'recently',\n",
       " 'it',\n",
       " 'is',\n",
       " 'becoming',\n",
       " 'harder',\n",
       " 'for',\n",
       " 'an',\n",
       " 'Android',\n",
       " 'or',\n",
       " 'iOS',\n",
       " 'developer',\n",
       " 'to',\n",
       " 'find',\n",
       " 'a',\n",
       " 'suitable',\n",
       " 'and',\n",
       " 'well',\n",
       " 'paying',\n",
       " 'job',\n",
       " 'in',\n",
       " 'the',\n",
       " 'market',\n",
       " '.',\n",
       " 'Some',\n",
       " 'major',\n",
       " 'reasons',\n",
       " 'include',\n",
       " 'the',\n",
       " 'increasing',\n",
       " 'supply',\n",
       " 'of',\n",
       " 'mobile',\n",
       " 'engineers',\n",
       " 'people',\n",
       " 'generally',\n",
       " 'stop',\n",
       " 'downloading',\n",
       " 'apps',\n",
       " 'and',\n",
       " 'many',\n",
       " 'more',\n",
       " '.',\n",
       " 'In',\n",
       " 'this',\n",
       " 'article',\n",
       " 'I',\n",
       " 'will',\n",
       " 'go',\n",
       " 'through',\n",
       " 'a',\n",
       " 'more',\n",
       " 'detailed',\n",
       " 'explanation',\n",
       " 'of',\n",
       " 'the',\n",
       " 'recent',\n",
       " 'trend',\n",
       " 'mentioned',\n",
       " 'above',\n",
       " 'and',\n",
       " 'my',\n",
       " 'two',\n",
       " 'cents',\n",
       " 'on',\n",
       " 'what',\n",
       " 'mobile',\n",
       " 'engineers',\n",
       " 'could',\n",
       " 'do',\n",
       " 'to',\n",
       " 'prepare',\n",
       " 'themself',\n",
       " 'for',\n",
       " 'the',\n",
       " 'upcoming',\n",
       " 'challenge',\n",
       " '!',\n",
       " 'and',\n",
       " 'the',\n",
       " 'future',\n",
       " 'of',\n",
       " 'mobile',\n",
       " 'apps',\n",
       " '.',\n",
       " 'Although',\n",
       " 'the',\n",
       " 'demand',\n",
       " 'for',\n",
       " 'mobile',\n",
       " 'developers',\n",
       " 'has',\n",
       " 'not',\n",
       " 'fallen',\n",
       " 'sharply',\n",
       " 'compared',\n",
       " 'with',\n",
       " 'previous',\n",
       " 'years',\n",
       " 'the',\n",
       " 'growth',\n",
       " 'rate',\n",
       " 'has',\n",
       " 'slowed',\n",
       " '.',\n",
       " 'On',\n",
       " 'the',\n",
       " 'other',\n",
       " 'hand',\n",
       " 'owing',\n",
       " 'to',\n",
       " 'a',\n",
       " 'great',\n",
       " 'number',\n",
       " 'of',\n",
       " 'coding',\n",
       " 'boot',\n",
       " 'camps',\n",
       " 'that',\n",
       " 'target',\n",
       " 'to',\n",
       " 'bring',\n",
       " 'up',\n",
       " 'mobile',\n",
       " 'and',\n",
       " 'frontend',\n",
       " 'engineers',\n",
       " 'a',\n",
       " 'great',\n",
       " 'number',\n",
       " 'of',\n",
       " 'developers',\n",
       " 'are',\n",
       " 'flooding',\n",
       " 'into',\n",
       " 'the',\n",
       " 'developer',\n",
       " 'job',\n",
       " 'market',\n",
       " '.',\n",
       " 'The',\n",
       " 'supply',\n",
       " 'side',\n",
       " 'for',\n",
       " 'mobile',\n",
       " 'engineers',\n",
       " 'has',\n",
       " 'increased',\n",
       " 'rapidly',\n",
       " 'in',\n",
       " 'recent',\n",
       " 'years',\n",
       " 'raising',\n",
       " 'the',\n",
       " 'standards',\n",
       " 'for',\n",
       " 'qualified',\n",
       " 'mobile',\n",
       " 'engineers',\n",
       " '.',\n",
       " 'The',\n",
       " 'days',\n",
       " 'of',\n",
       " 'a',\n",
       " 'mobile',\n",
       " 'engineer',\n",
       " 'easily',\n",
       " 'getting',\n",
       " 'over',\n",
       " '10',\n",
       " 'job',\n",
       " 'offers',\n",
       " 'are',\n",
       " 'over',\n",
       " '.',\n",
       " 'Recode',\n",
       " 'ran',\n",
       " 'an',\n",
       " 'article',\n",
       " 'in',\n",
       " 'mid',\n",
       " '2016',\n",
       " 'that',\n",
       " 'begins',\n",
       " ':',\n",
       " 'The',\n",
       " 'mobile',\n",
       " 'app',\n",
       " 'boom',\n",
       " 'kicked',\n",
       " 'off',\n",
       " 'in',\n",
       " 'July',\n",
       " '2008',\n",
       " 'when',\n",
       " 'Apple',\n",
       " 'introduced',\n",
       " 'the',\n",
       " 'App',\n",
       " 'Store',\n",
       " '.',\n",
       " 'Now',\n",
       " 'it',\n",
       " 'is',\n",
       " 'over',\n",
       " '.',\n",
       " 'According',\n",
       " 'to',\n",
       " 'data',\n",
       " 'gathered',\n",
       " 'and',\n",
       " 'analyzed',\n",
       " 'by',\n",
       " 'the',\n",
       " 'CakeResume',\n",
       " 'team',\n",
       " 'JavaScript',\n",
       " 'and',\n",
       " 'Python',\n",
       " 'are',\n",
       " 'now',\n",
       " 'the',\n",
       " 'most',\n",
       " 'in',\n",
       " 'demand',\n",
       " 'programming',\n",
       " 'languages',\n",
       " 'for',\n",
       " 'companies',\n",
       " 'who',\n",
       " 'post',\n",
       " 'product',\n",
       " 'development',\n",
       " 'jobs',\n",
       " 'on',\n",
       " 'CakeResume',\n",
       " 'both',\n",
       " 'together',\n",
       " 'taking',\n",
       " 'up',\n",
       " 'almost',\n",
       " 'half',\n",
       " 'of',\n",
       " 'the',\n",
       " 'job',\n",
       " 'opportunities',\n",
       " 'while',\n",
       " 'mobile',\n",
       " 'engineers',\n",
       " 'taking',\n",
       " 'up',\n",
       " 'merely',\n",
       " '10',\n",
       " 'of',\n",
       " 'the',\n",
       " 'job',\n",
       " 'opportunities',\n",
       " '.',\n",
       " 'While',\n",
       " 'App',\n",
       " 'usage',\n",
       " 'continues',\n",
       " 'to',\n",
       " 'grow',\n",
       " 'and',\n",
       " 'revenue',\n",
       " 'also',\n",
       " 'ascends',\n",
       " 'the',\n",
       " 'majority',\n",
       " 'of',\n",
       " 'consumers',\n",
       " 'actually',\n",
       " 'download',\n",
       " 'zero',\n",
       " 'apps',\n",
       " 'per',\n",
       " 'month',\n",
       " 'let',\n",
       " 's',\n",
       " 'face',\n",
       " 'the',\n",
       " 'truth',\n",
       " 'born',\n",
       " 'and',\n",
       " 'raised',\n",
       " 'up',\n",
       " 'in',\n",
       " 'the',\n",
       " 'era',\n",
       " 'of',\n",
       " 'the',\n",
       " 'information',\n",
       " 'explosion',\n",
       " 'individuals',\n",
       " 'don',\n",
       " 't',\n",
       " 'have',\n",
       " 'the',\n",
       " 'leisure',\n",
       " 'to',\n",
       " 'check',\n",
       " 'on',\n",
       " 'what',\n",
       " 's',\n",
       " 'new',\n",
       " 'on',\n",
       " 'the',\n",
       " 'app',\n",
       " 'store',\n",
       " 'every',\n",
       " 'day',\n",
       " '.',\n",
       " 'When',\n",
       " 'it',\n",
       " 'comes',\n",
       " 'to',\n",
       " 'choosing',\n",
       " 'an',\n",
       " 'App',\n",
       " 'to',\n",
       " 'download',\n",
       " 'many',\n",
       " 'people',\n",
       " 'feel',\n",
       " 'overwhelmed',\n",
       " 'by',\n",
       " 'the',\n",
       " 'sheer',\n",
       " 'number',\n",
       " 'of',\n",
       " 'options',\n",
       " 'available',\n",
       " '.',\n",
       " 'Take',\n",
       " 'the',\n",
       " 'productivity',\n",
       " 'category',\n",
       " 'of',\n",
       " 'the',\n",
       " 'App',\n",
       " 'Store',\n",
       " 'as',\n",
       " 'an',\n",
       " 'example',\n",
       " 'there',\n",
       " 'are',\n",
       " 'over',\n",
       " 'thousands',\n",
       " 'of',\n",
       " 'Apps',\n",
       " 'in',\n",
       " 'this',\n",
       " 'category',\n",
       " 'and',\n",
       " 'new',\n",
       " 'Apps',\n",
       " 'popping',\n",
       " 'up',\n",
       " 'almost',\n",
       " 'every',\n",
       " 'week',\n",
       " '.',\n",
       " 'It',\n",
       " 'is',\n",
       " 'almost',\n",
       " 'impossible',\n",
       " 'for',\n",
       " 'users',\n",
       " 'to',\n",
       " 'dig',\n",
       " 'through',\n",
       " 'and',\n",
       " 'learn',\n",
       " 'all',\n",
       " 'the',\n",
       " 'apps',\n",
       " '.',\n",
       " 'They',\n",
       " 'just',\n",
       " 'choose',\n",
       " 'what',\n",
       " 'is',\n",
       " 'on',\n",
       " 'top',\n",
       " 'then',\n",
       " 'click',\n",
       " 'Install',\n",
       " '.',\n",
       " 'And',\n",
       " 'not',\n",
       " 'to',\n",
       " 'mention',\n",
       " 'that',\n",
       " 'if',\n",
       " 'you',\n",
       " 'could',\n",
       " 'build',\n",
       " 'an',\n",
       " 'awesome',\n",
       " 'productivity',\n",
       " 'app',\n",
       " 'Google',\n",
       " 'and',\n",
       " 'Apple',\n",
       " 'could',\n",
       " 'do',\n",
       " 'it',\n",
       " '10',\n",
       " 'times',\n",
       " 'better',\n",
       " 'and',\n",
       " 'faster',\n",
       " 'than',\n",
       " 'you',\n",
       " '.',\n",
       " 'In',\n",
       " 'the',\n",
       " 'end',\n",
       " 'there',\n",
       " 's',\n",
       " 'not',\n",
       " 'as',\n",
       " 'much',\n",
       " 'need',\n",
       " 'for',\n",
       " 'individual',\n",
       " 'apps',\n",
       " 'to',\n",
       " 'accomplish',\n",
       " 'similar',\n",
       " 'convenience',\n",
       " 'factors',\n",
       " '.',\n",
       " 'Although',\n",
       " 'the',\n",
       " 'bull',\n",
       " 'run',\n",
       " 'for',\n",
       " 'mobile',\n",
       " 'development',\n",
       " 'has',\n",
       " 'ended',\n",
       " 'there',\n",
       " 'are',\n",
       " 'still',\n",
       " 'over',\n",
       " '2',\n",
       " 'billion',\n",
       " 'smartphone',\n",
       " 'users',\n",
       " '27.5',\n",
       " 'billion',\n",
       " 'mobile',\n",
       " 'apps',\n",
       " 'downloaded',\n",
       " 'and',\n",
       " 'time',\n",
       " 'spent',\n",
       " 'per',\n",
       " 'day',\n",
       " 'on',\n",
       " 'mobile',\n",
       " 'devices',\n",
       " 'has',\n",
       " 'increased',\n",
       " 'rapidly',\n",
       " 'in',\n",
       " 'recent',\n",
       " 'years',\n",
       " '.',\n",
       " 'Moreover',\n",
       " 'apps',\n",
       " 'offer',\n",
       " 'a',\n",
       " 'user',\n",
       " 'experience',\n",
       " 'that',\n",
       " 'even',\n",
       " '‘',\n",
       " 'Responsive',\n",
       " 'Websites',\n",
       " 'are',\n",
       " 'unable',\n",
       " 'to',\n",
       " 'provide',\n",
       " '.',\n",
       " 'In',\n",
       " 'order',\n",
       " 'to',\n",
       " 'stay',\n",
       " 'on',\n",
       " 'top',\n",
       " 'of',\n",
       " 'the',\n",
       " 'game',\n",
       " 'you',\n",
       " 'will',\n",
       " 'have',\n",
       " 'to',\n",
       " 'differentiate',\n",
       " 'yourself',\n",
       " 'from',\n",
       " 'the',\n",
       " 'pack',\n",
       " '—',\n",
       " 'other',\n",
       " 'mobile',\n",
       " 'engineers',\n",
       " '.',\n",
       " 'If',\n",
       " 'you',\n",
       " 'are',\n",
       " 'a',\n",
       " 'mobile',\n",
       " 'engineer',\n",
       " 'who',\n",
       " 'only',\n",
       " 'knows',\n",
       " 'how',\n",
       " 'to',\n",
       " 'code',\n",
       " 'and',\n",
       " 'tweak',\n",
       " 'your',\n",
       " 'App',\n",
       " 's',\n",
       " 'UI',\n",
       " 'you',\n",
       " 'aren',\n",
       " 't',\n",
       " 'that',\n",
       " 'different',\n",
       " 'from',\n",
       " 'others',\n",
       " 'after',\n",
       " 'all',\n",
       " '.',\n",
       " 'Below',\n",
       " 'I',\n",
       " 'listed',\n",
       " 'a',\n",
       " 'few',\n",
       " 'ways',\n",
       " 'that',\n",
       " 'you',\n",
       " 'could',\n",
       " 'implement',\n",
       " 'so',\n",
       " 'that',\n",
       " 'you',\n",
       " 'could',\n",
       " 'stay',\n",
       " 'competitive',\n",
       " 'in',\n",
       " 'the',\n",
       " 'job',\n",
       " 'market',\n",
       " '.',\n",
       " 'If',\n",
       " 'you',\n",
       " 'are',\n",
       " 'an',\n",
       " 'Android',\n",
       " 'developer',\n",
       " 'you',\n",
       " 'could',\n",
       " 'start',\n",
       " 'choosing',\n",
       " 'a',\n",
       " 'job',\n",
       " 'involving',\n",
       " 'Kotlin',\n",
       " 'or',\n",
       " 'Flutter',\n",
       " 'which',\n",
       " 'are',\n",
       " 'backed',\n",
       " 'by',\n",
       " 'Google',\n",
       " '.',\n",
       " 'If',\n",
       " 'you',\n",
       " 'are',\n",
       " 'an',\n",
       " 'iOS',\n",
       " 'developer',\n",
       " 'try',\n",
       " 'to',\n",
       " 'look',\n",
       " 'for',\n",
       " 'a',\n",
       " 'job',\n",
       " 'to',\n",
       " 'get',\n",
       " 'involved',\n",
       " 'with',\n",
       " 'using',\n",
       " 'Swift',\n",
       " '.',\n",
       " 'Although',\n",
       " 'older',\n",
       " 'mobile',\n",
       " 'coding',\n",
       " 'languages',\n",
       " 'such',\n",
       " 'as',\n",
       " 'Java',\n",
       " 'and',\n",
       " 'Objective',\n",
       " 'C',\n",
       " 'still',\n",
       " 'have',\n",
       " 'their',\n",
       " 'upsides',\n",
       " 'the',\n",
       " 'main',\n",
       " 'reason',\n",
       " 'why',\n",
       " 'Kotlin',\n",
       " 'and',\n",
       " 'Swift',\n",
       " 'are',\n",
       " 'created',\n",
       " 'at',\n",
       " 'first',\n",
       " 'is',\n",
       " 'to',\n",
       " 'address',\n",
       " 'the',\n",
       " 'older',\n",
       " 'languages',\n",
       " 'issue',\n",
       " '.',\n",
       " 'It',\n",
       " 'means',\n",
       " 'that',\n",
       " 'Kotlin',\n",
       " 'and',\n",
       " 'swift',\n",
       " 'provide',\n",
       " 'many',\n",
       " 'safety',\n",
       " 'mechanisms',\n",
       " 'available',\n",
       " 'out',\n",
       " 'of',\n",
       " 'the',\n",
       " 'box',\n",
       " 'while',\n",
       " 'being',\n",
       " 'more',\n",
       " 'concise',\n",
       " 'and',\n",
       " 'expressive',\n",
       " 'than',\n",
       " 'Java',\n",
       " 'and',\n",
       " 'Objective',\n",
       " 'C',\n",
       " 'at',\n",
       " 'the',\n",
       " 'same',\n",
       " 'time',\n",
       " '.',\n",
       " 'This',\n",
       " 'point',\n",
       " 'is',\n",
       " 'especially',\n",
       " 'crucial',\n",
       " '.',\n",
       " 'Each',\n",
       " 'industry',\n",
       " 'has',\n",
       " 'its',\n",
       " 'specific',\n",
       " 'skills',\n",
       " 'to',\n",
       " 'learn',\n",
       " 'and',\n",
       " 'refine',\n",
       " '.',\n",
       " 'For',\n",
       " 'example',\n",
       " 'if',\n",
       " 'you',\n",
       " 'are',\n",
       " 'building',\n",
       " 'a',\n",
       " 'stock',\n",
       " 'foreign',\n",
       " 'exchange',\n",
       " 'future',\n",
       " 'or',\n",
       " 'options',\n",
       " 'market',\n",
       " 'app',\n",
       " 'you',\n",
       " 'will',\n",
       " 'have',\n",
       " 'to',\n",
       " 'understand',\n",
       " 'the',\n",
       " 'WebSocket',\n",
       " 'protocol',\n",
       " 'which',\n",
       " 'lets',\n",
       " 'you',\n",
       " 'transfer',\n",
       " 'as',\n",
       " 'much',\n",
       " 'data',\n",
       " 'as',\n",
       " 'you',\n",
       " 'like',\n",
       " 'without',\n",
       " 'incurring',\n",
       " 'the',\n",
       " 'overhead',\n",
       " 'associated',\n",
       " 'with',\n",
       " 'traditional',\n",
       " 'HTTP',\n",
       " 'requests',\n",
       " '.',\n",
       " 'For',\n",
       " 'the',\n",
       " 'streaming',\n",
       " 'media',\n",
       " 'industry',\n",
       " 'possessing',\n",
       " 'experience',\n",
       " 'with',\n",
       " 'live',\n",
       " 'streaming',\n",
       " 'protocols',\n",
       " 'such',\n",
       " 'as',\n",
       " 'HLS',\n",
       " 'RTMP',\n",
       " 'WebRTC',\n",
       " 'will',\n",
       " 'be',\n",
       " 'a',\n",
       " 'must',\n",
       " 'to',\n",
       " 'deal',\n",
       " 'with',\n",
       " 'streaming',\n",
       " 'related',\n",
       " 'apps',\n",
       " '.',\n",
       " 'These',\n",
       " 'industry',\n",
       " 'skills',\n",
       " 'can',\n",
       " 'really',\n",
       " 'make',\n",
       " 'you',\n",
       " 'stand',\n",
       " 'out',\n",
       " 'and',\n",
       " 'adds',\n",
       " 'another',\n",
       " 'layer',\n",
       " 'of',\n",
       " 'expertise',\n",
       " 'to',\n",
       " 'your',\n",
       " 'already',\n",
       " 'pretty',\n",
       " 'impressive',\n",
       " 'mobile',\n",
       " 'engineer',\n",
       " 'title',\n",
       " 'making',\n",
       " 'you',\n",
       " 'more',\n",
       " 'valuable',\n",
       " 'in',\n",
       " 'the',\n",
       " 'job',\n",
       " 'market',\n",
       " '.',\n",
       " 'The',\n",
       " 'future',\n",
       " 'of',\n",
       " 'mobile',\n",
       " 'app',\n",
       " 'development',\n",
       " 'will',\n",
       " 'be',\n",
       " 'shaped',\n",
       " 'by',\n",
       " 'how',\n",
       " 'businesses',\n",
       " 'harness',\n",
       " 'mobile',\n",
       " 'technology',\n",
       " 'to',\n",
       " 'solve',\n",
       " 'people',\n",
       " 's',\n",
       " 'everyday',\n",
       " 'problems',\n",
       " '.',\n",
       " 'Don',\n",
       " 't',\n",
       " 'try',\n",
       " 'to',\n",
       " 'fight',\n",
       " 'the',\n",
       " 'irresistible',\n",
       " 'trend',\n",
       " 'see',\n",
       " 'how',\n",
       " 'you',\n",
       " 'can',\n",
       " 'surf',\n",
       " 'the',\n",
       " 'trend',\n",
       " '!',\n",
       " 'Exposing',\n",
       " 'yourself',\n",
       " 'or',\n",
       " 'trying',\n",
       " 'to',\n",
       " 'get',\n",
       " 'a',\n",
       " 'job',\n",
       " 'in',\n",
       " 'the',\n",
       " 'field',\n",
       " 'mentioned',\n",
       " 'below',\n",
       " 'will',\n",
       " 'absolutely',\n",
       " 'give',\n",
       " 'you',\n",
       " 'more',\n",
       " 'opportunities',\n",
       " 'as',\n",
       " 'a',\n",
       " 'mobile',\n",
       " 'developer',\n",
       " '.']"
      ]
     },
     "execution_count": 8,
     "metadata": {},
     "output_type": "execute_result"
    }
   ],
   "source": [
    "token = word_tokenize(texts)\n",
    "token"
   ]
  },
  {
   "cell_type": "code",
   "execution_count": 9,
   "id": "10016a09",
   "metadata": {},
   "outputs": [],
   "source": [
    "with open(\"D:\\lab\\Dataset\\Stopwords_Blackcoffer.txt\", 'r') as file:\n",
    "    data = file.read()"
   ]
  },
  {
   "cell_type": "code",
   "execution_count": 10,
   "id": "c567cbef",
   "metadata": {},
   "outputs": [
    {
     "data": {
      "text/plain": [
       "'ERNST\\nYOUNG\\nDELOITTE\\nTOUCHE\\nKPMG\\nPRICEWATERHOUSECOOPERS\\nPRICEWATERHOUSE\\nCOOPERS\\nAFGHANI\\nARIARY\\nBAHT\\n'"
      ]
     },
     "execution_count": 10,
     "metadata": {},
     "output_type": "execute_result"
    }
   ],
   "source": [
    "data[:100]"
   ]
  },
  {
   "cell_type": "code",
   "execution_count": 11,
   "id": "d65bfa92",
   "metadata": {},
   "outputs": [
    {
     "data": {
      "text/plain": [
       "'ERNST,YOUNG,DELOITTE,TOUCHE,KPMG,PRICEWATERHOUSECOOPERS,PRICEWATERHOUSE,COOPERS,AFGHANI,ARIARY,BAHT,'"
      ]
     },
     "execution_count": 11,
     "metadata": {},
     "output_type": "execute_result"
    }
   ],
   "source": [
    "data = data.replace('\\n', ',')\n",
    "data[:100]"
   ]
  },
  {
   "cell_type": "code",
   "execution_count": 12,
   "id": "0ef23874",
   "metadata": {},
   "outputs": [
    {
     "data": {
      "text/plain": [
       "'From learned mobile apps development market recently harder Android iOS developer find suitable paying job market . Some major reasons include increasing supply mobile engineers people generally stop '"
      ]
     },
     "execution_count": 12,
     "metadata": {},
     "output_type": "execute_result"
    }
   ],
   "source": [
    "new_texts = \" \".join([i for i in token if i not in data])\n",
    "new_texts[:200]"
   ]
  },
  {
   "cell_type": "code",
   "execution_count": 13,
   "id": "ea392da4",
   "metadata": {},
   "outputs": [
    {
     "name": "stdout",
     "output_type": "stream",
     "text": [
      "length before cleaning:  4759\n",
      "length after cleaning:  2956\n"
     ]
    }
   ],
   "source": [
    "print(\"length before cleaning: \", len(texts))\n",
    "print(\"length after cleaning: \", len(new_texts))"
   ]
  },
  {
   "cell_type": "markdown",
   "id": "1f456147",
   "metadata": {},
   "source": [
    "# Negative words"
   ]
  },
  {
   "cell_type": "code",
   "execution_count": 14,
   "id": "dc3618a7",
   "metadata": {},
   "outputs": [],
   "source": [
    "with open(\"D:\\\\lab\\\\Dataset\\\\Negative_words.txt\", 'r') as file:\n",
    "    negative = file.read()"
   ]
  },
  {
   "cell_type": "code",
   "execution_count": 15,
   "id": "2123c4cb",
   "metadata": {},
   "outputs": [
    {
     "data": {
      "text/plain": [
       "'2-faced\\n2-faces\\nabnormal\\nabolish\\nabominable\\nabominably\\nabominate\\nabomination\\nabort\\naborted\\naborts\\nabrade\\nabrasive\\nabrupt\\nabruptly\\nabscond\\nabsence\\nabsent-minded\\nabsentee\\nabsurd\\nabsurdity\\nabsurdly\\nabsurdness\\n'"
      ]
     },
     "execution_count": 15,
     "metadata": {},
     "output_type": "execute_result"
    }
   ],
   "source": [
    "negative[:206]"
   ]
  },
  {
   "cell_type": "code",
   "execution_count": 16,
   "id": "28f44c97",
   "metadata": {},
   "outputs": [
    {
     "data": {
      "text/plain": [
       "'2-faced,2-faces,abnormal,abolish,abominable,abominably,abominate,abomination,abort,aborted,aborts,abrade,abrasive,abrupt,abruptly,abscond,absence,absent-minded,absentee,absurd,absurdity,absurdly,absurdness,'"
      ]
     },
     "execution_count": 16,
     "metadata": {},
     "output_type": "execute_result"
    }
   ],
   "source": [
    "negative = negative.replace('\\n', ',')\n",
    "negative[:206]"
   ]
  },
  {
   "cell_type": "code",
   "execution_count": 17,
   "id": "31a272c0",
   "metadata": {},
   "outputs": [
    {
     "name": "stdout",
     "output_type": "stream",
     "text": [
      "['job', 'prepare', 'fallen', 'sharply', 'rate', 'slowed', 'job', 'qualified', 'easily', 'job', 'ran', 'mid', 'post', 'product', 'half', 'job', 'job', 'usage', 'grow', 'face', 'truth', 'born', 'check', 'day', 'feel', 'overwhelmed', 'impossible', 'dig', 'top', 'convenience', 'bull', 'run', '2', 'day', 'experience', 'unable', 'order', 'top', 'competitive', 'job', 'start', 'job', 'job', 'older', 'older', 'issue', 'box', 'point', 'stock', 'understand', 'experience', 'live', 'deal', 'make', 'stand', 'job', 'solve', 'problems', 'job']\n"
     ]
    },
    {
     "data": {
      "text/plain": [
       "59"
      ]
     },
     "execution_count": 17,
     "metadata": {},
     "output_type": "execute_result"
    }
   ],
   "source": [
    "new_texts = word_tokenize(new_texts)\n",
    "negative_words = [i for i in new_texts if i in negative]\n",
    "print(negative_words)\n",
    "len(negative_words)"
   ]
  },
  {
   "cell_type": "markdown",
   "id": "0b24f011",
   "metadata": {},
   "source": [
    "# Positive words"
   ]
  },
  {
   "cell_type": "code",
   "execution_count": 18,
   "id": "4b003620",
   "metadata": {},
   "outputs": [
    {
     "data": {
      "text/plain": [
       "'a+\\nabound\\nabounds\\nabundance\\nabundant\\naccessable\\naccessible\\nacclaim\\nacclaimed\\nacclamation\\naccolade\\naccolades\\naccommodative\\naccomodative\\naccomplish\\naccomplished\\naccomplishment\\naccomplishments\\naccurate\\naccurately\\n'"
      ]
     },
     "execution_count": 18,
     "metadata": {},
     "output_type": "execute_result"
    }
   ],
   "source": [
    "with open(\"D:\\\\lab\\\\Dataset\\\\Positive_words.txt\", 'r') as file:\n",
    "    positive = file.read()\n",
    "positive[:210]    "
   ]
  },
  {
   "cell_type": "code",
   "execution_count": 19,
   "id": "66ed38c6",
   "metadata": {},
   "outputs": [
    {
     "data": {
      "text/plain": [
       "'a+,abound,abounds,abundance,abundant,accessable,accessible,acclaim,acclaimed,acclamation,accolade,accolades,accommodative,accomodative,accomplish,accomplished,accomplishment,accomplishments,accurate,accurately,'"
      ]
     },
     "execution_count": 19,
     "metadata": {},
     "output_type": "execute_result"
    }
   ],
   "source": [
    "positive = positive.replace('\\n',',')\n",
    "positive[:210]"
   ]
  },
  {
   "cell_type": "code",
   "execution_count": 20,
   "id": "fc1387e8",
   "metadata": {},
   "outputs": [
    {
     "name": "stdout",
     "output_type": "stream",
     "text": [
      "['suitable', 'trend', 'future', 'rate', 'great', 'great', 'raising', 'qualified', 'ran', 'mid', 'boom', 'product', 'taking', 'taking', 'grow', 'truth', 'store', 'dig', 'top', 'awesome', 'faster', 'individual', 'accomplish', 'convenience', 'bull', 'run', 'ended', 'user', 'order', 'top', 'competitive', 'issue', 'swift', 'concise', 'refine', 'future', 'understand', 'live', 'deal', 'stand', 'pretty', 'impressive', 'valuable', 'future', 'solve', 'irresistible', 'trend', 'trend']\n"
     ]
    },
    {
     "data": {
      "text/plain": [
       "48"
      ]
     },
     "execution_count": 20,
     "metadata": {},
     "output_type": "execute_result"
    }
   ],
   "source": [
    "positive_words = [i for i in new_texts if i in positive]\n",
    "print(positive_words)\n",
    "len(positive_words)"
   ]
  },
  {
   "cell_type": "markdown",
   "id": "1b59646d",
   "metadata": {},
   "source": [
    "#### positive Score\n"
   ]
  },
  {
   "cell_type": "code",
   "execution_count": 21,
   "id": "7d0fbab1",
   "metadata": {},
   "outputs": [
    {
     "name": "stdout",
     "output_type": "stream",
     "text": [
      "48\n"
     ]
    }
   ],
   "source": [
    "pos_score = len(positive_words)\n",
    "print(pos_score)"
   ]
  },
  {
   "cell_type": "markdown",
   "id": "54a6cc12",
   "metadata": {},
   "source": [
    "#### Negative Score"
   ]
  },
  {
   "cell_type": "code",
   "execution_count": 22,
   "id": "df0766cd",
   "metadata": {},
   "outputs": [
    {
     "name": "stdout",
     "output_type": "stream",
     "text": [
      "59\n"
     ]
    }
   ],
   "source": [
    "neg_score=len(negative_words)\n",
    "print(neg_score)"
   ]
  },
  {
   "cell_type": "markdown",
   "id": "84da7ab7",
   "metadata": {},
   "source": [
    "#### Polarity Score"
   ]
  },
  {
   "cell_type": "code",
   "execution_count": 23,
   "id": "21e88c2b",
   "metadata": {},
   "outputs": [
    {
     "data": {
      "text/plain": [
       "-0.1"
      ]
     },
     "execution_count": 23,
     "metadata": {},
     "output_type": "execute_result"
    }
   ],
   "source": [
    "Polarity_Score = (pos_score - neg_score)/((pos_score + neg_score) + 0.000001)\n",
    "round(Polarity_Score,2)"
   ]
  },
  {
   "cell_type": "code",
   "execution_count": 24,
   "id": "08bcb4ab",
   "metadata": {},
   "outputs": [
    {
     "name": "stdout",
     "output_type": "stream",
     "text": [
      "number of words after cleaning : 433\n"
     ]
    }
   ],
   "source": [
    "word_count = len(new_texts)\n",
    "print(\"number of words after cleaning :\",word_count)"
   ]
  },
  {
   "cell_type": "markdown",
   "id": "16495ba1",
   "metadata": {},
   "source": [
    "#### Subjectivity Score"
   ]
  },
  {
   "cell_type": "code",
   "execution_count": 25,
   "id": "841713a3",
   "metadata": {},
   "outputs": [
    {
     "data": {
      "text/plain": [
       "0.25"
      ]
     },
     "execution_count": 25,
     "metadata": {},
     "output_type": "execute_result"
    }
   ],
   "source": [
    "Subjectivity_Score = (pos_score + neg_score)/ ((word_count) + 0.000001)\n",
    "round(Subjectivity_Score,2)"
   ]
  },
  {
   "cell_type": "markdown",
   "id": "0d7c370e",
   "metadata": {},
   "source": [
    "# Analysis of Readability"
   ]
  },
  {
   "cell_type": "code",
   "execution_count": 26,
   "id": "10209a7a",
   "metadata": {},
   "outputs": [
    {
     "data": {
      "text/plain": [
       "856"
      ]
     },
     "execution_count": 26,
     "metadata": {},
     "output_type": "execute_result"
    }
   ],
   "source": [
    "import nltk\n",
    "from nltk.tokenize import word_tokenize\n",
    "word_tokens = nltk.word_tokenize(texts)\n",
    "No_of_words = len(word_tokens)\n",
    "No_of_words"
   ]
  },
  {
   "cell_type": "code",
   "execution_count": 27,
   "id": "bfac2ab7",
   "metadata": {},
   "outputs": [
    {
     "data": {
      "text/plain": [
       "35"
      ]
     },
     "execution_count": 27,
     "metadata": {},
     "output_type": "execute_result"
    }
   ],
   "source": [
    "sent_tokens = nltk.sent_tokenize(texts)\n",
    "No_of_sents = len(sent_tokens)\n",
    "No_of_sents "
   ]
  },
  {
   "cell_type": "markdown",
   "id": "1576acfe",
   "metadata": {},
   "source": [
    "### Average sentence Length\n"
   ]
  },
  {
   "cell_type": "code",
   "execution_count": 28,
   "id": "11d6a7ec",
   "metadata": {},
   "outputs": [
    {
     "data": {
      "text/plain": [
       "24.46"
      ]
     },
     "execution_count": 28,
     "metadata": {},
     "output_type": "execute_result"
    }
   ],
   "source": [
    "Avg_Sents_Length = No_of_words / No_of_sents\n",
    "round(Avg_Sents_Length,2)"
   ]
  },
  {
   "cell_type": "markdown",
   "id": "bc20ee3d",
   "metadata": {},
   "source": [
    "### Percentage of Complex words\n",
    "Complex words: words with more than 2 syllable are called complex words"
   ]
  },
  {
   "cell_type": "code",
   "execution_count": 29,
   "id": "eba6a8b1",
   "metadata": {},
   "outputs": [
    {
     "name": "stdout",
     "output_type": "stream",
     "text": [
      "Number of complex words: 109\n",
      "Total number of words: 4759\n"
     ]
    }
   ],
   "source": [
    "from nltk.corpus import cmudict\n",
    "cmud = cmudict.dict()\n",
    "\n",
    "# Defining a function to count syllables in a word\n",
    "def count_syllables(word):\n",
    "    phonemes = cmud[word.lower()][0] \n",
    "    return len([s for s in phonemes if s[-1].isdigit()])\n",
    "\n",
    "# Identifing complex words\n",
    "w_tokens = [i for i in word_tokens if i in cmud]\n",
    "complex_words = [word for word in w_tokens if count_syllables(word) > 2]\n",
    "\n",
    "# Calculatingnumber of complex words\n",
    "num_complex_words = len(complex_words)\n",
    "\n",
    "print(\"Number of complex words:\", num_complex_words)\n",
    "print(\"Total number of words:\", len(texts))"
   ]
  },
  {
   "cell_type": "code",
   "execution_count": 30,
   "id": "e982c0a1",
   "metadata": {},
   "outputs": [
    {
     "data": {
      "text/plain": [
       "43.66"
      ]
     },
     "execution_count": 30,
     "metadata": {},
     "output_type": "execute_result"
    }
   ],
   "source": [
    "Perc_of_Complex_words = len(texts) / num_complex_words\n",
    "round(Perc_of_Complex_words,2)"
   ]
  },
  {
   "cell_type": "markdown",
   "id": "77e948d1",
   "metadata": {},
   "source": [
    "### Fog Index"
   ]
  },
  {
   "cell_type": "code",
   "execution_count": 31,
   "id": "95fb10bb",
   "metadata": {},
   "outputs": [
    {
     "name": "stdout",
     "output_type": "stream",
     "text": [
      "Average sentence length: 35.0\n"
     ]
    }
   ],
   "source": [
    "# Tokenize each sentence into words\n",
    "words = [word_tokens for sentence in sent_tokens]\n",
    "\n",
    "# Calculate the average sentence length\n",
    "avg_sent_len = sum(No_of_sents for sentence in words) / No_of_sents\n",
    "\n",
    "print(\"Average sentence length:\", avg_sent_len)\n"
   ]
  },
  {
   "cell_type": "code",
   "execution_count": 32,
   "id": "38f5a93b",
   "metadata": {},
   "outputs": [
    {
     "data": {
      "text/plain": [
       "31.46"
      ]
     },
     "execution_count": 32,
     "metadata": {},
     "output_type": "execute_result"
    }
   ],
   "source": [
    "Fog_index = 0.4 * (avg_sent_len + Perc_of_Complex_words)\n",
    "round(Fog_index,2)"
   ]
  },
  {
   "cell_type": "markdown",
   "id": "5b4aacea",
   "metadata": {},
   "source": [
    "# Average Number of Words Per Sentence"
   ]
  },
  {
   "cell_type": "code",
   "execution_count": 33,
   "id": "45da1407",
   "metadata": {},
   "outputs": [
    {
     "data": {
      "text/plain": [
       "24.46"
      ]
     },
     "execution_count": 33,
     "metadata": {},
     "output_type": "execute_result"
    }
   ],
   "source": [
    "avg_no_of_words_per_sent = No_of_words / No_of_sents\n",
    "round(avg_no_of_words_per_sent,2)"
   ]
  },
  {
   "cell_type": "markdown",
   "id": "f2d9b493",
   "metadata": {},
   "source": [
    "# Complex Word Count"
   ]
  },
  {
   "cell_type": "code",
   "execution_count": 34,
   "id": "75304424",
   "metadata": {},
   "outputs": [
    {
     "name": "stdout",
     "output_type": "stream",
     "text": [
      "complex word count: 109\n"
     ]
    }
   ],
   "source": [
    "from nltk.corpus import cmudict\n",
    "cmud = cmudict.dict()\n",
    "\n",
    "# Defining a function to count syllables in a word\n",
    "def count_syllables(word):\n",
    "    phonemes = cmud[word.lower()][0] \n",
    "    return len([s for s in phonemes if s[-1].isdigit()])\n",
    "\n",
    "# Identifing complex words\n",
    "w_tokens = [i for i in word_tokens if i in cmud]\n",
    "complex_words = [word for word in w_tokens if count_syllables(word) > 2]\n",
    "\n",
    "# Calculatingnumber of complex words\n",
    "num_complex_words = len(complex_words)\n",
    "\n",
    "print(\"complex word count:\", num_complex_words)"
   ]
  },
  {
   "cell_type": "markdown",
   "id": "99ea5188",
   "metadata": {},
   "source": [
    "# Word Count\n",
    "number of words after cleaning"
   ]
  },
  {
   "cell_type": "code",
   "execution_count": 35,
   "id": "b4fb0c72",
   "metadata": {},
   "outputs": [
    {
     "data": {
      "text/plain": [
       "433"
      ]
     },
     "execution_count": 35,
     "metadata": {},
     "output_type": "execute_result"
    }
   ],
   "source": [
    "len(new_texts)"
   ]
  },
  {
   "cell_type": "markdown",
   "id": "ca8076ff",
   "metadata": {},
   "source": [
    "# Syllable Count Per Word"
   ]
  },
  {
   "cell_type": "code",
   "execution_count": 36,
   "id": "bc568045",
   "metadata": {},
   "outputs": [
    {
     "name": "stdout",
     "output_type": "stream",
     "text": [
      "Enter a word to get syllable: impossible\n",
      "Number of syllable in a word : 4\n"
     ]
    }
   ],
   "source": [
    "word = input(\"Enter a word to get syllable: \")\n",
    "def count_syllables(word):\n",
    "    phonemes = cmud[word.lower()][0] \n",
    "    return len([s for s in phonemes if s[-1].isdigit()])\n",
    "\n",
    "print(\"Number of syllable in a word :\",count_syllables(word))"
   ]
  },
  {
   "cell_type": "markdown",
   "id": "1d3a18f6",
   "metadata": {},
   "source": [
    "# Personal Pronouns"
   ]
  },
  {
   "cell_type": "code",
   "execution_count": 37,
   "id": "0b8e0d2d",
   "metadata": {},
   "outputs": [
    {
     "name": "stdout",
     "output_type": "stream",
     "text": [
      "Personal pronoun frequency: {'i': 3, 'it': 6, 'they': 1, 'you': 18}\n",
      "total number of pronouns in a article : 28\n"
     ]
    }
   ],
   "source": [
    "import re\n",
    "\n",
    "# Define a regex pattern to match personal pronouns\n",
    "pattern = r'\\b(I|you|he|she|it|we|they|me|him|her|us|them)\\b'\n",
    "\n",
    "# Count the frequency of personal pronouns\n",
    "pronoun_freq = {}\n",
    "for pronoun in re.findall(pattern, texts, re.IGNORECASE):\n",
    "    pronoun = pronoun.lower()\n",
    "    if pronoun in pronoun_freq:\n",
    "        pronoun_freq[pronoun] += 1\n",
    "    else:\n",
    "        pronoun_freq[pronoun] = 1\n",
    "\n",
    "print(\"Personal pronoun frequency:\", pronoun_freq)\n",
    "def returnSum(dict):\n",
    " \n",
    "    sum = 0\n",
    "    for i in pronoun_freq.values():\n",
    "        sum = sum + i\n",
    " \n",
    "    return sum\n",
    "print(\"total number of pronouns in a article :\",returnSum(pronoun_freq))"
   ]
  },
  {
   "cell_type": "markdown",
   "id": "e3fc87f8",
   "metadata": {},
   "source": [
    "# Average Word Length"
   ]
  },
  {
   "cell_type": "code",
   "execution_count": 38,
   "id": "5bde37d9",
   "metadata": {},
   "outputs": [
    {
     "name": "stdout",
     "output_type": "stream",
     "text": [
      "Average word length: 4.55\n"
     ]
    }
   ],
   "source": [
    "# Calculate the total number of characters in all words\n",
    "total_chars = sum(len(word) for word in word_tokens)\n",
    "\n",
    "avg_word_length = total_chars / No_of_words\n",
    "\n",
    "print(\"Average word length:\", round(avg_word_length,2))\n"
   ]
  },
  {
   "cell_type": "code",
   "execution_count": null,
   "id": "63dc25ad",
   "metadata": {},
   "outputs": [],
   "source": []
  },
  {
   "cell_type": "code",
   "execution_count": null,
   "id": "819012c5",
   "metadata": {},
   "outputs": [],
   "source": []
  }
 ],
 "metadata": {
  "kernelspec": {
   "display_name": "Python 3",
   "language": "python",
   "name": "python3"
  },
  "language_info": {
   "codemirror_mode": {
    "name": "ipython",
    "version": 3
   },
   "file_extension": ".py",
   "mimetype": "text/x-python",
   "name": "python",
   "nbconvert_exporter": "python",
   "pygments_lexer": "ipython3",
   "version": "3.8.8"
  }
 },
 "nbformat": 4,
 "nbformat_minor": 5
}
