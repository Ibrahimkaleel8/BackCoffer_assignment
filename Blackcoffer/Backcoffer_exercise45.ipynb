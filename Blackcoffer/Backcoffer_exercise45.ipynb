{
 "cells": [
  {
   "cell_type": "markdown",
   "id": "b9312f26",
   "metadata": {},
   "source": [
    "# Data scraping"
   ]
  },
  {
   "cell_type": "code",
   "execution_count": 1,
   "id": "ef4785ca",
   "metadata": {},
   "outputs": [],
   "source": [
    "import nltk\n",
    "import requests\n",
    "from bs4 import BeautifulSoup"
   ]
  },
  {
   "cell_type": "code",
   "execution_count": 2,
   "id": "ac2f2459",
   "metadata": {},
   "outputs": [],
   "source": [
    "req = requests.get(\"https://insights.blackcoffer.com/global-financial-crisis-2008-causes-effects-and-its-solution/\")"
   ]
  },
  {
   "cell_type": "code",
   "execution_count": 3,
   "id": "45f9fa09",
   "metadata": {},
   "outputs": [],
   "source": [
    "soup = BeautifulSoup(req.content, \"html.parser\")\n",
    "res = soup.title\n",
    "paras = soup.find_all('p')"
   ]
  },
  {
   "cell_type": "code",
   "execution_count": 4,
   "id": "dbb256b2",
   "metadata": {
    "scrolled": true
   },
   "outputs": [
    {
     "name": "stdout",
     "output_type": "stream",
     "text": [
      "The Financial Crisis of 2008 started as a crisis in the subprime mortgage market (i.e. in a market where lending of loans is done to people who may have difficulty in maintaining the repayment schedule or in simple terms, loans were given out to people without proper checks and low credit scores) which ultimately led onto a huge global collapse. The Financial Crisis of 2008 or Great Recession is considered the worst economic crisis since the Great Depression. In the year 1996, there was a dot-com boom (or otherwise known as the dot com bubble) in the United States, a period of massive growth in the use of the internet because of which the stock market prices started increasing rapidly. However, around the year 2000, it dropped which led people and investors to withdraw their investments from the stock market rapidly. It led to the decline of the price of shares in stock markets and the interest rate plummeted to around 1% very quickly in a short span. Investors were now looking for a brighter option than investing in stock markets. Fig – Rise and fall of the Dot Com Bubble As interest rates went lower and lower, real estate prices started rising and the US Govt also encouraged people to buy houses and properties. The demand for the same started rising rapidly and investors now found a great option to invest in (i.e. in Real Estate). During that same time, Investment Banks saw an opportunity, chimed in and started buying loans from Banks in bulk and clubbed multiple loans under a complex derivative called CDO (Collateralized Debt Obligations) and started providing it to these Investors after getting a credit rating of “AAA” (Very Safe Investment) from the Credit Rating Agencies. Investors naturally fell for it and started buying these CDOs. So now, the risk factor of these loans got transferred from the Banks to the Investment Banks and then again to the CDO Investors. With the high buying demand of CDOs, Investment banks started demanding or pressurizing Banks to provide even more Loans so that they can provide more CDOs to the Investors. However, Banks had already provided loans to people with good credit history and regular income people. But in the hope of getting even more credit from Investment Banks, these same banks then started giving out subprime housing loans to people with low credit scores.Approximately $174Bn worth of loans were given out during the period 2000-2007 and most of them were clubbed as CDOs with a “AAA” rating from the Credit Rating Agencies. Approximately 70% of these CDO’s were marked with a “AAA” rating. Investment Banks and Credit Rating Agencies were now enjoying large profits during this time. Moody’s (a credit rating agency) profits increased 4x times during that period (2000-2007). Looking at the huge profits being made by the Investment Banks and Credit Rating Agencies, Insurance companies (like AIG) now started giving out insurance on these CDOs to the investors and they called it CDS (Credit Default Swap). AIG believed that since the CDOs were rated as “AAA” (Very Safe Investment), the failure chances of these CDOs were very minimal. They misjudged or were unaware of the fact that some of the loans that were clubbed under these CDOs were Sub Prime loans. Now CDO Investors started buying out CDS from AIG and other companies to safeguard and protect them from any losses. AIG then started making huge profits because of the premiums that the investors had to pay. But they never realized the outcome if by any chance the CDOs fail at some point in time. Thus, the risk factor again got transferred from the CDO investors to the Insurance Companies. Fig – Flow Diagram showing how the Risk Factors got transferred Coming to the loan borrowers now, Sub Prime Borrowers from banks were unaware of the fact of Adjustable Rate Loans (interest rate of these loans keeps changing) and thus had to pay lower interests at the start but more interest rates later on. The borrowers started defaulting on these loans when the interest rates increased dramatically around 2007 and thus banks had to then resell those houses to make up for the loans defaulted.  Added to the problem was the fact that borrowers were not spending any amount of money from their pockets while taking loans and banks were providing the full amount of loans. Almost 50% of the borrowers did not pay anything from their own pocket and bought the home only using the housing loan. This led to a huge increase in the defaulters of borrowers and ultimately banks had to auction houses to gain credit back. With the high-interest rates and no one to buy the auctioned houses, this ultimately caused a chain reaction and banks were no longer receiving credit. The prices of Real Estate started falling drastically and people with good credit scores who had earlier taken housing loans also started defaulting because the price of their houses/homes fell below the loan amount that they had taken earlier. Banks stopped receiving money and also because of this chain reaction, the value of CDOs ultimately came down to 0. Some Investors went for huge losses and few Investment companies went bankrupt (ex – Lehman Brothers). Moreover, insurance companies had to pay back those investors who had taken insurance. As a result, some of the insurance companies also went bankrupt. AIG too almost lost about $100Bn in paying back the investors who had earlier insured their CDOs. However, the US Govt. finally decided to bail out AIG in order to save them from going bankrupt. CDOs and CDSs were not regulated during that time by the Federal Reserve and thus this whole situation ultimately led to credit crunch (became very difficult to get loans) and the whole economy of the US underwent a crisis that led to a global impact all around the world. Unemployment increased manifold and many new businesses had to shut down. Global trades all around the world also saw a crisis and finally, Global Recession hit the World.\n"
     ]
    }
   ],
   "source": [
    "texts = \" \".join([paragraph.text.strip() for paragraph in paras])\n",
    "print(texts)"
   ]
  },
  {
   "cell_type": "code",
   "execution_count": 5,
   "id": "e79f5f60",
   "metadata": {},
   "outputs": [
    {
     "data": {
      "text/plain": [
       "5969"
      ]
     },
     "execution_count": 5,
     "metadata": {},
     "output_type": "execute_result"
    }
   ],
   "source": [
    "len(texts)"
   ]
  },
  {
   "cell_type": "markdown",
   "id": "db8f1fcc",
   "metadata": {},
   "source": [
    "Removing Punctuation"
   ]
  },
  {
   "cell_type": "code",
   "execution_count": 6,
   "id": "5285c8a8",
   "metadata": {},
   "outputs": [
    {
     "data": {
      "text/plain": [
       "5969"
      ]
     },
     "execution_count": 6,
     "metadata": {},
     "output_type": "execute_result"
    }
   ],
   "source": [
    "import re\n",
    "import string\n",
    "texts = re.sub(r'[\\'\\“\\”\\()\\%\\,\\-\\'\\’\\?\\ ]', ' ', texts)\n",
    "texts[0:200]\n",
    "len(texts)"
   ]
  },
  {
   "cell_type": "markdown",
   "id": "4fafe7be",
   "metadata": {},
   "source": [
    "# Removing Stopwords"
   ]
  },
  {
   "cell_type": "code",
   "execution_count": 7,
   "id": "089b8663",
   "metadata": {},
   "outputs": [],
   "source": [
    "from nltk.tokenize import word_tokenize"
   ]
  },
  {
   "cell_type": "code",
   "execution_count": 8,
   "id": "280876b0",
   "metadata": {},
   "outputs": [
    {
     "data": {
      "text/plain": [
       "['The',\n",
       " 'Financial',\n",
       " 'Crisis',\n",
       " 'of',\n",
       " '2008',\n",
       " 'started',\n",
       " 'as',\n",
       " 'a',\n",
       " 'crisis',\n",
       " 'in',\n",
       " 'the',\n",
       " 'subprime',\n",
       " 'mortgage',\n",
       " 'market',\n",
       " 'i.e',\n",
       " '.',\n",
       " 'in',\n",
       " 'a',\n",
       " 'market',\n",
       " 'where',\n",
       " 'lending',\n",
       " 'of',\n",
       " 'loans',\n",
       " 'is',\n",
       " 'done',\n",
       " 'to',\n",
       " 'people',\n",
       " 'who',\n",
       " 'may',\n",
       " 'have',\n",
       " 'difficulty',\n",
       " 'in',\n",
       " 'maintaining',\n",
       " 'the',\n",
       " 'repayment',\n",
       " 'schedule',\n",
       " 'or',\n",
       " 'in',\n",
       " 'simple',\n",
       " 'terms',\n",
       " 'loans',\n",
       " 'were',\n",
       " 'given',\n",
       " 'out',\n",
       " 'to',\n",
       " 'people',\n",
       " 'without',\n",
       " 'proper',\n",
       " 'checks',\n",
       " 'and',\n",
       " 'low',\n",
       " 'credit',\n",
       " 'scores',\n",
       " 'which',\n",
       " 'ultimately',\n",
       " 'led',\n",
       " 'onto',\n",
       " 'a',\n",
       " 'huge',\n",
       " 'global',\n",
       " 'collapse',\n",
       " '.',\n",
       " 'The',\n",
       " 'Financial',\n",
       " 'Crisis',\n",
       " 'of',\n",
       " '2008',\n",
       " 'or',\n",
       " 'Great',\n",
       " 'Recession',\n",
       " 'is',\n",
       " 'considered',\n",
       " 'the',\n",
       " 'worst',\n",
       " 'economic',\n",
       " 'crisis',\n",
       " 'since',\n",
       " 'the',\n",
       " 'Great',\n",
       " 'Depression',\n",
       " '.',\n",
       " 'In',\n",
       " 'the',\n",
       " 'year',\n",
       " '1996',\n",
       " 'there',\n",
       " 'was',\n",
       " 'a',\n",
       " 'dot',\n",
       " 'com',\n",
       " 'boom',\n",
       " 'or',\n",
       " 'otherwise',\n",
       " 'known',\n",
       " 'as',\n",
       " 'the',\n",
       " 'dot',\n",
       " 'com',\n",
       " 'bubble',\n",
       " 'in',\n",
       " 'the',\n",
       " 'United',\n",
       " 'States',\n",
       " 'a',\n",
       " 'period',\n",
       " 'of',\n",
       " 'massive',\n",
       " 'growth',\n",
       " 'in',\n",
       " 'the',\n",
       " 'use',\n",
       " 'of',\n",
       " 'the',\n",
       " 'internet',\n",
       " 'because',\n",
       " 'of',\n",
       " 'which',\n",
       " 'the',\n",
       " 'stock',\n",
       " 'market',\n",
       " 'prices',\n",
       " 'started',\n",
       " 'increasing',\n",
       " 'rapidly',\n",
       " '.',\n",
       " 'However',\n",
       " 'around',\n",
       " 'the',\n",
       " 'year',\n",
       " '2000',\n",
       " 'it',\n",
       " 'dropped',\n",
       " 'which',\n",
       " 'led',\n",
       " 'people',\n",
       " 'and',\n",
       " 'investors',\n",
       " 'to',\n",
       " 'withdraw',\n",
       " 'their',\n",
       " 'investments',\n",
       " 'from',\n",
       " 'the',\n",
       " 'stock',\n",
       " 'market',\n",
       " 'rapidly',\n",
       " '.',\n",
       " 'It',\n",
       " 'led',\n",
       " 'to',\n",
       " 'the',\n",
       " 'decline',\n",
       " 'of',\n",
       " 'the',\n",
       " 'price',\n",
       " 'of',\n",
       " 'shares',\n",
       " 'in',\n",
       " 'stock',\n",
       " 'markets',\n",
       " 'and',\n",
       " 'the',\n",
       " 'interest',\n",
       " 'rate',\n",
       " 'plummeted',\n",
       " 'to',\n",
       " 'around',\n",
       " '1',\n",
       " 'very',\n",
       " 'quickly',\n",
       " 'in',\n",
       " 'a',\n",
       " 'short',\n",
       " 'span',\n",
       " '.',\n",
       " 'Investors',\n",
       " 'were',\n",
       " 'now',\n",
       " 'looking',\n",
       " 'for',\n",
       " 'a',\n",
       " 'brighter',\n",
       " 'option',\n",
       " 'than',\n",
       " 'investing',\n",
       " 'in',\n",
       " 'stock',\n",
       " 'markets',\n",
       " '.',\n",
       " 'Fig',\n",
       " '–',\n",
       " 'Rise',\n",
       " 'and',\n",
       " 'fall',\n",
       " 'of',\n",
       " 'the',\n",
       " 'Dot',\n",
       " 'Com',\n",
       " 'Bubble',\n",
       " 'As',\n",
       " 'interest',\n",
       " 'rates',\n",
       " 'went',\n",
       " 'lower',\n",
       " 'and',\n",
       " 'lower',\n",
       " 'real',\n",
       " 'estate',\n",
       " 'prices',\n",
       " 'started',\n",
       " 'rising',\n",
       " 'and',\n",
       " 'the',\n",
       " 'US',\n",
       " 'Govt',\n",
       " 'also',\n",
       " 'encouraged',\n",
       " 'people',\n",
       " 'to',\n",
       " 'buy',\n",
       " 'houses',\n",
       " 'and',\n",
       " 'properties',\n",
       " '.',\n",
       " 'The',\n",
       " 'demand',\n",
       " 'for',\n",
       " 'the',\n",
       " 'same',\n",
       " 'started',\n",
       " 'rising',\n",
       " 'rapidly',\n",
       " 'and',\n",
       " 'investors',\n",
       " 'now',\n",
       " 'found',\n",
       " 'a',\n",
       " 'great',\n",
       " 'option',\n",
       " 'to',\n",
       " 'invest',\n",
       " 'in',\n",
       " 'i.e',\n",
       " '.',\n",
       " 'in',\n",
       " 'Real',\n",
       " 'Estate',\n",
       " '.',\n",
       " 'During',\n",
       " 'that',\n",
       " 'same',\n",
       " 'time',\n",
       " 'Investment',\n",
       " 'Banks',\n",
       " 'saw',\n",
       " 'an',\n",
       " 'opportunity',\n",
       " 'chimed',\n",
       " 'in',\n",
       " 'and',\n",
       " 'started',\n",
       " 'buying',\n",
       " 'loans',\n",
       " 'from',\n",
       " 'Banks',\n",
       " 'in',\n",
       " 'bulk',\n",
       " 'and',\n",
       " 'clubbed',\n",
       " 'multiple',\n",
       " 'loans',\n",
       " 'under',\n",
       " 'a',\n",
       " 'complex',\n",
       " 'derivative',\n",
       " 'called',\n",
       " 'CDO',\n",
       " 'Collateralized',\n",
       " 'Debt',\n",
       " 'Obligations',\n",
       " 'and',\n",
       " 'started',\n",
       " 'providing',\n",
       " 'it',\n",
       " 'to',\n",
       " 'these',\n",
       " 'Investors',\n",
       " 'after',\n",
       " 'getting',\n",
       " 'a',\n",
       " 'credit',\n",
       " 'rating',\n",
       " 'of',\n",
       " 'AAA',\n",
       " 'Very',\n",
       " 'Safe',\n",
       " 'Investment',\n",
       " 'from',\n",
       " 'the',\n",
       " 'Credit',\n",
       " 'Rating',\n",
       " 'Agencies',\n",
       " '.',\n",
       " 'Investors',\n",
       " 'naturally',\n",
       " 'fell',\n",
       " 'for',\n",
       " 'it',\n",
       " 'and',\n",
       " 'started',\n",
       " 'buying',\n",
       " 'these',\n",
       " 'CDOs',\n",
       " '.',\n",
       " 'So',\n",
       " 'now',\n",
       " 'the',\n",
       " 'risk',\n",
       " 'factor',\n",
       " 'of',\n",
       " 'these',\n",
       " 'loans',\n",
       " 'got',\n",
       " 'transferred',\n",
       " 'from',\n",
       " 'the',\n",
       " 'Banks',\n",
       " 'to',\n",
       " 'the',\n",
       " 'Investment',\n",
       " 'Banks',\n",
       " 'and',\n",
       " 'then',\n",
       " 'again',\n",
       " 'to',\n",
       " 'the',\n",
       " 'CDO',\n",
       " 'Investors',\n",
       " '.',\n",
       " 'With',\n",
       " 'the',\n",
       " 'high',\n",
       " 'buying',\n",
       " 'demand',\n",
       " 'of',\n",
       " 'CDOs',\n",
       " 'Investment',\n",
       " 'banks',\n",
       " 'started',\n",
       " 'demanding',\n",
       " 'or',\n",
       " 'pressurizing',\n",
       " 'Banks',\n",
       " 'to',\n",
       " 'provide',\n",
       " 'even',\n",
       " 'more',\n",
       " 'Loans',\n",
       " 'so',\n",
       " 'that',\n",
       " 'they',\n",
       " 'can',\n",
       " 'provide',\n",
       " 'more',\n",
       " 'CDOs',\n",
       " 'to',\n",
       " 'the',\n",
       " 'Investors',\n",
       " '.',\n",
       " 'However',\n",
       " 'Banks',\n",
       " 'had',\n",
       " 'already',\n",
       " 'provided',\n",
       " 'loans',\n",
       " 'to',\n",
       " 'people',\n",
       " 'with',\n",
       " 'good',\n",
       " 'credit',\n",
       " 'history',\n",
       " 'and',\n",
       " 'regular',\n",
       " 'income',\n",
       " 'people',\n",
       " '.',\n",
       " 'But',\n",
       " 'in',\n",
       " 'the',\n",
       " 'hope',\n",
       " 'of',\n",
       " 'getting',\n",
       " 'even',\n",
       " 'more',\n",
       " 'credit',\n",
       " 'from',\n",
       " 'Investment',\n",
       " 'Banks',\n",
       " 'these',\n",
       " 'same',\n",
       " 'banks',\n",
       " 'then',\n",
       " 'started',\n",
       " 'giving',\n",
       " 'out',\n",
       " 'subprime',\n",
       " 'housing',\n",
       " 'loans',\n",
       " 'to',\n",
       " 'people',\n",
       " 'with',\n",
       " 'low',\n",
       " 'credit',\n",
       " 'scores.Approximately',\n",
       " '$',\n",
       " '174Bn',\n",
       " 'worth',\n",
       " 'of',\n",
       " 'loans',\n",
       " 'were',\n",
       " 'given',\n",
       " 'out',\n",
       " 'during',\n",
       " 'the',\n",
       " 'period',\n",
       " '2000',\n",
       " '2007',\n",
       " 'and',\n",
       " 'most',\n",
       " 'of',\n",
       " 'them',\n",
       " 'were',\n",
       " 'clubbed',\n",
       " 'as',\n",
       " 'CDOs',\n",
       " 'with',\n",
       " 'a',\n",
       " 'AAA',\n",
       " 'rating',\n",
       " 'from',\n",
       " 'the',\n",
       " 'Credit',\n",
       " 'Rating',\n",
       " 'Agencies',\n",
       " '.',\n",
       " 'Approximately',\n",
       " '70',\n",
       " 'of',\n",
       " 'these',\n",
       " 'CDO',\n",
       " 's',\n",
       " 'were',\n",
       " 'marked',\n",
       " 'with',\n",
       " 'a',\n",
       " 'AAA',\n",
       " 'rating',\n",
       " '.',\n",
       " 'Investment',\n",
       " 'Banks',\n",
       " 'and',\n",
       " 'Credit',\n",
       " 'Rating',\n",
       " 'Agencies',\n",
       " 'were',\n",
       " 'now',\n",
       " 'enjoying',\n",
       " 'large',\n",
       " 'profits',\n",
       " 'during',\n",
       " 'this',\n",
       " 'time',\n",
       " '.',\n",
       " 'Moody',\n",
       " 's',\n",
       " 'a',\n",
       " 'credit',\n",
       " 'rating',\n",
       " 'agency',\n",
       " 'profits',\n",
       " 'increased',\n",
       " '4x',\n",
       " 'times',\n",
       " 'during',\n",
       " 'that',\n",
       " 'period',\n",
       " '2000',\n",
       " '2007',\n",
       " '.',\n",
       " 'Looking',\n",
       " 'at',\n",
       " 'the',\n",
       " 'huge',\n",
       " 'profits',\n",
       " 'being',\n",
       " 'made',\n",
       " 'by',\n",
       " 'the',\n",
       " 'Investment',\n",
       " 'Banks',\n",
       " 'and',\n",
       " 'Credit',\n",
       " 'Rating',\n",
       " 'Agencies',\n",
       " 'Insurance',\n",
       " 'companies',\n",
       " 'like',\n",
       " 'AIG',\n",
       " 'now',\n",
       " 'started',\n",
       " 'giving',\n",
       " 'out',\n",
       " 'insurance',\n",
       " 'on',\n",
       " 'these',\n",
       " 'CDOs',\n",
       " 'to',\n",
       " 'the',\n",
       " 'investors',\n",
       " 'and',\n",
       " 'they',\n",
       " 'called',\n",
       " 'it',\n",
       " 'CDS',\n",
       " 'Credit',\n",
       " 'Default',\n",
       " 'Swap',\n",
       " '.',\n",
       " 'AIG',\n",
       " 'believed',\n",
       " 'that',\n",
       " 'since',\n",
       " 'the',\n",
       " 'CDOs',\n",
       " 'were',\n",
       " 'rated',\n",
       " 'as',\n",
       " 'AAA',\n",
       " 'Very',\n",
       " 'Safe',\n",
       " 'Investment',\n",
       " 'the',\n",
       " 'failure',\n",
       " 'chances',\n",
       " 'of',\n",
       " 'these',\n",
       " 'CDOs',\n",
       " 'were',\n",
       " 'very',\n",
       " 'minimal',\n",
       " '.',\n",
       " 'They',\n",
       " 'misjudged',\n",
       " 'or',\n",
       " 'were',\n",
       " 'unaware',\n",
       " 'of',\n",
       " 'the',\n",
       " 'fact',\n",
       " 'that',\n",
       " 'some',\n",
       " 'of',\n",
       " 'the',\n",
       " 'loans',\n",
       " 'that',\n",
       " 'were',\n",
       " 'clubbed',\n",
       " 'under',\n",
       " 'these',\n",
       " 'CDOs',\n",
       " 'were',\n",
       " 'Sub',\n",
       " 'Prime',\n",
       " 'loans',\n",
       " '.',\n",
       " 'Now',\n",
       " 'CDO',\n",
       " 'Investors',\n",
       " 'started',\n",
       " 'buying',\n",
       " 'out',\n",
       " 'CDS',\n",
       " 'from',\n",
       " 'AIG',\n",
       " 'and',\n",
       " 'other',\n",
       " 'companies',\n",
       " 'to',\n",
       " 'safeguard',\n",
       " 'and',\n",
       " 'protect',\n",
       " 'them',\n",
       " 'from',\n",
       " 'any',\n",
       " 'losses',\n",
       " '.',\n",
       " 'AIG',\n",
       " 'then',\n",
       " 'started',\n",
       " 'making',\n",
       " 'huge',\n",
       " 'profits',\n",
       " 'because',\n",
       " 'of',\n",
       " 'the',\n",
       " 'premiums',\n",
       " 'that',\n",
       " 'the',\n",
       " 'investors',\n",
       " 'had',\n",
       " 'to',\n",
       " 'pay',\n",
       " '.',\n",
       " 'But',\n",
       " 'they',\n",
       " 'never',\n",
       " 'realized',\n",
       " 'the',\n",
       " 'outcome',\n",
       " 'if',\n",
       " 'by',\n",
       " 'any',\n",
       " 'chance',\n",
       " 'the',\n",
       " 'CDOs',\n",
       " 'fail',\n",
       " 'at',\n",
       " 'some',\n",
       " 'point',\n",
       " 'in',\n",
       " 'time',\n",
       " '.',\n",
       " 'Thus',\n",
       " 'the',\n",
       " 'risk',\n",
       " 'factor',\n",
       " 'again',\n",
       " 'got',\n",
       " 'transferred',\n",
       " 'from',\n",
       " 'the',\n",
       " 'CDO',\n",
       " 'investors',\n",
       " 'to',\n",
       " 'the',\n",
       " 'Insurance',\n",
       " 'Companies',\n",
       " '.',\n",
       " 'Fig',\n",
       " '–',\n",
       " 'Flow',\n",
       " 'Diagram',\n",
       " 'showing',\n",
       " 'how',\n",
       " 'the',\n",
       " 'Risk',\n",
       " 'Factors',\n",
       " 'got',\n",
       " 'transferred',\n",
       " 'Coming',\n",
       " 'to',\n",
       " 'the',\n",
       " 'loan',\n",
       " 'borrowers',\n",
       " 'now',\n",
       " 'Sub',\n",
       " 'Prime',\n",
       " 'Borrowers',\n",
       " 'from',\n",
       " 'banks',\n",
       " 'were',\n",
       " 'unaware',\n",
       " 'of',\n",
       " 'the',\n",
       " 'fact',\n",
       " 'of',\n",
       " 'Adjustable',\n",
       " 'Rate',\n",
       " 'Loans',\n",
       " 'interest',\n",
       " 'rate',\n",
       " 'of',\n",
       " 'these',\n",
       " 'loans',\n",
       " 'keeps',\n",
       " 'changing',\n",
       " 'and',\n",
       " 'thus',\n",
       " 'had',\n",
       " 'to',\n",
       " 'pay',\n",
       " 'lower',\n",
       " 'interests',\n",
       " 'at',\n",
       " 'the',\n",
       " 'start',\n",
       " 'but',\n",
       " 'more',\n",
       " 'interest',\n",
       " 'rates',\n",
       " 'later',\n",
       " 'on',\n",
       " '.',\n",
       " 'The',\n",
       " 'borrowers',\n",
       " 'started',\n",
       " 'defaulting',\n",
       " 'on',\n",
       " 'these',\n",
       " 'loans',\n",
       " 'when',\n",
       " 'the',\n",
       " 'interest',\n",
       " 'rates',\n",
       " 'increased',\n",
       " 'dramatically',\n",
       " 'around',\n",
       " '2007',\n",
       " 'and',\n",
       " 'thus',\n",
       " 'banks',\n",
       " 'had',\n",
       " 'to',\n",
       " 'then',\n",
       " 'resell',\n",
       " 'those',\n",
       " 'houses',\n",
       " 'to',\n",
       " 'make',\n",
       " 'up',\n",
       " 'for',\n",
       " 'the',\n",
       " 'loans',\n",
       " 'defaulted',\n",
       " '.',\n",
       " 'Added',\n",
       " 'to',\n",
       " 'the',\n",
       " 'problem',\n",
       " 'was',\n",
       " 'the',\n",
       " 'fact',\n",
       " 'that',\n",
       " 'borrowers',\n",
       " 'were',\n",
       " 'not',\n",
       " 'spending',\n",
       " 'any',\n",
       " 'amount',\n",
       " 'of',\n",
       " 'money',\n",
       " 'from',\n",
       " 'their',\n",
       " 'pockets',\n",
       " 'while',\n",
       " 'taking',\n",
       " 'loans',\n",
       " 'and',\n",
       " 'banks',\n",
       " 'were',\n",
       " 'providing',\n",
       " 'the',\n",
       " 'full',\n",
       " 'amount',\n",
       " 'of',\n",
       " 'loans',\n",
       " '.',\n",
       " 'Almost',\n",
       " '50',\n",
       " 'of',\n",
       " 'the',\n",
       " 'borrowers',\n",
       " 'did',\n",
       " 'not',\n",
       " 'pay',\n",
       " 'anything',\n",
       " 'from',\n",
       " 'their',\n",
       " 'own',\n",
       " 'pocket',\n",
       " 'and',\n",
       " 'bought',\n",
       " 'the',\n",
       " 'home',\n",
       " 'only',\n",
       " 'using',\n",
       " 'the',\n",
       " 'housing',\n",
       " 'loan',\n",
       " '.',\n",
       " 'This',\n",
       " 'led',\n",
       " 'to',\n",
       " 'a',\n",
       " 'huge',\n",
       " 'increase',\n",
       " 'in',\n",
       " 'the',\n",
       " 'defaulters',\n",
       " 'of',\n",
       " 'borrowers',\n",
       " 'and',\n",
       " 'ultimately',\n",
       " 'banks',\n",
       " 'had',\n",
       " 'to',\n",
       " 'auction',\n",
       " 'houses',\n",
       " 'to',\n",
       " 'gain',\n",
       " 'credit',\n",
       " 'back',\n",
       " '.',\n",
       " 'With',\n",
       " 'the',\n",
       " 'high',\n",
       " 'interest',\n",
       " 'rates',\n",
       " 'and',\n",
       " 'no',\n",
       " 'one',\n",
       " 'to',\n",
       " 'buy',\n",
       " 'the',\n",
       " 'auctioned',\n",
       " 'houses',\n",
       " 'this',\n",
       " 'ultimately',\n",
       " 'caused',\n",
       " 'a',\n",
       " 'chain',\n",
       " 'reaction',\n",
       " 'and',\n",
       " 'banks',\n",
       " 'were',\n",
       " 'no',\n",
       " 'longer',\n",
       " 'receiving',\n",
       " 'credit',\n",
       " '.',\n",
       " 'The',\n",
       " 'prices',\n",
       " 'of',\n",
       " 'Real',\n",
       " 'Estate',\n",
       " 'started',\n",
       " 'falling',\n",
       " 'drastically',\n",
       " 'and',\n",
       " 'people',\n",
       " 'with',\n",
       " 'good',\n",
       " 'credit',\n",
       " 'scores',\n",
       " 'who',\n",
       " 'had',\n",
       " 'earlier',\n",
       " 'taken',\n",
       " 'housing',\n",
       " 'loans',\n",
       " 'also',\n",
       " 'started',\n",
       " 'defaulting',\n",
       " 'because',\n",
       " 'the',\n",
       " 'price',\n",
       " 'of',\n",
       " 'their',\n",
       " 'houses/homes',\n",
       " 'fell',\n",
       " 'below',\n",
       " 'the',\n",
       " 'loan',\n",
       " 'amount',\n",
       " 'that',\n",
       " 'they',\n",
       " 'had',\n",
       " 'taken',\n",
       " 'earlier',\n",
       " '.',\n",
       " 'Banks',\n",
       " 'stopped',\n",
       " 'receiving',\n",
       " 'money',\n",
       " 'and',\n",
       " 'also',\n",
       " 'because',\n",
       " 'of',\n",
       " 'this',\n",
       " 'chain',\n",
       " 'reaction',\n",
       " 'the',\n",
       " 'value',\n",
       " 'of',\n",
       " 'CDOs',\n",
       " 'ultimately',\n",
       " 'came',\n",
       " 'down',\n",
       " 'to',\n",
       " '0',\n",
       " '.',\n",
       " 'Some',\n",
       " 'Investors',\n",
       " 'went',\n",
       " 'for',\n",
       " 'huge',\n",
       " 'losses',\n",
       " 'and',\n",
       " 'few',\n",
       " 'Investment',\n",
       " 'companies',\n",
       " 'went',\n",
       " 'bankrupt',\n",
       " 'ex',\n",
       " '–',\n",
       " 'Lehman',\n",
       " 'Brothers',\n",
       " '.',\n",
       " 'Moreover',\n",
       " 'insurance',\n",
       " 'companies',\n",
       " 'had',\n",
       " 'to',\n",
       " 'pay',\n",
       " 'back',\n",
       " 'those',\n",
       " 'investors',\n",
       " 'who',\n",
       " 'had',\n",
       " 'taken',\n",
       " 'insurance',\n",
       " '.',\n",
       " 'As',\n",
       " 'a',\n",
       " 'result',\n",
       " 'some',\n",
       " 'of',\n",
       " 'the',\n",
       " 'insurance',\n",
       " 'companies',\n",
       " 'also',\n",
       " 'went',\n",
       " 'bankrupt',\n",
       " '.',\n",
       " 'AIG',\n",
       " 'too',\n",
       " 'almost',\n",
       " 'lost',\n",
       " 'about',\n",
       " '$',\n",
       " '100Bn',\n",
       " 'in',\n",
       " 'paying',\n",
       " 'back',\n",
       " 'the',\n",
       " 'investors',\n",
       " 'who',\n",
       " 'had',\n",
       " 'earlier',\n",
       " 'insured',\n",
       " 'their',\n",
       " 'CDOs',\n",
       " '.',\n",
       " 'However',\n",
       " 'the',\n",
       " 'US',\n",
       " 'Govt',\n",
       " '.',\n",
       " 'finally',\n",
       " 'decided',\n",
       " 'to',\n",
       " 'bail',\n",
       " 'out',\n",
       " 'AIG',\n",
       " 'in',\n",
       " 'order',\n",
       " 'to',\n",
       " 'save',\n",
       " 'them',\n",
       " 'from',\n",
       " 'going',\n",
       " 'bankrupt',\n",
       " '.',\n",
       " 'CDOs',\n",
       " 'and',\n",
       " 'CDSs',\n",
       " 'were',\n",
       " 'not',\n",
       " 'regulated',\n",
       " 'during',\n",
       " 'that',\n",
       " 'time',\n",
       " 'by',\n",
       " 'the',\n",
       " 'Federal',\n",
       " 'Reserve',\n",
       " 'and',\n",
       " 'thus',\n",
       " 'this',\n",
       " 'whole',\n",
       " ...]"
      ]
     },
     "execution_count": 8,
     "metadata": {},
     "output_type": "execute_result"
    }
   ],
   "source": [
    "token = word_tokenize(texts)\n",
    "token"
   ]
  },
  {
   "cell_type": "code",
   "execution_count": 9,
   "id": "10016a09",
   "metadata": {},
   "outputs": [],
   "source": [
    "with open(\"D:\\lab\\Dataset\\Stopwords_Blackcoffer.txt\", 'r') as file:\n",
    "    data = file.read()"
   ]
  },
  {
   "cell_type": "code",
   "execution_count": 10,
   "id": "c567cbef",
   "metadata": {},
   "outputs": [
    {
     "data": {
      "text/plain": [
       "'ERNST\\nYOUNG\\nDELOITTE\\nTOUCHE\\nKPMG\\nPRICEWATERHOUSECOOPERS\\nPRICEWATERHOUSE\\nCOOPERS\\nAFGHANI\\nARIARY\\nBAHT\\n'"
      ]
     },
     "execution_count": 10,
     "metadata": {},
     "output_type": "execute_result"
    }
   ],
   "source": [
    "data[:100]"
   ]
  },
  {
   "cell_type": "code",
   "execution_count": 11,
   "id": "d65bfa92",
   "metadata": {},
   "outputs": [
    {
     "data": {
      "text/plain": [
       "'ERNST,YOUNG,DELOITTE,TOUCHE,KPMG,PRICEWATERHOUSECOOPERS,PRICEWATERHOUSE,COOPERS,AFGHANI,ARIARY,BAHT,'"
      ]
     },
     "execution_count": 11,
     "metadata": {},
     "output_type": "execute_result"
    }
   ],
   "source": [
    "data = data.replace('\\n', ',')\n",
    "data[:100]"
   ]
  },
  {
   "cell_type": "code",
   "execution_count": 12,
   "id": "0ef23874",
   "metadata": {},
   "outputs": [
    {
     "data": {
      "text/plain": [
       "'The Financial Crisis 2008 started crisis subprime mortgage market i.e . market lending loans people difficulty maintaining repayment schedule simple terms loans people proper checks credit scores ulti'"
      ]
     },
     "execution_count": 12,
     "metadata": {},
     "output_type": "execute_result"
    }
   ],
   "source": [
    "new_texts = \" \".join([i for i in token if i not in data])\n",
    "new_texts[:200]"
   ]
  },
  {
   "cell_type": "code",
   "execution_count": 13,
   "id": "ea392da4",
   "metadata": {},
   "outputs": [
    {
     "name": "stdout",
     "output_type": "stream",
     "text": [
      "length before cleaning:  5969\n",
      "length after cleaning:  3867\n"
     ]
    }
   ],
   "source": [
    "print(\"length before cleaning: \", len(texts))\n",
    "print(\"length after cleaning: \", len(new_texts))"
   ]
  },
  {
   "cell_type": "markdown",
   "id": "1f456147",
   "metadata": {},
   "source": [
    "# Negative words"
   ]
  },
  {
   "cell_type": "code",
   "execution_count": 14,
   "id": "dc3618a7",
   "metadata": {},
   "outputs": [],
   "source": [
    "with open(\"D:\\\\lab\\\\Dataset\\\\Negative_words.txt\", 'r') as file:\n",
    "    negative = file.read()"
   ]
  },
  {
   "cell_type": "code",
   "execution_count": 15,
   "id": "2123c4cb",
   "metadata": {},
   "outputs": [
    {
     "data": {
      "text/plain": [
       "'2-faced\\n2-faces\\nabnormal\\nabolish\\nabominable\\nabominably\\nabominate\\nabomination\\nabort\\naborted\\naborts\\nabrade\\nabrasive\\nabrupt\\nabruptly\\nabscond\\nabsence\\nabsent-minded\\nabsentee\\nabsurd\\nabsurdity\\nabsurdly\\nabsurdness\\n'"
      ]
     },
     "execution_count": 15,
     "metadata": {},
     "output_type": "execute_result"
    }
   ],
   "source": [
    "negative[:206]"
   ]
  },
  {
   "cell_type": "code",
   "execution_count": 16,
   "id": "28f44c97",
   "metadata": {},
   "outputs": [
    {
     "data": {
      "text/plain": [
       "'2-faced,2-faces,abnormal,abolish,abominable,abominably,abominate,abomination,abort,aborted,aborts,abrade,abrasive,abrupt,abruptly,abscond,absence,absent-minded,absentee,absurd,absurdity,absurdly,absurdness,'"
      ]
     },
     "execution_count": 16,
     "metadata": {},
     "output_type": "execute_result"
    }
   ],
   "source": [
    "negative = negative.replace('\\n', ',')\n",
    "negative[:206]"
   ]
  },
  {
   "cell_type": "code",
   "execution_count": 17,
   "id": "31a272c0",
   "metadata": {},
   "outputs": [
    {
     "name": "stdout",
     "output_type": "stream",
     "text": [
      "['crisis', 'difficulty', 'proper', 'credit', 'led', 'collapse', 'worst', 'economic', 'crisis', 'stock', 'led', 'stock', 'led', 'decline', 'price', 'stock', 'interest', 'rate', 'short', 'span', 'stock', 'fall', 'interest', 'rates', 'lower', 'lower', 'rising', 'rising', 'found', 'bulk', 'complex', 'credit', 'rating', 'naturally', 'fell', 'risk', 'factor', 'high', 'credit', 'regular', 'credit', 'giving', 'credit', 'worth', 'rating', 'rating', 'credit', 'rating', 'giving', 'rated', 'failure', 'fact', 'losses', 'pay', 'fail', 'point', 'risk', 'factor', 'fact', 'interest', 'rate', 'pay', 'lower', 'start', 'interest', 'rates', 'interest', 'rates', 'dramatically', 'make', 'problem', 'fact', 'pay', 'led', 'credit', 'back', 'high', 'interest', 'rates', 'reaction', 'credit', 'falling', 'drastically', 'credit', 'price', 'fell', 'reaction', 'losses', 'bankrupt', 'pay', 'back', 'bankrupt', 'lost', 'back', 'insured', 'decided', 'order', 'bankrupt', 'led', 'credit', 'difficult', 'crisis', 'led', 'crisis']\n"
     ]
    },
    {
     "data": {
      "text/plain": [
       "104"
      ]
     },
     "execution_count": 17,
     "metadata": {},
     "output_type": "execute_result"
    }
   ],
   "source": [
    "new_texts = word_tokenize(new_texts)\n",
    "negative_words = [i for i in new_texts if i in negative]\n",
    "print(negative_words)\n",
    "len(negative_words)"
   ]
  },
  {
   "cell_type": "markdown",
   "id": "0b24f011",
   "metadata": {},
   "source": [
    "# Positive words"
   ]
  },
  {
   "cell_type": "code",
   "execution_count": 18,
   "id": "4b003620",
   "metadata": {},
   "outputs": [
    {
     "data": {
      "text/plain": [
       "'a+\\nabound\\nabounds\\nabundance\\nabundant\\naccessable\\naccessible\\nacclaim\\nacclaimed\\nacclamation\\naccolade\\naccolades\\naccommodative\\naccomodative\\naccomplish\\naccomplished\\naccomplishment\\naccomplishments\\naccurate\\naccurately\\n'"
      ]
     },
     "execution_count": 18,
     "metadata": {},
     "output_type": "execute_result"
    }
   ],
   "source": [
    "with open(\"D:\\\\lab\\\\Dataset\\\\Positive_words.txt\", 'r') as file:\n",
    "    positive = file.read()\n",
    "positive[:210]    "
   ]
  },
  {
   "cell_type": "code",
   "execution_count": 19,
   "id": "66ed38c6",
   "metadata": {},
   "outputs": [
    {
     "data": {
      "text/plain": [
       "'a+,abound,abounds,abundance,abundant,accessable,accessible,acclaim,acclaimed,acclamation,accolade,accolades,accommodative,accomodative,accomplish,accomplished,accomplishment,accomplishments,accurate,accurately,'"
      ]
     },
     "execution_count": 19,
     "metadata": {},
     "output_type": "execute_result"
    }
   ],
   "source": [
    "positive = positive.replace('\\n',',')\n",
    "positive[:210]"
   ]
  },
  {
   "cell_type": "code",
   "execution_count": 20,
   "id": "fc1387e8",
   "metadata": {},
   "outputs": [
    {
     "name": "stdout",
     "output_type": "stream",
     "text": [
      "['simple', 'proper', 'led', 'economic', 'dot', 'boom', 'dot', 'led', 'led', 'price', 'interest', 'rate', 'brighter', 'fall', 'interest', 'lower', 'lower', 'rising', 'rising', 'found', 'great', 'rating', 'risk', 'factor', 'high', 'good', 'worth', 'rating', 'rating', 'enjoying', 'large', 'rating', 'made', 'rated', 'fact', 'protect', 'risk', 'factor', 'fact', 'interest', 'rate', 'lower', 'interests', 'interest', 'interest', 'problem', 'fact', 'amount', 'taking', 'amount', 'led', 'back', 'high', 'interest', 'good', 'price', 'amount', 'back', 'back', 'order', 'save', 'led', 'led', 'world', 'world']\n"
     ]
    },
    {
     "data": {
      "text/plain": [
       "65"
      ]
     },
     "execution_count": 20,
     "metadata": {},
     "output_type": "execute_result"
    }
   ],
   "source": [
    "positive_words = [i for i in new_texts if i in positive]\n",
    "print(positive_words)\n",
    "len(positive_words)"
   ]
  },
  {
   "cell_type": "markdown",
   "id": "1b59646d",
   "metadata": {},
   "source": [
    "#### positive Score\n"
   ]
  },
  {
   "cell_type": "code",
   "execution_count": 21,
   "id": "7d0fbab1",
   "metadata": {},
   "outputs": [
    {
     "name": "stdout",
     "output_type": "stream",
     "text": [
      "65\n"
     ]
    }
   ],
   "source": [
    "pos_score = len(positive_words)\n",
    "print(pos_score)"
   ]
  },
  {
   "cell_type": "markdown",
   "id": "54a6cc12",
   "metadata": {},
   "source": [
    "#### Negative Score"
   ]
  },
  {
   "cell_type": "code",
   "execution_count": 22,
   "id": "df0766cd",
   "metadata": {},
   "outputs": [
    {
     "name": "stdout",
     "output_type": "stream",
     "text": [
      "104\n"
     ]
    }
   ],
   "source": [
    "neg_score=len(negative_words)\n",
    "print(neg_score)"
   ]
  },
  {
   "cell_type": "markdown",
   "id": "84da7ab7",
   "metadata": {},
   "source": [
    "#### Polarity Score"
   ]
  },
  {
   "cell_type": "code",
   "execution_count": 23,
   "id": "21e88c2b",
   "metadata": {},
   "outputs": [
    {
     "data": {
      "text/plain": [
       "-0.23"
      ]
     },
     "execution_count": 23,
     "metadata": {},
     "output_type": "execute_result"
    }
   ],
   "source": [
    "Polarity_Score = (pos_score - neg_score)/((pos_score + neg_score) + 0.000001)\n",
    "round(Polarity_Score,2)"
   ]
  },
  {
   "cell_type": "code",
   "execution_count": 24,
   "id": "08bcb4ab",
   "metadata": {},
   "outputs": [
    {
     "name": "stdout",
     "output_type": "stream",
     "text": [
      "number of words after cleaning : 574\n"
     ]
    }
   ],
   "source": [
    "word_count = len(new_texts)\n",
    "print(\"number of words after cleaning :\",word_count)"
   ]
  },
  {
   "cell_type": "markdown",
   "id": "16495ba1",
   "metadata": {},
   "source": [
    "#### Subjectivity Score"
   ]
  },
  {
   "cell_type": "code",
   "execution_count": 25,
   "id": "841713a3",
   "metadata": {},
   "outputs": [
    {
     "data": {
      "text/plain": [
       "0.29"
      ]
     },
     "execution_count": 25,
     "metadata": {},
     "output_type": "execute_result"
    }
   ],
   "source": [
    "Subjectivity_Score = (pos_score + neg_score)/ ((word_count) + 0.000001)\n",
    "round(Subjectivity_Score,2)"
   ]
  },
  {
   "cell_type": "markdown",
   "id": "0d7c370e",
   "metadata": {},
   "source": [
    "# Analysis of Readability"
   ]
  },
  {
   "cell_type": "code",
   "execution_count": 26,
   "id": "10209a7a",
   "metadata": {},
   "outputs": [
    {
     "data": {
      "text/plain": [
       "1063"
      ]
     },
     "execution_count": 26,
     "metadata": {},
     "output_type": "execute_result"
    }
   ],
   "source": [
    "import nltk\n",
    "from nltk.tokenize import word_tokenize\n",
    "word_tokens = nltk.word_tokenize(texts)\n",
    "No_of_words = len(word_tokens)\n",
    "No_of_words"
   ]
  },
  {
   "cell_type": "code",
   "execution_count": 27,
   "id": "bfac2ab7",
   "metadata": {},
   "outputs": [
    {
     "data": {
      "text/plain": [
       "43"
      ]
     },
     "execution_count": 27,
     "metadata": {},
     "output_type": "execute_result"
    }
   ],
   "source": [
    "sent_tokens = nltk.sent_tokenize(texts)\n",
    "No_of_sents = len(sent_tokens)\n",
    "No_of_sents "
   ]
  },
  {
   "cell_type": "markdown",
   "id": "1576acfe",
   "metadata": {},
   "source": [
    "### Average sentence Length\n"
   ]
  },
  {
   "cell_type": "code",
   "execution_count": 28,
   "id": "11d6a7ec",
   "metadata": {},
   "outputs": [
    {
     "data": {
      "text/plain": [
       "24.72"
      ]
     },
     "execution_count": 28,
     "metadata": {},
     "output_type": "execute_result"
    }
   ],
   "source": [
    "Avg_Sents_Length = No_of_words / No_of_sents\n",
    "round(Avg_Sents_Length,2)"
   ]
  },
  {
   "cell_type": "markdown",
   "id": "bc20ee3d",
   "metadata": {},
   "source": [
    "### Percentage of Complex words\n",
    "Complex words: words with more than 2 syllable are called complex words"
   ]
  },
  {
   "cell_type": "code",
   "execution_count": 29,
   "id": "eba6a8b1",
   "metadata": {},
   "outputs": [
    {
     "name": "stdout",
     "output_type": "stream",
     "text": [
      "Number of complex words: 87\n",
      "Total number of words: 5969\n"
     ]
    }
   ],
   "source": [
    "from nltk.corpus import cmudict\n",
    "cmud = cmudict.dict()\n",
    "\n",
    "# Defining a function to count syllables in a word\n",
    "def count_syllables(word):\n",
    "    phonemes = cmud[word.lower()][0] \n",
    "    return len([s for s in phonemes if s[-1].isdigit()])\n",
    "\n",
    "# Identifing complex words\n",
    "w_tokens = [i for i in word_tokens if i in cmud]\n",
    "complex_words = [word for word in w_tokens if count_syllables(word) > 2]\n",
    "\n",
    "# Calculatingnumber of complex words\n",
    "num_complex_words = len(complex_words)\n",
    "\n",
    "print(\"Number of complex words:\", num_complex_words)\n",
    "print(\"Total number of words:\", len(texts))"
   ]
  },
  {
   "cell_type": "code",
   "execution_count": 30,
   "id": "e982c0a1",
   "metadata": {},
   "outputs": [
    {
     "data": {
      "text/plain": [
       "68.61"
      ]
     },
     "execution_count": 30,
     "metadata": {},
     "output_type": "execute_result"
    }
   ],
   "source": [
    "Perc_of_Complex_words = len(texts) / num_complex_words\n",
    "round(Perc_of_Complex_words,2)"
   ]
  },
  {
   "cell_type": "markdown",
   "id": "77e948d1",
   "metadata": {},
   "source": [
    "### Fog Index"
   ]
  },
  {
   "cell_type": "code",
   "execution_count": 31,
   "id": "95fb10bb",
   "metadata": {},
   "outputs": [
    {
     "name": "stdout",
     "output_type": "stream",
     "text": [
      "Average sentence length: 43.0\n"
     ]
    }
   ],
   "source": [
    "# Tokenize each sentence into words\n",
    "words = [word_tokens for sentence in sent_tokens]\n",
    "\n",
    "# Calculate the average sentence length\n",
    "avg_sent_len = sum(No_of_sents for sentence in words) / No_of_sents\n",
    "\n",
    "print(\"Average sentence length:\", avg_sent_len)\n"
   ]
  },
  {
   "cell_type": "code",
   "execution_count": 32,
   "id": "38f5a93b",
   "metadata": {},
   "outputs": [
    {
     "data": {
      "text/plain": [
       "44.64"
      ]
     },
     "execution_count": 32,
     "metadata": {},
     "output_type": "execute_result"
    }
   ],
   "source": [
    "Fog_index = 0.4 * (avg_sent_len + Perc_of_Complex_words)\n",
    "round(Fog_index,2)"
   ]
  },
  {
   "cell_type": "markdown",
   "id": "5b4aacea",
   "metadata": {},
   "source": [
    "# Average Number of Words Per Sentence"
   ]
  },
  {
   "cell_type": "code",
   "execution_count": 33,
   "id": "45da1407",
   "metadata": {},
   "outputs": [
    {
     "data": {
      "text/plain": [
       "24.72"
      ]
     },
     "execution_count": 33,
     "metadata": {},
     "output_type": "execute_result"
    }
   ],
   "source": [
    "avg_no_of_words_per_sent = No_of_words / No_of_sents\n",
    "round(avg_no_of_words_per_sent,2)"
   ]
  },
  {
   "cell_type": "markdown",
   "id": "f2d9b493",
   "metadata": {},
   "source": [
    "# Complex Word Count"
   ]
  },
  {
   "cell_type": "code",
   "execution_count": 34,
   "id": "75304424",
   "metadata": {},
   "outputs": [
    {
     "name": "stdout",
     "output_type": "stream",
     "text": [
      "complex word count: 87\n"
     ]
    }
   ],
   "source": [
    "from nltk.corpus import cmudict\n",
    "cmud = cmudict.dict()\n",
    "\n",
    "# Defining a function to count syllables in a word\n",
    "def count_syllables(word):\n",
    "    phonemes = cmud[word.lower()][0] \n",
    "    return len([s for s in phonemes if s[-1].isdigit()])\n",
    "\n",
    "# Identifing complex words\n",
    "w_tokens = [i for i in word_tokens if i in cmud]\n",
    "complex_words = [word for word in w_tokens if count_syllables(word) > 2]\n",
    "\n",
    "# Calculatingnumber of complex words\n",
    "num_complex_words = len(complex_words)\n",
    "\n",
    "print(\"complex word count:\", num_complex_words)"
   ]
  },
  {
   "cell_type": "markdown",
   "id": "99ea5188",
   "metadata": {},
   "source": [
    "# Word Count\n",
    "number of words after cleaning"
   ]
  },
  {
   "cell_type": "code",
   "execution_count": 35,
   "id": "b4fb0c72",
   "metadata": {},
   "outputs": [
    {
     "data": {
      "text/plain": [
       "574"
      ]
     },
     "execution_count": 35,
     "metadata": {},
     "output_type": "execute_result"
    }
   ],
   "source": [
    "len(new_texts)"
   ]
  },
  {
   "cell_type": "markdown",
   "id": "ca8076ff",
   "metadata": {},
   "source": [
    "# Syllable Count Per Word"
   ]
  },
  {
   "cell_type": "code",
   "execution_count": 36,
   "id": "6f0b4e4f",
   "metadata": {},
   "outputs": [
    {
     "name": "stdout",
     "output_type": "stream",
     "text": [
      "Enter a word to get syllable: financial\n",
      "Number of syllable in a word : 3\n"
     ]
    }
   ],
   "source": [
    "word = input(\"Enter a word to get syllable: \")\n",
    "def count_syllables(word):\n",
    "    phonemes = cmud[word.lower()][0] \n",
    "    return len([s for s in phonemes if s[-1].isdigit()])\n",
    "\n",
    "print(\"Number of syllable in a word :\",count_syllables(word))"
   ]
  },
  {
   "cell_type": "markdown",
   "id": "1d3a18f6",
   "metadata": {},
   "source": [
    "# Personal Pronouns"
   ]
  },
  {
   "cell_type": "code",
   "execution_count": 37,
   "id": "0b8e0d2d",
   "metadata": {},
   "outputs": [
    {
     "name": "stdout",
     "output_type": "stream",
     "text": [
      "Personal pronoun frequency: {'i': 2, 'it': 5, 'us': 3, 'they': 5, 'them': 3}\n",
      "total number of pronouns in a article : 18\n"
     ]
    }
   ],
   "source": [
    "import re\n",
    "\n",
    "# Define a regex pattern to match personal pronouns\n",
    "pattern = r'\\b(I|you|he|she|it|we|they|me|him|her|us|them)\\b'\n",
    "\n",
    "# Count the frequency of personal pronouns\n",
    "pronoun_freq = {}\n",
    "for pronoun in re.findall(pattern, texts, re.IGNORECASE):\n",
    "    pronoun = pronoun.lower()\n",
    "    if pronoun in pronoun_freq:\n",
    "        pronoun_freq[pronoun] += 1\n",
    "    else:\n",
    "        pronoun_freq[pronoun] = 1\n",
    "\n",
    "print(\"Personal pronoun frequency:\", pronoun_freq)\n",
    "def returnSum(dict):\n",
    " \n",
    "    sum = 0\n",
    "    for i in pronoun_freq.values():\n",
    "        sum = sum + i\n",
    " \n",
    "    return sum\n",
    "print(\"total number of pronouns in a article :\",returnSum(pronoun_freq))"
   ]
  },
  {
   "cell_type": "markdown",
   "id": "e3fc87f8",
   "metadata": {},
   "source": [
    "# Average Word Length"
   ]
  },
  {
   "cell_type": "code",
   "execution_count": 38,
   "id": "5bde37d9",
   "metadata": {},
   "outputs": [
    {
     "name": "stdout",
     "output_type": "stream",
     "text": [
      "Average word length: 4.6\n"
     ]
    }
   ],
   "source": [
    "# Calculate the total number of characters in all words\n",
    "total_chars = sum(len(word) for word in word_tokens)\n",
    "\n",
    "avg_word_length = total_chars / No_of_words\n",
    "\n",
    "print(\"Average word length:\", round(avg_word_length,2))\n"
   ]
  },
  {
   "cell_type": "code",
   "execution_count": null,
   "id": "63dc25ad",
   "metadata": {},
   "outputs": [],
   "source": []
  },
  {
   "cell_type": "code",
   "execution_count": null,
   "id": "819012c5",
   "metadata": {},
   "outputs": [],
   "source": []
  }
 ],
 "metadata": {
  "kernelspec": {
   "display_name": "Python 3",
   "language": "python",
   "name": "python3"
  },
  "language_info": {
   "codemirror_mode": {
    "name": "ipython",
    "version": 3
   },
   "file_extension": ".py",
   "mimetype": "text/x-python",
   "name": "python",
   "nbconvert_exporter": "python",
   "pygments_lexer": "ipython3",
   "version": "3.8.8"
  }
 },
 "nbformat": 4,
 "nbformat_minor": 5
}
