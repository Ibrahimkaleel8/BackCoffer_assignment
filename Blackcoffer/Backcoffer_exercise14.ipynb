{
 "cells": [
  {
   "cell_type": "markdown",
   "id": "b9312f26",
   "metadata": {},
   "source": [
    "# Data scraping"
   ]
  },
  {
   "cell_type": "code",
   "execution_count": 1,
   "id": "ef4785ca",
   "metadata": {},
   "outputs": [],
   "source": [
    "import nltk\n",
    "import requests\n",
    "from bs4 import BeautifulSoup"
   ]
  },
  {
   "cell_type": "code",
   "execution_count": 2,
   "id": "ac2f2459",
   "metadata": {},
   "outputs": [],
   "source": [
    "req = requests.get(\"https://insights.blackcoffer.com/how-ai-will-change-the-world-blackcoffer/\")"
   ]
  },
  {
   "cell_type": "code",
   "execution_count": 3,
   "id": "45f9fa09",
   "metadata": {},
   "outputs": [],
   "source": [
    "soup = BeautifulSoup(req.content, \"html.parser\")\n",
    "res = soup.title\n",
    "paras = soup.find_all('p')"
   ]
  },
  {
   "cell_type": "code",
   "execution_count": 4,
   "id": "dbb256b2",
   "metadata": {
    "scrolled": true
   },
   "outputs": [
    {
     "name": "stdout",
     "output_type": "stream",
     "text": [
      "The way work is being done now is destined to undergo massive transformational changes which will impact humans and their ways of working dramatically. With the development of the new machine programs, A.I. is all set to take over the humans in their workplace as no other did. Now we are not only in competition with other beings but with robots too. And robots will overcome us in our fields of work. At present we are being surrounded by A.I. from dusk till dawn, from facial recognition present in our mobile application to dating websites/applications which uses decision making as their algorithms and learn from the past data as well. It is believed that A.I. has grown over 270% over the last years. First, let us know what A.I. is and all the fuss going on about it?A.I. as defined by the internet is simply ‘simulation of human intelligence in machines that are programmed to think like humans and mimic their actions’. This translates to, it can work as a human being just at fast speed and with 100% accuracy.In my definition I would define A.I. as the god form of human beings. Now the question that arises is, what does A.I. entails for the future? A.I. is fancy enough to continue existing in our minds all the time, but it does come with certain limitations and threats which is a cause for a peaceful sleep for most of the workers. With its introduction to different areas of the workplace, it is clear that half of the human jobs would be taken up by A.I. and then there would arise a need for more jobs for humans in new upcoming AI-based ventures in different industries. Thereby giving us our fair share back to us. In a survey, it was found that some believed that AI will be devastating for humans and while some professionals and tech-savvy people believed that inculcating AI technology into business and our daily lives would be a remarkable step as it will lead to the flourishment of business in the future and give them a competitive edge over their rivals. People believed that when these advanced technologies would come together to work with humans, they will produce a smarter strategic decision with productive collaborative practices. More modern technology prevailing in the organization will lead to stress reduction and produce more satisfying results thereby making the organization more efficient. The Organizations who are in use of the AI technology responds by saying that their managers are more comfortable using A.I. and are accustomed to it and the organizations are now looking forward to having integration of higher-end technology systems, as it is believed that new technology will result in more productivity thereby making more profits in the long run. Many jobs today require AI and humans working in collaboration, which creates a positive signal that in the future to humans would be working closely with the technology. Beyond just training and developing these machines, humans would be working in close vicinity with them and making decisions on how to act on the result that is given by the machine. It can be said that both the AI advanced technology and human can’t remain in the workforce without each other, as the technology will produce accurate and top-notch results but it requires someone to make delivery.e.g., in a firm, an AI-based system produces results based on historical data but there is a need for someone to analyze and communicate and present this data to the respective stakeholders whether inside or outside of the organization. Various uses of artificial intelligence technology in day-to-day functions in regards to interactions with humans are: Artificial intelligence as we know works on algorithms, neural networks, and deep learning which all are analytical tools that help AI in taking analytical decisions based on the data provided. Whereas, humans on the other hand take higher-level decisions based on ‘Intuition’ sometimes, which refers to the gut feeling that generates in humans concerning any situation or challenge. AI alone can’t work to handle critical situations on its own as it needs humans for it to reciprocate them and share the information with stakeholders, and humans alone can’t anticipate much on the accurate and fast-paced analytical solutions to the problems persisting in place of the situation. The strength of humans and AI working in synergy can be surprisingly beneficial and advantageous to organizations. It is believed that machines in the future would be eating up our traditional jobs. But the reality seems to be turning otherwise. The future trend shows that in future the AI-powered technology would take up jobs that were being done by humans but in return would produce more jobs that would require human interference with them. As and when the newer technology is approaching more and more countries are now proceeding towards GIG Economies, and so in the future, we can witness an increase in freelance jobs and the permanent labor market norms could reduce drastically. Some of the jobs today will be replaced by AI which is in the transportation or retail commerce sector that can be 100% automated in the future years. There is an ‘Amazon Go’ store that uses this technology which goes by the name ‘Just walk out technology’ wherein there is no need for any human-induced workforce and all the operations are carried out by AI-powered technologies, which is indeed a breakthrough technology in today’s world. Rather than eating up our jobs AI in return will be creating more jobs in the future by creating massive innovations thereby fueling up many new industries and thereby giving us our fair share of jobs back. There will be a lot of demand placed on the upcoming young workforce which is also categorized as ‘Gen Z’. They are expected to know more about technology and would be high in demand.  These young generations are required to learn new skills which are needed to survive in the dynamic changing environment, and as most of the activities that are carried out by workers will be automated, there will be demand for people working in the back office and maintaining and developing the technology to its best versions. AI powered technology has its limitations which makes it a rigid system to hold on to and also which makes it a costly affair at the initial stage. It was predicted that the cost of electricity to power a supercharged AI model was around $4.6 million. So, this super-powered AI can be purchased only by big fortune firms and thereby creating more value to their net worth. One of the major limitations of AI is that it can contain biased data as the scientists who put in the data can create biasedness and so the resultant output of the same would have a biased report. These machines as do not have neuroscience-based technology in them yet which enables them to carry human emotions to understand complex situations and a creative way out of that, they tend to have a lack of out of box thinking which in the case is rigid in themselves as they are programmed to work on a single task and they cannot perform more than a single task at the same time. It is also believed that there exists no creativity among the computer, no matter it is fast-paced, but they are not intelligent. Businesses and organizations need to understand and anticipate the opportunities that the future holds for them and they need to start training their employees based on today’s dynamic changing technology. While it’s still unclear what does the future holds for us, but the anticipation of it could benefit us in several ways. As we are unclear about what the future looks like, we need to think in probable terms how it could turn out to be and then employ specific training programs for the employees of the organization.The training the employees are needed to be done on a continuous and lifetime basis which means that education won’t be only limited to PG degrees but will be now a lifetime process of learning. As the Covid-19 changed the scenario of the work patterns around the world, we now need to think strategically about the working dynamics of the future and how does it look like compared to the pre-covid and post-covid scenario. Employees will be playing a major role in transforming the organizations and work practices in the upcoming future, so organizations need to select and recruit the best candidates among the pool and then provide them with best practices of the new machines and make proficient in their area of work. Policies need to be developed to hire the best people and then retaining the talent in the organization. There needs to be a continuous scanning of the environment by the organizations to comprehend any new trends and assess them, not all trends will be beneficial for organizations, they must be aware of the prospects and plan for the future systematically and consistently. There lies a possibility in future certain years from now, we could have machines who will have general human intelligence who would be able to answer deep meaningful questions asking ‘Why are the curtains blue?’, would be able to clean cars, play politics and tell jokes to us, and by using deep and machine learning programs their level of intelligence would be beyond mathematical calculations to us. That’s how good machines will be in the future, but to make ourselves competitive with machines, we would need to train ourselves for the impending ambiguous future ahead of us. Humans and machines need to work in synergy to get beneficial and satisfying results for both parties. Machines are indeed going take away many of our jobs, but let me make you sleep peacefully tonight, the machines aren’t arriving until we’re retired.\n"
     ]
    }
   ],
   "source": [
    "texts = \" \".join([paragraph.text.strip() for paragraph in paras])\n",
    "print(texts)"
   ]
  },
  {
   "cell_type": "code",
   "execution_count": 5,
   "id": "e79f5f60",
   "metadata": {},
   "outputs": [
    {
     "data": {
      "text/plain": [
       "9708"
      ]
     },
     "execution_count": 5,
     "metadata": {},
     "output_type": "execute_result"
    }
   ],
   "source": [
    "len(texts)"
   ]
  },
  {
   "cell_type": "markdown",
   "id": "db8f1fcc",
   "metadata": {},
   "source": [
    "Removing Punctuation"
   ]
  },
  {
   "cell_type": "code",
   "execution_count": 6,
   "id": "5285c8a8",
   "metadata": {},
   "outputs": [
    {
     "data": {
      "text/plain": [
       "9708"
      ]
     },
     "execution_count": 6,
     "metadata": {},
     "output_type": "execute_result"
    }
   ],
   "source": [
    "import re\n",
    "import string\n",
    "texts = re.sub(r'[\\'\\“\\”\\()\\%\\,\\-\\'\\’\\?\\ ]', ' ', texts)\n",
    "texts[0:200]\n",
    "len(texts)"
   ]
  },
  {
   "cell_type": "markdown",
   "id": "4fafe7be",
   "metadata": {},
   "source": [
    "# Removing Stopwords"
   ]
  },
  {
   "cell_type": "code",
   "execution_count": 7,
   "id": "089b8663",
   "metadata": {},
   "outputs": [],
   "source": [
    "from nltk.tokenize import word_tokenize"
   ]
  },
  {
   "cell_type": "code",
   "execution_count": 8,
   "id": "280876b0",
   "metadata": {},
   "outputs": [
    {
     "data": {
      "text/plain": [
       "['The',\n",
       " 'way',\n",
       " 'work',\n",
       " 'is',\n",
       " 'being',\n",
       " 'done',\n",
       " 'now',\n",
       " 'is',\n",
       " 'destined',\n",
       " 'to',\n",
       " 'undergo',\n",
       " 'massive',\n",
       " 'transformational',\n",
       " 'changes',\n",
       " 'which',\n",
       " 'will',\n",
       " 'impact',\n",
       " 'humans',\n",
       " 'and',\n",
       " 'their',\n",
       " 'ways',\n",
       " 'of',\n",
       " 'working',\n",
       " 'dramatically',\n",
       " '.',\n",
       " 'With',\n",
       " 'the',\n",
       " 'development',\n",
       " 'of',\n",
       " 'the',\n",
       " 'new',\n",
       " 'machine',\n",
       " 'programs',\n",
       " 'A.I',\n",
       " '.',\n",
       " 'is',\n",
       " 'all',\n",
       " 'set',\n",
       " 'to',\n",
       " 'take',\n",
       " 'over',\n",
       " 'the',\n",
       " 'humans',\n",
       " 'in',\n",
       " 'their',\n",
       " 'workplace',\n",
       " 'as',\n",
       " 'no',\n",
       " 'other',\n",
       " 'did',\n",
       " '.',\n",
       " 'Now',\n",
       " 'we',\n",
       " 'are',\n",
       " 'not',\n",
       " 'only',\n",
       " 'in',\n",
       " 'competition',\n",
       " 'with',\n",
       " 'other',\n",
       " 'beings',\n",
       " 'but',\n",
       " 'with',\n",
       " 'robots',\n",
       " 'too',\n",
       " '.',\n",
       " 'And',\n",
       " 'robots',\n",
       " 'will',\n",
       " 'overcome',\n",
       " 'us',\n",
       " 'in',\n",
       " 'our',\n",
       " 'fields',\n",
       " 'of',\n",
       " 'work',\n",
       " '.',\n",
       " 'At',\n",
       " 'present',\n",
       " 'we',\n",
       " 'are',\n",
       " 'being',\n",
       " 'surrounded',\n",
       " 'by',\n",
       " 'A.I',\n",
       " '.',\n",
       " 'from',\n",
       " 'dusk',\n",
       " 'till',\n",
       " 'dawn',\n",
       " 'from',\n",
       " 'facial',\n",
       " 'recognition',\n",
       " 'present',\n",
       " 'in',\n",
       " 'our',\n",
       " 'mobile',\n",
       " 'application',\n",
       " 'to',\n",
       " 'dating',\n",
       " 'websites/applications',\n",
       " 'which',\n",
       " 'uses',\n",
       " 'decision',\n",
       " 'making',\n",
       " 'as',\n",
       " 'their',\n",
       " 'algorithms',\n",
       " 'and',\n",
       " 'learn',\n",
       " 'from',\n",
       " 'the',\n",
       " 'past',\n",
       " 'data',\n",
       " 'as',\n",
       " 'well',\n",
       " '.',\n",
       " 'It',\n",
       " 'is',\n",
       " 'believed',\n",
       " 'that',\n",
       " 'A.I',\n",
       " '.',\n",
       " 'has',\n",
       " 'grown',\n",
       " 'over',\n",
       " '270',\n",
       " 'over',\n",
       " 'the',\n",
       " 'last',\n",
       " 'years',\n",
       " '.',\n",
       " 'First',\n",
       " 'let',\n",
       " 'us',\n",
       " 'know',\n",
       " 'what',\n",
       " 'A.I',\n",
       " '.',\n",
       " 'is',\n",
       " 'and',\n",
       " 'all',\n",
       " 'the',\n",
       " 'fuss',\n",
       " 'going',\n",
       " 'on',\n",
       " 'about',\n",
       " 'it',\n",
       " 'A.I',\n",
       " '.',\n",
       " 'as',\n",
       " 'defined',\n",
       " 'by',\n",
       " 'the',\n",
       " 'internet',\n",
       " 'is',\n",
       " 'simply',\n",
       " '‘',\n",
       " 'simulation',\n",
       " 'of',\n",
       " 'human',\n",
       " 'intelligence',\n",
       " 'in',\n",
       " 'machines',\n",
       " 'that',\n",
       " 'are',\n",
       " 'programmed',\n",
       " 'to',\n",
       " 'think',\n",
       " 'like',\n",
       " 'humans',\n",
       " 'and',\n",
       " 'mimic',\n",
       " 'their',\n",
       " 'actions',\n",
       " '.',\n",
       " 'This',\n",
       " 'translates',\n",
       " 'to',\n",
       " 'it',\n",
       " 'can',\n",
       " 'work',\n",
       " 'as',\n",
       " 'a',\n",
       " 'human',\n",
       " 'being',\n",
       " 'just',\n",
       " 'at',\n",
       " 'fast',\n",
       " 'speed',\n",
       " 'and',\n",
       " 'with',\n",
       " '100',\n",
       " 'accuracy.In',\n",
       " 'my',\n",
       " 'definition',\n",
       " 'I',\n",
       " 'would',\n",
       " 'define',\n",
       " 'A.I',\n",
       " '.',\n",
       " 'as',\n",
       " 'the',\n",
       " 'god',\n",
       " 'form',\n",
       " 'of',\n",
       " 'human',\n",
       " 'beings',\n",
       " '.',\n",
       " 'Now',\n",
       " 'the',\n",
       " 'question',\n",
       " 'that',\n",
       " 'arises',\n",
       " 'is',\n",
       " 'what',\n",
       " 'does',\n",
       " 'A.I',\n",
       " '.',\n",
       " 'entails',\n",
       " 'for',\n",
       " 'the',\n",
       " 'future',\n",
       " 'A.I',\n",
       " '.',\n",
       " 'is',\n",
       " 'fancy',\n",
       " 'enough',\n",
       " 'to',\n",
       " 'continue',\n",
       " 'existing',\n",
       " 'in',\n",
       " 'our',\n",
       " 'minds',\n",
       " 'all',\n",
       " 'the',\n",
       " 'time',\n",
       " 'but',\n",
       " 'it',\n",
       " 'does',\n",
       " 'come',\n",
       " 'with',\n",
       " 'certain',\n",
       " 'limitations',\n",
       " 'and',\n",
       " 'threats',\n",
       " 'which',\n",
       " 'is',\n",
       " 'a',\n",
       " 'cause',\n",
       " 'for',\n",
       " 'a',\n",
       " 'peaceful',\n",
       " 'sleep',\n",
       " 'for',\n",
       " 'most',\n",
       " 'of',\n",
       " 'the',\n",
       " 'workers',\n",
       " '.',\n",
       " 'With',\n",
       " 'its',\n",
       " 'introduction',\n",
       " 'to',\n",
       " 'different',\n",
       " 'areas',\n",
       " 'of',\n",
       " 'the',\n",
       " 'workplace',\n",
       " 'it',\n",
       " 'is',\n",
       " 'clear',\n",
       " 'that',\n",
       " 'half',\n",
       " 'of',\n",
       " 'the',\n",
       " 'human',\n",
       " 'jobs',\n",
       " 'would',\n",
       " 'be',\n",
       " 'taken',\n",
       " 'up',\n",
       " 'by',\n",
       " 'A.I',\n",
       " '.',\n",
       " 'and',\n",
       " 'then',\n",
       " 'there',\n",
       " 'would',\n",
       " 'arise',\n",
       " 'a',\n",
       " 'need',\n",
       " 'for',\n",
       " 'more',\n",
       " 'jobs',\n",
       " 'for',\n",
       " 'humans',\n",
       " 'in',\n",
       " 'new',\n",
       " 'upcoming',\n",
       " 'AI',\n",
       " 'based',\n",
       " 'ventures',\n",
       " 'in',\n",
       " 'different',\n",
       " 'industries',\n",
       " '.',\n",
       " 'Thereby',\n",
       " 'giving',\n",
       " 'us',\n",
       " 'our',\n",
       " 'fair',\n",
       " 'share',\n",
       " 'back',\n",
       " 'to',\n",
       " 'us',\n",
       " '.',\n",
       " 'In',\n",
       " 'a',\n",
       " 'survey',\n",
       " 'it',\n",
       " 'was',\n",
       " 'found',\n",
       " 'that',\n",
       " 'some',\n",
       " 'believed',\n",
       " 'that',\n",
       " 'AI',\n",
       " 'will',\n",
       " 'be',\n",
       " 'devastating',\n",
       " 'for',\n",
       " 'humans',\n",
       " 'and',\n",
       " 'while',\n",
       " 'some',\n",
       " 'professionals',\n",
       " 'and',\n",
       " 'tech',\n",
       " 'savvy',\n",
       " 'people',\n",
       " 'believed',\n",
       " 'that',\n",
       " 'inculcating',\n",
       " 'AI',\n",
       " 'technology',\n",
       " 'into',\n",
       " 'business',\n",
       " 'and',\n",
       " 'our',\n",
       " 'daily',\n",
       " 'lives',\n",
       " 'would',\n",
       " 'be',\n",
       " 'a',\n",
       " 'remarkable',\n",
       " 'step',\n",
       " 'as',\n",
       " 'it',\n",
       " 'will',\n",
       " 'lead',\n",
       " 'to',\n",
       " 'the',\n",
       " 'flourishment',\n",
       " 'of',\n",
       " 'business',\n",
       " 'in',\n",
       " 'the',\n",
       " 'future',\n",
       " 'and',\n",
       " 'give',\n",
       " 'them',\n",
       " 'a',\n",
       " 'competitive',\n",
       " 'edge',\n",
       " 'over',\n",
       " 'their',\n",
       " 'rivals',\n",
       " '.',\n",
       " 'People',\n",
       " 'believed',\n",
       " 'that',\n",
       " 'when',\n",
       " 'these',\n",
       " 'advanced',\n",
       " 'technologies',\n",
       " 'would',\n",
       " 'come',\n",
       " 'together',\n",
       " 'to',\n",
       " 'work',\n",
       " 'with',\n",
       " 'humans',\n",
       " 'they',\n",
       " 'will',\n",
       " 'produce',\n",
       " 'a',\n",
       " 'smarter',\n",
       " 'strategic',\n",
       " 'decision',\n",
       " 'with',\n",
       " 'productive',\n",
       " 'collaborative',\n",
       " 'practices',\n",
       " '.',\n",
       " 'More',\n",
       " 'modern',\n",
       " 'technology',\n",
       " 'prevailing',\n",
       " 'in',\n",
       " 'the',\n",
       " 'organization',\n",
       " 'will',\n",
       " 'lead',\n",
       " 'to',\n",
       " 'stress',\n",
       " 'reduction',\n",
       " 'and',\n",
       " 'produce',\n",
       " 'more',\n",
       " 'satisfying',\n",
       " 'results',\n",
       " 'thereby',\n",
       " 'making',\n",
       " 'the',\n",
       " 'organization',\n",
       " 'more',\n",
       " 'efficient',\n",
       " '.',\n",
       " 'The',\n",
       " 'Organizations',\n",
       " 'who',\n",
       " 'are',\n",
       " 'in',\n",
       " 'use',\n",
       " 'of',\n",
       " 'the',\n",
       " 'AI',\n",
       " 'technology',\n",
       " 'responds',\n",
       " 'by',\n",
       " 'saying',\n",
       " 'that',\n",
       " 'their',\n",
       " 'managers',\n",
       " 'are',\n",
       " 'more',\n",
       " 'comfortable',\n",
       " 'using',\n",
       " 'A.I',\n",
       " '.',\n",
       " 'and',\n",
       " 'are',\n",
       " 'accustomed',\n",
       " 'to',\n",
       " 'it',\n",
       " 'and',\n",
       " 'the',\n",
       " 'organizations',\n",
       " 'are',\n",
       " 'now',\n",
       " 'looking',\n",
       " 'forward',\n",
       " 'to',\n",
       " 'having',\n",
       " 'integration',\n",
       " 'of',\n",
       " 'higher',\n",
       " 'end',\n",
       " 'technology',\n",
       " 'systems',\n",
       " 'as',\n",
       " 'it',\n",
       " 'is',\n",
       " 'believed',\n",
       " 'that',\n",
       " 'new',\n",
       " 'technology',\n",
       " 'will',\n",
       " 'result',\n",
       " 'in',\n",
       " 'more',\n",
       " 'productivity',\n",
       " 'thereby',\n",
       " 'making',\n",
       " 'more',\n",
       " 'profits',\n",
       " 'in',\n",
       " 'the',\n",
       " 'long',\n",
       " 'run',\n",
       " '.',\n",
       " 'Many',\n",
       " 'jobs',\n",
       " 'today',\n",
       " 'require',\n",
       " 'AI',\n",
       " 'and',\n",
       " 'humans',\n",
       " 'working',\n",
       " 'in',\n",
       " 'collaboration',\n",
       " 'which',\n",
       " 'creates',\n",
       " 'a',\n",
       " 'positive',\n",
       " 'signal',\n",
       " 'that',\n",
       " 'in',\n",
       " 'the',\n",
       " 'future',\n",
       " 'to',\n",
       " 'humans',\n",
       " 'would',\n",
       " 'be',\n",
       " 'working',\n",
       " 'closely',\n",
       " 'with',\n",
       " 'the',\n",
       " 'technology',\n",
       " '.',\n",
       " 'Beyond',\n",
       " 'just',\n",
       " 'training',\n",
       " 'and',\n",
       " 'developing',\n",
       " 'these',\n",
       " 'machines',\n",
       " 'humans',\n",
       " 'would',\n",
       " 'be',\n",
       " 'working',\n",
       " 'in',\n",
       " 'close',\n",
       " 'vicinity',\n",
       " 'with',\n",
       " 'them',\n",
       " 'and',\n",
       " 'making',\n",
       " 'decisions',\n",
       " 'on',\n",
       " 'how',\n",
       " 'to',\n",
       " 'act',\n",
       " 'on',\n",
       " 'the',\n",
       " 'result',\n",
       " 'that',\n",
       " 'is',\n",
       " 'given',\n",
       " 'by',\n",
       " 'the',\n",
       " 'machine',\n",
       " '.',\n",
       " 'It',\n",
       " 'can',\n",
       " 'be',\n",
       " 'said',\n",
       " 'that',\n",
       " 'both',\n",
       " 'the',\n",
       " 'AI',\n",
       " 'advanced',\n",
       " 'technology',\n",
       " 'and',\n",
       " 'human',\n",
       " 'can',\n",
       " 't',\n",
       " 'remain',\n",
       " 'in',\n",
       " 'the',\n",
       " 'workforce',\n",
       " 'without',\n",
       " 'each',\n",
       " 'other',\n",
       " 'as',\n",
       " 'the',\n",
       " 'technology',\n",
       " 'will',\n",
       " 'produce',\n",
       " 'accurate',\n",
       " 'and',\n",
       " 'top',\n",
       " 'notch',\n",
       " 'results',\n",
       " 'but',\n",
       " 'it',\n",
       " 'requires',\n",
       " 'someone',\n",
       " 'to',\n",
       " 'make',\n",
       " 'delivery.e.g',\n",
       " '.',\n",
       " 'in',\n",
       " 'a',\n",
       " 'firm',\n",
       " 'an',\n",
       " 'AI',\n",
       " 'based',\n",
       " 'system',\n",
       " 'produces',\n",
       " 'results',\n",
       " 'based',\n",
       " 'on',\n",
       " 'historical',\n",
       " 'data',\n",
       " 'but',\n",
       " 'there',\n",
       " 'is',\n",
       " 'a',\n",
       " 'need',\n",
       " 'for',\n",
       " 'someone',\n",
       " 'to',\n",
       " 'analyze',\n",
       " 'and',\n",
       " 'communicate',\n",
       " 'and',\n",
       " 'present',\n",
       " 'this',\n",
       " 'data',\n",
       " 'to',\n",
       " 'the',\n",
       " 'respective',\n",
       " 'stakeholders',\n",
       " 'whether',\n",
       " 'inside',\n",
       " 'or',\n",
       " 'outside',\n",
       " 'of',\n",
       " 'the',\n",
       " 'organization',\n",
       " '.',\n",
       " 'Various',\n",
       " 'uses',\n",
       " 'of',\n",
       " 'artificial',\n",
       " 'intelligence',\n",
       " 'technology',\n",
       " 'in',\n",
       " 'day',\n",
       " 'to',\n",
       " 'day',\n",
       " 'functions',\n",
       " 'in',\n",
       " 'regards',\n",
       " 'to',\n",
       " 'interactions',\n",
       " 'with',\n",
       " 'humans',\n",
       " 'are',\n",
       " ':',\n",
       " 'Artificial',\n",
       " 'intelligence',\n",
       " 'as',\n",
       " 'we',\n",
       " 'know',\n",
       " 'works',\n",
       " 'on',\n",
       " 'algorithms',\n",
       " 'neural',\n",
       " 'networks',\n",
       " 'and',\n",
       " 'deep',\n",
       " 'learning',\n",
       " 'which',\n",
       " 'all',\n",
       " 'are',\n",
       " 'analytical',\n",
       " 'tools',\n",
       " 'that',\n",
       " 'help',\n",
       " 'AI',\n",
       " 'in',\n",
       " 'taking',\n",
       " 'analytical',\n",
       " 'decisions',\n",
       " 'based',\n",
       " 'on',\n",
       " 'the',\n",
       " 'data',\n",
       " 'provided',\n",
       " '.',\n",
       " 'Whereas',\n",
       " 'humans',\n",
       " 'on',\n",
       " 'the',\n",
       " 'other',\n",
       " 'hand',\n",
       " 'take',\n",
       " 'higher',\n",
       " 'level',\n",
       " 'decisions',\n",
       " 'based',\n",
       " 'on',\n",
       " '‘',\n",
       " 'Intuition',\n",
       " 'sometimes',\n",
       " 'which',\n",
       " 'refers',\n",
       " 'to',\n",
       " 'the',\n",
       " 'gut',\n",
       " 'feeling',\n",
       " 'that',\n",
       " 'generates',\n",
       " 'in',\n",
       " 'humans',\n",
       " 'concerning',\n",
       " 'any',\n",
       " 'situation',\n",
       " 'or',\n",
       " 'challenge',\n",
       " '.',\n",
       " 'AI',\n",
       " 'alone',\n",
       " 'can',\n",
       " 't',\n",
       " 'work',\n",
       " 'to',\n",
       " 'handle',\n",
       " 'critical',\n",
       " 'situations',\n",
       " 'on',\n",
       " 'its',\n",
       " 'own',\n",
       " 'as',\n",
       " 'it',\n",
       " 'needs',\n",
       " 'humans',\n",
       " 'for',\n",
       " 'it',\n",
       " 'to',\n",
       " 'reciprocate',\n",
       " 'them',\n",
       " 'and',\n",
       " 'share',\n",
       " 'the',\n",
       " 'information',\n",
       " 'with',\n",
       " 'stakeholders',\n",
       " 'and',\n",
       " 'humans',\n",
       " 'alone',\n",
       " 'can',\n",
       " 't',\n",
       " 'anticipate',\n",
       " 'much',\n",
       " 'on',\n",
       " 'the',\n",
       " 'accurate',\n",
       " 'and',\n",
       " 'fast',\n",
       " 'paced',\n",
       " 'analytical',\n",
       " 'solutions',\n",
       " 'to',\n",
       " 'the',\n",
       " 'problems',\n",
       " 'persisting',\n",
       " 'in',\n",
       " 'place',\n",
       " 'of',\n",
       " 'the',\n",
       " 'situation',\n",
       " '.',\n",
       " 'The',\n",
       " 'strength',\n",
       " 'of',\n",
       " 'humans',\n",
       " 'and',\n",
       " 'AI',\n",
       " 'working',\n",
       " 'in',\n",
       " 'synergy',\n",
       " 'can',\n",
       " 'be',\n",
       " 'surprisingly',\n",
       " 'beneficial',\n",
       " 'and',\n",
       " 'advantageous',\n",
       " 'to',\n",
       " 'organizations',\n",
       " '.',\n",
       " 'It',\n",
       " 'is',\n",
       " 'believed',\n",
       " 'that',\n",
       " 'machines',\n",
       " 'in',\n",
       " 'the',\n",
       " 'future',\n",
       " 'would',\n",
       " 'be',\n",
       " 'eating',\n",
       " 'up',\n",
       " 'our',\n",
       " 'traditional',\n",
       " 'jobs',\n",
       " '.',\n",
       " 'But',\n",
       " 'the',\n",
       " 'reality',\n",
       " 'seems',\n",
       " 'to',\n",
       " 'be',\n",
       " 'turning',\n",
       " 'otherwise',\n",
       " '.',\n",
       " 'The',\n",
       " 'future',\n",
       " 'trend',\n",
       " 'shows',\n",
       " 'that',\n",
       " 'in',\n",
       " 'future',\n",
       " 'the',\n",
       " 'AI',\n",
       " 'powered',\n",
       " 'technology',\n",
       " 'would',\n",
       " 'take',\n",
       " 'up',\n",
       " 'jobs',\n",
       " 'that',\n",
       " 'were',\n",
       " 'being',\n",
       " 'done',\n",
       " 'by',\n",
       " 'humans',\n",
       " 'but',\n",
       " 'in',\n",
       " 'return',\n",
       " 'would',\n",
       " 'produce',\n",
       " 'more',\n",
       " 'jobs',\n",
       " 'that',\n",
       " 'would',\n",
       " 'require',\n",
       " 'human',\n",
       " 'interference',\n",
       " 'with',\n",
       " 'them',\n",
       " '.',\n",
       " 'As',\n",
       " 'and',\n",
       " 'when',\n",
       " 'the',\n",
       " 'newer',\n",
       " 'technology',\n",
       " 'is',\n",
       " 'approaching',\n",
       " 'more',\n",
       " 'and',\n",
       " 'more',\n",
       " 'countries',\n",
       " 'are',\n",
       " 'now',\n",
       " 'proceeding',\n",
       " 'towards',\n",
       " 'GIG',\n",
       " 'Economies',\n",
       " 'and',\n",
       " 'so',\n",
       " 'in',\n",
       " 'the',\n",
       " 'future',\n",
       " 'we',\n",
       " 'can',\n",
       " 'witness',\n",
       " 'an',\n",
       " 'increase',\n",
       " 'in',\n",
       " 'freelance',\n",
       " 'jobs',\n",
       " 'and',\n",
       " 'the',\n",
       " 'permanent',\n",
       " 'labor',\n",
       " 'market',\n",
       " 'norms',\n",
       " 'could',\n",
       " 'reduce',\n",
       " 'drastically',\n",
       " '.',\n",
       " 'Some',\n",
       " 'of',\n",
       " 'the',\n",
       " 'jobs',\n",
       " 'today',\n",
       " 'will',\n",
       " 'be',\n",
       " 'replaced',\n",
       " 'by',\n",
       " 'AI',\n",
       " 'which',\n",
       " 'is',\n",
       " 'in',\n",
       " 'the',\n",
       " 'transportation',\n",
       " 'or',\n",
       " 'retail',\n",
       " 'commerce',\n",
       " 'sector',\n",
       " 'that',\n",
       " 'can',\n",
       " 'be',\n",
       " '100',\n",
       " 'automated',\n",
       " 'in',\n",
       " 'the',\n",
       " 'future',\n",
       " 'years',\n",
       " '.',\n",
       " 'There',\n",
       " 'is',\n",
       " 'an',\n",
       " '‘',\n",
       " 'Amazon',\n",
       " 'Go',\n",
       " 'store',\n",
       " 'that',\n",
       " 'uses',\n",
       " 'this',\n",
       " 'technology',\n",
       " 'which',\n",
       " 'goes',\n",
       " 'by',\n",
       " 'the',\n",
       " 'name',\n",
       " '‘',\n",
       " 'Just',\n",
       " 'walk',\n",
       " 'out',\n",
       " 'technology',\n",
       " 'wherein',\n",
       " 'there',\n",
       " 'is',\n",
       " 'no',\n",
       " 'need',\n",
       " 'for',\n",
       " 'any',\n",
       " 'human',\n",
       " 'induced',\n",
       " 'workforce',\n",
       " 'and',\n",
       " 'all',\n",
       " 'the',\n",
       " 'operations',\n",
       " 'are',\n",
       " 'carried',\n",
       " 'out',\n",
       " 'by',\n",
       " 'AI',\n",
       " 'powered',\n",
       " 'technologies',\n",
       " 'which',\n",
       " 'is',\n",
       " 'indeed',\n",
       " 'a',\n",
       " 'breakthrough',\n",
       " 'technology',\n",
       " 'in',\n",
       " 'today',\n",
       " 's',\n",
       " 'world',\n",
       " '.',\n",
       " 'Rather',\n",
       " 'than',\n",
       " 'eating',\n",
       " 'up',\n",
       " 'our',\n",
       " 'jobs',\n",
       " 'AI',\n",
       " 'in',\n",
       " 'return',\n",
       " 'will',\n",
       " 'be',\n",
       " 'creating',\n",
       " 'more',\n",
       " 'jobs',\n",
       " 'in',\n",
       " 'the',\n",
       " 'future',\n",
       " 'by',\n",
       " 'creating',\n",
       " 'massive',\n",
       " 'innovations',\n",
       " 'thereby',\n",
       " 'fueling',\n",
       " 'up',\n",
       " 'many',\n",
       " 'new',\n",
       " 'industries',\n",
       " 'and',\n",
       " 'thereby',\n",
       " 'giving',\n",
       " 'us',\n",
       " 'our',\n",
       " ...]"
      ]
     },
     "execution_count": 8,
     "metadata": {},
     "output_type": "execute_result"
    }
   ],
   "source": [
    "token = word_tokenize(texts)\n",
    "token"
   ]
  },
  {
   "cell_type": "code",
   "execution_count": 9,
   "id": "10016a09",
   "metadata": {},
   "outputs": [],
   "source": [
    "with open(\"D:\\lab\\Dataset\\Stopwords_Blackcoffer.txt\", 'r') as file:\n",
    "    data = file.read()"
   ]
  },
  {
   "cell_type": "code",
   "execution_count": 10,
   "id": "c567cbef",
   "metadata": {},
   "outputs": [
    {
     "data": {
      "text/plain": [
       "'ERNST\\nYOUNG\\nDELOITTE\\nTOUCHE\\nKPMG\\nPRICEWATERHOUSECOOPERS\\nPRICEWATERHOUSE\\nCOOPERS\\nAFGHANI\\nARIARY\\nBAHT\\n'"
      ]
     },
     "execution_count": 10,
     "metadata": {},
     "output_type": "execute_result"
    }
   ],
   "source": [
    "data[:100]"
   ]
  },
  {
   "cell_type": "code",
   "execution_count": 11,
   "id": "d65bfa92",
   "metadata": {},
   "outputs": [
    {
     "data": {
      "text/plain": [
       "'ERNST,YOUNG,DELOITTE,TOUCHE,KPMG,PRICEWATERHOUSECOOPERS,PRICEWATERHOUSE,COOPERS,AFGHANI,ARIARY,BAHT,'"
      ]
     },
     "execution_count": 11,
     "metadata": {},
     "output_type": "execute_result"
    }
   ],
   "source": [
    "data = data.replace('\\n', ',')\n",
    "data[:100]"
   ]
  },
  {
   "cell_type": "code",
   "execution_count": 12,
   "id": "0ef23874",
   "metadata": {},
   "outputs": [
    {
     "data": {
      "text/plain": [
       "'The work destined undergo massive transformational impact humans working dramatically . With development machine programs A.I . set humans workplace . Now competition beings robots . And robots overco'"
      ]
     },
     "execution_count": 12,
     "metadata": {},
     "output_type": "execute_result"
    }
   ],
   "source": [
    "new_texts = \" \".join([i for i in token if i not in data])\n",
    "new_texts[:200]"
   ]
  },
  {
   "cell_type": "code",
   "execution_count": 13,
   "id": "ea392da4",
   "metadata": {},
   "outputs": [
    {
     "name": "stdout",
     "output_type": "stream",
     "text": [
      "length before cleaning:  9708\n",
      "length after cleaning:  5638\n"
     ]
    }
   ],
   "source": [
    "print(\"length before cleaning: \", len(texts))\n",
    "print(\"length after cleaning: \", len(new_texts))"
   ]
  },
  {
   "cell_type": "markdown",
   "id": "1f456147",
   "metadata": {},
   "source": [
    "# Negative words"
   ]
  },
  {
   "cell_type": "code",
   "execution_count": 14,
   "id": "dc3618a7",
   "metadata": {},
   "outputs": [],
   "source": [
    "with open(\"D:\\\\lab\\\\Dataset\\\\Negative_words.txt\", 'r') as file:\n",
    "    negative = file.read()"
   ]
  },
  {
   "cell_type": "code",
   "execution_count": 15,
   "id": "2123c4cb",
   "metadata": {},
   "outputs": [
    {
     "data": {
      "text/plain": [
       "'2-faced\\n2-faces\\nabnormal\\nabolish\\nabominable\\nabominably\\nabominate\\nabomination\\nabort\\naborted\\naborts\\nabrade\\nabrasive\\nabrupt\\nabruptly\\nabscond\\nabsence\\nabsent-minded\\nabsentee\\nabsurd\\nabsurdity\\nabsurdly\\nabsurdness\\n'"
      ]
     },
     "execution_count": 15,
     "metadata": {},
     "output_type": "execute_result"
    }
   ],
   "source": [
    "negative[:206]"
   ]
  },
  {
   "cell_type": "code",
   "execution_count": 16,
   "id": "28f44c97",
   "metadata": {},
   "outputs": [
    {
     "data": {
      "text/plain": [
       "'2-faced,2-faces,abnormal,abolish,abominable,abominably,abominate,abomination,abort,aborted,aborts,abrade,abrasive,abrupt,abruptly,abscond,absence,absent-minded,absentee,absurd,absurdity,absurdly,absurdness,'"
      ]
     },
     "execution_count": 16,
     "metadata": {},
     "output_type": "execute_result"
    }
   ],
   "source": [
    "negative = negative.replace('\\n', ',')\n",
    "negative[:206]"
   ]
  },
  {
   "cell_type": "code",
   "execution_count": 17,
   "id": "31a272c0",
   "metadata": {},
   "outputs": [
    {
     "name": "stdout",
     "output_type": "stream",
     "text": [
      "['work', 'dramatically', 'set', 'work', 'present', 'present', 'dating', 'decision', 'fuss', 'defined', 'human', 'work', 'human', 'fast', 'define', 'god', 'human', 'question', 'continue', 'limitations', 'threats', 'half', 'human', 'giving', 'fair', 'back', 'found', 'devastating', 'lead', 'competitive', 'edge', 'work', 'decision', 'productive', 'lead', 'stress', 'satisfying', 'efficient', 'comfortable', 'accustomed', 'integration', 'run', 'training', 'human', 'accurate', 'top', 'make', 'firm', 'present', 'day', 'day', 'gut', 'feeling', 'work', 'handle', 'critical', 'accurate', 'fast', 'problems', 'advantageous', 'eating', 'powered', 'human', 'interference', 'labor', 'drastically', 'human', 'powered', 'eating', 'giving', 'fair', 'back', 'lot', 'expected', 'high', 'needed', 'back', 'powered', 'limitations', 'rigid', 'costly', 'stage', 'cost', 'power', 'super', 'powered', 'big', 'fortune', 'net', 'worth', 'limitations', 'biased', 'put', 'biased', 'human', 'understand', 'complex', 'creative', 'lack', 'box', 'rigid', 'work', 'fast', 'understand', 'start', 'training', 'unclear', 'unclear', 'probable', 'turn', 'employ', 'training', 'training', 'needed', 'continuous', 'limited', 'work', 'post', 'work', 'make', 'work', 'developed', 'continuous', 'lies', 'human', 'clean', 'cars', 'play', 'make', 'competitive', 'train', 'impending', 'ambiguous', 'work', 'satisfying', 'make']\n"
     ]
    },
    {
     "data": {
      "text/plain": [
       "136"
      ]
     },
     "execution_count": 17,
     "metadata": {},
     "output_type": "execute_result"
    }
   ],
   "source": [
    "new_texts = word_tokenize(new_texts)\n",
    "negative_words = [i for i in new_texts if i in negative]\n",
    "print(negative_words)\n",
    "len(negative_words)"
   ]
  },
  {
   "cell_type": "markdown",
   "id": "0b24f011",
   "metadata": {},
   "source": [
    "# Positive words"
   ]
  },
  {
   "cell_type": "code",
   "execution_count": 18,
   "id": "4b003620",
   "metadata": {},
   "outputs": [
    {
     "data": {
      "text/plain": [
       "'a+\\nabound\\nabounds\\nabundance\\nabundant\\naccessable\\naccessible\\nacclaim\\nacclaimed\\nacclamation\\naccolade\\naccolades\\naccommodative\\naccomodative\\naccomplish\\naccomplished\\naccomplishment\\naccomplishments\\naccurate\\naccurately\\n'"
      ]
     },
     "execution_count": 18,
     "metadata": {},
     "output_type": "execute_result"
    }
   ],
   "source": [
    "with open(\"D:\\\\lab\\\\Dataset\\\\Positive_words.txt\", 'r') as file:\n",
    "    positive = file.read()\n",
    "positive[:210]    "
   ]
  },
  {
   "cell_type": "code",
   "execution_count": 19,
   "id": "66ed38c6",
   "metadata": {},
   "outputs": [
    {
     "data": {
      "text/plain": [
       "'a+,abound,abounds,abundance,abundant,accessable,accessible,acclaim,acclaimed,acclamation,accolade,accolades,accommodative,accomodative,accomplish,accomplished,accomplishment,accomplishments,accurate,accurately,'"
      ]
     },
     "execution_count": 19,
     "metadata": {},
     "output_type": "execute_result"
    }
   ],
   "source": [
    "positive = positive.replace('\\n',',')\n",
    "positive[:210]"
   ]
  },
  {
   "cell_type": "code",
   "execution_count": 20,
   "id": "fc1387e8",
   "metadata": {},
   "outputs": [
    {
     "name": "stdout",
     "output_type": "stream",
     "text": [
      "['work', 'working', 'set', 'work', 'dawn', 'human', 'intelligence', 'work', 'human', 'fast', 'speed', 'god', 'human', 'question', 'future', 'fancy', 'peaceful', 'human', 'ventures', 'fair', 'back', 'found', 'savvy', 'remarkable', 'lead', 'future', 'competitive', 'edge', 'advanced', 'work', 'smarter', 'productive', 'modern', 'lead', 'satisfying', 'efficient', 'comfortable', 'forward', 'run', 'working', 'positive', 'future', 'working', 'working', 'advanced', 'human', 'accurate', 'top', 'notch', 'firm', 'intelligence', 'intelligence', 'works', 'taking', 'refers', 'gut', 'work', 'accurate', 'fast', 'paced', 'working', 'beneficial', 'advantageous', 'future', 'eating', 'future', 'trend', 'future', 'human', 'future', 'future', 'store', 'human', 'breakthrough', 'world', 'eating', 'future', 'fair', 'back', 'expected', 'high', 'dynamic', 'working', 'back', 'hold', 'cost', 'power', 'super', 'fortune', 'worth', 'biased', 'put', 'biased', 'human', 'understand', 'creative', 'work', 'perform', 'fast', 'paced', 'intelligent', 'understand', 'future', 'dynamic', 'future', 'benefit', 'future', 'limited', 'work', 'world', 'working', 'future', 'work', 'future', 'select', 'proficient', 'work', 'talent', 'beneficial', 'future', 'consistently', 'future', 'human', 'intelligence', 'meaningful', 'clean', 'play', 'intelligence', 'good', 'future', 'competitive', 'future', 'work', 'beneficial', 'satisfying', 'peacefully']\n"
     ]
    },
    {
     "data": {
      "text/plain": [
       "136"
      ]
     },
     "execution_count": 20,
     "metadata": {},
     "output_type": "execute_result"
    }
   ],
   "source": [
    "positive_words = [i for i in new_texts if i in positive]\n",
    "print(positive_words)\n",
    "len(positive_words)"
   ]
  },
  {
   "cell_type": "markdown",
   "id": "1b59646d",
   "metadata": {},
   "source": [
    "#### positive Score\n"
   ]
  },
  {
   "cell_type": "code",
   "execution_count": 21,
   "id": "7d0fbab1",
   "metadata": {},
   "outputs": [
    {
     "name": "stdout",
     "output_type": "stream",
     "text": [
      "136\n"
     ]
    }
   ],
   "source": [
    "pos_score = len(positive_words)\n",
    "print(pos_score)"
   ]
  },
  {
   "cell_type": "markdown",
   "id": "54a6cc12",
   "metadata": {},
   "source": [
    "#### Negative Score"
   ]
  },
  {
   "cell_type": "code",
   "execution_count": 22,
   "id": "df0766cd",
   "metadata": {},
   "outputs": [
    {
     "name": "stdout",
     "output_type": "stream",
     "text": [
      "136\n"
     ]
    }
   ],
   "source": [
    "neg_score=len(negative_words)\n",
    "print(neg_score)"
   ]
  },
  {
   "cell_type": "markdown",
   "id": "84da7ab7",
   "metadata": {},
   "source": [
    "#### Polarity Score"
   ]
  },
  {
   "cell_type": "code",
   "execution_count": 23,
   "id": "21e88c2b",
   "metadata": {},
   "outputs": [
    {
     "data": {
      "text/plain": [
       "0.0"
      ]
     },
     "execution_count": 23,
     "metadata": {},
     "output_type": "execute_result"
    }
   ],
   "source": [
    "Polarity_Score = (pos_score - neg_score)/((pos_score + neg_score) + 0.000001)\n",
    "round(Polarity_Score,2)"
   ]
  },
  {
   "cell_type": "code",
   "execution_count": 24,
   "id": "08bcb4ab",
   "metadata": {},
   "outputs": [
    {
     "name": "stdout",
     "output_type": "stream",
     "text": [
      "number of words after cleaning : 757\n"
     ]
    }
   ],
   "source": [
    "word_count = len(new_texts)\n",
    "print(\"number of words after cleaning :\",word_count)"
   ]
  },
  {
   "cell_type": "markdown",
   "id": "16495ba1",
   "metadata": {},
   "source": [
    "#### Subjectivity Score"
   ]
  },
  {
   "cell_type": "code",
   "execution_count": 25,
   "id": "841713a3",
   "metadata": {},
   "outputs": [
    {
     "data": {
      "text/plain": [
       "0.36"
      ]
     },
     "execution_count": 25,
     "metadata": {},
     "output_type": "execute_result"
    }
   ],
   "source": [
    "Subjectivity_Score = (pos_score + neg_score)/ ((word_count) + 0.000001)\n",
    "round(Subjectivity_Score,2)"
   ]
  },
  {
   "cell_type": "markdown",
   "id": "0d7c370e",
   "metadata": {},
   "source": [
    "# Analysis of Readability"
   ]
  },
  {
   "cell_type": "code",
   "execution_count": 26,
   "id": "10209a7a",
   "metadata": {},
   "outputs": [
    {
     "data": {
      "text/plain": [
       "1741"
      ]
     },
     "execution_count": 26,
     "metadata": {},
     "output_type": "execute_result"
    }
   ],
   "source": [
    "import nltk\n",
    "from nltk.tokenize import word_tokenize\n",
    "word_tokens = nltk.word_tokenize(texts)\n",
    "No_of_words = len(word_tokens)\n",
    "No_of_words"
   ]
  },
  {
   "cell_type": "code",
   "execution_count": 27,
   "id": "bfac2ab7",
   "metadata": {},
   "outputs": [
    {
     "data": {
      "text/plain": [
       "60"
      ]
     },
     "execution_count": 27,
     "metadata": {},
     "output_type": "execute_result"
    }
   ],
   "source": [
    "sent_tokens = nltk.sent_tokenize(texts)\n",
    "No_of_sents = len(sent_tokens)\n",
    "No_of_sents "
   ]
  },
  {
   "cell_type": "markdown",
   "id": "1576acfe",
   "metadata": {},
   "source": [
    "### Average sentence Length\n"
   ]
  },
  {
   "cell_type": "code",
   "execution_count": 28,
   "id": "11d6a7ec",
   "metadata": {},
   "outputs": [
    {
     "data": {
      "text/plain": [
       "29.02"
      ]
     },
     "execution_count": 28,
     "metadata": {},
     "output_type": "execute_result"
    }
   ],
   "source": [
    "Avg_Sents_Length = No_of_words / No_of_sents\n",
    "round(Avg_Sents_Length,2)"
   ]
  },
  {
   "cell_type": "markdown",
   "id": "bc20ee3d",
   "metadata": {},
   "source": [
    "### Percentage of Complex words\n",
    "Complex words: words with more than 2 syllable are called complex words"
   ]
  },
  {
   "cell_type": "code",
   "execution_count": 29,
   "id": "eba6a8b1",
   "metadata": {},
   "outputs": [
    {
     "name": "stdout",
     "output_type": "stream",
     "text": [
      "Number of complex words: 214\n",
      "Total number of words: 9708\n"
     ]
    }
   ],
   "source": [
    "from nltk.corpus import cmudict\n",
    "cmud = cmudict.dict()\n",
    "\n",
    "# Defining a function to count syllables in a word\n",
    "def count_syllables(word):\n",
    "    phonemes = cmud[word.lower()][0] \n",
    "    return len([s for s in phonemes if s[-1].isdigit()])\n",
    "\n",
    "# Identifing complex words\n",
    "w_tokens = [i for i in word_tokens if i in cmud]\n",
    "complex_words = [word for word in w_tokens if count_syllables(word) > 2]\n",
    "\n",
    "# Calculatingnumber of complex words\n",
    "num_complex_words = len(complex_words)\n",
    "\n",
    "print(\"Number of complex words:\", num_complex_words)\n",
    "print(\"Total number of words:\", len(texts))"
   ]
  },
  {
   "cell_type": "code",
   "execution_count": 30,
   "id": "e982c0a1",
   "metadata": {},
   "outputs": [
    {
     "data": {
      "text/plain": [
       "45.36"
      ]
     },
     "execution_count": 30,
     "metadata": {},
     "output_type": "execute_result"
    }
   ],
   "source": [
    "Perc_of_Complex_words = len(texts) / num_complex_words\n",
    "round(Perc_of_Complex_words,2)"
   ]
  },
  {
   "cell_type": "markdown",
   "id": "77e948d1",
   "metadata": {},
   "source": [
    "### Fog Index"
   ]
  },
  {
   "cell_type": "code",
   "execution_count": 31,
   "id": "95fb10bb",
   "metadata": {},
   "outputs": [
    {
     "name": "stdout",
     "output_type": "stream",
     "text": [
      "Average sentence length: 60.0\n"
     ]
    }
   ],
   "source": [
    "# Tokenize each sentence into words\n",
    "words = [word_tokens for sentence in sent_tokens]\n",
    "\n",
    "# Calculate the average sentence length\n",
    "avg_sent_len = sum(No_of_sents for sentence in words) / No_of_sents\n",
    "\n",
    "print(\"Average sentence length:\", avg_sent_len)\n"
   ]
  },
  {
   "cell_type": "code",
   "execution_count": 32,
   "id": "38f5a93b",
   "metadata": {},
   "outputs": [
    {
     "data": {
      "text/plain": [
       "42.15"
      ]
     },
     "execution_count": 32,
     "metadata": {},
     "output_type": "execute_result"
    }
   ],
   "source": [
    "Fog_index = 0.4 * (avg_sent_len + Perc_of_Complex_words)\n",
    "round(Fog_index,2)"
   ]
  },
  {
   "cell_type": "markdown",
   "id": "5b4aacea",
   "metadata": {},
   "source": [
    "# Average Number of Words Per Sentence"
   ]
  },
  {
   "cell_type": "code",
   "execution_count": 33,
   "id": "45da1407",
   "metadata": {},
   "outputs": [
    {
     "data": {
      "text/plain": [
       "29.02"
      ]
     },
     "execution_count": 33,
     "metadata": {},
     "output_type": "execute_result"
    }
   ],
   "source": [
    "avg_no_of_words_per_sent = No_of_words / No_of_sents\n",
    "round(avg_no_of_words_per_sent,2)"
   ]
  },
  {
   "cell_type": "markdown",
   "id": "f2d9b493",
   "metadata": {},
   "source": [
    "# Complex Word Count"
   ]
  },
  {
   "cell_type": "code",
   "execution_count": 34,
   "id": "75304424",
   "metadata": {},
   "outputs": [
    {
     "name": "stdout",
     "output_type": "stream",
     "text": [
      "complex word count: 214\n"
     ]
    }
   ],
   "source": [
    "from nltk.corpus import cmudict\n",
    "cmud = cmudict.dict()\n",
    "\n",
    "# Defining a function to count syllables in a word\n",
    "def count_syllables(word):\n",
    "    phonemes = cmud[word.lower()][0] \n",
    "    return len([s for s in phonemes if s[-1].isdigit()])\n",
    "\n",
    "# Identifing complex words\n",
    "w_tokens = [i for i in word_tokens if i in cmud]\n",
    "complex_words = [word for word in w_tokens if count_syllables(word) > 2]\n",
    "\n",
    "# Calculatingnumber of complex words\n",
    "num_complex_words = len(complex_words)\n",
    "\n",
    "print(\"complex word count:\", num_complex_words)"
   ]
  },
  {
   "cell_type": "markdown",
   "id": "99ea5188",
   "metadata": {},
   "source": [
    "# Word Count\n",
    "number of words after cleaning"
   ]
  },
  {
   "cell_type": "code",
   "execution_count": 35,
   "id": "b4fb0c72",
   "metadata": {},
   "outputs": [
    {
     "data": {
      "text/plain": [
       "757"
      ]
     },
     "execution_count": 35,
     "metadata": {},
     "output_type": "execute_result"
    }
   ],
   "source": [
    "len(new_texts)"
   ]
  },
  {
   "cell_type": "markdown",
   "id": "ca8076ff",
   "metadata": {},
   "source": [
    "# Syllable Count Per Word"
   ]
  },
  {
   "cell_type": "code",
   "execution_count": 36,
   "id": "bc568045",
   "metadata": {},
   "outputs": [
    {
     "name": "stdout",
     "output_type": "stream",
     "text": [
      "Enter a word to get syllable: business\n",
      "Number of syllable in a word : 2\n"
     ]
    }
   ],
   "source": [
    "word = input(\"Enter a word to get syllable: \")\n",
    "def count_syllables(word):\n",
    "    phonemes = cmud[word.lower()][0] \n",
    "    return len([s for s in phonemes if s[-1].isdigit()])\n",
    "\n",
    "print(\"Number of syllable in a word :\",count_syllables(word))"
   ]
  },
  {
   "cell_type": "markdown",
   "id": "1d3a18f6",
   "metadata": {},
   "source": [
    "# Personal Pronouns"
   ]
  },
  {
   "cell_type": "code",
   "execution_count": 37,
   "id": "0b8e0d2d",
   "metadata": {},
   "outputs": [
    {
     "name": "stdout",
     "output_type": "stream",
     "text": [
      "Personal pronoun frequency: {'i': 11, 'we': 10, 'us': 10, 'it': 24, 'them': 9, 'they': 8, 'me': 1, 'you': 1}\n",
      "total number of pronouns in a article : 74\n"
     ]
    }
   ],
   "source": [
    "import re\n",
    "\n",
    "# Define a regex pattern to match personal pronouns\n",
    "pattern = r'\\b(I|you|he|she|it|we|they|me|him|her|us|them)\\b'\n",
    "\n",
    "# Count the frequency of personal pronouns\n",
    "pronoun_freq = {}\n",
    "for pronoun in re.findall(pattern, texts, re.IGNORECASE):\n",
    "    pronoun = pronoun.lower()\n",
    "    if pronoun in pronoun_freq:\n",
    "        pronoun_freq[pronoun] += 1\n",
    "    else:\n",
    "        pronoun_freq[pronoun] = 1\n",
    "\n",
    "print(\"Personal pronoun frequency:\", pronoun_freq)\n",
    "def returnSum(dict):\n",
    " \n",
    "    sum = 0\n",
    "    for i in pronoun_freq.values():\n",
    "        sum = sum + i\n",
    " \n",
    "    return sum\n",
    "print(\"total number of pronouns in a article :\",returnSum(pronoun_freq))"
   ]
  },
  {
   "cell_type": "markdown",
   "id": "e3fc87f8",
   "metadata": {},
   "source": [
    "# Average Word Length"
   ]
  },
  {
   "cell_type": "code",
   "execution_count": 38,
   "id": "5bde37d9",
   "metadata": {},
   "outputs": [
    {
     "name": "stdout",
     "output_type": "stream",
     "text": [
      "Average word length: 4.58\n"
     ]
    }
   ],
   "source": [
    "# Calculate the total number of characters in all words\n",
    "total_chars = sum(len(word) for word in word_tokens)\n",
    "\n",
    "avg_word_length = total_chars / No_of_words\n",
    "\n",
    "print(\"Average word length:\", round(avg_word_length,2))\n"
   ]
  },
  {
   "cell_type": "code",
   "execution_count": null,
   "id": "63dc25ad",
   "metadata": {},
   "outputs": [],
   "source": []
  },
  {
   "cell_type": "code",
   "execution_count": null,
   "id": "819012c5",
   "metadata": {},
   "outputs": [],
   "source": []
  }
 ],
 "metadata": {
  "kernelspec": {
   "display_name": "Python 3",
   "language": "python",
   "name": "python3"
  },
  "language_info": {
   "codemirror_mode": {
    "name": "ipython",
    "version": 3
   },
   "file_extension": ".py",
   "mimetype": "text/x-python",
   "name": "python",
   "nbconvert_exporter": "python",
   "pygments_lexer": "ipython3",
   "version": "3.8.8"
  }
 },
 "nbformat": 4,
 "nbformat_minor": 5
}
