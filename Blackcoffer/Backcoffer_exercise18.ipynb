{
 "cells": [
  {
   "cell_type": "markdown",
   "id": "b9312f26",
   "metadata": {},
   "source": [
    "# Data scraping"
   ]
  },
  {
   "cell_type": "code",
   "execution_count": 1,
   "id": "ef4785ca",
   "metadata": {},
   "outputs": [],
   "source": [
    "import nltk\n",
    "import requests\n",
    "from bs4 import BeautifulSoup"
   ]
  },
  {
   "cell_type": "code",
   "execution_count": 2,
   "id": "ac2f2459",
   "metadata": {},
   "outputs": [],
   "source": [
    "req = requests.get(\"https://insights.blackcoffer.com/all-you-need-to-know-about-online-marketing/\")"
   ]
  },
  {
   "cell_type": "code",
   "execution_count": 3,
   "id": "45f9fa09",
   "metadata": {},
   "outputs": [],
   "source": [
    "soup = BeautifulSoup(req.content, \"html.parser\")\n",
    "res = soup.title\n",
    "paras = soup.find_all('p')"
   ]
  },
  {
   "cell_type": "code",
   "execution_count": 4,
   "id": "dbb256b2",
   "metadata": {
    "scrolled": true
   },
   "outputs": [
    {
     "name": "stdout",
     "output_type": "stream",
     "text": [
      "   Ever wondered how you get notified of the products or services you want or you have been looking for for a long time. Now how does this happen? Let me start with the simple and the most known fact- Marketing, Marketing is a common term which everyone knows and is aware of. Marketing is the action of promoting products and services, including market research and advertising. Traditional Marketing was working fine for all these years. So why there was a need for online marketing? The story begins from the internet era, The online presence of customers- There are 4.72 billion people are on internet users in the world today and the number is increasing day by day. So if the companies want to create awareness about their products and services their is a huge audience present online. There are a lot of benefits of online marketing like a large audience, benefits of targeting on the basis of demographics, location, age, gender, and many more. Because of this diversity, almost every type of company can use the Internet to reach any audience. All would find something of their liking. Let’s take a look at what does online marketing involves. These days, almost everybody is on social media. The majority of people use Facebook, Twitter, Instagram, and other social media platforms to communicate with their friends and relatives. Some people have created companies solely based on their social media activity. You can, however, promote your Knowledge Commerce products through social media. Whether or not you advertise on these sites. The best social media networks for advertising- Facebook advertising Instagram advertising Twitter advertising Pinterest advertising LinkedIn advertising Snapchat advertising Content marketing is a strategic marketing strategy that focuses on producing and delivering useful, appropriate, and reliable content in order to attract and maintain a specific audience — and, eventually, to drive profitable consumer action. In simple words, content marketing is a marketing strategy that producers and delivers relevant and reliable content to attract potential clients and to also retain existing clients. About half of all website traffic originates from a search engine. People who use searches are often high-intent buyers. This indicates that they are searching for a particular item. They’re all set to buy the products and services. The majority of online marketing is focused on pay-per-click (PPC). However, when you hear the word “PPC,” it refers to search ads. Pay-per-click (PPC) advertising on search engines, social media sites, and other online venues can be extremely successful. So the next time when you search for a product and services and you find similar ads on the internet this is a kind of internet marketing. Email marketing is the highly successful digital marketing technique of sending emails to prospects and consumers. It allows communicating directly with the present, former, and potential customers. businesses will inform the audience about new products as they become aware of them. Banner ads are rectangular or square advertisements that appear above, in the sidebar, or below the content on websites. Usually, a banner ad leads to a sales or landing page. You will get great results by running banner ads on websites that attract members of the target audience. An affiliate marketer, like a car salesperson, only gets paid when someone buys the stuff. You may not have to pay if there are no purchases. Affiliates are free to sell your goods anywhere they choose (as long as the material follows the terms of service of the website). It’s a fantastic way to reach new markets. Anyone can start their affiliate marketing career by registering on the different affiliate websites. Influencer marketing is a new trend for online marketing. They have a strong following, can inspire people to buy your goods, and are loved by their viewers. The type of online marketing that will work best for the company will be determined by many factors, including the nature of your industry, the tastes and demographics of the target market, and budget. Market analysis will guide to the best strategy or combination of strategies for your offerings, and comprehensive performance metrics will show you which are the most effective. Online marketing is a rapidly expanding industry that benefits companies in a variety of ways. The number of people who purchase goods and services online is on the rise. As a result, an increasing number of businesses around the world are turning to internet marketing to communicate with consumers and advertise their goods and services. \n"
     ]
    }
   ],
   "source": [
    "texts = \" \".join([paragraph.text.strip() for paragraph in paras])\n",
    "print(texts)"
   ]
  },
  {
   "cell_type": "code",
   "execution_count": 5,
   "id": "e79f5f60",
   "metadata": {},
   "outputs": [
    {
     "data": {
      "text/plain": [
       "4640"
      ]
     },
     "execution_count": 5,
     "metadata": {},
     "output_type": "execute_result"
    }
   ],
   "source": [
    "len(texts)"
   ]
  },
  {
   "cell_type": "markdown",
   "id": "db8f1fcc",
   "metadata": {},
   "source": [
    "Removing Punctuation"
   ]
  },
  {
   "cell_type": "code",
   "execution_count": 6,
   "id": "5285c8a8",
   "metadata": {},
   "outputs": [
    {
     "data": {
      "text/plain": [
       "4640"
      ]
     },
     "execution_count": 6,
     "metadata": {},
     "output_type": "execute_result"
    }
   ],
   "source": [
    "import re\n",
    "import string\n",
    "texts = re.sub(r'[\\'\\“\\”\\()\\%\\,\\-\\'\\’\\?\\ ]', ' ', texts)\n",
    "texts[0:200]\n",
    "len(texts)"
   ]
  },
  {
   "cell_type": "markdown",
   "id": "4fafe7be",
   "metadata": {},
   "source": [
    "# Removing Stopwords"
   ]
  },
  {
   "cell_type": "code",
   "execution_count": 7,
   "id": "089b8663",
   "metadata": {},
   "outputs": [],
   "source": [
    "from nltk.tokenize import word_tokenize"
   ]
  },
  {
   "cell_type": "code",
   "execution_count": 8,
   "id": "280876b0",
   "metadata": {},
   "outputs": [
    {
     "data": {
      "text/plain": [
       "['Ever',\n",
       " 'wondered',\n",
       " 'how',\n",
       " 'you',\n",
       " 'get',\n",
       " 'notified',\n",
       " 'of',\n",
       " 'the',\n",
       " 'products',\n",
       " 'or',\n",
       " 'services',\n",
       " 'you',\n",
       " 'want',\n",
       " 'or',\n",
       " 'you',\n",
       " 'have',\n",
       " 'been',\n",
       " 'looking',\n",
       " 'for',\n",
       " 'for',\n",
       " 'a',\n",
       " 'long',\n",
       " 'time',\n",
       " '.',\n",
       " 'Now',\n",
       " 'how',\n",
       " 'does',\n",
       " 'this',\n",
       " 'happen',\n",
       " 'Let',\n",
       " 'me',\n",
       " 'start',\n",
       " 'with',\n",
       " 'the',\n",
       " 'simple',\n",
       " 'and',\n",
       " 'the',\n",
       " 'most',\n",
       " 'known',\n",
       " 'fact',\n",
       " 'Marketing',\n",
       " 'Marketing',\n",
       " 'is',\n",
       " 'a',\n",
       " 'common',\n",
       " 'term',\n",
       " 'which',\n",
       " 'everyone',\n",
       " 'knows',\n",
       " 'and',\n",
       " 'is',\n",
       " 'aware',\n",
       " 'of',\n",
       " '.',\n",
       " 'Marketing',\n",
       " 'is',\n",
       " 'the',\n",
       " 'action',\n",
       " 'of',\n",
       " 'promoting',\n",
       " 'products',\n",
       " 'and',\n",
       " 'services',\n",
       " 'including',\n",
       " 'market',\n",
       " 'research',\n",
       " 'and',\n",
       " 'advertising',\n",
       " '.',\n",
       " 'Traditional',\n",
       " 'Marketing',\n",
       " 'was',\n",
       " 'working',\n",
       " 'fine',\n",
       " 'for',\n",
       " 'all',\n",
       " 'these',\n",
       " 'years',\n",
       " '.',\n",
       " 'So',\n",
       " 'why',\n",
       " 'there',\n",
       " 'was',\n",
       " 'a',\n",
       " 'need',\n",
       " 'for',\n",
       " 'online',\n",
       " 'marketing',\n",
       " 'The',\n",
       " 'story',\n",
       " 'begins',\n",
       " 'from',\n",
       " 'the',\n",
       " 'internet',\n",
       " 'era',\n",
       " 'The',\n",
       " 'online',\n",
       " 'presence',\n",
       " 'of',\n",
       " 'customers',\n",
       " 'There',\n",
       " 'are',\n",
       " '4.72',\n",
       " 'billion',\n",
       " 'people',\n",
       " 'are',\n",
       " 'on',\n",
       " 'internet',\n",
       " 'users',\n",
       " 'in',\n",
       " 'the',\n",
       " 'world',\n",
       " 'today',\n",
       " 'and',\n",
       " 'the',\n",
       " 'number',\n",
       " 'is',\n",
       " 'increasing',\n",
       " 'day',\n",
       " 'by',\n",
       " 'day',\n",
       " '.',\n",
       " 'So',\n",
       " 'if',\n",
       " 'the',\n",
       " 'companies',\n",
       " 'want',\n",
       " 'to',\n",
       " 'create',\n",
       " 'awareness',\n",
       " 'about',\n",
       " 'their',\n",
       " 'products',\n",
       " 'and',\n",
       " 'services',\n",
       " 'their',\n",
       " 'is',\n",
       " 'a',\n",
       " 'huge',\n",
       " 'audience',\n",
       " 'present',\n",
       " 'online',\n",
       " '.',\n",
       " 'There',\n",
       " 'are',\n",
       " 'a',\n",
       " 'lot',\n",
       " 'of',\n",
       " 'benefits',\n",
       " 'of',\n",
       " 'online',\n",
       " 'marketing',\n",
       " 'like',\n",
       " 'a',\n",
       " 'large',\n",
       " 'audience',\n",
       " 'benefits',\n",
       " 'of',\n",
       " 'targeting',\n",
       " 'on',\n",
       " 'the',\n",
       " 'basis',\n",
       " 'of',\n",
       " 'demographics',\n",
       " 'location',\n",
       " 'age',\n",
       " 'gender',\n",
       " 'and',\n",
       " 'many',\n",
       " 'more',\n",
       " '.',\n",
       " 'Because',\n",
       " 'of',\n",
       " 'this',\n",
       " 'diversity',\n",
       " 'almost',\n",
       " 'every',\n",
       " 'type',\n",
       " 'of',\n",
       " 'company',\n",
       " 'can',\n",
       " 'use',\n",
       " 'the',\n",
       " 'Internet',\n",
       " 'to',\n",
       " 'reach',\n",
       " 'any',\n",
       " 'audience',\n",
       " '.',\n",
       " 'All',\n",
       " 'would',\n",
       " 'find',\n",
       " 'something',\n",
       " 'of',\n",
       " 'their',\n",
       " 'liking',\n",
       " '.',\n",
       " 'Let',\n",
       " 's',\n",
       " 'take',\n",
       " 'a',\n",
       " 'look',\n",
       " 'at',\n",
       " 'what',\n",
       " 'does',\n",
       " 'online',\n",
       " 'marketing',\n",
       " 'involves',\n",
       " '.',\n",
       " 'These',\n",
       " 'days',\n",
       " 'almost',\n",
       " 'everybody',\n",
       " 'is',\n",
       " 'on',\n",
       " 'social',\n",
       " 'media',\n",
       " '.',\n",
       " 'The',\n",
       " 'majority',\n",
       " 'of',\n",
       " 'people',\n",
       " 'use',\n",
       " 'Facebook',\n",
       " 'Twitter',\n",
       " 'Instagram',\n",
       " 'and',\n",
       " 'other',\n",
       " 'social',\n",
       " 'media',\n",
       " 'platforms',\n",
       " 'to',\n",
       " 'communicate',\n",
       " 'with',\n",
       " 'their',\n",
       " 'friends',\n",
       " 'and',\n",
       " 'relatives',\n",
       " '.',\n",
       " 'Some',\n",
       " 'people',\n",
       " 'have',\n",
       " 'created',\n",
       " 'companies',\n",
       " 'solely',\n",
       " 'based',\n",
       " 'on',\n",
       " 'their',\n",
       " 'social',\n",
       " 'media',\n",
       " 'activity',\n",
       " '.',\n",
       " 'You',\n",
       " 'can',\n",
       " 'however',\n",
       " 'promote',\n",
       " 'your',\n",
       " 'Knowledge',\n",
       " 'Commerce',\n",
       " 'products',\n",
       " 'through',\n",
       " 'social',\n",
       " 'media',\n",
       " '.',\n",
       " 'Whether',\n",
       " 'or',\n",
       " 'not',\n",
       " 'you',\n",
       " 'advertise',\n",
       " 'on',\n",
       " 'these',\n",
       " 'sites',\n",
       " '.',\n",
       " 'The',\n",
       " 'best',\n",
       " 'social',\n",
       " 'media',\n",
       " 'networks',\n",
       " 'for',\n",
       " 'advertising',\n",
       " 'Facebook',\n",
       " 'advertising',\n",
       " 'Instagram',\n",
       " 'advertising',\n",
       " 'Twitter',\n",
       " 'advertising',\n",
       " 'Pinterest',\n",
       " 'advertising',\n",
       " 'LinkedIn',\n",
       " 'advertising',\n",
       " 'Snapchat',\n",
       " 'advertising',\n",
       " 'Content',\n",
       " 'marketing',\n",
       " 'is',\n",
       " 'a',\n",
       " 'strategic',\n",
       " 'marketing',\n",
       " 'strategy',\n",
       " 'that',\n",
       " 'focuses',\n",
       " 'on',\n",
       " 'producing',\n",
       " 'and',\n",
       " 'delivering',\n",
       " 'useful',\n",
       " 'appropriate',\n",
       " 'and',\n",
       " 'reliable',\n",
       " 'content',\n",
       " 'in',\n",
       " 'order',\n",
       " 'to',\n",
       " 'attract',\n",
       " 'and',\n",
       " 'maintain',\n",
       " 'a',\n",
       " 'specific',\n",
       " 'audience',\n",
       " '—',\n",
       " 'and',\n",
       " 'eventually',\n",
       " 'to',\n",
       " 'drive',\n",
       " 'profitable',\n",
       " 'consumer',\n",
       " 'action',\n",
       " '.',\n",
       " 'In',\n",
       " 'simple',\n",
       " 'words',\n",
       " 'content',\n",
       " 'marketing',\n",
       " 'is',\n",
       " 'a',\n",
       " 'marketing',\n",
       " 'strategy',\n",
       " 'that',\n",
       " 'producers',\n",
       " 'and',\n",
       " 'delivers',\n",
       " 'relevant',\n",
       " 'and',\n",
       " 'reliable',\n",
       " 'content',\n",
       " 'to',\n",
       " 'attract',\n",
       " 'potential',\n",
       " 'clients',\n",
       " 'and',\n",
       " 'to',\n",
       " 'also',\n",
       " 'retain',\n",
       " 'existing',\n",
       " 'clients',\n",
       " '.',\n",
       " 'About',\n",
       " 'half',\n",
       " 'of',\n",
       " 'all',\n",
       " 'website',\n",
       " 'traffic',\n",
       " 'originates',\n",
       " 'from',\n",
       " 'a',\n",
       " 'search',\n",
       " 'engine',\n",
       " '.',\n",
       " 'People',\n",
       " 'who',\n",
       " 'use',\n",
       " 'searches',\n",
       " 'are',\n",
       " 'often',\n",
       " 'high',\n",
       " 'intent',\n",
       " 'buyers',\n",
       " '.',\n",
       " 'This',\n",
       " 'indicates',\n",
       " 'that',\n",
       " 'they',\n",
       " 'are',\n",
       " 'searching',\n",
       " 'for',\n",
       " 'a',\n",
       " 'particular',\n",
       " 'item',\n",
       " '.',\n",
       " 'They',\n",
       " 're',\n",
       " 'all',\n",
       " 'set',\n",
       " 'to',\n",
       " 'buy',\n",
       " 'the',\n",
       " 'products',\n",
       " 'and',\n",
       " 'services',\n",
       " '.',\n",
       " 'The',\n",
       " 'majority',\n",
       " 'of',\n",
       " 'online',\n",
       " 'marketing',\n",
       " 'is',\n",
       " 'focused',\n",
       " 'on',\n",
       " 'pay',\n",
       " 'per',\n",
       " 'click',\n",
       " 'PPC',\n",
       " '.',\n",
       " 'However',\n",
       " 'when',\n",
       " 'you',\n",
       " 'hear',\n",
       " 'the',\n",
       " 'word',\n",
       " 'PPC',\n",
       " 'it',\n",
       " 'refers',\n",
       " 'to',\n",
       " 'search',\n",
       " 'ads',\n",
       " '.',\n",
       " 'Pay',\n",
       " 'per',\n",
       " 'click',\n",
       " 'PPC',\n",
       " 'advertising',\n",
       " 'on',\n",
       " 'search',\n",
       " 'engines',\n",
       " 'social',\n",
       " 'media',\n",
       " 'sites',\n",
       " 'and',\n",
       " 'other',\n",
       " 'online',\n",
       " 'venues',\n",
       " 'can',\n",
       " 'be',\n",
       " 'extremely',\n",
       " 'successful',\n",
       " '.',\n",
       " 'So',\n",
       " 'the',\n",
       " 'next',\n",
       " 'time',\n",
       " 'when',\n",
       " 'you',\n",
       " 'search',\n",
       " 'for',\n",
       " 'a',\n",
       " 'product',\n",
       " 'and',\n",
       " 'services',\n",
       " 'and',\n",
       " 'you',\n",
       " 'find',\n",
       " 'similar',\n",
       " 'ads',\n",
       " 'on',\n",
       " 'the',\n",
       " 'internet',\n",
       " 'this',\n",
       " 'is',\n",
       " 'a',\n",
       " 'kind',\n",
       " 'of',\n",
       " 'internet',\n",
       " 'marketing',\n",
       " '.',\n",
       " 'Email',\n",
       " 'marketing',\n",
       " 'is',\n",
       " 'the',\n",
       " 'highly',\n",
       " 'successful',\n",
       " 'digital',\n",
       " 'marketing',\n",
       " 'technique',\n",
       " 'of',\n",
       " 'sending',\n",
       " 'emails',\n",
       " 'to',\n",
       " 'prospects',\n",
       " 'and',\n",
       " 'consumers',\n",
       " '.',\n",
       " 'It',\n",
       " 'allows',\n",
       " 'communicating',\n",
       " 'directly',\n",
       " 'with',\n",
       " 'the',\n",
       " 'present',\n",
       " 'former',\n",
       " 'and',\n",
       " 'potential',\n",
       " 'customers',\n",
       " '.',\n",
       " 'businesses',\n",
       " 'will',\n",
       " 'inform',\n",
       " 'the',\n",
       " 'audience',\n",
       " 'about',\n",
       " 'new',\n",
       " 'products',\n",
       " 'as',\n",
       " 'they',\n",
       " 'become',\n",
       " 'aware',\n",
       " 'of',\n",
       " 'them',\n",
       " '.',\n",
       " 'Banner',\n",
       " 'ads',\n",
       " 'are',\n",
       " 'rectangular',\n",
       " 'or',\n",
       " 'square',\n",
       " 'advertisements',\n",
       " 'that',\n",
       " 'appear',\n",
       " 'above',\n",
       " 'in',\n",
       " 'the',\n",
       " 'sidebar',\n",
       " 'or',\n",
       " 'below',\n",
       " 'the',\n",
       " 'content',\n",
       " 'on',\n",
       " 'websites',\n",
       " '.',\n",
       " 'Usually',\n",
       " 'a',\n",
       " 'banner',\n",
       " 'ad',\n",
       " 'leads',\n",
       " 'to',\n",
       " 'a',\n",
       " 'sales',\n",
       " 'or',\n",
       " 'landing',\n",
       " 'page',\n",
       " '.',\n",
       " 'You',\n",
       " 'will',\n",
       " 'get',\n",
       " 'great',\n",
       " 'results',\n",
       " 'by',\n",
       " 'running',\n",
       " 'banner',\n",
       " 'ads',\n",
       " 'on',\n",
       " 'websites',\n",
       " 'that',\n",
       " 'attract',\n",
       " 'members',\n",
       " 'of',\n",
       " 'the',\n",
       " 'target',\n",
       " 'audience',\n",
       " '.',\n",
       " 'An',\n",
       " 'affiliate',\n",
       " 'marketer',\n",
       " 'like',\n",
       " 'a',\n",
       " 'car',\n",
       " 'salesperson',\n",
       " 'only',\n",
       " 'gets',\n",
       " 'paid',\n",
       " 'when',\n",
       " 'someone',\n",
       " 'buys',\n",
       " 'the',\n",
       " 'stuff',\n",
       " '.',\n",
       " 'You',\n",
       " 'may',\n",
       " 'not',\n",
       " 'have',\n",
       " 'to',\n",
       " 'pay',\n",
       " 'if',\n",
       " 'there',\n",
       " 'are',\n",
       " 'no',\n",
       " 'purchases',\n",
       " '.',\n",
       " 'Affiliates',\n",
       " 'are',\n",
       " 'free',\n",
       " 'to',\n",
       " 'sell',\n",
       " 'your',\n",
       " 'goods',\n",
       " 'anywhere',\n",
       " 'they',\n",
       " 'choose',\n",
       " 'as',\n",
       " 'long',\n",
       " 'as',\n",
       " 'the',\n",
       " 'material',\n",
       " 'follows',\n",
       " 'the',\n",
       " 'terms',\n",
       " 'of',\n",
       " 'service',\n",
       " 'of',\n",
       " 'the',\n",
       " 'website',\n",
       " '.',\n",
       " 'It',\n",
       " 's',\n",
       " 'a',\n",
       " 'fantastic',\n",
       " 'way',\n",
       " 'to',\n",
       " 'reach',\n",
       " 'new',\n",
       " 'markets',\n",
       " '.',\n",
       " 'Anyone',\n",
       " 'can',\n",
       " 'start',\n",
       " 'their',\n",
       " 'affiliate',\n",
       " 'marketing',\n",
       " 'career',\n",
       " 'by',\n",
       " 'registering',\n",
       " 'on',\n",
       " 'the',\n",
       " 'different',\n",
       " 'affiliate',\n",
       " 'websites',\n",
       " '.',\n",
       " 'Influencer',\n",
       " 'marketing',\n",
       " 'is',\n",
       " 'a',\n",
       " 'new',\n",
       " 'trend',\n",
       " 'for',\n",
       " 'online',\n",
       " 'marketing',\n",
       " '.',\n",
       " 'They',\n",
       " 'have',\n",
       " 'a',\n",
       " 'strong',\n",
       " 'following',\n",
       " 'can',\n",
       " 'inspire',\n",
       " 'people',\n",
       " 'to',\n",
       " 'buy',\n",
       " 'your',\n",
       " 'goods',\n",
       " 'and',\n",
       " 'are',\n",
       " 'loved',\n",
       " 'by',\n",
       " 'their',\n",
       " 'viewers',\n",
       " '.',\n",
       " 'The',\n",
       " 'type',\n",
       " 'of',\n",
       " 'online',\n",
       " 'marketing',\n",
       " 'that',\n",
       " 'will',\n",
       " 'work',\n",
       " 'best',\n",
       " 'for',\n",
       " 'the',\n",
       " 'company',\n",
       " 'will',\n",
       " 'be',\n",
       " 'determined',\n",
       " 'by',\n",
       " 'many',\n",
       " 'factors',\n",
       " 'including',\n",
       " 'the',\n",
       " 'nature',\n",
       " 'of',\n",
       " 'your',\n",
       " 'industry',\n",
       " 'the',\n",
       " 'tastes',\n",
       " 'and',\n",
       " 'demographics',\n",
       " 'of',\n",
       " 'the',\n",
       " 'target',\n",
       " 'market',\n",
       " 'and',\n",
       " 'budget',\n",
       " '.',\n",
       " 'Market',\n",
       " 'analysis',\n",
       " 'will',\n",
       " 'guide',\n",
       " 'to',\n",
       " 'the',\n",
       " 'best',\n",
       " 'strategy',\n",
       " 'or',\n",
       " 'combination',\n",
       " 'of',\n",
       " 'strategies',\n",
       " 'for',\n",
       " 'your',\n",
       " 'offerings',\n",
       " 'and',\n",
       " 'comprehensive',\n",
       " 'performance',\n",
       " 'metrics',\n",
       " 'will',\n",
       " 'show',\n",
       " 'you',\n",
       " 'which',\n",
       " 'are',\n",
       " 'the',\n",
       " 'most',\n",
       " 'effective',\n",
       " '.',\n",
       " 'Online',\n",
       " 'marketing',\n",
       " 'is',\n",
       " 'a',\n",
       " 'rapidly',\n",
       " 'expanding',\n",
       " 'industry',\n",
       " 'that',\n",
       " 'benefits',\n",
       " 'companies',\n",
       " 'in',\n",
       " 'a',\n",
       " 'variety',\n",
       " 'of',\n",
       " 'ways',\n",
       " '.',\n",
       " 'The',\n",
       " 'number',\n",
       " 'of',\n",
       " 'people',\n",
       " 'who',\n",
       " 'purchase',\n",
       " 'goods',\n",
       " 'and',\n",
       " 'services',\n",
       " 'online',\n",
       " 'is',\n",
       " 'on',\n",
       " 'the',\n",
       " 'rise',\n",
       " '.',\n",
       " 'As',\n",
       " 'a',\n",
       " 'result',\n",
       " 'an',\n",
       " 'increasing',\n",
       " 'number',\n",
       " 'of',\n",
       " 'businesses',\n",
       " 'around',\n",
       " 'the',\n",
       " 'world',\n",
       " 'are',\n",
       " 'turning',\n",
       " 'to',\n",
       " 'internet',\n",
       " 'marketing',\n",
       " 'to',\n",
       " 'communicate',\n",
       " 'with',\n",
       " 'consumers',\n",
       " 'and',\n",
       " 'advertise',\n",
       " 'their',\n",
       " 'goods',\n",
       " 'and',\n",
       " 'services',\n",
       " '.']"
      ]
     },
     "execution_count": 8,
     "metadata": {},
     "output_type": "execute_result"
    }
   ],
   "source": [
    "token = word_tokenize(texts)\n",
    "token"
   ]
  },
  {
   "cell_type": "code",
   "execution_count": 9,
   "id": "10016a09",
   "metadata": {},
   "outputs": [],
   "source": [
    "with open(\"D:\\lab\\Dataset\\Stopwords_Blackcoffer.txt\", 'r') as file:\n",
    "    data = file.read()"
   ]
  },
  {
   "cell_type": "code",
   "execution_count": 10,
   "id": "c567cbef",
   "metadata": {},
   "outputs": [
    {
     "data": {
      "text/plain": [
       "'ERNST\\nYOUNG\\nDELOITTE\\nTOUCHE\\nKPMG\\nPRICEWATERHOUSECOOPERS\\nPRICEWATERHOUSE\\nCOOPERS\\nAFGHANI\\nARIARY\\nBAHT\\n'"
      ]
     },
     "execution_count": 10,
     "metadata": {},
     "output_type": "execute_result"
    }
   ],
   "source": [
    "data[:100]"
   ]
  },
  {
   "cell_type": "code",
   "execution_count": 11,
   "id": "d65bfa92",
   "metadata": {},
   "outputs": [
    {
     "data": {
      "text/plain": [
       "'ERNST,YOUNG,DELOITTE,TOUCHE,KPMG,PRICEWATERHOUSECOOPERS,PRICEWATERHOUSE,COOPERS,AFGHANI,ARIARY,BAHT,'"
      ]
     },
     "execution_count": 11,
     "metadata": {},
     "output_type": "execute_result"
    }
   ],
   "source": [
    "data = data.replace('\\n', ',')\n",
    "data[:100]"
   ]
  },
  {
   "cell_type": "code",
   "execution_count": 12,
   "id": "0ef23874",
   "metadata": {},
   "outputs": [
    {
     "data": {
      "text/plain": [
       "'Ever wondered notified products services . Now Let start simple fact Marketing Marketing common term aware . Marketing action promoting products services including market research advertising . Tradit'"
      ]
     },
     "execution_count": 12,
     "metadata": {},
     "output_type": "execute_result"
    }
   ],
   "source": [
    "new_texts = \" \".join([i for i in token if i not in data])\n",
    "new_texts[:200]"
   ]
  },
  {
   "cell_type": "code",
   "execution_count": 13,
   "id": "ea392da4",
   "metadata": {},
   "outputs": [
    {
     "name": "stdout",
     "output_type": "stream",
     "text": [
      "length before cleaning:  4640\n",
      "length after cleaning:  3074\n"
     ]
    }
   ],
   "source": [
    "print(\"length before cleaning: \", len(texts))\n",
    "print(\"length after cleaning: \", len(new_texts))"
   ]
  },
  {
   "cell_type": "markdown",
   "id": "1f456147",
   "metadata": {},
   "source": [
    "# Negative words"
   ]
  },
  {
   "cell_type": "code",
   "execution_count": 14,
   "id": "dc3618a7",
   "metadata": {},
   "outputs": [],
   "source": [
    "with open(\"D:\\\\lab\\\\Dataset\\\\Negative_words.txt\", 'r') as file:\n",
    "    negative = file.read()"
   ]
  },
  {
   "cell_type": "code",
   "execution_count": 15,
   "id": "2123c4cb",
   "metadata": {},
   "outputs": [
    {
     "data": {
      "text/plain": [
       "'2-faced\\n2-faces\\nabnormal\\nabolish\\nabominable\\nabominably\\nabominate\\nabomination\\nabort\\naborted\\naborts\\nabrade\\nabrasive\\nabrupt\\nabruptly\\nabscond\\nabsence\\nabsent-minded\\nabsentee\\nabsurd\\nabsurdity\\nabsurdly\\nabsurdness\\n'"
      ]
     },
     "execution_count": 15,
     "metadata": {},
     "output_type": "execute_result"
    }
   ],
   "source": [
    "negative[:206]"
   ]
  },
  {
   "cell_type": "code",
   "execution_count": 16,
   "id": "28f44c97",
   "metadata": {},
   "outputs": [
    {
     "data": {
      "text/plain": [
       "'2-faced,2-faces,abnormal,abolish,abominable,abominably,abominate,abomination,abort,aborted,aborts,abrade,abrasive,abrupt,abruptly,abscond,absence,absent-minded,absentee,absurd,absurdity,absurdly,absurdness,'"
      ]
     },
     "execution_count": 16,
     "metadata": {},
     "output_type": "execute_result"
    }
   ],
   "source": [
    "negative = negative.replace('\\n', ',')\n",
    "negative[:206]"
   ]
  },
  {
   "cell_type": "code",
   "execution_count": 17,
   "id": "31a272c0",
   "metadata": {},
   "outputs": [
    {
     "name": "stdout",
     "output_type": "stream",
     "text": [
      "['start', 'fact', 'common', 'term', 'action', 'fine', 'day', 'day', 'present', 'lot', 'age', 'type', 'reach', 'liking', 'social', 'social', 'social', 'social', 'social', 'reliable', 'content', 'order', 'attract', 'profitable', 'action', 'content', 'relevant', 'reliable', 'content', 'attract', 'half', 'high', 'item', 'set', 'pay', 'hear', 'social', 'successful', 'product', 'kind', 'successful', 'present', 'inform', 'content', 'page', 'attract', 'car', 'paid', 'stuff', 'pay', 'free', 'material', 'service', 'reach', 'start', 'type', 'work', 'determined', 'nature', 'guide', 'show', 'effective']\n"
     ]
    },
    {
     "data": {
      "text/plain": [
       "62"
      ]
     },
     "execution_count": 17,
     "metadata": {},
     "output_type": "execute_result"
    }
   ],
   "source": [
    "new_texts = word_tokenize(new_texts)\n",
    "negative_words = [i for i in new_texts if i in negative]\n",
    "print(negative_words)\n",
    "len(negative_words)"
   ]
  },
  {
   "cell_type": "markdown",
   "id": "0b24f011",
   "metadata": {},
   "source": [
    "# Positive words"
   ]
  },
  {
   "cell_type": "code",
   "execution_count": 18,
   "id": "4b003620",
   "metadata": {},
   "outputs": [
    {
     "data": {
      "text/plain": [
       "'a+\\nabound\\nabounds\\nabundance\\nabundant\\naccessable\\naccessible\\nacclaim\\nacclaimed\\nacclamation\\naccolade\\naccolades\\naccommodative\\naccomodative\\naccomplish\\naccomplished\\naccomplishment\\naccomplishments\\naccurate\\naccurately\\n'"
      ]
     },
     "execution_count": 18,
     "metadata": {},
     "output_type": "execute_result"
    }
   ],
   "source": [
    "with open(\"D:\\\\lab\\\\Dataset\\\\Positive_words.txt\", 'r') as file:\n",
    "    positive = file.read()\n",
    "positive[:210]    "
   ]
  },
  {
   "cell_type": "code",
   "execution_count": 19,
   "id": "66ed38c6",
   "metadata": {},
   "outputs": [
    {
     "data": {
      "text/plain": [
       "'a+,abound,abounds,abundance,abundant,accessable,accessible,acclaim,acclaimed,acclamation,accolade,accolades,accommodative,accomodative,accomplish,accomplished,accomplishment,accomplishments,accurate,accurately,'"
      ]
     },
     "execution_count": 19,
     "metadata": {},
     "output_type": "execute_result"
    }
   ],
   "source": [
    "positive = positive.replace('\\n',',')\n",
    "positive[:210]"
   ]
  },
  {
   "cell_type": "code",
   "execution_count": 20,
   "id": "fc1387e8",
   "metadata": {},
   "outputs": [
    {
     "name": "stdout",
     "output_type": "stream",
     "text": [
      "['simple', 'fact', 'term', 'action', 'working', 'fine', 'world', 'benefits', 'large', 'benefits', 'age', 'reach', 'liking', 'promote', 'reliable', 'content', 'order', 'attract', 'action', 'simple', 'content', 'reliable', 'content', 'attract', 'high', 'intent', 'item', 'set', 'hear', 'refers', 'ads', 'successful', 'product', 'ads', 'kind', 'successful', 'inform', 'ads', 'content', 'leads', 'great', 'ads', 'attract', 'car', 'free', 'sell', 'fantastic', 'reach', 'trend', 'strong', 'inspire', 'loved', 'work', 'comprehensive', 'effective', 'benefits', 'variety', 'world']\n"
     ]
    },
    {
     "data": {
      "text/plain": [
       "58"
      ]
     },
     "execution_count": 20,
     "metadata": {},
     "output_type": "execute_result"
    }
   ],
   "source": [
    "positive_words = [i for i in new_texts if i in positive]\n",
    "print(positive_words)\n",
    "len(positive_words)"
   ]
  },
  {
   "cell_type": "markdown",
   "id": "1b59646d",
   "metadata": {},
   "source": [
    "#### positive Score\n"
   ]
  },
  {
   "cell_type": "code",
   "execution_count": 21,
   "id": "7d0fbab1",
   "metadata": {},
   "outputs": [
    {
     "name": "stdout",
     "output_type": "stream",
     "text": [
      "58\n"
     ]
    }
   ],
   "source": [
    "pos_score = len(positive_words)\n",
    "print(pos_score)"
   ]
  },
  {
   "cell_type": "markdown",
   "id": "54a6cc12",
   "metadata": {},
   "source": [
    "#### Negative Score"
   ]
  },
  {
   "cell_type": "code",
   "execution_count": 22,
   "id": "df0766cd",
   "metadata": {},
   "outputs": [
    {
     "name": "stdout",
     "output_type": "stream",
     "text": [
      "62\n"
     ]
    }
   ],
   "source": [
    "neg_score=len(negative_words)\n",
    "print(neg_score)"
   ]
  },
  {
   "cell_type": "markdown",
   "id": "84da7ab7",
   "metadata": {},
   "source": [
    "#### Polarity Score"
   ]
  },
  {
   "cell_type": "code",
   "execution_count": 23,
   "id": "21e88c2b",
   "metadata": {},
   "outputs": [
    {
     "data": {
      "text/plain": [
       "-0.03"
      ]
     },
     "execution_count": 23,
     "metadata": {},
     "output_type": "execute_result"
    }
   ],
   "source": [
    "Polarity_Score = (pos_score - neg_score)/((pos_score + neg_score) + 0.000001)\n",
    "round(Polarity_Score,2)"
   ]
  },
  {
   "cell_type": "code",
   "execution_count": 24,
   "id": "08bcb4ab",
   "metadata": {},
   "outputs": [
    {
     "name": "stdout",
     "output_type": "stream",
     "text": [
      "number of words after cleaning : 427\n"
     ]
    }
   ],
   "source": [
    "word_count = len(new_texts)\n",
    "print(\"number of words after cleaning :\",word_count)"
   ]
  },
  {
   "cell_type": "markdown",
   "id": "16495ba1",
   "metadata": {},
   "source": [
    "#### Subjectivity Score"
   ]
  },
  {
   "cell_type": "code",
   "execution_count": 25,
   "id": "841713a3",
   "metadata": {},
   "outputs": [
    {
     "data": {
      "text/plain": [
       "0.28"
      ]
     },
     "execution_count": 25,
     "metadata": {},
     "output_type": "execute_result"
    }
   ],
   "source": [
    "Subjectivity_Score = (pos_score + neg_score)/ ((word_count) + 0.000001)\n",
    "round(Subjectivity_Score,2)"
   ]
  },
  {
   "cell_type": "markdown",
   "id": "0d7c370e",
   "metadata": {},
   "source": [
    "# Analysis of Readability"
   ]
  },
  {
   "cell_type": "code",
   "execution_count": 26,
   "id": "10209a7a",
   "metadata": {},
   "outputs": [
    {
     "data": {
      "text/plain": [
       "796"
      ]
     },
     "execution_count": 26,
     "metadata": {},
     "output_type": "execute_result"
    }
   ],
   "source": [
    "import nltk\n",
    "from nltk.tokenize import word_tokenize\n",
    "word_tokens = nltk.word_tokenize(texts)\n",
    "No_of_words = len(word_tokens)\n",
    "No_of_words"
   ]
  },
  {
   "cell_type": "code",
   "execution_count": 27,
   "id": "bfac2ab7",
   "metadata": {},
   "outputs": [
    {
     "data": {
      "text/plain": [
       "43"
      ]
     },
     "execution_count": 27,
     "metadata": {},
     "output_type": "execute_result"
    }
   ],
   "source": [
    "sent_tokens = nltk.sent_tokenize(texts)\n",
    "No_of_sents = len(sent_tokens)\n",
    "No_of_sents "
   ]
  },
  {
   "cell_type": "markdown",
   "id": "1576acfe",
   "metadata": {},
   "source": [
    "### Average sentence Length\n"
   ]
  },
  {
   "cell_type": "code",
   "execution_count": 28,
   "id": "11d6a7ec",
   "metadata": {},
   "outputs": [
    {
     "data": {
      "text/plain": [
       "18.51"
      ]
     },
     "execution_count": 28,
     "metadata": {},
     "output_type": "execute_result"
    }
   ],
   "source": [
    "Avg_Sents_Length = No_of_words / No_of_sents\n",
    "round(Avg_Sents_Length,2)"
   ]
  },
  {
   "cell_type": "markdown",
   "id": "bc20ee3d",
   "metadata": {},
   "source": [
    "### Percentage of Complex words\n",
    "Complex words: words with more than 2 syllable are called complex words"
   ]
  },
  {
   "cell_type": "code",
   "execution_count": 29,
   "id": "eba6a8b1",
   "metadata": {},
   "outputs": [
    {
     "name": "stdout",
     "output_type": "stream",
     "text": [
      "Number of complex words: 146\n",
      "Total number of words: 4640\n"
     ]
    }
   ],
   "source": [
    "from nltk.corpus import cmudict\n",
    "cmud = cmudict.dict()\n",
    "\n",
    "# Defining a function to count syllables in a word\n",
    "def count_syllables(word):\n",
    "    phonemes = cmud[word.lower()][0] \n",
    "    return len([s for s in phonemes if s[-1].isdigit()])\n",
    "\n",
    "# Identifing complex words\n",
    "w_tokens = [i for i in word_tokens if i in cmud]\n",
    "complex_words = [word for word in w_tokens if count_syllables(word) > 2]\n",
    "\n",
    "# Calculatingnumber of complex words\n",
    "num_complex_words = len(complex_words)\n",
    "\n",
    "print(\"Number of complex words:\", num_complex_words)\n",
    "print(\"Total number of words:\", len(texts))"
   ]
  },
  {
   "cell_type": "code",
   "execution_count": 30,
   "id": "e982c0a1",
   "metadata": {},
   "outputs": [
    {
     "data": {
      "text/plain": [
       "31.78"
      ]
     },
     "execution_count": 30,
     "metadata": {},
     "output_type": "execute_result"
    }
   ],
   "source": [
    "Perc_of_Complex_words = len(texts) / num_complex_words\n",
    "round(Perc_of_Complex_words,2)"
   ]
  },
  {
   "cell_type": "markdown",
   "id": "77e948d1",
   "metadata": {},
   "source": [
    "### Fog Index"
   ]
  },
  {
   "cell_type": "code",
   "execution_count": 31,
   "id": "95fb10bb",
   "metadata": {},
   "outputs": [
    {
     "name": "stdout",
     "output_type": "stream",
     "text": [
      "Average sentence length: 43.0\n"
     ]
    }
   ],
   "source": [
    "# Tokenize each sentence into words\n",
    "words = [word_tokens for sentence in sent_tokens]\n",
    "\n",
    "# Calculate the average sentence length\n",
    "avg_sent_len = sum(No_of_sents for sentence in words) / No_of_sents\n",
    "\n",
    "print(\"Average sentence length:\", avg_sent_len)\n"
   ]
  },
  {
   "cell_type": "code",
   "execution_count": 32,
   "id": "38f5a93b",
   "metadata": {},
   "outputs": [
    {
     "data": {
      "text/plain": [
       "29.91"
      ]
     },
     "execution_count": 32,
     "metadata": {},
     "output_type": "execute_result"
    }
   ],
   "source": [
    "Fog_index = 0.4 * (avg_sent_len + Perc_of_Complex_words)\n",
    "round(Fog_index,2)"
   ]
  },
  {
   "cell_type": "markdown",
   "id": "5b4aacea",
   "metadata": {},
   "source": [
    "# Average Number of Words Per Sentence"
   ]
  },
  {
   "cell_type": "code",
   "execution_count": 33,
   "id": "45da1407",
   "metadata": {},
   "outputs": [
    {
     "data": {
      "text/plain": [
       "18.51"
      ]
     },
     "execution_count": 33,
     "metadata": {},
     "output_type": "execute_result"
    }
   ],
   "source": [
    "avg_no_of_words_per_sent = No_of_words / No_of_sents\n",
    "round(avg_no_of_words_per_sent,2)"
   ]
  },
  {
   "cell_type": "markdown",
   "id": "f2d9b493",
   "metadata": {},
   "source": [
    "# Complex Word Count"
   ]
  },
  {
   "cell_type": "code",
   "execution_count": 34,
   "id": "75304424",
   "metadata": {},
   "outputs": [
    {
     "name": "stdout",
     "output_type": "stream",
     "text": [
      "complex word count: 146\n"
     ]
    }
   ],
   "source": [
    "from nltk.corpus import cmudict\n",
    "cmud = cmudict.dict()\n",
    "\n",
    "# Defining a function to count syllables in a word\n",
    "def count_syllables(word):\n",
    "    phonemes = cmud[word.lower()][0] \n",
    "    return len([s for s in phonemes if s[-1].isdigit()])\n",
    "\n",
    "# Identifing complex words\n",
    "w_tokens = [i for i in word_tokens if i in cmud]\n",
    "complex_words = [word for word in w_tokens if count_syllables(word) > 2]\n",
    "\n",
    "# Calculatingnumber of complex words\n",
    "num_complex_words = len(complex_words)\n",
    "\n",
    "print(\"complex word count:\", num_complex_words)"
   ]
  },
  {
   "cell_type": "markdown",
   "id": "99ea5188",
   "metadata": {},
   "source": [
    "# Word Count\n",
    "number of words after cleaning"
   ]
  },
  {
   "cell_type": "code",
   "execution_count": 35,
   "id": "b4fb0c72",
   "metadata": {},
   "outputs": [
    {
     "data": {
      "text/plain": [
       "427"
      ]
     },
     "execution_count": 35,
     "metadata": {},
     "output_type": "execute_result"
    }
   ],
   "source": [
    "len(new_texts)"
   ]
  },
  {
   "cell_type": "markdown",
   "id": "ca8076ff",
   "metadata": {},
   "source": [
    "# Syllable Count Per Word"
   ]
  },
  {
   "cell_type": "code",
   "execution_count": 36,
   "id": "bc568045",
   "metadata": {},
   "outputs": [
    {
     "name": "stdout",
     "output_type": "stream",
     "text": [
      "Enter a word to get syllable: marketing\n",
      "Number of syllable in a word : 3\n"
     ]
    }
   ],
   "source": [
    "word = input(\"Enter a word to get syllable: \")\n",
    "def count_syllables(word):\n",
    "    phonemes = cmud[word.lower()][0] \n",
    "    return len([s for s in phonemes if s[-1].isdigit()])\n",
    "\n",
    "print(\"Number of syllable in a word :\",count_syllables(word))"
   ]
  },
  {
   "cell_type": "markdown",
   "id": "1d3a18f6",
   "metadata": {},
   "source": [
    "# Personal Pronouns"
   ]
  },
  {
   "cell_type": "code",
   "execution_count": 37,
   "id": "0b8e0d2d",
   "metadata": {},
   "outputs": [
    {
     "name": "stdout",
     "output_type": "stream",
     "text": [
      "Personal pronoun frequency: {'you': 11, 'me': 1, 'they': 5, 'it': 3, 'them': 1}\n",
      "total number of pronouns in a article : 21\n"
     ]
    }
   ],
   "source": [
    "import re\n",
    "\n",
    "# Define a regex pattern to match personal pronouns\n",
    "pattern = r'\\b(I|you|he|she|it|we|they|me|him|her|us|them)\\b'\n",
    "\n",
    "# Count the frequency of personal pronouns\n",
    "pronoun_freq = {}\n",
    "for pronoun in re.findall(pattern, texts, re.IGNORECASE):\n",
    "    pronoun = pronoun.lower()\n",
    "    if pronoun in pronoun_freq:\n",
    "        pronoun_freq[pronoun] += 1\n",
    "    else:\n",
    "        pronoun_freq[pronoun] = 1\n",
    "\n",
    "print(\"Personal pronoun frequency:\", pronoun_freq)\n",
    "def returnSum(dict):\n",
    " \n",
    "    sum = 0\n",
    "    for i in pronoun_freq.values():\n",
    "        sum = sum + i\n",
    " \n",
    "    return sum\n",
    "print(\"total number of pronouns in a article :\",returnSum(pronoun_freq))"
   ]
  },
  {
   "cell_type": "markdown",
   "id": "e3fc87f8",
   "metadata": {},
   "source": [
    "# Average Word Length"
   ]
  },
  {
   "cell_type": "code",
   "execution_count": 38,
   "id": "5bde37d9",
   "metadata": {},
   "outputs": [
    {
     "name": "stdout",
     "output_type": "stream",
     "text": [
      "Average word length: 4.82\n"
     ]
    }
   ],
   "source": [
    "# Calculate the total number of characters in all words\n",
    "total_chars = sum(len(word) for word in word_tokens)\n",
    "\n",
    "avg_word_length = total_chars / No_of_words\n",
    "\n",
    "print(\"Average word length:\", round(avg_word_length,2))\n"
   ]
  },
  {
   "cell_type": "code",
   "execution_count": null,
   "id": "63dc25ad",
   "metadata": {},
   "outputs": [],
   "source": []
  },
  {
   "cell_type": "code",
   "execution_count": null,
   "id": "819012c5",
   "metadata": {},
   "outputs": [],
   "source": []
  }
 ],
 "metadata": {
  "kernelspec": {
   "display_name": "Python 3",
   "language": "python",
   "name": "python3"
  },
  "language_info": {
   "codemirror_mode": {
    "name": "ipython",
    "version": 3
   },
   "file_extension": ".py",
   "mimetype": "text/x-python",
   "name": "python",
   "nbconvert_exporter": "python",
   "pygments_lexer": "ipython3",
   "version": "3.8.8"
  }
 },
 "nbformat": 4,
 "nbformat_minor": 5
}
