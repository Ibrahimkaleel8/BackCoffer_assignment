{
 "cells": [
  {
   "cell_type": "markdown",
   "id": "b9312f26",
   "metadata": {},
   "source": [
    "# Data scraping"
   ]
  },
  {
   "cell_type": "code",
   "execution_count": 1,
   "id": "ef4785ca",
   "metadata": {},
   "outputs": [],
   "source": [
    "import nltk\n",
    "import requests\n",
    "from bs4 import BeautifulSoup"
   ]
  },
  {
   "cell_type": "code",
   "execution_count": 2,
   "id": "ac2f2459",
   "metadata": {},
   "outputs": [],
   "source": [
    "req = requests.get(\"https://insights.blackcoffer.com/how-to-overcome-your-fear-of-making-mistakes/\")"
   ]
  },
  {
   "cell_type": "code",
   "execution_count": 3,
   "id": "45f9fa09",
   "metadata": {},
   "outputs": [],
   "source": [
    "soup = BeautifulSoup(req.content, \"html.parser\")\n",
    "res = soup.title\n",
    "paras = soup.find_all('p')"
   ]
  },
  {
   "cell_type": "code",
   "execution_count": 4,
   "id": "dbb256b2",
   "metadata": {
    "scrolled": true
   },
   "outputs": [
    {
     "name": "stdout",
     "output_type": "stream",
     "text": [
      "The Covid-19 crisis and its fallout including recession, layoffs, and uneven economic pain-as well as recent protests over police brutality and demands for racial justice, have presented many of us with challenges that we’ve not encountered before. The high-stakes and unfamiliar nature of these situations have left many people feeling fearful of missteps. No one can reduce mistakes to zero, but you can learn to harness your drive to prevent them and channel it into better decision making. Use these tips to become a more effective worrier. Our culture glorifies fearlessness. The traditional image of a leader is one who is smart, tough, and unafraid. But fear, like any emotion, has an evolutionary purpose and upside. Your concern about making mistakes is there to remind you that we’re in a challenging situation. A cautious leader has value. This is especially true in times like these. So don’t get caught up in ruminating: “I shouldn’t be so fearful.” Don’t be ashamed or afraid of your fear of making mistakes and don’t interpret it as evidence that you’re an indecisive leader, or not bold, not visionary. If you have a natural tendency to be prevention-focused, channel it to be bold and visionary! (If you struggle to believe this, identify leaders who have done just that by figuring out how to prevent disasters.) Fear of mistakes can paralyze people. Emotional agility skills are an antidote to this paralysis. This process starts with labeling your thoughts and feelings, such as “I feel anxious I’m not going to be able to control my customers enough to keep my staff safe.” Stating your fears out loud helps diffuse them. It’s like turning the light on in a dark room. Next comes accepting reality. For example, “I understand that people will not always behave in ideal ways.” List off every truth you need to accept. Then comes acting your values. Let’s say one of your highest values is conscientiousness. How might that value apply in this situation? For example, it might involve making sure your employees all have masks that fit them well or feel comfortable airing any grievances they have. Identify your five most important values related to decision-making in a crisis. Then ask yourself how each of those is relevant to the important choices you face. Repeat this process for each of your fears. It will help you tolerate the fact that we sometimes need to act when the course of action isn’t clear and avoid the common anxiety trap whereby people try to reduce uncertainty to zero. Worrying can help you make better decisions if you do it effectively. Most people don’t . When you worry, it should be solutions-focused, not just perseverating on the presence of a threat. Direct your worry towards behaviors that will realistically reduce the chances of failure. We can control systems, not outcomes. What are your systems and processes for avoiding making mistakes? Direct your worries into answering questions like these: Is the data you’re relying on reliable? What are the limitations of it? How do your systems help prevent groupthink? What procedures do you have in place to help you see your blind spots? How do you ensure that you hear valuable perspectives from underrepresented stakeholders? What are your processes for being alerted to a problem quickly and rectifying it if a decision has unexpected consequences? When we’re scared of making a mistake, our thinking can narrow around that particular scenario. Imagine you’re out walking at night. You’re worried about tripping, so you keep looking down at your feet. Next thing you know you’ve walked into a lamp post. Or, imagine the person who is scared of flying. They drive everywhere, even though driving is objectively more dangerous. When you open the aperture, it can help you see your greatest fears in the broader context of all the other threats out there. This can help you get a better perspective on what you fear the most. It might seem illogical that you could reduce your fear of making a mistake by thinking about other negative outcomes. But this strategy can help kick you into problem-solving mode and lessen the mental grip a particular fear has on you. A leader might be so highly focused on minimizing or optimizing for one particular thing, they don’t realize that other people care most about something else. Find out what other people’s priorities are. Fear grabs us. It makes it difficult to direct our attention away. This is how it is designed to work, so that we don’t ignore threats. Some people react to fear with extreme hypervigilance. They want to be on guard, at their command post, at all times. This might manifest as behavior like staying up all night to work. That type of adrenalin-fueled behavior can have short-term value, but it can also be myopic. A different approach can be more useful for bigger picture thinking. We need leisure (and sleep!) to step back, integrate the threads of our thinking, see blindspots, and think creatively. Get some silent time. Although much maligned, a game of golf might be exactly what you need to think about tough problems holistically. As mentioned, when people are fearful they can go into always-on monitoring mode. You may have the urge to constantly look at what everyone else is doing, to always be on social media, or check data too frequently. This can result in information overload. Your mind can become so overwhelmed that you start to feel cloudy or shut down. Recognize if you’re doing this and limit over-monitoring or overchecking. Avoid panicked, frenzied behavior. On its own, being afraid of making mistakes doesn’t make you more or less likely to make good decisions. If you worry excessively in a way that focuses only on how bad the experience of stress and uncertainty feels, you might make do or say the wrong things. However, if you understand how anxiety works at a cognitive level, you can use it to motivate careful but bold and well-reasoned choices. \n"
     ]
    }
   ],
   "source": [
    "texts = \" \".join([paragraph.text.strip() for paragraph in paras])\n",
    "print(texts)"
   ]
  },
  {
   "cell_type": "code",
   "execution_count": 5,
   "id": "e79f5f60",
   "metadata": {},
   "outputs": [
    {
     "data": {
      "text/plain": [
       "5955"
      ]
     },
     "execution_count": 5,
     "metadata": {},
     "output_type": "execute_result"
    }
   ],
   "source": [
    "len(texts)"
   ]
  },
  {
   "cell_type": "markdown",
   "id": "db8f1fcc",
   "metadata": {},
   "source": [
    "Removing Punctuation"
   ]
  },
  {
   "cell_type": "code",
   "execution_count": 6,
   "id": "5285c8a8",
   "metadata": {},
   "outputs": [
    {
     "data": {
      "text/plain": [
       "5955"
      ]
     },
     "execution_count": 6,
     "metadata": {},
     "output_type": "execute_result"
    }
   ],
   "source": [
    "import re\n",
    "import string\n",
    "texts = re.sub(r'[\\'\\“\\”\\()\\%\\,\\-\\'\\’\\?\\ ]', ' ', texts)\n",
    "texts[0:200]\n",
    "len(texts)"
   ]
  },
  {
   "cell_type": "markdown",
   "id": "4fafe7be",
   "metadata": {},
   "source": [
    "# Removing Stopwords"
   ]
  },
  {
   "cell_type": "code",
   "execution_count": 7,
   "id": "089b8663",
   "metadata": {},
   "outputs": [],
   "source": [
    "from nltk.tokenize import word_tokenize"
   ]
  },
  {
   "cell_type": "code",
   "execution_count": 8,
   "id": "280876b0",
   "metadata": {},
   "outputs": [
    {
     "data": {
      "text/plain": [
       "['The',\n",
       " 'Covid',\n",
       " '19',\n",
       " 'crisis',\n",
       " 'and',\n",
       " 'its',\n",
       " 'fallout',\n",
       " 'including',\n",
       " 'recession',\n",
       " 'layoffs',\n",
       " 'and',\n",
       " 'uneven',\n",
       " 'economic',\n",
       " 'pain',\n",
       " 'as',\n",
       " 'well',\n",
       " 'as',\n",
       " 'recent',\n",
       " 'protests',\n",
       " 'over',\n",
       " 'police',\n",
       " 'brutality',\n",
       " 'and',\n",
       " 'demands',\n",
       " 'for',\n",
       " 'racial',\n",
       " 'justice',\n",
       " 'have',\n",
       " 'presented',\n",
       " 'many',\n",
       " 'of',\n",
       " 'us',\n",
       " 'with',\n",
       " 'challenges',\n",
       " 'that',\n",
       " 'we',\n",
       " 've',\n",
       " 'not',\n",
       " 'encountered',\n",
       " 'before',\n",
       " '.',\n",
       " 'The',\n",
       " 'high',\n",
       " 'stakes',\n",
       " 'and',\n",
       " 'unfamiliar',\n",
       " 'nature',\n",
       " 'of',\n",
       " 'these',\n",
       " 'situations',\n",
       " 'have',\n",
       " 'left',\n",
       " 'many',\n",
       " 'people',\n",
       " 'feeling',\n",
       " 'fearful',\n",
       " 'of',\n",
       " 'missteps',\n",
       " '.',\n",
       " 'No',\n",
       " 'one',\n",
       " 'can',\n",
       " 'reduce',\n",
       " 'mistakes',\n",
       " 'to',\n",
       " 'zero',\n",
       " 'but',\n",
       " 'you',\n",
       " 'can',\n",
       " 'learn',\n",
       " 'to',\n",
       " 'harness',\n",
       " 'your',\n",
       " 'drive',\n",
       " 'to',\n",
       " 'prevent',\n",
       " 'them',\n",
       " 'and',\n",
       " 'channel',\n",
       " 'it',\n",
       " 'into',\n",
       " 'better',\n",
       " 'decision',\n",
       " 'making',\n",
       " '.',\n",
       " 'Use',\n",
       " 'these',\n",
       " 'tips',\n",
       " 'to',\n",
       " 'become',\n",
       " 'a',\n",
       " 'more',\n",
       " 'effective',\n",
       " 'worrier',\n",
       " '.',\n",
       " 'Our',\n",
       " 'culture',\n",
       " 'glorifies',\n",
       " 'fearlessness',\n",
       " '.',\n",
       " 'The',\n",
       " 'traditional',\n",
       " 'image',\n",
       " 'of',\n",
       " 'a',\n",
       " 'leader',\n",
       " 'is',\n",
       " 'one',\n",
       " 'who',\n",
       " 'is',\n",
       " 'smart',\n",
       " 'tough',\n",
       " 'and',\n",
       " 'unafraid',\n",
       " '.',\n",
       " 'But',\n",
       " 'fear',\n",
       " 'like',\n",
       " 'any',\n",
       " 'emotion',\n",
       " 'has',\n",
       " 'an',\n",
       " 'evolutionary',\n",
       " 'purpose',\n",
       " 'and',\n",
       " 'upside',\n",
       " '.',\n",
       " 'Your',\n",
       " 'concern',\n",
       " 'about',\n",
       " 'making',\n",
       " 'mistakes',\n",
       " 'is',\n",
       " 'there',\n",
       " 'to',\n",
       " 'remind',\n",
       " 'you',\n",
       " 'that',\n",
       " 'we',\n",
       " 're',\n",
       " 'in',\n",
       " 'a',\n",
       " 'challenging',\n",
       " 'situation',\n",
       " '.',\n",
       " 'A',\n",
       " 'cautious',\n",
       " 'leader',\n",
       " 'has',\n",
       " 'value',\n",
       " '.',\n",
       " 'This',\n",
       " 'is',\n",
       " 'especially',\n",
       " 'true',\n",
       " 'in',\n",
       " 'times',\n",
       " 'like',\n",
       " 'these',\n",
       " '.',\n",
       " 'So',\n",
       " 'don',\n",
       " 't',\n",
       " 'get',\n",
       " 'caught',\n",
       " 'up',\n",
       " 'in',\n",
       " 'ruminating',\n",
       " ':',\n",
       " 'I',\n",
       " 'shouldn',\n",
       " 't',\n",
       " 'be',\n",
       " 'so',\n",
       " 'fearful',\n",
       " '.',\n",
       " 'Don',\n",
       " 't',\n",
       " 'be',\n",
       " 'ashamed',\n",
       " 'or',\n",
       " 'afraid',\n",
       " 'of',\n",
       " 'your',\n",
       " 'fear',\n",
       " 'of',\n",
       " 'making',\n",
       " 'mistakes',\n",
       " 'and',\n",
       " 'don',\n",
       " 't',\n",
       " 'interpret',\n",
       " 'it',\n",
       " 'as',\n",
       " 'evidence',\n",
       " 'that',\n",
       " 'you',\n",
       " 're',\n",
       " 'an',\n",
       " 'indecisive',\n",
       " 'leader',\n",
       " 'or',\n",
       " 'not',\n",
       " 'bold',\n",
       " 'not',\n",
       " 'visionary',\n",
       " '.',\n",
       " 'If',\n",
       " 'you',\n",
       " 'have',\n",
       " 'a',\n",
       " 'natural',\n",
       " 'tendency',\n",
       " 'to',\n",
       " 'be',\n",
       " 'prevention',\n",
       " 'focused',\n",
       " 'channel',\n",
       " 'it',\n",
       " 'to',\n",
       " 'be',\n",
       " 'bold',\n",
       " 'and',\n",
       " 'visionary',\n",
       " '!',\n",
       " 'If',\n",
       " 'you',\n",
       " 'struggle',\n",
       " 'to',\n",
       " 'believe',\n",
       " 'this',\n",
       " 'identify',\n",
       " 'leaders',\n",
       " 'who',\n",
       " 'have',\n",
       " 'done',\n",
       " 'just',\n",
       " 'that',\n",
       " 'by',\n",
       " 'figuring',\n",
       " 'out',\n",
       " 'how',\n",
       " 'to',\n",
       " 'prevent',\n",
       " 'disasters',\n",
       " '.',\n",
       " 'Fear',\n",
       " 'of',\n",
       " 'mistakes',\n",
       " 'can',\n",
       " 'paralyze',\n",
       " 'people',\n",
       " '.',\n",
       " 'Emotional',\n",
       " 'agility',\n",
       " 'skills',\n",
       " 'are',\n",
       " 'an',\n",
       " 'antidote',\n",
       " 'to',\n",
       " 'this',\n",
       " 'paralysis',\n",
       " '.',\n",
       " 'This',\n",
       " 'process',\n",
       " 'starts',\n",
       " 'with',\n",
       " 'labeling',\n",
       " 'your',\n",
       " 'thoughts',\n",
       " 'and',\n",
       " 'feelings',\n",
       " 'such',\n",
       " 'as',\n",
       " 'I',\n",
       " 'feel',\n",
       " 'anxious',\n",
       " 'I',\n",
       " 'm',\n",
       " 'not',\n",
       " 'going',\n",
       " 'to',\n",
       " 'be',\n",
       " 'able',\n",
       " 'to',\n",
       " 'control',\n",
       " 'my',\n",
       " 'customers',\n",
       " 'enough',\n",
       " 'to',\n",
       " 'keep',\n",
       " 'my',\n",
       " 'staff',\n",
       " 'safe',\n",
       " '.',\n",
       " 'Stating',\n",
       " 'your',\n",
       " 'fears',\n",
       " 'out',\n",
       " 'loud',\n",
       " 'helps',\n",
       " 'diffuse',\n",
       " 'them',\n",
       " '.',\n",
       " 'It',\n",
       " 's',\n",
       " 'like',\n",
       " 'turning',\n",
       " 'the',\n",
       " 'light',\n",
       " 'on',\n",
       " 'in',\n",
       " 'a',\n",
       " 'dark',\n",
       " 'room',\n",
       " '.',\n",
       " 'Next',\n",
       " 'comes',\n",
       " 'accepting',\n",
       " 'reality',\n",
       " '.',\n",
       " 'For',\n",
       " 'example',\n",
       " 'I',\n",
       " 'understand',\n",
       " 'that',\n",
       " 'people',\n",
       " 'will',\n",
       " 'not',\n",
       " 'always',\n",
       " 'behave',\n",
       " 'in',\n",
       " 'ideal',\n",
       " 'ways',\n",
       " '.',\n",
       " 'List',\n",
       " 'off',\n",
       " 'every',\n",
       " 'truth',\n",
       " 'you',\n",
       " 'need',\n",
       " 'to',\n",
       " 'accept',\n",
       " '.',\n",
       " 'Then',\n",
       " 'comes',\n",
       " 'acting',\n",
       " 'your',\n",
       " 'values',\n",
       " '.',\n",
       " 'Let',\n",
       " 's',\n",
       " 'say',\n",
       " 'one',\n",
       " 'of',\n",
       " 'your',\n",
       " 'highest',\n",
       " 'values',\n",
       " 'is',\n",
       " 'conscientiousness',\n",
       " '.',\n",
       " 'How',\n",
       " 'might',\n",
       " 'that',\n",
       " 'value',\n",
       " 'apply',\n",
       " 'in',\n",
       " 'this',\n",
       " 'situation',\n",
       " 'For',\n",
       " 'example',\n",
       " 'it',\n",
       " 'might',\n",
       " 'involve',\n",
       " 'making',\n",
       " 'sure',\n",
       " 'your',\n",
       " 'employees',\n",
       " 'all',\n",
       " 'have',\n",
       " 'masks',\n",
       " 'that',\n",
       " 'fit',\n",
       " 'them',\n",
       " 'well',\n",
       " 'or',\n",
       " 'feel',\n",
       " 'comfortable',\n",
       " 'airing',\n",
       " 'any',\n",
       " 'grievances',\n",
       " 'they',\n",
       " 'have',\n",
       " '.',\n",
       " 'Identify',\n",
       " 'your',\n",
       " 'five',\n",
       " 'most',\n",
       " 'important',\n",
       " 'values',\n",
       " 'related',\n",
       " 'to',\n",
       " 'decision',\n",
       " 'making',\n",
       " 'in',\n",
       " 'a',\n",
       " 'crisis',\n",
       " '.',\n",
       " 'Then',\n",
       " 'ask',\n",
       " 'yourself',\n",
       " 'how',\n",
       " 'each',\n",
       " 'of',\n",
       " 'those',\n",
       " 'is',\n",
       " 'relevant',\n",
       " 'to',\n",
       " 'the',\n",
       " 'important',\n",
       " 'choices',\n",
       " 'you',\n",
       " 'face',\n",
       " '.',\n",
       " 'Repeat',\n",
       " 'this',\n",
       " 'process',\n",
       " 'for',\n",
       " 'each',\n",
       " 'of',\n",
       " 'your',\n",
       " 'fears',\n",
       " '.',\n",
       " 'It',\n",
       " 'will',\n",
       " 'help',\n",
       " 'you',\n",
       " 'tolerate',\n",
       " 'the',\n",
       " 'fact',\n",
       " 'that',\n",
       " 'we',\n",
       " 'sometimes',\n",
       " 'need',\n",
       " 'to',\n",
       " 'act',\n",
       " 'when',\n",
       " 'the',\n",
       " 'course',\n",
       " 'of',\n",
       " 'action',\n",
       " 'isn',\n",
       " 't',\n",
       " 'clear',\n",
       " 'and',\n",
       " 'avoid',\n",
       " 'the',\n",
       " 'common',\n",
       " 'anxiety',\n",
       " 'trap',\n",
       " 'whereby',\n",
       " 'people',\n",
       " 'try',\n",
       " 'to',\n",
       " 'reduce',\n",
       " 'uncertainty',\n",
       " 'to',\n",
       " 'zero',\n",
       " '.',\n",
       " 'Worrying',\n",
       " 'can',\n",
       " 'help',\n",
       " 'you',\n",
       " 'make',\n",
       " 'better',\n",
       " 'decisions',\n",
       " 'if',\n",
       " 'you',\n",
       " 'do',\n",
       " 'it',\n",
       " 'effectively',\n",
       " '.',\n",
       " 'Most',\n",
       " 'people',\n",
       " 'don',\n",
       " 't',\n",
       " '.',\n",
       " 'When',\n",
       " 'you',\n",
       " 'worry',\n",
       " 'it',\n",
       " 'should',\n",
       " 'be',\n",
       " 'solutions',\n",
       " 'focused',\n",
       " 'not',\n",
       " 'just',\n",
       " 'perseverating',\n",
       " 'on',\n",
       " 'the',\n",
       " 'presence',\n",
       " 'of',\n",
       " 'a',\n",
       " 'threat',\n",
       " '.',\n",
       " 'Direct',\n",
       " 'your',\n",
       " 'worry',\n",
       " 'towards',\n",
       " 'behaviors',\n",
       " 'that',\n",
       " 'will',\n",
       " 'realistically',\n",
       " 'reduce',\n",
       " 'the',\n",
       " 'chances',\n",
       " 'of',\n",
       " 'failure',\n",
       " '.',\n",
       " 'We',\n",
       " 'can',\n",
       " 'control',\n",
       " 'systems',\n",
       " 'not',\n",
       " 'outcomes',\n",
       " '.',\n",
       " 'What',\n",
       " 'are',\n",
       " 'your',\n",
       " 'systems',\n",
       " 'and',\n",
       " 'processes',\n",
       " 'for',\n",
       " 'avoiding',\n",
       " 'making',\n",
       " 'mistakes',\n",
       " 'Direct',\n",
       " 'your',\n",
       " 'worries',\n",
       " 'into',\n",
       " 'answering',\n",
       " 'questions',\n",
       " 'like',\n",
       " 'these',\n",
       " ':',\n",
       " 'Is',\n",
       " 'the',\n",
       " 'data',\n",
       " 'you',\n",
       " 're',\n",
       " 'relying',\n",
       " 'on',\n",
       " 'reliable',\n",
       " 'What',\n",
       " 'are',\n",
       " 'the',\n",
       " 'limitations',\n",
       " 'of',\n",
       " 'it',\n",
       " 'How',\n",
       " 'do',\n",
       " 'your',\n",
       " 'systems',\n",
       " 'help',\n",
       " 'prevent',\n",
       " 'groupthink',\n",
       " 'What',\n",
       " 'procedures',\n",
       " 'do',\n",
       " 'you',\n",
       " 'have',\n",
       " 'in',\n",
       " 'place',\n",
       " 'to',\n",
       " 'help',\n",
       " 'you',\n",
       " 'see',\n",
       " 'your',\n",
       " 'blind',\n",
       " 'spots',\n",
       " 'How',\n",
       " 'do',\n",
       " 'you',\n",
       " 'ensure',\n",
       " 'that',\n",
       " 'you',\n",
       " 'hear',\n",
       " 'valuable',\n",
       " 'perspectives',\n",
       " 'from',\n",
       " 'underrepresented',\n",
       " 'stakeholders',\n",
       " 'What',\n",
       " 'are',\n",
       " 'your',\n",
       " 'processes',\n",
       " 'for',\n",
       " 'being',\n",
       " 'alerted',\n",
       " 'to',\n",
       " 'a',\n",
       " 'problem',\n",
       " 'quickly',\n",
       " 'and',\n",
       " 'rectifying',\n",
       " 'it',\n",
       " 'if',\n",
       " 'a',\n",
       " 'decision',\n",
       " 'has',\n",
       " 'unexpected',\n",
       " 'consequences',\n",
       " 'When',\n",
       " 'we',\n",
       " 're',\n",
       " 'scared',\n",
       " 'of',\n",
       " 'making',\n",
       " 'a',\n",
       " 'mistake',\n",
       " 'our',\n",
       " 'thinking',\n",
       " 'can',\n",
       " 'narrow',\n",
       " 'around',\n",
       " 'that',\n",
       " 'particular',\n",
       " 'scenario',\n",
       " '.',\n",
       " 'Imagine',\n",
       " 'you',\n",
       " 're',\n",
       " 'out',\n",
       " 'walking',\n",
       " 'at',\n",
       " 'night',\n",
       " '.',\n",
       " 'You',\n",
       " 're',\n",
       " 'worried',\n",
       " 'about',\n",
       " 'tripping',\n",
       " 'so',\n",
       " 'you',\n",
       " 'keep',\n",
       " 'looking',\n",
       " 'down',\n",
       " 'at',\n",
       " 'your',\n",
       " 'feet',\n",
       " '.',\n",
       " 'Next',\n",
       " 'thing',\n",
       " 'you',\n",
       " 'know',\n",
       " 'you',\n",
       " 've',\n",
       " 'walked',\n",
       " 'into',\n",
       " 'a',\n",
       " 'lamp',\n",
       " 'post',\n",
       " '.',\n",
       " 'Or',\n",
       " 'imagine',\n",
       " 'the',\n",
       " 'person',\n",
       " 'who',\n",
       " 'is',\n",
       " 'scared',\n",
       " 'of',\n",
       " 'flying',\n",
       " '.',\n",
       " 'They',\n",
       " 'drive',\n",
       " 'everywhere',\n",
       " 'even',\n",
       " 'though',\n",
       " 'driving',\n",
       " 'is',\n",
       " 'objectively',\n",
       " 'more',\n",
       " 'dangerous',\n",
       " '.',\n",
       " 'When',\n",
       " 'you',\n",
       " 'open',\n",
       " 'the',\n",
       " 'aperture',\n",
       " 'it',\n",
       " 'can',\n",
       " 'help',\n",
       " 'you',\n",
       " 'see',\n",
       " 'your',\n",
       " 'greatest',\n",
       " 'fears',\n",
       " 'in',\n",
       " 'the',\n",
       " 'broader',\n",
       " 'context',\n",
       " 'of',\n",
       " 'all',\n",
       " 'the',\n",
       " 'other',\n",
       " 'threats',\n",
       " 'out',\n",
       " 'there',\n",
       " '.',\n",
       " 'This',\n",
       " 'can',\n",
       " 'help',\n",
       " 'you',\n",
       " 'get',\n",
       " 'a',\n",
       " 'better',\n",
       " 'perspective',\n",
       " 'on',\n",
       " 'what',\n",
       " 'you',\n",
       " 'fear',\n",
       " 'the',\n",
       " 'most',\n",
       " '.',\n",
       " 'It',\n",
       " 'might',\n",
       " 'seem',\n",
       " 'illogical',\n",
       " 'that',\n",
       " 'you',\n",
       " 'could',\n",
       " 'reduce',\n",
       " 'your',\n",
       " 'fear',\n",
       " 'of',\n",
       " 'making',\n",
       " 'a',\n",
       " 'mistake',\n",
       " 'by',\n",
       " 'thinking',\n",
       " 'about',\n",
       " 'other',\n",
       " 'negative',\n",
       " 'outcomes',\n",
       " '.',\n",
       " 'But',\n",
       " 'this',\n",
       " 'strategy',\n",
       " 'can',\n",
       " 'help',\n",
       " 'kick',\n",
       " 'you',\n",
       " 'into',\n",
       " 'problem',\n",
       " 'solving',\n",
       " 'mode',\n",
       " 'and',\n",
       " 'lessen',\n",
       " 'the',\n",
       " 'mental',\n",
       " 'grip',\n",
       " 'a',\n",
       " 'particular',\n",
       " 'fear',\n",
       " 'has',\n",
       " 'on',\n",
       " 'you',\n",
       " '.',\n",
       " 'A',\n",
       " 'leader',\n",
       " 'might',\n",
       " 'be',\n",
       " 'so',\n",
       " 'highly',\n",
       " 'focused',\n",
       " 'on',\n",
       " 'minimizing',\n",
       " 'or',\n",
       " 'optimizing',\n",
       " 'for',\n",
       " 'one',\n",
       " 'particular',\n",
       " 'thing',\n",
       " 'they',\n",
       " 'don',\n",
       " 't',\n",
       " 'realize',\n",
       " 'that',\n",
       " 'other',\n",
       " 'people',\n",
       " 'care',\n",
       " 'most',\n",
       " 'about',\n",
       " 'something',\n",
       " 'else',\n",
       " '.',\n",
       " 'Find',\n",
       " 'out',\n",
       " 'what',\n",
       " 'other',\n",
       " 'people',\n",
       " 's',\n",
       " 'priorities',\n",
       " 'are',\n",
       " '.',\n",
       " 'Fear',\n",
       " 'grabs',\n",
       " 'us',\n",
       " '.',\n",
       " 'It',\n",
       " 'makes',\n",
       " 'it',\n",
       " 'difficult',\n",
       " 'to',\n",
       " 'direct',\n",
       " 'our',\n",
       " 'attention',\n",
       " 'away',\n",
       " '.',\n",
       " 'This',\n",
       " 'is',\n",
       " 'how',\n",
       " 'it',\n",
       " 'is',\n",
       " 'designed',\n",
       " 'to',\n",
       " 'work',\n",
       " 'so',\n",
       " 'that',\n",
       " 'we',\n",
       " 'don',\n",
       " 't',\n",
       " 'ignore',\n",
       " 'threats',\n",
       " '.',\n",
       " 'Some',\n",
       " 'people',\n",
       " 'react',\n",
       " 'to',\n",
       " 'fear',\n",
       " 'with',\n",
       " 'extreme',\n",
       " 'hypervigilance',\n",
       " '.',\n",
       " 'They',\n",
       " 'want',\n",
       " 'to',\n",
       " 'be',\n",
       " 'on',\n",
       " 'guard',\n",
       " 'at',\n",
       " 'their',\n",
       " 'command',\n",
       " 'post',\n",
       " 'at',\n",
       " 'all',\n",
       " 'times',\n",
       " '.',\n",
       " 'This',\n",
       " 'might',\n",
       " 'manifest',\n",
       " 'as',\n",
       " 'behavior',\n",
       " 'like',\n",
       " 'staying',\n",
       " 'up',\n",
       " 'all',\n",
       " 'night',\n",
       " 'to',\n",
       " 'work',\n",
       " '.',\n",
       " 'That',\n",
       " 'type',\n",
       " 'of',\n",
       " 'adrenalin',\n",
       " 'fueled',\n",
       " 'behavior',\n",
       " 'can',\n",
       " 'have',\n",
       " 'short',\n",
       " 'term',\n",
       " 'value',\n",
       " 'but',\n",
       " 'it',\n",
       " 'can',\n",
       " 'also',\n",
       " 'be',\n",
       " 'myopic',\n",
       " '.',\n",
       " 'A',\n",
       " 'different',\n",
       " 'approach',\n",
       " 'can',\n",
       " 'be',\n",
       " 'more',\n",
       " 'useful',\n",
       " 'for',\n",
       " 'bigger',\n",
       " 'picture',\n",
       " 'thinking',\n",
       " '.',\n",
       " 'We',\n",
       " 'need',\n",
       " 'leisure',\n",
       " 'and',\n",
       " 'sleep',\n",
       " '!',\n",
       " 'to',\n",
       " 'step',\n",
       " 'back',\n",
       " 'integrate',\n",
       " 'the',\n",
       " 'threads',\n",
       " 'of',\n",
       " 'our',\n",
       " 'thinking',\n",
       " 'see',\n",
       " 'blindspots',\n",
       " 'and',\n",
       " 'think',\n",
       " 'creatively',\n",
       " '.',\n",
       " 'Get',\n",
       " 'some',\n",
       " 'silent',\n",
       " 'time',\n",
       " '.',\n",
       " 'Although',\n",
       " 'much',\n",
       " 'maligned',\n",
       " 'a',\n",
       " 'game',\n",
       " 'of',\n",
       " 'golf',\n",
       " 'might',\n",
       " 'be',\n",
       " 'exactly',\n",
       " 'what',\n",
       " 'you',\n",
       " 'need',\n",
       " 'to',\n",
       " 'think',\n",
       " 'about',\n",
       " 'tough',\n",
       " 'problems',\n",
       " 'holistically',\n",
       " '.',\n",
       " 'As',\n",
       " 'mentioned',\n",
       " 'when',\n",
       " 'people',\n",
       " 'are',\n",
       " 'fearful',\n",
       " 'they',\n",
       " 'can',\n",
       " 'go',\n",
       " 'into',\n",
       " 'always',\n",
       " 'on',\n",
       " 'monitoring',\n",
       " 'mode',\n",
       " '.',\n",
       " 'You',\n",
       " 'may',\n",
       " 'have',\n",
       " 'the',\n",
       " 'urge',\n",
       " 'to',\n",
       " 'constantly',\n",
       " 'look',\n",
       " 'at',\n",
       " 'what',\n",
       " 'everyone',\n",
       " 'else',\n",
       " 'is',\n",
       " 'doing',\n",
       " 'to',\n",
       " 'always',\n",
       " 'be',\n",
       " 'on',\n",
       " 'social',\n",
       " 'media',\n",
       " 'or',\n",
       " 'check',\n",
       " 'data',\n",
       " 'too',\n",
       " 'frequently',\n",
       " '.',\n",
       " 'This',\n",
       " 'can',\n",
       " 'result',\n",
       " 'in',\n",
       " 'information',\n",
       " 'overload',\n",
       " '.',\n",
       " 'Your',\n",
       " 'mind',\n",
       " 'can',\n",
       " 'become',\n",
       " 'so',\n",
       " ...]"
      ]
     },
     "execution_count": 8,
     "metadata": {},
     "output_type": "execute_result"
    }
   ],
   "source": [
    "token = word_tokenize(texts)\n",
    "token"
   ]
  },
  {
   "cell_type": "code",
   "execution_count": 9,
   "id": "10016a09",
   "metadata": {},
   "outputs": [],
   "source": [
    "with open(\"D:\\lab\\Dataset\\Stopwords_Blackcoffer.txt\", 'r') as file:\n",
    "    data = file.read()"
   ]
  },
  {
   "cell_type": "code",
   "execution_count": 10,
   "id": "c567cbef",
   "metadata": {},
   "outputs": [
    {
     "data": {
      "text/plain": [
       "'ERNST\\nYOUNG\\nDELOITTE\\nTOUCHE\\nKPMG\\nPRICEWATERHOUSECOOPERS\\nPRICEWATERHOUSE\\nCOOPERS\\nAFGHANI\\nARIARY\\nBAHT\\n'"
      ]
     },
     "execution_count": 10,
     "metadata": {},
     "output_type": "execute_result"
    }
   ],
   "source": [
    "data[:100]"
   ]
  },
  {
   "cell_type": "code",
   "execution_count": 11,
   "id": "d65bfa92",
   "metadata": {},
   "outputs": [
    {
     "data": {
      "text/plain": [
       "'ERNST,YOUNG,DELOITTE,TOUCHE,KPMG,PRICEWATERHOUSECOOPERS,PRICEWATERHOUSE,COOPERS,AFGHANI,ARIARY,BAHT,'"
      ]
     },
     "execution_count": 11,
     "metadata": {},
     "output_type": "execute_result"
    }
   ],
   "source": [
    "data = data.replace('\\n', ',')\n",
    "data[:100]"
   ]
  },
  {
   "cell_type": "code",
   "execution_count": 12,
   "id": "0ef23874",
   "metadata": {},
   "outputs": [
    {
     "data": {
      "text/plain": [
       "'The Covid 19 crisis fallout including recession layoffs uneven economic pain recent protests police brutality demands racial justice presented challenges encountered . The high stakes unfamiliar natur'"
      ]
     },
     "execution_count": 12,
     "metadata": {},
     "output_type": "execute_result"
    }
   ],
   "source": [
    "new_texts = \" \".join([i for i in token if i not in data])\n",
    "new_texts[:200]"
   ]
  },
  {
   "cell_type": "code",
   "execution_count": 13,
   "id": "ea392da4",
   "metadata": {},
   "outputs": [
    {
     "name": "stdout",
     "output_type": "stream",
     "text": [
      "length before cleaning:  5955\n",
      "length after cleaning:  3476\n"
     ]
    }
   ],
   "source": [
    "print(\"length before cleaning: \", len(texts))\n",
    "print(\"length after cleaning: \", len(new_texts))"
   ]
  },
  {
   "cell_type": "markdown",
   "id": "1f456147",
   "metadata": {},
   "source": [
    "# Negative words"
   ]
  },
  {
   "cell_type": "code",
   "execution_count": 14,
   "id": "dc3618a7",
   "metadata": {},
   "outputs": [],
   "source": [
    "with open(\"D:\\\\lab\\\\Dataset\\\\Negative_words.txt\", 'r') as file:\n",
    "    negative = file.read()"
   ]
  },
  {
   "cell_type": "code",
   "execution_count": 15,
   "id": "2123c4cb",
   "metadata": {},
   "outputs": [
    {
     "data": {
      "text/plain": [
       "'2-faced\\n2-faces\\nabnormal\\nabolish\\nabominable\\nabominably\\nabominate\\nabomination\\nabort\\naborted\\naborts\\nabrade\\nabrasive\\nabrupt\\nabruptly\\nabscond\\nabsence\\nabsent-minded\\nabsentee\\nabsurd\\nabsurdity\\nabsurdly\\nabsurdness\\n'"
      ]
     },
     "execution_count": 15,
     "metadata": {},
     "output_type": "execute_result"
    }
   ],
   "source": [
    "negative[:206]"
   ]
  },
  {
   "cell_type": "code",
   "execution_count": 16,
   "id": "28f44c97",
   "metadata": {},
   "outputs": [
    {
     "data": {
      "text/plain": [
       "'2-faced,2-faces,abnormal,abolish,abominable,abominably,abominate,abomination,abort,aborted,aborts,abrade,abrasive,abrupt,abruptly,abscond,absence,absent-minded,absentee,absurd,absurdity,absurdly,absurdness,'"
      ]
     },
     "execution_count": 16,
     "metadata": {},
     "output_type": "execute_result"
    }
   ],
   "source": [
    "negative = negative.replace('\\n', ',')\n",
    "negative[:206]"
   ]
  },
  {
   "cell_type": "code",
   "execution_count": 17,
   "id": "31a272c0",
   "metadata": {},
   "outputs": [
    {
     "name": "stdout",
     "output_type": "stream",
     "text": [
      "['crisis', 'fallout', 'recession', 'uneven', 'economic', 'pain', 'protests', 'brutality', 'justice', 'high', 'stakes', 'unfamiliar', 'nature', 'left', 'feeling', 'fearful', 'mistakes', 'decision', 'effective', 'worrier', 'tough', 'fear', 'mistakes', 'challenging', 'cautious', 'true', 'fearful', 'ashamed', 'afraid', 'fear', 'mistakes', 'interpret', 'indecisive', 'natural', 'struggle', 'mistakes', 'paralyze', 'feel', 'anxious', 'control', 'safe', 'fears', 'loud', 'light', 'dark', 'understand', 'behave', 'truth', 'accept', 'acting', 'fit', 'feel', 'comfortable', 'airing', 'grievances', 'important', 'decision', 'crisis', 'relevant', 'important', 'face', 'fears', 'fact', 'action', 'avoid', 'common', 'anxiety', 'trap', 'make', 'effectively', 'worry', 'threat', 'worry', 'failure', 'control', 'mistakes', 'worries', 'reliable', 'limitations', 'blind', 'ensure', 'hear', 'problem', 'decision', 'unexpected', 'scared', 'mistake', 'narrow', 'night', 'worried', 'post', 'person', 'scared', 'dangerous', 'fears', 'threats', 'fear', 'illogical', 'fear', 'mistake', 'negative', 'problem', 'mode', 'mental', 'grip', 'fear', 'care', 'difficult', 'direct', 'designed', 'work', 'threats', 'react', 'fear', 'post', 'behavior', 'night', 'work', 'type', 'behavior', 'short', 'term', 'back', 'integrate', 'tough', 'problems', 'fearful', 'mode', 'urge', 'social', 'check', 'overload', 'mind', 'overwhelmed', 'start', 'feel', 'cloudy', 'limit', 'panicked', 'frenzied', 'behavior', 'afraid', 'mistakes', 'make', 'make', 'worry', 'excessively', 'bad', 'experience', 'stress', 'make', 'wrong', 'understand', 'anxiety']\n"
     ]
    },
    {
     "data": {
      "text/plain": [
       "154"
      ]
     },
     "execution_count": 17,
     "metadata": {},
     "output_type": "execute_result"
    }
   ],
   "source": [
    "new_texts = word_tokenize(new_texts)\n",
    "negative_words = [i for i in new_texts if i in negative]\n",
    "print(negative_words)\n",
    "len(negative_words)"
   ]
  },
  {
   "cell_type": "markdown",
   "id": "0b24f011",
   "metadata": {},
   "source": [
    "# Positive words"
   ]
  },
  {
   "cell_type": "code",
   "execution_count": 18,
   "id": "4b003620",
   "metadata": {},
   "outputs": [
    {
     "data": {
      "text/plain": [
       "'a+\\nabound\\nabounds\\nabundance\\nabundant\\naccessable\\naccessible\\nacclaim\\nacclaimed\\nacclamation\\naccolade\\naccolades\\naccommodative\\naccomodative\\naccomplish\\naccomplished\\naccomplishment\\naccomplishments\\naccurate\\naccurately\\n'"
      ]
     },
     "execution_count": 18,
     "metadata": {},
     "output_type": "execute_result"
    }
   ],
   "source": [
    "with open(\"D:\\\\lab\\\\Dataset\\\\Positive_words.txt\", 'r') as file:\n",
    "    positive = file.read()\n",
    "positive[:210]    "
   ]
  },
  {
   "cell_type": "code",
   "execution_count": 19,
   "id": "66ed38c6",
   "metadata": {},
   "outputs": [
    {
     "data": {
      "text/plain": [
       "'a+,abound,abounds,abundance,abundant,accessable,accessible,acclaim,acclaimed,acclamation,accolade,accolades,accommodative,accomodative,accomplish,accomplished,accomplishment,accomplishments,accurate,accurately,'"
      ]
     },
     "execution_count": 19,
     "metadata": {},
     "output_type": "execute_result"
    }
   ],
   "source": [
    "positive = positive.replace('\\n',',')\n",
    "positive[:210]"
   ]
  },
  {
   "cell_type": "code",
   "execution_count": 20,
   "id": "fc1387e8",
   "metadata": {},
   "outputs": [
    {
     "name": "stdout",
     "output_type": "stream",
     "text": [
      "['economic', 'pain', 'high', 'effective', 'smart', 'tough', 'fear', 'evolutionary', 'purpose', 'fear', 'bold', 'visionary', 'bold', 'visionary', 'agility', 'safe', 'light', 'room', 'understand', 'behave', 'ideal', 'truth', 'fit', 'comfortable', 'important', 'important', 'fact', 'action', 'effectively', 'reliable', 'hear', 'valuable', 'problem', 'rectifying', 'person', 'open', 'greatest', 'fear', 'fear', 'problem', 'mode', 'mental', 'fear', 'care', 'work', 'fear', 'work', 'term', 'picture', 'back', 'integrate', 'silent', 'tough', 'mode', 'mind', 'limit', 'good', 'understand', 'works', 'motivate', 'bold', 'reasoned']\n"
     ]
    },
    {
     "data": {
      "text/plain": [
       "62"
      ]
     },
     "execution_count": 20,
     "metadata": {},
     "output_type": "execute_result"
    }
   ],
   "source": [
    "positive_words = [i for i in new_texts if i in positive]\n",
    "print(positive_words)\n",
    "len(positive_words)"
   ]
  },
  {
   "cell_type": "markdown",
   "id": "1b59646d",
   "metadata": {},
   "source": [
    "#### positive Score\n"
   ]
  },
  {
   "cell_type": "code",
   "execution_count": 21,
   "id": "7d0fbab1",
   "metadata": {},
   "outputs": [
    {
     "name": "stdout",
     "output_type": "stream",
     "text": [
      "62\n"
     ]
    }
   ],
   "source": [
    "pos_score = len(positive_words)\n",
    "print(pos_score)"
   ]
  },
  {
   "cell_type": "markdown",
   "id": "54a6cc12",
   "metadata": {},
   "source": [
    "#### Negative Score"
   ]
  },
  {
   "cell_type": "code",
   "execution_count": 22,
   "id": "df0766cd",
   "metadata": {},
   "outputs": [
    {
     "name": "stdout",
     "output_type": "stream",
     "text": [
      "154\n"
     ]
    }
   ],
   "source": [
    "neg_score=len(negative_words)\n",
    "print(neg_score)"
   ]
  },
  {
   "cell_type": "markdown",
   "id": "84da7ab7",
   "metadata": {},
   "source": [
    "#### Polarity Score"
   ]
  },
  {
   "cell_type": "code",
   "execution_count": 23,
   "id": "21e88c2b",
   "metadata": {},
   "outputs": [
    {
     "data": {
      "text/plain": [
       "-0.43"
      ]
     },
     "execution_count": 23,
     "metadata": {},
     "output_type": "execute_result"
    }
   ],
   "source": [
    "Polarity_Score = (pos_score - neg_score)/((pos_score + neg_score) + 0.000001)\n",
    "round(Polarity_Score,2)"
   ]
  },
  {
   "cell_type": "code",
   "execution_count": 24,
   "id": "08bcb4ab",
   "metadata": {},
   "outputs": [
    {
     "name": "stdout",
     "output_type": "stream",
     "text": [
      "number of words after cleaning : 515\n"
     ]
    }
   ],
   "source": [
    "word_count = len(new_texts)\n",
    "print(\"number of words after cleaning :\",word_count)"
   ]
  },
  {
   "cell_type": "markdown",
   "id": "16495ba1",
   "metadata": {},
   "source": [
    "#### Subjectivity Score"
   ]
  },
  {
   "cell_type": "code",
   "execution_count": 25,
   "id": "841713a3",
   "metadata": {},
   "outputs": [
    {
     "data": {
      "text/plain": [
       "0.42"
      ]
     },
     "execution_count": 25,
     "metadata": {},
     "output_type": "execute_result"
    }
   ],
   "source": [
    "Subjectivity_Score = (pos_score + neg_score)/ ((word_count) + 0.000001)\n",
    "round(Subjectivity_Score,2)"
   ]
  },
  {
   "cell_type": "markdown",
   "id": "0d7c370e",
   "metadata": {},
   "source": [
    "# Analysis of Readability"
   ]
  },
  {
   "cell_type": "code",
   "execution_count": 26,
   "id": "10209a7a",
   "metadata": {},
   "outputs": [
    {
     "data": {
      "text/plain": [
       "1105"
      ]
     },
     "execution_count": 26,
     "metadata": {},
     "output_type": "execute_result"
    }
   ],
   "source": [
    "import nltk\n",
    "from nltk.tokenize import word_tokenize\n",
    "word_tokens = nltk.word_tokenize(texts)\n",
    "No_of_words = len(word_tokens)\n",
    "No_of_words"
   ]
  },
  {
   "cell_type": "code",
   "execution_count": 27,
   "id": "bfac2ab7",
   "metadata": {},
   "outputs": [
    {
     "data": {
      "text/plain": [
       "67"
      ]
     },
     "execution_count": 27,
     "metadata": {},
     "output_type": "execute_result"
    }
   ],
   "source": [
    "sent_tokens = nltk.sent_tokenize(texts)\n",
    "No_of_sents = len(sent_tokens)\n",
    "No_of_sents "
   ]
  },
  {
   "cell_type": "markdown",
   "id": "1576acfe",
   "metadata": {},
   "source": [
    "### Average sentence Length\n"
   ]
  },
  {
   "cell_type": "code",
   "execution_count": 28,
   "id": "11d6a7ec",
   "metadata": {},
   "outputs": [
    {
     "data": {
      "text/plain": [
       "16.49"
      ]
     },
     "execution_count": 28,
     "metadata": {},
     "output_type": "execute_result"
    }
   ],
   "source": [
    "Avg_Sents_Length = No_of_words / No_of_sents\n",
    "round(Avg_Sents_Length,2)"
   ]
  },
  {
   "cell_type": "markdown",
   "id": "bc20ee3d",
   "metadata": {},
   "source": [
    "### Percentage of Complex words\n",
    "Complex words: words with more than 2 syllable are called complex words"
   ]
  },
  {
   "cell_type": "code",
   "execution_count": 29,
   "id": "eba6a8b1",
   "metadata": {},
   "outputs": [
    {
     "name": "stdout",
     "output_type": "stream",
     "text": [
      "Number of complex words: 123\n",
      "Total number of words: 5955\n"
     ]
    }
   ],
   "source": [
    "from nltk.corpus import cmudict\n",
    "cmud = cmudict.dict()\n",
    "\n",
    "# Defining a function to count syllables in a word\n",
    "def count_syllables(word):\n",
    "    phonemes = cmud[word.lower()][0] \n",
    "    return len([s for s in phonemes if s[-1].isdigit()])\n",
    "\n",
    "# Identifing complex words\n",
    "w_tokens = [i for i in word_tokens if i in cmud]\n",
    "complex_words = [word for word in w_tokens if count_syllables(word) > 2]\n",
    "\n",
    "# Calculatingnumber of complex words\n",
    "num_complex_words = len(complex_words)\n",
    "\n",
    "print(\"Number of complex words:\", num_complex_words)\n",
    "print(\"Total number of words:\", len(texts))"
   ]
  },
  {
   "cell_type": "code",
   "execution_count": 30,
   "id": "e982c0a1",
   "metadata": {},
   "outputs": [
    {
     "data": {
      "text/plain": [
       "48.41"
      ]
     },
     "execution_count": 30,
     "metadata": {},
     "output_type": "execute_result"
    }
   ],
   "source": [
    "Perc_of_Complex_words = len(texts) / num_complex_words\n",
    "round(Perc_of_Complex_words,2)"
   ]
  },
  {
   "cell_type": "markdown",
   "id": "77e948d1",
   "metadata": {},
   "source": [
    "### Fog Index"
   ]
  },
  {
   "cell_type": "code",
   "execution_count": 31,
   "id": "95fb10bb",
   "metadata": {},
   "outputs": [
    {
     "name": "stdout",
     "output_type": "stream",
     "text": [
      "Average sentence length: 67.0\n"
     ]
    }
   ],
   "source": [
    "# Tokenize each sentence into words\n",
    "words = [word_tokens for sentence in sent_tokens]\n",
    "\n",
    "# Calculate the average sentence length\n",
    "avg_sent_len = sum(No_of_sents for sentence in words) / No_of_sents\n",
    "\n",
    "print(\"Average sentence length:\", avg_sent_len)\n"
   ]
  },
  {
   "cell_type": "code",
   "execution_count": 32,
   "id": "38f5a93b",
   "metadata": {},
   "outputs": [
    {
     "data": {
      "text/plain": [
       "46.17"
      ]
     },
     "execution_count": 32,
     "metadata": {},
     "output_type": "execute_result"
    }
   ],
   "source": [
    "Fog_index = 0.4 * (avg_sent_len + Perc_of_Complex_words)\n",
    "round(Fog_index,2)"
   ]
  },
  {
   "cell_type": "markdown",
   "id": "5b4aacea",
   "metadata": {},
   "source": [
    "# Average Number of Words Per Sentence"
   ]
  },
  {
   "cell_type": "code",
   "execution_count": 33,
   "id": "45da1407",
   "metadata": {},
   "outputs": [
    {
     "data": {
      "text/plain": [
       "16.49"
      ]
     },
     "execution_count": 33,
     "metadata": {},
     "output_type": "execute_result"
    }
   ],
   "source": [
    "avg_no_of_words_per_sent = No_of_words / No_of_sents\n",
    "round(avg_no_of_words_per_sent,2)"
   ]
  },
  {
   "cell_type": "markdown",
   "id": "f2d9b493",
   "metadata": {},
   "source": [
    "# Complex Word Count"
   ]
  },
  {
   "cell_type": "code",
   "execution_count": 34,
   "id": "75304424",
   "metadata": {},
   "outputs": [
    {
     "name": "stdout",
     "output_type": "stream",
     "text": [
      "complex word count: 123\n"
     ]
    }
   ],
   "source": [
    "from nltk.corpus import cmudict\n",
    "cmud = cmudict.dict()\n",
    "\n",
    "# Defining a function to count syllables in a word\n",
    "def count_syllables(word):\n",
    "    phonemes = cmud[word.lower()][0] \n",
    "    return len([s for s in phonemes if s[-1].isdigit()])\n",
    "\n",
    "# Identifing complex words\n",
    "w_tokens = [i for i in word_tokens if i in cmud]\n",
    "complex_words = [word for word in w_tokens if count_syllables(word) > 2]\n",
    "\n",
    "# Calculatingnumber of complex words\n",
    "num_complex_words = len(complex_words)\n",
    "\n",
    "print(\"complex word count:\", num_complex_words)"
   ]
  },
  {
   "cell_type": "markdown",
   "id": "99ea5188",
   "metadata": {},
   "source": [
    "# Word Count\n",
    "number of words after cleaning"
   ]
  },
  {
   "cell_type": "code",
   "execution_count": 35,
   "id": "b4fb0c72",
   "metadata": {},
   "outputs": [
    {
     "data": {
      "text/plain": [
       "515"
      ]
     },
     "execution_count": 35,
     "metadata": {},
     "output_type": "execute_result"
    }
   ],
   "source": [
    "len(new_texts)"
   ]
  },
  {
   "cell_type": "markdown",
   "id": "ca8076ff",
   "metadata": {},
   "source": [
    "# Syllable Count Per Word"
   ]
  },
  {
   "cell_type": "code",
   "execution_count": 36,
   "id": "6f0b4e4f",
   "metadata": {},
   "outputs": [
    {
     "name": "stdout",
     "output_type": "stream",
     "text": [
      "Enter a word to get syllable: overcome\n",
      "Number of syllable in a word : 3\n"
     ]
    }
   ],
   "source": [
    "word = input(\"Enter a word to get syllable: \")\n",
    "def count_syllables(word):\n",
    "    phonemes = cmud[word.lower()][0] \n",
    "    return len([s for s in phonemes if s[-1].isdigit()])\n",
    "\n",
    "print(\"Number of syllable in a word :\",count_syllables(word))"
   ]
  },
  {
   "cell_type": "markdown",
   "id": "1d3a18f6",
   "metadata": {},
   "source": [
    "# Personal Pronouns"
   ]
  },
  {
   "cell_type": "code",
   "execution_count": 37,
   "id": "0b8e0d2d",
   "metadata": {},
   "outputs": [
    {
     "name": "stdout",
     "output_type": "stream",
     "text": [
      "Personal pronoun frequency: {'us': 2, 'we': 7, 'you': 37, 'them': 3, 'it': 17, 'i': 4, 'they': 5}\n",
      "total number of pronouns in a article : 75\n"
     ]
    }
   ],
   "source": [
    "import re\n",
    "\n",
    "# Define a regex pattern to match personal pronouns\n",
    "pattern = r'\\b(I|you|he|she|it|we|they|me|him|her|us|them)\\b'\n",
    "\n",
    "# Count the frequency of personal pronouns\n",
    "pronoun_freq = {}\n",
    "for pronoun in re.findall(pattern, texts, re.IGNORECASE):\n",
    "    pronoun = pronoun.lower()\n",
    "    if pronoun in pronoun_freq:\n",
    "        pronoun_freq[pronoun] += 1\n",
    "    else:\n",
    "        pronoun_freq[pronoun] = 1\n",
    "\n",
    "print(\"Personal pronoun frequency:\", pronoun_freq)\n",
    "def returnSum(dict):\n",
    " \n",
    "    sum = 0\n",
    "    for i in pronoun_freq.values():\n",
    "        sum = sum + i\n",
    " \n",
    "    return sum\n",
    "print(\"total number of pronouns in a article :\",returnSum(pronoun_freq))"
   ]
  },
  {
   "cell_type": "markdown",
   "id": "e3fc87f8",
   "metadata": {},
   "source": [
    "# Average Word Length"
   ]
  },
  {
   "cell_type": "code",
   "execution_count": 38,
   "id": "5bde37d9",
   "metadata": {},
   "outputs": [
    {
     "name": "stdout",
     "output_type": "stream",
     "text": [
      "Average word length: 4.4\n"
     ]
    }
   ],
   "source": [
    "# Calculate the total number of characters in all words\n",
    "total_chars = sum(len(word) for word in word_tokens)\n",
    "\n",
    "avg_word_length = total_chars / No_of_words\n",
    "\n",
    "print(\"Average word length:\", round(avg_word_length,2))\n"
   ]
  },
  {
   "cell_type": "code",
   "execution_count": null,
   "id": "63dc25ad",
   "metadata": {},
   "outputs": [],
   "source": []
  },
  {
   "cell_type": "code",
   "execution_count": null,
   "id": "819012c5",
   "metadata": {},
   "outputs": [],
   "source": []
  }
 ],
 "metadata": {
  "kernelspec": {
   "display_name": "Python 3",
   "language": "python",
   "name": "python3"
  },
  "language_info": {
   "codemirror_mode": {
    "name": "ipython",
    "version": 3
   },
   "file_extension": ".py",
   "mimetype": "text/x-python",
   "name": "python",
   "nbconvert_exporter": "python",
   "pygments_lexer": "ipython3",
   "version": "3.8.8"
  }
 },
 "nbformat": 4,
 "nbformat_minor": 5
}
