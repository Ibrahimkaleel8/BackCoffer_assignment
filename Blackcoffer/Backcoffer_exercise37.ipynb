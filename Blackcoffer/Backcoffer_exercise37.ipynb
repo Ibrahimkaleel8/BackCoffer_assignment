{
 "cells": [
  {
   "cell_type": "markdown",
   "id": "b9312f26",
   "metadata": {},
   "source": [
    "# Data scraping"
   ]
  },
  {
   "cell_type": "code",
   "execution_count": 1,
   "id": "ef4785ca",
   "metadata": {},
   "outputs": [],
   "source": [
    "import nltk\n",
    "import requests\n",
    "from bs4 import BeautifulSoup"
   ]
  },
  {
   "cell_type": "code",
   "execution_count": 2,
   "id": "ac2f2459",
   "metadata": {},
   "outputs": [],
   "source": [
    "req = requests.get(\"https://insights.blackcoffer.com/will-we-ever-colonize-outer-space/\")"
   ]
  },
  {
   "cell_type": "code",
   "execution_count": 3,
   "id": "45f9fa09",
   "metadata": {},
   "outputs": [],
   "source": [
    "soup = BeautifulSoup(req.content, \"html.parser\")\n",
    "res = soup.title\n",
    "paras = soup.find_all('p')"
   ]
  },
  {
   "cell_type": "code",
   "execution_count": 4,
   "id": "dbb256b2",
   "metadata": {
    "scrolled": true
   },
   "outputs": [
    {
     "name": "stdout",
     "output_type": "stream",
     "text": [
      "Nature has blessed humanity with earth, a rounded globe where all essential necessity lies in the hand of a human. Though in this 21st-century building Space shuttle and exploring space has become an obvious activity among the human raise, now with the inclusion of Start-ups like Space X once dreamed for reaching out at space now is coming true. We all have to agree upon a fact that in the Growth of industrialization we have generated a humungous carbon footprint and colonize at outer space will create a much-needed area for our survival. With time the human race has visualized and has undergone many transformations, and these transformations may for starters were not that effective but were a major role at existence to this age. Be it a natural transformation like shifting of tectonic plates or manmade like Dumping water and damaging water bodies, somehow have affected usual life of humans so creating space of humans is what next humans are eyeing for. All this idea for Colonizing in outer space emerged when NASA was able to launch a space shuttle with a heavy payload in the late 1990s this idea didn’t stir brain at that time but later was like apple eyes when various articles from astronauts and their writeup came into limelight and this idea saw its progression, space exploration was not a new normal, companies were petrified by the number of investments that these kinds of projects ask for. But things change with the entry of PayPal’s owner Elon Musk, in 2002 where he laid stones of Space X, with NASA providing the launchpad for their exploration. Being space travel legitimate there where many bottlenecks knowing the nature of outer space will boost the idea of colonizing, here one has to realize the optimum. But the main target that these company put forward with themself was to not just get into other planet but to get back at earth safely, earlier these projects due to high fund was always subdued and priority was given to the rocket technology. Thus, this unimaginable quest for the search of space was far-fetched though. Now being in 2020 we do not find it out of a place of colonizing outside of space, the kind of emergence of technologies has led to the escalation of spreading the roots of human existence, the plan for reaching out to outer space too plays a key role for this idea too. Proper Planning, Analysing, Organising, and Executing were required for these projects to be successful for deeper know how I would like to mention here an example of Space X, According to them they wud be successful for sending Rockets by 2022 and would able to colonize by 2050, For achieving these vision they have planned a total of 36 times pre-launch of the same rocket which they will be launching by 2020. Not only that they have already placed their star link satellites which will provide the basic network connectivity for their colonized world, they have planned this to that extent that they have targeted a profit of $ 22 billion yearly by 2025. Already they have sent the first manned rocket successfully what Elon musk plan is to create that infrastructure by which going to Mars with cost as a regular air flight ticket all this will lead to better chances for colonizing at another planet. With setting up their commercial flight once started to the red planet it wud just be a stepping stone for the colonizing at the outer space. But the fundamental change that people have to undergo while living on another planet will be a change in gravity and being able to be near to live support if any technical issues arise to their suit until unless we find a similar place like the earth that is the change which humans have to adjust. Aspects like Ultraviolet rays too will play an immense role in the survival, but with the rate of technology expanding and challenging at very boundaries there are not many days left when we find solutions to these aspects but this idea of colonizing has more to do with monetary terms it has been projected that building a colony at space will cost at about $10 Trillian which is more than many countries GDP. Placing that much of an amount and getting funding for such highly anticipated projects is tough. Elon to have addressed with these questions with an open Door he believes that this cost is nothing when we find a route to colonize space and these costs will be justifiable when space exploration will reach new heights. Also, our world is around water and the percentage of land comparison to water is too less. Whereas the population is increasing with the speed and the level of excitement in order to search for new things and the obsession with the new and innovative things never going to finish. Because in the end, we do not satisfy what we have achieved, we are only looking for other things and crave to achieve that. In order to achieve that planning is most crucial stage. As of now we have searched 9 planets but still didn’t shortlisted the outcomes. But according to the 3-decade theory of ELON MUSK, it seems to be possible. As the most important thing to survive is the atmospheric environment, whether is this suitable or not, and in order to make it suitable what steps had to take and maintain the suitable level of oxygen.  The missions are now what everyone is focusing about. Finding the source of water, because its 2nd crucial thing which is needed to survive. Apart from the excitement and the things, the threats or the uncertainties are bound to happen like any kind of mammal which could occur during construction or after that. So the security for that or any protection so that uncertainties could be replicated. After the basic things, other factors like what are the natural habitats available there, whether the plants could be grown over there or not. If yes, then what types of plants could survive there. The environment for the animals is safe or not. Because to balance the nature we need all types of animals, natural habitat, even insects and other small things which seems to be ignorable but plays an important role in maintaining the environmental balance. For e.g.  – Ants are among the leading predators of other insects, helping to keep pest populations low.  Ants move approximately the same amount of soil as earthworms, loosening the soil in the process and increasing air and water movement into the ground.  They keep the ecosystem clean of dead insect carcasses and aid in the destruction and decomposition of plant and animal matter. So, every small thing contributes in its own way. Another matter of concern is the level of artificial intelligence and machine learning required to maintain that kind of requirement. Because as the current scenario, we need energy to run any vehicle or even for the robotics. So, the availability of the energy and the source of energy is needed. And apart from this, the heat of sun is equally important in order to maintain the level. Because with artificial air we can survive but not for so long. So, in order to remain healthy as well the calculation has to be done. When thinking about disease, you may have heard in the news about the concern that antibiotics (such as penicillin) – which help fight infections – may eventually stop working. Global health organisations are trying to reduce the use of antibiotics, especially for conditions that aren’t serious. This is because their overuse in recent years means that they’re becoming less effective. But still we can survive without antibiotics. Because there are ways of dealing with diseases caused by bacteria such as isolation which is how they were treated before penicillin. It might sound like something set firmly in the realm of fantasy, but experts in private industry and governments around the world are trying to understand how feasible it would be to establish a lunar base. Some scientists think humans could survive comfortably on the moon. In some ways, the very minimal gravity of the moon might actually be more conducive to life than the microgravity astronauts experience on the International Space Station. Although it hasn’t been formally tested, some experts hypothesize that the small amount of gravitational force put on an astronaut’s body when on the moon could help stem some of the adverse effects like bone-density and muscle loss that space flyers experience while living in microgravity on the International Space Station. By using the moon’s indigenous material, space agencies can save money on the cost of flying pricey missions to and from the moon’s surface. Once on the moon, instead of having to stage costly missions aimed at delivering oxygen and other necessary resources from Earth, experts might be able to actually use the material to manufacture gasses needed to sustain life on the satellite. On earth, we are protected from radioactive solar winds and cosmic rays by our own magnet field known as the magnetosphere. But out in the space, we can’t rely on this type of protection, and in order to make that protection, it could take a lot but yes with more upgraded technology it could achieve. Although till now the approximate value of the project is $10 trillion. But the aim is to make the fare equivalent to the normal air fare. As once we are comfortable with all the resources, securities for uncertainties, risk analysis, and the probability of survival of the human being and many other factors after consideration, then development won’t take much time. Because to construct a building it take normally 8-9 months. Which is totally acceptable. But the main concern is the density of the land, i.e. whether the land has the capacity to bear that much weight or not. And the type of land is adaptable for cultivation or nor. Although land can be converted into different types of cultivation but with the help of upgraded technology. In order to transport the equipments on the regular basis, a large amount of fuel Is required, and other factors as well and Built the propellor depo for rocket landing building various infrastructure for the city one by one will create a way forward for idea of Colonizing at outer space.\n"
     ]
    }
   ],
   "source": [
    "texts = \" \".join([paragraph.text.strip() for paragraph in paras])\n",
    "print(texts)"
   ]
  },
  {
   "cell_type": "code",
   "execution_count": 5,
   "id": "e79f5f60",
   "metadata": {},
   "outputs": [
    {
     "data": {
      "text/plain": [
       "10123"
      ]
     },
     "execution_count": 5,
     "metadata": {},
     "output_type": "execute_result"
    }
   ],
   "source": [
    "len(texts)"
   ]
  },
  {
   "cell_type": "markdown",
   "id": "db8f1fcc",
   "metadata": {},
   "source": [
    "Removing Punctuation"
   ]
  },
  {
   "cell_type": "code",
   "execution_count": 6,
   "id": "5285c8a8",
   "metadata": {},
   "outputs": [
    {
     "data": {
      "text/plain": [
       "10123"
      ]
     },
     "execution_count": 6,
     "metadata": {},
     "output_type": "execute_result"
    }
   ],
   "source": [
    "import re\n",
    "import string\n",
    "texts = re.sub(r'[\\'\\“\\”\\()\\%\\,\\-\\'\\’\\?\\ ]', ' ', texts)\n",
    "texts[0:200]\n",
    "len(texts)"
   ]
  },
  {
   "cell_type": "markdown",
   "id": "4fafe7be",
   "metadata": {},
   "source": [
    "# Removing Stopwords"
   ]
  },
  {
   "cell_type": "code",
   "execution_count": 7,
   "id": "089b8663",
   "metadata": {},
   "outputs": [],
   "source": [
    "from nltk.tokenize import word_tokenize"
   ]
  },
  {
   "cell_type": "code",
   "execution_count": 8,
   "id": "280876b0",
   "metadata": {},
   "outputs": [
    {
     "data": {
      "text/plain": [
       "['Nature',\n",
       " 'has',\n",
       " 'blessed',\n",
       " 'humanity',\n",
       " 'with',\n",
       " 'earth',\n",
       " 'a',\n",
       " 'rounded',\n",
       " 'globe',\n",
       " 'where',\n",
       " 'all',\n",
       " 'essential',\n",
       " 'necessity',\n",
       " 'lies',\n",
       " 'in',\n",
       " 'the',\n",
       " 'hand',\n",
       " 'of',\n",
       " 'a',\n",
       " 'human',\n",
       " '.',\n",
       " 'Though',\n",
       " 'in',\n",
       " 'this',\n",
       " '21st',\n",
       " 'century',\n",
       " 'building',\n",
       " 'Space',\n",
       " 'shuttle',\n",
       " 'and',\n",
       " 'exploring',\n",
       " 'space',\n",
       " 'has',\n",
       " 'become',\n",
       " 'an',\n",
       " 'obvious',\n",
       " 'activity',\n",
       " 'among',\n",
       " 'the',\n",
       " 'human',\n",
       " 'raise',\n",
       " 'now',\n",
       " 'with',\n",
       " 'the',\n",
       " 'inclusion',\n",
       " 'of',\n",
       " 'Start',\n",
       " 'ups',\n",
       " 'like',\n",
       " 'Space',\n",
       " 'X',\n",
       " 'once',\n",
       " 'dreamed',\n",
       " 'for',\n",
       " 'reaching',\n",
       " 'out',\n",
       " 'at',\n",
       " 'space',\n",
       " 'now',\n",
       " 'is',\n",
       " 'coming',\n",
       " 'true',\n",
       " '.',\n",
       " 'We',\n",
       " 'all',\n",
       " 'have',\n",
       " 'to',\n",
       " 'agree',\n",
       " 'upon',\n",
       " 'a',\n",
       " 'fact',\n",
       " 'that',\n",
       " 'in',\n",
       " 'the',\n",
       " 'Growth',\n",
       " 'of',\n",
       " 'industrialization',\n",
       " 'we',\n",
       " 'have',\n",
       " 'generated',\n",
       " 'a',\n",
       " 'humungous',\n",
       " 'carbon',\n",
       " 'footprint',\n",
       " 'and',\n",
       " 'colonize',\n",
       " 'at',\n",
       " 'outer',\n",
       " 'space',\n",
       " 'will',\n",
       " 'create',\n",
       " 'a',\n",
       " 'much',\n",
       " 'needed',\n",
       " 'area',\n",
       " 'for',\n",
       " 'our',\n",
       " 'survival',\n",
       " '.',\n",
       " 'With',\n",
       " 'time',\n",
       " 'the',\n",
       " 'human',\n",
       " 'race',\n",
       " 'has',\n",
       " 'visualized',\n",
       " 'and',\n",
       " 'has',\n",
       " 'undergone',\n",
       " 'many',\n",
       " 'transformations',\n",
       " 'and',\n",
       " 'these',\n",
       " 'transformations',\n",
       " 'may',\n",
       " 'for',\n",
       " 'starters',\n",
       " 'were',\n",
       " 'not',\n",
       " 'that',\n",
       " 'effective',\n",
       " 'but',\n",
       " 'were',\n",
       " 'a',\n",
       " 'major',\n",
       " 'role',\n",
       " 'at',\n",
       " 'existence',\n",
       " 'to',\n",
       " 'this',\n",
       " 'age',\n",
       " '.',\n",
       " 'Be',\n",
       " 'it',\n",
       " 'a',\n",
       " 'natural',\n",
       " 'transformation',\n",
       " 'like',\n",
       " 'shifting',\n",
       " 'of',\n",
       " 'tectonic',\n",
       " 'plates',\n",
       " 'or',\n",
       " 'manmade',\n",
       " 'like',\n",
       " 'Dumping',\n",
       " 'water',\n",
       " 'and',\n",
       " 'damaging',\n",
       " 'water',\n",
       " 'bodies',\n",
       " 'somehow',\n",
       " 'have',\n",
       " 'affected',\n",
       " 'usual',\n",
       " 'life',\n",
       " 'of',\n",
       " 'humans',\n",
       " 'so',\n",
       " 'creating',\n",
       " 'space',\n",
       " 'of',\n",
       " 'humans',\n",
       " 'is',\n",
       " 'what',\n",
       " 'next',\n",
       " 'humans',\n",
       " 'are',\n",
       " 'eyeing',\n",
       " 'for',\n",
       " '.',\n",
       " 'All',\n",
       " 'this',\n",
       " 'idea',\n",
       " 'for',\n",
       " 'Colonizing',\n",
       " 'in',\n",
       " 'outer',\n",
       " 'space',\n",
       " 'emerged',\n",
       " 'when',\n",
       " 'NASA',\n",
       " 'was',\n",
       " 'able',\n",
       " 'to',\n",
       " 'launch',\n",
       " 'a',\n",
       " 'space',\n",
       " 'shuttle',\n",
       " 'with',\n",
       " 'a',\n",
       " 'heavy',\n",
       " 'payload',\n",
       " 'in',\n",
       " 'the',\n",
       " 'late',\n",
       " '1990s',\n",
       " 'this',\n",
       " 'idea',\n",
       " 'didn',\n",
       " 't',\n",
       " 'stir',\n",
       " 'brain',\n",
       " 'at',\n",
       " 'that',\n",
       " 'time',\n",
       " 'but',\n",
       " 'later',\n",
       " 'was',\n",
       " 'like',\n",
       " 'apple',\n",
       " 'eyes',\n",
       " 'when',\n",
       " 'various',\n",
       " 'articles',\n",
       " 'from',\n",
       " 'astronauts',\n",
       " 'and',\n",
       " 'their',\n",
       " 'writeup',\n",
       " 'came',\n",
       " 'into',\n",
       " 'limelight',\n",
       " 'and',\n",
       " 'this',\n",
       " 'idea',\n",
       " 'saw',\n",
       " 'its',\n",
       " 'progression',\n",
       " 'space',\n",
       " 'exploration',\n",
       " 'was',\n",
       " 'not',\n",
       " 'a',\n",
       " 'new',\n",
       " 'normal',\n",
       " 'companies',\n",
       " 'were',\n",
       " 'petrified',\n",
       " 'by',\n",
       " 'the',\n",
       " 'number',\n",
       " 'of',\n",
       " 'investments',\n",
       " 'that',\n",
       " 'these',\n",
       " 'kinds',\n",
       " 'of',\n",
       " 'projects',\n",
       " 'ask',\n",
       " 'for',\n",
       " '.',\n",
       " 'But',\n",
       " 'things',\n",
       " 'change',\n",
       " 'with',\n",
       " 'the',\n",
       " 'entry',\n",
       " 'of',\n",
       " 'PayPal',\n",
       " 's',\n",
       " 'owner',\n",
       " 'Elon',\n",
       " 'Musk',\n",
       " 'in',\n",
       " '2002',\n",
       " 'where',\n",
       " 'he',\n",
       " 'laid',\n",
       " 'stones',\n",
       " 'of',\n",
       " 'Space',\n",
       " 'X',\n",
       " 'with',\n",
       " 'NASA',\n",
       " 'providing',\n",
       " 'the',\n",
       " 'launchpad',\n",
       " 'for',\n",
       " 'their',\n",
       " 'exploration',\n",
       " '.',\n",
       " 'Being',\n",
       " 'space',\n",
       " 'travel',\n",
       " 'legitimate',\n",
       " 'there',\n",
       " 'where',\n",
       " 'many',\n",
       " 'bottlenecks',\n",
       " 'knowing',\n",
       " 'the',\n",
       " 'nature',\n",
       " 'of',\n",
       " 'outer',\n",
       " 'space',\n",
       " 'will',\n",
       " 'boost',\n",
       " 'the',\n",
       " 'idea',\n",
       " 'of',\n",
       " 'colonizing',\n",
       " 'here',\n",
       " 'one',\n",
       " 'has',\n",
       " 'to',\n",
       " 'realize',\n",
       " 'the',\n",
       " 'optimum',\n",
       " '.',\n",
       " 'But',\n",
       " 'the',\n",
       " 'main',\n",
       " 'target',\n",
       " 'that',\n",
       " 'these',\n",
       " 'company',\n",
       " 'put',\n",
       " 'forward',\n",
       " 'with',\n",
       " 'themself',\n",
       " 'was',\n",
       " 'to',\n",
       " 'not',\n",
       " 'just',\n",
       " 'get',\n",
       " 'into',\n",
       " 'other',\n",
       " 'planet',\n",
       " 'but',\n",
       " 'to',\n",
       " 'get',\n",
       " 'back',\n",
       " 'at',\n",
       " 'earth',\n",
       " 'safely',\n",
       " 'earlier',\n",
       " 'these',\n",
       " 'projects',\n",
       " 'due',\n",
       " 'to',\n",
       " 'high',\n",
       " 'fund',\n",
       " 'was',\n",
       " 'always',\n",
       " 'subdued',\n",
       " 'and',\n",
       " 'priority',\n",
       " 'was',\n",
       " 'given',\n",
       " 'to',\n",
       " 'the',\n",
       " 'rocket',\n",
       " 'technology',\n",
       " '.',\n",
       " 'Thus',\n",
       " 'this',\n",
       " 'unimaginable',\n",
       " 'quest',\n",
       " 'for',\n",
       " 'the',\n",
       " 'search',\n",
       " 'of',\n",
       " 'space',\n",
       " 'was',\n",
       " 'far',\n",
       " 'fetched',\n",
       " 'though',\n",
       " '.',\n",
       " 'Now',\n",
       " 'being',\n",
       " 'in',\n",
       " '2020',\n",
       " 'we',\n",
       " 'do',\n",
       " 'not',\n",
       " 'find',\n",
       " 'it',\n",
       " 'out',\n",
       " 'of',\n",
       " 'a',\n",
       " 'place',\n",
       " 'of',\n",
       " 'colonizing',\n",
       " 'outside',\n",
       " 'of',\n",
       " 'space',\n",
       " 'the',\n",
       " 'kind',\n",
       " 'of',\n",
       " 'emergence',\n",
       " 'of',\n",
       " 'technologies',\n",
       " 'has',\n",
       " 'led',\n",
       " 'to',\n",
       " 'the',\n",
       " 'escalation',\n",
       " 'of',\n",
       " 'spreading',\n",
       " 'the',\n",
       " 'roots',\n",
       " 'of',\n",
       " 'human',\n",
       " 'existence',\n",
       " 'the',\n",
       " 'plan',\n",
       " 'for',\n",
       " 'reaching',\n",
       " 'out',\n",
       " 'to',\n",
       " 'outer',\n",
       " 'space',\n",
       " 'too',\n",
       " 'plays',\n",
       " 'a',\n",
       " 'key',\n",
       " 'role',\n",
       " 'for',\n",
       " 'this',\n",
       " 'idea',\n",
       " 'too',\n",
       " '.',\n",
       " 'Proper',\n",
       " 'Planning',\n",
       " 'Analysing',\n",
       " 'Organising',\n",
       " 'and',\n",
       " 'Executing',\n",
       " 'were',\n",
       " 'required',\n",
       " 'for',\n",
       " 'these',\n",
       " 'projects',\n",
       " 'to',\n",
       " 'be',\n",
       " 'successful',\n",
       " 'for',\n",
       " 'deeper',\n",
       " 'know',\n",
       " 'how',\n",
       " 'I',\n",
       " 'would',\n",
       " 'like',\n",
       " 'to',\n",
       " 'mention',\n",
       " 'here',\n",
       " 'an',\n",
       " 'example',\n",
       " 'of',\n",
       " 'Space',\n",
       " 'X',\n",
       " 'According',\n",
       " 'to',\n",
       " 'them',\n",
       " 'they',\n",
       " 'wud',\n",
       " 'be',\n",
       " 'successful',\n",
       " 'for',\n",
       " 'sending',\n",
       " 'Rockets',\n",
       " 'by',\n",
       " '2022',\n",
       " 'and',\n",
       " 'would',\n",
       " 'able',\n",
       " 'to',\n",
       " 'colonize',\n",
       " 'by',\n",
       " '2050',\n",
       " 'For',\n",
       " 'achieving',\n",
       " 'these',\n",
       " 'vision',\n",
       " 'they',\n",
       " 'have',\n",
       " 'planned',\n",
       " 'a',\n",
       " 'total',\n",
       " 'of',\n",
       " '36',\n",
       " 'times',\n",
       " 'pre',\n",
       " 'launch',\n",
       " 'of',\n",
       " 'the',\n",
       " 'same',\n",
       " 'rocket',\n",
       " 'which',\n",
       " 'they',\n",
       " 'will',\n",
       " 'be',\n",
       " 'launching',\n",
       " 'by',\n",
       " '2020',\n",
       " '.',\n",
       " 'Not',\n",
       " 'only',\n",
       " 'that',\n",
       " 'they',\n",
       " 'have',\n",
       " 'already',\n",
       " 'placed',\n",
       " 'their',\n",
       " 'star',\n",
       " 'link',\n",
       " 'satellites',\n",
       " 'which',\n",
       " 'will',\n",
       " 'provide',\n",
       " 'the',\n",
       " 'basic',\n",
       " 'network',\n",
       " 'connectivity',\n",
       " 'for',\n",
       " 'their',\n",
       " 'colonized',\n",
       " 'world',\n",
       " 'they',\n",
       " 'have',\n",
       " 'planned',\n",
       " 'this',\n",
       " 'to',\n",
       " 'that',\n",
       " 'extent',\n",
       " 'that',\n",
       " 'they',\n",
       " 'have',\n",
       " 'targeted',\n",
       " 'a',\n",
       " 'profit',\n",
       " 'of',\n",
       " '$',\n",
       " '22',\n",
       " 'billion',\n",
       " 'yearly',\n",
       " 'by',\n",
       " '2025',\n",
       " '.',\n",
       " 'Already',\n",
       " 'they',\n",
       " 'have',\n",
       " 'sent',\n",
       " 'the',\n",
       " 'first',\n",
       " 'manned',\n",
       " 'rocket',\n",
       " 'successfully',\n",
       " 'what',\n",
       " 'Elon',\n",
       " 'musk',\n",
       " 'plan',\n",
       " 'is',\n",
       " 'to',\n",
       " 'create',\n",
       " 'that',\n",
       " 'infrastructure',\n",
       " 'by',\n",
       " 'which',\n",
       " 'going',\n",
       " 'to',\n",
       " 'Mars',\n",
       " 'with',\n",
       " 'cost',\n",
       " 'as',\n",
       " 'a',\n",
       " 'regular',\n",
       " 'air',\n",
       " 'flight',\n",
       " 'ticket',\n",
       " 'all',\n",
       " 'this',\n",
       " 'will',\n",
       " 'lead',\n",
       " 'to',\n",
       " 'better',\n",
       " 'chances',\n",
       " 'for',\n",
       " 'colonizing',\n",
       " 'at',\n",
       " 'another',\n",
       " 'planet',\n",
       " '.',\n",
       " 'With',\n",
       " 'setting',\n",
       " 'up',\n",
       " 'their',\n",
       " 'commercial',\n",
       " 'flight',\n",
       " 'once',\n",
       " 'started',\n",
       " 'to',\n",
       " 'the',\n",
       " 'red',\n",
       " 'planet',\n",
       " 'it',\n",
       " 'wud',\n",
       " 'just',\n",
       " 'be',\n",
       " 'a',\n",
       " 'stepping',\n",
       " 'stone',\n",
       " 'for',\n",
       " 'the',\n",
       " 'colonizing',\n",
       " 'at',\n",
       " 'the',\n",
       " 'outer',\n",
       " 'space',\n",
       " '.',\n",
       " 'But',\n",
       " 'the',\n",
       " 'fundamental',\n",
       " 'change',\n",
       " 'that',\n",
       " 'people',\n",
       " 'have',\n",
       " 'to',\n",
       " 'undergo',\n",
       " 'while',\n",
       " 'living',\n",
       " 'on',\n",
       " 'another',\n",
       " 'planet',\n",
       " 'will',\n",
       " 'be',\n",
       " 'a',\n",
       " 'change',\n",
       " 'in',\n",
       " 'gravity',\n",
       " 'and',\n",
       " 'being',\n",
       " 'able',\n",
       " 'to',\n",
       " 'be',\n",
       " 'near',\n",
       " 'to',\n",
       " 'live',\n",
       " 'support',\n",
       " 'if',\n",
       " 'any',\n",
       " 'technical',\n",
       " 'issues',\n",
       " 'arise',\n",
       " 'to',\n",
       " 'their',\n",
       " 'suit',\n",
       " 'until',\n",
       " 'unless',\n",
       " 'we',\n",
       " 'find',\n",
       " 'a',\n",
       " 'similar',\n",
       " 'place',\n",
       " 'like',\n",
       " 'the',\n",
       " 'earth',\n",
       " 'that',\n",
       " 'is',\n",
       " 'the',\n",
       " 'change',\n",
       " 'which',\n",
       " 'humans',\n",
       " 'have',\n",
       " 'to',\n",
       " 'adjust',\n",
       " '.',\n",
       " 'Aspects',\n",
       " 'like',\n",
       " 'Ultraviolet',\n",
       " 'rays',\n",
       " 'too',\n",
       " 'will',\n",
       " 'play',\n",
       " 'an',\n",
       " 'immense',\n",
       " 'role',\n",
       " 'in',\n",
       " 'the',\n",
       " 'survival',\n",
       " 'but',\n",
       " 'with',\n",
       " 'the',\n",
       " 'rate',\n",
       " 'of',\n",
       " 'technology',\n",
       " 'expanding',\n",
       " 'and',\n",
       " 'challenging',\n",
       " 'at',\n",
       " 'very',\n",
       " 'boundaries',\n",
       " 'there',\n",
       " 'are',\n",
       " 'not',\n",
       " 'many',\n",
       " 'days',\n",
       " 'left',\n",
       " 'when',\n",
       " 'we',\n",
       " 'find',\n",
       " 'solutions',\n",
       " 'to',\n",
       " 'these',\n",
       " 'aspects',\n",
       " 'but',\n",
       " 'this',\n",
       " 'idea',\n",
       " 'of',\n",
       " 'colonizing',\n",
       " 'has',\n",
       " 'more',\n",
       " 'to',\n",
       " 'do',\n",
       " 'with',\n",
       " 'monetary',\n",
       " 'terms',\n",
       " 'it',\n",
       " 'has',\n",
       " 'been',\n",
       " 'projected',\n",
       " 'that',\n",
       " 'building',\n",
       " 'a',\n",
       " 'colony',\n",
       " 'at',\n",
       " 'space',\n",
       " 'will',\n",
       " 'cost',\n",
       " 'at',\n",
       " 'about',\n",
       " '$',\n",
       " '10',\n",
       " 'Trillian',\n",
       " 'which',\n",
       " 'is',\n",
       " 'more',\n",
       " 'than',\n",
       " 'many',\n",
       " 'countries',\n",
       " 'GDP',\n",
       " '.',\n",
       " 'Placing',\n",
       " 'that',\n",
       " 'much',\n",
       " 'of',\n",
       " 'an',\n",
       " 'amount',\n",
       " 'and',\n",
       " 'getting',\n",
       " 'funding',\n",
       " 'for',\n",
       " 'such',\n",
       " 'highly',\n",
       " 'anticipated',\n",
       " 'projects',\n",
       " 'is',\n",
       " 'tough',\n",
       " '.',\n",
       " 'Elon',\n",
       " 'to',\n",
       " 'have',\n",
       " 'addressed',\n",
       " 'with',\n",
       " 'these',\n",
       " 'questions',\n",
       " 'with',\n",
       " 'an',\n",
       " 'open',\n",
       " 'Door',\n",
       " 'he',\n",
       " 'believes',\n",
       " 'that',\n",
       " 'this',\n",
       " 'cost',\n",
       " 'is',\n",
       " 'nothing',\n",
       " 'when',\n",
       " 'we',\n",
       " 'find',\n",
       " 'a',\n",
       " 'route',\n",
       " 'to',\n",
       " 'colonize',\n",
       " 'space',\n",
       " 'and',\n",
       " 'these',\n",
       " 'costs',\n",
       " 'will',\n",
       " 'be',\n",
       " 'justifiable',\n",
       " 'when',\n",
       " 'space',\n",
       " 'exploration',\n",
       " 'will',\n",
       " 'reach',\n",
       " 'new',\n",
       " 'heights',\n",
       " '.',\n",
       " 'Also',\n",
       " 'our',\n",
       " 'world',\n",
       " 'is',\n",
       " 'around',\n",
       " 'water',\n",
       " 'and',\n",
       " 'the',\n",
       " 'percentage',\n",
       " 'of',\n",
       " 'land',\n",
       " 'comparison',\n",
       " 'to',\n",
       " 'water',\n",
       " 'is',\n",
       " 'too',\n",
       " 'less',\n",
       " '.',\n",
       " 'Whereas',\n",
       " 'the',\n",
       " 'population',\n",
       " 'is',\n",
       " 'increasing',\n",
       " 'with',\n",
       " 'the',\n",
       " 'speed',\n",
       " 'and',\n",
       " 'the',\n",
       " 'level',\n",
       " 'of',\n",
       " 'excitement',\n",
       " 'in',\n",
       " 'order',\n",
       " 'to',\n",
       " 'search',\n",
       " 'for',\n",
       " 'new',\n",
       " 'things',\n",
       " 'and',\n",
       " 'the',\n",
       " 'obsession',\n",
       " 'with',\n",
       " 'the',\n",
       " 'new',\n",
       " 'and',\n",
       " 'innovative',\n",
       " 'things',\n",
       " 'never',\n",
       " 'going',\n",
       " 'to',\n",
       " 'finish',\n",
       " '.',\n",
       " 'Because',\n",
       " 'in',\n",
       " 'the',\n",
       " 'end',\n",
       " 'we',\n",
       " 'do',\n",
       " 'not',\n",
       " 'satisfy',\n",
       " 'what',\n",
       " 'we',\n",
       " 'have',\n",
       " 'achieved',\n",
       " 'we',\n",
       " 'are',\n",
       " 'only',\n",
       " 'looking',\n",
       " 'for',\n",
       " 'other',\n",
       " 'things',\n",
       " 'and',\n",
       " 'crave',\n",
       " 'to',\n",
       " 'achieve',\n",
       " 'that',\n",
       " '.',\n",
       " 'In',\n",
       " 'order',\n",
       " 'to',\n",
       " 'achieve',\n",
       " 'that',\n",
       " 'planning',\n",
       " 'is',\n",
       " 'most',\n",
       " 'crucial',\n",
       " 'stage',\n",
       " '.',\n",
       " 'As',\n",
       " 'of',\n",
       " 'now',\n",
       " 'we',\n",
       " 'have',\n",
       " 'searched',\n",
       " '9',\n",
       " 'planets',\n",
       " 'but',\n",
       " 'still',\n",
       " 'didn',\n",
       " 't',\n",
       " 'shortlisted',\n",
       " 'the',\n",
       " 'outcomes',\n",
       " '.',\n",
       " 'But',\n",
       " 'according',\n",
       " 'to',\n",
       " 'the',\n",
       " '3',\n",
       " 'decade',\n",
       " 'theory',\n",
       " 'of',\n",
       " 'ELON',\n",
       " 'MUSK',\n",
       " 'it',\n",
       " 'seems',\n",
       " 'to',\n",
       " 'be',\n",
       " 'possible',\n",
       " '.',\n",
       " 'As',\n",
       " 'the',\n",
       " 'most',\n",
       " 'important',\n",
       " 'thing',\n",
       " 'to',\n",
       " 'survive',\n",
       " 'is',\n",
       " 'the',\n",
       " 'atmospheric',\n",
       " 'environment',\n",
       " 'whether',\n",
       " 'is',\n",
       " 'this',\n",
       " 'suitable',\n",
       " 'or',\n",
       " 'not',\n",
       " 'and',\n",
       " 'in',\n",
       " 'order',\n",
       " 'to',\n",
       " 'make',\n",
       " 'it',\n",
       " 'suitable',\n",
       " 'what',\n",
       " 'steps',\n",
       " 'had',\n",
       " 'to',\n",
       " 'take',\n",
       " 'and',\n",
       " 'maintain',\n",
       " 'the',\n",
       " 'suitable',\n",
       " 'level',\n",
       " 'of',\n",
       " 'oxygen',\n",
       " '.',\n",
       " 'The',\n",
       " 'missions',\n",
       " 'are',\n",
       " 'now',\n",
       " 'what',\n",
       " 'everyone',\n",
       " 'is',\n",
       " 'focusing',\n",
       " 'about',\n",
       " '.',\n",
       " 'Finding',\n",
       " 'the',\n",
       " 'source',\n",
       " 'of',\n",
       " 'water',\n",
       " 'because',\n",
       " 'its',\n",
       " '2nd',\n",
       " 'crucial',\n",
       " 'thing',\n",
       " 'which',\n",
       " 'is',\n",
       " 'needed',\n",
       " 'to',\n",
       " 'survive',\n",
       " '.',\n",
       " 'Apart',\n",
       " 'from',\n",
       " 'the',\n",
       " 'excitement',\n",
       " 'and',\n",
       " 'the',\n",
       " 'things',\n",
       " 'the',\n",
       " 'threats',\n",
       " 'or',\n",
       " 'the',\n",
       " 'uncertainties',\n",
       " 'are',\n",
       " 'bound',\n",
       " 'to',\n",
       " 'happen',\n",
       " 'like',\n",
       " ...]"
      ]
     },
     "execution_count": 8,
     "metadata": {},
     "output_type": "execute_result"
    }
   ],
   "source": [
    "token = word_tokenize(texts)\n",
    "token"
   ]
  },
  {
   "cell_type": "code",
   "execution_count": 9,
   "id": "10016a09",
   "metadata": {},
   "outputs": [],
   "source": [
    "with open(\"D:\\lab\\Dataset\\Stopwords_Blackcoffer.txt\", 'r') as file:\n",
    "    data = file.read()"
   ]
  },
  {
   "cell_type": "code",
   "execution_count": 10,
   "id": "c567cbef",
   "metadata": {},
   "outputs": [
    {
     "data": {
      "text/plain": [
       "'ERNST\\nYOUNG\\nDELOITTE\\nTOUCHE\\nKPMG\\nPRICEWATERHOUSECOOPERS\\nPRICEWATERHOUSE\\nCOOPERS\\nAFGHANI\\nARIARY\\nBAHT\\n'"
      ]
     },
     "execution_count": 10,
     "metadata": {},
     "output_type": "execute_result"
    }
   ],
   "source": [
    "data[:100]"
   ]
  },
  {
   "cell_type": "code",
   "execution_count": 11,
   "id": "d65bfa92",
   "metadata": {},
   "outputs": [
    {
     "data": {
      "text/plain": [
       "'ERNST,YOUNG,DELOITTE,TOUCHE,KPMG,PRICEWATERHOUSECOOPERS,PRICEWATERHOUSE,COOPERS,AFGHANI,ARIARY,BAHT,'"
      ]
     },
     "execution_count": 11,
     "metadata": {},
     "output_type": "execute_result"
    }
   ],
   "source": [
    "data = data.replace('\\n', ',')\n",
    "data[:100]"
   ]
  },
  {
   "cell_type": "code",
   "execution_count": 12,
   "id": "0ef23874",
   "metadata": {},
   "outputs": [
    {
     "data": {
      "text/plain": [
       "'Nature blessed humanity earth rounded globe essential necessity lies human . Though 21st century building Space shuttle exploring space activity human raise inclusion Start ups Space dreamed reaching '"
      ]
     },
     "execution_count": 12,
     "metadata": {},
     "output_type": "execute_result"
    }
   ],
   "source": [
    "new_texts = \" \".join([i for i in token if i not in data])\n",
    "new_texts[:200]"
   ]
  },
  {
   "cell_type": "code",
   "execution_count": 13,
   "id": "ea392da4",
   "metadata": {},
   "outputs": [
    {
     "name": "stdout",
     "output_type": "stream",
     "text": [
      "length before cleaning:  10123\n",
      "length after cleaning:  5866\n"
     ]
    }
   ],
   "source": [
    "print(\"length before cleaning: \", len(texts))\n",
    "print(\"length after cleaning: \", len(new_texts))"
   ]
  },
  {
   "cell_type": "markdown",
   "id": "1f456147",
   "metadata": {},
   "source": [
    "# Negative words"
   ]
  },
  {
   "cell_type": "code",
   "execution_count": 14,
   "id": "dc3618a7",
   "metadata": {},
   "outputs": [],
   "source": [
    "with open(\"D:\\\\lab\\\\Dataset\\\\Negative_words.txt\", 'r') as file:\n",
    "    negative = file.read()"
   ]
  },
  {
   "cell_type": "code",
   "execution_count": 15,
   "id": "2123c4cb",
   "metadata": {},
   "outputs": [
    {
     "data": {
      "text/plain": [
       "'2-faced\\n2-faces\\nabnormal\\nabolish\\nabominable\\nabominably\\nabominate\\nabomination\\nabort\\naborted\\naborts\\nabrade\\nabrasive\\nabrupt\\nabruptly\\nabscond\\nabsence\\nabsent-minded\\nabsentee\\nabsurd\\nabsurdity\\nabsurdly\\nabsurdness\\n'"
      ]
     },
     "execution_count": 15,
     "metadata": {},
     "output_type": "execute_result"
    }
   ],
   "source": [
    "negative[:206]"
   ]
  },
  {
   "cell_type": "code",
   "execution_count": 16,
   "id": "28f44c97",
   "metadata": {},
   "outputs": [
    {
     "data": {
      "text/plain": [
       "'2-faced,2-faces,abnormal,abolish,abominable,abominably,abominate,abomination,abort,aborted,aborts,abrade,abrasive,abrupt,abruptly,abscond,absence,absent-minded,absentee,absurd,absurdity,absurdly,absurdness,'"
      ]
     },
     "execution_count": 16,
     "metadata": {},
     "output_type": "execute_result"
    }
   ],
   "source": [
    "negative = negative.replace('\\n', ',')\n",
    "negative[:206]"
   ]
  },
  {
   "cell_type": "code",
   "execution_count": 17,
   "id": "31a272c0",
   "metadata": {},
   "outputs": [
    {
     "name": "stdout",
     "output_type": "stream",
     "text": [
      "['humanity', 'earth', 'essential', 'lies', 'human', 'human', 'ups', 'true', 'agree', 'fact', 'needed', 'human', 'race', 'effective', 'age', 'natural', 'water', 'damaging', 'water', 'affected', 'life', 'heavy', 'brain', 'apple', 'eyes', 'petrified', 'owner', 'laid', 'legitimate', 'nature', 'put', 'back', 'earth', 'due', 'high', 'fund', 'subdued', 'unimaginable', 'quest', 'fetched', 'kind', 'led', 'human', 'key', 'successful', 'successful', 'total', 'star', 'profit', 'successfully', 'cost', 'regular', 'air', 'flight', 'lead', 'setting', 'flight', 'stone', 'fundamental', 'live', 'support', 'issues', 'earth', 'adjust', 'rays', 'play', 'rate', 'challenging', 'left', 'cost', 'tough', 'cost', 'justifiable', 'reach', 'water', 'land', 'water', 'order', 'finish', 'satisfy', 'crave', 'order', 'stage', 'decade', 'important', 'order', 'make', 'water', 'needed', 'threats', 'kind', 'security', 'natural', 'safe', 'balance', 'nature', 'natural', 'small', 'important', 'balance', 'leading', 'pest', 'move', 'air', 'water', 'ground', 'clean', 'dead', 'destruction', 'small', 'kind', 'run', 'needed', 'heat', 'sun', 'important', 'order', 'air', 'order', 'healthy', 'calculation', 'infections', 'health', 'effective', 'isolation', 'treated', 'sound', 'set', 'understand', 'base', 'comfortably', 'life', 'experience', 'tested', 'small', 'force', 'put', 'adverse', 'muscle', 'loss', 'experience', 'material', 'cost', 'pricey', 'stage', 'costly', 'material', 'needed', 'sustain', 'life', 'earth', 'rays', 'type', 'order', 'make', 'lot', 'aim', 'make', 'air', 'comfortable', 'risk', 'probability', 'human', 'acceptable', 'land', 'land', 'bear', 'weight', 'type', 'land', 'land', 'order', 'regular', 'city']\n"
     ]
    },
    {
     "data": {
      "text/plain": [
       "174"
      ]
     },
     "execution_count": 17,
     "metadata": {},
     "output_type": "execute_result"
    }
   ],
   "source": [
    "new_texts = word_tokenize(new_texts)\n",
    "negative_words = [i for i in new_texts if i in negative]\n",
    "print(negative_words)\n",
    "len(negative_words)"
   ]
  },
  {
   "cell_type": "markdown",
   "id": "0b24f011",
   "metadata": {},
   "source": [
    "# Positive words"
   ]
  },
  {
   "cell_type": "code",
   "execution_count": 18,
   "id": "4b003620",
   "metadata": {},
   "outputs": [
    {
     "data": {
      "text/plain": [
       "'a+\\nabound\\nabounds\\nabundance\\nabundant\\naccessable\\naccessible\\nacclaim\\nacclaimed\\nacclamation\\naccolade\\naccolades\\naccommodative\\naccomodative\\naccomplish\\naccomplished\\naccomplishment\\naccomplishments\\naccurate\\naccurately\\n'"
      ]
     },
     "execution_count": 18,
     "metadata": {},
     "output_type": "execute_result"
    }
   ],
   "source": [
    "with open(\"D:\\\\lab\\\\Dataset\\\\Positive_words.txt\", 'r') as file:\n",
    "    positive = file.read()\n",
    "positive[:210]    "
   ]
  },
  {
   "cell_type": "code",
   "execution_count": 19,
   "id": "66ed38c6",
   "metadata": {},
   "outputs": [
    {
     "data": {
      "text/plain": [
       "'a+,abound,abounds,abundance,abundant,accessable,accessible,acclaim,acclaimed,acclamation,accolade,accolades,accommodative,accomodative,accomplish,accomplished,accomplishment,accomplishments,accurate,accurately,'"
      ]
     },
     "execution_count": 19,
     "metadata": {},
     "output_type": "execute_result"
    }
   ],
   "source": [
    "positive = positive.replace('\\n',',')\n",
    "positive[:210]"
   ]
  },
  {
   "cell_type": "code",
   "execution_count": 20,
   "id": "fc1387e8",
   "metadata": {},
   "outputs": [
    {
     "name": "stdout",
     "output_type": "stream",
     "text": [
      "['rounded', 'human', 'human', 'raise', 'ups', 'agree', 'fact', 'survival', 'human', 'race', 'effective', 'age', 'affected', 'life', 'idea', 'idea', 'stir', 'brain', 'idea', 'boost', 'idea', 'put', 'forward', 'back', 'safely', 'high', 'fund', 'quest', 'kind', 'led', 'human', 'idea', 'successful', 'successful', 'vision', 'star', 'world', 'successfully', 'cost', 'air', 'lead', 'setting', 'stone', 'live', 'support', 'suit', 'adjust', 'play', 'immense', 'survival', 'rate', 'idea', 'cost', 'amount', 'tough', 'open', 'cost', 'reach', 'world', 'land', 'speed', 'excitement', 'order', 'obsession', 'innovative', 'satisfy', 'achieve', 'order', 'achieve', 'important', 'suitable', 'order', 'suitable', 'suitable', 'source', 'excitement', 'bound', 'kind', 'protection', 'safe', 'balance', 'important', 'balance', 'leading', 'helping', 'pest', 'amount', 'air', 'ground', 'clean', 'dead', 'intelligence', 'kind', 'energy', 'run', 'energy', 'source', 'energy', 'important', 'order', 'air', 'order', 'healthy', 'working', 'health', 'effective', 'sound', 'set', 'world', 'understand', 'feasible', 'establish', 'comfortably', 'life', 'amount', 'put', 'bone', 'loss', 'save', 'cost', 'aimed', 'sustain', 'life', 'protection', 'order', 'protection', 'upgraded', 'achieve', 'aim', 'fare', 'air', 'fare', 'comfortable', 'risk', 'survival', 'human', 'construct', 'land', 'land', 'capacity', 'land', 'adaptable', 'land', 'upgraded', 'order', 'large', 'amount', 'city', 'forward', 'idea']\n"
     ]
    },
    {
     "data": {
      "text/plain": [
       "150"
      ]
     },
     "execution_count": 20,
     "metadata": {},
     "output_type": "execute_result"
    }
   ],
   "source": [
    "positive_words = [i for i in new_texts if i in positive]\n",
    "print(positive_words)\n",
    "len(positive_words)"
   ]
  },
  {
   "cell_type": "markdown",
   "id": "1b59646d",
   "metadata": {},
   "source": [
    "#### positive Score\n"
   ]
  },
  {
   "cell_type": "code",
   "execution_count": 21,
   "id": "7d0fbab1",
   "metadata": {},
   "outputs": [
    {
     "name": "stdout",
     "output_type": "stream",
     "text": [
      "150\n"
     ]
    }
   ],
   "source": [
    "pos_score = len(positive_words)\n",
    "print(pos_score)"
   ]
  },
  {
   "cell_type": "markdown",
   "id": "54a6cc12",
   "metadata": {},
   "source": [
    "#### Negative Score"
   ]
  },
  {
   "cell_type": "code",
   "execution_count": 22,
   "id": "df0766cd",
   "metadata": {},
   "outputs": [
    {
     "name": "stdout",
     "output_type": "stream",
     "text": [
      "174\n"
     ]
    }
   ],
   "source": [
    "neg_score=len(negative_words)\n",
    "print(neg_score)"
   ]
  },
  {
   "cell_type": "markdown",
   "id": "84da7ab7",
   "metadata": {},
   "source": [
    "#### Polarity Score"
   ]
  },
  {
   "cell_type": "code",
   "execution_count": 23,
   "id": "21e88c2b",
   "metadata": {},
   "outputs": [
    {
     "data": {
      "text/plain": [
       "-0.07"
      ]
     },
     "execution_count": 23,
     "metadata": {},
     "output_type": "execute_result"
    }
   ],
   "source": [
    "Polarity_Score = (pos_score - neg_score)/((pos_score + neg_score) + 0.000001)\n",
    "round(Polarity_Score,2)"
   ]
  },
  {
   "cell_type": "code",
   "execution_count": 24,
   "id": "08bcb4ab",
   "metadata": {},
   "outputs": [
    {
     "name": "stdout",
     "output_type": "stream",
     "text": [
      "number of words after cleaning : 832\n"
     ]
    }
   ],
   "source": [
    "word_count = len(new_texts)\n",
    "print(\"number of words after cleaning :\",word_count)"
   ]
  },
  {
   "cell_type": "markdown",
   "id": "16495ba1",
   "metadata": {},
   "source": [
    "#### Subjectivity Score"
   ]
  },
  {
   "cell_type": "code",
   "execution_count": 25,
   "id": "841713a3",
   "metadata": {},
   "outputs": [
    {
     "data": {
      "text/plain": [
       "0.39"
      ]
     },
     "execution_count": 25,
     "metadata": {},
     "output_type": "execute_result"
    }
   ],
   "source": [
    "Subjectivity_Score = (pos_score + neg_score)/ ((word_count) + 0.000001)\n",
    "round(Subjectivity_Score,2)"
   ]
  },
  {
   "cell_type": "markdown",
   "id": "0d7c370e",
   "metadata": {},
   "source": [
    "# Analysis of Readability"
   ]
  },
  {
   "cell_type": "code",
   "execution_count": 26,
   "id": "10209a7a",
   "metadata": {},
   "outputs": [
    {
     "data": {
      "text/plain": [
       "1830"
      ]
     },
     "execution_count": 26,
     "metadata": {},
     "output_type": "execute_result"
    }
   ],
   "source": [
    "import nltk\n",
    "from nltk.tokenize import word_tokenize\n",
    "word_tokens = nltk.word_tokenize(texts)\n",
    "No_of_words = len(word_tokens)\n",
    "No_of_words"
   ]
  },
  {
   "cell_type": "code",
   "execution_count": 27,
   "id": "bfac2ab7",
   "metadata": {},
   "outputs": [
    {
     "data": {
      "text/plain": [
       "68"
      ]
     },
     "execution_count": 27,
     "metadata": {},
     "output_type": "execute_result"
    }
   ],
   "source": [
    "sent_tokens = nltk.sent_tokenize(texts)\n",
    "No_of_sents = len(sent_tokens)\n",
    "No_of_sents "
   ]
  },
  {
   "cell_type": "markdown",
   "id": "1576acfe",
   "metadata": {},
   "source": [
    "### Average sentence Length\n"
   ]
  },
  {
   "cell_type": "code",
   "execution_count": 28,
   "id": "11d6a7ec",
   "metadata": {},
   "outputs": [
    {
     "data": {
      "text/plain": [
       "26.91"
      ]
     },
     "execution_count": 28,
     "metadata": {},
     "output_type": "execute_result"
    }
   ],
   "source": [
    "Avg_Sents_Length = No_of_words / No_of_sents\n",
    "round(Avg_Sents_Length,2)"
   ]
  },
  {
   "cell_type": "markdown",
   "id": "bc20ee3d",
   "metadata": {},
   "source": [
    "### Percentage of Complex words\n",
    "Complex words: words with more than 2 syllable are called complex words"
   ]
  },
  {
   "cell_type": "code",
   "execution_count": 29,
   "id": "eba6a8b1",
   "metadata": {},
   "outputs": [
    {
     "name": "stdout",
     "output_type": "stream",
     "text": [
      "Number of complex words: 236\n",
      "Total number of words: 10123\n"
     ]
    }
   ],
   "source": [
    "from nltk.corpus import cmudict\n",
    "cmud = cmudict.dict()\n",
    "\n",
    "# Defining a function to count syllables in a word\n",
    "def count_syllables(word):\n",
    "    phonemes = cmud[word.lower()][0] \n",
    "    return len([s for s in phonemes if s[-1].isdigit()])\n",
    "\n",
    "# Identifing complex words\n",
    "w_tokens = [i for i in word_tokens if i in cmud]\n",
    "complex_words = [word for word in w_tokens if count_syllables(word) > 2]\n",
    "\n",
    "# Calculatingnumber of complex words\n",
    "num_complex_words = len(complex_words)\n",
    "\n",
    "print(\"Number of complex words:\", num_complex_words)\n",
    "print(\"Total number of words:\", len(texts))"
   ]
  },
  {
   "cell_type": "code",
   "execution_count": 30,
   "id": "e982c0a1",
   "metadata": {},
   "outputs": [
    {
     "data": {
      "text/plain": [
       "42.89"
      ]
     },
     "execution_count": 30,
     "metadata": {},
     "output_type": "execute_result"
    }
   ],
   "source": [
    "Perc_of_Complex_words = len(texts) / num_complex_words\n",
    "round(Perc_of_Complex_words,2)"
   ]
  },
  {
   "cell_type": "markdown",
   "id": "77e948d1",
   "metadata": {},
   "source": [
    "### Fog Index"
   ]
  },
  {
   "cell_type": "code",
   "execution_count": 31,
   "id": "95fb10bb",
   "metadata": {},
   "outputs": [
    {
     "name": "stdout",
     "output_type": "stream",
     "text": [
      "Average sentence length: 68.0\n"
     ]
    }
   ],
   "source": [
    "# Tokenize each sentence into words\n",
    "words = [word_tokens for sentence in sent_tokens]\n",
    "\n",
    "# Calculate the average sentence length\n",
    "avg_sent_len = sum(No_of_sents for sentence in words) / No_of_sents\n",
    "\n",
    "print(\"Average sentence length:\", avg_sent_len)\n"
   ]
  },
  {
   "cell_type": "code",
   "execution_count": 32,
   "id": "38f5a93b",
   "metadata": {},
   "outputs": [
    {
     "data": {
      "text/plain": [
       "44.36"
      ]
     },
     "execution_count": 32,
     "metadata": {},
     "output_type": "execute_result"
    }
   ],
   "source": [
    "Fog_index = 0.4 * (avg_sent_len + Perc_of_Complex_words)\n",
    "round(Fog_index,2)"
   ]
  },
  {
   "cell_type": "markdown",
   "id": "5b4aacea",
   "metadata": {},
   "source": [
    "# Average Number of Words Per Sentence"
   ]
  },
  {
   "cell_type": "code",
   "execution_count": 33,
   "id": "45da1407",
   "metadata": {},
   "outputs": [
    {
     "data": {
      "text/plain": [
       "26.91"
      ]
     },
     "execution_count": 33,
     "metadata": {},
     "output_type": "execute_result"
    }
   ],
   "source": [
    "avg_no_of_words_per_sent = No_of_words / No_of_sents\n",
    "round(avg_no_of_words_per_sent,2)"
   ]
  },
  {
   "cell_type": "markdown",
   "id": "f2d9b493",
   "metadata": {},
   "source": [
    "# Complex Word Count"
   ]
  },
  {
   "cell_type": "code",
   "execution_count": 34,
   "id": "75304424",
   "metadata": {},
   "outputs": [
    {
     "name": "stdout",
     "output_type": "stream",
     "text": [
      "complex word count: 236\n"
     ]
    }
   ],
   "source": [
    "from nltk.corpus import cmudict\n",
    "cmud = cmudict.dict()\n",
    "\n",
    "# Defining a function to count syllables in a word\n",
    "def count_syllables(word):\n",
    "    phonemes = cmud[word.lower()][0] \n",
    "    return len([s for s in phonemes if s[-1].isdigit()])\n",
    "\n",
    "# Identifing complex words\n",
    "w_tokens = [i for i in word_tokens if i in cmud]\n",
    "complex_words = [word for word in w_tokens if count_syllables(word) > 2]\n",
    "\n",
    "# Calculatingnumber of complex words\n",
    "num_complex_words = len(complex_words)\n",
    "\n",
    "print(\"complex word count:\", num_complex_words)"
   ]
  },
  {
   "cell_type": "markdown",
   "id": "99ea5188",
   "metadata": {},
   "source": [
    "# Word Count\n",
    "number of words after cleaning"
   ]
  },
  {
   "cell_type": "code",
   "execution_count": 35,
   "id": "b4fb0c72",
   "metadata": {},
   "outputs": [
    {
     "data": {
      "text/plain": [
       "832"
      ]
     },
     "execution_count": 35,
     "metadata": {},
     "output_type": "execute_result"
    }
   ],
   "source": [
    "len(new_texts)"
   ]
  },
  {
   "cell_type": "markdown",
   "id": "ca8076ff",
   "metadata": {},
   "source": [
    "# Syllable Count Per Word"
   ]
  },
  {
   "cell_type": "code",
   "execution_count": 36,
   "id": "6f0b4e4f",
   "metadata": {},
   "outputs": [
    {
     "name": "stdout",
     "output_type": "stream",
     "text": [
      "Enter a word to get syllable: space\n",
      "Number of syllable in a word : 1\n"
     ]
    }
   ],
   "source": [
    "word = input(\"Enter a word to get syllable: \")\n",
    "def count_syllables(word):\n",
    "    phonemes = cmud[word.lower()][0] \n",
    "    return len([s for s in phonemes if s[-1].isdigit()])\n",
    "\n",
    "print(\"Number of syllable in a word :\",count_syllables(word))"
   ]
  },
  {
   "cell_type": "markdown",
   "id": "1d3a18f6",
   "metadata": {},
   "source": [
    "# Personal Pronouns"
   ]
  },
  {
   "cell_type": "code",
   "execution_count": 37,
   "id": "0b8e0d2d",
   "metadata": {},
   "outputs": [
    {
     "name": "stdout",
     "output_type": "stream",
     "text": [
      "Personal pronoun frequency: {'we': 17, 'it': 12, 'he': 2, 'i': 2, 'them': 1, 'they': 10, 'you': 1}\n",
      "total number of pronouns in a article : 45\n"
     ]
    }
   ],
   "source": [
    "import re\n",
    "\n",
    "# Define a regex pattern to match personal pronouns\n",
    "pattern = r'\\b(I|you|he|she|it|we|they|me|him|her|us|them)\\b'\n",
    "\n",
    "# Count the frequency of personal pronouns\n",
    "pronoun_freq = {}\n",
    "for pronoun in re.findall(pattern, texts, re.IGNORECASE):\n",
    "    pronoun = pronoun.lower()\n",
    "    if pronoun in pronoun_freq:\n",
    "        pronoun_freq[pronoun] += 1\n",
    "    else:\n",
    "        pronoun_freq[pronoun] = 1\n",
    "\n",
    "print(\"Personal pronoun frequency:\", pronoun_freq)\n",
    "def returnSum(dict):\n",
    " \n",
    "    sum = 0\n",
    "    for i in pronoun_freq.values():\n",
    "        sum = sum + i\n",
    " \n",
    "    return sum\n",
    "print(\"total number of pronouns in a article :\",returnSum(pronoun_freq))"
   ]
  },
  {
   "cell_type": "markdown",
   "id": "e3fc87f8",
   "metadata": {},
   "source": [
    "# Average Word Length"
   ]
  },
  {
   "cell_type": "code",
   "execution_count": 38,
   "id": "5bde37d9",
   "metadata": {},
   "outputs": [
    {
     "name": "stdout",
     "output_type": "stream",
     "text": [
      "Average word length: 4.53\n"
     ]
    }
   ],
   "source": [
    "# Calculate the total number of characters in all words\n",
    "total_chars = sum(len(word) for word in word_tokens)\n",
    "\n",
    "avg_word_length = total_chars / No_of_words\n",
    "\n",
    "print(\"Average word length:\", round(avg_word_length,2))\n"
   ]
  },
  {
   "cell_type": "code",
   "execution_count": null,
   "id": "63dc25ad",
   "metadata": {},
   "outputs": [],
   "source": []
  },
  {
   "cell_type": "code",
   "execution_count": null,
   "id": "819012c5",
   "metadata": {},
   "outputs": [],
   "source": []
  }
 ],
 "metadata": {
  "kernelspec": {
   "display_name": "Python 3",
   "language": "python",
   "name": "python3"
  },
  "language_info": {
   "codemirror_mode": {
    "name": "ipython",
    "version": 3
   },
   "file_extension": ".py",
   "mimetype": "text/x-python",
   "name": "python",
   "nbconvert_exporter": "python",
   "pygments_lexer": "ipython3",
   "version": "3.8.8"
  }
 },
 "nbformat": 4,
 "nbformat_minor": 5
}
